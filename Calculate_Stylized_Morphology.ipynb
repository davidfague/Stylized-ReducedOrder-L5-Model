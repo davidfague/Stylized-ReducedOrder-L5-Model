{
  "nbformat": 4,
  "nbformat_minor": 0,
  "metadata": {
    "colab": {
      "provenance": [],
      "authorship_tag": "ABX9TyMD/SPKQ4+XxckmpHw8Cg42",
      "include_colab_link": true
    },
    "kernelspec": {
      "name": "python3",
      "display_name": "Python 3"
    },
    "language_info": {
      "name": "python"
    }
  },
  "cells": [
    {
      "cell_type": "markdown",
      "metadata": {
        "id": "view-in-github",
        "colab_type": "text"
      },
      "source": [
        "<a href=\"https://colab.research.google.com/github/davidfague/Stylized-ReducedOrder-L5-Model/blob/main/Calculate_Stylized_Morphology.ipynb\" target=\"_parent\"><img src=\"https://colab.research.google.com/assets/colab-badge.svg\" alt=\"Open In Colab\"/></a>"
      ]
    },
    {
      "cell_type": "markdown",
      "source": [
        "Neuronal dendrites/trunks can have varying lengths, thickness, and branching. How can we approximate these compartments in a stylized model?\n",
        "\n",
        "This Notebook analyzes every individual path from soma to terminal end of a basal dendrite and every path from end of the trunk to terminal ends of apical dendrites. By separating branching dendrites into individual paths we can help ourselves approximate a branching dendrite into a single linear path, while accounting for the changes in thickness of these branches.\n",
        "\n",
        "With our dendrites separated into individual paths, we can calculate the average path length, and use that as our average dendrite length.\n",
        "\n",
        "How should we approximate radius? We shouldn't use radius as a direct function of length because the length of dendrites may vary. It would be hard to choose a length if we use the average radii at a certain length along the path when paths may vary in length, and we would not want to neglect the important ends of dendrites where the radius may be significantly different.\n",
        "\n",
        "To solve this issue, we should first calculate radius as a function of normalized pathlength. This allows us to view radius as it should change along our already approximated dendrite length."
      ],
      "metadata": {
        "id": "tsTxdkYfYJjw"
      }
    },
    {
      "cell_type": "code",
      "execution_count": 1,
      "metadata": {
        "id": "YIn8j2GsCz7d"
      },
      "outputs": [],
      "source": [
        "import pandas as pd\n",
        "import h5py\n",
        "import numpy as np\n",
        "import matplotlib.pyplot as plt\n",
        "import seaborn as sns\n",
        "import scipy.signal as ss\n",
        "from mpl_toolkits import mplot3d\n",
        "import pdb #python debugger"
      ]
    },
    {
      "cell_type": "code",
      "source": [
        "from google.colab import drive\n",
        "drive.mount('/content/drive')\n",
        "%cd /content/drive/MyDrive/Stylized-ReducedOrder-L5-Model/"
      ],
      "metadata": {
        "colab": {
          "base_uri": "https://localhost:8080/"
        },
        "id": "xtER3HTGD0JY",
        "outputId": "5d6cf1d9-f96c-4c06-ddd6-faf7c3a6ef78"
      },
      "execution_count": 2,
      "outputs": [
        {
          "output_type": "stream",
          "name": "stdout",
          "text": [
            "Drive already mounted at /content/drive; to attempt to forcibly remount, call drive.mount(\"/content/drive\", force_remount=True).\n",
            "/content/drive/MyDrive/Stylized-ReducedOrder-L5-Model\n"
          ]
        }
      ]
    },
    {
      "cell_type": "code",
      "source": [
        "output_folder = 'Detailedoutput_control'\n",
        "segs = pd.read_csv('Detailedoutput_control/DetailedSegments.csv') # read segment values"
      ],
      "metadata": {
        "id": "YeFuPSrOD1O8"
      },
      "execution_count": 3,
      "outputs": []
    },
    {
      "cell_type": "code",
      "source": [
        "segs.head() # visualize columns"
      ],
      "metadata": {
        "colab": {
          "base_uri": "https://localhost:8080/",
          "height": 206
        },
        "id": "3JFlro5hD2W8",
        "outputId": "c39849a1-a3e9-4c22-e876-e764b10866f3"
      },
      "execution_count": 4,
      "outputs": [
        {
          "output_type": "execute_result",
          "data": {
            "text/plain": [
              "   segmentID  BMTK ID     Seg_L   Seg_diam    X  Type  Sec ID   Distance  \\\n",
              "0          0        0  4.633872   9.290377  0.1  soma       0   2.316936   \n",
              "1          1        0  4.633872  15.657015  0.3  soma       0   6.950809   \n",
              "2          2        0  4.633872  17.526643  0.5  soma       0  11.584681   \n",
              "3          3        0  4.633872  15.446328  0.7  soma       0  16.218553   \n",
              "4          4        0  4.633872   9.437299  0.9  soma       0  20.852426   \n",
              "\n",
              "   Section_L  Section_diam  Section_nseg  Section_Ra   Coord X   Coord Y  \\\n",
              "0  23.169362     17.526643             5       100.0 -9.249733 -0.577674   \n",
              "1  23.169362     17.526643             5       100.0 -4.624868 -0.288877   \n",
              "2  23.169362     17.526643             5       100.0 -0.000010  0.000021   \n",
              "3  23.169362     17.526643             5       100.0  4.624854  0.288824   \n",
              "4  23.169362     17.526643             5       100.0  9.249712  0.577722   \n",
              "\n",
              "   Coord Z  ParentSegID  Elec_distance  \n",
              "0      0.0          NaN       0.998333  \n",
              "1      0.0          0.0       0.999377  \n",
              "2      0.0          1.0       1.000000  \n",
              "3      0.0          2.0       0.999389  \n",
              "4      0.0          3.0       0.998310  "
            ],
            "text/html": [
              "\n",
              "  <div id=\"df-387e2e72-9898-440a-b1ec-a009b26bbfd2\">\n",
              "    <div class=\"colab-df-container\">\n",
              "      <div>\n",
              "<style scoped>\n",
              "    .dataframe tbody tr th:only-of-type {\n",
              "        vertical-align: middle;\n",
              "    }\n",
              "\n",
              "    .dataframe tbody tr th {\n",
              "        vertical-align: top;\n",
              "    }\n",
              "\n",
              "    .dataframe thead th {\n",
              "        text-align: right;\n",
              "    }\n",
              "</style>\n",
              "<table border=\"1\" class=\"dataframe\">\n",
              "  <thead>\n",
              "    <tr style=\"text-align: right;\">\n",
              "      <th></th>\n",
              "      <th>segmentID</th>\n",
              "      <th>BMTK ID</th>\n",
              "      <th>Seg_L</th>\n",
              "      <th>Seg_diam</th>\n",
              "      <th>X</th>\n",
              "      <th>Type</th>\n",
              "      <th>Sec ID</th>\n",
              "      <th>Distance</th>\n",
              "      <th>Section_L</th>\n",
              "      <th>Section_diam</th>\n",
              "      <th>Section_nseg</th>\n",
              "      <th>Section_Ra</th>\n",
              "      <th>Coord X</th>\n",
              "      <th>Coord Y</th>\n",
              "      <th>Coord Z</th>\n",
              "      <th>ParentSegID</th>\n",
              "      <th>Elec_distance</th>\n",
              "    </tr>\n",
              "  </thead>\n",
              "  <tbody>\n",
              "    <tr>\n",
              "      <th>0</th>\n",
              "      <td>0</td>\n",
              "      <td>0</td>\n",
              "      <td>4.633872</td>\n",
              "      <td>9.290377</td>\n",
              "      <td>0.1</td>\n",
              "      <td>soma</td>\n",
              "      <td>0</td>\n",
              "      <td>2.316936</td>\n",
              "      <td>23.169362</td>\n",
              "      <td>17.526643</td>\n",
              "      <td>5</td>\n",
              "      <td>100.0</td>\n",
              "      <td>-9.249733</td>\n",
              "      <td>-0.577674</td>\n",
              "      <td>0.0</td>\n",
              "      <td>NaN</td>\n",
              "      <td>0.998333</td>\n",
              "    </tr>\n",
              "    <tr>\n",
              "      <th>1</th>\n",
              "      <td>1</td>\n",
              "      <td>0</td>\n",
              "      <td>4.633872</td>\n",
              "      <td>15.657015</td>\n",
              "      <td>0.3</td>\n",
              "      <td>soma</td>\n",
              "      <td>0</td>\n",
              "      <td>6.950809</td>\n",
              "      <td>23.169362</td>\n",
              "      <td>17.526643</td>\n",
              "      <td>5</td>\n",
              "      <td>100.0</td>\n",
              "      <td>-4.624868</td>\n",
              "      <td>-0.288877</td>\n",
              "      <td>0.0</td>\n",
              "      <td>0.0</td>\n",
              "      <td>0.999377</td>\n",
              "    </tr>\n",
              "    <tr>\n",
              "      <th>2</th>\n",
              "      <td>2</td>\n",
              "      <td>0</td>\n",
              "      <td>4.633872</td>\n",
              "      <td>17.526643</td>\n",
              "      <td>0.5</td>\n",
              "      <td>soma</td>\n",
              "      <td>0</td>\n",
              "      <td>11.584681</td>\n",
              "      <td>23.169362</td>\n",
              "      <td>17.526643</td>\n",
              "      <td>5</td>\n",
              "      <td>100.0</td>\n",
              "      <td>-0.000010</td>\n",
              "      <td>0.000021</td>\n",
              "      <td>0.0</td>\n",
              "      <td>1.0</td>\n",
              "      <td>1.000000</td>\n",
              "    </tr>\n",
              "    <tr>\n",
              "      <th>3</th>\n",
              "      <td>3</td>\n",
              "      <td>0</td>\n",
              "      <td>4.633872</td>\n",
              "      <td>15.446328</td>\n",
              "      <td>0.7</td>\n",
              "      <td>soma</td>\n",
              "      <td>0</td>\n",
              "      <td>16.218553</td>\n",
              "      <td>23.169362</td>\n",
              "      <td>17.526643</td>\n",
              "      <td>5</td>\n",
              "      <td>100.0</td>\n",
              "      <td>4.624854</td>\n",
              "      <td>0.288824</td>\n",
              "      <td>0.0</td>\n",
              "      <td>2.0</td>\n",
              "      <td>0.999389</td>\n",
              "    </tr>\n",
              "    <tr>\n",
              "      <th>4</th>\n",
              "      <td>4</td>\n",
              "      <td>0</td>\n",
              "      <td>4.633872</td>\n",
              "      <td>9.437299</td>\n",
              "      <td>0.9</td>\n",
              "      <td>soma</td>\n",
              "      <td>0</td>\n",
              "      <td>20.852426</td>\n",
              "      <td>23.169362</td>\n",
              "      <td>17.526643</td>\n",
              "      <td>5</td>\n",
              "      <td>100.0</td>\n",
              "      <td>9.249712</td>\n",
              "      <td>0.577722</td>\n",
              "      <td>0.0</td>\n",
              "      <td>3.0</td>\n",
              "      <td>0.998310</td>\n",
              "    </tr>\n",
              "  </tbody>\n",
              "</table>\n",
              "</div>\n",
              "      <button class=\"colab-df-convert\" onclick=\"convertToInteractive('df-387e2e72-9898-440a-b1ec-a009b26bbfd2')\"\n",
              "              title=\"Convert this dataframe to an interactive table.\"\n",
              "              style=\"display:none;\">\n",
              "        \n",
              "  <svg xmlns=\"http://www.w3.org/2000/svg\" height=\"24px\"viewBox=\"0 0 24 24\"\n",
              "       width=\"24px\">\n",
              "    <path d=\"M0 0h24v24H0V0z\" fill=\"none\"/>\n",
              "    <path d=\"M18.56 5.44l.94 2.06.94-2.06 2.06-.94-2.06-.94-.94-2.06-.94 2.06-2.06.94zm-11 1L8.5 8.5l.94-2.06 2.06-.94-2.06-.94L8.5 2.5l-.94 2.06-2.06.94zm10 10l.94 2.06.94-2.06 2.06-.94-2.06-.94-.94-2.06-.94 2.06-2.06.94z\"/><path d=\"M17.41 7.96l-1.37-1.37c-.4-.4-.92-.59-1.43-.59-.52 0-1.04.2-1.43.59L10.3 9.45l-7.72 7.72c-.78.78-.78 2.05 0 2.83L4 21.41c.39.39.9.59 1.41.59.51 0 1.02-.2 1.41-.59l7.78-7.78 2.81-2.81c.8-.78.8-2.07 0-2.86zM5.41 20L4 18.59l7.72-7.72 1.47 1.35L5.41 20z\"/>\n",
              "  </svg>\n",
              "      </button>\n",
              "      \n",
              "  <style>\n",
              "    .colab-df-container {\n",
              "      display:flex;\n",
              "      flex-wrap:wrap;\n",
              "      gap: 12px;\n",
              "    }\n",
              "\n",
              "    .colab-df-convert {\n",
              "      background-color: #E8F0FE;\n",
              "      border: none;\n",
              "      border-radius: 50%;\n",
              "      cursor: pointer;\n",
              "      display: none;\n",
              "      fill: #1967D2;\n",
              "      height: 32px;\n",
              "      padding: 0 0 0 0;\n",
              "      width: 32px;\n",
              "    }\n",
              "\n",
              "    .colab-df-convert:hover {\n",
              "      background-color: #E2EBFA;\n",
              "      box-shadow: 0px 1px 2px rgba(60, 64, 67, 0.3), 0px 1px 3px 1px rgba(60, 64, 67, 0.15);\n",
              "      fill: #174EA6;\n",
              "    }\n",
              "\n",
              "    [theme=dark] .colab-df-convert {\n",
              "      background-color: #3B4455;\n",
              "      fill: #D2E3FC;\n",
              "    }\n",
              "\n",
              "    [theme=dark] .colab-df-convert:hover {\n",
              "      background-color: #434B5C;\n",
              "      box-shadow: 0px 1px 3px 1px rgba(0, 0, 0, 0.15);\n",
              "      filter: drop-shadow(0px 1px 2px rgba(0, 0, 0, 0.3));\n",
              "      fill: #FFFFFF;\n",
              "    }\n",
              "  </style>\n",
              "\n",
              "      <script>\n",
              "        const buttonEl =\n",
              "          document.querySelector('#df-387e2e72-9898-440a-b1ec-a009b26bbfd2 button.colab-df-convert');\n",
              "        buttonEl.style.display =\n",
              "          google.colab.kernel.accessAllowed ? 'block' : 'none';\n",
              "\n",
              "        async function convertToInteractive(key) {\n",
              "          const element = document.querySelector('#df-387e2e72-9898-440a-b1ec-a009b26bbfd2');\n",
              "          const dataTable =\n",
              "            await google.colab.kernel.invokeFunction('convertToInteractive',\n",
              "                                                     [key], {});\n",
              "          if (!dataTable) return;\n",
              "\n",
              "          const docLinkHtml = 'Like what you see? Visit the ' +\n",
              "            '<a target=\"_blank\" href=https://colab.research.google.com/notebooks/data_table.ipynb>data table notebook</a>'\n",
              "            + ' to learn more about interactive tables.';\n",
              "          element.innerHTML = '';\n",
              "          dataTable['output_type'] = 'display_data';\n",
              "          await google.colab.output.renderOutput(dataTable, element);\n",
              "          const docLink = document.createElement('div');\n",
              "          docLink.innerHTML = docLinkHtml;\n",
              "          element.appendChild(docLink);\n",
              "        }\n",
              "      </script>\n",
              "    </div>\n",
              "  </div>\n",
              "  "
            ]
          },
          "metadata": {},
          "execution_count": 4
        }
      ]
    },
    {
      "cell_type": "code",
      "source": [
        "#Get Columns\n",
        "segIDs=segs['segmentID']\n",
        "# segs = segs.set_index(['Type','Sec ID']).join(segs_degrees.set_index(['Type','Sec ID'])).reset_index() #not sure what this does\n",
        "segs['Sec ID'] = segs['Sec ID'].astype(int)\n",
        "segs['X'] = segs['X'].astype(float)\n",
        "segs['Elec_distanceQ'] = 'None'\n",
        "AllSegXCoord=segs['Coord X']\n",
        "AllSegYCoord=segs['Coord Y']\n",
        "AllSegZCoord=segs['Coord Z']\n",
        "AllSegSec_ID=segs['Sec ID']\n",
        "AllSegSec_name=segs['Type']\n",
        "segLs=segs[\"Seg_L\"]\n",
        "segxs=segs[\"X\"]\n",
        "segdists=segs[\"Distance\"]\n",
        "SegSecL=segs[\"Section_L\"]\n",
        "segdiams=segs[\"Seg_diam\"]\n",
        "SegSecnseg=segs[\"Section_nseg\"]\n",
        "secRas=segs[\"Section_Ra\"]\n",
        "psegIDs=segs[\"ParentSegID\"]\n",
        "secids=segs[\"Sec ID\"]\n",
        "bmtkid=segs[\"BMTK ID\"]\n",
        "sectypes=segs[\"Type\"]\n",
        "\n",
        "psegids=[]\n",
        "for i in range(len(psegIDs)):\n",
        "  if np.isnan(psegIDs[i]) == False:\n",
        "    psegids.append(int(psegIDs[i]))\n",
        "  else:\n",
        "    psegids.append(psegIDs[i])"
      ],
      "metadata": {
        "id": "e_HLW5JjD4p3"
      },
      "execution_count": 5,
      "outputs": []
    },
    {
      "cell_type": "code",
      "source": [
        "probes=[]\n",
        "class probe():\n",
        "  def __init__(self,seg,sectionindex,sectionname,color,XCoord,YCoord,ZCoord,secRa,segdiam,segx,segdist,sectionL,sectionNseg,segL,parentseg,sectype):\n",
        "    self.seg=seg\n",
        "    self.sectionindex=sectionindex\n",
        "    self.sectionname=sectionname\n",
        "    self.color=color\n",
        "    self.XCoord=XCoord\n",
        "    self.YCoord=YCoord\n",
        "    self.ZCoord=ZCoord\n",
        "    self.secRa=secRa\n",
        "    self.segdiam=segdiam\n",
        "    self.x=segx\n",
        "    self.segdist=segdist\n",
        "    self.secL=sectionL\n",
        "    self.secnseg=sectionNseg\n",
        "    self.segL=segL\n",
        "    self.name='sec:'+str(self.sectionname)+str(self.sectionindex)+' seg:'+str(self.seg)\n",
        "    self.adjprobes=[]\n",
        "    self.parentprobe=[]\n",
        "    self.childprobes=[]\n",
        "    self.axialcurrents=[]\n",
        "    self.parentaxialcurrent=[]\n",
        "    self.childrenaxialcurrents=[]\n",
        "    self.halfsegRa=.01*self.secRa*(self.secL/2/self.secnseg)/(np.pi*(self.segdiam/2)**2)\n",
        "    self.parentseg=parentseg\n",
        "    self.sectype=sectype\n",
        "\n",
        "    # try:\n",
        "    #   self.axial_current=[Record_Axial_Current(section,single_seg=True)]\n",
        "    # except:\n",
        "    #   print(section)\n",
        "for i in range(len(segIDs)):\n",
        "  newprobe=probe(seg=i,sectionindex=AllSegSec_ID[i],sectionname=str(AllSegSec_name[i]),color='r',XCoord=AllSegXCoord[i],YCoord=AllSegYCoord[i],ZCoord=AllSegZCoord[i],\n",
        "                secRa=secRas[i],segdiam=segdiams[i],segx=segxs[i],segdist=segdists[i],sectionL=SegSecL[i],sectionNseg=SegSecnseg[i],segL=segLs[i],\n",
        "                parentseg=psegids[i],sectype=sectypes[i])\n",
        "  probes.append(newprobe)"
      ],
      "metadata": {
        "id": "BS9378DeD6--"
      },
      "execution_count": 6,
      "outputs": []
    },
    {
      "cell_type": "code",
      "source": [
        "#getting adjacent segments using parent segment IDs\n",
        "#getting children segments\n",
        "for i in range(len(psegids)): #iterate through segment index\n",
        "  if np.isnan(psegids[i]) == False:\n",
        "    for seg in segIDs: #check segIDs\n",
        "      if psegids[i]==seg: #find parent seg from parent seg id\n",
        "        probes[seg].adjprobes.append(probes[i]) #add child probe to probe's adjprobe list\n",
        "        probes[seg].childprobes.append(probes[i]) #add child probe to probe's childprobe list\n",
        "#getting parent segment\n",
        "for i in range(len(segIDs)):\n",
        "  if np.isnan(psegids[i]) == False:\n",
        "    probes[i].adjprobes.append(probes[int(psegids[i])]) #add parent seg probe to adj probes\n",
        "    probes[i].parentprobe.append(probes[int(psegids[i])]) #add parent seg probe to parent probes"
      ],
      "metadata": {
        "id": "F0JihjqhD86d"
      },
      "execution_count": 7,
      "outputs": []
    },
    {
      "cell_type": "code",
      "source": [
        "#find terminal ends\n",
        "terminalprobes=[] #list of terminal segment probe objects\n",
        "terminalbasalprobes=[]\n",
        "terminalapicprobes=[]\n",
        "terminalaxonprobes=[]\n",
        "for probe in probes:\n",
        "  if probe.seg not in psegids:\n",
        "    terminalprobes.append(probe)\n",
        "    if probe.sectype=='dend':\n",
        "      terminalbasalprobes.append(probe) #find basal terminal points\n",
        "    elif probe.sectype=='apic':\n",
        "      terminalapicprobes.append(probe)\n",
        "    elif probe.sectype=='axon':\n",
        "      terminalaxonprobes.append(probe)\n",
        "\n",
        "print(len(terminalprobes))"
      ],
      "metadata": {
        "colab": {
          "base_uri": "https://localhost:8080/"
        },
        "id": "nen2MfveFFqX",
        "outputId": "f4745392-bacf-4bbe-e747-d86128328ed9"
      },
      "execution_count": 8,
      "outputs": [
        {
          "output_type": "stream",
          "name": "stdout",
          "text": [
            "103\n"
          ]
        }
      ]
    },
    {
      "cell_type": "code",
      "source": [
        "firstsegs = [] #list of segment indices for each section's first segment\n",
        "sections=[] #list of already seen section ids for getting unique section\n",
        "\n",
        "for i in range(len(bmtkid)):\n",
        "    if bmtkid[i] not in sections: #make sure secid is unique\n",
        "      sections.append(bmtkid[i]) #add unique secid to list of already seen secids\n",
        "      firstsegs.append(segIDs[i]) #get a list of first segment by unique section id\n",
        "\n",
        "print('firstsegs:',firstsegs)"
      ],
      "metadata": {
        "colab": {
          "base_uri": "https://localhost:8080/"
        },
        "id": "zTxRRuGEG4Qv",
        "outputId": "7f3d89bf-18eb-43cd-9dc9-f4e45145bad5"
      },
      "execution_count": 9,
      "outputs": [
        {
          "output_type": "stream",
          "name": "stdout",
          "text": [
            "firstsegs: [0, 5, 10, 13, 44, 45, 64, 103, 130, 135, 138, 141, 156, 157, 162, 191, 218, 227, 230, 231, 238, 243, 244, 249, 258, 259, 262, 267, 274, 287, 322, 327, 332, 351, 370, 387, 390, 421, 432, 447, 460, 479, 498, 505, 508, 513, 530, 559, 560, 561, 572, 575, 576, 587, 588, 593, 614, 615, 626, 629, 654, 685, 702, 719, 740, 745, 750, 755, 782, 803, 814, 835, 870, 875, 914, 917, 940, 945, 958, 967, 976, 979, 992, 997, 1024, 1027, 1036, 1049, 1054, 1063, 1064, 1065, 1068, 1073, 1082, 1113, 1130, 1131, 1154, 1185, 1198, 1201, 1204, 1239, 1260, 1293, 1302, 1307, 1314, 1319, 1324, 1331, 1334, 1335, 1338, 1353, 1368, 1371, 1372, 1397, 1410, 1431, 1480, 1535, 1552, 1561, 1602, 1603, 1612, 1617, 1634, 1649, 1654, 1655, 1658, 1683, 1696, 1739, 1762, 1801, 1802, 1803, 1806, 1809, 1812, 1813, 1860, 1895, 1902, 1935, 1956, 1959, 1964, 2003, 2022, 2051, 2060, 2071, 2078, 2091, 2098, 2113, 2140, 2169, 2192, 2207, 2212, 2215, 2222, 2237, 2246, 2263, 2280, 2311, 2312, 2321, 2322, 2325, 2330, 2351, 2356, 2367, 2374, 2377, 2378, 2385, 2386, 2417, 2452, 2469, 2474, 2493, 2498, 2505, 2512, 2519]\n"
          ]
        }
      ]
    },
    {
      "cell_type": "code",
      "source": [
        "#use plot to find nexus branching points manually\n",
        "nexusprobes=[probes[firstsegs[-61]].parentprobe[0]] #check parentseg()'s by guessing where to index"
      ],
      "metadata": {
        "id": "gUUtfPvUHEWN"
      },
      "execution_count": 10,
      "outputs": []
    },
    {
      "cell_type": "markdown",
      "source": [
        "#Basal Dendrites"
      ],
      "metadata": {
        "id": "YgonZq9bIKSw"
      }
    },
    {
      "cell_type": "code",
      "source": [
        "# define proportions for sectioning (should sum to 1)\n",
        "prox_prop = 0.2\n",
        "mid_prop = 0.3\n",
        "dist_prop = 0.5\n",
        "\n",
        "#Compute dendrites values\n",
        "radii=[] # list of radii\n",
        "dendrite_lengths=[] #list of dendrite lengths\n",
        "prox_r=[]\n",
        "mid_r=[]\n",
        "dist_r=[]\n",
        "prox_weights=[]\n",
        "mid_weights=[]\n",
        "dist_weights=[]\n",
        "basalprobes=[] #list of basal probes\n",
        "for terminalprobe in terminalbasalprobes:\n",
        "  dendrite_length=terminalprobe.segdist\n",
        "  dendrite_lengths.append(dendrite_length) #get length of dendrite\n",
        "  thisprobe=terminalprobe\n",
        "  while thisprobe.sectype!='soma':\n",
        "    if (thisprobe not in basalprobes):\n",
        "      basalprobes.append(thisprobe)\n",
        "    radius=thisprobe.segdiam/2\n",
        "    seg_normalized_distance=thisprobe.segdist/dendrite_length\n",
        "    weight=thisprobe.segL/dendrite_length #since segments have various lengths, longer segments may need to have more impact on calculation\n",
        "    if seg_normalized_distance<=prox_prop:\n",
        "      prox_r.append(radius*weight) #weight radii\n",
        "      prox_weights.append(weight)\n",
        "    elif seg_normalized_distance<=(mid_prop+prox_prop):\n",
        "      mid_r.append(radius*weight)\n",
        "      mid_weights.append(weight)\n",
        "    elif seg_normalized_distance<=(dist_prop+mid_prop+prox_prop):\n",
        "      dist_r.append(radius*weight)\n",
        "      dist_weights.append(weight)\n",
        "    else:\n",
        "      print('weird')\n",
        "\n",
        "    thisprobe=thisprobe.parentprobe[0] #move toward soma\n",
        "#finish weighted mean\n",
        "mean_prox_r=np.sum(prox_r)/sum(prox_weights)\n",
        "mean_mid_r=np.sum(mid_r)/np.sum(mid_weights)\n",
        "mean_dist_r=np.sum(dist_r)/np.sum(dist_weights)\n",
        "\n",
        "print('The mean dendrite length is',np.mean(dendrite_lengths),'and std is',np.std(dendrite_lengths))\n",
        "print('The proximal section length should be',prox_prop*np.mean(dendrite_lengths))\n",
        "print('The middle section length should be',mid_prop*np.mean(dendrite_lengths))\n",
        "print('The distal section length should be',dist_prop*np.mean(dendrite_lengths))\n",
        "print('The mean proximal section radius is',mean_prox_r,'and std is',np.std(prox_r))\n",
        "print('The mean middle section radius is',mean_mid_r,'and std is',np.std(mid_r))\n",
        "print('The mean distal section radius is',mean_dist_r,'and std is',np.std(dist_r)) #standard deviation is not right"
      ],
      "metadata": {
        "colab": {
          "base_uri": "https://localhost:8080/"
        },
        "id": "RKmcRdKuHIx7",
        "outputId": "dd7168c9-64a4-4fd8-a7a9-e39609480265"
      },
      "execution_count": 11,
      "outputs": [
        {
          "output_type": "stream",
          "name": "stdout",
          "text": [
            "The mean dendrite length is 164.18000898247945 and std is 55.739131580787415\n",
            "The proximal section length should be 32.83600179649589\n",
            "The middle section length should be 49.25400269474383\n",
            "The distal section length should be 82.09000449123972\n",
            "The mean proximal section radius is 0.6676019297699011 and std is 0.0071169770469351025\n",
            "The mean middle section radius is 0.42729734996124336 and std is 0.009953020440331563\n",
            "The mean distal section radius is 0.24012652982922575 and std is 0.005702118700930382\n"
          ]
        }
      ]
    },
    {
      "cell_type": "markdown",
      "source": [
        "#Trunk"
      ],
      "metadata": {
        "id": "nwfxRGt6H_fH"
      }
    },
    {
      "cell_type": "code",
      "source": [
        "# define proportions for sectioning (should sum to 1)\n",
        "\n",
        "prox_prop=199.59284190985812/635.869529553687 #obliqueDistanceUpTrunk/trunklength #in the stylized model oblique dendrites will be attached to the end of proxtrunk\n",
        "dist_prop = ((635.869529553687-199.59284190985812)/635.869529553687)/2 #in the stylized model disttrunk may have increased calcium conductances\n",
        "mid_prop = 1-(dist_prop+prox_prop) #mid_prop will be remaining part\n",
        "\n",
        "#Compute dendrites values\n",
        "radii=[] # list of radii\n",
        "dendrite_lengths=[] #list of dendrite lengths\n",
        "prox_r=[]\n",
        "mid_r=[]\n",
        "dist_r=[]\n",
        "prox_weights=[]\n",
        "mid_weights=[]\n",
        "dist_weights=[]\n",
        "trunkprobes=[] #list for trunk segments\n",
        "for terminalprobe in nexusprobes:\n",
        "  dendrite_length=terminalprobe.segdist\n",
        "  dendrite_lengths.append(dendrite_length) #get length of dendrite\n",
        "  thisprobe=terminalprobe\n",
        "  while thisprobe.sectype!='soma':\n",
        "    trunkprobes.append(thisprobe)\n",
        "    radius=thisprobe.segdiam/2\n",
        "    seg_normalized_distance=thisprobe.segdist/dendrite_length\n",
        "    weight=thisprobe.segL/dendrite_length #since segments have various lengths, longer segments may need to have more impact on calculation\n",
        "    if seg_normalized_distance<=prox_prop:\n",
        "      prox_r.append(radius*weight) #weight radii\n",
        "      prox_weights.append(weight)\n",
        "    elif seg_normalized_distance<=(mid_prop+prox_prop):\n",
        "      mid_r.append(radius*weight)\n",
        "      mid_weights.append(weight)\n",
        "    elif seg_normalized_distance<=(dist_prop+mid_prop+prox_prop):\n",
        "      dist_r.append(radius*weight)\n",
        "      dist_weights.append(weight)\n",
        "    else:\n",
        "      print('weird')\n",
        "    thisprobe=thisprobe.parentprobe[0] #move toward soma\n",
        "\n",
        "#finish weighted mean\n",
        "mean_prox_r=np.sum(prox_r)/sum(prox_weights)\n",
        "mean_mid_r=np.sum(mid_r)/np.sum(mid_weights)\n",
        "mean_dist_r=np.sum(dist_r)/np.sum(dist_weights)\n",
        "\n",
        "print('The mean trunk length is',np.mean(dendrite_lengths),'and std is',np.std(dendrite_lengths))\n",
        "print('The proximal section length should be',prox_prop*np.mean(dendrite_lengths))\n",
        "print('The middle section length should be',mid_prop*np.mean(dendrite_lengths))\n",
        "print('The distal section length should be',dist_prop*np.mean(dendrite_lengths))\n",
        "print('The mean proximal section radius is',mean_prox_r,'and std is',np.std(prox_r))\n",
        "print('The mean middle section radius is',mean_mid_r,'and std is',np.std(mid_r))\n",
        "print('The mean distal section radius is',mean_dist_r,'and std is',np.std(dist_r)) #standard deviation is not right"
      ],
      "metadata": {
        "colab": {
          "base_uri": "https://localhost:8080/"
        },
        "id": "4s71mPNIICnK",
        "outputId": "8d04e312-9d05-428f-ef58-7de8aff3673e"
      },
      "execution_count": 12,
      "outputs": [
        {
          "output_type": "stream",
          "name": "stdout",
          "text": [
            "The mean trunk length is 635.869529553687 and std is 0.0\n",
            "The proximal section length should be 199.59284190985812\n",
            "The middle section length should be 218.1383438219145\n",
            "The distal section length should be 218.13834382191445\n",
            "The mean proximal section radius is 1.785650799792007 and std is 0.005096733887141146\n",
            "The mean middle section radius is 1.3142693738715931 and std is 0.0010080407201392986\n",
            "The mean distal section radius is 1.3352037355371051 and std is 0.0006940065100590032\n"
          ]
        }
      ]
    },
    {
      "cell_type": "code",
      "source": [
        "max(segs['Distance']) #how to pull a column after separating by type"
      ],
      "metadata": {
        "colab": {
          "base_uri": "https://localhost:8080/"
        },
        "id": "ytMu5bYjd6_v",
        "outputId": "fd147f99-201c-40fc-932b-a32181637a9d"
      },
      "execution_count": 13,
      "outputs": [
        {
          "output_type": "execute_result",
          "data": {
            "text/plain": [
              "1309.6110769281531"
            ]
          },
          "metadata": {},
          "execution_count": 13
        }
      ]
    },
    {
      "cell_type": "markdown",
      "source": [
        "#Oblique Dendrite"
      ],
      "metadata": {
        "id": "VKZK8BAUGjK2"
      }
    },
    {
      "cell_type": "markdown",
      "source": [
        "##use multiple sections"
      ],
      "metadata": {
        "id": "F656HInWf8Rw"
      }
    },
    {
      "cell_type": "code",
      "source": [
        "# # define proportions for sectioning (should sum to 1)\n",
        "# prox_prop = 0.2\n",
        "# mid_prop = 0.3\n",
        "# dist_prop = 0.5\n",
        "\n",
        "# #Compute dendrites values\n",
        "# radii=[] # list of radii\n",
        "# dendrite_lengths=[] #list of dendrite lengths\n",
        "# prox_r=[]\n",
        "# mid_r=[]\n",
        "# dist_r=[]\n",
        "# prox_weights=[]\n",
        "# mid_weights=[]\n",
        "# dist_weights=[]\n",
        "# obliqueprobes=[] #list for oblique segments\n",
        "# obliquetrunkdists=[] # list for distance up the trunk\n",
        "\n",
        "# for terminalprobe in terminalapicprobes:\n",
        "#   if terminalprobe.segdist<nexusprobes[0].segdist: #this is an oblique dendrite\n",
        "#     thisprobe=terminalprobe\n",
        "#     while (thisprobe.sectype!='soma')and(thisprobe not in trunkprobes):#need to subtract the trunk's pathlength\n",
        "#       thisprobe=thisprobe.parentprobe[0]\n",
        "#     #arrived at trunkprobe\n",
        "#     trunklength=thisprobe.segdist\n",
        "#     dendrite_length=terminalprobe.segdist-trunklength\n",
        "#     dendrite_lengths.append(dendrite_length) #add dendrite length to the list\n",
        "#     thisprobe=terminalprobe #restart iteration through this dendrite\n",
        "#     while thisprobe.sectype!='soma' and thisprobe not in trunkprobes:\n",
        "#       if (thisprobe not in obliqueprobes):\n",
        "#         obliqueprobes.append(thisprobe)\n",
        "#       radius=thisprobe.segdiam/2\n",
        "#       seg_normalized_distance=(thisprobe.segdist-trunklength)/dendrite_length\n",
        "#       weight=thisprobe.segL/dendrite_length #since segments have various lengths, longer segments may need to have more impact on calculation\n",
        "#       if seg_normalized_distance<=prox_prop:\n",
        "#         prox_r.append(radius*weight) #weight radii\n",
        "#         prox_weights.append(weight)\n",
        "#       elif seg_normalized_distance<=(mid_prop+prox_prop):\n",
        "#         mid_r.append(radius*weight)\n",
        "#         mid_weights.append(weight)\n",
        "#       elif seg_normalized_distance<=(dist_prop+mid_prop+prox_prop):\n",
        "#         dist_r.append(radius*weight)\n",
        "#         dist_weights.append(weight)\n",
        "#       else:\n",
        "#         print('weird')\n",
        "#       thisprobe=thisprobe.parentprobe[0] #move toward soma\n",
        "#     #arrived at trunk segment\n",
        "#     obliquetrunkdists.append(thisprobe.segdist)\n",
        "\n",
        "# #calculate mean oblique length up the trunk\n",
        "# meanproxtrunklength=np.mean(obliquetrunkdists)\n",
        "# stdproxtrunklength=np.std(obliquetrunkdists)\n",
        "\n",
        "# #finish weighted mean\n",
        "# mean_prox_r=np.sum(prox_r)/sum(prox_weights)\n",
        "# mean_mid_r=np.sum(mid_r)/np.sum(mid_weights)\n",
        "# mean_dist_r=np.sum(dist_r)/np.sum(dist_weights)\n",
        "\n",
        "# print('The mean dendrite length is',np.mean(dendrite_lengths),'and std is',np.std(dendrite_lengths))\n",
        "# print('The proximal section length should be',prox_prop*np.mean(dendrite_lengths))\n",
        "# print('The middle section length should be',mid_prop*np.mean(dendrite_lengths))\n",
        "# print('The distal section length should be',dist_prop*np.mean(dendrite_lengths))\n",
        "# print('The mean proximal section radius is',mean_prox_r,'and std is',np.std(prox_r))\n",
        "# print('The mean middle section radius is',mean_mid_r,'and std is',np.std(mid_r))\n",
        "# print('The mean distal section radius is',mean_dist_r,'and std is',np.std(dist_r)) #standard deviation is not right\n",
        "# print('The mean distance up the trunk is',meanproxtrunklength,'and std is',stdproxtrunklength) #standard deviation is not right"
      ],
      "metadata": {
        "id": "0KhklyA1HdMD"
      },
      "execution_count": 14,
      "outputs": []
    },
    {
      "cell_type": "markdown",
      "source": [
        "##use one section"
      ],
      "metadata": {
        "id": "Olo0M7dTgHhK"
      }
    },
    {
      "cell_type": "code",
      "source": [
        "#obliques will have only one section\n",
        "\n",
        "#Compute dendrites values\n",
        "radii=[] # list of radii\n",
        "dendrite_lengths=[] #list of dendrite lengths\n",
        "r=[]\n",
        "weights=[]\n",
        "obliqueprobes=[] #list for oblique segments\n",
        "obliquetrunkdists=[] # list for distance up the trunk\n",
        "\n",
        "for terminalprobe in terminalapicprobes:\n",
        "  if terminalprobe.segdist<nexusprobes[0].segdist: #this is an oblique dendrite\n",
        "    thisprobe=terminalprobe\n",
        "    while (thisprobe.sectype!='soma')and(thisprobe not in trunkprobes):#need to subtract the trunk's pathlength\n",
        "      thisprobe=thisprobe.parentprobe[0]\n",
        "    #arrived at trunkprobe\n",
        "    trunklength=thisprobe.segdist\n",
        "    dendrite_length=terminalprobe.segdist-trunklength\n",
        "    dendrite_lengths.append(dendrite_length) #add dendrite length to the list\n",
        "    thisprobe=terminalprobe #restart iteration through this dendrite\n",
        "    while thisprobe.sectype!='soma' and thisprobe not in trunkprobes:\n",
        "      if (thisprobe not in obliqueprobes):\n",
        "        obliqueprobes.append(thisprobe)\n",
        "      radius=thisprobe.segdiam/2\n",
        "      seg_normalized_distance=(thisprobe.segdist-trunklength)/dendrite_length\n",
        "      weight=thisprobe.segL/dendrite_length #since segments have various lengths, longer segments may need to have more impact on calculation\n",
        "      r.append(radius*weight) #weight radii\n",
        "      weights.append(weight)\n",
        "      thisprobe=thisprobe.parentprobe[0] #move toward soma\n",
        "    #arrived at trunk segment\n",
        "    obliquetrunkdists.append(thisprobe.segdist)\n",
        "\n",
        "#calculate mean oblique length up the trunk\n",
        "meanproxtrunklength=np.mean(obliquetrunkdists)\n",
        "stdproxtrunklength=np.std(obliquetrunkdists)\n",
        "\n",
        "#finish weighted mean\n",
        "mean_r=np.sum(r)/sum(weights)\n",
        "\n",
        "print('The mean dendrite length is',np.mean(dendrite_lengths),'and std is',np.std(dendrite_lengths))\n",
        "print('The mean section radius is',mean_r,'and std is',np.std(prox_r))\n",
        "print('The mean distance up the trunk is',meanproxtrunklength,'and std is',stdproxtrunklength) #standard deviation is not right"
      ],
      "metadata": {
        "colab": {
          "base_uri": "https://localhost:8080/"
        },
        "id": "bn1XTuRhf0Da",
        "outputId": "63a0bdf5-f348-42a0-dc52-a7bd3d284e7d"
      },
      "execution_count": 15,
      "outputs": [
        {
          "output_type": "stream",
          "name": "stdout",
          "text": [
            "The mean dendrite length is 131.5842133738954 and std is 46.86021982606098\n",
            "The mean section radius is 0.3790173552235297 and std is 0.005096733887141146\n",
            "The mean distance up the trunk is 199.59284190985812 and std is 87.52090332781046\n"
          ]
        }
      ]
    },
    {
      "cell_type": "markdown",
      "source": [
        "#Tuft Dendrites"
      ],
      "metadata": {
        "id": "yN8cX_MaMx_K"
      }
    },
    {
      "cell_type": "code",
      "source": [
        "# define proportions for sectioning (should sum to 1)\n",
        "prox_prop = (685-635.869529553687)/553.6277168823119  #prox tuft does not have increased calcium conductance\n",
        "mid_prop = (885-685)/553.6277168823119 #increased calcium conductance range\n",
        "dist_prop = 1-(mid_prop+prox_prop)\n",
        "\n",
        "#Compute dendrites values\n",
        "radii=[] # list of radii\n",
        "dendrite_lengths=[] #list of dendrite lengths\n",
        "prox_r=[]\n",
        "mid_r=[]\n",
        "dist_r=[]\n",
        "prox_weights=[]\n",
        "mid_weights=[]\n",
        "dist_weights=[]\n",
        "tuftprobes=[] #list for tuft segments\n",
        "\n",
        "for terminalprobe in terminalapicprobes:\n",
        "  if terminalprobe.segdist>nexusprobes[0].segdist: #this is a tuft dendrite\n",
        "    thisprobe=terminalprobe\n",
        "    while ((thisprobe.sectype!='soma')and(thisprobe not in trunkprobes)):#need to subtract the trunk's pathlength\n",
        "      thisprobe=thisprobe.parentprobe[0]\n",
        "    #arrived at trunkprobe\n",
        "    trunklength=thisprobe.segdist\n",
        "    dendrite_length=terminalprobe.segdist-trunklength\n",
        "    dendrite_lengths.append(dendrite_length)\n",
        "    thisprobe=terminalprobe #restart iteration through this dendrite\n",
        "    while ((thisprobe.sectype!='soma')and(thisprobe not in trunkprobes)):\n",
        "      if (thisprobe not in tuftprobes):\n",
        "        tuftprobes.append(thisprobe)\n",
        "      radius=thisprobe.segdiam/2\n",
        "      seg_normalized_distance=(thisprobe.segdist-trunklength)/dendrite_length\n",
        "      weight=thisprobe.segL/dendrite_length #since segments have various lengths, longer segments may need to have more impact on calculation\n",
        "      if seg_normalized_distance<=prox_prop:\n",
        "        prox_r.append(radius*weight) #weight radii\n",
        "        prox_weights.append(weight)\n",
        "      elif seg_normalized_distance<=(mid_prop+prox_prop):\n",
        "        mid_r.append(radius*weight)\n",
        "        mid_weights.append(weight)\n",
        "      elif seg_normalized_distance<=(dist_prop+mid_prop+prox_prop):\n",
        "        dist_r.append(radius*weight)\n",
        "        dist_weights.append(weight)\n",
        "      else:\n",
        "        print('weird')\n",
        "      thisprobe=thisprobe.parentprobe[0] #move toward soma\n",
        "\n",
        "#finish weighted mean\n",
        "mean_prox_r=np.sum(prox_r)/sum(prox_weights)\n",
        "mean_mid_r=np.sum(mid_r)/np.sum(mid_weights)\n",
        "mean_dist_r=np.sum(dist_r)/np.sum(dist_weights)\n",
        "\n",
        "print('The mean dendrite length is',np.mean(dendrite_lengths),'and std is',np.std(dendrite_lengths))\n",
        "print('The proximal section length should be',prox_prop*np.mean(dendrite_lengths))\n",
        "print('The middle section length should be',mid_prop*np.mean(dendrite_lengths))\n",
        "print('The distal section length should be',dist_prop*np.mean(dendrite_lengths))\n",
        "print('The mean proximal section radius is',mean_prox_r,'and std is',np.std(prox_r))\n",
        "print('The mean middle section radius is',mean_mid_r,'and std is',np.std(mid_r))\n",
        "print('The mean distal section radius is',mean_dist_r,'and std is',np.std(dist_r)) #standard deviation is not right"
      ],
      "metadata": {
        "colab": {
          "base_uri": "https://localhost:8080/"
        },
        "id": "EqQrH1MGMymY",
        "outputId": "dd661929-2fcf-415f-bb47-b77208d8c7ac"
      },
      "execution_count": 16,
      "outputs": [
        {
          "output_type": "stream",
          "name": "stdout",
          "text": [
            "The mean dendrite length is 553.6277168823119 and std is 99.15988957740672\n",
            "The proximal section length should be 49.130470446312984\n",
            "The middle section length should be 200.0\n",
            "The distal section length should be 304.4972464359989\n",
            "The mean proximal section radius is 0.8999999761581434 and std is 0.0015882612881562826\n",
            "The mean middle section radius is 0.6484952311610834 and std is 0.0022828901151911484\n",
            "The mean distal section radius is 0.3898439647982608 and std is 0.0018916712389856131\n"
          ]
        }
      ]
    },
    {
      "cell_type": "markdown",
      "source": [
        "#Axon"
      ],
      "metadata": {
        "id": "YyQRODHoYkoA"
      }
    },
    {
      "cell_type": "code",
      "source": [
        "#axon will be one section\n",
        "\n",
        "#Compute dendrites values\n",
        "radii=[] # list of radii\n",
        "dendrite_lengths=[] #list of dendrite lengths\n",
        "r=[] #list of weighted radii\n",
        "weights=[]\n",
        "axonprobes=[] #list of axon probes\n",
        "for terminalprobe in terminalaxonprobes:\n",
        "  dendrite_length=terminalprobe.segdist\n",
        "  dendrite_lengths.append(dendrite_length) #get length of dendrite\n",
        "  thisprobe=terminalprobe\n",
        "  while thisprobe.sectype!='soma':\n",
        "    if (thisprobe not in axonprobes):\n",
        "      axonprobes.append(thisprobe)\n",
        "    radius=thisprobe.segdiam/2\n",
        "    seg_normalized_distance=thisprobe.segdist/dendrite_length\n",
        "    weight=thisprobe.segL/dendrite_length #since segments have various lengths, longer segments may need to have more impact on calculation\n",
        "    r.append(radius*weight) #weight radii\n",
        "    weights.append(weight)\n",
        "    thisprobe=thisprobe.parentprobe[0] #move toward soma\n",
        "#finish weighted mean\n",
        "mean_r=np.sum(r)/sum(weights)\n",
        "\n",
        "print('The mean dendrite length is',np.mean(dendrite_lengths),'and std is',np.std(dendrite_lengths))\n",
        "print('The mean radius is',mean_r,'and std is',np.std(prox_r))"
      ],
      "metadata": {
        "colab": {
          "base_uri": "https://localhost:8080/"
        },
        "id": "oAG0piX2YlvZ",
        "outputId": "9f27582a-81ba-4b39-8869-01b3cf8601f8"
      },
      "execution_count": 17,
      "outputs": [
        {
          "output_type": "stream",
          "name": "stdout",
          "text": [
            "The mean dendrite length is 69.4418239164229 and std is 0.0\n",
            "The mean radius is 0.5000000000000001 and std is 0.0015882612881562826\n"
          ]
        }
      ]
    },
    {
      "cell_type": "markdown",
      "source": [
        "#Analyze Plot\n",
        "Shows that the segments have been correctly classified"
      ],
      "metadata": {
        "id": "vZi_5DLCWkAB"
      }
    },
    {
      "cell_type": "code",
      "source": [
        "plt.figure(figsize=(3,10))\n",
        "ax = plt.plot(AllSegXCoord, AllSegYCoord,'.',color='k',markersize=6)\n",
        "plt.vlines(110,400,500)\n",
        "plt.text(0,450,'100 um')\n",
        "plt.hlines(400,110,210)\n",
        "plt.text(110,350,'100 um')\n",
        "plt.xticks([])\n",
        "plt.yticks([])\n",
        "plt.box(False)\n",
        "\n",
        "# for i in firstsegs:\n",
        "#   plt.plot(AllSegXCoord[probes[i].seg],\n",
        "#          AllSegYCoord[probes[i].seg],\n",
        "#          '*',color=probes[i].color)\n",
        "  # for j in range(len(probes[i].adjprobes)):\n",
        "  #     plt.plot(AllSegXCoord[probes[i].adjprobes[j].seg],\n",
        "  #         AllSegYCoord[probes[i].adjprobes[j].seg],\n",
        "  #         '*',color='blue')\n",
        "\n",
        "# nexus=[probes[firstsegs[-51]].parentprobe[0],probes[firstsegs[-61]].parentprobe[0]] #check parentseg()'s by guessing where to index\n",
        "nexus=[probes[firstsegs[-61]].parentprobe[0]]\n",
        "# adjp=[0] #indexes childprobes of nexus probes to find the adjacent\n",
        "for probe in nexus:\n",
        "  plt.plot(AllSegXCoord[probe.seg],\n",
        "         AllSegYCoord[probe.seg],\n",
        "         '*',color='m')\n",
        "  # see all adj probes\n",
        "  # for j in range(len(probes[].adjprobes)):\n",
        "  #   plt.plot(AllSegXCoord[probes[].adjprobes[j].seg],\n",
        "  #       AllSegYCoord[probes[psegs[i]].adjprobes[j].seg],\n",
        "  #       '*',color='blue')\n",
        "#see child probes\n",
        "  for j in range(len(probes[i].childprobes)):\n",
        "      plt.plot(AllSegXCoord[probes[i].childprobes[j].seg],\n",
        "          AllSegYCoord[probes[i].childprobes[j].seg],\n",
        "          '*',color='orange')\n",
        "#see parent probes      \n",
        "  # for j in range(len(probes[i].parentprobe)):\n",
        "  #     plt.plot(AllSegXCoord[probes[i].parentprobe[j].seg],\n",
        "  #         AllSegYCoord[probes[i].parentprobe[j].seg],\n",
        "  #         '*',color='blue')\n",
        "#see terminal probes      \n",
        "for j in range(len(terminalprobes)):\n",
        "    plt.plot(AllSegXCoord[terminalprobes[j].seg],\n",
        "        AllSegYCoord[terminalprobes[j].seg],\n",
        "        '*',color='green')\n",
        "# work in progress\n",
        "# see basal probes      \n",
        "for j in range(len(basalprobes)):\n",
        "    plt.plot(AllSegXCoord[basalprobes[j].seg],\n",
        "        AllSegYCoord[basalprobes[j].seg],\n",
        "        '*',color='blue')\n",
        "# see tuft probes\n",
        "for j in range(len(tuftprobes)):\n",
        "    plt.plot(AllSegXCoord[tuftprobes[j].seg],\n",
        "        AllSegYCoord[tuftprobes[j].seg],\n",
        "        '*',color='teal')\n",
        "# see trunk probes\n",
        "for j in range(len(trunkprobes)):\n",
        "    plt.plot(AllSegXCoord[trunkprobes[j].seg],\n",
        "        AllSegYCoord[trunkprobes[j].seg],\n",
        "        '*',color='red')\n",
        "# see oblique probes\n",
        "for j in range(len(obliqueprobes)):\n",
        "    plt.plot(AllSegXCoord[obliqueprobes[j].seg],\n",
        "        AllSegYCoord[obliqueprobes[j].seg],\n",
        "        '*',color='orange')\n",
        "# see axon probes\n",
        "for j in range(len(axonprobes)):\n",
        "    plt.plot(AllSegXCoord[axonprobes[j].seg],\n",
        "        AllSegYCoord[axonprobes[j].seg],\n",
        "        '*',color='green')\n",
        "\n",
        "#see nexus probes"
      ],
      "metadata": {
        "colab": {
          "base_uri": "https://localhost:8080/",
          "height": 575
        },
        "id": "BMAIObU6EZyh",
        "outputId": "24c1173f-ac6a-4e61-e495-f02ad31909a6"
      },
      "execution_count": 18,
      "outputs": [
        {
          "output_type": "display_data",
          "data": {
            "text/plain": [
              "<Figure size 216x720 with 1 Axes>"
            ],
            "image/png": "[encoded data removed]"
          },
          "metadata": {}
        }
      ]
    }
  ]
}