{
  "cells": [
    {
      "cell_type": "markdown",
      "metadata": {
        "id": "view-in-github",
        "colab_type": "text"
      },
      "source": [
        "<a href=\"https://colab.research.google.com/github/davidfague/Stylized-ReducedOrder-L5-Model/blob/main/Copy_of_HOC_Detailed_model.ipynb\" target=\"_parent\"><img src=\"https://colab.research.google.com/assets/colab-badge.svg\" alt=\"Open In Colab\"/></a>"
      ]
    },
    {
      "cell_type": "markdown",
      "source": [
        "#Colab: Upload simdata folder to Stylized-Cell-model folder before running"
      ],
      "metadata": {
        "id": "gtkrZIqN9csZ"
      }
    },
    {
      "cell_type": "markdown",
      "source": [
        "cd for google drive"
      ],
      "metadata": {
        "id": "ZVByNP1Ul9TD"
      }
    },
    {
      "cell_type": "code",
      "execution_count": null,
      "metadata": {
        "colab": {
          "base_uri": "https://localhost:8080/"
        },
        "id": "e_sUXg4Y3Iot",
        "outputId": "ee016b39-fc29-4574-9a19-64d6b4ecc213"
      },
      "outputs": [
        {
          "output_type": "stream",
          "name": "stdout",
          "text": [
            "Drive already mounted at /content/drive; to attempt to forcibly remount, call drive.mount(\"/content/drive\", force_remount=True).\n"
          ]
        }
      ],
      "source": [
        "from google.colab import drive\n",
        "drive.mount('/content/drive')"
      ]
    },
    {
      "cell_type": "code",
      "execution_count": null,
      "metadata": {
        "colab": {
          "base_uri": "https://localhost:8080/"
        },
        "id": "-nGwuudE3K77",
        "outputId": "0d9240e4-bbbf-4c39-cdb0-9ea1410de19e"
      },
      "outputs": [
        {
          "output_type": "stream",
          "name": "stdout",
          "text": [
            "/content/drive/MyDrive/Stylized-Cell-model\n"
          ]
        }
      ],
      "source": [
        "%cd /content/drive/MyDrive/Stylized-Cell-model/"
      ]
    },
    {
      "cell_type": "markdown",
      "source": [
        "cd for server"
      ],
      "metadata": {
        "id": "Wob1K8DFudep"
      }
    },
    {
      "cell_type": "code",
      "source": [
        "# cd Hay&Segev2015\n",
        "# source /opt/python-bmtk//bin/activate\n",
        "# cd simdata/L5PCbiophys3/N1_c0_cond0_seed50\n",
        "# cd "
      ],
      "metadata": {
        "id": "bPnJKcm6uexT"
      },
      "execution_count": null,
      "outputs": []
    },
    {
      "cell_type": "code",
      "execution_count": null,
      "metadata": {
        "colab": {
          "base_uri": "https://localhost:8080/"
        },
        "id": "Jch-eHB5P0pw",
        "outputId": "55d51cf3-ea41-4230-eb19-05f6dac7df4d"
      },
      "outputs": [
        {
          "output_type": "stream",
          "name": "stdout",
          "text": [
            " active_channel_model_example.ipynb       i_CaLva_report.hdf5\n",
            " active_channel_model_groundtruth.ipynb   ihcn_report.hdf5\n",
            " ca_df.csv                                Ih.ihcn_report.h5\n",
            " Ca_HVA.ica_report.h5                     inmda_report.h5\n",
            " Ca_LVAst.ica_report.h5                   i_nmda_report.hdf5\n",
            " Connections.csv                         \u001b[0m\u001b[01;34m'L5 Individual Basal Paths'\u001b[0m/\n",
            " data.h5                                 \u001b[01;34m'L5 Individual Oblique Paths'\u001b[0m/\n",
            " Detailed_Ca_HVA.ica_report.h5           \u001b[01;34m'L5 Individual Tuft Paths'\u001b[0m/\n",
            " Detailed_Ca_LVAst.ica_report.h5          L5Morphology.swc\n",
            " Detailed_Connections.csv                 L5Morphology.swc.txt\n",
            " Detailed_Ih.ihcn_report.h5               L5Segments.csv\n",
            " Detailed_inmda_report.h5                 \u001b[01;34mmechanisms\u001b[0m/\n",
            " Detailed_NaTa_t.gNaTa_t_report.h5        na_df.csv\n",
            " Detailed_Segments.csv                    NaTa_t.gNaTa_t_report.h5\n",
            " Detailed_spikes.h5                       nmda_df.csv\n",
            " Detailed_v_report.h5                     Segments.csv\n",
            " Elec_distance.svg                        SegmentsDegrees.csv\n",
            " example_model_inject_waveform.ipynb      Segments.hdf5\n",
            " exc_syns.svg                             \u001b[01;34msimdata\u001b[0m/\n",
            " fig1A.svg                                spikes.h5\n",
            " fig2A.svg                                Spikes.hdf5\n",
            " fig2B.svg                                stylized_cell_figure.ipynb\n",
            " fig2C.svg                                stylizedcell.pdf\n",
            " fig2D.svg                                \u001b[01;34mstylized_module\u001b[0m/\n",
            " fig2E.svg                                syn_parameters.csv\n",
            " fig2F.svg                                syn_parameters.gsheet\n",
            " fig2G.svg                                \u001b[01;34mtemplates\u001b[0m/\n",
            " geom_parameters.csv                      Trunk.swc\n",
            " geom_standard.csv                        \u001b[01;34mutils\u001b[0m/\n",
            " gNaTa_report.hdf5                        v_report.h5\n",
            " i_CaHva_report.hdf5                      v_report.hdf5\n"
          ]
        }
      ],
      "source": [
        "%ls"
      ]
    },
    {
      "cell_type": "code",
      "source": [
        "import pandas as pd\n",
        "import numpy as np\n",
        "from scipy.stats import lognorm\n",
        "import math\n",
        "import os\n",
        "from pathlib import Path\n",
        "import h5py\n",
        "import csv"
      ],
      "metadata": {
        "id": "R6aQOKREulmz"
      },
      "execution_count": null,
      "outputs": []
    },
    {
      "cell_type": "markdown",
      "source": [
        "#X Coords\n",
        "##extract X coordinates from txt file"
      ],
      "metadata": {
        "id": "ZY975dv5aIUW"
      }
    },
    {
      "cell_type": "code",
      "source": [
        "def getsegtracefromtxt(filename):\n",
        "  #imports data\n",
        "  data = np.genfromtxt(filename,delimiter=',')\n",
        "  #drops the nan\n",
        "  data1 = (data[:, ~np.isnan(data).any(axis=0)])\n",
        "  #check to make sure its gone\n",
        "  return data1\n",
        "\n",
        "def createsegtracereport(reportname,dataname):\n",
        "  try:\n",
        "    os.remove(reportname) # reportname was string \" \"\n",
        "  except:\n",
        "    x = 1\n",
        "\n",
        "  f = h5py.File(reportname,'w') #create a file in the w (write) mode #reportname was string ' '\n",
        "  v = f.create_dataset(\"report/biophysical/data\", data = dataname)\n",
        "  f.close()\n",
        "\n",
        "def getsegparamfromtxt(filename):\n",
        "  temp = np.array(0)\n",
        "\n",
        "  # read in csv\n",
        "  with open(filename, newline='') as csvfile:\n",
        "      data = csv.reader(csvfile, delimiter=',')\n",
        "      for row in data:\n",
        "          temp = np.append(temp,row)\n",
        "  #remove 0\n",
        "  temp = np.delete(temp,0)\n",
        "\n",
        "  #removes extra values due to comma at the end\n",
        "  new_arr = np.delete(temp, np.where(temp == ''))\n",
        "\n",
        "  # makes into ints to make h5py happy\n",
        "  data1 = np.array(new_arr).astype(float)\n",
        "  return data1"
      ],
      "metadata": {
        "id": "iOjXwZrwpSEU"
      },
      "execution_count": null,
      "outputs": []
    },
    {
      "cell_type": "code",
      "source": [
        "inmda_data = getsegtracefromtxt('simdata/L5PCbiophys3/N1_c0_cond0_seed427/inmdaSegTracesN0.txt')\n",
        "gNaTa_t_data = getsegtracefromtxt('simdata/L5PCbiophys3/N1_c0_cond0_seed427/gNaTa_tSegTracesN0.txt')\n",
        "ica_HVA_data = getsegtracefromtxt('simdata/L5PCbiophys3/N1_c0_cond0_seed427/ica_HVASegTracesN0.txt')\n",
        "ica_LVAst_data = getsegtracefromtxt('simdata/L5PCbiophys3/N1_c0_cond0_seed427/ica_LVASegTracesN0.txt')\n",
        "Ih_data = getsegtracefromtxt('simdata/L5PCbiophys3/N1_c0_cond0_seed427/IhTraceforEachSegmentN0.txt')\n",
        "volt_data = getsegtracefromtxt('simdata/L5PCbiophys3/N1_c0_cond0_seed427/voltageSegTracesN0.txt')\n",
        "#print(inmda_data)\n",
        "spikes = getsegparamfromtxt('simdata//L5PCbiophys3/N1_c0_cond0_seed427/spikeTimesN0.txt')\n",
        "\n",
        "createsegtracereport('HOCDetailed_v_report.h5',volt_data)\n",
        "createsegtracereport('HOCDetailed_Ca_HVA.ica_report.h5',ica_HVA_data)\n",
        "createsegtracereport('HOCDetailed_Ca_LVAst.ica_report.h5',ica_LVAst_data)\n",
        "createsegtracereport('HOCDetailed_Ih.ihcn_report.h5',Ih_data)\n",
        "createsegtracereport('HOCDetailed_inmda_report.h5',inmda_data)\n",
        "createsegtracereport('HOCDetailed_NaTa_t.gNaTa_t_report.h5',gNaTa_t_data)\n",
        "\n",
        "createsegtracereport('HOCDetailed_spikes.h5',spikes)"
      ],
      "metadata": {
        "id": "1WVKaokG-Mjp"
      },
      "execution_count": null,
      "outputs": []
    },
    {
      "cell_type": "code",
      "source": [
        "nseg=642\n",
        "segID = list(range(nseg-1))\n",
        "#print(segID)\n",
        "\n",
        "AllSegXCoord = getsegparamfromtxt('simdata//L5PCbiophys3/N1_c0_cond0_seed427/AllSegXCoordValuesN0.txt')\n",
        "AllSegYCoord = getsegparamfromtxt('simdata/L5PCbiophys3/N1_c0_cond0_seed427/AllSegYCoordValuesN0.txt')\n",
        "AllSegZCoord = getsegparamfromtxt('simdata/L5PCbiophys3/N1_c0_cond0_seed427/AllSegZCoordValuesN0.txt')\n",
        "AllSegElecDist = getsegparamfromtxt('simdata/L5PCbiophys3/N1_c0_cond0_seed427/AllSegElecDistValuesN0.txt')\n",
        "\n",
        "#synapse conductance\n",
        "gmax_list = getsegparamfromtxt('simdata/L5PCbiophys3/N1_c0_cond0_seed427/synConductanceN0.txt')\n",
        "print(gmax_list)\n",
        "\n",
        "\n",
        "DSynSecType = getsegparamfromtxt('simdata//L5PCbiophys3/N1_c0_cond0_seed427/SynSecTypeN0.txt') # convert DSynSecType #convert segtype from 0 to soma, 1 to basal, 2 to apical, 3 to axonal\n",
        "SynX = getsegparamfromtxt('simdata/L5PCbiophys3/N1_c0_cond0_seed427/SynXN0.txt')\n",
        "SynParentSeg = getsegparamfromtxt('simdata/L5PCbiophys3/N1_c0_cond0_seed427/SynSegIDN0.txt')\n",
        "SynDist = getsegparamfromtxt('simdata/L5PCbiophys3/N1_c0_cond0_seed427/SynDistanceN0.txt')\n",
        "DSynType = getsegparamfromtxt('simdata/L5PCbiophys3/N1_c0_cond0_seed427/SynTypeN0.txt') #convert 0 to inh 1 to exc\n",
        "#SimParam = getsegparamfromtxt('simdata/L5PCbiophys3/N1_c0_cond0_seed427/simParam.txt') # try to pull sim param this way\n",
        "\n",
        "AllSegDist = getsegparamfromtxt('simdata//L5PCbiophys3/N1_c0_cond0_seed427/SegDistanceN0.txt') \n",
        "DAllSegType = getsegparamfromtxt('simdata/L5PCbiophys3/N1_c0_cond0_seed427/AllSegTypeN0.txt')\n",
        "AllSegSection = getsegparamfromtxt('simdata/L5PCbiophys3/N1_c0_cond0_seed427/SegSecIDN0.txt')\n",
        "SegX = getsegparamfromtxt('simdata/L5PCbiophys3/N1_c0_cond0_seed427/AllSegXN0.txt')\n",
        "#print(\"SimParam is: \", SimParam)"
      ],
      "metadata": {
        "id": "RpZxvadsqGhV",
        "colab": {
          "base_uri": "https://localhost:8080/",
          "height": 356
        },
        "outputId": "7190c052-3610-4d2e-bf66-98d032d29bd0"
      },
      "execution_count": null,
      "outputs": [
        {
          "output_type": "stream",
          "name": "stdout",
          "text": [
            "[0.0004 0.0004 0.0004 ... 0.001  0.001  0.001 ]\n"
          ]
        },
        {
          "output_type": "error",
          "ename": "FileNotFoundError",
          "evalue": "ignored",
          "traceback": [
            "\u001b[0;31m---------------------------------------------------------------------------\u001b[0m",
            "\u001b[0;31mFileNotFoundError\u001b[0m                         Traceback (most recent call last)",
            "\u001b[0;32m<ipython-input-8-13fd80e868c1>\u001b[0m in \u001b[0;36m<module>\u001b[0;34m()\u001b[0m\n\u001b[1;32m     23\u001b[0m \u001b[0mDAllSegType\u001b[0m \u001b[0;34m=\u001b[0m \u001b[0mgetsegparamfromtxt\u001b[0m\u001b[0;34m(\u001b[0m\u001b[0;34m'simdata/L5PCbiophys3/N1_c0_cond0_seed427/AllSegTypeN0.txt'\u001b[0m\u001b[0;34m)\u001b[0m\u001b[0;34m\u001b[0m\u001b[0;34m\u001b[0m\u001b[0m\n\u001b[1;32m     24\u001b[0m \u001b[0mAllSegSection\u001b[0m \u001b[0;34m=\u001b[0m \u001b[0mgetsegparamfromtxt\u001b[0m\u001b[0;34m(\u001b[0m\u001b[0;34m'simdata/L5PCbiophys3/N1_c0_cond0_seed427/SegSecIDN0.txt'\u001b[0m\u001b[0;34m)\u001b[0m\u001b[0;34m\u001b[0m\u001b[0;34m\u001b[0m\u001b[0m\n\u001b[0;32m---> 25\u001b[0;31m \u001b[0mSegX\u001b[0m \u001b[0;34m=\u001b[0m \u001b[0mgetsegparamfromtxt\u001b[0m\u001b[0;34m(\u001b[0m\u001b[0;34m'simdata/L5PCbiophys3/N1_c0_cond0_seed427/AllSegXN0.txt'\u001b[0m\u001b[0;34m)\u001b[0m\u001b[0;34m\u001b[0m\u001b[0;34m\u001b[0m\u001b[0m\n\u001b[0m\u001b[1;32m     26\u001b[0m \u001b[0;31m#print(\"SimParam is: \", SimParam)\u001b[0m\u001b[0;34m\u001b[0m\u001b[0;34m\u001b[0m\u001b[0;34m\u001b[0m\u001b[0m\n",
            "\u001b[0;32m<ipython-input-6-98ed52372dc6>\u001b[0m in \u001b[0;36mgetsegparamfromtxt\u001b[0;34m(filename)\u001b[0m\n\u001b[1;32m     21\u001b[0m \u001b[0;34m\u001b[0m\u001b[0m\n\u001b[1;32m     22\u001b[0m   \u001b[0;31m# read in csv\u001b[0m\u001b[0;34m\u001b[0m\u001b[0;34m\u001b[0m\u001b[0;34m\u001b[0m\u001b[0m\n\u001b[0;32m---> 23\u001b[0;31m   \u001b[0;32mwith\u001b[0m \u001b[0mopen\u001b[0m\u001b[0;34m(\u001b[0m\u001b[0mfilename\u001b[0m\u001b[0;34m,\u001b[0m \u001b[0mnewline\u001b[0m\u001b[0;34m=\u001b[0m\u001b[0;34m''\u001b[0m\u001b[0;34m)\u001b[0m \u001b[0;32mas\u001b[0m \u001b[0mcsvfile\u001b[0m\u001b[0;34m:\u001b[0m\u001b[0;34m\u001b[0m\u001b[0;34m\u001b[0m\u001b[0m\n\u001b[0m\u001b[1;32m     24\u001b[0m       \u001b[0mdata\u001b[0m \u001b[0;34m=\u001b[0m \u001b[0mcsv\u001b[0m\u001b[0;34m.\u001b[0m\u001b[0mreader\u001b[0m\u001b[0;34m(\u001b[0m\u001b[0mcsvfile\u001b[0m\u001b[0;34m,\u001b[0m \u001b[0mdelimiter\u001b[0m\u001b[0;34m=\u001b[0m\u001b[0;34m','\u001b[0m\u001b[0;34m)\u001b[0m\u001b[0;34m\u001b[0m\u001b[0;34m\u001b[0m\u001b[0m\n\u001b[1;32m     25\u001b[0m       \u001b[0;32mfor\u001b[0m \u001b[0mrow\u001b[0m \u001b[0;32min\u001b[0m \u001b[0mdata\u001b[0m\u001b[0;34m:\u001b[0m\u001b[0;34m\u001b[0m\u001b[0;34m\u001b[0m\u001b[0m\n",
            "\u001b[0;31mFileNotFoundError\u001b[0m: [Errno 2] No such file or directory: 'simdata/L5PCbiophys3/N1_c0_cond0_seed427/AllSegXN0.txt'"
          ]
        }
      ]
    },
    {
      "cell_type": "code",
      "source": [
        "synapse_sec_list = getsegparamfromtxt('simdata/L5PCbiophys3/N1_c0_cond0_seed427/SynSecIDN0.txt')"
      ],
      "metadata": {
        "id": "ZUj2aj5DFV2Q"
      },
      "execution_count": null,
      "outputs": []
    },
    {
      "cell_type": "code",
      "source": [
        "SynType = ['soma' if y==0 else 'basal' if y==1 else 'apic' if y==2 else 'axon' #assign randomly, adhere to proportion \n",
        "                                          for y in DSynSecType]\n",
        "\n",
        "print(DSynSecType)\n",
        "print(SynType)"
      ],
      "metadata": {
        "id": "O-mfZraDZ3ol"
      },
      "execution_count": null,
      "outputs": []
    },
    {
      "cell_type": "code",
      "source": [
        "SourcePop = ['dist_inh_stim' if y==0 else 'exc_stim'\n",
        "                                          for y in DSynType]\n",
        "print(DSynType)\n",
        "print(SourcePop)"
      ],
      "metadata": {
        "id": "Zk97xFNNk_UF"
      },
      "execution_count": null,
      "outputs": []
    },
    {
      "cell_type": "code",
      "source": [
        "print(SynType)"
      ],
      "metadata": {
        "id": "m81VUXf0BjnI"
      },
      "execution_count": null,
      "outputs": []
    },
    {
      "cell_type": "code",
      "source": [
        "print(len(DAllSegType))"
      ],
      "metadata": {
        "id": "IwFvIFtXLlw2",
        "outputId": "9246f9c8-2031-4658-e1c4-c9b7b486a24a",
        "colab": {
          "base_uri": "https://localhost:8080/"
        }
      },
      "execution_count": null,
      "outputs": [
        {
          "output_type": "stream",
          "name": "stdout",
          "text": [
            "642\n"
          ]
        }
      ]
    },
    {
      "cell_type": "code",
      "source": [
        "AllSegType = ['soma' if y==0 else 'basal' if y==1 else 'apic' if y==2 else 'axon' #assign randomly, adhere to proportion \n",
        "                                          for y in DAllSegType] \n",
        "print(AllSegType)"
      ],
      "metadata": {
        "id": "iJOx_Y7W8qvD",
        "outputId": "61cc4536-9ef2-4e47-ae43-a15c4eedabc8",
        "colab": {
          "base_uri": "https://localhost:8080/"
        }
      },
      "execution_count": null,
      "outputs": [
        {
          "output_type": "stream",
          "name": "stdout",
          "text": [
            "['soma', 'soma', 'soma', 'soma', 'soma', 'soma', 'soma', 'soma', 'soma', 'soma', 'soma', 'soma', 'soma', 'soma', 'soma', 'soma', 'soma', 'soma', 'soma', 'soma', 'soma', 'soma', 'soma', 'soma', 'soma', 'soma', 'soma', 'soma', 'soma', 'soma', 'soma', 'soma', 'soma', 'soma', 'soma', 'soma', 'soma', 'soma', 'soma', 'soma', 'soma', 'soma', 'soma', 'soma', 'soma', 'soma', 'soma', 'soma', 'soma', 'soma', 'soma', 'soma', 'soma', 'soma', 'soma', 'soma', 'soma', 'soma', 'soma', 'soma', 'soma', 'soma', 'soma', 'soma', 'soma', 'soma', 'soma', 'soma', 'soma', 'soma', 'soma', 'soma', 'soma', 'soma', 'soma', 'soma', 'soma', 'soma', 'soma', 'soma', 'soma', 'soma', 'soma', 'soma', 'soma', 'soma', 'soma', 'soma', 'soma', 'soma', 'soma', 'soma', 'soma', 'soma', 'soma', 'soma', 'soma', 'soma', 'soma', 'soma', 'soma', 'soma', 'soma', 'soma', 'soma', 'soma', 'soma', 'soma', 'soma', 'soma', 'soma', 'soma', 'soma', 'soma', 'soma', 'soma', 'soma', 'soma', 'soma', 'soma', 'soma', 'soma', 'soma', 'soma', 'soma', 'soma', 'soma', 'soma', 'soma', 'soma', 'soma', 'soma', 'soma', 'soma', 'soma', 'soma', 'soma', 'soma', 'soma', 'soma', 'soma', 'soma', 'soma', 'soma', 'soma', 'soma', 'soma', 'soma', 'soma', 'soma', 'soma', 'soma', 'soma', 'soma', 'soma', 'soma', 'soma', 'soma', 'soma', 'soma', 'soma', 'soma', 'soma', 'soma', 'soma', 'soma', 'soma', 'soma', 'soma', 'soma', 'soma', 'soma', 'soma', 'soma', 'soma', 'soma', 'soma', 'soma', 'soma', 'soma', 'soma', 'soma', 'soma', 'soma', 'soma', 'soma', 'soma', 'soma', 'soma', 'soma', 'soma', 'soma', 'soma', 'soma', 'soma', 'soma', 'soma', 'soma', 'soma', 'soma', 'soma', 'soma', 'soma', 'soma', 'soma', 'soma', 'soma', 'soma', 'soma', 'soma', 'soma', 'soma', 'soma', 'soma', 'soma', 'soma', 'soma', 'soma', 'soma', 'soma', 'soma', 'soma', 'soma', 'soma', 'soma', 'soma', 'soma', 'soma', 'soma', 'soma', 'soma', 'soma', 'soma', 'soma', 'soma', 'soma', 'soma', 'soma', 'soma', 'soma', 'soma', 'soma', 'soma', 'soma', 'soma', 'soma', 'soma', 'soma', 'soma', 'soma', 'soma', 'soma', 'soma', 'soma', 'soma', 'soma', 'soma', 'soma', 'soma', 'soma', 'soma', 'soma', 'soma', 'soma', 'soma', 'soma', 'soma', 'soma', 'soma', 'soma', 'soma', 'soma', 'soma', 'soma', 'soma', 'soma', 'soma', 'soma', 'soma', 'soma', 'soma', 'soma', 'soma', 'soma', 'soma', 'soma', 'soma', 'soma', 'soma', 'soma', 'soma', 'soma', 'soma', 'soma', 'soma', 'soma', 'soma', 'soma', 'soma', 'soma', 'soma', 'soma', 'soma', 'soma', 'soma', 'soma', 'soma', 'soma', 'soma', 'soma', 'soma', 'soma', 'soma', 'soma', 'soma', 'soma', 'soma', 'soma', 'soma', 'soma', 'soma', 'soma', 'soma', 'soma', 'soma', 'soma', 'soma', 'soma', 'soma', 'soma', 'soma', 'soma', 'soma', 'soma', 'soma', 'soma', 'soma', 'soma', 'soma', 'soma', 'soma', 'soma', 'soma', 'soma', 'soma', 'soma', 'soma', 'soma', 'soma', 'soma', 'soma', 'soma', 'soma', 'soma', 'soma', 'soma', 'soma', 'soma', 'soma', 'soma', 'soma', 'soma', 'soma', 'soma', 'soma', 'soma', 'soma', 'soma', 'soma', 'soma', 'soma', 'soma', 'soma', 'soma', 'soma', 'soma', 'soma', 'soma', 'soma', 'soma', 'soma', 'soma', 'soma', 'soma', 'soma', 'soma', 'soma', 'soma', 'soma', 'soma', 'soma', 'soma', 'soma', 'soma', 'soma', 'soma', 'soma', 'soma', 'soma', 'soma', 'soma', 'soma', 'soma', 'soma', 'soma', 'soma', 'soma', 'soma', 'soma', 'soma', 'soma', 'soma', 'soma', 'soma', 'soma', 'soma', 'soma', 'soma', 'soma', 'soma', 'soma', 'soma', 'soma', 'soma', 'soma', 'soma', 'soma', 'soma', 'soma', 'soma', 'soma', 'soma', 'soma', 'soma', 'soma', 'soma', 'soma', 'soma', 'soma', 'soma', 'soma', 'soma', 'soma', 'soma', 'soma', 'soma', 'soma', 'soma', 'soma', 'soma', 'soma', 'soma', 'soma', 'soma', 'soma', 'soma', 'soma', 'soma', 'soma', 'soma', 'soma', 'soma', 'soma', 'soma', 'soma', 'soma', 'soma', 'soma', 'soma', 'soma', 'soma', 'soma', 'soma', 'soma', 'soma', 'soma', 'soma', 'soma', 'soma', 'soma', 'soma', 'soma', 'soma', 'soma', 'soma', 'soma', 'soma', 'soma', 'soma', 'soma', 'soma', 'soma', 'soma', 'soma', 'soma', 'soma', 'soma', 'soma', 'soma', 'soma', 'soma', 'soma', 'soma', 'soma', 'soma', 'soma', 'soma', 'soma', 'soma', 'soma', 'soma', 'soma', 'soma', 'soma', 'soma', 'soma', 'soma', 'soma', 'soma', 'soma', 'soma', 'soma', 'soma', 'soma', 'soma', 'soma', 'soma', 'soma', 'soma', 'soma', 'soma', 'soma', 'soma', 'soma', 'soma', 'soma', 'soma', 'soma', 'soma', 'soma', 'soma', 'soma', 'soma', 'soma', 'soma', 'soma', 'soma', 'soma', 'soma', 'soma', 'soma', 'soma', 'soma', 'soma', 'soma', 'soma', 'soma', 'soma', 'soma', 'soma', 'soma', 'soma', 'soma', 'soma', 'soma', 'soma', 'soma', 'soma', 'soma', 'soma', 'soma', 'soma', 'soma', 'soma', 'soma', 'soma', 'soma', 'soma', 'soma', 'soma', 'soma', 'soma', 'soma', 'soma', 'soma', 'soma', 'soma', 'soma', 'soma', 'soma', 'soma', 'soma', 'soma', 'soma', 'soma', 'soma', 'soma', 'soma', 'soma', 'soma', 'soma', 'soma', 'soma', 'soma', 'soma', 'soma', 'soma', 'soma', 'soma', 'soma', 'soma', 'soma', 'soma', 'soma', 'soma', 'soma', 'soma', 'soma', 'soma', 'soma', 'soma', 'soma', 'soma', 'soma', 'soma', 'soma', 'soma', 'soma', 'soma', 'soma', 'soma', 'soma', 'soma', 'soma', 'soma', 'soma', 'soma', 'soma', 'soma', 'soma', 'soma', 'soma']\n"
          ]
        }
      ]
    },
    {
      "cell_type": "code",
      "source": [
        "print(DSynType)\n",
        "print(SourcePop)"
      ],
      "metadata": {
        "id": "nTMGemWFkwlI"
      },
      "execution_count": null,
      "outputs": []
    },
    {
      "cell_type": "code",
      "source": [
        "#creating lists outside of HOC for ease of use\n",
        "P_0_list = []\n",
        "for i in range(len(SynX)): # convert to for in syntype array #Convert syntype list: from 0 to inh; from 1 to exc\n",
        "  P_0_list.append(1)\n",
        "  # if i > 9999:\n",
        "  #   SourcePop.append('dist_inh_stim')\n",
        "  # else:\n",
        "  #      SourcePop.append('exc_stim')\n",
        "\n",
        "print(len(P_0_list))\n",
        "print(len(gmax_list))"
      ],
      "metadata": {
        "id": "esA8H52z5i_7"
      },
      "execution_count": null,
      "outputs": []
    },
    {
      "cell_type": "code",
      "source": [
        "AllSegSecName = []\n",
        "for n in range(nseg):\n",
        "      AllSegSecName.append('TTC[0].'+ str(AllSegType[n]) + '[' + str(AllSegSection[n]) + ']') #change L5PCtemplate[0]"
      ],
      "metadata": {
        "id": "dxSeNAlxGi2U"
      },
      "execution_count": null,
      "outputs": []
    },
    {
      "cell_type": "code",
      "source": [
        "NsynE=10000\n",
        "NsynI = 2500\n",
        "SynName = []\n",
        "\n",
        "for i in range(len(NsynE+NsynI)):\n",
        "\n",
        "  SynName.append('L5PCtemplate[0].'+ str(SynType[i]) +'[' + str(synapse_sec_list[i]) + '](' + str(SynX[i]) + ')')"
      ],
      "metadata": {
        "id": "I_5aGQI0Ek4v"
      },
      "execution_count": null,
      "outputs": []
    },
    {
      "cell_type": "code",
      "source": [
        "#Name"
      ],
      "metadata": {
        "id": "MTn0DtBpJv7m"
      },
      "execution_count": null,
      "outputs": []
    },
    {
      "cell_type": "code",
      "source": [
        "# MAKE SURE TO CHECK LENGTH OF SEGMENT SectionID's against another segment property (should be 642 segments)"
      ],
      "metadata": {
        "id": "GO0EIY8GJ0NY"
      },
      "execution_count": null,
      "outputs": []
    },
    {
      "cell_type": "code",
      "source": [
        "#convert segtype from 0 to soma, 1 to basal, 2 to apical, 3 to axonal"
      ],
      "metadata": {
        "id": "L_8DYu-VVKux"
      },
      "execution_count": null,
      "outputs": []
    },
    {
      "cell_type": "code",
      "source": [
        "#Segments.csv\n",
        "\n",
        "try:\n",
        "  os.remove(\"HOCL5DetailedSegments.csv\")\n",
        "except:\n",
        "  x = 1\n",
        "\n",
        "# BMTK ID: segment ID\n",
        "# X: Normalized distance of segment along parent section \n",
        "# Type: apic, basal, soma \n",
        "# Sec ID: section ID of segment's parent section\n",
        "# Distance: path distance of segment from soma\n",
        "# Coord X/Y/Z: 3D coordinates \n",
        "# Elec_distance: Elcectrotonic distance\n",
        "\n",
        "#segments_data = {'BMTK ID':[segID],'X':[SegX],'Type':[AllSegType],'Sec ID':[AllSegSection],'Distance':[AllSegDist],'Coord X':[AllSegXCoord],'Coord Y':[AllSegYCoord],'Coord Z':[AllSegZCoord],'Elec_distance':[AllSegElecDist]}\n",
        "#segments = pd.DataFrame(segments_data, columns = ['BMTK ID','X','Type','Sec ID','Distance','Coord X','Coord Y','Coord Z','Elec_distance'])\n",
        "\n",
        "\n",
        "segments = pd.DataFrame({'BMTK ID':segID,'X':SegX,'Type':AllSegType,'Sec ID':AllSegSection,'Distance':AllSegDist,'Coord X':AllSegXCoord,'Coord Y':AllSegYCoord,'Coord Z':AllSegZCoord,'Elec_distance':AllSegElecDist})\n",
        "\n",
        "segments.to_csv('HOCL5DetailedSegments.csv', index = False)"
      ],
      "metadata": {
        "id": "y8ugT2L0thft"
      },
      "execution_count": null,
      "outputs": []
    },
    {
      "cell_type": "code",
      "source": [
        "Degrees = [0] * (nseg-1)"
      ],
      "metadata": {
        "id": "qY4tikEU9G8g"
      },
      "execution_count": null,
      "outputs": []
    },
    {
      "cell_type": "code",
      "source": [
        "#SegmentsDegrees\n",
        "\n",
        "try:\n",
        "  os.remove(\"HOCDetailedSegmentsDegrees.csv\")\n",
        "except:\n",
        "  x = 1\n",
        "\n",
        "#segmentsDegrees_data = {'SectionName':[AllSegSecName],'BMTK ID':[segID],'X':[SegX],'Type':[AllSegType],'Sec ID':[AllSegSection],'Distance':[AllSegDist],'Coord X':[AllSegXCoord],'Coord Y':[AllSegYCoord],'Coord Z':[AllSegZCoord],'Degrees':[Degrees]}\n",
        "#segmentsDegrees = pd.DataFrame(segmentsDegrees_data, columns = ['SectionName','BMTK ID','X','Type','Sec ID','Distance','Coord X','Coord Y','Coord Z','Degrees'])\n",
        "\n",
        "# print(len(AllSegSecName))\n",
        "# print(len(segID))\n",
        "# print(len(SegX))\n",
        "# print(len(AllSegType))\n",
        "# print(len(AllSegDist))\n",
        "# print(len(AllSegXCoord))\n",
        "# print(len(AllSegYCoord))\n",
        "# print(len(AllSegZCoord))\n",
        "# print(len(Degrees))\n",
        "\n",
        "\n",
        "segmentsDegrees = pd.DataFrame({'SectionName': AllSegSecName,'BMTK ID': segID ,'X': SegX ,'Type': AllSegType ,'Sec ID': AllSegSection ,'Distance': AllSegDist ,'Coord X': AllSegXCoord ,'Coord Y': AllSegYCoord,'Coord Z': AllSegZCoord,'Degrees': Degrees})\n",
        "\n",
        "segmentsDegrees.to_csv('HOCDetailedSegmentsDegrees.csv', index = False)"
      ],
      "metadata": {
        "id": "gULw9UC89Az-"
      },
      "execution_count": null,
      "outputs": []
    },
    {
      "cell_type": "code",
      "source": [
        "#Connections.csv\n",
        "\n",
        "\n",
        "try:\n",
        "  os.remove(\"HOCDetailedConnections.csv\")\n",
        "except:\n",
        "  x = 1\n",
        "\n",
        "# Node ID: Segment ID of synapse's parent segment\n",
        "# Distance: Path distance from soma (using same dist as parent segment)\n",
        "# Conductance: G_max of syn\n",
        "# Type: apic, basal, soma\n",
        "# Name: L5PCtemplate[0].(Type)[(Sec ID)]((Normalized distance along section))\n",
        "# Source Population: exititory or inhibitory\n",
        "# Release Probability: Release porbablity at time 0 \n",
        "\n",
        "# connections_data = {'Node ID':[SynParentSeg],'Distance':[SynDist],'Conductance':[gmax_list],'Type':[SynType],'Name':[SynName],'Source Population':[SourcePop],'Release Probability':[P_0_list]}\n",
        "\n",
        "# # Create the pandas DataFrame with column name is provided explicitly\n",
        "# connections = pd.DataFrame(connections_data , columns=['Node ID','Distance','Conductance','Type','Name','Source Population','Release Probability'])\n",
        "\n",
        "connections = pd.DataFrame({'Node ID':SynParentSeg,'Distance':SynDist,'Conductance':gmax_list,'Type':SynType,'Name':SynName,'Source Population':SourcePop,'Release Probability':P_0_list})\n",
        "\n",
        "connections.to_csv('HOCDetailedConnections.csv', index = False)\n"
      ],
      "metadata": {
        "id": "trpl70Fk9fnn"
      },
      "execution_count": null,
      "outputs": []
    },
    {
      "cell_type": "markdown",
      "source": [
        "#Try Plotting"
      ],
      "metadata": {
        "id": "3IKOPPZWy-NI"
      }
    },
    {
      "cell_type": "code",
      "source": [
        "import matplotlib.pyplot as plt\n",
        "%matplotlib inline\n",
        "\n",
        "plt.figure(figsize=(4,10))\n",
        "ax = plt.scatter(AllSegXCoord, AllSegYCoord, c = np.log(AllSegElecDist) )\n",
        "plt.vlines(110,300,400)\n",
        "plt.text(0,350,'100 um')\n",
        "plt.hlines(300,110,210)\n",
        "plt.text(110,250,'100 um')\n",
        "plt.xticks([])\n",
        "plt.yticks([])\n",
        "cbar = plt.colorbar()\n",
        "cbar.ax.set_ylabel('log(elec_distance)', rotation=270)\n",
        "\n",
        "plt.box(False)\n",
        "plt.savefig('Elec_distance.svg')"
      ],
      "metadata": {
        "id": "n-flyEhmzHju"
      },
      "execution_count": null,
      "outputs": []
    },
    {
      "cell_type": "markdown",
      "source": [
        "Need to get excitatory syn per seg for the following graph"
      ],
      "metadata": {
        "id": "ozY0v7tZ2Vpt"
      }
    },
    {
      "cell_type": "code",
      "source": [
        "# plt.figure(figsize=(4,10))\n",
        "# ax = plt.scatter(DAllSegXCoord, DAllSegYCoord,c = DexcSynPerSeg[0:641],cmap='jet',)\n",
        "# plt.vlines(110,400,500)\n",
        "# plt.text(0,450,'100 um')\n",
        "# plt.hlines(400,110,210)\n",
        "# plt.text(110,350,'100 um')\n",
        "# plt.xticks([])\n",
        "# plt.yticks([])\n",
        "# cbar = plt.colorbar()\n",
        "# cbar.ax.set_ylabel('Synapses per segment', rotation=270)\n",
        "\n",
        "# plt.box(False)\n",
        "# plt.savefig('exc_syns.svg')"
      ],
      "metadata": {
        "id": "fiq6EJe0zKyw"
      },
      "execution_count": null,
      "outputs": []
    },
    {
      "cell_type": "code",
      "source": [
        "plt.figure(figsize=(3,10))\n",
        "ax = plt.plot(DAllSegXCoord, DAllSegYCoord,'.',color='k',markersize=6)\n",
        "plt.vlines(110,400,500)\n",
        "plt.text(0,450,'100 um')\n",
        "plt.hlines(400,110,210)\n",
        "plt.text(110,350,'100 um')\n",
        "plt.xticks([])\n",
        "plt.yticks([])\n",
        "plt.box(False)\n",
        "\n",
        "#need to adjust these\n",
        "soma_probe = 0\n",
        "nexus_seg = 380\n",
        "axon_seg = 640\n",
        "dist_tuft_seg = 552\n",
        "dist_basal_seg = 221\n",
        "oblique_seg = 330\n",
        "\n",
        "plt.plot(DAllSegXCoord[soma_probe], \n",
        "         DAllSegYCoord[soma_probe],\n",
        "         '*',color='grey')\n",
        "plt.plot(DAllSegXCoord[nexus_seg], \n",
        "         DAllSegYCoord[nexus_seg],\n",
        "         'r*')\n",
        "plt.plot(DAllSegXCoord[axon_seg], \n",
        "         DAllSegYCoord[axon_seg],\n",
        "         'b*')\n",
        "plt.plot(DAllSegXCoord[dist_tuft_seg], \n",
        "         DAllSegYCoord[dist_tuft_seg],\n",
        "         'm*')\n",
        "plt.plot(DAllSegXCoord[dist_basal_seg], \n",
        "         DAllSegYCoord[dist_basal_seg],\n",
        "         'g*')\n",
        "plt.plot(DAllSegXCoord[oblique_seg], \n",
        "         DAllSegYCoord[oblique_seg],\n",
        "         '*',color='orange')\n",
        "\n",
        "#plt.savefig('fig1A.svg')"
      ],
      "metadata": {
        "id": "dYgqG_b0zQ39"
      },
      "execution_count": null,
      "outputs": []
    },
    {
      "cell_type": "code",
      "source": [
        "tstop=1500/.25 # timearound*2 / dt \n",
        "tstop=tstop-.1"
      ],
      "metadata": {
        "id": "vmopsyPG1xw8"
      },
      "execution_count": null,
      "outputs": []
    },
    {
      "cell_type": "code",
      "source": [
        "plt.figure(figsize=(15,4))\n",
        "plt.plot(np.arange(0,((tstop)+.1),.1),Dvolt_data[soma_probe],color='grey')\n",
        "plt.hlines(-65,0,1000, color = 'grey', linestyle = 'dashed')\n",
        "plt.hlines(-40,0,1000, color = 'grey', linestyle = 'dashed')\n",
        "plt.hlines(-10,50,70)\n",
        "plt.vlines(50,-10,0)\n",
        "plt.text(50,-15,'10 ms')\n",
        "plt.text(2,-5,'10 mV')\n",
        "plt.text(2,-37,'-40 mV')\n",
        "plt.text(2,-62,'-65 mV')\n",
        "plt.title('Soma Voltage')\n",
        "plt.box(False)\n",
        "plt.xticks([])\n",
        "plt.yticks([])"
      ],
      "metadata": {
        "id": "FUmSJA9h006S"
      },
      "execution_count": null,
      "outputs": []
    },
    {
      "cell_type": "code",
      "source": [
        "plt.figure(figsize=(15,4))\n",
        "plt.plot(np.arange(0,((tstop)+.1),.1),Dvolt_data[nexus_seg],color='r')\n",
        "plt.hlines(-65,0,1000, color = 'grey', linestyle = 'dashed')\n",
        "plt.hlines(-40,0,1000, color = 'grey', linestyle = 'dashed')\n",
        "plt.hlines(-10,50,70)\n",
        "plt.vlines(50,-10,0)\n",
        "plt.text(50,-15,'10 ms')\n",
        "plt.text(2,-5,'10 mV')\n",
        "plt.text(2,-37,'-40 mV')\n",
        "plt.text(2,-62,'-65 mV')\n",
        "plt.title('Nexus Voltage')\n",
        "plt.box(False)\n",
        "plt.xticks([])\n",
        "plt.yticks([])"
      ],
      "metadata": {
        "id": "7m-n-foh06jX"
      },
      "execution_count": null,
      "outputs": []
    },
    {
      "cell_type": "code",
      "source": [
        "plt.figure(figsize=(15,4))\n",
        "plt.plot(np.arange(0,((tstop)+.1),.1),Dvolt_data[axon_seg],color='b')\n",
        "plt.hlines(-65,0,1000, color = 'grey', linestyle = 'dashed')\n",
        "plt.hlines(-40,0,1000, color = 'grey', linestyle = 'dashed')\n",
        "plt.hlines(-10,50,70)\n",
        "plt.vlines(50,-10,0)\n",
        "plt.text(50,-15,'10 ms')\n",
        "plt.text(2,-5,'10 mV')\n",
        "plt.text(2,-37,'-40 mV')\n",
        "plt.text(2,-62,'-65 mV')\n",
        "plt.title('Axon Voltage')\n",
        "plt.box(False)\n",
        "plt.xticks([])\n",
        "plt.yticks([])"
      ],
      "metadata": {
        "id": "Q50sESc308X7"
      },
      "execution_count": null,
      "outputs": []
    },
    {
      "cell_type": "code",
      "source": [
        "plt.figure(figsize=(15,4))\n",
        "plt.plot(np.arange(0,((tstop)+.1),.1),Dvolt_data[dist_tuft_seg],color='m')\n",
        "plt.hlines(-65,0,1000, color = 'grey', linestyle = 'dashed')\n",
        "plt.hlines(-40,0,1000, color = 'grey', linestyle = 'dashed')\n",
        "plt.hlines(-10,50,70)\n",
        "plt.vlines(50,-10,0)\n",
        "plt.text(50,-15,'10 ms')\n",
        "plt.text(2,-5,'10 mV')\n",
        "plt.text(2,-37,'-40 mV')\n",
        "plt.text(2,-62,'-65 mV')\n",
        "plt.title('Tuft Dendrite Voltage')\n",
        "plt.box(False)\n",
        "plt.xticks([])\n",
        "plt.yticks([])"
      ],
      "metadata": {
        "id": "8Z2M9H520-EK"
      },
      "execution_count": null,
      "outputs": []
    },
    {
      "cell_type": "code",
      "source": [
        "plt.figure(figsize=(15,4))\n",
        "plt.plot(np.arange(0,((tstop)+.1),.1),Dvolt_data[dist_basal_seg],color='g')\n",
        "plt.hlines(-65,0,1000, color = 'grey', linestyle = 'dashed')\n",
        "plt.hlines(-40,0,1000, color = 'grey', linestyle = 'dashed')\n",
        "plt.hlines(-10,50,70)\n",
        "plt.vlines(50,-10,0)\n",
        "plt.text(50,-15,'10 ms')\n",
        "plt.text(2,-5,'10 mV')\n",
        "plt.text(2,-37,'-40 mV')\n",
        "plt.text(2,-62,'-65 mV')\n",
        "plt.title('Basal Dendrite Voltage')\n",
        "plt.box(False)\n",
        "plt.xticks([])\n",
        "plt.yticks([])"
      ],
      "metadata": {
        "id": "r5smSFdp1AKq"
      },
      "execution_count": null,
      "outputs": []
    },
    {
      "cell_type": "code",
      "source": [
        "plt.figure(figsize=(15,4))\n",
        "plt.plot(np.arange(0,((tstop)+.1),.1),Dvolt_data[oblique_seg],color='orange')\n",
        "plt.hlines(-65,0,1000, color = 'grey', linestyle = 'dashed')\n",
        "plt.hlines(-40,0,1000, color = 'grey', linestyle = 'dashed')\n",
        "plt.hlines(-10,50,70)\n",
        "plt.vlines(50,-10,0)\n",
        "plt.text(50,-15,'10 ms')\n",
        "plt.text(2,-5,'10 mV')\n",
        "plt.text(2,-37,'-40 mV')\n",
        "plt.text(2,-62,'-65 mV')\n",
        "plt.title('Oblique Dendrite Voltage')\n",
        "plt.box(False)\n",
        "plt.xticks([])\n",
        "plt.yticks([])"
      ],
      "metadata": {
        "id": "2cNJ8HOu1C4j"
      },
      "execution_count": null,
      "outputs": []
    },
    {
      "cell_type": "markdown",
      "source": [
        "#T undefined\n",
        "#Vrecord undefined"
      ],
      "metadata": {
        "id": "fMK7B2NY7ZJ4"
      }
    },
    {
      "cell_type": "code",
      "source": [
        "# import matplotlib.pyplot as plt\n",
        "# %matplotlib inline\n",
        "\n",
        "\n",
        "\n",
        "# # Ca LVA current \n",
        "\n",
        "# plt.figure(figsize=(20,14))\n",
        "# for i in range(Dica_LVAst_data.shape[0]):\n",
        "#     plt.plot(t,Dica_LVAst_data[i,:])\n",
        "#     plt.title(Vrecord[i], loc='center')\n",
        "#     plt.ylabel('ica_LVAst')\n",
        "#     plt.xlabel('ms')\n",
        "# plt.show()"
      ],
      "metadata": {
        "id": "Wl8gtrbc1G6s"
      },
      "execution_count": null,
      "outputs": []
    },
    {
      "cell_type": "code",
      "source": [
        "# import matplotlib.pyplot as plt\n",
        "# %matplotlib inline\n",
        "\n",
        "\n",
        "# # CA HVA current\n",
        "\n",
        "# plt.figure(figsize=(20,14))\n",
        "# for i in range(Dica_HVA_data.shape[0]):\n",
        "#     plt.plot(t,Dica_HVA_data[i,:])\n",
        "#     plt.title(Vrecord[i], loc='center')\n",
        "#     plt.ylabel('ica_HVA')\n",
        "#     plt.xlabel('ms')\n",
        "#     plt.title('Detailed model iCa_HVA')\n",
        "# plt.show()"
      ],
      "metadata": {
        "id": "-6MwDxSC1KeK"
      },
      "execution_count": null,
      "outputs": []
    },
    {
      "cell_type": "code",
      "source": [
        "# import matplotlib.pyplot as plt\n",
        "# %matplotlib inline\n",
        "\n",
        "\n",
        "# # h current\n",
        "\n",
        "# plt.figure(figsize=(20,14))\n",
        "# for i in range(Dih_data.shape[0]):\n",
        "#     plt.plot(t,Dih_data[i,:])\n",
        "#     plt.title(Vrecord[i], loc='center')\n",
        "#     plt.ylabel('Ih')\n",
        "#     plt.xlabel('ms')\n",
        "#     plt.title('ih')\n",
        "# plt.show()"
      ],
      "metadata": {
        "id": "Rdk9aykq1MBu"
      },
      "execution_count": null,
      "outputs": []
    },
    {
      "cell_type": "code",
      "source": [
        "# sec = []\n",
        "# for i in range(nseg-1):\n",
        "#   if AllSegSection[i] >= 11 :\n",
        "#     sec.append(i)\n",
        "\n",
        "# print(len(sec))\n",
        "\n",
        "\n",
        "\n",
        "# plt.figure(figsize=(20,14))\n",
        "# for i in sec:\n",
        "#     plt.plot(t,gNaTa_T_data[i,:])\n",
        "#     plt.title(gNaTa_T, loc='center')\n",
        "#     plt.ylabel('gNaTa_T')\n",
        "#     plt.xlabel('ms')\n",
        "#     plt.title('gNaTa_T')\n",
        "# plt.show()"
      ],
      "metadata": {
        "id": "LTlFctgj1N2R"
      },
      "execution_count": null,
      "outputs": []
    },
    {
      "cell_type": "code",
      "source": [
        "# import matplotlib.pyplot as plt\n",
        "# %matplotlib inline\n",
        "\n",
        "\n",
        "# #NMDA current \n",
        "\n",
        "# plt.figure(figsize=(20,14))\n",
        "# for i in range(len(i_NMDA_bySeg)):\n",
        "#     plt.plot(t,i_NMDA_bySeg[i])\n",
        "#     plt.title(Vrecord[i], loc='center')\n",
        "#     plt.ylabel('i_NMDA')\n",
        "#     plt.xlabel('ms')\n",
        "#     plt.title('i_NMDA in every segment')\n",
        "# plt.show()"
      ],
      "metadata": {
        "id": "Q4okaBTH1Piz"
      },
      "execution_count": null,
      "outputs": []
    },
    {
      "cell_type": "code",
      "source": [
        "\n",
        "\n",
        "\n",
        "# #NMDA current \n",
        "\n",
        "# plt.figure(figsize=(20,14))\n",
        "# for i in range(len(v_dend)):\n",
        "#     plt.plot(t,v_dend[i])\n",
        "#     plt.title(Vrecord[i], loc='center')\n",
        "#     plt.ylabel('v dend ')\n",
        "#     plt.xlabel('ms')\n",
        "#     plt.title('NMDA current')\n",
        "# plt.show()"
      ],
      "metadata": {
        "id": "Fpo97jDC1ROc"
      },
      "execution_count": null,
      "outputs": []
    }
  ],
  "metadata": {
    "colab": {
      "collapsed_sections": [],
      "name": "Copy of HOC Detailed model.ipynb",
      "provenance": [],
      "authorship_tag": "ABX9TyOmzQl2kUsLzURtdCyX6C3x",
      "include_colab_link": true
    },
    "kernelspec": {
      "display_name": "Python 3",
      "name": "python3"
    },
    "language_info": {
      "name": "python"
    }
  },
  "nbformat": 4,
  "nbformat_minor": 0
}