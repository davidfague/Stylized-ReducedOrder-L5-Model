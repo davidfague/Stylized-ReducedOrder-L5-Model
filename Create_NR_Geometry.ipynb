{
  "nbformat": 4,
  "nbformat_minor": 0,
  "metadata": {
    "colab": {
      "provenance": [],
      "authorship_tag": "ABX9TyP4Kp2zooKO/PqqYjr2NE05",
      "include_colab_link": true
    },
    "kernelspec": {
      "name": "python3",
      "display_name": "Python 3"
    },
    "language_info": {
      "name": "python"
    }
  },
  "cells": [
    {
      "cell_type": "markdown",
      "metadata": {
        "id": "view-in-github",
        "colab_type": "text"
      },
      "source": [
        "<a href=\"https://colab.research.google.com/github/davidfague/Stylized-ReducedOrder-L5-Model/blob/main/Create_NR_Geometry.ipynb\" target=\"_parent\"><img src=\"https://colab.research.google.com/assets/colab-badge.svg\" alt=\"Open In Colab\"/></a>"
      ]
    },
    {
      "cell_type": "markdown",
      "source": [
        "# Quick Start\n",
        "## The following code shows the main function that is used to reduce a complex cell.\n",
        "\n",
        "complex_cell  # The model cell\n",
        "\n",
        "synapses_list # A list of all synapse on this cell\n",
        "\n",
        "netcon_list   # A list of all netcons for the synapses on the cell\n",
        "\n",
        "import neuron_reduce\n",
        "\n",
        "reduced_cell, synapses_list, netcons_list =  neuron_reduce.subtree_reductor(complex_cell, synapses_list, netcons_list)"
      ],
      "metadata": {
        "id": "IDTyDy5FaQTn"
      }
    },
    {
      "cell_type": "markdown",
      "source": [
        "# Detailed Example\n",
        "## Example copied from github"
      ],
      "metadata": {
        "id": "lZ82bG9gayLw"
      }
    },
    {
      "cell_type": "code",
      "source": [
        "!pip install neuron"
      ],
      "metadata": {
        "colab": {
          "base_uri": "https://localhost:8080/"
        },
        "id": "b8QAPXTrcKUO",
        "outputId": "f0a20d0d-185e-4ac5-ca7a-472d41886907"
      },
      "execution_count": 1,
      "outputs": [
        {
          "output_type": "stream",
          "name": "stdout",
          "text": [
            "Looking in indexes: https://pypi.org/simple, https://us-python.pkg.dev/colab-wheels/public/simple/\n",
            "Requirement already satisfied: neuron in /usr/local/lib/python3.9/dist-packages (8.2.2)\n",
            "Requirement already satisfied: numpy>=1.9.3 in /usr/local/lib/python3.9/dist-packages (from neuron) (1.22.4)\n"
          ]
        }
      ]
    },
    {
      "cell_type": "code",
      "source": [
        "!pip install neuron_reduce"
      ],
      "metadata": {
        "colab": {
          "base_uri": "https://localhost:8080/"
        },
        "id": "37g4VleafuDM",
        "outputId": "672ac055-49bd-4710-bed7-e37b38985a6d"
      },
      "execution_count": 2,
      "outputs": [
        {
          "output_type": "stream",
          "name": "stdout",
          "text": [
            "Looking in indexes: https://pypi.org/simple, https://us-python.pkg.dev/colab-wheels/public/simple/\n",
            "Requirement already satisfied: neuron_reduce in /usr/local/lib/python3.9/dist-packages (0.0.7)\n"
          ]
        }
      ]
    },
    {
      "cell_type": "code",
      "source": [
        "!git clone https://github.com/orena1/neuron_reduce.git"
      ],
      "metadata": {
        "colab": {
          "base_uri": "https://localhost:8080/"
        },
        "id": "X9fdloqtbKqg",
        "outputId": "e3282ac0-677b-4042-9558-232061a1e451"
      },
      "execution_count": 1,
      "outputs": [
        {
          "output_type": "stream",
          "name": "stdout",
          "text": [
            "Cloning into 'neuron_reduce'...\n",
            "remote: Enumerating objects: 426, done.\u001b[K\n",
            "remote: Counting objects: 100% (13/13), done.\u001b[K\n",
            "remote: Compressing objects: 100% (13/13), done.\u001b[K\n",
            "remote: Total 426 (delta 4), reused 1 (delta 0), pack-reused 413\u001b[K\n",
            "Receiving objects: 100% (426/426), 12.55 MiB | 10.70 MiB/s, done.\n",
            "Resolving deltas: 100% (177/177), done.\n"
          ]
        }
      ]
    },
    {
      "cell_type": "code",
      "source": [
        "# Go to example folder\n",
        "%cd neuron_reduce \n",
        "%cd example\n",
        "# compile the mod files\n",
        "!nrnivmodl mod"
      ],
      "metadata": {
        "colab": {
          "base_uri": "https://localhost:8080/"
        },
        "id": "1_cpnQEPbRRu",
        "outputId": "807a9ffa-57ec-4b58-fac1-5231de4d011b"
      },
      "execution_count": 4,
      "outputs": [
        {
          "output_type": "stream",
          "name": "stdout",
          "text": [
            "/content/neuron_reduce\n",
            "/content/neuron_reduce/example\n",
            "/content/neuron_reduce/example\n",
            "Mod files: \"mod/mod/CaDynamics_E2.mod\" \"mod/mod/Ca_HVA.mod\" \"mod/mod/Ca_LVAst.mod\" \"mod/mod/epsp.mod\" \"mod/mod/Ih.mod\" \"mod/mod/Im.mod\" \"mod/mod/K_Pst.mod\" \"mod/mod/K_Tst.mod\" \"mod/mod/Nap_Et2.mod\" \"mod/mod/NaTa_t.mod\" \"mod/mod/NaTs2_t.mod\" \"mod/mod/SK_E2.mod\" \"mod/mod/SKv3_1.mod\"\n",
            "\n",
            " -> \u001b[32mCompiling\u001b[0m mod_func.cpp\n",
            " => \u001b[32mLINKING\u001b[0m shared library ./libnrnmech.so\n",
            "Successfully created x86_64/special\n"
          ]
        }
      ]
    },
    {
      "cell_type": "markdown",
      "source": [
        "##Functions in this notebook"
      ],
      "metadata": {
        "id": "qZiABEwOLkq7"
      }
    },
    {
      "cell_type": "code",
      "source": [
        "import pandas as pd\n",
        "def generate_stylized_geometry(cell,savename):\n",
        "  df = pd.DataFrame()\n",
        "  ids=[]\n",
        "  names=[]\n",
        "  types=[]\n",
        "  pids=[]\n",
        "  axials=[]\n",
        "  nbranchs=[]\n",
        "  Ls=[]\n",
        "  Rs=[]\n",
        "  angs=[]\n",
        "\n",
        "  id=0\n",
        "  for sec in cell.all:\n",
        "    # print(dir(sec))\n",
        "    name=sec.name()\n",
        "    names.append(name)\n",
        "    ids.append(names.index(name))\n",
        "    _,sec_type_withinteger=name.split('.')\n",
        "    sec_type,_=sec_type_withinteger.split('[')\n",
        "    types.append(sec_type)\n",
        "    pseg = sec.parentseg()\n",
        "    if pseg == None:\n",
        "      pids.append(None)\n",
        "    else:\n",
        "      psec=pseg.sec\n",
        "      pids.append(names.index(psec.name()))\n",
        "    axials.append('TRUE')\n",
        "    nbranchs.append(1)\n",
        "    Ls.append(sec.L)\n",
        "    # print(dir(sec))\n",
        "    Rs.append(sec.diam/2) # may need to compute single radius for each section\n",
        "    if sec_type == \"apic\":\n",
        "      ang=np.random.normal(scale=0.1,loc=1.570796327)\n",
        "    elif sec_type==\"dend\":\n",
        "      ang=np.random.uniform(low=0,high=-np.pi)\n",
        "    else:\n",
        "      ang=0\n",
        "    angs.append(ang)\n",
        "\n",
        "  # print(len(ids))\n",
        "  # print(len(names))\n",
        "  # print(len(types))\n",
        "  # print(len(pids))\n",
        "  # print(len(axials))\n",
        "  # print(len(nbranchs))\n",
        "  # print(len(Ls))\n",
        "  # print(len(Rs))\n",
        "  # print(angs)\n",
        "  df[\"id\"] = ids\n",
        "  df[\"name\"] = names\n",
        "  df[\"pid\"] = pids\n",
        "  df[\"axial\"] = axials\n",
        "  df[\"type\"] = types\n",
        "  df[\"nbranch\"] = nbranchs\n",
        "  df[\"L\"] = Ls\n",
        "  df[\"R\"] = Rs\n",
        "  df[\"ang\"] = angs\n",
        "  df.to_csv(savename)"
      ],
      "metadata": {
        "id": "wUancoc-LoMe"
      },
      "execution_count": 5,
      "outputs": []
    },
    {
      "cell_type": "code",
      "source": [
        "def returnSegmentValues(section):\n",
        "    ##\n",
        "    \n",
        "    #Section naming\n",
        "    #Set impedance measurement location and frequency\n",
        "    name=section.name()\n",
        "    # Get section 3d coordinates and put in numpy array\n",
        "    n3d = section.n3d()\n",
        "    x3d = np.empty(n3d)\n",
        "    y3d = np.empty(n3d)\n",
        "    z3d = np.empty(n3d)\n",
        "    L = np.empty(n3d)\n",
        "    for i in range(n3d):\n",
        "        x3d[i]=section.x3d(i)\n",
        "        y3d[i]=section.y3d(i)\n",
        "        z3d[i]=section.z3d(i)\n",
        "\n",
        "    # Compute length of each 3d segment\n",
        "    for i in range(n3d):\n",
        "        if i==0:\n",
        "            L[i]=0\n",
        "        else:\n",
        "            L[i]=np.sqrt((x3d[i]-x3d[i-1])**2 + (y3d[i]-y3d[i-1])**2 + (z3d[i]-z3d[i-1])**2)\n",
        "\n",
        "    # Get cumulative length of 3d segments\n",
        "    cumLength = np.cumsum(L)\n",
        "    N = section.nseg\n",
        "    # Now upsample coordinates to segment locations\n",
        "    xCoord = np.empty(N)\n",
        "    yCoord = np.empty(N)\n",
        "    zCoord = np.empty(N)\n",
        "\n",
        "\n",
        "    if N > 1:\n",
        "      dx = section.L / (N-1)\n",
        "    else:\n",
        "      dx = section.L\n",
        "\n",
        "    #print(str(section))\n",
        "    if \"axon\" in name:\n",
        "      xCoord=[np.NaN]\n",
        "      yCoord=[np.NaN]\n",
        "      zCoord=[np.NaN]\n",
        "    else:\n",
        "      for n in range(N):\n",
        "\n",
        "        if n==(N-1):\n",
        "            xCoord[n]=x3d[-1]\n",
        "            yCoord[n]=y3d[-1]\n",
        "            zCoord[n]=z3d[-1]\n",
        "        else:\n",
        "            cIdxStart = np.where(n*dx >= cumLength)[0][-1] # which idx of 3d segments are we starting at\n",
        "            cDistFrom3dStart = n*dx - cumLength[cIdxStart] # how far along that segment is this upsampled coordinate\n",
        "            cFraction3dLength = cDistFrom3dStart / L[cIdxStart+1] # what's the fractional distance along this 3d segment\n",
        "            # compute x and y positions\n",
        "            xCoord[n] = x3d[cIdxStart] + cFraction3dLength*(x3d[cIdxStart+1] - x3d[cIdxStart])\n",
        "            yCoord[n] = y3d[cIdxStart] + cFraction3dLength*(y3d[cIdxStart+1] - y3d[cIdxStart])\n",
        "            zCoord[n] = z3d[cIdxStart] + cFraction3dLength*(z3d[cIdxStart+1] - z3d[cIdxStart])\n",
        "              \n",
        "    return xCoord, yCoord, zCoord"
      ],
      "metadata": {
        "id": "Nc9rAs6JLwVn"
      },
      "execution_count": 6,
      "outputs": []
    },
    {
      "cell_type": "code",
      "source": [
        "def measure_input_impedance_of_subtree(subtree_root_section, frequency):\n",
        "    '''measures the input impedance of the subtree with the given root section\n",
        "    (at the \"0\" tip, the soma-proximal end),\n",
        "    returns the Impedance hoc object and the input impedance as a complex value\n",
        "    '''\n",
        "\n",
        "    imp_obj = h.Impedance()\n",
        "    CLOSE_TO_SOMA_EDGE = 0\n",
        "    # sets origin for impedance calculations (soma-proximal end of root section)\n",
        "    imp_obj.loc(CLOSE_TO_SOMA_EDGE, sec=subtree_root_section)\n",
        "\n",
        "    # computes transfer impedance from every segment in the model in relation\n",
        "    # to the origin location above\n",
        "    imp_obj.compute(frequency + 1 / 9e9, 0)\n",
        "\n",
        "    # in Ohms (impedance measured at soma-proximal end of root section)\n",
        "    root_input_impedance = imp_obj.input(CLOSE_TO_SOMA_EDGE, sec=subtree_root_section) * 1000000\n",
        "    root_input_phase = imp_obj.input_phase(CLOSE_TO_SOMA_EDGE, sec=subtree_root_section)\n",
        "    # creates a complex impedance value out of the given polar coordinates\n",
        "    root_input_impedance = cmath.rect(root_input_impedance, root_input_phase)\n",
        "    return imp_obj, root_input_impedance"
      ],
      "metadata": {
        "id": "DeBPONGyZSmG"
      },
      "execution_count": 7,
      "outputs": []
    },
    {
      "cell_type": "code",
      "source": [
        "def make_seg_df(cell,savename=\"Segments.csv\"):\n",
        "    frequency=0\n",
        "    # seg_locs = cell.morphology.seg_coords['p05']\n",
        "    # px = seg_locs[0]\n",
        "    # py = seg_locs[1]\n",
        "    # pz = seg_locs[2]\n",
        "    df = pd.DataFrame()\n",
        "    k = 0\n",
        "    j = 0\n",
        "    lens = []\n",
        "    seg_lens = []\n",
        "    diams = []\n",
        "    segdiams = []\n",
        "    bmtk_ids = []\n",
        "    seg_ids = []\n",
        "    sec_ids = []\n",
        "    full_names = []\n",
        "    xs = []\n",
        "    parts = []\n",
        "    distances = []\n",
        "    try:h.distance(sec=cell.hobj.soma[0])\n",
        "    except:h.distance(sec=cell.soma[0])\n",
        "    nsegs=[]\n",
        "    RAs=[]\n",
        "    Parentx=[]\n",
        "    passive_elec_distances = []\n",
        "    active_elec_distances = []\n",
        "    passive = h.Impedance()\n",
        "    try:passive.loc(cell.hobj.soma[0](0.5))\n",
        "    except:passive.loc(cell.soma[0](0.5))\n",
        "    passive.compute(frequency + 1 / 9e9, 0)\n",
        "    active = h.Impedance()\n",
        "    try:active.loc(cell.hobj.soma[0](0.5))\n",
        "    except:active.loc(cell.soma[0](0.5))\n",
        "    active.compute(frequency + 1 / 9e9, 1)\n",
        "#############################################################\n",
        "    \n",
        "    psegids=[]\n",
        "    segments=[]\n",
        "    sections=[]\n",
        "    all_seg_x_coords=[]\n",
        "    all_seg_y_coords=[]\n",
        "    all_seg_z_coords=[]\n",
        "    section_names_by_seg=[]\n",
        "#    segments=cell.hobj.segments\n",
        "#    for i in range(len(cell.hobj.segments)):\n",
        "#      pseg = segments[i].sec.parentseg()\n",
        "#      psec=pseg.sec\n",
        "#      nseg = psec.nseg\n",
        "#      idx = int(np.floor(pseg.x * nseg))\n",
        "#      if pseg.x == 1.:\n",
        "#        idx -= 1\n",
        "#      psegid=segments.index(psec((i + .5) / nseg))\n",
        "#      psegids.append(psegid)\n",
        "################################################################\n",
        "    try: section_obj_list=cell.hobj.all\n",
        "    except: section_obj_list=cell.all\n",
        "    for sec in section_obj_list:\n",
        "        xCoords,yCoords,zCoords=returnSegmentValues(sec) # get 3d coordinates for this section\n",
        "        for i,seg in enumerate(sec):\n",
        "            all_seg_x_coords.append(xCoords[i])\n",
        "            all_seg_y_coords.append(yCoords[i])\n",
        "            all_seg_z_coords.append(zCoords[i])\n",
        "            lens.append(seg.sec.L)\n",
        "            seg_lens.append(seg.sec.L/seg.sec.nseg)\n",
        "            diams.append(seg.sec.diam)\n",
        "            segdiams.append(seg.diam)\n",
        "            distances.append(h.distance(seg))\n",
        "            bmtk_ids.append(k)\n",
        "            seg_ids.append(j)\n",
        "            xs.append(seg.x)\n",
        "            fullsecname = sec.name()\n",
        "            sec_ids.append(int(fullsecname.split(\"[\")[2].split(\"]\")[0]))\n",
        "            sec_type = fullsecname.split(\".\")[1][:4]\n",
        "            nsegs.append(seg.sec.nseg)\n",
        "            RAs.append(seg.sec.Ra)\n",
        "            parts.append(sec_type)\n",
        "            full_names.append(str(seg))\n",
        "            passive_elec_distances.append(passive.ratio(seg))\n",
        "            active_elec_distances.append(active.ratio(seg))\n",
        "            section_names_by_seg.append(fullsecname)\n",
        "            #if seg.sec.parentseg() is not None:\n",
        "              #get parentseg coordinates or something to identify parentseg by\n",
        "            j += 1\n",
        "            segments.append(seg)\n",
        "        k+=1\n",
        "        sections.append(sec)\n",
        "    #print(segments)\n",
        "    for i in range(len(segments)): #calculate parentseg id using seg index on section\n",
        "      idx = int(np.floor(segments[i].x * segments[i].sec.nseg)) #get seg index on section\n",
        "      #case where segment is not first segment on section:\n",
        "      if idx != 0: #if the segment is not the first on the section then the parent segment is the previous segment index\n",
        "        psegid=i-1 #set parent segment id to the previous segment index\n",
        "        psegids.append(psegid)\n",
        "      #case where segment is first segment on section:\n",
        "      else:\n",
        "        pseg = segments[i].sec.parentseg()\n",
        "        if pseg == None:\n",
        "          psegids.append(None)\n",
        "        else:\n",
        "          psec=pseg.sec\n",
        "          nseg = psec.nseg\n",
        "          pidx = int(np.floor(pseg.x * nseg)) #get parent seg index on section\n",
        "          if pseg.x == 1.:\n",
        "            pidx -= 1\n",
        "          psegid=segments.index(psec((pidx + .5) / nseg)) #find the segment id of the parent seg by comparing with segment list after calculating the parent seg's section(x)\n",
        "          psegids.append(psegid)\n",
        "\n",
        "\n",
        "    df[\"segmentID\"] = seg_ids\n",
        "    df[\"BMTK ID\"] = bmtk_ids\n",
        "    df[\"Seg_L\"] = seg_lens\n",
        "    df[\"Seg_diam\"] = segdiams\n",
        "    df[\"X\"] = xs\n",
        "    df[\"Type\"] = parts\n",
        "    df[\"Sec ID\"] = sec_ids\n",
        "    df[\"Distance\"] = distances\n",
        "    df[\"Section_L\"] = lens\n",
        "    df[\"Section_diam\"] = diams\n",
        "    df[\"Section_nseg\"] = nsegs\n",
        "    df[\"Section_Ra\"] = RAs\n",
        "    df[\"Coord X\"] = all_seg_x_coords\n",
        "    df[\"Coord Y\"] = all_seg_y_coords\n",
        "    df[\"Coord Z\"] = all_seg_z_coords\n",
        "    df[\"ParentSegID\"] = psegids\n",
        "    df[\"Passive ElecDist\"] = passive_elec_distances\n",
        "    df[\"Active ElecDist\"] = active_elec_distances\n",
        "    df[\"Section Name\"] = section_names_by_seg\n",
        "\n",
        "\n",
        "    df.to_csv(savename, index=False)"
      ],
      "metadata": {
        "id": "0t0jt_KUL4NC"
      },
      "execution_count": 8,
      "outputs": []
    },
    {
      "cell_type": "code",
      "source": [
        "def make_reduced_seg_df(cell,savename=\"Segments.csv\"):\n",
        "    frequency=0\n",
        "    # seg_locs = cell.morphology.seg_coords['p05']\n",
        "    # px = seg_locs[0]\n",
        "    # py = seg_locs[1]\n",
        "    # pz = seg_locs[2]\n",
        "    df = pd.DataFrame()\n",
        "    k = 0\n",
        "    j = 0\n",
        "    lens = []\n",
        "    seg_lens = []\n",
        "    diams = []\n",
        "    segdiams = []\n",
        "    bmtk_ids = []\n",
        "    seg_ids = []\n",
        "    sec_ids = []\n",
        "    full_names = []\n",
        "    xs = []\n",
        "    parts = []\n",
        "    distances = []\n",
        "    try:h.distance(sec=cell.soma)\n",
        "    except:h.distance(sec=cell.soma[0])\n",
        "    nsegs=[]\n",
        "    RAs=[]\n",
        "    Parentx=[]\n",
        "    passive_elec_distances = []\n",
        "    active_elec_distances = []\n",
        "    passive = h.Impedance()\n",
        "    try:passive.loc(cell.hobj.soma[0](0.5))\n",
        "    except:passive.loc(cell.soma[0](0.5))\n",
        "    passive.compute(frequency + 1 / 9e9, 0)\n",
        "    active = h.Impedance()\n",
        "    try:active.loc(cell.hobj.soma[0](0.5))\n",
        "    except:active.loc(cell.soma[0](0.5))\n",
        "    active.compute(frequency + 1 / 9e9, 1)\n",
        "#############################################################\n",
        "    \n",
        "    psegids=[]\n",
        "    segments=[]\n",
        "    sections=[]\n",
        "    all_seg_x_coords=[]\n",
        "    all_seg_y_coords=[]\n",
        "    all_seg_z_coords=[]\n",
        "    section_names_by_seg=[]\n",
        "#    segments=cell.hobj.segments\n",
        "#    for i in range(len(cell.hobj.segments)):\n",
        "#      pseg = segments[i].sec.parentseg()\n",
        "#      psec=pseg.sec\n",
        "#      nseg = psec.nseg\n",
        "#      idx = int(np.floor(pseg.x * nseg))\n",
        "#      if pseg.x == 1.:\n",
        "#        idx -= 1\n",
        "#      psegid=segments.index(psec((i + .5) / nseg))\n",
        "#      psegids.append(psegid)\n",
        "################################################################\n",
        "    try: section_obj_list=cell.hoc_model.all\n",
        "    except: section_obj_list=cell.all\n",
        "    for sec in section_obj_list:\n",
        "        xCoords,yCoords,zCoords=returnSegmentValues(sec) # get 3d coordinates for this section\n",
        "        for i,seg in enumerate(sec):\n",
        "            all_seg_x_coords.append(xCoords[i])\n",
        "            all_seg_y_coords.append(yCoords[i])\n",
        "            all_seg_z_coords.append(zCoords[i])\n",
        "            lens.append(seg.sec.L)\n",
        "            seg_lens.append(seg.sec.L/seg.sec.nseg)\n",
        "            diams.append(seg.sec.diam)\n",
        "            segdiams.append(seg.diam)\n",
        "            distances.append(h.distance(seg))\n",
        "            bmtk_ids.append(k)\n",
        "            seg_ids.append(j)\n",
        "            xs.append(seg.x)\n",
        "            fullsecname = sec.name()\n",
        "            sec_ids.append(int(fullsecname.split(\"[\")[2].split(\"]\")[0]))\n",
        "            sec_type = fullsecname.split(\".\")[1][:4]\n",
        "            nsegs.append(seg.sec.nseg)\n",
        "            RAs.append(seg.sec.Ra)\n",
        "            parts.append(sec_type) # section types\n",
        "            full_names.append(str(seg))\n",
        "            passive_elec_distances.append(passive.ratio(seg))\n",
        "            active_elec_distances.append(active.ratio(seg))\n",
        "            section_names_by_seg.append(fullsecname)\n",
        "            #if seg.sec.parentseg() is not None:\n",
        "              #get parentseg coordinates or something to identify parentseg by\n",
        "            j += 1\n",
        "            segments.append(seg)\n",
        "        k+=1\n",
        "        sections.append(sec)\n",
        "    #print(segments)\n",
        "    for i in range(len(segments)): #calculate parentseg id using seg index on section\n",
        "      idx = int(np.floor(segments[i].x * segments[i].sec.nseg)) #get seg index on section\n",
        "      #case where segment is not first segment on section:\n",
        "      if idx != 0: #if the segment is not the first on the section then the parent segment is the previous segment index\n",
        "        psegid=i-1 #set parent segment id to the previous segment index\n",
        "        psegids.append(psegid)\n",
        "      #case where segment is first segment on section:\n",
        "      else:\n",
        "        pseg = segments[i].sec.parentseg()\n",
        "        if pseg == None:\n",
        "          psegids.append(None)\n",
        "        else:\n",
        "          psec=pseg.sec\n",
        "          nseg = psec.nseg\n",
        "          pidx = int(np.floor(pseg.x * nseg)) #get parent seg index on section\n",
        "          if pseg.x == 1.:\n",
        "            pidx -= 1\n",
        "          try:psegid=segments.index(psec((pidx + .5) / nseg)) #find the segment id of the parent seg by comparing with segment list after calculating the parent seg's section(x)\n",
        "          except: psegid=\"Segment not in segments\"\n",
        "          psegids.append(psegid)\n",
        "\n",
        "\n",
        "    df[\"segmentID\"] = seg_ids\n",
        "    df[\"BMTK ID\"] = bmtk_ids\n",
        "    df[\"Seg_L\"] = seg_lens\n",
        "    df[\"Seg_diam\"] = segdiams\n",
        "    df[\"X\"] = xs\n",
        "    df[\"Type\"] = parts\n",
        "    df[\"Sec ID\"] = sec_ids\n",
        "    df[\"Distance\"] = distances\n",
        "    df[\"Section_L\"] = lens\n",
        "    df[\"Section_diam\"] = diams\n",
        "    df[\"Section_nseg\"] = nsegs\n",
        "    df[\"Section_Ra\"] = RAs\n",
        "    df[\"Coord X\"] = all_seg_x_coords\n",
        "    df[\"Coord Y\"] = all_seg_y_coords\n",
        "    df[\"Coord Z\"] = all_seg_z_coords\n",
        "    df[\"ParentSegID\"] = psegids\n",
        "    df[\"Passive ElecDist\"] = passive_elec_distances\n",
        "    df[\"Active ElecDist\"] = active_elec_distances\n",
        "    df[\"Section Name\"] = section_names_by_seg\n",
        "\n",
        "\n",
        "    df.to_csv(savename, index=False)"
      ],
      "metadata": {
        "id": "evFc8gZ8RXmo"
      },
      "execution_count": 9,
      "outputs": []
    },
    {
      "cell_type": "code",
      "source": [
        "class probe():\n",
        "  def __init__(self,seg=None,sectionindex=None,sectionname=None,color=None,secRa=None,segdiam=None,segx=None,segdist=None,sectionL=None,sectionNseg=None,segL=None,parentseg=None,sectype=None,active_elec_dist=None,passive_elec_dist=None,XCoord=None,YCoord=None,ZCoord=None):\n",
        "    self.seg=seg\n",
        "    self.sectionindex=sectionindex\n",
        "    self.sectionname=sectionname\n",
        "    self.color=color\n",
        "    self.XCoord=XCoord\n",
        "    self.YCoord=YCoord\n",
        "    self.ZCoord=ZCoord\n",
        "    self.secRa=secRa\n",
        "    self.segdiam=segdiam\n",
        "    self.x=segx\n",
        "    self.segdist=segdist\n",
        "    self.secL=sectionL\n",
        "    self.secnseg=sectionNseg\n",
        "    self.segL=segL\n",
        "    # self.seg_v=seg_v\n",
        "    self.name='sec:'+str(self.sectionname)+str(self.sectionindex)+' seg:'+str(self.seg)\n",
        "    self.adjprobes=[]\n",
        "    self.parentprobe=[]\n",
        "    self.childprobes=[]\n",
        "    self.axialcurrents=[]\n",
        "    self.parentaxialcurrent=[]\n",
        "    self.childrenaxialcurrents=[]\n",
        "    self.halfsegRa=.01*self.secRa*(self.secL/2/self.secnseg)/(np.pi*(self.segdiam/2)**2)\n",
        "    self.parentseg=parentseg\n",
        "    self.sectype=sectype\n",
        "    self.passive_elec_dist=passive_elec_dist\n",
        "    self.active_elec_dist=active_elec_dist\n",
        "\n",
        "    # try:\n",
        "    #   self.axial_current=[Record_Axial_Current(section,single_seg=True)]\n",
        "    # except:\n",
        "    #   print(section)"
      ],
      "metadata": {
        "id": "09ncWiMw9xbs"
      },
      "execution_count": 10,
      "outputs": []
    },
    {
      "cell_type": "code",
      "source": [
        "def generate_reduced_stylized_geometry(reduced_cell=None,complex_geometry_file='geom_complex.csv',savename='geom_reduced.csv'):\n",
        "  '''\n",
        "  builds reduced_geom.csv \n",
        "  using dendritic sections from neuron_reduce()'s reduced_cell object \n",
        "  and soma from complex cell\n",
        "  '''\n",
        "\n",
        "  complex_df = pd.read_csv(complex_geometry_file) #need to begin reduced_df with soma from complex_cell\n",
        "  df = pd.DataFrame()\n",
        "  ids=[complex_df['id'][0]]\n",
        "  names=[complex_df['name'][0]]\n",
        "  types=[complex_df['type'][0]]\n",
        "  pids=[complex_df['pid'][0]]\n",
        "  axials=[complex_df['axial'][0]]\n",
        "  nbranchs=[complex_df['nbranch'][0]]\n",
        "  Ls=[complex_df['L'][0]]\n",
        "  Rs=[complex_df['R'][0]]\n",
        "  angs=[complex_df['ang'][0]]\n",
        "\n",
        "  for sec in reduced_cell.hoc_model.all:\n",
        "    # print(dir(sec))\n",
        "    name=sec.name()\n",
        "    # print(name)\n",
        "    names.append(name)\n",
        "    ids.append(names.index(name))\n",
        "    _,sec_type_withinteger=name.split('.')\n",
        "    sec_type,_=sec_type_withinteger.split('[')\n",
        "    types.append(sec_type)\n",
        "    pseg = sec.parentseg()\n",
        "    if pseg == None:\n",
        "      pids.append(None)\n",
        "    else:\n",
        "      psec=pseg.sec\n",
        "      px3d=psec.x3d\n",
        "      pids.append(names.index(psec.name()))\n",
        "    axials.append('TRUE')\n",
        "    nbranchs.append(1)\n",
        "    Ls.append(sec.L)\n",
        "    # print(dir(sec))\n",
        "    Rs.append(sec.diam/2)\n",
        "    if sec_type == \"apic\":\n",
        "      ang=np.random.normal(scale=0.1,loc=1.570796327)\n",
        "    elif sec_type==\"dend\":\n",
        "      ang=np.random.uniform(low=0,high=-np.pi)\n",
        "    else:\n",
        "      ang=0\n",
        "    angs.append(ang)\n",
        "\n",
        "\n",
        "    # if sec.n3d() != 0: # all reduced cell 3d coordinates are missin; need a fix for angles\n",
        "    #   print(sec.n3d())\n",
        "    #   first_x3d=sec.x3d(0)\n",
        "    #   first_y3d=sec.y3d(0)\n",
        "    #   first_z3d=sec.z3d(0)\n",
        "    #   last_x3d=sec.x3d(sec.n3d()-1)\n",
        "    #   last_y3d=sec.y3d(sec.n3d()-1)\n",
        "    #   last_z3d=sec.z3d(sec.n3d()-1)\n",
        "\n",
        "    #   pfirst_x3d=psec.x3d(0)\n",
        "    #   pfirst_y3d=psec.y3d(0)\n",
        "    #   pfirst_z3d=psec.z3d(0)\n",
        "    #   plast_x3d=psec.x3d(psec.n3d()-1)\n",
        "    #   plast_y3d=psec.y3d(psec.n3d()-1)\n",
        "    #   plast_z3d=psec.z3d(psec.n3d()-1)\n",
        "    #   print(first_x3d-plast_x3d)\n",
        "    #   print(first_y3d-plast_y3d)\n",
        "    #   print(first_z3d-plast_z3d)\n",
        "    # else:\n",
        "    #   angs.append(None)\n",
        "\n",
        "  # print(len(ids))\n",
        "  # print(len(names))\n",
        "  # print(len(types))\n",
        "  # print(len(pids))\n",
        "  # print(len(axials))\n",
        "  # print(len(nbranchs))\n",
        "  # print(len(Ls))\n",
        "  # print(len(Rs))\n",
        "  # print(angs)\n",
        "  df[\"id\"] = ids\n",
        "  df[\"name\"] = names\n",
        "  df[\"L\"] = pids\n",
        "  df[\"axial\"] = axials\n",
        "  df[\"type\"] = types\n",
        "  df[\"nbranch\"] = nbranchs\n",
        "  df[\"L\"] = Ls\n",
        "  df[\"R\"] = Rs\n",
        "  df[\"ang\"] = angs\n",
        "  df.to_csv(savename)\n"
      ],
      "metadata": {
        "id": "UHv82WYZMCni"
      },
      "execution_count": 11,
      "outputs": []
    },
    {
      "cell_type": "markdown",
      "source": [
        "##Define The Cell"
      ],
      "metadata": {
        "id": "atlls8ETHlg5"
      }
    },
    {
      "cell_type": "code",
      "source": [
        "#Run the code\n",
        "from __future__ import division\n",
        "from neuron import gui,h\n",
        "import numpy as np\n",
        "import neuron_reduce\n",
        "import time\n",
        "import matplotlib.pyplot as plt\n",
        "\n",
        "#Create a L5_PC model\n",
        "h.load_file('L5PCbiophys3.hoc')\n",
        "h.load_file(\"import3d.hoc\")\n",
        "h.load_file('L5PCtemplate.hoc')\n",
        "complex_cell = h.L5PCtemplate('cell1.asc')\n",
        "h.celsius = 37\n",
        "h.v_init = complex_cell.soma[0].e_pas"
      ],
      "metadata": {
        "id": "Ejij0ArEHlBM"
      },
      "execution_count": 12,
      "outputs": []
    },
    {
      "cell_type": "code",
      "source": [
        "!git clone https://github.com/davidfague/Stylized-ReducedOrder-L5-Model.git\n",
        "%cd Stylized-ReducedOrder-L5-Model\n",
        "from stylized_module.recorder import Recorder\n",
        "%cd .."
      ],
      "metadata": {
        "colab": {
          "base_uri": "https://localhost:8080/"
        },
        "id": "Ig7uHyxnWqLl",
        "outputId": "f252bdc8-849e-4b84-ce4f-26dfcb93f314"
      },
      "execution_count": 13,
      "outputs": [
        {
          "output_type": "stream",
          "name": "stdout",
          "text": [
            "fatal: destination path 'Stylized-ReducedOrder-L5-Model' already exists and is not an empty directory.\n",
            "/content/neuron_reduce/example/Stylized-ReducedOrder-L5-Model\n",
            "/content/neuron_reduce/example\n"
          ]
        }
      ]
    },
    {
      "cell_type": "markdown",
      "source": [
        "Add synapses to the cell"
      ],
      "metadata": {
        "id": "1gmh5X-fHnfg"
      }
    },
    {
      "cell_type": "code",
      "execution_count": 14,
      "metadata": {
        "id": "vKb-1N49aCkR"
      },
      "outputs": [],
      "source": [
        "#Add synapses to the model\n",
        "synapses_list, netstims_list, netcons_list, randoms_list = [], [], [] ,[]\n",
        "\n",
        "all_segments = [i for j in map(list,list(complex_cell.apical)) for i in j] + [i for j in map(list,list(complex_cell.basal)) for i in j]\n",
        "len_per_segment = np.array([seg.sec.L/seg.sec.nseg for seg in all_segments])\n",
        "rnd = np.random.RandomState(10)\n",
        "for i in range(10000):\n",
        "    seg_for_synapse = rnd.choice(all_segments,   p=len_per_segment/sum(len_per_segment)) #choose a random segment with probability based on the length of segment\n",
        "    synapses_list.append(h.Exp2Syn(seg_for_synapse))\n",
        "    if rnd.uniform()<0.85: # 85% synapses are excitatory\n",
        "        e_syn, tau1, tau2, spike_interval, syn_weight = 0, 0.3, 1.8,  1000/2.5, 0.0016\n",
        "    else: #inhibitory case\n",
        "        e_syn, tau1, tau2, spike_interval, syn_weight = -86, 1,   8,   1000/15.0, 0.0008\n",
        "    #set synaptic varibales\n",
        "    synapses_list[i].e, synapses_list[i].tau1, synapses_list[i].tau2 = e_syn, tau1, tau2\n",
        "    #set netstim variables\n",
        "    netstims_list.append(h.NetStim())\n",
        "    netstims_list[i].interval, netstims_list[i].number, netstims_list[i].start, netstims_list[i].noise = spike_interval, 9e9, 100, 1\n",
        "    #set random\n",
        "    randoms_list.append(h.Random())\n",
        "    randoms_list[i].Random123(i)\n",
        "    randoms_list[i].negexp(1)\n",
        "    netstims_list[i].noiseFromRandom(randoms_list[i])       \n",
        "    #set netcon varibales \n",
        "    netcons_list.append(h.NetCon(netstims_list[i], synapses_list[i] ))\n",
        "    netcons_list[i].delay, netcons_list[i].weight[0] = 0, syn_weight"
      ]
    },
    {
      "cell_type": "code",
      "source": [
        "make_seg_df(complex_cell,\"segments_complex.csv\")"
      ],
      "metadata": {
        "id": "XQzhDCeDLdgg"
      },
      "execution_count": 15,
      "outputs": []
    },
    {
      "cell_type": "code",
      "source": [
        "complex_segments_df=pd.read_csv(\"segments_complex.csv\")"
      ],
      "metadata": {
        "id": "fVsyw_yuWDZz"
      },
      "execution_count": 16,
      "outputs": []
    },
    {
      "cell_type": "code",
      "source": [
        "# complex_segments.head()"
      ],
      "metadata": {
        "id": "jC-wxh1lWNV0"
      },
      "execution_count": 17,
      "outputs": []
    },
    {
      "cell_type": "markdown",
      "source": [
        "Need to find the branching point here; use segment_axial_currents notebook where I have done it before."
      ],
      "metadata": {
        "id": "XPKSzhe2X6Bz"
      }
    },
    {
      "cell_type": "code",
      "source": [
        "#Get Columns\n",
        "segIDs=complex_segments_df['segmentID']\n",
        "\n",
        "# segs = segs.set_index(['Type','Sec ID']).join(segs_degrees.set_index(['Type','Sec ID'])).reset_index() #not sure what this does\n",
        "complex_segments_df['Sec ID'] = complex_segments_df['Sec ID'].astype(int)\n",
        "complex_segments_df['X'] = complex_segments_df['X'].astype(float)\n",
        "complex_segments_df['Elec_distanceQ'] = 'None'\n",
        "AllSegXCoord=complex_segments_df['Coord X']\n",
        "AllSegYCoord=complex_segments_df['Coord Y']\n",
        "AllSegZCoord=complex_segments_df['Coord Z']\n",
        "AllSegSec_ID=complex_segments_df['Sec ID']\n",
        "AllSegSec_name=complex_segments_df['Type']\n",
        "segLs=complex_segments_df[\"Seg_L\"]\n",
        "segxs=complex_segments_df[\"X\"]\n",
        "segdists=complex_segments_df[\"Distance\"]\n",
        "SegSecL=complex_segments_df[\"Section_L\"]\n",
        "segdiams=complex_segments_df[\"Seg_diam\"]\n",
        "SegSecnseg=complex_segments_df[\"Section_nseg\"]\n",
        "secRas=complex_segments_df[\"Section_Ra\"]\n",
        "psegIDs=complex_segments_df[\"ParentSegID\"]\n",
        "secids=complex_segments_df[\"Sec ID\"]\n",
        "bmtkid=complex_segments_df[\"BMTK ID\"]\n",
        "sectypes=complex_segments_df[\"Type\"]\n",
        "complex_passive_elec_dists=complex_segments_df[\"Passive ElecDist\"]\n",
        "complex_active_elec_dists=complex_segments_df[\"Active ElecDist\"]\n",
        "\n",
        "psegids=[] #fix for when there is no parent segment\n",
        "for i in range(len(psegIDs)):\n",
        "  if np.isnan(psegIDs[i]) == False:\n",
        "    psegids.append(int(psegIDs[i]))\n",
        "  else:\n",
        "    psegids.append(psegIDs[i])\n",
        "\n",
        "complex_segments=[] #list for probe objects\n",
        "\n",
        "for i in range(len(complex_segments_df['segmentID'])):\n",
        "  try:\n",
        "    newprobe=probe(seg=i,sectionindex=AllSegSec_ID[i],sectionname=str(AllSegSec_name[i]),color=colors[j],XCoord=AllSegXCoord[i],YCoord=AllSegYCoord[i],ZCoord=AllSegZCoord[i],\n",
        "                  secRa=secRas[i],segdiam=segdiams[i],segx=segxs[i],segdist=segdists[i],sectionL=SegSecL[i],sectionNseg=SegSecnseg[i],segL=segLs[i],\n",
        "                  parentseg=psegids[i],sectype=sectypes[i],passive_elec_dist=complex_passive_elec_dists[i],active_elec_dist=complex_active_elec_dists[i])\n",
        "  except: #use red if colors isn't long enough\n",
        "        newprobe=probe(seg=i,sectionindex=AllSegSec_ID[i],sectionname=str(AllSegSec_name[i]),color='r',XCoord=AllSegXCoord[i],YCoord=AllSegYCoord[i],ZCoord=AllSegZCoord[i],\n",
        "                secRa=secRas[i],segdiam=segdiams[i],segx=segxs[i],segdist=segdists[i],sectionL=SegSecL[i],sectionNseg=SegSecnseg[i],segL=segLs[i],\n",
        "                parentseg=psegids[i],sectype=sectypes[i],passive_elec_dist=complex_passive_elec_dists[i],active_elec_dist=complex_active_elec_dists[i])\n",
        "  complex_segments.append(newprobe)"
      ],
      "metadata": {
        "id": "KqHq3z6797fC"
      },
      "execution_count": 18,
      "outputs": []
    },
    {
      "cell_type": "code",
      "source": [
        "firstsegs = [] #list of segment indices for each section's first segment\n",
        "sections=[] #list of already seen section ids\n",
        "\n",
        "for i in range(len(bmtkid)):\n",
        "    if bmtkid[i] not in sections: #make sure secid is unique\n",
        "      sections.append(bmtkid[i]) #add unique secid to list of already seen secids\n",
        "      firstsegs.append(segIDs[i]) #get a list of first segment by unique section id"
      ],
      "metadata": {
        "id": "Cgq-n4ce_SyV"
      },
      "execution_count": 19,
      "outputs": []
    },
    {
      "cell_type": "code",
      "source": [
        "#getting adjacent probes using parent segmemt IDs\n",
        "for i in range(len(psegids)): #iterate through segment index\n",
        "  if np.isnan(psegids[i]) == False:\n",
        "    for seg in segIDs: #check segIDs\n",
        "      if psegids[i]==seg: #find parent seg from parent seg id\n",
        "        complex_segments[seg].adjprobes.append(complex_segments[i]) #add child probe to probe's adjprobe list\n",
        "        complex_segments[seg].childprobes.append(complex_segments[i]) #add child probe to probe's childprobe list"
      ],
      "metadata": {
        "id": "4U98JSa4A3c4"
      },
      "execution_count": 20,
      "outputs": []
    },
    {
      "cell_type": "code",
      "source": [
        "for i in range(len(segIDs)):\n",
        "  if np.isnan(psegids[i]) == False:\n",
        "    complex_segments[i].adjprobes.append(complex_segments[int(psegids[i])]) #add parent seg probe to adj probes\n",
        "    complex_segments[i].parentprobe.append(complex_segments[int(psegids[i])]) #add parent seg probe to parent probes"
      ],
      "metadata": {
        "id": "a_6QwETI_el_"
      },
      "execution_count": 21,
      "outputs": []
    },
    {
      "cell_type": "code",
      "source": [
        "#3D Projection\n",
        "elev=90 \n",
        "azim=-90 #20\n",
        "figsize=(10,12)\n",
        "# apicsegs=segs[(segs.Type=='apic')]['segmentID']\n",
        "#create 3d axes\n",
        "fig = plt.figure(figsize=figsize)\n",
        "ax = plt.axes(projection='3d')\n",
        "ax.plot3D(AllSegXCoord, AllSegYCoord,AllSegZCoord,'.',color='k',markersize=7)\n",
        "\n",
        "# for i in range(len(AllSegXCoord)):\n",
        "#   ax.scatter(AllSegXCoord[i], AllSegYCoord[i],AllSegZCoord[i],'.',color='k')\n",
        "\n",
        "print(complex_segments[0].color)\n",
        "# for i in range(len(probes)):\n",
        "ax.scatter(xs=AllSegXCoord[complex_segments[firstsegs[-61]].parentprobe[0].seg],\n",
        "        ys=AllSegYCoord[complex_segments[firstsegs[-61]].parentprobe[0].seg],\n",
        "        zs=AllSegZCoord[complex_segments[firstsegs[-61]].parentprobe[0].seg],\n",
        "        marker='*',color=complex_segments[complex_segments[firstsegs[-61]].parentprobe[0].seg].color)\n",
        "plt.savefig('Probe Locations.png')\n",
        "# ax.auto_scale_xyz(*box.T)\n",
        "ax.view_init(elev,azim)\n",
        "plt.show()"
      ],
      "metadata": {
        "colab": {
          "base_uri": "https://localhost:8080/",
          "height": 606
        },
        "id": "EoMWgzcBAVur",
        "outputId": "b4cb73a6-8032-4eb1-93d2-0001fc8f855b"
      },
      "execution_count": 22,
      "outputs": [
        {
          "output_type": "stream",
          "name": "stdout",
          "text": [
            "r\n"
          ]
        },
        {
          "output_type": "display_data",
          "data": {
            "text/plain": [
              "<Figure size 720x864 with 1 Axes>"
            ],
            "image/png": "[encoded data removed]"
          },
          "metadata": {
            "needs_background": "light"
          }
        }
      ]
    },
    {
      "cell_type": "code",
      "source": [
        "plt.figure(figsize=(3,10))\n",
        "ax = plt.plot(AllSegXCoord, AllSegYCoord,'.',color='k',markersize=6)\n",
        "plt.vlines(110,400,500)\n",
        "plt.text(0,450,'100 um')\n",
        "plt.hlines(400,110,210)\n",
        "plt.text(110,350,'100 um')\n",
        "plt.xticks([])\n",
        "plt.yticks([])\n",
        "plt.box(False)\n",
        "\n",
        "for i in firstsegs:\n",
        "  if complex_segments[i].parentprobe != []:\n",
        "    plt.plot(AllSegXCoord[complex_segments[i].parentprobe[0].seg],\n",
        "          AllSegYCoord[complex_segments[i].parentprobe[0].seg],\n",
        "          '*',color='red')\n",
        "  # for j in range(len(probes[i].adjprobes)):\n",
        "  #     plt.plot(AllSegXCoord[probes[i].adjprobes[j].seg],\n",
        "  #         AllSegYCoord[probes[i].adjprobes[j].seg],\n",
        "  #         '*',color='blue')\n",
        "\n",
        "nexus=[complex_segments[firstsegs[-61]].parentprobe[0].seg] #check parentseg()'s by guessing where to index #segments[firstsegs[-51]].parentprobe[0].seg is a branching segment in the nexus following this first branching segment\n",
        "# # adjp=[0] #indexes childprobes of nexus probes to find the adjacent\n",
        "for i in nexus:\n",
        "  plt.plot(AllSegXCoord[complex_segments[i].seg],\n",
        "         AllSegYCoord[complex_segments[i].seg],\n",
        "         '*',color='m')\n",
        "  # see all adj probes\n",
        "  # for j in range(len(probes[].adjprobes)):\n",
        "  #   plt.plot(AllSegXCoord[probes[].adjprobes[j].seg],\n",
        "  #       AllSegYCoord[probes[psegs[i]].adjprobes[j].seg],\n",
        "  #       '*',color='blue')\n",
        "#see child probes\n",
        "  # for j in range(len(segments[i].childprobes)):\n",
        "  #     plt.plot(AllSegXCoord[segments[i].childprobes[j].seg],\n",
        "  #         AllSegYCoord[segments[i].childprobes[j].seg],\n",
        "  #         '*',color='orange')\n",
        "#see parent probes      \n",
        "  # for j in range(len(probes[i].parentprobe)):\n",
        "  #     plt.plot(AllSegXCoord[probes[i].parentprobe[j].seg],\n",
        "  #         AllSegYCoord[probes[i].parentprobe[j].seg],\n",
        "  #         '*',color='blue')"
      ],
      "metadata": {
        "colab": {
          "base_uri": "https://localhost:8080/",
          "height": 575
        },
        "id": "_Ssyzy9_-6tN",
        "outputId": "2b094c4d-88cb-44db-f04f-cadf01a73813"
      },
      "execution_count": 23,
      "outputs": [
        {
          "output_type": "display_data",
          "data": {
            "text/plain": [
              "<Figure size 216x720 with 1 Axes>"
            ],
            "image/png": "[encoded data removed]"
          },
          "metadata": {}
        }
      ]
    },
    {
      "cell_type": "markdown",
      "source": [
        "Simulate the full neuron for 1 seconds"
      ],
      "metadata": {
        "id": "sIyKLITkHtzt"
      }
    },
    {
      "cell_type": "code",
      "source": [
        "soma_v = h.Vector()\n",
        "soma_v.record(complex_cell.soma[0](0.5)._ref_v)\n",
        "\n",
        "time_v = h.Vector()\n",
        "time_v.record(h._ref_t)\n",
        "\n",
        "h.tstop = 1000\n",
        "st = time.time()\n",
        "h.run()\n",
        "print('complex cell simulation time {:.4f}'.format(time.time()-st))\n",
        "complex_cell_v = list(soma_v)"
      ],
      "metadata": {
        "id": "4mz9SNTSHu17",
        "colab": {
          "base_uri": "https://localhost:8080/"
        },
        "outputId": "f9d85054-90bf-48be-8e64-56c652a8e7e8"
      },
      "execution_count": 24,
      "outputs": [
        {
          "output_type": "stream",
          "name": "stdout",
          "text": [
            "complex cell simulation time 43.9800\n"
          ]
        }
      ]
    },
    {
      "cell_type": "markdown",
      "source": [
        "Gather complex cell geometry"
      ],
      "metadata": {
        "id": "XSYqrS2fWvfo"
      }
    },
    {
      "cell_type": "code",
      "source": [
        "generate_stylized_geometry(cell=complex_cell,savename='geom_complex.csv')"
      ],
      "metadata": {
        "id": "3LQMNX6_NrF-"
      },
      "execution_count": 25,
      "outputs": []
    },
    {
      "cell_type": "markdown",
      "source": [
        "apply Neuron_Reduce to simplify the cell and run the simulation again on the reduced cell"
      ],
      "metadata": {
        "id": "bexK1es3H36H"
      }
    },
    {
      "cell_type": "code",
      "source": [
        "#apply Neuron_Reduce to simplify the cell\n",
        "reduced_cell, synapses_list, netcons_list = neuron_reduce.subtree_reductor(complex_cell, synapses_list, netcons_list, reduction_frequency=0, total_segments_manual=-1)\n",
        "for r in randoms_list:r.seq(1) #reset random\n",
        "\n",
        "\n",
        "#Running the simulation again but now on the reduced cell\n",
        "st = time.time()\n",
        "h.run()\n",
        "print('reduced cell simulation time {:.4f}'.format(time.time()-st))\n",
        "reduced_celll_v = list(soma_v)\n",
        "\n",
        "#plotting the results\n",
        "plt.figure()\n",
        "\n",
        "plt.plot(time_v, complex_cell_v, label='complex cell')\n",
        "plt.plot(time_v, reduced_celll_v,  label='reduced cell')\n",
        "plt.show()"
      ],
      "metadata": {
        "id": "CL0mlEexH3f2",
        "colab": {
          "base_uri": "https://localhost:8080/",
          "height": 282
        },
        "outputId": "8620dc1f-b17c-4c57-ae8d-1aef40346869"
      },
      "execution_count": 26,
      "outputs": [
        {
          "output_type": "stream",
          "name": "stdout",
          "text": [
            "reduced cell simulation time 1.3139\n"
          ]
        },
        {
          "output_type": "display_data",
          "data": {
            "text/plain": [
              "<Figure size 432x288 with 1 Axes>"
            ],
            "image/png": "[encoded data removed]"
          },
          "metadata": {
            "needs_background": "light"
          }
        }
      ]
    },
    {
      "cell_type": "code",
      "source": [
        "%ls"
      ],
      "metadata": {
        "colab": {
          "base_uri": "https://localhost:8080/"
        },
        "id": "fgqN4yCSuv4l",
        "outputId": "0c2ce622-ea96-4684-ecb2-bf8a55fca768"
      },
      "execution_count": 27,
      "outputs": [
        {
          "output_type": "stream",
          "name": "stdout",
          "text": [
            " cell1.asc                \u001b[0m\u001b[01;34mModel-Reduction-Methods\u001b[0m/\n",
            " Cell.hoc                 morphology.svg\n",
            " complex_morphology.svg  'Probe Locations.png'\n",
            " example.py               reduced_morphology.svg\n",
            " geom_complex.csv         segments_complex.csv\n",
            " geom_reduced.csv         segments_reduced.csv\n",
            " L5PCbiophys3.hoc         \u001b[01;34mStylized-ReducedOrder-L5-Model\u001b[0m/\n",
            " L5PCtemplate.hoc         \u001b[01;34mx86_64\u001b[0m/\n",
            " \u001b[01;34mmod\u001b[0m/\n"
          ]
        }
      ]
    },
    {
      "cell_type": "code",
      "source": [
        "import math\n",
        "def generate_reduced_cell_seg_coords(cell):\n",
        "  '''\n",
        "  takes a cell that has no n3d() coordinates and gives new coordinates\n",
        "  by choosing an arbitrary direction for the subtree to move\n",
        "  '''\n",
        "\n",
        "  try: section_obj_list=cell.hoc_model.all\n",
        "  except: section_obj_list=cell.all\n",
        "  axial=False\n",
        "  for sec in section_obj_list:\n",
        "      rot = 2 * math.pi/1 #one branch\n",
        "      length=sec.L\n",
        "      diameter=sec.diam\n",
        "      fullsecname = sec.name()\n",
        "      sec_type = fullsecname.split(\".\")[1][:4]\n",
        "      if sec_type == \"apic\":\n",
        "        ang=np.random.normal(scale=0.1,loc=1.570796327)\n",
        "      elif sec_type==\"dend\":\n",
        "        ang=-np.random.uniform(low=0,high=np.pi)\n",
        "      else:\n",
        "        ang=0\n",
        "      if axial == True:\n",
        "        x = 0\n",
        "        y = length*((ang>=0)*2-1)\n",
        "      else:\n",
        "        x = length * math.cos(ang)\n",
        "        y = length * math.sin(ang)\n",
        "      #find starting position\n",
        "      psec=sec.parentseg().sec\n",
        "      pt0 = [psec.x3d(1), psec.y3d(1), psec.z3d(1)]\n",
        "      pt1 = [0., 0., 0.]\n",
        "      pt1[1] = pt0[1] + y\n",
        "      pt1[0] = pt0[0] + x * math.cos(i * rot)\n",
        "      pt1[2] = pt0[2] + x * math.sin(i * rot)\n",
        "      sec.pt3dadd(*pt0, sec.diam)\n",
        "      sec.pt3dadd(*pt1, sec.diam)\n",
        "\n",
        "\n",
        "generate_reduced_cell_seg_coords(reduced_cell)"
      ],
      "metadata": {
        "id": "N6-XA6zaXps0"
      },
      "execution_count": 28,
      "outputs": []
    },
    {
      "cell_type": "code",
      "source": [
        "make_reduced_seg_df(reduced_cell,\"segments_reduced.csv\")"
      ],
      "metadata": {
        "id": "s04265x1LgHx"
      },
      "execution_count": 29,
      "outputs": []
    },
    {
      "cell_type": "code",
      "source": [
        "reduced_segments_df=pd.read_csv(\"segments_reduced.csv\")"
      ],
      "metadata": {
        "id": "ZFMx-JSVatFt"
      },
      "execution_count": 30,
      "outputs": []
    },
    {
      "cell_type": "code",
      "source": [
        "reduced_segments_df.head()"
      ],
      "metadata": {
        "colab": {
          "base_uri": "https://localhost:8080/",
          "height": 285
        },
        "id": "miu98LgfbDVw",
        "outputId": "f68900a9-f5d0-4ad6-a08f-02b6c8ed234a"
      },
      "execution_count": 31,
      "outputs": [
        {
          "output_type": "execute_result",
          "data": {
            "text/plain": [
              "   segmentID  BMTK ID       Seg_L  Seg_diam         X  Type  Sec ID  \\\n",
              "0          0        0  127.133108  3.717652  0.026316  apic       0   \n",
              "1          1        0  127.133108  3.717652  0.078947  apic       0   \n",
              "2          2        0  127.133108  3.717652  0.131579  apic       0   \n",
              "3          3        0  127.133108  3.717652  0.184211  apic       0   \n",
              "4          4        0  127.133108  3.717652  0.236842  apic       0   \n",
              "\n",
              "     Distance    Section_L  Section_diam  Section_nseg  Section_Ra    Coord X  \\\n",
              "0   75.151258  2415.529046      3.717652            19       100.0  35.319599   \n",
              "1  202.284366  2415.529046      3.717652            19       100.0  35.071043   \n",
              "2  329.417473  2415.529046      3.717652            19       100.0  34.822487   \n",
              "3  456.550581  2415.529046      3.717652            19       100.0  34.573931   \n",
              "4  583.683689  2415.529046      3.717652            19       100.0  34.325375   \n",
              "\n",
              "      Coord Y  Coord Z              ParentSegID  Passive ElecDist  \\\n",
              "0   17.693741   -50.25  Segment not in segments          0.729871   \n",
              "1  151.889569   -50.25                        0          0.447482   \n",
              "2  286.085397   -50.25                        1          0.238126   \n",
              "3  420.281225   -50.25                        2          0.134906   \n",
              "4  554.477052   -50.25                        3          0.082859   \n",
              "\n",
              "   Active ElecDist      Section Name  \n",
              "0         0.733694  model[0].apic[0]  \n",
              "1         0.451835  model[0].apic[0]  \n",
              "2         0.240671  model[0].apic[0]  \n",
              "3         0.136294  model[0].apic[0]  \n",
              "4         0.083650  model[0].apic[0]  "
            ],
            "text/html": [
              "\n",
              "  <div id=\"df-fea12f78-4548-4cd9-9ac4-e3ce8e95e421\">\n",
              "    <div class=\"colab-df-container\">\n",
              "      <div>\n",
              "<style scoped>\n",
              "    .dataframe tbody tr th:only-of-type {\n",
              "        vertical-align: middle;\n",
              "    }\n",
              "\n",
              "    .dataframe tbody tr th {\n",
              "        vertical-align: top;\n",
              "    }\n",
              "\n",
              "    .dataframe thead th {\n",
              "        text-align: right;\n",
              "    }\n",
              "</style>\n",
              "<table border=\"1\" class=\"dataframe\">\n",
              "  <thead>\n",
              "    <tr style=\"text-align: right;\">\n",
              "      <th></th>\n",
              "      <th>segmentID</th>\n",
              "      <th>BMTK ID</th>\n",
              "      <th>Seg_L</th>\n",
              "      <th>Seg_diam</th>\n",
              "      <th>X</th>\n",
              "      <th>Type</th>\n",
              "      <th>Sec ID</th>\n",
              "      <th>Distance</th>\n",
              "      <th>Section_L</th>\n",
              "      <th>Section_diam</th>\n",
              "      <th>Section_nseg</th>\n",
              "      <th>Section_Ra</th>\n",
              "      <th>Coord X</th>\n",
              "      <th>Coord Y</th>\n",
              "      <th>Coord Z</th>\n",
              "      <th>ParentSegID</th>\n",
              "      <th>Passive ElecDist</th>\n",
              "      <th>Active ElecDist</th>\n",
              "      <th>Section Name</th>\n",
              "    </tr>\n",
              "  </thead>\n",
              "  <tbody>\n",
              "    <tr>\n",
              "      <th>0</th>\n",
              "      <td>0</td>\n",
              "      <td>0</td>\n",
              "      <td>127.133108</td>\n",
              "      <td>3.717652</td>\n",
              "      <td>0.026316</td>\n",
              "      <td>apic</td>\n",
              "      <td>0</td>\n",
              "      <td>75.151258</td>\n",
              "      <td>2415.529046</td>\n",
              "      <td>3.717652</td>\n",
              "      <td>19</td>\n",
              "      <td>100.0</td>\n",
              "      <td>35.319599</td>\n",
              "      <td>17.693741</td>\n",
              "      <td>-50.25</td>\n",
              "      <td>Segment not in segments</td>\n",
              "      <td>0.729871</td>\n",
              "      <td>0.733694</td>\n",
              "      <td>model[0].apic[0]</td>\n",
              "    </tr>\n",
              "    <tr>\n",
              "      <th>1</th>\n",
              "      <td>1</td>\n",
              "      <td>0</td>\n",
              "      <td>127.133108</td>\n",
              "      <td>3.717652</td>\n",
              "      <td>0.078947</td>\n",
              "      <td>apic</td>\n",
              "      <td>0</td>\n",
              "      <td>202.284366</td>\n",
              "      <td>2415.529046</td>\n",
              "      <td>3.717652</td>\n",
              "      <td>19</td>\n",
              "      <td>100.0</td>\n",
              "      <td>35.071043</td>\n",
              "      <td>151.889569</td>\n",
              "      <td>-50.25</td>\n",
              "      <td>0</td>\n",
              "      <td>0.447482</td>\n",
              "      <td>0.451835</td>\n",
              "      <td>model[0].apic[0]</td>\n",
              "    </tr>\n",
              "    <tr>\n",
              "      <th>2</th>\n",
              "      <td>2</td>\n",
              "      <td>0</td>\n",
              "      <td>127.133108</td>\n",
              "      <td>3.717652</td>\n",
              "      <td>0.131579</td>\n",
              "      <td>apic</td>\n",
              "      <td>0</td>\n",
              "      <td>329.417473</td>\n",
              "      <td>2415.529046</td>\n",
              "      <td>3.717652</td>\n",
              "      <td>19</td>\n",
              "      <td>100.0</td>\n",
              "      <td>34.822487</td>\n",
              "      <td>286.085397</td>\n",
              "      <td>-50.25</td>\n",
              "      <td>1</td>\n",
              "      <td>0.238126</td>\n",
              "      <td>0.240671</td>\n",
              "      <td>model[0].apic[0]</td>\n",
              "    </tr>\n",
              "    <tr>\n",
              "      <th>3</th>\n",
              "      <td>3</td>\n",
              "      <td>0</td>\n",
              "      <td>127.133108</td>\n",
              "      <td>3.717652</td>\n",
              "      <td>0.184211</td>\n",
              "      <td>apic</td>\n",
              "      <td>0</td>\n",
              "      <td>456.550581</td>\n",
              "      <td>2415.529046</td>\n",
              "      <td>3.717652</td>\n",
              "      <td>19</td>\n",
              "      <td>100.0</td>\n",
              "      <td>34.573931</td>\n",
              "      <td>420.281225</td>\n",
              "      <td>-50.25</td>\n",
              "      <td>2</td>\n",
              "      <td>0.134906</td>\n",
              "      <td>0.136294</td>\n",
              "      <td>model[0].apic[0]</td>\n",
              "    </tr>\n",
              "    <tr>\n",
              "      <th>4</th>\n",
              "      <td>4</td>\n",
              "      <td>0</td>\n",
              "      <td>127.133108</td>\n",
              "      <td>3.717652</td>\n",
              "      <td>0.236842</td>\n",
              "      <td>apic</td>\n",
              "      <td>0</td>\n",
              "      <td>583.683689</td>\n",
              "      <td>2415.529046</td>\n",
              "      <td>3.717652</td>\n",
              "      <td>19</td>\n",
              "      <td>100.0</td>\n",
              "      <td>34.325375</td>\n",
              "      <td>554.477052</td>\n",
              "      <td>-50.25</td>\n",
              "      <td>3</td>\n",
              "      <td>0.082859</td>\n",
              "      <td>0.083650</td>\n",
              "      <td>model[0].apic[0]</td>\n",
              "    </tr>\n",
              "  </tbody>\n",
              "</table>\n",
              "</div>\n",
              "      <button class=\"colab-df-convert\" onclick=\"convertToInteractive('df-fea12f78-4548-4cd9-9ac4-e3ce8e95e421')\"\n",
              "              title=\"Convert this dataframe to an interactive table.\"\n",
              "              style=\"display:none;\">\n",
              "        \n",
              "  <svg xmlns=\"http://www.w3.org/2000/svg\" height=\"24px\"viewBox=\"0 0 24 24\"\n",
              "       width=\"24px\">\n",
              "    <path d=\"M0 0h24v24H0V0z\" fill=\"none\"/>\n",
              "    <path d=\"M18.56 5.44l.94 2.06.94-2.06 2.06-.94-2.06-.94-.94-2.06-.94 2.06-2.06.94zm-11 1L8.5 8.5l.94-2.06 2.06-.94-2.06-.94L8.5 2.5l-.94 2.06-2.06.94zm10 10l.94 2.06.94-2.06 2.06-.94-2.06-.94-.94-2.06-.94 2.06-2.06.94z\"/><path d=\"M17.41 7.96l-1.37-1.37c-.4-.4-.92-.59-1.43-.59-.52 0-1.04.2-1.43.59L10.3 9.45l-7.72 7.72c-.78.78-.78 2.05 0 2.83L4 21.41c.39.39.9.59 1.41.59.51 0 1.02-.2 1.41-.59l7.78-7.78 2.81-2.81c.8-.78.8-2.07 0-2.86zM5.41 20L4 18.59l7.72-7.72 1.47 1.35L5.41 20z\"/>\n",
              "  </svg>\n",
              "      </button>\n",
              "      \n",
              "  <style>\n",
              "    .colab-df-container {\n",
              "      display:flex;\n",
              "      flex-wrap:wrap;\n",
              "      gap: 12px;\n",
              "    }\n",
              "\n",
              "    .colab-df-convert {\n",
              "      background-color: #E8F0FE;\n",
              "      border: none;\n",
              "      border-radius: 50%;\n",
              "      cursor: pointer;\n",
              "      display: none;\n",
              "      fill: #1967D2;\n",
              "      height: 32px;\n",
              "      padding: 0 0 0 0;\n",
              "      width: 32px;\n",
              "    }\n",
              "\n",
              "    .colab-df-convert:hover {\n",
              "      background-color: #E2EBFA;\n",
              "      box-shadow: 0px 1px 2px rgba(60, 64, 67, 0.3), 0px 1px 3px 1px rgba(60, 64, 67, 0.15);\n",
              "      fill: #174EA6;\n",
              "    }\n",
              "\n",
              "    [theme=dark] .colab-df-convert {\n",
              "      background-color: #3B4455;\n",
              "      fill: #D2E3FC;\n",
              "    }\n",
              "\n",
              "    [theme=dark] .colab-df-convert:hover {\n",
              "      background-color: #434B5C;\n",
              "      box-shadow: 0px 1px 3px 1px rgba(0, 0, 0, 0.15);\n",
              "      filter: drop-shadow(0px 1px 2px rgba(0, 0, 0, 0.3));\n",
              "      fill: #FFFFFF;\n",
              "    }\n",
              "  </style>\n",
              "\n",
              "      <script>\n",
              "        const buttonEl =\n",
              "          document.querySelector('#df-fea12f78-4548-4cd9-9ac4-e3ce8e95e421 button.colab-df-convert');\n",
              "        buttonEl.style.display =\n",
              "          google.colab.kernel.accessAllowed ? 'block' : 'none';\n",
              "\n",
              "        async function convertToInteractive(key) {\n",
              "          const element = document.querySelector('#df-fea12f78-4548-4cd9-9ac4-e3ce8e95e421');\n",
              "          const dataTable =\n",
              "            await google.colab.kernel.invokeFunction('convertToInteractive',\n",
              "                                                     [key], {});\n",
              "          if (!dataTable) return;\n",
              "\n",
              "          const docLinkHtml = 'Like what you see? Visit the ' +\n",
              "            '<a target=\"_blank\" href=https://colab.research.google.com/notebooks/data_table.ipynb>data table notebook</a>'\n",
              "            + ' to learn more about interactive tables.';\n",
              "          element.innerHTML = '';\n",
              "          dataTable['output_type'] = 'display_data';\n",
              "          await google.colab.output.renderOutput(dataTable, element);\n",
              "          const docLink = document.createElement('div');\n",
              "          docLink.innerHTML = docLinkHtml;\n",
              "          element.appendChild(docLink);\n",
              "        }\n",
              "      </script>\n",
              "    </div>\n",
              "  </div>\n",
              "  "
            ]
          },
          "metadata": {},
          "execution_count": 31
        }
      ]
    },
    {
      "cell_type": "code",
      "source": [
        "#Get Columns\n",
        "segIDs=reduced_segments_df['segmentID']\n",
        "\n",
        "# segs = segs.set_index(['Type','Sec ID']).join(segs_degrees.set_index(['Type','Sec ID'])).reset_index() #not sure what this does\n",
        "reduced_segments_df['Sec ID'] = reduced_segments_df['Sec ID'].astype(int)\n",
        "reduced_segments_df['X'] = reduced_segments_df['X'].astype(float)\n",
        "reduced_segments_df['Elec_distanceQ'] = 'None'\n",
        "# AllSegXCoord=reduced_segments_df['Coord X']\n",
        "# AllSegYCoord=reduced_segments_df['Coord Y']\n",
        "# AllSegZCoord=reduced_segments_df['Coord Z']\n",
        "AllSegSec_ID=reduced_segments_df['Sec ID']\n",
        "AllSegSec_name=reduced_segments_df['Type']\n",
        "segLs=reduced_segments_df[\"Seg_L\"]\n",
        "segxs=reduced_segments_df[\"X\"]\n",
        "segdists=reduced_segments_df[\"Distance\"]\n",
        "SegSecL=reduced_segments_df[\"Section_L\"]\n",
        "segdiams=reduced_segments_df[\"Seg_diam\"]\n",
        "SegSecnseg=reduced_segments_df[\"Section_nseg\"]\n",
        "secRas=reduced_segments_df[\"Section_Ra\"]\n",
        "psegIDs=reduced_segments_df[\"ParentSegID\"]\n",
        "secids=reduced_segments_df[\"Sec ID\"]\n",
        "bmtkid=reduced_segments_df[\"BMTK ID\"]\n",
        "sectypes=reduced_segments_df[\"Type\"]\n",
        "reduced_passive_elec_dists=reduced_segments_df[\"Passive ElecDist\"]\n",
        "reduced_active_elec_dists=reduced_segments_df[\"Active ElecDist\"]\n",
        "\n",
        "psegids=[] #fix for when there is no parent segment\n",
        "# for i in range(len(psegIDs)):\n",
        "#   if np.isnan(psegIDs[i]) == False:\n",
        "#     psegids.append(int(psegIDs[i]))\n",
        "#   else:\n",
        "#     psegids.append(psegIDs[i])\n",
        "\n",
        "reduced_segments=[] #list for probe objects\n",
        "\n",
        "for i in range(len(reduced_segments_df['segmentID'])):\n",
        "  try:\n",
        "    newprobe=probe(seg=i,sectionindex=AllSegSec_ID[i],sectionname=str(AllSegSec_name[i]),color=colors[j],XCoord=AllSegXCoord[i],YCoord=AllSegYCoord[i],ZCoord=AllSegZCoord[i],\n",
        "                  secRa=secRas[i],segdiam=segdiams[i],segx=segxs[i],segdist=segdists[i],sectionL=SegSecL[i],sectionNseg=SegSecnseg[i],segL=segLs[i],\n",
        "                  sectype=sectypes[i],passive_elec_dist=reduced_passive_elec_dists[i],active_elec_dist=reduced_active_elec_dists[i])\n",
        "  except: #use red if colors isn't long enough\n",
        "        newprobe=probe(seg=i,sectionindex=AllSegSec_ID[i],sectionname=str(AllSegSec_name[i]),color='r',XCoord=AllSegXCoord[i],YCoord=AllSegYCoord[i],ZCoord=AllSegZCoord[i],\n",
        "                secRa=secRas[i],segdiam=segdiams[i],segx=segxs[i],segdist=segdists[i],sectionL=SegSecL[i],sectionNseg=SegSecnseg[i],segL=segLs[i],\n",
        "               sectype=sectypes[i],passive_elec_dist=reduced_passive_elec_dists[i],active_elec_dist=reduced_active_elec_dists[i])\n",
        "  reduced_segments.append(newprobe)"
      ],
      "metadata": {
        "id": "3M_xPcpScJHH"
      },
      "execution_count": 32,
      "outputs": []
    },
    {
      "cell_type": "code",
      "source": [
        "dir(reduced_segments[3])"
      ],
      "metadata": {
        "id": "H9gM_JwEd1v3",
        "colab": {
          "base_uri": "https://localhost:8080/"
        },
        "outputId": "39a40f10-8b81-4b68-dd17-e82f8360bcb0"
      },
      "execution_count": 33,
      "outputs": [
        {
          "output_type": "execute_result",
          "data": {
            "text/plain": [
              "['XCoord',\n",
              " 'YCoord',\n",
              " 'ZCoord',\n",
              " '__class__',\n",
              " '__delattr__',\n",
              " '__dict__',\n",
              " '__dir__',\n",
              " '__doc__',\n",
              " '__eq__',\n",
              " '__format__',\n",
              " '__ge__',\n",
              " '__getattribute__',\n",
              " '__gt__',\n",
              " '__hash__',\n",
              " '__init__',\n",
              " '__init_subclass__',\n",
              " '__le__',\n",
              " '__lt__',\n",
              " '__module__',\n",
              " '__ne__',\n",
              " '__new__',\n",
              " '__reduce__',\n",
              " '__reduce_ex__',\n",
              " '__repr__',\n",
              " '__setattr__',\n",
              " '__sizeof__',\n",
              " '__str__',\n",
              " '__subclasshook__',\n",
              " '__weakref__',\n",
              " 'active_elec_dist',\n",
              " 'adjprobes',\n",
              " 'axialcurrents',\n",
              " 'childprobes',\n",
              " 'childrenaxialcurrents',\n",
              " 'color',\n",
              " 'halfsegRa',\n",
              " 'name',\n",
              " 'parentaxialcurrent',\n",
              " 'parentprobe',\n",
              " 'parentseg',\n",
              " 'passive_elec_dist',\n",
              " 'secL',\n",
              " 'secRa',\n",
              " 'secnseg',\n",
              " 'sectionindex',\n",
              " 'sectionname',\n",
              " 'sectype',\n",
              " 'seg',\n",
              " 'segL',\n",
              " 'segdiam',\n",
              " 'segdist',\n",
              " 'x']"
            ]
          },
          "metadata": {},
          "execution_count": 33
        }
      ]
    },
    {
      "cell_type": "code",
      "source": [
        "#Find equivalent passive elec_dist\n",
        "passive_elec_dist_to_nexus=complex_segments[nexus[0]].passive_elec_dist #Complex cell nexus electrotonic distance\n",
        "print(\"Complex Cell's electrotonic distance to nexus branching segment:\",passive_elec_dist_to_nexus)\n",
        "print(\"Electrotonic distance to each segment in the reduced apical cylinder:\")\n",
        "for i in range(len(reduced_segments)):\n",
        "  if reduced_segments[i].sectype==\"apic\":\n",
        "    print(reduced_segments[i].passive_elec_dist)\n",
        "    if reduced_segments[i].passive_elec_dist==passive_elec_dist_to_nexus:\n",
        "      print(\"This is segment with equivalent elec distance\",i)"
      ],
      "metadata": {
        "colab": {
          "base_uri": "https://localhost:8080/"
        },
        "id": "ihthJusSbMgQ",
        "outputId": "6a3163a4-84ec-4e99-c6a2-907de35f54be"
      },
      "execution_count": 34,
      "outputs": [
        {
          "output_type": "stream",
          "name": "stdout",
          "text": [
            "Complex Cell's electrotonic distance to nexus branching segment: 0.4901355173781123\n",
            "Electrotonic distance to each segment in the reduced apical cylinder:\n",
            "0.7298711599591347\n",
            "0.447481739852937\n",
            "0.2381255595102555\n",
            "0.1349064391361602\n",
            "0.0828594903777789\n",
            "0.0581384662416262\n",
            "0.0411705371971909\n",
            "0.0294649850297952\n",
            "0.0203635625918278\n",
            "0.0142351057575153\n",
            "0.0103764513566344\n",
            "0.0077373576590357\n",
            "0.0059944038655908\n",
            "0.0046649948324808\n",
            "0.00366598884273\n",
            "0.0026467662964195\n",
            "0.0018494737120769\n",
            "0.0013562923815485\n",
            "0.0010493799812112\n"
          ]
        }
      ]
    },
    {
      "cell_type": "code",
      "source": [
        "#Find equivalent elec_dist\n",
        "#active\n",
        "passive_elec_dist_to_nexus=complex_segments[nexus[0]].passive_elec_dist #Complex cell nexus electrotonic distance\n",
        "print(\"Complex Cell's electrotonic distance to nexus branching segment:\",passive_elec_dist_to_nexus)\n",
        "print(\"Minimum passive electrotonic distance|complex:\",min(complex_passive_elec_dists),\"|reduced:\",min(reduced_passive_elec_dists))\n",
        "print()\n",
        "#active\n",
        "active_elec_dist_to_nexus=complex_segments[nexus[0]].active_elec_dist #Complex cell nexus electrotonic distance\n",
        "print(\"Complex Cell's electrotonic distance to nexus branching segment:\",active_elec_dist_to_nexus)\n",
        "print(\"Minimum active electrotonic distance|complex:\",min(complex_active_elec_dists),\"|reduced:\",min(reduced_active_elec_dists))\n",
        "def find_matching_apical_elec_dist(reduced_segments,channels='Passive'):\n",
        "  if channels=='Passive':\n",
        "    for i,reduced_seg in enumerate(reduced_segments):\n",
        "      if reduced_seg.sectype==\"apic\":\n",
        "        # print(reduced_seg.passive_elec_dist)\n",
        "        if reduced_seg.passive_elec_dist<passive_elec_dist_to_nexus:\n",
        "          return i\n",
        "  else:\n",
        "    for i,reduced_seg in enumerate(reduced_segments):\n",
        "      if reduced_seg.sectype==\"apic\":\n",
        "        # print(reduced_seg.active_elec_dist)\n",
        "        if reduced_seg.active_elec_dist<active_elec_dist_to_nexus:\n",
        "          return i\n",
        "print()\n",
        "i=find_matching_apical_elec_dist(reduced_segments,channels=\"Active\")\n",
        "print(\"This is the reduced segment index matching active_elec_dist_to_nexus\",i,\"|Reduced Elec Dist\",reduced_segments[i].active_elec_dist,\"|Complex Elec Dist:\",active_elec_dist_to_nexus)\n",
        "i=find_matching_apical_elec_dist(reduced_segments,channels=\"Passive\")\n",
        "print(\"This is the reduced segment index matching passive_elec_dist_to_nexus\",i,\"|Reduced Elec Dist\",reduced_segments[i].passive_elec_dist,\"|Complex Elec Dist:\",passive_elec_dist_to_nexus)"
      ],
      "metadata": {
        "colab": {
          "base_uri": "https://localhost:8080/"
        },
        "id": "fzeEHCMEjKsI",
        "outputId": "885d8068-bd69-4502-b7a8-7c5f6c18f7b8"
      },
      "execution_count": 35,
      "outputs": [
        {
          "output_type": "stream",
          "name": "stdout",
          "text": [
            "Complex Cell's electrotonic distance to nexus branching segment: 0.4901355173781123\n",
            "Minimum passive electrotonic distance|complex: 0.0088797589888252 |reduced: 0.0010493799812112\n",
            "\n",
            "Complex Cell's electrotonic distance to nexus branching segment: 0.4022223254102383\n",
            "Minimum active electrotonic distance|complex: 0.0023311422681292 |reduced: 0.0007976685895304\n",
            "\n",
            "This is the reduced segment index matching active_elec_dist_to_nexus 2 |Reduced Elec Dist 0.2406708784320541 |Complex Elec Dist: 0.4022223254102383\n",
            "This is the reduced segment index matching passive_elec_dist_to_nexus 1 |Reduced Elec Dist 0.447481739852937 |Complex Elec Dist: 0.4901355173781123\n"
          ]
        }
      ]
    },
    {
      "cell_type": "code",
      "source": [
        "print(complex_segments)"
      ],
      "metadata": {
        "id": "PHEYKbzQb-bN",
        "colab": {
          "base_uri": "https://localhost:8080/"
        },
        "outputId": "edb25d41-98e2-4424-86fc-300e9ddbfa1b"
      },
      "execution_count": 36,
      "outputs": [
        {
          "output_type": "stream",
          "name": "stdout",
          "text": [
            "[<__main__.probe object at 0x7fc0f880c670>, <__main__.probe object at 0x7fc0f880c7f0>, <__main__.probe object at 0x7fc0f880c820>, <__main__.probe object at 0x7fc0f880c880>, <__main__.probe object at 0x7fc0f880c8b0>, <__main__.probe object at 0x7fc0f880c8e0>, <__main__.probe object at 0x7fc0f880c910>, <__main__.probe object at 0x7fc0f880c940>, <__main__.probe object at 0x7fc0f880c970>, <__main__.probe object at 0x7fc0f880c9a0>, <__main__.probe object at 0x7fc0f880c9d0>, <__main__.probe object at 0x7fc0f880ca00>, <__main__.probe object at 0x7fc0f880ca30>, <__main__.probe object at 0x7fc0f880ca60>, <__main__.probe object at 0x7fc0f880ca90>, <__main__.probe object at 0x7fc0f880cac0>, <__main__.probe object at 0x7fc0f880caf0>, <__main__.probe object at 0x7fc0f880cb20>, <__main__.probe object at 0x7fc0f880cb50>, <__main__.probe object at 0x7fc0f880cb80>, <__main__.probe object at 0x7fc0f880cbb0>, <__main__.probe object at 0x7fc0f880cbe0>, <__main__.probe object at 0x7fc0f880cc10>, <__main__.probe object at 0x7fc0f880cc40>, <__main__.probe object at 0x7fc0f880cc70>, <__main__.probe object at 0x7fc0f880cca0>, <__main__.probe object at 0x7fc0f880ccd0>, <__main__.probe object at 0x7fc0f880cd00>, <__main__.probe object at 0x7fc0f880cd30>, <__main__.probe object at 0x7fc0f8817ee0>, <__main__.probe object at 0x7fc0f8817f10>, <__main__.probe object at 0x7fc0f8817460>, <__main__.probe object at 0x7fc0f8817430>, <__main__.probe object at 0x7fc0f8817400>, <__main__.probe object at 0x7fc0f88173d0>, <__main__.probe object at 0x7fc0f88173a0>, <__main__.probe object at 0x7fc0f8817370>, <__main__.probe object at 0x7fc0f8817340>, <__main__.probe object at 0x7fc0f8817310>, <__main__.probe object at 0x7fc0f88172e0>, <__main__.probe object at 0x7fc0f88172b0>, <__main__.probe object at 0x7fc0f8817280>, <__main__.probe object at 0x7fc0f8817250>, <__main__.probe object at 0x7fc0f8817220>, <__main__.probe object at 0x7fc0f88171f0>, <__main__.probe object at 0x7fc0f88171c0>, <__main__.probe object at 0x7fc0f8817190>, <__main__.probe object at 0x7fc0f8817160>, <__main__.probe object at 0x7fc0f8817130>, <__main__.probe object at 0x7fc0f8817100>, <__main__.probe object at 0x7fc0f88170d0>, <__main__.probe object at 0x7fc0f88170a0>, <__main__.probe object at 0x7fc0f8817070>, <__main__.probe object at 0x7fc0f8817040>, <__main__.probe object at 0x7fc0f8817f40>, <__main__.probe object at 0x7fc0f8817f70>, <__main__.probe object at 0x7fc0f8817fa0>, <__main__.probe object at 0x7fc0f8817fd0>, <__main__.probe object at 0x7fc0f84e3040>, <__main__.probe object at 0x7fc0f84e3070>, <__main__.probe object at 0x7fc0f84e30a0>, <__main__.probe object at 0x7fc0f84e30d0>, <__main__.probe object at 0x7fc0f84e3100>, <__main__.probe object at 0x7fc0f84e3130>, <__main__.probe object at 0x7fc0f84e3160>, <__main__.probe object at 0x7fc0f84e3190>, <__main__.probe object at 0x7fc0f84e31c0>, <__main__.probe object at 0x7fc0f84e31f0>, <__main__.probe object at 0x7fc0f84e3220>, <__main__.probe object at 0x7fc0f84e3250>, <__main__.probe object at 0x7fc0f84e3280>, <__main__.probe object at 0x7fc0f84e32b0>, <__main__.probe object at 0x7fc0f84e32e0>, <__main__.probe object at 0x7fc0f84e3310>, <__main__.probe object at 0x7fc0f84e3340>, <__main__.probe object at 0x7fc0f84e3370>, <__main__.probe object at 0x7fc0f84e33a0>, <__main__.probe object at 0x7fc0f84e33d0>, <__main__.probe object at 0x7fc0f84e3400>, <__main__.probe object at 0x7fc0f84e3430>, <__main__.probe object at 0x7fc0f84e3460>, <__main__.probe object at 0x7fc0f84e3490>, <__main__.probe object at 0x7fc0f84e34c0>, <__main__.probe object at 0x7fc0f84e34f0>, <__main__.probe object at 0x7fc0f84e3520>, <__main__.probe object at 0x7fc0f84e3550>, <__main__.probe object at 0x7fc0f84e3580>, <__main__.probe object at 0x7fc0f84e35b0>, <__main__.probe object at 0x7fc0f84e35e0>, <__main__.probe object at 0x7fc0f84e3610>, <__main__.probe object at 0x7fc0f84e3640>, <__main__.probe object at 0x7fc0f84e3670>, <__main__.probe object at 0x7fc0f84e36a0>, <__main__.probe object at 0x7fc0f84e36d0>, <__main__.probe object at 0x7fc0f84e3700>, <__main__.probe object at 0x7fc0f84e3730>, <__main__.probe object at 0x7fc0f84e3760>, <__main__.probe object at 0x7fc0f84e3790>, <__main__.probe object at 0x7fc0f84e37c0>, <__main__.probe object at 0x7fc0f84e37f0>, <__main__.probe object at 0x7fc0f84e3820>, <__main__.probe object at 0x7fc0f84e3850>, <__main__.probe object at 0x7fc0f84e3880>, <__main__.probe object at 0x7fc0f84e38b0>, <__main__.probe object at 0x7fc0f84e38e0>, <__main__.probe object at 0x7fc0f84e3910>, <__main__.probe object at 0x7fc0f84e3940>, <__main__.probe object at 0x7fc0f84e3970>, <__main__.probe object at 0x7fc0f84e39a0>, <__main__.probe object at 0x7fc0f84e39d0>, <__main__.probe object at 0x7fc0f84e3a00>, <__main__.probe object at 0x7fc0f84e3a30>, <__main__.probe object at 0x7fc0f84e3a60>, <__main__.probe object at 0x7fc0f84e3a90>, <__main__.probe object at 0x7fc0f84e3ac0>, <__main__.probe object at 0x7fc0f84e3af0>, <__main__.probe object at 0x7fc0f84e3b20>, <__main__.probe object at 0x7fc0f84e3b50>, <__main__.probe object at 0x7fc0f84e3b80>, <__main__.probe object at 0x7fc0f84e3bb0>, <__main__.probe object at 0x7fc0f84e3be0>, <__main__.probe object at 0x7fc0f84e3c10>, <__main__.probe object at 0x7fc0f84e3c40>, <__main__.probe object at 0x7fc0f84e3c70>, <__main__.probe object at 0x7fc0f84e3ca0>, <__main__.probe object at 0x7fc0f84e3cd0>, <__main__.probe object at 0x7fc0f84e3d00>, <__main__.probe object at 0x7fc0f84e3d30>, <__main__.probe object at 0x7fc0f84e3d60>, <__main__.probe object at 0x7fc0f84e3d90>, <__main__.probe object at 0x7fc0f84e3dc0>, <__main__.probe object at 0x7fc0f84e3df0>, <__main__.probe object at 0x7fc0f84e3e20>, <__main__.probe object at 0x7fc0f84e3e50>, <__main__.probe object at 0x7fc0f84e3e80>, <__main__.probe object at 0x7fc0f84e3eb0>, <__main__.probe object at 0x7fc0f84e3ee0>, <__main__.probe object at 0x7fc0f84e3f10>, <__main__.probe object at 0x7fc0f84e3f40>, <__main__.probe object at 0x7fc0f84e3f70>, <__main__.probe object at 0x7fc0f84e3fa0>, <__main__.probe object at 0x7fc0f84e3fd0>, <__main__.probe object at 0x7fc0f84da040>, <__main__.probe object at 0x7fc0f84da070>, <__main__.probe object at 0x7fc0f84da0a0>, <__main__.probe object at 0x7fc0f84da0d0>, <__main__.probe object at 0x7fc0f84da100>, <__main__.probe object at 0x7fc0f84da130>, <__main__.probe object at 0x7fc0f84da160>, <__main__.probe object at 0x7fc0f84da190>, <__main__.probe object at 0x7fc0f84da1c0>, <__main__.probe object at 0x7fc0f84da1f0>, <__main__.probe object at 0x7fc0f84da220>, <__main__.probe object at 0x7fc0f84da250>, <__main__.probe object at 0x7fc0f84da280>, <__main__.probe object at 0x7fc0f84da2b0>, <__main__.probe object at 0x7fc0f84da2e0>, <__main__.probe object at 0x7fc0f84da310>, <__main__.probe object at 0x7fc0f84da340>, <__main__.probe object at 0x7fc0f84da370>, <__main__.probe object at 0x7fc0f84da3a0>, <__main__.probe object at 0x7fc0f84da3d0>, <__main__.probe object at 0x7fc0f84da400>, <__main__.probe object at 0x7fc0f84da430>, <__main__.probe object at 0x7fc0f84da460>, <__main__.probe object at 0x7fc0f84da490>, <__main__.probe object at 0x7fc0f84da4c0>, <__main__.probe object at 0x7fc0f84da4f0>, <__main__.probe object at 0x7fc0f84da520>, <__main__.probe object at 0x7fc0f84da550>, <__main__.probe object at 0x7fc0f84da580>, <__main__.probe object at 0x7fc0f84da5b0>, <__main__.probe object at 0x7fc0f84da5e0>, <__main__.probe object at 0x7fc0f84da610>, <__main__.probe object at 0x7fc0f84da640>, <__main__.probe object at 0x7fc0f84da670>, <__main__.probe object at 0x7fc0f84da6a0>, <__main__.probe object at 0x7fc0f84da6d0>, <__main__.probe object at 0x7fc0f84da700>, <__main__.probe object at 0x7fc0f84da730>, <__main__.probe object at 0x7fc0f84da760>, <__main__.probe object at 0x7fc0f84da790>, <__main__.probe object at 0x7fc0f84da7c0>, <__main__.probe object at 0x7fc0f84da7f0>, <__main__.probe object at 0x7fc0f84da820>, <__main__.probe object at 0x7fc0f84da850>, <__main__.probe object at 0x7fc0f84da880>, <__main__.probe object at 0x7fc0f84da8b0>, <__main__.probe object at 0x7fc0f84da8e0>, <__main__.probe object at 0x7fc0f84da910>, <__main__.probe object at 0x7fc0f84da940>, <__main__.probe object at 0x7fc0f84da970>, <__main__.probe object at 0x7fc0f84da9a0>, <__main__.probe object at 0x7fc0f84da9d0>, <__main__.probe object at 0x7fc0f84daa00>, <__main__.probe object at 0x7fc0f84daa30>, <__main__.probe object at 0x7fc0f84daa60>, <__main__.probe object at 0x7fc0f84daa90>, <__main__.probe object at 0x7fc0f84daac0>, <__main__.probe object at 0x7fc0f84daaf0>, <__main__.probe object at 0x7fc0f84dab20>, <__main__.probe object at 0x7fc0f84dab50>, <__main__.probe object at 0x7fc0f84dab80>, <__main__.probe object at 0x7fc0f84dabb0>, <__main__.probe object at 0x7fc0f84dabe0>, <__main__.probe object at 0x7fc0f84dac10>, <__main__.probe object at 0x7fc0f84dac40>, <__main__.probe object at 0x7fc0f84dac70>, <__main__.probe object at 0x7fc0f84daca0>, <__main__.probe object at 0x7fc0f84dacd0>, <__main__.probe object at 0x7fc0f84dad00>, <__main__.probe object at 0x7fc0f84dad30>, <__main__.probe object at 0x7fc0f84dad60>, <__main__.probe object at 0x7fc0f84dad90>, <__main__.probe object at 0x7fc0f84dadc0>, <__main__.probe object at 0x7fc0f84dadf0>, <__main__.probe object at 0x7fc0f84dae20>, <__main__.probe object at 0x7fc0f84dae50>, <__main__.probe object at 0x7fc0f84dae80>, <__main__.probe object at 0x7fc0f84daeb0>, <__main__.probe object at 0x7fc0f84daee0>, <__main__.probe object at 0x7fc0f84daf10>, <__main__.probe object at 0x7fc0f84daf40>, <__main__.probe object at 0x7fc0f84daf70>, <__main__.probe object at 0x7fc0f84dafa0>, <__main__.probe object at 0x7fc0f84dafd0>, <__main__.probe object at 0x7fc0f83e4040>, <__main__.probe object at 0x7fc0f83e4070>, <__main__.probe object at 0x7fc0f83e40a0>, <__main__.probe object at 0x7fc0f83e40d0>, <__main__.probe object at 0x7fc0f83e4100>, <__main__.probe object at 0x7fc0f83e4130>, <__main__.probe object at 0x7fc0f83e4160>, <__main__.probe object at 0x7fc0f83e4190>, <__main__.probe object at 0x7fc0f83e41c0>, <__main__.probe object at 0x7fc0f83e41f0>, <__main__.probe object at 0x7fc0f83e4220>, <__main__.probe object at 0x7fc0f83e4250>, <__main__.probe object at 0x7fc0f83e4280>, <__main__.probe object at 0x7fc0f83e42b0>, <__main__.probe object at 0x7fc0f83e42e0>, <__main__.probe object at 0x7fc0f83e4310>, <__main__.probe object at 0x7fc0f83e4340>, <__main__.probe object at 0x7fc0f83e4370>, <__main__.probe object at 0x7fc0f83e43a0>, <__main__.probe object at 0x7fc0f83e43d0>, <__main__.probe object at 0x7fc0f83e4400>, <__main__.probe object at 0x7fc0f83e4430>, <__main__.probe object at 0x7fc0f83e4460>, <__main__.probe object at 0x7fc0f83e4490>, <__main__.probe object at 0x7fc0f83e44c0>, <__main__.probe object at 0x7fc0f83e44f0>, <__main__.probe object at 0x7fc0f83e4520>, <__main__.probe object at 0x7fc0f83e4550>, <__main__.probe object at 0x7fc0f83e4580>, <__main__.probe object at 0x7fc0f83e45b0>, <__main__.probe object at 0x7fc0f83e45e0>, <__main__.probe object at 0x7fc0f83e4610>, <__main__.probe object at 0x7fc0f83e4640>, <__main__.probe object at 0x7fc0f83e4670>, <__main__.probe object at 0x7fc0f83e46a0>, <__main__.probe object at 0x7fc0f83e46d0>, <__main__.probe object at 0x7fc0f83e4700>, <__main__.probe object at 0x7fc0f83e4730>, <__main__.probe object at 0x7fc0f83e4760>, <__main__.probe object at 0x7fc0f83e4790>, <__main__.probe object at 0x7fc0f83e47c0>, <__main__.probe object at 0x7fc0f83e47f0>, <__main__.probe object at 0x7fc0f83e4820>, <__main__.probe object at 0x7fc0f83e4850>, <__main__.probe object at 0x7fc0f83e4880>, <__main__.probe object at 0x7fc0f83e48b0>, <__main__.probe object at 0x7fc0f83e48e0>, <__main__.probe object at 0x7fc0f83e4910>, <__main__.probe object at 0x7fc0f83e4940>, <__main__.probe object at 0x7fc0f83e4970>, <__main__.probe object at 0x7fc0f83e49a0>, <__main__.probe object at 0x7fc0f83e49d0>, <__main__.probe object at 0x7fc0f83e4a00>, <__main__.probe object at 0x7fc0f83e4a30>, <__main__.probe object at 0x7fc0f83e4a60>, <__main__.probe object at 0x7fc0f83e4a90>, <__main__.probe object at 0x7fc0f83e4ac0>, <__main__.probe object at 0x7fc0f83e4af0>, <__main__.probe object at 0x7fc0f83e4b20>, <__main__.probe object at 0x7fc0f83e4b50>, <__main__.probe object at 0x7fc0f83e4b80>, <__main__.probe object at 0x7fc0f83e4bb0>, <__main__.probe object at 0x7fc0f83e4be0>, <__main__.probe object at 0x7fc0f83e4c10>, <__main__.probe object at 0x7fc0f83e4c40>, <__main__.probe object at 0x7fc0f83e4c70>, <__main__.probe object at 0x7fc0f83e4ca0>, <__main__.probe object at 0x7fc0f83e4cd0>, <__main__.probe object at 0x7fc0f83e4d00>, <__main__.probe object at 0x7fc0f83e4d30>, <__main__.probe object at 0x7fc0f83e4d60>, <__main__.probe object at 0x7fc0f83e4d90>, <__main__.probe object at 0x7fc0f83e4dc0>, <__main__.probe object at 0x7fc0f83e4df0>, <__main__.probe object at 0x7fc0f83e4e20>, <__main__.probe object at 0x7fc0f83e4e50>, <__main__.probe object at 0x7fc0f83e4e80>, <__main__.probe object at 0x7fc0f83e4eb0>, <__main__.probe object at 0x7fc0f83e4ee0>, <__main__.probe object at 0x7fc0f83e4f10>, <__main__.probe object at 0x7fc0f83e4f40>, <__main__.probe object at 0x7fc0f83e4f70>, <__main__.probe object at 0x7fc0f83e4fa0>, <__main__.probe object at 0x7fc0f83e4fd0>, <__main__.probe object at 0x7fc0f83cf040>, <__main__.probe object at 0x7fc0f83cf070>, <__main__.probe object at 0x7fc0f83cf0a0>, <__main__.probe object at 0x7fc0f83cf0d0>, <__main__.probe object at 0x7fc0f83cf100>, <__main__.probe object at 0x7fc0f83cf130>, <__main__.probe object at 0x7fc0f83cf160>, <__main__.probe object at 0x7fc0f83cf190>, <__main__.probe object at 0x7fc0f83cf1c0>, <__main__.probe object at 0x7fc0f83cf1f0>, <__main__.probe object at 0x7fc0f83cf220>, <__main__.probe object at 0x7fc0f83cf250>, <__main__.probe object at 0x7fc0f83cf280>, <__main__.probe object at 0x7fc0f83cf2b0>, <__main__.probe object at 0x7fc0f83cf2e0>, <__main__.probe object at 0x7fc0f83cf310>, <__main__.probe object at 0x7fc0f83cf340>, <__main__.probe object at 0x7fc0f83cf370>, <__main__.probe object at 0x7fc0f83cf3a0>, <__main__.probe object at 0x7fc0f83cf3d0>, <__main__.probe object at 0x7fc0f83cf400>, <__main__.probe object at 0x7fc0f83cf430>, <__main__.probe object at 0x7fc0f83cf460>, <__main__.probe object at 0x7fc0f83cf490>, <__main__.probe object at 0x7fc0f83cf4c0>, <__main__.probe object at 0x7fc0f83cf4f0>, <__main__.probe object at 0x7fc0f83cf520>, <__main__.probe object at 0x7fc0f83cf550>, <__main__.probe object at 0x7fc0f83cf580>, <__main__.probe object at 0x7fc0f83cf5b0>, <__main__.probe object at 0x7fc0f83cf5e0>, <__main__.probe object at 0x7fc0f83cf610>, <__main__.probe object at 0x7fc0f83cf640>, <__main__.probe object at 0x7fc0f83cf670>, <__main__.probe object at 0x7fc0f83cf6a0>, <__main__.probe object at 0x7fc0f83cf6d0>, <__main__.probe object at 0x7fc0f83cf700>, <__main__.probe object at 0x7fc0f83cf730>, <__main__.probe object at 0x7fc0f83cf760>, <__main__.probe object at 0x7fc0f83cf790>, <__main__.probe object at 0x7fc0f83cf7c0>, <__main__.probe object at 0x7fc0f83cf7f0>, <__main__.probe object at 0x7fc0f83cf820>, <__main__.probe object at 0x7fc0f83cf850>, <__main__.probe object at 0x7fc0f83cf880>, <__main__.probe object at 0x7fc0f83cf8b0>, <__main__.probe object at 0x7fc0f83cf8e0>, <__main__.probe object at 0x7fc0f83cf910>, <__main__.probe object at 0x7fc0f83cf940>, <__main__.probe object at 0x7fc0f83cf970>, <__main__.probe object at 0x7fc0f83cf9a0>, <__main__.probe object at 0x7fc0f83cf9d0>, <__main__.probe object at 0x7fc0f83cfa00>, <__main__.probe object at 0x7fc0f83cfa30>, <__main__.probe object at 0x7fc0f83cfa60>, <__main__.probe object at 0x7fc0f83cfa90>, <__main__.probe object at 0x7fc0f83cfac0>, <__main__.probe object at 0x7fc0f83cfaf0>, <__main__.probe object at 0x7fc0f83cfb20>, <__main__.probe object at 0x7fc0f83cfb50>, <__main__.probe object at 0x7fc0f83cfb80>, <__main__.probe object at 0x7fc0f83cfbb0>, <__main__.probe object at 0x7fc0f83cfbe0>, <__main__.probe object at 0x7fc0f83cfc10>, <__main__.probe object at 0x7fc0f83cfc40>, <__main__.probe object at 0x7fc0f83cfc70>, <__main__.probe object at 0x7fc0f83cfca0>, <__main__.probe object at 0x7fc0f83cfcd0>, <__main__.probe object at 0x7fc0f83cfd00>, <__main__.probe object at 0x7fc0f83cfd30>, <__main__.probe object at 0x7fc0f83cfd60>, <__main__.probe object at 0x7fc0f83cfd90>, <__main__.probe object at 0x7fc0f83cfdc0>, <__main__.probe object at 0x7fc0f83cfdf0>, <__main__.probe object at 0x7fc0f83cfe20>, <__main__.probe object at 0x7fc0f83cfe50>, <__main__.probe object at 0x7fc0f83cfe80>, <__main__.probe object at 0x7fc0f83cfeb0>, <__main__.probe object at 0x7fc0f83cfee0>, <__main__.probe object at 0x7fc0f83cff10>, <__main__.probe object at 0x7fc0f83cff40>, <__main__.probe object at 0x7fc0f83cff70>, <__main__.probe object at 0x7fc0f83cffa0>, <__main__.probe object at 0x7fc0f83cffd0>, <__main__.probe object at 0x7fc0f83fb040>, <__main__.probe object at 0x7fc0f83fb070>, <__main__.probe object at 0x7fc0f83fb0a0>, <__main__.probe object at 0x7fc0f83fb0d0>, <__main__.probe object at 0x7fc0f83fb100>, <__main__.probe object at 0x7fc0f83fb130>, <__main__.probe object at 0x7fc0f83fb160>, <__main__.probe object at 0x7fc0f83fb190>, <__main__.probe object at 0x7fc0f83fb1c0>, <__main__.probe object at 0x7fc0f83fb1f0>, <__main__.probe object at 0x7fc0f83fb220>, <__main__.probe object at 0x7fc0f83fb250>, <__main__.probe object at 0x7fc0f83fb280>, <__main__.probe object at 0x7fc0f83fb2b0>, <__main__.probe object at 0x7fc0f83fb2e0>, <__main__.probe object at 0x7fc0f83fb310>, <__main__.probe object at 0x7fc0f83fb340>, <__main__.probe object at 0x7fc0f83fb370>, <__main__.probe object at 0x7fc0f83fb3a0>, <__main__.probe object at 0x7fc0f83fb3d0>, <__main__.probe object at 0x7fc0f83fb400>, <__main__.probe object at 0x7fc0f83fb430>, <__main__.probe object at 0x7fc0f83fb460>, <__main__.probe object at 0x7fc0f83fb490>, <__main__.probe object at 0x7fc0f83fb4c0>, <__main__.probe object at 0x7fc0f83fb4f0>, <__main__.probe object at 0x7fc0f83fb520>, <__main__.probe object at 0x7fc0f83fb550>, <__main__.probe object at 0x7fc0f83fb580>, <__main__.probe object at 0x7fc0f83fb5b0>, <__main__.probe object at 0x7fc0f83fb5e0>, <__main__.probe object at 0x7fc0f83fb610>, <__main__.probe object at 0x7fc0f83fb640>, <__main__.probe object at 0x7fc0f83fb670>, <__main__.probe object at 0x7fc0f83fb6a0>, <__main__.probe object at 0x7fc0f83fb6d0>, <__main__.probe object at 0x7fc0f83fb700>, <__main__.probe object at 0x7fc0f83fb730>, <__main__.probe object at 0x7fc0f83fb760>, <__main__.probe object at 0x7fc0f83fb790>, <__main__.probe object at 0x7fc0f83fb7c0>, <__main__.probe object at 0x7fc0f83fb7f0>, <__main__.probe object at 0x7fc0f83fb820>, <__main__.probe object at 0x7fc0f83fb850>, <__main__.probe object at 0x7fc0f83fb880>, <__main__.probe object at 0x7fc0f83fb8b0>, <__main__.probe object at 0x7fc0f83fb8e0>, <__main__.probe object at 0x7fc0f83fb910>, <__main__.probe object at 0x7fc0f83fb940>, <__main__.probe object at 0x7fc0f83fb970>, <__main__.probe object at 0x7fc0f83fb9a0>, <__main__.probe object at 0x7fc0f83fb9d0>, <__main__.probe object at 0x7fc0f83fba00>, <__main__.probe object at 0x7fc0f83fba30>, <__main__.probe object at 0x7fc0f83fba60>, <__main__.probe object at 0x7fc0f83fba90>, <__main__.probe object at 0x7fc0f83fbac0>, <__main__.probe object at 0x7fc0f83fbaf0>, <__main__.probe object at 0x7fc0f83fbb20>, <__main__.probe object at 0x7fc0f83fbb50>, <__main__.probe object at 0x7fc0f83fbb80>, <__main__.probe object at 0x7fc0f83fbbb0>, <__main__.probe object at 0x7fc0f83fbbe0>, <__main__.probe object at 0x7fc0f83fbc10>, <__main__.probe object at 0x7fc0f83fbc40>, <__main__.probe object at 0x7fc0f83fbc70>, <__main__.probe object at 0x7fc0f83fbca0>, <__main__.probe object at 0x7fc0f83fbcd0>, <__main__.probe object at 0x7fc0f83fbd00>, <__main__.probe object at 0x7fc0f83fbd30>, <__main__.probe object at 0x7fc0f83fbd60>, <__main__.probe object at 0x7fc0f83fbd90>, <__main__.probe object at 0x7fc0f83fbdc0>, <__main__.probe object at 0x7fc0f83fbdf0>, <__main__.probe object at 0x7fc0f83fbe20>, <__main__.probe object at 0x7fc0f83fbe50>, <__main__.probe object at 0x7fc0f83fbe80>, <__main__.probe object at 0x7fc0f83fbeb0>, <__main__.probe object at 0x7fc0f83fbee0>, <__main__.probe object at 0x7fc0f83fbf10>, <__main__.probe object at 0x7fc0f83fbf40>, <__main__.probe object at 0x7fc0f83fbf70>, <__main__.probe object at 0x7fc0f83fbfa0>, <__main__.probe object at 0x7fc0f83fbfd0>, <__main__.probe object at 0x7fc0f845a040>, <__main__.probe object at 0x7fc0f845a070>, <__main__.probe object at 0x7fc0f845a0a0>, <__main__.probe object at 0x7fc0f845a0d0>, <__main__.probe object at 0x7fc0f845a100>, <__main__.probe object at 0x7fc0f845a130>, <__main__.probe object at 0x7fc0f845a160>, <__main__.probe object at 0x7fc0f845a190>, <__main__.probe object at 0x7fc0f845a1c0>, <__main__.probe object at 0x7fc0f845a1f0>, <__main__.probe object at 0x7fc0f845a220>, <__main__.probe object at 0x7fc0f845a250>, <__main__.probe object at 0x7fc0f845a280>, <__main__.probe object at 0x7fc0f845a2b0>, <__main__.probe object at 0x7fc0f845a2e0>, <__main__.probe object at 0x7fc0f845a310>, <__main__.probe object at 0x7fc0f845a340>, <__main__.probe object at 0x7fc0f845a370>, <__main__.probe object at 0x7fc0f845a3a0>, <__main__.probe object at 0x7fc0f845a3d0>, <__main__.probe object at 0x7fc0f845a400>, <__main__.probe object at 0x7fc0f845a430>, <__main__.probe object at 0x7fc0f845a460>, <__main__.probe object at 0x7fc0f845a490>, <__main__.probe object at 0x7fc0f845a4c0>, <__main__.probe object at 0x7fc0f845a4f0>, <__main__.probe object at 0x7fc0f845a520>, <__main__.probe object at 0x7fc0f845a550>, <__main__.probe object at 0x7fc0f845a580>, <__main__.probe object at 0x7fc0f845a5b0>, <__main__.probe object at 0x7fc0f845a5e0>, <__main__.probe object at 0x7fc0f845a610>, <__main__.probe object at 0x7fc0f845a640>, <__main__.probe object at 0x7fc0f845a670>, <__main__.probe object at 0x7fc0f845a6a0>, <__main__.probe object at 0x7fc0f845a6d0>, <__main__.probe object at 0x7fc0f845a700>, <__main__.probe object at 0x7fc0f845a730>, <__main__.probe object at 0x7fc0f845a760>, <__main__.probe object at 0x7fc0f845a790>, <__main__.probe object at 0x7fc0f845a7c0>, <__main__.probe object at 0x7fc0f845a7f0>, <__main__.probe object at 0x7fc0f845a820>, <__main__.probe object at 0x7fc0f845a850>, <__main__.probe object at 0x7fc0f845a880>, <__main__.probe object at 0x7fc0f845a8b0>, <__main__.probe object at 0x7fc0f845a8e0>, <__main__.probe object at 0x7fc0f845a910>, <__main__.probe object at 0x7fc0f845a940>, <__main__.probe object at 0x7fc0f845a970>, <__main__.probe object at 0x7fc0f845a9a0>, <__main__.probe object at 0x7fc0f845a9d0>, <__main__.probe object at 0x7fc0f845aa00>, <__main__.probe object at 0x7fc0f845aa30>, <__main__.probe object at 0x7fc0f845aa60>, <__main__.probe object at 0x7fc0f845aa90>, <__main__.probe object at 0x7fc0f845aac0>, <__main__.probe object at 0x7fc0f845aaf0>, <__main__.probe object at 0x7fc0f845ab20>, <__main__.probe object at 0x7fc0f845ab50>, <__main__.probe object at 0x7fc0f845ab80>, <__main__.probe object at 0x7fc0f845abb0>, <__main__.probe object at 0x7fc0f845abe0>, <__main__.probe object at 0x7fc0f845ac10>, <__main__.probe object at 0x7fc0f845ac40>, <__main__.probe object at 0x7fc0f845ac70>, <__main__.probe object at 0x7fc0f845aca0>, <__main__.probe object at 0x7fc0f845acd0>, <__main__.probe object at 0x7fc0f845ad00>, <__main__.probe object at 0x7fc0f845ad30>, <__main__.probe object at 0x7fc0f845ad60>, <__main__.probe object at 0x7fc0f845ad90>, <__main__.probe object at 0x7fc0f845adc0>, <__main__.probe object at 0x7fc0f845adf0>, <__main__.probe object at 0x7fc0f845ae20>, <__main__.probe object at 0x7fc0f845ae50>, <__main__.probe object at 0x7fc0f845ae80>, <__main__.probe object at 0x7fc0f845aeb0>, <__main__.probe object at 0x7fc0f845aee0>, <__main__.probe object at 0x7fc0f845af10>, <__main__.probe object at 0x7fc0f845af40>, <__main__.probe object at 0x7fc0f845af70>, <__main__.probe object at 0x7fc0f845afa0>, <__main__.probe object at 0x7fc0f845afd0>, <__main__.probe object at 0x7fc0f8470040>, <__main__.probe object at 0x7fc0f8470070>, <__main__.probe object at 0x7fc0f84700a0>, <__main__.probe object at 0x7fc0f84700d0>, <__main__.probe object at 0x7fc0f8470100>, <__main__.probe object at 0x7fc0f8470130>, <__main__.probe object at 0x7fc0f8470160>, <__main__.probe object at 0x7fc0f8470190>, <__main__.probe object at 0x7fc0f84701c0>, <__main__.probe object at 0x7fc0f84701f0>, <__main__.probe object at 0x7fc0f8470220>, <__main__.probe object at 0x7fc0f8470250>, <__main__.probe object at 0x7fc0f8470280>, <__main__.probe object at 0x7fc0f84702b0>, <__main__.probe object at 0x7fc0f84702e0>, <__main__.probe object at 0x7fc0f8470310>, <__main__.probe object at 0x7fc0f8470340>, <__main__.probe object at 0x7fc0f8470370>, <__main__.probe object at 0x7fc0f84703a0>, <__main__.probe object at 0x7fc0f84703d0>, <__main__.probe object at 0x7fc0f8470400>, <__main__.probe object at 0x7fc0f8470430>, <__main__.probe object at 0x7fc0f8470460>, <__main__.probe object at 0x7fc0f8470490>, <__main__.probe object at 0x7fc0f84704c0>, <__main__.probe object at 0x7fc0f84704f0>, <__main__.probe object at 0x7fc0f8470520>, <__main__.probe object at 0x7fc0f8470550>, <__main__.probe object at 0x7fc0f8470580>, <__main__.probe object at 0x7fc0f84705b0>, <__main__.probe object at 0x7fc0f84705e0>, <__main__.probe object at 0x7fc0f8470610>, <__main__.probe object at 0x7fc0f8470640>, <__main__.probe object at 0x7fc0f8470670>, <__main__.probe object at 0x7fc0f84706a0>, <__main__.probe object at 0x7fc0f84706d0>, <__main__.probe object at 0x7fc0f8470700>, <__main__.probe object at 0x7fc0f8470730>, <__main__.probe object at 0x7fc0f8470760>, <__main__.probe object at 0x7fc0f8470790>, <__main__.probe object at 0x7fc0f84707c0>, <__main__.probe object at 0x7fc0f84707f0>, <__main__.probe object at 0x7fc0f8470820>, <__main__.probe object at 0x7fc0f8470850>, <__main__.probe object at 0x7fc0f8470880>, <__main__.probe object at 0x7fc0f84708b0>, <__main__.probe object at 0x7fc0f84708e0>, <__main__.probe object at 0x7fc0f8470910>, <__main__.probe object at 0x7fc0f8470940>, <__main__.probe object at 0x7fc0f8470970>, <__main__.probe object at 0x7fc0f84709a0>, <__main__.probe object at 0x7fc0f84709d0>, <__main__.probe object at 0x7fc0f8470a00>, <__main__.probe object at 0x7fc0f8470a30>, <__main__.probe object at 0x7fc0f8470a60>, <__main__.probe object at 0x7fc0f8470a90>, <__main__.probe object at 0x7fc0f8470ac0>, <__main__.probe object at 0x7fc0f8470af0>, <__main__.probe object at 0x7fc0f8470b20>, <__main__.probe object at 0x7fc0f8470b50>, <__main__.probe object at 0x7fc0f8470b80>, <__main__.probe object at 0x7fc0f8470bb0>, <__main__.probe object at 0x7fc0f8470be0>, <__main__.probe object at 0x7fc0f8470c10>, <__main__.probe object at 0x7fc0f8470c40>, <__main__.probe object at 0x7fc0f8470c70>, <__main__.probe object at 0x7fc0f8470ca0>, <__main__.probe object at 0x7fc0f8470cd0>, <__main__.probe object at 0x7fc0f8470d00>, <__main__.probe object at 0x7fc0f8470d30>, <__main__.probe object at 0x7fc0f8470d60>, <__main__.probe object at 0x7fc0f8470d90>, <__main__.probe object at 0x7fc0f8470dc0>, <__main__.probe object at 0x7fc0f8470df0>, <__main__.probe object at 0x7fc0f8470e20>, <__main__.probe object at 0x7fc0f8470e50>, <__main__.probe object at 0x7fc0f8470e80>, <__main__.probe object at 0x7fc0f8470eb0>, <__main__.probe object at 0x7fc0f8470ee0>, <__main__.probe object at 0x7fc0f8470f10>]\n"
          ]
        }
      ]
    },
    {
      "cell_type": "code",
      "source": [
        "dir(reduced_cell)"
      ],
      "metadata": {
        "id": "z6t32dtFQUwC",
        "colab": {
          "base_uri": "https://localhost:8080/"
        },
        "outputId": "a6c85819-6a9b-434b-a4bb-2e01c65d13f5"
      },
      "execution_count": 37,
      "outputs": [
        {
          "output_type": "execute_result",
          "data": {
            "text/plain": [
              "['__class__',\n",
              " '__delattr__',\n",
              " '__dict__',\n",
              " '__dir__',\n",
              " '__doc__',\n",
              " '__eq__',\n",
              " '__format__',\n",
              " '__ge__',\n",
              " '__getattribute__',\n",
              " '__gt__',\n",
              " '__hash__',\n",
              " '__init__',\n",
              " '__init_subclass__',\n",
              " '__le__',\n",
              " '__lt__',\n",
              " '__module__',\n",
              " '__ne__',\n",
              " '__new__',\n",
              " '__reduce__',\n",
              " '__reduce_ex__',\n",
              " '__repr__',\n",
              " '__setattr__',\n",
              " '__sizeof__',\n",
              " '__str__',\n",
              " '__subclasshook__',\n",
              " '__weakref__',\n",
              " 'apic',\n",
              " 'axon',\n",
              " 'dend',\n",
              " 'hoc_model',\n",
              " 'soma']"
            ]
          },
          "metadata": {},
          "execution_count": 37
        }
      ]
    },
    {
      "cell_type": "code",
      "source": [
        "generate_reduced_stylized_geometry(reduced_cell=reduced_cell)"
      ],
      "metadata": {
        "id": "ue6ejkRpdBsP"
      },
      "execution_count": 38,
      "outputs": []
    },
    {
      "cell_type": "code",
      "source": [
        "# work in progress #currently mostly pseudo-code\n",
        "#Would alter the geometry file for the stylized module, but we are no longer using stylized module.\n",
        "def Create_Equivalent_Tree_From_Cylinder(trunk_section):\n",
        "  '''\n",
        "  alters the geometry_file.csv so that a cylindrical section turns into a trunk with branches.\n",
        "  '''\n",
        "  #needs to pull radii and lengths of new sections from other functions\n",
        "  L_trunk=calc_branch_point(trunk_section)\n",
        "  R_trunk=trunk_section.diam/2\n",
        "  #L_branch=calc_branch_L\n",
        "  #R_branch=\n",
        "\n",
        "  \n",
        "\n",
        "def calc_branch_point(complex_trunk_section,reduced_section_geometry):\n",
        "  '''\n",
        "  calculates the length (um) at which the equivalent cylinder should start to branch\n",
        "  '''\n",
        "  #needs to convert initial trunk section to the same parameter space as the equivalent cylinder\n",
        "  #equivalent cylinder length is not equivalent to complex cell length. Branch point should occur at the same elctrotonic distance\n",
        "  #Find electrotonic distance at branch point.\n",
        "  Ri=complex_trunk_section.Ri\n",
        "  Rm=complex_trunk_section.Rm\n",
        "  Cm=complex_trunk_section.Cm\n",
        "  Diam=complex_trunk_section.Diam\n",
        "  max_L=calc_electrotonic_length(complex_trunk_section) # calculate the electrotonic distance at the end of this trunk section\n",
        "  Length=calc_eqcyl_length(max_L) #get the  equivalent reduced cylinder's real length that corresponds to this electrotonic distance\n",
        "  return Length\n",
        "\n",
        "def calc_eqcyl_length(complex_electrotonic_length,reduced_diam):\n",
        "  '''\n",
        "  calculates the length of the equivalent reduced cylinder \n",
        "  that corresponds to the inputted electrotonic length\n",
        "  '''\n",
        "\n",
        "\n",
        "def calc_electrotonic_length(trunk_length,trunk_Rm,trunk_Cm,trunk_Ri,trunk_diam):\n",
        "  '''\n",
        "  calculate the electrotonic length of the complex trunk section\n",
        "  '''\n",
        "  elec_L=trunk_L/np.sqrt(trunk_Rm*trunk_Cm/(trunk_Ri/np.pi*(trunk_diam^2)/4))\n",
        "  return elec_L"
      ],
      "metadata": {
        "id": "BxNDE1i12bMO"
      },
      "execution_count": 39,
      "outputs": []
    },
    {
      "cell_type": "markdown",
      "source": [
        "##Determine Electrotonic Distance from soma to nexus"
      ],
      "metadata": {
        "id": "_tUPIuWYIizB"
      }
    },
    {
      "cell_type": "code",
      "source": [],
      "metadata": {
        "id": "y0oM91yAIjbk"
      },
      "execution_count": 39,
      "outputs": []
    },
    {
      "cell_type": "markdown",
      "source": [
        "Check Surface Area"
      ],
      "metadata": {
        "id": "bi0BhGAhjxom"
      }
    },
    {
      "cell_type": "code",
      "source": [
        "# check surface area\n",
        "def calc_cyl_SA(L,R):\n",
        "  '''\n",
        "  calculate surface area of a cylinder : 2πrh+2πr2\n",
        "  '''\n",
        "  wrap_SA = 2*np.pi*R*L\n",
        "  circles_SA = 2*np.pi*R*2 #may not want to include circle_SA\n",
        "  total_SA= wrap_SA + circles_SA\n",
        "  return wrap_SA, circles_SA, total_SA\n",
        "\n",
        "def calc_model_SA(geom_file='geom_complex.csv',omit_soma=False):\n",
        "  df=pd.read_csv(geom_file)\n",
        "  Ls=df['L']\n",
        "  Rs=df['R']\n",
        "  total_wrap_SA=0\n",
        "  total_circles_SA=0\n",
        "  total_total_SA=0\n",
        "  if omit_soma == False:\n",
        "    for i in range(len(Ls)): # add all surface area\n",
        "      wrap_SA, circles_SA, total_SA = calc_cyl_SA(L=Ls[i],R=Rs[i])\n",
        "      total_wrap_SA += wrap_SA #surface area not including the circle surfaces\n",
        "      total_total_SA += total_SA\n",
        "  else: # omit soma case, should skip first entry in geometry file\n",
        "    for i in range(len(Ls)-1): \n",
        "      wrap_SA, circles_SA, total_SA = calc_cyl_SA(L=Ls[i+1],R=Rs[i+1]) \n",
        "      total_wrap_SA += wrap_SA #surface area not including the circle surfaces\n",
        "      total_total_SA += total_SA\n",
        "  return total_total_SA, total_wrap_SA\n",
        "\n",
        "complex_total_SA,complex_wrap_SA=calc_model_SA('geom_complex.csv')\n",
        "reduced_total_SA,reduced_wrap_SA=calc_model_SA('geom_reduced.csv')\n",
        "\n",
        "print('Complex model surface area:',complex_total_SA,)\n",
        "print('Reduced model surface area:',reduced_total_SA,)\n",
        "print('Difference:',complex_total_SA-reduced_total_SA)"
      ],
      "metadata": {
        "id": "L_5FtSU0jw6C",
        "colab": {
          "base_uri": "https://localhost:8080/"
        },
        "outputId": "94bc3d14-68b2-4154-dc79-7634e4532c43"
      },
      "execution_count": 40,
      "outputs": [
        {
          "output_type": "stream",
          "name": "stdout",
          "text": [
            "Complex model surface area: 31939.36042189814\n",
            "Reduced model surface area: 38347.99474124576\n",
            "Difference: -6408.6343193476205\n"
          ]
        }
      ]
    },
    {
      "cell_type": "markdown",
      "source": [
        "#Show Complex and Reduced Cell"
      ],
      "metadata": {
        "id": "qGwLfdxo5Puw"
      }
    },
    {
      "cell_type": "code",
      "source": [
        "#generate 3D coordinates for apical cable\n",
        "X=[]\n",
        "Y=[]\n",
        "Z=[]\n",
        "for sec in reduced_cell.hoc_model.apic:\n",
        "  d=sec.diam\n",
        "  L=sec.L\n",
        "  for seg in sec:\n",
        "    Y.append(seg.x*sec.L)\n",
        "    X.append(0)\n",
        "    Z.append(0)\n",
        "\n",
        "import numpy as np\n",
        "\n",
        "def data_for_cylinder_along_z(center_x,center_y,radius,height_z):\n",
        "    z = np.linspace(0, height_z, 50)\n",
        "    theta = np.linspace(0, 2*np.pi, 50)\n",
        "    theta_grid, z_grid=np.meshgrid(theta, z)\n",
        "    x_grid = radius*np.cos(theta_grid) + center_x\n",
        "    y_grid = radius*np.sin(theta_grid) + center_y\n",
        "    return x_grid,y_grid,z_grid\n",
        "\n",
        "import matplotlib.pyplot as plt\n",
        "from mpl_toolkits.mplot3d import Axes3D\n",
        "fig = plt.figure()\n",
        "ax = fig.add_subplot(111, projection='3d')\n",
        "\n",
        "Xc,Yc,Zc = data_for_cylinder_along_z(0,0,d/2,L)\n",
        "temp=Yc\n",
        "Yc=Zc\n",
        "Zc=temp\n",
        "\n",
        "#3D Projection\n",
        "elev=90 \n",
        "azim=-90 #20\n",
        "figsize=(10,12)\n",
        "apicsegs=complex_segments_df[(complex_segments_df.Type=='apic')]['segmentID']\n",
        "#create 3d axes\n",
        "fig = plt.figure(figsize=figsize)\n",
        "ax = plt.axes(projection='3d')\n",
        "ax.plot3D(AllSegXCoord[apicsegs], AllSegYCoord[apicsegs],AllSegZCoord[apicsegs],'.',color='k',markersize=7)\n",
        "ax.plot3D(X, Y,Z,'.',color='red',markersize=6)\n",
        "ax.plot_surface(Xc, Yc, Zc, alpha=0.5)\n",
        "ax.set_xlabel(\"X\")\n",
        "ax.set_ylabel(\"Y\")\n",
        "ax.set_zlabel(\"Z\")\n",
        "\n",
        "# for i in range(len(AllSegXCoord)):\n",
        "#   ax.scatter(AllSegXCoord[i], AllSegYCoord[i],AllSegZCoord[i],'.',color='k')\n",
        "\n",
        "print(complex_segments[0].color)\n",
        "# for i in range(len(probes)):\n",
        "ax.scatter(xs=AllSegXCoord[complex_segments[firstsegs[-61]].parentprobe[0].seg],\n",
        "        ys=AllSegYCoord[complex_segments[firstsegs[-61]].parentprobe[0].seg],\n",
        "        zs=AllSegZCoord[complex_segments[firstsegs[-61]].parentprobe[0].seg],\n",
        "        marker='*',color=complex_segments[complex_segments[firstsegs[-61]].parentprobe[0].seg].color)\n",
        "plt.savefig('Probe Locations.png')\n",
        "# ax.auto_scale_xyz(*box.T)\n",
        "ax.view_init(elev,azim)\n",
        "plt.show()"
      ],
      "metadata": {
        "colab": {
          "base_uri": "https://localhost:8080/",
          "height": 849
        },
        "id": "g5cI4td8-6eH",
        "outputId": "a590f132-6959-4601-8ed2-e94f14883a17"
      },
      "execution_count": 41,
      "outputs": [
        {
          "output_type": "stream",
          "name": "stdout",
          "text": [
            "r\n"
          ]
        },
        {
          "output_type": "display_data",
          "data": {
            "text/plain": [
              "<Figure size 432x288 with 1 Axes>"
            ],
            "image/png": "[encoded data removed]"
          },
          "metadata": {
            "needs_background": "light"
          }
        },
        {
          "output_type": "display_data",
          "data": {
            "text/plain": [
              "<Figure size 720x864 with 1 Axes>"
            ],
            "image/png": "[encoded data removed]"
          },
          "metadata": {
            "needs_background": "light"
          }
        }
      ]
    },
    {
      "cell_type": "code",
      "source": [
        "def plot_morphology(exc_syns,savename):\n",
        "  plt.figure(figsize=(4,10))\n",
        "  for i in exc_syns[exc_syns.Type=='apic']['Sec ID'].unique():\n",
        "      plt.plot(exc_syns[(exc_syns.Type=='apic')&(exc_syns['Sec ID']==i)]['Coord X'],\n",
        "              exc_syns[(exc_syns.Type=='apic')&(exc_syns['Sec ID']==i)]['Coord Y'],\n",
        "              color='k',\n",
        "              linewidth = 2*exc_syns[(exc_syns.Type=='apic')&(exc_syns['Sec ID']==i)]['Section_diam'].unique())\n",
        "      \n",
        "  for i in exc_syns[exc_syns.Type=='dend']['Sec ID'].unique():\n",
        "      plt.plot(exc_syns[(exc_syns.Type=='dend')&(exc_syns['Sec ID']==i)]['Coord X'],\n",
        "          exc_syns[(exc_syns.Type=='dend')&(exc_syns['Sec ID']==i)]['Coord Y'],\n",
        "              color='k',\n",
        "              linewidth = 2*exc_syns[(exc_syns.Type=='dend')&(exc_syns['Sec ID']==i)]['Section_diam'].unique())\n",
        "      \n",
        "\n",
        "  plt.scatter(exc_syns[(exc_syns.Type=='soma')&(exc_syns['Sec ID']==0)]['Coord X'],\n",
        "          exc_syns[(exc_syns.Type=='soma')&(exc_syns['Sec ID']==0)]['Coord Y'],color='k',s=100)\n",
        "  plt.savefig(savename)"
      ],
      "metadata": {
        "id": "-h4mQv5ydA3d"
      },
      "execution_count": 42,
      "outputs": []
    },
    {
      "cell_type": "code",
      "source": [
        "plot_morphology(complex_segments_df,'complex_morphology.svg')"
      ],
      "metadata": {
        "colab": {
          "base_uri": "https://localhost:8080/",
          "height": 592
        },
        "id": "w84DZtbZGi1g",
        "outputId": "25689cd1-7225-4d2c-dd01-875d86a1c15e"
      },
      "execution_count": 43,
      "outputs": [
        {
          "output_type": "display_data",
          "data": {
            "text/plain": [
              "<Figure size 288x720 with 1 Axes>"
            ],
            "image/png": "[encoded data removed]"
          },
          "metadata": {
            "needs_background": "light"
          }
        }
      ]
    },
    {
      "cell_type": "code",
      "source": [
        "plot_morphology(reduced_segments_df,\"reduced_morphology.svg\")"
      ],
      "metadata": {
        "colab": {
          "base_uri": "https://localhost:8080/",
          "height": 592
        },
        "id": "TqQPOus1X3jZ",
        "outputId": "ddf43a7a-34ec-495c-ab84-f30daad84300"
      },
      "execution_count": 44,
      "outputs": [
        {
          "output_type": "display_data",
          "data": {
            "text/plain": [
              "<Figure size 288x720 with 1 Axes>"
            ],
            "image/png": "[encoded data removed]"
          },
          "metadata": {
            "needs_background": "light"
          }
        }
      ]
    },
    {
      "cell_type": "markdown",
      "source": [
        "#Reducing a Stylized Cell"
      ],
      "metadata": {
        "id": "O1mrU4lFOvFx"
      }
    },
    {
      "cell_type": "markdown",
      "source": [
        "# Reducing a L5PC model with more biophysically realistic synaptic input."
      ],
      "metadata": {
        "id": "J0LkPzT9geUl"
      }
    },
    {
      "cell_type": "code",
      "source": [],
      "metadata": {
        "id": "TPwm_KLfgd2w"
      },
      "execution_count": 44,
      "outputs": []
    },
    {
      "cell_type": "markdown",
      "source": [
        "# Citation\n",
        "O. Amsalem, G. Eyal, N. Rogozinski, M. Gevaert, P. Kumbhar, F. Schürmann, I. Segev. An efficient analytical reduction of detailed nonlinear neuron models. Nat. Commun., 11 (2020), p. 288"
      ],
      "metadata": {
        "id": "GVqP8OGNewZV"
      }
    }
  ]
}