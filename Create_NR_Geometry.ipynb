{
  "nbformat": 4,
  "nbformat_minor": 0,
  "metadata": {
    "colab": {
      "provenance": [],
      "authorship_tag": "ABX9TyN7J57OoVEbztBVrv4dyqX/",
      "include_colab_link": true
    },
    "kernelspec": {
      "name": "python3",
      "display_name": "Python 3"
    },
    "language_info": {
      "name": "python"
    }
  },
  "cells": [
    {
      "cell_type": "markdown",
      "metadata": {
        "id": "view-in-github",
        "colab_type": "text"
      },
      "source": [
        "<a href=\"https://colab.research.google.com/github/davidfague/Stylized-ReducedOrder-L5-Model/blob/main/Create_NR_Geometry.ipynb\" target=\"_parent\"><img src=\"https://colab.research.google.com/assets/colab-badge.svg\" alt=\"Open In Colab\"/></a>"
      ]
    },
    {
      "cell_type": "markdown",
      "source": [
        "# Quick Start\n",
        "## The following code shows the main function that is used to reduce a complex cell.\n",
        "\n",
        "complex_cell  # The model cell\n",
        "\n",
        "synapses_list # A list of all synapse on this cell\n",
        "\n",
        "netcon_list   # A list of all netcons for the synapses on the cell\n",
        "\n",
        "import neuron_reduce\n",
        "\n",
        "reduced_cell, synapses_list, netcons_list =  neuron_reduce.subtree_reductor(complex_cell, synapses_list, netcons_list)"
      ],
      "metadata": {
        "id": "IDTyDy5FaQTn"
      }
    },
    {
      "cell_type": "markdown",
      "source": [
        "# Detailed Example\n",
        "## Example copied from github"
      ],
      "metadata": {
        "id": "lZ82bG9gayLw"
      }
    },
    {
      "cell_type": "code",
      "source": [
        "!pip install neuron"
      ],
      "metadata": {
        "colab": {
          "base_uri": "https://localhost:8080/"
        },
        "id": "b8QAPXTrcKUO",
        "outputId": "458c3a7b-10f9-4c58-fff9-ce2e8c87665c"
      },
      "execution_count": 1,
      "outputs": [
        {
          "output_type": "stream",
          "name": "stdout",
          "text": [
            "Looking in indexes: https://pypi.org/simple, https://us-python.pkg.dev/colab-wheels/public/simple/\n",
            "Requirement already satisfied: neuron in /usr/local/lib/python3.8/dist-packages (8.2.2)\n",
            "Requirement already satisfied: numpy>=1.9.3 in /usr/local/lib/python3.8/dist-packages (from neuron) (1.21.6)\n"
          ]
        }
      ]
    },
    {
      "cell_type": "code",
      "source": [
        "!pip install neuron_reduce"
      ],
      "metadata": {
        "colab": {
          "base_uri": "https://localhost:8080/"
        },
        "id": "37g4VleafuDM",
        "outputId": "41c5ec54-3059-42fd-a753-5dc34c3e82c7"
      },
      "execution_count": 2,
      "outputs": [
        {
          "output_type": "stream",
          "name": "stdout",
          "text": [
            "Looking in indexes: https://pypi.org/simple, https://us-python.pkg.dev/colab-wheels/public/simple/\n",
            "Requirement already satisfied: neuron_reduce in /usr/local/lib/python3.8/dist-packages (0.0.7)\n"
          ]
        }
      ]
    },
    {
      "cell_type": "code",
      "source": [
        "!git clone https://github.com/orena1/neuron_reduce.git"
      ],
      "metadata": {
        "colab": {
          "base_uri": "https://localhost:8080/"
        },
        "id": "X9fdloqtbKqg",
        "outputId": "f47dd1f9-063e-4f40-c199-928cc1760034"
      },
      "execution_count": 3,
      "outputs": [
        {
          "output_type": "stream",
          "name": "stdout",
          "text": [
            "fatal: destination path 'neuron_reduce' already exists and is not an empty directory.\n"
          ]
        }
      ]
    },
    {
      "cell_type": "code",
      "source": [
        "# Go to example folder\n",
        "%cd neuron_reduce \n",
        "%cd example\n",
        "# compile the mod files\n",
        "!nrnivmodl mod"
      ],
      "metadata": {
        "colab": {
          "base_uri": "https://localhost:8080/"
        },
        "id": "1_cpnQEPbRRu",
        "outputId": "5d5fa4bd-e1a3-469f-90ad-5786e6307128"
      },
      "execution_count": 4,
      "outputs": [
        {
          "output_type": "stream",
          "name": "stdout",
          "text": [
            "/content/neuron_reduce\n",
            "/content/neuron_reduce/example\n",
            "/content/neuron_reduce/example\n",
            "Mod files: \"mod/mod/CaDynamics_E2.mod\" \"mod/mod/Ca_HVA.mod\" \"mod/mod/Ca_LVAst.mod\" \"mod/mod/epsp.mod\" \"mod/mod/Ih.mod\" \"mod/mod/Im.mod\" \"mod/mod/K_Pst.mod\" \"mod/mod/K_Tst.mod\" \"mod/mod/Nap_Et2.mod\" \"mod/mod/NaTa_t.mod\" \"mod/mod/NaTs2_t.mod\" \"mod/mod/SK_E2.mod\" \"mod/mod/SKv3_1.mod\"\n",
            "\n",
            " -> \u001b[32mCompiling\u001b[0m mod_func.cpp\n",
            " => \u001b[32mLINKING\u001b[0m shared library ./libnrnmech.so\n",
            "Successfully created x86_64/special\n"
          ]
        }
      ]
    },
    {
      "cell_type": "markdown",
      "source": [
        "##Functions in this notebook"
      ],
      "metadata": {
        "id": "qZiABEwOLkq7"
      }
    },
    {
      "cell_type": "code",
      "source": [
        "import pandas as pd\n",
        "def generate_stylized_geometry(cell,savename):\n",
        "  df = pd.DataFrame()\n",
        "  ids=[]\n",
        "  names=[]\n",
        "  types=[]\n",
        "  pids=[]\n",
        "  axials=[]\n",
        "  nbranchs=[]\n",
        "  Ls=[]\n",
        "  Rs=[]\n",
        "  angs=[]\n",
        "\n",
        "  id=0\n",
        "  for sec in cell.all:\n",
        "    # print(dir(sec))\n",
        "    name=sec.name()\n",
        "    names.append(name)\n",
        "    ids.append(names.index(name))\n",
        "    _,sec_type_withinteger=name.split('.')\n",
        "    sec_type,_=sec_type_withinteger.split('[')\n",
        "    types.append(sec_type)\n",
        "    pseg = sec.parentseg()\n",
        "    if pseg == None:\n",
        "      pids.append(None)\n",
        "    else:\n",
        "      psec=pseg.sec\n",
        "      pids.append(names.index(psec.name()))\n",
        "    axials.append('TRUE')\n",
        "    nbranchs.append(1)\n",
        "    Ls.append(sec.L)\n",
        "    # print(dir(sec))\n",
        "    Rs.append(sec.diam/2) # may need to compute single radius for each section\n",
        "    angs.append(180)\n",
        "\n",
        "  # print(len(ids))\n",
        "  # print(len(names))\n",
        "  # print(len(types))\n",
        "  # print(len(pids))\n",
        "  # print(len(axials))\n",
        "  # print(len(nbranchs))\n",
        "  # print(len(Ls))\n",
        "  # print(len(Rs))\n",
        "  # print(angs)\n",
        "  df[\"id\"] = ids\n",
        "  df[\"name\"] = names\n",
        "  df[\"pid\"] = pids\n",
        "  df[\"axial\"] = axials\n",
        "  df[\"type\"] = types\n",
        "  df[\"nbranch\"] = nbranchs\n",
        "  df[\"L\"] = Ls\n",
        "  df[\"R\"] = Rs\n",
        "  df[\"ang\"] = angs\n",
        "  df.to_csv(savename)"
      ],
      "metadata": {
        "id": "wUancoc-LoMe"
      },
      "execution_count": 5,
      "outputs": []
    },
    {
      "cell_type": "code",
      "source": [
        "def returnSegmentValues(section):\n",
        "    ##\n",
        "    \n",
        "    #Section naming\n",
        "    #Set impedance measurement location and frequency\n",
        "    name=section.name()\n",
        "    # Get section 3d coordinates and put in numpy array\n",
        "    n3d = section.n3d()\n",
        "    x3d = np.empty(n3d)\n",
        "    y3d = np.empty(n3d)\n",
        "    z3d = np.empty(n3d)\n",
        "    L = np.empty(n3d)\n",
        "    for i in range(n3d):\n",
        "        x3d[i]=section.x3d(i)\n",
        "        y3d[i]=section.y3d(i)\n",
        "        z3d[i]=section.z3d(i)\n",
        "\n",
        "    # Compute length of each 3d segment\n",
        "    for i in range(n3d):\n",
        "        if i==0:\n",
        "            L[i]=0\n",
        "        else:\n",
        "            L[i]=np.sqrt((x3d[i]-x3d[i-1])**2 + (y3d[i]-y3d[i-1])**2 + (z3d[i]-z3d[i-1])**2)\n",
        "\n",
        "    # Get cumulative length of 3d segments\n",
        "    cumLength = np.cumsum(L)\n",
        "    N = section.nseg\n",
        "    # Now upsample coordinates to segment locations\n",
        "    xCoord = np.empty(N)\n",
        "    yCoord = np.empty(N)\n",
        "    zCoord = np.empty(N)\n",
        "\n",
        "\n",
        "    if N > 1:\n",
        "      dx = section.L / (N-1)\n",
        "    else:\n",
        "      dx = section.L\n",
        "\n",
        "    #print(str(section))\n",
        "    if \"axon\" in name:\n",
        "      xCoord=[np.NaN]\n",
        "      yCoord=[np.NaN]\n",
        "      zCoord=[np.NaN]\n",
        "    else:\n",
        "      for n in range(N):\n",
        "\n",
        "        if n==(N-1):\n",
        "            xCoord[n]=x3d[-1]\n",
        "            yCoord[n]=y3d[-1]\n",
        "            zCoord[n]=z3d[-1]\n",
        "        else:\n",
        "            cIdxStart = np.where(n*dx >= cumLength)[0][-1] # which idx of 3d segments are we starting at\n",
        "            cDistFrom3dStart = n*dx - cumLength[cIdxStart] # how far along that segment is this upsampled coordinate\n",
        "            cFraction3dLength = cDistFrom3dStart / L[cIdxStart+1] # what's the fractional distance along this 3d segment\n",
        "            # compute x and y positions\n",
        "            xCoord[n] = x3d[cIdxStart] + cFraction3dLength*(x3d[cIdxStart+1] - x3d[cIdxStart])\n",
        "            yCoord[n] = y3d[cIdxStart] + cFraction3dLength*(y3d[cIdxStart+1] - y3d[cIdxStart])\n",
        "            zCoord[n] = z3d[cIdxStart] + cFraction3dLength*(z3d[cIdxStart+1] - z3d[cIdxStart])\n",
        "              \n",
        "    return xCoord, yCoord, zCoord"
      ],
      "metadata": {
        "id": "Nc9rAs6JLwVn"
      },
      "execution_count": 6,
      "outputs": []
    },
    {
      "cell_type": "code",
      "source": [
        "def make_seg_df(cell,savename=\"Segments.csv\"):\n",
        "    frequency=0\n",
        "    # seg_locs = cell.morphology.seg_coords['p05']\n",
        "    # px = seg_locs[0]\n",
        "    # py = seg_locs[1]\n",
        "    # pz = seg_locs[2]\n",
        "    df = pd.DataFrame()\n",
        "    k = 0\n",
        "    j = 0\n",
        "    lens = []\n",
        "    seg_lens = []\n",
        "    diams = []\n",
        "    segdiams = []\n",
        "    bmtk_ids = []\n",
        "    seg_ids = []\n",
        "    sec_ids = []\n",
        "    full_names = []\n",
        "    xs = []\n",
        "    parts = []\n",
        "    distances = []\n",
        "    elec_distances = []\n",
        "    try:h.distance(sec=cell.hobj.soma[0])\n",
        "    except:h.distance(sec=cell.soma[0])\n",
        "    nsegs=[]\n",
        "    RAs=[]\n",
        "    Parentx=[]\n",
        "    zz = h.Impedance()\n",
        "    try:zz.loc(cell.hobj.soma[0](0.5))\n",
        "    except:zz.loc(cell.soma[0](0.5))\n",
        "    zz.compute(frequency + 1 / 9e9, 0)\n",
        "#############################################################\n",
        "    \n",
        "    psegids=[]\n",
        "    segments=[]\n",
        "    sections=[]\n",
        "    all_seg_x_coords=[]\n",
        "    all_seg_y_coords=[]\n",
        "    all_seg_z_coords=[]\n",
        "    section_names_by_seg=[]\n",
        "#    segments=cell.hobj.segments\n",
        "#    for i in range(len(cell.hobj.segments)):\n",
        "#      pseg = segments[i].sec.parentseg()\n",
        "#      psec=pseg.sec\n",
        "#      nseg = psec.nseg\n",
        "#      idx = int(np.floor(pseg.x * nseg))\n",
        "#      if pseg.x == 1.:\n",
        "#        idx -= 1\n",
        "#      psegid=segments.index(psec((i + .5) / nseg))\n",
        "#      psegids.append(psegid)\n",
        "################################################################\n",
        "    try: section_obj_list=cell.hobj.all\n",
        "    except: section_obj_list=cell.all\n",
        "    for sec in section_obj_list:\n",
        "        xCoords,yCoords,zCoords=returnSegmentValues(sec) # get 3d coordinates for this section\n",
        "        for i,seg in enumerate(sec):\n",
        "            all_seg_x_coords.append(xCoords[i])\n",
        "            all_seg_y_coords.append(yCoords[i])\n",
        "            all_seg_z_coords.append(zCoords[i])\n",
        "            lens.append(seg.sec.L)\n",
        "            seg_lens.append(seg.sec.L/seg.sec.nseg)\n",
        "            diams.append(seg.sec.diam)\n",
        "            segdiams.append(seg.diam)\n",
        "            distances.append(h.distance(seg))\n",
        "            bmtk_ids.append(k)\n",
        "            seg_ids.append(j)\n",
        "            xs.append(seg.x)\n",
        "            fullsecname = sec.name()\n",
        "            sec_ids.append(int(fullsecname.split(\"[\")[2].split(\"]\")[0]))\n",
        "            sec_type = fullsecname.split(\".\")[1][:4]\n",
        "            nsegs.append(seg.sec.nseg)\n",
        "            RAs.append(seg.sec.Ra)\n",
        "            parts.append(sec_type)\n",
        "            full_names.append(str(seg))\n",
        "            elec_distances.append(zz.ratio(seg))\n",
        "            section_names_by_seg.append(fullsecname)\n",
        "            #if seg.sec.parentseg() is not None:\n",
        "              #get parentseg coordinates or something to identify parentseg by\n",
        "            j += 1\n",
        "            segments.append(seg)\n",
        "        k+=1\n",
        "        sections.append(sec)\n",
        "    #print(segments)\n",
        "    for i in range(len(segments)): #calculate parentseg id using seg index on section\n",
        "      idx = int(np.floor(segments[i].x * segments[i].sec.nseg)) #get seg index on section\n",
        "      #case where segment is not first segment on section:\n",
        "      if idx != 0: #if the segment is not the first on the section then the parent segment is the previous segment index\n",
        "        psegid=i-1 #set parent segment id to the previous segment index\n",
        "        psegids.append(psegid)\n",
        "      #case where segment is first segment on section:\n",
        "      else:\n",
        "        pseg = segments[i].sec.parentseg()\n",
        "        if pseg == None:\n",
        "          psegids.append(None)\n",
        "        else:\n",
        "          psec=pseg.sec\n",
        "          nseg = psec.nseg\n",
        "          pidx = int(np.floor(pseg.x * nseg)) #get parent seg index on section\n",
        "          if pseg.x == 1.:\n",
        "            pidx -= 1\n",
        "          psegid=segments.index(psec((pidx + .5) / nseg)) #find the segment id of the parent seg by comparing with segment list after calculating the parent seg's section(x)\n",
        "          psegids.append(psegid)\n",
        "\n",
        "\n",
        "    df[\"segmentID\"] = seg_ids\n",
        "    df[\"BMTK ID\"] = bmtk_ids\n",
        "    df[\"Seg_L\"] = seg_lens\n",
        "    df[\"Seg_diam\"] = segdiams\n",
        "    df[\"X\"] = xs\n",
        "    df[\"Type\"] = parts\n",
        "    df[\"Sec ID\"] = sec_ids\n",
        "    df[\"Distance\"] = distances\n",
        "    df[\"Section_L\"] = lens\n",
        "    df[\"Section_diam\"] = diams\n",
        "    df[\"Section_nseg\"] = nsegs\n",
        "    df[\"Section_Ra\"] = RAs\n",
        "    df[\"Coord X\"] = all_seg_x_coords\n",
        "    df[\"Coord Y\"] = all_seg_y_coords\n",
        "    df[\"Coord Z\"] = all_seg_z_coords\n",
        "    df[\"ParentSegID\"] = psegids\n",
        "    df[\"Elec Dist\"] = elec_distances\n",
        "    df[\"Section Name\"] = section_names_by_seg\n",
        "\n",
        "\n",
        "    df.to_csv(savename, index=False)"
      ],
      "metadata": {
        "id": "0t0jt_KUL4NC"
      },
      "execution_count": 7,
      "outputs": []
    },
    {
      "cell_type": "code",
      "source": [
        "def make_reduced_seg_df(cell,savename=\"Segments.csv\"):\n",
        "    frequency=0\n",
        "    # seg_locs = cell.morphology.seg_coords['p05']\n",
        "    # px = seg_locs[0]\n",
        "    # py = seg_locs[1]\n",
        "    # pz = seg_locs[2]\n",
        "    df = pd.DataFrame()\n",
        "    k = 0\n",
        "    j = 0\n",
        "    lens = []\n",
        "    seg_lens = []\n",
        "    diams = []\n",
        "    segdiams = []\n",
        "    bmtk_ids = []\n",
        "    seg_ids = []\n",
        "    sec_ids = []\n",
        "    full_names = []\n",
        "    xs = []\n",
        "    parts = []\n",
        "    distances = []\n",
        "    elec_distances = []\n",
        "    try:h.distance(sec=cell.soma)\n",
        "    except:h.distance(sec=cell.soma[0])\n",
        "    nsegs=[]\n",
        "    RAs=[]\n",
        "    Parentx=[]\n",
        "    zz = h.Impedance()\n",
        "    try:zz.loc(cell.hobj.soma[0](0.5))\n",
        "    except:zz.loc(cell.soma[0](0.5))\n",
        "    zz.compute(frequency + 1 / 9e9, 0)\n",
        "#############################################################\n",
        "    \n",
        "    psegids=[]\n",
        "    segments=[]\n",
        "    sections=[]\n",
        "    all_seg_x_coords=[]\n",
        "    all_seg_y_coords=[]\n",
        "    all_seg_z_coords=[]\n",
        "    section_names_by_seg=[]\n",
        "#    segments=cell.hobj.segments\n",
        "#    for i in range(len(cell.hobj.segments)):\n",
        "#      pseg = segments[i].sec.parentseg()\n",
        "#      psec=pseg.sec\n",
        "#      nseg = psec.nseg\n",
        "#      idx = int(np.floor(pseg.x * nseg))\n",
        "#      if pseg.x == 1.:\n",
        "#        idx -= 1\n",
        "#      psegid=segments.index(psec((i + .5) / nseg))\n",
        "#      psegids.append(psegid)\n",
        "################################################################\n",
        "    try: section_obj_list=cell.hoc_model.all\n",
        "    except: section_obj_list=cell.all\n",
        "    for sec in section_obj_list:\n",
        "        # xCoords,yCoords,zCoords=returnSegmentValues(sec) # get 3d coordinates for this section\n",
        "        for i,seg in enumerate(sec):\n",
        "            # all_seg_x_coords.append(xCoords[i])\n",
        "            # all_seg_y_coords.append(yCoords[i])\n",
        "            # all_seg_z_coords.append(zCoords[i])\n",
        "            lens.append(seg.sec.L)\n",
        "            seg_lens.append(seg.sec.L/seg.sec.nseg)\n",
        "            diams.append(seg.sec.diam)\n",
        "            segdiams.append(seg.diam)\n",
        "            distances.append(h.distance(seg))\n",
        "            bmtk_ids.append(k)\n",
        "            seg_ids.append(j)\n",
        "            xs.append(seg.x)\n",
        "            fullsecname = sec.name()\n",
        "            sec_ids.append(int(fullsecname.split(\"[\")[2].split(\"]\")[0]))\n",
        "            sec_type = fullsecname.split(\".\")[1][:4]\n",
        "            nsegs.append(seg.sec.nseg)\n",
        "            RAs.append(seg.sec.Ra)\n",
        "            parts.append(sec_type)\n",
        "            full_names.append(str(seg))\n",
        "            elec_distances.append(zz.ratio(seg))\n",
        "            section_names_by_seg.append(fullsecname)\n",
        "            #if seg.sec.parentseg() is not None:\n",
        "              #get parentseg coordinates or something to identify parentseg by\n",
        "            j += 1\n",
        "            segments.append(seg)\n",
        "        k+=1\n",
        "        sections.append(sec)\n",
        "    #print(segments)\n",
        "    for i in range(len(segments)): #calculate parentseg id using seg index on section\n",
        "      idx = int(np.floor(segments[i].x * segments[i].sec.nseg)) #get seg index on section\n",
        "      #case where segment is not first segment on section:\n",
        "      if idx != 0: #if the segment is not the first on the section then the parent segment is the previous segment index\n",
        "        psegid=i-1 #set parent segment id to the previous segment index\n",
        "        psegids.append(psegid)\n",
        "      #case where segment is first segment on section:\n",
        "      else:\n",
        "        pseg = segments[i].sec.parentseg()\n",
        "        if pseg == None:\n",
        "          psegids.append(None)\n",
        "        else:\n",
        "          psec=pseg.sec\n",
        "          nseg = psec.nseg\n",
        "          pidx = int(np.floor(pseg.x * nseg)) #get parent seg index on section\n",
        "          if pseg.x == 1.:\n",
        "            pidx -= 1\n",
        "          try:psegid=segments.index(psec((pidx + .5) / nseg)) #find the segment id of the parent seg by comparing with segment list after calculating the parent seg's section(x)\n",
        "          except: psegid=\"Segment not in segments\"\n",
        "          psegids.append(psegid)\n",
        "\n",
        "\n",
        "    df[\"segmentID\"] = seg_ids\n",
        "    df[\"BMTK ID\"] = bmtk_ids\n",
        "    df[\"Seg_L\"] = seg_lens\n",
        "    df[\"Seg_diam\"] = segdiams\n",
        "    df[\"X\"] = xs\n",
        "    df[\"Type\"] = parts\n",
        "    df[\"Sec ID\"] = sec_ids\n",
        "    df[\"Distance\"] = distances\n",
        "    df[\"Section_L\"] = lens\n",
        "    df[\"Section_diam\"] = diams\n",
        "    df[\"Section_nseg\"] = nsegs\n",
        "    df[\"Section_Ra\"] = RAs\n",
        "    # df[\"Coord X\"] = all_seg_x_coords\n",
        "    # df[\"Coord Y\"] = all_seg_y_coords\n",
        "    # df[\"Coord Z\"] = all_seg_z_coords\n",
        "    df[\"ParentSegID\"] = psegids\n",
        "    df[\"Elec Dist\"] = elec_distances\n",
        "    df[\"Section Name\"] = section_names_by_seg\n",
        "\n",
        "\n",
        "    df.to_csv(savename, index=False)"
      ],
      "metadata": {
        "id": "evFc8gZ8RXmo"
      },
      "execution_count": 8,
      "outputs": []
    },
    {
      "cell_type": "code",
      "source": [
        "class probe():\n",
        "  def __init__(self,seg=None,sectionindex=None,sectionname=None,color=None,secRa=None,segdiam=None,segx=None,segdist=None,sectionL=None,sectionNseg=None,segL=None,parentseg=None,sectype=None,elec_dist=None,XCoord=None,YCoord=None,ZCoord=None):\n",
        "    self.seg=seg\n",
        "    self.sectionindex=sectionindex\n",
        "    self.sectionname=sectionname\n",
        "    self.color=color\n",
        "    self.XCoord=XCoord\n",
        "    self.YCoord=YCoord\n",
        "    self.ZCoord=ZCoord\n",
        "    self.secRa=secRa\n",
        "    self.segdiam=segdiam\n",
        "    self.x=segx\n",
        "    self.segdist=segdist\n",
        "    self.secL=sectionL\n",
        "    self.secnseg=sectionNseg\n",
        "    self.segL=segL\n",
        "    # self.seg_v=seg_v\n",
        "    self.name='sec:'+str(self.sectionname)+str(self.sectionindex)+' seg:'+str(self.seg)\n",
        "    self.adjprobes=[]\n",
        "    self.parentprobe=[]\n",
        "    self.childprobes=[]\n",
        "    self.axialcurrents=[]\n",
        "    self.parentaxialcurrent=[]\n",
        "    self.childrenaxialcurrents=[]\n",
        "    self.halfsegRa=.01*self.secRa*(self.secL/2/self.secnseg)/(np.pi*(self.segdiam/2)**2)\n",
        "    self.parentseg=parentseg\n",
        "    self.sectype=sectype\n",
        "    self.elec_dist=elec_dist\n",
        "\n",
        "    # try:\n",
        "    #   self.axial_current=[Record_Axial_Current(section,single_seg=True)]\n",
        "    # except:\n",
        "    #   print(section)"
      ],
      "metadata": {
        "id": "09ncWiMw9xbs"
      },
      "execution_count": 9,
      "outputs": []
    },
    {
      "cell_type": "code",
      "source": [
        "def generate_reduced_stylized_geometry(reduced_cell=None,complex_geometry_file='geom_complex.csv',savename='geom_reduced.csv'):\n",
        "  '''\n",
        "  builds reduced_geom.csv \n",
        "  using dendritic sections from neuron_reduce()'s reduced_cell object \n",
        "  and soma from complex cell\n",
        "  '''\n",
        "\n",
        "  complex_df = pd.read_csv(complex_geometry_file) #need to begin reduced_df with soma from complex_cell\n",
        "  df = pd.DataFrame()\n",
        "  ids=[complex_df['id'][0]]\n",
        "  names=[complex_df['name'][0]]\n",
        "  types=[complex_df['type'][0]]\n",
        "  pids=[complex_df['pid'][0]]\n",
        "  axials=[complex_df['axial'][0]]\n",
        "  nbranchs=[complex_df['nbranch'][0]]\n",
        "  Ls=[complex_df['L'][0]]\n",
        "  Rs=[complex_df['R'][0]]\n",
        "  angs=[complex_df['ang'][0]]\n",
        "\n",
        "  for sec in reduced_cell.hoc_model.all:\n",
        "    # print(dir(sec))\n",
        "    name=sec.name()\n",
        "    # print(name)\n",
        "    names.append(name)\n",
        "    ids.append(names.index(name))\n",
        "    _,sec_type_withinteger=name.split('.')\n",
        "    sec_type,_=sec_type_withinteger.split('[')\n",
        "    types.append(sec_type)\n",
        "    pseg = sec.parentseg()\n",
        "    if pseg == None:\n",
        "      pids.append(None)\n",
        "    else:\n",
        "      psec=pseg.sec\n",
        "      px3d=psec.x3d\n",
        "      pids.append(names.index(psec.name()))\n",
        "    axials.append('TRUE')\n",
        "    nbranchs.append(1)\n",
        "    Ls.append(sec.L)\n",
        "    # print(dir(sec))\n",
        "    Rs.append(sec.diam/2) \n",
        "\n",
        "    if sec.n3d() != 0: # all reduced cell 3d coordinates are missin; need a fix for angles\n",
        "      print(sec.n3d())\n",
        "      first_x3d=sec.x3d(0)\n",
        "      first_y3d=sec.y3d(0)\n",
        "      first_z3d=sec.z3d(0)\n",
        "      last_x3d=sec.x3d(sec.n3d()-1)\n",
        "      last_y3d=sec.y3d(sec.n3d()-1)\n",
        "      last_z3d=sec.z3d(sec.n3d()-1)\n",
        "\n",
        "      pfirst_x3d=psec.x3d(0)\n",
        "      pfirst_y3d=psec.y3d(0)\n",
        "      pfirst_z3d=psec.z3d(0)\n",
        "      plast_x3d=psec.x3d(psec.n3d()-1)\n",
        "      plast_y3d=psec.y3d(psec.n3d()-1)\n",
        "      plast_z3d=psec.z3d(psec.n3d()-1)\n",
        "      print(first_x3d-plast_x3d)\n",
        "      print(first_y3d-plast_y3d)\n",
        "      print(first_z3d-plast_z3d)\n",
        "    else:\n",
        "      angs.append(None)\n",
        "\n",
        "  # print(len(ids))\n",
        "  # print(len(names))\n",
        "  # print(len(types))\n",
        "  # print(len(pids))\n",
        "  # print(len(axials))\n",
        "  # print(len(nbranchs))\n",
        "  # print(len(Ls))\n",
        "  # print(len(Rs))\n",
        "  # print(angs)\n",
        "  df[\"id\"] = ids\n",
        "  df[\"name\"] = names\n",
        "  df[\"L\"] = pids\n",
        "  df[\"axial\"] = axials\n",
        "  df[\"type\"] = types\n",
        "  df[\"nbranch\"] = nbranchs\n",
        "  df[\"L\"] = Ls\n",
        "  df[\"R\"] = Rs\n",
        "  df[\"ang\"] = angs\n",
        "  df.to_csv(savename)\n"
      ],
      "metadata": {
        "id": "UHv82WYZMCni"
      },
      "execution_count": 10,
      "outputs": []
    },
    {
      "cell_type": "markdown",
      "source": [
        "##Define The Cell"
      ],
      "metadata": {
        "id": "atlls8ETHlg5"
      }
    },
    {
      "cell_type": "code",
      "source": [
        "#Run the code\n",
        "from __future__ import division\n",
        "from neuron import gui,h\n",
        "import numpy as np\n",
        "import neuron_reduce\n",
        "import time\n",
        "import matplotlib.pyplot as plt\n",
        "\n",
        "#Create a L5_PC model\n",
        "h.load_file('L5PCbiophys3.hoc')\n",
        "h.load_file(\"import3d.hoc\")\n",
        "h.load_file('L5PCtemplate.hoc')\n",
        "complex_cell = h.L5PCtemplate('cell1.asc')\n",
        "h.celsius = 37\n",
        "h.v_init = complex_cell.soma[0].e_pas"
      ],
      "metadata": {
        "id": "Ejij0ArEHlBM"
      },
      "execution_count": 11,
      "outputs": []
    },
    {
      "cell_type": "code",
      "source": [
        "!git clone https://github.com/davidfague/Stylized-ReducedOrder-L5-Model.git\n",
        "%cd Stylized-ReducedOrder-L5-Model\n",
        "from stylized_module.recorder import Recorder\n",
        "%cd .."
      ],
      "metadata": {
        "colab": {
          "base_uri": "https://localhost:8080/"
        },
        "id": "Ig7uHyxnWqLl",
        "outputId": "afa47ff4-4ec0-49eb-aad0-96d14676f8a4"
      },
      "execution_count": 12,
      "outputs": [
        {
          "output_type": "stream",
          "name": "stdout",
          "text": [
            "fatal: destination path 'Stylized-ReducedOrder-L5-Model' already exists and is not an empty directory.\n",
            "/content/neuron_reduce/example/Stylized-ReducedOrder-L5-Model\n",
            "/content/neuron_reduce/example\n"
          ]
        }
      ]
    },
    {
      "cell_type": "markdown",
      "source": [
        "Add synapses to the cell"
      ],
      "metadata": {
        "id": "1gmh5X-fHnfg"
      }
    },
    {
      "cell_type": "code",
      "execution_count": 13,
      "metadata": {
        "id": "vKb-1N49aCkR"
      },
      "outputs": [],
      "source": [
        "#Add synapses to the model\n",
        "synapses_list, netstims_list, netcons_list, randoms_list = [], [], [] ,[]\n",
        "\n",
        "all_segments = [i for j in map(list,list(complex_cell.apical)) for i in j] + [i for j in map(list,list(complex_cell.basal)) for i in j]\n",
        "len_per_segment = np.array([seg.sec.L/seg.sec.nseg for seg in all_segments])\n",
        "rnd = np.random.RandomState(10)\n",
        "for i in range(10000):\n",
        "    seg_for_synapse = rnd.choice(all_segments,   p=len_per_segment/sum(len_per_segment)) #choose a random segment with probability based on the length of segment\n",
        "    synapses_list.append(h.Exp2Syn(seg_for_synapse))\n",
        "    if rnd.uniform()<0.85: # 85% synapses are excitatory\n",
        "        e_syn, tau1, tau2, spike_interval, syn_weight = 0, 0.3, 1.8,  1000/2.5, 0.0016\n",
        "    else: #inhibitory case\n",
        "        e_syn, tau1, tau2, spike_interval, syn_weight = -86, 1,   8,   1000/15.0, 0.0008\n",
        "    #set synaptic varibales\n",
        "    synapses_list[i].e, synapses_list[i].tau1, synapses_list[i].tau2 = e_syn, tau1, tau2\n",
        "    #set netstim variables\n",
        "    netstims_list.append(h.NetStim())\n",
        "    netstims_list[i].interval, netstims_list[i].number, netstims_list[i].start, netstims_list[i].noise = spike_interval, 9e9, 100, 1\n",
        "    #set random\n",
        "    randoms_list.append(h.Random())\n",
        "    randoms_list[i].Random123(i)\n",
        "    randoms_list[i].negexp(1)\n",
        "    netstims_list[i].noiseFromRandom(randoms_list[i])       \n",
        "    #set netcon varibales \n",
        "    netcons_list.append(h.NetCon(netstims_list[i], synapses_list[i] ))\n",
        "    netcons_list[i].delay, netcons_list[i].weight[0] = 0, syn_weight"
      ]
    },
    {
      "cell_type": "code",
      "source": [
        "make_seg_df(complex_cell,\"segments_complex.csv\")"
      ],
      "metadata": {
        "id": "XQzhDCeDLdgg"
      },
      "execution_count": 14,
      "outputs": []
    },
    {
      "cell_type": "code",
      "source": [
        "complex_segments=pd.read_csv(\"segments_complex.csv\")"
      ],
      "metadata": {
        "id": "fVsyw_yuWDZz"
      },
      "execution_count": 15,
      "outputs": []
    },
    {
      "cell_type": "code",
      "source": [
        "# complex_segments.head()"
      ],
      "metadata": {
        "id": "jC-wxh1lWNV0"
      },
      "execution_count": 16,
      "outputs": []
    },
    {
      "cell_type": "markdown",
      "source": [
        "Need to find the branching point here; use segment_axial_currents notebook where I have done it before."
      ],
      "metadata": {
        "id": "XPKSzhe2X6Bz"
      }
    },
    {
      "cell_type": "code",
      "source": [
        "#Get Columns\n",
        "segIDs=complex_segments['segmentID']\n",
        "\n",
        "# segs = segs.set_index(['Type','Sec ID']).join(segs_degrees.set_index(['Type','Sec ID'])).reset_index() #not sure what this does\n",
        "complex_segments['Sec ID'] = complex_segments['Sec ID'].astype(int)\n",
        "complex_segments['X'] = complex_segments['X'].astype(float)\n",
        "complex_segments['Elec_distanceQ'] = 'None'\n",
        "AllSegXCoord=complex_segments['Coord X']\n",
        "AllSegYCoord=complex_segments['Coord Y']\n",
        "AllSegZCoord=complex_segments['Coord Z']\n",
        "AllSegSec_ID=complex_segments['Sec ID']\n",
        "AllSegSec_name=complex_segments['Type']\n",
        "segLs=complex_segments[\"Seg_L\"]\n",
        "segxs=complex_segments[\"X\"]\n",
        "segdists=complex_segments[\"Distance\"]\n",
        "SegSecL=complex_segments[\"Section_L\"]\n",
        "segdiams=complex_segments[\"Seg_diam\"]\n",
        "SegSecnseg=complex_segments[\"Section_nseg\"]\n",
        "secRas=complex_segments[\"Section_Ra\"]\n",
        "psegIDs=complex_segments[\"ParentSegID\"]\n",
        "secids=complex_segments[\"Sec ID\"]\n",
        "bmtkid=complex_segments[\"BMTK ID\"]\n",
        "sectypes=complex_segments[\"Type\"]\n",
        "elec_dists=complex_segments[\"Elec Dist\"]\n",
        "\n",
        "psegids=[] #fix for when there is no parent segment\n",
        "for i in range(len(psegIDs)):\n",
        "  if np.isnan(psegIDs[i]) == False:\n",
        "    psegids.append(int(psegIDs[i]))\n",
        "  else:\n",
        "    psegids.append(psegIDs[i])\n",
        "\n",
        "segments=[] #list for probe objects\n",
        "\n",
        "for i in range(len(complex_segments['segmentID'])):\n",
        "  try:\n",
        "    newprobe=probe(seg=i,sectionindex=AllSegSec_ID[i],sectionname=str(AllSegSec_name[i]),color=colors[j],XCoord=AllSegXCoord[i],YCoord=AllSegYCoord[i],ZCoord=AllSegZCoord[i],\n",
        "                  secRa=secRas[i],segdiam=segdiams[i],segx=segxs[i],segdist=segdists[i],sectionL=SegSecL[i],sectionNseg=SegSecnseg[i],segL=segLs[i],\n",
        "                  parentseg=psegids[i],sectype=sectypes[i],elec_dist=elec_dists[i])\n",
        "  except: #use red if colors isn't long enough\n",
        "        newprobe=probe(seg=i,sectionindex=AllSegSec_ID[i],sectionname=str(AllSegSec_name[i]),color='r',XCoord=AllSegXCoord[i],YCoord=AllSegYCoord[i],ZCoord=AllSegZCoord[i],\n",
        "                secRa=secRas[i],segdiam=segdiams[i],segx=segxs[i],segdist=segdists[i],sectionL=SegSecL[i],sectionNseg=SegSecnseg[i],segL=segLs[i],\n",
        "                parentseg=psegids[i],sectype=sectypes[i],elec_dist=elec_dists[i])\n",
        "  segments.append(newprobe)"
      ],
      "metadata": {
        "id": "KqHq3z6797fC"
      },
      "execution_count": 17,
      "outputs": []
    },
    {
      "cell_type": "code",
      "source": [
        "firstsegs = [] #list of segment indices for each section's first segment\n",
        "sections=[] #list of already seen section ids\n",
        "\n",
        "for i in range(len(bmtkid)):\n",
        "    if bmtkid[i] not in sections: #make sure secid is unique\n",
        "      sections.append(bmtkid[i]) #add unique secid to list of already seen secids\n",
        "      firstsegs.append(segIDs[i]) #get a list of first segment by unique section id"
      ],
      "metadata": {
        "id": "Cgq-n4ce_SyV"
      },
      "execution_count": 18,
      "outputs": []
    },
    {
      "cell_type": "code",
      "source": [
        "#getting adjacent probes using parent segmemt IDs\n",
        "for i in range(len(psegids)): #iterate through segment index\n",
        "  if np.isnan(psegids[i]) == False:\n",
        "    for seg in segIDs: #check segIDs\n",
        "      if psegids[i]==seg: #find parent seg from parent seg id\n",
        "        segments[seg].adjprobes.append(segments[i]) #add child probe to probe's adjprobe list\n",
        "        segments[seg].childprobes.append(segments[i]) #add child probe to probe's childprobe list"
      ],
      "metadata": {
        "id": "4U98JSa4A3c4"
      },
      "execution_count": 19,
      "outputs": []
    },
    {
      "cell_type": "code",
      "source": [
        "for i in range(len(segIDs)):\n",
        "  if np.isnan(psegids[i]) == False:\n",
        "    segments[i].adjprobes.append(segments[int(psegids[i])]) #add parent seg probe to adj probes\n",
        "    segments[i].parentprobe.append(segments[int(psegids[i])]) #add parent seg probe to parent probes"
      ],
      "metadata": {
        "id": "a_6QwETI_el_"
      },
      "execution_count": 20,
      "outputs": []
    },
    {
      "cell_type": "code",
      "source": [
        "#3D Projection\n",
        "elev=90 \n",
        "azim=-90 #20\n",
        "figsize=(10,12)\n",
        "# apicsegs=segs[(segs.Type=='apic')]['segmentID']\n",
        "#create 3d axes\n",
        "fig = plt.figure(figsize=figsize)\n",
        "ax = plt.axes(projection='3d')\n",
        "ax.plot3D(AllSegXCoord, AllSegYCoord,AllSegZCoord,'.',color='k',markersize=7)\n",
        "# for i in range(len(AllSegXCoord)):\n",
        "#   ax.scatter(AllSegXCoord[i], AllSegYCoord[i],AllSegZCoord[i],'.',color='k')\n",
        "\n",
        "print(segments[0].color)\n",
        "# for i in range(len(probes)):\n",
        "ax.scatter(xs=AllSegXCoord[segments[firstsegs[-61]].parentprobe[0].seg],\n",
        "        ys=AllSegYCoord[segments[firstsegs[-61]].parentprobe[0].seg],\n",
        "        zs=AllSegZCoord[segments[firstsegs[-61]].parentprobe[0].seg],\n",
        "        marker='*',color=segments[segments[firstsegs[-61]].parentprobe[0].seg].color)\n",
        "plt.savefig('Probe Locations.png')\n",
        "# ax.auto_scale_xyz(*box.T)\n",
        "ax.view_init(elev,azim)\n",
        "plt.show()"
      ],
      "metadata": {
        "colab": {
          "base_uri": "https://localhost:8080/",
          "height": 700
        },
        "id": "EoMWgzcBAVur",
        "outputId": "317ec63d-4741-4a4e-e928-93f832c5822c"
      },
      "execution_count": 21,
      "outputs": [
        {
          "output_type": "stream",
          "name": "stdout",
          "text": [
            "r\n"
          ]
        },
        {
          "output_type": "display_data",
          "data": {
            "text/plain": [
              "<Figure size 720x864 with 1 Axes>"
            ],
            "image/png": "[encoded data removed]"
          },
          "metadata": {
            "needs_background": "light"
          }
        }
      ]
    },
    {
      "cell_type": "code",
      "source": [
        "plt.figure(figsize=(3,10))\n",
        "ax = plt.plot(AllSegXCoord, AllSegYCoord,'.',color='k',markersize=6)\n",
        "plt.vlines(110,400,500)\n",
        "plt.text(0,450,'100 um')\n",
        "plt.hlines(400,110,210)\n",
        "plt.text(110,350,'100 um')\n",
        "plt.xticks([])\n",
        "plt.yticks([])\n",
        "plt.box(False)\n",
        "\n",
        "for i in firstsegs:\n",
        "  if segments[i].parentprobe != []:\n",
        "    plt.plot(AllSegXCoord[segments[i].parentprobe[0].seg],\n",
        "          AllSegYCoord[segments[i].parentprobe[0].seg],\n",
        "          '*',color='red')\n",
        "  # for j in range(len(probes[i].adjprobes)):\n",
        "  #     plt.plot(AllSegXCoord[probes[i].adjprobes[j].seg],\n",
        "  #         AllSegYCoord[probes[i].adjprobes[j].seg],\n",
        "  #         '*',color='blue')\n",
        "\n",
        "nexus=[segments[firstsegs[-61]].parentprobe[0].seg] #check parentseg()'s by guessing where to index #segments[firstsegs[-51]].parentprobe[0].seg is a branching segment in the nexus following this first branching segment\n",
        "# # adjp=[0] #indexes childprobes of nexus probes to find the adjacent\n",
        "for i in nexus:\n",
        "  plt.plot(AllSegXCoord[segments[i].seg],\n",
        "         AllSegYCoord[segments[i].seg],\n",
        "         '*',color='m')\n",
        "  # see all adj probes\n",
        "  # for j in range(len(probes[].adjprobes)):\n",
        "  #   plt.plot(AllSegXCoord[probes[].adjprobes[j].seg],\n",
        "  #       AllSegYCoord[probes[psegs[i]].adjprobes[j].seg],\n",
        "  #       '*',color='blue')\n",
        "#see child probes\n",
        "  # for j in range(len(segments[i].childprobes)):\n",
        "  #     plt.plot(AllSegXCoord[segments[i].childprobes[j].seg],\n",
        "  #         AllSegYCoord[segments[i].childprobes[j].seg],\n",
        "  #         '*',color='orange')\n",
        "#see parent probes      \n",
        "  # for j in range(len(probes[i].parentprobe)):\n",
        "  #     plt.plot(AllSegXCoord[probes[i].parentprobe[j].seg],\n",
        "  #         AllSegYCoord[probes[i].parentprobe[j].seg],\n",
        "  #         '*',color='blue')"
      ],
      "metadata": {
        "colab": {
          "base_uri": "https://localhost:8080/",
          "height": 575
        },
        "id": "_Ssyzy9_-6tN",
        "outputId": "4597c67b-2330-4174-f4b8-742c67ea290f"
      },
      "execution_count": 22,
      "outputs": [
        {
          "output_type": "display_data",
          "data": {
            "text/plain": [
              "<Figure size 216x720 with 1 Axes>"
            ],
            "image/png": "[encoded data removed]"
          },
          "metadata": {}
        }
      ]
    },
    {
      "cell_type": "code",
      "source": [
        "for segment in nexus:\n",
        "  print(segments[segment].elec_dist)"
      ],
      "metadata": {
        "colab": {
          "base_uri": "https://localhost:8080/"
        },
        "id": "GysHeKc9K0sl",
        "outputId": "be578e18-4ce6-4c5c-bfbf-540e4eebcacd"
      },
      "execution_count": 23,
      "outputs": [
        {
          "output_type": "stream",
          "name": "stdout",
          "text": [
            "0.4901355173781123\n"
          ]
        }
      ]
    },
    {
      "cell_type": "markdown",
      "source": [
        "Simulate the full neuron for 1 seconds"
      ],
      "metadata": {
        "id": "sIyKLITkHtzt"
      }
    },
    {
      "cell_type": "code",
      "source": [
        "soma_v = h.Vector()\n",
        "soma_v.record(complex_cell.soma[0](0.5)._ref_v)\n",
        "\n",
        "time_v = h.Vector()\n",
        "time_v.record(h._ref_t)\n",
        "\n",
        "h.tstop = 1000\n",
        "st = time.time()\n",
        "h.run()\n",
        "print('complex cell simulation time {:.4f}'.format(time.time()-st))\n",
        "complex_cell_v = list(soma_v)"
      ],
      "metadata": {
        "id": "4mz9SNTSHu17",
        "colab": {
          "base_uri": "https://localhost:8080/"
        },
        "outputId": "71208b0b-c578-4a3d-bfab-808b2c39551d"
      },
      "execution_count": 24,
      "outputs": [
        {
          "output_type": "stream",
          "name": "stdout",
          "text": [
            "complex cell simulation time 43.7292\n"
          ]
        }
      ]
    },
    {
      "cell_type": "markdown",
      "source": [
        "Gather complex cell geometry"
      ],
      "metadata": {
        "id": "XSYqrS2fWvfo"
      }
    },
    {
      "cell_type": "code",
      "source": [
        "generate_stylized_geometry(cell=complex_cell,savename='geom_complex.csv')"
      ],
      "metadata": {
        "id": "3LQMNX6_NrF-"
      },
      "execution_count": 25,
      "outputs": []
    },
    {
      "cell_type": "markdown",
      "source": [
        "apply Neuron_Reduce to simplify the cell and run the simulation again on the reduced cell"
      ],
      "metadata": {
        "id": "bexK1es3H36H"
      }
    },
    {
      "cell_type": "code",
      "source": [
        "#apply Neuron_Reduce to simplify the cell\n",
        "reduced_cell, synapses_list, netcons_list = neuron_reduce.subtree_reductor(complex_cell, synapses_list, netcons_list, reduction_frequency=0, total_segments_manual=-1)\n",
        "for r in randoms_list:r.seq(1) #reset random\n",
        "\n",
        "\n",
        "#Running the simulation again but now on the reduced cell\n",
        "st = time.time()\n",
        "h.run()\n",
        "print('reduced cell simulation time {:.4f}'.format(time.time()-st))\n",
        "reduced_celll_v = list(soma_v)\n",
        "\n",
        "#plotting the results\n",
        "plt.figure()\n",
        "\n",
        "plt.plot(time_v, complex_cell_v, label='complex cell')\n",
        "plt.plot(time_v, reduced_celll_v,  label='reduced cell')\n",
        "plt.show()"
      ],
      "metadata": {
        "id": "CL0mlEexH3f2",
        "colab": {
          "base_uri": "https://localhost:8080/",
          "height": 282
        },
        "outputId": "172f081e-1e5c-43e8-9f87-cfe52cc206e1"
      },
      "execution_count": 26,
      "outputs": [
        {
          "output_type": "stream",
          "name": "stdout",
          "text": [
            "reduced cell simulation time 1.4724\n"
          ]
        },
        {
          "output_type": "display_data",
          "data": {
            "text/plain": [
              "<Figure size 432x288 with 1 Axes>"
            ],
            "image/png": "[encoded data removed]"
          },
          "metadata": {
            "needs_background": "light"
          }
        }
      ]
    },
    {
      "cell_type": "code",
      "source": [
        "make_reduced_seg_df(reduced_cell,\"segments_reduced.csv\")"
      ],
      "metadata": {
        "id": "s04265x1LgHx"
      },
      "execution_count": 27,
      "outputs": []
    },
    {
      "cell_type": "code",
      "source": [
        "reduced_segments=pd.read_csv(\"segments_reduced.csv\")"
      ],
      "metadata": {
        "id": "ZFMx-JSVatFt"
      },
      "execution_count": 28,
      "outputs": []
    },
    {
      "cell_type": "code",
      "source": [
        "reduced_segments.head()"
      ],
      "metadata": {
        "colab": {
          "base_uri": "https://localhost:8080/",
          "height": 206
        },
        "id": "miu98LgfbDVw",
        "outputId": "c3bdfcbf-78dd-454a-f72a-5164d082a13b"
      },
      "execution_count": 29,
      "outputs": [
        {
          "output_type": "execute_result",
          "data": {
            "text/plain": [
              "   segmentID  BMTK ID       Seg_L  Seg_diam         X  Type  Sec ID  \\\n",
              "0          0        0  127.133115  3.717652  0.026316  apic       0   \n",
              "1          1        0  127.133115  3.717652  0.078947  apic       0   \n",
              "2          2        0  127.133115  3.717652  0.131579  apic       0   \n",
              "3          3        0  127.133115  3.717652  0.184211  apic       0   \n",
              "4          4        0  127.133115  3.717652  0.236842  apic       0   \n",
              "\n",
              "     Distance    Section_L  Section_diam  Section_nseg  Section_Ra  \\\n",
              "0   75.151262  2415.529185      3.717652            19       100.0   \n",
              "1  202.284376  2415.529185      3.717652            19       100.0   \n",
              "2  329.417491  2415.529185      3.717652            19       100.0   \n",
              "3  456.550606  2415.529185      3.717652            19       100.0   \n",
              "4  583.683721  2415.529185      3.717652            19       100.0   \n",
              "\n",
              "               ParentSegID  Elec Dist      Section Name  \n",
              "0  Segment not in segments   0.729871  model[0].apic[0]  \n",
              "1                        0   0.447482  model[0].apic[0]  \n",
              "2                        1   0.238126  model[0].apic[0]  \n",
              "3                        2   0.134906  model[0].apic[0]  \n",
              "4                        3   0.082859  model[0].apic[0]  "
            ],
            "text/html": [
              "\n",
              "  <div id=\"df-c69d093d-e6f3-46bc-997a-edd4db9e829c\">\n",
              "    <div class=\"colab-df-container\">\n",
              "      <div>\n",
              "<style scoped>\n",
              "    .dataframe tbody tr th:only-of-type {\n",
              "        vertical-align: middle;\n",
              "    }\n",
              "\n",
              "    .dataframe tbody tr th {\n",
              "        vertical-align: top;\n",
              "    }\n",
              "\n",
              "    .dataframe thead th {\n",
              "        text-align: right;\n",
              "    }\n",
              "</style>\n",
              "<table border=\"1\" class=\"dataframe\">\n",
              "  <thead>\n",
              "    <tr style=\"text-align: right;\">\n",
              "      <th></th>\n",
              "      <th>segmentID</th>\n",
              "      <th>BMTK ID</th>\n",
              "      <th>Seg_L</th>\n",
              "      <th>Seg_diam</th>\n",
              "      <th>X</th>\n",
              "      <th>Type</th>\n",
              "      <th>Sec ID</th>\n",
              "      <th>Distance</th>\n",
              "      <th>Section_L</th>\n",
              "      <th>Section_diam</th>\n",
              "      <th>Section_nseg</th>\n",
              "      <th>Section_Ra</th>\n",
              "      <th>ParentSegID</th>\n",
              "      <th>Elec Dist</th>\n",
              "      <th>Section Name</th>\n",
              "    </tr>\n",
              "  </thead>\n",
              "  <tbody>\n",
              "    <tr>\n",
              "      <th>0</th>\n",
              "      <td>0</td>\n",
              "      <td>0</td>\n",
              "      <td>127.133115</td>\n",
              "      <td>3.717652</td>\n",
              "      <td>0.026316</td>\n",
              "      <td>apic</td>\n",
              "      <td>0</td>\n",
              "      <td>75.151262</td>\n",
              "      <td>2415.529185</td>\n",
              "      <td>3.717652</td>\n",
              "      <td>19</td>\n",
              "      <td>100.0</td>\n",
              "      <td>Segment not in segments</td>\n",
              "      <td>0.729871</td>\n",
              "      <td>model[0].apic[0]</td>\n",
              "    </tr>\n",
              "    <tr>\n",
              "      <th>1</th>\n",
              "      <td>1</td>\n",
              "      <td>0</td>\n",
              "      <td>127.133115</td>\n",
              "      <td>3.717652</td>\n",
              "      <td>0.078947</td>\n",
              "      <td>apic</td>\n",
              "      <td>0</td>\n",
              "      <td>202.284376</td>\n",
              "      <td>2415.529185</td>\n",
              "      <td>3.717652</td>\n",
              "      <td>19</td>\n",
              "      <td>100.0</td>\n",
              "      <td>0</td>\n",
              "      <td>0.447482</td>\n",
              "      <td>model[0].apic[0]</td>\n",
              "    </tr>\n",
              "    <tr>\n",
              "      <th>2</th>\n",
              "      <td>2</td>\n",
              "      <td>0</td>\n",
              "      <td>127.133115</td>\n",
              "      <td>3.717652</td>\n",
              "      <td>0.131579</td>\n",
              "      <td>apic</td>\n",
              "      <td>0</td>\n",
              "      <td>329.417491</td>\n",
              "      <td>2415.529185</td>\n",
              "      <td>3.717652</td>\n",
              "      <td>19</td>\n",
              "      <td>100.0</td>\n",
              "      <td>1</td>\n",
              "      <td>0.238126</td>\n",
              "      <td>model[0].apic[0]</td>\n",
              "    </tr>\n",
              "    <tr>\n",
              "      <th>3</th>\n",
              "      <td>3</td>\n",
              "      <td>0</td>\n",
              "      <td>127.133115</td>\n",
              "      <td>3.717652</td>\n",
              "      <td>0.184211</td>\n",
              "      <td>apic</td>\n",
              "      <td>0</td>\n",
              "      <td>456.550606</td>\n",
              "      <td>2415.529185</td>\n",
              "      <td>3.717652</td>\n",
              "      <td>19</td>\n",
              "      <td>100.0</td>\n",
              "      <td>2</td>\n",
              "      <td>0.134906</td>\n",
              "      <td>model[0].apic[0]</td>\n",
              "    </tr>\n",
              "    <tr>\n",
              "      <th>4</th>\n",
              "      <td>4</td>\n",
              "      <td>0</td>\n",
              "      <td>127.133115</td>\n",
              "      <td>3.717652</td>\n",
              "      <td>0.236842</td>\n",
              "      <td>apic</td>\n",
              "      <td>0</td>\n",
              "      <td>583.683721</td>\n",
              "      <td>2415.529185</td>\n",
              "      <td>3.717652</td>\n",
              "      <td>19</td>\n",
              "      <td>100.0</td>\n",
              "      <td>3</td>\n",
              "      <td>0.082859</td>\n",
              "      <td>model[0].apic[0]</td>\n",
              "    </tr>\n",
              "  </tbody>\n",
              "</table>\n",
              "</div>\n",
              "      <button class=\"colab-df-convert\" onclick=\"convertToInteractive('df-c69d093d-e6f3-46bc-997a-edd4db9e829c')\"\n",
              "              title=\"Convert this dataframe to an interactive table.\"\n",
              "              style=\"display:none;\">\n",
              "        \n",
              "  <svg xmlns=\"http://www.w3.org/2000/svg\" height=\"24px\"viewBox=\"0 0 24 24\"\n",
              "       width=\"24px\">\n",
              "    <path d=\"M0 0h24v24H0V0z\" fill=\"none\"/>\n",
              "    <path d=\"M18.56 5.44l.94 2.06.94-2.06 2.06-.94-2.06-.94-.94-2.06-.94 2.06-2.06.94zm-11 1L8.5 8.5l.94-2.06 2.06-.94-2.06-.94L8.5 2.5l-.94 2.06-2.06.94zm10 10l.94 2.06.94-2.06 2.06-.94-2.06-.94-.94-2.06-.94 2.06-2.06.94z\"/><path d=\"M17.41 7.96l-1.37-1.37c-.4-.4-.92-.59-1.43-.59-.52 0-1.04.2-1.43.59L10.3 9.45l-7.72 7.72c-.78.78-.78 2.05 0 2.83L4 21.41c.39.39.9.59 1.41.59.51 0 1.02-.2 1.41-.59l7.78-7.78 2.81-2.81c.8-.78.8-2.07 0-2.86zM5.41 20L4 18.59l7.72-7.72 1.47 1.35L5.41 20z\"/>\n",
              "  </svg>\n",
              "      </button>\n",
              "      \n",
              "  <style>\n",
              "    .colab-df-container {\n",
              "      display:flex;\n",
              "      flex-wrap:wrap;\n",
              "      gap: 12px;\n",
              "    }\n",
              "\n",
              "    .colab-df-convert {\n",
              "      background-color: #E8F0FE;\n",
              "      border: none;\n",
              "      border-radius: 50%;\n",
              "      cursor: pointer;\n",
              "      display: none;\n",
              "      fill: #1967D2;\n",
              "      height: 32px;\n",
              "      padding: 0 0 0 0;\n",
              "      width: 32px;\n",
              "    }\n",
              "\n",
              "    .colab-df-convert:hover {\n",
              "      background-color: #E2EBFA;\n",
              "      box-shadow: 0px 1px 2px rgba(60, 64, 67, 0.3), 0px 1px 3px 1px rgba(60, 64, 67, 0.15);\n",
              "      fill: #174EA6;\n",
              "    }\n",
              "\n",
              "    [theme=dark] .colab-df-convert {\n",
              "      background-color: #3B4455;\n",
              "      fill: #D2E3FC;\n",
              "    }\n",
              "\n",
              "    [theme=dark] .colab-df-convert:hover {\n",
              "      background-color: #434B5C;\n",
              "      box-shadow: 0px 1px 3px 1px rgba(0, 0, 0, 0.15);\n",
              "      filter: drop-shadow(0px 1px 2px rgba(0, 0, 0, 0.3));\n",
              "      fill: #FFFFFF;\n",
              "    }\n",
              "  </style>\n",
              "\n",
              "      <script>\n",
              "        const buttonEl =\n",
              "          document.querySelector('#df-c69d093d-e6f3-46bc-997a-edd4db9e829c button.colab-df-convert');\n",
              "        buttonEl.style.display =\n",
              "          google.colab.kernel.accessAllowed ? 'block' : 'none';\n",
              "\n",
              "        async function convertToInteractive(key) {\n",
              "          const element = document.querySelector('#df-c69d093d-e6f3-46bc-997a-edd4db9e829c');\n",
              "          const dataTable =\n",
              "            await google.colab.kernel.invokeFunction('convertToInteractive',\n",
              "                                                     [key], {});\n",
              "          if (!dataTable) return;\n",
              "\n",
              "          const docLinkHtml = 'Like what you see? Visit the ' +\n",
              "            '<a target=\"_blank\" href=https://colab.research.google.com/notebooks/data_table.ipynb>data table notebook</a>'\n",
              "            + ' to learn more about interactive tables.';\n",
              "          element.innerHTML = '';\n",
              "          dataTable['output_type'] = 'display_data';\n",
              "          await google.colab.output.renderOutput(dataTable, element);\n",
              "          const docLink = document.createElement('div');\n",
              "          docLink.innerHTML = docLinkHtml;\n",
              "          element.appendChild(docLink);\n",
              "        }\n",
              "      </script>\n",
              "    </div>\n",
              "  </div>\n",
              "  "
            ]
          },
          "metadata": {},
          "execution_count": 29
        }
      ]
    },
    {
      "cell_type": "code",
      "source": [
        "#Get Columns\n",
        "segIDs=reduced_segments['segmentID']\n",
        "\n",
        "# segs = segs.set_index(['Type','Sec ID']).join(segs_degrees.set_index(['Type','Sec ID'])).reset_index() #not sure what this does\n",
        "reduced_segments['Sec ID'] = reduced_segments['Sec ID'].astype(int)\n",
        "reduced_segments['X'] = reduced_segments['X'].astype(float)\n",
        "reduced_segments['Elec_distanceQ'] = 'None'\n",
        "# AllSegXCoord=reduced_segments['Coord X']\n",
        "# AllSegYCoord=reduced_segments['Coord Y']\n",
        "# AllSegZCoord=reduced_segments['Coord Z']\n",
        "AllSegSec_ID=reduced_segments['Sec ID']\n",
        "AllSegSec_name=reduced_segments['Type']\n",
        "segLs=reduced_segments[\"Seg_L\"]\n",
        "segxs=reduced_segments[\"X\"]\n",
        "segdists=reduced_segments[\"Distance\"]\n",
        "SegSecL=reduced_segments[\"Section_L\"]\n",
        "segdiams=reduced_segments[\"Seg_diam\"]\n",
        "SegSecnseg=reduced_segments[\"Section_nseg\"]\n",
        "secRas=reduced_segments[\"Section_Ra\"]\n",
        "psegIDs=reduced_segments[\"ParentSegID\"]\n",
        "secids=reduced_segments[\"Sec ID\"]\n",
        "bmtkid=reduced_segments[\"BMTK ID\"]\n",
        "sectypes=reduced_segments[\"Type\"]\n",
        "elec_dists=reduced_segments[\"Elec Dist\"]\n",
        "\n",
        "psegids=[] #fix for when there is no parent segment\n",
        "# for i in range(len(psegIDs)):\n",
        "#   if np.isnan(psegIDs[i]) == False:\n",
        "#     psegids.append(int(psegIDs[i]))\n",
        "#   else:\n",
        "#     psegids.append(psegIDs[i])\n",
        "\n",
        "red_segments=[] #list for probe objects\n",
        "\n",
        "for i in range(len(reduced_segments['segmentID'])):\n",
        "  try:\n",
        "    newprobe=probe(seg=i,sectionindex=AllSegSec_ID[i],sectionname=str(AllSegSec_name[i]),color=colors[j],XCoord=AllSegXCoord[i],YCoord=AllSegYCoord[i],ZCoord=AllSegZCoord[i],\n",
        "                  secRa=secRas[i],segdiam=segdiams[i],segx=segxs[i],segdist=segdists[i],sectionL=SegSecL[i],sectionNseg=SegSecnseg[i],segL=segLs[i],\n",
        "                  parentseg=psegids[i],sectype=sectypes[i],elec_dist=elec_dists[i])\n",
        "  except: #use red if colors isn't long enough\n",
        "        newprobe=probe(seg=i,sectionindex=AllSegSec_ID[i],sectionname=str(AllSegSec_name[i]),color='r',XCoord=AllSegXCoord[i],YCoord=AllSegYCoord[i],ZCoord=AllSegZCoord[i],\n",
        "                secRa=secRas[i],segdiam=segdiams[i],segx=segxs[i],segdist=segdists[i],sectionL=SegSecL[i],sectionNseg=SegSecnseg[i],segL=segLs[i],\n",
        "                sectype=sectypes[i],elec_dist=elec_dists[i])\n",
        "  red_segments.append(newprobe)"
      ],
      "metadata": {
        "id": "3M_xPcpScJHH"
      },
      "execution_count": 32,
      "outputs": []
    },
    {
      "cell_type": "code",
      "source": [
        "reduced_segments=red_segments"
      ],
      "metadata": {
        "id": "OxrKK8ljfa3z"
      },
      "execution_count": 35,
      "outputs": []
    },
    {
      "cell_type": "code",
      "source": [
        "dir(reduced_segments[3])"
      ],
      "metadata": {
        "colab": {
          "base_uri": "https://localhost:8080/"
        },
        "id": "H9gM_JwEd1v3",
        "outputId": "50c0f3b6-0b40-4703-c9aa-8933bb623f4d"
      },
      "execution_count": 36,
      "outputs": [
        {
          "output_type": "execute_result",
          "data": {
            "text/plain": [
              "['XCoord',\n",
              " 'YCoord',\n",
              " 'ZCoord',\n",
              " '__class__',\n",
              " '__delattr__',\n",
              " '__dict__',\n",
              " '__dir__',\n",
              " '__doc__',\n",
              " '__eq__',\n",
              " '__format__',\n",
              " '__ge__',\n",
              " '__getattribute__',\n",
              " '__gt__',\n",
              " '__hash__',\n",
              " '__init__',\n",
              " '__init_subclass__',\n",
              " '__le__',\n",
              " '__lt__',\n",
              " '__module__',\n",
              " '__ne__',\n",
              " '__new__',\n",
              " '__reduce__',\n",
              " '__reduce_ex__',\n",
              " '__repr__',\n",
              " '__setattr__',\n",
              " '__sizeof__',\n",
              " '__str__',\n",
              " '__subclasshook__',\n",
              " '__weakref__',\n",
              " 'adjprobes',\n",
              " 'axialcurrents',\n",
              " 'childprobes',\n",
              " 'childrenaxialcurrents',\n",
              " 'color',\n",
              " 'elec_dist',\n",
              " 'halfsegRa',\n",
              " 'name',\n",
              " 'parentaxialcurrent',\n",
              " 'parentprobe',\n",
              " 'parentseg',\n",
              " 'secL',\n",
              " 'secRa',\n",
              " 'secnseg',\n",
              " 'sectionindex',\n",
              " 'sectionname',\n",
              " 'sectype',\n",
              " 'seg',\n",
              " 'segL',\n",
              " 'segdiam',\n",
              " 'segdist',\n",
              " 'x']"
            ]
          },
          "metadata": {},
          "execution_count": 36
        }
      ]
    },
    {
      "cell_type": "code",
      "source": [
        "#Find equivalent elec_dist\n",
        "complex_segments=segments\n",
        "TheDistance=complex_segments[nexus[0]].elec_dist #Complex cell nexus electrotonic distance\n",
        "print(\"Complex Cell's electrotonic distance to nexus branching segment:\",TheDistance)\n",
        "print(\"Electrotonic distance to each segment in the reduced apical cylinder:\")\n",
        "for i in range(len(reduced_segments)):\n",
        "  if reduced_segments[i].sectype==\"apic\":\n",
        "    print(reduced_segments[i].elec_dist)\n",
        "    if reduced_segments[i].elec_dist==TheDistance:\n",
        "      print(i)"
      ],
      "metadata": {
        "colab": {
          "base_uri": "https://localhost:8080/"
        },
        "id": "ihthJusSbMgQ",
        "outputId": "769d7cb0-f599-4d66-e091-8d7d20d056e1"
      },
      "execution_count": 40,
      "outputs": [
        {
          "output_type": "stream",
          "name": "stdout",
          "text": [
            "Complex Cell's electrotonic distance to nexus branching segment: 0.4901355173781123\n",
            "Electrotonic distance to each segment in the reduced apical cylinder:\n",
            "0.7298711452706049\n",
            "0.4474817206037379\n",
            "0.2381255422965062\n",
            "0.134906426285836\n",
            "0.0828594809809623\n",
            "0.0581384590379483\n",
            "0.0411705315903188\n",
            "0.0294649806365547\n",
            "0.0203635592258771\n",
            "0.0142351031846877\n",
            "0.0103764493475629\n",
            "0.0077373560681378\n",
            "0.0059944025739695\n",
            "0.0046649937787361\n",
            "0.003665987976773\n",
            "0.0026467656270667\n",
            "0.001849473211183\n",
            "0.0013562919955331\n",
            "0.0010493796717602\n"
          ]
        }
      ]
    },
    {
      "cell_type": "code",
      "source": [
        "print(complex_segments)"
      ],
      "metadata": {
        "id": "PHEYKbzQb-bN"
      },
      "execution_count": null,
      "outputs": []
    },
    {
      "cell_type": "code",
      "source": [
        "dir(reduced_cell)"
      ],
      "metadata": {
        "id": "z6t32dtFQUwC"
      },
      "execution_count": null,
      "outputs": []
    },
    {
      "cell_type": "code",
      "source": [
        "generate_reduced_stylized_geometry(reduced_cell=reduced_cell)"
      ],
      "metadata": {
        "id": "ue6ejkRpdBsP"
      },
      "execution_count": null,
      "outputs": []
    },
    {
      "cell_type": "code",
      "source": [
        "# work in progress #currently mostly pseudo-code\n",
        "#Would alter the geometry file for the stylized module, but we are no longer using stylized module.\n",
        "def Create_Equivalent_Tree_From_Cylinder(trunk_section):\n",
        "  '''\n",
        "  alters the geometry_file.csv so that a cylindrical section turns into a trunk with branches.\n",
        "  '''\n",
        "  #needs to pull radii and lengths of new sections from other functions\n",
        "  L_trunk=calc_branch_point(trunk_section)\n",
        "  R_trunk=trunk_section.diam/2\n",
        "  #L_branch=calc_branch_L\n",
        "  #R_branch=\n",
        "\n",
        "  \n",
        "\n",
        "def calc_branch_point(complex_trunk_section,reduced_section_geometry):\n",
        "  '''\n",
        "  calculates the length (um) at which the equivalent cylinder should start to branch\n",
        "  '''\n",
        "  #needs to convert initial trunk section to the same parameter space as the equivalent cylinder\n",
        "  #equivalent cylinder length is not equivalent to complex cell length. Branch point should occur at the same elctrotonic distance\n",
        "  #Find electrotonic distance at branch point.\n",
        "  Ri=complex_trunk_section.Ri\n",
        "  Rm=complex_trunk_section.Rm\n",
        "  Cm=complex_trunk_section.Cm\n",
        "  Diam=complex_trunk_section.Diam\n",
        "  max_L=calc_electrotonic_length(complex_trunk_section) # calculate the electrotonic distance at the end of this trunk section\n",
        "  Length=calc_eqcyl_length(max_L) #get the  equivalent reduced cylinder's real length that corresponds to this electrotonic distance\n",
        "  return Length\n",
        "\n",
        "def calc_eqcyl_length(complex_electrotonic_length,reduced_diam):\n",
        "  '''\n",
        "  calculates the length of the equivalent reduced cylinder \n",
        "  that corresponds to the inputted electrotonic length\n",
        "  '''\n",
        "\n",
        "\n",
        "def calc_electrotonic_length(trunk_length,trunk_Rm,trunk_Cm,trunk_Ri,trunk_diam):\n",
        "  '''\n",
        "  calculate the electrotonic length of the complex trunk section\n",
        "  '''\n",
        "  elec_L=trunk_L/np.sqrt(trunk_Rm*trunk_Cm/(trunk_Ri/np.pi*(trunk_diam^2)/4))\n",
        "  return elec_L"
      ],
      "metadata": {
        "id": "BxNDE1i12bMO"
      },
      "execution_count": null,
      "outputs": []
    },
    {
      "cell_type": "markdown",
      "source": [
        "##Determine Electrotonic Distance from soma to nexus"
      ],
      "metadata": {
        "id": "_tUPIuWYIizB"
      }
    },
    {
      "cell_type": "code",
      "source": [],
      "metadata": {
        "id": "y0oM91yAIjbk"
      },
      "execution_count": null,
      "outputs": []
    },
    {
      "cell_type": "markdown",
      "source": [
        "Check Surface Area"
      ],
      "metadata": {
        "id": "bi0BhGAhjxom"
      }
    },
    {
      "cell_type": "code",
      "source": [
        "# check surface area\n",
        "def calc_cyl_SA(L,R):\n",
        "  '''\n",
        "  calculate surface area of a cylinder : 2πrh+2πr2\n",
        "  '''\n",
        "  wrap_SA = 2*np.pi*R*L\n",
        "  circles_SA = 2*np.pi*R*2 #may not want to include circle_SA\n",
        "  total_SA= wrap_SA + circles_SA\n",
        "  return wrap_SA, circles_SA, total_SA\n",
        "\n",
        "def calc_model_SA(geom_file='geom_complex.csv',omit_soma=False):\n",
        "  df=pd.read_csv(geom_file)\n",
        "  Ls=df['L']\n",
        "  Rs=df['R']\n",
        "  total_wrap_SA=0\n",
        "  total_circles_SA=0\n",
        "  total_total_SA=0\n",
        "  if omit_soma == False:\n",
        "    for i in range(len(Ls)): # add all surface area\n",
        "      wrap_SA, circles_SA, total_SA = calc_cyl_SA(L=Ls[i],R=Rs[i])\n",
        "      total_wrap_SA += wrap_SA #surface area not including the circle surfaces\n",
        "      total_total_SA += total_SA\n",
        "  else: # omit soma case, should skip first entry in geometry file\n",
        "    for i in range(len(Ls)-1): \n",
        "      wrap_SA, circles_SA, total_SA = calc_cyl_SA(L=Ls[i+1],R=Rs[i+1]) \n",
        "      total_wrap_SA += wrap_SA #surface area not including the circle surfaces\n",
        "      total_total_SA += total_SA\n",
        "  return total_total_SA, total_wrap_SA\n",
        "\n",
        "complex_total_SA,complex_wrap_SA=calc_model_SA('geom_complex.csv')\n",
        "reduced_total_SA,reduced_wrap_SA=calc_model_SA('geom_reduced.csv')\n",
        "\n",
        "print('Complex model surface area:',complex_total_SA,)\n",
        "print('Reduced model surface area:',reduced_total_SA,)\n",
        "print('Difference:',complex_total_SA-reduced_total_SA)"
      ],
      "metadata": {
        "id": "L_5FtSU0jw6C"
      },
      "execution_count": null,
      "outputs": []
    },
    {
      "cell_type": "markdown",
      "source": [
        "#Show Complex and Reduced Cell"
      ],
      "metadata": {
        "id": "qGwLfdxo5Puw"
      }
    },
    {
      "cell_type": "markdown",
      "source": [
        "#Reducing a Stylized Cell"
      ],
      "metadata": {
        "id": "O1mrU4lFOvFx"
      }
    },
    {
      "cell_type": "markdown",
      "source": [
        "# Reducing a L5PC model with more biophysically realistic synaptic input."
      ],
      "metadata": {
        "id": "J0LkPzT9geUl"
      }
    },
    {
      "cell_type": "code",
      "source": [],
      "metadata": {
        "id": "TPwm_KLfgd2w"
      },
      "execution_count": null,
      "outputs": []
    },
    {
      "cell_type": "markdown",
      "source": [
        "# Citation\n",
        "O. Amsalem, G. Eyal, N. Rogozinski, M. Gevaert, P. Kumbhar, F. Schürmann, I. Segev. An efficient analytical reduction of detailed nonlinear neuron models. Nat. Commun., 11 (2020), p. 288"
      ],
      "metadata": {
        "id": "GVqP8OGNewZV"
      }
    }
  ]
}