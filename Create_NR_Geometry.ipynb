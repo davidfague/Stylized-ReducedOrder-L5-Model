{
  "nbformat": 4,
  "nbformat_minor": 0,
  "metadata": {
    "colab": {
      "provenance": [],
      "authorship_tag": "ABX9TyNBMJR2EHK64rcDJFf6CFBq",
      "include_colab_link": true
    },
    "kernelspec": {
      "name": "python3",
      "display_name": "Python 3"
    },
    "language_info": {
      "name": "python"
    }
  },
  "cells": [
    {
      "cell_type": "markdown",
      "metadata": {
        "id": "view-in-github",
        "colab_type": "text"
      },
      "source": [
        "<a href=\"https://colab.research.google.com/github/davidfague/Stylized-ReducedOrder-L5-Model/blob/main/Create_NR_Geometry.ipynb\" target=\"_parent\"><img src=\"https://colab.research.google.com/assets/colab-badge.svg\" alt=\"Open In Colab\"/></a>"
      ]
    },
    {
      "cell_type": "markdown",
      "source": [
        "# Quick Start\n",
        "## The following code shows the main function that is used to reduce a complex cell.\n",
        "\n",
        "complex_cell  # The model cell\n",
        "\n",
        "synapses_list # A list of all synapse on this cell\n",
        "\n",
        "netcon_list   # A list of all netcons for the synapses on the cell\n",
        "\n",
        "import neuron_reduce\n",
        "\n",
        "reduced_cell, synapses_list, netcons_list =  neuron_reduce.subtree_reductor(complex_cell, synapses_list, netcons_list)"
      ],
      "metadata": {
        "id": "IDTyDy5FaQTn"
      }
    },
    {
      "cell_type": "markdown",
      "source": [
        "# Detailed Example\n",
        "## Example copied from github"
      ],
      "metadata": {
        "id": "lZ82bG9gayLw"
      }
    },
    {
      "cell_type": "code",
      "source": [
        "!pip install neuron"
      ],
      "metadata": {
        "colab": {
          "base_uri": "https://localhost:8080/"
        },
        "id": "b8QAPXTrcKUO",
        "outputId": "4d3b165b-074e-4bdd-da2a-c8d6bbf0ac5d"
      },
      "execution_count": 1,
      "outputs": [
        {
          "output_type": "stream",
          "name": "stdout",
          "text": [
            "Looking in indexes: https://pypi.org/simple, https://us-python.pkg.dev/colab-wheels/public/simple/\n",
            "Requirement already satisfied: neuron in /usr/local/lib/python3.8/dist-packages (8.2.2)\n",
            "Requirement already satisfied: numpy>=1.9.3 in /usr/local/lib/python3.8/dist-packages (from neuron) (1.21.6)\n"
          ]
        }
      ]
    },
    {
      "cell_type": "code",
      "source": [
        "!pip install neuron_reduce"
      ],
      "metadata": {
        "colab": {
          "base_uri": "https://localhost:8080/"
        },
        "id": "37g4VleafuDM",
        "outputId": "5524b109-b24e-4839-d324-9a2388a67405"
      },
      "execution_count": 2,
      "outputs": [
        {
          "output_type": "stream",
          "name": "stdout",
          "text": [
            "Looking in indexes: https://pypi.org/simple, https://us-python.pkg.dev/colab-wheels/public/simple/\n",
            "Requirement already satisfied: neuron_reduce in /usr/local/lib/python3.8/dist-packages (0.0.7)\n"
          ]
        }
      ]
    },
    {
      "cell_type": "code",
      "source": [
        "!git clone https://github.com/orena1/neuron_reduce.git"
      ],
      "metadata": {
        "colab": {
          "base_uri": "https://localhost:8080/"
        },
        "id": "X9fdloqtbKqg",
        "outputId": "1e5e21bf-debc-412f-d8a5-c82ff40eaa59"
      },
      "execution_count": 3,
      "outputs": [
        {
          "output_type": "stream",
          "name": "stdout",
          "text": [
            "fatal: destination path 'neuron_reduce' already exists and is not an empty directory.\n"
          ]
        }
      ]
    },
    {
      "cell_type": "code",
      "source": [
        "# Go to example folder\n",
        "%cd neuron_reduce \n",
        "%cd example\n",
        "# compile the mod files\n",
        "!nrnivmodl mod"
      ],
      "metadata": {
        "colab": {
          "base_uri": "https://localhost:8080/"
        },
        "id": "1_cpnQEPbRRu",
        "outputId": "fcd3f1db-58b2-487b-97ee-96e38b51a631"
      },
      "execution_count": 4,
      "outputs": [
        {
          "output_type": "stream",
          "name": "stdout",
          "text": [
            "/content/neuron_reduce\n",
            "/content/neuron_reduce/example\n",
            "/content/neuron_reduce/example\n",
            "Mod files: \"mod/mod/CaDynamics_E2.mod\" \"mod/mod/Ca_HVA.mod\" \"mod/mod/Ca_LVAst.mod\" \"mod/mod/epsp.mod\" \"mod/mod/Ih.mod\" \"mod/mod/Im.mod\" \"mod/mod/K_Pst.mod\" \"mod/mod/K_Tst.mod\" \"mod/mod/Nap_Et2.mod\" \"mod/mod/NaTa_t.mod\" \"mod/mod/NaTs2_t.mod\" \"mod/mod/SK_E2.mod\" \"mod/mod/SKv3_1.mod\"\n",
            "\n",
            " -> \u001b[32mCompiling\u001b[0m mod_func.cpp\n",
            " => \u001b[32mLINKING\u001b[0m shared library ./libnrnmech.so\n",
            "Successfully created x86_64/special\n"
          ]
        }
      ]
    },
    {
      "cell_type": "markdown",
      "source": [
        "Define The Cell"
      ],
      "metadata": {
        "id": "atlls8ETHlg5"
      }
    },
    {
      "cell_type": "code",
      "source": [
        "#Run the code\n",
        "from __future__ import division\n",
        "from neuron import gui,h\n",
        "import numpy as np\n",
        "import neuron_reduce\n",
        "import time\n",
        "import matplotlib.pyplot as plt\n",
        "\n",
        "#Create a L5_PC model\n",
        "h.load_file('L5PCbiophys3.hoc')\n",
        "h.load_file(\"import3d.hoc\")\n",
        "h.load_file('L5PCtemplate.hoc')\n",
        "complex_cell = h.L5PCtemplate('cell1.asc')\n",
        "h.celsius = 37\n",
        "h.v_init = complex_cell.soma[0].e_pas"
      ],
      "metadata": {
        "id": "Ejij0ArEHlBM"
      },
      "execution_count": 5,
      "outputs": []
    },
    {
      "cell_type": "markdown",
      "source": [
        "Add synapses to the cell"
      ],
      "metadata": {
        "id": "1gmh5X-fHnfg"
      }
    },
    {
      "cell_type": "code",
      "execution_count": 6,
      "metadata": {
        "id": "vKb-1N49aCkR"
      },
      "outputs": [],
      "source": [
        "#Add synapses to the model\n",
        "synapses_list, netstims_list, netcons_list, randoms_list = [], [], [] ,[]\n",
        "\n",
        "all_segments = [i for j in map(list,list(complex_cell.apical)) for i in j] + [i for j in map(list,list(complex_cell.basal)) for i in j]\n",
        "len_per_segment = np.array([seg.sec.L/seg.sec.nseg for seg in all_segments])\n",
        "rnd = np.random.RandomState(10)\n",
        "for i in range(10000):\n",
        "    seg_for_synapse = rnd.choice(all_segments,   p=len_per_segment/sum(len_per_segment)) #choose a random segment with probability based on the length of segment\n",
        "    synapses_list.append(h.Exp2Syn(seg_for_synapse))\n",
        "    if rnd.uniform()<0.85: # 85% synapses are excitatory\n",
        "        e_syn, tau1, tau2, spike_interval, syn_weight = 0, 0.3, 1.8,  1000/2.5, 0.0016\n",
        "    else: #inhibitory case\n",
        "        e_syn, tau1, tau2, spike_interval, syn_weight = -86, 1,   8,   1000/15.0, 0.0008\n",
        "    #set synaptic varibales\n",
        "    synapses_list[i].e, synapses_list[i].tau1, synapses_list[i].tau2 = e_syn, tau1, tau2\n",
        "    #set netstim variables\n",
        "    netstims_list.append(h.NetStim())\n",
        "    netstims_list[i].interval, netstims_list[i].number, netstims_list[i].start, netstims_list[i].noise = spike_interval, 9e9, 100, 1\n",
        "    #set random\n",
        "    randoms_list.append(h.Random())\n",
        "    randoms_list[i].Random123(i)\n",
        "    randoms_list[i].negexp(1)\n",
        "    netstims_list[i].noiseFromRandom(randoms_list[i])       \n",
        "    #set netcon varibales \n",
        "    netcons_list.append(h.NetCon(netstims_list[i], synapses_list[i] ))\n",
        "    netcons_list[i].delay, netcons_list[i].weight[0] = 0, syn_weight"
      ]
    },
    {
      "cell_type": "code",
      "source": [
        "print(seg_for_synapse)"
      ],
      "metadata": {
        "colab": {
          "base_uri": "https://localhost:8080/"
        },
        "id": "avcH9Tq1-kgE",
        "outputId": "841bc584-15a8-4cf6-a464-d400903a7b18"
      },
      "execution_count": 7,
      "outputs": [
        {
          "output_type": "stream",
          "name": "stdout",
          "text": [
            "L5PCtemplate[0].dend[82](0.0714286)\n"
          ]
        }
      ]
    },
    {
      "cell_type": "markdown",
      "source": [
        "Simulate the full neuron for 1 seconds"
      ],
      "metadata": {
        "id": "sIyKLITkHtzt"
      }
    },
    {
      "cell_type": "code",
      "source": [
        "soma_v = h.Vector()\n",
        "soma_v.record(complex_cell.soma[0](0.5)._ref_v)\n",
        "\n",
        "time_v = h.Vector()\n",
        "time_v.record(h._ref_t)\n",
        "\n",
        "h.tstop = 1000\n",
        "st = time.time()\n",
        "h.run()\n",
        "print('complex cell simulation time {:.4f}'.format(time.time()-st))\n",
        "complex_cell_v = list(soma_v)\n"
      ],
      "metadata": {
        "id": "4mz9SNTSHu17",
        "colab": {
          "base_uri": "https://localhost:8080/"
        },
        "outputId": "06e39137-d7ec-4c59-f6cd-8d3e08f6e069"
      },
      "execution_count": 8,
      "outputs": [
        {
          "output_type": "stream",
          "name": "stdout",
          "text": [
            "complex cell simulation time 42.9041\n"
          ]
        }
      ]
    },
    {
      "cell_type": "markdown",
      "source": [
        "Gather complex cell geometry"
      ],
      "metadata": {
        "id": "XSYqrS2fWvfo"
      }
    },
    {
      "cell_type": "code",
      "source": [
        "import pandas as pd\n",
        "def generate_stylized_geometry(cell,savename):\n",
        "  df = pd.DataFrame()\n",
        "  ids=[]\n",
        "  names=[]\n",
        "  types=[]\n",
        "  pids=[]\n",
        "  axials=[]\n",
        "  nbranchs=[]\n",
        "  Ls=[]\n",
        "  Rs=[]\n",
        "  angs=[]\n",
        "\n",
        "  id=0\n",
        "  for sec in cell.all:\n",
        "    name=sec.name()\n",
        "    names.append(name)\n",
        "    ids.append(names.index(name))\n",
        "    _,sec_type_withinteger=name.split('.')\n",
        "    sec_type,_=sec_type_withinteger.split('[')\n",
        "    types.append(sec_type)\n",
        "    pseg = sec.parentseg()\n",
        "    if pseg == None:\n",
        "      pids.append(None)\n",
        "    else:\n",
        "      psec=pseg.sec\n",
        "      pids.append(names.index(psec.name()))\n",
        "    axials.append('TRUE')\n",
        "    nbranchs.append(1)\n",
        "    Ls.append(sec.L)\n",
        "    # print(dir(sec))\n",
        "    Rs.append(sec.diam/2) # may need to compute single radius for each section\n",
        "    angs.append(180)\n",
        "\n",
        "  print(len(ids))\n",
        "  print(len(names))\n",
        "  print(len(types))\n",
        "  print(len(pids))\n",
        "  print(len(axials))\n",
        "  print(len(nbranchs))\n",
        "  print(len(Ls))\n",
        "  print(len(Rs))\n",
        "  print(angs)\n",
        "  df[\"id\"] = ids\n",
        "  df[\"name\"] = names\n",
        "  df[\"pid\"] = pids\n",
        "  df[\"axial\"] = axials\n",
        "  df[\"type\"] = types\n",
        "  df[\"nbranch\"] = nbranchs\n",
        "  df[\"L\"] = Ls\n",
        "  df[\"R\"] = Rs\n",
        "  df[\"ang\"] = angs\n",
        "  df.to_csv(savename)\n",
        "\n",
        "generate_stylized_geometry(cell=complex_cell,savename='geom_complex.csv')"
      ],
      "metadata": {
        "colab": {
          "base_uri": "https://localhost:8080/"
        },
        "id": "3LQMNX6_NrF-",
        "outputId": "5b11fb56-3380-49d1-f9b6-17a8820e7b58"
      },
      "execution_count": 9,
      "outputs": [
        {
          "output_type": "stream",
          "name": "stdout",
          "text": [
            "196\n",
            "196\n",
            "196\n",
            "196\n",
            "196\n",
            "196\n",
            "196\n",
            "196\n",
            "[180, 180, 180, 180, 180, 180, 180, 180, 180, 180, 180, 180, 180, 180, 180, 180, 180, 180, 180, 180, 180, 180, 180, 180, 180, 180, 180, 180, 180, 180, 180, 180, 180, 180, 180, 180, 180, 180, 180, 180, 180, 180, 180, 180, 180, 180, 180, 180, 180, 180, 180, 180, 180, 180, 180, 180, 180, 180, 180, 180, 180, 180, 180, 180, 180, 180, 180, 180, 180, 180, 180, 180, 180, 180, 180, 180, 180, 180, 180, 180, 180, 180, 180, 180, 180, 180, 180, 180, 180, 180, 180, 180, 180, 180, 180, 180, 180, 180, 180, 180, 180, 180, 180, 180, 180, 180, 180, 180, 180, 180, 180, 180, 180, 180, 180, 180, 180, 180, 180, 180, 180, 180, 180, 180, 180, 180, 180, 180, 180, 180, 180, 180, 180, 180, 180, 180, 180, 180, 180, 180, 180, 180, 180, 180, 180, 180, 180, 180, 180, 180, 180, 180, 180, 180, 180, 180, 180, 180, 180, 180, 180, 180, 180, 180, 180, 180, 180, 180, 180, 180, 180, 180, 180, 180, 180, 180, 180, 180, 180, 180, 180, 180, 180, 180, 180, 180, 180, 180, 180, 180, 180, 180, 180, 180, 180, 180]\n"
          ]
        }
      ]
    },
    {
      "cell_type": "code",
      "source": [
        "%ls"
      ],
      "metadata": {
        "colab": {
          "base_uri": "https://localhost:8080/"
        },
        "id": "NbrxC3TIP7kA",
        "outputId": "6a0a44b9-9615-4b66-ac14-0d5ce58da93d"
      },
      "execution_count": 10,
      "outputs": [
        {
          "output_type": "stream",
          "name": "stdout",
          "text": [
            "cell1.asc  complex_geom.csv  geom_complex.csv  L5PCtemplate.hoc  \u001b[0m\u001b[01;34mx86_64\u001b[0m/\n",
            "Cell.hoc   example.py        L5PCbiophys3.hoc  \u001b[01;34mmod\u001b[0m/\n"
          ]
        }
      ]
    },
    {
      "cell_type": "markdown",
      "source": [
        "apply Neuron_Reduce to simplify the cell and run the simulation again on the reduced cell"
      ],
      "metadata": {
        "id": "bexK1es3H36H"
      }
    },
    {
      "cell_type": "code",
      "source": [
        "#apply Neuron_Reduce to simplify the cell\n",
        "reduced_cell, synapses_list, netcons_list = neuron_reduce.subtree_reductor(complex_cell, synapses_list, netcons_list, reduction_frequency=0, total_segments_manual=-1)\n",
        "for r in randoms_list:r.seq(1) #reset random\n",
        "\n",
        "\n",
        "#Running the simulation again but now on the reduced cell\n",
        "st = time.time()\n",
        "h.run()\n",
        "print('reduced cell simulation time {:.4f}'.format(time.time()-st))\n",
        "reduced_celll_v = list(soma_v)\n",
        "\n",
        "#plotting the results\n",
        "plt.figure()\n",
        "\n",
        "plt.plot(time_v, complex_cell_v, label='complex cell')\n",
        "plt.plot(time_v, reduced_celll_v,  label='reduced cell')\n",
        "plt.show()"
      ],
      "metadata": {
        "id": "CL0mlEexH3f2",
        "colab": {
          "base_uri": "https://localhost:8080/",
          "height": 282
        },
        "outputId": "7de7434c-7f82-4412-cc54-245d175b4290"
      },
      "execution_count": 11,
      "outputs": [
        {
          "output_type": "stream",
          "name": "stdout",
          "text": [
            "reduced cell simulation time 1.1384\n"
          ]
        },
        {
          "output_type": "display_data",
          "data": {
            "text/plain": [
              "<Figure size 432x288 with 1 Axes>"
            ],
            "image/png": "[encoded data removed]"
          },
          "metadata": {
            "needs_background": "light"
          }
        }
      ]
    },
    {
      "cell_type": "code",
      "source": [
        "dir(reduced_cell.hoc_model)"
      ],
      "metadata": {
        "colab": {
          "base_uri": "https://localhost:8080/"
        },
        "id": "rqvmGs7DaCfB",
        "outputId": "f3299ea3-9f68-4596-d8fa-b82cbd15e0b1"
      },
      "execution_count": 12,
      "outputs": [
        {
          "output_type": "execute_result",
          "data": {
            "text/plain": [
              "['__abs__',\n",
              " '__add__',\n",
              " '__bool__',\n",
              " '__call__',\n",
              " '__class__',\n",
              " '__delattr__',\n",
              " '__delitem__',\n",
              " '__dir__',\n",
              " '__doc__',\n",
              " '__eq__',\n",
              " '__format__',\n",
              " '__ge__',\n",
              " '__getattribute__',\n",
              " '__getitem__',\n",
              " '__gt__',\n",
              " '__hash__',\n",
              " '__init__',\n",
              " '__init_subclass__',\n",
              " '__iter__',\n",
              " '__le__',\n",
              " '__len__',\n",
              " '__lt__',\n",
              " '__module__',\n",
              " '__mul__',\n",
              " '__ne__',\n",
              " '__neg__',\n",
              " '__new__',\n",
              " '__next__',\n",
              " '__pos__',\n",
              " '__radd__',\n",
              " '__reduce__',\n",
              " '__reduce_ex__',\n",
              " '__repr__',\n",
              " '__rmul__',\n",
              " '__rsub__',\n",
              " '__rtruediv__',\n",
              " '__setattr__',\n",
              " '__setitem__',\n",
              " '__setstate__',\n",
              " '__sizeof__',\n",
              " '__str__',\n",
              " '__sub__',\n",
              " '__subclasshook__',\n",
              " '__truediv__',\n",
              " 'all',\n",
              " 'apic',\n",
              " 'apical',\n",
              " 'axon',\n",
              " 'axonal',\n",
              " 'basal',\n",
              " 'baseattr',\n",
              " 'biophys',\n",
              " 'delete_axon',\n",
              " 'dend',\n",
              " 'geom_nseg',\n",
              " 'hname',\n",
              " 'hocobjptr',\n",
              " 'init',\n",
              " 'same',\n",
              " 'soma',\n",
              " 'somatic']"
            ]
          },
          "metadata": {},
          "execution_count": 12
        }
      ]
    },
    {
      "cell_type": "code",
      "source": [
        "complex_df = pd.read_csv('geom_complex.csv') #need to begin reduced_df with soma from complex_cell\n",
        "df = pd.DataFrame()\n",
        "ids=[complex_df['id'][0]]\n",
        "names=[complex_df['name'][0]]\n",
        "types=[complex_df['type'][0]]\n",
        "pids=[complex_df['pid'][0]]\n",
        "axials=[complex_df['axial'][0]]\n",
        "nbranchs=[complex_df['nbranch'][0]]\n",
        "Ls=[complex_df['L'][0]]\n",
        "Rs=[complex_df['R'][0]]\n",
        "angs=[complex_df['ang'][0]]\n",
        "\n",
        "for sec in reduced_cell.hoc_model.all:\n",
        "  name=sec.name()\n",
        "  print(name)\n",
        "  names.append(name)\n",
        "  ids.append(names.index(name))\n",
        "  _,sec_type_withinteger=name.split('.')\n",
        "  sec_type,_=sec_type_withinteger.split('[')\n",
        "  types.append(sec_type)\n",
        "  pseg = sec.parentseg()\n",
        "  if pseg == None:\n",
        "    pids.append(None)\n",
        "  else:\n",
        "    psec=pseg.sec\n",
        "    px3d=psec.x3d\n",
        "    pids.append(names.index(psec.name()))\n",
        "  axials.append('TRUE')\n",
        "  nbranchs.append(1)\n",
        "  Ls.append(sec.L)\n",
        "  # print(dir(sec))\n",
        "  Rs.append(sec.diam/2) # may need to compute single radius for each section\n",
        "\n",
        "  if sec.n3d() != 0:\n",
        "    print(sec.n3d())\n",
        "    first_x3d=sec.x3d(0)\n",
        "    first_y3d=sec.y3d(0)\n",
        "    first_z3d=sec.z3d(0)\n",
        "    last_x3d=sec.x3d(sec.n3d()-1)\n",
        "    last_y3d=sec.y3d(sec.n3d()-1)\n",
        "    last_z3d=sec.z3d(sec.n3d()-1)\n",
        "\n",
        "    pfirst_x3d=psec.x3d(0)\n",
        "    pfirst_y3d=psec.y3d(0)\n",
        "    pfirst_z3d=psec.z3d(0)\n",
        "    plast_x3d=psec.x3d(psec.n3d()-1)\n",
        "    plast_y3d=psec.y3d(psec.n3d()-1)\n",
        "    plast_z3d=psec.z3d(psec.n3d()-1)\n",
        "    print(first_x3d-plast_x3d)\n",
        "    print(first_y3d-plast_y3d)\n",
        "    print(first_z3d-plast_z3d)\n",
        "  else:\n",
        "    angs.append(None)\n",
        "\n",
        "# print(len(ids))\n",
        "# print(len(names))\n",
        "# print(len(types))\n",
        "# print(len(pids))\n",
        "# print(len(axials))\n",
        "# print(len(nbranchs))\n",
        "# print(len(Ls))\n",
        "# print(len(Rs))\n",
        "# print(angs)\n",
        "df[\"id\"] = ids\n",
        "df[\"name\"] = names\n",
        "df[\"L\"] = pids\n",
        "df[\"axial\"] = axials\n",
        "df[\"type\"] = types\n",
        "df[\"nbranch\"] = nbranchs\n",
        "df[\"L\"] = Ls\n",
        "df[\"R\"] = Rs\n",
        "df[\"ang\"] = angs\n",
        "df.to_csv('geom_reduced.csv')"
      ],
      "metadata": {
        "colab": {
          "base_uri": "https://localhost:8080/"
        },
        "id": "ue6ejkRpdBsP",
        "outputId": "62b9360f-45e3-4680-9a1f-f8657d943423"
      },
      "execution_count": 18,
      "outputs": [
        {
          "output_type": "stream",
          "name": "stdout",
          "text": [
            "['L', 'Ra', '__call__', '__class__', '__contains__', '__delattr__', '__dir__', '__doc__', '__eq__', '__format__', '__ge__', '__getattribute__', '__gt__', '__hash__', '__init__', '__init_subclass__', '__iter__', '__le__', '__lt__', '__module__', '__ne__', '__new__', '__reduce__', '__reduce_ex__', '__repr__', '__setattr__', '__sizeof__', '__str__', '__subclasshook__', 'allseg', 'arc3d', 'cell', 'children', 'connect', 'diam3d', 'disconnect', 'has_membrane', 'hname', 'hoc_internal_name', 'insert', 'is_pysec', 'n3d', 'name', 'nseg', 'orientation', 'parentseg', 'psection', 'pt3dadd', 'pt3dchange', 'pt3dclear', 'pt3dinsert', 'pt3dremove', 'pt3dstyle', 'push', 'rallbranch', 'same', 'spine3d', 'subtree', 'trueparentseg', 'uninsert', 'wholetree', 'x3d', 'y3d', 'z3d']\n",
            "model[0].apic[0]\n",
            "['L', 'Ra', '__call__', '__class__', '__contains__', '__delattr__', '__dir__', '__doc__', '__eq__', '__format__', '__ge__', '__getattribute__', '__gt__', '__hash__', '__init__', '__init_subclass__', '__iter__', '__le__', '__lt__', '__module__', '__ne__', '__new__', '__reduce__', '__reduce_ex__', '__repr__', '__setattr__', '__sizeof__', '__str__', '__subclasshook__', 'allseg', 'arc3d', 'cell', 'children', 'connect', 'diam3d', 'disconnect', 'has_membrane', 'hname', 'hoc_internal_name', 'insert', 'is_pysec', 'n3d', 'name', 'nseg', 'orientation', 'parentseg', 'psection', 'pt3dadd', 'pt3dchange', 'pt3dclear', 'pt3dinsert', 'pt3dremove', 'pt3dstyle', 'push', 'rallbranch', 'same', 'spine3d', 'subtree', 'trueparentseg', 'uninsert', 'wholetree', 'x3d', 'y3d', 'z3d']\n",
            "model[0].dend[0]\n",
            "['L', 'Ra', '__call__', '__class__', '__contains__', '__delattr__', '__dir__', '__doc__', '__eq__', '__format__', '__ge__', '__getattribute__', '__gt__', '__hash__', '__init__', '__init_subclass__', '__iter__', '__le__', '__lt__', '__module__', '__ne__', '__new__', '__reduce__', '__reduce_ex__', '__repr__', '__setattr__', '__sizeof__', '__str__', '__subclasshook__', 'allseg', 'arc3d', 'cell', 'children', 'connect', 'diam3d', 'disconnect', 'has_membrane', 'hname', 'hoc_internal_name', 'insert', 'is_pysec', 'n3d', 'name', 'nseg', 'orientation', 'parentseg', 'psection', 'pt3dadd', 'pt3dchange', 'pt3dclear', 'pt3dinsert', 'pt3dremove', 'pt3dstyle', 'push', 'rallbranch', 'same', 'spine3d', 'subtree', 'trueparentseg', 'uninsert', 'wholetree', 'x3d', 'y3d', 'z3d']\n",
            "model[0].dend[1]\n",
            "['L', 'Ra', '__call__', '__class__', '__contains__', '__delattr__', '__dir__', '__doc__', '__eq__', '__format__', '__ge__', '__getattribute__', '__gt__', '__hash__', '__init__', '__init_subclass__', '__iter__', '__le__', '__lt__', '__module__', '__ne__', '__new__', '__reduce__', '__reduce_ex__', '__repr__', '__setattr__', '__sizeof__', '__str__', '__subclasshook__', 'allseg', 'arc3d', 'cell', 'children', 'connect', 'diam3d', 'disconnect', 'has_membrane', 'hname', 'hoc_internal_name', 'insert', 'is_pysec', 'n3d', 'name', 'nseg', 'orientation', 'parentseg', 'psection', 'pt3dadd', 'pt3dchange', 'pt3dclear', 'pt3dinsert', 'pt3dremove', 'pt3dstyle', 'push', 'rallbranch', 'same', 'spine3d', 'subtree', 'trueparentseg', 'uninsert', 'wholetree', 'x3d', 'y3d', 'z3d']\n",
            "model[0].dend[2]\n",
            "['L', 'Ra', '__call__', '__class__', '__contains__', '__delattr__', '__dir__', '__doc__', '__eq__', '__format__', '__ge__', '__getattribute__', '__gt__', '__hash__', '__init__', '__init_subclass__', '__iter__', '__le__', '__lt__', '__module__', '__ne__', '__new__', '__reduce__', '__reduce_ex__', '__repr__', '__setattr__', '__sizeof__', '__str__', '__subclasshook__', 'allseg', 'arc3d', 'cell', 'children', 'connect', 'diam3d', 'disconnect', 'has_membrane', 'hname', 'hoc_internal_name', 'insert', 'is_pysec', 'n3d', 'name', 'nseg', 'orientation', 'parentseg', 'psection', 'pt3dadd', 'pt3dchange', 'pt3dclear', 'pt3dinsert', 'pt3dremove', 'pt3dstyle', 'push', 'rallbranch', 'same', 'spine3d', 'subtree', 'trueparentseg', 'uninsert', 'wholetree', 'x3d', 'y3d', 'z3d']\n",
            "model[0].dend[3]\n",
            "['L', 'Ra', '__call__', '__class__', '__contains__', '__delattr__', '__dir__', '__doc__', '__eq__', '__format__', '__ge__', '__getattribute__', '__gt__', '__hash__', '__init__', '__init_subclass__', '__iter__', '__le__', '__lt__', '__module__', '__ne__', '__new__', '__reduce__', '__reduce_ex__', '__repr__', '__setattr__', '__sizeof__', '__str__', '__subclasshook__', 'allseg', 'arc3d', 'cell', 'children', 'connect', 'diam3d', 'disconnect', 'has_membrane', 'hname', 'hoc_internal_name', 'insert', 'is_pysec', 'n3d', 'name', 'nseg', 'orientation', 'parentseg', 'psection', 'pt3dadd', 'pt3dchange', 'pt3dclear', 'pt3dinsert', 'pt3dremove', 'pt3dstyle', 'push', 'rallbranch', 'same', 'spine3d', 'subtree', 'trueparentseg', 'uninsert', 'wholetree', 'x3d', 'y3d', 'z3d']\n",
            "model[0].dend[4]\n",
            "['L', 'Ra', '__call__', '__class__', '__contains__', '__delattr__', '__dir__', '__doc__', '__eq__', '__format__', '__ge__', '__getattribute__', '__gt__', '__hash__', '__init__', '__init_subclass__', '__iter__', '__le__', '__lt__', '__module__', '__ne__', '__new__', '__reduce__', '__reduce_ex__', '__repr__', '__setattr__', '__sizeof__', '__str__', '__subclasshook__', 'allseg', 'arc3d', 'cell', 'children', 'connect', 'diam3d', 'disconnect', 'has_membrane', 'hname', 'hoc_internal_name', 'insert', 'is_pysec', 'n3d', 'name', 'nseg', 'orientation', 'parentseg', 'psection', 'pt3dadd', 'pt3dchange', 'pt3dclear', 'pt3dinsert', 'pt3dremove', 'pt3dstyle', 'push', 'rallbranch', 'same', 'spine3d', 'subtree', 'trueparentseg', 'uninsert', 'wholetree', 'x3d', 'y3d', 'z3d']\n",
            "model[0].dend[5]\n",
            "['L', 'Ra', '__call__', '__class__', '__contains__', '__delattr__', '__dir__', '__doc__', '__eq__', '__format__', '__ge__', '__getattribute__', '__gt__', '__hash__', '__init__', '__init_subclass__', '__iter__', '__le__', '__lt__', '__module__', '__ne__', '__new__', '__reduce__', '__reduce_ex__', '__repr__', '__setattr__', '__sizeof__', '__str__', '__subclasshook__', 'allseg', 'arc3d', 'cell', 'children', 'connect', 'diam3d', 'disconnect', 'has_membrane', 'hname', 'hoc_internal_name', 'insert', 'is_pysec', 'n3d', 'name', 'nseg', 'orientation', 'parentseg', 'psection', 'pt3dadd', 'pt3dchange', 'pt3dclear', 'pt3dinsert', 'pt3dremove', 'pt3dstyle', 'push', 'rallbranch', 'same', 'spine3d', 'subtree', 'trueparentseg', 'uninsert', 'wholetree', 'x3d', 'y3d', 'z3d']\n",
            "model[0].dend[6]\n",
            "['L', 'Ra', '__call__', '__class__', '__contains__', '__delattr__', '__dir__', '__doc__', '__eq__', '__format__', '__ge__', '__getattribute__', '__gt__', '__hash__', '__init__', '__init_subclass__', '__iter__', '__le__', '__lt__', '__module__', '__ne__', '__new__', '__reduce__', '__reduce_ex__', '__repr__', '__setattr__', '__sizeof__', '__str__', '__subclasshook__', 'allseg', 'arc3d', 'cell', 'children', 'connect', 'diam3d', 'disconnect', 'has_membrane', 'hname', 'hoc_internal_name', 'insert', 'is_pysec', 'n3d', 'name', 'nseg', 'orientation', 'parentseg', 'psection', 'pt3dadd', 'pt3dchange', 'pt3dclear', 'pt3dinsert', 'pt3dremove', 'pt3dstyle', 'push', 'rallbranch', 'same', 'spine3d', 'subtree', 'trueparentseg', 'uninsert', 'wholetree', 'x3d', 'y3d', 'z3d']\n",
            "model[0].dend[7]\n"
          ]
        }
      ]
    },
    {
      "cell_type": "code",
      "source": [
        "for sec in reduced_cell.hoc_model.all:\n",
        "  print(sec.n3d())"
      ],
      "metadata": {
        "colab": {
          "base_uri": "https://localhost:8080/"
        },
        "id": "wJKZ1xe3qmNa",
        "outputId": "abdb7eff-f4be-4d93-fc8e-87bc4ab8e875"
      },
      "execution_count": 26,
      "outputs": [
        {
          "output_type": "stream",
          "name": "stdout",
          "text": [
            "0\n",
            "0\n",
            "0\n",
            "0\n",
            "0\n",
            "0\n",
            "0\n",
            "0\n",
            "0\n"
          ]
        }
      ]
    },
    {
      "cell_type": "code",
      "source": [
        "dir(reduced_cell.hoc_model.soma)\n",
        "# print(reduced_cell.hoc_model.soma.name())\n",
        "# print(len(list(reduced_cell.hoc_model.apical)))\n",
        "# print(len(list(reduced_cell.hoc_model.basal)))\n",
        "# print(len(list(reduced_cell.hoc_model.somatic)))\n",
        "# print(len(list(reduced_cell.hoc_model.all)))"
      ],
      "metadata": {
        "colab": {
          "base_uri": "https://localhost:8080/"
        },
        "id": "dCyja-fYddfp",
        "outputId": "0bb22774-adfe-4d51-d0c7-f30b51325f72"
      },
      "execution_count": 14,
      "outputs": [
        {
          "output_type": "execute_result",
          "data": {
            "text/plain": [
              "['__abs__',\n",
              " '__add__',\n",
              " '__bool__',\n",
              " '__call__',\n",
              " '__class__',\n",
              " '__delattr__',\n",
              " '__delitem__',\n",
              " '__dir__',\n",
              " '__doc__',\n",
              " '__eq__',\n",
              " '__format__',\n",
              " '__ge__',\n",
              " '__getattribute__',\n",
              " '__getitem__',\n",
              " '__gt__',\n",
              " '__hash__',\n",
              " '__init__',\n",
              " '__init_subclass__',\n",
              " '__iter__',\n",
              " '__le__',\n",
              " '__len__',\n",
              " '__lt__',\n",
              " '__module__',\n",
              " '__mul__',\n",
              " '__ne__',\n",
              " '__neg__',\n",
              " '__new__',\n",
              " '__next__',\n",
              " '__pos__',\n",
              " '__radd__',\n",
              " '__reduce__',\n",
              " '__reduce_ex__',\n",
              " '__repr__',\n",
              " '__rmul__',\n",
              " '__rsub__',\n",
              " '__rtruediv__',\n",
              " '__setattr__',\n",
              " '__setitem__',\n",
              " '__setstate__',\n",
              " '__sizeof__',\n",
              " '__str__',\n",
              " '__sub__',\n",
              " '__subclasshook__',\n",
              " '__truediv__',\n",
              " 'all',\n",
              " 'apic',\n",
              " 'apical',\n",
              " 'axon',\n",
              " 'axonal',\n",
              " 'basal',\n",
              " 'baseattr',\n",
              " 'biophys',\n",
              " 'delete_axon',\n",
              " 'dend',\n",
              " 'geom_nseg',\n",
              " 'hname',\n",
              " 'hocobjptr',\n",
              " 'init',\n",
              " 'same',\n",
              " 'soma',\n",
              " 'somatic']"
            ]
          },
          "metadata": {},
          "execution_count": 14
        }
      ]
    },
    {
      "cell_type": "code",
      "source": [
        "print(len(list(complex_cell.all)))\n",
        "print(len(list(complex_cell.somatic)))"
      ],
      "metadata": {
        "colab": {
          "base_uri": "https://localhost:8080/"
        },
        "id": "-oozXME2dRh7",
        "outputId": "ab94be3b-9c19-436a-f43c-46c976421a5f"
      },
      "execution_count": 15,
      "outputs": [
        {
          "output_type": "stream",
          "name": "stdout",
          "text": [
            "3\n",
            "1\n"
          ]
        }
      ]
    },
    {
      "cell_type": "code",
      "source": [
        "generate_stylized_geometry(cell=reduced_cell.hoc_model,savename='geom_reduced.csv')"
      ],
      "metadata": {
        "colab": {
          "base_uri": "https://localhost:8080/",
          "height": 289
        },
        "id": "u4A1suHMZYY-",
        "outputId": "4612fcbd-5094-4bd5-cbfb-f2426436481e"
      },
      "execution_count": 16,
      "outputs": [
        {
          "output_type": "error",
          "ename": "ValueError",
          "evalue": "ignored",
          "traceback": [
            "\u001b[0;31m---------------------------------------------------------------------------\u001b[0m",
            "\u001b[0;31mValueError\u001b[0m                                Traceback (most recent call last)",
            "\u001b[0;32m<ipython-input-16-560e698ca884>\u001b[0m in \u001b[0;36m<module>\u001b[0;34m\u001b[0m\n\u001b[0;32m----> 1\u001b[0;31m \u001b[0mgenerate_stylized_geometry\u001b[0m\u001b[0;34m(\u001b[0m\u001b[0mcell\u001b[0m\u001b[0;34m=\u001b[0m\u001b[0mreduced_cell\u001b[0m\u001b[0;34m.\u001b[0m\u001b[0mhoc_model\u001b[0m\u001b[0;34m,\u001b[0m\u001b[0msavename\u001b[0m\u001b[0;34m=\u001b[0m\u001b[0;34m'geom_reduced.csv'\u001b[0m\u001b[0;34m)\u001b[0m\u001b[0;34m\u001b[0m\u001b[0;34m\u001b[0m\u001b[0m\n\u001b[0m",
            "\u001b[0;32m<ipython-input-9-a80030871a3e>\u001b[0m in \u001b[0;36mgenerate_stylized_geometry\u001b[0;34m(cell, savename)\u001b[0m\n\u001b[1;32m     25\u001b[0m     \u001b[0;32melse\u001b[0m\u001b[0;34m:\u001b[0m\u001b[0;34m\u001b[0m\u001b[0;34m\u001b[0m\u001b[0m\n\u001b[1;32m     26\u001b[0m       \u001b[0mpsec\u001b[0m\u001b[0;34m=\u001b[0m\u001b[0mpseg\u001b[0m\u001b[0;34m.\u001b[0m\u001b[0msec\u001b[0m\u001b[0;34m\u001b[0m\u001b[0;34m\u001b[0m\u001b[0m\n\u001b[0;32m---> 27\u001b[0;31m       \u001b[0mpids\u001b[0m\u001b[0;34m.\u001b[0m\u001b[0mappend\u001b[0m\u001b[0;34m(\u001b[0m\u001b[0mnames\u001b[0m\u001b[0;34m.\u001b[0m\u001b[0mindex\u001b[0m\u001b[0;34m(\u001b[0m\u001b[0mpsec\u001b[0m\u001b[0;34m.\u001b[0m\u001b[0mname\u001b[0m\u001b[0;34m(\u001b[0m\u001b[0;34m)\u001b[0m\u001b[0;34m)\u001b[0m\u001b[0;34m)\u001b[0m\u001b[0;34m\u001b[0m\u001b[0;34m\u001b[0m\u001b[0m\n\u001b[0m\u001b[1;32m     28\u001b[0m     \u001b[0maxials\u001b[0m\u001b[0;34m.\u001b[0m\u001b[0mappend\u001b[0m\u001b[0;34m(\u001b[0m\u001b[0;34m'TRUE'\u001b[0m\u001b[0;34m)\u001b[0m\u001b[0;34m\u001b[0m\u001b[0;34m\u001b[0m\u001b[0m\n\u001b[1;32m     29\u001b[0m     \u001b[0mnbranchs\u001b[0m\u001b[0;34m.\u001b[0m\u001b[0mappend\u001b[0m\u001b[0;34m(\u001b[0m\u001b[0;36m1\u001b[0m\u001b[0;34m)\u001b[0m\u001b[0;34m\u001b[0m\u001b[0;34m\u001b[0m\u001b[0m\n",
            "\u001b[0;31mValueError\u001b[0m: 'L5PCtemplate[0].soma[0]' is not in list"
          ]
        }
      ]
    },
    {
      "cell_type": "markdown",
      "source": [
        "#Show Complex and Reduced Cell"
      ],
      "metadata": {
        "id": "qGwLfdxo5Puw"
      }
    },
    {
      "cell_type": "code",
      "source": [],
      "metadata": {
        "id": "ui3gURXY5PkI"
      },
      "execution_count": null,
      "outputs": []
    },
    {
      "cell_type": "code",
      "source": [
        "# print(complex_cell.dend[1])"
      ],
      "metadata": {
        "id": "s75bsDSDGm9G"
      },
      "execution_count": null,
      "outputs": []
    },
    {
      "cell_type": "code",
      "source": [
        "# dir(complex_cell)"
      ],
      "metadata": {
        "id": "0jtvRcCQFA4P"
      },
      "execution_count": null,
      "outputs": []
    },
    {
      "cell_type": "markdown",
      "source": [
        "#Reducing a Stylized Cell"
      ],
      "metadata": {
        "id": "O1mrU4lFOvFx"
      }
    },
    {
      "cell_type": "markdown",
      "source": [
        "# Reducing a L5PC model with more biophysically realistic synaptic input."
      ],
      "metadata": {
        "id": "J0LkPzT9geUl"
      }
    },
    {
      "cell_type": "code",
      "source": [],
      "metadata": {
        "id": "TPwm_KLfgd2w"
      },
      "execution_count": null,
      "outputs": []
    },
    {
      "cell_type": "markdown",
      "source": [
        "# Citation\n",
        "O. Amsalem, G. Eyal, N. Rogozinski, M. Gevaert, P. Kumbhar, F. Schürmann, I. Segev. An efficient analytical reduction of detailed nonlinear neuron models. Nat. Commun., 11 (2020), p. 288"
      ],
      "metadata": {
        "id": "GVqP8OGNewZV"
      }
    }
  ]
}