{
  "cells": [
    {
      "cell_type": "markdown",
      "metadata": {
        "id": "view-in-github",
        "colab_type": "text"
      },
      "source": [
        "<a href=\"https://colab.research.google.com/github/davidfague/Stylized-ReducedOrder-L5-Model/blob/main/Detailed_model_HOC.ipynb\" target=\"_parent\"><img src=\"https://colab.research.google.com/assets/colab-badge.svg\" alt=\"Open In Colab\"/></a>"
      ]
    },
    {
      "cell_type": "markdown",
      "source": [
        "cd for google drive"
      ],
      "metadata": {
        "id": "ZVByNP1Ul9TD"
      }
    },
    {
      "cell_type": "code",
      "execution_count": null,
      "metadata": {
        "colab": {
          "base_uri": "https://localhost:8080/"
        },
        "id": "e_sUXg4Y3Iot",
        "outputId": "86a0e24d-3aa4-4c5f-a622-1c3e70f6dc15"
      },
      "outputs": [
        {
          "output_type": "stream",
          "name": "stdout",
          "text": [
            "Drive already mounted at /content/drive; to attempt to forcibly remount, call drive.mount(\"/content/drive\", force_remount=True).\n"
          ]
        }
      ],
      "source": [
        "from google.colab import drive\n",
        "drive.mount('/content/drive')"
      ]
    },
    {
      "cell_type": "code",
      "execution_count": null,
      "metadata": {
        "colab": {
          "base_uri": "https://localhost:8080/"
        },
        "id": "-nGwuudE3K77",
        "outputId": "7dbafc50-4789-4c75-8f59-c34a4fab331a"
      },
      "outputs": [
        {
          "output_type": "stream",
          "name": "stdout",
          "text": [
            "/content/drive/MyDrive/Stylized-Cell-model\n"
          ]
        }
      ],
      "source": [
        "%cd /content/drive/MyDrive/Stylized-Cell-model/"
      ]
    },
    {
      "cell_type": "markdown",
      "source": [
        "cd for server"
      ],
      "metadata": {
        "id": "Wob1K8DFudep"
      }
    },
    {
      "cell_type": "code",
      "source": [
        "# cd Hay&Segev2015\n",
        "# source /opt/python-bmtk//bin/activate\n",
        "# cd simdata/L5PCbiophys3/N1_c0_cond0_seed50\n",
        "# cd "
      ],
      "metadata": {
        "id": "bPnJKcm6uexT"
      },
      "execution_count": null,
      "outputs": []
    },
    {
      "cell_type": "code",
      "execution_count": null,
      "metadata": {
        "colab": {
          "base_uri": "https://localhost:8080/"
        },
        "id": "Jch-eHB5P0pw",
        "outputId": "1d046c02-4d78-40dc-b31f-0d3be21a02d7"
      },
      "outputs": [
        {
          "output_type": "stream",
          "name": "stdout",
          "text": [
            " active_channel_model_example.ipynb       i_CaLva_report.hdf5\n",
            " active_channel_model_groundtruth.ipynb   ihcn_report.hdf5\n",
            " ca_df.csv                                Ih.ihcn_report.h5\n",
            " Ca_HVA.ica_report.h5                     inmda_report.h5\n",
            " Ca_LVAst.ica_report.h5                   i_nmda_report.hdf5\n",
            " Connections.csv                         \u001b[0m\u001b[01;34m'L5 Individual Basal Paths'\u001b[0m/\n",
            " data.h5                                 \u001b[01;34m'L5 Individual Oblique Paths'\u001b[0m/\n",
            " Detailed_Ca_HVA.ica_report.h5           \u001b[01;34m'L5 Individual Tuft Paths'\u001b[0m/\n",
            " Detailed_Ca_LVAst.ica_report.h5          L5Morphology.swc\n",
            " Detailed_Connections.csv                 L5Morphology.swc.txt\n",
            " Detailed_Ih.ihcn_report.h5               \u001b[01;34mmechanisms\u001b[0m/\n",
            " Detailed_inmda_report.h5                 na_df.csv\n",
            " Detailed_NaTa_t.gNaTa_t_report.h5        NaTa_t.gNaTa_t_report.h5\n",
            " Detailed_v_report.h5                     nmda_df.csv\n",
            " Elec_distance.svg                        Segments.hdf5\n",
            " example_model_inject_waveform.ipynb      \u001b[01;34msimdata\u001b[0m/\n",
            " exc_syns.svg                             spikes.h5\n",
            " fig1A.svg                                Spikes.hdf5\n",
            " fig2A.svg                                stylized_cell_figure.ipynb\n",
            " fig2B.svg                                stylizedcell.pdf\n",
            " fig2C.svg                                \u001b[01;34mstylized_module\u001b[0m/\n",
            " fig2D.svg                                syn_parameters.csv\n",
            " fig2E.svg                                syn_parameters.gsheet\n",
            " fig2F.svg                                \u001b[01;34mtemplates\u001b[0m/\n",
            " fig2G.svg                                Trunk.swc\n",
            " geom_parameters.csv                      \u001b[01;34mutils\u001b[0m/\n",
            " geom_standard.csv                        v_report.h5\n",
            " gNaTa_report.hdf5                        v_report.hdf5\n",
            " i_CaHva_report.hdf5\n"
          ]
        }
      ],
      "source": [
        "%ls"
      ]
    },
    {
      "cell_type": "code",
      "source": [
        "import pandas as pd\n",
        "import numpy as np\n",
        "from scipy.stats import lognorm\n",
        "import math\n",
        "import os\n",
        "from pathlib import Path\n",
        "import h5py\n",
        "import csv"
      ],
      "metadata": {
        "id": "R6aQOKREulmz"
      },
      "execution_count": null,
      "outputs": []
    },
    {
      "cell_type": "markdown",
      "source": [
        "#X Coords\n",
        "##extract X coordinates from txt file"
      ],
      "metadata": {
        "id": "ZY975dv5aIUW"
      }
    },
    {
      "cell_type": "code",
      "source": [
        "def getsegtracefromtxt(filename):\n",
        "  #imports data\n",
        "  data = np.genfromtxt(filename,delimiter=',')\n",
        "  #drops the nan\n",
        "  data1 = (data[:, ~np.isnan(data).any(axis=0)])\n",
        "  #check to make sure its gone\n",
        "  return data1\n",
        "\n",
        "def createsegtracereport(reportname,dataname):\n",
        "  try:\n",
        "    os.remove(reportname) # reportname was string \" \"\n",
        "  except:\n",
        "    x = 1\n",
        "\n",
        "  f = h5py.File(reportname,'w') #create a file in the w (write) mode #reportname was string ' '\n",
        "  v = f.create_dataset(\"report/biophysical/data\", data = dataname)\n",
        "  f.close()\n",
        "\n",
        "def getsegparamfromtxt(filename):\n",
        "  temp = np.array(0)\n",
        "\n",
        "  # read in csv\n",
        "  with open(filename, newline='') as csvfile:\n",
        "      data = csv.reader(csvfile, delimiter=',')\n",
        "      for row in data:\n",
        "          temp = np.append(temp,row)\n",
        "  #remove 0\n",
        "  temp = np.delete(temp,0)\n",
        "\n",
        "  #removes extra values due to comma at the end\n",
        "  new_arr = np.delete(temp, np.where(temp == ''))\n",
        "\n",
        "  # makes into ints to make h5py happy\n",
        "  data1 = np.array(new_arr).astype(float)\n",
        "  return data1"
      ],
      "metadata": {
        "id": "iOjXwZrwpSEU"
      },
      "execution_count": null,
      "outputs": []
    },
    {
      "cell_type": "code",
      "source": [
        "DsegID = list(range(642))\n",
        "#print(DsegID)\n",
        "\n",
        "DAllSegXCoord = getsegparamfromtxt('simdata//L5PCbiophys3/N1_c0_cond0_seed427/AllSegXCoordValuesN0.txt')\n",
        "DAllSegYCoord = getsegparamfromtxt('simdata/L5PCbiophys3/N1_c0_cond0_seed427/AllSegYCoordValuesN0.txt')\n",
        "DAllSegZCoord = getsegparamfromtxt('simdata/L5PCbiophys3/N1_c0_cond0_seed427/AllSegZCoordValuesN0.txt')\n",
        "DAllSegElecDist = getsegparamfromtxt('simdata/L5PCbiophys3/N1_c0_cond0_seed427/AllSegElecDistValuesN0.txt')\n",
        "\n",
        "Dinmda_data = getsegtracefromtxt('simdata/L5PCbiophys3/N1_c0_cond0_seed427/inmdaSegTracesN0.txt')\n",
        "DgNaTa_t_data = getsegtracefromtxt('simdata/L5PCbiophys3/N1_c0_cond0_seed427/gNaTa_tSegTracesN0.txt')\n",
        "Dica_HVA_data = getsegtracefromtxt('simdata/L5PCbiophys3/N1_c0_cond0_seed427/ica_HVASegTracesN0.txt')\n",
        "Dica_LVAst_data = getsegtracefromtxt('simdata/L5PCbiophys3/N1_c0_cond0_seed427/ica_LVASegTracesN0.txt')\n",
        "DIh_data = getsegtracefromtxt('simdata/L5PCbiophys3/N1_c0_cond0_seed427/IhTraceforEachSegmentN0.txt')\n",
        "Dvolt_data = getsegtracefromtxt('simdata/L5PCbiophys3/N1_c0_cond0_seed427/voltageSegTracesN0.txt')\n",
        "#print(Dinmda_data)\n",
        "\n",
        "createsegtracereport('Detailed_v_report.h5',Dvolt_data)\n",
        "createsegtracereport('Detailed_Ca_HVA.ica_report.h5',Dica_HVA_data)\n",
        "createsegtracereport('Detailed_Ca_LVAst.ica_report.h5',Dica_LVAst_data)\n",
        "createsegtracereport('Detailed_Ih.ihcn_report.h5',DIh_data)\n",
        "createsegtracereport('Detailed_inmda_report.h5',Dinmda_data)\n",
        "createsegtracereport('Detailed_NaTa_t.gNaTa_t_report.h5',DgNaTa_t_data)"
      ],
      "metadata": {
        "id": "RpZxvadsqGhV"
      },
      "execution_count": null,
      "outputs": []
    },
    {
      "cell_type": "code",
      "source": [
        "#Connections.csv\n",
        "try:\n",
        "  os.remove(\"Detailed_Connections.csv\")\n",
        "except:\n",
        "  x = 1\n",
        "\n",
        "connections_data = {\n",
        "    #'Node ID':[SynParentSeg],'Distance':[SynDist],'Conductance':[gmax_list],'Type':[SynDist],'Name':[SynName],'Source Population':[SourcePop],'Release Probability':[P_0_list] #do not have these values\n",
        "    }\n",
        "\n",
        "# Create the pandas DataFrame with column name is provided explicitly\n",
        "connections = pd.DataFrame(connections_data , columns=['Node ID','Distance','Conductance','Type','Name','Source Population','Release Probability'])\n",
        "  \n",
        "connections.to_csv('Detailed_Connections.csv')"
      ],
      "metadata": {
        "id": "qzWymZHg7Gp6"
      },
      "execution_count": null,
      "outputs": []
    },
    {
      "cell_type": "code",
      "source": [
        "#Segments.csv\n",
        "\n",
        "try:\n",
        "  os.remove(\"Detailed_Segments.csv\")\n",
        "except:\n",
        "  x = 1\n",
        "\n",
        "\n",
        "Dsegments_data = {'BMTK ID':[DsegID],\n",
        "                 #'X':[DSegX],'Type':[AllSegType],'Sec ID':[AllSegSection],'Distance':[AllSegDist], #not recorded yet\n",
        "                 'Coord X':[DAllSegXCoord],'Coord Y':[DAllSegYCoord],'Coord Z':[DAllSegZCoord],'Elec_distance':[DAllSegElecDist]}\n",
        "Dsegments = pd.DataFrame(Dsegments_data, columns = ['BMTK ID',\n",
        "                                                  #'X','Type','Sec ID','Distance',\n",
        "                                                  'Coord X','Coord Y','Coord Z','Elec_distance'])\n",
        "print\n",
        "Dsegments.to_csv('Detailed_Connections.csv')"
      ],
      "metadata": {
        "id": "y8ugT2L0thft"
      },
      "execution_count": null,
      "outputs": []
    },
    {
      "cell_type": "markdown",
      "source": [
        "#Try Plotting"
      ],
      "metadata": {
        "id": "3IKOPPZWy-NI"
      }
    },
    {
      "cell_type": "code",
      "source": [
        "import matplotlib.pyplot as plt\n",
        "%matplotlib inline\n",
        "\n",
        "plt.figure(figsize=(4,10))\n",
        "ax = plt.scatter(DAllSegXCoord, DAllSegYCoord, c = np.log(DAllSegElecDist) )\n",
        "plt.vlines(110,300,400)\n",
        "plt.text(0,350,'100 um')\n",
        "plt.hlines(300,110,210)\n",
        "plt.text(110,250,'100 um')\n",
        "plt.xticks([])\n",
        "plt.yticks([])\n",
        "cbar = plt.colorbar()\n",
        "cbar.ax.set_ylabel('log(elec_distance)', rotation=270)\n",
        "\n",
        "plt.box(False)\n",
        "plt.savefig('Elec_distance.svg')"
      ],
      "metadata": {
        "id": "n-flyEhmzHju",
        "outputId": "8eb49333-7db5-44ff-de8c-337805e87df0",
        "colab": {
          "base_uri": "https://localhost:8080/",
          "height": 614
        }
      },
      "execution_count": null,
      "outputs": [
        {
          "output_type": "stream",
          "name": "stderr",
          "text": [
            "/usr/local/lib/python3.7/dist-packages/ipykernel_launcher.py:5: RuntimeWarning: divide by zero encountered in log\n",
            "  \"\"\"\n"
          ]
        },
        {
          "output_type": "display_data",
          "data": {
            "text/plain": [
              "<Figure size 288x720 with 2 Axes>"
            ],
            "image/png": "[encoded data removed]"
          },
          "metadata": {
            "needs_background": "light"
          }
        }
      ]
    },
    {
      "cell_type": "markdown",
      "source": [
        "Need to get excitatory syn per seg for the following graph"
      ],
      "metadata": {
        "id": "ozY0v7tZ2Vpt"
      }
    },
    {
      "cell_type": "code",
      "source": [
        "# plt.figure(figsize=(4,10))\n",
        "# ax = plt.scatter(DAllSegXCoord, DAllSegYCoord,c = DexcSynPerSeg[0:641],cmap='jet',)\n",
        "# plt.vlines(110,400,500)\n",
        "# plt.text(0,450,'100 um')\n",
        "# plt.hlines(400,110,210)\n",
        "# plt.text(110,350,'100 um')\n",
        "# plt.xticks([])\n",
        "# plt.yticks([])\n",
        "# cbar = plt.colorbar()\n",
        "# cbar.ax.set_ylabel('Synapses per segment', rotation=270)\n",
        "\n",
        "# plt.box(False)\n",
        "# plt.savefig('exc_syns.svg')"
      ],
      "metadata": {
        "id": "fiq6EJe0zKyw"
      },
      "execution_count": null,
      "outputs": []
    },
    {
      "cell_type": "code",
      "source": [
        "plt.figure(figsize=(3,10))\n",
        "ax = plt.plot(DAllSegXCoord, DAllSegYCoord,'.',color='k',markersize=6)\n",
        "plt.vlines(110,400,500)\n",
        "plt.text(0,450,'100 um')\n",
        "plt.hlines(400,110,210)\n",
        "plt.text(110,350,'100 um')\n",
        "plt.xticks([])\n",
        "plt.yticks([])\n",
        "plt.box(False)\n",
        "\n",
        "#need to adjust these\n",
        "soma_probe = 0\n",
        "nexus_seg = 379\n",
        "axon_seg = 640\n",
        "dist_tuft_seg = 552\n",
        "dist_basal_seg = 221\n",
        "oblique_seg = 330\n",
        "\n",
        "plt.plot(DAllSegXCoord[soma_probe], \n",
        "         DAllSegYCoord[soma_probe],\n",
        "         '*',color='grey')\n",
        "plt.plot(DAllSegXCoord[nexus_seg], \n",
        "         DAllSegYCoord[nexus_seg],\n",
        "         'r*')\n",
        "plt.plot(DAllSegXCoord[axon_seg], \n",
        "         DAllSegYCoord[axon_seg],\n",
        "         'b*')\n",
        "plt.plot(DAllSegXCoord[dist_tuft_seg], \n",
        "         DAllSegYCoord[dist_tuft_seg],\n",
        "         'm*')\n",
        "plt.plot(DAllSegXCoord[dist_basal_seg], \n",
        "         DAllSegYCoord[dist_basal_seg],\n",
        "         'g*')\n",
        "plt.plot(DAllSegXCoord[oblique_seg], \n",
        "         DAllSegYCoord[oblique_seg],\n",
        "         '*',color='orange')\n",
        "\n",
        "#plt.savefig('fig1A.svg')"
      ],
      "metadata": {
        "id": "dYgqG_b0zQ39",
        "outputId": "5c3d1115-621a-47c6-e247-a2139c1b4117",
        "colab": {
          "base_uri": "https://localhost:8080/",
          "height": 592
        }
      },
      "execution_count": null,
      "outputs": [
        {
          "output_type": "execute_result",
          "data": {
            "text/plain": [
              "[<matplotlib.lines.Line2D at 0x7fa723b53850>]"
            ]
          },
          "metadata": {},
          "execution_count": 12
        },
        {
          "output_type": "display_data",
          "data": {
            "text/plain": [
              "<Figure size 216x720 with 1 Axes>"
            ],
            "image/png": "[encoded data removed]"
          },
          "metadata": {}
        }
      ]
    },
    {
      "cell_type": "code",
      "source": [
        "tstop=1/.25"
      ],
      "metadata": {
        "id": "vmopsyPG1xw8"
      },
      "execution_count": null,
      "outputs": []
    },
    {
      "cell_type": "code",
      "source": [
        "plt.figure(figsize=(15,4))\n",
        "plt.plot(np.arange(0,((tstop)+.1),.1),Dvolt_data[soma_probe],color='grey')\n",
        "plt.hlines(-65,0,1000, color = 'grey', linestyle = 'dashed')\n",
        "plt.hlines(-40,0,1000, color = 'grey', linestyle = 'dashed')\n",
        "plt.hlines(-10,50,70)\n",
        "plt.vlines(50,-10,0)\n",
        "plt.text(50,-15,'10 ms')\n",
        "plt.text(2,-5,'10 mV')\n",
        "plt.text(2,-37,'-40 mV')\n",
        "plt.text(2,-62,'-65 mV')\n",
        "plt.title('Soma Voltage')\n",
        "plt.box(False)\n",
        "plt.xticks([])\n",
        "plt.yticks([])"
      ],
      "metadata": {
        "id": "FUmSJA9h006S",
        "outputId": "2cdd4950-4ea2-40f1-9310-2b8d1070568b",
        "colab": {
          "base_uri": "https://localhost:8080/",
          "height": 281
        }
      },
      "execution_count": null,
      "outputs": [
        {
          "output_type": "execute_result",
          "data": {
            "text/plain": [
              "([], <a list of 0 Text major ticklabel objects>)"
            ]
          },
          "metadata": {},
          "execution_count": 14
        },
        {
          "output_type": "display_data",
          "data": {
            "text/plain": [
              "<Figure size 1080x288 with 1 Axes>"
            ],
            "image/png": "[encoded data removed]"
          },
          "metadata": {}
        }
      ]
    },
    {
      "cell_type": "code",
      "source": [
        "plt.figure(figsize=(15,4))\n",
        "plt.plot(np.arange(0,((tstop)+.1),.1),Dvolt_data[nexus_seg],color='r')\n",
        "plt.hlines(-65,0,1000, color = 'grey', linestyle = 'dashed')\n",
        "plt.hlines(-40,0,1000, color = 'grey', linestyle = 'dashed')\n",
        "plt.hlines(-10,50,70)\n",
        "plt.vlines(50,-10,0)\n",
        "plt.text(50,-15,'10 ms')\n",
        "plt.text(2,-5,'10 mV')\n",
        "plt.text(2,-37,'-40 mV')\n",
        "plt.text(2,-62,'-65 mV')\n",
        "plt.title('Nexus Voltage')\n",
        "plt.box(False)\n",
        "plt.xticks([])\n",
        "plt.yticks([])"
      ],
      "metadata": {
        "id": "7m-n-foh06jX",
        "outputId": "98a368fd-803a-4f80-bf17-b5a5fb459bb2",
        "colab": {
          "base_uri": "https://localhost:8080/",
          "height": 281
        }
      },
      "execution_count": null,
      "outputs": [
        {
          "output_type": "execute_result",
          "data": {
            "text/plain": [
              "([], <a list of 0 Text major ticklabel objects>)"
            ]
          },
          "metadata": {},
          "execution_count": 15
        },
        {
          "output_type": "display_data",
          "data": {
            "text/plain": [
              "<Figure size 1080x288 with 1 Axes>"
            ],
            "image/png": "[encoded data removed]"
          },
          "metadata": {}
        }
      ]
    },
    {
      "cell_type": "code",
      "source": [
        "plt.figure(figsize=(15,4))\n",
        "plt.plot(np.arange(0,((tstop)+.1),.1),Dvolt_data[axon_seg],color='b')\n",
        "plt.hlines(-65,0,1000, color = 'grey', linestyle = 'dashed')\n",
        "plt.hlines(-40,0,1000, color = 'grey', linestyle = 'dashed')\n",
        "plt.hlines(-10,50,70)\n",
        "plt.vlines(50,-10,0)\n",
        "plt.text(50,-15,'10 ms')\n",
        "plt.text(2,-5,'10 mV')\n",
        "plt.text(2,-37,'-40 mV')\n",
        "plt.text(2,-62,'-65 mV')\n",
        "plt.title('Axon Voltage')\n",
        "plt.box(False)\n",
        "plt.xticks([])\n",
        "plt.yticks([])"
      ],
      "metadata": {
        "id": "Q50sESc308X7",
        "outputId": "6d4ce423-29b9-4fb1-cb89-5d547d61019f",
        "colab": {
          "base_uri": "https://localhost:8080/",
          "height": 281
        }
      },
      "execution_count": null,
      "outputs": [
        {
          "output_type": "execute_result",
          "data": {
            "text/plain": [
              "([], <a list of 0 Text major ticklabel objects>)"
            ]
          },
          "metadata": {},
          "execution_count": 16
        },
        {
          "output_type": "display_data",
          "data": {
            "text/plain": [
              "<Figure size 1080x288 with 1 Axes>"
            ],
            "image/png": "[encoded data removed]"
          },
          "metadata": {}
        }
      ]
    },
    {
      "cell_type": "code",
      "source": [
        "plt.figure(figsize=(15,4))\n",
        "plt.plot(np.arange(0,((tstop)+.1),.1),Dvolt_data[dist_tuft_seg],color='m')\n",
        "plt.hlines(-65,0,1000, color = 'grey', linestyle = 'dashed')\n",
        "plt.hlines(-40,0,1000, color = 'grey', linestyle = 'dashed')\n",
        "plt.hlines(-10,50,70)\n",
        "plt.vlines(50,-10,0)\n",
        "plt.text(50,-15,'10 ms')\n",
        "plt.text(2,-5,'10 mV')\n",
        "plt.text(2,-37,'-40 mV')\n",
        "plt.text(2,-62,'-65 mV')\n",
        "plt.title('Tuft Dendrite Voltage')\n",
        "plt.box(False)\n",
        "plt.xticks([])\n",
        "plt.yticks([])"
      ],
      "metadata": {
        "id": "8Z2M9H520-EK",
        "outputId": "f7c973a4-865a-49fa-c630-3a2244a2b81a",
        "colab": {
          "base_uri": "https://localhost:8080/",
          "height": 281
        }
      },
      "execution_count": null,
      "outputs": [
        {
          "output_type": "execute_result",
          "data": {
            "text/plain": [
              "([], <a list of 0 Text major ticklabel objects>)"
            ]
          },
          "metadata": {},
          "execution_count": 17
        },
        {
          "output_type": "display_data",
          "data": {
            "text/plain": [
              "<Figure size 1080x288 with 1 Axes>"
            ],
            "image/png": "[encoded data removed]"
          },
          "metadata": {}
        }
      ]
    },
    {
      "cell_type": "code",
      "source": [
        "plt.figure(figsize=(15,4))\n",
        "plt.plot(np.arange(0,((tstop)+.1),.1),Dvolt_data[dist_basal_seg],color='g')\n",
        "plt.hlines(-65,0,1000, color = 'grey', linestyle = 'dashed')\n",
        "plt.hlines(-40,0,1000, color = 'grey', linestyle = 'dashed')\n",
        "plt.hlines(-10,50,70)\n",
        "plt.vlines(50,-10,0)\n",
        "plt.text(50,-15,'10 ms')\n",
        "plt.text(2,-5,'10 mV')\n",
        "plt.text(2,-37,'-40 mV')\n",
        "plt.text(2,-62,'-65 mV')\n",
        "plt.title('Basal Dendrite Voltage')\n",
        "plt.box(False)\n",
        "plt.xticks([])\n",
        "plt.yticks([])"
      ],
      "metadata": {
        "id": "r5smSFdp1AKq",
        "outputId": "3a96e7ea-be10-498a-d3f4-0271270c7cb2",
        "colab": {
          "base_uri": "https://localhost:8080/",
          "height": 281
        }
      },
      "execution_count": null,
      "outputs": [
        {
          "output_type": "execute_result",
          "data": {
            "text/plain": [
              "([], <a list of 0 Text major ticklabel objects>)"
            ]
          },
          "metadata": {},
          "execution_count": 18
        },
        {
          "output_type": "display_data",
          "data": {
            "text/plain": [
              "<Figure size 1080x288 with 1 Axes>"
            ],
            "image/png": "[encoded data removed]"
          },
          "metadata": {}
        }
      ]
    },
    {
      "cell_type": "code",
      "source": [
        "plt.figure(figsize=(15,4))\n",
        "plt.plot(np.arange(0,((tstop)+.1),.1),Dvolt_data[oblique_seg],color='orange')\n",
        "plt.hlines(-65,0,1000, color = 'grey', linestyle = 'dashed')\n",
        "plt.hlines(-40,0,1000, color = 'grey', linestyle = 'dashed')\n",
        "plt.hlines(-10,50,70)\n",
        "plt.vlines(50,-10,0)\n",
        "plt.text(50,-15,'10 ms')\n",
        "plt.text(2,-5,'10 mV')\n",
        "plt.text(2,-37,'-40 mV')\n",
        "plt.text(2,-62,'-65 mV')\n",
        "plt.title('Oblique Dendrite Voltage')\n",
        "plt.box(False)\n",
        "plt.xticks([])\n",
        "plt.yticks([])"
      ],
      "metadata": {
        "id": "2cNJ8HOu1C4j",
        "outputId": "0d318c61-b4e3-4326-9b08-faad1984e444",
        "colab": {
          "base_uri": "https://localhost:8080/",
          "height": 281
        }
      },
      "execution_count": null,
      "outputs": [
        {
          "output_type": "execute_result",
          "data": {
            "text/plain": [
              "([], <a list of 0 Text major ticklabel objects>)"
            ]
          },
          "metadata": {},
          "execution_count": 19
        },
        {
          "output_type": "display_data",
          "data": {
            "text/plain": [
              "<Figure size 1080x288 with 1 Axes>"
            ],
            "image/png": "[encoded data removed]"
          },
          "metadata": {}
        }
      ]
    },
    {
      "cell_type": "markdown",
      "source": [
        "#T undefined\n",
        "#Vrecord undefined"
      ],
      "metadata": {
        "id": "fMK7B2NY7ZJ4"
      }
    },
    {
      "cell_type": "code",
      "source": [
        "# import matplotlib.pyplot as plt\n",
        "# %matplotlib inline\n",
        "\n",
        "\n",
        "\n",
        "# # Ca LVA current \n",
        "\n",
        "# plt.figure(figsize=(20,14))\n",
        "# for i in range(Dica_LVAst_data.shape[0]):\n",
        "#     plt.plot(t,Dica_LVAst_data[i,:])\n",
        "#     plt.title(Vrecord[i], loc='center')\n",
        "#     plt.ylabel('ica_LVAst')\n",
        "#     plt.xlabel('ms')\n",
        "# plt.show()"
      ],
      "metadata": {
        "id": "Wl8gtrbc1G6s"
      },
      "execution_count": null,
      "outputs": []
    },
    {
      "cell_type": "code",
      "source": [
        "# import matplotlib.pyplot as plt\n",
        "# %matplotlib inline\n",
        "\n",
        "\n",
        "# # CA HVA current\n",
        "\n",
        "# plt.figure(figsize=(20,14))\n",
        "# for i in range(Dica_HVA_data.shape[0]):\n",
        "#     plt.plot(t,Dica_HVA_data[i,:])\n",
        "#     plt.title(Vrecord[i], loc='center')\n",
        "#     plt.ylabel('ica_HVA')\n",
        "#     plt.xlabel('ms')\n",
        "#     plt.title('Detailed model iCa_HVA')\n",
        "# plt.show()"
      ],
      "metadata": {
        "id": "-6MwDxSC1KeK"
      },
      "execution_count": null,
      "outputs": []
    },
    {
      "cell_type": "code",
      "source": [
        "# import matplotlib.pyplot as plt\n",
        "# %matplotlib inline\n",
        "\n",
        "\n",
        "# # h current\n",
        "\n",
        "# plt.figure(figsize=(20,14))\n",
        "# for i in range(Dih_data.shape[0]):\n",
        "#     plt.plot(t,Dih_data[i,:])\n",
        "#     plt.title(Vrecord[i], loc='center')\n",
        "#     plt.ylabel('Ih')\n",
        "#     plt.xlabel('ms')\n",
        "#     plt.title('ih')\n",
        "# plt.show()"
      ],
      "metadata": {
        "id": "Rdk9aykq1MBu"
      },
      "execution_count": null,
      "outputs": []
    },
    {
      "cell_type": "code",
      "source": [
        "# sec = []\n",
        "# for i in range(nseg-1):\n",
        "#   if AllSegSection[i] >= 11 :\n",
        "#     sec.append(i)\n",
        "\n",
        "# print(len(sec))\n",
        "\n",
        "\n",
        "\n",
        "# plt.figure(figsize=(20,14))\n",
        "# for i in sec:\n",
        "#     plt.plot(t,gNaTa_T_data[i,:])\n",
        "#     plt.title(gNaTa_T, loc='center')\n",
        "#     plt.ylabel('gNaTa_T')\n",
        "#     plt.xlabel('ms')\n",
        "#     plt.title('gNaTa_T')\n",
        "# plt.show()"
      ],
      "metadata": {
        "id": "LTlFctgj1N2R"
      },
      "execution_count": null,
      "outputs": []
    },
    {
      "cell_type": "code",
      "source": [
        "# import matplotlib.pyplot as plt\n",
        "# %matplotlib inline\n",
        "\n",
        "\n",
        "# #NMDA current \n",
        "\n",
        "# plt.figure(figsize=(20,14))\n",
        "# for i in range(len(i_NMDA_bySeg)):\n",
        "#     plt.plot(t,i_NMDA_bySeg[i])\n",
        "#     plt.title(Vrecord[i], loc='center')\n",
        "#     plt.ylabel('i_NMDA')\n",
        "#     plt.xlabel('ms')\n",
        "#     plt.title('i_NMDA in every segment')\n",
        "# plt.show()"
      ],
      "metadata": {
        "id": "Q4okaBTH1Piz"
      },
      "execution_count": null,
      "outputs": []
    },
    {
      "cell_type": "code",
      "source": [
        "\n",
        "\n",
        "\n",
        "# #NMDA current \n",
        "\n",
        "# plt.figure(figsize=(20,14))\n",
        "# for i in range(len(v_dend)):\n",
        "#     plt.plot(t,v_dend[i])\n",
        "#     plt.title(Vrecord[i], loc='center')\n",
        "#     plt.ylabel('v dend ')\n",
        "#     plt.xlabel('ms')\n",
        "#     plt.title('NMDA current')\n",
        "# plt.show()"
      ],
      "metadata": {
        "id": "Fpo97jDC1ROc"
      },
      "execution_count": null,
      "outputs": []
    }
  ],
  "metadata": {
    "colab": {
      "collapsed_sections": [],
      "name": "Detailed model HOC.ipynb",
      "provenance": [],
      "authorship_tag": "ABX9TyM9Td7rCQh86f+9q8DMLoOC",
      "include_colab_link": true
    },
    "kernelspec": {
      "display_name": "Python 3",
      "name": "python3"
    },
    "language_info": {
      "name": "python"
    }
  },
  "nbformat": 4,
  "nbformat_minor": 0
}