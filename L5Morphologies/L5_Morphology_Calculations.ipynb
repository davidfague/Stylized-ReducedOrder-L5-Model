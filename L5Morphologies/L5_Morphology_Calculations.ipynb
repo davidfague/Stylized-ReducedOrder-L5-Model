{
  "cells": [
    {
      "cell_type": "markdown",
      "metadata": {
        "id": "view-in-github",
        "colab_type": "text"
      },
      "source": [
        "<a href=\"https://colab.research.google.com/github/davidfague/Stylized-ReducedOrder-L5-Model/blob/main/L5Morphologies/L5_Morphology_Calculations.ipynb\" target=\"_parent\"><img src=\"https://colab.research.google.com/assets/colab-badge.svg\" alt=\"Open In Colab\"/></a>"
      ]
    },
    {
      "cell_type": "code",
      "execution_count": 1,
      "metadata": {
        "colab": {
          "base_uri": "https://localhost:8080/"
        },
        "id": "hLv7MTi23HVU",
        "outputId": "a3d85781-213f-4c79-cfb2-93caa7337104"
      },
      "outputs": [
        {
          "output_type": "stream",
          "name": "stdout",
          "text": [
            "Looking in indexes: https://pypi.org/simple, https://us-python.pkg.dev/colab-wheels/public/simple/\n",
            "Requirement already satisfied: neuron in /usr/local/lib/python3.7/dist-packages (8.2.1)\n",
            "Requirement already satisfied: numpy>=1.9.3 in /usr/local/lib/python3.7/dist-packages (from neuron) (1.21.6)\n"
          ]
        }
      ],
      "source": [
        "!pip install neuron"
      ]
    },
    {
      "cell_type": "code",
      "execution_count": 2,
      "metadata": {
        "colab": {
          "base_uri": "https://localhost:8080/"
        },
        "id": "e_sUXg4Y3Iot",
        "outputId": "7ffc3998-7fde-4502-c698-a82b67ebbbb3"
      },
      "outputs": [
        {
          "output_type": "stream",
          "name": "stdout",
          "text": [
            "Drive already mounted at /content/drive; to attempt to forcibly remount, call drive.mount(\"/content/drive\", force_remount=True).\n"
          ]
        }
      ],
      "source": [
        "from google.colab import drive\n",
        "drive.mount('/content/drive')"
      ]
    },
    {
      "cell_type": "code",
      "execution_count": 3,
      "metadata": {
        "colab": {
          "base_uri": "https://localhost:8080/"
        },
        "id": "-nGwuudE3K77",
        "outputId": "565f3e00-e5ac-4c1e-e05c-6c1f2f4be9ca"
      },
      "outputs": [
        {
          "output_type": "stream",
          "name": "stdout",
          "text": [
            "/content/drive/MyDrive/Stylized-Cell-model\n"
          ]
        }
      ],
      "source": [
        "%cd /content/drive/MyDrive/Stylized-Cell-model/"
      ]
    },
    {
      "cell_type": "code",
      "execution_count": 4,
      "metadata": {
        "id": "PNCFq8To2-yb"
      },
      "outputs": [],
      "source": [
        "from neuron import h\n",
        "import pandas as pd\n",
        "import numpy as np\n",
        "from scipy.stats import lognorm\n",
        "import math\n",
        "import os\n",
        "from stylized_module.stylized_cell import Stylized_Cell\n",
        "from stylized_module.ecp import EcpMod, newposition\n",
        "from stylized_module.recorder import Recorder\n",
        "from stylized_module.point_current import Point_current\n",
        "from pathlib import Path"
      ]
    },
    {
      "cell_type": "code",
      "execution_count": 5,
      "metadata": {
        "colab": {
          "base_uri": "https://localhost:8080/"
        },
        "id": "Jch-eHB5P0pw",
        "outputId": "8fa8a129-4f58-4af2-e0b7-ded65cd20659"
      },
      "outputs": [
        {
          "output_type": "stream",
          "name": "stdout",
          "text": [
            " active_channel_model_example.ipynb       inh_syns.svg\n",
            " active_channel_model_groundtruth.ipynb   \u001b[0m\u001b[01;34minputs_module\u001b[0m/\n",
            " Active_Properties_Soma_Voltage.png      \u001b[01;34m'L5 Individual Basal Paths'\u001b[0m/\n",
            " Beta_Elec_distance.svg                  \u001b[01;34m'L5 Individual Oblique Paths'\u001b[0m/\n",
            " ca_df.csv                               \u001b[01;34m'L5 Individual Tuft Paths'\u001b[0m/\n",
            " Connections.csv                          L5Morphology.swc\n",
            " Elec_distance.svg                        L5Morphology.swc.txt\n",
            " example_model_inject_waveform.ipynb      L5Segments.csv\n",
            " exc_stim_spikes.h5                       \u001b[01;34mmechanisms\u001b[0m/\n",
            " exc_syns.svg                             na_df.csv\n",
            " FI_curve.png                             \u001b[01;34moutput_control\u001b[0m/\n",
            " fig1A.svg                                Passive_Properties_Soma_Voltage.png\n",
            " fig2A.svg                                \u001b[01;34mPlots\u001b[0m/\n",
            " fig2B.svg                                Segments.csv\n",
            " fig2C.svg                                SegmentsDegrees.csv\n",
            " fig2D.svg                                \u001b[01;34msimdata\u001b[0m/\n",
            " fig2E.svg                                stylized_cell_figure.ipynb\n",
            " fig2F.svg                                stylizedcell.pdf\n",
            " fig2G.svg                                \u001b[01;34mstylized_module\u001b[0m/\n",
            " Gamma_Elec_distance.svg                  syn_parameters.csv\n",
            " geom_parameters.csv                      syn_parameters.gsheet\n",
            " geom_parameters_passive.csv              \u001b[01;34mtemplates\u001b[0m/\n",
            " geom_parameters_passive.gsheet           Trunk.swc\n",
            " geom_standard.csv                        Tuft_Voltage.png\n",
            " HOCDetailedSegmentsDegrees.csv           \u001b[01;34mutils\u001b[0m/\n"
          ]
        }
      ],
      "source": [
        "%ls"
      ]
    },
    {
      "cell_type": "markdown",
      "source": [
        "#Basal Dendrites\n",
        "##Calculate Mean Length of unique Dendritic Paths and mean ratio across sections"
      ],
      "metadata": {
        "id": "ZY975dv5aIUW"
      }
    },
    {
      "cell_type": "code",
      "source": [
        "# define proportions for sectioning (should sum to 1)\n",
        "prox_prop = 0.2\n",
        "mid_prop = 0.3\n",
        "dist_prop = 0.5\n",
        "\n",
        "\n",
        "txt_folder = Path('L5 Individual Basal Paths/').rglob('*.swc') #select folder in google drive\n",
        "files = [x for x in txt_folder] #list files in folder\n",
        "dend_pathlengths=[] #list for individual path lengths\n",
        "skipcount=0 #count to verify the NeuTube line is skipped\n",
        "prox_r=[]\n",
        "mid_r=[]\n",
        "dist_r=[]\n",
        "prox_d=[]\n",
        "mid_d=[]\n",
        "dist_d=[]\n",
        "\n",
        "for name in files: #iterate through files\n",
        "  #lists for coordinates, radii, and segment pathlengths\n",
        "  segx=[]\n",
        "  segy=[]\n",
        "  segz=[]\n",
        "  segr=[]\n",
        "  seg_d=[]\n",
        "  seg_pathlength=[0] #list for distance between segments\n",
        "  with open(name) as f:\n",
        "      lines=f.read().splitlines()\n",
        "      for line in lines:\n",
        "        x=line.split()\n",
        "        try:\n",
        "            segx.append(float(x[2]))\n",
        "            segy.append(float(x[3]))\n",
        "            segz.append(float(x[4]))\n",
        "            segr.append(float(x[5]))\n",
        "        except:\n",
        "              skipcount=skipcount+1 #skip if line isn't segment values (NeuTube .swc files begin with a different line)\n",
        "      for i in range(1,len(segx)):\n",
        "        seg_d.append((((-segx[i-1]+segx[i])**2)+((-segy[i-1]+segy[i])**2)+((-segz[i-1]+segz[i])**2))**0.5) #calculate distance from last segment\n",
        "        seg_pathlength.append(sum(seg_d)) #calculate and add segment pathlength from 0 to list \n",
        "      dend_pathlength=seg_pathlength[-1] #take last segment path length as dendrite path length\n",
        "      dend_pathlengths.append(dend_pathlength) # add to list\n",
        "\n",
        "      # define proportions for sectioning paths\n",
        "      prox_L=prox_prop*dend_pathlength\n",
        "      mid_L=mid_prop*dend_pathlength\n",
        "      dist_L=dist_prop*dend_pathlength\n",
        "      # caclulate bounds for sectiong\n",
        "      proxend=prox_L\n",
        "      midend=prox_L+mid_L\n",
        "      #section by criteria\n",
        "      for i in range(len(segr)):\n",
        "        if seg_pathlength[i] < proxend:\n",
        "          prox_r.append(segr[i])\n",
        "          prox_d.append(seg_pathlength[i]/dend_pathlength)\n",
        "        elif seg_pathlength[i] > proxend and seg_pathlength[i] < midend:\n",
        "          mid_r.append(segr[i])\n",
        "          mid_d.append(seg_pathlength[i]/dend_pathlength)\n",
        "        elif seg_pathlength[i] > midend:\n",
        "          dist_r.append(segr[i])\n",
        "          dist_d.append(seg_pathlength[i]/dend_pathlength)\n",
        "\n",
        "#print('The NeuTube line was skipped correctly:',skipcount==len(files))\n",
        "avgdend_L=np.mean(dend_pathlengths)\n",
        "stddend_L=np.std(dend_pathlengths)\n",
        "proxdend_L=round(prox_prop*avgdend_L)\n",
        "middend_L=round(mid_prop*avgdend_L)\n",
        "distdend_L=round(dist_prop*avgdend_L)\n",
        "avgprox_r=np.mean(prox_r)\n",
        "stdprox_r=np.std(prox_r)\n",
        "avgmid_r=np.mean(mid_r)\n",
        "stdmid_r=np.std(mid_r)\n",
        "avgdist_r=np.mean(dist_r)\n",
        "stddist_r=np.std(dist_r)\n",
        "print('The mean dendrite  length is',avgdend_L,'and std is',stddend_L)\n",
        "print('The proximal section length should be',proxdend_L)\n",
        "print('The middle section length should be',middend_L)\n",
        "print('The distal section length should be',distdend_L)\n",
        "print('The mean proximal section radius is',avgprox_r,'and std is',stdprox_r)\n",
        "print('The mean middle section radius is',avgmid_r,'and std is',stdmid_r)\n",
        "print('The mean distal section radius is',avgdist_r,'and std is',stddist_r)\n",
        "# print(prox_r)"
      ],
      "metadata": {
        "colab": {
          "base_uri": "https://localhost:8080/"
        },
        "id": "q6DzrPRtWBrP",
        "outputId": "b8b661e5-e1e5-4745-fb94-247fa555c9d9"
      },
      "execution_count": 6,
      "outputs": [
        {
          "output_type": "stream",
          "name": "stdout",
          "text": [
            "The mean dendrite  length is 196.23182655283873 and std is 66.58551622693375\n",
            "The proximal section length should be 39\n",
            "The middle section length should be 59\n",
            "The distal section length should be 98\n",
            "The mean proximal section radius is 0.6478574363188168 and std is 0.3326541638706939\n",
            "The mean middle section radius is 0.33488148354712777 and std is 0.10685775167875863\n",
            "The mean distal section radius is 0.2539156062874252 and std is 0.05665983588003741\n"
          ]
        }
      ]
    },
    {
      "cell_type": "markdown",
      "source": [
        "##Plot Basal Radii by normalized length of dendritic path"
      ],
      "metadata": {
        "id": "EiWOrek-ao6l"
      }
    },
    {
      "cell_type": "code",
      "source": [
        "#plot radii\n",
        "import matplotlib.pyplot as plt\n",
        "\n",
        "fig, ax = plt.subplots()\n",
        "ax.set_title('Basal')\n",
        "ax.set_ylabel('Radius')\n",
        "ax.set_xlabel('Normalized Path length')\n",
        "plt.scatter(prox_d,prox_r)  # blue\n",
        "plt.scatter(mid_d,mid_r) # orange\n",
        "plt.scatter(dist_d,dist_r) # green"
      ],
      "metadata": {
        "colab": {
          "base_uri": "https://localhost:8080/",
          "height": 312
        },
        "id": "6UMiR8OTWEa1",
        "outputId": "4af8921d-20ff-4b83-9f82-ec9cfe365dba"
      },
      "execution_count": 7,
      "outputs": [
        {
          "output_type": "execute_result",
          "data": {
            "text/plain": [
              "<matplotlib.collections.PathCollection at 0x7fc3579368d0>"
            ]
          },
          "metadata": {},
          "execution_count": 7
        },
        {
          "output_type": "display_data",
          "data": {
            "text/plain": [
              "<Figure size 432x288 with 1 Axes>"
            ],
            "image/png": "[encoded data removed]"
          },
          "metadata": {
            "needs_background": "light"
          }
        }
      ]
    },
    {
      "cell_type": "markdown",
      "source": [
        "#Tuft Dendrites\n",
        "##Calculate Mean Length of unique Dendritic Paths and mean ratio across sections"
      ],
      "metadata": {
        "id": "hzKG_aWnbVKE"
      }
    },
    {
      "cell_type": "code",
      "execution_count": 8,
      "metadata": {
        "colab": {
          "base_uri": "https://localhost:8080/"
        },
        "id": "h6wtGBufOlyq",
        "outputId": "56736b6f-a51d-4806-978d-f2555faba6e9"
      },
      "outputs": [
        {
          "output_type": "stream",
          "name": "stdout",
          "text": [
            "The mean dendrite  length is 525.3310956492976 and std is 44.6827852770343\n",
            "The proximal section length should be 53\n",
            "The middle section length should be 263\n",
            "The distal section length should be 210\n",
            "The mean proximal section radius is 0.4112328767123288 and std is 0.09671852545245473\n",
            "The mean middle section radius is 0.3156882091761224 and std is 0.03830002523503217\n",
            "The mean distal section radius is 0.25999056247640623 and std is 0.04227520776313641\n"
          ]
        }
      ],
      "source": [
        "# define proportions for sectioning (should sum to 1)\n",
        "prox_prop = 0.1\n",
        "mid_prop = 0.5\n",
        "dist_prop = 0.4\n",
        "\n",
        "\n",
        "txt_folder = Path('L5 Individual Tuft Paths/').rglob('*.swc') #select folder in google drive\n",
        "files = [x for x in txt_folder] #list files in folder\n",
        "dend_pathlengths=[] #list for individual path lengths\n",
        "skipcount=0 #count to verify the NeuTube line is skipped\n",
        "prox_r=[]\n",
        "mid_r=[]\n",
        "dist_r=[]\n",
        "prox_d=[]\n",
        "mid_d=[]\n",
        "dist_d=[]\n",
        "\n",
        "for name in files: #iterate through files\n",
        "  #lists for coordinates, radii, and segment pathlengths\n",
        "  segx=[]\n",
        "  segy=[]\n",
        "  segz=[]\n",
        "  segr=[]\n",
        "  seg_d=[]\n",
        "  seg_pathlength=[0] #list for distance between segments\n",
        "  with open(name) as f:\n",
        "      lines=f.read().splitlines()\n",
        "      for line in lines:\n",
        "        x=line.split()\n",
        "        try:\n",
        "            segx.append(float(x[2]))\n",
        "            segy.append(float(x[3]))\n",
        "            segz.append(float(x[4]))\n",
        "            segr.append(float(x[5]))\n",
        "        except:\n",
        "              skipcount=skipcount+1 #skip if line isn't segment values (NeuTube .swc files begin with a different line)\n",
        "      for i in range(1,len(segx)):\n",
        "        seg_d.append((((-segx[i-1]+segx[i])**2)+((-segy[i-1]+segy[i])**2)+((-segz[i-1]+segz[i])**2))**0.5) #calculate distance from last segment\n",
        "        seg_pathlength.append(sum(seg_d)) #calculate and add segment pathlength from 0 to list \n",
        "      dend_pathlength=seg_pathlength[-1] #take last segment path length as dendrite path length\n",
        "      dend_pathlengths.append(dend_pathlength) # add to list\n",
        "\n",
        "      # define proportions for sectioning paths\n",
        "      prox_L=prox_prop*dend_pathlength\n",
        "      mid_L=mid_prop*dend_pathlength\n",
        "      dist_L=dist_prop*dend_pathlength\n",
        "      # caclulate bounds for sectiong\n",
        "      proxend=prox_L\n",
        "      midend=prox_L+mid_L\n",
        "      #section by criteria\n",
        "      for i in range(len(segr)):\n",
        "        if seg_pathlength[i] < proxend:\n",
        "          prox_r.append(segr[i])\n",
        "          prox_d.append(seg_pathlength[i]/dend_pathlength)\n",
        "        elif seg_pathlength[i] > proxend and seg_pathlength[i] < midend:\n",
        "          mid_r.append(segr[i])\n",
        "          mid_d.append(seg_pathlength[i]/dend_pathlength)\n",
        "        elif seg_pathlength[i] > midend:\n",
        "          dist_r.append(segr[i])\n",
        "          dist_d.append(seg_pathlength[i]/dend_pathlength)\n",
        "\n",
        "#print('The NeuTube line was skipped correctly:',skipcount==len(files))\n",
        "avgdend_L=np.mean(dend_pathlengths)\n",
        "stddend_L=np.std(dend_pathlengths)\n",
        "proxdend_L=round(prox_prop*avgdend_L)\n",
        "middend_L=round(mid_prop*avgdend_L)\n",
        "distdend_L=round(dist_prop*avgdend_L)\n",
        "avgprox_r=np.mean(prox_r)\n",
        "stdprox_r=np.std(prox_r)\n",
        "avgmid_r=np.mean(mid_r)\n",
        "stdmid_r=np.std(mid_r)\n",
        "avgdist_r=np.mean(dist_r)\n",
        "stddist_r=np.std(dist_r)\n",
        "print('The mean dendrite  length is',avgdend_L,'and std is',stddend_L)\n",
        "print('The proximal section length should be',proxdend_L)\n",
        "print('The middle section length should be',middend_L)\n",
        "print('The distal section length should be',distdend_L)\n",
        "print('The mean proximal section radius is',avgprox_r,'and std is',stdprox_r)\n",
        "print('The mean middle section radius is',avgmid_r,'and std is',stdmid_r)\n",
        "print('The mean distal section radius is',avgdist_r,'and std is',stddist_r)\n",
        "# print(prox_r)"
      ]
    },
    {
      "cell_type": "markdown",
      "source": [
        "##Plot Tuft Radii by normalized length of dendritic path"
      ],
      "metadata": {
        "id": "06XOgoxfbnCP"
      }
    },
    {
      "cell_type": "code",
      "source": [
        "#plot radii\n",
        "import matplotlib.pyplot as plt\n",
        "\n",
        "fig, ax = plt.subplots()\n",
        "ax.set_title('Tufts')\n",
        "ax.set_ylabel('Radius')\n",
        "ax.set_xlabel('Normalized Path length')\n",
        "plt.scatter(prox_d,prox_r)  # blue\n",
        "plt.scatter(mid_d,mid_r) # orange\n",
        "plt.scatter(dist_d,dist_r) # green\n"
      ],
      "metadata": {
        "colab": {
          "base_uri": "https://localhost:8080/",
          "height": 312
        },
        "id": "X3Vw21LKqGe3",
        "outputId": "2ebe2cf0-12b1-4bf1-d114-0aa6abea42ef"
      },
      "execution_count": 9,
      "outputs": [
        {
          "output_type": "execute_result",
          "data": {
            "text/plain": [
              "<matplotlib.collections.PathCollection at 0x7fc3578b2b50>"
            ]
          },
          "metadata": {},
          "execution_count": 9
        },
        {
          "output_type": "display_data",
          "data": {
            "text/plain": [
              "<Figure size 432x288 with 1 Axes>"
            ],
            "image/png": "[encoded data removed]"
          },
          "metadata": {
            "needs_background": "light"
          }
        }
      ]
    },
    {
      "cell_type": "markdown",
      "source": [
        "#Oblique Dendrites\n",
        "##Calculate Length of Oblique Dendrite Path from Trunk, mean radius, and Mean dendrite distance up trunk "
      ],
      "metadata": {
        "id": "5vh54gs8iFaE"
      }
    },
    {
      "cell_type": "code",
      "source": [
        "# define proportions for sectioning (should sum to 1)\n",
        "# prox_prop = 0.2\n",
        "# mid_prop = 0.4\n",
        "# dist_prop = 0.4\n",
        "\n",
        "\n",
        "txt_folder = Path('L5 Individual Oblique Paths/').rglob('*.swc') #select folder in google drive\n",
        "files = [x for x in txt_folder] #list files in folder\n",
        "dend_pathlengths=[] #list for individual path lengths\n",
        "Trunk_pathlengths=[] # list for distance between branch point and soma\n",
        "skipcount=0 #count to verify the NeuTube line is skipped\n",
        "prox_r=[]\n",
        "mid_r=[]\n",
        "dist_r=[]\n",
        "prox_d=[]\n",
        "mid_d=[]\n",
        "dist_d=[]\n",
        "\n",
        "for name in files: #iterate through files\n",
        "  #lists for coordinates, radii, and segment pathlengths\n",
        "  segx=[]\n",
        "  segy=[]\n",
        "  segz=[]\n",
        "  segr=[]\n",
        "  seg_d=[]\n",
        "  seg_pathlength=[0] #list for distance between segments\n",
        "  Trunksegx=[]\n",
        "  Trunksegy=[]\n",
        "  Trunksegz=[]\n",
        "  Trunkseg_d=[]\n",
        "  Trunkseg_pathlength=[0]\n",
        "  with open(name) as f:\n",
        "      lines=f.read().splitlines()\n",
        "      for line in lines:\n",
        "        x=line.split()\n",
        "        if x[1]=='4':\n",
        "          try:\n",
        "              segx.append(float(x[2]))\n",
        "              segy.append(float(x[3]))\n",
        "              segz.append(float(x[4]))\n",
        "              segr.append(float(x[5]))\n",
        "          except:\n",
        "              skipcount=skipcount+1 #skip if line isn't segment values (NeuTube .swc files begin with a different line)\n",
        "        elif x[1]=='5':\n",
        "          try:\n",
        "              Trunksegx.append(float(x[2]))\n",
        "              Trunksegy.append(float(x[3]))\n",
        "              Trunksegz.append(float(x[4]))\n",
        "          except:\n",
        "              skipcount=skipcount+1 #skip if line isn't segment values (NeuTube .swc files begin with a different line)\n",
        "        else:\n",
        "          skipcount=skipcount+1 #skip if line isn't segment values (NeuTube .swc files begin with a different line)\n",
        "      for i in range(1,len(segx)):\n",
        "        seg_d.append((((-segx[i-1]+segx[i])**2)+((-segy[i-1]+segy[i])**2)+((-segz[i-1]+segz[i])**2))**0.5) #calculate distance from last segment\n",
        "        seg_pathlength.append(sum(seg_d)) #calculate and add segment pathlength from 0 to list \n",
        "      dend_pathlength=seg_pathlength[-1] #take last segment path length as dendrite path length\n",
        "      dend_pathlengths.append(dend_pathlength) # add to list\n",
        "      for i in range(1,len(Trunksegx)):\n",
        "        Trunkseg_d.append((((-Trunksegx[i-1]+Trunksegx[i])**2)+((-Trunksegy[i-1]+Trunksegy[i])**2)+((-Trunksegz[i-1]+Trunksegz[i])**2))**0.5) #calculate distance from last segment\n",
        "        Trunkseg_pathlength.append(sum(Trunkseg_d)) #calculate and add segment pathlength from 0 to list \n",
        "      Trunk_pathlength=Trunkseg_pathlength[-1] #take last segment path length as dendrite path length\n",
        "      Trunk_pathlengths.append(Trunk_pathlength) # add to list\n",
        "\n",
        "      # # define proportions for sectioning paths\n",
        "      # prox_L=prox_prop*dend_pathlength\n",
        "      # mid_L=mid_prop*dend_pathlength\n",
        "      # dist_L=dist_prop*dend_pathlength\n",
        "      # # caclulate bounds for sectiong\n",
        "      # proxend=prox_L\n",
        "      # midend=prox_L+mid_L\n",
        "      # #section by criteria\n",
        "      # for i in range(len(segr)):\n",
        "      #   if seg_pathlength[i] < proxend:\n",
        "      #     prox_r.append(segr[i])\n",
        "      #     prox_d.append(seg_pathlength[i]/dend_pathlength)\n",
        "      #   elif seg_pathlength[i] > proxend and seg_pathlength[i] < midend:\n",
        "      #     mid_r.append(segr[i])\n",
        "      #     mid_d.append(seg_pathlength[i]/dend_pathlength)\n",
        "      #   elif seg_pathlength[i] > midend:\n",
        "      #     dist_r.append(segr[i])\n",
        "      #     dist_d.append(seg_pathlength[i]/dend_pathlength)\n",
        "\n",
        "avg_r=np.mean(segr)\n",
        "std_r=np.std(segr)\n",
        "print('The mean segment radius is',avg_r,'and the std is',std_r)\n",
        "avgtrunk_L=np.mean(Trunk_pathlengths)\n",
        "print('The mean oblique dendrite distance up the trunk is',avgtrunk_L)\n",
        "\n",
        "# print('The NeuTube line was skipped correctly:',skipcount==len(files))\n",
        "avgdend_L=np.mean(dend_pathlengths)\n",
        "stddend_L=np.std(dend_pathlengths)\n",
        "# proxdend_L=round(prox_prop*avgdend_L)\n",
        "# middend_L=round(mid_prop*avgdend_L)\n",
        "# distdend_L=round(dist_prop*avgdend_L)\n",
        "# avgprox_r=np.mean(prox_r)\n",
        "# avgmid_r=np.mean(mid_r)\n",
        "# avgdist_r=np.mean(dist_r)\n",
        "print('The mean oblique dendrite length is',round(avgdend_L),'and the std is',stddend_L)\n",
        "# print('The proximal section length should be',proxdend_L)\n",
        "# print('The middle section length should be',middend_L)\n",
        "# print('The distal section length should be',distdend_L)\n",
        "# print('The mean proximal section radius is',avgprox_r)\n",
        "# print('The mean middle section radius is',avgmid_r)\n",
        "# print('The mean distal section radius is',avgdist_r)\n",
        "# print(prox_r)"
      ],
      "metadata": {
        "colab": {
          "base_uri": "https://localhost:8080/"
        },
        "id": "Moj8zgUSieCV",
        "outputId": "c067aa2e-ff94-4190-b688-a555d69e6a76"
      },
      "execution_count": 10,
      "outputs": [
        {
          "output_type": "stream",
          "name": "stdout",
          "text": [
            "The mean segment radius is 0.28797872340425534 and the std is 0.028725768224234345\n",
            "The mean oblique dendrite distance up the trunk is 135.7079421109666\n",
            "The mean oblique dendrite length is 166 and the std is 52.13906352061962\n"
          ]
        }
      ]
    },
    {
      "cell_type": "markdown",
      "source": [
        "##Plot Oblique Radii by length of dendritic path"
      ],
      "metadata": {
        "id": "m8BmeV5OmP0Q"
      }
    },
    {
      "cell_type": "code",
      "source": [
        "#plot radii\n",
        "import matplotlib.pyplot as plt\n",
        "\n",
        "fig, ax = plt.subplots()\n",
        "ax.set_title('Oblique')\n",
        "ax.set_ylabel('Radius')\n",
        "ax.set_xlabel('Path length')\n",
        "plt.scatter(seg_pathlength,segr)  # blue"
      ],
      "metadata": {
        "colab": {
          "base_uri": "https://localhost:8080/",
          "height": 312
        },
        "id": "BsIsdTnNmZhR",
        "outputId": "9f05d65b-1d81-4cb8-9c61-bdb8ff63a859"
      },
      "execution_count": 11,
      "outputs": [
        {
          "output_type": "execute_result",
          "data": {
            "text/plain": [
              "<matplotlib.collections.PathCollection at 0x7fc357a1db10>"
            ]
          },
          "metadata": {},
          "execution_count": 11
        },
        {
          "output_type": "display_data",
          "data": {
            "text/plain": [
              "<Figure size 432x288 with 1 Axes>"
            ],
            "image/png": "[encoded data removed]"
          },
          "metadata": {
            "needs_background": "light"
          }
        }
      ]
    },
    {
      "cell_type": "markdown",
      "source": [
        "#Trunk\n",
        "##Calculate Length of Trunk Path and mean ratio across defined sections"
      ],
      "metadata": {
        "id": "6VWtsGKeb8pi"
      }
    },
    {
      "cell_type": "code",
      "source": [
        "# define proportions for sectioning (should sum to 1) (original sectioning)\n",
        "# prox_prop = 2/7\n",
        "# mid_prop = 3/7\n",
        "# dist_prop = 2/7\n",
        "\n",
        "#if want to place oblique dendrites according to previous calculation\n",
        "prox_prop = avgtrunk_L/950\n",
        "dist_prop = .168\n",
        "mid_prop = 1-(prox_prop+dist_prop)\n",
        "\n",
        "dend_pathlengths=[] #list for individual path lengths\n",
        "skipcount=0 #count to verify the NeuTube line is skipped\n",
        "prox_r=[]\n",
        "mid_r=[]\n",
        "dist_r=[]\n",
        "prox_d=[]\n",
        "mid_d=[]\n",
        "dist_d=[]\n",
        "#lists for coordinates, radii, and segment pathlengths\n",
        "segx=[]\n",
        "segy=[]\n",
        "segz=[]\n",
        "segr=[]\n",
        "seg_d=[]\n",
        "seg_pathlength=[0] #list for distance between segments\n",
        "with open('Trunk.swc') as f:\n",
        "    lines=f.read().splitlines()\n",
        "    for line in lines:\n",
        "        x=line.split()\n",
        "        try:\n",
        "            segx.append(float(x[2]))\n",
        "            segy.append(float(x[3]))\n",
        "            segz.append(float(x[4]))\n",
        "            if not x[5]==0.9875:\n",
        "              segr.append(float(x[5]))\n",
        "            else:\n",
        "              print(x[5])\n",
        "        except:\n",
        "              skipcount=skipcount+1 #skip if line isn't segment values (NeuTube .swc files begin with a different line)\n",
        "    for i in range(1,len(segx)):\n",
        "        seg_d.append((((-segx[i-1]+segx[i])**2)+((-segy[i-1]+segy[i])**2)+((-segz[i-1]+segz[i])**2))**0.5) #calculate distance from last segment\n",
        "        seg_pathlength.append(sum(seg_d)) #calculate and add segment pathlength from 0 to list \n",
        "    dend_pathlength=seg_pathlength[-1] #take last segment path length as dendrite path length\n",
        "    dend_pathlengths.append(dend_pathlength) # add to list\n",
        "\n",
        "      # define proportions for sectioning paths\n",
        "    prox_L=prox_prop*dend_pathlength\n",
        "    mid_L=mid_prop*dend_pathlength\n",
        "    dist_L=dist_prop*dend_pathlength\n",
        "      # caclulate bounds for sectiong\n",
        "    proxend=prox_L\n",
        "    midend=prox_L+mid_L\n",
        "      #section by criteria\n",
        "    for i in range(len(segr)):\n",
        "        if seg_pathlength[i] < proxend:\n",
        "          prox_r.append(segr[i])\n",
        "          prox_d.append(seg_pathlength[i]/dend_pathlength)\n",
        "        elif seg_pathlength[i] > proxend and seg_pathlength[i] < midend:\n",
        "          mid_r.append(segr[i])\n",
        "          mid_d.append(seg_pathlength[i]/dend_pathlength)\n",
        "        elif seg_pathlength[i] > midend:\n",
        "          dist_r.append(segr[i])\n",
        "          dist_d.append(seg_pathlength[i]/dend_pathlength)\n",
        "\n",
        "#print('The NeuTube line was skipped correctly:',skipcount==len(files))\n",
        "avgdend_L=np.mean(dend_pathlengths)\n",
        "proxdend_L=round(prox_prop*avgdend_L)\n",
        "middend_L=round(mid_prop*avgdend_L)\n",
        "distdend_L=round(dist_prop*avgdend_L)\n",
        "avgprox_r=np.mean(prox_r)\n",
        "avgmid_r=np.mean(mid_r)\n",
        "avgdist_r=np.mean(dist_r)\n",
        "print('The mean dendrite  length is',avgdend_L)\n",
        "print('The proximal section length should be',proxdend_L)\n",
        "print('The middle section length should be',middend_L)\n",
        "print('The distal section length should be',distdend_L)\n",
        "print('The mean proximal section radius is',avgprox_r)\n",
        "print('The mean middle section radius is',avgmid_r)\n",
        "print('The mean distal section radius is',avgdist_r)\n",
        "# print(prox_r)"
      ],
      "metadata": {
        "colab": {
          "base_uri": "https://localhost:8080/"
        },
        "id": "qjm2-vlpidUV",
        "outputId": "c5e4e86f-6e3b-42ce-8c3d-e3207b9dec62"
      },
      "execution_count": 12,
      "outputs": [
        {
          "output_type": "stream",
          "name": "stdout",
          "text": [
            "The mean dendrite  length is 950.0556620450953\n",
            "The proximal section length should be 136\n",
            "The middle section length should be 655\n",
            "The distal section length should be 160\n",
            "The mean proximal section radius is 1.7694444444444446\n",
            "The mean middle section radius is 1.259487275449102\n",
            "The mean distal section radius is 0.9901190476190478\n"
          ]
        }
      ]
    },
    {
      "cell_type": "markdown",
      "source": [
        "##Plot Trunk Radii by normalized length of Trunk path"
      ],
      "metadata": {
        "id": "nGyTlUdQbuwV"
      }
    },
    {
      "cell_type": "code",
      "source": [
        "#plot radii\n",
        "import matplotlib.pyplot as plt\n",
        "\n",
        "fig, ax = plt.subplots()\n",
        "ax.set_title('Trunk')\n",
        "ax.set_ylabel('Radius')\n",
        "ax.set_xlabel('Normalized Path length')\n",
        "plt.scatter(prox_d,prox_r)  # blue\n",
        "plt.scatter(mid_d,mid_r) # orange\n",
        "plt.scatter(dist_d,dist_r) # green"
      ],
      "metadata": {
        "colab": {
          "base_uri": "https://localhost:8080/",
          "height": 312
        },
        "id": "SVUm2ZsCim54",
        "outputId": "eb99371f-923b-4f29-e8c3-fa17dd04a8e8"
      },
      "execution_count": 13,
      "outputs": [
        {
          "output_type": "execute_result",
          "data": {
            "text/plain": [
              "<matplotlib.collections.PathCollection at 0x7fc3573a7c90>"
            ]
          },
          "metadata": {},
          "execution_count": 13
        },
        {
          "output_type": "display_data",
          "data": {
            "text/plain": [
              "<Figure size 432x288 with 1 Axes>"
            ],
            "image/png": "[encoded data removed]"
          },
          "metadata": {
            "needs_background": "light"
          }
        }
      ]
    },
    {
      "cell_type": "markdown",
      "source": [
        "Old Code"
      ],
      "metadata": {
        "id": "BCcuWP3vcdNd"
      }
    },
    {
      "cell_type": "code",
      "execution_count": 14,
      "metadata": {
        "id": "kqqzZUZY29JS"
      },
      "outputs": [],
      "source": [
        "# sum_soma_r=0\n",
        "# sum_soma_x=0\n",
        "# sum_soma_y=0\n",
        "# sum_soma_z=0\n",
        "# sum_basal_r=0\n",
        "# sum_basal_x=0\n",
        "# sum_basal_y=0\n",
        "# sum_basal_z=0\n",
        "# sum_ap_r=0\n",
        "# sum_ap_x=0\n",
        "# sum_ap_y=0\n",
        "# sum_ap_z=0\n",
        "# soma_count=0\n",
        "# ap_count=0\n",
        "# basal_count=0\n",
        "# basal_xd=[]\n",
        "# basal_yd=[]\n",
        "# basal_zd=[]\n",
        "# ap_xd=[]\n",
        "# ap_yd=[]\n",
        "# ap_zd=[]\n",
        "\n",
        "# basal_r=[]\n",
        "# basal_d=[]\n",
        "# ap_r=[]\n",
        "# ap_d=[]\n",
        "\n",
        "\n",
        "# with open('L5Morphology.swc.txt') as f:\n",
        "#     lines=f.read().splitlines()\n",
        "#     for line in lines:\n",
        "#       x=line.split()\n",
        "\n",
        "#       if x[1] == '1':\n",
        "#         sum_soma_r=sum_soma_r+float(x[5])\n",
        "#         sum_soma_x=sum_soma_x+float(x[2])\n",
        "#         sum_soma_y=sum_soma_y+float(x[3])\n",
        "#         sum_soma_z=sum_soma_z+float(x[4])\n",
        "#         soma_count=soma_count+1\n",
        "\n",
        "# soma_avg_r=sum_soma_r/soma_count\n",
        "# soma_x=sum_soma_x/soma_count\n",
        "# soma_y=sum_soma_y/soma_count\n",
        "# soma_z=sum_soma_z/soma_count\n",
        "\n",
        "# with open('L5Morphology.swc.txt') as f:\n",
        "#     lines=f.read().splitlines()\n",
        "#     for line in lines:\n",
        "#       x=line.split()\n",
        "\n",
        "#       if x[1] == '3':\n",
        "#         sum_basal_r=sum_basal_r+float(x[5])\n",
        "#         sum_basal_x=sum_basal_x+float(x[2])\n",
        "#         sum_basal_y=sum_basal_x+float(x[3])\n",
        "#         sum_basal_z=sum_basal_x+float(x[4])\n",
        "#         basal_r.append(float(x[5]))\n",
        "#         basal_seg_d=(((-soma_x+float(x[2]))**2)+((-soma_y+float(x[3]))**2)+((-soma_z+float(x[4]))**2))**0.5\n",
        "#         basal_seg_xd=(-soma_x+float(x[2]))\n",
        "#         basal_seg_yd=(-soma_y+float(x[3]))\n",
        "#         basal_seg_zd=(-soma_x+float(x[4]))\n",
        "\n",
        "#         basal_d.append(basal_seg_d)\n",
        "#         basal_xd.append(basal_seg_xd)\n",
        "#         basal_yd.append(basal_seg_yd)\n",
        "#         basal_zd.append(basal_seg_zd)\n",
        "#         basal_count=basal_count+1\n",
        "\n",
        "#       elif x[1] == '4':\n",
        "#         sum_ap_r=sum_ap_r+float(x[5])\n",
        "#         sum_ap_x=sum_soma_x+float(x[2])\n",
        "#         sum_ap_y=sum_soma_x+float(x[3])\n",
        "#         sum_ap_z=sum_soma_x+float(x[4])\n",
        "#         ap_r.append(float(x[5]))\n",
        "#         ap_seg_d=(((-soma_x+float(x[2]))**2)+((-soma_y+float(x[3]))**2)+((-soma_z+float(x[4]))**2))**0.5\n",
        "#         ap_seg_xd=(-soma_x+float(x[2]))\n",
        "#         ap_seg_yd=(-soma_y+float(x[3]))\n",
        "#         ap_seg_zd=(-soma_x+float(x[4]))\n",
        "#         ap_d.append(ap_seg_d)\n",
        "#         ap_xd.append(ap_seg_xd)\n",
        "#         ap_yd.append(ap_seg_yd)\n",
        "#         ap_zd.append(ap_seg_zd)\n",
        "#         ap_count=ap_count+1\n",
        "\n",
        "# soma_avg_r=sum_soma_r/soma_count\n",
        "# soma_x=sum_soma_x/soma_count\n",
        "# soma_y=sum_soma_y/soma_count\n",
        "# soma_z=sum_soma_z/soma_count\n",
        "\n",
        "# basal_avg_r=sum_basal_r/basal_count\n",
        "# basal_avg_x=sum_basal_x/basal_count\n",
        "# basal_avg_y=sum_basal_y/basal_count\n",
        "# basal_avg_z=sum_basal_z/basal_count\n",
        "\n",
        "# ap_avg_r=sum_ap_r/ap_count\n",
        "# ap_avg_x=sum_ap_x/ap_count\n",
        "# ap_avg_y=sum_ap_y/ap_count\n",
        "# ap_avg_z=sum_ap_z/ap_count\n",
        "\n",
        "\n",
        "\n",
        "# print(soma_avg_r)\n",
        "# # print(basal_avg_r)\n",
        "# # print(ap_avg_r)\n",
        "# # print(ap_r)\n",
        "# # print(basal_d)"
      ]
    },
    {
      "cell_type": "code",
      "execution_count": 15,
      "metadata": {
        "id": "BgEeiSyS3OY1"
      },
      "outputs": [],
      "source": [
        "# import matplotlib.pyplot as plt\n",
        "# %matplotlib inline\n",
        "\n",
        "# plt.scatter(ap_d,ap_r)  # blue\n",
        "# # plt.scatter(ap_xd,ap_r) # orange\n",
        "# # plt.scatter(ap_yd,ap_r) # green\n",
        "# # plt.scatter(ap_zd,ap_r) # red"
      ]
    },
    {
      "cell_type": "code",
      "execution_count": 16,
      "metadata": {
        "id": "hYM5RSvdffZa"
      },
      "outputs": [],
      "source": [
        "# plt.scatter(basal_d,basal_r)  # blue\n",
        "# # plt.scatter(basal_xd,basal_r) # orange\n",
        "# # plt.scatter(basal_yd,basal_r) # green\n",
        "# # plt.scatter(basal_zd,basal_r) # red"
      ]
    },
    {
      "cell_type": "code",
      "execution_count": 17,
      "metadata": {
        "id": "3c3E5UYmZty2"
      },
      "outputs": [],
      "source": [
        "# somaapical_r=[]\n",
        "# proxapical_r=[]\n",
        "# proxtrunk_r=[]\n",
        "# midtrunk_r=[]\n",
        "# disttrunk_r=[]\n",
        "# tuft_r=[]\n",
        "\n",
        "# for i in range(len(ap_d)):\n",
        "#    if ap_d[i] < 50:\n",
        "#      somaapical_r.append(ap_r[i])\n",
        "\n",
        "#    elif ap_d[i] > 225 and ap_d[i] < 400:\n",
        "#      proxtrunk_r.append(ap_r[i])\n",
        "\n",
        "#    elif ap_d[i] > 200 and ap_d[i] < 400:\n",
        "#      proxapical_r.append(ap_r[i])\n",
        "\n",
        "#    elif ap_d[i] > 400 and ap_d[i] < 600:\n",
        "#      midtrunk_r.append(ap_r[i])\n",
        "\n",
        "#    elif ap_d[i] > 600 and ap_d[i] < 800:\n",
        "#      disttrunk_r.append(ap_r[i])\n",
        "\n",
        "#    elif ap_d[i] > 800:\n",
        "#       tuft_r.append(ap_r[i])\n",
        "\n",
        "# basal_r_avg = np.mean(basal_r)\n",
        "# somaapical_r_avg = np.mean(somaapical_r)\n",
        "# proxtrunk_r_avg = np.mean(proxtrunk_r)\n",
        "# proxapical_r_avg = np.mean(proxapical_r)\n",
        "# midtrunk_r_avg = np.mean(midtrunk_r)\n",
        "# disttrunk_r_avg = np.mean(disttrunk_r)\n",
        "# tuft_r_avg = np.mean(tuft_r)\n",
        "\n",
        "# print('basal_r_avg is',basal_r_avg)\n",
        "# print('somaapical_r_avg is',somaapical_r_avg)\n",
        "# print('proxtrunk_r_avg is',proxtrunk_r_avg)\n",
        "# print('proxapical_r_avg is',proxapical_r_avg)\n",
        "# print('midtrunk_r_avg is',midtrunk_r_avg)\n",
        "# print('disttrunk_r_avg is',disttrunk_r_avg)\n",
        "# print('tuft_r_avg is',tuft_r_avg)"
      ]
    },
    {
      "cell_type": "code",
      "execution_count": 18,
      "metadata": {
        "id": "B9m8K1fenybw"
      },
      "outputs": [],
      "source": [
        "# basal_L=200\n",
        "# proxbasal_L=40\n",
        "# midbasal_L=60\n",
        "# distbasal_L=100\n",
        "# proxbasal_d=[]\n",
        "# midbasal_d=[]\n",
        "# distbasal_d=[]\n",
        "# proxbasal_r=[]\n",
        "# midbasal_r=[]\n",
        "# distbasal_r=[]\n",
        "# proxend=(proxbasal_L/basal_L)*max(basal_d)\n",
        "# midend=(((proxbasal_L+midbasal_L)/basal_L)*max(basal_d))\n",
        "\n",
        "# for i in range(len(basal_d)):\n",
        "#    if basal_d[i] < proxend:\n",
        "#      proxbasal_r.append(basal_r[i])\n",
        "#      proxbasal_d.append(basal_d[i])\n",
        "\n",
        "#    elif basal_d[i] > proxend and basal_d[i] < midend:\n",
        "#      midbasal_r.append(basal_r[i])\n",
        "#      midbasal_d.append(basal_d[i])\n",
        "\n",
        "#    elif basal_d[i] > midend:\n",
        "#      distbasal_r.append(basal_r[i])\n",
        "#      distbasal_d.append(basal_d[i])\n",
        "\n",
        "\n",
        "# proxbasal_r_avg = np.mean(proxbasal_r)\n",
        "# midbasal_r_avg = np.mean(midbasal_r)\n",
        "# distbasal_r_avg = np.mean(distbasal_r)\n",
        "# proxbasal_r_med = np.median(proxbasal_r)\n",
        "# midbasal_r_med = np.median(midbasal_r)\n",
        "# distbasal_r_med = np.median(distbasal_r)\n",
        "\n",
        "\n",
        "# print('proxbasal_r_avg is',proxbasal_r_avg)\n",
        "# print('midbasal_r_avg is',midbasal_r_avg)\n",
        "# print('distbasal_r_avg is',distbasal_r_avg)\n",
        "# print('proxbasal_r_med is',proxbasal_r_med)\n",
        "# print('midbasal_r_med is',midbasal_r_med)\n",
        "# print('distbasal_r_med is',distbasal_r_med)\n",
        "# plt.scatter(proxbasal_d,proxbasal_r)  # blue\n",
        "# plt.scatter(midbasal_d,midbasal_r)  # blue\n",
        "# plt.scatter(distbasal_d,distbasal_r) # orange"
      ]
    },
    {
      "cell_type": "markdown",
      "metadata": {
        "id": "8ipIIFNJOwoR"
      },
      "source": [
        "Should I section the radii by when the bars end/begin?"
      ]
    }
  ],
  "metadata": {
    "colab": {
      "collapsed_sections": [],
      "name": "L5 Morphology Calculations.ipynb",
      "provenance": [],
      "authorship_tag": "ABX9TyPcRLGDmRTqPi8u407MzFxD",
      "include_colab_link": true
    },
    "kernelspec": {
      "display_name": "Python 3",
      "name": "python3"
    },
    "language_info": {
      "name": "python"
    }
  },
  "nbformat": 4,
  "nbformat_minor": 0
}