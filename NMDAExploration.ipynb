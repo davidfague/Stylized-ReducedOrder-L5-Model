{
  "cells": [
    {
      "cell_type": "markdown",
      "metadata": {
        "id": "view-in-github",
        "colab_type": "text"
      },
      "source": [
        "<a href=\"https://colab.research.google.com/github/davidfague/Stylized-ReducedOrder-L5-Model/blob/main/NMDAExploration.ipynb\" target=\"_parent\"><img src=\"https://colab.research.google.com/assets/colab-badge.svg\" alt=\"Open In Colab\"/></a>"
      ]
    },
    {
      "cell_type": "code",
      "source": [
        "Detailed=True # Change for whether or not you want to use the detailed or reduced order model"
      ],
      "metadata": {
        "id": "kjthfjOQ8Lqs"
      },
      "execution_count": 1,
      "outputs": []
    },
    {
      "cell_type": "code",
      "source": [
        "github=False # Change between 0 and 1 for whether or not you want to get the model from github or google drive\n",
        "#Github isn't working right now because you need the data on Github, but the data is too large to upload.\n",
        "\n",
        "import shutil\n",
        "if github==True: # If you do not already have the model, comment the above and uncomment below\n",
        "  # shutil.rmtree('Stylized-ReducedOrder-L5-Model/') #removes folder if already cloned\n",
        "  !git clone https://github.com/davidfague/Stylized-ReducedOrder-L5-Model.git\n",
        "  %cd Stylized-ReducedOrder-L5-Model/\n",
        "else: #If you have the folder in your google drive (easier to update geom_parameters)\n",
        "  from google.colab import drive\n",
        "  drive.mount('/content/drive')\n",
        "  %cd /content/drive/MyDrive/Stylized-ReducedOrder-L5-Model/"
      ],
      "metadata": {
        "id": "dDVZmhyv8CgH",
        "outputId": "45c0f149-bc80-41e6-8122-9a87114e6756",
        "colab": {
          "base_uri": "https://localhost:8080/"
        }
      },
      "execution_count": 2,
      "outputs": [
        {
          "output_type": "stream",
          "name": "stdout",
          "text": [
            "Drive already mounted at /content/drive; to attempt to forcibly remount, call drive.mount(\"/content/drive\", force_remount=True).\n",
            "/content/drive/MyDrive/Stylized-ReducedOrder-L5-Model\n"
          ]
        }
      ]
    },
    {
      "cell_type": "code",
      "source": [
        "import pandas as pd\n",
        "import h5py\n",
        "import numpy as np\n",
        "import matplotlib.pyplot as plt\n",
        "import seaborn as sns\n",
        "import scipy.signal as ss\n",
        "# import ZipFile"
      ],
      "metadata": {
        "id": "fCzdVIpt5aS4"
      },
      "execution_count": 3,
      "outputs": []
    },
    {
      "cell_type": "code",
      "source": [
        "if Detailed == True:\n",
        "  output_folder = 'Detailedoutput_control'\n",
        "  segs = pd.read_csv('DetailedSegments.csv')\n",
        "  # ZipFile.extractall(path='Detailedoutput_control', members=None, pwd=None) #possible implementation for unzipping data from github\n",
        "else:\n",
        "  output_folder = 'output_control'\n",
        "  segs = pd.read_csv('L5Segments.csv')\n",
        "\n",
        "conns = pd.read_csv('./{}/Connections.csv'.format(output_folder))"
      ],
      "metadata": {
        "id": "k2SfrlXQ8gLb"
      },
      "execution_count": 4,
      "outputs": []
    },
    {
      "cell_type": "code",
      "source": [
        "# from google.colab import drive\n",
        "# drive.mount('/content/drive')\n",
        "\n",
        "# %cd /content/drive/MyDrive/Stylized-Cell-model/"
      ],
      "metadata": {
        "id": "RjWY8thN5Z9i"
      },
      "execution_count": 5,
      "outputs": []
    },
    {
      "cell_type": "code",
      "source": [
        "\n",
        "# for p in segs[(segs.Type=='dend')].index:\n",
        "#   threshold_crossings = np.diff(v['report']['biophysical']['data'][:,15] > -40, prepend=False)\n",
        "#   upward_crossings = np.argwhere(threshold_crossings)[::2,0]\n",
        "#   print(p)\n",
        "#   if np.mod(np.argwhere(threshold_crossings).reshape(-1,).shape[0],2)!=0:\n",
        "#     legit_up_crossings = upward_crossings[:-1][np.diff(np.argwhere(threshold_crossings).reshape(-1,))[::2]>260]\n",
        "#     print('if')\n",
        "#   else:\n",
        "#     legit_up_crossings = upward_crossings[np.diff(np.argwhere(threshold_crossings).reshape(-1,))[::2]>260]\n",
        "#     print('else')\n",
        "\n",
        "\n",
        "\n",
        "# print(legit_up_crossings)"
      ],
      "metadata": {
        "id": "LtL0LgcVr0QB"
      },
      "execution_count": 6,
      "outputs": []
    },
    {
      "cell_type": "code",
      "execution_count": 7,
      "metadata": {
        "id": "E2Jp8o0E4vac"
      },
      "outputs": [],
      "source": [
        "def voltage_criterion(data=None, v_thresh=-40, time_thresh=260):\n",
        "    threshold_crossings = np.diff(data > v_thresh, prepend=False)\n",
        "    upward_crossings = np.argwhere(threshold_crossings)[::2,0]\n",
        "    downward_crossings = np.argwhere(threshold_crossings)[1::2,0]\n",
        "    #print('volt')\n",
        "    #print(threshold_crossings)\n",
        "    #print(upward_crossings)\n",
        "    #print(downward_crossings)\n",
        "    # If length of threshold_crossings is not even\n",
        "    if np.mod(np.argwhere(threshold_crossings).reshape(-1,).shape[0],2)!=0:\n",
        "        legit_up_crossings = upward_crossings[:-1][np.diff(np.argwhere(threshold_crossings).reshape(-1,))[::2]>time_thresh]\n",
        "        legit_down_crossings = downward_crossings[np.diff(np.argwhere(threshold_crossings).reshape(-1,))[::2]>time_thresh]\n",
        "        #print('if')\n",
        "    else:\n",
        "        legit_up_crossings = upward_crossings[np.diff(np.argwhere(threshold_crossings).reshape(-1,))[::2]>time_thresh]\n",
        "        legit_down_crossings = downward_crossings[np.diff(np.argwhere(threshold_crossings).reshape(-1,))[::2]>time_thresh]\n",
        "        #print('else')\n",
        "    return upward_crossings, legit_up_crossings, legit_down_crossings\n",
        "\n",
        "# Input: upward and downward crossings\n",
        "# Output: bounds of NMDA spikes meeting current criterion\n",
        "def current_criterion(legit_uc_iso=[], legit_dc_iso=[], p=1, control_inmda=np.array([1])):\n",
        "    bounds = []\n",
        "    sum_current = []\n",
        "    \n",
        "\n",
        "    for ind1 in np.arange(0,len(legit_uc_iso)):\n",
        "        e1 = control_inmda[legit_uc_iso[ind1], p] #current @ up_crossing[ind1]\n",
        "        #all the indices where current crosses 130% of e1\n",
        "        x30 = np.argwhere(np.diff(control_inmda[legit_uc_iso[ind1]:legit_dc_iso[ind1], p] < 1.3*e1, prepend=False))\n",
        "        #all the indices where current crosses 115% of e1\n",
        "        x15 = np.argwhere(np.diff(control_inmda[legit_uc_iso[ind1]:legit_dc_iso[ind1], p] < 1.15*e1, prepend=False))\n",
        "        \n",
        "        if len(x30)>0:\n",
        "        \n",
        "            x15_copy = x15\n",
        "            x30_copy = x30\n",
        "            \n",
        "            try:\n",
        "                i = x30[0][0]\n",
        "            except:\n",
        "                import pdb; pdb.set_trace()\n",
        "                \n",
        "            n = 0\n",
        "            \n",
        "            \n",
        "            while n==0:\n",
        "                if len(np.sort(x15[x15>i]))!=0:\n",
        "                    b1 = i\n",
        "                    b2 = np.sort(x15[x15>i])[0]\n",
        "                    bounds.append([legit_uc_iso[ind1]+b1,legit_uc_iso[ind1]+b2])\n",
        "                    sum_current.append(np.sum(control_inmda[legit_uc_iso[ind1]+b1:legit_uc_iso[ind1]+b2,p])/10)\n",
        "                else:\n",
        "                    b1 = i\n",
        "                    b2 = (legit_dc_iso[ind1]-legit_uc_iso[ind1])\n",
        "                    bounds.append([legit_uc_iso[ind1]+b1,legit_uc_iso[ind1]+b2])\n",
        "                    sum_current.append(np.sum(control_inmda[legit_uc_iso[ind1]+b1:legit_uc_iso[ind1]+b2,p])/10)\n",
        "                    n=1\n",
        "                \n",
        "                x30_copy = x30_copy[x30_copy>legit_uc_iso[ind1]+b2]\n",
        "                #import pdb; pdb.set_trace()\n",
        "                \n",
        "                if len(x30_copy)!=0:\n",
        "                    i = x30_copy[x30_copy>b2][0]\n",
        "                else:\n",
        "                    n=1\n",
        "    return bounds, sum_current\n",
        "\n"
      ]
    },
    {
      "cell_type": "code",
      "source": [
        "conns.head()"
      ],
      "metadata": {
        "colab": {
          "base_uri": "https://localhost:8080/",
          "height": 206
        },
        "id": "1lrjxBj8-e4L",
        "outputId": "90a5d309-2103-4b12-c864-2bfa426dbea0"
      },
      "execution_count": 8,
      "outputs": [
        {
          "output_type": "execute_result",
          "data": {
            "text/plain": [
              "   Node ID    Distance  Conductance  Type                                Name  \\\n",
              "0        0   61.505696     0.500607  dend  L5PCtemplate[0].dend[60](0.264706)   \n",
              "1        0  112.522057     0.325079  dend  L5PCtemplate[0].dend[28](0.128571)   \n",
              "2        0   73.494480     0.554728  dend       L5PCtemplate[0].dend[29](0.7)   \n",
              "3        0  101.530468     1.005930  dend  L5PCtemplate[0].dend[33](0.264706)   \n",
              "4        0   65.675576     0.304560  dend  L5PCtemplate[0].dend[48](0.409091)   \n",
              "\n",
              "  Source Population  Release Probability  \n",
              "0          exc_stim                  0.6  \n",
              "1          exc_stim                  0.6  \n",
              "2          exc_stim                  0.6  \n",
              "3          exc_stim                  0.6  \n",
              "4          exc_stim                  0.6  "
            ],
            "text/html": [
              "\n",
              "  <div id=\"df-323f62f2-09d3-4fb1-b6f6-dbbcf371b16f\">\n",
              "    <div class=\"colab-df-container\">\n",
              "      <div>\n",
              "<style scoped>\n",
              "    .dataframe tbody tr th:only-of-type {\n",
              "        vertical-align: middle;\n",
              "    }\n",
              "\n",
              "    .dataframe tbody tr th {\n",
              "        vertical-align: top;\n",
              "    }\n",
              "\n",
              "    .dataframe thead th {\n",
              "        text-align: right;\n",
              "    }\n",
              "</style>\n",
              "<table border=\"1\" class=\"dataframe\">\n",
              "  <thead>\n",
              "    <tr style=\"text-align: right;\">\n",
              "      <th></th>\n",
              "      <th>Node ID</th>\n",
              "      <th>Distance</th>\n",
              "      <th>Conductance</th>\n",
              "      <th>Type</th>\n",
              "      <th>Name</th>\n",
              "      <th>Source Population</th>\n",
              "      <th>Release Probability</th>\n",
              "    </tr>\n",
              "  </thead>\n",
              "  <tbody>\n",
              "    <tr>\n",
              "      <th>0</th>\n",
              "      <td>0</td>\n",
              "      <td>61.505696</td>\n",
              "      <td>0.500607</td>\n",
              "      <td>dend</td>\n",
              "      <td>L5PCtemplate[0].dend[60](0.264706)</td>\n",
              "      <td>exc_stim</td>\n",
              "      <td>0.6</td>\n",
              "    </tr>\n",
              "    <tr>\n",
              "      <th>1</th>\n",
              "      <td>0</td>\n",
              "      <td>112.522057</td>\n",
              "      <td>0.325079</td>\n",
              "      <td>dend</td>\n",
              "      <td>L5PCtemplate[0].dend[28](0.128571)</td>\n",
              "      <td>exc_stim</td>\n",
              "      <td>0.6</td>\n",
              "    </tr>\n",
              "    <tr>\n",
              "      <th>2</th>\n",
              "      <td>0</td>\n",
              "      <td>73.494480</td>\n",
              "      <td>0.554728</td>\n",
              "      <td>dend</td>\n",
              "      <td>L5PCtemplate[0].dend[29](0.7)</td>\n",
              "      <td>exc_stim</td>\n",
              "      <td>0.6</td>\n",
              "    </tr>\n",
              "    <tr>\n",
              "      <th>3</th>\n",
              "      <td>0</td>\n",
              "      <td>101.530468</td>\n",
              "      <td>1.005930</td>\n",
              "      <td>dend</td>\n",
              "      <td>L5PCtemplate[0].dend[33](0.264706)</td>\n",
              "      <td>exc_stim</td>\n",
              "      <td>0.6</td>\n",
              "    </tr>\n",
              "    <tr>\n",
              "      <th>4</th>\n",
              "      <td>0</td>\n",
              "      <td>65.675576</td>\n",
              "      <td>0.304560</td>\n",
              "      <td>dend</td>\n",
              "      <td>L5PCtemplate[0].dend[48](0.409091)</td>\n",
              "      <td>exc_stim</td>\n",
              "      <td>0.6</td>\n",
              "    </tr>\n",
              "  </tbody>\n",
              "</table>\n",
              "</div>\n",
              "      <button class=\"colab-df-convert\" onclick=\"convertToInteractive('df-323f62f2-09d3-4fb1-b6f6-dbbcf371b16f')\"\n",
              "              title=\"Convert this dataframe to an interactive table.\"\n",
              "              style=\"display:none;\">\n",
              "        \n",
              "  <svg xmlns=\"http://www.w3.org/2000/svg\" height=\"24px\"viewBox=\"0 0 24 24\"\n",
              "       width=\"24px\">\n",
              "    <path d=\"M0 0h24v24H0V0z\" fill=\"none\"/>\n",
              "    <path d=\"M18.56 5.44l.94 2.06.94-2.06 2.06-.94-2.06-.94-.94-2.06-.94 2.06-2.06.94zm-11 1L8.5 8.5l.94-2.06 2.06-.94-2.06-.94L8.5 2.5l-.94 2.06-2.06.94zm10 10l.94 2.06.94-2.06 2.06-.94-2.06-.94-.94-2.06-.94 2.06-2.06.94z\"/><path d=\"M17.41 7.96l-1.37-1.37c-.4-.4-.92-.59-1.43-.59-.52 0-1.04.2-1.43.59L10.3 9.45l-7.72 7.72c-.78.78-.78 2.05 0 2.83L4 21.41c.39.39.9.59 1.41.59.51 0 1.02-.2 1.41-.59l7.78-7.78 2.81-2.81c.8-.78.8-2.07 0-2.86zM5.41 20L4 18.59l7.72-7.72 1.47 1.35L5.41 20z\"/>\n",
              "  </svg>\n",
              "      </button>\n",
              "      \n",
              "  <style>\n",
              "    .colab-df-container {\n",
              "      display:flex;\n",
              "      flex-wrap:wrap;\n",
              "      gap: 12px;\n",
              "    }\n",
              "\n",
              "    .colab-df-convert {\n",
              "      background-color: #E8F0FE;\n",
              "      border: none;\n",
              "      border-radius: 50%;\n",
              "      cursor: pointer;\n",
              "      display: none;\n",
              "      fill: #1967D2;\n",
              "      height: 32px;\n",
              "      padding: 0 0 0 0;\n",
              "      width: 32px;\n",
              "    }\n",
              "\n",
              "    .colab-df-convert:hover {\n",
              "      background-color: #E2EBFA;\n",
              "      box-shadow: 0px 1px 2px rgba(60, 64, 67, 0.3), 0px 1px 3px 1px rgba(60, 64, 67, 0.15);\n",
              "      fill: #174EA6;\n",
              "    }\n",
              "\n",
              "    [theme=dark] .colab-df-convert {\n",
              "      background-color: #3B4455;\n",
              "      fill: #D2E3FC;\n",
              "    }\n",
              "\n",
              "    [theme=dark] .colab-df-convert:hover {\n",
              "      background-color: #434B5C;\n",
              "      box-shadow: 0px 1px 3px 1px rgba(0, 0, 0, 0.15);\n",
              "      filter: drop-shadow(0px 1px 2px rgba(0, 0, 0, 0.3));\n",
              "      fill: #FFFFFF;\n",
              "    }\n",
              "  </style>\n",
              "\n",
              "      <script>\n",
              "        const buttonEl =\n",
              "          document.querySelector('#df-323f62f2-09d3-4fb1-b6f6-dbbcf371b16f button.colab-df-convert');\n",
              "        buttonEl.style.display =\n",
              "          google.colab.kernel.accessAllowed ? 'block' : 'none';\n",
              "\n",
              "        async function convertToInteractive(key) {\n",
              "          const element = document.querySelector('#df-323f62f2-09d3-4fb1-b6f6-dbbcf371b16f');\n",
              "          const dataTable =\n",
              "            await google.colab.kernel.invokeFunction('convertToInteractive',\n",
              "                                                     [key], {});\n",
              "          if (!dataTable) return;\n",
              "\n",
              "          const docLinkHtml = 'Like what you see? Visit the ' +\n",
              "            '<a target=\"_blank\" href=https://colab.research.google.com/notebooks/data_table.ipynb>data table notebook</a>'\n",
              "            + ' to learn more about interactive tables.';\n",
              "          element.innerHTML = '';\n",
              "          dataTable['output_type'] = 'display_data';\n",
              "          await google.colab.output.renderOutput(dataTable, element);\n",
              "          const docLink = document.createElement('div');\n",
              "          docLink.innerHTML = docLinkHtml;\n",
              "          element.appendChild(docLink);\n",
              "        }\n",
              "      </script>\n",
              "    </div>\n",
              "  </div>\n",
              "  "
            ]
          },
          "metadata": {},
          "execution_count": 8
        }
      ]
    },
    {
      "cell_type": "code",
      "source": [
        "#print(conns)"
      ],
      "metadata": {
        "id": "aVtXsyt3-mC4"
      },
      "execution_count": 9,
      "outputs": []
    },
    {
      "cell_type": "code",
      "source": [
        "conns.loc[conns.Type=='dend','Sec ID'] = conns.loc[conns.Type=='dend','Name'].apply(lambda x: int(x.split('dend[')[1].split(']')[0]))"
      ],
      "metadata": {
        "id": "YBYCzx-D52YK"
      },
      "execution_count": 10,
      "outputs": []
    },
    {
      "cell_type": "code",
      "execution_count": 11,
      "metadata": {
        "id": "xsVHZyAX4vaf"
      },
      "outputs": [],
      "source": [
        "conns.loc[conns.Type=='dend','Sec ID'] = conns.loc[conns.Type=='dend','Name'].apply(lambda x: int(x.split('dend[')[1].split(']')[0]))\n",
        "conns.loc[conns.Type=='apic','Sec ID'] = conns.loc[conns.Type=='apic','Name'].apply(lambda x: int(x.split('apic[')[1].split(']')[0]))\n",
        "conns.loc[conns.Type=='soma','Sec ID'] = conns.loc[conns.Type=='soma','Name'].apply(lambda x: int(x.split('soma[')[1].split(']')[0]))\n",
        "conns.loc[conns.Type=='axon','Sec ID'] = conns.loc[conns.Type=='axon','Name'].apply(lambda x: int(x.split('axon[')[1].split(']')[0]))\n",
        "\n",
        "conns['X'] = conns['Name'].apply(lambda x: float(x.split('(')[1].split(')')[0]))\n",
        "\n",
        "conns.rename(columns={'Distance':'conns_Distance'},inplace=True)\n",
        "\n",
        "conns['Sec ID'] = conns['Sec ID'].astype(int)\n",
        "conns['X'] = conns['X'].astype(float)"
      ]
    },
    {
      "cell_type": "code",
      "execution_count": 12,
      "metadata": {
        "id": "zzrizQpj4vaf",
        "colab": {
          "base_uri": "https://localhost:8080/",
          "height": 206
        },
        "outputId": "133d7c0e-2639-4db5-b806-3aaaf9969295"
      },
      "outputs": [
        {
          "output_type": "execute_result",
          "data": {
            "text/plain": [
              "   Node ID  conns_Distance  Conductance  Type  \\\n",
              "0        0       61.505696     0.500607  dend   \n",
              "1        0      112.522057     0.325079  dend   \n",
              "2        0       73.494480     0.554728  dend   \n",
              "3        0      101.530468     1.005930  dend   \n",
              "4        0       65.675576     0.304560  dend   \n",
              "\n",
              "                                 Name Source Population  Release Probability  \\\n",
              "0  L5PCtemplate[0].dend[60](0.264706)          exc_stim                  0.6   \n",
              "1  L5PCtemplate[0].dend[28](0.128571)          exc_stim                  0.6   \n",
              "2       L5PCtemplate[0].dend[29](0.7)          exc_stim                  0.6   \n",
              "3  L5PCtemplate[0].dend[33](0.264706)          exc_stim                  0.6   \n",
              "4  L5PCtemplate[0].dend[48](0.409091)          exc_stim                  0.6   \n",
              "\n",
              "   Sec ID         X  \n",
              "0      60  0.264706  \n",
              "1      28  0.128571  \n",
              "2      29  0.700000  \n",
              "3      33  0.264706  \n",
              "4      48  0.409091  "
            ],
            "text/html": [
              "\n",
              "  <div id=\"df-fc2fa03f-af1e-46ed-b6c2-9a4ac8b71c96\">\n",
              "    <div class=\"colab-df-container\">\n",
              "      <div>\n",
              "<style scoped>\n",
              "    .dataframe tbody tr th:only-of-type {\n",
              "        vertical-align: middle;\n",
              "    }\n",
              "\n",
              "    .dataframe tbody tr th {\n",
              "        vertical-align: top;\n",
              "    }\n",
              "\n",
              "    .dataframe thead th {\n",
              "        text-align: right;\n",
              "    }\n",
              "</style>\n",
              "<table border=\"1\" class=\"dataframe\">\n",
              "  <thead>\n",
              "    <tr style=\"text-align: right;\">\n",
              "      <th></th>\n",
              "      <th>Node ID</th>\n",
              "      <th>conns_Distance</th>\n",
              "      <th>Conductance</th>\n",
              "      <th>Type</th>\n",
              "      <th>Name</th>\n",
              "      <th>Source Population</th>\n",
              "      <th>Release Probability</th>\n",
              "      <th>Sec ID</th>\n",
              "      <th>X</th>\n",
              "    </tr>\n",
              "  </thead>\n",
              "  <tbody>\n",
              "    <tr>\n",
              "      <th>0</th>\n",
              "      <td>0</td>\n",
              "      <td>61.505696</td>\n",
              "      <td>0.500607</td>\n",
              "      <td>dend</td>\n",
              "      <td>L5PCtemplate[0].dend[60](0.264706)</td>\n",
              "      <td>exc_stim</td>\n",
              "      <td>0.6</td>\n",
              "      <td>60</td>\n",
              "      <td>0.264706</td>\n",
              "    </tr>\n",
              "    <tr>\n",
              "      <th>1</th>\n",
              "      <td>0</td>\n",
              "      <td>112.522057</td>\n",
              "      <td>0.325079</td>\n",
              "      <td>dend</td>\n",
              "      <td>L5PCtemplate[0].dend[28](0.128571)</td>\n",
              "      <td>exc_stim</td>\n",
              "      <td>0.6</td>\n",
              "      <td>28</td>\n",
              "      <td>0.128571</td>\n",
              "    </tr>\n",
              "    <tr>\n",
              "      <th>2</th>\n",
              "      <td>0</td>\n",
              "      <td>73.494480</td>\n",
              "      <td>0.554728</td>\n",
              "      <td>dend</td>\n",
              "      <td>L5PCtemplate[0].dend[29](0.7)</td>\n",
              "      <td>exc_stim</td>\n",
              "      <td>0.6</td>\n",
              "      <td>29</td>\n",
              "      <td>0.700000</td>\n",
              "    </tr>\n",
              "    <tr>\n",
              "      <th>3</th>\n",
              "      <td>0</td>\n",
              "      <td>101.530468</td>\n",
              "      <td>1.005930</td>\n",
              "      <td>dend</td>\n",
              "      <td>L5PCtemplate[0].dend[33](0.264706)</td>\n",
              "      <td>exc_stim</td>\n",
              "      <td>0.6</td>\n",
              "      <td>33</td>\n",
              "      <td>0.264706</td>\n",
              "    </tr>\n",
              "    <tr>\n",
              "      <th>4</th>\n",
              "      <td>0</td>\n",
              "      <td>65.675576</td>\n",
              "      <td>0.304560</td>\n",
              "      <td>dend</td>\n",
              "      <td>L5PCtemplate[0].dend[48](0.409091)</td>\n",
              "      <td>exc_stim</td>\n",
              "      <td>0.6</td>\n",
              "      <td>48</td>\n",
              "      <td>0.409091</td>\n",
              "    </tr>\n",
              "  </tbody>\n",
              "</table>\n",
              "</div>\n",
              "      <button class=\"colab-df-convert\" onclick=\"convertToInteractive('df-fc2fa03f-af1e-46ed-b6c2-9a4ac8b71c96')\"\n",
              "              title=\"Convert this dataframe to an interactive table.\"\n",
              "              style=\"display:none;\">\n",
              "        \n",
              "  <svg xmlns=\"http://www.w3.org/2000/svg\" height=\"24px\"viewBox=\"0 0 24 24\"\n",
              "       width=\"24px\">\n",
              "    <path d=\"M0 0h24v24H0V0z\" fill=\"none\"/>\n",
              "    <path d=\"M18.56 5.44l.94 2.06.94-2.06 2.06-.94-2.06-.94-.94-2.06-.94 2.06-2.06.94zm-11 1L8.5 8.5l.94-2.06 2.06-.94-2.06-.94L8.5 2.5l-.94 2.06-2.06.94zm10 10l.94 2.06.94-2.06 2.06-.94-2.06-.94-.94-2.06-.94 2.06-2.06.94z\"/><path d=\"M17.41 7.96l-1.37-1.37c-.4-.4-.92-.59-1.43-.59-.52 0-1.04.2-1.43.59L10.3 9.45l-7.72 7.72c-.78.78-.78 2.05 0 2.83L4 21.41c.39.39.9.59 1.41.59.51 0 1.02-.2 1.41-.59l7.78-7.78 2.81-2.81c.8-.78.8-2.07 0-2.86zM5.41 20L4 18.59l7.72-7.72 1.47 1.35L5.41 20z\"/>\n",
              "  </svg>\n",
              "      </button>\n",
              "      \n",
              "  <style>\n",
              "    .colab-df-container {\n",
              "      display:flex;\n",
              "      flex-wrap:wrap;\n",
              "      gap: 12px;\n",
              "    }\n",
              "\n",
              "    .colab-df-convert {\n",
              "      background-color: #E8F0FE;\n",
              "      border: none;\n",
              "      border-radius: 50%;\n",
              "      cursor: pointer;\n",
              "      display: none;\n",
              "      fill: #1967D2;\n",
              "      height: 32px;\n",
              "      padding: 0 0 0 0;\n",
              "      width: 32px;\n",
              "    }\n",
              "\n",
              "    .colab-df-convert:hover {\n",
              "      background-color: #E2EBFA;\n",
              "      box-shadow: 0px 1px 2px rgba(60, 64, 67, 0.3), 0px 1px 3px 1px rgba(60, 64, 67, 0.15);\n",
              "      fill: #174EA6;\n",
              "    }\n",
              "\n",
              "    [theme=dark] .colab-df-convert {\n",
              "      background-color: #3B4455;\n",
              "      fill: #D2E3FC;\n",
              "    }\n",
              "\n",
              "    [theme=dark] .colab-df-convert:hover {\n",
              "      background-color: #434B5C;\n",
              "      box-shadow: 0px 1px 3px 1px rgba(0, 0, 0, 0.15);\n",
              "      filter: drop-shadow(0px 1px 2px rgba(0, 0, 0, 0.3));\n",
              "      fill: #FFFFFF;\n",
              "    }\n",
              "  </style>\n",
              "\n",
              "      <script>\n",
              "        const buttonEl =\n",
              "          document.querySelector('#df-fc2fa03f-af1e-46ed-b6c2-9a4ac8b71c96 button.colab-df-convert');\n",
              "        buttonEl.style.display =\n",
              "          google.colab.kernel.accessAllowed ? 'block' : 'none';\n",
              "\n",
              "        async function convertToInteractive(key) {\n",
              "          const element = document.querySelector('#df-fc2fa03f-af1e-46ed-b6c2-9a4ac8b71c96');\n",
              "          const dataTable =\n",
              "            await google.colab.kernel.invokeFunction('convertToInteractive',\n",
              "                                                     [key], {});\n",
              "          if (!dataTable) return;\n",
              "\n",
              "          const docLinkHtml = 'Like what you see? Visit the ' +\n",
              "            '<a target=\"_blank\" href=https://colab.research.google.com/notebooks/data_table.ipynb>data table notebook</a>'\n",
              "            + ' to learn more about interactive tables.';\n",
              "          element.innerHTML = '';\n",
              "          dataTable['output_type'] = 'display_data';\n",
              "          await google.colab.output.renderOutput(dataTable, element);\n",
              "          const docLink = document.createElement('div');\n",
              "          docLink.innerHTML = docLinkHtml;\n",
              "          element.appendChild(docLink);\n",
              "        }\n",
              "      </script>\n",
              "    </div>\n",
              "  </div>\n",
              "  "
            ]
          },
          "metadata": {},
          "execution_count": 12
        }
      ],
      "source": [
        "conns.head()"
      ]
    },
    {
      "cell_type": "code",
      "execution_count": 13,
      "metadata": {
        "id": "0BpOPokH4vag",
        "outputId": "5a030a8d-f7a5-473f-e0ca-4bb5c783495a",
        "colab": {
          "base_uri": "https://localhost:8080/"
        }
      },
      "outputs": [
        {
          "output_type": "stream",
          "name": "stdout",
          "text": [
            "      SEG ID  BMTK ID     Seg_L   Seg_diam         X  Type  Sec ID  \\\n",
            "0          0        0  4.633872   9.290377  0.100000  soma       0   \n",
            "1          1        0  4.633872  15.657015  0.300000  soma       0   \n",
            "2          2        0  4.633872  17.526643  0.500000  soma       0   \n",
            "3          3        0  4.633872  15.446328  0.700000  soma       0   \n",
            "4          4        0  4.633872   9.437299  0.900000  soma       0   \n",
            "...      ...      ...       ...        ...       ...   ...     ...   \n",
            "2404    2404      186  5.141691   0.580000  0.596774  apic     101   \n",
            "2405    2405      186  5.141691   0.580000  0.629032  apic     101   \n",
            "2406    2406      186  5.141691   0.580000  0.661290  apic     101   \n",
            "2407    2407      186  5.141691   0.580000  0.693548  apic     101   \n",
            "2408    2408      186  5.141691   0.580000  0.725806  apic     101   \n",
            "\n",
            "        Distance   Section_L  Section_diam  Section_nseg  Section_Ra  \\\n",
            "0       2.316936   23.169362     17.526643             5       100.0   \n",
            "1       6.950809   23.169362     17.526643             5       100.0   \n",
            "2      11.584681   23.169362     17.526643             5       100.0   \n",
            "3      16.218553   23.169362     17.526643             5       100.0   \n",
            "4      20.852426   23.169362     17.526643             5       100.0   \n",
            "...          ...         ...           ...           ...         ...   \n",
            "2404  256.122595  159.392406      0.580000            31       100.0   \n",
            "2405  261.264286  159.392406      0.580000            31       100.0   \n",
            "2406  266.405976  159.392406      0.580000            31       100.0   \n",
            "2407  271.547667  159.392406      0.580000            31       100.0   \n",
            "2408  276.689357  159.392406      0.580000            31       100.0   \n",
            "\n",
            "        Coord X     Coord Y   Coord Z  ParentSegID  Elec_distance  \n",
            "0     -9.249733   -0.577674  0.000000          NaN       0.998333  \n",
            "1     -4.624868   -0.288877  0.000000          0.0       0.999377  \n",
            "2     -0.000010    0.000021  0.000000          1.0       1.000000  \n",
            "3      4.624854    0.288824  0.000000          2.0       0.999389  \n",
            "4      9.249712    0.577722  0.000000          3.0       0.998310  \n",
            "...         ...         ...       ...          ...            ...  \n",
            "2404  79.406926  125.864749  2.271735       2403.0       0.060411  \n",
            "2405  81.959752  127.545003  5.497683       2404.0       0.055856  \n",
            "2406  86.201817  128.704626  7.901297       2405.0       0.051930  \n",
            "2407  90.498846  130.853376  8.411026       2406.0       0.048511  \n",
            "2408  94.233765  132.431051  6.118383       2407.0       0.045500  \n",
            "\n",
            "[2409 rows x 17 columns]\n"
          ]
        }
      ],
      "source": [
        "# segs_degrees = pd.read_csv('SegmentsDegrees.csv').groupby(['Sec ID','Type'])['Degrees'].max().reset_index()\n",
        "print(segs)\n",
        "# print(segs_degrees)\n",
        "segs.head()\n",
        "segs['segmentID'] = segs.index\n",
        "# print(segs['segmentID'])\n",
        "# segIDs=segs['segmentID']\n",
        "# print(segIDs)\n",
        "# segs = segs.set_index(['Type','Sec ID']).join(segs_degrees.set_index(['Type','Sec ID'])).reset_index()\n",
        "segs['Sec ID'] = segs['Sec ID'].astype(int)\n",
        "segs['X'] = segs['X'].astype(float)\n",
        "segs['Elec_distanceQ'] = 'None'\n",
        "# segIDs=segs['segmentID']\n",
        "try:\n",
        "  segs.loc[segs.Type=='dend','Elec_distanceQ'] = pd.qcut(segs.loc[segs.Type=='dend','Elec_distance'], 10, labels=False, duplicates = 'drop')\n",
        "  segs.loc[segs.Type=='apic','Elec_distanceQ'] = pd.qcut(segs.loc[segs.Type=='apic','Elec_distance'], 10, labels=False, duplicates = 'drop')\n",
        "except:\n",
        "  print('Elec_distance missing')"
      ]
    },
    {
      "cell_type": "code",
      "execution_count": 14,
      "metadata": {
        "id": "ObhvUlAb4vag"
      },
      "outputs": [],
      "source": [
        "exc_syns_per_seg = conns[conns['Source Population']=='exc_stim'].groupby(['Type','Sec ID','X'])['Conductance'].count().reset_index().rename(columns={'Conductance':'num_syns'})\n",
        "\n",
        "\n"
      ]
    },
    {
      "cell_type": "code",
      "execution_count": 15,
      "metadata": {
        "id": "2Few52k-4vag",
        "colab": {
          "base_uri": "https://localhost:8080/",
          "height": 206
        },
        "outputId": "91d36d88-f96f-4fdd-927a-91bd23ce4b46"
      },
      "outputs": [
        {
          "output_type": "execute_result",
          "data": {
            "text/plain": [
              "   Type  Sec ID         X  num_syns\n",
              "0  apic       0  0.055556        10\n",
              "1  apic       0  0.166667         5\n",
              "2  apic       0  0.277778        17\n",
              "3  apic       0  0.388889         4\n",
              "4  apic       0  0.500000         3"
            ],
            "text/html": [
              "\n",
              "  <div id=\"df-9b10f89d-67de-4f46-806a-b627ba496d74\">\n",
              "    <div class=\"colab-df-container\">\n",
              "      <div>\n",
              "<style scoped>\n",
              "    .dataframe tbody tr th:only-of-type {\n",
              "        vertical-align: middle;\n",
              "    }\n",
              "\n",
              "    .dataframe tbody tr th {\n",
              "        vertical-align: top;\n",
              "    }\n",
              "\n",
              "    .dataframe thead th {\n",
              "        text-align: right;\n",
              "    }\n",
              "</style>\n",
              "<table border=\"1\" class=\"dataframe\">\n",
              "  <thead>\n",
              "    <tr style=\"text-align: right;\">\n",
              "      <th></th>\n",
              "      <th>Type</th>\n",
              "      <th>Sec ID</th>\n",
              "      <th>X</th>\n",
              "      <th>num_syns</th>\n",
              "    </tr>\n",
              "  </thead>\n",
              "  <tbody>\n",
              "    <tr>\n",
              "      <th>0</th>\n",
              "      <td>apic</td>\n",
              "      <td>0</td>\n",
              "      <td>0.055556</td>\n",
              "      <td>10</td>\n",
              "    </tr>\n",
              "    <tr>\n",
              "      <th>1</th>\n",
              "      <td>apic</td>\n",
              "      <td>0</td>\n",
              "      <td>0.166667</td>\n",
              "      <td>5</td>\n",
              "    </tr>\n",
              "    <tr>\n",
              "      <th>2</th>\n",
              "      <td>apic</td>\n",
              "      <td>0</td>\n",
              "      <td>0.277778</td>\n",
              "      <td>17</td>\n",
              "    </tr>\n",
              "    <tr>\n",
              "      <th>3</th>\n",
              "      <td>apic</td>\n",
              "      <td>0</td>\n",
              "      <td>0.388889</td>\n",
              "      <td>4</td>\n",
              "    </tr>\n",
              "    <tr>\n",
              "      <th>4</th>\n",
              "      <td>apic</td>\n",
              "      <td>0</td>\n",
              "      <td>0.500000</td>\n",
              "      <td>3</td>\n",
              "    </tr>\n",
              "  </tbody>\n",
              "</table>\n",
              "</div>\n",
              "      <button class=\"colab-df-convert\" onclick=\"convertToInteractive('df-9b10f89d-67de-4f46-806a-b627ba496d74')\"\n",
              "              title=\"Convert this dataframe to an interactive table.\"\n",
              "              style=\"display:none;\">\n",
              "        \n",
              "  <svg xmlns=\"http://www.w3.org/2000/svg\" height=\"24px\"viewBox=\"0 0 24 24\"\n",
              "       width=\"24px\">\n",
              "    <path d=\"M0 0h24v24H0V0z\" fill=\"none\"/>\n",
              "    <path d=\"M18.56 5.44l.94 2.06.94-2.06 2.06-.94-2.06-.94-.94-2.06-.94 2.06-2.06.94zm-11 1L8.5 8.5l.94-2.06 2.06-.94-2.06-.94L8.5 2.5l-.94 2.06-2.06.94zm10 10l.94 2.06.94-2.06 2.06-.94-2.06-.94-.94-2.06-.94 2.06-2.06.94z\"/><path d=\"M17.41 7.96l-1.37-1.37c-.4-.4-.92-.59-1.43-.59-.52 0-1.04.2-1.43.59L10.3 9.45l-7.72 7.72c-.78.78-.78 2.05 0 2.83L4 21.41c.39.39.9.59 1.41.59.51 0 1.02-.2 1.41-.59l7.78-7.78 2.81-2.81c.8-.78.8-2.07 0-2.86zM5.41 20L4 18.59l7.72-7.72 1.47 1.35L5.41 20z\"/>\n",
              "  </svg>\n",
              "      </button>\n",
              "      \n",
              "  <style>\n",
              "    .colab-df-container {\n",
              "      display:flex;\n",
              "      flex-wrap:wrap;\n",
              "      gap: 12px;\n",
              "    }\n",
              "\n",
              "    .colab-df-convert {\n",
              "      background-color: #E8F0FE;\n",
              "      border: none;\n",
              "      border-radius: 50%;\n",
              "      cursor: pointer;\n",
              "      display: none;\n",
              "      fill: #1967D2;\n",
              "      height: 32px;\n",
              "      padding: 0 0 0 0;\n",
              "      width: 32px;\n",
              "    }\n",
              "\n",
              "    .colab-df-convert:hover {\n",
              "      background-color: #E2EBFA;\n",
              "      box-shadow: 0px 1px 2px rgba(60, 64, 67, 0.3), 0px 1px 3px 1px rgba(60, 64, 67, 0.15);\n",
              "      fill: #174EA6;\n",
              "    }\n",
              "\n",
              "    [theme=dark] .colab-df-convert {\n",
              "      background-color: #3B4455;\n",
              "      fill: #D2E3FC;\n",
              "    }\n",
              "\n",
              "    [theme=dark] .colab-df-convert:hover {\n",
              "      background-color: #434B5C;\n",
              "      box-shadow: 0px 1px 3px 1px rgba(0, 0, 0, 0.15);\n",
              "      filter: drop-shadow(0px 1px 2px rgba(0, 0, 0, 0.3));\n",
              "      fill: #FFFFFF;\n",
              "    }\n",
              "  </style>\n",
              "\n",
              "      <script>\n",
              "        const buttonEl =\n",
              "          document.querySelector('#df-9b10f89d-67de-4f46-806a-b627ba496d74 button.colab-df-convert');\n",
              "        buttonEl.style.display =\n",
              "          google.colab.kernel.accessAllowed ? 'block' : 'none';\n",
              "\n",
              "        async function convertToInteractive(key) {\n",
              "          const element = document.querySelector('#df-9b10f89d-67de-4f46-806a-b627ba496d74');\n",
              "          const dataTable =\n",
              "            await google.colab.kernel.invokeFunction('convertToInteractive',\n",
              "                                                     [key], {});\n",
              "          if (!dataTable) return;\n",
              "\n",
              "          const docLinkHtml = 'Like what you see? Visit the ' +\n",
              "            '<a target=\"_blank\" href=https://colab.research.google.com/notebooks/data_table.ipynb>data table notebook</a>'\n",
              "            + ' to learn more about interactive tables.';\n",
              "          element.innerHTML = '';\n",
              "          dataTable['output_type'] = 'display_data';\n",
              "          await google.colab.output.renderOutput(dataTable, element);\n",
              "          const docLink = document.createElement('div');\n",
              "          docLink.innerHTML = docLinkHtml;\n",
              "          element.appendChild(docLink);\n",
              "        }\n",
              "      </script>\n",
              "    </div>\n",
              "  </div>\n",
              "  "
            ]
          },
          "metadata": {},
          "execution_count": 15
        }
      ],
      "source": [
        "exc_syns_per_seg.head()"
      ]
    },
    {
      "cell_type": "code",
      "execution_count": 16,
      "metadata": {
        "id": "GqAaIDem4vah"
      },
      "outputs": [],
      "source": [
        "segs['segmentID'] = segs.groupby(['Type','Sec ID']).cumcount()+1"
      ]
    },
    {
      "cell_type": "code",
      "execution_count": 17,
      "metadata": {
        "id": "X-FQZkN64vah"
      },
      "outputs": [],
      "source": [
        "exc_syns_per_seg['segmentID'] = exc_syns_per_seg.groupby(['Type','Sec ID']).cumcount()+1"
      ]
    },
    {
      "cell_type": "code",
      "execution_count": 18,
      "metadata": {
        "id": "YFfgDwZL4vah"
      },
      "outputs": [],
      "source": [
        "exc_syns = segs.set_index(['Type','Sec ID','segmentID']).join(exc_syns_per_seg[['Type','Sec ID','segmentID','num_syns']].set_index(['Type','Sec ID','segmentID'])).reset_index()\n"
      ]
    },
    {
      "cell_type": "code",
      "execution_count": 19,
      "metadata": {
        "id": "bhpJr1up4vai"
      },
      "outputs": [],
      "source": [
        "v = h5py.File('./{}/v_report.h5'.format(output_folder),'r')\n",
        "hva = h5py.File('./{}/Ca_HVA.ica_report.h5'.format(output_folder),'r')\n",
        "lva = h5py.File('./{}/Ca_LVAst.ica_report.h5'.format(output_folder),'r')\n",
        "ih = h5py.File('./{}/Ih.ihcn_report.h5'.format(output_folder),'r')\n",
        "\n",
        "nmda = h5py.File('./{}/inmda_report.h5'.format(output_folder),'r')\n",
        "\n",
        "na = h5py.File('./{}/NaTa_t.gNaTa_t_report.h5'.format(output_folder),'r')\n",
        "spks = h5py.File('./{}/spikes.h5'.format(output_folder),'r')\n",
        "\n",
        "\n",
        "#v['report']['biophysical']['data'][:]"
      ]
    },
    {
      "cell_type": "code",
      "source": [
        "v['report']['biophysical']['data'][:-100,1]"
      ],
      "metadata": {
        "colab": {
          "base_uri": "https://localhost:8080/"
        },
        "id": "oi6foHBCt_wQ",
        "outputId": "b892c73f-a1fd-4f64-dc4e-4015c7a5ca6a"
      },
      "execution_count": 20,
      "outputs": [
        {
          "output_type": "execute_result",
          "data": {
            "text/plain": [
              "array([-80.00650007, -80.01106238, -79.8164152 , ..., -66.66345765,\n",
              "       -66.77398003, -66.82112798])"
            ]
          },
          "metadata": {},
          "execution_count": 20
        }
      ]
    },
    {
      "cell_type": "code",
      "source": [
        "v_thresh = -40\n",
        "np.diff(v['report']['biophysical']['data'][:-10000,1]> v_thresh, prepend=False)"
      ],
      "metadata": {
        "colab": {
          "base_uri": "https://localhost:8080/"
        },
        "id": "CxkFxWNLtXA1",
        "outputId": "af04c81e-d68b-4e98-975a-fe2cbeb0daa9"
      },
      "execution_count": 21,
      "outputs": [
        {
          "output_type": "execute_result",
          "data": {
            "text/plain": [
              "array([], dtype=bool)"
            ]
          },
          "metadata": {},
          "execution_count": 21
        }
      ]
    },
    {
      "cell_type": "code",
      "execution_count": 22,
      "metadata": {
        "id": "JrQxbXCr4vai"
      },
      "outputs": [],
      "source": [
        "spktimes = spks['spikes']['biophysical']['timestamps'][:]\n",
        "spkinds = np.sort((spktimes*10).astype(int))"
      ]
    },
    {
      "cell_type": "code",
      "execution_count": 23,
      "metadata": {
        "id": "7EMfd8Hw4vai"
      },
      "outputs": [],
      "source": [
        "na_df = pd.DataFrame(columns=['segmentID','na_lower_bound'])\n",
        "\n",
        "for p in segs[(segs.Type=='dend')|(segs.Type=='apic')].index:\n",
        "    #print(p)\n",
        "    threshold_crossings = np.diff(na['report']['biophysical']['data'][:,p] > (0.003/1000), prepend=False)\n",
        "    upward_crossings = np.argwhere(threshold_crossings)[::2,0]\n",
        "    downward_crossings = np.argwhere(threshold_crossings)[1::2,0]\n",
        "    # Only count if not within 2 ms after a somatic spike\n",
        "    na_spks = [i for i in upward_crossings if ~np.any((i-spkinds>=-5) & (i-spkinds<50))]\n",
        "    \n",
        "    if len(na_spks)>0:\n",
        "        na_df = na_df.append(pd.DataFrame({'segmentID':np.tile(p,len(na_spks)),\n",
        "                                               'na_lower_bound':na_spks}))\n",
        "    else:\n",
        "        na_df = na_df.append(pd.DataFrame({'segmentID':p,\n",
        "                                               'na_lower_bound':np.array([np.nan])}))"
      ]
    },
    {
      "cell_type": "code",
      "execution_count": 24,
      "metadata": {
        "id": "P_AErLdR4vai",
        "colab": {
          "base_uri": "https://localhost:8080/"
        },
        "outputId": "59db1fc4-082e-45fd-d5e1-fe9d958ddbe3"
      },
      "outputs": [
        {
          "output_type": "execute_result",
          "data": {
            "text/plain": [
              "RangeIndex(start=0, stop=89015, step=1)"
            ]
          },
          "metadata": {},
          "execution_count": 24
        }
      ],
      "source": [
        "na_df.to_csv('na_df.csv')\n",
        "na_df = pd.read_csv('na_df.csv')\n",
        "\n",
        "\n",
        "na_df.index"
      ]
    },
    {
      "cell_type": "code",
      "source": [
        "\n",
        "#display(na_df.to_string())"
      ],
      "metadata": {
        "id": "pSnsZWvzUIlx"
      },
      "execution_count": 25,
      "outputs": []
    },
    {
      "cell_type": "code",
      "execution_count": 26,
      "metadata": {
        "id": "b7lOX8Uq4vai"
      },
      "outputs": [],
      "source": [
        "\n",
        "for i in np.random.choice(na_df[(na_df.na_lower_bound>20) & (na_df.na_lower_bound<1400000)].index,1000):\n",
        "    seg = na_df.loc[i,'segmentID']\n",
        "    if not pd.isnull(na_df.loc[i,'na_lower_bound']):\n",
        "        spkt = int(na_df.loc[i,'na_lower_bound'])\n",
        "        trace = na['report']['biophysical']['data'][spkt-10:spkt+10,seg]\n",
        "        peak_value = np.max(trace)\n",
        "        half_peak = peak_value/2\n",
        "        # import pdb; pdb.set_trace()\n",
        "        # duration = np.arange(0,20)[trace>half_peak] + spkt - 10 #gave occasional error\n",
        "        duration = np.arange(0,len(trace))[trace>half_peak] + spkt - 10\n",
        "        na_df.loc[i,'duration_low'] = duration[0]\n",
        "        na_df.loc[i,'duration_high'] = duration[-1]\n",
        "        na_df.loc[i,'peak_value'] = peak_value\n",
        "    else:\n",
        "        na_df.loc[i,'duration_low'] = np.nan\n",
        "        na_df.loc[i,'duration_high'] = np.nan\n",
        "        na_df.loc[i,'peak_value'] = np.nan"
      ]
    },
    {
      "cell_type": "code",
      "execution_count": 27,
      "metadata": {
        "id": "BI9Bf8hl4vai"
      },
      "outputs": [],
      "source": [
        "na_df['duration'] = (na_df['duration_high'] - na_df['duration_low'] + 1)/10"
      ]
    },
    {
      "cell_type": "code",
      "execution_count": 28,
      "metadata": {
        "id": "FnJPbRFl4vaj",
        "outputId": "fd054290-928c-47e6-f8a9-6f20d3be0925",
        "colab": {
          "base_uri": "https://localhost:8080/"
        }
      },
      "outputs": [
        {
          "output_type": "execute_result",
          "data": {
            "text/plain": [
              "<bound method NDFrame.head of        Unnamed: 0  segmentID  na_lower_bound  duration_low  duration_high  \\\n",
              "0               0          5              66          72.0           74.0   \n",
              "1               1          5             654           NaN            NaN   \n",
              "2               2          5            4532           NaN            NaN   \n",
              "3               3          5            5852           NaN            NaN   \n",
              "4               4          5            6111           NaN            NaN   \n",
              "...           ...        ...             ...           ...            ...   \n",
              "89010          43       2408            9596           NaN            NaN   \n",
              "89011          44       2408            9644           NaN            NaN   \n",
              "89012          45       2408            9900           NaN            NaN   \n",
              "89013          46       2408            9935           NaN            NaN   \n",
              "89014          47       2408            9973           NaN            NaN   \n",
              "\n",
              "       peak_value  duration  \n",
              "0        0.014188       0.3  \n",
              "1             NaN       NaN  \n",
              "2             NaN       NaN  \n",
              "3             NaN       NaN  \n",
              "4             NaN       NaN  \n",
              "...           ...       ...  \n",
              "89010         NaN       NaN  \n",
              "89011         NaN       NaN  \n",
              "89012         NaN       NaN  \n",
              "89013         NaN       NaN  \n",
              "89014         NaN       NaN  \n",
              "\n",
              "[89015 rows x 7 columns]>"
            ]
          },
          "metadata": {},
          "execution_count": 28
        }
      ],
      "source": [
        "segs_na_df = segs.join(na_df.set_index('segmentID')).reset_index()\n",
        "# display(segs_na_df.Type.to_string())\n",
        "# display(segs_na_df.Elec_distance.to_string())\n",
        "\n",
        "\n",
        "na_df.head\n",
        "\n",
        "\n",
        "\n",
        "#segs_na_df[(~pd.isnull(segs_na_df.na_lower_bound))&(segs_na_df.Type=='apic')]"
      ]
    },
    {
      "cell_type": "code",
      "source": [
        "segs_na_df[~pd.isnull(segs_na_df.duration_high)]"
      ],
      "metadata": {
        "colab": {
          "base_uri": "https://localhost:8080/",
          "height": 505
        },
        "id": "U0qFgwXccjKf",
        "outputId": "6c995058-7759-40c5-86b0-33e68e633337"
      },
      "execution_count": 29,
      "outputs": [
        {
          "output_type": "execute_result",
          "data": {
            "text/plain": [
              "       index  SEG ID  BMTK ID     Seg_L  Seg_diam         X  Type  Sec ID  \\\n",
              "5          5       5        1  4.840176  1.078903  0.100000  dend       0   \n",
              "18         6       6        1  4.840176  1.170000  0.300000  dend       0   \n",
              "42         8       8        1  4.840176  1.170000  0.700000  dend       0   \n",
              "232       14      14        3  4.891969  0.580000  0.048387  dend       2   \n",
              "252       15      15        3  4.891969  0.580000  0.080645  dend       2   \n",
              "...      ...     ...      ...       ...       ...       ...   ...     ...   \n",
              "88535   2397    2397      186  5.141691  0.880000  0.370968  apic     101   \n",
              "88558   2397    2397      186  5.141691  0.880000  0.370968  apic     101   \n",
              "88572   2398    2398      186  5.141691  0.880000  0.403226  apic     101   \n",
              "88608   2399    2399      186  5.141691  0.880000  0.435484  apic     101   \n",
              "88906   2406    2406      186  5.141691  0.580000  0.661290  apic     101   \n",
              "\n",
              "         Distance   Section_L  ...  ParentSegID  Elec_distance  segmentID  \\\n",
              "5       14.004769   24.200878  ...          2.0       0.893750          1   \n",
              "18      18.844945   24.200878  ...          5.0       0.776656          2   \n",
              "42      28.525296   24.200878  ...          7.0       0.598685          4   \n",
              "232     58.305710  151.651052  ...         13.0       0.214118          2   \n",
              "252     63.197679  151.651052  ...         14.0       0.176538          3   \n",
              "...           ...         ...  ...          ...            ...        ...   \n",
              "88535  220.130762  159.392406  ...       2396.0       0.104015         12   \n",
              "88558  220.130762  159.392406  ...       2396.0       0.104015         12   \n",
              "88572  225.272452  159.392406  ...       2397.0       0.098145         13   \n",
              "88608  230.414143  159.392406  ...       2398.0       0.092889         14   \n",
              "88906  266.405976  159.392406  ...       2405.0       0.051930         21   \n",
              "\n",
              "       Elec_distanceQ  Unnamed: 0  na_lower_bound  duration_low  \\\n",
              "5                   9         0.0            66.0          72.0   \n",
              "18                  9         6.0          7464.0        7459.0   \n",
              "42                  9        14.0          8172.0        8172.0   \n",
              "232                 8        18.0          5484.0        5486.0   \n",
              "252                 8         1.0           716.0         706.0   \n",
              "...               ...         ...             ...           ...   \n",
              "88535               7         0.0            64.0          69.0   \n",
              "88558               7        23.0          9707.0        9705.0   \n",
              "88572               7         9.0          3128.0        3125.0   \n",
              "88608               7        13.0          4969.0        4974.0   \n",
              "88906               6        34.0          7128.0        7127.0   \n",
              "\n",
              "       duration_high  peak_value duration  \n",
              "5               74.0    0.014188      0.3  \n",
              "18            7473.0    0.000005      1.5  \n",
              "42            8181.0    0.000007      1.0  \n",
              "232           5493.0    0.000008      0.8  \n",
              "252            725.0    0.000003      2.0  \n",
              "...              ...         ...      ...  \n",
              "88535           72.0    0.010817      0.4  \n",
              "88558         9716.0    0.000004      1.2  \n",
              "88572         3134.0    0.000004      1.0  \n",
              "88608         4978.0    0.000013      0.5  \n",
              "88906         7134.0    0.000005      0.8  \n",
              "\n",
              "[996 rows x 26 columns]"
            ],
            "text/html": [
              "\n",
              "  <div id=\"df-7b4fc9b5-aa50-48a3-8e12-d305a22f9f52\">\n",
              "    <div class=\"colab-df-container\">\n",
              "      <div>\n",
              "<style scoped>\n",
              "    .dataframe tbody tr th:only-of-type {\n",
              "        vertical-align: middle;\n",
              "    }\n",
              "\n",
              "    .dataframe tbody tr th {\n",
              "        vertical-align: top;\n",
              "    }\n",
              "\n",
              "    .dataframe thead th {\n",
              "        text-align: right;\n",
              "    }\n",
              "</style>\n",
              "<table border=\"1\" class=\"dataframe\">\n",
              "  <thead>\n",
              "    <tr style=\"text-align: right;\">\n",
              "      <th></th>\n",
              "      <th>index</th>\n",
              "      <th>SEG ID</th>\n",
              "      <th>BMTK ID</th>\n",
              "      <th>Seg_L</th>\n",
              "      <th>Seg_diam</th>\n",
              "      <th>X</th>\n",
              "      <th>Type</th>\n",
              "      <th>Sec ID</th>\n",
              "      <th>Distance</th>\n",
              "      <th>Section_L</th>\n",
              "      <th>...</th>\n",
              "      <th>ParentSegID</th>\n",
              "      <th>Elec_distance</th>\n",
              "      <th>segmentID</th>\n",
              "      <th>Elec_distanceQ</th>\n",
              "      <th>Unnamed: 0</th>\n",
              "      <th>na_lower_bound</th>\n",
              "      <th>duration_low</th>\n",
              "      <th>duration_high</th>\n",
              "      <th>peak_value</th>\n",
              "      <th>duration</th>\n",
              "    </tr>\n",
              "  </thead>\n",
              "  <tbody>\n",
              "    <tr>\n",
              "      <th>5</th>\n",
              "      <td>5</td>\n",
              "      <td>5</td>\n",
              "      <td>1</td>\n",
              "      <td>4.840176</td>\n",
              "      <td>1.078903</td>\n",
              "      <td>0.100000</td>\n",
              "      <td>dend</td>\n",
              "      <td>0</td>\n",
              "      <td>14.004769</td>\n",
              "      <td>24.200878</td>\n",
              "      <td>...</td>\n",
              "      <td>2.0</td>\n",
              "      <td>0.893750</td>\n",
              "      <td>1</td>\n",
              "      <td>9</td>\n",
              "      <td>0.0</td>\n",
              "      <td>66.0</td>\n",
              "      <td>72.0</td>\n",
              "      <td>74.0</td>\n",
              "      <td>0.014188</td>\n",
              "      <td>0.3</td>\n",
              "    </tr>\n",
              "    <tr>\n",
              "      <th>18</th>\n",
              "      <td>6</td>\n",
              "      <td>6</td>\n",
              "      <td>1</td>\n",
              "      <td>4.840176</td>\n",
              "      <td>1.170000</td>\n",
              "      <td>0.300000</td>\n",
              "      <td>dend</td>\n",
              "      <td>0</td>\n",
              "      <td>18.844945</td>\n",
              "      <td>24.200878</td>\n",
              "      <td>...</td>\n",
              "      <td>5.0</td>\n",
              "      <td>0.776656</td>\n",
              "      <td>2</td>\n",
              "      <td>9</td>\n",
              "      <td>6.0</td>\n",
              "      <td>7464.0</td>\n",
              "      <td>7459.0</td>\n",
              "      <td>7473.0</td>\n",
              "      <td>0.000005</td>\n",
              "      <td>1.5</td>\n",
              "    </tr>\n",
              "    <tr>\n",
              "      <th>42</th>\n",
              "      <td>8</td>\n",
              "      <td>8</td>\n",
              "      <td>1</td>\n",
              "      <td>4.840176</td>\n",
              "      <td>1.170000</td>\n",
              "      <td>0.700000</td>\n",
              "      <td>dend</td>\n",
              "      <td>0</td>\n",
              "      <td>28.525296</td>\n",
              "      <td>24.200878</td>\n",
              "      <td>...</td>\n",
              "      <td>7.0</td>\n",
              "      <td>0.598685</td>\n",
              "      <td>4</td>\n",
              "      <td>9</td>\n",
              "      <td>14.0</td>\n",
              "      <td>8172.0</td>\n",
              "      <td>8172.0</td>\n",
              "      <td>8181.0</td>\n",
              "      <td>0.000007</td>\n",
              "      <td>1.0</td>\n",
              "    </tr>\n",
              "    <tr>\n",
              "      <th>232</th>\n",
              "      <td>14</td>\n",
              "      <td>14</td>\n",
              "      <td>3</td>\n",
              "      <td>4.891969</td>\n",
              "      <td>0.580000</td>\n",
              "      <td>0.048387</td>\n",
              "      <td>dend</td>\n",
              "      <td>2</td>\n",
              "      <td>58.305710</td>\n",
              "      <td>151.651052</td>\n",
              "      <td>...</td>\n",
              "      <td>13.0</td>\n",
              "      <td>0.214118</td>\n",
              "      <td>2</td>\n",
              "      <td>8</td>\n",
              "      <td>18.0</td>\n",
              "      <td>5484.0</td>\n",
              "      <td>5486.0</td>\n",
              "      <td>5493.0</td>\n",
              "      <td>0.000008</td>\n",
              "      <td>0.8</td>\n",
              "    </tr>\n",
              "    <tr>\n",
              "      <th>252</th>\n",
              "      <td>15</td>\n",
              "      <td>15</td>\n",
              "      <td>3</td>\n",
              "      <td>4.891969</td>\n",
              "      <td>0.580000</td>\n",
              "      <td>0.080645</td>\n",
              "      <td>dend</td>\n",
              "      <td>2</td>\n",
              "      <td>63.197679</td>\n",
              "      <td>151.651052</td>\n",
              "      <td>...</td>\n",
              "      <td>14.0</td>\n",
              "      <td>0.176538</td>\n",
              "      <td>3</td>\n",
              "      <td>8</td>\n",
              "      <td>1.0</td>\n",
              "      <td>716.0</td>\n",
              "      <td>706.0</td>\n",
              "      <td>725.0</td>\n",
              "      <td>0.000003</td>\n",
              "      <td>2.0</td>\n",
              "    </tr>\n",
              "    <tr>\n",
              "      <th>...</th>\n",
              "      <td>...</td>\n",
              "      <td>...</td>\n",
              "      <td>...</td>\n",
              "      <td>...</td>\n",
              "      <td>...</td>\n",
              "      <td>...</td>\n",
              "      <td>...</td>\n",
              "      <td>...</td>\n",
              "      <td>...</td>\n",
              "      <td>...</td>\n",
              "      <td>...</td>\n",
              "      <td>...</td>\n",
              "      <td>...</td>\n",
              "      <td>...</td>\n",
              "      <td>...</td>\n",
              "      <td>...</td>\n",
              "      <td>...</td>\n",
              "      <td>...</td>\n",
              "      <td>...</td>\n",
              "      <td>...</td>\n",
              "      <td>...</td>\n",
              "    </tr>\n",
              "    <tr>\n",
              "      <th>88535</th>\n",
              "      <td>2397</td>\n",
              "      <td>2397</td>\n",
              "      <td>186</td>\n",
              "      <td>5.141691</td>\n",
              "      <td>0.880000</td>\n",
              "      <td>0.370968</td>\n",
              "      <td>apic</td>\n",
              "      <td>101</td>\n",
              "      <td>220.130762</td>\n",
              "      <td>159.392406</td>\n",
              "      <td>...</td>\n",
              "      <td>2396.0</td>\n",
              "      <td>0.104015</td>\n",
              "      <td>12</td>\n",
              "      <td>7</td>\n",
              "      <td>0.0</td>\n",
              "      <td>64.0</td>\n",
              "      <td>69.0</td>\n",
              "      <td>72.0</td>\n",
              "      <td>0.010817</td>\n",
              "      <td>0.4</td>\n",
              "    </tr>\n",
              "    <tr>\n",
              "      <th>88558</th>\n",
              "      <td>2397</td>\n",
              "      <td>2397</td>\n",
              "      <td>186</td>\n",
              "      <td>5.141691</td>\n",
              "      <td>0.880000</td>\n",
              "      <td>0.370968</td>\n",
              "      <td>apic</td>\n",
              "      <td>101</td>\n",
              "      <td>220.130762</td>\n",
              "      <td>159.392406</td>\n",
              "      <td>...</td>\n",
              "      <td>2396.0</td>\n",
              "      <td>0.104015</td>\n",
              "      <td>12</td>\n",
              "      <td>7</td>\n",
              "      <td>23.0</td>\n",
              "      <td>9707.0</td>\n",
              "      <td>9705.0</td>\n",
              "      <td>9716.0</td>\n",
              "      <td>0.000004</td>\n",
              "      <td>1.2</td>\n",
              "    </tr>\n",
              "    <tr>\n",
              "      <th>88572</th>\n",
              "      <td>2398</td>\n",
              "      <td>2398</td>\n",
              "      <td>186</td>\n",
              "      <td>5.141691</td>\n",
              "      <td>0.880000</td>\n",
              "      <td>0.403226</td>\n",
              "      <td>apic</td>\n",
              "      <td>101</td>\n",
              "      <td>225.272452</td>\n",
              "      <td>159.392406</td>\n",
              "      <td>...</td>\n",
              "      <td>2397.0</td>\n",
              "      <td>0.098145</td>\n",
              "      <td>13</td>\n",
              "      <td>7</td>\n",
              "      <td>9.0</td>\n",
              "      <td>3128.0</td>\n",
              "      <td>3125.0</td>\n",
              "      <td>3134.0</td>\n",
              "      <td>0.000004</td>\n",
              "      <td>1.0</td>\n",
              "    </tr>\n",
              "    <tr>\n",
              "      <th>88608</th>\n",
              "      <td>2399</td>\n",
              "      <td>2399</td>\n",
              "      <td>186</td>\n",
              "      <td>5.141691</td>\n",
              "      <td>0.880000</td>\n",
              "      <td>0.435484</td>\n",
              "      <td>apic</td>\n",
              "      <td>101</td>\n",
              "      <td>230.414143</td>\n",
              "      <td>159.392406</td>\n",
              "      <td>...</td>\n",
              "      <td>2398.0</td>\n",
              "      <td>0.092889</td>\n",
              "      <td>14</td>\n",
              "      <td>7</td>\n",
              "      <td>13.0</td>\n",
              "      <td>4969.0</td>\n",
              "      <td>4974.0</td>\n",
              "      <td>4978.0</td>\n",
              "      <td>0.000013</td>\n",
              "      <td>0.5</td>\n",
              "    </tr>\n",
              "    <tr>\n",
              "      <th>88906</th>\n",
              "      <td>2406</td>\n",
              "      <td>2406</td>\n",
              "      <td>186</td>\n",
              "      <td>5.141691</td>\n",
              "      <td>0.580000</td>\n",
              "      <td>0.661290</td>\n",
              "      <td>apic</td>\n",
              "      <td>101</td>\n",
              "      <td>266.405976</td>\n",
              "      <td>159.392406</td>\n",
              "      <td>...</td>\n",
              "      <td>2405.0</td>\n",
              "      <td>0.051930</td>\n",
              "      <td>21</td>\n",
              "      <td>6</td>\n",
              "      <td>34.0</td>\n",
              "      <td>7128.0</td>\n",
              "      <td>7127.0</td>\n",
              "      <td>7134.0</td>\n",
              "      <td>0.000005</td>\n",
              "      <td>0.8</td>\n",
              "    </tr>\n",
              "  </tbody>\n",
              "</table>\n",
              "<p>996 rows × 26 columns</p>\n",
              "</div>\n",
              "      <button class=\"colab-df-convert\" onclick=\"convertToInteractive('df-7b4fc9b5-aa50-48a3-8e12-d305a22f9f52')\"\n",
              "              title=\"Convert this dataframe to an interactive table.\"\n",
              "              style=\"display:none;\">\n",
              "        \n",
              "  <svg xmlns=\"http://www.w3.org/2000/svg\" height=\"24px\"viewBox=\"0 0 24 24\"\n",
              "       width=\"24px\">\n",
              "    <path d=\"M0 0h24v24H0V0z\" fill=\"none\"/>\n",
              "    <path d=\"M18.56 5.44l.94 2.06.94-2.06 2.06-.94-2.06-.94-.94-2.06-.94 2.06-2.06.94zm-11 1L8.5 8.5l.94-2.06 2.06-.94-2.06-.94L8.5 2.5l-.94 2.06-2.06.94zm10 10l.94 2.06.94-2.06 2.06-.94-2.06-.94-.94-2.06-.94 2.06-2.06.94z\"/><path d=\"M17.41 7.96l-1.37-1.37c-.4-.4-.92-.59-1.43-.59-.52 0-1.04.2-1.43.59L10.3 9.45l-7.72 7.72c-.78.78-.78 2.05 0 2.83L4 21.41c.39.39.9.59 1.41.59.51 0 1.02-.2 1.41-.59l7.78-7.78 2.81-2.81c.8-.78.8-2.07 0-2.86zM5.41 20L4 18.59l7.72-7.72 1.47 1.35L5.41 20z\"/>\n",
              "  </svg>\n",
              "      </button>\n",
              "      \n",
              "  <style>\n",
              "    .colab-df-container {\n",
              "      display:flex;\n",
              "      flex-wrap:wrap;\n",
              "      gap: 12px;\n",
              "    }\n",
              "\n",
              "    .colab-df-convert {\n",
              "      background-color: #E8F0FE;\n",
              "      border: none;\n",
              "      border-radius: 50%;\n",
              "      cursor: pointer;\n",
              "      display: none;\n",
              "      fill: #1967D2;\n",
              "      height: 32px;\n",
              "      padding: 0 0 0 0;\n",
              "      width: 32px;\n",
              "    }\n",
              "\n",
              "    .colab-df-convert:hover {\n",
              "      background-color: #E2EBFA;\n",
              "      box-shadow: 0px 1px 2px rgba(60, 64, 67, 0.3), 0px 1px 3px 1px rgba(60, 64, 67, 0.15);\n",
              "      fill: #174EA6;\n",
              "    }\n",
              "\n",
              "    [theme=dark] .colab-df-convert {\n",
              "      background-color: #3B4455;\n",
              "      fill: #D2E3FC;\n",
              "    }\n",
              "\n",
              "    [theme=dark] .colab-df-convert:hover {\n",
              "      background-color: #434B5C;\n",
              "      box-shadow: 0px 1px 3px 1px rgba(0, 0, 0, 0.15);\n",
              "      filter: drop-shadow(0px 1px 2px rgba(0, 0, 0, 0.3));\n",
              "      fill: #FFFFFF;\n",
              "    }\n",
              "  </style>\n",
              "\n",
              "      <script>\n",
              "        const buttonEl =\n",
              "          document.querySelector('#df-7b4fc9b5-aa50-48a3-8e12-d305a22f9f52 button.colab-df-convert');\n",
              "        buttonEl.style.display =\n",
              "          google.colab.kernel.accessAllowed ? 'block' : 'none';\n",
              "\n",
              "        async function convertToInteractive(key) {\n",
              "          const element = document.querySelector('#df-7b4fc9b5-aa50-48a3-8e12-d305a22f9f52');\n",
              "          const dataTable =\n",
              "            await google.colab.kernel.invokeFunction('convertToInteractive',\n",
              "                                                     [key], {});\n",
              "          if (!dataTable) return;\n",
              "\n",
              "          const docLinkHtml = 'Like what you see? Visit the ' +\n",
              "            '<a target=\"_blank\" href=https://colab.research.google.com/notebooks/data_table.ipynb>data table notebook</a>'\n",
              "            + ' to learn more about interactive tables.';\n",
              "          element.innerHTML = '';\n",
              "          dataTable['output_type'] = 'display_data';\n",
              "          await google.colab.output.renderOutput(dataTable, element);\n",
              "          const docLink = document.createElement('div');\n",
              "          docLink.innerHTML = docLinkHtml;\n",
              "          element.appendChild(docLink);\n",
              "        }\n",
              "      </script>\n",
              "    </div>\n",
              "  </div>\n",
              "  "
            ]
          },
          "metadata": {},
          "execution_count": 29
        }
      ]
    },
    {
      "cell_type": "code",
      "source": [
        "#pd.set_option(\"display.max_rows\", None, \"display.max_columns\", None)\n",
        "\n",
        "#print(na_df)"
      ],
      "metadata": {
        "id": "sB1diydHZvEg"
      },
      "execution_count": 30,
      "outputs": []
    },
    {
      "cell_type": "code",
      "execution_count": 31,
      "metadata": {
        "id": "2EvZxPFY4vaj"
      },
      "outputs": [],
      "source": [
        "def get_sta(segs_na_df, spktimes):\n",
        "    na_dend = np.zeros((10,39,))\n",
        "    na_apic = np.zeros((10,39,))\n",
        "    \n",
        "    edges_dend=np.quantile(segs_na_df[(~pd.isnull(segs_na_df.na_lower_bound))&\n",
        "                                       (segs_na_df.Type=='dend')]['Elec_distance'].unique(),np.arange(0,1.1,0.1))\n",
        "   # print(edges_dend)\n",
        "    edges_apic=np.quantile(segs_na_df[(~pd.isnull(segs_na_df.na_lower_bound))&\n",
        "                                       (segs_na_df.Type=='apic')]['Elec_distance'].unique(),np.arange(0,1.1,0.1))\n",
        "   # print('please')\n",
        "    actual_spktimes = []\n",
        "    c = 0\n",
        "\n",
        "   # print(spktimes)\n",
        "\n",
        "\n",
        "    for i in np.sort(spktimes):\n",
        "        # excludes bursts\n",
        "        #print(i)\n",
        "        if i-c > 10:\n",
        "            for e in np.arange(0,10):\n",
        "                #print(e)\n",
        "                na_inds = segs_na_df[(~pd.isnull(segs_na_df.na_lower_bound))&\n",
        "                                     (segs_na_df.Type=='dend')&\n",
        "                                     (segs_na_df.Elec_distance>edges_dend[e])&\n",
        "                                     (segs_na_df.Elec_distance<=edges_dend[e+1])]['na_lower_bound'].values.astype(int)\n",
        "                #print(na_inds)\n",
        "                x2, _ = np.histogram(na_inds/10,bins=np.arange(np.floor(i)-20,np.floor(i)+20,1))\n",
        "                na_dend[e] += x2\n",
        "                \n",
        "                na_inds = segs_na_df[(~pd.isnull(segs_na_df.na_lower_bound))&\n",
        "                                     (segs_na_df.Type=='apic')&\n",
        "                                     (segs_na_df.Elec_distance>edges_apic[e])&\n",
        "                                     (segs_na_df.Elec_distance<=edges_apic[e+1])]['na_lower_bound'].values.astype(int)\n",
        "    \n",
        "                x2, _ = np.histogram(na_inds/10,bins=np.arange(np.floor(i)-20,np.floor(i)+20,1))\n",
        "                na_apic[e] += x2\n",
        "            \n",
        "            actual_spktimes.append(i)\n",
        "        c = i\n",
        "    \n",
        "\n",
        "    \n",
        "    \n",
        "    return na_dend, na_apic"
      ]
    },
    {
      "cell_type": "code",
      "execution_count": 32,
      "metadata": {
        "id": "glkA6zW24vaj"
      },
      "outputs": [],
      "source": [
        "na_dend, na_apic = get_sta(segs_na_df, spktimes)"
      ]
    },
    {
      "cell_type": "code",
      "source": [],
      "metadata": {
        "id": "c23ZHtwJcdRi"
      },
      "execution_count": 32,
      "outputs": []
    },
    {
      "cell_type": "code",
      "source": [
        "#print(na_apic)"
      ],
      "metadata": {
        "id": "aTxBWP-iZC9k"
      },
      "execution_count": 33,
      "outputs": []
    },
    {
      "cell_type": "code",
      "execution_count": 34,
      "metadata": {
        "id": "PLw_zcHY4vaj"
      },
      "outputs": [],
      "source": [
        "rand_spktimes = np.sort(np.random.choice(np.arange(0,150000), spktimes.shape[0]))"
      ]
    },
    {
      "cell_type": "code",
      "execution_count": 35,
      "metadata": {
        "id": "OtjmD-mU4vaj"
      },
      "outputs": [],
      "source": [
        "na_dend_rand, na_apic_rand = get_sta(segs_na_df, rand_spktimes)"
      ]
    },
    {
      "cell_type": "code",
      "execution_count": 66,
      "metadata": {
        "id": "2--OhaH54vaj",
        "outputId": "cba04809-e3c5-42ef-fdbd-6ceb2619233f",
        "colab": {
          "base_uri": "https://localhost:8080/",
          "height": 578
        }
      },
      "outputs": [
        {
          "output_type": "display_data",
          "data": {
            "text/plain": [
              "<Figure size 720x720 with 4 Axes>"
            ],
            "image/png": "[encoded data removed]"
          },
          "metadata": {
            "needs_background": "light"
          }
        }
      ],
      "source": [
        "plt.figure(figsize=(10,10))\n",
        "plt.subplot(2,1,1)\n",
        "plt.title('Na spikes - apical')\n",
        "plt.imshow((na_apic-na_apic_rand)/len(spktimes),cmap='jet',vmin=-0.5)\n",
        "plt.colorbar(label='additional events per AP')\n",
        "plt.xticks(ticks=np.arange(0,40,5)-0.5,labels=['{}'.format(i) for i in np.arange(-20,20,5)])\n",
        "plt.yticks(ticks=[0,9],labels=['further','closer'])\n",
        "plt.xlim(5,35)\n",
        "\n",
        "plt.subplot(2,1,2)\n",
        "plt.title('Na spikes - basal')\n",
        "# plt.imshow((na_dend-na_dend_rand)/len(spktimes),cmap='jet',vmin=-0.2, vmax=0.2)\n",
        "plt.imshow((na_dend-na_dend_rand)/len(spktimes),cmap='jet',vmin=-0.2)\n",
        "plt.colorbar(label='additional events per AP')\n",
        "plt.xticks(ticks=np.arange(0,40,5)-0.5,labels=['{}'.format(i) for i in np.arange(-20,20,5)])\n",
        "plt.yticks(ticks=[0,9],labels=['further','closer'])\n",
        "plt.xlabel('time(ms)')\n",
        "plt.xlim(5,35)\n",
        "\n",
        "plt.show()"
      ]
    },
    {
      "cell_type": "markdown",
      "metadata": {
        "id": "2mh6u46u4vak"
      },
      "source": [
        "----------"
      ]
    },
    {
      "cell_type": "code",
      "execution_count": 37,
      "metadata": {
        "id": "o36hLzYo4vak"
      },
      "outputs": [],
      "source": [
        "ca_df = pd.DataFrame(columns=['segmentID','ca_lower_bound'])\n",
        "\n",
        "segs['segmentID'] = segs.index\n",
        "# segIDs = segs[(segs.Type=='apic')]['segmentID'] #original\n",
        "segIDs = segs['segmentID']\n",
        "for p in segIDs:\n",
        "    # import pdb; pdb.set_trace()\n",
        "    #print(p)\n",
        "    trace = hva['report']['biophysical']['data'][:,p]+\\\n",
        "                lva['report']['biophysical']['data'][:,p]+\\\n",
        "                ih['report']['biophysical']['data'][:,p]\n",
        "    m = np.mean(trace)\n",
        "    s = np.std(trace)\n",
        "\n",
        "    legit_uc = voltage_criterion(data=v['report']['biophysical']['data'][:,p],v_thresh=-40, time_thresh=200)[1]\n",
        "    legit_dc = voltage_criterion(data=v['report']['biophysical']['data'][:,p],v_thresh=-40, time_thresh=200)[-1]\n",
        "    \n",
        "    legit_uc_iso = legit_uc\n",
        "    \n",
        "    legit_dc_iso = legit_dc\n",
        "\n",
        "    # print(legit_dc_iso)\n",
        "    \n",
        "    \n",
        "    if (len(legit_uc_iso)!=0) & (np.min(trace)!=0):\n",
        "        bnds, sum_curr = current_criterion(legit_uc_iso=legit_uc_iso, \n",
        "                                           legit_dc_iso=legit_dc_iso, \n",
        "                                           p=p, \n",
        "                                           control_inmda=hva['report']['biophysical']['data'])\n",
        "        ca_df = ca_df.append(pd.DataFrame({'segmentID':np.tile(p,len(bnds)),\n",
        "                                               'ca_lower_bound':np.array(bnds).reshape(-1,2)[:,0],\n",
        "                                               'ca_upper_bound':np.array(bnds).reshape(-1,2)[:,1],\n",
        "                                               'mag':sum_curr}))\n",
        "    \n",
        "    else:\n",
        "        ca_df = ca_df.append(pd.DataFrame({'segmentID':np.tile(p,1),\n",
        "                                               'ca_lower_bound':np.nan,\n",
        "                                               'ca_upper_bound':np.nan,\n",
        "                                               'mag':np.nan}))"
      ]
    },
    {
      "cell_type": "code",
      "source": [
        "#print(ca_df)"
      ],
      "metadata": {
        "id": "qOf83soDjiCm"
      },
      "execution_count": 38,
      "outputs": []
    },
    {
      "cell_type": "code",
      "execution_count": 39,
      "metadata": {
        "id": "C36RU9wM4vak"
      },
      "outputs": [],
      "source": [
        "ca_df.to_csv('ca_df.csv')\n",
        "ca_df = pd.read_csv('ca_df.csv')"
      ]
    },
    {
      "cell_type": "markdown",
      "metadata": {
        "id": "TvfdmW7E4vak"
      },
      "source": [
        "# durations"
      ]
    },
    {
      "cell_type": "code",
      "execution_count": 40,
      "metadata": {
        "id": "veidJEkY4vak",
        "outputId": "42f1757d-2a37-450e-d5cd-d3a4c596d450",
        "colab": {
          "base_uri": "https://localhost:8080/",
          "height": 505
        }
      },
      "outputs": [
        {
          "output_type": "execute_result",
          "data": {
            "text/plain": [
              "      SEG ID  BMTK ID     Seg_L  Seg_diam         X  Type  Sec ID    Distance  \\\n",
              "1486    1486      122  5.024998      1.80  0.118182  apic      37  671.034720   \n",
              "1487    1487      122  5.024998      1.80  0.136364  apic      37  676.059718   \n",
              "1488    1488      122  5.024998      1.80  0.154545  apic      37  681.084716   \n",
              "1489    1489      122  5.024998      1.80  0.172727  apic      37  686.109714   \n",
              "1490    1490      122  5.024998      1.80  0.190909  apic      37  691.134711   \n",
              "...      ...      ...       ...       ...       ...   ...     ...         ...   \n",
              "1842    1842      145  4.960289      1.03  0.627660  apic      60  846.627753   \n",
              "1843    1843      145  4.960289      1.03  0.648936  apic      60  851.588041   \n",
              "1844    1844      145  4.960289      1.03  0.670213  apic      60  856.548330   \n",
              "1845    1845      145  4.960289      1.03  0.691489  apic      60  861.508619   \n",
              "1846    1846      145  4.960289      1.03  0.712766  apic      60  866.468908   \n",
              "\n",
              "       Section_L  Section_diam  Section_nseg  Section_Ra    Coord X  \\\n",
              "1486  276.374877          1.29            55       100.0 -34.973857   \n",
              "1487  276.374877          1.29            55       100.0 -35.172710   \n",
              "1488  276.374877          1.29            55       100.0 -35.172710   \n",
              "1489  276.374877          1.29            55       100.0 -34.968832   \n",
              "1490  276.374877          1.29            55       100.0 -35.410425   \n",
              "...          ...           ...           ...         ...        ...   \n",
              "1842  233.133572          1.03            47       100.0 -47.270383   \n",
              "1843  233.133572          1.03            47       100.0 -48.492018   \n",
              "1844  233.133572          1.03            47       100.0 -49.419451   \n",
              "1845  233.133572          1.03            47       100.0 -49.467465   \n",
              "1846  233.133572          1.03            47       100.0 -49.140984   \n",
              "\n",
              "         Coord Y   Coord Z  ParentSegID  Elec_distance  segmentID  \\\n",
              "1486  603.914939  1.574586       1485.0       0.118966       1486   \n",
              "1487  608.816781  2.648283       1486.0       0.115345       1487   \n",
              "1488  613.744600  3.629033       1487.0       0.111910       1488   \n",
              "1489  618.393979  5.477332       1488.0       0.108648       1489   \n",
              "1490  623.307217  5.993446       1489.0       0.105547       1490   \n",
              "...          ...       ...          ...            ...        ...   \n",
              "1842  778.441926 -7.096120       1841.0       0.024395       1842   \n",
              "1843  783.156060 -7.837240       1842.0       0.023730       1843   \n",
              "1844  787.982406 -8.215281       1843.0       0.023097       1844   \n",
              "1845  792.908083 -8.094590       1844.0       0.022493       1845   \n",
              "1846  797.820179 -7.493600       1845.0       0.021917       1846   \n",
              "\n",
              "     Elec_distanceQ  \n",
              "1486              7  \n",
              "1487              7  \n",
              "1488              7  \n",
              "1489              7  \n",
              "1490              7  \n",
              "...             ...  \n",
              "1842              4  \n",
              "1843              4  \n",
              "1844              4  \n",
              "1845              4  \n",
              "1846              4  \n",
              "\n",
              "[118 rows x 19 columns]"
            ],
            "text/html": [
              "\n",
              "  <div id=\"df-f150d05c-c13e-4018-9e3b-1d38b03f4758\">\n",
              "    <div class=\"colab-df-container\">\n",
              "      <div>\n",
              "<style scoped>\n",
              "    .dataframe tbody tr th:only-of-type {\n",
              "        vertical-align: middle;\n",
              "    }\n",
              "\n",
              "    .dataframe tbody tr th {\n",
              "        vertical-align: top;\n",
              "    }\n",
              "\n",
              "    .dataframe thead th {\n",
              "        text-align: right;\n",
              "    }\n",
              "</style>\n",
              "<table border=\"1\" class=\"dataframe\">\n",
              "  <thead>\n",
              "    <tr style=\"text-align: right;\">\n",
              "      <th></th>\n",
              "      <th>SEG ID</th>\n",
              "      <th>BMTK ID</th>\n",
              "      <th>Seg_L</th>\n",
              "      <th>Seg_diam</th>\n",
              "      <th>X</th>\n",
              "      <th>Type</th>\n",
              "      <th>Sec ID</th>\n",
              "      <th>Distance</th>\n",
              "      <th>Section_L</th>\n",
              "      <th>Section_diam</th>\n",
              "      <th>Section_nseg</th>\n",
              "      <th>Section_Ra</th>\n",
              "      <th>Coord X</th>\n",
              "      <th>Coord Y</th>\n",
              "      <th>Coord Z</th>\n",
              "      <th>ParentSegID</th>\n",
              "      <th>Elec_distance</th>\n",
              "      <th>segmentID</th>\n",
              "      <th>Elec_distanceQ</th>\n",
              "    </tr>\n",
              "  </thead>\n",
              "  <tbody>\n",
              "    <tr>\n",
              "      <th>1486</th>\n",
              "      <td>1486</td>\n",
              "      <td>122</td>\n",
              "      <td>5.024998</td>\n",
              "      <td>1.80</td>\n",
              "      <td>0.118182</td>\n",
              "      <td>apic</td>\n",
              "      <td>37</td>\n",
              "      <td>671.034720</td>\n",
              "      <td>276.374877</td>\n",
              "      <td>1.29</td>\n",
              "      <td>55</td>\n",
              "      <td>100.0</td>\n",
              "      <td>-34.973857</td>\n",
              "      <td>603.914939</td>\n",
              "      <td>1.574586</td>\n",
              "      <td>1485.0</td>\n",
              "      <td>0.118966</td>\n",
              "      <td>1486</td>\n",
              "      <td>7</td>\n",
              "    </tr>\n",
              "    <tr>\n",
              "      <th>1487</th>\n",
              "      <td>1487</td>\n",
              "      <td>122</td>\n",
              "      <td>5.024998</td>\n",
              "      <td>1.80</td>\n",
              "      <td>0.136364</td>\n",
              "      <td>apic</td>\n",
              "      <td>37</td>\n",
              "      <td>676.059718</td>\n",
              "      <td>276.374877</td>\n",
              "      <td>1.29</td>\n",
              "      <td>55</td>\n",
              "      <td>100.0</td>\n",
              "      <td>-35.172710</td>\n",
              "      <td>608.816781</td>\n",
              "      <td>2.648283</td>\n",
              "      <td>1486.0</td>\n",
              "      <td>0.115345</td>\n",
              "      <td>1487</td>\n",
              "      <td>7</td>\n",
              "    </tr>\n",
              "    <tr>\n",
              "      <th>1488</th>\n",
              "      <td>1488</td>\n",
              "      <td>122</td>\n",
              "      <td>5.024998</td>\n",
              "      <td>1.80</td>\n",
              "      <td>0.154545</td>\n",
              "      <td>apic</td>\n",
              "      <td>37</td>\n",
              "      <td>681.084716</td>\n",
              "      <td>276.374877</td>\n",
              "      <td>1.29</td>\n",
              "      <td>55</td>\n",
              "      <td>100.0</td>\n",
              "      <td>-35.172710</td>\n",
              "      <td>613.744600</td>\n",
              "      <td>3.629033</td>\n",
              "      <td>1487.0</td>\n",
              "      <td>0.111910</td>\n",
              "      <td>1488</td>\n",
              "      <td>7</td>\n",
              "    </tr>\n",
              "    <tr>\n",
              "      <th>1489</th>\n",
              "      <td>1489</td>\n",
              "      <td>122</td>\n",
              "      <td>5.024998</td>\n",
              "      <td>1.80</td>\n",
              "      <td>0.172727</td>\n",
              "      <td>apic</td>\n",
              "      <td>37</td>\n",
              "      <td>686.109714</td>\n",
              "      <td>276.374877</td>\n",
              "      <td>1.29</td>\n",
              "      <td>55</td>\n",
              "      <td>100.0</td>\n",
              "      <td>-34.968832</td>\n",
              "      <td>618.393979</td>\n",
              "      <td>5.477332</td>\n",
              "      <td>1488.0</td>\n",
              "      <td>0.108648</td>\n",
              "      <td>1489</td>\n",
              "      <td>7</td>\n",
              "    </tr>\n",
              "    <tr>\n",
              "      <th>1490</th>\n",
              "      <td>1490</td>\n",
              "      <td>122</td>\n",
              "      <td>5.024998</td>\n",
              "      <td>1.80</td>\n",
              "      <td>0.190909</td>\n",
              "      <td>apic</td>\n",
              "      <td>37</td>\n",
              "      <td>691.134711</td>\n",
              "      <td>276.374877</td>\n",
              "      <td>1.29</td>\n",
              "      <td>55</td>\n",
              "      <td>100.0</td>\n",
              "      <td>-35.410425</td>\n",
              "      <td>623.307217</td>\n",
              "      <td>5.993446</td>\n",
              "      <td>1489.0</td>\n",
              "      <td>0.105547</td>\n",
              "      <td>1490</td>\n",
              "      <td>7</td>\n",
              "    </tr>\n",
              "    <tr>\n",
              "      <th>...</th>\n",
              "      <td>...</td>\n",
              "      <td>...</td>\n",
              "      <td>...</td>\n",
              "      <td>...</td>\n",
              "      <td>...</td>\n",
              "      <td>...</td>\n",
              "      <td>...</td>\n",
              "      <td>...</td>\n",
              "      <td>...</td>\n",
              "      <td>...</td>\n",
              "      <td>...</td>\n",
              "      <td>...</td>\n",
              "      <td>...</td>\n",
              "      <td>...</td>\n",
              "      <td>...</td>\n",
              "      <td>...</td>\n",
              "      <td>...</td>\n",
              "      <td>...</td>\n",
              "      <td>...</td>\n",
              "    </tr>\n",
              "    <tr>\n",
              "      <th>1842</th>\n",
              "      <td>1842</td>\n",
              "      <td>145</td>\n",
              "      <td>4.960289</td>\n",
              "      <td>1.03</td>\n",
              "      <td>0.627660</td>\n",
              "      <td>apic</td>\n",
              "      <td>60</td>\n",
              "      <td>846.627753</td>\n",
              "      <td>233.133572</td>\n",
              "      <td>1.03</td>\n",
              "      <td>47</td>\n",
              "      <td>100.0</td>\n",
              "      <td>-47.270383</td>\n",
              "      <td>778.441926</td>\n",
              "      <td>-7.096120</td>\n",
              "      <td>1841.0</td>\n",
              "      <td>0.024395</td>\n",
              "      <td>1842</td>\n",
              "      <td>4</td>\n",
              "    </tr>\n",
              "    <tr>\n",
              "      <th>1843</th>\n",
              "      <td>1843</td>\n",
              "      <td>145</td>\n",
              "      <td>4.960289</td>\n",
              "      <td>1.03</td>\n",
              "      <td>0.648936</td>\n",
              "      <td>apic</td>\n",
              "      <td>60</td>\n",
              "      <td>851.588041</td>\n",
              "      <td>233.133572</td>\n",
              "      <td>1.03</td>\n",
              "      <td>47</td>\n",
              "      <td>100.0</td>\n",
              "      <td>-48.492018</td>\n",
              "      <td>783.156060</td>\n",
              "      <td>-7.837240</td>\n",
              "      <td>1842.0</td>\n",
              "      <td>0.023730</td>\n",
              "      <td>1843</td>\n",
              "      <td>4</td>\n",
              "    </tr>\n",
              "    <tr>\n",
              "      <th>1844</th>\n",
              "      <td>1844</td>\n",
              "      <td>145</td>\n",
              "      <td>4.960289</td>\n",
              "      <td>1.03</td>\n",
              "      <td>0.670213</td>\n",
              "      <td>apic</td>\n",
              "      <td>60</td>\n",
              "      <td>856.548330</td>\n",
              "      <td>233.133572</td>\n",
              "      <td>1.03</td>\n",
              "      <td>47</td>\n",
              "      <td>100.0</td>\n",
              "      <td>-49.419451</td>\n",
              "      <td>787.982406</td>\n",
              "      <td>-8.215281</td>\n",
              "      <td>1843.0</td>\n",
              "      <td>0.023097</td>\n",
              "      <td>1844</td>\n",
              "      <td>4</td>\n",
              "    </tr>\n",
              "    <tr>\n",
              "      <th>1845</th>\n",
              "      <td>1845</td>\n",
              "      <td>145</td>\n",
              "      <td>4.960289</td>\n",
              "      <td>1.03</td>\n",
              "      <td>0.691489</td>\n",
              "      <td>apic</td>\n",
              "      <td>60</td>\n",
              "      <td>861.508619</td>\n",
              "      <td>233.133572</td>\n",
              "      <td>1.03</td>\n",
              "      <td>47</td>\n",
              "      <td>100.0</td>\n",
              "      <td>-49.467465</td>\n",
              "      <td>792.908083</td>\n",
              "      <td>-8.094590</td>\n",
              "      <td>1844.0</td>\n",
              "      <td>0.022493</td>\n",
              "      <td>1845</td>\n",
              "      <td>4</td>\n",
              "    </tr>\n",
              "    <tr>\n",
              "      <th>1846</th>\n",
              "      <td>1846</td>\n",
              "      <td>145</td>\n",
              "      <td>4.960289</td>\n",
              "      <td>1.03</td>\n",
              "      <td>0.712766</td>\n",
              "      <td>apic</td>\n",
              "      <td>60</td>\n",
              "      <td>866.468908</td>\n",
              "      <td>233.133572</td>\n",
              "      <td>1.03</td>\n",
              "      <td>47</td>\n",
              "      <td>100.0</td>\n",
              "      <td>-49.140984</td>\n",
              "      <td>797.820179</td>\n",
              "      <td>-7.493600</td>\n",
              "      <td>1845.0</td>\n",
              "      <td>0.021917</td>\n",
              "      <td>1846</td>\n",
              "      <td>4</td>\n",
              "    </tr>\n",
              "  </tbody>\n",
              "</table>\n",
              "<p>118 rows × 19 columns</p>\n",
              "</div>\n",
              "      <button class=\"colab-df-convert\" onclick=\"convertToInteractive('df-f150d05c-c13e-4018-9e3b-1d38b03f4758')\"\n",
              "              title=\"Convert this dataframe to an interactive table.\"\n",
              "              style=\"display:none;\">\n",
              "        \n",
              "  <svg xmlns=\"http://www.w3.org/2000/svg\" height=\"24px\"viewBox=\"0 0 24 24\"\n",
              "       width=\"24px\">\n",
              "    <path d=\"M0 0h24v24H0V0z\" fill=\"none\"/>\n",
              "    <path d=\"M18.56 5.44l.94 2.06.94-2.06 2.06-.94-2.06-.94-.94-2.06-.94 2.06-2.06.94zm-11 1L8.5 8.5l.94-2.06 2.06-.94-2.06-.94L8.5 2.5l-.94 2.06-2.06.94zm10 10l.94 2.06.94-2.06 2.06-.94-2.06-.94-.94-2.06-.94 2.06-2.06.94z\"/><path d=\"M17.41 7.96l-1.37-1.37c-.4-.4-.92-.59-1.43-.59-.52 0-1.04.2-1.43.59L10.3 9.45l-7.72 7.72c-.78.78-.78 2.05 0 2.83L4 21.41c.39.39.9.59 1.41.59.51 0 1.02-.2 1.41-.59l7.78-7.78 2.81-2.81c.8-.78.8-2.07 0-2.86zM5.41 20L4 18.59l7.72-7.72 1.47 1.35L5.41 20z\"/>\n",
              "  </svg>\n",
              "      </button>\n",
              "      \n",
              "  <style>\n",
              "    .colab-df-container {\n",
              "      display:flex;\n",
              "      flex-wrap:wrap;\n",
              "      gap: 12px;\n",
              "    }\n",
              "\n",
              "    .colab-df-convert {\n",
              "      background-color: #E8F0FE;\n",
              "      border: none;\n",
              "      border-radius: 50%;\n",
              "      cursor: pointer;\n",
              "      display: none;\n",
              "      fill: #1967D2;\n",
              "      height: 32px;\n",
              "      padding: 0 0 0 0;\n",
              "      width: 32px;\n",
              "    }\n",
              "\n",
              "    .colab-df-convert:hover {\n",
              "      background-color: #E2EBFA;\n",
              "      box-shadow: 0px 1px 2px rgba(60, 64, 67, 0.3), 0px 1px 3px 1px rgba(60, 64, 67, 0.15);\n",
              "      fill: #174EA6;\n",
              "    }\n",
              "\n",
              "    [theme=dark] .colab-df-convert {\n",
              "      background-color: #3B4455;\n",
              "      fill: #D2E3FC;\n",
              "    }\n",
              "\n",
              "    [theme=dark] .colab-df-convert:hover {\n",
              "      background-color: #434B5C;\n",
              "      box-shadow: 0px 1px 3px 1px rgba(0, 0, 0, 0.15);\n",
              "      filter: drop-shadow(0px 1px 2px rgba(0, 0, 0, 0.3));\n",
              "      fill: #FFFFFF;\n",
              "    }\n",
              "  </style>\n",
              "\n",
              "      <script>\n",
              "        const buttonEl =\n",
              "          document.querySelector('#df-f150d05c-c13e-4018-9e3b-1d38b03f4758 button.colab-df-convert');\n",
              "        buttonEl.style.display =\n",
              "          google.colab.kernel.accessAllowed ? 'block' : 'none';\n",
              "\n",
              "        async function convertToInteractive(key) {\n",
              "          const element = document.querySelector('#df-f150d05c-c13e-4018-9e3b-1d38b03f4758');\n",
              "          const dataTable =\n",
              "            await google.colab.kernel.invokeFunction('convertToInteractive',\n",
              "                                                     [key], {});\n",
              "          if (!dataTable) return;\n",
              "\n",
              "          const docLinkHtml = 'Like what you see? Visit the ' +\n",
              "            '<a target=\"_blank\" href=https://colab.research.google.com/notebooks/data_table.ipynb>data table notebook</a>'\n",
              "            + ' to learn more about interactive tables.';\n",
              "          element.innerHTML = '';\n",
              "          dataTable['output_type'] = 'display_data';\n",
              "          await google.colab.output.renderOutput(dataTable, element);\n",
              "          const docLink = document.createElement('div');\n",
              "          docLink.innerHTML = docLinkHtml;\n",
              "          element.appendChild(docLink);\n",
              "        }\n",
              "      </script>\n",
              "    </div>\n",
              "  </div>\n",
              "  "
            ]
          },
          "metadata": {},
          "execution_count": 40
        }
      ],
      "source": [
        "segs[(segs['Coord Y']>600)&(segs['Coord Y']<800)]"
      ]
    },
    {
      "cell_type": "code",
      "execution_count": 41,
      "metadata": {
        "id": "k-VESnKr4vak",
        "outputId": "774cdddf-d014-4c10-ad61-0c18b680eec1",
        "colab": {
          "base_uri": "https://localhost:8080/"
        }
      },
      "outputs": [
        {
          "output_type": "execute_result",
          "data": {
            "text/plain": [
              "479"
            ]
          },
          "metadata": {},
          "execution_count": 41
        }
      ],
      "source": [
        "np.random.choice(segs[(segs['Coord Y']<-50)&\n",
        "     (segs['Coord Y']>-100)&\n",
        "     (segs['Coord X']>-50)&\n",
        "     (segs['Coord X']<50)&\n",
        "     (segs['Type']=='dend')]['segmentID'])"
      ]
    },
    {
      "cell_type": "markdown",
      "metadata": {
        "id": "mUUMQV414val"
      },
      "source": [
        "## Plotting morphology as heat maps"
      ]
    },
    {
      "cell_type": "code",
      "execution_count": 42,
      "metadata": {
        "id": "ssdfDo-Q4val",
        "outputId": "73723690-abcb-4ff5-826a-45cc654896f0",
        "colab": {
          "base_uri": "https://localhost:8080/"
        }
      },
      "outputs": [
        {
          "output_type": "execute_result",
          "data": {
            "text/plain": [
              "(2409, 20)"
            ]
          },
          "metadata": {},
          "execution_count": 42
        }
      ],
      "source": [
        "exc_syns.shape"
      ]
    },
    {
      "cell_type": "code",
      "execution_count": 43,
      "metadata": {
        "id": "Vnjms8KJ4val",
        "outputId": "1e9cf97f-9ed2-4daa-c222-55c39d400f78",
        "colab": {
          "base_uri": "https://localhost:8080/",
          "height": 579
        }
      },
      "outputs": [
        {
          "output_type": "display_data",
          "data": {
            "text/plain": [
              "<Figure size 288x720 with 2 Axes>"
            ],
            "image/png": "[encoded data removed]"
          },
          "metadata": {
            "needs_background": "light"
          }
        }
      ],
      "source": [
        "plt.figure(figsize=(4,10))\n",
        "ax = plt.scatter(exc_syns['Coord X'], exc_syns['Coord Y'],c=np.log(exc_syns['Elec_distance']))\n",
        "plt.vlines(110,400,500)\n",
        "plt.text(0,450,'100 um')\n",
        "plt.hlines(400,110,210)\n",
        "plt.text(110,350,'100 um')\n",
        "plt.xticks([])\n",
        "plt.yticks([])\n",
        "cbar = plt.colorbar()\n",
        "cbar.ax.set_ylabel('log(elec_distance)', rotation=270)\n",
        "\n",
        "#ax2.ax.set_title('log(elec_distance)',rotation=270)\n",
        "plt.box(False)\n",
        "plt.savefig('Elec_distance.svg')"
      ]
    },
    {
      "cell_type": "code",
      "execution_count": 44,
      "metadata": {
        "id": "VHqS5Q8s4val"
      },
      "outputs": [],
      "source": [
        "exc_syns.loc[pd.isnull(exc_syns.num_syns),'num_syns'] = 0"
      ]
    },
    {
      "cell_type": "code",
      "execution_count": 45,
      "metadata": {
        "id": "m0-V8uXt4val",
        "outputId": "6453741f-6c66-4b6d-9d22-1c2f68aa1110",
        "colab": {
          "base_uri": "https://localhost:8080/"
        }
      },
      "outputs": [
        {
          "output_type": "execute_result",
          "data": {
            "text/plain": [
              "((481, 20), (1928, 20))"
            ]
          },
          "metadata": {},
          "execution_count": 45
        }
      ],
      "source": [
        "exc_syns[exc_syns.num_syns==0].shape, exc_syns[exc_syns.num_syns!=0].shape"
      ]
    },
    {
      "cell_type": "code",
      "execution_count": 46,
      "metadata": {
        "id": "Wnpx-gOu4val",
        "outputId": "9874772c-7adb-4025-d3d0-ef0fff57f890",
        "colab": {
          "base_uri": "https://localhost:8080/",
          "height": 580
        }
      },
      "outputs": [
        {
          "output_type": "display_data",
          "data": {
            "text/plain": [
              "<Figure size 288x720 with 2 Axes>"
            ],
            "image/png": "[encoded data removed]"
          },
          "metadata": {
            "needs_background": "light"
          }
        }
      ],
      "source": [
        "plt.figure(figsize=(4,10))\n",
        "ax = plt.scatter(exc_syns['Coord X'], exc_syns['Coord Y'],c=exc_syns['num_syns'],s=4,cmap='jet')\n",
        "plt.vlines(110,400,500)\n",
        "plt.text(0,450,'100 um')\n",
        "plt.hlines(400,110,210)\n",
        "plt.text(110,350,'100 um')\n",
        "plt.xticks([])\n",
        "plt.yticks([])\n",
        "cbar = plt.colorbar()\n",
        "cbar.ax.set_ylabel('log(elec_distance)', rotation=270)\n",
        "\n",
        "#ax2.ax.set_title('log(elec_distance)',rotation=270)\n",
        "plt.box(False)\n",
        "plt.savefig('exc_syns.svg')"
      ]
    },
    {
      "cell_type": "markdown",
      "metadata": {
        "id": "tJFXhTRg4val"
      },
      "source": [
        "## Plotting morphology and voltage traces"
      ]
    },
    {
      "cell_type": "code",
      "execution_count": 47,
      "metadata": {
        "id": "hU8yAHh04val",
        "outputId": "027c6e8b-e704-4218-c92a-ac01622b064a",
        "colab": {
          "base_uri": "https://localhost:8080/",
          "height": 575
        }
      },
      "outputs": [
        {
          "output_type": "display_data",
          "data": {
            "text/plain": [
              "<Figure size 216x720 with 1 Axes>"
            ],
            "image/png": "[encoded data removed]"
          },
          "metadata": {}
        }
      ],
      "source": [
        "plt.figure(figsize=(3,10))\n",
        "ax = plt.plot(segs['Coord X'], segs['Coord Y'],'.',color='k',markersize=6)\n",
        "plt.vlines(110,400,500)\n",
        "plt.text(0,450,'100 um')\n",
        "plt.hlines(400,110,210)\n",
        "plt.text(110,350,'100 um')\n",
        "plt.xticks([])\n",
        "plt.yticks([])\n",
        "plt.box(False)\n",
        "plt.plot(segs.loc[segs.segmentID==1959,'Coord X'], \n",
        "         segs.loc[segs.segmentID==1959,'Coord Y'],\n",
        "         'r*')\n",
        "plt.plot(segs.loc[segs.segmentID==1112,'Coord X'], \n",
        "         segs.loc[segs.segmentID==1112,'Coord Y'],\n",
        "         'b*')\n",
        "plt.plot(segs.loc[segs.segmentID==1046,'Coord X'], \n",
        "         segs.loc[segs.segmentID==1046,'Coord Y'],\n",
        "         'm*')\n",
        "plt.plot(segs.loc[segs.segmentID==1500,'Coord X'], \n",
        "         segs.loc[segs.segmentID==1500,'Coord Y'],\n",
        "         'g*')\n",
        "plt.plot(segs.loc[segs.segmentID==680,'Coord X'], \n",
        "         segs.loc[segs.segmentID==680,'Coord Y'],\n",
        "         '*',color='orange')\n",
        "plt.plot(segs.loc[segs.segmentID==482,'Coord X'], \n",
        "         segs.loc[segs.segmentID==482,'Coord Y'],\n",
        "         '*',color='grey')\n",
        "plt.savefig('fig1A.svg')"
      ]
    },
    {
      "cell_type": "code",
      "execution_count": 48,
      "metadata": {
        "id": "XSkRoAbM4val"
      },
      "outputs": [],
      "source": [
        "#v = h5py.File('../../../L5NeuronSimulation_expts/L5_control/L5_control_exc_med/L5NeuronSimulation/FullSimulation/output/v_report.h5','r')\n"
      ]
    },
    {
      "cell_type": "code",
      "execution_count": 49,
      "metadata": {
        "id": "Zxm_myLO4val"
      },
      "outputs": [],
      "source": [
        "#t"
      ]
    },
    {
      "cell_type": "code",
      "execution_count": 50,
      "metadata": {
        "id": "ZqyITWX94val",
        "outputId": "b38225ba-31c0-45d7-87be-984a45b6b368",
        "colab": {
          "base_uri": "https://localhost:8080/",
          "height": 265
        }
      },
      "outputs": [
        {
          "output_type": "stream",
          "name": "stdout",
          "text": [
            "947\n"
          ]
        },
        {
          "output_type": "display_data",
          "data": {
            "text/plain": [
              "<Figure size 720x288 with 1 Axes>"
            ],
            "image/png": "[encoded data removed]"
          },
          "metadata": {}
        }
      ],
      "source": [
        "t = np.random.choice(segs[(segs['Coord Y']<-50)&\n",
        "     (segs['Coord Y']>-100)&\n",
        "     (segs['Coord X']>-50)&\n",
        "     (segs['Coord X']<50)&\n",
        "     (segs['Type']=='dend')]['segmentID'])\n",
        "\n",
        "print(t)\n",
        "\n",
        "plt.figure(figsize=(10,4))\n",
        "s1 = 3 #323548+1500#np.random.choice(range(v['report']['biophysical']['data'].shape[0]))\n",
        "plt.plot(np.arange(0,400,.1),v['report']['biophysical']['data'][s1:s1+4000,t],color='grey')\n",
        "#1433413, 1161455\n",
        "plt.hlines(-50,70,100)\n",
        "plt.text(70,-55,'30 ms')\n",
        "plt.vlines(70,-50,-40)\n",
        "plt.text(40,-45,'10 mV')\n",
        "plt.box(False)\n",
        "plt.xticks([])\n",
        "plt.yticks([])\n",
        "plt.savefig('fig2G.svg')"
      ]
    },
    {
      "cell_type": "code",
      "execution_count": 51,
      "metadata": {
        "id": "PCIg-Z8C4vam",
        "outputId": "8c90aea3-924b-415a-849c-7bc49616772f",
        "colab": {
          "base_uri": "https://localhost:8080/",
          "height": 248
        }
      },
      "outputs": [
        {
          "output_type": "display_data",
          "data": {
            "text/plain": [
              "<Figure size 720x288 with 1 Axes>"
            ],
            "image/png": "[encoded data removed]"
          },
          "metadata": {}
        }
      ],
      "source": [
        "plt.figure(figsize=(10,4))\n",
        "s1 = 3 #323548+1500#np.random.choice(range(v['report']['biophysical']['data'].shape[0]))\n",
        "plt.plot(np.arange(0,400,.1),v['report']['biophysical']['data'][s1:s1+4000,130],color='orange')\n",
        "#1433413, 1161455\n",
        "plt.hlines(-50,70,100)\n",
        "plt.text(70,-55,'30 ms')\n",
        "plt.vlines(70,-50,-40)\n",
        "plt.text(40,-45,'10 mV')\n",
        "plt.box(False)\n",
        "plt.xticks([])\n",
        "plt.yticks([])\n",
        "plt.savefig('fig2F.svg')"
      ]
    },
    {
      "cell_type": "code",
      "execution_count": 52,
      "metadata": {
        "id": "LkAUkRjt4vam",
        "outputId": "8a42b164-c67d-4d6f-d46e-35d33cef7c3a",
        "colab": {
          "base_uri": "https://localhost:8080/",
          "height": 248
        }
      },
      "outputs": [
        {
          "output_type": "display_data",
          "data": {
            "text/plain": [
              "<Figure size 720x288 with 1 Axes>"
            ],
            "image/png": "[encoded data removed]"
          },
          "metadata": {}
        }
      ],
      "source": [
        "plt.figure(figsize=(10,4))\n",
        "s1 = 3 #np.random.choice(range(v['report']['biophysical']['data'].shape[0]))\n",
        "plt.plot(np.arange(0,400,.1),v['report']['biophysical']['data'][s1:s1+4000,0],color='k')\n",
        "#1433413, 1161455\n",
        "plt.hlines(-50,70,100)\n",
        "plt.text(70,-55,'30 ms')\n",
        "plt.vlines(70,-50,-40)\n",
        "plt.text(40,-45,'10 mV')\n",
        "plt.box(False)\n",
        "plt.xticks([])\n",
        "plt.yticks([])\n",
        "plt.savefig('fig2E.svg')"
      ]
    },
    {
      "cell_type": "code",
      "execution_count": 53,
      "metadata": {
        "id": "JV0ulcgT4vam",
        "outputId": "d058d88d-fbb3-40e8-b328-0c7c026aa481",
        "colab": {
          "base_uri": "https://localhost:8080/",
          "height": 248
        }
      },
      "outputs": [
        {
          "output_type": "display_data",
          "data": {
            "text/plain": [
              "<Figure size 720x288 with 1 Axes>"
            ],
            "image/png": "[encoded data removed]"
          },
          "metadata": {}
        }
      ],
      "source": [
        "plt.figure(figsize=(10,4))\n",
        "s1 =  3 #323548+1500#np.random.choice(range(v['report']['biophysical']['data'].shape[0]))\n",
        "plt.plot(np.arange(0,400,.1),v['report']['biophysical']['data'][s1:s1+4000, 4],color='g')\n",
        "#1433413, 1161455\n",
        "plt.hlines(-50,70,100)\n",
        "plt.text(70,-55,'30 ms')\n",
        "plt.vlines(70,-50,-40)\n",
        "plt.text(40,-45,'10 mV')\n",
        "plt.box(False)\n",
        "plt.xticks([])\n",
        "plt.yticks([])\n",
        "plt.savefig('fig2C.svg')"
      ]
    },
    {
      "cell_type": "code",
      "execution_count": 54,
      "metadata": {
        "id": "11E1a7S34vam"
      },
      "outputs": [],
      "source": [
        "# plt.figure(figsize=(10,4))\n",
        "# #s1 = 323548+1500#np.random.choice(range(v['report']['biophysical']['data'].shape[0]))\n",
        "# plt.plot(np.arange(0,400,.1),v['report']['biophysical']['data'][s1:s1+4000,3],color='m')\n",
        "# #1433413, 1161455\n",
        "# plt.hlines(-50,70,100)\n",
        "# plt.text(70,-55,'30 ms')\n",
        "# plt.vlines(70,-50,-40)\n",
        "# plt.text(40,-45,'10 mV')\n",
        "# plt.box(False)\n",
        "# plt.xticks([])\n",
        "# plt.yticks([])\n",
        "# plt.savefig('fig2D.svg')"
      ]
    },
    {
      "cell_type": "code",
      "execution_count": 55,
      "metadata": {
        "id": "nambE_k84vam",
        "outputId": "87711bb0-e6ea-4052-8b51-586d80cff3f3",
        "colab": {
          "base_uri": "https://localhost:8080/",
          "height": 248
        }
      },
      "outputs": [
        {
          "output_type": "display_data",
          "data": {
            "text/plain": [
              "<Figure size 720x288 with 1 Axes>"
            ],
            "image/png": "[encoded data removed]"
          },
          "metadata": {}
        }
      ],
      "source": [
        "plt.figure(figsize=(10,4))\n",
        "s1 = 3 #323548+1500#np.random.choice(range(v['report']['biophysical']['data'].shape[0]))\n",
        "plt.plot(np.arange(0,400,.1),v['report']['biophysical']['data'][s1:s1+4000,70],color='b')\n",
        "#1433413, 1161455\n",
        "plt.hlines(-50,70,100)\n",
        "plt.text(70,-55,'30 ms')\n",
        "plt.vlines(70,-50,-40)\n",
        "plt.text(40,-45,'10 mV')\n",
        "plt.box(False)\n",
        "plt.xticks([])\n",
        "plt.yticks([])\n",
        "plt.savefig('fig2B.svg')"
      ]
    },
    {
      "cell_type": "code",
      "execution_count": 56,
      "metadata": {
        "id": "ujT5jG9g4vam",
        "outputId": "3a2aec45-7641-4e0e-c56a-264994307614",
        "colab": {
          "base_uri": "https://localhost:8080/",
          "height": 248
        }
      },
      "outputs": [
        {
          "output_type": "display_data",
          "data": {
            "text/plain": [
              "<Figure size 720x288 with 1 Axes>"
            ],
            "image/png": "[encoded data removed]"
          },
          "metadata": {}
        }
      ],
      "source": [
        "plt.figure(figsize=(10,4))\n",
        "s1 = 3 #323548+1500#np.random.choice(range(v['report']['biophysical']['data'].shape[0]))\n",
        "plt.plot(np.arange(0,400,.1),v['report']['biophysical']['data'][s1:s1+4000, 30],color='r')\n",
        "#1433413, 1161455\n",
        "plt.hlines(-60,170,200)\n",
        "plt.text(170,-65,'30 ms')\n",
        "plt.vlines(170,-60,-50)\n",
        "plt.text(140,-55,'10 mV')\n",
        "plt.box(False)\n",
        "plt.xticks([])\n",
        "plt.yticks([])\n",
        "plt.savefig('fig2A.svg')"
      ]
    },
    {
      "cell_type": "code",
      "execution_count": 57,
      "metadata": {
        "id": "dCbbKvX24vam",
        "outputId": "d246ee93-2a74-4f8b-96ee-897bdf91671f",
        "colab": {
          "base_uri": "https://localhost:8080/"
        }
      },
      "outputs": [
        {
          "output_type": "execute_result",
          "data": {
            "text/plain": [
              "3"
            ]
          },
          "metadata": {},
          "execution_count": 57
        }
      ],
      "source": [
        "s1"
      ]
    },
    {
      "cell_type": "code",
      "execution_count": 58,
      "metadata": {
        "id": "iuT57ij34vam",
        "outputId": "8d2ff3cc-9099-47f5-b96c-892208645dde",
        "colab": {
          "base_uri": "https://localhost:8080/",
          "height": 265
        }
      },
      "outputs": [
        {
          "output_type": "execute_result",
          "data": {
            "text/plain": [
              "([], <a list of 0 Text major ticklabel objects>)"
            ]
          },
          "metadata": {},
          "execution_count": 58
        },
        {
          "output_type": "display_data",
          "data": {
            "text/plain": [
              "<Figure size 720x288 with 1 Axes>"
            ],
            "image/png": "[encoded data removed]"
          },
          "metadata": {}
        }
      ],
      "source": [
        "plt.figure(figsize=(10,4))\n",
        "#s1 = 559133+1000#np.random.choice(range(v['report']['biophysical']['data'].shape[0]))\n",
        "plt.plot(np.arange(0,400,.1),v['report']['biophysical']['data'][s1:s1+4000,0],color='k')\n",
        "#1433413, 1161455\n",
        "plt.hlines(-10,40,70)\n",
        "plt.text(40,-15,'30 ms')\n",
        "plt.vlines(40,-10,0)\n",
        "plt.text(5,-5,'10 mV')\n",
        "plt.box(False)\n",
        "plt.xticks([])\n",
        "plt.yticks([])"
      ]
    },
    {
      "cell_type": "code",
      "execution_count": 59,
      "metadata": {
        "id": "PWAxSjgM4vam"
      },
      "outputs": [],
      "source": [
        "# x = ca_df[~pd.isnull(ca_df.ca_lower_bound)].reset_index()\n",
        "# i = np.random.choice(x.index)"
      ]
    },
    {
      "cell_type": "code",
      "execution_count": 60,
      "metadata": {
        "id": "fnauSOmq4vam",
        "outputId": "e1e43116-8318-4c58-967c-2140818ac425",
        "colab": {
          "base_uri": "https://localhost:8080/",
          "height": 609
        }
      },
      "outputs": [
        {
          "output_type": "execute_result",
          "data": {
            "text/plain": [
              "(0.0, 200.0)"
            ]
          },
          "metadata": {},
          "execution_count": 60
        },
        {
          "output_type": "display_data",
          "data": {
            "text/plain": [
              "<Figure size 864x720 with 2 Axes>"
            ],
            "image/png": "[encoded data removed]"
          },
          "metadata": {
            "needs_background": "light"
          }
        }
      ],
      "source": [
        "seg = 30\n",
        "lower_bound = 1000\n",
        "plt.figure(figsize=(12,10))\n",
        "plt.plot(np.arange(0,100,.1),-(hva['report']['biophysical']['data'][lower_bound-100:lower_bound+900,seg]+\\\n",
        "         lva['report']['biophysical']['data'][lower_bound-100:lower_bound+900,seg]+\\\n",
        "         ih['report']['biophysical']['data'][lower_bound-100:lower_bound+900,seg]),color='b')\n",
        "plt.hlines(np.mean(-(hva['report']['biophysical']['data'][lower_bound-100:lower_bound+900,seg]+\\\n",
        "         lva['report']['biophysical']['data'][lower_bound-100:lower_bound+900,seg]+\\\n",
        "         ih['report']['biophysical']['data'][lower_bound-100:lower_bound+900,seg])),0,100,color='b')\n",
        "plt.xlim(0,200)\n",
        "\n",
        "plt.twinx()\n",
        "plt.plot(np.arange(0,100,.1),v['report']['biophysical']['data'][lower_bound-100:lower_bound+900,seg],color='k')\n",
        "plt.plot(np.arange(0,100,.1),v['report']['biophysical']['data'][lower_bound-100:lower_bound+900,0],color='k',alpha=0.2)\n",
        "plt.xlim(0,200)\n"
      ]
    },
    {
      "cell_type": "code",
      "execution_count": 61,
      "metadata": {
        "id": "8mkUlMNO4van"
      },
      "outputs": [],
      "source": [
        "ca_df.reset_index(inplace=True)\n"
      ]
    },
    {
      "cell_type": "code",
      "source": [
        "ca_df"
      ],
      "metadata": {
        "id": "jjypwBwsjbTg",
        "outputId": "7d06b8d5-9241-4695-ff70-bb905c2b3fe3",
        "colab": {
          "base_uri": "https://localhost:8080/",
          "height": 424
        }
      },
      "execution_count": 62,
      "outputs": [
        {
          "output_type": "execute_result",
          "data": {
            "text/plain": [
              "       index  Unnamed: 0  segmentID  ca_lower_bound  ca_upper_bound  mag\n",
              "0          0           0          0             NaN             NaN  NaN\n",
              "1          1           0          1             NaN             NaN  NaN\n",
              "2          2           0          2             NaN             NaN  NaN\n",
              "3          3           0          3             NaN             NaN  NaN\n",
              "4          4           0          4             NaN             NaN  NaN\n",
              "...      ...         ...        ...             ...             ...  ...\n",
              "10937  10937           0       2404             NaN             NaN  NaN\n",
              "10938  10938           0       2405             NaN             NaN  NaN\n",
              "10939  10939           0       2406             NaN             NaN  NaN\n",
              "10940  10940           0       2407             NaN             NaN  NaN\n",
              "10941  10941           0       2408             NaN             NaN  NaN\n",
              "\n",
              "[10942 rows x 6 columns]"
            ],
            "text/html": [
              "\n",
              "  <div id=\"df-3b639812-6630-4856-9bb7-9c8e7bc8b7e4\">\n",
              "    <div class=\"colab-df-container\">\n",
              "      <div>\n",
              "<style scoped>\n",
              "    .dataframe tbody tr th:only-of-type {\n",
              "        vertical-align: middle;\n",
              "    }\n",
              "\n",
              "    .dataframe tbody tr th {\n",
              "        vertical-align: top;\n",
              "    }\n",
              "\n",
              "    .dataframe thead th {\n",
              "        text-align: right;\n",
              "    }\n",
              "</style>\n",
              "<table border=\"1\" class=\"dataframe\">\n",
              "  <thead>\n",
              "    <tr style=\"text-align: right;\">\n",
              "      <th></th>\n",
              "      <th>index</th>\n",
              "      <th>Unnamed: 0</th>\n",
              "      <th>segmentID</th>\n",
              "      <th>ca_lower_bound</th>\n",
              "      <th>ca_upper_bound</th>\n",
              "      <th>mag</th>\n",
              "    </tr>\n",
              "  </thead>\n",
              "  <tbody>\n",
              "    <tr>\n",
              "      <th>0</th>\n",
              "      <td>0</td>\n",
              "      <td>0</td>\n",
              "      <td>0</td>\n",
              "      <td>NaN</td>\n",
              "      <td>NaN</td>\n",
              "      <td>NaN</td>\n",
              "    </tr>\n",
              "    <tr>\n",
              "      <th>1</th>\n",
              "      <td>1</td>\n",
              "      <td>0</td>\n",
              "      <td>1</td>\n",
              "      <td>NaN</td>\n",
              "      <td>NaN</td>\n",
              "      <td>NaN</td>\n",
              "    </tr>\n",
              "    <tr>\n",
              "      <th>2</th>\n",
              "      <td>2</td>\n",
              "      <td>0</td>\n",
              "      <td>2</td>\n",
              "      <td>NaN</td>\n",
              "      <td>NaN</td>\n",
              "      <td>NaN</td>\n",
              "    </tr>\n",
              "    <tr>\n",
              "      <th>3</th>\n",
              "      <td>3</td>\n",
              "      <td>0</td>\n",
              "      <td>3</td>\n",
              "      <td>NaN</td>\n",
              "      <td>NaN</td>\n",
              "      <td>NaN</td>\n",
              "    </tr>\n",
              "    <tr>\n",
              "      <th>4</th>\n",
              "      <td>4</td>\n",
              "      <td>0</td>\n",
              "      <td>4</td>\n",
              "      <td>NaN</td>\n",
              "      <td>NaN</td>\n",
              "      <td>NaN</td>\n",
              "    </tr>\n",
              "    <tr>\n",
              "      <th>...</th>\n",
              "      <td>...</td>\n",
              "      <td>...</td>\n",
              "      <td>...</td>\n",
              "      <td>...</td>\n",
              "      <td>...</td>\n",
              "      <td>...</td>\n",
              "    </tr>\n",
              "    <tr>\n",
              "      <th>10937</th>\n",
              "      <td>10937</td>\n",
              "      <td>0</td>\n",
              "      <td>2404</td>\n",
              "      <td>NaN</td>\n",
              "      <td>NaN</td>\n",
              "      <td>NaN</td>\n",
              "    </tr>\n",
              "    <tr>\n",
              "      <th>10938</th>\n",
              "      <td>10938</td>\n",
              "      <td>0</td>\n",
              "      <td>2405</td>\n",
              "      <td>NaN</td>\n",
              "      <td>NaN</td>\n",
              "      <td>NaN</td>\n",
              "    </tr>\n",
              "    <tr>\n",
              "      <th>10939</th>\n",
              "      <td>10939</td>\n",
              "      <td>0</td>\n",
              "      <td>2406</td>\n",
              "      <td>NaN</td>\n",
              "      <td>NaN</td>\n",
              "      <td>NaN</td>\n",
              "    </tr>\n",
              "    <tr>\n",
              "      <th>10940</th>\n",
              "      <td>10940</td>\n",
              "      <td>0</td>\n",
              "      <td>2407</td>\n",
              "      <td>NaN</td>\n",
              "      <td>NaN</td>\n",
              "      <td>NaN</td>\n",
              "    </tr>\n",
              "    <tr>\n",
              "      <th>10941</th>\n",
              "      <td>10941</td>\n",
              "      <td>0</td>\n",
              "      <td>2408</td>\n",
              "      <td>NaN</td>\n",
              "      <td>NaN</td>\n",
              "      <td>NaN</td>\n",
              "    </tr>\n",
              "  </tbody>\n",
              "</table>\n",
              "<p>10942 rows × 6 columns</p>\n",
              "</div>\n",
              "      <button class=\"colab-df-convert\" onclick=\"convertToInteractive('df-3b639812-6630-4856-9bb7-9c8e7bc8b7e4')\"\n",
              "              title=\"Convert this dataframe to an interactive table.\"\n",
              "              style=\"display:none;\">\n",
              "        \n",
              "  <svg xmlns=\"http://www.w3.org/2000/svg\" height=\"24px\"viewBox=\"0 0 24 24\"\n",
              "       width=\"24px\">\n",
              "    <path d=\"M0 0h24v24H0V0z\" fill=\"none\"/>\n",
              "    <path d=\"M18.56 5.44l.94 2.06.94-2.06 2.06-.94-2.06-.94-.94-2.06-.94 2.06-2.06.94zm-11 1L8.5 8.5l.94-2.06 2.06-.94-2.06-.94L8.5 2.5l-.94 2.06-2.06.94zm10 10l.94 2.06.94-2.06 2.06-.94-2.06-.94-.94-2.06-.94 2.06-2.06.94z\"/><path d=\"M17.41 7.96l-1.37-1.37c-.4-.4-.92-.59-1.43-.59-.52 0-1.04.2-1.43.59L10.3 9.45l-7.72 7.72c-.78.78-.78 2.05 0 2.83L4 21.41c.39.39.9.59 1.41.59.51 0 1.02-.2 1.41-.59l7.78-7.78 2.81-2.81c.8-.78.8-2.07 0-2.86zM5.41 20L4 18.59l7.72-7.72 1.47 1.35L5.41 20z\"/>\n",
              "  </svg>\n",
              "      </button>\n",
              "      \n",
              "  <style>\n",
              "    .colab-df-container {\n",
              "      display:flex;\n",
              "      flex-wrap:wrap;\n",
              "      gap: 12px;\n",
              "    }\n",
              "\n",
              "    .colab-df-convert {\n",
              "      background-color: #E8F0FE;\n",
              "      border: none;\n",
              "      border-radius: 50%;\n",
              "      cursor: pointer;\n",
              "      display: none;\n",
              "      fill: #1967D2;\n",
              "      height: 32px;\n",
              "      padding: 0 0 0 0;\n",
              "      width: 32px;\n",
              "    }\n",
              "\n",
              "    .colab-df-convert:hover {\n",
              "      background-color: #E2EBFA;\n",
              "      box-shadow: 0px 1px 2px rgba(60, 64, 67, 0.3), 0px 1px 3px 1px rgba(60, 64, 67, 0.15);\n",
              "      fill: #174EA6;\n",
              "    }\n",
              "\n",
              "    [theme=dark] .colab-df-convert {\n",
              "      background-color: #3B4455;\n",
              "      fill: #D2E3FC;\n",
              "    }\n",
              "\n",
              "    [theme=dark] .colab-df-convert:hover {\n",
              "      background-color: #434B5C;\n",
              "      box-shadow: 0px 1px 3px 1px rgba(0, 0, 0, 0.15);\n",
              "      filter: drop-shadow(0px 1px 2px rgba(0, 0, 0, 0.3));\n",
              "      fill: #FFFFFF;\n",
              "    }\n",
              "  </style>\n",
              "\n",
              "      <script>\n",
              "        const buttonEl =\n",
              "          document.querySelector('#df-3b639812-6630-4856-9bb7-9c8e7bc8b7e4 button.colab-df-convert');\n",
              "        buttonEl.style.display =\n",
              "          google.colab.kernel.accessAllowed ? 'block' : 'none';\n",
              "\n",
              "        async function convertToInteractive(key) {\n",
              "          const element = document.querySelector('#df-3b639812-6630-4856-9bb7-9c8e7bc8b7e4');\n",
              "          const dataTable =\n",
              "            await google.colab.kernel.invokeFunction('convertToInteractive',\n",
              "                                                     [key], {});\n",
              "          if (!dataTable) return;\n",
              "\n",
              "          const docLinkHtml = 'Like what you see? Visit the ' +\n",
              "            '<a target=\"_blank\" href=https://colab.research.google.com/notebooks/data_table.ipynb>data table notebook</a>'\n",
              "            + ' to learn more about interactive tables.';\n",
              "          element.innerHTML = '';\n",
              "          dataTable['output_type'] = 'display_data';\n",
              "          await google.colab.output.renderOutput(dataTable, element);\n",
              "          const docLink = document.createElement('div');\n",
              "          docLink.innerHTML = docLinkHtml;\n",
              "          element.appendChild(docLink);\n",
              "        }\n",
              "      </script>\n",
              "    </div>\n",
              "  </div>\n",
              "  "
            ]
          },
          "metadata": {},
          "execution_count": 62
        }
      ]
    },
    {
      "cell_type": "code",
      "source": [
        "ca_df[(ca_df.ca_lower_bound>20) & (ca_df.ca_lower_bound<1400000)]"
      ],
      "metadata": {
        "id": "Uwqd8m7-jaAk",
        "outputId": "53ee266d-8cfe-4762-ccc1-95dcf48bfa60",
        "colab": {
          "base_uri": "https://localhost:8080/",
          "height": 424
        }
      },
      "execution_count": 63,
      "outputs": [
        {
          "output_type": "execute_result",
          "data": {
            "text/plain": [
              "       index  Unnamed: 0  segmentID  ca_lower_bound  ca_upper_bound       mag\n",
              "17        17           0         17          6120.0          6376.0 -0.002686\n",
              "18        18           0         18          6120.0          6380.0 -0.004001\n",
              "19        19           0         19          6120.0          6383.0 -0.005349\n",
              "20        20           0         20          6120.0          6386.0 -0.006799\n",
              "21        21           0         21          4619.0          4863.0 -0.004068\n",
              "...      ...         ...        ...             ...             ...       ...\n",
              "10906  10906           1       2376          2929.0          3227.0 -0.092138\n",
              "10907  10907           2       2376          8536.0          8774.0 -0.079931\n",
              "10908  10908           0       2377          1643.0          1858.0 -0.074300\n",
              "10909  10909           1       2377          2929.0          3227.0 -0.095291\n",
              "10910  10910           2       2377          8536.0          8774.0 -0.079736\n",
              "\n",
              "[10173 rows x 6 columns]"
            ],
            "text/html": [
              "\n",
              "  <div id=\"df-a04261e1-dc06-4692-8a7f-9f5f3a05708d\">\n",
              "    <div class=\"colab-df-container\">\n",
              "      <div>\n",
              "<style scoped>\n",
              "    .dataframe tbody tr th:only-of-type {\n",
              "        vertical-align: middle;\n",
              "    }\n",
              "\n",
              "    .dataframe tbody tr th {\n",
              "        vertical-align: top;\n",
              "    }\n",
              "\n",
              "    .dataframe thead th {\n",
              "        text-align: right;\n",
              "    }\n",
              "</style>\n",
              "<table border=\"1\" class=\"dataframe\">\n",
              "  <thead>\n",
              "    <tr style=\"text-align: right;\">\n",
              "      <th></th>\n",
              "      <th>index</th>\n",
              "      <th>Unnamed: 0</th>\n",
              "      <th>segmentID</th>\n",
              "      <th>ca_lower_bound</th>\n",
              "      <th>ca_upper_bound</th>\n",
              "      <th>mag</th>\n",
              "    </tr>\n",
              "  </thead>\n",
              "  <tbody>\n",
              "    <tr>\n",
              "      <th>17</th>\n",
              "      <td>17</td>\n",
              "      <td>0</td>\n",
              "      <td>17</td>\n",
              "      <td>6120.0</td>\n",
              "      <td>6376.0</td>\n",
              "      <td>-0.002686</td>\n",
              "    </tr>\n",
              "    <tr>\n",
              "      <th>18</th>\n",
              "      <td>18</td>\n",
              "      <td>0</td>\n",
              "      <td>18</td>\n",
              "      <td>6120.0</td>\n",
              "      <td>6380.0</td>\n",
              "      <td>-0.004001</td>\n",
              "    </tr>\n",
              "    <tr>\n",
              "      <th>19</th>\n",
              "      <td>19</td>\n",
              "      <td>0</td>\n",
              "      <td>19</td>\n",
              "      <td>6120.0</td>\n",
              "      <td>6383.0</td>\n",
              "      <td>-0.005349</td>\n",
              "    </tr>\n",
              "    <tr>\n",
              "      <th>20</th>\n",
              "      <td>20</td>\n",
              "      <td>0</td>\n",
              "      <td>20</td>\n",
              "      <td>6120.0</td>\n",
              "      <td>6386.0</td>\n",
              "      <td>-0.006799</td>\n",
              "    </tr>\n",
              "    <tr>\n",
              "      <th>21</th>\n",
              "      <td>21</td>\n",
              "      <td>0</td>\n",
              "      <td>21</td>\n",
              "      <td>4619.0</td>\n",
              "      <td>4863.0</td>\n",
              "      <td>-0.004068</td>\n",
              "    </tr>\n",
              "    <tr>\n",
              "      <th>...</th>\n",
              "      <td>...</td>\n",
              "      <td>...</td>\n",
              "      <td>...</td>\n",
              "      <td>...</td>\n",
              "      <td>...</td>\n",
              "      <td>...</td>\n",
              "    </tr>\n",
              "    <tr>\n",
              "      <th>10906</th>\n",
              "      <td>10906</td>\n",
              "      <td>1</td>\n",
              "      <td>2376</td>\n",
              "      <td>2929.0</td>\n",
              "      <td>3227.0</td>\n",
              "      <td>-0.092138</td>\n",
              "    </tr>\n",
              "    <tr>\n",
              "      <th>10907</th>\n",
              "      <td>10907</td>\n",
              "      <td>2</td>\n",
              "      <td>2376</td>\n",
              "      <td>8536.0</td>\n",
              "      <td>8774.0</td>\n",
              "      <td>-0.079931</td>\n",
              "    </tr>\n",
              "    <tr>\n",
              "      <th>10908</th>\n",
              "      <td>10908</td>\n",
              "      <td>0</td>\n",
              "      <td>2377</td>\n",
              "      <td>1643.0</td>\n",
              "      <td>1858.0</td>\n",
              "      <td>-0.074300</td>\n",
              "    </tr>\n",
              "    <tr>\n",
              "      <th>10909</th>\n",
              "      <td>10909</td>\n",
              "      <td>1</td>\n",
              "      <td>2377</td>\n",
              "      <td>2929.0</td>\n",
              "      <td>3227.0</td>\n",
              "      <td>-0.095291</td>\n",
              "    </tr>\n",
              "    <tr>\n",
              "      <th>10910</th>\n",
              "      <td>10910</td>\n",
              "      <td>2</td>\n",
              "      <td>2377</td>\n",
              "      <td>8536.0</td>\n",
              "      <td>8774.0</td>\n",
              "      <td>-0.079736</td>\n",
              "    </tr>\n",
              "  </tbody>\n",
              "</table>\n",
              "<p>10173 rows × 6 columns</p>\n",
              "</div>\n",
              "      <button class=\"colab-df-convert\" onclick=\"convertToInteractive('df-a04261e1-dc06-4692-8a7f-9f5f3a05708d')\"\n",
              "              title=\"Convert this dataframe to an interactive table.\"\n",
              "              style=\"display:none;\">\n",
              "        \n",
              "  <svg xmlns=\"http://www.w3.org/2000/svg\" height=\"24px\"viewBox=\"0 0 24 24\"\n",
              "       width=\"24px\">\n",
              "    <path d=\"M0 0h24v24H0V0z\" fill=\"none\"/>\n",
              "    <path d=\"M18.56 5.44l.94 2.06.94-2.06 2.06-.94-2.06-.94-.94-2.06-.94 2.06-2.06.94zm-11 1L8.5 8.5l.94-2.06 2.06-.94-2.06-.94L8.5 2.5l-.94 2.06-2.06.94zm10 10l.94 2.06.94-2.06 2.06-.94-2.06-.94-.94-2.06-.94 2.06-2.06.94z\"/><path d=\"M17.41 7.96l-1.37-1.37c-.4-.4-.92-.59-1.43-.59-.52 0-1.04.2-1.43.59L10.3 9.45l-7.72 7.72c-.78.78-.78 2.05 0 2.83L4 21.41c.39.39.9.59 1.41.59.51 0 1.02-.2 1.41-.59l7.78-7.78 2.81-2.81c.8-.78.8-2.07 0-2.86zM5.41 20L4 18.59l7.72-7.72 1.47 1.35L5.41 20z\"/>\n",
              "  </svg>\n",
              "      </button>\n",
              "      \n",
              "  <style>\n",
              "    .colab-df-container {\n",
              "      display:flex;\n",
              "      flex-wrap:wrap;\n",
              "      gap: 12px;\n",
              "    }\n",
              "\n",
              "    .colab-df-convert {\n",
              "      background-color: #E8F0FE;\n",
              "      border: none;\n",
              "      border-radius: 50%;\n",
              "      cursor: pointer;\n",
              "      display: none;\n",
              "      fill: #1967D2;\n",
              "      height: 32px;\n",
              "      padding: 0 0 0 0;\n",
              "      width: 32px;\n",
              "    }\n",
              "\n",
              "    .colab-df-convert:hover {\n",
              "      background-color: #E2EBFA;\n",
              "      box-shadow: 0px 1px 2px rgba(60, 64, 67, 0.3), 0px 1px 3px 1px rgba(60, 64, 67, 0.15);\n",
              "      fill: #174EA6;\n",
              "    }\n",
              "\n",
              "    [theme=dark] .colab-df-convert {\n",
              "      background-color: #3B4455;\n",
              "      fill: #D2E3FC;\n",
              "    }\n",
              "\n",
              "    [theme=dark] .colab-df-convert:hover {\n",
              "      background-color: #434B5C;\n",
              "      box-shadow: 0px 1px 3px 1px rgba(0, 0, 0, 0.15);\n",
              "      filter: drop-shadow(0px 1px 2px rgba(0, 0, 0, 0.3));\n",
              "      fill: #FFFFFF;\n",
              "    }\n",
              "  </style>\n",
              "\n",
              "      <script>\n",
              "        const buttonEl =\n",
              "          document.querySelector('#df-a04261e1-dc06-4692-8a7f-9f5f3a05708d button.colab-df-convert');\n",
              "        buttonEl.style.display =\n",
              "          google.colab.kernel.accessAllowed ? 'block' : 'none';\n",
              "\n",
              "        async function convertToInteractive(key) {\n",
              "          const element = document.querySelector('#df-a04261e1-dc06-4692-8a7f-9f5f3a05708d');\n",
              "          const dataTable =\n",
              "            await google.colab.kernel.invokeFunction('convertToInteractive',\n",
              "                                                     [key], {});\n",
              "          if (!dataTable) return;\n",
              "\n",
              "          const docLinkHtml = 'Like what you see? Visit the ' +\n",
              "            '<a target=\"_blank\" href=https://colab.research.google.com/notebooks/data_table.ipynb>data table notebook</a>'\n",
              "            + ' to learn more about interactive tables.';\n",
              "          element.innerHTML = '';\n",
              "          dataTable['output_type'] = 'display_data';\n",
              "          await google.colab.output.renderOutput(dataTable, element);\n",
              "          const docLink = document.createElement('div');\n",
              "          docLink.innerHTML = docLinkHtml;\n",
              "          element.appendChild(docLink);\n",
              "        }\n",
              "      </script>\n",
              "    </div>\n",
              "  </div>\n",
              "  "
            ]
          },
          "metadata": {},
          "execution_count": 63
        }
      ]
    },
    {
      "cell_type": "code",
      "execution_count": 64,
      "metadata": {
        "id": "dtBzzaBz4van",
        "outputId": "9b055176-1d59-4449-9aef-31b7aa7e74d1",
        "colab": {
          "base_uri": "https://localhost:8080/",
          "height": 415
        }
      },
      "outputs": [
        {
          "output_type": "error",
          "ename": "ValueError",
          "evalue": "ignored",
          "traceback": [
            "\u001b[0;31m---------------------------------------------------------------------------\u001b[0m",
            "\u001b[0;31mValueError\u001b[0m                                Traceback (most recent call last)",
            "\u001b[0;32m<ipython-input-64-3eb1e412e57b>\u001b[0m in \u001b[0;36m<module>\u001b[0;34m\u001b[0m\n\u001b[1;32m      7\u001b[0m                 \u001b[0mlva\u001b[0m\u001b[0;34m[\u001b[0m\u001b[0;34m'report'\u001b[0m\u001b[0;34m]\u001b[0m\u001b[0;34m[\u001b[0m\u001b[0;34m'biophysical'\u001b[0m\u001b[0;34m]\u001b[0m\u001b[0;34m[\u001b[0m\u001b[0;34m'data'\u001b[0m\u001b[0;34m]\u001b[0m\u001b[0;34m[\u001b[0m\u001b[0mspkt\u001b[0m\u001b[0;34m-\u001b[0m\u001b[0;36m100\u001b[0m\u001b[0;34m:\u001b[0m\u001b[0mspkt\u001b[0m\u001b[0;34m+\u001b[0m\u001b[0;36m200\u001b[0m\u001b[0;34m,\u001b[0m\u001b[0mseg\u001b[0m\u001b[0;34m]\u001b[0m \u001b[0;34m+\u001b[0m\u001b[0;31m \u001b[0m\u001b[0;31m\\\u001b[0m\u001b[0;34m\u001b[0m\u001b[0;34m\u001b[0m\u001b[0m\n\u001b[1;32m      8\u001b[0m                 ih['report']['biophysical']['data'][spkt-100:spkt+200,seg])\n\u001b[0;32m----> 9\u001b[0;31m         \u001b[0mpeak_value\u001b[0m \u001b[0;34m=\u001b[0m \u001b[0mnp\u001b[0m\u001b[0;34m.\u001b[0m\u001b[0mmax\u001b[0m\u001b[0;34m(\u001b[0m\u001b[0mtrace\u001b[0m\u001b[0;34m)\u001b[0m\u001b[0;34m\u001b[0m\u001b[0;34m\u001b[0m\u001b[0m\n\u001b[0m\u001b[1;32m     10\u001b[0m         \u001b[0mhalf_peak\u001b[0m \u001b[0;34m=\u001b[0m \u001b[0mpeak_value\u001b[0m\u001b[0;34m/\u001b[0m\u001b[0;36m2\u001b[0m\u001b[0;34m\u001b[0m\u001b[0;34m\u001b[0m\u001b[0m\n\u001b[1;32m     11\u001b[0m         \u001b[0mduration\u001b[0m \u001b[0;34m=\u001b[0m \u001b[0mnp\u001b[0m\u001b[0;34m.\u001b[0m\u001b[0marange\u001b[0m\u001b[0;34m(\u001b[0m\u001b[0;36m0\u001b[0m\u001b[0;34m,\u001b[0m\u001b[0;36m300\u001b[0m\u001b[0;34m)\u001b[0m\u001b[0;34m[\u001b[0m\u001b[0mtrace\u001b[0m\u001b[0;34m>\u001b[0m\u001b[0mhalf_peak\u001b[0m\u001b[0;34m]\u001b[0m \u001b[0;34m+\u001b[0m \u001b[0mspkt\u001b[0m \u001b[0;34m-\u001b[0m \u001b[0;36m10\u001b[0m\u001b[0;34m\u001b[0m\u001b[0;34m\u001b[0m\u001b[0m\n",
            "\u001b[0;32m<__array_function__ internals>\u001b[0m in \u001b[0;36mamax\u001b[0;34m(*args, **kwargs)\u001b[0m\n",
            "\u001b[0;32m/usr/local/lib/python3.7/dist-packages/numpy/core/fromnumeric.py\u001b[0m in \u001b[0;36mamax\u001b[0;34m(a, axis, out, keepdims, initial, where)\u001b[0m\n\u001b[1;32m   2753\u001b[0m     \"\"\"\n\u001b[1;32m   2754\u001b[0m     return _wrapreduction(a, np.maximum, 'max', axis, None, out,\n\u001b[0;32m-> 2755\u001b[0;31m                           keepdims=keepdims, initial=initial, where=where)\n\u001b[0m\u001b[1;32m   2756\u001b[0m \u001b[0;34m\u001b[0m\u001b[0m\n\u001b[1;32m   2757\u001b[0m \u001b[0;34m\u001b[0m\u001b[0m\n",
            "\u001b[0;32m/usr/local/lib/python3.7/dist-packages/numpy/core/fromnumeric.py\u001b[0m in \u001b[0;36m_wrapreduction\u001b[0;34m(obj, ufunc, method, axis, dtype, out, **kwargs)\u001b[0m\n\u001b[1;32m     84\u001b[0m                 \u001b[0;32mreturn\u001b[0m \u001b[0mreduction\u001b[0m\u001b[0;34m(\u001b[0m\u001b[0maxis\u001b[0m\u001b[0;34m=\u001b[0m\u001b[0maxis\u001b[0m\u001b[0;34m,\u001b[0m \u001b[0mout\u001b[0m\u001b[0;34m=\u001b[0m\u001b[0mout\u001b[0m\u001b[0;34m,\u001b[0m \u001b[0;34m**\u001b[0m\u001b[0mpasskwargs\u001b[0m\u001b[0;34m)\u001b[0m\u001b[0;34m\u001b[0m\u001b[0;34m\u001b[0m\u001b[0m\n\u001b[1;32m     85\u001b[0m \u001b[0;34m\u001b[0m\u001b[0m\n\u001b[0;32m---> 86\u001b[0;31m     \u001b[0;32mreturn\u001b[0m \u001b[0mufunc\u001b[0m\u001b[0;34m.\u001b[0m\u001b[0mreduce\u001b[0m\u001b[0;34m(\u001b[0m\u001b[0mobj\u001b[0m\u001b[0;34m,\u001b[0m \u001b[0maxis\u001b[0m\u001b[0;34m,\u001b[0m \u001b[0mdtype\u001b[0m\u001b[0;34m,\u001b[0m \u001b[0mout\u001b[0m\u001b[0;34m,\u001b[0m \u001b[0;34m**\u001b[0m\u001b[0mpasskwargs\u001b[0m\u001b[0;34m)\u001b[0m\u001b[0;34m\u001b[0m\u001b[0;34m\u001b[0m\u001b[0m\n\u001b[0m\u001b[1;32m     87\u001b[0m \u001b[0;34m\u001b[0m\u001b[0m\n\u001b[1;32m     88\u001b[0m \u001b[0;34m\u001b[0m\u001b[0m\n",
            "\u001b[0;31mValueError\u001b[0m: zero-size array to reduction operation maximum which has no identity"
          ]
        }
      ],
      "source": [
        "for i in np.random.choice(ca_df[(ca_df.ca_lower_bound>20) & (ca_df.ca_lower_bound<1400000)].index,100):\n",
        "    seg = ca_df.loc[i,'segmentID']\n",
        "    if not pd.isnull(ca_df.loc[i,'ca_lower_bound']):\n",
        "        spkt = int(ca_df.loc[i,'ca_lower_bound'])\n",
        "        \n",
        "        trace = -(hva['report']['biophysical']['data'][spkt-100:spkt+200,seg] + \\\n",
        "                lva['report']['biophysical']['data'][spkt-100:spkt+200,seg] + \\\n",
        "                ih['report']['biophysical']['data'][spkt-100:spkt+200,seg])\n",
        "        peak_value = np.max(trace)\n",
        "        half_peak = peak_value/2\n",
        "        duration = np.arange(0,300)[trace>half_peak] + spkt - 10\n",
        "        ca_df.loc[i,'duration_low'] = duration[0]\n",
        "        ca_df.loc[i,'duration_high'] = duration[-1]\n",
        "        ca_df.loc[i,'peak_value'] = peak_value\n",
        "    else:\n",
        "        ca_df.loc[i,'duration_low'] = np.nan\n",
        "        ca_df.loc[i,'duration_high'] = np.nan\n",
        "        ca_df.loc[i,'peak_value'] = np.nan"
      ]
    },
    {
      "cell_type": "code",
      "execution_count": null,
      "metadata": {
        "id": "hvooGULD4vao"
      },
      "outputs": [],
      "source": [
        "ca_df[~pd.isnull(ca_df.duration_high)]"
      ]
    },
    {
      "cell_type": "code",
      "execution_count": null,
      "metadata": {
        "id": "I2LTfVlf4vao"
      },
      "outputs": [],
      "source": [
        "seg = 90\n",
        "lower_bound = 150\n",
        "#upper_bound = \n",
        "plt.plot(-(hva['report']['biophysical']['data'][lower_bound-100:lower_bound+600,seg]+\\\n",
        "         lva['report']['biophysical']['data'][lower_bound-100:lower_bound+600,seg]+\\\n",
        "         ih['report']['biophysical']['data'][lower_bound-100:lower_bound+600,seg]))\n",
        "plt.plot(1000,-(hva['report']['biophysical']['data'][lower_bound,seg]+\\\n",
        "         lva['report']['biophysical']['data'][lower_bound,seg]+\\\n",
        "         ih['report']['biophysical']['data'][lower_bound,seg]),'*')\n",
        "\n",
        "plt.plot(1000-lower_bound,-(hva['report']['biophysical']['data'][150,seg]+\\\n",
        "         lva['report']['biophysical']['data'][150,seg]+\\\n",
        "         ih['report']['biophysical']['data'][150,seg]),'*')\n",
        "\n",
        "plt.twinx()\n",
        "plt.plot(v['report']['biophysical']['data'][lower_bound-100:lower_bound+1000,seg],color='k')"
      ]
    },
    {
      "cell_type": "markdown",
      "metadata": {
        "id": "HBev4JNL4vao"
      },
      "source": [
        "----------"
      ]
    },
    {
      "cell_type": "code",
      "execution_count": null,
      "metadata": {
        "id": "R71f8PX94vao"
      },
      "outputs": [],
      "source": [
        "segs_ca_df = segs.set_index('segmentID').join(ca_df.set_index('segmentID')).reset_index() "
      ]
    },
    {
      "cell_type": "code",
      "execution_count": null,
      "metadata": {
        "id": "LyMAEk3i4vao"
      },
      "outputs": [],
      "source": [
        "def get_ca_sta(segs_ca_df, spktimes):\n",
        "\n",
        "    ca_apic = np.zeros((10,39,))\n",
        "    \n",
        "    edges_apic=np.quantile(segs_ca_df[(~pd.isnull(segs_ca_df.ca_lower_bound))&\n",
        "                                       (segs_ca_df.Type=='apic')]['Elec_distance'].unique(),np.arange(0,1.1,0.1))\n",
        "    \n",
        "    \n",
        "    \n",
        "    actual_spktimes = []\n",
        "    c = 0\n",
        "    for i in np.sort(spktimes):\n",
        "        # excludes bursts\n",
        "        if i-c > 10:\n",
        "            for e in np.arange(0,10):\n",
        "                ca_inds = segs_ca_df[(~pd.isnull(segs_ca_df.ca_lower_bound))&\n",
        "                                     (segs_ca_df.Type=='apic')&\n",
        "                                     (segs_ca_df.Elec_distance>edges_apic[e])&\n",
        "                                     (segs_ca_df.Elec_distance<=edges_apic[e+1])]['ca_lower_bound'].values.astype(int)\n",
        "    \n",
        "                x2, _ = np.histogram(ca_inds/10,bins=np.arange(np.floor(i)-20,np.floor(i)+20,1))\n",
        "                ca_apic[e] += x2\n",
        "                \n",
        "                \n",
        "            \n",
        "            actual_spktimes.append(i)\n",
        "        c = i\n",
        "    return ca_apic"
      ]
    },
    {
      "cell_type": "code",
      "execution_count": null,
      "metadata": {
        "id": "kQYQ-85F4vao"
      },
      "outputs": [],
      "source": [
        "ca_apic = get_ca_sta(segs_ca_df, spktimes)"
      ]
    },
    {
      "cell_type": "code",
      "execution_count": null,
      "metadata": {
        "id": "Yl3731-G4vao"
      },
      "outputs": [],
      "source": [
        "rand_spktimes = np.sort(np.random.choice(np.arange(0,150000), spktimes.shape[0]))\n",
        "ca_apic_rand = get_ca_sta(segs_ca_df, rand_spktimes)"
      ]
    },
    {
      "cell_type": "code",
      "execution_count": null,
      "metadata": {
        "id": "n5K1ytuF4vao"
      },
      "outputs": [],
      "source": [
        "plt.figure(figsize=(10,10))\n",
        "plt.subplot(2,1,1)\n",
        "plt.title('Ca spikes - apical')\n",
        "plt.imshow((ca_apic-ca_apic_rand)/len(spktimes),cmap='jet')\n",
        "plt.xticks(ticks=np.arange(0,40,2)-0.5,labels=['{}'.format(i) for i in np.arange(-20,20,2)])\n",
        "plt.colorbar(label='events per AP')\n",
        "plt.yticks(ticks=[0,9],labels=['further','closer'])\n",
        "\n",
        "plt.show()"
      ]
    },
    {
      "cell_type": "markdown",
      "metadata": {
        "id": "Gng6B9sn4vao"
      },
      "source": [
        "----------------------"
      ]
    },
    {
      "cell_type": "code",
      "execution_count": null,
      "metadata": {
        "id": "BMeGyYxP4vao"
      },
      "outputs": [],
      "source": [
        "#apic_exc = segs_conns[(segs_conns['Source Population']=='exc_stim')&(segs_conns.Type=='apic')].groupby('segmentID')['Conductance'].sum().reset_index()\n",
        "\n",
        "#basal_exc = segs_conns[(segs_conns['Source Population']=='exc_stim')&(segs_conns.Type=='dend')].groupby('segmentID')['Conductance'].sum().reset_index()\n"
      ]
    },
    {
      "cell_type": "code",
      "execution_count": null,
      "metadata": {
        "id": "MfzXuS744vao"
      },
      "outputs": [],
      "source": [
        "nmda_df = pd.DataFrame(columns=['segmentID','nmda_lower_bound', 'nmda_upper_bound', 'mag'])\n",
        "for p in segs[(segs.Type=='dend')|(segs.Type=='apic')].index: #(segs.Type=='dend')|(segs.Type=='apic')\n",
        "    #print(p)\n",
        "    legit_uc = voltage_criterion(data=v['report']['biophysical']['data'][:,p],v_thresh=-40, time_thresh=260)[1]\n",
        "    legit_dc = voltage_criterion(data=v['report']['biophysical']['data'][:,p],v_thresh=-40, time_thresh=260)[-1]\n",
        "    \n",
        "    legit_uc_iso = legit_uc\n",
        "    \n",
        "    legit_dc_iso = legit_dc\n",
        "\n",
        "    #print(legit_uc)\n",
        "    #print(legit_dc)\n",
        "    \n",
        "    if (len(legit_uc_iso)!=0) & (np.min(nmda['report']['biophysical']['data'][:,p])!=0):\n",
        "        print('if')\n",
        "        bnds, sum_curr = current_criterion(legit_uc_iso=legit_uc_iso, \n",
        "                                           legit_dc_iso=legit_dc_iso, \n",
        "                                           p=p, \n",
        "                                           control_inmda=nmda['report']['biophysical']['data'])\n",
        "\n",
        "\n",
        "        nmda_df = nmda_df.append(pd.DataFrame({'segmentID':np.tile(p,len(bnds)),\n",
        "                                               'nmda_lower_bound':np.array(bnds).reshape(-1,2)[:,0],\n",
        "                                               'nmda_upper_bound':np.array(bnds).reshape(-1,2)[:,1],\n",
        "                                               'mag':sum_curr}))\n",
        "        #print(nmda_df.mag)\n",
        "    \n",
        "    else:\n",
        "        #print('else')\n",
        "        nmda_df = nmda_df.append(pd.DataFrame({'segmentID':np.tile(p,1),\n",
        "                                               'nmda_lower_bound':np.nan,\n",
        "                                               'nmda_upper_bound':np.nan,\n",
        "                                               'mag':np.nan}))\n",
        "\n",
        "\n",
        "#display(nmda_df.mag.to_string())\n",
        "\n",
        "\n",
        "#min(nmda_df.mag)"
      ]
    },
    {
      "cell_type": "code",
      "execution_count": null,
      "metadata": {
        "id": "aJjsh-nm4vao"
      },
      "outputs": [],
      "source": [
        "#nmda_df.to_csv('nmda_df.csv')\n",
        "#nmda_df = pd.read_csv('nmda_df.csv')\n"
      ]
    },
    {
      "cell_type": "code",
      "source": [
        "#mda_df.mag <= -0.000000001"
      ],
      "metadata": {
        "id": "uIBW0Pcvm_9_"
      },
      "execution_count": null,
      "outputs": []
    },
    {
      "cell_type": "code",
      "source": [
        "#segs_nmda_df[:]"
      ],
      "metadata": {
        "id": "K6VLU3bijMpa"
      },
      "execution_count": null,
      "outputs": []
    },
    {
      "cell_type": "code",
      "execution_count": null,
      "metadata": {
        "id": "OmMMqHsd4vao"
      },
      "outputs": [],
      "source": [
        "#nmda_df.rename(columns={'seg_id':'segmentID'},inplace=True)"
      ]
    },
    {
      "cell_type": "code",
      "execution_count": null,
      "metadata": {
        "id": "uV6HLncB4vao"
      },
      "outputs": [],
      "source": [
        "segs_nmda_df = segs.join(nmda_df.set_index('segmentID')).reset_index()"
      ]
    },
    {
      "cell_type": "code",
      "source": [
        "segs_nmda_df[(segs_nmda_df.mag<-0.0001)&\n",
        "                                  (segs_nmda_df.Type=='dend')]"
      ],
      "metadata": {
        "id": "BelzXR-DaPcv"
      },
      "execution_count": null,
      "outputs": []
    },
    {
      "cell_type": "code",
      "source": [
        "#min(segs_nmda_df.mag)"
      ],
      "metadata": {
        "id": "KqVpKnXVhEvv"
      },
      "execution_count": null,
      "outputs": []
    },
    {
      "cell_type": "code",
      "source": [
        "#segs_nmda_df[(segs_nmda_df.mag<-0.0001)]"
      ],
      "metadata": {
        "id": "daMclJ5hn1Sd"
      },
      "execution_count": null,
      "outputs": []
    },
    {
      "cell_type": "code",
      "execution_count": null,
      "metadata": {
        "id": "UERHIibr4vao"
      },
      "outputs": [],
      "source": [
        "def get_nmda_sta(segs_nmda_df, spktimes):    \n",
        "    nmda_dend = np.zeros((10,27,))\n",
        "    nmda_apic = np.zeros((10,27,))\n",
        "    \n",
        "    edges_dend=np.quantile(segs_nmda_df[(segs_nmda_df.mag<-0.0001)&\n",
        "                                  (segs_nmda_df.Type=='dend')]['Elec_distance'].unique(),np.arange(0,1.1,0.1))\n",
        "    edges_apic=np.quantile(segs_nmda_df[(segs_nmda_df.mag<-0.00001)&\n",
        "                                   (segs_nmda_df.Type=='apic')]['Elec_distance'].unique(),np.arange(0,1.1,0.1))\n",
        "    \n",
        "    actual_spktimes = []\n",
        "    c = 0\n",
        "    for i in np.sort(spktimes):\n",
        "        # excludes bursts\n",
        "        if i-c > 10:\n",
        "            for e in np.arange(0,10):\n",
        "                nmda_inds = segs_nmda_df[(segs_nmda_df.mag<-0.0001)&\n",
        "                                     (segs_nmda_df.Type=='dend')&\n",
        "                                     (segs_nmda_df.Elec_distance>edges_dend[e])&\n",
        "                                     (segs_nmda_df.Elec_distance<=edges_dend[e+1])]['nmda_lower_bound'].values.astype(int)\n",
        "    \n",
        "                x2, _ = np.histogram(nmda_inds/10,bins=np.arange(np.floor(i)-100,np.floor(i)+40,5))\n",
        "                nmda_dend[e] += x2\n",
        "                \n",
        "                nmda_inds = segs_nmda_df[(segs_nmda_df.mag<-0.0001)&\n",
        "                                     (segs_nmda_df.Type=='apic')&\n",
        "                                     (segs_nmda_df.Elec_distance>edges_apic[e])&\n",
        "                                     (segs_nmda_df.Elec_distance<=edges_apic[e+1])]['nmda_lower_bound'].values.astype(int)\n",
        "    \n",
        "                x2, _ = np.histogram(nmda_inds/10,bins=np.arange(np.floor(i)-100,np.floor(i)+40,5))\n",
        "                nmda_apic[e] += x2\n",
        "            \n",
        "            actual_spktimes.append(i)\n",
        "        c = i\n",
        "        \n",
        "    return nmda_dend, nmda_apic"
      ]
    },
    {
      "cell_type": "code",
      "execution_count": null,
      "metadata": {
        "id": "tW8SvGK54vap"
      },
      "outputs": [],
      "source": [
        "nmda_dend, nmda_apic = get_nmda_sta(segs_nmda_df, spktimes)"
      ]
    },
    {
      "cell_type": "code",
      "execution_count": null,
      "metadata": {
        "id": "rwHm5TI-4vap"
      },
      "outputs": [],
      "source": [
        "rand_spktimes = np.sort(np.random.choice(np.arange(0,150000), spktimes.shape[0]))"
      ]
    },
    {
      "cell_type": "code",
      "execution_count": null,
      "metadata": {
        "id": "fWaFLebh4vap"
      },
      "outputs": [],
      "source": [
        "nmda_dend_rand, nmda_apic_rand = get_nmda_sta(segs_nmda_df, rand_spktimes)"
      ]
    },
    {
      "cell_type": "code",
      "execution_count": null,
      "metadata": {
        "id": "Xn3bcESa4vap"
      },
      "outputs": [],
      "source": [
        "plt.figure(figsize=(10,10))\n",
        "plt.subplot(2,1,1)\n",
        "plt.title('NMDA spikes - apical')\n",
        "plt.imshow((nmda_apic-nmda_apic_rand)/len(spktimes),cmap='jet',vmin=-0.2,vmax=0.2)\n",
        "plt.xticks(ticks=np.arange(0,26,4)-0.5,labels=['{}'.format(i) for i in np.arange(-100,40,20)])\n",
        "plt.yticks(ticks=[0,9],labels=['further','closer'])\n",
        "plt.colorbar(label='additional events per AP')\n",
        "plt.xlabel('time (ms)')\n",
        "plt.xlim(5,26)\n",
        "\n",
        "plt.subplot(2,1,2)\n",
        "plt.title('NMDA spikes - basal')\n",
        "plt.imshow((nmda_dend-nmda_dend_rand)/len(spktimes),cmap='jet', vmin=-0.2, vmax=0.2)\n",
        "plt.xticks(ticks=np.arange(0,26,4)-0.5,labels=['{}'.format(i) for i in np.arange(-100,40,20)])\n",
        "plt.yticks(ticks=[0,9],labels=['further','closer'])\n",
        "plt.colorbar(label='additional events per AP')\n",
        "plt.xlim(5,26)\n",
        "\n",
        "plt.xlabel('time (ms)')\n",
        "plt.show()"
      ]
    },
    {
      "cell_type": "code",
      "source": [
        "sum(segs_nmda_df['segmentID'][segs_nmda_df.Type=='dend'])"
      ],
      "metadata": {
        "id": "tRJwv3z0ZJuF"
      },
      "execution_count": null,
      "outputs": []
    },
    {
      "cell_type": "code",
      "source": [
        "total_basal_nmda = sum(segs_nmda_df['segmentID'][segs_nmda_df.Type=='dend'][~pd.isnull(segs_nmda_df.mag)])\n",
        "num_basal_seg = len(segs[segs.Type=='dend'])\n",
        "\n",
        "total_apic_nmda = sum(segs_nmda_df['segmentID'][segs_nmda_df.Type=='apic'][~pd.isnull(segs_nmda_df.mag)])\n",
        "num_apic_seg = len(segs[segs.Type=='apic'])\n",
        "\n",
        "apic_nmda_perSeg_perSec = total_apic_nmda / num_apic_seg\n",
        "basal_ndma_perSeg_perSec = total_basal_nmda / num_basal_seg\n",
        "\n",
        "data = {'basal':basal_ndma_perSeg_perSec, 'apic':apic_nmda_perSeg_perSec}\n",
        "group = list(data.keys())\n",
        "value = list(data.values())\n",
        "\n",
        "fig = plt.figure(figsize = (10, 5))\n",
        "plt.title('NMDA spikes per segment per second')\n",
        "\n",
        "\n",
        "# creating the bar plot\n",
        "plt.barh(group, value, color ='lightseagreen')"
      ],
      "metadata": {
        "id": "p8xAAj5CXXXj"
      },
      "execution_count": null,
      "outputs": []
    },
    {
      "cell_type": "code",
      "source": [
        "total_basal_na = sum(segs_na_df['segmentID'][segs_na_df.Type=='dend'][~pd.isnull(segs_na_df.duration_high)])\n",
        "num_basal_seg = len(segs[segs.Type=='dend'])\n",
        "\n",
        "total_apic_na = sum(segs_na_df['segmentID'][segs_na_df.Type=='apic'][~pd.isnull(segs_na_df.duration_high)])\n",
        "num_apic_seg = len(segs[segs.Type=='apic'])\n",
        "\n",
        "apic_na_perSeg_perSec = total_apic_na / num_apic_seg\n",
        "basal_na_perSeg_perSec = total_basal_na / num_basal_seg\n",
        "\n",
        "data = {'basal':basal_na_perSeg_perSec, 'apic':apic_na_perSeg_perSec}\n",
        "group = list(data.keys())\n",
        "value = list(data.values())\n",
        "\n",
        "fig = plt.figure(figsize = (10, 5))\n",
        "plt.title('Na spikes per segment per second')\n",
        "\n",
        "\n",
        "# creating the bar plot\n",
        "plt.barh(group, value, color ='powderblue')"
      ],
      "metadata": {
        "id": "k9-SY0ioXYnh"
      },
      "execution_count": null,
      "outputs": []
    },
    {
      "cell_type": "code",
      "source": [
        "total_basal_ca = sum(segs_ca_df['index'][segs_ca_df.Type=='dend'][~pd.isnull(segs_ca_df.duration_high)])\n",
        "num_basal_seg = len(segs[segs.Type=='dend'])\n",
        "\n",
        "print(total_basal_ca)\n",
        "\n",
        "total_apic_ca = sum(segs_ca_df['index'][segs_ca_df.Type=='apic'][~pd.isnull(segs_ca_df.duration_high)])\n",
        "num_apic_seg = len(segs[segs.Type=='apic'])\n",
        "\n",
        "apic_ca_perSeg_perSec = total_apic_ca / num_apic_seg\n",
        "basal_ca_perSeg_perSec = total_basal_ca / num_basal_seg\n",
        "\n",
        "\n",
        "data = {'basal':basal_ca_perSeg_perSec, 'apic':apic_ca_perSeg_perSec}\n",
        "group = list(data.keys())\n",
        "value = list(data.values())\n",
        "\n",
        "fig = plt.figure(figsize = (10, 5))\n",
        "\n",
        "plt.title('Calcium spikes per segment per second')\n",
        "\n",
        " \n",
        "# creating the bar plot\n",
        "plt.barh(group, value, color ='tomato')"
      ],
      "metadata": {
        "id": "lGeNOKN4aPrg"
      },
      "execution_count": null,
      "outputs": []
    },
    {
      "cell_type": "code",
      "execution_count": null,
      "metadata": {
        "id": "Y6ecjQg64vap"
      },
      "outputs": [],
      "source": [
        "for i in np.arange(0,10):\n",
        "    plt.plot(np.arange(-40,95,5),nmda_dend[i]/np.sum(nmda_dend[i]))\n"
      ]
    },
    {
      "cell_type": "code",
      "execution_count": null,
      "metadata": {
        "id": "nvS-77j54vap"
      },
      "outputs": [],
      "source": [
        "# segs_conns[(segs_conns['Sec ID']==80) & (segs_conns.Type=='dend')]['Source Population'].value_counts()"
      ]
    },
    {
      "cell_type": "markdown",
      "source": [],
      "metadata": {
        "id": "ZDksdcux4geV"
      }
    },
    {
      "cell_type": "code",
      "execution_count": null,
      "metadata": {
        "id": "Wx2PiJh94vap"
      },
      "outputs": [],
      "source": [
        "plt.figure(figsize=(10,10))\n",
        "ind = 55\n",
        "plt.plot(segs['Coord X'], segs['Coord Y'], 'b.')\n",
        "plt.plot(segs.loc[0,'Coord X'], segs.loc[0,'Coord Y'], 'k.',markersize=20)\n",
        "\n",
        "plt.plot(segs.loc[ind,'Coord X'], segs.loc[ind,'Coord Y'], 'r*',markersize=20)\n",
        "\n",
        "# for i in segs_conns[(segs_conns.Type=='dend')&(segs_conns['Sec ID']==2)]['Sec ID'].unique():\n",
        "#     plt.plot(segs[(segs['Sec ID']==i)&(segs['Type']=='dend')]['Coord X'],\n",
        "#              segs[(segs['Sec ID']==i)&(segs['Type']=='dend')]['Coord Y'],color='r')\n",
        "    \n",
        "#for i in segs_conns[(segs_conns.Type=='dend')&(segs_conns['Sec ID']==7)]['Sec ID'].unique():\n",
        "#    plt.plot(segs[(segs['Sec ID']==i)&(segs['Type']=='dend')]['Coord X'],\n",
        "#             segs[(segs['Sec ID']==i)&(segs['Type']=='dend')]['Coord Y'],color='c')\n",
        "    \n",
        "#plt.plot(segs[segs.segmentID==119]['Coord X'], segs[segs.segmentID==119]['Coord Y'],'r*',markersize=14)\n",
        "#plt.plot(segs[segs.segmentID==110]['Coord X'], segs[segs.segmentID==110]['Coord Y'],'r*',markersize=14)\n",
        "#plt.plot(segs[segs.segmentID==103]['Coord X'], segs[segs.segmentID==103]['Coord Y'],'r*',markersize=14)\n",
        "\n",
        "#plt.plot(segs[segs.segmentID==134]['Coord X'], segs[segs.segmentID==134]['Coord Y'],'c*',markersize=14)\n",
        "plt.ylim(-25,50)\n",
        "plt.xlim(-150,150)"
      ]
    },
    {
      "cell_type": "code",
      "execution_count": null,
      "metadata": {
        "id": "iskhzr3R4vap"
      },
      "outputs": [],
      "source": [
        "# plt.figure(figsize=(10,10))\n",
        "# plt.plot(f['report']['biophysical']['data'][:,119],color='b')\n",
        "# plt.plot(f['report']['biophysical']['data'][:,110],color='b',alpha=0.5)\n",
        "# plt.plot(f['report']['biophysical']['data'][:,104],color='b',alpha=0.1)\n",
        "\n",
        "# plt.plot(f['report']['biophysical']['data'][:,134],color='c',alpha=1)\n",
        "# plt.plot(f['report']['biophysical']['data'][:,0],'k')\n",
        "# plt.twinx()\n",
        "# plt.plot(h['report']['biophysical']['data'][:,119],color='r')\n",
        "# plt.plot(h['report']['biophysical']['data'][:,110],color='r',alpha=0.5)\n",
        "# plt.plot(h['report']['biophysical']['data'][:,103],color='r',alpha=0.1)\n",
        "\n",
        "# plt.xlim(526519-100,526519+1000)"
      ]
    },
    {
      "cell_type": "code",
      "execution_count": null,
      "metadata": {
        "id": "oqRg0dNv4vap"
      },
      "outputs": [],
      "source": []
    },
    {
      "cell_type": "code",
      "execution_count": null,
      "metadata": {
        "id": "xsQ5PRlP4vap"
      },
      "outputs": [],
      "source": [
        "nmda2 = np.zeros((79,))\n",
        "\n",
        "for i in spktimes:\n",
        "    nmda_inds2 = np.sort(segs_nmda_df[(segs_nmda_df.Degrees<=3)&\n",
        "             (~pd.isnull(segs_nmda_df.nmda_lower_bound))&\n",
        "             (segs_nmda_df.mag<-0.1)&\n",
        "                (segs_nmda_df.Type=='dend')]['nmda_lower_bound'].values.astype(int))\n",
        "\n",
        "    x2, _ = np.histogram(nmda_inds2/10,bins=np.arange(i-40,i+40,1))\n",
        "    nmda2 += x2\n",
        "    \n",
        "    #na_inds3 = segs_na_df[(segs_na_df.Degrees==3)&(~pd.isnull(segs_na_df.na_lower_bound))]['na_lower_bound'].values.astype(int)\n",
        "    #x3, _ = np.histogram(na_inds3/10,bins=np.arange(i-20,i+20,1))\n",
        "    #na3 += x3\n",
        "    \n",
        "    #na_inds4 = segs_na_df[(segs_na_df.Degrees==4)&(~pd.isnull(segs_na_df.na_lower_bound))]['na_lower_bound'].values.astype(int)\n",
        "    #x4, _ = np.histogram(na_inds4/10,bins=np.arange(i-20,i+20,1))\n",
        "    #na4 += x4\n",
        "    \n",
        "    #na_inds5 = segs_na_df[(segs_na_df.Degrees==5)&(~pd.isnull(segs_na_df.na_lower_bound))]['na_lower_bound'].values.astype(int)\n",
        "    #x5, _ = np.histogram(na_inds5/10,bins=np.arange(i-20,i+20,1))\n",
        "    #na5 += x5\n",
        "    "
      ]
    },
    {
      "cell_type": "code",
      "execution_count": null,
      "metadata": {
        "id": "vUUqHx824vap"
      },
      "outputs": [],
      "source": [
        "plt.plot(nmda2)"
      ]
    },
    {
      "cell_type": "code",
      "execution_count": null,
      "metadata": {
        "id": "_3P97ixw4vap"
      },
      "outputs": [],
      "source": []
    },
    {
      "cell_type": "code",
      "execution_count": null,
      "metadata": {
        "id": "LtCXJTG94vap"
      },
      "outputs": [],
      "source": []
    },
    {
      "cell_type": "code",
      "execution_count": null,
      "metadata": {
        "id": "2H2GkHjg4vap"
      },
      "outputs": [],
      "source": []
    },
    {
      "cell_type": "code",
      "execution_count": null,
      "metadata": {
        "id": "plFcK6PZ4vap"
      },
      "outputs": [],
      "source": [
        "# import matplotlib\n",
        "# font = {'family' : 'normal',\n",
        "#         'weight' : 'normal',\n",
        "#         'size'   : 16}\n",
        "\n",
        "# matplotlib.rc('font', **font)\n",
        "\n",
        "# ind = 1139\n",
        "# plt.figure(figsize=(12,10))\n",
        "# plt.plot(np.arange(0,60000,.1),f['report']['biophysical']['data'][:,ind],color='b',label='dend voltage')\n",
        "# plt.plot(np.arange(0,60000,.1),f['report']['biophysical']['data'][:,0],color='k',alpha=0.3,label='soma voltage')\n",
        "# plt.legend(loc='lower left')\n",
        "# plt.hlines(-40,0,60000,linestyle='dashed')\n",
        "# plt.ylabel('voltage (mV)')\n",
        "# plt.ylim(-85,25)\n",
        "# plt.xlabel('time (ms)')\n",
        "# plt.twinx()\n",
        "# plt.plot(np.arange(0,60000,.1),h['report']['biophysical']['data'][:,ind],color='r',label='inmda dend')\n",
        "# plt.legend(loc='upper right')\n",
        "# plt.plot(np.arange(0,60000,.1)[nmda_df[nmda_df.seg_id==ind]['nmda_lower_bound'].values.astype(int)],\n",
        "#          h['report']['biophysical']['data'][nmda_df[nmda_df.seg_id==ind]['nmda_lower_bound'].values.astype(int),ind],'m*',markersize=20)\n",
        "# plt.plot(np.arange(0,60000,.1)[nmda_df[nmda_df.seg_id==ind]['nmda_upper_bound'].values.astype(int)],\n",
        "#          h['report']['biophysical']['data'][nmda_df[nmda_df.seg_id==ind]['nmda_upper_bound'].values.astype(int),ind],'k*',markersize=20)\n",
        "# plt.ylim(-0.009,0.001)\n",
        "# plt.xlim(37000,39000)\n",
        "# plt.ylabel('current (nA)')\n"
      ]
    },
    {
      "cell_type": "code",
      "execution_count": null,
      "metadata": {
        "id": "QYx2H4314vap"
      },
      "outputs": [],
      "source": [
        "# import matplotlib\n",
        "# font = {'family' : 'normal',\n",
        "#         'weight' : 'normal',\n",
        "#         'size'   : 16}\n",
        "\n",
        "# matplotlib.rc('font', **font)\n",
        "\n",
        "# plt.figure(figsize=(12,10))\n",
        "# plt.plot(np.arange(0,60000,.1),f['report']['biophysical']['data'][:,175],color='b',label='dend voltage')\n",
        "# plt.plot(np.arange(0,60000,.1),f['report']['biophysical']['data'][:,0],color='k',alpha=0.3,label='soma voltage')\n",
        "# plt.legend(loc='lower left')\n",
        "# plt.hlines(-40,0,60000,linestyle='dashed')\n",
        "# plt.ylabel('voltage (mV)')\n",
        "# plt.ylim(-85,25)\n",
        "# plt.xlabel('time (ms)')\n",
        "# plt.twinx()\n",
        "# plt.plot(np.arange(0,60000,.1),h['report']['biophysical']['data'][:,175],color='r',label='inmda dend')\n",
        "# plt.legend(loc='upper right')\n",
        "# plt.plot(np.arange(0,60000,.1)[nmda_df[nmda_df.seg_id==175]['nmda_lower_bound'].values.astype(int)],\n",
        "#          h['report']['biophysical']['data'][nmda_df[nmda_df.seg_id==175]['nmda_lower_bound'].values.astype(int),175],'m*',markersize=20)\n",
        "# plt.plot(np.arange(0,60000,.1)[nmda_df[nmda_df.seg_id==175]['nmda_upper_bound'].values.astype(int)],\n",
        "#          h['report']['biophysical']['data'][nmda_df[nmda_df.seg_id==175]['nmda_upper_bound'].values.astype(int),175],'k*',markersize=20)\n",
        "# plt.xlim(32000,32400)\n",
        "# plt.ylim(-0.009,0.001)\n",
        "# plt.ylabel('current (nA)')\n"
      ]
    },
    {
      "cell_type": "code",
      "execution_count": null,
      "metadata": {
        "id": "zvXGNGGT4vaq"
      },
      "outputs": [],
      "source": [
        "nmda_spktimes = nmda_df[nmda_df.mag<-0.1]['nmda_lower_bound']/10\n",
        "n = np.zeros((12,))\n",
        "for i in spktimes:\n",
        "    x,y = np.histogram(nmda_spktimes[(nmda_spktimes>i-30) & (nmda_spktimes<i+30)]-i,bins=np.arange(-30,31,5))\n",
        "    n+=x"
      ]
    },
    {
      "cell_type": "code",
      "execution_count": null,
      "metadata": {
        "id": "gikT0cOM4vaq"
      },
      "outputs": [],
      "source": [
        "np.arange(-30,31,5).shape"
      ]
    },
    {
      "cell_type": "code",
      "execution_count": null,
      "metadata": {
        "id": "61dFsyAl4vaq"
      },
      "outputs": [],
      "source": [
        "plt.plot(np.arange(-30,30,5),n)"
      ]
    },
    {
      "cell_type": "code",
      "execution_count": null,
      "metadata": {
        "id": "hihbEY_D4vaq"
      },
      "outputs": [],
      "source": [
        "na_spktimes = na_df[~pd.isnull(na_df.na_lower_bound)]['na_lower_bound']/10\n",
        "na = np.zeros((20,))\n",
        "for i in spktimes:\n",
        "    x,y = np.histogram(na_spktimes[(na_spktimes>i-10) & (na_spktimes<i+10)]-i,bins=np.arange(-10,11,1))\n",
        "    na+=x"
      ]
    },
    {
      "cell_type": "code",
      "execution_count": null,
      "metadata": {
        "id": "O6lnaEw54vaq"
      },
      "outputs": [],
      "source": [
        "# plt.plot(na_df[~pd.isnull(na_df.na_lower_bound)]['na_lower_bound']/10,\n",
        "#          na_df[~pd.isnull(na_df.na_lower_bound)]['seg_id'],'*')"
      ]
    },
    {
      "cell_type": "code",
      "execution_count": null,
      "metadata": {
        "id": "mCYyq4QZ4vaq"
      },
      "outputs": [],
      "source": []
    },
    {
      "cell_type": "code",
      "execution_count": null,
      "metadata": {
        "id": "wosrKFbn4vaq"
      },
      "outputs": [],
      "source": []
    },
    {
      "cell_type": "code",
      "execution_count": null,
      "metadata": {
        "id": "AX2hpqhx4vaq"
      },
      "outputs": [],
      "source": [
        "plt.plot(nmda_spktimes,np.random.randint(low=0,high=100,size=len(nmda_spktimes)),'.')\n",
        "plt.plot(spktimes,np.tile(40,len(spktimes)),'r*')"
      ]
    },
    {
      "cell_type": "code",
      "execution_count": null,
      "metadata": {
        "id": "BInnvuzU4vaq"
      },
      "outputs": [],
      "source": [
        "x1,_=np.histogram(spktimes,bins=np.arange(0,10000,100))\n",
        "x2,_=np.histogram(nmda_spktimes,bins=np.arange(0,10000,100))"
      ]
    },
    {
      "cell_type": "code",
      "execution_count": null,
      "metadata": {
        "id": "cLJIEXrs4vaq"
      },
      "outputs": [],
      "source": [
        "# plt.figure(figsize=(10,8))\n",
        "# plt.plot(np.arange(0,10000,.1),control_v[:,176],color='b')\n",
        "# plt.plot(np.arange(0,10000,.1)[nmda_df.loc[nmda_df.seg_id==175,'nmda_lower_bound'].values.astype(int)],control_v[nmda_df.loc[nmda_df.seg_id==175,'nmda_lower_bound'].values.astype(int),176],'m*')\n",
        "# plt.plot(np.arange(0,10000,.1),control_v[:,0],color='k')\n",
        "# plt.xlim(6000,7000)"
      ]
    },
    {
      "cell_type": "code",
      "execution_count": null,
      "metadata": {
        "id": "sSAq2Kj64vaq"
      },
      "outputs": [],
      "source": []
    },
    {
      "cell_type": "code",
      "execution_count": null,
      "metadata": {
        "id": "RQXnGrXg4vaq"
      },
      "outputs": [],
      "source": []
    },
    {
      "cell_type": "code",
      "execution_count": null,
      "metadata": {
        "id": "EZB7_ygG4vaq"
      },
      "outputs": [],
      "source": []
    },
    {
      "cell_type": "code",
      "execution_count": null,
      "metadata": {
        "id": "yJUmMwPj4vaq"
      },
      "outputs": [],
      "source": []
    },
    {
      "cell_type": "code",
      "execution_count": null,
      "metadata": {
        "id": "PCmw_39l4vaq"
      },
      "outputs": [],
      "source": [
        "# # ind1 = 3 sent to Drew\n",
        "# ind1 = 2\n",
        "# e1 = control_inmda[legit_uc_iso[ind1], p]\n",
        "# e2 = control_inmda[legit_dc_iso[ind1], p]\n",
        "# x30 = np.argwhere(np.diff(control_inmda[legit_uc_iso[ind1]:legit_dc_iso[ind1], p] < 1.3*e1, prepend=False))\n",
        "# x15 = np.argwhere(np.diff(control_inmda[legit_uc_iso[ind1]:legit_dc_iso[ind1], p] < 1.15*e1, prepend=False))"
      ]
    },
    {
      "cell_type": "code",
      "execution_count": null,
      "metadata": {
        "id": "GMx0qX0y4vaq"
      },
      "outputs": [],
      "source": [
        "# import matplotlib\n",
        "# font = {'family' : 'normal',\n",
        "#         'weight' : 'normal',\n",
        "#         'size'   : 16}\n",
        "\n",
        "# matplotlib.rc('font', **font)\n",
        "\n",
        "# plt.figure(figsize=(12,10))\n",
        "# plt.plot(np.arange(0,(legit_dc_iso[ind1]-legit_uc_iso[ind1])/10, 0.1),\n",
        "#          control_inmda[legit_uc_iso[ind1]:legit_dc_iso[ind1], p],color='r',label='inmda @ dend.')\n",
        "# plt.hlines(1.3*e1,0,np.max(np.arange(0,(legit_dc_iso[ind1]-legit_uc_iso[ind1])/10, 0.1)),color='r',alpha=0.2)\n",
        "# plt.hlines(1.15*e1,0,np.max(np.arange(0,(legit_dc_iso[ind1]-legit_uc_iso[ind1])/10, 0.1)),color='r',alpha=0.2)\n",
        "# plt.ylabel('current (nA)')\n",
        "# plt.ylim(-0.010,0)\n",
        "# plt.legend(loc='upper center')\n",
        "# plt.xlabel('time (ms)')\n",
        "# plt.twinx()\n",
        "# plt.plot(np.arange(0,(legit_dc_iso[ind1]-legit_uc_iso[ind1])/10, 0.1),\n",
        "#          control_v[legit_uc_iso[ind1]:legit_dc_iso[ind1],p],color='b',label='dend. volt.')\n",
        "# plt.plot(np.arange(0,(legit_dc_iso[ind1]-legit_uc_iso[ind1])/10, 0.1),\n",
        "#          control_v[legit_uc_iso[ind1]:legit_dc_iso[ind1],0], color='k',label='soma volt.')\n",
        "\n",
        "\n",
        "# for i in np.arange(0,len(bounds)):\n",
        "#     plt.fill_between(np.array([bounds[i][0]/10,bounds[i][1]/10]).reshape(2,),-70,20,color='k',alpha=0.2)\n",
        "#     plt.text(bounds[i][0]/10,-20-(i*10),'{x:.2f}'.format(x=sum_current[i]))\n",
        "##plt.fill_between(np.array([bounds[1][0]/10,bounds[1][1]/10]).reshape(2,),-70,20,color='k',alpha=0.2)\n",
        "##plt.fill_between(np.array([bounds[2][0]/10,bounds[2][1]/10]).reshape(2,),-70,20,color='k',alpha=0.2)\n",
        "#plt.hlines(-40,0,np.max(np.arange(0,(legit_uc_iso[ind1+1]-legit_uc_iso[ind1])/10, 0.1)),linestyle='dashed')\n",
        "##plt.text(1.5,14,'NMDA\\nspike')\n",
        "#plt.ylabel('voltage (mV)')\n",
        "#plt.legend()"
      ]
    },
    {
      "cell_type": "code",
      "execution_count": null,
      "metadata": {
        "id": "Jy1JT1Nq4vaq"
      },
      "outputs": [],
      "source": [
        "# plt.figure(figsize=(12,10))\n",
        "# plt.plot(np.arange(0,10000,.1),control_v[:,p],label='control dend. v')\n",
        "# plt.plot(np.arange(0,10000,.1),NMDAblock_v[:,p],label='NMDA block dend. v')\n",
        "# plt.plot(np.arange(0,10000,.1),control_v[:,0],color='k',label='control soma v')\n",
        "\n",
        "# uc = voltage_criterion(control_v[:,p],-40)[0]\n",
        "\n",
        "\n",
        "# plt.plot(np.arange(0,10000,.1)[uc],control_v[uc,p],'*')\n",
        "# plt.plot(np.arange(0,10000,.1)[legit_uc],control_v[legit_uc,p],'m*')\n",
        "\n",
        "\n",
        "# center = np.floor(legit_uc[np.random.choice(np.arange(0,legit_uc.shape[0]))]/10)\n",
        "\n",
        "# plt.plot([center,center+26],[-80,-80],color='k')\n",
        "# plt.legend(loc='lower left')\n",
        "\n",
        "# plt.twinx()\n",
        "# plt.plot(np.arange(0,10000,.1),control_inmda[:,p],color='r',label='NMDA current')\n",
        "# plt.plot(np.arange(0,10000,.1)[legit_uc],control_inmda[legit_uc, p],'*')\n",
        "# #plt.plot(np.arange(0,10000,.1),control_gna[:,p],color='r',alpha=0.2, label='gNa')\n",
        "# plt.xlim(center-100,center+100)\n",
        "\n",
        "# plt.legend(loc='lower right')\n",
        "# plt.title('{}'.format(legit_uc))"
      ]
    },
    {
      "cell_type": "code",
      "execution_count": null,
      "metadata": {
        "id": "nMgTL3Kh4vaq"
      },
      "outputs": [],
      "source": [
        "# p = np.random.choice(segs[segs.Type=='apic'].index)\n",
        "# for i in spktimes:\n",
        "#     plt.plot(np.arange(0,20,.1), control_v[int(i*10)-100:int(i*10)+100,p])\n",
        "# plt.vlines(10,-65,0,color='k')\n",
        "# plt.ylim(-65,0)"
      ]
    },
    {
      "cell_type": "code",
      "execution_count": null,
      "metadata": {
        "id": "UkNA5PUa4vaq"
      },
      "outputs": [],
      "source": [
        "# p = 829#np.random.choice(segs[segs.Type=='dend'].index)\n",
        "# plt.title('dend {}'.format(p))\n",
        "# plt.plot(control_v[7200:7700,p],label='dend')\n",
        "# plt.plot(control_v[7200:7700,0],label='soma')\n",
        "# plt.hlines(-40,0,500)\n",
        "# plt.twinx()\n",
        "# plt.plot(control_inmda[7200:7700,p],color='r')\n",
        "# plt.legend()"
      ]
    },
    {
      "cell_type": "code",
      "execution_count": null,
      "metadata": {
        "id": "PTz_OD204vaq"
      },
      "outputs": [],
      "source": [
        "# control_v[10000,0]"
      ]
    },
    {
      "cell_type": "code",
      "execution_count": null,
      "metadata": {
        "id": "0j1tXS3E4var"
      },
      "outputs": [],
      "source": [
        "# plt.hist(control_v[10000,:])"
      ]
    },
    {
      "cell_type": "code",
      "execution_count": null,
      "metadata": {
        "id": "xc3yqYuK4var"
      },
      "outputs": [],
      "source": [
        "# plt.plot(control_v[:,1200])\n",
        "# plt.plot(NMDAblock_v[:,1200])"
      ]
    },
    {
      "cell_type": "code",
      "execution_count": null,
      "metadata": {
        "id": "yL_5vEQb4var"
      },
      "outputs": [],
      "source": [
        "# df = ids_pos.set_index(['BMTK ID', 'X']).join(segs.set_index(['BMTK ID', 'X'])).reset_index()"
      ]
    },
    {
      "cell_type": "code",
      "execution_count": null,
      "metadata": {
        "id": "-SAxAuK34var"
      },
      "outputs": [],
      "source": [
        "# df.loc[0,'Distance'], np.mean(f['report']['biophysical']['data'],axis=0)[0]"
      ]
    },
    {
      "cell_type": "code",
      "execution_count": null,
      "metadata": {
        "id": "tcCgvLcV4var"
      },
      "outputs": [],
      "source": [
        "# df[(df.Distance>900) & (df.Distance<1000)]"
      ]
    },
    {
      "cell_type": "code",
      "execution_count": null,
      "metadata": {
        "id": "iSQt7tgD4var"
      },
      "outputs": [],
      "source": [
        "# plt.scatter(np.arange(0,df.shape[0]), np.mean(f['report']['biophysical']['data'],axis=0))\n",
        "# plt.xlim(1740,1760)"
      ]
    },
    {
      "cell_type": "code",
      "execution_count": null,
      "metadata": {
        "id": "q5Lf7TbC4var"
      },
      "outputs": [],
      "source": [
        "# plt.figure(figsize=(10,6))\n",
        "# plt.scatter(df['Distance'],np.mean(f['report']['biophysical']['data'],axis=0),alpha=0.2)\n",
        "# plt.scatter(df.loc[0,'Distance'], np.mean(f['report']['biophysical']['data'],axis=0)[0],color='r', marker='*', s=75)\n",
        "# plt.scatter(df.loc[1452,'Distance'], np.mean(f['report']['biophysical']['data'],axis=0)[1452],color='m',marker='*', s=75)\n",
        "# plt.scatter(df.loc[1754,'Distance'], np.mean(f['report']['biophysical']['data'],axis=0)[1754],color='k',marker='*', s=75)\n",
        "# plt.xlabel('distance from soma')\n",
        "# plt.ylabel('mean potential of segment (mV)')"
      ]
    },
    {
      "cell_type": "code",
      "execution_count": null,
      "metadata": {
        "id": "yVPunG4e4var"
      },
      "outputs": [],
      "source": [
        "# #plt.scatter(np.arange(0,f['report']['biophysical']['data'].shape[1]),np.mean(f['report']['biophysical']['data'],axis=0))\n",
        "\n",
        "# plt.figure(figsize=(10,6))\n",
        "\n",
        "# plt.plot(np.arange(0,2,0.0001),f['report']['biophysical']['data'][:,0],color='r')\n",
        "# plt.plot(np.arange(0,2,0.0001),f['report']['biophysical']['data'][:,1452],color='m')\n",
        "# plt.plot(np.arange(0,2,0.0001),f['report']['biophysical']['data'][:,1754],color='k')\n",
        "# plt.xlim(1.75,2)\n",
        "# plt.xlabel('time (s)')\n",
        "# plt.ylabel('membrane potential (mV)')"
      ]
    },
    {
      "cell_type": "code",
      "execution_count": null,
      "metadata": {
        "id": "WeeWcSCF4var"
      },
      "outputs": [],
      "source": []
    }
  ],
  "metadata": {
    "kernelspec": {
      "display_name": "Python 3",
      "language": "python",
      "name": "python3"
    },
    "language_info": {
      "codemirror_mode": {
        "name": "ipython",
        "version": 3
      },
      "file_extension": ".py",
      "mimetype": "text/x-python",
      "name": "python",
      "nbconvert_exporter": "python",
      "pygments_lexer": "ipython3",
      "version": "3.6.10"
    },
    "colab": {
      "name": "NMDAExploration.ipynb",
      "provenance": [],
      "include_colab_link": true
    }
  },
  "nbformat": 4,
  "nbformat_minor": 0
}