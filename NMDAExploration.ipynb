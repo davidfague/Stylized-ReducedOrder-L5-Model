{
  "cells": [
    {
      "cell_type": "markdown",
      "metadata": {
        "id": "view-in-github",
        "colab_type": "text"
      },
      "source": [
        "<a href=\"https://colab.research.google.com/github/davidfague/Stylized-ReducedOrder-L5-Model/blob/main/NMDAExploration.ipynb\" target=\"_parent\"><img src=\"https://colab.research.google.com/assets/colab-badge.svg\" alt=\"Open In Colab\"/></a>"
      ]
    },
    {
      "cell_type": "code",
      "source": [
        "Detailed=False # Change for whether or not you want to use the detailed or reduced order model"
      ],
      "metadata": {
        "id": "kjthfjOQ8Lqs"
      },
      "execution_count": null,
      "outputs": []
    },
    {
      "cell_type": "code",
      "source": [
        "github=False # Change between 0 and 1 for whether or not you want to get the model from github or google drive\n",
        "\n",
        "import shutil\n",
        "if github==True: # If you do not already have the model, comment the above and uncomment below\n",
        "  # shutil.rmtree('Stylized-ReducedOrder-L5-Model/') #removes folder if already cloned\n",
        "  !git clone https://github.com/davidfague/Stylized-ReducedOrder-L5-Model.git\n",
        "  %cd Stylized-ReducedOrder-L5-Model/\n",
        "else: #If you have the folder in your google drive (easier to update geom_parameters)\n",
        "  from google.colab import drive\n",
        "  drive.mount('/content/drive')\n",
        "  %cd /content/drive/MyDrive/Stylized-ReducedOrder-L5-Model/"
      ],
      "metadata": {
        "id": "dDVZmhyv8CgH"
      },
      "execution_count": null,
      "outputs": []
    },
    {
      "cell_type": "code",
      "source": [
        "import pandas as pd\n",
        "import h5py\n",
        "import numpy as np\n",
        "import matplotlib.pyplot as plt\n",
        "import seaborn as sns\n",
        "import scipy.signal as ss\n",
        "import ZipFile"
      ],
      "metadata": {
        "id": "fCzdVIpt5aS4"
      },
      "execution_count": 1,
      "outputs": []
    },
    {
      "cell_type": "code",
      "source": [
        "if Detailed == True:\n",
        "  output_folder = 'Detailedoutput_control'\n",
        "  segs = pd.read_csv('DetailedL5Segments.csv')\n",
        "  ZipFile.extractall(path='Detailedoutput_control', members=None, pwd=None)\n",
        "else:\n",
        "  output_folder = 'output_control'\n",
        "  segs = pd.read_csv('L5Segments.csv')\n",
        "\n",
        "conns = pd.read_csv('./{}/Connections.csv'.format(output_folder))"
      ],
      "metadata": {
        "id": "k2SfrlXQ8gLb"
      },
      "execution_count": null,
      "outputs": []
    },
    {
      "cell_type": "code",
      "source": [
        "# from google.colab import drive\n",
        "# drive.mount('/content/drive')\n",
        "\n",
        "# %cd /content/drive/MyDrive/Stylized-Cell-model/"
      ],
      "metadata": {
        "colab": {
          "base_uri": "https://localhost:8080/"
        },
        "id": "RjWY8thN5Z9i",
        "outputId": "75e7fa2a-13b0-4ac0-f0f0-495ee8bdb1ef"
      },
      "execution_count": 2,
      "outputs": [
        {
          "output_type": "stream",
          "name": "stdout",
          "text": [
            "Mounted at /content/drive\n",
            "/content/drive/MyDrive/Stylized-Cell-model\n"
          ]
        }
      ]
    },
    {
      "cell_type": "code",
      "source": [
        "\n",
        "# for p in segs[(segs.Type=='dend')].index:\n",
        "#   threshold_crossings = np.diff(v['report']['biophysical']['data'][:,15] > -40, prepend=False)\n",
        "#   upward_crossings = np.argwhere(threshold_crossings)[::2,0]\n",
        "#   print(p)\n",
        "#   if np.mod(np.argwhere(threshold_crossings).reshape(-1,).shape[0],2)!=0:\n",
        "#     legit_up_crossings = upward_crossings[:-1][np.diff(np.argwhere(threshold_crossings).reshape(-1,))[::2]>260]\n",
        "#     print('if')\n",
        "#   else:\n",
        "#     legit_up_crossings = upward_crossings[np.diff(np.argwhere(threshold_crossings).reshape(-1,))[::2]>260]\n",
        "#     print('else')\n",
        "\n",
        "\n",
        "\n",
        "# print(legit_up_crossings)"
      ],
      "metadata": {
        "id": "LtL0LgcVr0QB"
      },
      "execution_count": 4,
      "outputs": []
    },
    {
      "cell_type": "code",
      "execution_count": 5,
      "metadata": {
        "id": "E2Jp8o0E4vac"
      },
      "outputs": [],
      "source": [
        "def voltage_criterion(data=None, v_thresh=-40, time_thresh=260):\n",
        "    threshold_crossings = np.diff(data > v_thresh, prepend=False)\n",
        "    upward_crossings = np.argwhere(threshold_crossings)[::2,0]\n",
        "    downward_crossings = np.argwhere(threshold_crossings)[1::2,0]\n",
        "    #print('volt')\n",
        "    #print(threshold_crossings)\n",
        "    #print(upward_crossings)\n",
        "    #print(downward_crossings)\n",
        "    # If length of threshold_crossings is not even\n",
        "    if np.mod(np.argwhere(threshold_crossings).reshape(-1,).shape[0],2)!=0:\n",
        "        legit_up_crossings = upward_crossings[:-1][np.diff(np.argwhere(threshold_crossings).reshape(-1,))[::2]>time_thresh]\n",
        "        legit_down_crossings = downward_crossings[np.diff(np.argwhere(threshold_crossings).reshape(-1,))[::2]>time_thresh]\n",
        "        #print('if')\n",
        "    else:\n",
        "        legit_up_crossings = upward_crossings[np.diff(np.argwhere(threshold_crossings).reshape(-1,))[::2]>time_thresh]\n",
        "        legit_down_crossings = downward_crossings[np.diff(np.argwhere(threshold_crossings).reshape(-1,))[::2]>time_thresh]\n",
        "        #print('else')\n",
        "    return upward_crossings, legit_up_crossings, legit_down_crossings\n",
        "\n",
        "# Input: upward and downward crossings\n",
        "# Output: bounds of NMDA spikes meeting current criterion\n",
        "def current_criterion(legit_uc_iso=[], legit_dc_iso=[], p=1, control_inmda=np.array([1])):\n",
        "    bounds = []\n",
        "    sum_current = []\n",
        "    \n",
        "\n",
        "    for ind1 in np.arange(0,len(legit_uc_iso)):\n",
        "        e1 = control_inmda[legit_uc_iso[ind1], p] #current @ up_crossing[ind1]\n",
        "        #all the indices where current crosses 130% of e1\n",
        "        x30 = np.argwhere(np.diff(control_inmda[legit_uc_iso[ind1]:legit_dc_iso[ind1], p] < 1.3*e1, prepend=False))\n",
        "        #all the indices where current crosses 115% of e1\n",
        "        x15 = np.argwhere(np.diff(control_inmda[legit_uc_iso[ind1]:legit_dc_iso[ind1], p] < 1.15*e1, prepend=False))\n",
        "        \n",
        "        if len(x30)>0:\n",
        "        \n",
        "            x15_copy = x15\n",
        "            x30_copy = x30\n",
        "            \n",
        "            try:\n",
        "                i = x30[0][0]\n",
        "            except:\n",
        "                import pdb; pdb.set_trace()\n",
        "                \n",
        "            n = 0\n",
        "            \n",
        "            \n",
        "            while n==0:\n",
        "                if len(np.sort(x15[x15>i]))!=0:\n",
        "                    b1 = i\n",
        "                    b2 = np.sort(x15[x15>i])[0]\n",
        "                    bounds.append([legit_uc_iso[ind1]+b1,legit_uc_iso[ind1]+b2])\n",
        "                    sum_current.append(np.sum(control_inmda[legit_uc_iso[ind1]+b1:legit_uc_iso[ind1]+b2,p])/10)\n",
        "                else:\n",
        "                    b1 = i\n",
        "                    b2 = (legit_dc_iso[ind1]-legit_uc_iso[ind1])\n",
        "                    bounds.append([legit_uc_iso[ind1]+b1,legit_uc_iso[ind1]+b2])\n",
        "                    sum_current.append(np.sum(control_inmda[legit_uc_iso[ind1]+b1:legit_uc_iso[ind1]+b2,p])/10)\n",
        "                    n=1\n",
        "                \n",
        "                x30_copy = x30_copy[x30_copy>legit_uc_iso[ind1]+b2]\n",
        "                #import pdb; pdb.set_trace()\n",
        "                \n",
        "                if len(x30_copy)!=0:\n",
        "                    i = x30_copy[x30_copy>b2][0]\n",
        "                else:\n",
        "                    n=1\n",
        "    return bounds, sum_current\n",
        "\n"
      ]
    },
    {
      "cell_type": "code",
      "source": [
        "conns.head()"
      ],
      "metadata": {
        "colab": {
          "base_uri": "https://localhost:8080/",
          "height": 206
        },
        "id": "1lrjxBj8-e4L",
        "outputId": "df04cd45-d62e-4de8-b14d-7ab119e1c5b4"
      },
      "execution_count": 7,
      "outputs": [
        {
          "output_type": "execute_result",
          "data": {
            "text/plain": [
              "   Node ID  Distance  Conductance  Type  \\\n",
              "0        3   27.0625     0.469000  dend   \n",
              "1        2   22.1875     0.174866  dend   \n",
              "2        1   17.3125     0.313148  dend   \n",
              "3        3   27.0625     0.010241  dend   \n",
              "4        6   41.6875     0.346087  dend   \n",
              "\n",
              "                                           Name Source Population  \\\n",
              "0   L5PCtemplate[0].dend[1](0.2857377970545404)          exc_stim   \n",
              "1  L5PCtemplate[0].dend[1](0.13000248862954955)          exc_stim   \n",
              "2  L5PCtemplate[0].dend[1](0.04865989289573669)          exc_stim   \n",
              "3  L5PCtemplate[0].dend[1](0.29457648830214833)          exc_stim   \n",
              "4   L5PCtemplate[0].dend[1](0.7429550067994775)          exc_stim   \n",
              "\n",
              "   Release Probability  \n",
              "0             0.814817  \n",
              "1             0.789150  \n",
              "2             0.203434  \n",
              "3             0.238732  \n",
              "4             0.244961  "
            ],
            "text/html": [
              "\n",
              "  <div id=\"df-7f0947de-2f83-4bdd-b845-e5fcb71edff9\">\n",
              "    <div class=\"colab-df-container\">\n",
              "      <div>\n",
              "<style scoped>\n",
              "    .dataframe tbody tr th:only-of-type {\n",
              "        vertical-align: middle;\n",
              "    }\n",
              "\n",
              "    .dataframe tbody tr th {\n",
              "        vertical-align: top;\n",
              "    }\n",
              "\n",
              "    .dataframe thead th {\n",
              "        text-align: right;\n",
              "    }\n",
              "</style>\n",
              "<table border=\"1\" class=\"dataframe\">\n",
              "  <thead>\n",
              "    <tr style=\"text-align: right;\">\n",
              "      <th></th>\n",
              "      <th>Node ID</th>\n",
              "      <th>Distance</th>\n",
              "      <th>Conductance</th>\n",
              "      <th>Type</th>\n",
              "      <th>Name</th>\n",
              "      <th>Source Population</th>\n",
              "      <th>Release Probability</th>\n",
              "    </tr>\n",
              "  </thead>\n",
              "  <tbody>\n",
              "    <tr>\n",
              "      <th>0</th>\n",
              "      <td>3</td>\n",
              "      <td>27.0625</td>\n",
              "      <td>0.469000</td>\n",
              "      <td>dend</td>\n",
              "      <td>L5PCtemplate[0].dend[1](0.2857377970545404)</td>\n",
              "      <td>exc_stim</td>\n",
              "      <td>0.814817</td>\n",
              "    </tr>\n",
              "    <tr>\n",
              "      <th>1</th>\n",
              "      <td>2</td>\n",
              "      <td>22.1875</td>\n",
              "      <td>0.174866</td>\n",
              "      <td>dend</td>\n",
              "      <td>L5PCtemplate[0].dend[1](0.13000248862954955)</td>\n",
              "      <td>exc_stim</td>\n",
              "      <td>0.789150</td>\n",
              "    </tr>\n",
              "    <tr>\n",
              "      <th>2</th>\n",
              "      <td>1</td>\n",
              "      <td>17.3125</td>\n",
              "      <td>0.313148</td>\n",
              "      <td>dend</td>\n",
              "      <td>L5PCtemplate[0].dend[1](0.04865989289573669)</td>\n",
              "      <td>exc_stim</td>\n",
              "      <td>0.203434</td>\n",
              "    </tr>\n",
              "    <tr>\n",
              "      <th>3</th>\n",
              "      <td>3</td>\n",
              "      <td>27.0625</td>\n",
              "      <td>0.010241</td>\n",
              "      <td>dend</td>\n",
              "      <td>L5PCtemplate[0].dend[1](0.29457648830214833)</td>\n",
              "      <td>exc_stim</td>\n",
              "      <td>0.238732</td>\n",
              "    </tr>\n",
              "    <tr>\n",
              "      <th>4</th>\n",
              "      <td>6</td>\n",
              "      <td>41.6875</td>\n",
              "      <td>0.346087</td>\n",
              "      <td>dend</td>\n",
              "      <td>L5PCtemplate[0].dend[1](0.7429550067994775)</td>\n",
              "      <td>exc_stim</td>\n",
              "      <td>0.244961</td>\n",
              "    </tr>\n",
              "  </tbody>\n",
              "</table>\n",
              "</div>\n",
              "      <button class=\"colab-df-convert\" onclick=\"convertToInteractive('df-7f0947de-2f83-4bdd-b845-e5fcb71edff9')\"\n",
              "              title=\"Convert this dataframe to an interactive table.\"\n",
              "              style=\"display:none;\">\n",
              "        \n",
              "  <svg xmlns=\"http://www.w3.org/2000/svg\" height=\"24px\"viewBox=\"0 0 24 24\"\n",
              "       width=\"24px\">\n",
              "    <path d=\"M0 0h24v24H0V0z\" fill=\"none\"/>\n",
              "    <path d=\"M18.56 5.44l.94 2.06.94-2.06 2.06-.94-2.06-.94-.94-2.06-.94 2.06-2.06.94zm-11 1L8.5 8.5l.94-2.06 2.06-.94-2.06-.94L8.5 2.5l-.94 2.06-2.06.94zm10 10l.94 2.06.94-2.06 2.06-.94-2.06-.94-.94-2.06-.94 2.06-2.06.94z\"/><path d=\"M17.41 7.96l-1.37-1.37c-.4-.4-.92-.59-1.43-.59-.52 0-1.04.2-1.43.59L10.3 9.45l-7.72 7.72c-.78.78-.78 2.05 0 2.83L4 21.41c.39.39.9.59 1.41.59.51 0 1.02-.2 1.41-.59l7.78-7.78 2.81-2.81c.8-.78.8-2.07 0-2.86zM5.41 20L4 18.59l7.72-7.72 1.47 1.35L5.41 20z\"/>\n",
              "  </svg>\n",
              "      </button>\n",
              "      \n",
              "  <style>\n",
              "    .colab-df-container {\n",
              "      display:flex;\n",
              "      flex-wrap:wrap;\n",
              "      gap: 12px;\n",
              "    }\n",
              "\n",
              "    .colab-df-convert {\n",
              "      background-color: #E8F0FE;\n",
              "      border: none;\n",
              "      border-radius: 50%;\n",
              "      cursor: pointer;\n",
              "      display: none;\n",
              "      fill: #1967D2;\n",
              "      height: 32px;\n",
              "      padding: 0 0 0 0;\n",
              "      width: 32px;\n",
              "    }\n",
              "\n",
              "    .colab-df-convert:hover {\n",
              "      background-color: #E2EBFA;\n",
              "      box-shadow: 0px 1px 2px rgba(60, 64, 67, 0.3), 0px 1px 3px 1px rgba(60, 64, 67, 0.15);\n",
              "      fill: #174EA6;\n",
              "    }\n",
              "\n",
              "    [theme=dark] .colab-df-convert {\n",
              "      background-color: #3B4455;\n",
              "      fill: #D2E3FC;\n",
              "    }\n",
              "\n",
              "    [theme=dark] .colab-df-convert:hover {\n",
              "      background-color: #434B5C;\n",
              "      box-shadow: 0px 1px 3px 1px rgba(0, 0, 0, 0.15);\n",
              "      filter: drop-shadow(0px 1px 2px rgba(0, 0, 0, 0.3));\n",
              "      fill: #FFFFFF;\n",
              "    }\n",
              "  </style>\n",
              "\n",
              "      <script>\n",
              "        const buttonEl =\n",
              "          document.querySelector('#df-7f0947de-2f83-4bdd-b845-e5fcb71edff9 button.colab-df-convert');\n",
              "        buttonEl.style.display =\n",
              "          google.colab.kernel.accessAllowed ? 'block' : 'none';\n",
              "\n",
              "        async function convertToInteractive(key) {\n",
              "          const element = document.querySelector('#df-7f0947de-2f83-4bdd-b845-e5fcb71edff9');\n",
              "          const dataTable =\n",
              "            await google.colab.kernel.invokeFunction('convertToInteractive',\n",
              "                                                     [key], {});\n",
              "          if (!dataTable) return;\n",
              "\n",
              "          const docLinkHtml = 'Like what you see? Visit the ' +\n",
              "            '<a target=\"_blank\" href=https://colab.research.google.com/notebooks/data_table.ipynb>data table notebook</a>'\n",
              "            + ' to learn more about interactive tables.';\n",
              "          element.innerHTML = '';\n",
              "          dataTable['output_type'] = 'display_data';\n",
              "          await google.colab.output.renderOutput(dataTable, element);\n",
              "          const docLink = document.createElement('div');\n",
              "          docLink.innerHTML = docLinkHtml;\n",
              "          element.appendChild(docLink);\n",
              "        }\n",
              "      </script>\n",
              "    </div>\n",
              "  </div>\n",
              "  "
            ]
          },
          "metadata": {},
          "execution_count": 7
        }
      ]
    },
    {
      "cell_type": "code",
      "source": [
        "#print(conns)"
      ],
      "metadata": {
        "id": "aVtXsyt3-mC4"
      },
      "execution_count": 8,
      "outputs": []
    },
    {
      "cell_type": "code",
      "source": [
        "conns.loc[conns.Type=='dend','Sec ID'] = conns.loc[conns.Type=='dend','Name'].apply(lambda x: int(x.split('dend[')[1].split(']')[0]))"
      ],
      "metadata": {
        "id": "YBYCzx-D52YK"
      },
      "execution_count": 9,
      "outputs": []
    },
    {
      "cell_type": "code",
      "execution_count": 10,
      "metadata": {
        "id": "xsVHZyAX4vaf"
      },
      "outputs": [],
      "source": [
        "conns.loc[conns.Type=='dend','Sec ID'] = conns.loc[conns.Type=='dend','Name'].apply(lambda x: int(x.split('dend[')[1].split(']')[0]))\n",
        "conns.loc[conns.Type=='apic','Sec ID'] = conns.loc[conns.Type=='apic','Name'].apply(lambda x: int(x.split('apic[')[1].split(']')[0]))\n",
        "conns.loc[conns.Type=='soma','Sec ID'] = conns.loc[conns.Type=='soma','Name'].apply(lambda x: int(x.split('soma[')[1].split(']')[0]))\n",
        "conns.loc[conns.Type=='axon','Sec ID'] = conns.loc[conns.Type=='axon','Name'].apply(lambda x: int(x.split('axon[')[1].split(']')[0]))\n",
        "\n",
        "conns['X'] = conns['Name'].apply(lambda x: float(x.split('(')[1].split(')')[0]))\n",
        "\n",
        "conns.rename(columns={'Distance':'conns_Distance'},inplace=True)\n",
        "\n",
        "conns['Sec ID'] = conns['Sec ID'].astype(int)\n",
        "conns['X'] = conns['X'].astype(float)"
      ]
    },
    {
      "cell_type": "code",
      "execution_count": 11,
      "metadata": {
        "id": "zzrizQpj4vaf",
        "colab": {
          "base_uri": "https://localhost:8080/",
          "height": 206
        },
        "outputId": "a2960fd7-b3bf-4543-f902-2699f1f4c94b"
      },
      "outputs": [
        {
          "output_type": "execute_result",
          "data": {
            "text/plain": [
              "   Node ID  conns_Distance  Conductance  Type  \\\n",
              "0        3         27.0625     0.469000  dend   \n",
              "1        2         22.1875     0.174866  dend   \n",
              "2        1         17.3125     0.313148  dend   \n",
              "3        3         27.0625     0.010241  dend   \n",
              "4        6         41.6875     0.346087  dend   \n",
              "\n",
              "                                           Name Source Population  \\\n",
              "0   L5PCtemplate[0].dend[1](0.2857377970545404)          exc_stim   \n",
              "1  L5PCtemplate[0].dend[1](0.13000248862954955)          exc_stim   \n",
              "2  L5PCtemplate[0].dend[1](0.04865989289573669)          exc_stim   \n",
              "3  L5PCtemplate[0].dend[1](0.29457648830214833)          exc_stim   \n",
              "4   L5PCtemplate[0].dend[1](0.7429550067994775)          exc_stim   \n",
              "\n",
              "   Release Probability  Sec ID         X  \n",
              "0             0.814817       1  0.285738  \n",
              "1             0.789150       1  0.130002  \n",
              "2             0.203434       1  0.048660  \n",
              "3             0.238732       1  0.294576  \n",
              "4             0.244961       1  0.742955  "
            ],
            "text/html": [
              "\n",
              "  <div id=\"df-a5d8dff1-c091-48b1-8fc8-94190cb7574b\">\n",
              "    <div class=\"colab-df-container\">\n",
              "      <div>\n",
              "<style scoped>\n",
              "    .dataframe tbody tr th:only-of-type {\n",
              "        vertical-align: middle;\n",
              "    }\n",
              "\n",
              "    .dataframe tbody tr th {\n",
              "        vertical-align: top;\n",
              "    }\n",
              "\n",
              "    .dataframe thead th {\n",
              "        text-align: right;\n",
              "    }\n",
              "</style>\n",
              "<table border=\"1\" class=\"dataframe\">\n",
              "  <thead>\n",
              "    <tr style=\"text-align: right;\">\n",
              "      <th></th>\n",
              "      <th>Node ID</th>\n",
              "      <th>conns_Distance</th>\n",
              "      <th>Conductance</th>\n",
              "      <th>Type</th>\n",
              "      <th>Name</th>\n",
              "      <th>Source Population</th>\n",
              "      <th>Release Probability</th>\n",
              "      <th>Sec ID</th>\n",
              "      <th>X</th>\n",
              "    </tr>\n",
              "  </thead>\n",
              "  <tbody>\n",
              "    <tr>\n",
              "      <th>0</th>\n",
              "      <td>3</td>\n",
              "      <td>27.0625</td>\n",
              "      <td>0.469000</td>\n",
              "      <td>dend</td>\n",
              "      <td>L5PCtemplate[0].dend[1](0.2857377970545404)</td>\n",
              "      <td>exc_stim</td>\n",
              "      <td>0.814817</td>\n",
              "      <td>1</td>\n",
              "      <td>0.285738</td>\n",
              "    </tr>\n",
              "    <tr>\n",
              "      <th>1</th>\n",
              "      <td>2</td>\n",
              "      <td>22.1875</td>\n",
              "      <td>0.174866</td>\n",
              "      <td>dend</td>\n",
              "      <td>L5PCtemplate[0].dend[1](0.13000248862954955)</td>\n",
              "      <td>exc_stim</td>\n",
              "      <td>0.789150</td>\n",
              "      <td>1</td>\n",
              "      <td>0.130002</td>\n",
              "    </tr>\n",
              "    <tr>\n",
              "      <th>2</th>\n",
              "      <td>1</td>\n",
              "      <td>17.3125</td>\n",
              "      <td>0.313148</td>\n",
              "      <td>dend</td>\n",
              "      <td>L5PCtemplate[0].dend[1](0.04865989289573669)</td>\n",
              "      <td>exc_stim</td>\n",
              "      <td>0.203434</td>\n",
              "      <td>1</td>\n",
              "      <td>0.048660</td>\n",
              "    </tr>\n",
              "    <tr>\n",
              "      <th>3</th>\n",
              "      <td>3</td>\n",
              "      <td>27.0625</td>\n",
              "      <td>0.010241</td>\n",
              "      <td>dend</td>\n",
              "      <td>L5PCtemplate[0].dend[1](0.29457648830214833)</td>\n",
              "      <td>exc_stim</td>\n",
              "      <td>0.238732</td>\n",
              "      <td>1</td>\n",
              "      <td>0.294576</td>\n",
              "    </tr>\n",
              "    <tr>\n",
              "      <th>4</th>\n",
              "      <td>6</td>\n",
              "      <td>41.6875</td>\n",
              "      <td>0.346087</td>\n",
              "      <td>dend</td>\n",
              "      <td>L5PCtemplate[0].dend[1](0.7429550067994775)</td>\n",
              "      <td>exc_stim</td>\n",
              "      <td>0.244961</td>\n",
              "      <td>1</td>\n",
              "      <td>0.742955</td>\n",
              "    </tr>\n",
              "  </tbody>\n",
              "</table>\n",
              "</div>\n",
              "      <button class=\"colab-df-convert\" onclick=\"convertToInteractive('df-a5d8dff1-c091-48b1-8fc8-94190cb7574b')\"\n",
              "              title=\"Convert this dataframe to an interactive table.\"\n",
              "              style=\"display:none;\">\n",
              "        \n",
              "  <svg xmlns=\"http://www.w3.org/2000/svg\" height=\"24px\"viewBox=\"0 0 24 24\"\n",
              "       width=\"24px\">\n",
              "    <path d=\"M0 0h24v24H0V0z\" fill=\"none\"/>\n",
              "    <path d=\"M18.56 5.44l.94 2.06.94-2.06 2.06-.94-2.06-.94-.94-2.06-.94 2.06-2.06.94zm-11 1L8.5 8.5l.94-2.06 2.06-.94-2.06-.94L8.5 2.5l-.94 2.06-2.06.94zm10 10l.94 2.06.94-2.06 2.06-.94-2.06-.94-.94-2.06-.94 2.06-2.06.94z\"/><path d=\"M17.41 7.96l-1.37-1.37c-.4-.4-.92-.59-1.43-.59-.52 0-1.04.2-1.43.59L10.3 9.45l-7.72 7.72c-.78.78-.78 2.05 0 2.83L4 21.41c.39.39.9.59 1.41.59.51 0 1.02-.2 1.41-.59l7.78-7.78 2.81-2.81c.8-.78.8-2.07 0-2.86zM5.41 20L4 18.59l7.72-7.72 1.47 1.35L5.41 20z\"/>\n",
              "  </svg>\n",
              "      </button>\n",
              "      \n",
              "  <style>\n",
              "    .colab-df-container {\n",
              "      display:flex;\n",
              "      flex-wrap:wrap;\n",
              "      gap: 12px;\n",
              "    }\n",
              "\n",
              "    .colab-df-convert {\n",
              "      background-color: #E8F0FE;\n",
              "      border: none;\n",
              "      border-radius: 50%;\n",
              "      cursor: pointer;\n",
              "      display: none;\n",
              "      fill: #1967D2;\n",
              "      height: 32px;\n",
              "      padding: 0 0 0 0;\n",
              "      width: 32px;\n",
              "    }\n",
              "\n",
              "    .colab-df-convert:hover {\n",
              "      background-color: #E2EBFA;\n",
              "      box-shadow: 0px 1px 2px rgba(60, 64, 67, 0.3), 0px 1px 3px 1px rgba(60, 64, 67, 0.15);\n",
              "      fill: #174EA6;\n",
              "    }\n",
              "\n",
              "    [theme=dark] .colab-df-convert {\n",
              "      background-color: #3B4455;\n",
              "      fill: #D2E3FC;\n",
              "    }\n",
              "\n",
              "    [theme=dark] .colab-df-convert:hover {\n",
              "      background-color: #434B5C;\n",
              "      box-shadow: 0px 1px 3px 1px rgba(0, 0, 0, 0.15);\n",
              "      filter: drop-shadow(0px 1px 2px rgba(0, 0, 0, 0.3));\n",
              "      fill: #FFFFFF;\n",
              "    }\n",
              "  </style>\n",
              "\n",
              "      <script>\n",
              "        const buttonEl =\n",
              "          document.querySelector('#df-a5d8dff1-c091-48b1-8fc8-94190cb7574b button.colab-df-convert');\n",
              "        buttonEl.style.display =\n",
              "          google.colab.kernel.accessAllowed ? 'block' : 'none';\n",
              "\n",
              "        async function convertToInteractive(key) {\n",
              "          const element = document.querySelector('#df-a5d8dff1-c091-48b1-8fc8-94190cb7574b');\n",
              "          const dataTable =\n",
              "            await google.colab.kernel.invokeFunction('convertToInteractive',\n",
              "                                                     [key], {});\n",
              "          if (!dataTable) return;\n",
              "\n",
              "          const docLinkHtml = 'Like what you see? Visit the ' +\n",
              "            '<a target=\"_blank\" href=https://colab.research.google.com/notebooks/data_table.ipynb>data table notebook</a>'\n",
              "            + ' to learn more about interactive tables.';\n",
              "          element.innerHTML = '';\n",
              "          dataTable['output_type'] = 'display_data';\n",
              "          await google.colab.output.renderOutput(dataTable, element);\n",
              "          const docLink = document.createElement('div');\n",
              "          docLink.innerHTML = docLinkHtml;\n",
              "          element.appendChild(docLink);\n",
              "        }\n",
              "      </script>\n",
              "    </div>\n",
              "  </div>\n",
              "  "
            ]
          },
          "metadata": {},
          "execution_count": 11
        }
      ],
      "source": [
        "conns.head()"
      ]
    },
    {
      "cell_type": "code",
      "execution_count": 12,
      "metadata": {
        "id": "0BpOPokH4vag",
        "outputId": "48284bac-3559-41c4-dc2e-7985db07bbc7",
        "colab": {
          "base_uri": "https://localhost:8080/"
        }
      },
      "outputs": [
        {
          "output_type": "stream",
          "name": "stdout",
          "text": [
            "     BMTK ID        X  Type  Sec ID  Distance       Coord X    Coord Y  \\\n",
            "0          0  0.50000  dend     1.0   10.0000  0.000000e+00   0.000000   \n",
            "1          1  0.06250  dend     1.0   17.3125  4.235649e+00  -3.619406   \n",
            "2          2  0.18750  dend     1.0   22.1875  8.471297e+00  -7.238811   \n",
            "3          3  0.31250  dend     1.0   27.0625  1.270695e+01 -10.858217   \n",
            "4          4  0.43750  dend     1.0   31.9375  1.694259e+01 -14.477623   \n",
            "..       ...      ...   ...     ...       ...           ...        ...   \n",
            "982      982  0.65625  dend    36.0   67.5000 -1.077689e-14   0.000000   \n",
            "983      983  0.71875  dend    36.0   72.5000 -1.175661e-14   0.000000   \n",
            "984      984  0.78125  dend    36.0   77.5000 -1.273633e-14   0.000000   \n",
            "985      985  0.84375  dend    36.0   82.5000 -1.371604e-14   0.000000   \n",
            "986      986  0.90625  dend    36.0   90.0000 -1.469576e-14   0.000000   \n",
            "\n",
            "       Coord Z  Elec_distance  \n",
            "0     0.000000       0.999986  \n",
            "1     0.000000       0.810705  \n",
            "2     0.000000       0.697084  \n",
            "3     0.000000       0.603449  \n",
            "4     0.000000       0.528018  \n",
            "..         ...            ...  \n",
            "982 -58.666667       0.369835  \n",
            "983 -64.000000       0.347159  \n",
            "984 -69.333333       0.326920  \n",
            "985 -74.666667       0.308762  \n",
            "986 -80.000000       0.284803  \n",
            "\n",
            "[987 rows x 9 columns]\n"
          ]
        }
      ],
      "source": [
        "# segs_degrees = pd.read_csv('SegmentsDegrees.csv').groupby(['Sec ID','Type'])['Degrees'].max().reset_index()\n",
        "print(segs)\n",
        "# print(segs_degrees)\n",
        "segs.head()\n",
        "segs['segmentID'] = segs.index\n",
        "# print(segs['segmentID'])\n",
        "# segIDs=segs['segmentID']\n",
        "# print(segIDs)\n",
        "# segs = segs.set_index(['Type','Sec ID']).join(segs_degrees.set_index(['Type','Sec ID'])).reset_index()\n",
        "segs['Sec ID'] = segs['Sec ID'].astype(int)\n",
        "segs['X'] = segs['X'].astype(float)\n",
        "segs['Elec_distanceQ'] = 'None'\n",
        "# segIDs=segs['segmentID']\n",
        "\n",
        "segs.loc[segs.Type=='dend','Elec_distanceQ'] = pd.qcut(segs.loc[segs.Type=='dend','Elec_distance'], 10, labels=False, duplicates = 'drop')\n",
        "segs.loc[segs.Type=='apic','Elec_distanceQ'] = pd.qcut(segs.loc[segs.Type=='apic','Elec_distance'], 10, labels=False, duplicates = 'drop')"
      ]
    },
    {
      "cell_type": "code",
      "execution_count": 13,
      "metadata": {
        "id": "ObhvUlAb4vag"
      },
      "outputs": [],
      "source": [
        "exc_syns_per_seg = conns[conns['Source Population']=='exc_stim'].groupby(['Type','Sec ID','X'])['Conductance'].count().reset_index().rename(columns={'Conductance':'num_syns'})\n",
        "\n",
        "\n"
      ]
    },
    {
      "cell_type": "code",
      "execution_count": 14,
      "metadata": {
        "id": "2Few52k-4vag",
        "colab": {
          "base_uri": "https://localhost:8080/",
          "height": 206
        },
        "outputId": "f46dacf9-cf31-4134-bd9d-d37dc4e79c6f"
      },
      "outputs": [
        {
          "output_type": "execute_result",
          "data": {
            "text/plain": [
              "   Type  Sec ID         X  num_syns\n",
              "0  apic      12  0.950703         1\n",
              "1  apic      12  0.959765         1\n",
              "2  apic      12  0.961028         1\n",
              "3  apic      12  0.965440         1\n",
              "4  apic      12  0.966627         1"
            ],
            "text/html": [
              "\n",
              "  <div id=\"df-ab021b8c-2472-4a3e-a7bf-3297b490a18d\">\n",
              "    <div class=\"colab-df-container\">\n",
              "      <div>\n",
              "<style scoped>\n",
              "    .dataframe tbody tr th:only-of-type {\n",
              "        vertical-align: middle;\n",
              "    }\n",
              "\n",
              "    .dataframe tbody tr th {\n",
              "        vertical-align: top;\n",
              "    }\n",
              "\n",
              "    .dataframe thead th {\n",
              "        text-align: right;\n",
              "    }\n",
              "</style>\n",
              "<table border=\"1\" class=\"dataframe\">\n",
              "  <thead>\n",
              "    <tr style=\"text-align: right;\">\n",
              "      <th></th>\n",
              "      <th>Type</th>\n",
              "      <th>Sec ID</th>\n",
              "      <th>X</th>\n",
              "      <th>num_syns</th>\n",
              "    </tr>\n",
              "  </thead>\n",
              "  <tbody>\n",
              "    <tr>\n",
              "      <th>0</th>\n",
              "      <td>apic</td>\n",
              "      <td>12</td>\n",
              "      <td>0.950703</td>\n",
              "      <td>1</td>\n",
              "    </tr>\n",
              "    <tr>\n",
              "      <th>1</th>\n",
              "      <td>apic</td>\n",
              "      <td>12</td>\n",
              "      <td>0.959765</td>\n",
              "      <td>1</td>\n",
              "    </tr>\n",
              "    <tr>\n",
              "      <th>2</th>\n",
              "      <td>apic</td>\n",
              "      <td>12</td>\n",
              "      <td>0.961028</td>\n",
              "      <td>1</td>\n",
              "    </tr>\n",
              "    <tr>\n",
              "      <th>3</th>\n",
              "      <td>apic</td>\n",
              "      <td>12</td>\n",
              "      <td>0.965440</td>\n",
              "      <td>1</td>\n",
              "    </tr>\n",
              "    <tr>\n",
              "      <th>4</th>\n",
              "      <td>apic</td>\n",
              "      <td>12</td>\n",
              "      <td>0.966627</td>\n",
              "      <td>1</td>\n",
              "    </tr>\n",
              "  </tbody>\n",
              "</table>\n",
              "</div>\n",
              "      <button class=\"colab-df-convert\" onclick=\"convertToInteractive('df-ab021b8c-2472-4a3e-a7bf-3297b490a18d')\"\n",
              "              title=\"Convert this dataframe to an interactive table.\"\n",
              "              style=\"display:none;\">\n",
              "        \n",
              "  <svg xmlns=\"http://www.w3.org/2000/svg\" height=\"24px\"viewBox=\"0 0 24 24\"\n",
              "       width=\"24px\">\n",
              "    <path d=\"M0 0h24v24H0V0z\" fill=\"none\"/>\n",
              "    <path d=\"M18.56 5.44l.94 2.06.94-2.06 2.06-.94-2.06-.94-.94-2.06-.94 2.06-2.06.94zm-11 1L8.5 8.5l.94-2.06 2.06-.94-2.06-.94L8.5 2.5l-.94 2.06-2.06.94zm10 10l.94 2.06.94-2.06 2.06-.94-2.06-.94-.94-2.06-.94 2.06-2.06.94z\"/><path d=\"M17.41 7.96l-1.37-1.37c-.4-.4-.92-.59-1.43-.59-.52 0-1.04.2-1.43.59L10.3 9.45l-7.72 7.72c-.78.78-.78 2.05 0 2.83L4 21.41c.39.39.9.59 1.41.59.51 0 1.02-.2 1.41-.59l7.78-7.78 2.81-2.81c.8-.78.8-2.07 0-2.86zM5.41 20L4 18.59l7.72-7.72 1.47 1.35L5.41 20z\"/>\n",
              "  </svg>\n",
              "      </button>\n",
              "      \n",
              "  <style>\n",
              "    .colab-df-container {\n",
              "      display:flex;\n",
              "      flex-wrap:wrap;\n",
              "      gap: 12px;\n",
              "    }\n",
              "\n",
              "    .colab-df-convert {\n",
              "      background-color: #E8F0FE;\n",
              "      border: none;\n",
              "      border-radius: 50%;\n",
              "      cursor: pointer;\n",
              "      display: none;\n",
              "      fill: #1967D2;\n",
              "      height: 32px;\n",
              "      padding: 0 0 0 0;\n",
              "      width: 32px;\n",
              "    }\n",
              "\n",
              "    .colab-df-convert:hover {\n",
              "      background-color: #E2EBFA;\n",
              "      box-shadow: 0px 1px 2px rgba(60, 64, 67, 0.3), 0px 1px 3px 1px rgba(60, 64, 67, 0.15);\n",
              "      fill: #174EA6;\n",
              "    }\n",
              "\n",
              "    [theme=dark] .colab-df-convert {\n",
              "      background-color: #3B4455;\n",
              "      fill: #D2E3FC;\n",
              "    }\n",
              "\n",
              "    [theme=dark] .colab-df-convert:hover {\n",
              "      background-color: #434B5C;\n",
              "      box-shadow: 0px 1px 3px 1px rgba(0, 0, 0, 0.15);\n",
              "      filter: drop-shadow(0px 1px 2px rgba(0, 0, 0, 0.3));\n",
              "      fill: #FFFFFF;\n",
              "    }\n",
              "  </style>\n",
              "\n",
              "      <script>\n",
              "        const buttonEl =\n",
              "          document.querySelector('#df-ab021b8c-2472-4a3e-a7bf-3297b490a18d button.colab-df-convert');\n",
              "        buttonEl.style.display =\n",
              "          google.colab.kernel.accessAllowed ? 'block' : 'none';\n",
              "\n",
              "        async function convertToInteractive(key) {\n",
              "          const element = document.querySelector('#df-ab021b8c-2472-4a3e-a7bf-3297b490a18d');\n",
              "          const dataTable =\n",
              "            await google.colab.kernel.invokeFunction('convertToInteractive',\n",
              "                                                     [key], {});\n",
              "          if (!dataTable) return;\n",
              "\n",
              "          const docLinkHtml = 'Like what you see? Visit the ' +\n",
              "            '<a target=\"_blank\" href=https://colab.research.google.com/notebooks/data_table.ipynb>data table notebook</a>'\n",
              "            + ' to learn more about interactive tables.';\n",
              "          element.innerHTML = '';\n",
              "          dataTable['output_type'] = 'display_data';\n",
              "          await google.colab.output.renderOutput(dataTable, element);\n",
              "          const docLink = document.createElement('div');\n",
              "          docLink.innerHTML = docLinkHtml;\n",
              "          element.appendChild(docLink);\n",
              "        }\n",
              "      </script>\n",
              "    </div>\n",
              "  </div>\n",
              "  "
            ]
          },
          "metadata": {},
          "execution_count": 14
        }
      ],
      "source": [
        "exc_syns_per_seg.head()"
      ]
    },
    {
      "cell_type": "code",
      "execution_count": 15,
      "metadata": {
        "id": "GqAaIDem4vah"
      },
      "outputs": [],
      "source": [
        "segs['segmentID'] = segs.groupby(['Type','Sec ID']).cumcount()+1"
      ]
    },
    {
      "cell_type": "code",
      "execution_count": 16,
      "metadata": {
        "id": "X-FQZkN64vah"
      },
      "outputs": [],
      "source": [
        "exc_syns_per_seg['segmentID'] = exc_syns_per_seg.groupby(['Type','Sec ID']).cumcount()+1"
      ]
    },
    {
      "cell_type": "code",
      "execution_count": 17,
      "metadata": {
        "id": "YFfgDwZL4vah"
      },
      "outputs": [],
      "source": [
        "exc_syns = segs.set_index(['Type','Sec ID','segmentID']).join(exc_syns_per_seg[['Type','Sec ID','segmentID','num_syns']].set_index(['Type','Sec ID','segmentID'])).reset_index()\n"
      ]
    },
    {
      "cell_type": "code",
      "execution_count": 18,
      "metadata": {
        "id": "bhpJr1up4vai"
      },
      "outputs": [],
      "source": [
        "v = h5py.File('./{}/v_report.h5'.format(output_folder),'r')\n",
        "hva = h5py.File('./{}/Ca_HVA.ica_report.h5'.format(output_folder),'r')\n",
        "lva = h5py.File('./{}/Ca_LVAst.ica_report.h5'.format(output_folder),'r')\n",
        "ih = h5py.File('./{}/Ih.ihcn_report.h5'.format(output_folder),'r')\n",
        "\n",
        "nmda = h5py.File('./{}/inmda_report.h5'.format(output_folder),'r')\n",
        "\n",
        "na = h5py.File('./{}/NaTa_t.gNaTa_t_report.h5'.format(output_folder),'r')\n",
        "spks = h5py.File('./{}/spikes.h5'.format(output_folder),'r')\n",
        "\n",
        "\n",
        "#v['report']['biophysical']['data'][:]"
      ]
    },
    {
      "cell_type": "code",
      "source": [
        "v['report']['biophysical']['data'][:-100,1]"
      ],
      "metadata": {
        "colab": {
          "base_uri": "https://localhost:8080/"
        },
        "id": "oi6foHBCt_wQ",
        "outputId": "668af2df-249e-4232-d9c0-0e35008ddfae"
      },
      "execution_count": 19,
      "outputs": [
        {
          "output_type": "execute_result",
          "data": {
            "text/plain": [
              "array([-72.        , -72.00646794, -72.01099062, ..., -65.00700653,\n",
              "       -64.99914153, -64.98904935])"
            ]
          },
          "metadata": {},
          "execution_count": 19
        }
      ]
    },
    {
      "cell_type": "code",
      "source": [
        "v_thresh = -40\n",
        "np.diff(v['report']['biophysical']['data'][:-10000,1]> v_thresh, prepend=False)"
      ],
      "metadata": {
        "colab": {
          "base_uri": "https://localhost:8080/"
        },
        "id": "CxkFxWNLtXA1",
        "outputId": "5f418e03-ded5-4699-f97b-06ec14a929fc"
      },
      "execution_count": 20,
      "outputs": [
        {
          "output_type": "execute_result",
          "data": {
            "text/plain": [
              "array([False])"
            ]
          },
          "metadata": {},
          "execution_count": 20
        }
      ]
    },
    {
      "cell_type": "code",
      "execution_count": 21,
      "metadata": {
        "id": "JrQxbXCr4vai"
      },
      "outputs": [],
      "source": [
        "spktimes = spks['spikes']['biophysical']['timestamps'][:]\n",
        "spkinds = np.sort((spktimes*10).astype(int))"
      ]
    },
    {
      "cell_type": "code",
      "execution_count": 22,
      "metadata": {
        "id": "7EMfd8Hw4vai"
      },
      "outputs": [],
      "source": [
        "na_df = pd.DataFrame(columns=['segmentID','na_lower_bound'])\n",
        "\n",
        "for p in segs[(segs.Type=='dend')|(segs.Type=='apic')].index:\n",
        "    #print(p)\n",
        "    threshold_crossings = np.diff(na['report']['biophysical']['data'][:,p] > (0.003/1000), prepend=False)\n",
        "    upward_crossings = np.argwhere(threshold_crossings)[::2,0]\n",
        "    downward_crossings = np.argwhere(threshold_crossings)[1::2,0]\n",
        "    # Only count if not within 2 ms after a somatic spike\n",
        "    na_spks = [i for i in upward_crossings if ~np.any((i-spkinds>=-5) & (i-spkinds<50))]\n",
        "    \n",
        "    if len(na_spks)>0:\n",
        "        na_df = na_df.append(pd.DataFrame({'segmentID':np.tile(p,len(na_spks)),\n",
        "                                               'na_lower_bound':na_spks}))\n",
        "    else:\n",
        "        na_df = na_df.append(pd.DataFrame({'segmentID':p,\n",
        "                                               'na_lower_bound':np.array([np.nan])}))"
      ]
    },
    {
      "cell_type": "code",
      "execution_count": 23,
      "metadata": {
        "id": "P_AErLdR4vai",
        "colab": {
          "base_uri": "https://localhost:8080/"
        },
        "outputId": "663ecf2b-5fae-44c6-a2e8-9acd0436bf08"
      },
      "outputs": [
        {
          "output_type": "execute_result",
          "data": {
            "text/plain": [
              "RangeIndex(start=0, stop=11163, step=1)"
            ]
          },
          "metadata": {},
          "execution_count": 23
        }
      ],
      "source": [
        "na_df.to_csv('na_df.csv')\n",
        "na_df = pd.read_csv('na_df.csv')\n",
        "\n",
        "\n",
        "na_df.index"
      ]
    },
    {
      "cell_type": "code",
      "source": [
        "\n",
        "#display(na_df.to_string())"
      ],
      "metadata": {
        "id": "pSnsZWvzUIlx"
      },
      "execution_count": 24,
      "outputs": []
    },
    {
      "cell_type": "code",
      "execution_count": 25,
      "metadata": {
        "id": "b7lOX8Uq4vai"
      },
      "outputs": [],
      "source": [
        "\n",
        "for i in np.random.choice(na_df[(na_df.na_lower_bound>20) & (na_df.na_lower_bound<1400000)].index,1000):\n",
        "    seg = na_df.loc[i,'segmentID']\n",
        "    if not pd.isnull(na_df.loc[i,'na_lower_bound']):\n",
        "        spkt = int(na_df.loc[i,'na_lower_bound'])\n",
        "        trace = na['report']['biophysical']['data'][spkt-10:spkt+10,seg]\n",
        "        peak_value = np.max(trace)\n",
        "        half_peak = peak_value/2\n",
        "        # import pdb; pdb.set_trace()\n",
        "        # duration = np.arange(0,20)[trace>half_peak] + spkt - 10 #gave occasional error\n",
        "        duration = np.arange(0,len(trace))[trace>half_peak] + spkt - 10\n",
        "        na_df.loc[i,'duration_low'] = duration[0]\n",
        "        na_df.loc[i,'duration_high'] = duration[-1]\n",
        "        na_df.loc[i,'peak_value'] = peak_value\n",
        "    else:\n",
        "        na_df.loc[i,'duration_low'] = np.nan\n",
        "        na_df.loc[i,'duration_high'] = np.nan\n",
        "        na_df.loc[i,'peak_value'] = np.nan"
      ]
    },
    {
      "cell_type": "code",
      "execution_count": 26,
      "metadata": {
        "id": "BI9Bf8hl4vai"
      },
      "outputs": [],
      "source": [
        "na_df['duration'] = (na_df['duration_high'] - na_df['duration_low'] + 1)/10"
      ]
    },
    {
      "cell_type": "code",
      "execution_count": 27,
      "metadata": {
        "id": "FnJPbRFl4vaj",
        "outputId": "ddfa1f7c-312a-4a63-d391-9a945ca86ef2",
        "colab": {
          "base_uri": "https://localhost:8080/"
        }
      },
      "outputs": [
        {
          "output_type": "execute_result",
          "data": {
            "text/plain": [
              "<bound method NDFrame.head of        Unnamed: 0  segmentID  na_lower_bound  duration_low  duration_high  \\\n",
              "0               0          0           736.0           NaN            NaN   \n",
              "1               1          0          1225.0           NaN            NaN   \n",
              "2               2          0          5372.0           NaN            NaN   \n",
              "3               3          0          6563.0           NaN            NaN   \n",
              "4               4          0          8794.0           NaN            NaN   \n",
              "...           ...        ...             ...           ...            ...   \n",
              "11158           0        982             NaN           NaN            NaN   \n",
              "11159           0        983             NaN           NaN            NaN   \n",
              "11160           0        984             NaN           NaN            NaN   \n",
              "11161           0        985             NaN           NaN            NaN   \n",
              "11162           0        986             NaN           NaN            NaN   \n",
              "\n",
              "       peak_value  duration  \n",
              "0             NaN       NaN  \n",
              "1             NaN       NaN  \n",
              "2             NaN       NaN  \n",
              "3             NaN       NaN  \n",
              "4             NaN       NaN  \n",
              "...           ...       ...  \n",
              "11158         NaN       NaN  \n",
              "11159         NaN       NaN  \n",
              "11160         NaN       NaN  \n",
              "11161         NaN       NaN  \n",
              "11162         NaN       NaN  \n",
              "\n",
              "[11163 rows x 7 columns]>"
            ]
          },
          "metadata": {},
          "execution_count": 27
        }
      ],
      "source": [
        "segs_na_df = segs.join(na_df.set_index('segmentID')).reset_index()\n",
        "# display(segs_na_df.Type.to_string())\n",
        "# display(segs_na_df.Elec_distance.to_string())\n",
        "\n",
        "\n",
        "na_df.head\n",
        "\n",
        "\n",
        "\n",
        "#segs_na_df[(~pd.isnull(segs_na_df.na_lower_bound))&(segs_na_df.Type=='apic')]"
      ]
    },
    {
      "cell_type": "code",
      "source": [
        "segs_na_df[~pd.isnull(segs_na_df.duration_high)]"
      ],
      "metadata": {
        "colab": {
          "base_uri": "https://localhost:8080/",
          "height": 557
        },
        "id": "U0qFgwXccjKf",
        "outputId": "afad0536-e31b-4d49-fa94-0717546b3276"
      },
      "execution_count": 28,
      "outputs": [
        {
          "output_type": "execute_result",
          "data": {
            "text/plain": [
              "       index  BMTK ID         X  Type  Sec ID     Distance       Coord X  \\\n",
              "14         2        2  0.187500  dend       1    22.187500  8.471297e+00   \n",
              "15         2        2  0.187500  dend       1    22.187500  8.471297e+00   \n",
              "25         4        4  0.437500  dend       1    31.937500  1.694259e+01   \n",
              "40         6        6  0.687500  dend       1    41.687500  2.541389e+01   \n",
              "55         8        8  0.937500  dend       2    10.000000  0.000000e+00   \n",
              "...      ...      ...       ...   ...     ...          ...           ...   \n",
              "11035    909      909  0.940476  apic      31  1479.499988 -2.476449e-14   \n",
              "11046    910      910  0.964286  apic      31  1486.999989 -2.500801e-14   \n",
              "11057    910      910  0.964286  apic      31  1486.999989 -2.500801e-14   \n",
              "11065    911      911  0.988095  dend      32    10.000000  0.000000e+00   \n",
              "11087    911      911  0.988095  dend      32    10.000000  0.000000e+00   \n",
              "\n",
              "           Coord Y     Coord Z  Elec_distance  segmentID Elec_distanceQ  \\\n",
              "14       -7.238811    0.000000       0.697084          3              8   \n",
              "15       -7.238811    0.000000       0.697084          3              8   \n",
              "25      -14.477623    0.000000       0.528018          5              7   \n",
              "40      -21.716434    0.000000       0.417818          7              6   \n",
              "55        0.000000    0.000000       0.999986          1              9   \n",
              "...            ...         ...            ...        ...            ...   \n",
              "11035  1454.129963 -134.811610       0.000336         41              0   \n",
              "11046  1459.077393 -136.137253       0.000322         42              0   \n",
              "11057  1459.077393 -136.137253       0.000322         42              0   \n",
              "11065     0.000000    0.000000       0.999986          1              9   \n",
              "11087     0.000000    0.000000       0.999986          1              9   \n",
              "\n",
              "       Unnamed: 0  na_lower_bound  duration_low  duration_high  peak_value  \\\n",
              "14              0          1157.0        1162.0         1166.0    0.000010   \n",
              "15              1          2129.0        2135.0         2138.0    0.000012   \n",
              "25              0          1154.0        1156.0         1163.0    0.000007   \n",
              "40              3          5273.0        5263.0         5282.0    0.000003   \n",
              "55              3          2680.0        2670.0         2689.0    0.000003   \n",
              "...           ...             ...           ...            ...         ...   \n",
              "11035          22          9282.0        9285.0         9291.0    0.000010   \n",
              "11046           8          3960.0        3950.0         3966.0    0.000003   \n",
              "11057          19          8410.0        8416.0         8419.0    0.000028   \n",
              "11065           2          1149.0        1148.0         1158.0    0.000005   \n",
              "11087          24          9735.0        9735.0         9744.0    0.000006   \n",
              "\n",
              "       duration  \n",
              "14          0.5  \n",
              "15          0.4  \n",
              "25          0.8  \n",
              "40          2.0  \n",
              "55          2.0  \n",
              "...         ...  \n",
              "11035       0.7  \n",
              "11046       1.7  \n",
              "11057       0.4  \n",
              "11065       1.1  \n",
              "11087       1.0  \n",
              "\n",
              "[957 rows x 18 columns]"
            ],
            "text/html": [
              "\n",
              "  <div id=\"df-3d2ed228-e9cc-44fa-b2cb-89ea9cabde26\">\n",
              "    <div class=\"colab-df-container\">\n",
              "      <div>\n",
              "<style scoped>\n",
              "    .dataframe tbody tr th:only-of-type {\n",
              "        vertical-align: middle;\n",
              "    }\n",
              "\n",
              "    .dataframe tbody tr th {\n",
              "        vertical-align: top;\n",
              "    }\n",
              "\n",
              "    .dataframe thead th {\n",
              "        text-align: right;\n",
              "    }\n",
              "</style>\n",
              "<table border=\"1\" class=\"dataframe\">\n",
              "  <thead>\n",
              "    <tr style=\"text-align: right;\">\n",
              "      <th></th>\n",
              "      <th>index</th>\n",
              "      <th>BMTK ID</th>\n",
              "      <th>X</th>\n",
              "      <th>Type</th>\n",
              "      <th>Sec ID</th>\n",
              "      <th>Distance</th>\n",
              "      <th>Coord X</th>\n",
              "      <th>Coord Y</th>\n",
              "      <th>Coord Z</th>\n",
              "      <th>Elec_distance</th>\n",
              "      <th>segmentID</th>\n",
              "      <th>Elec_distanceQ</th>\n",
              "      <th>Unnamed: 0</th>\n",
              "      <th>na_lower_bound</th>\n",
              "      <th>duration_low</th>\n",
              "      <th>duration_high</th>\n",
              "      <th>peak_value</th>\n",
              "      <th>duration</th>\n",
              "    </tr>\n",
              "  </thead>\n",
              "  <tbody>\n",
              "    <tr>\n",
              "      <th>14</th>\n",
              "      <td>2</td>\n",
              "      <td>2</td>\n",
              "      <td>0.187500</td>\n",
              "      <td>dend</td>\n",
              "      <td>1</td>\n",
              "      <td>22.187500</td>\n",
              "      <td>8.471297e+00</td>\n",
              "      <td>-7.238811</td>\n",
              "      <td>0.000000</td>\n",
              "      <td>0.697084</td>\n",
              "      <td>3</td>\n",
              "      <td>8</td>\n",
              "      <td>0</td>\n",
              "      <td>1157.0</td>\n",
              "      <td>1162.0</td>\n",
              "      <td>1166.0</td>\n",
              "      <td>0.000010</td>\n",
              "      <td>0.5</td>\n",
              "    </tr>\n",
              "    <tr>\n",
              "      <th>15</th>\n",
              "      <td>2</td>\n",
              "      <td>2</td>\n",
              "      <td>0.187500</td>\n",
              "      <td>dend</td>\n",
              "      <td>1</td>\n",
              "      <td>22.187500</td>\n",
              "      <td>8.471297e+00</td>\n",
              "      <td>-7.238811</td>\n",
              "      <td>0.000000</td>\n",
              "      <td>0.697084</td>\n",
              "      <td>3</td>\n",
              "      <td>8</td>\n",
              "      <td>1</td>\n",
              "      <td>2129.0</td>\n",
              "      <td>2135.0</td>\n",
              "      <td>2138.0</td>\n",
              "      <td>0.000012</td>\n",
              "      <td>0.4</td>\n",
              "    </tr>\n",
              "    <tr>\n",
              "      <th>25</th>\n",
              "      <td>4</td>\n",
              "      <td>4</td>\n",
              "      <td>0.437500</td>\n",
              "      <td>dend</td>\n",
              "      <td>1</td>\n",
              "      <td>31.937500</td>\n",
              "      <td>1.694259e+01</td>\n",
              "      <td>-14.477623</td>\n",
              "      <td>0.000000</td>\n",
              "      <td>0.528018</td>\n",
              "      <td>5</td>\n",
              "      <td>7</td>\n",
              "      <td>0</td>\n",
              "      <td>1154.0</td>\n",
              "      <td>1156.0</td>\n",
              "      <td>1163.0</td>\n",
              "      <td>0.000007</td>\n",
              "      <td>0.8</td>\n",
              "    </tr>\n",
              "    <tr>\n",
              "      <th>40</th>\n",
              "      <td>6</td>\n",
              "      <td>6</td>\n",
              "      <td>0.687500</td>\n",
              "      <td>dend</td>\n",
              "      <td>1</td>\n",
              "      <td>41.687500</td>\n",
              "      <td>2.541389e+01</td>\n",
              "      <td>-21.716434</td>\n",
              "      <td>0.000000</td>\n",
              "      <td>0.417818</td>\n",
              "      <td>7</td>\n",
              "      <td>6</td>\n",
              "      <td>3</td>\n",
              "      <td>5273.0</td>\n",
              "      <td>5263.0</td>\n",
              "      <td>5282.0</td>\n",
              "      <td>0.000003</td>\n",
              "      <td>2.0</td>\n",
              "    </tr>\n",
              "    <tr>\n",
              "      <th>55</th>\n",
              "      <td>8</td>\n",
              "      <td>8</td>\n",
              "      <td>0.937500</td>\n",
              "      <td>dend</td>\n",
              "      <td>2</td>\n",
              "      <td>10.000000</td>\n",
              "      <td>0.000000e+00</td>\n",
              "      <td>0.000000</td>\n",
              "      <td>0.000000</td>\n",
              "      <td>0.999986</td>\n",
              "      <td>1</td>\n",
              "      <td>9</td>\n",
              "      <td>3</td>\n",
              "      <td>2680.0</td>\n",
              "      <td>2670.0</td>\n",
              "      <td>2689.0</td>\n",
              "      <td>0.000003</td>\n",
              "      <td>2.0</td>\n",
              "    </tr>\n",
              "    <tr>\n",
              "      <th>...</th>\n",
              "      <td>...</td>\n",
              "      <td>...</td>\n",
              "      <td>...</td>\n",
              "      <td>...</td>\n",
              "      <td>...</td>\n",
              "      <td>...</td>\n",
              "      <td>...</td>\n",
              "      <td>...</td>\n",
              "      <td>...</td>\n",
              "      <td>...</td>\n",
              "      <td>...</td>\n",
              "      <td>...</td>\n",
              "      <td>...</td>\n",
              "      <td>...</td>\n",
              "      <td>...</td>\n",
              "      <td>...</td>\n",
              "      <td>...</td>\n",
              "      <td>...</td>\n",
              "    </tr>\n",
              "    <tr>\n",
              "      <th>11035</th>\n",
              "      <td>909</td>\n",
              "      <td>909</td>\n",
              "      <td>0.940476</td>\n",
              "      <td>apic</td>\n",
              "      <td>31</td>\n",
              "      <td>1479.499988</td>\n",
              "      <td>-2.476449e-14</td>\n",
              "      <td>1454.129963</td>\n",
              "      <td>-134.811610</td>\n",
              "      <td>0.000336</td>\n",
              "      <td>41</td>\n",
              "      <td>0</td>\n",
              "      <td>22</td>\n",
              "      <td>9282.0</td>\n",
              "      <td>9285.0</td>\n",
              "      <td>9291.0</td>\n",
              "      <td>0.000010</td>\n",
              "      <td>0.7</td>\n",
              "    </tr>\n",
              "    <tr>\n",
              "      <th>11046</th>\n",
              "      <td>910</td>\n",
              "      <td>910</td>\n",
              "      <td>0.964286</td>\n",
              "      <td>apic</td>\n",
              "      <td>31</td>\n",
              "      <td>1486.999989</td>\n",
              "      <td>-2.500801e-14</td>\n",
              "      <td>1459.077393</td>\n",
              "      <td>-136.137253</td>\n",
              "      <td>0.000322</td>\n",
              "      <td>42</td>\n",
              "      <td>0</td>\n",
              "      <td>8</td>\n",
              "      <td>3960.0</td>\n",
              "      <td>3950.0</td>\n",
              "      <td>3966.0</td>\n",
              "      <td>0.000003</td>\n",
              "      <td>1.7</td>\n",
              "    </tr>\n",
              "    <tr>\n",
              "      <th>11057</th>\n",
              "      <td>910</td>\n",
              "      <td>910</td>\n",
              "      <td>0.964286</td>\n",
              "      <td>apic</td>\n",
              "      <td>31</td>\n",
              "      <td>1486.999989</td>\n",
              "      <td>-2.500801e-14</td>\n",
              "      <td>1459.077393</td>\n",
              "      <td>-136.137253</td>\n",
              "      <td>0.000322</td>\n",
              "      <td>42</td>\n",
              "      <td>0</td>\n",
              "      <td>19</td>\n",
              "      <td>8410.0</td>\n",
              "      <td>8416.0</td>\n",
              "      <td>8419.0</td>\n",
              "      <td>0.000028</td>\n",
              "      <td>0.4</td>\n",
              "    </tr>\n",
              "    <tr>\n",
              "      <th>11065</th>\n",
              "      <td>911</td>\n",
              "      <td>911</td>\n",
              "      <td>0.988095</td>\n",
              "      <td>dend</td>\n",
              "      <td>32</td>\n",
              "      <td>10.000000</td>\n",
              "      <td>0.000000e+00</td>\n",
              "      <td>0.000000</td>\n",
              "      <td>0.000000</td>\n",
              "      <td>0.999986</td>\n",
              "      <td>1</td>\n",
              "      <td>9</td>\n",
              "      <td>2</td>\n",
              "      <td>1149.0</td>\n",
              "      <td>1148.0</td>\n",
              "      <td>1158.0</td>\n",
              "      <td>0.000005</td>\n",
              "      <td>1.1</td>\n",
              "    </tr>\n",
              "    <tr>\n",
              "      <th>11087</th>\n",
              "      <td>911</td>\n",
              "      <td>911</td>\n",
              "      <td>0.988095</td>\n",
              "      <td>dend</td>\n",
              "      <td>32</td>\n",
              "      <td>10.000000</td>\n",
              "      <td>0.000000e+00</td>\n",
              "      <td>0.000000</td>\n",
              "      <td>0.000000</td>\n",
              "      <td>0.999986</td>\n",
              "      <td>1</td>\n",
              "      <td>9</td>\n",
              "      <td>24</td>\n",
              "      <td>9735.0</td>\n",
              "      <td>9735.0</td>\n",
              "      <td>9744.0</td>\n",
              "      <td>0.000006</td>\n",
              "      <td>1.0</td>\n",
              "    </tr>\n",
              "  </tbody>\n",
              "</table>\n",
              "<p>957 rows × 18 columns</p>\n",
              "</div>\n",
              "      <button class=\"colab-df-convert\" onclick=\"convertToInteractive('df-3d2ed228-e9cc-44fa-b2cb-89ea9cabde26')\"\n",
              "              title=\"Convert this dataframe to an interactive table.\"\n",
              "              style=\"display:none;\">\n",
              "        \n",
              "  <svg xmlns=\"http://www.w3.org/2000/svg\" height=\"24px\"viewBox=\"0 0 24 24\"\n",
              "       width=\"24px\">\n",
              "    <path d=\"M0 0h24v24H0V0z\" fill=\"none\"/>\n",
              "    <path d=\"M18.56 5.44l.94 2.06.94-2.06 2.06-.94-2.06-.94-.94-2.06-.94 2.06-2.06.94zm-11 1L8.5 8.5l.94-2.06 2.06-.94-2.06-.94L8.5 2.5l-.94 2.06-2.06.94zm10 10l.94 2.06.94-2.06 2.06-.94-2.06-.94-.94-2.06-.94 2.06-2.06.94z\"/><path d=\"M17.41 7.96l-1.37-1.37c-.4-.4-.92-.59-1.43-.59-.52 0-1.04.2-1.43.59L10.3 9.45l-7.72 7.72c-.78.78-.78 2.05 0 2.83L4 21.41c.39.39.9.59 1.41.59.51 0 1.02-.2 1.41-.59l7.78-7.78 2.81-2.81c.8-.78.8-2.07 0-2.86zM5.41 20L4 18.59l7.72-7.72 1.47 1.35L5.41 20z\"/>\n",
              "  </svg>\n",
              "      </button>\n",
              "      \n",
              "  <style>\n",
              "    .colab-df-container {\n",
              "      display:flex;\n",
              "      flex-wrap:wrap;\n",
              "      gap: 12px;\n",
              "    }\n",
              "\n",
              "    .colab-df-convert {\n",
              "      background-color: #E8F0FE;\n",
              "      border: none;\n",
              "      border-radius: 50%;\n",
              "      cursor: pointer;\n",
              "      display: none;\n",
              "      fill: #1967D2;\n",
              "      height: 32px;\n",
              "      padding: 0 0 0 0;\n",
              "      width: 32px;\n",
              "    }\n",
              "\n",
              "    .colab-df-convert:hover {\n",
              "      background-color: #E2EBFA;\n",
              "      box-shadow: 0px 1px 2px rgba(60, 64, 67, 0.3), 0px 1px 3px 1px rgba(60, 64, 67, 0.15);\n",
              "      fill: #174EA6;\n",
              "    }\n",
              "\n",
              "    [theme=dark] .colab-df-convert {\n",
              "      background-color: #3B4455;\n",
              "      fill: #D2E3FC;\n",
              "    }\n",
              "\n",
              "    [theme=dark] .colab-df-convert:hover {\n",
              "      background-color: #434B5C;\n",
              "      box-shadow: 0px 1px 3px 1px rgba(0, 0, 0, 0.15);\n",
              "      filter: drop-shadow(0px 1px 2px rgba(0, 0, 0, 0.3));\n",
              "      fill: #FFFFFF;\n",
              "    }\n",
              "  </style>\n",
              "\n",
              "      <script>\n",
              "        const buttonEl =\n",
              "          document.querySelector('#df-3d2ed228-e9cc-44fa-b2cb-89ea9cabde26 button.colab-df-convert');\n",
              "        buttonEl.style.display =\n",
              "          google.colab.kernel.accessAllowed ? 'block' : 'none';\n",
              "\n",
              "        async function convertToInteractive(key) {\n",
              "          const element = document.querySelector('#df-3d2ed228-e9cc-44fa-b2cb-89ea9cabde26');\n",
              "          const dataTable =\n",
              "            await google.colab.kernel.invokeFunction('convertToInteractive',\n",
              "                                                     [key], {});\n",
              "          if (!dataTable) return;\n",
              "\n",
              "          const docLinkHtml = 'Like what you see? Visit the ' +\n",
              "            '<a target=\"_blank\" href=https://colab.research.google.com/notebooks/data_table.ipynb>data table notebook</a>'\n",
              "            + ' to learn more about interactive tables.';\n",
              "          element.innerHTML = '';\n",
              "          dataTable['output_type'] = 'display_data';\n",
              "          await google.colab.output.renderOutput(dataTable, element);\n",
              "          const docLink = document.createElement('div');\n",
              "          docLink.innerHTML = docLinkHtml;\n",
              "          element.appendChild(docLink);\n",
              "        }\n",
              "      </script>\n",
              "    </div>\n",
              "  </div>\n",
              "  "
            ]
          },
          "metadata": {},
          "execution_count": 28
        }
      ]
    },
    {
      "cell_type": "code",
      "source": [
        "#pd.set_option(\"display.max_rows\", None, \"display.max_columns\", None)\n",
        "\n",
        "#print(na_df)"
      ],
      "metadata": {
        "id": "sB1diydHZvEg"
      },
      "execution_count": 29,
      "outputs": []
    },
    {
      "cell_type": "code",
      "execution_count": 30,
      "metadata": {
        "id": "2EvZxPFY4vaj"
      },
      "outputs": [],
      "source": [
        "def get_sta(segs_na_df, spktimes):\n",
        "    na_dend = np.zeros((10,39,))\n",
        "    na_apic = np.zeros((10,39,))\n",
        "    \n",
        "    edges_dend=np.quantile(segs_na_df[(~pd.isnull(segs_na_df.na_lower_bound))&\n",
        "                                       (segs_na_df.Type=='dend')]['Elec_distance'].unique(),np.arange(0,1.1,0.1))\n",
        "   # print(edges_dend)\n",
        "    edges_apic=np.quantile(segs_na_df[(~pd.isnull(segs_na_df.na_lower_bound))&\n",
        "                                       (segs_na_df.Type=='apic')]['Elec_distance'].unique(),np.arange(0,1.1,0.1))\n",
        "   # print('please')\n",
        "    actual_spktimes = []\n",
        "    c = 0\n",
        "\n",
        "   # print(spktimes)\n",
        "\n",
        "\n",
        "    for i in np.sort(spktimes):\n",
        "        # excludes bursts\n",
        "        #print(i)\n",
        "        if i-c > 10:\n",
        "            for e in np.arange(0,10):\n",
        "                #print(e)\n",
        "                na_inds = segs_na_df[(~pd.isnull(segs_na_df.na_lower_bound))&\n",
        "                                     (segs_na_df.Type=='dend')&\n",
        "                                     (segs_na_df.Elec_distance>edges_dend[e])&\n",
        "                                     (segs_na_df.Elec_distance<=edges_dend[e+1])]['na_lower_bound'].values.astype(int)\n",
        "                #print(na_inds)\n",
        "                x2, _ = np.histogram(na_inds/10,bins=np.arange(np.floor(i)-20,np.floor(i)+20,1))\n",
        "                na_dend[e] += x2\n",
        "                \n",
        "                na_inds = segs_na_df[(~pd.isnull(segs_na_df.na_lower_bound))&\n",
        "                                     (segs_na_df.Type=='apic')&\n",
        "                                     (segs_na_df.Elec_distance>edges_apic[e])&\n",
        "                                     (segs_na_df.Elec_distance<=edges_apic[e+1])]['na_lower_bound'].values.astype(int)\n",
        "    \n",
        "                x2, _ = np.histogram(na_inds/10,bins=np.arange(np.floor(i)-20,np.floor(i)+20,1))\n",
        "                na_apic[e] += x2\n",
        "            \n",
        "            actual_spktimes.append(i)\n",
        "        c = i\n",
        "    \n",
        "\n",
        "    \n",
        "    \n",
        "    return na_dend, na_apic"
      ]
    },
    {
      "cell_type": "code",
      "execution_count": 31,
      "metadata": {
        "id": "glkA6zW24vaj",
        "outputId": "e6406307-e63d-49af-e958-152379be8d63",
        "colab": {
          "base_uri": "https://localhost:8080/",
          "height": 1000
        }
      },
      "outputs": [
        {
          "output_type": "stream",
          "name": "stderr",
          "text": [
            "\n",
            "PYDEV DEBUGGER WARNING:\n",
            "sys.settrace() should not be used when the debugger is being used.\n",
            "This may cause the debugger to stop working correctly.\n",
            "If this is needed, please check: \n",
            "http://pydev.blogspot.com/2007/06/why-cant-pydev-debugger-work-with.html\n",
            "to see how to restore the debug tracing back correctly.\n",
            "Call Location:\n",
            "  File \"/usr/lib/python3.7/bdb.py\", line 332, in set_trace\n",
            "    sys.settrace(self.trace_dispatch)\n",
            "\n"
          ]
        },
        {
          "name": "stdout",
          "output_type": "stream",
          "text": [
            "> <ipython-input-30-3770d2723bfd>(5)get_sta()\n",
            "-> edges_dend=np.quantile(segs_na_df[(~pd.isnull(segs_na_df.na_lower_bound))&\n",
            "(Pdb) n\n",
            "> <ipython-input-30-3770d2723bfd>(6)get_sta()\n",
            "-> (segs_na_df.Type=='dend')]['Elec_distance'].unique(),np.arange(0,1.1,0.1))\n",
            "(Pdb) n\n",
            "> <ipython-input-30-3770d2723bfd>(8)get_sta()\n",
            "-> edges_apic=np.quantile(segs_na_df[(~pd.isnull(segs_na_df.na_lower_bound))&\n",
            "(Pdb) print(edges_dend)\n",
            "[0.01861363 0.02206058 0.02622859 0.03218832 0.04152804 0.06015012\n",
            " 0.08769457 0.13313813 0.30868947 0.5506472  0.99998647]\n",
            "(Pdb) n\n",
            "> <ipython-input-30-3770d2723bfd>(9)get_sta()\n",
            "-> (segs_na_df.Type=='apic')]['Elec_distance'].unique(),np.arange(0,1.1,0.1))\n",
            "(Pdb) n\n",
            "> <ipython-input-30-3770d2723bfd>(11)get_sta()\n",
            "-> actual_spktimes = []\n",
            "(Pdb) q\n"
          ]
        },
        {
          "output_type": "stream",
          "name": "stderr",
          "text": [
            "\n",
            "PYDEV DEBUGGER WARNING:\n",
            "sys.settrace() should not be used when the debugger is being used.\n",
            "This may cause the debugger to stop working correctly.\n",
            "If this is needed, please check: \n",
            "http://pydev.blogspot.com/2007/06/why-cant-pydev-debugger-work-with.html\n",
            "to see how to restore the debug tracing back correctly.\n",
            "Call Location:\n",
            "  File \"/usr/lib/python3.7/bdb.py\", line 357, in set_quit\n",
            "    sys.settrace(None)\n",
            "\n"
          ]
        },
        {
          "output_type": "error",
          "ename": "BdbQuit",
          "evalue": "ignored",
          "traceback": [
            "\u001b[0;31m---------------------------------------------------------------------------\u001b[0m",
            "\u001b[0;31mBdbQuit\u001b[0m                                   Traceback (most recent call last)",
            "\u001b[0;32m<ipython-input-31-7e082772407c>\u001b[0m in \u001b[0;36m<module>\u001b[0;34m\u001b[0m\n\u001b[0;32m----> 1\u001b[0;31m \u001b[0mna_dend\u001b[0m\u001b[0;34m,\u001b[0m \u001b[0mna_apic\u001b[0m \u001b[0;34m=\u001b[0m \u001b[0mget_sta\u001b[0m\u001b[0;34m(\u001b[0m\u001b[0msegs_na_df\u001b[0m\u001b[0;34m,\u001b[0m \u001b[0mspktimes\u001b[0m\u001b[0;34m)\u001b[0m\u001b[0;34m\u001b[0m\u001b[0;34m\u001b[0m\u001b[0m\n\u001b[0m",
            "\u001b[0;32m<ipython-input-30-3770d2723bfd>\u001b[0m in \u001b[0;36mget_sta\u001b[0;34m(segs_na_df, spktimes)\u001b[0m\n\u001b[1;32m      9\u001b[0m                                        (segs_na_df.Type=='apic')]['Elec_distance'].unique(),np.arange(0,1.1,0.1))\n\u001b[1;32m     10\u001b[0m    \u001b[0;31m# print('please')\u001b[0m\u001b[0;34m\u001b[0m\u001b[0;34m\u001b[0m\u001b[0;34m\u001b[0m\u001b[0m\n\u001b[0;32m---> 11\u001b[0;31m     \u001b[0mactual_spktimes\u001b[0m \u001b[0;34m=\u001b[0m \u001b[0;34m[\u001b[0m\u001b[0;34m]\u001b[0m\u001b[0;34m\u001b[0m\u001b[0;34m\u001b[0m\u001b[0m\n\u001b[0m\u001b[1;32m     12\u001b[0m     \u001b[0mc\u001b[0m \u001b[0;34m=\u001b[0m \u001b[0;36m0\u001b[0m\u001b[0;34m\u001b[0m\u001b[0;34m\u001b[0m\u001b[0m\n\u001b[1;32m     13\u001b[0m \u001b[0;34m\u001b[0m\u001b[0m\n",
            "\u001b[0;32m<ipython-input-30-3770d2723bfd>\u001b[0m in \u001b[0;36mget_sta\u001b[0;34m(segs_na_df, spktimes)\u001b[0m\n\u001b[1;32m      9\u001b[0m                                        (segs_na_df.Type=='apic')]['Elec_distance'].unique(),np.arange(0,1.1,0.1))\n\u001b[1;32m     10\u001b[0m    \u001b[0;31m# print('please')\u001b[0m\u001b[0;34m\u001b[0m\u001b[0;34m\u001b[0m\u001b[0;34m\u001b[0m\u001b[0m\n\u001b[0;32m---> 11\u001b[0;31m     \u001b[0mactual_spktimes\u001b[0m \u001b[0;34m=\u001b[0m \u001b[0;34m[\u001b[0m\u001b[0;34m]\u001b[0m\u001b[0;34m\u001b[0m\u001b[0;34m\u001b[0m\u001b[0m\n\u001b[0m\u001b[1;32m     12\u001b[0m     \u001b[0mc\u001b[0m \u001b[0;34m=\u001b[0m \u001b[0;36m0\u001b[0m\u001b[0;34m\u001b[0m\u001b[0;34m\u001b[0m\u001b[0m\n\u001b[1;32m     13\u001b[0m \u001b[0;34m\u001b[0m\u001b[0m\n",
            "\u001b[0;32m/usr/lib/python3.7/bdb.py\u001b[0m in \u001b[0;36mtrace_dispatch\u001b[0;34m(self, frame, event, arg)\u001b[0m\n\u001b[1;32m     86\u001b[0m             \u001b[0;32mreturn\u001b[0m \u001b[0;31m# None\u001b[0m\u001b[0;34m\u001b[0m\u001b[0;34m\u001b[0m\u001b[0m\n\u001b[1;32m     87\u001b[0m         \u001b[0;32mif\u001b[0m \u001b[0mevent\u001b[0m \u001b[0;34m==\u001b[0m \u001b[0;34m'line'\u001b[0m\u001b[0;34m:\u001b[0m\u001b[0;34m\u001b[0m\u001b[0;34m\u001b[0m\u001b[0m\n\u001b[0;32m---> 88\u001b[0;31m             \u001b[0;32mreturn\u001b[0m \u001b[0mself\u001b[0m\u001b[0;34m.\u001b[0m\u001b[0mdispatch_line\u001b[0m\u001b[0;34m(\u001b[0m\u001b[0mframe\u001b[0m\u001b[0;34m)\u001b[0m\u001b[0;34m\u001b[0m\u001b[0;34m\u001b[0m\u001b[0m\n\u001b[0m\u001b[1;32m     89\u001b[0m         \u001b[0;32mif\u001b[0m \u001b[0mevent\u001b[0m \u001b[0;34m==\u001b[0m \u001b[0;34m'call'\u001b[0m\u001b[0;34m:\u001b[0m\u001b[0;34m\u001b[0m\u001b[0;34m\u001b[0m\u001b[0m\n\u001b[1;32m     90\u001b[0m             \u001b[0;32mreturn\u001b[0m \u001b[0mself\u001b[0m\u001b[0;34m.\u001b[0m\u001b[0mdispatch_call\u001b[0m\u001b[0;34m(\u001b[0m\u001b[0mframe\u001b[0m\u001b[0;34m,\u001b[0m \u001b[0marg\u001b[0m\u001b[0;34m)\u001b[0m\u001b[0;34m\u001b[0m\u001b[0;34m\u001b[0m\u001b[0m\n",
            "\u001b[0;32m/usr/lib/python3.7/bdb.py\u001b[0m in \u001b[0;36mdispatch_line\u001b[0;34m(self, frame)\u001b[0m\n\u001b[1;32m    111\u001b[0m         \u001b[0;32mif\u001b[0m \u001b[0mself\u001b[0m\u001b[0;34m.\u001b[0m\u001b[0mstop_here\u001b[0m\u001b[0;34m(\u001b[0m\u001b[0mframe\u001b[0m\u001b[0;34m)\u001b[0m \u001b[0;32mor\u001b[0m \u001b[0mself\u001b[0m\u001b[0;34m.\u001b[0m\u001b[0mbreak_here\u001b[0m\u001b[0;34m(\u001b[0m\u001b[0mframe\u001b[0m\u001b[0;34m)\u001b[0m\u001b[0;34m:\u001b[0m\u001b[0;34m\u001b[0m\u001b[0;34m\u001b[0m\u001b[0m\n\u001b[1;32m    112\u001b[0m             \u001b[0mself\u001b[0m\u001b[0;34m.\u001b[0m\u001b[0muser_line\u001b[0m\u001b[0;34m(\u001b[0m\u001b[0mframe\u001b[0m\u001b[0;34m)\u001b[0m\u001b[0;34m\u001b[0m\u001b[0;34m\u001b[0m\u001b[0m\n\u001b[0;32m--> 113\u001b[0;31m             \u001b[0;32mif\u001b[0m \u001b[0mself\u001b[0m\u001b[0;34m.\u001b[0m\u001b[0mquitting\u001b[0m\u001b[0;34m:\u001b[0m \u001b[0;32mraise\u001b[0m \u001b[0mBdbQuit\u001b[0m\u001b[0;34m\u001b[0m\u001b[0;34m\u001b[0m\u001b[0m\n\u001b[0m\u001b[1;32m    114\u001b[0m         \u001b[0;32mreturn\u001b[0m \u001b[0mself\u001b[0m\u001b[0;34m.\u001b[0m\u001b[0mtrace_dispatch\u001b[0m\u001b[0;34m\u001b[0m\u001b[0;34m\u001b[0m\u001b[0m\n\u001b[1;32m    115\u001b[0m \u001b[0;34m\u001b[0m\u001b[0m\n",
            "\u001b[0;31mBdbQuit\u001b[0m: "
          ]
        }
      ],
      "source": [
        "na_dend, na_apic = get_sta(segs_na_df, spktimes)"
      ]
    },
    {
      "cell_type": "code",
      "source": [],
      "metadata": {
        "id": "c23ZHtwJcdRi"
      },
      "execution_count": null,
      "outputs": []
    },
    {
      "cell_type": "code",
      "source": [
        "#print(na_apic)"
      ],
      "metadata": {
        "id": "aTxBWP-iZC9k"
      },
      "execution_count": null,
      "outputs": []
    },
    {
      "cell_type": "code",
      "execution_count": null,
      "metadata": {
        "id": "PLw_zcHY4vaj"
      },
      "outputs": [],
      "source": [
        "rand_spktimes = np.sort(np.random.choice(np.arange(0,150000), spktimes.shape[0]))"
      ]
    },
    {
      "cell_type": "code",
      "execution_count": null,
      "metadata": {
        "id": "OtjmD-mU4vaj"
      },
      "outputs": [],
      "source": [
        "na_dend_rand, na_apic_rand = get_sta(segs_na_df, rand_spktimes)"
      ]
    },
    {
      "cell_type": "code",
      "execution_count": null,
      "metadata": {
        "id": "2--OhaH54vaj"
      },
      "outputs": [],
      "source": [
        "plt.figure(figsize=(10,10))\n",
        "plt.subplot(2,1,1)\n",
        "plt.title('Na spikes - apical')\n",
        "plt.imshow((na_apic-na_apic_rand)/len(spktimes),cmap='jet',vmin=-0.5)\n",
        "plt.colorbar(label='additional events per AP')\n",
        "plt.xticks(ticks=np.arange(0,40,5)-0.5,labels=['{}'.format(i) for i in np.arange(-20,20,5)])\n",
        "plt.yticks(ticks=[0,9],labels=['further','closer'])\n",
        "plt.xlim(5,35)\n",
        "\n",
        "plt.subplot(2,1,2)\n",
        "plt.title('Na spikes - basal')\n",
        "plt.imshow((na_dend-na_dend_rand)/len(spktimes),cmap='jet',vmin=-0.2, vmax=0.2)\n",
        "plt.colorbar(label='additional events per AP')\n",
        "plt.xticks(ticks=np.arange(0,40,5)-0.5,labels=['{}'.format(i) for i in np.arange(-20,20,5)])\n",
        "plt.yticks(ticks=[0,9],labels=['further','closer'])\n",
        "plt.xlabel('time(ms)')\n",
        "plt.xlim(5,35)\n",
        "\n",
        "plt.show()"
      ]
    },
    {
      "cell_type": "markdown",
      "metadata": {
        "id": "2mh6u46u4vak"
      },
      "source": [
        "----------"
      ]
    },
    {
      "cell_type": "code",
      "execution_count": null,
      "metadata": {
        "id": "o36hLzYo4vak"
      },
      "outputs": [],
      "source": [
        "ca_df = pd.DataFrame(columns=['segmentID','ca_lower_bound'])\n",
        "\n",
        "segs['segmentID'] = segs.index\n",
        "# segIDs = segs[(segs.Type=='apic')]['segmentID'] #original\n",
        "segIDs = segs['segmentID']\n",
        "for p in segIDs:\n",
        "    # import pdb; pdb.set_trace()\n",
        "    #print(p)\n",
        "    trace = hva['report']['biophysical']['data'][:,p]+\\\n",
        "                lva['report']['biophysical']['data'][:,p]+\\\n",
        "                ih['report']['biophysical']['data'][:,p]\n",
        "    m = np.mean(trace)\n",
        "    s = np.std(trace)\n",
        "\n",
        "    legit_uc = voltage_criterion(data=v['report']['biophysical']['data'][:,p],v_thresh=-40, time_thresh=200)[1]\n",
        "    legit_dc = voltage_criterion(data=v['report']['biophysical']['data'][:,p],v_thresh=-40, time_thresh=200)[-1]\n",
        "    \n",
        "    legit_uc_iso = legit_uc\n",
        "    \n",
        "    legit_dc_iso = legit_dc\n",
        "\n",
        "    # print(legit_dc_iso)\n",
        "    \n",
        "    \n",
        "    if (len(legit_uc_iso)!=0) & (np.min(trace)!=0):\n",
        "        bnds, sum_curr = current_criterion(legit_uc_iso=legit_uc_iso, \n",
        "                                           legit_dc_iso=legit_dc_iso, \n",
        "                                           p=p, \n",
        "                                           control_inmda=hva['report']['biophysical']['data'])\n",
        "        ca_df = ca_df.append(pd.DataFrame({'segmentID':np.tile(p,len(bnds)),\n",
        "                                               'ca_lower_bound':np.array(bnds).reshape(-1,2)[:,0],\n",
        "                                               'ca_upper_bound':np.array(bnds).reshape(-1,2)[:,1],\n",
        "                                               'mag':sum_curr}))\n",
        "    \n",
        "    else:\n",
        "        ca_df = ca_df.append(pd.DataFrame({'segmentID':np.tile(p,1),\n",
        "                                               'ca_lower_bound':np.nan,\n",
        "                                               'ca_upper_bound':np.nan,\n",
        "                                               'mag':np.nan}))"
      ]
    },
    {
      "cell_type": "code",
      "source": [
        "#print(ca_df)"
      ],
      "metadata": {
        "id": "qOf83soDjiCm"
      },
      "execution_count": null,
      "outputs": []
    },
    {
      "cell_type": "code",
      "execution_count": null,
      "metadata": {
        "id": "C36RU9wM4vak"
      },
      "outputs": [],
      "source": [
        "ca_df.to_csv('ca_df.csv')\n",
        "ca_df = pd.read_csv('ca_df.csv')"
      ]
    },
    {
      "cell_type": "markdown",
      "metadata": {
        "id": "TvfdmW7E4vak"
      },
      "source": [
        "# durations"
      ]
    },
    {
      "cell_type": "code",
      "execution_count": null,
      "metadata": {
        "id": "veidJEkY4vak"
      },
      "outputs": [],
      "source": [
        "segs[(segs['Coord Y']>600)&(segs['Coord Y']<800)]"
      ]
    },
    {
      "cell_type": "code",
      "execution_count": null,
      "metadata": {
        "id": "k-VESnKr4vak"
      },
      "outputs": [],
      "source": [
        "np.random.choice(segs[(segs['Coord Y']<-50)&\n",
        "     (segs['Coord Y']>-100)&\n",
        "     (segs['Coord X']>-50)&\n",
        "     (segs['Coord X']<50)&\n",
        "     (segs['Type']=='dend')]['segmentID'])"
      ]
    },
    {
      "cell_type": "markdown",
      "metadata": {
        "id": "mUUMQV414val"
      },
      "source": [
        "## Plotting morphology as heat maps"
      ]
    },
    {
      "cell_type": "code",
      "execution_count": null,
      "metadata": {
        "id": "ssdfDo-Q4val"
      },
      "outputs": [],
      "source": [
        "exc_syns.shape"
      ]
    },
    {
      "cell_type": "code",
      "execution_count": null,
      "metadata": {
        "id": "Vnjms8KJ4val"
      },
      "outputs": [],
      "source": [
        "plt.figure(figsize=(4,10))\n",
        "ax = plt.scatter(exc_syns['Coord X'], exc_syns['Coord Y'],c=np.log(exc_syns['Elec_distance']))\n",
        "plt.vlines(110,400,500)\n",
        "plt.text(0,450,'100 um')\n",
        "plt.hlines(400,110,210)\n",
        "plt.text(110,350,'100 um')\n",
        "plt.xticks([])\n",
        "plt.yticks([])\n",
        "cbar = plt.colorbar()\n",
        "cbar.ax.set_ylabel('log(elec_distance)', rotation=270)\n",
        "\n",
        "#ax2.ax.set_title('log(elec_distance)',rotation=270)\n",
        "plt.box(False)\n",
        "plt.savefig('Elec_distance.svg')"
      ]
    },
    {
      "cell_type": "code",
      "execution_count": null,
      "metadata": {
        "id": "VHqS5Q8s4val"
      },
      "outputs": [],
      "source": [
        "exc_syns.loc[pd.isnull(exc_syns.num_syns),'num_syns'] = 0"
      ]
    },
    {
      "cell_type": "code",
      "execution_count": null,
      "metadata": {
        "id": "m0-V8uXt4val"
      },
      "outputs": [],
      "source": [
        "exc_syns[exc_syns.num_syns==0].shape, exc_syns[exc_syns.num_syns!=0].shape"
      ]
    },
    {
      "cell_type": "code",
      "execution_count": null,
      "metadata": {
        "id": "Wnpx-gOu4val"
      },
      "outputs": [],
      "source": [
        "plt.figure(figsize=(4,10))\n",
        "ax = plt.scatter(exc_syns['Coord X'], exc_syns['Coord Y'],c=exc_syns['num_syns'],s=4,cmap='jet')\n",
        "plt.vlines(110,400,500)\n",
        "plt.text(0,450,'100 um')\n",
        "plt.hlines(400,110,210)\n",
        "plt.text(110,350,'100 um')\n",
        "plt.xticks([])\n",
        "plt.yticks([])\n",
        "cbar = plt.colorbar()\n",
        "cbar.ax.set_ylabel('log(elec_distance)', rotation=270)\n",
        "\n",
        "#ax2.ax.set_title('log(elec_distance)',rotation=270)\n",
        "plt.box(False)\n",
        "plt.savefig('exc_syns.svg')"
      ]
    },
    {
      "cell_type": "markdown",
      "metadata": {
        "id": "tJFXhTRg4val"
      },
      "source": [
        "## Plotting morphology and voltage traces"
      ]
    },
    {
      "cell_type": "code",
      "execution_count": null,
      "metadata": {
        "id": "hU8yAHh04val"
      },
      "outputs": [],
      "source": [
        "plt.figure(figsize=(3,10))\n",
        "ax = plt.plot(segs['Coord X'], segs['Coord Y'],'.',color='k',markersize=6)\n",
        "plt.vlines(110,400,500)\n",
        "plt.text(0,450,'100 um')\n",
        "plt.hlines(400,110,210)\n",
        "plt.text(110,350,'100 um')\n",
        "plt.xticks([])\n",
        "plt.yticks([])\n",
        "plt.box(False)\n",
        "plt.plot(segs.loc[segs.segmentID==1959,'Coord X'], \n",
        "         segs.loc[segs.segmentID==1959,'Coord Y'],\n",
        "         'r*')\n",
        "plt.plot(segs.loc[segs.segmentID==1112,'Coord X'], \n",
        "         segs.loc[segs.segmentID==1112,'Coord Y'],\n",
        "         'b*')\n",
        "plt.plot(segs.loc[segs.segmentID==1046,'Coord X'], \n",
        "         segs.loc[segs.segmentID==1046,'Coord Y'],\n",
        "         'm*')\n",
        "plt.plot(segs.loc[segs.segmentID==1500,'Coord X'], \n",
        "         segs.loc[segs.segmentID==1500,'Coord Y'],\n",
        "         'g*')\n",
        "plt.plot(segs.loc[segs.segmentID==680,'Coord X'], \n",
        "         segs.loc[segs.segmentID==680,'Coord Y'],\n",
        "         '*',color='orange')\n",
        "plt.plot(segs.loc[segs.segmentID==482,'Coord X'], \n",
        "         segs.loc[segs.segmentID==482,'Coord Y'],\n",
        "         '*',color='grey')\n",
        "plt.savefig('fig1A.svg')"
      ]
    },
    {
      "cell_type": "code",
      "execution_count": null,
      "metadata": {
        "id": "XSkRoAbM4val"
      },
      "outputs": [],
      "source": [
        "#v = h5py.File('../../../L5NeuronSimulation_expts/L5_control/L5_control_exc_med/L5NeuronSimulation/FullSimulation/output/v_report.h5','r')\n"
      ]
    },
    {
      "cell_type": "code",
      "execution_count": null,
      "metadata": {
        "id": "Zxm_myLO4val"
      },
      "outputs": [],
      "source": [
        "#t"
      ]
    },
    {
      "cell_type": "code",
      "execution_count": null,
      "metadata": {
        "id": "ZqyITWX94val"
      },
      "outputs": [],
      "source": [
        "t = np.random.choice(segs[(segs['Coord Y']<-50)&\n",
        "     (segs['Coord Y']>-100)&\n",
        "     (segs['Coord X']>-50)&\n",
        "     (segs['Coord X']<50)&\n",
        "     (segs['Type']=='dend')]['segmentID'])\n",
        "\n",
        "print(t)\n",
        "\n",
        "plt.figure(figsize=(10,4))\n",
        "s1 = 3 #323548+1500#np.random.choice(range(v['report']['biophysical']['data'].shape[0]))\n",
        "plt.plot(np.arange(0,400,.1),v['report']['biophysical']['data'][s1:s1+4000,t],color='grey')\n",
        "#1433413, 1161455\n",
        "plt.hlines(-50,70,100)\n",
        "plt.text(70,-55,'30 ms')\n",
        "plt.vlines(70,-50,-40)\n",
        "plt.text(40,-45,'10 mV')\n",
        "plt.box(False)\n",
        "plt.xticks([])\n",
        "plt.yticks([])\n",
        "plt.savefig('fig2G.svg')"
      ]
    },
    {
      "cell_type": "code",
      "execution_count": null,
      "metadata": {
        "id": "PCIg-Z8C4vam"
      },
      "outputs": [],
      "source": [
        "plt.figure(figsize=(10,4))\n",
        "s1 = 3 #323548+1500#np.random.choice(range(v['report']['biophysical']['data'].shape[0]))\n",
        "plt.plot(np.arange(0,400,.1),v['report']['biophysical']['data'][s1:s1+4000,130],color='orange')\n",
        "#1433413, 1161455\n",
        "plt.hlines(-50,70,100)\n",
        "plt.text(70,-55,'30 ms')\n",
        "plt.vlines(70,-50,-40)\n",
        "plt.text(40,-45,'10 mV')\n",
        "plt.box(False)\n",
        "plt.xticks([])\n",
        "plt.yticks([])\n",
        "plt.savefig('fig2F.svg')"
      ]
    },
    {
      "cell_type": "code",
      "execution_count": null,
      "metadata": {
        "id": "LkAUkRjt4vam"
      },
      "outputs": [],
      "source": [
        "plt.figure(figsize=(10,4))\n",
        "s1 = 3 #np.random.choice(range(v['report']['biophysical']['data'].shape[0]))\n",
        "plt.plot(np.arange(0,400,.1),v['report']['biophysical']['data'][s1:s1+4000,0],color='k')\n",
        "#1433413, 1161455\n",
        "plt.hlines(-50,70,100)\n",
        "plt.text(70,-55,'30 ms')\n",
        "plt.vlines(70,-50,-40)\n",
        "plt.text(40,-45,'10 mV')\n",
        "plt.box(False)\n",
        "plt.xticks([])\n",
        "plt.yticks([])\n",
        "plt.savefig('fig2E.svg')"
      ]
    },
    {
      "cell_type": "code",
      "execution_count": null,
      "metadata": {
        "id": "JV0ulcgT4vam"
      },
      "outputs": [],
      "source": [
        "plt.figure(figsize=(10,4))\n",
        "s1 =  3 #323548+1500#np.random.choice(range(v['report']['biophysical']['data'].shape[0]))\n",
        "plt.plot(np.arange(0,400,.1),v['report']['biophysical']['data'][s1:s1+4000, 4],color='g')\n",
        "#1433413, 1161455\n",
        "plt.hlines(-50,70,100)\n",
        "plt.text(70,-55,'30 ms')\n",
        "plt.vlines(70,-50,-40)\n",
        "plt.text(40,-45,'10 mV')\n",
        "plt.box(False)\n",
        "plt.xticks([])\n",
        "plt.yticks([])\n",
        "plt.savefig('fig2C.svg')"
      ]
    },
    {
      "cell_type": "code",
      "execution_count": null,
      "metadata": {
        "id": "11E1a7S34vam"
      },
      "outputs": [],
      "source": [
        "# plt.figure(figsize=(10,4))\n",
        "# #s1 = 323548+1500#np.random.choice(range(v['report']['biophysical']['data'].shape[0]))\n",
        "# plt.plot(np.arange(0,400,.1),v['report']['biophysical']['data'][s1:s1+4000,3],color='m')\n",
        "# #1433413, 1161455\n",
        "# plt.hlines(-50,70,100)\n",
        "# plt.text(70,-55,'30 ms')\n",
        "# plt.vlines(70,-50,-40)\n",
        "# plt.text(40,-45,'10 mV')\n",
        "# plt.box(False)\n",
        "# plt.xticks([])\n",
        "# plt.yticks([])\n",
        "# plt.savefig('fig2D.svg')"
      ]
    },
    {
      "cell_type": "code",
      "execution_count": null,
      "metadata": {
        "id": "nambE_k84vam"
      },
      "outputs": [],
      "source": [
        "plt.figure(figsize=(10,4))\n",
        "s1 = 3 #323548+1500#np.random.choice(range(v['report']['biophysical']['data'].shape[0]))\n",
        "plt.plot(np.arange(0,400,.1),v['report']['biophysical']['data'][s1:s1+4000,70],color='b')\n",
        "#1433413, 1161455\n",
        "plt.hlines(-50,70,100)\n",
        "plt.text(70,-55,'30 ms')\n",
        "plt.vlines(70,-50,-40)\n",
        "plt.text(40,-45,'10 mV')\n",
        "plt.box(False)\n",
        "plt.xticks([])\n",
        "plt.yticks([])\n",
        "plt.savefig('fig2B.svg')"
      ]
    },
    {
      "cell_type": "code",
      "execution_count": null,
      "metadata": {
        "id": "ujT5jG9g4vam"
      },
      "outputs": [],
      "source": [
        "plt.figure(figsize=(10,4))\n",
        "s1 = 3 #323548+1500#np.random.choice(range(v['report']['biophysical']['data'].shape[0]))\n",
        "plt.plot(np.arange(0,400,.1),v['report']['biophysical']['data'][s1:s1+4000, 30],color='r')\n",
        "#1433413, 1161455\n",
        "plt.hlines(-60,170,200)\n",
        "plt.text(170,-65,'30 ms')\n",
        "plt.vlines(170,-60,-50)\n",
        "plt.text(140,-55,'10 mV')\n",
        "plt.box(False)\n",
        "plt.xticks([])\n",
        "plt.yticks([])\n",
        "plt.savefig('fig2A.svg')"
      ]
    },
    {
      "cell_type": "code",
      "execution_count": null,
      "metadata": {
        "id": "dCbbKvX24vam"
      },
      "outputs": [],
      "source": [
        "s1"
      ]
    },
    {
      "cell_type": "code",
      "execution_count": null,
      "metadata": {
        "id": "iuT57ij34vam"
      },
      "outputs": [],
      "source": [
        "plt.figure(figsize=(10,4))\n",
        "#s1 = 559133+1000#np.random.choice(range(v['report']['biophysical']['data'].shape[0]))\n",
        "plt.plot(np.arange(0,400,.1),v['report']['biophysical']['data'][s1:s1+4000,0],color='k')\n",
        "#1433413, 1161455\n",
        "plt.hlines(-10,40,70)\n",
        "plt.text(40,-15,'30 ms')\n",
        "plt.vlines(40,-10,0)\n",
        "plt.text(5,-5,'10 mV')\n",
        "plt.box(False)\n",
        "plt.xticks([])\n",
        "plt.yticks([])"
      ]
    },
    {
      "cell_type": "code",
      "execution_count": null,
      "metadata": {
        "id": "PWAxSjgM4vam"
      },
      "outputs": [],
      "source": [
        "# x = ca_df[~pd.isnull(ca_df.ca_lower_bound)].reset_index()\n",
        "# i = np.random.choice(x.index)"
      ]
    },
    {
      "cell_type": "code",
      "execution_count": null,
      "metadata": {
        "id": "fnauSOmq4vam"
      },
      "outputs": [],
      "source": [
        "seg = 30\n",
        "lower_bound = 1000\n",
        "plt.figure(figsize=(12,10))\n",
        "plt.plot(np.arange(0,100,.1),-(hva['report']['biophysical']['data'][lower_bound-100:lower_bound+900,seg]+\\\n",
        "         lva['report']['biophysical']['data'][lower_bound-100:lower_bound+900,seg]+\\\n",
        "         ih['report']['biophysical']['data'][lower_bound-100:lower_bound+900,seg]),color='b')\n",
        "plt.hlines(np.mean(-(hva['report']['biophysical']['data'][lower_bound-100:lower_bound+900,seg]+\\\n",
        "         lva['report']['biophysical']['data'][lower_bound-100:lower_bound+900,seg]+\\\n",
        "         ih['report']['biophysical']['data'][lower_bound-100:lower_bound+900,seg])),0,100,color='b')\n",
        "plt.xlim(0,200)\n",
        "\n",
        "plt.twinx()\n",
        "plt.plot(np.arange(0,100,.1),v['report']['biophysical']['data'][lower_bound-100:lower_bound+900,seg],color='k')\n",
        "plt.plot(np.arange(0,100,.1),v['report']['biophysical']['data'][lower_bound-100:lower_bound+900,0],color='k',alpha=0.2)\n",
        "plt.xlim(0,200)\n"
      ]
    },
    {
      "cell_type": "code",
      "execution_count": null,
      "metadata": {
        "id": "8mkUlMNO4van"
      },
      "outputs": [],
      "source": [
        "ca_df.reset_index(inplace=True)\n"
      ]
    },
    {
      "cell_type": "code",
      "source": [
        "ca_df"
      ],
      "metadata": {
        "id": "jjypwBwsjbTg"
      },
      "execution_count": null,
      "outputs": []
    },
    {
      "cell_type": "code",
      "source": [
        "ca_df[(ca_df.ca_lower_bound>20) & (ca_df.ca_lower_bound<1400000)]"
      ],
      "metadata": {
        "id": "Uwqd8m7-jaAk"
      },
      "execution_count": null,
      "outputs": []
    },
    {
      "cell_type": "code",
      "execution_count": null,
      "metadata": {
        "id": "dtBzzaBz4van"
      },
      "outputs": [],
      "source": [
        "for i in np.random.choice(ca_df[(ca_df.ca_lower_bound>20) & (ca_df.ca_lower_bound<1400000)].index,100):\n",
        "    seg = ca_df.loc[i,'segmentID']\n",
        "    if not pd.isnull(ca_df.loc[i,'ca_lower_bound']):\n",
        "        spkt = int(ca_df.loc[i,'ca_lower_bound'])\n",
        "        \n",
        "        trace = -(hva['report']['biophysical']['data'][spkt-100:spkt+200,seg] + \\\n",
        "                lva['report']['biophysical']['data'][spkt-100:spkt+200,seg] + \\\n",
        "                ih['report']['biophysical']['data'][spkt-100:spkt+200,seg])\n",
        "        peak_value = np.max(trace)\n",
        "        half_peak = peak_value/2\n",
        "        duration = np.arange(0,300)[trace>half_peak] + spkt - 10\n",
        "        ca_df.loc[i,'duration_low'] = duration[0]\n",
        "        ca_df.loc[i,'duration_high'] = duration[-1]\n",
        "        ca_df.loc[i,'peak_value'] = peak_value\n",
        "    else:\n",
        "        ca_df.loc[i,'duration_low'] = np.nan\n",
        "        ca_df.loc[i,'duration_high'] = np.nan\n",
        "        ca_df.loc[i,'peak_value'] = np.nan"
      ]
    },
    {
      "cell_type": "code",
      "execution_count": null,
      "metadata": {
        "id": "hvooGULD4vao"
      },
      "outputs": [],
      "source": [
        "ca_df[~pd.isnull(ca_df.duration_high)]"
      ]
    },
    {
      "cell_type": "code",
      "execution_count": null,
      "metadata": {
        "id": "I2LTfVlf4vao"
      },
      "outputs": [],
      "source": [
        "seg = 90\n",
        "lower_bound = 150\n",
        "#upper_bound = \n",
        "plt.plot(-(hva['report']['biophysical']['data'][lower_bound-100:lower_bound+600,seg]+\\\n",
        "         lva['report']['biophysical']['data'][lower_bound-100:lower_bound+600,seg]+\\\n",
        "         ih['report']['biophysical']['data'][lower_bound-100:lower_bound+600,seg]))\n",
        "plt.plot(1000,-(hva['report']['biophysical']['data'][lower_bound,seg]+\\\n",
        "         lva['report']['biophysical']['data'][lower_bound,seg]+\\\n",
        "         ih['report']['biophysical']['data'][lower_bound,seg]),'*')\n",
        "\n",
        "plt.plot(1000-lower_bound,-(hva['report']['biophysical']['data'][150,seg]+\\\n",
        "         lva['report']['biophysical']['data'][150,seg]+\\\n",
        "         ih['report']['biophysical']['data'][150,seg]),'*')\n",
        "\n",
        "plt.twinx()\n",
        "plt.plot(v['report']['biophysical']['data'][lower_bound-100:lower_bound+1000,seg],color='k')"
      ]
    },
    {
      "cell_type": "markdown",
      "metadata": {
        "id": "HBev4JNL4vao"
      },
      "source": [
        "----------"
      ]
    },
    {
      "cell_type": "code",
      "execution_count": null,
      "metadata": {
        "id": "R71f8PX94vao"
      },
      "outputs": [],
      "source": [
        "segs_ca_df = segs.set_index('segmentID').join(ca_df.set_index('segmentID')).reset_index() "
      ]
    },
    {
      "cell_type": "code",
      "execution_count": null,
      "metadata": {
        "id": "LyMAEk3i4vao"
      },
      "outputs": [],
      "source": [
        "def get_ca_sta(segs_ca_df, spktimes):\n",
        "\n",
        "    ca_apic = np.zeros((10,39,))\n",
        "    \n",
        "    edges_apic=np.quantile(segs_ca_df[(~pd.isnull(segs_ca_df.ca_lower_bound))&\n",
        "                                       (segs_ca_df.Type=='apic')]['Elec_distance'].unique(),np.arange(0,1.1,0.1))\n",
        "    \n",
        "    \n",
        "    \n",
        "    actual_spktimes = []\n",
        "    c = 0\n",
        "    for i in np.sort(spktimes):\n",
        "        # excludes bursts\n",
        "        if i-c > 10:\n",
        "            for e in np.arange(0,10):\n",
        "                ca_inds = segs_ca_df[(~pd.isnull(segs_ca_df.ca_lower_bound))&\n",
        "                                     (segs_ca_df.Type=='apic')&\n",
        "                                     (segs_ca_df.Elec_distance>edges_apic[e])&\n",
        "                                     (segs_ca_df.Elec_distance<=edges_apic[e+1])]['ca_lower_bound'].values.astype(int)\n",
        "    \n",
        "                x2, _ = np.histogram(ca_inds/10,bins=np.arange(np.floor(i)-20,np.floor(i)+20,1))\n",
        "                ca_apic[e] += x2\n",
        "                \n",
        "                \n",
        "            \n",
        "            actual_spktimes.append(i)\n",
        "        c = i\n",
        "    return ca_apic"
      ]
    },
    {
      "cell_type": "code",
      "execution_count": null,
      "metadata": {
        "id": "kQYQ-85F4vao"
      },
      "outputs": [],
      "source": [
        "ca_apic = get_ca_sta(segs_ca_df, spktimes)"
      ]
    },
    {
      "cell_type": "code",
      "execution_count": null,
      "metadata": {
        "id": "Yl3731-G4vao"
      },
      "outputs": [],
      "source": [
        "rand_spktimes = np.sort(np.random.choice(np.arange(0,150000), spktimes.shape[0]))\n",
        "ca_apic_rand = get_ca_sta(segs_ca_df, rand_spktimes)"
      ]
    },
    {
      "cell_type": "code",
      "execution_count": null,
      "metadata": {
        "id": "n5K1ytuF4vao"
      },
      "outputs": [],
      "source": [
        "plt.figure(figsize=(10,10))\n",
        "plt.subplot(2,1,1)\n",
        "plt.title('Ca spikes - apical')\n",
        "plt.imshow((ca_apic-ca_apic_rand)/len(spktimes),cmap='jet')\n",
        "plt.xticks(ticks=np.arange(0,40,2)-0.5,labels=['{}'.format(i) for i in np.arange(-20,20,2)])\n",
        "plt.colorbar(label='events per AP')\n",
        "plt.yticks(ticks=[0,9],labels=['further','closer'])\n",
        "\n",
        "plt.show()"
      ]
    },
    {
      "cell_type": "markdown",
      "metadata": {
        "id": "Gng6B9sn4vao"
      },
      "source": [
        "----------------------"
      ]
    },
    {
      "cell_type": "code",
      "execution_count": null,
      "metadata": {
        "id": "BMeGyYxP4vao"
      },
      "outputs": [],
      "source": [
        "#apic_exc = segs_conns[(segs_conns['Source Population']=='exc_stim')&(segs_conns.Type=='apic')].groupby('segmentID')['Conductance'].sum().reset_index()\n",
        "\n",
        "#basal_exc = segs_conns[(segs_conns['Source Population']=='exc_stim')&(segs_conns.Type=='dend')].groupby('segmentID')['Conductance'].sum().reset_index()\n"
      ]
    },
    {
      "cell_type": "code",
      "execution_count": null,
      "metadata": {
        "id": "MfzXuS744vao"
      },
      "outputs": [],
      "source": [
        "nmda_df = pd.DataFrame(columns=['segmentID','nmda_lower_bound', 'nmda_upper_bound', 'mag'])\n",
        "for p in segs[(segs.Type=='dend')|(segs.Type=='apic')].index: #(segs.Type=='dend')|(segs.Type=='apic')\n",
        "    #print(p)\n",
        "    legit_uc = voltage_criterion(data=v['report']['biophysical']['data'][:,p],v_thresh=-40, time_thresh=260)[1]\n",
        "    legit_dc = voltage_criterion(data=v['report']['biophysical']['data'][:,p],v_thresh=-40, time_thresh=260)[-1]\n",
        "    \n",
        "    legit_uc_iso = legit_uc\n",
        "    \n",
        "    legit_dc_iso = legit_dc\n",
        "\n",
        "    #print(legit_uc)\n",
        "    #print(legit_dc)\n",
        "    \n",
        "    if (len(legit_uc_iso)!=0) & (np.min(nmda['report']['biophysical']['data'][:,p])!=0):\n",
        "        print('if')\n",
        "        bnds, sum_curr = current_criterion(legit_uc_iso=legit_uc_iso, \n",
        "                                           legit_dc_iso=legit_dc_iso, \n",
        "                                           p=p, \n",
        "                                           control_inmda=nmda['report']['biophysical']['data'])\n",
        "\n",
        "\n",
        "        nmda_df = nmda_df.append(pd.DataFrame({'segmentID':np.tile(p,len(bnds)),\n",
        "                                               'nmda_lower_bound':np.array(bnds).reshape(-1,2)[:,0],\n",
        "                                               'nmda_upper_bound':np.array(bnds).reshape(-1,2)[:,1],\n",
        "                                               'mag':sum_curr}))\n",
        "        #print(nmda_df.mag)\n",
        "    \n",
        "    else:\n",
        "        #print('else')\n",
        "        nmda_df = nmda_df.append(pd.DataFrame({'segmentID':np.tile(p,1),\n",
        "                                               'nmda_lower_bound':np.nan,\n",
        "                                               'nmda_upper_bound':np.nan,\n",
        "                                               'mag':np.nan}))\n",
        "\n",
        "\n",
        "#display(nmda_df.mag.to_string())\n",
        "\n",
        "\n",
        "#min(nmda_df.mag)"
      ]
    },
    {
      "cell_type": "code",
      "execution_count": null,
      "metadata": {
        "id": "aJjsh-nm4vao"
      },
      "outputs": [],
      "source": [
        "#nmda_df.to_csv('nmda_df.csv')\n",
        "#nmda_df = pd.read_csv('nmda_df.csv')\n"
      ]
    },
    {
      "cell_type": "code",
      "source": [
        "#mda_df.mag <= -0.000000001"
      ],
      "metadata": {
        "id": "uIBW0Pcvm_9_"
      },
      "execution_count": null,
      "outputs": []
    },
    {
      "cell_type": "code",
      "source": [
        "#segs_nmda_df[:]"
      ],
      "metadata": {
        "id": "K6VLU3bijMpa"
      },
      "execution_count": null,
      "outputs": []
    },
    {
      "cell_type": "code",
      "execution_count": null,
      "metadata": {
        "id": "OmMMqHsd4vao"
      },
      "outputs": [],
      "source": [
        "#nmda_df.rename(columns={'seg_id':'segmentID'},inplace=True)"
      ]
    },
    {
      "cell_type": "code",
      "execution_count": null,
      "metadata": {
        "id": "uV6HLncB4vao"
      },
      "outputs": [],
      "source": [
        "segs_nmda_df = segs.join(nmda_df.set_index('segmentID')).reset_index()"
      ]
    },
    {
      "cell_type": "code",
      "source": [
        "segs_nmda_df[(segs_nmda_df.mag<-0.0001)&\n",
        "                                  (segs_nmda_df.Type=='dend')]"
      ],
      "metadata": {
        "id": "BelzXR-DaPcv"
      },
      "execution_count": null,
      "outputs": []
    },
    {
      "cell_type": "code",
      "source": [
        "#min(segs_nmda_df.mag)"
      ],
      "metadata": {
        "id": "KqVpKnXVhEvv"
      },
      "execution_count": null,
      "outputs": []
    },
    {
      "cell_type": "code",
      "source": [
        "#segs_nmda_df[(segs_nmda_df.mag<-0.0001)]"
      ],
      "metadata": {
        "id": "daMclJ5hn1Sd"
      },
      "execution_count": null,
      "outputs": []
    },
    {
      "cell_type": "code",
      "execution_count": null,
      "metadata": {
        "id": "UERHIibr4vao"
      },
      "outputs": [],
      "source": [
        "def get_nmda_sta(segs_nmda_df, spktimes):    \n",
        "    nmda_dend = np.zeros((10,27,))\n",
        "    nmda_apic = np.zeros((10,27,))\n",
        "    \n",
        "    edges_dend=np.quantile(segs_nmda_df[(segs_nmda_df.mag<-0.0001)&\n",
        "                                  (segs_nmda_df.Type=='dend')]['Elec_distance'].unique(),np.arange(0,1.1,0.1))\n",
        "    edges_apic=np.quantile(segs_nmda_df[(segs_nmda_df.mag<-0.00001)&\n",
        "                                   (segs_nmda_df.Type=='apic')]['Elec_distance'].unique(),np.arange(0,1.1,0.1))\n",
        "    \n",
        "    actual_spktimes = []\n",
        "    c = 0\n",
        "    for i in np.sort(spktimes):\n",
        "        # excludes bursts\n",
        "        if i-c > 10:\n",
        "            for e in np.arange(0,10):\n",
        "                nmda_inds = segs_nmda_df[(segs_nmda_df.mag<-0.0001)&\n",
        "                                     (segs_nmda_df.Type=='dend')&\n",
        "                                     (segs_nmda_df.Elec_distance>edges_dend[e])&\n",
        "                                     (segs_nmda_df.Elec_distance<=edges_dend[e+1])]['nmda_lower_bound'].values.astype(int)\n",
        "    \n",
        "                x2, _ = np.histogram(nmda_inds/10,bins=np.arange(np.floor(i)-100,np.floor(i)+40,5))\n",
        "                nmda_dend[e] += x2\n",
        "                \n",
        "                nmda_inds = segs_nmda_df[(segs_nmda_df.mag<-0.0001)&\n",
        "                                     (segs_nmda_df.Type=='apic')&\n",
        "                                     (segs_nmda_df.Elec_distance>edges_apic[e])&\n",
        "                                     (segs_nmda_df.Elec_distance<=edges_apic[e+1])]['nmda_lower_bound'].values.astype(int)\n",
        "    \n",
        "                x2, _ = np.histogram(nmda_inds/10,bins=np.arange(np.floor(i)-100,np.floor(i)+40,5))\n",
        "                nmda_apic[e] += x2\n",
        "            \n",
        "            actual_spktimes.append(i)\n",
        "        c = i\n",
        "        \n",
        "    return nmda_dend, nmda_apic"
      ]
    },
    {
      "cell_type": "code",
      "execution_count": null,
      "metadata": {
        "id": "tW8SvGK54vap"
      },
      "outputs": [],
      "source": [
        "nmda_dend, nmda_apic = get_nmda_sta(segs_nmda_df, spktimes)"
      ]
    },
    {
      "cell_type": "code",
      "execution_count": null,
      "metadata": {
        "id": "rwHm5TI-4vap"
      },
      "outputs": [],
      "source": [
        "rand_spktimes = np.sort(np.random.choice(np.arange(0,150000), spktimes.shape[0]))"
      ]
    },
    {
      "cell_type": "code",
      "execution_count": null,
      "metadata": {
        "id": "fWaFLebh4vap"
      },
      "outputs": [],
      "source": [
        "nmda_dend_rand, nmda_apic_rand = get_nmda_sta(segs_nmda_df, rand_spktimes)"
      ]
    },
    {
      "cell_type": "code",
      "execution_count": null,
      "metadata": {
        "id": "Xn3bcESa4vap"
      },
      "outputs": [],
      "source": [
        "plt.figure(figsize=(10,10))\n",
        "plt.subplot(2,1,1)\n",
        "plt.title('NMDA spikes - apical')\n",
        "plt.imshow((nmda_apic-nmda_apic_rand)/len(spktimes),cmap='jet',vmin=-0.2,vmax=0.2)\n",
        "plt.xticks(ticks=np.arange(0,26,4)-0.5,labels=['{}'.format(i) for i in np.arange(-100,40,20)])\n",
        "plt.yticks(ticks=[0,9],labels=['further','closer'])\n",
        "plt.colorbar(label='additional events per AP')\n",
        "plt.xlabel('time (ms)')\n",
        "plt.xlim(5,26)\n",
        "\n",
        "plt.subplot(2,1,2)\n",
        "plt.title('NMDA spikes - basal')\n",
        "plt.imshow((nmda_dend-nmda_dend_rand)/len(spktimes),cmap='jet', vmin=-0.2, vmax=0.2)\n",
        "plt.xticks(ticks=np.arange(0,26,4)-0.5,labels=['{}'.format(i) for i in np.arange(-100,40,20)])\n",
        "plt.yticks(ticks=[0,9],labels=['further','closer'])\n",
        "plt.colorbar(label='additional events per AP')\n",
        "plt.xlim(5,26)\n",
        "\n",
        "plt.xlabel('time (ms)')\n",
        "plt.show()"
      ]
    },
    {
      "cell_type": "code",
      "source": [
        "sum(segs_nmda_df['segmentID'][segs_nmda_df.Type=='dend'])"
      ],
      "metadata": {
        "id": "tRJwv3z0ZJuF"
      },
      "execution_count": null,
      "outputs": []
    },
    {
      "cell_type": "code",
      "source": [
        "total_basal_nmda = sum(segs_nmda_df['segmentID'][segs_nmda_df.Type=='dend'][~pd.isnull(segs_nmda_df.mag)])\n",
        "num_basal_seg = len(segs[segs.Type=='dend'])\n",
        "\n",
        "total_apic_nmda = sum(segs_nmda_df['segmentID'][segs_nmda_df.Type=='apic'][~pd.isnull(segs_nmda_df.mag)])\n",
        "num_apic_seg = len(segs[segs.Type=='apic'])\n",
        "\n",
        "apic_nmda_perSeg_perSec = total_apic_nmda / num_apic_seg\n",
        "basal_ndma_perSeg_perSec = total_basal_nmda / num_basal_seg\n",
        "\n",
        "data = {'basal':basal_ndma_perSeg_perSec, 'apic':apic_nmda_perSeg_perSec}\n",
        "group = list(data.keys())\n",
        "value = list(data.values())\n",
        "\n",
        "fig = plt.figure(figsize = (10, 5))\n",
        "plt.title('NMDA spikes per segment per second')\n",
        "\n",
        "\n",
        "# creating the bar plot\n",
        "plt.barh(group, value, color ='lightseagreen')"
      ],
      "metadata": {
        "id": "p8xAAj5CXXXj"
      },
      "execution_count": null,
      "outputs": []
    },
    {
      "cell_type": "code",
      "source": [
        "total_basal_na = sum(segs_na_df['segmentID'][segs_na_df.Type=='dend'][~pd.isnull(segs_na_df.duration_high)])\n",
        "num_basal_seg = len(segs[segs.Type=='dend'])\n",
        "\n",
        "total_apic_na = sum(segs_na_df['segmentID'][segs_na_df.Type=='apic'][~pd.isnull(segs_na_df.duration_high)])\n",
        "num_apic_seg = len(segs[segs.Type=='apic'])\n",
        "\n",
        "apic_na_perSeg_perSec = total_apic_na / num_apic_seg\n",
        "basal_na_perSeg_perSec = total_basal_na / num_basal_seg\n",
        "\n",
        "data = {'basal':basal_na_perSeg_perSec, 'apic':apic_na_perSeg_perSec}\n",
        "group = list(data.keys())\n",
        "value = list(data.values())\n",
        "\n",
        "fig = plt.figure(figsize = (10, 5))\n",
        "plt.title('Na spikes per segment per second')\n",
        "\n",
        "\n",
        "# creating the bar plot\n",
        "plt.barh(group, value, color ='powderblue')"
      ],
      "metadata": {
        "id": "k9-SY0ioXYnh"
      },
      "execution_count": null,
      "outputs": []
    },
    {
      "cell_type": "code",
      "source": [
        "total_basal_ca = sum(segs_ca_df['index'][segs_ca_df.Type=='dend'][~pd.isnull(segs_ca_df.duration_high)])\n",
        "num_basal_seg = len(segs[segs.Type=='dend'])\n",
        "\n",
        "print(total_basal_ca)\n",
        "\n",
        "total_apic_ca = sum(segs_ca_df['index'][segs_ca_df.Type=='apic'][~pd.isnull(segs_ca_df.duration_high)])\n",
        "num_apic_seg = len(segs[segs.Type=='apic'])\n",
        "\n",
        "apic_ca_perSeg_perSec = total_apic_ca / num_apic_seg\n",
        "basal_ca_perSeg_perSec = total_basal_ca / num_basal_seg\n",
        "\n",
        "\n",
        "data = {'basal':basal_ca_perSeg_perSec, 'apic':apic_ca_perSeg_perSec}\n",
        "group = list(data.keys())\n",
        "value = list(data.values())\n",
        "\n",
        "fig = plt.figure(figsize = (10, 5))\n",
        "\n",
        "plt.title('Calcium spikes per segment per second')\n",
        "\n",
        " \n",
        "# creating the bar plot\n",
        "plt.barh(group, value, color ='tomato')"
      ],
      "metadata": {
        "id": "lGeNOKN4aPrg"
      },
      "execution_count": null,
      "outputs": []
    },
    {
      "cell_type": "code",
      "execution_count": null,
      "metadata": {
        "id": "Y6ecjQg64vap"
      },
      "outputs": [],
      "source": [
        "for i in np.arange(0,10):\n",
        "    plt.plot(np.arange(-40,95,5),nmda_dend[i]/np.sum(nmda_dend[i]))\n"
      ]
    },
    {
      "cell_type": "code",
      "execution_count": null,
      "metadata": {
        "id": "nvS-77j54vap"
      },
      "outputs": [],
      "source": [
        "# segs_conns[(segs_conns['Sec ID']==80) & (segs_conns.Type=='dend')]['Source Population'].value_counts()"
      ]
    },
    {
      "cell_type": "markdown",
      "source": [],
      "metadata": {
        "id": "ZDksdcux4geV"
      }
    },
    {
      "cell_type": "code",
      "execution_count": null,
      "metadata": {
        "id": "Wx2PiJh94vap"
      },
      "outputs": [],
      "source": [
        "plt.figure(figsize=(10,10))\n",
        "ind = 55\n",
        "plt.plot(segs['Coord X'], segs['Coord Y'], 'b.')\n",
        "plt.plot(segs.loc[0,'Coord X'], segs.loc[0,'Coord Y'], 'k.',markersize=20)\n",
        "\n",
        "plt.plot(segs.loc[ind,'Coord X'], segs.loc[ind,'Coord Y'], 'r*',markersize=20)\n",
        "\n",
        "# for i in segs_conns[(segs_conns.Type=='dend')&(segs_conns['Sec ID']==2)]['Sec ID'].unique():\n",
        "#     plt.plot(segs[(segs['Sec ID']==i)&(segs['Type']=='dend')]['Coord X'],\n",
        "#              segs[(segs['Sec ID']==i)&(segs['Type']=='dend')]['Coord Y'],color='r')\n",
        "    \n",
        "#for i in segs_conns[(segs_conns.Type=='dend')&(segs_conns['Sec ID']==7)]['Sec ID'].unique():\n",
        "#    plt.plot(segs[(segs['Sec ID']==i)&(segs['Type']=='dend')]['Coord X'],\n",
        "#             segs[(segs['Sec ID']==i)&(segs['Type']=='dend')]['Coord Y'],color='c')\n",
        "    \n",
        "#plt.plot(segs[segs.segmentID==119]['Coord X'], segs[segs.segmentID==119]['Coord Y'],'r*',markersize=14)\n",
        "#plt.plot(segs[segs.segmentID==110]['Coord X'], segs[segs.segmentID==110]['Coord Y'],'r*',markersize=14)\n",
        "#plt.plot(segs[segs.segmentID==103]['Coord X'], segs[segs.segmentID==103]['Coord Y'],'r*',markersize=14)\n",
        "\n",
        "#plt.plot(segs[segs.segmentID==134]['Coord X'], segs[segs.segmentID==134]['Coord Y'],'c*',markersize=14)\n",
        "plt.ylim(-25,50)\n",
        "plt.xlim(-150,150)"
      ]
    },
    {
      "cell_type": "code",
      "execution_count": null,
      "metadata": {
        "id": "iskhzr3R4vap"
      },
      "outputs": [],
      "source": [
        "# plt.figure(figsize=(10,10))\n",
        "# plt.plot(f['report']['biophysical']['data'][:,119],color='b')\n",
        "# plt.plot(f['report']['biophysical']['data'][:,110],color='b',alpha=0.5)\n",
        "# plt.plot(f['report']['biophysical']['data'][:,104],color='b',alpha=0.1)\n",
        "\n",
        "# plt.plot(f['report']['biophysical']['data'][:,134],color='c',alpha=1)\n",
        "# plt.plot(f['report']['biophysical']['data'][:,0],'k')\n",
        "# plt.twinx()\n",
        "# plt.plot(h['report']['biophysical']['data'][:,119],color='r')\n",
        "# plt.plot(h['report']['biophysical']['data'][:,110],color='r',alpha=0.5)\n",
        "# plt.plot(h['report']['biophysical']['data'][:,103],color='r',alpha=0.1)\n",
        "\n",
        "# plt.xlim(526519-100,526519+1000)"
      ]
    },
    {
      "cell_type": "code",
      "execution_count": null,
      "metadata": {
        "id": "oqRg0dNv4vap"
      },
      "outputs": [],
      "source": []
    },
    {
      "cell_type": "code",
      "execution_count": null,
      "metadata": {
        "id": "xsQ5PRlP4vap"
      },
      "outputs": [],
      "source": [
        "nmda2 = np.zeros((79,))\n",
        "\n",
        "for i in spktimes:\n",
        "    nmda_inds2 = np.sort(segs_nmda_df[(segs_nmda_df.Degrees<=3)&\n",
        "             (~pd.isnull(segs_nmda_df.nmda_lower_bound))&\n",
        "             (segs_nmda_df.mag<-0.1)&\n",
        "                (segs_nmda_df.Type=='dend')]['nmda_lower_bound'].values.astype(int))\n",
        "\n",
        "    x2, _ = np.histogram(nmda_inds2/10,bins=np.arange(i-40,i+40,1))\n",
        "    nmda2 += x2\n",
        "    \n",
        "    #na_inds3 = segs_na_df[(segs_na_df.Degrees==3)&(~pd.isnull(segs_na_df.na_lower_bound))]['na_lower_bound'].values.astype(int)\n",
        "    #x3, _ = np.histogram(na_inds3/10,bins=np.arange(i-20,i+20,1))\n",
        "    #na3 += x3\n",
        "    \n",
        "    #na_inds4 = segs_na_df[(segs_na_df.Degrees==4)&(~pd.isnull(segs_na_df.na_lower_bound))]['na_lower_bound'].values.astype(int)\n",
        "    #x4, _ = np.histogram(na_inds4/10,bins=np.arange(i-20,i+20,1))\n",
        "    #na4 += x4\n",
        "    \n",
        "    #na_inds5 = segs_na_df[(segs_na_df.Degrees==5)&(~pd.isnull(segs_na_df.na_lower_bound))]['na_lower_bound'].values.astype(int)\n",
        "    #x5, _ = np.histogram(na_inds5/10,bins=np.arange(i-20,i+20,1))\n",
        "    #na5 += x5\n",
        "    "
      ]
    },
    {
      "cell_type": "code",
      "execution_count": null,
      "metadata": {
        "id": "vUUqHx824vap"
      },
      "outputs": [],
      "source": [
        "plt.plot(nmda2)"
      ]
    },
    {
      "cell_type": "code",
      "execution_count": null,
      "metadata": {
        "id": "_3P97ixw4vap"
      },
      "outputs": [],
      "source": []
    },
    {
      "cell_type": "code",
      "execution_count": null,
      "metadata": {
        "id": "LtCXJTG94vap"
      },
      "outputs": [],
      "source": []
    },
    {
      "cell_type": "code",
      "execution_count": null,
      "metadata": {
        "id": "2H2GkHjg4vap"
      },
      "outputs": [],
      "source": []
    },
    {
      "cell_type": "code",
      "execution_count": null,
      "metadata": {
        "id": "plFcK6PZ4vap"
      },
      "outputs": [],
      "source": [
        "# import matplotlib\n",
        "# font = {'family' : 'normal',\n",
        "#         'weight' : 'normal',\n",
        "#         'size'   : 16}\n",
        "\n",
        "# matplotlib.rc('font', **font)\n",
        "\n",
        "# ind = 1139\n",
        "# plt.figure(figsize=(12,10))\n",
        "# plt.plot(np.arange(0,60000,.1),f['report']['biophysical']['data'][:,ind],color='b',label='dend voltage')\n",
        "# plt.plot(np.arange(0,60000,.1),f['report']['biophysical']['data'][:,0],color='k',alpha=0.3,label='soma voltage')\n",
        "# plt.legend(loc='lower left')\n",
        "# plt.hlines(-40,0,60000,linestyle='dashed')\n",
        "# plt.ylabel('voltage (mV)')\n",
        "# plt.ylim(-85,25)\n",
        "# plt.xlabel('time (ms)')\n",
        "# plt.twinx()\n",
        "# plt.plot(np.arange(0,60000,.1),h['report']['biophysical']['data'][:,ind],color='r',label='inmda dend')\n",
        "# plt.legend(loc='upper right')\n",
        "# plt.plot(np.arange(0,60000,.1)[nmda_df[nmda_df.seg_id==ind]['nmda_lower_bound'].values.astype(int)],\n",
        "#          h['report']['biophysical']['data'][nmda_df[nmda_df.seg_id==ind]['nmda_lower_bound'].values.astype(int),ind],'m*',markersize=20)\n",
        "# plt.plot(np.arange(0,60000,.1)[nmda_df[nmda_df.seg_id==ind]['nmda_upper_bound'].values.astype(int)],\n",
        "#          h['report']['biophysical']['data'][nmda_df[nmda_df.seg_id==ind]['nmda_upper_bound'].values.astype(int),ind],'k*',markersize=20)\n",
        "# plt.ylim(-0.009,0.001)\n",
        "# plt.xlim(37000,39000)\n",
        "# plt.ylabel('current (nA)')\n"
      ]
    },
    {
      "cell_type": "code",
      "execution_count": null,
      "metadata": {
        "id": "QYx2H4314vap"
      },
      "outputs": [],
      "source": [
        "# import matplotlib\n",
        "# font = {'family' : 'normal',\n",
        "#         'weight' : 'normal',\n",
        "#         'size'   : 16}\n",
        "\n",
        "# matplotlib.rc('font', **font)\n",
        "\n",
        "# plt.figure(figsize=(12,10))\n",
        "# plt.plot(np.arange(0,60000,.1),f['report']['biophysical']['data'][:,175],color='b',label='dend voltage')\n",
        "# plt.plot(np.arange(0,60000,.1),f['report']['biophysical']['data'][:,0],color='k',alpha=0.3,label='soma voltage')\n",
        "# plt.legend(loc='lower left')\n",
        "# plt.hlines(-40,0,60000,linestyle='dashed')\n",
        "# plt.ylabel('voltage (mV)')\n",
        "# plt.ylim(-85,25)\n",
        "# plt.xlabel('time (ms)')\n",
        "# plt.twinx()\n",
        "# plt.plot(np.arange(0,60000,.1),h['report']['biophysical']['data'][:,175],color='r',label='inmda dend')\n",
        "# plt.legend(loc='upper right')\n",
        "# plt.plot(np.arange(0,60000,.1)[nmda_df[nmda_df.seg_id==175]['nmda_lower_bound'].values.astype(int)],\n",
        "#          h['report']['biophysical']['data'][nmda_df[nmda_df.seg_id==175]['nmda_lower_bound'].values.astype(int),175],'m*',markersize=20)\n",
        "# plt.plot(np.arange(0,60000,.1)[nmda_df[nmda_df.seg_id==175]['nmda_upper_bound'].values.astype(int)],\n",
        "#          h['report']['biophysical']['data'][nmda_df[nmda_df.seg_id==175]['nmda_upper_bound'].values.astype(int),175],'k*',markersize=20)\n",
        "# plt.xlim(32000,32400)\n",
        "# plt.ylim(-0.009,0.001)\n",
        "# plt.ylabel('current (nA)')\n"
      ]
    },
    {
      "cell_type": "code",
      "execution_count": null,
      "metadata": {
        "id": "zvXGNGGT4vaq"
      },
      "outputs": [],
      "source": [
        "nmda_spktimes = nmda_df[nmda_df.mag<-0.1]['nmda_lower_bound']/10\n",
        "n = np.zeros((12,))\n",
        "for i in spktimes:\n",
        "    x,y = np.histogram(nmda_spktimes[(nmda_spktimes>i-30) & (nmda_spktimes<i+30)]-i,bins=np.arange(-30,31,5))\n",
        "    n+=x"
      ]
    },
    {
      "cell_type": "code",
      "execution_count": null,
      "metadata": {
        "id": "gikT0cOM4vaq"
      },
      "outputs": [],
      "source": [
        "np.arange(-30,31,5).shape"
      ]
    },
    {
      "cell_type": "code",
      "execution_count": null,
      "metadata": {
        "id": "61dFsyAl4vaq"
      },
      "outputs": [],
      "source": [
        "plt.plot(np.arange(-30,30,5),n)"
      ]
    },
    {
      "cell_type": "code",
      "execution_count": null,
      "metadata": {
        "id": "hihbEY_D4vaq"
      },
      "outputs": [],
      "source": [
        "na_spktimes = na_df[~pd.isnull(na_df.na_lower_bound)]['na_lower_bound']/10\n",
        "na = np.zeros((20,))\n",
        "for i in spktimes:\n",
        "    x,y = np.histogram(na_spktimes[(na_spktimes>i-10) & (na_spktimes<i+10)]-i,bins=np.arange(-10,11,1))\n",
        "    na+=x"
      ]
    },
    {
      "cell_type": "code",
      "execution_count": null,
      "metadata": {
        "id": "O6lnaEw54vaq"
      },
      "outputs": [],
      "source": [
        "# plt.plot(na_df[~pd.isnull(na_df.na_lower_bound)]['na_lower_bound']/10,\n",
        "#          na_df[~pd.isnull(na_df.na_lower_bound)]['seg_id'],'*')"
      ]
    },
    {
      "cell_type": "code",
      "execution_count": null,
      "metadata": {
        "id": "mCYyq4QZ4vaq"
      },
      "outputs": [],
      "source": []
    },
    {
      "cell_type": "code",
      "execution_count": null,
      "metadata": {
        "id": "wosrKFbn4vaq"
      },
      "outputs": [],
      "source": []
    },
    {
      "cell_type": "code",
      "execution_count": null,
      "metadata": {
        "id": "AX2hpqhx4vaq"
      },
      "outputs": [],
      "source": [
        "plt.plot(nmda_spktimes,np.random.randint(low=0,high=100,size=len(nmda_spktimes)),'.')\n",
        "plt.plot(spktimes,np.tile(40,len(spktimes)),'r*')"
      ]
    },
    {
      "cell_type": "code",
      "execution_count": null,
      "metadata": {
        "id": "BInnvuzU4vaq"
      },
      "outputs": [],
      "source": [
        "x1,_=np.histogram(spktimes,bins=np.arange(0,10000,100))\n",
        "x2,_=np.histogram(nmda_spktimes,bins=np.arange(0,10000,100))"
      ]
    },
    {
      "cell_type": "code",
      "execution_count": null,
      "metadata": {
        "id": "cLJIEXrs4vaq"
      },
      "outputs": [],
      "source": [
        "# plt.figure(figsize=(10,8))\n",
        "# plt.plot(np.arange(0,10000,.1),control_v[:,176],color='b')\n",
        "# plt.plot(np.arange(0,10000,.1)[nmda_df.loc[nmda_df.seg_id==175,'nmda_lower_bound'].values.astype(int)],control_v[nmda_df.loc[nmda_df.seg_id==175,'nmda_lower_bound'].values.astype(int),176],'m*')\n",
        "# plt.plot(np.arange(0,10000,.1),control_v[:,0],color='k')\n",
        "# plt.xlim(6000,7000)"
      ]
    },
    {
      "cell_type": "code",
      "execution_count": null,
      "metadata": {
        "id": "sSAq2Kj64vaq"
      },
      "outputs": [],
      "source": []
    },
    {
      "cell_type": "code",
      "execution_count": null,
      "metadata": {
        "id": "RQXnGrXg4vaq"
      },
      "outputs": [],
      "source": []
    },
    {
      "cell_type": "code",
      "execution_count": null,
      "metadata": {
        "id": "EZB7_ygG4vaq"
      },
      "outputs": [],
      "source": []
    },
    {
      "cell_type": "code",
      "execution_count": null,
      "metadata": {
        "id": "yJUmMwPj4vaq"
      },
      "outputs": [],
      "source": []
    },
    {
      "cell_type": "code",
      "execution_count": null,
      "metadata": {
        "id": "PCmw_39l4vaq"
      },
      "outputs": [],
      "source": [
        "# # ind1 = 3 sent to Drew\n",
        "# ind1 = 2\n",
        "# e1 = control_inmda[legit_uc_iso[ind1], p]\n",
        "# e2 = control_inmda[legit_dc_iso[ind1], p]\n",
        "# x30 = np.argwhere(np.diff(control_inmda[legit_uc_iso[ind1]:legit_dc_iso[ind1], p] < 1.3*e1, prepend=False))\n",
        "# x15 = np.argwhere(np.diff(control_inmda[legit_uc_iso[ind1]:legit_dc_iso[ind1], p] < 1.15*e1, prepend=False))"
      ]
    },
    {
      "cell_type": "code",
      "execution_count": null,
      "metadata": {
        "id": "GMx0qX0y4vaq"
      },
      "outputs": [],
      "source": [
        "# import matplotlib\n",
        "# font = {'family' : 'normal',\n",
        "#         'weight' : 'normal',\n",
        "#         'size'   : 16}\n",
        "\n",
        "# matplotlib.rc('font', **font)\n",
        "\n",
        "# plt.figure(figsize=(12,10))\n",
        "# plt.plot(np.arange(0,(legit_dc_iso[ind1]-legit_uc_iso[ind1])/10, 0.1),\n",
        "#          control_inmda[legit_uc_iso[ind1]:legit_dc_iso[ind1], p],color='r',label='inmda @ dend.')\n",
        "# plt.hlines(1.3*e1,0,np.max(np.arange(0,(legit_dc_iso[ind1]-legit_uc_iso[ind1])/10, 0.1)),color='r',alpha=0.2)\n",
        "# plt.hlines(1.15*e1,0,np.max(np.arange(0,(legit_dc_iso[ind1]-legit_uc_iso[ind1])/10, 0.1)),color='r',alpha=0.2)\n",
        "# plt.ylabel('current (nA)')\n",
        "# plt.ylim(-0.010,0)\n",
        "# plt.legend(loc='upper center')\n",
        "# plt.xlabel('time (ms)')\n",
        "# plt.twinx()\n",
        "# plt.plot(np.arange(0,(legit_dc_iso[ind1]-legit_uc_iso[ind1])/10, 0.1),\n",
        "#          control_v[legit_uc_iso[ind1]:legit_dc_iso[ind1],p],color='b',label='dend. volt.')\n",
        "# plt.plot(np.arange(0,(legit_dc_iso[ind1]-legit_uc_iso[ind1])/10, 0.1),\n",
        "#          control_v[legit_uc_iso[ind1]:legit_dc_iso[ind1],0], color='k',label='soma volt.')\n",
        "\n",
        "\n",
        "# for i in np.arange(0,len(bounds)):\n",
        "#     plt.fill_between(np.array([bounds[i][0]/10,bounds[i][1]/10]).reshape(2,),-70,20,color='k',alpha=0.2)\n",
        "#     plt.text(bounds[i][0]/10,-20-(i*10),'{x:.2f}'.format(x=sum_current[i]))\n",
        "##plt.fill_between(np.array([bounds[1][0]/10,bounds[1][1]/10]).reshape(2,),-70,20,color='k',alpha=0.2)\n",
        "##plt.fill_between(np.array([bounds[2][0]/10,bounds[2][1]/10]).reshape(2,),-70,20,color='k',alpha=0.2)\n",
        "#plt.hlines(-40,0,np.max(np.arange(0,(legit_uc_iso[ind1+1]-legit_uc_iso[ind1])/10, 0.1)),linestyle='dashed')\n",
        "##plt.text(1.5,14,'NMDA\\nspike')\n",
        "#plt.ylabel('voltage (mV)')\n",
        "#plt.legend()"
      ]
    },
    {
      "cell_type": "code",
      "execution_count": null,
      "metadata": {
        "id": "Jy1JT1Nq4vaq"
      },
      "outputs": [],
      "source": [
        "# plt.figure(figsize=(12,10))\n",
        "# plt.plot(np.arange(0,10000,.1),control_v[:,p],label='control dend. v')\n",
        "# plt.plot(np.arange(0,10000,.1),NMDAblock_v[:,p],label='NMDA block dend. v')\n",
        "# plt.plot(np.arange(0,10000,.1),control_v[:,0],color='k',label='control soma v')\n",
        "\n",
        "# uc = voltage_criterion(control_v[:,p],-40)[0]\n",
        "\n",
        "\n",
        "# plt.plot(np.arange(0,10000,.1)[uc],control_v[uc,p],'*')\n",
        "# plt.plot(np.arange(0,10000,.1)[legit_uc],control_v[legit_uc,p],'m*')\n",
        "\n",
        "\n",
        "# center = np.floor(legit_uc[np.random.choice(np.arange(0,legit_uc.shape[0]))]/10)\n",
        "\n",
        "# plt.plot([center,center+26],[-80,-80],color='k')\n",
        "# plt.legend(loc='lower left')\n",
        "\n",
        "# plt.twinx()\n",
        "# plt.plot(np.arange(0,10000,.1),control_inmda[:,p],color='r',label='NMDA current')\n",
        "# plt.plot(np.arange(0,10000,.1)[legit_uc],control_inmda[legit_uc, p],'*')\n",
        "# #plt.plot(np.arange(0,10000,.1),control_gna[:,p],color='r',alpha=0.2, label='gNa')\n",
        "# plt.xlim(center-100,center+100)\n",
        "\n",
        "# plt.legend(loc='lower right')\n",
        "# plt.title('{}'.format(legit_uc))"
      ]
    },
    {
      "cell_type": "code",
      "execution_count": null,
      "metadata": {
        "id": "nMgTL3Kh4vaq"
      },
      "outputs": [],
      "source": [
        "# p = np.random.choice(segs[segs.Type=='apic'].index)\n",
        "# for i in spktimes:\n",
        "#     plt.plot(np.arange(0,20,.1), control_v[int(i*10)-100:int(i*10)+100,p])\n",
        "# plt.vlines(10,-65,0,color='k')\n",
        "# plt.ylim(-65,0)"
      ]
    },
    {
      "cell_type": "code",
      "execution_count": null,
      "metadata": {
        "id": "UkNA5PUa4vaq"
      },
      "outputs": [],
      "source": [
        "# p = 829#np.random.choice(segs[segs.Type=='dend'].index)\n",
        "# plt.title('dend {}'.format(p))\n",
        "# plt.plot(control_v[7200:7700,p],label='dend')\n",
        "# plt.plot(control_v[7200:7700,0],label='soma')\n",
        "# plt.hlines(-40,0,500)\n",
        "# plt.twinx()\n",
        "# plt.plot(control_inmda[7200:7700,p],color='r')\n",
        "# plt.legend()"
      ]
    },
    {
      "cell_type": "code",
      "execution_count": null,
      "metadata": {
        "id": "PTz_OD204vaq"
      },
      "outputs": [],
      "source": [
        "# control_v[10000,0]"
      ]
    },
    {
      "cell_type": "code",
      "execution_count": null,
      "metadata": {
        "id": "0j1tXS3E4var"
      },
      "outputs": [],
      "source": [
        "# plt.hist(control_v[10000,:])"
      ]
    },
    {
      "cell_type": "code",
      "execution_count": null,
      "metadata": {
        "id": "xc3yqYuK4var"
      },
      "outputs": [],
      "source": [
        "# plt.plot(control_v[:,1200])\n",
        "# plt.plot(NMDAblock_v[:,1200])"
      ]
    },
    {
      "cell_type": "code",
      "execution_count": null,
      "metadata": {
        "id": "yL_5vEQb4var"
      },
      "outputs": [],
      "source": [
        "# df = ids_pos.set_index(['BMTK ID', 'X']).join(segs.set_index(['BMTK ID', 'X'])).reset_index()"
      ]
    },
    {
      "cell_type": "code",
      "execution_count": null,
      "metadata": {
        "id": "-SAxAuK34var"
      },
      "outputs": [],
      "source": [
        "# df.loc[0,'Distance'], np.mean(f['report']['biophysical']['data'],axis=0)[0]"
      ]
    },
    {
      "cell_type": "code",
      "execution_count": null,
      "metadata": {
        "id": "tcCgvLcV4var"
      },
      "outputs": [],
      "source": [
        "# df[(df.Distance>900) & (df.Distance<1000)]"
      ]
    },
    {
      "cell_type": "code",
      "execution_count": null,
      "metadata": {
        "id": "iSQt7tgD4var"
      },
      "outputs": [],
      "source": [
        "# plt.scatter(np.arange(0,df.shape[0]), np.mean(f['report']['biophysical']['data'],axis=0))\n",
        "# plt.xlim(1740,1760)"
      ]
    },
    {
      "cell_type": "code",
      "execution_count": null,
      "metadata": {
        "id": "q5Lf7TbC4var"
      },
      "outputs": [],
      "source": [
        "# plt.figure(figsize=(10,6))\n",
        "# plt.scatter(df['Distance'],np.mean(f['report']['biophysical']['data'],axis=0),alpha=0.2)\n",
        "# plt.scatter(df.loc[0,'Distance'], np.mean(f['report']['biophysical']['data'],axis=0)[0],color='r', marker='*', s=75)\n",
        "# plt.scatter(df.loc[1452,'Distance'], np.mean(f['report']['biophysical']['data'],axis=0)[1452],color='m',marker='*', s=75)\n",
        "# plt.scatter(df.loc[1754,'Distance'], np.mean(f['report']['biophysical']['data'],axis=0)[1754],color='k',marker='*', s=75)\n",
        "# plt.xlabel('distance from soma')\n",
        "# plt.ylabel('mean potential of segment (mV)')"
      ]
    },
    {
      "cell_type": "code",
      "execution_count": null,
      "metadata": {
        "id": "yVPunG4e4var"
      },
      "outputs": [],
      "source": [
        "# #plt.scatter(np.arange(0,f['report']['biophysical']['data'].shape[1]),np.mean(f['report']['biophysical']['data'],axis=0))\n",
        "\n",
        "# plt.figure(figsize=(10,6))\n",
        "\n",
        "# plt.plot(np.arange(0,2,0.0001),f['report']['biophysical']['data'][:,0],color='r')\n",
        "# plt.plot(np.arange(0,2,0.0001),f['report']['biophysical']['data'][:,1452],color='m')\n",
        "# plt.plot(np.arange(0,2,0.0001),f['report']['biophysical']['data'][:,1754],color='k')\n",
        "# plt.xlim(1.75,2)\n",
        "# plt.xlabel('time (s)')\n",
        "# plt.ylabel('membrane potential (mV)')"
      ]
    },
    {
      "cell_type": "code",
      "execution_count": null,
      "metadata": {
        "id": "WeeWcSCF4var"
      },
      "outputs": [],
      "source": []
    }
  ],
  "metadata": {
    "kernelspec": {
      "display_name": "Python 3",
      "language": "python",
      "name": "python3"
    },
    "language_info": {
      "codemirror_mode": {
        "name": "ipython",
        "version": 3
      },
      "file_extension": ".py",
      "mimetype": "text/x-python",
      "name": "python",
      "nbconvert_exporter": "python",
      "pygments_lexer": "ipython3",
      "version": "3.6.10"
    },
    "colab": {
      "name": "NMDAExploration.ipynb",
      "provenance": [],
      "include_colab_link": true
    }
  },
  "nbformat": 4,
  "nbformat_minor": 0
}