{
  "cells": [
    {
      "cell_type": "markdown",
      "metadata": {
        "id": "view-in-github",
        "colab_type": "text"
      },
      "source": [
        "<a href=\"https://colab.research.google.com/github/davidfague/Stylized-ReducedOrder-L5-Model/blob/main/NMDAExploration.ipynb\" target=\"_parent\"><img src=\"https://colab.research.google.com/assets/colab-badge.svg\" alt=\"Open In Colab\"/></a>"
      ]
    },
    {
      "cell_type": "code",
      "source": [
        "import pandas as pd\n",
        "import h5py\n",
        "import numpy as np\n",
        "import matplotlib.pyplot as plt\n",
        "import seaborn as sns\n",
        "import scipy.signal as ss"
      ],
      "metadata": {
        "id": "fCzdVIpt5aS4"
      },
      "execution_count": 1,
      "outputs": []
    },
    {
      "cell_type": "code",
      "source": [
        "from google.colab import drive\n",
        "drive.mount('/content/drive')\n",
        "\n",
        "%cd /content/drive/MyDrive/Stylized-Cell-model/"
      ],
      "metadata": {
        "colab": {
          "base_uri": "https://localhost:8080/"
        },
        "id": "RjWY8thN5Z9i",
        "outputId": "c9d59432-7bb7-484e-b364-da923659e364"
      },
      "execution_count": 2,
      "outputs": [
        {
          "output_type": "stream",
          "name": "stdout",
          "text": [
            "Drive already mounted at /content/drive; to attempt to forcibly remount, call drive.mount(\"/content/drive\", force_remount=True).\n",
            "/content/drive/MyDrive/Stylized-Cell-model\n"
          ]
        }
      ]
    },
    {
      "cell_type": "code",
      "execution_count": 3,
      "metadata": {
        "id": "E2Jp8o0E4vac"
      },
      "outputs": [],
      "source": [
        "def voltage_criterion(data=None, v_thresh=-40, time_thresh=260):\n",
        "    threshold_crossings = np.diff(data > v_thresh, prepend=False)\n",
        "    upward_crossings = np.argwhere(threshold_crossings)[::2,0]\n",
        "    downward_crossings = np.argwhere(threshold_crossings)[1::2,0]\n",
        "    #print('volt')\n",
        "    #print(threshold_crossings)\n",
        "    #print(upward_crossings)\n",
        "    #print(downward_crossings)\n",
        "    # If length of threshold_crossings is not even\n",
        "    if np.mod(np.argwhere(threshold_crossings).reshape(-1,).shape[0],2)!=0:\n",
        "        legit_up_crossings = upward_crossings[:-1][np.diff(np.argwhere(threshold_crossings).reshape(-1,))[::2]>time_thresh]\n",
        "        legit_down_crossings = downward_crossings[np.diff(np.argwhere(threshold_crossings).reshape(-1,))[::2]>time_thresh]\n",
        "    else:\n",
        "        legit_up_crossings = upward_crossings[np.diff(np.argwhere(threshold_crossings).reshape(-1,))[::2]>time_thresh]\n",
        "        legit_down_crossings = downward_crossings[np.diff(np.argwhere(threshold_crossings).reshape(-1,))[::2]>time_thresh]\n",
        "    return upward_crossings, legit_up_crossings, legit_down_crossings\n",
        "\n",
        "# Input: upward and downward crossings\n",
        "# Output: bounds of NMDA spikes meeting current criterion\n",
        "def current_criterion(legit_uc_iso=[], legit_dc_iso=[], p=1, control_inmda=np.array([1])):\n",
        "    bounds = []\n",
        "    sum_current = []\n",
        "    \n",
        "\n",
        "    for ind1 in np.arange(0,len(legit_uc_iso)):\n",
        "        e1 = control_inmda[legit_uc_iso[ind1], p] #current @ up_crossing[ind1]\n",
        "        #all the indices where current crosses 130% of e1\n",
        "        x30 = np.argwhere(np.diff(control_inmda[legit_uc_iso[ind1]:legit_dc_iso[ind1], p] < 1.3*e1, prepend=False))\n",
        "        #all the indices where current crosses 115% of e1\n",
        "        x15 = np.argwhere(np.diff(control_inmda[legit_uc_iso[ind1]:legit_dc_iso[ind1], p] < 1.15*e1, prepend=False))\n",
        "        \n",
        "        if len(x30)>0:\n",
        "        \n",
        "            x15_copy = x15\n",
        "            x30_copy = x30\n",
        "            \n",
        "            try:\n",
        "                i = x30[0][0]\n",
        "            except:\n",
        "                import pdb; pdb.set_trace()\n",
        "                \n",
        "            n = 0\n",
        "            \n",
        "            \n",
        "            while n==0:\n",
        "                if len(np.sort(x15[x15>i]))!=0:\n",
        "                    b1 = i\n",
        "                    b2 = np.sort(x15[x15>i])[0]\n",
        "                    bounds.append([legit_uc_iso[ind1]+b1,legit_uc_iso[ind1]+b2])\n",
        "                    sum_current.append(np.sum(control_inmda[legit_uc_iso[ind1]+b1:legit_uc_iso[ind1]+b2,p])/10)\n",
        "                else:\n",
        "                    b1 = i\n",
        "                    b2 = (legit_dc_iso[ind1]-legit_uc_iso[ind1])\n",
        "                    bounds.append([legit_uc_iso[ind1]+b1,legit_uc_iso[ind1]+b2])\n",
        "                    sum_current.append(np.sum(control_inmda[legit_uc_iso[ind1]+b1:legit_uc_iso[ind1]+b2,p])/10)\n",
        "                    n=1\n",
        "                \n",
        "                x30_copy = x30_copy[x30_copy>legit_uc_iso[ind1]+b2]\n",
        "                #import pdb; pdb.set_trace()\n",
        "                \n",
        "                if len(x30_copy)!=0:\n",
        "                    i = x30_copy[x30_copy>b2][0]\n",
        "                else:\n",
        "                    n=1\n",
        "    return bounds, sum_current\n",
        "\n"
      ]
    },
    {
      "cell_type": "code",
      "execution_count": 4,
      "metadata": {
        "id": "jHNbTss14vaf"
      },
      "outputs": [],
      "source": [
        "output_folder = 'output_control'\n",
        "\n",
        "conns = pd.read_csv('./{}/Connections.csv'.format(output_folder))\n"
      ]
    },
    {
      "cell_type": "code",
      "source": [
        "conns.head()"
      ],
      "metadata": {
        "colab": {
          "base_uri": "https://localhost:8080/",
          "height": 206
        },
        "id": "1lrjxBj8-e4L",
        "outputId": "2ea71eaf-9bf0-46db-e4ac-41c85ef98189"
      },
      "execution_count": 5,
      "outputs": [
        {
          "output_type": "execute_result",
          "data": {
            "text/plain": [
              "   Node ID  Distance  Conductance  Type  \\\n",
              "0        0      10.0          1.0  dend   \n",
              "1        0      10.0          1.0  dend   \n",
              "2        0      10.0          1.0  dend   \n",
              "3        0      10.0          1.0  dend   \n",
              "4        0      10.0          1.0  dend   \n",
              "\n",
              "                                           Name Source Population  \\\n",
              "0   L5PCtemplate[0].dend[0](0.7067324236914841)     dist_inh_stim   \n",
              "1   L5PCtemplate[0].dend[0](0.7837691756550597)     dist_inh_stim   \n",
              "2  L5PCtemplate[0].dend[0](0.17015252620818255)     dist_inh_stim   \n",
              "3  L5PCtemplate[0].dend[0](0.49415067626668907)     dist_inh_stim   \n",
              "4   L5PCtemplate[0].dend[0](0.4787274683398627)     dist_inh_stim   \n",
              "\n",
              "   Release Probability  \n",
              "0             0.894052  \n",
              "1             0.863766  \n",
              "2             0.872791  \n",
              "3             0.896049  \n",
              "4             0.892091  "
            ],
            "text/html": [
              "\n",
              "  <div id=\"df-f268d443-f5bd-4609-96fb-487007e36f7f\">\n",
              "    <div class=\"colab-df-container\">\n",
              "      <div>\n",
              "<style scoped>\n",
              "    .dataframe tbody tr th:only-of-type {\n",
              "        vertical-align: middle;\n",
              "    }\n",
              "\n",
              "    .dataframe tbody tr th {\n",
              "        vertical-align: top;\n",
              "    }\n",
              "\n",
              "    .dataframe thead th {\n",
              "        text-align: right;\n",
              "    }\n",
              "</style>\n",
              "<table border=\"1\" class=\"dataframe\">\n",
              "  <thead>\n",
              "    <tr style=\"text-align: right;\">\n",
              "      <th></th>\n",
              "      <th>Node ID</th>\n",
              "      <th>Distance</th>\n",
              "      <th>Conductance</th>\n",
              "      <th>Type</th>\n",
              "      <th>Name</th>\n",
              "      <th>Source Population</th>\n",
              "      <th>Release Probability</th>\n",
              "    </tr>\n",
              "  </thead>\n",
              "  <tbody>\n",
              "    <tr>\n",
              "      <th>0</th>\n",
              "      <td>0</td>\n",
              "      <td>10.0</td>\n",
              "      <td>1.0</td>\n",
              "      <td>dend</td>\n",
              "      <td>L5PCtemplate[0].dend[0](0.7067324236914841)</td>\n",
              "      <td>dist_inh_stim</td>\n",
              "      <td>0.894052</td>\n",
              "    </tr>\n",
              "    <tr>\n",
              "      <th>1</th>\n",
              "      <td>0</td>\n",
              "      <td>10.0</td>\n",
              "      <td>1.0</td>\n",
              "      <td>dend</td>\n",
              "      <td>L5PCtemplate[0].dend[0](0.7837691756550597)</td>\n",
              "      <td>dist_inh_stim</td>\n",
              "      <td>0.863766</td>\n",
              "    </tr>\n",
              "    <tr>\n",
              "      <th>2</th>\n",
              "      <td>0</td>\n",
              "      <td>10.0</td>\n",
              "      <td>1.0</td>\n",
              "      <td>dend</td>\n",
              "      <td>L5PCtemplate[0].dend[0](0.17015252620818255)</td>\n",
              "      <td>dist_inh_stim</td>\n",
              "      <td>0.872791</td>\n",
              "    </tr>\n",
              "    <tr>\n",
              "      <th>3</th>\n",
              "      <td>0</td>\n",
              "      <td>10.0</td>\n",
              "      <td>1.0</td>\n",
              "      <td>dend</td>\n",
              "      <td>L5PCtemplate[0].dend[0](0.49415067626668907)</td>\n",
              "      <td>dist_inh_stim</td>\n",
              "      <td>0.896049</td>\n",
              "    </tr>\n",
              "    <tr>\n",
              "      <th>4</th>\n",
              "      <td>0</td>\n",
              "      <td>10.0</td>\n",
              "      <td>1.0</td>\n",
              "      <td>dend</td>\n",
              "      <td>L5PCtemplate[0].dend[0](0.4787274683398627)</td>\n",
              "      <td>dist_inh_stim</td>\n",
              "      <td>0.892091</td>\n",
              "    </tr>\n",
              "  </tbody>\n",
              "</table>\n",
              "</div>\n",
              "      <button class=\"colab-df-convert\" onclick=\"convertToInteractive('df-f268d443-f5bd-4609-96fb-487007e36f7f')\"\n",
              "              title=\"Convert this dataframe to an interactive table.\"\n",
              "              style=\"display:none;\">\n",
              "        \n",
              "  <svg xmlns=\"http://www.w3.org/2000/svg\" height=\"24px\"viewBox=\"0 0 24 24\"\n",
              "       width=\"24px\">\n",
              "    <path d=\"M0 0h24v24H0V0z\" fill=\"none\"/>\n",
              "    <path d=\"M18.56 5.44l.94 2.06.94-2.06 2.06-.94-2.06-.94-.94-2.06-.94 2.06-2.06.94zm-11 1L8.5 8.5l.94-2.06 2.06-.94-2.06-.94L8.5 2.5l-.94 2.06-2.06.94zm10 10l.94 2.06.94-2.06 2.06-.94-2.06-.94-.94-2.06-.94 2.06-2.06.94z\"/><path d=\"M17.41 7.96l-1.37-1.37c-.4-.4-.92-.59-1.43-.59-.52 0-1.04.2-1.43.59L10.3 9.45l-7.72 7.72c-.78.78-.78 2.05 0 2.83L4 21.41c.39.39.9.59 1.41.59.51 0 1.02-.2 1.41-.59l7.78-7.78 2.81-2.81c.8-.78.8-2.07 0-2.86zM5.41 20L4 18.59l7.72-7.72 1.47 1.35L5.41 20z\"/>\n",
              "  </svg>\n",
              "      </button>\n",
              "      \n",
              "  <style>\n",
              "    .colab-df-container {\n",
              "      display:flex;\n",
              "      flex-wrap:wrap;\n",
              "      gap: 12px;\n",
              "    }\n",
              "\n",
              "    .colab-df-convert {\n",
              "      background-color: #E8F0FE;\n",
              "      border: none;\n",
              "      border-radius: 50%;\n",
              "      cursor: pointer;\n",
              "      display: none;\n",
              "      fill: #1967D2;\n",
              "      height: 32px;\n",
              "      padding: 0 0 0 0;\n",
              "      width: 32px;\n",
              "    }\n",
              "\n",
              "    .colab-df-convert:hover {\n",
              "      background-color: #E2EBFA;\n",
              "      box-shadow: 0px 1px 2px rgba(60, 64, 67, 0.3), 0px 1px 3px 1px rgba(60, 64, 67, 0.15);\n",
              "      fill: #174EA6;\n",
              "    }\n",
              "\n",
              "    [theme=dark] .colab-df-convert {\n",
              "      background-color: #3B4455;\n",
              "      fill: #D2E3FC;\n",
              "    }\n",
              "\n",
              "    [theme=dark] .colab-df-convert:hover {\n",
              "      background-color: #434B5C;\n",
              "      box-shadow: 0px 1px 3px 1px rgba(0, 0, 0, 0.15);\n",
              "      filter: drop-shadow(0px 1px 2px rgba(0, 0, 0, 0.3));\n",
              "      fill: #FFFFFF;\n",
              "    }\n",
              "  </style>\n",
              "\n",
              "      <script>\n",
              "        const buttonEl =\n",
              "          document.querySelector('#df-f268d443-f5bd-4609-96fb-487007e36f7f button.colab-df-convert');\n",
              "        buttonEl.style.display =\n",
              "          google.colab.kernel.accessAllowed ? 'block' : 'none';\n",
              "\n",
              "        async function convertToInteractive(key) {\n",
              "          const element = document.querySelector('#df-f268d443-f5bd-4609-96fb-487007e36f7f');\n",
              "          const dataTable =\n",
              "            await google.colab.kernel.invokeFunction('convertToInteractive',\n",
              "                                                     [key], {});\n",
              "          if (!dataTable) return;\n",
              "\n",
              "          const docLinkHtml = 'Like what you see? Visit the ' +\n",
              "            '<a target=\"_blank\" href=https://colab.research.google.com/notebooks/data_table.ipynb>data table notebook</a>'\n",
              "            + ' to learn more about interactive tables.';\n",
              "          element.innerHTML = '';\n",
              "          dataTable['output_type'] = 'display_data';\n",
              "          await google.colab.output.renderOutput(dataTable, element);\n",
              "          const docLink = document.createElement('div');\n",
              "          docLink.innerHTML = docLinkHtml;\n",
              "          element.appendChild(docLink);\n",
              "        }\n",
              "      </script>\n",
              "    </div>\n",
              "  </div>\n",
              "  "
            ]
          },
          "metadata": {},
          "execution_count": 5
        }
      ]
    },
    {
      "cell_type": "code",
      "source": [
        "#print(conns)"
      ],
      "metadata": {
        "id": "aVtXsyt3-mC4"
      },
      "execution_count": 6,
      "outputs": []
    },
    {
      "cell_type": "code",
      "source": [
        "conns.loc[conns.Type=='dend','Sec ID'] = conns.loc[conns.Type=='dend','Name'].apply(lambda x: int(x.split('dend[')[1].split(']')[0]))"
      ],
      "metadata": {
        "id": "YBYCzx-D52YK"
      },
      "execution_count": 7,
      "outputs": []
    },
    {
      "cell_type": "code",
      "execution_count": 8,
      "metadata": {
        "id": "xsVHZyAX4vaf"
      },
      "outputs": [],
      "source": [
        "conns.loc[conns.Type=='dend','Sec ID'] = conns.loc[conns.Type=='dend','Name'].apply(lambda x: int(x.split('dend[')[1].split(']')[0]))\n",
        "conns.loc[conns.Type=='apic','Sec ID'] = conns.loc[conns.Type=='apic','Name'].apply(lambda x: int(x.split('apic[')[1].split(']')[0]))\n",
        "conns.loc[conns.Type=='soma','Sec ID'] = conns.loc[conns.Type=='soma','Name'].apply(lambda x: int(x.split('soma[')[1].split(']')[0]))\n",
        "conns.loc[conns.Type=='axon','Sec ID'] = conns.loc[conns.Type=='axon','Name'].apply(lambda x: int(x.split('axon[')[1].split(']')[0]))\n",
        "\n",
        "conns['X'] = conns['Name'].apply(lambda x: float(x.split('(')[1].split(')')[0]))\n",
        "\n",
        "conns.rename(columns={'Distance':'conns_Distance'},inplace=True)\n",
        "\n",
        "conns['Sec ID'] = conns['Sec ID'].astype(int)\n",
        "conns['X'] = conns['X'].astype(float)"
      ]
    },
    {
      "cell_type": "code",
      "execution_count": 9,
      "metadata": {
        "id": "zzrizQpj4vaf",
        "colab": {
          "base_uri": "https://localhost:8080/",
          "height": 206
        },
        "outputId": "c40e1485-933e-470f-c9a3-ea0ef42eb225"
      },
      "outputs": [
        {
          "output_type": "execute_result",
          "data": {
            "text/plain": [
              "   Node ID  conns_Distance  Conductance  Type  \\\n",
              "0        0            10.0          1.0  dend   \n",
              "1        0            10.0          1.0  dend   \n",
              "2        0            10.0          1.0  dend   \n",
              "3        0            10.0          1.0  dend   \n",
              "4        0            10.0          1.0  dend   \n",
              "\n",
              "                                           Name Source Population  \\\n",
              "0   L5PCtemplate[0].dend[0](0.7067324236914841)     dist_inh_stim   \n",
              "1   L5PCtemplate[0].dend[0](0.7837691756550597)     dist_inh_stim   \n",
              "2  L5PCtemplate[0].dend[0](0.17015252620818255)     dist_inh_stim   \n",
              "3  L5PCtemplate[0].dend[0](0.49415067626668907)     dist_inh_stim   \n",
              "4   L5PCtemplate[0].dend[0](0.4787274683398627)     dist_inh_stim   \n",
              "\n",
              "   Release Probability  Sec ID         X  \n",
              "0             0.894052       0  0.706732  \n",
              "1             0.863766       0  0.783769  \n",
              "2             0.872791       0  0.170153  \n",
              "3             0.896049       0  0.494151  \n",
              "4             0.892091       0  0.478727  "
            ],
            "text/html": [
              "\n",
              "  <div id=\"df-d678c3a6-d29f-470a-b656-96c6bde152ed\">\n",
              "    <div class=\"colab-df-container\">\n",
              "      <div>\n",
              "<style scoped>\n",
              "    .dataframe tbody tr th:only-of-type {\n",
              "        vertical-align: middle;\n",
              "    }\n",
              "\n",
              "    .dataframe tbody tr th {\n",
              "        vertical-align: top;\n",
              "    }\n",
              "\n",
              "    .dataframe thead th {\n",
              "        text-align: right;\n",
              "    }\n",
              "</style>\n",
              "<table border=\"1\" class=\"dataframe\">\n",
              "  <thead>\n",
              "    <tr style=\"text-align: right;\">\n",
              "      <th></th>\n",
              "      <th>Node ID</th>\n",
              "      <th>conns_Distance</th>\n",
              "      <th>Conductance</th>\n",
              "      <th>Type</th>\n",
              "      <th>Name</th>\n",
              "      <th>Source Population</th>\n",
              "      <th>Release Probability</th>\n",
              "      <th>Sec ID</th>\n",
              "      <th>X</th>\n",
              "    </tr>\n",
              "  </thead>\n",
              "  <tbody>\n",
              "    <tr>\n",
              "      <th>0</th>\n",
              "      <td>0</td>\n",
              "      <td>10.0</td>\n",
              "      <td>1.0</td>\n",
              "      <td>dend</td>\n",
              "      <td>L5PCtemplate[0].dend[0](0.7067324236914841)</td>\n",
              "      <td>dist_inh_stim</td>\n",
              "      <td>0.894052</td>\n",
              "      <td>0</td>\n",
              "      <td>0.706732</td>\n",
              "    </tr>\n",
              "    <tr>\n",
              "      <th>1</th>\n",
              "      <td>0</td>\n",
              "      <td>10.0</td>\n",
              "      <td>1.0</td>\n",
              "      <td>dend</td>\n",
              "      <td>L5PCtemplate[0].dend[0](0.7837691756550597)</td>\n",
              "      <td>dist_inh_stim</td>\n",
              "      <td>0.863766</td>\n",
              "      <td>0</td>\n",
              "      <td>0.783769</td>\n",
              "    </tr>\n",
              "    <tr>\n",
              "      <th>2</th>\n",
              "      <td>0</td>\n",
              "      <td>10.0</td>\n",
              "      <td>1.0</td>\n",
              "      <td>dend</td>\n",
              "      <td>L5PCtemplate[0].dend[0](0.17015252620818255)</td>\n",
              "      <td>dist_inh_stim</td>\n",
              "      <td>0.872791</td>\n",
              "      <td>0</td>\n",
              "      <td>0.170153</td>\n",
              "    </tr>\n",
              "    <tr>\n",
              "      <th>3</th>\n",
              "      <td>0</td>\n",
              "      <td>10.0</td>\n",
              "      <td>1.0</td>\n",
              "      <td>dend</td>\n",
              "      <td>L5PCtemplate[0].dend[0](0.49415067626668907)</td>\n",
              "      <td>dist_inh_stim</td>\n",
              "      <td>0.896049</td>\n",
              "      <td>0</td>\n",
              "      <td>0.494151</td>\n",
              "    </tr>\n",
              "    <tr>\n",
              "      <th>4</th>\n",
              "      <td>0</td>\n",
              "      <td>10.0</td>\n",
              "      <td>1.0</td>\n",
              "      <td>dend</td>\n",
              "      <td>L5PCtemplate[0].dend[0](0.4787274683398627)</td>\n",
              "      <td>dist_inh_stim</td>\n",
              "      <td>0.892091</td>\n",
              "      <td>0</td>\n",
              "      <td>0.478727</td>\n",
              "    </tr>\n",
              "  </tbody>\n",
              "</table>\n",
              "</div>\n",
              "      <button class=\"colab-df-convert\" onclick=\"convertToInteractive('df-d678c3a6-d29f-470a-b656-96c6bde152ed')\"\n",
              "              title=\"Convert this dataframe to an interactive table.\"\n",
              "              style=\"display:none;\">\n",
              "        \n",
              "  <svg xmlns=\"http://www.w3.org/2000/svg\" height=\"24px\"viewBox=\"0 0 24 24\"\n",
              "       width=\"24px\">\n",
              "    <path d=\"M0 0h24v24H0V0z\" fill=\"none\"/>\n",
              "    <path d=\"M18.56 5.44l.94 2.06.94-2.06 2.06-.94-2.06-.94-.94-2.06-.94 2.06-2.06.94zm-11 1L8.5 8.5l.94-2.06 2.06-.94-2.06-.94L8.5 2.5l-.94 2.06-2.06.94zm10 10l.94 2.06.94-2.06 2.06-.94-2.06-.94-.94-2.06-.94 2.06-2.06.94z\"/><path d=\"M17.41 7.96l-1.37-1.37c-.4-.4-.92-.59-1.43-.59-.52 0-1.04.2-1.43.59L10.3 9.45l-7.72 7.72c-.78.78-.78 2.05 0 2.83L4 21.41c.39.39.9.59 1.41.59.51 0 1.02-.2 1.41-.59l7.78-7.78 2.81-2.81c.8-.78.8-2.07 0-2.86zM5.41 20L4 18.59l7.72-7.72 1.47 1.35L5.41 20z\"/>\n",
              "  </svg>\n",
              "      </button>\n",
              "      \n",
              "  <style>\n",
              "    .colab-df-container {\n",
              "      display:flex;\n",
              "      flex-wrap:wrap;\n",
              "      gap: 12px;\n",
              "    }\n",
              "\n",
              "    .colab-df-convert {\n",
              "      background-color: #E8F0FE;\n",
              "      border: none;\n",
              "      border-radius: 50%;\n",
              "      cursor: pointer;\n",
              "      display: none;\n",
              "      fill: #1967D2;\n",
              "      height: 32px;\n",
              "      padding: 0 0 0 0;\n",
              "      width: 32px;\n",
              "    }\n",
              "\n",
              "    .colab-df-convert:hover {\n",
              "      background-color: #E2EBFA;\n",
              "      box-shadow: 0px 1px 2px rgba(60, 64, 67, 0.3), 0px 1px 3px 1px rgba(60, 64, 67, 0.15);\n",
              "      fill: #174EA6;\n",
              "    }\n",
              "\n",
              "    [theme=dark] .colab-df-convert {\n",
              "      background-color: #3B4455;\n",
              "      fill: #D2E3FC;\n",
              "    }\n",
              "\n",
              "    [theme=dark] .colab-df-convert:hover {\n",
              "      background-color: #434B5C;\n",
              "      box-shadow: 0px 1px 3px 1px rgba(0, 0, 0, 0.15);\n",
              "      filter: drop-shadow(0px 1px 2px rgba(0, 0, 0, 0.3));\n",
              "      fill: #FFFFFF;\n",
              "    }\n",
              "  </style>\n",
              "\n",
              "      <script>\n",
              "        const buttonEl =\n",
              "          document.querySelector('#df-d678c3a6-d29f-470a-b656-96c6bde152ed button.colab-df-convert');\n",
              "        buttonEl.style.display =\n",
              "          google.colab.kernel.accessAllowed ? 'block' : 'none';\n",
              "\n",
              "        async function convertToInteractive(key) {\n",
              "          const element = document.querySelector('#df-d678c3a6-d29f-470a-b656-96c6bde152ed');\n",
              "          const dataTable =\n",
              "            await google.colab.kernel.invokeFunction('convertToInteractive',\n",
              "                                                     [key], {});\n",
              "          if (!dataTable) return;\n",
              "\n",
              "          const docLinkHtml = 'Like what you see? Visit the ' +\n",
              "            '<a target=\"_blank\" href=https://colab.research.google.com/notebooks/data_table.ipynb>data table notebook</a>'\n",
              "            + ' to learn more about interactive tables.';\n",
              "          element.innerHTML = '';\n",
              "          dataTable['output_type'] = 'display_data';\n",
              "          await google.colab.output.renderOutput(dataTable, element);\n",
              "          const docLink = document.createElement('div');\n",
              "          docLink.innerHTML = docLinkHtml;\n",
              "          element.appendChild(docLink);\n",
              "        }\n",
              "      </script>\n",
              "    </div>\n",
              "  </div>\n",
              "  "
            ]
          },
          "metadata": {},
          "execution_count": 9
        }
      ],
      "source": [
        "conns.head()"
      ]
    },
    {
      "cell_type": "code",
      "execution_count": 10,
      "metadata": {
        "id": "0BpOPokH4vag"
      },
      "outputs": [],
      "source": [
        "segs = pd.read_csv('L5Segments.csv')\n",
        "segs_degrees = pd.read_csv('SegmentsDegrees.csv').groupby(['Type','Sec ID'])['Degrees'].max().reset_index()\n",
        "segs['segmentID'] = segs.index\n",
        "segs = segs.set_index(['Type','Sec ID']).join(segs_degrees.set_index(['Type','Sec ID'])).reset_index()\n",
        "\n",
        "segs['Sec ID'] = segs['Sec ID'].astype(int)\n",
        "segs['X'] = segs['X'].astype(float)\n",
        "segs['Elec_distanceQ'] = 'None'\n",
        "\n",
        "segs.loc[segs.Type=='dend','Elec_distanceQ'] = pd.qcut(segs.loc[segs.Type=='dend','Elec_distance'], 10, labels=False, duplicates = 'drop')\n",
        "segs.loc[segs.Type=='apic','Elec_distanceQ'] = pd.qcut(segs.loc[segs.Type=='apic','Elec_distance'], 10, labels=False, duplicates = 'drop')"
      ]
    },
    {
      "cell_type": "code",
      "execution_count": 11,
      "metadata": {
        "id": "ObhvUlAb4vag"
      },
      "outputs": [],
      "source": [
        "exc_syns_per_seg = conns[conns['Source Population']=='exc_stim'].groupby(['Type','Sec ID','X'])['Conductance'].count().reset_index().rename(columns={'Conductance':'num_syns'})\n",
        "\n",
        "\n"
      ]
    },
    {
      "cell_type": "code",
      "execution_count": 12,
      "metadata": {
        "id": "2Few52k-4vag",
        "colab": {
          "base_uri": "https://localhost:8080/",
          "height": 206
        },
        "outputId": "297d4e0e-4b40-440c-bcd8-6d2e04826b95"
      },
      "outputs": [
        {
          "output_type": "execute_result",
          "data": {
            "text/plain": [
              "   Type  Sec ID         X  num_syns\n",
              "0  apic      12  0.758092         1\n",
              "1  apic      12  0.759311         1\n",
              "2  apic      12  0.760913         1\n",
              "3  apic      12  0.762304         1\n",
              "4  apic      12  0.764775         1"
            ],
            "text/html": [
              "\n",
              "  <div id=\"df-0a037fd3-09e8-442d-9436-f280b3c33a8a\">\n",
              "    <div class=\"colab-df-container\">\n",
              "      <div>\n",
              "<style scoped>\n",
              "    .dataframe tbody tr th:only-of-type {\n",
              "        vertical-align: middle;\n",
              "    }\n",
              "\n",
              "    .dataframe tbody tr th {\n",
              "        vertical-align: top;\n",
              "    }\n",
              "\n",
              "    .dataframe thead th {\n",
              "        text-align: right;\n",
              "    }\n",
              "</style>\n",
              "<table border=\"1\" class=\"dataframe\">\n",
              "  <thead>\n",
              "    <tr style=\"text-align: right;\">\n",
              "      <th></th>\n",
              "      <th>Type</th>\n",
              "      <th>Sec ID</th>\n",
              "      <th>X</th>\n",
              "      <th>num_syns</th>\n",
              "    </tr>\n",
              "  </thead>\n",
              "  <tbody>\n",
              "    <tr>\n",
              "      <th>0</th>\n",
              "      <td>apic</td>\n",
              "      <td>12</td>\n",
              "      <td>0.758092</td>\n",
              "      <td>1</td>\n",
              "    </tr>\n",
              "    <tr>\n",
              "      <th>1</th>\n",
              "      <td>apic</td>\n",
              "      <td>12</td>\n",
              "      <td>0.759311</td>\n",
              "      <td>1</td>\n",
              "    </tr>\n",
              "    <tr>\n",
              "      <th>2</th>\n",
              "      <td>apic</td>\n",
              "      <td>12</td>\n",
              "      <td>0.760913</td>\n",
              "      <td>1</td>\n",
              "    </tr>\n",
              "    <tr>\n",
              "      <th>3</th>\n",
              "      <td>apic</td>\n",
              "      <td>12</td>\n",
              "      <td>0.762304</td>\n",
              "      <td>1</td>\n",
              "    </tr>\n",
              "    <tr>\n",
              "      <th>4</th>\n",
              "      <td>apic</td>\n",
              "      <td>12</td>\n",
              "      <td>0.764775</td>\n",
              "      <td>1</td>\n",
              "    </tr>\n",
              "  </tbody>\n",
              "</table>\n",
              "</div>\n",
              "      <button class=\"colab-df-convert\" onclick=\"convertToInteractive('df-0a037fd3-09e8-442d-9436-f280b3c33a8a')\"\n",
              "              title=\"Convert this dataframe to an interactive table.\"\n",
              "              style=\"display:none;\">\n",
              "        \n",
              "  <svg xmlns=\"http://www.w3.org/2000/svg\" height=\"24px\"viewBox=\"0 0 24 24\"\n",
              "       width=\"24px\">\n",
              "    <path d=\"M0 0h24v24H0V0z\" fill=\"none\"/>\n",
              "    <path d=\"M18.56 5.44l.94 2.06.94-2.06 2.06-.94-2.06-.94-.94-2.06-.94 2.06-2.06.94zm-11 1L8.5 8.5l.94-2.06 2.06-.94-2.06-.94L8.5 2.5l-.94 2.06-2.06.94zm10 10l.94 2.06.94-2.06 2.06-.94-2.06-.94-.94-2.06-.94 2.06-2.06.94z\"/><path d=\"M17.41 7.96l-1.37-1.37c-.4-.4-.92-.59-1.43-.59-.52 0-1.04.2-1.43.59L10.3 9.45l-7.72 7.72c-.78.78-.78 2.05 0 2.83L4 21.41c.39.39.9.59 1.41.59.51 0 1.02-.2 1.41-.59l7.78-7.78 2.81-2.81c.8-.78.8-2.07 0-2.86zM5.41 20L4 18.59l7.72-7.72 1.47 1.35L5.41 20z\"/>\n",
              "  </svg>\n",
              "      </button>\n",
              "      \n",
              "  <style>\n",
              "    .colab-df-container {\n",
              "      display:flex;\n",
              "      flex-wrap:wrap;\n",
              "      gap: 12px;\n",
              "    }\n",
              "\n",
              "    .colab-df-convert {\n",
              "      background-color: #E8F0FE;\n",
              "      border: none;\n",
              "      border-radius: 50%;\n",
              "      cursor: pointer;\n",
              "      display: none;\n",
              "      fill: #1967D2;\n",
              "      height: 32px;\n",
              "      padding: 0 0 0 0;\n",
              "      width: 32px;\n",
              "    }\n",
              "\n",
              "    .colab-df-convert:hover {\n",
              "      background-color: #E2EBFA;\n",
              "      box-shadow: 0px 1px 2px rgba(60, 64, 67, 0.3), 0px 1px 3px 1px rgba(60, 64, 67, 0.15);\n",
              "      fill: #174EA6;\n",
              "    }\n",
              "\n",
              "    [theme=dark] .colab-df-convert {\n",
              "      background-color: #3B4455;\n",
              "      fill: #D2E3FC;\n",
              "    }\n",
              "\n",
              "    [theme=dark] .colab-df-convert:hover {\n",
              "      background-color: #434B5C;\n",
              "      box-shadow: 0px 1px 3px 1px rgba(0, 0, 0, 0.15);\n",
              "      filter: drop-shadow(0px 1px 2px rgba(0, 0, 0, 0.3));\n",
              "      fill: #FFFFFF;\n",
              "    }\n",
              "  </style>\n",
              "\n",
              "      <script>\n",
              "        const buttonEl =\n",
              "          document.querySelector('#df-0a037fd3-09e8-442d-9436-f280b3c33a8a button.colab-df-convert');\n",
              "        buttonEl.style.display =\n",
              "          google.colab.kernel.accessAllowed ? 'block' : 'none';\n",
              "\n",
              "        async function convertToInteractive(key) {\n",
              "          const element = document.querySelector('#df-0a037fd3-09e8-442d-9436-f280b3c33a8a');\n",
              "          const dataTable =\n",
              "            await google.colab.kernel.invokeFunction('convertToInteractive',\n",
              "                                                     [key], {});\n",
              "          if (!dataTable) return;\n",
              "\n",
              "          const docLinkHtml = 'Like what you see? Visit the ' +\n",
              "            '<a target=\"_blank\" href=https://colab.research.google.com/notebooks/data_table.ipynb>data table notebook</a>'\n",
              "            + ' to learn more about interactive tables.';\n",
              "          element.innerHTML = '';\n",
              "          dataTable['output_type'] = 'display_data';\n",
              "          await google.colab.output.renderOutput(dataTable, element);\n",
              "          const docLink = document.createElement('div');\n",
              "          docLink.innerHTML = docLinkHtml;\n",
              "          element.appendChild(docLink);\n",
              "        }\n",
              "      </script>\n",
              "    </div>\n",
              "  </div>\n",
              "  "
            ]
          },
          "metadata": {},
          "execution_count": 12
        }
      ],
      "source": [
        "exc_syns_per_seg.head()"
      ]
    },
    {
      "cell_type": "code",
      "execution_count": 13,
      "metadata": {
        "id": "GqAaIDem4vah"
      },
      "outputs": [],
      "source": [
        "segs['segmentID'] = segs.groupby(['Type','Sec ID']).cumcount()+1"
      ]
    },
    {
      "cell_type": "code",
      "execution_count": 14,
      "metadata": {
        "id": "X-FQZkN64vah"
      },
      "outputs": [],
      "source": [
        "exc_syns_per_seg['segmentID'] = exc_syns_per_seg.groupby(['Type','Sec ID']).cumcount()+1"
      ]
    },
    {
      "cell_type": "code",
      "execution_count": 15,
      "metadata": {
        "id": "YFfgDwZL4vah"
      },
      "outputs": [],
      "source": [
        "exc_syns = segs.set_index(['Type','Sec ID','segmentID']).join(exc_syns_per_seg[['Type','Sec ID','segmentID','num_syns']].set_index(['Type','Sec ID','segmentID'])).reset_index()\n"
      ]
    },
    {
      "cell_type": "code",
      "execution_count": 16,
      "metadata": {
        "id": "bhpJr1up4vai",
        "colab": {
          "base_uri": "https://localhost:8080/"
        },
        "outputId": "4cd3b9fd-0e6b-4e96-a776-d7d7a16e1260"
      },
      "outputs": [
        {
          "output_type": "execute_result",
          "data": {
            "text/plain": [
              "array([[9.41507332e-08, 2.00759488e-09, 2.00759488e-09, ...,\n",
              "        1.88506562e-10, 1.88506562e-10, 1.88506562e-10],\n",
              "       [9.41507332e-08, 2.00759488e-09, 2.00759488e-09, ...,\n",
              "        1.88506562e-10, 1.88506562e-10, 1.88506562e-10],\n",
              "       [9.36535475e-08, 2.00013480e-09, 2.00337876e-09, ...,\n",
              "        1.88030834e-10, 1.87799599e-10, 1.88030834e-10],\n",
              "       ...,\n",
              "       [5.13025633e-06, 1.67798591e-07, 3.70915776e-07, ...,\n",
              "        1.01705938e-08, 1.02651011e-08, 1.01705938e-08],\n",
              "       [5.25109907e-06, 1.70785917e-07, 3.73531810e-07, ...,\n",
              "        1.04090448e-08, 1.05057226e-08, 1.04090448e-08],\n",
              "       [5.38233910e-06, 1.74038849e-07, 3.76534304e-07, ...,\n",
              "        1.06618857e-08, 1.07642735e-08, 1.06618857e-08]])"
            ]
          },
          "metadata": {},
          "execution_count": 16
        }
      ],
      "source": [
        "v = h5py.File('./{}/v_report.h5'.format(output_folder),'r')\n",
        "hva = h5py.File('./{}/Ca_HVA.ica_report.h5'.format(output_folder),'r')\n",
        "lva = h5py.File('./{}/Ca_LVAst.ica_report.h5'.format(output_folder),'r')\n",
        "ih = h5py.File('./{}/Ih.ihcn_report.h5'.format(output_folder),'r')\n",
        "\n",
        "nmda = h5py.File('./{}/inmda_report.h5'.format(output_folder),'r')\n",
        "\n",
        "na = h5py.File('./{}/NaTa_t.gNaTa_t_report.h5'.format(output_folder),'r')\n",
        "spks = h5py.File('./{}/spikes.h5'.format(output_folder),'r')\n",
        "\n",
        "\n",
        "na['report']['biophysical']['data'][:]"
      ]
    },
    {
      "cell_type": "code",
      "source": [
        "v['report']['biophysical']['data'][:-100,1]"
      ],
      "metadata": {
        "colab": {
          "base_uri": "https://localhost:8080/"
        },
        "id": "oi6foHBCt_wQ",
        "outputId": "69c6f1f2-2fb3-4307-a85b-7a04f2825b11"
      },
      "execution_count": 17,
      "outputs": [
        {
          "output_type": "execute_result",
          "data": {
            "text/plain": [
              "array([-72.        , -72.01054028, -72.01991033, ..., -22.01460345,\n",
              "        10.19912751,  16.65781824])"
            ]
          },
          "metadata": {},
          "execution_count": 17
        }
      ]
    },
    {
      "cell_type": "code",
      "source": [
        "v_thresh = -40\n",
        "np.diff(v['report']['biophysical']['data'][:-10000,1]> v_thresh, prepend=False)"
      ],
      "metadata": {
        "colab": {
          "base_uri": "https://localhost:8080/"
        },
        "id": "CxkFxWNLtXA1",
        "outputId": "303a714d-f5bb-4220-ace8-0b19b86a800e"
      },
      "execution_count": 18,
      "outputs": [
        {
          "output_type": "execute_result",
          "data": {
            "text/plain": [
              "array([], dtype=bool)"
            ]
          },
          "metadata": {},
          "execution_count": 18
        }
      ]
    },
    {
      "cell_type": "code",
      "execution_count": 19,
      "metadata": {
        "id": "JrQxbXCr4vai"
      },
      "outputs": [],
      "source": [
        "spktimes = spks['spikes']['biophysical']['timestamps'][:]\n",
        "spkinds = np.sort((spktimes*10).astype(int))"
      ]
    },
    {
      "cell_type": "code",
      "execution_count": 20,
      "metadata": {
        "id": "7EMfd8Hw4vai"
      },
      "outputs": [],
      "source": [
        "na_df = pd.DataFrame(columns=['segmentID','na_lower_bound'])\n",
        "\n",
        "for p in segs[(segs.Type=='dend')|(segs.Type=='apic')].index:\n",
        "    #print(p)\n",
        "    threshold_crossings = np.diff(na['report']['biophysical']['data'][:,p] > (0.003/1000), prepend=False)\n",
        "    upward_crossings = np.argwhere(threshold_crossings)[::2,0]\n",
        "    downward_crossings = np.argwhere(threshold_crossings)[1::2,0]\n",
        "    # Only count if not within 2 ms after a somatic spike\n",
        "    na_spks = [i for i in upward_crossings if ~np.any((i-spkinds>=-5) & (i-spkinds<50))]\n",
        "    \n",
        "    if len(na_spks)>0:\n",
        "        na_df = na_df.append(pd.DataFrame({'segmentID':np.tile(p,len(na_spks)),\n",
        "                                               'na_lower_bound':na_spks}))\n",
        "    else:\n",
        "        na_df = na_df.append(pd.DataFrame({'segmentID':p,\n",
        "                                               'na_lower_bound':np.array([np.nan])}))"
      ]
    },
    {
      "cell_type": "code",
      "execution_count": 21,
      "metadata": {
        "id": "P_AErLdR4vai",
        "colab": {
          "base_uri": "https://localhost:8080/"
        },
        "outputId": "0bed983d-6036-4064-d2b0-8530e8d9aa5a"
      },
      "outputs": [
        {
          "output_type": "execute_result",
          "data": {
            "text/plain": [
              "RangeIndex(start=0, stop=1124, step=1)"
            ]
          },
          "metadata": {},
          "execution_count": 21
        }
      ],
      "source": [
        "na_df.to_csv('na_df.csv')\n",
        "na_df = pd.read_csv('na_df.csv')\n",
        "\n",
        "\n",
        "na_df.index"
      ]
    },
    {
      "cell_type": "code",
      "source": [
        "\n",
        "display(na_df.to_string())"
      ],
      "metadata": {
        "colab": {
          "base_uri": "https://localhost:8080/",
          "height": 125
        },
        "id": "pSnsZWvzUIlx",
        "outputId": "003ff3d8-a745-4919-eec4-bdd639755f5b"
      },
      "execution_count": 22,
      "outputs": [
        {
          "output_type": "display_data",
          "data": {
            "text/plain": [
              "'      Unnamed: 0  segmentID  na_lower_bound\\n0              0          0           586.0\\n1              1          0           721.0\\n2              2          0           812.0\\n3              3          0           981.0\\n4              4          0          1122.0\\n5              5          0          1386.0\\n6              6          0          1614.0\\n7              7          0          1792.0\\n8              8          0          1986.0\\n9              9          0          2302.0\\n10            10          0          2593.0\\n11            11          0          2986.0\\n12            12          0          3119.0\\n13            13          0          3862.0\\n14            14          0          4493.0\\n15            15          0          4982.0\\n16             0          1           656.0\\n17             1          1           752.0\\n18             2          1           832.0\\n19             3          1           912.0\\n20             4          1          1274.0\\n21             5          1          1485.0\\n22             6          1          1678.0\\n23             7          1          1873.0\\n24             8          1          2157.0\\n25             9          1          2482.0\\n26            10          1          2885.0\\n27            11          1          4288.0\\n28            12          1          4891.0\\n29             0          2           655.0\\n30             1          2           752.0\\n31             2          2           832.0\\n32             3          2           909.0\\n33             4          2          1273.0\\n34             5          2          1483.0\\n35             6          2          1676.0\\n36             7          2          1871.0\\n37             8          2          2156.0\\n38             9          2          2479.0\\n39            10          2          2885.0\\n40            11          2          4287.0\\n41            12          2          4882.0\\n42             0          3           656.0\\n43             1          3           751.0\\n44             2          3           831.0\\n45             3          3           912.0\\n46             4          3          1273.0\\n47             5          3          1485.0\\n48             6          3          1677.0\\n49             7          3          1870.0\\n50             8          3          2156.0\\n51             9          3          2482.0\\n52            10          3          2884.0\\n53            11          3          4287.0\\n54            12          3          4892.0\\n55             0          4           656.0\\n56             1          4           748.0\\n57             2          4           828.0\\n58             3          4           909.0\\n59             4          4          1273.0\\n60             5          4          1483.0\\n61             6          4          1674.0\\n62             7          4          1869.0\\n63             8          4          2152.0\\n64             9          4          2481.0\\n65            10          4          2880.0\\n66            11          4          3317.0\\n67            12          4          4283.0\\n68            13          4          4888.0\\n69             0          5           656.0\\n70             1          5           751.0\\n71             2          5           831.0\\n72             3          5           912.0\\n73             4          5          1274.0\\n74             5          5          1485.0\\n75             6          5          1677.0\\n76             7          5          1872.0\\n77             8          5          2157.0\\n78             9          5          2482.0\\n79            10          5          2884.0\\n80            11          5          4287.0\\n81            12          5          4891.0\\n82             0          6           655.0\\n83             1          6           749.0\\n84             2          6           827.0\\n85             3          6           909.0\\n86             4          6          1273.0\\n87             5          6          1482.0\\n88             6          6          1676.0\\n89             7          6          1869.0\\n90             8          6          2156.0\\n91             9          6          2481.0\\n92            10          6          2882.0\\n93            11          6          4285.0\\n94            12          6          4883.0\\n95             0          7           656.0\\n96             1          7           752.0\\n97             2          7           832.0\\n98             3          7           912.0\\n99             4          7          1273.0\\n100            5          7          1486.0\\n101            6          7          1678.0\\n102            7          7          1871.0\\n103            8          7          2156.0\\n104            9          7          2482.0\\n105           10          7          2885.0\\n106           11          7          4287.0\\n107           12          7          4892.0\\n108            0          8           655.0\\n109            1          8           752.0\\n110            2          8           830.0\\n111            3          8           907.0\\n112            4          8          1269.0\\n113            5          8          1485.0\\n114            6          8          1677.0\\n115            7          8          1862.0\\n116            8          8          2153.0\\n117            9          8          2480.0\\n118           10          8          2884.0\\n119           11          8          4285.0\\n120           12          8          4891.0\\n121            0          9           655.0\\n122            1          9           753.0\\n123            2          9           829.0\\n124            3          9           897.0\\n125            4          9           995.0\\n126            5          9          1273.0\\n127            6          9          1472.0\\n128            7          9          1671.0\\n129            8          9          1865.0\\n130            9          9          2148.0\\n131           10          9          2466.0\\n132           11          9          2884.0\\n133           12          9          3314.0\\n134           13          9          3361.0\\n135           14          9          3425.0\\n136           15          9          4283.0\\n137           16          9          4808.0\\n138            0         10           652.0\\n139            1         10           753.0\\n140            2         10           825.0\\n141            3         10          1272.0\\n142            4         10          1445.0\\n143            5         10          1661.0\\n144            6         10          1859.0\\n145            7         10          2083.0\\n146            8         10          2343.0\\n147            9         10          2393.0\\n148           10         10          2564.0\\n149           11         10          2883.0\\n150           12         10          3189.0\\n151           13         10          3850.0\\n152           14         10          4274.0\\n153           15         10          4433.0\\n154           16         10          4637.0\\n155            0         11           656.0\\n156            1         11           734.0\\n157            2         11           815.0\\n158            3         11           896.0\\n159            4         11          1270.0\\n160            5         11          1471.0\\n161            6         11          1661.0\\n162            7         11          1861.0\\n163            8         11          2143.0\\n164            9         11          2474.0\\n165           10         11          2795.0\\n166           11         11          2837.0\\n167           12         11          3256.0\\n168           13         11          3289.0\\n169           14         11          4203.0\\n170           15         11          4871.0\\n171            0         12           656.0\\n172            1         12           716.0\\n173            2         12          1189.0\\n174            3         12          1441.0\\n175            4         12          1658.0\\n176            5         12          1849.0\\n177            6         12          2101.0\\n178            7         12          2457.0\\n179            8         12          2553.0\\n180            9         12          2705.0\\n181           10         12          2947.0\\n182           11         12          3129.0\\n183           12         12          3545.0\\n184           13         12          3889.0\\n185           14         12          4080.0\\n186           15         12          4539.0\\n187           16         12          4683.0\\n188           17         12          4834.0\\n189           18         12          4953.0\\n190            0         13           651.0\\n191            1         13           740.0\\n192            2         13           814.0\\n193            3         13           894.0\\n194            4         13          1273.0\\n195            5         13          1468.0\\n196            6         13          1670.0\\n197            7         13          1811.0\\n198            8         13          2153.0\\n199            9         13          2472.0\\n200           10         13          2865.0\\n201           11         13          3188.0\\n202           12         13          4275.0\\n203           13         13          4655.0\\n204           14         13          4698.0\\n205           15         13          4814.0\\n206            0         14           646.0\\n207            1         14           720.0\\n208            2         14          1275.0\\n209            3         14          1424.0\\n210            4         14          1660.0\\n211            5         14          1788.0\\n212            6         14          2146.0\\n213            7         14          2456.0\\n214            8         14          2761.0\\n215            9         14          3179.0\\n216           10         14          3907.0\\n217           11         14          4000.0\\n218           12         14          4161.0\\n219           13         14          4552.0\\n220            0         15           651.0\\n221            1         15           751.0\\n222            2         15           821.0\\n223            3         15           893.0\\n224            4         15          1247.0\\n225            5         15          1483.0\\n226            6         15          1675.0\\n227            7         15          1850.0\\n228            8         15          2134.0\\n229            9         15          2385.0\\n230           10         15          2466.0\\n231           11         15          2565.0\\n232           12         15          2628.0\\n233           13         15          2675.0\\n234           14         15          2880.0\\n235           15         15          3336.0\\n236           16         15          3351.0\\n237           17         15          4270.0\\n238           18         15          4872.0\\n239            0         16           544.0\\n240            1         16           643.0\\n241            2         16           748.0\\n242            3         16          1196.0\\n243            4         16          1455.0\\n244            5         16          1665.0\\n245            6         16          1779.0\\n246            7         16          2377.0\\n247            8         16          2549.0\\n248            9         16          2975.0\\n249           10         16          3128.0\\n250           11         16          4167.0\\n251           12         16          4258.0\\n252           13         16          4391.0\\n253           14         16          4642.0\\n254           15         16          4691.0\\n255           16         16          4805.0\\n256            0         17           645.0\\n257            1         17           752.0\\n258            2         17          1434.0\\n259            3         17          1655.0\\n260            4         17          1852.0\\n261            5         17          2065.0\\n262            6         17          2332.0\\n263            7         17          2882.0\\n264            8         17          3120.0\\n265            9         17          3829.0\\n266           10         17          4217.0\\n267           11         17          4392.0\\n268           12         17          4599.0\\n269            0         18           645.0\\n270            1         18           753.0\\n271            2         18          1429.0\\n272            3         18          1646.0\\n273            4         18          1852.0\\n274            5         18          2058.0\\n275            6         18          2328.0\\n276            7         18          2878.0\\n277            8         18          3012.0\\n278            9         18          3036.0\\n279           10         18          3113.0\\n280           11         18          3664.0\\n281           12         18          3823.0\\n282           13         18          4117.0\\n283           14         18          4380.0\\n284            0         19           646.0\\n285            1         19          1427.0\\n286            2         19          1642.0\\n287            3         19          1850.0\\n288            4         19          2054.0\\n289            5         19          2325.0\\n290            6         19          2882.0\\n291            7         19          3008.0\\n292            8         19          3032.0\\n293            9         19          3824.0\\n294           10         19          4106.0\\n295           11         19          4376.0\\n296            0         20           644.0\\n297            1         20          1426.0\\n298            2         20          1637.0\\n299            3         20          1851.0\\n300            4         20          2053.0\\n301            5         20          2323.0\\n302            6         20          2884.0\\n303            7         20          3007.0\\n304            8         20          3825.0\\n305            9         20          4103.0\\n306           10         20          4375.0\\n307            0         21           655.0\\n308            1         21          1193.0\\n309            2         21          1437.0\\n310            3         21          1649.0\\n311            4         21          1811.0\\n312            5         21          2073.0\\n313            6         21          2369.0\\n314            7         21          2694.0\\n315            8         21          3119.0\\n316            9         21          3830.0\\n317           10         21          4510.0\\n318           11         21          4662.0\\n319           12         21          4808.0\\n320            0         22           652.0\\n321            1         22          1200.0\\n322            2         22          1435.0\\n323            3         22          1648.0\\n324            4         22          1803.0\\n325            5         22          2057.0\\n326            6         22          2331.0\\n327            7         22          2689.0\\n328            8         22          3677.0\\n329            9         22          3741.0\\n330           10         22          3803.0\\n331           11         22          4501.0\\n332           12         22          4661.0\\n333            0         23           643.0\\n334            1         23          1204.0\\n335            2         23          1432.0\\n336            3         23          1643.0\\n337            4         23          1805.0\\n338            5         23          2042.0\\n339            6         23          2326.0\\n340            7         23          2687.0\\n341            8         23          3672.0\\n342            9         23          3725.0\\n343           10         23          3796.0\\n344           11         23          4498.0\\n345           12         23          4662.0\\n346            0         24           632.0\\n347            1         24          1204.0\\n348            2         24          1402.0\\n349            3         24          1613.0\\n350            4         24          1638.0\\n351            5         24          1805.0\\n352            6         24          2040.0\\n353            7         24          2317.0\\n354            8         24          2678.0\\n355            9         24          3663.0\\n356           10         24          3668.0\\n357           11         24          3723.0\\n358           12         24          4495.0\\n359           13         24          4662.0\\n360           14         24          4825.0\\n361            0         25           639.0\\n362            1         25          1389.0\\n363            2         25          1646.0\\n364            3         25          1787.0\\n365            4         25          2100.0\\n366            5         25          2141.0\\n367            6         25          2323.0\\n368            7         25          2386.0\\n369            8         25          2449.0\\n370            9         25          2563.0\\n371           10         25          2759.0\\n372           11         25          3031.0\\n373           12         25          3176.0\\n374           13         25          3817.0\\n375           14         25          3891.0\\n376           15         25          4379.0\\n377           16         25          4525.0\\n378            0         26           635.0\\n379            1         26          1375.0\\n380            2         26          1641.0\\n381            3         26          1788.0\\n382            4         26          2071.0\\n383            5         26          2294.0\\n384            6         26          2447.0\\n385            7         26          2759.0\\n386            8         26          3022.0\\n387            9         26          3165.0\\n388           10         26          3790.0\\n389           11         26          4362.0\\n390           12         26          4519.0\\n391            0         27           624.0\\n392            1         27          1130.0\\n393            2         27          1635.0\\n394            3         27          1789.0\\n395            4         27          2068.0\\n396            5         27          2290.0\\n397            6         27          2449.0\\n398            7         27          2761.0\\n399            8         27          3269.0\\n400            9         27          3792.0\\n401           10         27          4507.0\\n402            0         28           613.0\\n403            1         28          1116.0\\n404            2         28          1126.0\\n405            3         28          1373.0\\n406            4         28          1638.0\\n407            5         28          1788.0\\n408            6         28          2069.0\\n409            7         28          2288.0\\n410            8         28          2455.0\\n411            9         28          2764.0\\n412           10         28          3282.0\\n413           11         28          3797.0\\n414           12         28          3809.0\\n415           13         28          4506.0\\n416            0         29           532.0\\n417            1         29           626.0\\n418            2         29          1191.0\\n419            3         29          1484.0\\n420            4         29          1651.0\\n421            5         29          1773.0\\n422            6         29          2375.0\\n423            7         29          2546.0\\n424            8         29          3123.0\\n425            9         29          3968.0\\n426           10         29          4137.0\\n427           11         29          4385.0\\n428           12         29          4579.0\\n429            0         30           527.0\\n430            1         30           616.0\\n431            2         30          1187.0\\n432            3         30          1643.0\\n433            4         30          1755.0\\n434            5         30          2380.0\\n435            6         30          2547.0\\n436            7         30          3122.0\\n437            8         30          3963.0\\n438            9         30          4142.0\\n439           10         30          4579.0\\n440            0         31           524.0\\n441            1         31           613.0\\n442            2         31          1185.0\\n443            3         31          1599.0\\n444            4         31          1636.0\\n445            5         31          2234.0\\n446            6         31          2326.0\\n447            7         31          2382.0\\n448            8         31          2549.0\\n449            9         31          3079.0\\n450           10         31          3128.0\\n451           11         31          3961.0\\n452           12         31          4144.0\\n453           13         31          4580.0\\n454            0         32           520.0\\n455            1         32          1098.0\\n456            2         32          1108.0\\n457            3         32          1184.0\\n458            4         32          1590.0\\n459            5         32          2329.0\\n460            6         32          2382.0\\n461            7         32          2549.0\\n462            8         32          3080.0\\n463            9         32          3129.0\\n464           10         32          3914.0\\n465           11         32          3935.0\\n466           12         32          3959.0\\n467           13         32          4146.0\\n468           14         32          4580.0\\n469            0         33           656.0\\n470            1         33           750.0\\n471            2         33           829.0\\n472            3         33           906.0\\n473            4         33          1274.0\\n474            5         33          1486.0\\n475            6         33          1677.0\\n476            7         33          1873.0\\n477            8         33          2156.0\\n478            9         33          2481.0\\n479           10         33          2883.0\\n480           11         33          4287.0\\n481           12         33          4892.0\\n482            0         34           656.0\\n483            1         34           743.0\\n484            2         34           819.0\\n485            3         34          1274.0\\n486            4         34          1485.0\\n487            5         34          1675.0\\n488            6         34          1871.0\\n489            7         34          2152.0\\n490            8         34          2476.0\\n491            9         34          2879.0\\n492           10         34          4286.0\\n493           11         34          4891.0\\n494            0         35           656.0\\n495            1         35           735.0\\n496            2         35          1274.0\\n497            3         35          1484.0\\n498            4         35          1671.0\\n499            5         35          1868.0\\n500            6         35          2141.0\\n501            7         35          2465.0\\n502            8         35          2866.0\\n503            9         35          4282.0\\n504           10         35          4890.0\\n505            0         36           725.0\\n506            1         36          1273.0\\n507            2         36          1482.0\\n508            3         36          1665.0\\n509            4         36          1862.0\\n510            5         36          2107.0\\n511            6         36          2414.0\\n512            7         36          2817.0\\n513            8         36          4277.0\\n514            9         36          4888.0\\n515            0         37           713.0\\n516            1         37          1273.0\\n517            2         37          1478.0\\n518            3         37          1655.0\\n519            4         37          1855.0\\n520            5         37          2087.0\\n521            6         37          2352.0\\n522            7         37          2732.0\\n523            8         37          4272.0\\n524            9         37          4884.0\\n525            0         38          1478.0\\n526            1         38          1650.0\\n527            2         38          1843.0\\n528            3         38          2079.0\\n529            4         38          2331.0\\n530            5         38          2682.0\\n531            6         38          3234.0\\n532            7         38          3431.0\\n533            8         38          4257.0\\n534            9         38          4877.0\\n535            0         39           656.0\\n536            1         39          1484.0\\n537            2         39          1650.0\\n538            3         39          1836.0\\n539            4         39          2076.0\\n540            5         39          2324.0\\n541            6         39          2664.0\\n542            7         39          2972.0\\n543            8         39          3009.0\\n544            9         39          3019.0\\n545           10         39          3199.0\\n546           11         39          4253.0\\n547           12         39          4680.0\\n548           13         39          4852.0\\n549            0         40           656.0\\n550            1         40          1650.0\\n551            2         40          1831.0\\n552            3         40          2038.0\\n553            4         40          2322.0\\n554            5         40          2656.0\\n555            6         40          3194.0\\n556            7         40          3495.0\\n557            8         40          4228.0\\n558            9         40          4651.0\\n559           10         40          4835.0\\n560            0         41          1650.0\\n561            1         41          1826.0\\n562            2         41          2032.0\\n563            3         41          2320.0\\n564            4         41          2645.0\\n565            5         41          3193.0\\n566            6         41          3535.0\\n567            7         41          3573.0\\n568            8         41          4213.0\\n569            9         41          4640.0\\n570           10         41          4823.0\\n571            0         42          1650.0\\n572            1         42          1810.0\\n573            2         42          2031.0\\n574            3         42          2320.0\\n575            4         42          2640.0\\n576            5         42          3192.0\\n577            6         42          4025.0\\n578            7         42          4209.0\\n579            8         42          4614.0\\n580            9         42          4819.0\\n581            0         43          1651.0\\n582            1         43          1809.0\\n583            2         43          2030.0\\n584            3         43          2319.0\\n585            4         43          2596.0\\n586            5         43          2639.0\\n587            6         43          3192.0\\n588            7         43          4023.0\\n589            8         43          4208.0\\n590            9         43          4608.0\\n591           10         43          4817.0\\n592            0         44           656.0\\n593            1         44          1274.0\\n594            2         44          1474.0\\n595            3         44          1649.0\\n596            4         44          1850.0\\n597            5         44          2079.0\\n598            6         44          2328.0\\n599            7         44          2690.0\\n600            8         44          3205.0\\n601            9         44          3425.0\\n602           10         44          4262.0\\n603           11         44          4877.0\\n604            0         45           652.0\\n605            1         45          1482.0\\n606            2         45          1649.0\\n607            3         45          1853.0\\n608            4         45          2079.0\\n609            5         45          2316.0\\n610            6         45          2668.0\\n611            7         45          3136.0\\n612            8         45          4226.0\\n613            9         45          4866.0\\n614            0         46           643.0\\n615            1         46          1486.0\\n616            2         46          1648.0\\n617            3         46          1854.0\\n618            4         46          2078.0\\n619            5         46          2313.0\\n620            6         46          2663.0\\n621            7         46          3112.0\\n622            8         46          4218.0\\n623            9         46          4662.0\\n624           10         46          4846.0\\n625            0         47           637.0\\n626            1         47          1652.0\\n627            2         47          1855.0\\n628            3         47          2078.0\\n629            4         47          2310.0\\n630            5         47          2661.0\\n631            6         47          3104.0\\n632            7         47          3542.0\\n633            8         47          3966.0\\n634            9         47          4197.0\\n635           10         47          4589.0\\n636           11         47          4654.0\\n637           12         47          4837.0\\n638            0         48           633.0\\n639            1         48          1656.0\\n640            2         48          1856.0\\n641            3         48          2079.0\\n642            4         48          2311.0\\n643            5         48          2660.0\\n644            6         48          3539.0\\n645            7         48          3965.0\\n646            8         48          4185.0\\n647            9         48          4587.0\\n648           10         48          4641.0\\n649           11         48          4802.0\\n650           12         48          4832.0\\n651           13         48          4987.0\\n652            0         49           632.0\\n653            1         49          1658.0\\n654            2         49          1857.0\\n655            3         49          2079.0\\n656            4         49          2312.0\\n657            5         49          2660.0\\n658            6         49          3539.0\\n659            7         49          3965.0\\n660            8         49          4182.0\\n661            9         49          4510.0\\n662           10         49          4586.0\\n663           11         49          4827.0\\n664            0         50           656.0\\n665            1         50          1476.0\\n666            2         50          1653.0\\n667            3         50          1849.0\\n668            4         50          2079.0\\n669            5         50          2322.0\\n670            6         50          2685.0\\n671            7         50          3231.0\\n672            8         50          3339.0\\n673            9         50          3428.0\\n674           10         50          4267.0\\n675           11         50          4874.0\\n676            0         51           654.0\\n677            1         51          1479.0\\n678            2         51          1660.0\\n679            3         51          1848.0\\n680            4         51          2077.0\\n681            5         51          2304.0\\n682            6         51          2675.0\\n683            7         51          3006.0\\n684            8         51          3199.0\\n685            9         51          3580.0\\n686           10         51          4262.0\\n687           11         51          4865.0\\n688            0         52           653.0\\n689            1         52          1484.0\\n690            2         52          1666.0\\n691            3         52          1849.0\\n692            4         52          2075.0\\n693            5         52          2275.0\\n694            6         52          2671.0\\n695            7         52          3001.0\\n696            8         52          3135.0\\n697            9         52          3527.0\\n698           10         52          3547.0\\n699           11         52          4253.0\\n700           12         52          4663.0\\n701           13         52          4821.0\\n702            0         53           652.0\\n703            1         53          1487.0\\n704            2         53          1670.0\\n705            3         53          1850.0\\n706            4         53          1991.0\\n707            5         53          2073.0\\n708            6         53          2269.0\\n709            7         53          2670.0\\n710            8         53          3521.0\\n711            9         53          4233.0\\n712           10         53          4653.0\\n713           11         53          4814.0\\n714            0         54           652.0\\n715            1         54          1407.0\\n716            2         54          1673.0\\n717            3         54          1849.0\\n718            4         54          1989.0\\n719            5         54          2072.0\\n720            6         54          2267.0\\n721            7         54          2668.0\\n722            8         54          3518.0\\n723            9         54          4205.0\\n724           10         54          4651.0\\n725           11         54          4754.0\\n726           12         54          4811.0\\n727            0         55           652.0\\n728            1         55          1411.0\\n729            2         55          1674.0\\n730            3         55          1850.0\\n731            4         55          1988.0\\n732            5         55          2070.0\\n733            6         55          2266.0\\n734            7         55          2666.0\\n735            8         55          3518.0\\n736            9         55          3909.0\\n737           10         55          4202.0\\n738           11         55          4648.0\\n739           12         55          4811.0\\n740           13         55          4987.0\\n741            0         56          1275.0\\n742            1         56          1474.0\\n743            2         56          1640.0\\n744            3         56          1846.0\\n745            4         56          2074.0\\n746            5         56          2302.0\\n747            6         56          2686.0\\n748            7         56          3206.0\\n749            8         56          3378.0\\n750            9         56          4266.0\\n751           10         56          4877.0\\n752            0         57           656.0\\n753            1         57          1471.0\\n754            2         57          1632.0\\n755            3         57          1830.0\\n756            4         57          2042.0\\n757            5         57          2288.0\\n758            6         57          2664.0\\n759            7         57          3105.0\\n760            8         57          3586.0\\n761            9         57          4258.0\\n762           10         57          4869.0\\n763           11         57          4978.0\\n764            0         58           655.0\\n765            1         58          1474.0\\n766            2         58          1629.0\\n767            3         58          1806.0\\n768            4         58          1978.0\\n769            5         58          2635.0\\n770            6         58          3099.0\\n771            7         58          3577.0\\n772            8         58          3886.0\\n773            9         58          4229.0\\n774           10         58          4655.0\\n775           11         58          4847.0\\n776            0         59           654.0\\n777            1         59          1383.0\\n778            2         59          1440.0\\n779            3         59          1628.0\\n780            4         59          1765.0\\n781            5         59          1974.0\\n782            6         59          2600.0\\n783            7         59          3097.0\\n784            8         59          3564.0\\n785            9         59          3881.0\\n786           10         59          4220.0\\n787           11         59          4515.0\\n788           12         59          4649.0\\n789           13         59          4835.0\\n790            0         60           653.0\\n791            1         60          1377.0\\n792            2         60          1626.0\\n793            3         60          1751.0\\n794            4         60          1949.0\\n795            5         60          1965.0\\n796            6         60          3558.0\\n797            7         60          3879.0\\n798            8         60          4211.0\\n799            9         60          4493.0\\n800           10         60          4618.0\\n801           11         60          4827.0\\n802            0         61           652.0\\n803            1         61          1373.0\\n804            2         61          1627.0\\n805            3         61          1751.0\\n806            4         61          1942.0\\n807            5         61          3557.0\\n808            6         61          3878.0\\n809            7         61          4205.0\\n810            8         61          4488.0\\n811            9         61          4610.0\\n812           10         61          4823.0\\n813            0         62          1263.0\\n814            1         62          1452.0\\n815            2         62          1645.0\\n816            3         62          1841.0\\n817            4         62          2075.0\\n818            5         62          2320.0\\n819            6         62          2684.0\\n820            7         62          3237.0\\n821            8         62          4272.0\\n822            9         62          4885.0\\n823            0         63          1230.0\\n824            1         63          1406.0\\n825            2         63          1636.0\\n826            3         63          1810.0\\n827            4         63          1998.0\\n828            5         63          2301.0\\n829            6         63          2656.0\\n830            7         63          3203.0\\n831            8         63          4277.0\\n832            9         63          4891.0\\n833            0         64          1136.0\\n834            1         64          1387.0\\n835            2         64          1623.0\\n836            3         64          1773.0\\n837            4         64          1973.0\\n838            5         64          3134.0\\n839            6         64          4284.0\\n840            0         65          1362.0\\n841            1         65          1591.0\\n842            0         66             NaN\\n843            0         67             NaN\\n844            0         68             NaN\\n845            0         69             NaN\\n846            0         70             NaN\\n847            0         71             NaN\\n848            0         72           656.0\\n849            0         73           655.0\\n850            1         73           902.0\\n851            0         74           653.0\\n852            0         75           651.0\\n853            0         76           648.0\\n854            1         76           986.0\\n855            0         77           646.0\\n856            1         77          1022.0\\n857            0         78           644.0\\n858            1         78          1067.0\\n859            0         79           641.0\\n860            1         79          1110.0\\n861            0         80           638.0\\n862            1         80          1331.0\\n863            0         81           634.0\\n864            1         81          1548.0\\n865            0         82           630.0\\n866            1         82          1760.0\\n867            0         83           626.0\\n868            1         83          1949.0\\n869            0         84           622.0\\n870            1         84          2001.0\\n871            0         85           618.0\\n872            1         85          2228.0\\n873            0         86           614.0\\n874            1         86          2249.0\\n875            0         87           609.0\\n876            1         87          2324.0\\n877            0         88           605.0\\n878            1         88          2545.0\\n879            0         89           601.0\\n880            1         89          2566.0\\n881            2         89          3492.0\\n882            3         89          4032.0\\n883            4         89          4723.0\\n884            0         90           597.0\\n885            1         90          2598.0\\n886            2         90          3879.0\\n887            0         91           594.0\\n888            1         91          2643.0\\n889            0         92           593.0\\n890            1         92          2851.0\\n891            2         92          2965.0\\n892            0         93           592.0\\n893            1         93          3052.0\\n894            0         94           591.0\\n895            1         94          3096.0\\n896            2         94          3209.0\\n897            0         95           586.0\\n898            1         95          2628.0\\n899            0         96           573.0\\n900            1         96          2731.0\\n901            2         96          2825.0\\n902            0         97           567.0\\n903            1         97          2835.0\\n904            2         97          2973.0\\n905            0         98           563.0\\n906            1         98          2846.0\\n907            2         98          3070.0\\n908            0         99           590.0\\n909            1         99          2625.0\\n910            0        100           583.0\\n911            1        100          2833.0\\n912            2        100          2956.0\\n913            0        101           580.0\\n914            1        101          3076.0\\n915            0        102           576.0\\n916            1        102          3087.0\\n917            2        102          3186.0\\n918            3        102          3286.0\\n919            0        103           593.0\\n920            1        103          2664.0\\n921            0        104           591.0\\n922            1        104          2857.0\\n923            2        104          2957.0\\n924            0        105           589.0\\n925            1        105          3074.0\\n926            0        106           586.0\\n927            1        106          3109.0\\n928            0        107           588.0\\n929            1        107          3260.0\\n930            0        108           587.0\\n931            1        108          3294.0\\n932            0        109           586.0\\n933            1        109          3298.0\\n934            2        109          3651.0\\n935            3        109          3692.0\\n936            0        110           587.0\\n937            1        110          3315.0\\n938            2        110          3447.0\\n939            3        110          3724.0\\n940            4        110          3834.0\\n941            5        110          3988.0\\n942            6        110          4033.0\\n943            7        110          4223.0\\n944            8        110          4487.0\\n945            9        110          4661.0\\n946           10        110          4796.0\\n947           11        110          4875.0\\n948            0        111           587.0\\n949            1        111          4048.0\\n950            0        112           585.0\\n951            1        112          2669.0\\n952            0        113           583.0\\n953            0        114           559.0\\n954            1        114          3086.0\\n955            2        114          3195.0\\n956            0        115           550.0\\n957            1        115          3259.0\\n958            0        116           538.0\\n959            1        116          3335.0\\n960            0        117           536.0\\n961            1        117          3511.0\\n962            2        117          4183.0\\n963            3        117          4980.0\\n964            0        118           538.0\\n965            1        118          3529.0\\n966            2        118          3812.0\\n967            3        118          4477.0\\n968            0        119           542.0\\n969            1        119          3570.0\\n970            2        119          3943.0\\n971            0        120           548.0\\n972            1        120          3572.0\\n973            0        121           555.0\\n974            1        121           570.0\\n975            2        121          3095.0\\n976            3        121          3243.0\\n977            4        121          3301.0\\n978            0        122           550.0\\n979            1        122          3304.0\\n980            0        123           546.0\\n981            1        123          1550.0\\n982            2        123          3306.0\\n983            3        123          3560.0\\n984            0        124           543.0\\n985            1        124          1544.0\\n986            2        124          3360.0\\n987            3        124          3454.0\\n988            4        124          3642.0\\n989            5        124          3803.0\\n990            6        124          3928.0\\n991            7        124          4102.0\\n992            8        124          4259.0\\n993            0        125           546.0\\n994            1        125          3367.0\\n995            2        125          3458.0\\n996            3        125          4676.0\\n997            0        126           552.0\\n998            1        126          3458.0\\n999            2        126          4750.0\\n1000           0        127           554.0\\n1001           1        127          1608.0\\n1002           2        127          4758.0\\n1003           0        128           580.0\\n1004           1        128          3165.0\\n1005           0        129           571.0\\n1006           1        129          3176.0\\n1007           0        130           563.0\\n1008           1        130          3267.0\\n1009           2        130          3285.0\\n1010           3        130          3354.0\\n1011           4        130          3438.0\\n1012           5        130          4800.0\\n1013           6        130          4859.0\\n1014           0        131           554.0\\n1015           1        131          4175.0\\n1016           2        131          4447.0\\n1017           0        132           557.0\\n1018           1        132          4282.0\\n1019           0        133           558.0\\n1020           0        134           558.0\\n1021           0        135           578.0\\n1022           0        136           573.0\\n1023           0        137           568.0\\n1024           0        138           563.0\\n1025           0        139           556.0\\n1026           1        139          1073.0\\n1027           2        139          1141.0\\n1028           3        139          1573.0\\n1029           4        139          3245.0\\n1030           0        140           552.0\\n1031           1        140          1079.0\\n1032           2        140          1573.0\\n1033           0        141           544.0\\n1034           1        141          1088.0\\n1035           2        141          1572.0\\n1036           3        141          3057.0\\n1037           0        142           555.0\\n1038           0        143           561.0\\n1039           0        144           565.0\\n1040           1        144          1059.0\\n1041           0        145           567.0\\n1042           1        145           823.0\\n1043           2        145          1050.0\\n1044           3        145          1130.0\\n1045           0        146           569.0\\n1046           1        146           811.0\\n1047           2        146          1055.0\\n1048           3        146          1143.0\\n1049           4        146          2094.0\\n1050           0        147           570.0\\n1051           1        147          1057.0\\n1052           2        147          2092.0\\n1053           3        147          4357.0\\n1054           0        148           570.0\\n1055           1        148          1064.0\\n1056           2        148          2103.0\\n1057           3        148          4365.0\\n1058           0        149           556.0\\n1059           1        149          1598.0\\n1060           0        150           556.0\\n1061           1        150          1600.0\\n1062           0        151           555.0\\n1063           1        151           625.0\\n1064           2        151          1598.0\\n1065           3        151          1872.0\\n1066           0        152           556.0\\n1067           1        152           654.0\\n1068           2        152          1031.0\\n1069           3        152          1584.0\\n1070           0        153           555.0\\n1071           1        153          1016.0\\n1072           2        153          1483.0\\n1073           3        153          1574.0\\n1074           0        154           554.0\\n1075           1        154          1010.0\\n1076           2        154          1480.0\\n1077           3        154          1831.0\\n1078           4        154          4420.0\\n1079           0        155           551.0\\n1080           1        155          1006.0\\n1081           2        155          1481.0\\n1082           3        155          1834.0\\n1083           0        156           556.0\\n1084           0        157           553.0\\n1085           0        158           550.0\\n1086           0        159           551.0\\n1087           0        160           551.0\\n1088           0        161           549.0\\n1089           0        162           547.0\\n1090           1        162          2244.0\\n1091           0        163           558.0\\n1092           1        163           715.0\\n1093           2        163           976.0\\n1094           3        163          1360.0\\n1095           4        163          1581.0\\n1096           5        163          1766.0\\n1097           6        163          1959.0\\n1098           7        163          2243.0\\n1099           8        163          2558.0\\n1100           9        163          2958.0\\n1101          10        163          4376.0\\n1102          11        163          4965.0\\n1103           0        164           558.0\\n1104           1        164           717.0\\n1105           2        164           812.0\\n1106           3        164           891.0\\n1107           4        164           982.0\\n1108           5        164          1364.0\\n1109           6        164          1585.0\\n1110           7        164          1771.0\\n1111           8        164          1963.0\\n1112           9        164          2248.0\\n1113          10        164          2561.0\\n1114          11        164          2961.0\\n1115          12        164          4381.0\\n1116          13        164          4968.0\\n1117           0        165             NaN\\n1118           0        166             NaN\\n1119           0        167             NaN\\n1120           0        168             NaN\\n1121           0        169             NaN\\n1122           0        170             NaN\\n1123           0        171             NaN'"
            ],
            "application/vnd.google.colaboratory.intrinsic+json": {
              "type": "string"
            }
          },
          "metadata": {}
        }
      ]
    },
    {
      "cell_type": "code",
      "execution_count": 23,
      "metadata": {
        "id": "b7lOX8Uq4vai"
      },
      "outputs": [],
      "source": [
        "for i in np.random.choice(na_df[(na_df.na_lower_bound>20) & (na_df.na_lower_bound<1400000)].index,10):\n",
        "    seg = na_df.loc[i,'segmentID']\n",
        "    if not pd.isnull(na_df.loc[i,'na_lower_bound']):\n",
        "        spkt = int(na_df.loc[i,'na_lower_bound'])\n",
        "        trace = na['report']['biophysical']['data'][spkt-10:spkt+10,seg]\n",
        "        peak_value = np.max(trace)\n",
        "        half_peak = peak_value/2\n",
        "        \n",
        "        duration = np.arange(0,20)[trace>half_peak] + spkt - 10\n",
        "        na_df.loc[i,'duration_low'] = duration[0]\n",
        "        na_df.loc[i,'duration_high'] = duration[-1]\n",
        "        na_df.loc[i,'peak_value'] = peak_value\n",
        "    else:\n",
        "        na_df.loc[i,'duration_low'] = np.nan\n",
        "        na_df.loc[i,'duration_high'] = np.nan\n",
        "        na_df.loc[i,'peak_value'] = np.nan"
      ]
    },
    {
      "cell_type": "code",
      "execution_count": 24,
      "metadata": {
        "id": "BI9Bf8hl4vai"
      },
      "outputs": [],
      "source": [
        "na_df['duration'] = (na_df['duration_high'] - na_df['duration_low'] + 1)/10"
      ]
    },
    {
      "cell_type": "code",
      "execution_count": 25,
      "metadata": {
        "id": "FnJPbRFl4vaj",
        "colab": {
          "base_uri": "https://localhost:8080/",
          "height": 592
        },
        "outputId": "4a1ffc2c-ede6-4fa5-9fd2-bd39e868f4ea"
      },
      "outputs": [
        {
          "output_type": "execute_result",
          "data": {
            "text/plain": [
              "      index  Type  Sec ID  BMTK ID      X  Distance       Coord X  Coord Y  \\\n",
              "0         0  apic      13       32  0.875      10.0  0.000000e+00      0.0   \n",
              "1         0  apic      13       32  0.875      10.0  0.000000e+00      0.0   \n",
              "2         0  apic      13       32  0.875      10.0  0.000000e+00      0.0   \n",
              "3         0  apic      13       32  0.875      10.0  0.000000e+00      0.0   \n",
              "4         0  apic      13       32  0.875      10.0  0.000000e+00      0.0   \n",
              "...     ...   ...     ...      ...    ...       ...           ...      ...   \n",
              "1025    139  apic      36      171  0.250      55.0 -8.266366e-15      0.0   \n",
              "1026    139  apic      36      171  0.250      55.0 -8.266366e-15      0.0   \n",
              "1027    139  apic      36      171  0.250      55.0 -8.266366e-15      0.0   \n",
              "1028    139  apic      36      171  0.250      55.0 -8.266366e-15      0.0   \n",
              "1029    139  apic      36      171  0.250      55.0 -8.266366e-15      0.0   \n",
              "\n",
              "      Coord Z  Elec_distance  segmentID  Degrees Elec_distanceQ  Unnamed: 0  \\\n",
              "0         0.0       0.999988          1        0              9           0   \n",
              "1         0.0       0.999988          1        0              9           1   \n",
              "2         0.0       0.999988          1        0              9           2   \n",
              "3         0.0       0.999988          1        0              9           3   \n",
              "4         0.0       0.999988          1        0              9           4   \n",
              "...       ...            ...        ...      ...            ...         ...   \n",
              "1025    -45.0       0.672286          2        0              8           0   \n",
              "1026    -45.0       0.672286          2        0              8           1   \n",
              "1027    -45.0       0.672286          2        0              8           2   \n",
              "1028    -45.0       0.672286          2        0              8           3   \n",
              "1029    -45.0       0.672286          2        0              8           4   \n",
              "\n",
              "      na_lower_bound  duration_low  duration_high  peak_value  duration  \n",
              "0              586.0           NaN            NaN         NaN       NaN  \n",
              "1              721.0           NaN            NaN         NaN       NaN  \n",
              "2              812.0           NaN            NaN         NaN       NaN  \n",
              "3              981.0           NaN            NaN         NaN       NaN  \n",
              "4             1122.0           NaN            NaN         NaN       NaN  \n",
              "...              ...           ...            ...         ...       ...  \n",
              "1025           556.0           NaN            NaN         NaN       NaN  \n",
              "1026          1073.0           NaN            NaN         NaN       NaN  \n",
              "1027          1141.0           NaN            NaN         NaN       NaN  \n",
              "1028          1573.0           NaN            NaN         NaN       NaN  \n",
              "1029          3245.0           NaN            NaN         NaN       NaN  \n",
              "\n",
              "[1024 rows x 19 columns]"
            ],
            "text/html": [
              "\n",
              "  <div id=\"df-2fde612f-555b-4917-85d9-ed8e3b4e96f9\">\n",
              "    <div class=\"colab-df-container\">\n",
              "      <div>\n",
              "<style scoped>\n",
              "    .dataframe tbody tr th:only-of-type {\n",
              "        vertical-align: middle;\n",
              "    }\n",
              "\n",
              "    .dataframe tbody tr th {\n",
              "        vertical-align: top;\n",
              "    }\n",
              "\n",
              "    .dataframe thead th {\n",
              "        text-align: right;\n",
              "    }\n",
              "</style>\n",
              "<table border=\"1\" class=\"dataframe\">\n",
              "  <thead>\n",
              "    <tr style=\"text-align: right;\">\n",
              "      <th></th>\n",
              "      <th>index</th>\n",
              "      <th>Type</th>\n",
              "      <th>Sec ID</th>\n",
              "      <th>BMTK ID</th>\n",
              "      <th>X</th>\n",
              "      <th>Distance</th>\n",
              "      <th>Coord X</th>\n",
              "      <th>Coord Y</th>\n",
              "      <th>Coord Z</th>\n",
              "      <th>Elec_distance</th>\n",
              "      <th>segmentID</th>\n",
              "      <th>Degrees</th>\n",
              "      <th>Elec_distanceQ</th>\n",
              "      <th>Unnamed: 0</th>\n",
              "      <th>na_lower_bound</th>\n",
              "      <th>duration_low</th>\n",
              "      <th>duration_high</th>\n",
              "      <th>peak_value</th>\n",
              "      <th>duration</th>\n",
              "    </tr>\n",
              "  </thead>\n",
              "  <tbody>\n",
              "    <tr>\n",
              "      <th>0</th>\n",
              "      <td>0</td>\n",
              "      <td>apic</td>\n",
              "      <td>13</td>\n",
              "      <td>32</td>\n",
              "      <td>0.875</td>\n",
              "      <td>10.0</td>\n",
              "      <td>0.000000e+00</td>\n",
              "      <td>0.0</td>\n",
              "      <td>0.0</td>\n",
              "      <td>0.999988</td>\n",
              "      <td>1</td>\n",
              "      <td>0</td>\n",
              "      <td>9</td>\n",
              "      <td>0</td>\n",
              "      <td>586.0</td>\n",
              "      <td>NaN</td>\n",
              "      <td>NaN</td>\n",
              "      <td>NaN</td>\n",
              "      <td>NaN</td>\n",
              "    </tr>\n",
              "    <tr>\n",
              "      <th>1</th>\n",
              "      <td>0</td>\n",
              "      <td>apic</td>\n",
              "      <td>13</td>\n",
              "      <td>32</td>\n",
              "      <td>0.875</td>\n",
              "      <td>10.0</td>\n",
              "      <td>0.000000e+00</td>\n",
              "      <td>0.0</td>\n",
              "      <td>0.0</td>\n",
              "      <td>0.999988</td>\n",
              "      <td>1</td>\n",
              "      <td>0</td>\n",
              "      <td>9</td>\n",
              "      <td>1</td>\n",
              "      <td>721.0</td>\n",
              "      <td>NaN</td>\n",
              "      <td>NaN</td>\n",
              "      <td>NaN</td>\n",
              "      <td>NaN</td>\n",
              "    </tr>\n",
              "    <tr>\n",
              "      <th>2</th>\n",
              "      <td>0</td>\n",
              "      <td>apic</td>\n",
              "      <td>13</td>\n",
              "      <td>32</td>\n",
              "      <td>0.875</td>\n",
              "      <td>10.0</td>\n",
              "      <td>0.000000e+00</td>\n",
              "      <td>0.0</td>\n",
              "      <td>0.0</td>\n",
              "      <td>0.999988</td>\n",
              "      <td>1</td>\n",
              "      <td>0</td>\n",
              "      <td>9</td>\n",
              "      <td>2</td>\n",
              "      <td>812.0</td>\n",
              "      <td>NaN</td>\n",
              "      <td>NaN</td>\n",
              "      <td>NaN</td>\n",
              "      <td>NaN</td>\n",
              "    </tr>\n",
              "    <tr>\n",
              "      <th>3</th>\n",
              "      <td>0</td>\n",
              "      <td>apic</td>\n",
              "      <td>13</td>\n",
              "      <td>32</td>\n",
              "      <td>0.875</td>\n",
              "      <td>10.0</td>\n",
              "      <td>0.000000e+00</td>\n",
              "      <td>0.0</td>\n",
              "      <td>0.0</td>\n",
              "      <td>0.999988</td>\n",
              "      <td>1</td>\n",
              "      <td>0</td>\n",
              "      <td>9</td>\n",
              "      <td>3</td>\n",
              "      <td>981.0</td>\n",
              "      <td>NaN</td>\n",
              "      <td>NaN</td>\n",
              "      <td>NaN</td>\n",
              "      <td>NaN</td>\n",
              "    </tr>\n",
              "    <tr>\n",
              "      <th>4</th>\n",
              "      <td>0</td>\n",
              "      <td>apic</td>\n",
              "      <td>13</td>\n",
              "      <td>32</td>\n",
              "      <td>0.875</td>\n",
              "      <td>10.0</td>\n",
              "      <td>0.000000e+00</td>\n",
              "      <td>0.0</td>\n",
              "      <td>0.0</td>\n",
              "      <td>0.999988</td>\n",
              "      <td>1</td>\n",
              "      <td>0</td>\n",
              "      <td>9</td>\n",
              "      <td>4</td>\n",
              "      <td>1122.0</td>\n",
              "      <td>NaN</td>\n",
              "      <td>NaN</td>\n",
              "      <td>NaN</td>\n",
              "      <td>NaN</td>\n",
              "    </tr>\n",
              "    <tr>\n",
              "      <th>...</th>\n",
              "      <td>...</td>\n",
              "      <td>...</td>\n",
              "      <td>...</td>\n",
              "      <td>...</td>\n",
              "      <td>...</td>\n",
              "      <td>...</td>\n",
              "      <td>...</td>\n",
              "      <td>...</td>\n",
              "      <td>...</td>\n",
              "      <td>...</td>\n",
              "      <td>...</td>\n",
              "      <td>...</td>\n",
              "      <td>...</td>\n",
              "      <td>...</td>\n",
              "      <td>...</td>\n",
              "      <td>...</td>\n",
              "      <td>...</td>\n",
              "      <td>...</td>\n",
              "      <td>...</td>\n",
              "    </tr>\n",
              "    <tr>\n",
              "      <th>1025</th>\n",
              "      <td>139</td>\n",
              "      <td>apic</td>\n",
              "      <td>36</td>\n",
              "      <td>171</td>\n",
              "      <td>0.250</td>\n",
              "      <td>55.0</td>\n",
              "      <td>-8.266366e-15</td>\n",
              "      <td>0.0</td>\n",
              "      <td>-45.0</td>\n",
              "      <td>0.672286</td>\n",
              "      <td>2</td>\n",
              "      <td>0</td>\n",
              "      <td>8</td>\n",
              "      <td>0</td>\n",
              "      <td>556.0</td>\n",
              "      <td>NaN</td>\n",
              "      <td>NaN</td>\n",
              "      <td>NaN</td>\n",
              "      <td>NaN</td>\n",
              "    </tr>\n",
              "    <tr>\n",
              "      <th>1026</th>\n",
              "      <td>139</td>\n",
              "      <td>apic</td>\n",
              "      <td>36</td>\n",
              "      <td>171</td>\n",
              "      <td>0.250</td>\n",
              "      <td>55.0</td>\n",
              "      <td>-8.266366e-15</td>\n",
              "      <td>0.0</td>\n",
              "      <td>-45.0</td>\n",
              "      <td>0.672286</td>\n",
              "      <td>2</td>\n",
              "      <td>0</td>\n",
              "      <td>8</td>\n",
              "      <td>1</td>\n",
              "      <td>1073.0</td>\n",
              "      <td>NaN</td>\n",
              "      <td>NaN</td>\n",
              "      <td>NaN</td>\n",
              "      <td>NaN</td>\n",
              "    </tr>\n",
              "    <tr>\n",
              "      <th>1027</th>\n",
              "      <td>139</td>\n",
              "      <td>apic</td>\n",
              "      <td>36</td>\n",
              "      <td>171</td>\n",
              "      <td>0.250</td>\n",
              "      <td>55.0</td>\n",
              "      <td>-8.266366e-15</td>\n",
              "      <td>0.0</td>\n",
              "      <td>-45.0</td>\n",
              "      <td>0.672286</td>\n",
              "      <td>2</td>\n",
              "      <td>0</td>\n",
              "      <td>8</td>\n",
              "      <td>2</td>\n",
              "      <td>1141.0</td>\n",
              "      <td>NaN</td>\n",
              "      <td>NaN</td>\n",
              "      <td>NaN</td>\n",
              "      <td>NaN</td>\n",
              "    </tr>\n",
              "    <tr>\n",
              "      <th>1028</th>\n",
              "      <td>139</td>\n",
              "      <td>apic</td>\n",
              "      <td>36</td>\n",
              "      <td>171</td>\n",
              "      <td>0.250</td>\n",
              "      <td>55.0</td>\n",
              "      <td>-8.266366e-15</td>\n",
              "      <td>0.0</td>\n",
              "      <td>-45.0</td>\n",
              "      <td>0.672286</td>\n",
              "      <td>2</td>\n",
              "      <td>0</td>\n",
              "      <td>8</td>\n",
              "      <td>3</td>\n",
              "      <td>1573.0</td>\n",
              "      <td>NaN</td>\n",
              "      <td>NaN</td>\n",
              "      <td>NaN</td>\n",
              "      <td>NaN</td>\n",
              "    </tr>\n",
              "    <tr>\n",
              "      <th>1029</th>\n",
              "      <td>139</td>\n",
              "      <td>apic</td>\n",
              "      <td>36</td>\n",
              "      <td>171</td>\n",
              "      <td>0.250</td>\n",
              "      <td>55.0</td>\n",
              "      <td>-8.266366e-15</td>\n",
              "      <td>0.0</td>\n",
              "      <td>-45.0</td>\n",
              "      <td>0.672286</td>\n",
              "      <td>2</td>\n",
              "      <td>0</td>\n",
              "      <td>8</td>\n",
              "      <td>4</td>\n",
              "      <td>3245.0</td>\n",
              "      <td>NaN</td>\n",
              "      <td>NaN</td>\n",
              "      <td>NaN</td>\n",
              "      <td>NaN</td>\n",
              "    </tr>\n",
              "  </tbody>\n",
              "</table>\n",
              "<p>1024 rows × 19 columns</p>\n",
              "</div>\n",
              "      <button class=\"colab-df-convert\" onclick=\"convertToInteractive('df-2fde612f-555b-4917-85d9-ed8e3b4e96f9')\"\n",
              "              title=\"Convert this dataframe to an interactive table.\"\n",
              "              style=\"display:none;\">\n",
              "        \n",
              "  <svg xmlns=\"http://www.w3.org/2000/svg\" height=\"24px\"viewBox=\"0 0 24 24\"\n",
              "       width=\"24px\">\n",
              "    <path d=\"M0 0h24v24H0V0z\" fill=\"none\"/>\n",
              "    <path d=\"M18.56 5.44l.94 2.06.94-2.06 2.06-.94-2.06-.94-.94-2.06-.94 2.06-2.06.94zm-11 1L8.5 8.5l.94-2.06 2.06-.94-2.06-.94L8.5 2.5l-.94 2.06-2.06.94zm10 10l.94 2.06.94-2.06 2.06-.94-2.06-.94-.94-2.06-.94 2.06-2.06.94z\"/><path d=\"M17.41 7.96l-1.37-1.37c-.4-.4-.92-.59-1.43-.59-.52 0-1.04.2-1.43.59L10.3 9.45l-7.72 7.72c-.78.78-.78 2.05 0 2.83L4 21.41c.39.39.9.59 1.41.59.51 0 1.02-.2 1.41-.59l7.78-7.78 2.81-2.81c.8-.78.8-2.07 0-2.86zM5.41 20L4 18.59l7.72-7.72 1.47 1.35L5.41 20z\"/>\n",
              "  </svg>\n",
              "      </button>\n",
              "      \n",
              "  <style>\n",
              "    .colab-df-container {\n",
              "      display:flex;\n",
              "      flex-wrap:wrap;\n",
              "      gap: 12px;\n",
              "    }\n",
              "\n",
              "    .colab-df-convert {\n",
              "      background-color: #E8F0FE;\n",
              "      border: none;\n",
              "      border-radius: 50%;\n",
              "      cursor: pointer;\n",
              "      display: none;\n",
              "      fill: #1967D2;\n",
              "      height: 32px;\n",
              "      padding: 0 0 0 0;\n",
              "      width: 32px;\n",
              "    }\n",
              "\n",
              "    .colab-df-convert:hover {\n",
              "      background-color: #E2EBFA;\n",
              "      box-shadow: 0px 1px 2px rgba(60, 64, 67, 0.3), 0px 1px 3px 1px rgba(60, 64, 67, 0.15);\n",
              "      fill: #174EA6;\n",
              "    }\n",
              "\n",
              "    [theme=dark] .colab-df-convert {\n",
              "      background-color: #3B4455;\n",
              "      fill: #D2E3FC;\n",
              "    }\n",
              "\n",
              "    [theme=dark] .colab-df-convert:hover {\n",
              "      background-color: #434B5C;\n",
              "      box-shadow: 0px 1px 3px 1px rgba(0, 0, 0, 0.15);\n",
              "      filter: drop-shadow(0px 1px 2px rgba(0, 0, 0, 0.3));\n",
              "      fill: #FFFFFF;\n",
              "    }\n",
              "  </style>\n",
              "\n",
              "      <script>\n",
              "        const buttonEl =\n",
              "          document.querySelector('#df-2fde612f-555b-4917-85d9-ed8e3b4e96f9 button.colab-df-convert');\n",
              "        buttonEl.style.display =\n",
              "          google.colab.kernel.accessAllowed ? 'block' : 'none';\n",
              "\n",
              "        async function convertToInteractive(key) {\n",
              "          const element = document.querySelector('#df-2fde612f-555b-4917-85d9-ed8e3b4e96f9');\n",
              "          const dataTable =\n",
              "            await google.colab.kernel.invokeFunction('convertToInteractive',\n",
              "                                                     [key], {});\n",
              "          if (!dataTable) return;\n",
              "\n",
              "          const docLinkHtml = 'Like what you see? Visit the ' +\n",
              "            '<a target=\"_blank\" href=https://colab.research.google.com/notebooks/data_table.ipynb>data table notebook</a>'\n",
              "            + ' to learn more about interactive tables.';\n",
              "          element.innerHTML = '';\n",
              "          dataTable['output_type'] = 'display_data';\n",
              "          await google.colab.output.renderOutput(dataTable, element);\n",
              "          const docLink = document.createElement('div');\n",
              "          docLink.innerHTML = docLinkHtml;\n",
              "          element.appendChild(docLink);\n",
              "        }\n",
              "      </script>\n",
              "    </div>\n",
              "  </div>\n",
              "  "
            ]
          },
          "metadata": {},
          "execution_count": 25
        }
      ],
      "source": [
        "segs_na_df = segs.join(na_df.set_index('segmentID')).reset_index()\n",
        "# display(segs_na_df.Type.to_string())\n",
        "# display(segs_na_df.Elec_distance.to_string())\n",
        "\n",
        "\n",
        "na_df.head\n",
        "\n",
        "\n",
        "\n",
        "segs_na_df[(~pd.isnull(segs_na_df.na_lower_bound))&(segs_na_df.Type=='apic')]"
      ]
    },
    {
      "cell_type": "code",
      "source": [
        "#pd.set_option(\"display.max_rows\", None, \"display.max_columns\", None)\n",
        "\n",
        "#print(na_df)"
      ],
      "metadata": {
        "id": "sB1diydHZvEg"
      },
      "execution_count": 26,
      "outputs": []
    },
    {
      "cell_type": "code",
      "execution_count": 27,
      "metadata": {
        "id": "2EvZxPFY4vaj"
      },
      "outputs": [],
      "source": [
        "def get_sta(segs_na_df, spktimes):\n",
        "    na_dend = np.zeros((10,39,))\n",
        "    na_apic = np.zeros((10,39,))\n",
        "    \n",
        "    edges_dend=np.quantile(segs_na_df[(~pd.isnull(segs_na_df.na_lower_bound))&\n",
        "                                       (segs_na_df.Type=='dend')]['Elec_distance'].unique(),np.arange(0,1.1,0.1))\n",
        "   # print(edges_dend)\n",
        "    edges_apic=np.quantile(segs_na_df[(~pd.isnull(segs_na_df.na_lower_bound))&\n",
        "                                       (segs_na_df.Type=='apic')]['Elec_distance'].unique(),np.arange(0,1.1,0.1))\n",
        "   # print('please')\n",
        "    actual_spktimes = []\n",
        "    c = 0\n",
        "\n",
        "   # print(spktimes)\n",
        "\n",
        "\n",
        "    for i in np.sort(spktimes):\n",
        "        # excludes bursts\n",
        "        print(i)\n",
        "        if i-c > 10:\n",
        "            for e in np.arange(0,10):\n",
        "                #print(e)\n",
        "                na_inds = segs_na_df[(~pd.isnull(segs_na_df.na_lower_bound))&\n",
        "                                     (segs_na_df.Type=='dend')]['na_lower_bound'].values.astype(int)\n",
        "                                     #(segs_na_df.Elec_distance>edges_dend[e])&\n",
        "                                     #(segs_na_df.Elec_distance<=edges_dend[e+1])]\n",
        "                #print(na_inds)\n",
        "                x2, _ = np.histogram(na_inds/10,bins=np.arange(np.floor(i)-20,np.floor(i)+20,1))\n",
        "                na_dend[e] += x2\n",
        "                \n",
        "                na_inds = segs_na_df[(~pd.isnull(segs_na_df.na_lower_bound))&\n",
        "                                     (segs_na_df.Type=='apic')&\n",
        "                                     (segs_na_df.Elec_distance>edges_apic[e])&\n",
        "                                     (segs_na_df.Elec_distance<=edges_apic[e+1])]['na_lower_bound'].values.astype(int)\n",
        "    \n",
        "                x2, _ = np.histogram(na_inds/10,bins=np.arange(np.floor(i)-20,np.floor(i)+20,1))\n",
        "                na_apic[e] += x2\n",
        "            \n",
        "            actual_spktimes.append(i)\n",
        "        c = i\n",
        "    \n",
        "\n",
        "    #print(na_dend)\n",
        "    \n",
        "    return na_dend, na_apic"
      ]
    },
    {
      "cell_type": "code",
      "execution_count": 28,
      "metadata": {
        "id": "glkA6zW24vaj",
        "colab": {
          "base_uri": "https://localhost:8080/"
        },
        "outputId": "41116e4f-c16c-42da-e7b6-a963722bfe27"
      },
      "outputs": [
        {
          "output_type": "stream",
          "name": "stdout",
          "text": [
            "66.20000000009838\n",
            "76.00000000009783\n",
            "84.10000000009737\n",
            "92.4000000000969\n",
            "128.10000000009487\n",
            "149.3000000000997\n",
            "168.50000000010405\n",
            "188.00000000010849\n",
            "216.40000000011494\n",
            "248.90000000012233\n",
            "289.10000000013144\n",
            "429.50000000016337\n",
            "489.9000000001771\n"
          ]
        }
      ],
      "source": [
        "na_dend, na_apic = get_sta(segs_na_df, spktimes)"
      ]
    },
    {
      "cell_type": "code",
      "execution_count": 29,
      "metadata": {
        "id": "PLw_zcHY4vaj"
      },
      "outputs": [],
      "source": [
        "rand_spktimes = np.sort(np.random.choice(np.arange(0,150000), spktimes.shape[0]))"
      ]
    },
    {
      "cell_type": "code",
      "execution_count": 30,
      "metadata": {
        "id": "OtjmD-mU4vaj",
        "colab": {
          "base_uri": "https://localhost:8080/"
        },
        "outputId": "fa4cad57-500b-4d8c-8e5e-50eb42407db9"
      },
      "outputs": [
        {
          "output_type": "stream",
          "name": "stdout",
          "text": [
            "23757\n",
            "32210\n",
            "35898\n",
            "44453\n",
            "57580\n",
            "78175\n",
            "84402\n",
            "89280\n",
            "104317\n",
            "110357\n",
            "124262\n",
            "135963\n",
            "142103\n"
          ]
        }
      ],
      "source": [
        "na_dend_rand, na_apic_rand = get_sta(segs_na_df, rand_spktimes)"
      ]
    },
    {
      "cell_type": "code",
      "execution_count": 31,
      "metadata": {
        "id": "2--OhaH54vaj",
        "colab": {
          "base_uri": "https://localhost:8080/",
          "height": 580
        },
        "outputId": "f40e329b-6b5f-483c-e8e1-8f332a109a82"
      },
      "outputs": [
        {
          "output_type": "display_data",
          "data": {
            "text/plain": [
              "<Figure size 720x720 with 4 Axes>"
            ],
            "image/png": "[encoded data removed]"
          },
          "metadata": {
            "needs_background": "light"
          }
        }
      ],
      "source": [
        "plt.figure(figsize=(10,10))\n",
        "plt.subplot(2,1,1)\n",
        "plt.title('Na spikes - apical')\n",
        "plt.imshow((na_apic-na_apic_rand)/len(spktimes),cmap='jet',vmin=-0.5)\n",
        "plt.colorbar(label='additional events per AP')\n",
        "plt.xticks(ticks=np.arange(0,40,5)-0.5,labels=['{}'.format(i) for i in np.arange(-20,20,5)])\n",
        "plt.yticks(ticks=[0,9],labels=['further','closer'])\n",
        "plt.xlim(5,35)\n",
        "\n",
        "plt.subplot(2,1,2)\n",
        "plt.title('Na spikes - basal')\n",
        "plt.imshow((na_dend-na_dend_rand)/len(spktimes),cmap='jet',vmin=-0.2, vmax=0.2)\n",
        "plt.colorbar(label='additional events per AP')\n",
        "plt.xticks(ticks=np.arange(0,40,5)-0.5,labels=['{}'.format(i) for i in np.arange(-20,20,5)])\n",
        "plt.yticks(ticks=[0,9],labels=['further','closer'])\n",
        "plt.xlabel('time(ms)')\n",
        "plt.xlim(5,35)\n",
        "\n",
        "plt.show()"
      ]
    },
    {
      "cell_type": "markdown",
      "metadata": {
        "id": "2mh6u46u4vak"
      },
      "source": [
        "----------"
      ]
    },
    {
      "cell_type": "code",
      "execution_count": 32,
      "metadata": {
        "id": "o36hLzYo4vak"
      },
      "outputs": [],
      "source": [
        "ca_df = pd.DataFrame(columns=['segmentID','ca_lower_bound'])\n",
        "\n",
        "segIDs = segs[(segs.Type=='apic')]['segmentID']\n",
        "for p in segIDs:\n",
        "    #print(p)\n",
        "    trace = hva['report']['biophysical']['data'][:,p]+\\\n",
        "                lva['report']['biophysical']['data'][:,p]+\\\n",
        "                ih['report']['biophysical']['data'][:,p]\n",
        "    m = np.mean(trace)\n",
        "    s = np.std(trace)\n",
        "\n",
        "    legit_uc = voltage_criterion(data=v['report']['biophysical']['data'][:,p],v_thresh=-40, time_thresh=200)[1]\n",
        "    legit_dc = voltage_criterion(data=v['report']['biophysical']['data'][:,p],v_thresh=-40, time_thresh=200)[-1]\n",
        "    \n",
        "    legit_uc_iso = legit_uc\n",
        "    \n",
        "    legit_dc_iso = legit_dc\n",
        "\n",
        "    #print(legit_dc_iso)\n",
        "    \n",
        "    \n",
        "    if (len(legit_uc_iso)!=0) & (np.min(trace)!=0):\n",
        "        bnds, sum_curr = current_criterion(legit_uc_iso=legit_uc_iso, \n",
        "                                           legit_dc_iso=legit_dc_iso, \n",
        "                                           p=p, \n",
        "                                           control_inmda=hva['report']['biophysical']['data'])\n",
        "        ca_df = ca_df.append(pd.DataFrame({'segmentID':np.tile(p,len(bnds)),\n",
        "                                               'ca_lower_bound':np.array(bnds).reshape(-1,2)[:,0],\n",
        "                                               'ca_upper_bound':np.array(bnds).reshape(-1,2)[:,1],\n",
        "                                               'mag':sum_curr}))\n",
        "    \n",
        "    else:\n",
        "        ca_df = ca_df.append(pd.DataFrame({'segmentID':np.tile(p,1),\n",
        "                                               'ca_lower_bound':np.nan,\n",
        "                                               'ca_upper_bound':np.nan,\n",
        "                                               'mag':np.nan}))"
      ]
    },
    {
      "cell_type": "code",
      "source": [
        "#print(ca_df)"
      ],
      "metadata": {
        "id": "qOf83soDjiCm"
      },
      "execution_count": 33,
      "outputs": []
    },
    {
      "cell_type": "code",
      "execution_count": 34,
      "metadata": {
        "id": "C36RU9wM4vak"
      },
      "outputs": [],
      "source": [
        "ca_df.to_csv('ca_df.csv')\n",
        "ca_df = pd.read_csv('ca_df.csv')"
      ]
    },
    {
      "cell_type": "markdown",
      "metadata": {
        "id": "TvfdmW7E4vak"
      },
      "source": [
        "# durations"
      ]
    },
    {
      "cell_type": "code",
      "execution_count": 35,
      "metadata": {
        "id": "veidJEkY4vak",
        "colab": {
          "base_uri": "https://localhost:8080/",
          "height": 300
        },
        "outputId": "ad94d3eb-4518-4647-e8ee-769d608bdb58"
      },
      "outputs": [
        {
          "output_type": "execute_result",
          "data": {
            "text/plain": [
              "    Type  Sec ID  BMTK ID         X    Distance  Coord X     Coord Y  Coord Z  \\\n",
              "45  apic      18       77  0.815789  617.552632      0.0  618.666667      0.0   \n",
              "46  apic      18       78  0.868421  646.131579      0.0  648.833333      0.0   \n",
              "47  apic      18       79  0.921053  689.000000      0.0  679.000000      0.0   \n",
              "48  apic      19       80  0.973684  689.000000      0.0  679.000000      0.0   \n",
              "49  apic      19       81  0.050000  729.650000      0.0  709.111111      0.0   \n",
              "50  apic      19       82  0.150000  756.750000      0.0  739.222222      0.0   \n",
              "51  apic      19       83  0.250000  783.850000      0.0  769.333333      0.0   \n",
              "52  apic      19       84  0.350000  810.950000      0.0  799.444444      0.0   \n",
              "\n",
              "    Elec_distance  segmentID  Degrees Elec_distanceQ  \n",
              "45       0.276851         17        0              6  \n",
              "46       0.260360         18        0              6  \n",
              "47       0.238143         19        0              5  \n",
              "48       0.238143          1        0              5  \n",
              "49       0.211168          2        0              5  \n",
              "50       0.195633          3        0              5  \n",
              "51       0.181750          4        0              5  \n",
              "52       0.169289          5        0              5  "
            ],
            "text/html": [
              "\n",
              "  <div id=\"df-ccc07d8b-60eb-4383-9bf2-a8545203f727\">\n",
              "    <div class=\"colab-df-container\">\n",
              "      <div>\n",
              "<style scoped>\n",
              "    .dataframe tbody tr th:only-of-type {\n",
              "        vertical-align: middle;\n",
              "    }\n",
              "\n",
              "    .dataframe tbody tr th {\n",
              "        vertical-align: top;\n",
              "    }\n",
              "\n",
              "    .dataframe thead th {\n",
              "        text-align: right;\n",
              "    }\n",
              "</style>\n",
              "<table border=\"1\" class=\"dataframe\">\n",
              "  <thead>\n",
              "    <tr style=\"text-align: right;\">\n",
              "      <th></th>\n",
              "      <th>Type</th>\n",
              "      <th>Sec ID</th>\n",
              "      <th>BMTK ID</th>\n",
              "      <th>X</th>\n",
              "      <th>Distance</th>\n",
              "      <th>Coord X</th>\n",
              "      <th>Coord Y</th>\n",
              "      <th>Coord Z</th>\n",
              "      <th>Elec_distance</th>\n",
              "      <th>segmentID</th>\n",
              "      <th>Degrees</th>\n",
              "      <th>Elec_distanceQ</th>\n",
              "    </tr>\n",
              "  </thead>\n",
              "  <tbody>\n",
              "    <tr>\n",
              "      <th>45</th>\n",
              "      <td>apic</td>\n",
              "      <td>18</td>\n",
              "      <td>77</td>\n",
              "      <td>0.815789</td>\n",
              "      <td>617.552632</td>\n",
              "      <td>0.0</td>\n",
              "      <td>618.666667</td>\n",
              "      <td>0.0</td>\n",
              "      <td>0.276851</td>\n",
              "      <td>17</td>\n",
              "      <td>0</td>\n",
              "      <td>6</td>\n",
              "    </tr>\n",
              "    <tr>\n",
              "      <th>46</th>\n",
              "      <td>apic</td>\n",
              "      <td>18</td>\n",
              "      <td>78</td>\n",
              "      <td>0.868421</td>\n",
              "      <td>646.131579</td>\n",
              "      <td>0.0</td>\n",
              "      <td>648.833333</td>\n",
              "      <td>0.0</td>\n",
              "      <td>0.260360</td>\n",
              "      <td>18</td>\n",
              "      <td>0</td>\n",
              "      <td>6</td>\n",
              "    </tr>\n",
              "    <tr>\n",
              "      <th>47</th>\n",
              "      <td>apic</td>\n",
              "      <td>18</td>\n",
              "      <td>79</td>\n",
              "      <td>0.921053</td>\n",
              "      <td>689.000000</td>\n",
              "      <td>0.0</td>\n",
              "      <td>679.000000</td>\n",
              "      <td>0.0</td>\n",
              "      <td>0.238143</td>\n",
              "      <td>19</td>\n",
              "      <td>0</td>\n",
              "      <td>5</td>\n",
              "    </tr>\n",
              "    <tr>\n",
              "      <th>48</th>\n",
              "      <td>apic</td>\n",
              "      <td>19</td>\n",
              "      <td>80</td>\n",
              "      <td>0.973684</td>\n",
              "      <td>689.000000</td>\n",
              "      <td>0.0</td>\n",
              "      <td>679.000000</td>\n",
              "      <td>0.0</td>\n",
              "      <td>0.238143</td>\n",
              "      <td>1</td>\n",
              "      <td>0</td>\n",
              "      <td>5</td>\n",
              "    </tr>\n",
              "    <tr>\n",
              "      <th>49</th>\n",
              "      <td>apic</td>\n",
              "      <td>19</td>\n",
              "      <td>81</td>\n",
              "      <td>0.050000</td>\n",
              "      <td>729.650000</td>\n",
              "      <td>0.0</td>\n",
              "      <td>709.111111</td>\n",
              "      <td>0.0</td>\n",
              "      <td>0.211168</td>\n",
              "      <td>2</td>\n",
              "      <td>0</td>\n",
              "      <td>5</td>\n",
              "    </tr>\n",
              "    <tr>\n",
              "      <th>50</th>\n",
              "      <td>apic</td>\n",
              "      <td>19</td>\n",
              "      <td>82</td>\n",
              "      <td>0.150000</td>\n",
              "      <td>756.750000</td>\n",
              "      <td>0.0</td>\n",
              "      <td>739.222222</td>\n",
              "      <td>0.0</td>\n",
              "      <td>0.195633</td>\n",
              "      <td>3</td>\n",
              "      <td>0</td>\n",
              "      <td>5</td>\n",
              "    </tr>\n",
              "    <tr>\n",
              "      <th>51</th>\n",
              "      <td>apic</td>\n",
              "      <td>19</td>\n",
              "      <td>83</td>\n",
              "      <td>0.250000</td>\n",
              "      <td>783.850000</td>\n",
              "      <td>0.0</td>\n",
              "      <td>769.333333</td>\n",
              "      <td>0.0</td>\n",
              "      <td>0.181750</td>\n",
              "      <td>4</td>\n",
              "      <td>0</td>\n",
              "      <td>5</td>\n",
              "    </tr>\n",
              "    <tr>\n",
              "      <th>52</th>\n",
              "      <td>apic</td>\n",
              "      <td>19</td>\n",
              "      <td>84</td>\n",
              "      <td>0.350000</td>\n",
              "      <td>810.950000</td>\n",
              "      <td>0.0</td>\n",
              "      <td>799.444444</td>\n",
              "      <td>0.0</td>\n",
              "      <td>0.169289</td>\n",
              "      <td>5</td>\n",
              "      <td>0</td>\n",
              "      <td>5</td>\n",
              "    </tr>\n",
              "  </tbody>\n",
              "</table>\n",
              "</div>\n",
              "      <button class=\"colab-df-convert\" onclick=\"convertToInteractive('df-ccc07d8b-60eb-4383-9bf2-a8545203f727')\"\n",
              "              title=\"Convert this dataframe to an interactive table.\"\n",
              "              style=\"display:none;\">\n",
              "        \n",
              "  <svg xmlns=\"http://www.w3.org/2000/svg\" height=\"24px\"viewBox=\"0 0 24 24\"\n",
              "       width=\"24px\">\n",
              "    <path d=\"M0 0h24v24H0V0z\" fill=\"none\"/>\n",
              "    <path d=\"M18.56 5.44l.94 2.06.94-2.06 2.06-.94-2.06-.94-.94-2.06-.94 2.06-2.06.94zm-11 1L8.5 8.5l.94-2.06 2.06-.94-2.06-.94L8.5 2.5l-.94 2.06-2.06.94zm10 10l.94 2.06.94-2.06 2.06-.94-2.06-.94-.94-2.06-.94 2.06-2.06.94z\"/><path d=\"M17.41 7.96l-1.37-1.37c-.4-.4-.92-.59-1.43-.59-.52 0-1.04.2-1.43.59L10.3 9.45l-7.72 7.72c-.78.78-.78 2.05 0 2.83L4 21.41c.39.39.9.59 1.41.59.51 0 1.02-.2 1.41-.59l7.78-7.78 2.81-2.81c.8-.78.8-2.07 0-2.86zM5.41 20L4 18.59l7.72-7.72 1.47 1.35L5.41 20z\"/>\n",
              "  </svg>\n",
              "      </button>\n",
              "      \n",
              "  <style>\n",
              "    .colab-df-container {\n",
              "      display:flex;\n",
              "      flex-wrap:wrap;\n",
              "      gap: 12px;\n",
              "    }\n",
              "\n",
              "    .colab-df-convert {\n",
              "      background-color: #E8F0FE;\n",
              "      border: none;\n",
              "      border-radius: 50%;\n",
              "      cursor: pointer;\n",
              "      display: none;\n",
              "      fill: #1967D2;\n",
              "      height: 32px;\n",
              "      padding: 0 0 0 0;\n",
              "      width: 32px;\n",
              "    }\n",
              "\n",
              "    .colab-df-convert:hover {\n",
              "      background-color: #E2EBFA;\n",
              "      box-shadow: 0px 1px 2px rgba(60, 64, 67, 0.3), 0px 1px 3px 1px rgba(60, 64, 67, 0.15);\n",
              "      fill: #174EA6;\n",
              "    }\n",
              "\n",
              "    [theme=dark] .colab-df-convert {\n",
              "      background-color: #3B4455;\n",
              "      fill: #D2E3FC;\n",
              "    }\n",
              "\n",
              "    [theme=dark] .colab-df-convert:hover {\n",
              "      background-color: #434B5C;\n",
              "      box-shadow: 0px 1px 3px 1px rgba(0, 0, 0, 0.15);\n",
              "      filter: drop-shadow(0px 1px 2px rgba(0, 0, 0, 0.3));\n",
              "      fill: #FFFFFF;\n",
              "    }\n",
              "  </style>\n",
              "\n",
              "      <script>\n",
              "        const buttonEl =\n",
              "          document.querySelector('#df-ccc07d8b-60eb-4383-9bf2-a8545203f727 button.colab-df-convert');\n",
              "        buttonEl.style.display =\n",
              "          google.colab.kernel.accessAllowed ? 'block' : 'none';\n",
              "\n",
              "        async function convertToInteractive(key) {\n",
              "          const element = document.querySelector('#df-ccc07d8b-60eb-4383-9bf2-a8545203f727');\n",
              "          const dataTable =\n",
              "            await google.colab.kernel.invokeFunction('convertToInteractive',\n",
              "                                                     [key], {});\n",
              "          if (!dataTable) return;\n",
              "\n",
              "          const docLinkHtml = 'Like what you see? Visit the ' +\n",
              "            '<a target=\"_blank\" href=https://colab.research.google.com/notebooks/data_table.ipynb>data table notebook</a>'\n",
              "            + ' to learn more about interactive tables.';\n",
              "          element.innerHTML = '';\n",
              "          dataTable['output_type'] = 'display_data';\n",
              "          await google.colab.output.renderOutput(dataTable, element);\n",
              "          const docLink = document.createElement('div');\n",
              "          docLink.innerHTML = docLinkHtml;\n",
              "          element.appendChild(docLink);\n",
              "        }\n",
              "      </script>\n",
              "    </div>\n",
              "  </div>\n",
              "  "
            ]
          },
          "metadata": {},
          "execution_count": 35
        }
      ],
      "source": [
        "segs[(segs['Coord Y']>600)&(segs['Coord Y']<800)]"
      ]
    },
    {
      "cell_type": "code",
      "execution_count": 36,
      "metadata": {
        "id": "k-VESnKr4vak",
        "colab": {
          "base_uri": "https://localhost:8080/"
        },
        "outputId": "57c4d4cf-5bbf-43b7-db45-7c5f0568b81d"
      },
      "outputs": [
        {
          "output_type": "execute_result",
          "data": {
            "text/plain": [
              "2"
            ]
          },
          "metadata": {},
          "execution_count": 36
        }
      ],
      "source": [
        "np.random.choice(segs[(segs['Coord Y']<-50)&\n",
        "     (segs['Coord Y']>-100)&\n",
        "     (segs['Coord X']>-50)&\n",
        "     (segs['Coord X']<50)&\n",
        "     (segs['Type']=='dend')]['segmentID'])"
      ]
    },
    {
      "cell_type": "markdown",
      "metadata": {
        "id": "mUUMQV414val"
      },
      "source": [
        "## Plotting morphology as heat maps"
      ]
    },
    {
      "cell_type": "code",
      "execution_count": 37,
      "metadata": {
        "id": "ssdfDo-Q4val",
        "colab": {
          "base_uri": "https://localhost:8080/"
        },
        "outputId": "b952f796-61ce-4686-c8e5-d627a1cfcf67"
      },
      "outputs": [
        {
          "output_type": "execute_result",
          "data": {
            "text/plain": [
              "(172, 13)"
            ]
          },
          "metadata": {},
          "execution_count": 37
        }
      ],
      "source": [
        "exc_syns.shape"
      ]
    },
    {
      "cell_type": "code",
      "execution_count": 38,
      "metadata": {
        "id": "Vnjms8KJ4val",
        "colab": {
          "base_uri": "https://localhost:8080/",
          "height": 575
        },
        "outputId": "920ec3ce-c6cf-44e5-cd97-79863d59fac5"
      },
      "outputs": [
        {
          "output_type": "display_data",
          "data": {
            "text/plain": [
              "<Figure size 288x720 with 2 Axes>"
            ],
            "image/png": "[encoded data removed]"
          },
          "metadata": {
            "needs_background": "light"
          }
        }
      ],
      "source": [
        "plt.figure(figsize=(4,10))\n",
        "ax = plt.scatter(exc_syns['Coord X'], exc_syns['Coord Y'],c=np.log(exc_syns['Elec_distance']))\n",
        "plt.vlines(110,400,500)\n",
        "plt.text(0,450,'100 um')\n",
        "plt.hlines(400,110,210)\n",
        "plt.text(110,350,'100 um')\n",
        "plt.xticks([])\n",
        "plt.yticks([])\n",
        "cbar = plt.colorbar()\n",
        "cbar.ax.set_ylabel('log(elec_distance)', rotation=270)\n",
        "\n",
        "#ax2.ax.set_title('log(elec_distance)',rotation=270)\n",
        "plt.box(False)\n",
        "plt.savefig('Elec_distance.svg')"
      ]
    },
    {
      "cell_type": "code",
      "execution_count": 39,
      "metadata": {
        "id": "VHqS5Q8s4val"
      },
      "outputs": [],
      "source": [
        "exc_syns.loc[pd.isnull(exc_syns.num_syns),'num_syns'] = 0"
      ]
    },
    {
      "cell_type": "code",
      "execution_count": 40,
      "metadata": {
        "id": "m0-V8uXt4val",
        "colab": {
          "base_uri": "https://localhost:8080/"
        },
        "outputId": "0cab34e1-38d8-4067-ff85-68ba51be5ea6"
      },
      "outputs": [
        {
          "output_type": "execute_result",
          "data": {
            "text/plain": [
              "((39, 13), (133, 13))"
            ]
          },
          "metadata": {},
          "execution_count": 40
        }
      ],
      "source": [
        "exc_syns[exc_syns.num_syns==0].shape, exc_syns[exc_syns.num_syns!=0].shape"
      ]
    },
    {
      "cell_type": "code",
      "execution_count": 41,
      "metadata": {
        "id": "Wnpx-gOu4val",
        "colab": {
          "base_uri": "https://localhost:8080/",
          "height": 584
        },
        "outputId": "a1cf63cc-3bc5-41e2-9fe5-3468f25749f3"
      },
      "outputs": [
        {
          "output_type": "display_data",
          "data": {
            "text/plain": [
              "<Figure size 288x720 with 2 Axes>"
            ],
            "image/png": "[encoded data removed]"
          },
          "metadata": {
            "needs_background": "light"
          }
        }
      ],
      "source": [
        "plt.figure(figsize=(4,10))\n",
        "ax = plt.scatter(exc_syns['Coord X'], exc_syns['Coord Y'],c=exc_syns['num_syns'],s=4,cmap='jet')\n",
        "plt.vlines(110,400,500)\n",
        "plt.text(0,450,'100 um')\n",
        "plt.hlines(400,110,210)\n",
        "plt.text(110,350,'100 um')\n",
        "plt.xticks([])\n",
        "plt.yticks([])\n",
        "cbar = plt.colorbar()\n",
        "cbar.ax.set_ylabel('log(elec_distance)', rotation=270)\n",
        "\n",
        "#ax2.ax.set_title('log(elec_distance)',rotation=270)\n",
        "plt.box(False)\n",
        "plt.savefig('exc_syns.svg')"
      ]
    },
    {
      "cell_type": "markdown",
      "metadata": {
        "id": "tJFXhTRg4val"
      },
      "source": [
        "## Plotting morphology and voltage traces"
      ]
    },
    {
      "cell_type": "code",
      "execution_count": 42,
      "metadata": {
        "id": "hU8yAHh04val",
        "colab": {
          "base_uri": "https://localhost:8080/",
          "height": 575
        },
        "outputId": "859524ba-1657-4610-b343-fe325a1be2c0"
      },
      "outputs": [
        {
          "output_type": "display_data",
          "data": {
            "text/plain": [
              "<Figure size 216x720 with 1 Axes>"
            ],
            "image/png": "[encoded data removed]"
          },
          "metadata": {}
        }
      ],
      "source": [
        "plt.figure(figsize=(3,10))\n",
        "ax = plt.plot(segs['Coord X'], segs['Coord Y'],'.',color='k',markersize=6)\n",
        "plt.vlines(110,400,500)\n",
        "plt.text(0,450,'100 um')\n",
        "plt.hlines(400,110,210)\n",
        "plt.text(110,350,'100 um')\n",
        "plt.xticks([])\n",
        "plt.yticks([])\n",
        "plt.box(False)\n",
        "plt.plot(segs.loc[segs.segmentID==1959,'Coord X'], \n",
        "         segs.loc[segs.segmentID==1959,'Coord Y'],\n",
        "         'r*')\n",
        "plt.plot(segs.loc[segs.segmentID==1112,'Coord X'], \n",
        "         segs.loc[segs.segmentID==1112,'Coord Y'],\n",
        "         'b*')\n",
        "plt.plot(segs.loc[segs.segmentID==1046,'Coord X'], \n",
        "         segs.loc[segs.segmentID==1046,'Coord Y'],\n",
        "         'm*')\n",
        "plt.plot(segs.loc[segs.segmentID==1500,'Coord X'], \n",
        "         segs.loc[segs.segmentID==1500,'Coord Y'],\n",
        "         'g*')\n",
        "plt.plot(segs.loc[segs.segmentID==680,'Coord X'], \n",
        "         segs.loc[segs.segmentID==680,'Coord Y'],\n",
        "         '*',color='orange')\n",
        "plt.plot(segs.loc[segs.segmentID==482,'Coord X'], \n",
        "         segs.loc[segs.segmentID==482,'Coord Y'],\n",
        "         '*',color='grey')\n",
        "plt.savefig('fig1A.svg')"
      ]
    },
    {
      "cell_type": "code",
      "execution_count": 43,
      "metadata": {
        "id": "XSkRoAbM4val"
      },
      "outputs": [],
      "source": [
        "#v = h5py.File('../../../L5NeuronSimulation_expts/L5_control/L5_control_exc_med/L5NeuronSimulation/FullSimulation/output/v_report.h5','r')\n"
      ]
    },
    {
      "cell_type": "code",
      "execution_count": 44,
      "metadata": {
        "id": "Zxm_myLO4val"
      },
      "outputs": [],
      "source": [
        "#t"
      ]
    },
    {
      "cell_type": "code",
      "execution_count": 45,
      "metadata": {
        "id": "ZqyITWX94val",
        "colab": {
          "base_uri": "https://localhost:8080/",
          "height": 266
        },
        "outputId": "e603691f-47ff-4b47-a53d-313df4ffe21e"
      },
      "outputs": [
        {
          "output_type": "stream",
          "name": "stdout",
          "text": [
            "1\n"
          ]
        },
        {
          "output_type": "display_data",
          "data": {
            "text/plain": [
              "<Figure size 720x288 with 1 Axes>"
            ],
            "image/png": "[encoded data removed]"
          },
          "metadata": {}
        }
      ],
      "source": [
        "t = np.random.choice(segs[(segs['Coord Y']<-50)&\n",
        "     (segs['Coord Y']>-100)&\n",
        "     (segs['Coord X']>-50)&\n",
        "     (segs['Coord X']<50)&\n",
        "     (segs['Type']=='dend')]['segmentID'])\n",
        "\n",
        "print(t)\n",
        "\n",
        "plt.figure(figsize=(10,4))\n",
        "s1 = 3 #323548+1500#np.random.choice(range(v['report']['biophysical']['data'].shape[0]))\n",
        "plt.plot(np.arange(0,400,.1),v['report']['biophysical']['data'][s1:s1+4000,t],color='grey')\n",
        "#1433413, 1161455\n",
        "plt.hlines(-50,70,100)\n",
        "plt.text(70,-55,'30 ms')\n",
        "plt.vlines(70,-50,-40)\n",
        "plt.text(40,-45,'10 mV')\n",
        "plt.box(False)\n",
        "plt.xticks([])\n",
        "plt.yticks([])\n",
        "plt.savefig('fig2G.svg')"
      ]
    },
    {
      "cell_type": "code",
      "execution_count": 46,
      "metadata": {
        "id": "PCIg-Z8C4vam",
        "colab": {
          "base_uri": "https://localhost:8080/",
          "height": 248
        },
        "outputId": "d4fb5c35-c05a-46d3-9035-54d7ca243a53"
      },
      "outputs": [
        {
          "output_type": "display_data",
          "data": {
            "text/plain": [
              "<Figure size 720x288 with 1 Axes>"
            ],
            "image/png": "[encoded data removed]"
          },
          "metadata": {}
        }
      ],
      "source": [
        "plt.figure(figsize=(10,4))\n",
        "s1 = 3 #323548+1500#np.random.choice(range(v['report']['biophysical']['data'].shape[0]))\n",
        "plt.plot(np.arange(0,400,.1),v['report']['biophysical']['data'][s1:s1+4000,130],color='orange')\n",
        "#1433413, 1161455\n",
        "plt.hlines(-50,70,100)\n",
        "plt.text(70,-55,'30 ms')\n",
        "plt.vlines(70,-50,-40)\n",
        "plt.text(40,-45,'10 mV')\n",
        "plt.box(False)\n",
        "plt.xticks([])\n",
        "plt.yticks([])\n",
        "plt.savefig('fig2F.svg')"
      ]
    },
    {
      "cell_type": "code",
      "execution_count": 47,
      "metadata": {
        "id": "LkAUkRjt4vam",
        "colab": {
          "base_uri": "https://localhost:8080/",
          "height": 248
        },
        "outputId": "41cf4af4-4ee6-4723-ae07-5dc6d9545f19"
      },
      "outputs": [
        {
          "output_type": "display_data",
          "data": {
            "text/plain": [
              "<Figure size 720x288 with 1 Axes>"
            ],
            "image/png": "[encoded data removed]"
          },
          "metadata": {}
        }
      ],
      "source": [
        "plt.figure(figsize=(10,4))\n",
        "s1 = 3 #np.random.choice(range(v['report']['biophysical']['data'].shape[0]))\n",
        "plt.plot(np.arange(0,400,.1),v['report']['biophysical']['data'][s1:s1+4000,0],color='k')\n",
        "#1433413, 1161455\n",
        "plt.hlines(-50,70,100)\n",
        "plt.text(70,-55,'30 ms')\n",
        "plt.vlines(70,-50,-40)\n",
        "plt.text(40,-45,'10 mV')\n",
        "plt.box(False)\n",
        "plt.xticks([])\n",
        "plt.yticks([])\n",
        "plt.savefig('fig2E.svg')"
      ]
    },
    {
      "cell_type": "code",
      "execution_count": 48,
      "metadata": {
        "id": "JV0ulcgT4vam",
        "colab": {
          "base_uri": "https://localhost:8080/",
          "height": 248
        },
        "outputId": "6879fbad-12f1-4331-a565-f93a9e0d0b68"
      },
      "outputs": [
        {
          "output_type": "display_data",
          "data": {
            "text/plain": [
              "<Figure size 720x288 with 1 Axes>"
            ],
            "image/png": "[encoded data removed]"
          },
          "metadata": {}
        }
      ],
      "source": [
        "plt.figure(figsize=(10,4))\n",
        "s1 =  3 #323548+1500#np.random.choice(range(v['report']['biophysical']['data'].shape[0]))\n",
        "plt.plot(np.arange(0,400,.1),v['report']['biophysical']['data'][s1:s1+4000, 4],color='g')\n",
        "#1433413, 1161455\n",
        "plt.hlines(-50,70,100)\n",
        "plt.text(70,-55,'30 ms')\n",
        "plt.vlines(70,-50,-40)\n",
        "plt.text(40,-45,'10 mV')\n",
        "plt.box(False)\n",
        "plt.xticks([])\n",
        "plt.yticks([])\n",
        "plt.savefig('fig2C.svg')"
      ]
    },
    {
      "cell_type": "code",
      "execution_count": 49,
      "metadata": {
        "id": "11E1a7S34vam"
      },
      "outputs": [],
      "source": [
        "# plt.figure(figsize=(10,4))\n",
        "# #s1 = 323548+1500#np.random.choice(range(v['report']['biophysical']['data'].shape[0]))\n",
        "# plt.plot(np.arange(0,400,.1),v['report']['biophysical']['data'][s1:s1+4000,3],color='m')\n",
        "# #1433413, 1161455\n",
        "# plt.hlines(-50,70,100)\n",
        "# plt.text(70,-55,'30 ms')\n",
        "# plt.vlines(70,-50,-40)\n",
        "# plt.text(40,-45,'10 mV')\n",
        "# plt.box(False)\n",
        "# plt.xticks([])\n",
        "# plt.yticks([])\n",
        "# plt.savefig('fig2D.svg')"
      ]
    },
    {
      "cell_type": "code",
      "execution_count": 50,
      "metadata": {
        "id": "nambE_k84vam",
        "colab": {
          "base_uri": "https://localhost:8080/",
          "height": 248
        },
        "outputId": "f94b4fdb-ee71-4d57-dcd6-ba00c7b2ada9"
      },
      "outputs": [
        {
          "output_type": "display_data",
          "data": {
            "text/plain": [
              "<Figure size 720x288 with 1 Axes>"
            ],
            "image/png": "[encoded data removed]"
          },
          "metadata": {}
        }
      ],
      "source": [
        "plt.figure(figsize=(10,4))\n",
        "s1 = 3 #323548+1500#np.random.choice(range(v['report']['biophysical']['data'].shape[0]))\n",
        "plt.plot(np.arange(0,400,.1),v['report']['biophysical']['data'][s1:s1+4000,70],color='b')\n",
        "#1433413, 1161455\n",
        "plt.hlines(-50,70,100)\n",
        "plt.text(70,-55,'30 ms')\n",
        "plt.vlines(70,-50,-40)\n",
        "plt.text(40,-45,'10 mV')\n",
        "plt.box(False)\n",
        "plt.xticks([])\n",
        "plt.yticks([])\n",
        "plt.savefig('fig2B.svg')"
      ]
    },
    {
      "cell_type": "code",
      "execution_count": 51,
      "metadata": {
        "id": "ujT5jG9g4vam",
        "colab": {
          "base_uri": "https://localhost:8080/",
          "height": 248
        },
        "outputId": "2bd258c9-9d8a-4655-c346-82ac763b1928"
      },
      "outputs": [
        {
          "output_type": "display_data",
          "data": {
            "text/plain": [
              "<Figure size 720x288 with 1 Axes>"
            ],
            "image/png": "[encoded data removed]"
          },
          "metadata": {}
        }
      ],
      "source": [
        "plt.figure(figsize=(10,4))\n",
        "s1 = 3 #323548+1500#np.random.choice(range(v['report']['biophysical']['data'].shape[0]))\n",
        "plt.plot(np.arange(0,400,.1),v['report']['biophysical']['data'][s1:s1+4000, 30],color='r')\n",
        "#1433413, 1161455\n",
        "plt.hlines(-60,170,200)\n",
        "plt.text(170,-65,'30 ms')\n",
        "plt.vlines(170,-60,-50)\n",
        "plt.text(140,-55,'10 mV')\n",
        "plt.box(False)\n",
        "plt.xticks([])\n",
        "plt.yticks([])\n",
        "plt.savefig('fig2A.svg')"
      ]
    },
    {
      "cell_type": "code",
      "execution_count": 52,
      "metadata": {
        "id": "dCbbKvX24vam",
        "colab": {
          "base_uri": "https://localhost:8080/"
        },
        "outputId": "acf94379-4eb6-41a2-f648-abdabb227780"
      },
      "outputs": [
        {
          "output_type": "execute_result",
          "data": {
            "text/plain": [
              "3"
            ]
          },
          "metadata": {},
          "execution_count": 52
        }
      ],
      "source": [
        "s1"
      ]
    },
    {
      "cell_type": "code",
      "execution_count": 53,
      "metadata": {
        "id": "iuT57ij34vam",
        "colab": {
          "base_uri": "https://localhost:8080/",
          "height": 266
        },
        "outputId": "b1a8291c-5a6f-4b07-9b30-3079589d0a09"
      },
      "outputs": [
        {
          "output_type": "execute_result",
          "data": {
            "text/plain": [
              "([], <a list of 0 Text major ticklabel objects>)"
            ]
          },
          "metadata": {},
          "execution_count": 53
        },
        {
          "output_type": "display_data",
          "data": {
            "text/plain": [
              "<Figure size 720x288 with 1 Axes>"
            ],
            "image/png": "[encoded data removed]"
          },
          "metadata": {}
        }
      ],
      "source": [
        "plt.figure(figsize=(10,4))\n",
        "#s1 = 559133+1000#np.random.choice(range(v['report']['biophysical']['data'].shape[0]))\n",
        "plt.plot(np.arange(0,400,.1),v['report']['biophysical']['data'][s1:s1+4000,0],color='k')\n",
        "#1433413, 1161455\n",
        "plt.hlines(-10,40,70)\n",
        "plt.text(40,-15,'30 ms')\n",
        "plt.vlines(40,-10,0)\n",
        "plt.text(5,-5,'10 mV')\n",
        "plt.box(False)\n",
        "plt.xticks([])\n",
        "plt.yticks([])"
      ]
    },
    {
      "cell_type": "code",
      "execution_count": 54,
      "metadata": {
        "id": "PWAxSjgM4vam"
      },
      "outputs": [],
      "source": [
        "# x = ca_df[~pd.isnull(ca_df.ca_lower_bound)].reset_index()\n",
        "# i = np.random.choice(x.index)"
      ]
    },
    {
      "cell_type": "code",
      "execution_count": 55,
      "metadata": {
        "id": "fnauSOmq4vam",
        "colab": {
          "base_uri": "https://localhost:8080/",
          "height": 610
        },
        "outputId": "2a671093-24d2-4f01-a118-1c734ceed5bc"
      },
      "outputs": [
        {
          "output_type": "execute_result",
          "data": {
            "text/plain": [
              "(0.0, 200.0)"
            ]
          },
          "metadata": {},
          "execution_count": 55
        },
        {
          "output_type": "display_data",
          "data": {
            "text/plain": [
              "<Figure size 864x720 with 2 Axes>"
            ],
            "image/png": "[encoded data removed]"
          },
          "metadata": {
            "needs_background": "light"
          }
        }
      ],
      "source": [
        "seg = 30\n",
        "lower_bound = 1000\n",
        "plt.figure(figsize=(12,10))\n",
        "plt.plot(np.arange(0,100,.1),-(hva['report']['biophysical']['data'][lower_bound-100:lower_bound+900,seg]+\\\n",
        "         lva['report']['biophysical']['data'][lower_bound-100:lower_bound+900,seg]+\\\n",
        "         ih['report']['biophysical']['data'][lower_bound-100:lower_bound+900,seg]),color='b')\n",
        "plt.hlines(np.mean(-(hva['report']['biophysical']['data'][lower_bound-100:lower_bound+900,seg]+\\\n",
        "         lva['report']['biophysical']['data'][lower_bound-100:lower_bound+900,seg]+\\\n",
        "         ih['report']['biophysical']['data'][lower_bound-100:lower_bound+900,seg])),0,100,color='b')\n",
        "plt.xlim(0,200)\n",
        "\n",
        "plt.twinx()\n",
        "plt.plot(np.arange(0,100,.1),v['report']['biophysical']['data'][lower_bound-100:lower_bound+900,seg],color='k')\n",
        "plt.plot(np.arange(0,100,.1),v['report']['biophysical']['data'][lower_bound-100:lower_bound+900,0],color='k',alpha=0.2)\n",
        "plt.xlim(0,200)\n"
      ]
    },
    {
      "cell_type": "code",
      "execution_count": 56,
      "metadata": {
        "id": "8mkUlMNO4van"
      },
      "outputs": [],
      "source": [
        "ca_df.reset_index(inplace=True)\n"
      ]
    },
    {
      "cell_type": "code",
      "source": [
        "ca_df"
      ],
      "metadata": {
        "colab": {
          "base_uri": "https://localhost:8080/",
          "height": 424
        },
        "id": "jjypwBwsjbTg",
        "outputId": "a61fe6ae-e471-4d02-f4cc-2d6db4be5e75"
      },
      "execution_count": 57,
      "outputs": [
        {
          "output_type": "execute_result",
          "data": {
            "text/plain": [
              "     index  Unnamed: 0  segmentID  ca_lower_bound  ca_upper_bound  mag\n",
              "0        0           0          1             NaN             NaN  NaN\n",
              "1        1           0          2             NaN             NaN  NaN\n",
              "2        2           0          3             NaN             NaN  NaN\n",
              "3        3           0          4             NaN             NaN  NaN\n",
              "4        4           0          5             NaN             NaN  NaN\n",
              "..     ...         ...        ...             ...             ...  ...\n",
              "137    137           0          2             NaN             NaN  NaN\n",
              "138    138           0          1             NaN             NaN  NaN\n",
              "139    139           0          2             NaN             NaN  NaN\n",
              "140    140           0          1             NaN             NaN  NaN\n",
              "141    141           0          2             NaN             NaN  NaN\n",
              "\n",
              "[142 rows x 6 columns]"
            ],
            "text/html": [
              "\n",
              "  <div id=\"df-88dd6b54-cd4a-4547-badb-15a323760fb5\">\n",
              "    <div class=\"colab-df-container\">\n",
              "      <div>\n",
              "<style scoped>\n",
              "    .dataframe tbody tr th:only-of-type {\n",
              "        vertical-align: middle;\n",
              "    }\n",
              "\n",
              "    .dataframe tbody tr th {\n",
              "        vertical-align: top;\n",
              "    }\n",
              "\n",
              "    .dataframe thead th {\n",
              "        text-align: right;\n",
              "    }\n",
              "</style>\n",
              "<table border=\"1\" class=\"dataframe\">\n",
              "  <thead>\n",
              "    <tr style=\"text-align: right;\">\n",
              "      <th></th>\n",
              "      <th>index</th>\n",
              "      <th>Unnamed: 0</th>\n",
              "      <th>segmentID</th>\n",
              "      <th>ca_lower_bound</th>\n",
              "      <th>ca_upper_bound</th>\n",
              "      <th>mag</th>\n",
              "    </tr>\n",
              "  </thead>\n",
              "  <tbody>\n",
              "    <tr>\n",
              "      <th>0</th>\n",
              "      <td>0</td>\n",
              "      <td>0</td>\n",
              "      <td>1</td>\n",
              "      <td>NaN</td>\n",
              "      <td>NaN</td>\n",
              "      <td>NaN</td>\n",
              "    </tr>\n",
              "    <tr>\n",
              "      <th>1</th>\n",
              "      <td>1</td>\n",
              "      <td>0</td>\n",
              "      <td>2</td>\n",
              "      <td>NaN</td>\n",
              "      <td>NaN</td>\n",
              "      <td>NaN</td>\n",
              "    </tr>\n",
              "    <tr>\n",
              "      <th>2</th>\n",
              "      <td>2</td>\n",
              "      <td>0</td>\n",
              "      <td>3</td>\n",
              "      <td>NaN</td>\n",
              "      <td>NaN</td>\n",
              "      <td>NaN</td>\n",
              "    </tr>\n",
              "    <tr>\n",
              "      <th>3</th>\n",
              "      <td>3</td>\n",
              "      <td>0</td>\n",
              "      <td>4</td>\n",
              "      <td>NaN</td>\n",
              "      <td>NaN</td>\n",
              "      <td>NaN</td>\n",
              "    </tr>\n",
              "    <tr>\n",
              "      <th>4</th>\n",
              "      <td>4</td>\n",
              "      <td>0</td>\n",
              "      <td>5</td>\n",
              "      <td>NaN</td>\n",
              "      <td>NaN</td>\n",
              "      <td>NaN</td>\n",
              "    </tr>\n",
              "    <tr>\n",
              "      <th>...</th>\n",
              "      <td>...</td>\n",
              "      <td>...</td>\n",
              "      <td>...</td>\n",
              "      <td>...</td>\n",
              "      <td>...</td>\n",
              "      <td>...</td>\n",
              "    </tr>\n",
              "    <tr>\n",
              "      <th>137</th>\n",
              "      <td>137</td>\n",
              "      <td>0</td>\n",
              "      <td>2</td>\n",
              "      <td>NaN</td>\n",
              "      <td>NaN</td>\n",
              "      <td>NaN</td>\n",
              "    </tr>\n",
              "    <tr>\n",
              "      <th>138</th>\n",
              "      <td>138</td>\n",
              "      <td>0</td>\n",
              "      <td>1</td>\n",
              "      <td>NaN</td>\n",
              "      <td>NaN</td>\n",
              "      <td>NaN</td>\n",
              "    </tr>\n",
              "    <tr>\n",
              "      <th>139</th>\n",
              "      <td>139</td>\n",
              "      <td>0</td>\n",
              "      <td>2</td>\n",
              "      <td>NaN</td>\n",
              "      <td>NaN</td>\n",
              "      <td>NaN</td>\n",
              "    </tr>\n",
              "    <tr>\n",
              "      <th>140</th>\n",
              "      <td>140</td>\n",
              "      <td>0</td>\n",
              "      <td>1</td>\n",
              "      <td>NaN</td>\n",
              "      <td>NaN</td>\n",
              "      <td>NaN</td>\n",
              "    </tr>\n",
              "    <tr>\n",
              "      <th>141</th>\n",
              "      <td>141</td>\n",
              "      <td>0</td>\n",
              "      <td>2</td>\n",
              "      <td>NaN</td>\n",
              "      <td>NaN</td>\n",
              "      <td>NaN</td>\n",
              "    </tr>\n",
              "  </tbody>\n",
              "</table>\n",
              "<p>142 rows × 6 columns</p>\n",
              "</div>\n",
              "      <button class=\"colab-df-convert\" onclick=\"convertToInteractive('df-88dd6b54-cd4a-4547-badb-15a323760fb5')\"\n",
              "              title=\"Convert this dataframe to an interactive table.\"\n",
              "              style=\"display:none;\">\n",
              "        \n",
              "  <svg xmlns=\"http://www.w3.org/2000/svg\" height=\"24px\"viewBox=\"0 0 24 24\"\n",
              "       width=\"24px\">\n",
              "    <path d=\"M0 0h24v24H0V0z\" fill=\"none\"/>\n",
              "    <path d=\"M18.56 5.44l.94 2.06.94-2.06 2.06-.94-2.06-.94-.94-2.06-.94 2.06-2.06.94zm-11 1L8.5 8.5l.94-2.06 2.06-.94-2.06-.94L8.5 2.5l-.94 2.06-2.06.94zm10 10l.94 2.06.94-2.06 2.06-.94-2.06-.94-.94-2.06-.94 2.06-2.06.94z\"/><path d=\"M17.41 7.96l-1.37-1.37c-.4-.4-.92-.59-1.43-.59-.52 0-1.04.2-1.43.59L10.3 9.45l-7.72 7.72c-.78.78-.78 2.05 0 2.83L4 21.41c.39.39.9.59 1.41.59.51 0 1.02-.2 1.41-.59l7.78-7.78 2.81-2.81c.8-.78.8-2.07 0-2.86zM5.41 20L4 18.59l7.72-7.72 1.47 1.35L5.41 20z\"/>\n",
              "  </svg>\n",
              "      </button>\n",
              "      \n",
              "  <style>\n",
              "    .colab-df-container {\n",
              "      display:flex;\n",
              "      flex-wrap:wrap;\n",
              "      gap: 12px;\n",
              "    }\n",
              "\n",
              "    .colab-df-convert {\n",
              "      background-color: #E8F0FE;\n",
              "      border: none;\n",
              "      border-radius: 50%;\n",
              "      cursor: pointer;\n",
              "      display: none;\n",
              "      fill: #1967D2;\n",
              "      height: 32px;\n",
              "      padding: 0 0 0 0;\n",
              "      width: 32px;\n",
              "    }\n",
              "\n",
              "    .colab-df-convert:hover {\n",
              "      background-color: #E2EBFA;\n",
              "      box-shadow: 0px 1px 2px rgba(60, 64, 67, 0.3), 0px 1px 3px 1px rgba(60, 64, 67, 0.15);\n",
              "      fill: #174EA6;\n",
              "    }\n",
              "\n",
              "    [theme=dark] .colab-df-convert {\n",
              "      background-color: #3B4455;\n",
              "      fill: #D2E3FC;\n",
              "    }\n",
              "\n",
              "    [theme=dark] .colab-df-convert:hover {\n",
              "      background-color: #434B5C;\n",
              "      box-shadow: 0px 1px 3px 1px rgba(0, 0, 0, 0.15);\n",
              "      filter: drop-shadow(0px 1px 2px rgba(0, 0, 0, 0.3));\n",
              "      fill: #FFFFFF;\n",
              "    }\n",
              "  </style>\n",
              "\n",
              "      <script>\n",
              "        const buttonEl =\n",
              "          document.querySelector('#df-88dd6b54-cd4a-4547-badb-15a323760fb5 button.colab-df-convert');\n",
              "        buttonEl.style.display =\n",
              "          google.colab.kernel.accessAllowed ? 'block' : 'none';\n",
              "\n",
              "        async function convertToInteractive(key) {\n",
              "          const element = document.querySelector('#df-88dd6b54-cd4a-4547-badb-15a323760fb5');\n",
              "          const dataTable =\n",
              "            await google.colab.kernel.invokeFunction('convertToInteractive',\n",
              "                                                     [key], {});\n",
              "          if (!dataTable) return;\n",
              "\n",
              "          const docLinkHtml = 'Like what you see? Visit the ' +\n",
              "            '<a target=\"_blank\" href=https://colab.research.google.com/notebooks/data_table.ipynb>data table notebook</a>'\n",
              "            + ' to learn more about interactive tables.';\n",
              "          element.innerHTML = '';\n",
              "          dataTable['output_type'] = 'display_data';\n",
              "          await google.colab.output.renderOutput(dataTable, element);\n",
              "          const docLink = document.createElement('div');\n",
              "          docLink.innerHTML = docLinkHtml;\n",
              "          element.appendChild(docLink);\n",
              "        }\n",
              "      </script>\n",
              "    </div>\n",
              "  </div>\n",
              "  "
            ]
          },
          "metadata": {},
          "execution_count": 57
        }
      ]
    },
    {
      "cell_type": "code",
      "source": [
        "ca_df[(ca_df.ca_lower_bound>20) & (ca_df.ca_lower_bound<1400000)]"
      ],
      "metadata": {
        "colab": {
          "base_uri": "https://localhost:8080/",
          "height": 175
        },
        "id": "Uwqd8m7-jaAk",
        "outputId": "bdd0524f-d352-49ef-f6d1-f43b89cc6dad"
      },
      "execution_count": 58,
      "outputs": [
        {
          "output_type": "execute_result",
          "data": {
            "text/plain": [
              "    index  Unnamed: 0  segmentID  ca_lower_bound  ca_upper_bound       mag\n",
              "46     46           0         18           847.0          1074.0 -1.186019\n",
              "47     47           1         18          3201.0          3594.0 -0.487793\n",
              "48     48           0         19           849.0          1084.0 -1.407626\n",
              "49     49           1         19          3199.0          3613.0 -1.003822"
            ],
            "text/html": [
              "\n",
              "  <div id=\"df-a3f148f4-155c-406a-86ea-b471dd16a4e8\">\n",
              "    <div class=\"colab-df-container\">\n",
              "      <div>\n",
              "<style scoped>\n",
              "    .dataframe tbody tr th:only-of-type {\n",
              "        vertical-align: middle;\n",
              "    }\n",
              "\n",
              "    .dataframe tbody tr th {\n",
              "        vertical-align: top;\n",
              "    }\n",
              "\n",
              "    .dataframe thead th {\n",
              "        text-align: right;\n",
              "    }\n",
              "</style>\n",
              "<table border=\"1\" class=\"dataframe\">\n",
              "  <thead>\n",
              "    <tr style=\"text-align: right;\">\n",
              "      <th></th>\n",
              "      <th>index</th>\n",
              "      <th>Unnamed: 0</th>\n",
              "      <th>segmentID</th>\n",
              "      <th>ca_lower_bound</th>\n",
              "      <th>ca_upper_bound</th>\n",
              "      <th>mag</th>\n",
              "    </tr>\n",
              "  </thead>\n",
              "  <tbody>\n",
              "    <tr>\n",
              "      <th>46</th>\n",
              "      <td>46</td>\n",
              "      <td>0</td>\n",
              "      <td>18</td>\n",
              "      <td>847.0</td>\n",
              "      <td>1074.0</td>\n",
              "      <td>-1.186019</td>\n",
              "    </tr>\n",
              "    <tr>\n",
              "      <th>47</th>\n",
              "      <td>47</td>\n",
              "      <td>1</td>\n",
              "      <td>18</td>\n",
              "      <td>3201.0</td>\n",
              "      <td>3594.0</td>\n",
              "      <td>-0.487793</td>\n",
              "    </tr>\n",
              "    <tr>\n",
              "      <th>48</th>\n",
              "      <td>48</td>\n",
              "      <td>0</td>\n",
              "      <td>19</td>\n",
              "      <td>849.0</td>\n",
              "      <td>1084.0</td>\n",
              "      <td>-1.407626</td>\n",
              "    </tr>\n",
              "    <tr>\n",
              "      <th>49</th>\n",
              "      <td>49</td>\n",
              "      <td>1</td>\n",
              "      <td>19</td>\n",
              "      <td>3199.0</td>\n",
              "      <td>3613.0</td>\n",
              "      <td>-1.003822</td>\n",
              "    </tr>\n",
              "  </tbody>\n",
              "</table>\n",
              "</div>\n",
              "      <button class=\"colab-df-convert\" onclick=\"convertToInteractive('df-a3f148f4-155c-406a-86ea-b471dd16a4e8')\"\n",
              "              title=\"Convert this dataframe to an interactive table.\"\n",
              "              style=\"display:none;\">\n",
              "        \n",
              "  <svg xmlns=\"http://www.w3.org/2000/svg\" height=\"24px\"viewBox=\"0 0 24 24\"\n",
              "       width=\"24px\">\n",
              "    <path d=\"M0 0h24v24H0V0z\" fill=\"none\"/>\n",
              "    <path d=\"M18.56 5.44l.94 2.06.94-2.06 2.06-.94-2.06-.94-.94-2.06-.94 2.06-2.06.94zm-11 1L8.5 8.5l.94-2.06 2.06-.94-2.06-.94L8.5 2.5l-.94 2.06-2.06.94zm10 10l.94 2.06.94-2.06 2.06-.94-2.06-.94-.94-2.06-.94 2.06-2.06.94z\"/><path d=\"M17.41 7.96l-1.37-1.37c-.4-.4-.92-.59-1.43-.59-.52 0-1.04.2-1.43.59L10.3 9.45l-7.72 7.72c-.78.78-.78 2.05 0 2.83L4 21.41c.39.39.9.59 1.41.59.51 0 1.02-.2 1.41-.59l7.78-7.78 2.81-2.81c.8-.78.8-2.07 0-2.86zM5.41 20L4 18.59l7.72-7.72 1.47 1.35L5.41 20z\"/>\n",
              "  </svg>\n",
              "      </button>\n",
              "      \n",
              "  <style>\n",
              "    .colab-df-container {\n",
              "      display:flex;\n",
              "      flex-wrap:wrap;\n",
              "      gap: 12px;\n",
              "    }\n",
              "\n",
              "    .colab-df-convert {\n",
              "      background-color: #E8F0FE;\n",
              "      border: none;\n",
              "      border-radius: 50%;\n",
              "      cursor: pointer;\n",
              "      display: none;\n",
              "      fill: #1967D2;\n",
              "      height: 32px;\n",
              "      padding: 0 0 0 0;\n",
              "      width: 32px;\n",
              "    }\n",
              "\n",
              "    .colab-df-convert:hover {\n",
              "      background-color: #E2EBFA;\n",
              "      box-shadow: 0px 1px 2px rgba(60, 64, 67, 0.3), 0px 1px 3px 1px rgba(60, 64, 67, 0.15);\n",
              "      fill: #174EA6;\n",
              "    }\n",
              "\n",
              "    [theme=dark] .colab-df-convert {\n",
              "      background-color: #3B4455;\n",
              "      fill: #D2E3FC;\n",
              "    }\n",
              "\n",
              "    [theme=dark] .colab-df-convert:hover {\n",
              "      background-color: #434B5C;\n",
              "      box-shadow: 0px 1px 3px 1px rgba(0, 0, 0, 0.15);\n",
              "      filter: drop-shadow(0px 1px 2px rgba(0, 0, 0, 0.3));\n",
              "      fill: #FFFFFF;\n",
              "    }\n",
              "  </style>\n",
              "\n",
              "      <script>\n",
              "        const buttonEl =\n",
              "          document.querySelector('#df-a3f148f4-155c-406a-86ea-b471dd16a4e8 button.colab-df-convert');\n",
              "        buttonEl.style.display =\n",
              "          google.colab.kernel.accessAllowed ? 'block' : 'none';\n",
              "\n",
              "        async function convertToInteractive(key) {\n",
              "          const element = document.querySelector('#df-a3f148f4-155c-406a-86ea-b471dd16a4e8');\n",
              "          const dataTable =\n",
              "            await google.colab.kernel.invokeFunction('convertToInteractive',\n",
              "                                                     [key], {});\n",
              "          if (!dataTable) return;\n",
              "\n",
              "          const docLinkHtml = 'Like what you see? Visit the ' +\n",
              "            '<a target=\"_blank\" href=https://colab.research.google.com/notebooks/data_table.ipynb>data table notebook</a>'\n",
              "            + ' to learn more about interactive tables.';\n",
              "          element.innerHTML = '';\n",
              "          dataTable['output_type'] = 'display_data';\n",
              "          await google.colab.output.renderOutput(dataTable, element);\n",
              "          const docLink = document.createElement('div');\n",
              "          docLink.innerHTML = docLinkHtml;\n",
              "          element.appendChild(docLink);\n",
              "        }\n",
              "      </script>\n",
              "    </div>\n",
              "  </div>\n",
              "  "
            ]
          },
          "metadata": {},
          "execution_count": 58
        }
      ]
    },
    {
      "cell_type": "code",
      "execution_count": 59,
      "metadata": {
        "id": "dtBzzaBz4van"
      },
      "outputs": [],
      "source": [
        "for i in np.random.choice(ca_df[(ca_df.ca_lower_bound>20) & (ca_df.ca_lower_bound<1400000)].index,100):\n",
        "    seg = ca_df.loc[i,'segmentID']\n",
        "    if not pd.isnull(ca_df.loc[i,'ca_lower_bound']):\n",
        "        spkt = int(ca_df.loc[i,'ca_lower_bound'])\n",
        "        \n",
        "        trace = -(hva['report']['biophysical']['data'][spkt-100:spkt+500,seg] + \\\n",
        "                lva['report']['biophysical']['data'][spkt-100:spkt+500,seg] + \\\n",
        "                ih['report']['biophysical']['data'][spkt-100:spkt+500,seg])\n",
        "        peak_value = np.max(trace)\n",
        "        half_peak = peak_value/2\n",
        "        duration = np.arange(0,600)[trace>half_peak] + spkt - 10\n",
        "        ca_df.loc[i,'duration_low'] = duration[0]\n",
        "        ca_df.loc[i,'duration_high'] = duration[-1]\n",
        "        ca_df.loc[i,'peak_value'] = peak_value\n",
        "    else:\n",
        "        ca_df.loc[i,'duration_low'] = np.nan\n",
        "        ca_df.loc[i,'duration_high'] = np.nan\n",
        "        ca_df.loc[i,'peak_value'] = np.nan"
      ]
    },
    {
      "cell_type": "code",
      "execution_count": 60,
      "metadata": {
        "id": "hvooGULD4vao",
        "colab": {
          "base_uri": "https://localhost:8080/",
          "height": 175
        },
        "outputId": "fd6f784d-9ab0-4cff-b193-031e61493512"
      },
      "outputs": [
        {
          "output_type": "execute_result",
          "data": {
            "text/plain": [
              "    index  Unnamed: 0  segmentID  ca_lower_bound  ca_upper_bound       mag  \\\n",
              "46     46           0         18           847.0          1074.0 -1.186019   \n",
              "47     47           1         18          3201.0          3594.0 -0.487793   \n",
              "48     48           0         19           849.0          1084.0 -1.407626   \n",
              "49     49           1         19          3199.0          3613.0 -1.003822   \n",
              "\n",
              "    duration_low  duration_high  peak_value  \n",
              "46         948.0         1161.0    0.073751  \n",
              "47        3549.0         3687.0    0.028281  \n",
              "48         948.0         1180.0    0.071654  \n",
              "49        3540.0         3702.0    0.046569  "
            ],
            "text/html": [
              "\n",
              "  <div id=\"df-b03d14df-70d8-4ca0-a372-705b9cb82a61\">\n",
              "    <div class=\"colab-df-container\">\n",
              "      <div>\n",
              "<style scoped>\n",
              "    .dataframe tbody tr th:only-of-type {\n",
              "        vertical-align: middle;\n",
              "    }\n",
              "\n",
              "    .dataframe tbody tr th {\n",
              "        vertical-align: top;\n",
              "    }\n",
              "\n",
              "    .dataframe thead th {\n",
              "        text-align: right;\n",
              "    }\n",
              "</style>\n",
              "<table border=\"1\" class=\"dataframe\">\n",
              "  <thead>\n",
              "    <tr style=\"text-align: right;\">\n",
              "      <th></th>\n",
              "      <th>index</th>\n",
              "      <th>Unnamed: 0</th>\n",
              "      <th>segmentID</th>\n",
              "      <th>ca_lower_bound</th>\n",
              "      <th>ca_upper_bound</th>\n",
              "      <th>mag</th>\n",
              "      <th>duration_low</th>\n",
              "      <th>duration_high</th>\n",
              "      <th>peak_value</th>\n",
              "    </tr>\n",
              "  </thead>\n",
              "  <tbody>\n",
              "    <tr>\n",
              "      <th>46</th>\n",
              "      <td>46</td>\n",
              "      <td>0</td>\n",
              "      <td>18</td>\n",
              "      <td>847.0</td>\n",
              "      <td>1074.0</td>\n",
              "      <td>-1.186019</td>\n",
              "      <td>948.0</td>\n",
              "      <td>1161.0</td>\n",
              "      <td>0.073751</td>\n",
              "    </tr>\n",
              "    <tr>\n",
              "      <th>47</th>\n",
              "      <td>47</td>\n",
              "      <td>1</td>\n",
              "      <td>18</td>\n",
              "      <td>3201.0</td>\n",
              "      <td>3594.0</td>\n",
              "      <td>-0.487793</td>\n",
              "      <td>3549.0</td>\n",
              "      <td>3687.0</td>\n",
              "      <td>0.028281</td>\n",
              "    </tr>\n",
              "    <tr>\n",
              "      <th>48</th>\n",
              "      <td>48</td>\n",
              "      <td>0</td>\n",
              "      <td>19</td>\n",
              "      <td>849.0</td>\n",
              "      <td>1084.0</td>\n",
              "      <td>-1.407626</td>\n",
              "      <td>948.0</td>\n",
              "      <td>1180.0</td>\n",
              "      <td>0.071654</td>\n",
              "    </tr>\n",
              "    <tr>\n",
              "      <th>49</th>\n",
              "      <td>49</td>\n",
              "      <td>1</td>\n",
              "      <td>19</td>\n",
              "      <td>3199.0</td>\n",
              "      <td>3613.0</td>\n",
              "      <td>-1.003822</td>\n",
              "      <td>3540.0</td>\n",
              "      <td>3702.0</td>\n",
              "      <td>0.046569</td>\n",
              "    </tr>\n",
              "  </tbody>\n",
              "</table>\n",
              "</div>\n",
              "      <button class=\"colab-df-convert\" onclick=\"convertToInteractive('df-b03d14df-70d8-4ca0-a372-705b9cb82a61')\"\n",
              "              title=\"Convert this dataframe to an interactive table.\"\n",
              "              style=\"display:none;\">\n",
              "        \n",
              "  <svg xmlns=\"http://www.w3.org/2000/svg\" height=\"24px\"viewBox=\"0 0 24 24\"\n",
              "       width=\"24px\">\n",
              "    <path d=\"M0 0h24v24H0V0z\" fill=\"none\"/>\n",
              "    <path d=\"M18.56 5.44l.94 2.06.94-2.06 2.06-.94-2.06-.94-.94-2.06-.94 2.06-2.06.94zm-11 1L8.5 8.5l.94-2.06 2.06-.94-2.06-.94L8.5 2.5l-.94 2.06-2.06.94zm10 10l.94 2.06.94-2.06 2.06-.94-2.06-.94-.94-2.06-.94 2.06-2.06.94z\"/><path d=\"M17.41 7.96l-1.37-1.37c-.4-.4-.92-.59-1.43-.59-.52 0-1.04.2-1.43.59L10.3 9.45l-7.72 7.72c-.78.78-.78 2.05 0 2.83L4 21.41c.39.39.9.59 1.41.59.51 0 1.02-.2 1.41-.59l7.78-7.78 2.81-2.81c.8-.78.8-2.07 0-2.86zM5.41 20L4 18.59l7.72-7.72 1.47 1.35L5.41 20z\"/>\n",
              "  </svg>\n",
              "      </button>\n",
              "      \n",
              "  <style>\n",
              "    .colab-df-container {\n",
              "      display:flex;\n",
              "      flex-wrap:wrap;\n",
              "      gap: 12px;\n",
              "    }\n",
              "\n",
              "    .colab-df-convert {\n",
              "      background-color: #E8F0FE;\n",
              "      border: none;\n",
              "      border-radius: 50%;\n",
              "      cursor: pointer;\n",
              "      display: none;\n",
              "      fill: #1967D2;\n",
              "      height: 32px;\n",
              "      padding: 0 0 0 0;\n",
              "      width: 32px;\n",
              "    }\n",
              "\n",
              "    .colab-df-convert:hover {\n",
              "      background-color: #E2EBFA;\n",
              "      box-shadow: 0px 1px 2px rgba(60, 64, 67, 0.3), 0px 1px 3px 1px rgba(60, 64, 67, 0.15);\n",
              "      fill: #174EA6;\n",
              "    }\n",
              "\n",
              "    [theme=dark] .colab-df-convert {\n",
              "      background-color: #3B4455;\n",
              "      fill: #D2E3FC;\n",
              "    }\n",
              "\n",
              "    [theme=dark] .colab-df-convert:hover {\n",
              "      background-color: #434B5C;\n",
              "      box-shadow: 0px 1px 3px 1px rgba(0, 0, 0, 0.15);\n",
              "      filter: drop-shadow(0px 1px 2px rgba(0, 0, 0, 0.3));\n",
              "      fill: #FFFFFF;\n",
              "    }\n",
              "  </style>\n",
              "\n",
              "      <script>\n",
              "        const buttonEl =\n",
              "          document.querySelector('#df-b03d14df-70d8-4ca0-a372-705b9cb82a61 button.colab-df-convert');\n",
              "        buttonEl.style.display =\n",
              "          google.colab.kernel.accessAllowed ? 'block' : 'none';\n",
              "\n",
              "        async function convertToInteractive(key) {\n",
              "          const element = document.querySelector('#df-b03d14df-70d8-4ca0-a372-705b9cb82a61');\n",
              "          const dataTable =\n",
              "            await google.colab.kernel.invokeFunction('convertToInteractive',\n",
              "                                                     [key], {});\n",
              "          if (!dataTable) return;\n",
              "\n",
              "          const docLinkHtml = 'Like what you see? Visit the ' +\n",
              "            '<a target=\"_blank\" href=https://colab.research.google.com/notebooks/data_table.ipynb>data table notebook</a>'\n",
              "            + ' to learn more about interactive tables.';\n",
              "          element.innerHTML = '';\n",
              "          dataTable['output_type'] = 'display_data';\n",
              "          await google.colab.output.renderOutput(dataTable, element);\n",
              "          const docLink = document.createElement('div');\n",
              "          docLink.innerHTML = docLinkHtml;\n",
              "          element.appendChild(docLink);\n",
              "        }\n",
              "      </script>\n",
              "    </div>\n",
              "  </div>\n",
              "  "
            ]
          },
          "metadata": {},
          "execution_count": 60
        }
      ],
      "source": [
        "ca_df[~pd.isnull(ca_df.duration_high)]"
      ]
    },
    {
      "cell_type": "code",
      "execution_count": 61,
      "metadata": {
        "id": "I2LTfVlf4vao",
        "colab": {
          "base_uri": "https://localhost:8080/",
          "height": 283
        },
        "outputId": "fc1b481b-7b56-41b4-9729-745da34951c5"
      },
      "outputs": [
        {
          "output_type": "execute_result",
          "data": {
            "text/plain": [
              "[<matplotlib.lines.Line2D at 0x7efda9e54550>]"
            ]
          },
          "metadata": {},
          "execution_count": 61
        },
        {
          "output_type": "display_data",
          "data": {
            "text/plain": [
              "<Figure size 432x288 with 2 Axes>"
            ],
            "image/png": "[encoded data removed]"
          },
          "metadata": {
            "needs_background": "light"
          }
        }
      ],
      "source": [
        "seg = 90\n",
        "lower_bound = 150\n",
        "#upper_bound = \n",
        "plt.plot(-(hva['report']['biophysical']['data'][lower_bound-100:lower_bound+600,seg]+\\\n",
        "         lva['report']['biophysical']['data'][lower_bound-100:lower_bound+600,seg]+\\\n",
        "         ih['report']['biophysical']['data'][lower_bound-100:lower_bound+600,seg]))\n",
        "plt.plot(1000,-(hva['report']['biophysical']['data'][lower_bound,seg]+\\\n",
        "         lva['report']['biophysical']['data'][lower_bound,seg]+\\\n",
        "         ih['report']['biophysical']['data'][lower_bound,seg]),'*')\n",
        "\n",
        "plt.plot(1000-lower_bound,-(hva['report']['biophysical']['data'][150,seg]+\\\n",
        "         lva['report']['biophysical']['data'][150,seg]+\\\n",
        "         ih['report']['biophysical']['data'][150,seg]),'*')\n",
        "\n",
        "plt.twinx()\n",
        "plt.plot(v['report']['biophysical']['data'][lower_bound-100:lower_bound+1000,seg],color='k')"
      ]
    },
    {
      "cell_type": "markdown",
      "metadata": {
        "id": "HBev4JNL4vao"
      },
      "source": [
        "----------"
      ]
    },
    {
      "cell_type": "code",
      "execution_count": 62,
      "metadata": {
        "id": "R71f8PX94vao"
      },
      "outputs": [],
      "source": [
        "segs_ca_df = segs.set_index('segmentID').join(ca_df.set_index('segmentID')).reset_index() "
      ]
    },
    {
      "cell_type": "code",
      "execution_count": 63,
      "metadata": {
        "id": "LyMAEk3i4vao"
      },
      "outputs": [],
      "source": [
        "def get_ca_sta(segs_ca_df, spktimes):\n",
        "\n",
        "    ca_apic = np.zeros((10,39,))\n",
        "    \n",
        "    edges_apic=np.quantile(segs_ca_df[(~pd.isnull(segs_ca_df.ca_lower_bound))&\n",
        "                                       (segs_ca_df.Type=='apic')]['Elec_distance'].unique(),np.arange(0,1.1,0.1))\n",
        "    \n",
        "    \n",
        "    \n",
        "    actual_spktimes = []\n",
        "    c = 0\n",
        "    for i in np.sort(spktimes):\n",
        "        # excludes bursts\n",
        "        if i-c > 10:\n",
        "            for e in np.arange(0,10):\n",
        "                ca_inds = segs_ca_df[(~pd.isnull(segs_ca_df.ca_lower_bound))&\n",
        "                                     (segs_ca_df.Type=='apic')&\n",
        "                                     (segs_ca_df.Elec_distance>edges_apic[e])&\n",
        "                                     (segs_ca_df.Elec_distance<=edges_apic[e+1])]['ca_lower_bound'].values.astype(int)\n",
        "    \n",
        "                x2, _ = np.histogram(ca_inds/10,bins=np.arange(np.floor(i)-20,np.floor(i)+20,1))\n",
        "                ca_apic[e] += x2\n",
        "                \n",
        "                \n",
        "            \n",
        "            actual_spktimes.append(i)\n",
        "        c = i\n",
        "    return ca_apic"
      ]
    },
    {
      "cell_type": "code",
      "execution_count": 64,
      "metadata": {
        "id": "kQYQ-85F4vao"
      },
      "outputs": [],
      "source": [
        "ca_apic = get_ca_sta(segs_ca_df, spktimes)"
      ]
    },
    {
      "cell_type": "code",
      "execution_count": 65,
      "metadata": {
        "id": "Yl3731-G4vao"
      },
      "outputs": [],
      "source": [
        "rand_spktimes = np.sort(np.random.choice(np.arange(0,150000), spktimes.shape[0]))\n",
        "ca_apic_rand = get_ca_sta(segs_ca_df, rand_spktimes)"
      ]
    },
    {
      "cell_type": "code",
      "execution_count": 66,
      "metadata": {
        "id": "n5K1ytuF4vao",
        "colab": {
          "base_uri": "https://localhost:8080/",
          "height": 284
        },
        "outputId": "6633cfa2-df91-4c00-dd04-56e9ded76876"
      },
      "outputs": [
        {
          "output_type": "display_data",
          "data": {
            "text/plain": [
              "<Figure size 720x720 with 2 Axes>"
            ],
            "image/png": "[encoded data removed]"
          },
          "metadata": {
            "needs_background": "light"
          }
        }
      ],
      "source": [
        "plt.figure(figsize=(10,10))\n",
        "plt.subplot(2,1,1)\n",
        "plt.title('Ca spikes - apical')\n",
        "plt.imshow((ca_apic-ca_apic_rand)/len(spktimes),cmap='jet')\n",
        "plt.xticks(ticks=np.arange(0,40,2)-0.5,labels=['{}'.format(i) for i in np.arange(-20,20,2)])\n",
        "plt.colorbar(label='events per AP')\n",
        "plt.yticks(ticks=[0,9],labels=['further','closer'])\n",
        "\n",
        "plt.show()"
      ]
    },
    {
      "cell_type": "markdown",
      "metadata": {
        "id": "Gng6B9sn4vao"
      },
      "source": [
        "----------------------"
      ]
    },
    {
      "cell_type": "code",
      "execution_count": 67,
      "metadata": {
        "id": "BMeGyYxP4vao"
      },
      "outputs": [],
      "source": [
        "#apic_exc = segs_conns[(segs_conns['Source Population']=='exc_stim')&(segs_conns.Type=='apic')].groupby('segmentID')['Conductance'].sum().reset_index()\n",
        "\n",
        "#basal_exc = segs_conns[(segs_conns['Source Population']=='exc_stim')&(segs_conns.Type=='dend')].groupby('segmentID')['Conductance'].sum().reset_index()\n"
      ]
    },
    {
      "cell_type": "code",
      "execution_count": null,
      "metadata": {
        "id": "MfzXuS744vao"
      },
      "outputs": [],
      "source": [
        "nmda_df = pd.DataFrame(columns=['segmentID','nmda_lower_bound', 'nmda_upper_bound', 'mag'])\n",
        "for p in segs[(segs.Type=='dend')|(segs.Type=='apic')].index:\n",
        "    #print(p)\n",
        "    legit_uc = voltage_criterion(data=v['report']['biophysical']['data'][:,p],v_thresh=-40, time_thresh=260)[1]\n",
        "    legit_dc = voltage_criterion(data=v['report']['biophysical']['data'][:,p],v_thresh=-40, time_thresh=260)[-1]\n",
        "    \n",
        "    legit_uc_iso = legit_uc\n",
        "    \n",
        "    legit_dc_iso = legit_dc\n",
        "\n",
        "    #print(legit_uc)\n",
        "    #print(legit_dc)\n",
        "    \n",
        "    if (len(legit_uc_iso)!=0) & (np.min(nmda['report']['biophysical']['data'][:,p])!=0):\n",
        "        #print('if')\n",
        "        bnds, sum_curr = current_criterion(legit_uc_iso=legit_uc_iso, \n",
        "                                           legit_dc_iso=legit_dc_iso, \n",
        "                                           p=p, \n",
        "                                           control_inmda=nmda['report']['biophysical']['data'])\n",
        "        #print('sum_curr =' + str(sum_curr))\n",
        "        nmda_df = nmda_df.append(pd.DataFrame({'segmentID':np.tile(p,len(bnds)),\n",
        "                                               'nmda_lower_bound':np.array(bnds).reshape(-1,2)[:,0],\n",
        "                                               'nmda_upper_bound':np.array(bnds).reshape(-1,2)[:,1],\n",
        "                                               'mag':sum_curr}))\n",
        "        #print(nmda_df.mag)\n",
        "    \n",
        "    else:\n",
        "        #print('else')\n",
        "        nmda_df = nmda_df.append(pd.DataFrame({'segmentID':np.tile(p,1),\n",
        "                                               'nmda_lower_bound':np.nan,\n",
        "                                               'nmda_upper_bound':np.nan,\n",
        "                                               'mag':np.nan}))\n",
        "\n",
        "\n",
        "display(nmda_df.mag.to_string())\n",
        "\n",
        "\n",
        "#min(nmda_df.mag)"
      ]
    },
    {
      "cell_type": "code",
      "execution_count": 69,
      "metadata": {
        "id": "aJjsh-nm4vao"
      },
      "outputs": [],
      "source": [
        "#nmda_df.to_csv('nmda_df.csv')\n",
        "#nmda_df = pd.read_csv('nmda_df.csv')\n"
      ]
    },
    {
      "cell_type": "code",
      "source": [
        "#mda_df.mag <= -0.000000001"
      ],
      "metadata": {
        "id": "uIBW0Pcvm_9_"
      },
      "execution_count": 70,
      "outputs": []
    },
    {
      "cell_type": "code",
      "source": [
        "#segs_nmda_df[:]"
      ],
      "metadata": {
        "id": "K6VLU3bijMpa"
      },
      "execution_count": 71,
      "outputs": []
    },
    {
      "cell_type": "code",
      "execution_count": 72,
      "metadata": {
        "id": "OmMMqHsd4vao"
      },
      "outputs": [],
      "source": [
        "#nmda_df.rename(columns={'seg_id':'segmentID'},inplace=True)"
      ]
    },
    {
      "cell_type": "code",
      "execution_count": 73,
      "metadata": {
        "id": "uV6HLncB4vao"
      },
      "outputs": [],
      "source": [
        "segs_nmda_df = segs.join(nmda_df.set_index('segmentID')).reset_index()"
      ]
    },
    {
      "cell_type": "code",
      "source": [
        "#min(segs_nmda_df.mag)"
      ],
      "metadata": {
        "id": "KqVpKnXVhEvv"
      },
      "execution_count": 74,
      "outputs": []
    },
    {
      "cell_type": "code",
      "source": [
        "#segs_nmda_df[(segs_nmda_df.mag<-0.0001)]"
      ],
      "metadata": {
        "id": "daMclJ5hn1Sd"
      },
      "execution_count": 75,
      "outputs": []
    },
    {
      "cell_type": "code",
      "execution_count": 76,
      "metadata": {
        "id": "UERHIibr4vao"
      },
      "outputs": [],
      "source": [
        "def get_nmda_sta(segs_nmda_df, spktimes):    \n",
        "    nmda_dend = np.zeros((10,27,))\n",
        "    nmda_apic = np.zeros((10,27,))\n",
        "    \n",
        "#    edges_dend=np.quantile(segs_nmda_df[(segs_nmda_df.mag<-0.0001)&\n",
        "#                                   (segs_nmda_df.Type=='dend')]['Elec_distance'].unique(),np.arange(0,1.1,0.1))\n",
        "    edges_apic=np.quantile(segs_nmda_df[(segs_nmda_df.mag<-0.00001)&\n",
        "                                   (segs_nmda_df.Type=='apic')]['Elec_distance'].unique(),np.arange(0,1.1,0.1))\n",
        "    \n",
        "    actual_spktimes = []\n",
        "    c = 0\n",
        "    for i in np.sort(spktimes):\n",
        "        # excludes bursts\n",
        "        if i-c > 10:\n",
        "            for e in np.arange(0,10):\n",
        "                # nmda_inds = segs_nmda_df[(segs_nmda_df.mag<-0.0001)&\n",
        "                #                      (segs_nmda_df.Type=='dend')&\n",
        "                #                      (segs_nmda_df.Elec_distance>edges_dend[e])&\n",
        "                #                      (segs_nmda_df.Elec_distance<=edges_dend[e+1])]['nmda_lower_bound'].values.astype(int)\n",
        "    \n",
        "                # x2, _ = np.histogram(nmda_inds/10,bins=np.arange(np.floor(i)-100,np.floor(i)+40,5))\n",
        "                # nmda_dend[e] += x2\n",
        "                \n",
        "                nmda_inds = segs_nmda_df[(segs_nmda_df.mag<-0.0001)&\n",
        "                                     (segs_nmda_df.Type=='apic')&\n",
        "                                     (segs_nmda_df.Elec_distance>edges_apic[e])&\n",
        "                                     (segs_nmda_df.Elec_distance<=edges_apic[e+1])]['nmda_lower_bound'].values.astype(int)\n",
        "    \n",
        "                x2, _ = np.histogram(nmda_inds/10,bins=np.arange(np.floor(i)-100,np.floor(i)+40,5))\n",
        "                nmda_apic[e] += x2\n",
        "            \n",
        "            actual_spktimes.append(i)\n",
        "        c = i\n",
        "        \n",
        "    return nmda_dend, nmda_apic"
      ]
    },
    {
      "cell_type": "code",
      "execution_count": 77,
      "metadata": {
        "id": "tW8SvGK54vap"
      },
      "outputs": [],
      "source": [
        "nmda_dend, nmda_apic = get_nmda_sta(segs_nmda_df, spktimes)"
      ]
    },
    {
      "cell_type": "code",
      "execution_count": 78,
      "metadata": {
        "id": "rwHm5TI-4vap"
      },
      "outputs": [],
      "source": [
        "rand_spktimes = np.sort(np.random.choice(np.arange(0,150000), spktimes.shape[0]))"
      ]
    },
    {
      "cell_type": "code",
      "execution_count": 79,
      "metadata": {
        "id": "fWaFLebh4vap"
      },
      "outputs": [],
      "source": [
        "nmda_dend_rand, nmda_apic_rand = get_nmda_sta(segs_nmda_df, rand_spktimes)"
      ]
    },
    {
      "cell_type": "code",
      "execution_count": 80,
      "metadata": {
        "id": "Xn3bcESa4vap",
        "colab": {
          "base_uri": "https://localhost:8080/",
          "height": 588
        },
        "outputId": "d5360ed0-42fc-4759-c5d1-cb6e14115a2a"
      },
      "outputs": [
        {
          "output_type": "display_data",
          "data": {
            "text/plain": [
              "<Figure size 720x720 with 4 Axes>"
            ],
            "image/png": "[encoded data removed]"
          },
          "metadata": {
            "needs_background": "light"
          }
        }
      ],
      "source": [
        "plt.figure(figsize=(10,10))\n",
        "plt.subplot(2,1,1)\n",
        "plt.title('NMDA spikes - apical')\n",
        "plt.imshow((nmda_apic-nmda_apic_rand)/len(spktimes),cmap='jet',vmin=-0.7,vmax=0.7)\n",
        "plt.xticks(ticks=np.arange(0,26,4)-0.5,labels=['{}'.format(i) for i in np.arange(-100,40,20)])\n",
        "plt.yticks(ticks=[0,9],labels=['further','closer'])\n",
        "plt.colorbar(label='additional events per AP')\n",
        "plt.xlabel('time (ms)')\n",
        "plt.xlim(5,26)\n",
        "\n",
        "plt.subplot(2,1,2)\n",
        "plt.title('NMDA spikes - basal')\n",
        "plt.imshow((nmda_dend-nmda_dend_rand)/len(spktimes),cmap='jet', vmin=-0.7, vmax=0.7)\n",
        "plt.xticks(ticks=np.arange(0,26,4)-0.5,labels=['{}'.format(i) for i in np.arange(-100,40,20)])\n",
        "plt.yticks(ticks=[0,9],labels=['further','closer'])\n",
        "plt.colorbar(label='additional events per AP')\n",
        "plt.xlim(5,26)\n",
        "\n",
        "plt.xlabel('time (ms)')\n",
        "plt.show()"
      ]
    },
    {
      "cell_type": "code",
      "execution_count": 80,
      "metadata": {
        "id": "4CQlYNkJ4vap"
      },
      "outputs": [],
      "source": [
        ""
      ]
    },
    {
      "cell_type": "code",
      "execution_count": 80,
      "metadata": {
        "id": "X2HbfsB54vap"
      },
      "outputs": [],
      "source": [
        ""
      ]
    },
    {
      "cell_type": "code",
      "execution_count": 81,
      "metadata": {
        "id": "Y6ecjQg64vap",
        "colab": {
          "base_uri": "https://localhost:8080/",
          "height": 622
        },
        "outputId": "f68f868b-5b0f-4ab5-d729-01108ed53409"
      },
      "outputs": [
        {
          "output_type": "stream",
          "name": "stderr",
          "text": [
            "/usr/local/lib/python3.7/dist-packages/ipykernel_launcher.py:2: RuntimeWarning: invalid value encountered in true_divide\n",
            "  \n",
            "/usr/local/lib/python3.7/dist-packages/ipykernel_launcher.py:2: RuntimeWarning: invalid value encountered in true_divide\n",
            "  \n",
            "/usr/local/lib/python3.7/dist-packages/ipykernel_launcher.py:2: RuntimeWarning: invalid value encountered in true_divide\n",
            "  \n",
            "/usr/local/lib/python3.7/dist-packages/ipykernel_launcher.py:2: RuntimeWarning: invalid value encountered in true_divide\n",
            "  \n",
            "/usr/local/lib/python3.7/dist-packages/ipykernel_launcher.py:2: RuntimeWarning: invalid value encountered in true_divide\n",
            "  \n",
            "/usr/local/lib/python3.7/dist-packages/ipykernel_launcher.py:2: RuntimeWarning: invalid value encountered in true_divide\n",
            "  \n",
            "/usr/local/lib/python3.7/dist-packages/ipykernel_launcher.py:2: RuntimeWarning: invalid value encountered in true_divide\n",
            "  \n",
            "/usr/local/lib/python3.7/dist-packages/ipykernel_launcher.py:2: RuntimeWarning: invalid value encountered in true_divide\n",
            "  \n",
            "/usr/local/lib/python3.7/dist-packages/ipykernel_launcher.py:2: RuntimeWarning: invalid value encountered in true_divide\n",
            "  \n",
            "/usr/local/lib/python3.7/dist-packages/ipykernel_launcher.py:2: RuntimeWarning: invalid value encountered in true_divide\n",
            "  \n"
          ]
        },
        {
          "output_type": "display_data",
          "data": {
            "text/plain": [
              "<Figure size 432x288 with 1 Axes>"
            ],
            "image/png": "[encoded data removed]"
          },
          "metadata": {
            "needs_background": "light"
          }
        }
      ],
      "source": [
        "for i in np.arange(0,10):\n",
        "    plt.plot(np.arange(-40,95,5),nmda_dend[i]/np.sum(nmda_dend[i]))\n"
      ]
    },
    {
      "cell_type": "code",
      "execution_count": 82,
      "metadata": {
        "id": "nvS-77j54vap"
      },
      "outputs": [],
      "source": [
        "# segs_conns[(segs_conns['Sec ID']==80) & (segs_conns.Type=='dend')]['Source Population'].value_counts()"
      ]
    },
    {
      "cell_type": "code",
      "execution_count": 83,
      "metadata": {
        "id": "Wx2PiJh94vap",
        "colab": {
          "base_uri": "https://localhost:8080/",
          "height": 614
        },
        "outputId": "4fb755ff-67e8-4cbf-e8bf-a9800713382a"
      },
      "outputs": [
        {
          "output_type": "execute_result",
          "data": {
            "text/plain": [
              "(-150.0, 150.0)"
            ]
          },
          "metadata": {},
          "execution_count": 83
        },
        {
          "output_type": "display_data",
          "data": {
            "text/plain": [
              "<Figure size 720x720 with 1 Axes>"
            ],
            "image/png": "[encoded data removed]"
          },
          "metadata": {
            "needs_background": "light"
          }
        }
      ],
      "source": [
        "plt.figure(figsize=(10,10))\n",
        "ind = 55\n",
        "plt.plot(segs['Coord X'], segs['Coord Y'], 'b.')\n",
        "plt.plot(segs.loc[0,'Coord X'], segs.loc[0,'Coord Y'], 'k.',markersize=20)\n",
        "\n",
        "plt.plot(segs.loc[ind,'Coord X'], segs.loc[ind,'Coord Y'], 'r*',markersize=20)\n",
        "\n",
        "# for i in segs_conns[(segs_conns.Type=='dend')&(segs_conns['Sec ID']==2)]['Sec ID'].unique():\n",
        "#     plt.plot(segs[(segs['Sec ID']==i)&(segs['Type']=='dend')]['Coord X'],\n",
        "#              segs[(segs['Sec ID']==i)&(segs['Type']=='dend')]['Coord Y'],color='r')\n",
        "    \n",
        "#for i in segs_conns[(segs_conns.Type=='dend')&(segs_conns['Sec ID']==7)]['Sec ID'].unique():\n",
        "#    plt.plot(segs[(segs['Sec ID']==i)&(segs['Type']=='dend')]['Coord X'],\n",
        "#             segs[(segs['Sec ID']==i)&(segs['Type']=='dend')]['Coord Y'],color='c')\n",
        "    \n",
        "#plt.plot(segs[segs.segmentID==119]['Coord X'], segs[segs.segmentID==119]['Coord Y'],'r*',markersize=14)\n",
        "#plt.plot(segs[segs.segmentID==110]['Coord X'], segs[segs.segmentID==110]['Coord Y'],'r*',markersize=14)\n",
        "#plt.plot(segs[segs.segmentID==103]['Coord X'], segs[segs.segmentID==103]['Coord Y'],'r*',markersize=14)\n",
        "\n",
        "#plt.plot(segs[segs.segmentID==134]['Coord X'], segs[segs.segmentID==134]['Coord Y'],'c*',markersize=14)\n",
        "plt.ylim(-25,50)\n",
        "plt.xlim(-150,150)"
      ]
    },
    {
      "cell_type": "code",
      "execution_count": 84,
      "metadata": {
        "id": "iskhzr3R4vap"
      },
      "outputs": [],
      "source": [
        "# plt.figure(figsize=(10,10))\n",
        "# plt.plot(f['report']['biophysical']['data'][:,119],color='b')\n",
        "# plt.plot(f['report']['biophysical']['data'][:,110],color='b',alpha=0.5)\n",
        "# plt.plot(f['report']['biophysical']['data'][:,104],color='b',alpha=0.1)\n",
        "\n",
        "# plt.plot(f['report']['biophysical']['data'][:,134],color='c',alpha=1)\n",
        "# plt.plot(f['report']['biophysical']['data'][:,0],'k')\n",
        "# plt.twinx()\n",
        "# plt.plot(h['report']['biophysical']['data'][:,119],color='r')\n",
        "# plt.plot(h['report']['biophysical']['data'][:,110],color='r',alpha=0.5)\n",
        "# plt.plot(h['report']['biophysical']['data'][:,103],color='r',alpha=0.1)\n",
        "\n",
        "# plt.xlim(526519-100,526519+1000)"
      ]
    },
    {
      "cell_type": "code",
      "execution_count": 84,
      "metadata": {
        "id": "oqRg0dNv4vap"
      },
      "outputs": [],
      "source": [
        ""
      ]
    },
    {
      "cell_type": "code",
      "execution_count": 85,
      "metadata": {
        "id": "xsQ5PRlP4vap"
      },
      "outputs": [],
      "source": [
        "nmda2 = np.zeros((79,))\n",
        "\n",
        "for i in spktimes:\n",
        "    nmda_inds2 = np.sort(segs_nmda_df[(segs_nmda_df.Degrees<=3)&\n",
        "             (~pd.isnull(segs_nmda_df.nmda_lower_bound))&\n",
        "             (segs_nmda_df.mag<-0.1)&\n",
        "                (segs_nmda_df.Type=='dend')]['nmda_lower_bound'].values.astype(int))\n",
        "\n",
        "    x2, _ = np.histogram(nmda_inds2/10,bins=np.arange(i-40,i+40,1))\n",
        "    nmda2 += x2\n",
        "    \n",
        "    #na_inds3 = segs_na_df[(segs_na_df.Degrees==3)&(~pd.isnull(segs_na_df.na_lower_bound))]['na_lower_bound'].values.astype(int)\n",
        "    #x3, _ = np.histogram(na_inds3/10,bins=np.arange(i-20,i+20,1))\n",
        "    #na3 += x3\n",
        "    \n",
        "    #na_inds4 = segs_na_df[(segs_na_df.Degrees==4)&(~pd.isnull(segs_na_df.na_lower_bound))]['na_lower_bound'].values.astype(int)\n",
        "    #x4, _ = np.histogram(na_inds4/10,bins=np.arange(i-20,i+20,1))\n",
        "    #na4 += x4\n",
        "    \n",
        "    #na_inds5 = segs_na_df[(segs_na_df.Degrees==5)&(~pd.isnull(segs_na_df.na_lower_bound))]['na_lower_bound'].values.astype(int)\n",
        "    #x5, _ = np.histogram(na_inds5/10,bins=np.arange(i-20,i+20,1))\n",
        "    #na5 += x5\n",
        "    "
      ]
    },
    {
      "cell_type": "code",
      "execution_count": 86,
      "metadata": {
        "id": "vUUqHx824vap",
        "colab": {
          "base_uri": "https://localhost:8080/",
          "height": 283
        },
        "outputId": "a2aa4847-38d9-4015-c333-1cc690a1c6cb"
      },
      "outputs": [
        {
          "output_type": "execute_result",
          "data": {
            "text/plain": [
              "[<matplotlib.lines.Line2D at 0x7efdaa707690>]"
            ]
          },
          "metadata": {},
          "execution_count": 86
        },
        {
          "output_type": "display_data",
          "data": {
            "text/plain": [
              "<Figure size 432x288 with 1 Axes>"
            ],
            "image/png": "[encoded data removed]"
          },
          "metadata": {
            "needs_background": "light"
          }
        }
      ],
      "source": [
        "plt.plot(nmda2)"
      ]
    },
    {
      "cell_type": "code",
      "execution_count": 86,
      "metadata": {
        "id": "_3P97ixw4vap"
      },
      "outputs": [],
      "source": [
        ""
      ]
    },
    {
      "cell_type": "code",
      "execution_count": 86,
      "metadata": {
        "id": "LtCXJTG94vap"
      },
      "outputs": [],
      "source": [
        ""
      ]
    },
    {
      "cell_type": "code",
      "execution_count": 86,
      "metadata": {
        "id": "2H2GkHjg4vap"
      },
      "outputs": [],
      "source": [
        ""
      ]
    },
    {
      "cell_type": "code",
      "execution_count": 87,
      "metadata": {
        "id": "plFcK6PZ4vap"
      },
      "outputs": [],
      "source": [
        "# import matplotlib\n",
        "# font = {'family' : 'normal',\n",
        "#         'weight' : 'normal',\n",
        "#         'size'   : 16}\n",
        "\n",
        "# matplotlib.rc('font', **font)\n",
        "\n",
        "# ind = 1139\n",
        "# plt.figure(figsize=(12,10))\n",
        "# plt.plot(np.arange(0,60000,.1),f['report']['biophysical']['data'][:,ind],color='b',label='dend voltage')\n",
        "# plt.plot(np.arange(0,60000,.1),f['report']['biophysical']['data'][:,0],color='k',alpha=0.3,label='soma voltage')\n",
        "# plt.legend(loc='lower left')\n",
        "# plt.hlines(-40,0,60000,linestyle='dashed')\n",
        "# plt.ylabel('voltage (mV)')\n",
        "# plt.ylim(-85,25)\n",
        "# plt.xlabel('time (ms)')\n",
        "# plt.twinx()\n",
        "# plt.plot(np.arange(0,60000,.1),h['report']['biophysical']['data'][:,ind],color='r',label='inmda dend')\n",
        "# plt.legend(loc='upper right')\n",
        "# plt.plot(np.arange(0,60000,.1)[nmda_df[nmda_df.seg_id==ind]['nmda_lower_bound'].values.astype(int)],\n",
        "#          h['report']['biophysical']['data'][nmda_df[nmda_df.seg_id==ind]['nmda_lower_bound'].values.astype(int),ind],'m*',markersize=20)\n",
        "# plt.plot(np.arange(0,60000,.1)[nmda_df[nmda_df.seg_id==ind]['nmda_upper_bound'].values.astype(int)],\n",
        "#          h['report']['biophysical']['data'][nmda_df[nmda_df.seg_id==ind]['nmda_upper_bound'].values.astype(int),ind],'k*',markersize=20)\n",
        "# plt.ylim(-0.009,0.001)\n",
        "# plt.xlim(37000,39000)\n",
        "# plt.ylabel('current (nA)')\n"
      ]
    },
    {
      "cell_type": "code",
      "execution_count": 88,
      "metadata": {
        "id": "QYx2H4314vap"
      },
      "outputs": [],
      "source": [
        "# import matplotlib\n",
        "# font = {'family' : 'normal',\n",
        "#         'weight' : 'normal',\n",
        "#         'size'   : 16}\n",
        "\n",
        "# matplotlib.rc('font', **font)\n",
        "\n",
        "# plt.figure(figsize=(12,10))\n",
        "# plt.plot(np.arange(0,60000,.1),f['report']['biophysical']['data'][:,175],color='b',label='dend voltage')\n",
        "# plt.plot(np.arange(0,60000,.1),f['report']['biophysical']['data'][:,0],color='k',alpha=0.3,label='soma voltage')\n",
        "# plt.legend(loc='lower left')\n",
        "# plt.hlines(-40,0,60000,linestyle='dashed')\n",
        "# plt.ylabel('voltage (mV)')\n",
        "# plt.ylim(-85,25)\n",
        "# plt.xlabel('time (ms)')\n",
        "# plt.twinx()\n",
        "# plt.plot(np.arange(0,60000,.1),h['report']['biophysical']['data'][:,175],color='r',label='inmda dend')\n",
        "# plt.legend(loc='upper right')\n",
        "# plt.plot(np.arange(0,60000,.1)[nmda_df[nmda_df.seg_id==175]['nmda_lower_bound'].values.astype(int)],\n",
        "#          h['report']['biophysical']['data'][nmda_df[nmda_df.seg_id==175]['nmda_lower_bound'].values.astype(int),175],'m*',markersize=20)\n",
        "# plt.plot(np.arange(0,60000,.1)[nmda_df[nmda_df.seg_id==175]['nmda_upper_bound'].values.astype(int)],\n",
        "#          h['report']['biophysical']['data'][nmda_df[nmda_df.seg_id==175]['nmda_upper_bound'].values.astype(int),175],'k*',markersize=20)\n",
        "# plt.xlim(32000,32400)\n",
        "# plt.ylim(-0.009,0.001)\n",
        "# plt.ylabel('current (nA)')\n"
      ]
    },
    {
      "cell_type": "code",
      "execution_count": 89,
      "metadata": {
        "id": "zvXGNGGT4vaq"
      },
      "outputs": [],
      "source": [
        "nmda_spktimes = nmda_df[nmda_df.mag<-0.1]['nmda_lower_bound']/10\n",
        "n = np.zeros((12,))\n",
        "for i in spktimes:\n",
        "    x,y = np.histogram(nmda_spktimes[(nmda_spktimes>i-30) & (nmda_spktimes<i+30)]-i,bins=np.arange(-30,31,5))\n",
        "    n+=x"
      ]
    },
    {
      "cell_type": "code",
      "execution_count": 90,
      "metadata": {
        "id": "gikT0cOM4vaq",
        "colab": {
          "base_uri": "https://localhost:8080/"
        },
        "outputId": "84ec4037-e096-44d6-813b-a13dc4429a69"
      },
      "outputs": [
        {
          "output_type": "execute_result",
          "data": {
            "text/plain": [
              "(13,)"
            ]
          },
          "metadata": {},
          "execution_count": 90
        }
      ],
      "source": [
        "np.arange(-30,31,5).shape"
      ]
    },
    {
      "cell_type": "code",
      "execution_count": 91,
      "metadata": {
        "id": "61dFsyAl4vaq",
        "colab": {
          "base_uri": "https://localhost:8080/",
          "height": 283
        },
        "outputId": "5bb96f6a-3458-4ad9-9482-e9e95fbb67e4"
      },
      "outputs": [
        {
          "output_type": "execute_result",
          "data": {
            "text/plain": [
              "[<matplotlib.lines.Line2D at 0x7efda9e8c090>]"
            ]
          },
          "metadata": {},
          "execution_count": 91
        },
        {
          "output_type": "display_data",
          "data": {
            "text/plain": [
              "<Figure size 432x288 with 1 Axes>"
            ],
            "image/png": "[encoded data removed]"
          },
          "metadata": {
            "needs_background": "light"
          }
        }
      ],
      "source": [
        "plt.plot(np.arange(-30,30,5),n)"
      ]
    },
    {
      "cell_type": "code",
      "execution_count": 92,
      "metadata": {
        "id": "hihbEY_D4vaq"
      },
      "outputs": [],
      "source": [
        "na_spktimes = na_df[~pd.isnull(na_df.na_lower_bound)]['na_lower_bound']/10\n",
        "na = np.zeros((20,))\n",
        "for i in spktimes:\n",
        "    x,y = np.histogram(na_spktimes[(na_spktimes>i-10) & (na_spktimes<i+10)]-i,bins=np.arange(-10,11,1))\n",
        "    na+=x"
      ]
    },
    {
      "cell_type": "code",
      "execution_count": 93,
      "metadata": {
        "id": "O6lnaEw54vaq"
      },
      "outputs": [],
      "source": [
        "# plt.plot(na_df[~pd.isnull(na_df.na_lower_bound)]['na_lower_bound']/10,\n",
        "#          na_df[~pd.isnull(na_df.na_lower_bound)]['seg_id'],'*')"
      ]
    },
    {
      "cell_type": "code",
      "execution_count": 93,
      "metadata": {
        "id": "mCYyq4QZ4vaq"
      },
      "outputs": [],
      "source": [
        ""
      ]
    },
    {
      "cell_type": "code",
      "execution_count": 93,
      "metadata": {
        "id": "wosrKFbn4vaq"
      },
      "outputs": [],
      "source": [
        ""
      ]
    },
    {
      "cell_type": "code",
      "execution_count": 94,
      "metadata": {
        "id": "AX2hpqhx4vaq",
        "colab": {
          "base_uri": "https://localhost:8080/",
          "height": 283
        },
        "outputId": "c8755ad4-ca3a-42c6-8f1d-af6eb8754c8e"
      },
      "outputs": [
        {
          "output_type": "execute_result",
          "data": {
            "text/plain": [
              "[<matplotlib.lines.Line2D at 0x7efda9c72d90>]"
            ]
          },
          "metadata": {},
          "execution_count": 94
        },
        {
          "output_type": "display_data",
          "data": {
            "text/plain": [
              "<Figure size 432x288 with 1 Axes>"
            ],
            "image/png": "[encoded data removed]"
          },
          "metadata": {
            "needs_background": "light"
          }
        }
      ],
      "source": [
        "plt.plot(nmda_spktimes,np.random.randint(low=0,high=100,size=len(nmda_spktimes)),'.')\n",
        "plt.plot(spktimes,np.tile(40,len(spktimes)),'r*')"
      ]
    },
    {
      "cell_type": "code",
      "execution_count": 95,
      "metadata": {
        "id": "BInnvuzU4vaq"
      },
      "outputs": [],
      "source": [
        "x1,_=np.histogram(spktimes,bins=np.arange(0,10000,100))\n",
        "x2,_=np.histogram(nmda_spktimes,bins=np.arange(0,10000,100))"
      ]
    },
    {
      "cell_type": "code",
      "execution_count": 96,
      "metadata": {
        "id": "cLJIEXrs4vaq"
      },
      "outputs": [],
      "source": [
        "# plt.figure(figsize=(10,8))\n",
        "# plt.plot(np.arange(0,10000,.1),control_v[:,176],color='b')\n",
        "# plt.plot(np.arange(0,10000,.1)[nmda_df.loc[nmda_df.seg_id==175,'nmda_lower_bound'].values.astype(int)],control_v[nmda_df.loc[nmda_df.seg_id==175,'nmda_lower_bound'].values.astype(int),176],'m*')\n",
        "# plt.plot(np.arange(0,10000,.1),control_v[:,0],color='k')\n",
        "# plt.xlim(6000,7000)"
      ]
    },
    {
      "cell_type": "code",
      "execution_count": 96,
      "metadata": {
        "id": "sSAq2Kj64vaq"
      },
      "outputs": [],
      "source": [
        ""
      ]
    },
    {
      "cell_type": "code",
      "execution_count": 96,
      "metadata": {
        "id": "RQXnGrXg4vaq"
      },
      "outputs": [],
      "source": [
        ""
      ]
    },
    {
      "cell_type": "code",
      "execution_count": 96,
      "metadata": {
        "id": "EZB7_ygG4vaq"
      },
      "outputs": [],
      "source": [
        ""
      ]
    },
    {
      "cell_type": "code",
      "execution_count": 96,
      "metadata": {
        "id": "yJUmMwPj4vaq"
      },
      "outputs": [],
      "source": [
        ""
      ]
    },
    {
      "cell_type": "code",
      "execution_count": 97,
      "metadata": {
        "id": "PCmw_39l4vaq"
      },
      "outputs": [],
      "source": [
        "# # ind1 = 3 sent to Drew\n",
        "# ind1 = 2\n",
        "# e1 = control_inmda[legit_uc_iso[ind1], p]\n",
        "# e2 = control_inmda[legit_dc_iso[ind1], p]\n",
        "# x30 = np.argwhere(np.diff(control_inmda[legit_uc_iso[ind1]:legit_dc_iso[ind1], p] < 1.3*e1, prepend=False))\n",
        "# x15 = np.argwhere(np.diff(control_inmda[legit_uc_iso[ind1]:legit_dc_iso[ind1], p] < 1.15*e1, prepend=False))"
      ]
    },
    {
      "cell_type": "code",
      "execution_count": 98,
      "metadata": {
        "id": "GMx0qX0y4vaq"
      },
      "outputs": [],
      "source": [
        "# import matplotlib\n",
        "# font = {'family' : 'normal',\n",
        "#         'weight' : 'normal',\n",
        "#         'size'   : 16}\n",
        "\n",
        "# matplotlib.rc('font', **font)\n",
        "\n",
        "# plt.figure(figsize=(12,10))\n",
        "# plt.plot(np.arange(0,(legit_dc_iso[ind1]-legit_uc_iso[ind1])/10, 0.1),\n",
        "#          control_inmda[legit_uc_iso[ind1]:legit_dc_iso[ind1], p],color='r',label='inmda @ dend.')\n",
        "# plt.hlines(1.3*e1,0,np.max(np.arange(0,(legit_dc_iso[ind1]-legit_uc_iso[ind1])/10, 0.1)),color='r',alpha=0.2)\n",
        "# plt.hlines(1.15*e1,0,np.max(np.arange(0,(legit_dc_iso[ind1]-legit_uc_iso[ind1])/10, 0.1)),color='r',alpha=0.2)\n",
        "# plt.ylabel('current (nA)')\n",
        "# plt.ylim(-0.010,0)\n",
        "# plt.legend(loc='upper center')\n",
        "# plt.xlabel('time (ms)')\n",
        "# plt.twinx()\n",
        "# plt.plot(np.arange(0,(legit_dc_iso[ind1]-legit_uc_iso[ind1])/10, 0.1),\n",
        "#          control_v[legit_uc_iso[ind1]:legit_dc_iso[ind1],p],color='b',label='dend. volt.')\n",
        "# plt.plot(np.arange(0,(legit_dc_iso[ind1]-legit_uc_iso[ind1])/10, 0.1),\n",
        "#          control_v[legit_uc_iso[ind1]:legit_dc_iso[ind1],0], color='k',label='soma volt.')\n",
        "\n",
        "\n",
        "# for i in np.arange(0,len(bounds)):\n",
        "#     plt.fill_between(np.array([bounds[i][0]/10,bounds[i][1]/10]).reshape(2,),-70,20,color='k',alpha=0.2)\n",
        "#     plt.text(bounds[i][0]/10,-20-(i*10),'{x:.2f}'.format(x=sum_current[i]))\n",
        "##plt.fill_between(np.array([bounds[1][0]/10,bounds[1][1]/10]).reshape(2,),-70,20,color='k',alpha=0.2)\n",
        "##plt.fill_between(np.array([bounds[2][0]/10,bounds[2][1]/10]).reshape(2,),-70,20,color='k',alpha=0.2)\n",
        "#plt.hlines(-40,0,np.max(np.arange(0,(legit_uc_iso[ind1+1]-legit_uc_iso[ind1])/10, 0.1)),linestyle='dashed')\n",
        "##plt.text(1.5,14,'NMDA\\nspike')\n",
        "#plt.ylabel('voltage (mV)')\n",
        "#plt.legend()"
      ]
    },
    {
      "cell_type": "code",
      "execution_count": 99,
      "metadata": {
        "id": "Jy1JT1Nq4vaq"
      },
      "outputs": [],
      "source": [
        "# plt.figure(figsize=(12,10))\n",
        "# plt.plot(np.arange(0,10000,.1),control_v[:,p],label='control dend. v')\n",
        "# plt.plot(np.arange(0,10000,.1),NMDAblock_v[:,p],label='NMDA block dend. v')\n",
        "# plt.plot(np.arange(0,10000,.1),control_v[:,0],color='k',label='control soma v')\n",
        "\n",
        "# uc = voltage_criterion(control_v[:,p],-40)[0]\n",
        "\n",
        "\n",
        "# plt.plot(np.arange(0,10000,.1)[uc],control_v[uc,p],'*')\n",
        "# plt.plot(np.arange(0,10000,.1)[legit_uc],control_v[legit_uc,p],'m*')\n",
        "\n",
        "\n",
        "# center = np.floor(legit_uc[np.random.choice(np.arange(0,legit_uc.shape[0]))]/10)\n",
        "\n",
        "# plt.plot([center,center+26],[-80,-80],color='k')\n",
        "# plt.legend(loc='lower left')\n",
        "\n",
        "# plt.twinx()\n",
        "# plt.plot(np.arange(0,10000,.1),control_inmda[:,p],color='r',label='NMDA current')\n",
        "# plt.plot(np.arange(0,10000,.1)[legit_uc],control_inmda[legit_uc, p],'*')\n",
        "# #plt.plot(np.arange(0,10000,.1),control_gna[:,p],color='r',alpha=0.2, label='gNa')\n",
        "# plt.xlim(center-100,center+100)\n",
        "\n",
        "# plt.legend(loc='lower right')\n",
        "# plt.title('{}'.format(legit_uc))"
      ]
    },
    {
      "cell_type": "code",
      "execution_count": 100,
      "metadata": {
        "id": "nMgTL3Kh4vaq"
      },
      "outputs": [],
      "source": [
        "# p = np.random.choice(segs[segs.Type=='apic'].index)\n",
        "# for i in spktimes:\n",
        "#     plt.plot(np.arange(0,20,.1), control_v[int(i*10)-100:int(i*10)+100,p])\n",
        "# plt.vlines(10,-65,0,color='k')\n",
        "# plt.ylim(-65,0)"
      ]
    },
    {
      "cell_type": "code",
      "execution_count": 101,
      "metadata": {
        "id": "UkNA5PUa4vaq"
      },
      "outputs": [],
      "source": [
        "# p = 829#np.random.choice(segs[segs.Type=='dend'].index)\n",
        "# plt.title('dend {}'.format(p))\n",
        "# plt.plot(control_v[7200:7700,p],label='dend')\n",
        "# plt.plot(control_v[7200:7700,0],label='soma')\n",
        "# plt.hlines(-40,0,500)\n",
        "# plt.twinx()\n",
        "# plt.plot(control_inmda[7200:7700,p],color='r')\n",
        "# plt.legend()"
      ]
    },
    {
      "cell_type": "code",
      "execution_count": 102,
      "metadata": {
        "id": "PTz_OD204vaq"
      },
      "outputs": [],
      "source": [
        "# control_v[10000,0]"
      ]
    },
    {
      "cell_type": "code",
      "execution_count": 103,
      "metadata": {
        "id": "0j1tXS3E4var"
      },
      "outputs": [],
      "source": [
        "# plt.hist(control_v[10000,:])"
      ]
    },
    {
      "cell_type": "code",
      "execution_count": 104,
      "metadata": {
        "id": "xc3yqYuK4var"
      },
      "outputs": [],
      "source": [
        "# plt.plot(control_v[:,1200])\n",
        "# plt.plot(NMDAblock_v[:,1200])"
      ]
    },
    {
      "cell_type": "code",
      "execution_count": 105,
      "metadata": {
        "id": "yL_5vEQb4var"
      },
      "outputs": [],
      "source": [
        "# df = ids_pos.set_index(['BMTK ID', 'X']).join(segs.set_index(['BMTK ID', 'X'])).reset_index()"
      ]
    },
    {
      "cell_type": "code",
      "execution_count": 106,
      "metadata": {
        "id": "-SAxAuK34var"
      },
      "outputs": [],
      "source": [
        "# df.loc[0,'Distance'], np.mean(f['report']['biophysical']['data'],axis=0)[0]"
      ]
    },
    {
      "cell_type": "code",
      "execution_count": 107,
      "metadata": {
        "id": "tcCgvLcV4var"
      },
      "outputs": [],
      "source": [
        "# df[(df.Distance>900) & (df.Distance<1000)]"
      ]
    },
    {
      "cell_type": "code",
      "execution_count": 108,
      "metadata": {
        "id": "iSQt7tgD4var"
      },
      "outputs": [],
      "source": [
        "# plt.scatter(np.arange(0,df.shape[0]), np.mean(f['report']['biophysical']['data'],axis=0))\n",
        "# plt.xlim(1740,1760)"
      ]
    },
    {
      "cell_type": "code",
      "execution_count": 109,
      "metadata": {
        "id": "q5Lf7TbC4var"
      },
      "outputs": [],
      "source": [
        "# plt.figure(figsize=(10,6))\n",
        "# plt.scatter(df['Distance'],np.mean(f['report']['biophysical']['data'],axis=0),alpha=0.2)\n",
        "# plt.scatter(df.loc[0,'Distance'], np.mean(f['report']['biophysical']['data'],axis=0)[0],color='r', marker='*', s=75)\n",
        "# plt.scatter(df.loc[1452,'Distance'], np.mean(f['report']['biophysical']['data'],axis=0)[1452],color='m',marker='*', s=75)\n",
        "# plt.scatter(df.loc[1754,'Distance'], np.mean(f['report']['biophysical']['data'],axis=0)[1754],color='k',marker='*', s=75)\n",
        "# plt.xlabel('distance from soma')\n",
        "# plt.ylabel('mean potential of segment (mV)')"
      ]
    },
    {
      "cell_type": "code",
      "execution_count": 110,
      "metadata": {
        "id": "yVPunG4e4var"
      },
      "outputs": [],
      "source": [
        "# #plt.scatter(np.arange(0,f['report']['biophysical']['data'].shape[1]),np.mean(f['report']['biophysical']['data'],axis=0))\n",
        "\n",
        "# plt.figure(figsize=(10,6))\n",
        "\n",
        "# plt.plot(np.arange(0,2,0.0001),f['report']['biophysical']['data'][:,0],color='r')\n",
        "# plt.plot(np.arange(0,2,0.0001),f['report']['biophysical']['data'][:,1452],color='m')\n",
        "# plt.plot(np.arange(0,2,0.0001),f['report']['biophysical']['data'][:,1754],color='k')\n",
        "# plt.xlim(1.75,2)\n",
        "# plt.xlabel('time (s)')\n",
        "# plt.ylabel('membrane potential (mV)')"
      ]
    },
    {
      "cell_type": "code",
      "execution_count": 110,
      "metadata": {
        "id": "WeeWcSCF4var"
      },
      "outputs": [],
      "source": [
        ""
      ]
    }
  ],
  "metadata": {
    "kernelspec": {
      "display_name": "Python 3",
      "language": "python",
      "name": "python3"
    },
    "language_info": {
      "codemirror_mode": {
        "name": "ipython",
        "version": 3
      },
      "file_extension": ".py",
      "mimetype": "text/x-python",
      "name": "python",
      "nbconvert_exporter": "python",
      "pygments_lexer": "ipython3",
      "version": "3.6.10"
    },
    "colab": {
      "name": "NMDAExploration.ipynb",
      "provenance": [],
      "include_colab_link": true
    }
  },
  "nbformat": 4,
  "nbformat_minor": 0
}