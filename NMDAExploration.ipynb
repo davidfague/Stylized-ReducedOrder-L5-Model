{
  "cells": [
    {
      "cell_type": "markdown",
      "metadata": {
        "id": "view-in-github",
        "colab_type": "text"
      },
      "source": [
        "<a href=\"https://colab.research.google.com/github/davidfague/Stylized-ReducedOrder-L5-Model/blob/main/NMDAExploration.ipynb\" target=\"_parent\"><img src=\"https://colab.research.google.com/assets/colab-badge.svg\" alt=\"Open In Colab\"/></a>"
      ]
    },
    {
      "cell_type": "code",
      "source": [
        "Detailed=True # Change for whether or not you want to use the detailed or reduced order model"
      ],
      "metadata": {
        "id": "kjthfjOQ8Lqs"
      },
      "execution_count": 1,
      "outputs": []
    },
    {
      "cell_type": "code",
      "source": [
        "github=False # Change between 0 and 1 for whether or not you want to get the model from github or google drive\n",
        "#Github isn't working right now because you need the data on Github, but the data is too large to upload.\n",
        "\n",
        "import shutil\n",
        "if github==True: # If you do not already have the model, comment the above and uncomment below\n",
        "  # shutil.rmtree('Stylized-ReducedOrder-L5-Model/') #removes folder if already cloned\n",
        "  !git clone https://github.com/davidfague/Stylized-ReducedOrder-L5-Model.git\n",
        "  %cd Stylized-ReducedOrder-L5-Model/\n",
        "else: #If you have the folder in your google drive (easier to update geom_parameters)\n",
        "  from google.colab import drive\n",
        "  drive.mount('/content/drive')\n",
        "  %cd /content/drive/MyDrive/Stylized-ReducedOrder-L5-Model/"
      ],
      "metadata": {
        "id": "dDVZmhyv8CgH",
        "colab": {
          "base_uri": "https://localhost:8080/"
        },
        "outputId": "ab5a1fe4-93c6-4e80-8da6-6f0c91e96e6d"
      },
      "execution_count": 2,
      "outputs": [
        {
          "output_type": "stream",
          "name": "stdout",
          "text": [
            "Drive already mounted at /content/drive; to attempt to forcibly remount, call drive.mount(\"/content/drive\", force_remount=True).\n",
            "/content/drive/MyDrive/Stylized-ReducedOrder-L5-Model\n"
          ]
        }
      ]
    },
    {
      "cell_type": "code",
      "source": [
        "import pandas as pd\n",
        "import h5py\n",
        "import numpy as np\n",
        "import matplotlib.pyplot as plt\n",
        "import seaborn as sns\n",
        "import scipy.signal as ss\n",
        "# import ZipFile"
      ],
      "metadata": {
        "id": "fCzdVIpt5aS4"
      },
      "execution_count": 3,
      "outputs": []
    },
    {
      "cell_type": "code",
      "source": [
        "if Detailed == True:\n",
        "  output_folder = 'Detailedoutput_control'\n",
        "  segs = pd.read_csv('DetailedSegments.csv')\n",
        "  degrees_f='L5DetailedSectionDegrees.csv'\n",
        "  # ZipFile.extractall(path='Detailedoutput_control', members=None, pwd=None) #possible implementation for unzipping data from github\n",
        "else:\n",
        "  output_folder = 'output_control'\n",
        "  segs = pd.read_csv('L5Segments.csv')\n",
        "  degrees_f='SegmentsDegrees.csv'\n",
        "\n",
        "conns = pd.read_csv('./{}/Connections.csv'.format(output_folder))"
      ],
      "metadata": {
        "id": "k2SfrlXQ8gLb"
      },
      "execution_count": 4,
      "outputs": []
    },
    {
      "cell_type": "code",
      "source": [
        "# from google.colab import drive\n",
        "# drive.mount('/content/drive')\n",
        "\n",
        "# %cd /content/drive/MyDrive/Stylized-Cell-model/"
      ],
      "metadata": {
        "id": "RjWY8thN5Z9i"
      },
      "execution_count": 5,
      "outputs": []
    },
    {
      "cell_type": "code",
      "source": [
        "\n",
        "# for p in segs[(segs.Type=='dend')].index:\n",
        "#   threshold_crossings = np.diff(v['report']['biophysical']['data'][:,15] > -40, prepend=False)\n",
        "#   upward_crossings = np.argwhere(threshold_crossings)[::2,0]\n",
        "#   print(p)\n",
        "#   if np.mod(np.argwhere(threshold_crossings).reshape(-1,).shape[0],2)!=0:\n",
        "#     legit_up_crossings = upward_crossings[:-1][np.diff(np.argwhere(threshold_crossings).reshape(-1,))[::2]>260]\n",
        "#     print('if')\n",
        "#   else:\n",
        "#     legit_up_crossings = upward_crossings[np.diff(np.argwhere(threshold_crossings).reshape(-1,))[::2]>260]\n",
        "#     print('else')\n",
        "\n",
        "\n",
        "\n",
        "# print(legit_up_crossings)"
      ],
      "metadata": {
        "id": "LtL0LgcVr0QB"
      },
      "execution_count": 6,
      "outputs": []
    },
    {
      "cell_type": "code",
      "execution_count": 7,
      "metadata": {
        "id": "E2Jp8o0E4vac"
      },
      "outputs": [],
      "source": [
        "def voltage_criterion(data=None, v_thresh=-40, time_thresh=260):\n",
        "    threshold_crossings = np.diff(data > v_thresh, prepend=False)\n",
        "    upward_crossings = np.argwhere(threshold_crossings)[::2,0]\n",
        "    downward_crossings = np.argwhere(threshold_crossings)[1::2,0]\n",
        "    #print('volt')\n",
        "    #print(threshold_crossings)\n",
        "    #print(upward_crossings)\n",
        "    #print(downward_crossings)\n",
        "    # If length of threshold_crossings is not even\n",
        "    if np.mod(np.argwhere(threshold_crossings).reshape(-1,).shape[0],2)!=0:\n",
        "        legit_up_crossings = upward_crossings[:-1][np.diff(np.argwhere(threshold_crossings).reshape(-1,))[::2]>time_thresh]\n",
        "        legit_down_crossings = downward_crossings[np.diff(np.argwhere(threshold_crossings).reshape(-1,))[::2]>time_thresh]\n",
        "        #print('if')\n",
        "    else:\n",
        "        legit_up_crossings = upward_crossings[np.diff(np.argwhere(threshold_crossings).reshape(-1,))[::2]>time_thresh]\n",
        "        legit_down_crossings = downward_crossings[np.diff(np.argwhere(threshold_crossings).reshape(-1,))[::2]>time_thresh]\n",
        "        #print('else')\n",
        "    return upward_crossings, legit_up_crossings, legit_down_crossings\n",
        "\n",
        "# Input: upward and downward crossings\n",
        "# Output: bounds of NMDA spikes meeting current criterion\n",
        "def current_criterion(legit_uc_iso=[], legit_dc_iso=[], p=1, control_inmda=np.array([1])):\n",
        "    bounds = []\n",
        "    sum_current = []\n",
        "    \n",
        "\n",
        "    for ind1 in np.arange(0,len(legit_uc_iso)):\n",
        "        e1 = control_inmda[legit_uc_iso[ind1], p] #current @ up_crossing[ind1]\n",
        "        #all the indices where current crosses 130% of e1\n",
        "        x30 = np.argwhere(np.diff(control_inmda[legit_uc_iso[ind1]:legit_dc_iso[ind1], p] < 1.3*e1, prepend=False))\n",
        "        #all the indices where current crosses 115% of e1\n",
        "        x15 = np.argwhere(np.diff(control_inmda[legit_uc_iso[ind1]:legit_dc_iso[ind1], p] < 1.15*e1, prepend=False))\n",
        "        \n",
        "        if len(x30)>0:\n",
        "        \n",
        "            x15_copy = x15\n",
        "            x30_copy = x30\n",
        "            \n",
        "            try:\n",
        "                i = x30[0][0]\n",
        "            except:\n",
        "                import pdb; pdb.set_trace()\n",
        "                \n",
        "            n = 0\n",
        "            \n",
        "            \n",
        "            while n==0:\n",
        "                if len(np.sort(x15[x15>i]))!=0:\n",
        "                    b1 = i\n",
        "                    b2 = np.sort(x15[x15>i])[0]\n",
        "                    bounds.append([legit_uc_iso[ind1]+b1,legit_uc_iso[ind1]+b2])\n",
        "                    sum_current.append(np.sum(control_inmda[legit_uc_iso[ind1]+b1:legit_uc_iso[ind1]+b2,p])/10)\n",
        "                else:\n",
        "                    b1 = i\n",
        "                    b2 = (legit_dc_iso[ind1]-legit_uc_iso[ind1])\n",
        "                    bounds.append([legit_uc_iso[ind1]+b1,legit_uc_iso[ind1]+b2])\n",
        "                    sum_current.append(np.sum(control_inmda[legit_uc_iso[ind1]+b1:legit_uc_iso[ind1]+b2,p])/10)\n",
        "                    n=1\n",
        "                \n",
        "                x30_copy = x30_copy[x30_copy>legit_uc_iso[ind1]+b2]\n",
        "                #import pdb; pdb.set_trace()\n",
        "                \n",
        "                if len(x30_copy)!=0:\n",
        "                    i = x30_copy[x30_copy>b2][0]\n",
        "                else:\n",
        "                    n=1\n",
        "    return bounds, sum_current\n",
        "\n"
      ]
    },
    {
      "cell_type": "code",
      "source": [
        "conns.head()"
      ],
      "metadata": {
        "colab": {
          "base_uri": "https://localhost:8080/",
          "height": 206
        },
        "id": "1lrjxBj8-e4L",
        "outputId": "d0a5d4ca-35bd-42f6-ef1e-86f5b3004fed"
      },
      "execution_count": 8,
      "outputs": [
        {
          "output_type": "execute_result",
          "data": {
            "text/plain": [
              "   Node ID    Distance  Conductance  Type                                Name  \\\n",
              "0        0   61.505696     0.500607  dend  L5PCtemplate[0].dend[60](0.264706)   \n",
              "1        0  112.522057     0.325079  dend  L5PCtemplate[0].dend[28](0.128571)   \n",
              "2        0   73.494480     0.554728  dend       L5PCtemplate[0].dend[29](0.7)   \n",
              "3        0  101.530468     1.005930  dend  L5PCtemplate[0].dend[33](0.264706)   \n",
              "4        0   65.675576     0.304560  dend  L5PCtemplate[0].dend[48](0.409091)   \n",
              "\n",
              "  Source Population  Release Probability  \n",
              "0          exc_stim                  0.6  \n",
              "1          exc_stim                  0.6  \n",
              "2          exc_stim                  0.6  \n",
              "3          exc_stim                  0.6  \n",
              "4          exc_stim                  0.6  "
            ],
            "text/html": [
              "\n",
              "  <div id=\"df-51f4d51c-fbb8-4df9-b98d-df57fc2ebc97\">\n",
              "    <div class=\"colab-df-container\">\n",
              "      <div>\n",
              "<style scoped>\n",
              "    .dataframe tbody tr th:only-of-type {\n",
              "        vertical-align: middle;\n",
              "    }\n",
              "\n",
              "    .dataframe tbody tr th {\n",
              "        vertical-align: top;\n",
              "    }\n",
              "\n",
              "    .dataframe thead th {\n",
              "        text-align: right;\n",
              "    }\n",
              "</style>\n",
              "<table border=\"1\" class=\"dataframe\">\n",
              "  <thead>\n",
              "    <tr style=\"text-align: right;\">\n",
              "      <th></th>\n",
              "      <th>Node ID</th>\n",
              "      <th>Distance</th>\n",
              "      <th>Conductance</th>\n",
              "      <th>Type</th>\n",
              "      <th>Name</th>\n",
              "      <th>Source Population</th>\n",
              "      <th>Release Probability</th>\n",
              "    </tr>\n",
              "  </thead>\n",
              "  <tbody>\n",
              "    <tr>\n",
              "      <th>0</th>\n",
              "      <td>0</td>\n",
              "      <td>61.505696</td>\n",
              "      <td>0.500607</td>\n",
              "      <td>dend</td>\n",
              "      <td>L5PCtemplate[0].dend[60](0.264706)</td>\n",
              "      <td>exc_stim</td>\n",
              "      <td>0.6</td>\n",
              "    </tr>\n",
              "    <tr>\n",
              "      <th>1</th>\n",
              "      <td>0</td>\n",
              "      <td>112.522057</td>\n",
              "      <td>0.325079</td>\n",
              "      <td>dend</td>\n",
              "      <td>L5PCtemplate[0].dend[28](0.128571)</td>\n",
              "      <td>exc_stim</td>\n",
              "      <td>0.6</td>\n",
              "    </tr>\n",
              "    <tr>\n",
              "      <th>2</th>\n",
              "      <td>0</td>\n",
              "      <td>73.494480</td>\n",
              "      <td>0.554728</td>\n",
              "      <td>dend</td>\n",
              "      <td>L5PCtemplate[0].dend[29](0.7)</td>\n",
              "      <td>exc_stim</td>\n",
              "      <td>0.6</td>\n",
              "    </tr>\n",
              "    <tr>\n",
              "      <th>3</th>\n",
              "      <td>0</td>\n",
              "      <td>101.530468</td>\n",
              "      <td>1.005930</td>\n",
              "      <td>dend</td>\n",
              "      <td>L5PCtemplate[0].dend[33](0.264706)</td>\n",
              "      <td>exc_stim</td>\n",
              "      <td>0.6</td>\n",
              "    </tr>\n",
              "    <tr>\n",
              "      <th>4</th>\n",
              "      <td>0</td>\n",
              "      <td>65.675576</td>\n",
              "      <td>0.304560</td>\n",
              "      <td>dend</td>\n",
              "      <td>L5PCtemplate[0].dend[48](0.409091)</td>\n",
              "      <td>exc_stim</td>\n",
              "      <td>0.6</td>\n",
              "    </tr>\n",
              "  </tbody>\n",
              "</table>\n",
              "</div>\n",
              "      <button class=\"colab-df-convert\" onclick=\"convertToInteractive('df-51f4d51c-fbb8-4df9-b98d-df57fc2ebc97')\"\n",
              "              title=\"Convert this dataframe to an interactive table.\"\n",
              "              style=\"display:none;\">\n",
              "        \n",
              "  <svg xmlns=\"http://www.w3.org/2000/svg\" height=\"24px\"viewBox=\"0 0 24 24\"\n",
              "       width=\"24px\">\n",
              "    <path d=\"M0 0h24v24H0V0z\" fill=\"none\"/>\n",
              "    <path d=\"M18.56 5.44l.94 2.06.94-2.06 2.06-.94-2.06-.94-.94-2.06-.94 2.06-2.06.94zm-11 1L8.5 8.5l.94-2.06 2.06-.94-2.06-.94L8.5 2.5l-.94 2.06-2.06.94zm10 10l.94 2.06.94-2.06 2.06-.94-2.06-.94-.94-2.06-.94 2.06-2.06.94z\"/><path d=\"M17.41 7.96l-1.37-1.37c-.4-.4-.92-.59-1.43-.59-.52 0-1.04.2-1.43.59L10.3 9.45l-7.72 7.72c-.78.78-.78 2.05 0 2.83L4 21.41c.39.39.9.59 1.41.59.51 0 1.02-.2 1.41-.59l7.78-7.78 2.81-2.81c.8-.78.8-2.07 0-2.86zM5.41 20L4 18.59l7.72-7.72 1.47 1.35L5.41 20z\"/>\n",
              "  </svg>\n",
              "      </button>\n",
              "      \n",
              "  <style>\n",
              "    .colab-df-container {\n",
              "      display:flex;\n",
              "      flex-wrap:wrap;\n",
              "      gap: 12px;\n",
              "    }\n",
              "\n",
              "    .colab-df-convert {\n",
              "      background-color: #E8F0FE;\n",
              "      border: none;\n",
              "      border-radius: 50%;\n",
              "      cursor: pointer;\n",
              "      display: none;\n",
              "      fill: #1967D2;\n",
              "      height: 32px;\n",
              "      padding: 0 0 0 0;\n",
              "      width: 32px;\n",
              "    }\n",
              "\n",
              "    .colab-df-convert:hover {\n",
              "      background-color: #E2EBFA;\n",
              "      box-shadow: 0px 1px 2px rgba(60, 64, 67, 0.3), 0px 1px 3px 1px rgba(60, 64, 67, 0.15);\n",
              "      fill: #174EA6;\n",
              "    }\n",
              "\n",
              "    [theme=dark] .colab-df-convert {\n",
              "      background-color: #3B4455;\n",
              "      fill: #D2E3FC;\n",
              "    }\n",
              "\n",
              "    [theme=dark] .colab-df-convert:hover {\n",
              "      background-color: #434B5C;\n",
              "      box-shadow: 0px 1px 3px 1px rgba(0, 0, 0, 0.15);\n",
              "      filter: drop-shadow(0px 1px 2px rgba(0, 0, 0, 0.3));\n",
              "      fill: #FFFFFF;\n",
              "    }\n",
              "  </style>\n",
              "\n",
              "      <script>\n",
              "        const buttonEl =\n",
              "          document.querySelector('#df-51f4d51c-fbb8-4df9-b98d-df57fc2ebc97 button.colab-df-convert');\n",
              "        buttonEl.style.display =\n",
              "          google.colab.kernel.accessAllowed ? 'block' : 'none';\n",
              "\n",
              "        async function convertToInteractive(key) {\n",
              "          const element = document.querySelector('#df-51f4d51c-fbb8-4df9-b98d-df57fc2ebc97');\n",
              "          const dataTable =\n",
              "            await google.colab.kernel.invokeFunction('convertToInteractive',\n",
              "                                                     [key], {});\n",
              "          if (!dataTable) return;\n",
              "\n",
              "          const docLinkHtml = 'Like what you see? Visit the ' +\n",
              "            '<a target=\"_blank\" href=https://colab.research.google.com/notebooks/data_table.ipynb>data table notebook</a>'\n",
              "            + ' to learn more about interactive tables.';\n",
              "          element.innerHTML = '';\n",
              "          dataTable['output_type'] = 'display_data';\n",
              "          await google.colab.output.renderOutput(dataTable, element);\n",
              "          const docLink = document.createElement('div');\n",
              "          docLink.innerHTML = docLinkHtml;\n",
              "          element.appendChild(docLink);\n",
              "        }\n",
              "      </script>\n",
              "    </div>\n",
              "  </div>\n",
              "  "
            ]
          },
          "metadata": {},
          "execution_count": 8
        }
      ]
    },
    {
      "cell_type": "code",
      "source": [
        "#print(conns)"
      ],
      "metadata": {
        "id": "aVtXsyt3-mC4"
      },
      "execution_count": 9,
      "outputs": []
    },
    {
      "cell_type": "code",
      "source": [
        "conns.loc[conns.Type=='dend','Sec ID'] = conns.loc[conns.Type=='dend','Name'].apply(lambda x: int(x.split('dend[')[1].split(']')[0]))"
      ],
      "metadata": {
        "id": "YBYCzx-D52YK"
      },
      "execution_count": 10,
      "outputs": []
    },
    {
      "cell_type": "code",
      "execution_count": 11,
      "metadata": {
        "id": "xsVHZyAX4vaf"
      },
      "outputs": [],
      "source": [
        "conns.loc[conns.Type=='dend','Sec ID'] = conns.loc[conns.Type=='dend','Name'].apply(lambda x: int(x.split('dend[')[1].split(']')[0]))\n",
        "conns.loc[conns.Type=='apic','Sec ID'] = conns.loc[conns.Type=='apic','Name'].apply(lambda x: int(x.split('apic[')[1].split(']')[0]))\n",
        "conns.loc[conns.Type=='soma','Sec ID'] = conns.loc[conns.Type=='soma','Name'].apply(lambda x: int(x.split('soma[')[1].split(']')[0]))\n",
        "conns.loc[conns.Type=='axon','Sec ID'] = conns.loc[conns.Type=='axon','Name'].apply(lambda x: int(x.split('axon[')[1].split(']')[0]))\n",
        "\n",
        "conns['X'] = conns['Name'].apply(lambda x: float(x.split('(')[1].split(')')[0]))\n",
        "\n",
        "conns.rename(columns={'Distance':'conns_Distance'},inplace=True)\n",
        "\n",
        "conns['Sec ID'] = conns['Sec ID'].astype(int)\n",
        "conns['X'] = conns['X'].astype(float)"
      ]
    },
    {
      "cell_type": "code",
      "execution_count": 12,
      "metadata": {
        "id": "zzrizQpj4vaf",
        "colab": {
          "base_uri": "https://localhost:8080/",
          "height": 206
        },
        "outputId": "14bc6665-37e0-477d-ec01-707a471eb214"
      },
      "outputs": [
        {
          "output_type": "execute_result",
          "data": {
            "text/plain": [
              "   Node ID  conns_Distance  Conductance  Type  \\\n",
              "0        0       61.505696     0.500607  dend   \n",
              "1        0      112.522057     0.325079  dend   \n",
              "2        0       73.494480     0.554728  dend   \n",
              "3        0      101.530468     1.005930  dend   \n",
              "4        0       65.675576     0.304560  dend   \n",
              "\n",
              "                                 Name Source Population  Release Probability  \\\n",
              "0  L5PCtemplate[0].dend[60](0.264706)          exc_stim                  0.6   \n",
              "1  L5PCtemplate[0].dend[28](0.128571)          exc_stim                  0.6   \n",
              "2       L5PCtemplate[0].dend[29](0.7)          exc_stim                  0.6   \n",
              "3  L5PCtemplate[0].dend[33](0.264706)          exc_stim                  0.6   \n",
              "4  L5PCtemplate[0].dend[48](0.409091)          exc_stim                  0.6   \n",
              "\n",
              "   Sec ID         X  \n",
              "0      60  0.264706  \n",
              "1      28  0.128571  \n",
              "2      29  0.700000  \n",
              "3      33  0.264706  \n",
              "4      48  0.409091  "
            ],
            "text/html": [
              "\n",
              "  <div id=\"df-a4b4c8f7-c6b8-4128-94c9-e8d8eb2937df\">\n",
              "    <div class=\"colab-df-container\">\n",
              "      <div>\n",
              "<style scoped>\n",
              "    .dataframe tbody tr th:only-of-type {\n",
              "        vertical-align: middle;\n",
              "    }\n",
              "\n",
              "    .dataframe tbody tr th {\n",
              "        vertical-align: top;\n",
              "    }\n",
              "\n",
              "    .dataframe thead th {\n",
              "        text-align: right;\n",
              "    }\n",
              "</style>\n",
              "<table border=\"1\" class=\"dataframe\">\n",
              "  <thead>\n",
              "    <tr style=\"text-align: right;\">\n",
              "      <th></th>\n",
              "      <th>Node ID</th>\n",
              "      <th>conns_Distance</th>\n",
              "      <th>Conductance</th>\n",
              "      <th>Type</th>\n",
              "      <th>Name</th>\n",
              "      <th>Source Population</th>\n",
              "      <th>Release Probability</th>\n",
              "      <th>Sec ID</th>\n",
              "      <th>X</th>\n",
              "    </tr>\n",
              "  </thead>\n",
              "  <tbody>\n",
              "    <tr>\n",
              "      <th>0</th>\n",
              "      <td>0</td>\n",
              "      <td>61.505696</td>\n",
              "      <td>0.500607</td>\n",
              "      <td>dend</td>\n",
              "      <td>L5PCtemplate[0].dend[60](0.264706)</td>\n",
              "      <td>exc_stim</td>\n",
              "      <td>0.6</td>\n",
              "      <td>60</td>\n",
              "      <td>0.264706</td>\n",
              "    </tr>\n",
              "    <tr>\n",
              "      <th>1</th>\n",
              "      <td>0</td>\n",
              "      <td>112.522057</td>\n",
              "      <td>0.325079</td>\n",
              "      <td>dend</td>\n",
              "      <td>L5PCtemplate[0].dend[28](0.128571)</td>\n",
              "      <td>exc_stim</td>\n",
              "      <td>0.6</td>\n",
              "      <td>28</td>\n",
              "      <td>0.128571</td>\n",
              "    </tr>\n",
              "    <tr>\n",
              "      <th>2</th>\n",
              "      <td>0</td>\n",
              "      <td>73.494480</td>\n",
              "      <td>0.554728</td>\n",
              "      <td>dend</td>\n",
              "      <td>L5PCtemplate[0].dend[29](0.7)</td>\n",
              "      <td>exc_stim</td>\n",
              "      <td>0.6</td>\n",
              "      <td>29</td>\n",
              "      <td>0.700000</td>\n",
              "    </tr>\n",
              "    <tr>\n",
              "      <th>3</th>\n",
              "      <td>0</td>\n",
              "      <td>101.530468</td>\n",
              "      <td>1.005930</td>\n",
              "      <td>dend</td>\n",
              "      <td>L5PCtemplate[0].dend[33](0.264706)</td>\n",
              "      <td>exc_stim</td>\n",
              "      <td>0.6</td>\n",
              "      <td>33</td>\n",
              "      <td>0.264706</td>\n",
              "    </tr>\n",
              "    <tr>\n",
              "      <th>4</th>\n",
              "      <td>0</td>\n",
              "      <td>65.675576</td>\n",
              "      <td>0.304560</td>\n",
              "      <td>dend</td>\n",
              "      <td>L5PCtemplate[0].dend[48](0.409091)</td>\n",
              "      <td>exc_stim</td>\n",
              "      <td>0.6</td>\n",
              "      <td>48</td>\n",
              "      <td>0.409091</td>\n",
              "    </tr>\n",
              "  </tbody>\n",
              "</table>\n",
              "</div>\n",
              "      <button class=\"colab-df-convert\" onclick=\"convertToInteractive('df-a4b4c8f7-c6b8-4128-94c9-e8d8eb2937df')\"\n",
              "              title=\"Convert this dataframe to an interactive table.\"\n",
              "              style=\"display:none;\">\n",
              "        \n",
              "  <svg xmlns=\"http://www.w3.org/2000/svg\" height=\"24px\"viewBox=\"0 0 24 24\"\n",
              "       width=\"24px\">\n",
              "    <path d=\"M0 0h24v24H0V0z\" fill=\"none\"/>\n",
              "    <path d=\"M18.56 5.44l.94 2.06.94-2.06 2.06-.94-2.06-.94-.94-2.06-.94 2.06-2.06.94zm-11 1L8.5 8.5l.94-2.06 2.06-.94-2.06-.94L8.5 2.5l-.94 2.06-2.06.94zm10 10l.94 2.06.94-2.06 2.06-.94-2.06-.94-.94-2.06-.94 2.06-2.06.94z\"/><path d=\"M17.41 7.96l-1.37-1.37c-.4-.4-.92-.59-1.43-.59-.52 0-1.04.2-1.43.59L10.3 9.45l-7.72 7.72c-.78.78-.78 2.05 0 2.83L4 21.41c.39.39.9.59 1.41.59.51 0 1.02-.2 1.41-.59l7.78-7.78 2.81-2.81c.8-.78.8-2.07 0-2.86zM5.41 20L4 18.59l7.72-7.72 1.47 1.35L5.41 20z\"/>\n",
              "  </svg>\n",
              "      </button>\n",
              "      \n",
              "  <style>\n",
              "    .colab-df-container {\n",
              "      display:flex;\n",
              "      flex-wrap:wrap;\n",
              "      gap: 12px;\n",
              "    }\n",
              "\n",
              "    .colab-df-convert {\n",
              "      background-color: #E8F0FE;\n",
              "      border: none;\n",
              "      border-radius: 50%;\n",
              "      cursor: pointer;\n",
              "      display: none;\n",
              "      fill: #1967D2;\n",
              "      height: 32px;\n",
              "      padding: 0 0 0 0;\n",
              "      width: 32px;\n",
              "    }\n",
              "\n",
              "    .colab-df-convert:hover {\n",
              "      background-color: #E2EBFA;\n",
              "      box-shadow: 0px 1px 2px rgba(60, 64, 67, 0.3), 0px 1px 3px 1px rgba(60, 64, 67, 0.15);\n",
              "      fill: #174EA6;\n",
              "    }\n",
              "\n",
              "    [theme=dark] .colab-df-convert {\n",
              "      background-color: #3B4455;\n",
              "      fill: #D2E3FC;\n",
              "    }\n",
              "\n",
              "    [theme=dark] .colab-df-convert:hover {\n",
              "      background-color: #434B5C;\n",
              "      box-shadow: 0px 1px 3px 1px rgba(0, 0, 0, 0.15);\n",
              "      filter: drop-shadow(0px 1px 2px rgba(0, 0, 0, 0.3));\n",
              "      fill: #FFFFFF;\n",
              "    }\n",
              "  </style>\n",
              "\n",
              "      <script>\n",
              "        const buttonEl =\n",
              "          document.querySelector('#df-a4b4c8f7-c6b8-4128-94c9-e8d8eb2937df button.colab-df-convert');\n",
              "        buttonEl.style.display =\n",
              "          google.colab.kernel.accessAllowed ? 'block' : 'none';\n",
              "\n",
              "        async function convertToInteractive(key) {\n",
              "          const element = document.querySelector('#df-a4b4c8f7-c6b8-4128-94c9-e8d8eb2937df');\n",
              "          const dataTable =\n",
              "            await google.colab.kernel.invokeFunction('convertToInteractive',\n",
              "                                                     [key], {});\n",
              "          if (!dataTable) return;\n",
              "\n",
              "          const docLinkHtml = 'Like what you see? Visit the ' +\n",
              "            '<a target=\"_blank\" href=https://colab.research.google.com/notebooks/data_table.ipynb>data table notebook</a>'\n",
              "            + ' to learn more about interactive tables.';\n",
              "          element.innerHTML = '';\n",
              "          dataTable['output_type'] = 'display_data';\n",
              "          await google.colab.output.renderOutput(dataTable, element);\n",
              "          const docLink = document.createElement('div');\n",
              "          docLink.innerHTML = docLinkHtml;\n",
              "          element.appendChild(docLink);\n",
              "        }\n",
              "      </script>\n",
              "    </div>\n",
              "  </div>\n",
              "  "
            ]
          },
          "metadata": {},
          "execution_count": 12
        }
      ],
      "source": [
        "conns.head()"
      ]
    },
    {
      "cell_type": "code",
      "execution_count": 13,
      "metadata": {
        "id": "0BpOPokH4vag",
        "outputId": "c7ed2b62-bff6-4aba-d81e-05a036246e02",
        "colab": {
          "base_uri": "https://localhost:8080/"
        }
      },
      "outputs": [
        {
          "output_type": "stream",
          "name": "stdout",
          "text": [
            "      segmentID  BMTK ID     Seg_L   Seg_diam         X  Type  Sec ID  \\\n",
            "0             0        0  4.633872   9.290377  0.100000  soma       0   \n",
            "1             1        0  4.633872  15.657015  0.300000  soma       0   \n",
            "2             2        0  4.633872  17.526643  0.500000  soma       0   \n",
            "3             3        0  4.633872  15.446328  0.700000  soma       0   \n",
            "4             4        0  4.633872   9.437299  0.900000  soma       0   \n",
            "...         ...      ...       ...        ...       ...   ...     ...   \n",
            "2521       2521      195  4.285714   1.000000  0.357143  axon       1   \n",
            "2522       2522      195  4.285714   1.000000  0.500000  axon       1   \n",
            "2523       2523      195  4.285714   1.000000  0.642857  axon       1   \n",
            "2524       2524      195  4.285714   1.000000  0.785714  axon       1   \n",
            "2525       2525      195  4.285714   1.000000  0.928571  axon       1   \n",
            "\n",
            "       Distance  Section_L  Section_diam  Section_nseg  Section_Ra    Coord X  \\\n",
            "0      2.316936  23.169362     17.526643             5       100.0  -9.249733   \n",
            "1      6.950809  23.169362     17.526643             5       100.0  -4.624868   \n",
            "2     11.584681  23.169362     17.526643             5       100.0  -0.000010   \n",
            "3     16.218553  23.169362     17.526643             5       100.0   4.624854   \n",
            "4     20.852426  23.169362     17.526643             5       100.0   9.249712   \n",
            "...         ...        ...           ...           ...         ...        ...   \n",
            "2521  52.298967  30.000000      1.000000             7       100.0  13.486402   \n",
            "2522  56.584681  30.000000      1.000000             7       100.0  14.906023   \n",
            "2523  60.870395  30.000000      1.000000             7       100.0  16.325643   \n",
            "2524  65.156110  30.000000      1.000000             7       100.0  17.745267   \n",
            "2525  69.441824  30.000000      1.000000             7       100.0  19.164892   \n",
            "\n",
            "        Coord Y  Coord Z  ParentSegID  Elec_distance  \n",
            "0     -0.577674      0.0          NaN       0.998333  \n",
            "1     -0.288877      0.0          0.0       0.999377  \n",
            "2      0.000021      0.0          1.0       1.000000  \n",
            "3      0.288824      0.0          2.0       0.999389  \n",
            "4      0.577722      0.0          3.0       0.998310  \n",
            "...         ...      ...          ...            ...  \n",
            "2521  38.415725      0.0       2520.0       0.288860  \n",
            "2522  42.459489      0.0       2521.0       0.266747  \n",
            "2523  46.503252      0.0       2522.0       0.247700  \n",
            "2524  50.547015      0.0       2523.0       0.231136  \n",
            "2525  54.590777      0.0       2524.0       0.216606  \n",
            "\n",
            "[2526 rows x 17 columns]\n"
          ]
        }
      ],
      "source": [
        "# segs_degrees = pd.read_csv('SegmentsDegrees.csv').groupby(['Sec ID','Type'])['Degrees'].max().reset_index()\n",
        "print(segs)\n",
        "# print(segs_degrees)\n",
        "segs.head()\n",
        "segs['segmentID'] = segs.index\n",
        "# print(segs['segmentID'])\n",
        "# segIDs=segs['segmentID']\n",
        "# print(segIDs)\n",
        "# segs = segs.set_index(['Type','Sec ID']).join(segs_degrees.set_index(['Type','Sec ID'])).reset_index()\n",
        "segs['Sec ID'] = segs['Sec ID'].astype(int)\n",
        "segs['X'] = segs['X'].astype(float)\n",
        "segs['Elec_distanceQ'] = 'None'\n",
        "# segIDs=segs['segmentID']\n",
        "try:\n",
        "  segs.loc[segs.Type=='dend','Elec_distanceQ'] = pd.qcut(segs.loc[segs.Type=='dend','Elec_distance'], 10, labels=False, duplicates = 'drop')\n",
        "  segs.loc[segs.Type=='apic','Elec_distanceQ'] = pd.qcut(segs.loc[segs.Type=='apic','Elec_distance'], 10, labels=False, duplicates = 'drop')\n",
        "except:\n",
        "  print('Elec_distance missing')"
      ]
    },
    {
      "cell_type": "code",
      "execution_count": 14,
      "metadata": {
        "id": "ObhvUlAb4vag"
      },
      "outputs": [],
      "source": [
        "exc_syns_per_seg = conns[conns['Source Population']=='exc_stim'].groupby(['Type','Sec ID','X'])['Conductance'].count().reset_index().rename(columns={'Conductance':'num_syns'})\n",
        "\n",
        "\n"
      ]
    },
    {
      "cell_type": "code",
      "execution_count": 15,
      "metadata": {
        "id": "2Few52k-4vag",
        "colab": {
          "base_uri": "https://localhost:8080/",
          "height": 206
        },
        "outputId": "d2eb03bb-bd63-4708-f41f-c7462d2ee406"
      },
      "outputs": [
        {
          "output_type": "execute_result",
          "data": {
            "text/plain": [
              "   Type  Sec ID         X  num_syns\n",
              "0  apic       0  0.055556        10\n",
              "1  apic       0  0.166667         5\n",
              "2  apic       0  0.277778        17\n",
              "3  apic       0  0.388889         4\n",
              "4  apic       0  0.500000         3"
            ],
            "text/html": [
              "\n",
              "  <div id=\"df-26ed2973-64f0-4b13-b0c6-0065e02b5404\">\n",
              "    <div class=\"colab-df-container\">\n",
              "      <div>\n",
              "<style scoped>\n",
              "    .dataframe tbody tr th:only-of-type {\n",
              "        vertical-align: middle;\n",
              "    }\n",
              "\n",
              "    .dataframe tbody tr th {\n",
              "        vertical-align: top;\n",
              "    }\n",
              "\n",
              "    .dataframe thead th {\n",
              "        text-align: right;\n",
              "    }\n",
              "</style>\n",
              "<table border=\"1\" class=\"dataframe\">\n",
              "  <thead>\n",
              "    <tr style=\"text-align: right;\">\n",
              "      <th></th>\n",
              "      <th>Type</th>\n",
              "      <th>Sec ID</th>\n",
              "      <th>X</th>\n",
              "      <th>num_syns</th>\n",
              "    </tr>\n",
              "  </thead>\n",
              "  <tbody>\n",
              "    <tr>\n",
              "      <th>0</th>\n",
              "      <td>apic</td>\n",
              "      <td>0</td>\n",
              "      <td>0.055556</td>\n",
              "      <td>10</td>\n",
              "    </tr>\n",
              "    <tr>\n",
              "      <th>1</th>\n",
              "      <td>apic</td>\n",
              "      <td>0</td>\n",
              "      <td>0.166667</td>\n",
              "      <td>5</td>\n",
              "    </tr>\n",
              "    <tr>\n",
              "      <th>2</th>\n",
              "      <td>apic</td>\n",
              "      <td>0</td>\n",
              "      <td>0.277778</td>\n",
              "      <td>17</td>\n",
              "    </tr>\n",
              "    <tr>\n",
              "      <th>3</th>\n",
              "      <td>apic</td>\n",
              "      <td>0</td>\n",
              "      <td>0.388889</td>\n",
              "      <td>4</td>\n",
              "    </tr>\n",
              "    <tr>\n",
              "      <th>4</th>\n",
              "      <td>apic</td>\n",
              "      <td>0</td>\n",
              "      <td>0.500000</td>\n",
              "      <td>3</td>\n",
              "    </tr>\n",
              "  </tbody>\n",
              "</table>\n",
              "</div>\n",
              "      <button class=\"colab-df-convert\" onclick=\"convertToInteractive('df-26ed2973-64f0-4b13-b0c6-0065e02b5404')\"\n",
              "              title=\"Convert this dataframe to an interactive table.\"\n",
              "              style=\"display:none;\">\n",
              "        \n",
              "  <svg xmlns=\"http://www.w3.org/2000/svg\" height=\"24px\"viewBox=\"0 0 24 24\"\n",
              "       width=\"24px\">\n",
              "    <path d=\"M0 0h24v24H0V0z\" fill=\"none\"/>\n",
              "    <path d=\"M18.56 5.44l.94 2.06.94-2.06 2.06-.94-2.06-.94-.94-2.06-.94 2.06-2.06.94zm-11 1L8.5 8.5l.94-2.06 2.06-.94-2.06-.94L8.5 2.5l-.94 2.06-2.06.94zm10 10l.94 2.06.94-2.06 2.06-.94-2.06-.94-.94-2.06-.94 2.06-2.06.94z\"/><path d=\"M17.41 7.96l-1.37-1.37c-.4-.4-.92-.59-1.43-.59-.52 0-1.04.2-1.43.59L10.3 9.45l-7.72 7.72c-.78.78-.78 2.05 0 2.83L4 21.41c.39.39.9.59 1.41.59.51 0 1.02-.2 1.41-.59l7.78-7.78 2.81-2.81c.8-.78.8-2.07 0-2.86zM5.41 20L4 18.59l7.72-7.72 1.47 1.35L5.41 20z\"/>\n",
              "  </svg>\n",
              "      </button>\n",
              "      \n",
              "  <style>\n",
              "    .colab-df-container {\n",
              "      display:flex;\n",
              "      flex-wrap:wrap;\n",
              "      gap: 12px;\n",
              "    }\n",
              "\n",
              "    .colab-df-convert {\n",
              "      background-color: #E8F0FE;\n",
              "      border: none;\n",
              "      border-radius: 50%;\n",
              "      cursor: pointer;\n",
              "      display: none;\n",
              "      fill: #1967D2;\n",
              "      height: 32px;\n",
              "      padding: 0 0 0 0;\n",
              "      width: 32px;\n",
              "    }\n",
              "\n",
              "    .colab-df-convert:hover {\n",
              "      background-color: #E2EBFA;\n",
              "      box-shadow: 0px 1px 2px rgba(60, 64, 67, 0.3), 0px 1px 3px 1px rgba(60, 64, 67, 0.15);\n",
              "      fill: #174EA6;\n",
              "    }\n",
              "\n",
              "    [theme=dark] .colab-df-convert {\n",
              "      background-color: #3B4455;\n",
              "      fill: #D2E3FC;\n",
              "    }\n",
              "\n",
              "    [theme=dark] .colab-df-convert:hover {\n",
              "      background-color: #434B5C;\n",
              "      box-shadow: 0px 1px 3px 1px rgba(0, 0, 0, 0.15);\n",
              "      filter: drop-shadow(0px 1px 2px rgba(0, 0, 0, 0.3));\n",
              "      fill: #FFFFFF;\n",
              "    }\n",
              "  </style>\n",
              "\n",
              "      <script>\n",
              "        const buttonEl =\n",
              "          document.querySelector('#df-26ed2973-64f0-4b13-b0c6-0065e02b5404 button.colab-df-convert');\n",
              "        buttonEl.style.display =\n",
              "          google.colab.kernel.accessAllowed ? 'block' : 'none';\n",
              "\n",
              "        async function convertToInteractive(key) {\n",
              "          const element = document.querySelector('#df-26ed2973-64f0-4b13-b0c6-0065e02b5404');\n",
              "          const dataTable =\n",
              "            await google.colab.kernel.invokeFunction('convertToInteractive',\n",
              "                                                     [key], {});\n",
              "          if (!dataTable) return;\n",
              "\n",
              "          const docLinkHtml = 'Like what you see? Visit the ' +\n",
              "            '<a target=\"_blank\" href=https://colab.research.google.com/notebooks/data_table.ipynb>data table notebook</a>'\n",
              "            + ' to learn more about interactive tables.';\n",
              "          element.innerHTML = '';\n",
              "          dataTable['output_type'] = 'display_data';\n",
              "          await google.colab.output.renderOutput(dataTable, element);\n",
              "          const docLink = document.createElement('div');\n",
              "          docLink.innerHTML = docLinkHtml;\n",
              "          element.appendChild(docLink);\n",
              "        }\n",
              "      </script>\n",
              "    </div>\n",
              "  </div>\n",
              "  "
            ]
          },
          "metadata": {},
          "execution_count": 15
        }
      ],
      "source": [
        "exc_syns_per_seg.head()"
      ]
    },
    {
      "cell_type": "code",
      "execution_count": 16,
      "metadata": {
        "id": "GqAaIDem4vah"
      },
      "outputs": [],
      "source": [
        "segs['segmentID'] = segs.groupby(['Type','Sec ID']).cumcount()+1"
      ]
    },
    {
      "cell_type": "code",
      "execution_count": 17,
      "metadata": {
        "id": "X-FQZkN64vah"
      },
      "outputs": [],
      "source": [
        "exc_syns_per_seg['segmentID'] = exc_syns_per_seg.groupby(['Type','Sec ID']).cumcount()+1"
      ]
    },
    {
      "cell_type": "code",
      "execution_count": 18,
      "metadata": {
        "id": "YFfgDwZL4vah"
      },
      "outputs": [],
      "source": [
        "exc_syns = segs.set_index(['Type','Sec ID','segmentID']).join(exc_syns_per_seg[['Type','Sec ID','segmentID','num_syns']].set_index(['Type','Sec ID','segmentID'])).reset_index()\n"
      ]
    },
    {
      "cell_type": "code",
      "execution_count": 19,
      "metadata": {
        "id": "bhpJr1up4vai"
      },
      "outputs": [],
      "source": [
        "v = h5py.File('./{}/v_report.h5'.format(output_folder),'r')\n",
        "hva = h5py.File('./{}/Ca_HVA.ica_report.h5'.format(output_folder),'r')\n",
        "lva = h5py.File('./{}/Ca_LVAst.ica_report.h5'.format(output_folder),'r')\n",
        "ih = h5py.File('./{}/Ih.ihcn_report.h5'.format(output_folder),'r')\n",
        "\n",
        "nmda = h5py.File('./{}/inmda_report.h5'.format(output_folder),'r')\n",
        "\n",
        "na = h5py.File('./{}/NaTa_t.gNaTa_t_report.h5'.format(output_folder),'r')\n",
        "spks = h5py.File('./{}/spikes.h5'.format(output_folder),'r')\n",
        "\n",
        "\n",
        "#v['report']['biophysical']['data'][:]"
      ]
    },
    {
      "cell_type": "code",
      "source": [
        "v['report']['biophysical']['data'][:-100,1]"
      ],
      "metadata": {
        "colab": {
          "base_uri": "https://localhost:8080/"
        },
        "id": "oi6foHBCt_wQ",
        "outputId": "3cb85f63-823e-4421-8470-791933c8127b"
      },
      "execution_count": 20,
      "outputs": [
        {
          "output_type": "execute_result",
          "data": {
            "text/plain": [
              "array([-80.00650007, -80.01106238, -79.8164152 , ..., -66.66345765,\n",
              "       -66.77398003, -66.82112798])"
            ]
          },
          "metadata": {},
          "execution_count": 20
        }
      ]
    },
    {
      "cell_type": "code",
      "source": [
        "v_thresh = -40\n",
        "np.diff(v['report']['biophysical']['data'][:-10000,1]> v_thresh, prepend=False)"
      ],
      "metadata": {
        "colab": {
          "base_uri": "https://localhost:8080/"
        },
        "id": "CxkFxWNLtXA1",
        "outputId": "048c869f-eace-4f7a-b89c-ff6ef8da5128"
      },
      "execution_count": 21,
      "outputs": [
        {
          "output_type": "execute_result",
          "data": {
            "text/plain": [
              "array([], dtype=bool)"
            ]
          },
          "metadata": {},
          "execution_count": 21
        }
      ]
    },
    {
      "cell_type": "code",
      "execution_count": 22,
      "metadata": {
        "id": "JrQxbXCr4vai"
      },
      "outputs": [],
      "source": [
        "spktimes = spks['spikes']['biophysical']['timestamps'][:]\n",
        "spkinds = np.sort((spktimes*10).astype(int))"
      ]
    },
    {
      "cell_type": "code",
      "execution_count": 23,
      "metadata": {
        "id": "7EMfd8Hw4vai"
      },
      "outputs": [],
      "source": [
        "na_df = pd.DataFrame(columns=['segmentID','na_lower_bound'])\n",
        "\n",
        "for p in segs[(segs.Type=='dend')|(segs.Type=='apic')].index:\n",
        "    #print(p)\n",
        "    threshold_crossings = np.diff(na['report']['biophysical']['data'][:,p] > (0.003/1000), prepend=False)\n",
        "    upward_crossings = np.argwhere(threshold_crossings)[::2,0]\n",
        "    downward_crossings = np.argwhere(threshold_crossings)[1::2,0]\n",
        "    # Only count if not within 2 ms after a somatic spike\n",
        "    na_spks = [i for i in upward_crossings if ~np.any((i-spkinds>=-5) & (i-spkinds<50))]\n",
        "    \n",
        "    if len(na_spks)>0:\n",
        "        na_df = na_df.append(pd.DataFrame({'segmentID':np.tile(p,len(na_spks)),\n",
        "                                               'na_lower_bound':na_spks}))\n",
        "    else:\n",
        "        na_df = na_df.append(pd.DataFrame({'segmentID':p,\n",
        "                                               'na_lower_bound':np.array([np.nan])}))"
      ]
    },
    {
      "cell_type": "code",
      "execution_count": 24,
      "metadata": {
        "id": "P_AErLdR4vai",
        "colab": {
          "base_uri": "https://localhost:8080/"
        },
        "outputId": "f8a8b46e-0c4a-4863-c4b1-b8525bb0ec25"
      },
      "outputs": [
        {
          "output_type": "execute_result",
          "data": {
            "text/plain": [
              "RangeIndex(start=0, stop=90618, step=1)"
            ]
          },
          "metadata": {},
          "execution_count": 24
        }
      ],
      "source": [
        "na_df.to_csv('na_df.csv')\n",
        "na_df = pd.read_csv('na_df.csv')\n",
        "\n",
        "\n",
        "na_df.index"
      ]
    },
    {
      "cell_type": "code",
      "source": [
        "\n",
        "#display(na_df.to_string())"
      ],
      "metadata": {
        "id": "pSnsZWvzUIlx"
      },
      "execution_count": 25,
      "outputs": []
    },
    {
      "cell_type": "code",
      "execution_count": 26,
      "metadata": {
        "id": "b7lOX8Uq4vai"
      },
      "outputs": [],
      "source": [
        "\n",
        "for i in np.random.choice(na_df[(na_df.na_lower_bound>20) & (na_df.na_lower_bound<1400000)].index,1000):\n",
        "    seg = na_df.loc[i,'segmentID']\n",
        "    if not pd.isnull(na_df.loc[i,'na_lower_bound']):\n",
        "        spkt = int(na_df.loc[i,'na_lower_bound'])\n",
        "        trace = na['report']['biophysical']['data'][spkt-10:spkt+10,seg]\n",
        "        peak_value = np.max(trace)\n",
        "        half_peak = peak_value/2\n",
        "        # import pdb; pdb.set_trace()\n",
        "        # duration = np.arange(0,20)[trace>half_peak] + spkt - 10 #gave occasional error\n",
        "        duration = np.arange(0,len(trace))[trace>half_peak] + spkt - 10\n",
        "        na_df.loc[i,'duration_low'] = duration[0]\n",
        "        na_df.loc[i,'duration_high'] = duration[-1]\n",
        "        na_df.loc[i,'peak_value'] = peak_value\n",
        "    else:\n",
        "        na_df.loc[i,'duration_low'] = np.nan\n",
        "        na_df.loc[i,'duration_high'] = np.nan\n",
        "        na_df.loc[i,'peak_value'] = np.nan"
      ]
    },
    {
      "cell_type": "code",
      "execution_count": 27,
      "metadata": {
        "id": "BI9Bf8hl4vai"
      },
      "outputs": [],
      "source": [
        "na_df['duration'] = (na_df['duration_high'] - na_df['duration_low'] + 1)/10"
      ]
    },
    {
      "cell_type": "code",
      "execution_count": 28,
      "metadata": {
        "id": "FnJPbRFl4vaj",
        "outputId": "1956b217-8a1b-4b77-d834-614a9a1de119",
        "colab": {
          "base_uri": "https://localhost:8080/"
        }
      },
      "outputs": [
        {
          "output_type": "execute_result",
          "data": {
            "text/plain": [
              "<bound method NDFrame.head of        Unnamed: 0  segmentID  na_lower_bound  duration_low  duration_high  \\\n",
              "0               0          5              66           NaN            NaN   \n",
              "1               1          5             654           NaN            NaN   \n",
              "2               2          5            4532           NaN            NaN   \n",
              "3               3          5            5852           NaN            NaN   \n",
              "4               4          5            6111           NaN            NaN   \n",
              "...           ...        ...             ...           ...            ...   \n",
              "90613          33       2511            8688           NaN            NaN   \n",
              "90614          34       2511            8715           NaN            NaN   \n",
              "90615          35       2511            9495           NaN            NaN   \n",
              "90616          36       2511            9916           NaN            NaN   \n",
              "90617          37       2511            9964           NaN            NaN   \n",
              "\n",
              "       peak_value  duration  \n",
              "0             NaN       NaN  \n",
              "1             NaN       NaN  \n",
              "2             NaN       NaN  \n",
              "3             NaN       NaN  \n",
              "4             NaN       NaN  \n",
              "...           ...       ...  \n",
              "90613         NaN       NaN  \n",
              "90614         NaN       NaN  \n",
              "90615         NaN       NaN  \n",
              "90616         NaN       NaN  \n",
              "90617         NaN       NaN  \n",
              "\n",
              "[90618 rows x 7 columns]>"
            ]
          },
          "metadata": {},
          "execution_count": 28
        }
      ],
      "source": [
        "segs_na_df = segs.join(na_df.set_index('segmentID')).reset_index()\n",
        "# display(segs_na_df.Type.to_string())\n",
        "# display(segs_na_df.Elec_distance.to_string())\n",
        "\n",
        "\n",
        "na_df.head\n",
        "\n",
        "\n",
        "\n",
        "#segs_na_df[(~pd.isnull(segs_na_df.na_lower_bound))&(segs_na_df.Type=='apic')]"
      ]
    },
    {
      "cell_type": "code",
      "source": [
        "segs_na_df[~pd.isnull(segs_na_df.duration_high)]"
      ],
      "metadata": {
        "colab": {
          "base_uri": "https://localhost:8080/",
          "height": 505
        },
        "id": "U0qFgwXccjKf",
        "outputId": "eb4fbd50-62e5-41db-f9c5-84e7c60b607d"
      },
      "execution_count": 29,
      "outputs": [
        {
          "output_type": "execute_result",
          "data": {
            "text/plain": [
              "       index  segmentID  BMTK ID     Seg_L  Seg_diam         X  Type  Sec ID  \\\n",
              "35         8          4        1  4.840176      1.17  0.700000  dend       0   \n",
              "220       14          2        3  4.891969      0.58  0.048387  dend       2   \n",
              "440       19          7        3  4.891969      0.58  0.209677  dend       2   \n",
              "463       20          8        3  4.891969      0.58  0.241935  dend       2   \n",
              "607       23         11        3  4.891969      0.58  0.338710  dend       2   \n",
              "...      ...        ...      ...       ...       ...       ...   ...     ...   \n",
              "90050   2487         14      190  4.930463      0.58  0.710526  apic     105   \n",
              "90063   2488         15      190  4.930463      0.58  0.763158  apic     105   \n",
              "90499   2508          4      193  4.296385      0.58  0.500000  apic     108   \n",
              "90524   2509          5      193  4.296385      0.58  0.642857  apic     108   \n",
              "90563   2510          6      193  4.296385      0.58  0.785714  apic     108   \n",
              "\n",
              "         Distance   Section_L  ...    Coord Z  ParentSegID  Elec_distance  \\\n",
              "35      28.525296   24.200878  ...   2.003011          7.0       0.598685   \n",
              "220     58.305710  151.651052  ...   7.367501         13.0       0.214118   \n",
              "440     82.765557  151.651052  ...  11.018781         18.0       0.103129   \n",
              "463     87.657526  151.651052  ...  13.717749         19.0       0.093350   \n",
              "607    102.333434  151.651052  ...  21.228432         22.0       0.072608   \n",
              "...           ...         ...  ...        ...          ...            ...   \n",
              "90050  147.625808   93.678791  ... -36.624526       2486.0       0.065452   \n",
              "90063  152.556271   93.678791  ... -39.869379       2487.0       0.061131   \n",
              "90499  118.187074   30.074693  ... -39.022675       2507.0       0.100352   \n",
              "90524  122.483459   30.074693  ... -41.897120       2508.0       0.091714   \n",
              "90563  126.779844   30.074693  ... -45.517306       2509.0       0.084432   \n",
              "\n",
              "       Elec_distanceQ  Unnamed: 0  na_lower_bound  duration_low  \\\n",
              "35                  9         7.0          6100.0        6102.0   \n",
              "220                 8         6.0          2028.0        2036.0   \n",
              "440                 6        31.0          8158.0        8165.0   \n",
              "463                 6        12.0          3339.0        3329.0   \n",
              "607                 5        27.0          7866.0        7858.0   \n",
              "...               ...         ...             ...           ...   \n",
              "90050               6        11.0          4625.0        4630.0   \n",
              "90063               6         4.0          1039.0        1038.0   \n",
              "90499               7        19.0          4519.0        4517.0   \n",
              "90524               7        11.0          2975.0        2977.0   \n",
              "90563               6        15.0          3132.0        3133.0   \n",
              "\n",
              "       duration_high peak_value  duration  \n",
              "35            6109.0   0.000007       0.8  \n",
              "220           2037.0   0.000084       0.2  \n",
              "440           8167.0   0.000016       0.3  \n",
              "463           3348.0   0.000005       2.0  \n",
              "607           7875.0   0.000003       1.8  \n",
              "...              ...        ...       ...  \n",
              "90050         4634.0   0.000127       0.5  \n",
              "90063         1048.0   0.000004       1.1  \n",
              "90499         4528.0   0.000005       1.2  \n",
              "90524         2984.0   0.000009       0.8  \n",
              "90563         3141.0   0.000007       0.9  \n",
              "\n",
              "[991 rows x 25 columns]"
            ],
            "text/html": [
              "\n",
              "  <div id=\"df-ac78f9cb-aa23-424c-8049-dde32164804c\">\n",
              "    <div class=\"colab-df-container\">\n",
              "      <div>\n",
              "<style scoped>\n",
              "    .dataframe tbody tr th:only-of-type {\n",
              "        vertical-align: middle;\n",
              "    }\n",
              "\n",
              "    .dataframe tbody tr th {\n",
              "        vertical-align: top;\n",
              "    }\n",
              "\n",
              "    .dataframe thead th {\n",
              "        text-align: right;\n",
              "    }\n",
              "</style>\n",
              "<table border=\"1\" class=\"dataframe\">\n",
              "  <thead>\n",
              "    <tr style=\"text-align: right;\">\n",
              "      <th></th>\n",
              "      <th>index</th>\n",
              "      <th>segmentID</th>\n",
              "      <th>BMTK ID</th>\n",
              "      <th>Seg_L</th>\n",
              "      <th>Seg_diam</th>\n",
              "      <th>X</th>\n",
              "      <th>Type</th>\n",
              "      <th>Sec ID</th>\n",
              "      <th>Distance</th>\n",
              "      <th>Section_L</th>\n",
              "      <th>...</th>\n",
              "      <th>Coord Z</th>\n",
              "      <th>ParentSegID</th>\n",
              "      <th>Elec_distance</th>\n",
              "      <th>Elec_distanceQ</th>\n",
              "      <th>Unnamed: 0</th>\n",
              "      <th>na_lower_bound</th>\n",
              "      <th>duration_low</th>\n",
              "      <th>duration_high</th>\n",
              "      <th>peak_value</th>\n",
              "      <th>duration</th>\n",
              "    </tr>\n",
              "  </thead>\n",
              "  <tbody>\n",
              "    <tr>\n",
              "      <th>35</th>\n",
              "      <td>8</td>\n",
              "      <td>4</td>\n",
              "      <td>1</td>\n",
              "      <td>4.840176</td>\n",
              "      <td>1.17</td>\n",
              "      <td>0.700000</td>\n",
              "      <td>dend</td>\n",
              "      <td>0</td>\n",
              "      <td>28.525296</td>\n",
              "      <td>24.200878</td>\n",
              "      <td>...</td>\n",
              "      <td>2.003011</td>\n",
              "      <td>7.0</td>\n",
              "      <td>0.598685</td>\n",
              "      <td>9</td>\n",
              "      <td>7.0</td>\n",
              "      <td>6100.0</td>\n",
              "      <td>6102.0</td>\n",
              "      <td>6109.0</td>\n",
              "      <td>0.000007</td>\n",
              "      <td>0.8</td>\n",
              "    </tr>\n",
              "    <tr>\n",
              "      <th>220</th>\n",
              "      <td>14</td>\n",
              "      <td>2</td>\n",
              "      <td>3</td>\n",
              "      <td>4.891969</td>\n",
              "      <td>0.58</td>\n",
              "      <td>0.048387</td>\n",
              "      <td>dend</td>\n",
              "      <td>2</td>\n",
              "      <td>58.305710</td>\n",
              "      <td>151.651052</td>\n",
              "      <td>...</td>\n",
              "      <td>7.367501</td>\n",
              "      <td>13.0</td>\n",
              "      <td>0.214118</td>\n",
              "      <td>8</td>\n",
              "      <td>6.0</td>\n",
              "      <td>2028.0</td>\n",
              "      <td>2036.0</td>\n",
              "      <td>2037.0</td>\n",
              "      <td>0.000084</td>\n",
              "      <td>0.2</td>\n",
              "    </tr>\n",
              "    <tr>\n",
              "      <th>440</th>\n",
              "      <td>19</td>\n",
              "      <td>7</td>\n",
              "      <td>3</td>\n",
              "      <td>4.891969</td>\n",
              "      <td>0.58</td>\n",
              "      <td>0.209677</td>\n",
              "      <td>dend</td>\n",
              "      <td>2</td>\n",
              "      <td>82.765557</td>\n",
              "      <td>151.651052</td>\n",
              "      <td>...</td>\n",
              "      <td>11.018781</td>\n",
              "      <td>18.0</td>\n",
              "      <td>0.103129</td>\n",
              "      <td>6</td>\n",
              "      <td>31.0</td>\n",
              "      <td>8158.0</td>\n",
              "      <td>8165.0</td>\n",
              "      <td>8167.0</td>\n",
              "      <td>0.000016</td>\n",
              "      <td>0.3</td>\n",
              "    </tr>\n",
              "    <tr>\n",
              "      <th>463</th>\n",
              "      <td>20</td>\n",
              "      <td>8</td>\n",
              "      <td>3</td>\n",
              "      <td>4.891969</td>\n",
              "      <td>0.58</td>\n",
              "      <td>0.241935</td>\n",
              "      <td>dend</td>\n",
              "      <td>2</td>\n",
              "      <td>87.657526</td>\n",
              "      <td>151.651052</td>\n",
              "      <td>...</td>\n",
              "      <td>13.717749</td>\n",
              "      <td>19.0</td>\n",
              "      <td>0.093350</td>\n",
              "      <td>6</td>\n",
              "      <td>12.0</td>\n",
              "      <td>3339.0</td>\n",
              "      <td>3329.0</td>\n",
              "      <td>3348.0</td>\n",
              "      <td>0.000005</td>\n",
              "      <td>2.0</td>\n",
              "    </tr>\n",
              "    <tr>\n",
              "      <th>607</th>\n",
              "      <td>23</td>\n",
              "      <td>11</td>\n",
              "      <td>3</td>\n",
              "      <td>4.891969</td>\n",
              "      <td>0.58</td>\n",
              "      <td>0.338710</td>\n",
              "      <td>dend</td>\n",
              "      <td>2</td>\n",
              "      <td>102.333434</td>\n",
              "      <td>151.651052</td>\n",
              "      <td>...</td>\n",
              "      <td>21.228432</td>\n",
              "      <td>22.0</td>\n",
              "      <td>0.072608</td>\n",
              "      <td>5</td>\n",
              "      <td>27.0</td>\n",
              "      <td>7866.0</td>\n",
              "      <td>7858.0</td>\n",
              "      <td>7875.0</td>\n",
              "      <td>0.000003</td>\n",
              "      <td>1.8</td>\n",
              "    </tr>\n",
              "    <tr>\n",
              "      <th>...</th>\n",
              "      <td>...</td>\n",
              "      <td>...</td>\n",
              "      <td>...</td>\n",
              "      <td>...</td>\n",
              "      <td>...</td>\n",
              "      <td>...</td>\n",
              "      <td>...</td>\n",
              "      <td>...</td>\n",
              "      <td>...</td>\n",
              "      <td>...</td>\n",
              "      <td>...</td>\n",
              "      <td>...</td>\n",
              "      <td>...</td>\n",
              "      <td>...</td>\n",
              "      <td>...</td>\n",
              "      <td>...</td>\n",
              "      <td>...</td>\n",
              "      <td>...</td>\n",
              "      <td>...</td>\n",
              "      <td>...</td>\n",
              "      <td>...</td>\n",
              "    </tr>\n",
              "    <tr>\n",
              "      <th>90050</th>\n",
              "      <td>2487</td>\n",
              "      <td>14</td>\n",
              "      <td>190</td>\n",
              "      <td>4.930463</td>\n",
              "      <td>0.58</td>\n",
              "      <td>0.710526</td>\n",
              "      <td>apic</td>\n",
              "      <td>105</td>\n",
              "      <td>147.625808</td>\n",
              "      <td>93.678791</td>\n",
              "      <td>...</td>\n",
              "      <td>-36.624526</td>\n",
              "      <td>2486.0</td>\n",
              "      <td>0.065452</td>\n",
              "      <td>6</td>\n",
              "      <td>11.0</td>\n",
              "      <td>4625.0</td>\n",
              "      <td>4630.0</td>\n",
              "      <td>4634.0</td>\n",
              "      <td>0.000127</td>\n",
              "      <td>0.5</td>\n",
              "    </tr>\n",
              "    <tr>\n",
              "      <th>90063</th>\n",
              "      <td>2488</td>\n",
              "      <td>15</td>\n",
              "      <td>190</td>\n",
              "      <td>4.930463</td>\n",
              "      <td>0.58</td>\n",
              "      <td>0.763158</td>\n",
              "      <td>apic</td>\n",
              "      <td>105</td>\n",
              "      <td>152.556271</td>\n",
              "      <td>93.678791</td>\n",
              "      <td>...</td>\n",
              "      <td>-39.869379</td>\n",
              "      <td>2487.0</td>\n",
              "      <td>0.061131</td>\n",
              "      <td>6</td>\n",
              "      <td>4.0</td>\n",
              "      <td>1039.0</td>\n",
              "      <td>1038.0</td>\n",
              "      <td>1048.0</td>\n",
              "      <td>0.000004</td>\n",
              "      <td>1.1</td>\n",
              "    </tr>\n",
              "    <tr>\n",
              "      <th>90499</th>\n",
              "      <td>2508</td>\n",
              "      <td>4</td>\n",
              "      <td>193</td>\n",
              "      <td>4.296385</td>\n",
              "      <td>0.58</td>\n",
              "      <td>0.500000</td>\n",
              "      <td>apic</td>\n",
              "      <td>108</td>\n",
              "      <td>118.187074</td>\n",
              "      <td>30.074693</td>\n",
              "      <td>...</td>\n",
              "      <td>-39.022675</td>\n",
              "      <td>2507.0</td>\n",
              "      <td>0.100352</td>\n",
              "      <td>7</td>\n",
              "      <td>19.0</td>\n",
              "      <td>4519.0</td>\n",
              "      <td>4517.0</td>\n",
              "      <td>4528.0</td>\n",
              "      <td>0.000005</td>\n",
              "      <td>1.2</td>\n",
              "    </tr>\n",
              "    <tr>\n",
              "      <th>90524</th>\n",
              "      <td>2509</td>\n",
              "      <td>5</td>\n",
              "      <td>193</td>\n",
              "      <td>4.296385</td>\n",
              "      <td>0.58</td>\n",
              "      <td>0.642857</td>\n",
              "      <td>apic</td>\n",
              "      <td>108</td>\n",
              "      <td>122.483459</td>\n",
              "      <td>30.074693</td>\n",
              "      <td>...</td>\n",
              "      <td>-41.897120</td>\n",
              "      <td>2508.0</td>\n",
              "      <td>0.091714</td>\n",
              "      <td>7</td>\n",
              "      <td>11.0</td>\n",
              "      <td>2975.0</td>\n",
              "      <td>2977.0</td>\n",
              "      <td>2984.0</td>\n",
              "      <td>0.000009</td>\n",
              "      <td>0.8</td>\n",
              "    </tr>\n",
              "    <tr>\n",
              "      <th>90563</th>\n",
              "      <td>2510</td>\n",
              "      <td>6</td>\n",
              "      <td>193</td>\n",
              "      <td>4.296385</td>\n",
              "      <td>0.58</td>\n",
              "      <td>0.785714</td>\n",
              "      <td>apic</td>\n",
              "      <td>108</td>\n",
              "      <td>126.779844</td>\n",
              "      <td>30.074693</td>\n",
              "      <td>...</td>\n",
              "      <td>-45.517306</td>\n",
              "      <td>2509.0</td>\n",
              "      <td>0.084432</td>\n",
              "      <td>6</td>\n",
              "      <td>15.0</td>\n",
              "      <td>3132.0</td>\n",
              "      <td>3133.0</td>\n",
              "      <td>3141.0</td>\n",
              "      <td>0.000007</td>\n",
              "      <td>0.9</td>\n",
              "    </tr>\n",
              "  </tbody>\n",
              "</table>\n",
              "<p>991 rows × 25 columns</p>\n",
              "</div>\n",
              "      <button class=\"colab-df-convert\" onclick=\"convertToInteractive('df-ac78f9cb-aa23-424c-8049-dde32164804c')\"\n",
              "              title=\"Convert this dataframe to an interactive table.\"\n",
              "              style=\"display:none;\">\n",
              "        \n",
              "  <svg xmlns=\"http://www.w3.org/2000/svg\" height=\"24px\"viewBox=\"0 0 24 24\"\n",
              "       width=\"24px\">\n",
              "    <path d=\"M0 0h24v24H0V0z\" fill=\"none\"/>\n",
              "    <path d=\"M18.56 5.44l.94 2.06.94-2.06 2.06-.94-2.06-.94-.94-2.06-.94 2.06-2.06.94zm-11 1L8.5 8.5l.94-2.06 2.06-.94-2.06-.94L8.5 2.5l-.94 2.06-2.06.94zm10 10l.94 2.06.94-2.06 2.06-.94-2.06-.94-.94-2.06-.94 2.06-2.06.94z\"/><path d=\"M17.41 7.96l-1.37-1.37c-.4-.4-.92-.59-1.43-.59-.52 0-1.04.2-1.43.59L10.3 9.45l-7.72 7.72c-.78.78-.78 2.05 0 2.83L4 21.41c.39.39.9.59 1.41.59.51 0 1.02-.2 1.41-.59l7.78-7.78 2.81-2.81c.8-.78.8-2.07 0-2.86zM5.41 20L4 18.59l7.72-7.72 1.47 1.35L5.41 20z\"/>\n",
              "  </svg>\n",
              "      </button>\n",
              "      \n",
              "  <style>\n",
              "    .colab-df-container {\n",
              "      display:flex;\n",
              "      flex-wrap:wrap;\n",
              "      gap: 12px;\n",
              "    }\n",
              "\n",
              "    .colab-df-convert {\n",
              "      background-color: #E8F0FE;\n",
              "      border: none;\n",
              "      border-radius: 50%;\n",
              "      cursor: pointer;\n",
              "      display: none;\n",
              "      fill: #1967D2;\n",
              "      height: 32px;\n",
              "      padding: 0 0 0 0;\n",
              "      width: 32px;\n",
              "    }\n",
              "\n",
              "    .colab-df-convert:hover {\n",
              "      background-color: #E2EBFA;\n",
              "      box-shadow: 0px 1px 2px rgba(60, 64, 67, 0.3), 0px 1px 3px 1px rgba(60, 64, 67, 0.15);\n",
              "      fill: #174EA6;\n",
              "    }\n",
              "\n",
              "    [theme=dark] .colab-df-convert {\n",
              "      background-color: #3B4455;\n",
              "      fill: #D2E3FC;\n",
              "    }\n",
              "\n",
              "    [theme=dark] .colab-df-convert:hover {\n",
              "      background-color: #434B5C;\n",
              "      box-shadow: 0px 1px 3px 1px rgba(0, 0, 0, 0.15);\n",
              "      filter: drop-shadow(0px 1px 2px rgba(0, 0, 0, 0.3));\n",
              "      fill: #FFFFFF;\n",
              "    }\n",
              "  </style>\n",
              "\n",
              "      <script>\n",
              "        const buttonEl =\n",
              "          document.querySelector('#df-ac78f9cb-aa23-424c-8049-dde32164804c button.colab-df-convert');\n",
              "        buttonEl.style.display =\n",
              "          google.colab.kernel.accessAllowed ? 'block' : 'none';\n",
              "\n",
              "        async function convertToInteractive(key) {\n",
              "          const element = document.querySelector('#df-ac78f9cb-aa23-424c-8049-dde32164804c');\n",
              "          const dataTable =\n",
              "            await google.colab.kernel.invokeFunction('convertToInteractive',\n",
              "                                                     [key], {});\n",
              "          if (!dataTable) return;\n",
              "\n",
              "          const docLinkHtml = 'Like what you see? Visit the ' +\n",
              "            '<a target=\"_blank\" href=https://colab.research.google.com/notebooks/data_table.ipynb>data table notebook</a>'\n",
              "            + ' to learn more about interactive tables.';\n",
              "          element.innerHTML = '';\n",
              "          dataTable['output_type'] = 'display_data';\n",
              "          await google.colab.output.renderOutput(dataTable, element);\n",
              "          const docLink = document.createElement('div');\n",
              "          docLink.innerHTML = docLinkHtml;\n",
              "          element.appendChild(docLink);\n",
              "        }\n",
              "      </script>\n",
              "    </div>\n",
              "  </div>\n",
              "  "
            ]
          },
          "metadata": {},
          "execution_count": 29
        }
      ]
    },
    {
      "cell_type": "code",
      "source": [
        "#pd.set_option(\"display.max_rows\", None, \"display.max_columns\", None)\n",
        "\n",
        "#print(na_df)"
      ],
      "metadata": {
        "id": "sB1diydHZvEg"
      },
      "execution_count": 30,
      "outputs": []
    },
    {
      "cell_type": "code",
      "execution_count": 31,
      "metadata": {
        "id": "2EvZxPFY4vaj"
      },
      "outputs": [],
      "source": [
        "def get_sta(segs_na_df, spktimes):\n",
        "    na_dend = np.zeros((10,39,))\n",
        "    na_apic = np.zeros((10,39,))\n",
        "    \n",
        "    edges_dend=np.quantile(segs_na_df[(~pd.isnull(segs_na_df.na_lower_bound))&\n",
        "                                       (segs_na_df.Type=='dend')]['Elec_distance'].unique(),np.arange(0,1.1,0.1))\n",
        "   # print(edges_dend)\n",
        "    edges_apic=np.quantile(segs_na_df[(~pd.isnull(segs_na_df.na_lower_bound))&\n",
        "                                       (segs_na_df.Type=='apic')]['Elec_distance'].unique(),np.arange(0,1.1,0.1))\n",
        "   # print('please')\n",
        "    actual_spktimes = []\n",
        "    c = 0\n",
        "\n",
        "   # print(spktimes)\n",
        "\n",
        "\n",
        "    for i in np.sort(spktimes):\n",
        "        # excludes bursts\n",
        "        #print(i)\n",
        "        if i-c > 10:\n",
        "            for e in np.arange(0,10):\n",
        "                #print(e)\n",
        "                na_inds = segs_na_df[(~pd.isnull(segs_na_df.na_lower_bound))&\n",
        "                                     (segs_na_df.Type=='dend')&\n",
        "                                     (segs_na_df.Elec_distance>edges_dend[e])&\n",
        "                                     (segs_na_df.Elec_distance<=edges_dend[e+1])]['na_lower_bound'].values.astype(int)\n",
        "                #print(na_inds)\n",
        "                x2, _ = np.histogram(na_inds/10,bins=np.arange(np.floor(i)-20,np.floor(i)+20,1))\n",
        "                na_dend[e] += x2\n",
        "                \n",
        "                na_inds = segs_na_df[(~pd.isnull(segs_na_df.na_lower_bound))&\n",
        "                                     (segs_na_df.Type=='apic')&\n",
        "                                     (segs_na_df.Elec_distance>edges_apic[e])&\n",
        "                                     (segs_na_df.Elec_distance<=edges_apic[e+1])]['na_lower_bound'].values.astype(int)\n",
        "    \n",
        "                x2, _ = np.histogram(na_inds/10,bins=np.arange(np.floor(i)-20,np.floor(i)+20,1))\n",
        "                na_apic[e] += x2\n",
        "            \n",
        "            actual_spktimes.append(i)\n",
        "        c = i\n",
        "    \n",
        "\n",
        "    \n",
        "    \n",
        "    return na_dend, na_apic"
      ]
    },
    {
      "cell_type": "code",
      "execution_count": 32,
      "metadata": {
        "id": "glkA6zW24vaj"
      },
      "outputs": [],
      "source": [
        "na_dend, na_apic = get_sta(segs_na_df, spktimes)"
      ]
    },
    {
      "cell_type": "code",
      "source": [],
      "metadata": {
        "id": "c23ZHtwJcdRi"
      },
      "execution_count": 32,
      "outputs": []
    },
    {
      "cell_type": "code",
      "source": [
        "#print(na_apic)"
      ],
      "metadata": {
        "id": "aTxBWP-iZC9k"
      },
      "execution_count": 33,
      "outputs": []
    },
    {
      "cell_type": "code",
      "execution_count": 34,
      "metadata": {
        "id": "PLw_zcHY4vaj"
      },
      "outputs": [],
      "source": [
        "rand_spktimes = np.sort(np.random.choice(np.arange(0,150000), spktimes.shape[0]))"
      ]
    },
    {
      "cell_type": "code",
      "execution_count": 35,
      "metadata": {
        "id": "OtjmD-mU4vaj"
      },
      "outputs": [],
      "source": [
        "na_dend_rand, na_apic_rand = get_sta(segs_na_df, rand_spktimes)"
      ]
    },
    {
      "cell_type": "code",
      "execution_count": 36,
      "metadata": {
        "id": "2--OhaH54vaj",
        "colab": {
          "base_uri": "https://localhost:8080/",
          "height": 578
        },
        "outputId": "19a4ae6d-a92c-4228-846a-5f5562aeca3e"
      },
      "outputs": [
        {
          "output_type": "display_data",
          "data": {
            "text/plain": [
              "<Figure size 720x720 with 4 Axes>"
            ],
            "image/png": "[encoded data removed]"
          },
          "metadata": {
            "needs_background": "light"
          }
        }
      ],
      "source": [
        "plt.figure(figsize=(10,10))\n",
        "plt.subplot(2,1,1)\n",
        "plt.title('Na spikes - apical')\n",
        "plt.imshow((na_apic-na_apic_rand)/len(spktimes),cmap='jet',vmin=-0.5)\n",
        "plt.colorbar(label='additional events per AP')\n",
        "plt.xticks(ticks=np.arange(0,40,5)-0.5,labels=['{}'.format(i) for i in np.arange(-20,20,5)])\n",
        "plt.yticks(ticks=[0,9],labels=['further','closer'])\n",
        "plt.xlim(5,35)\n",
        "\n",
        "plt.subplot(2,1,2)\n",
        "plt.title('Na spikes - basal')\n",
        "# plt.imshow((na_dend-na_dend_rand)/len(spktimes),cmap='jet',vmin=-0.2, vmax=0.2)\n",
        "plt.imshow((na_dend-na_dend_rand)/len(spktimes),cmap='jet',vmin=-0.2)\n",
        "plt.colorbar(label='additional events per AP')\n",
        "plt.xticks(ticks=np.arange(0,40,5)-0.5,labels=['{}'.format(i) for i in np.arange(-20,20,5)])\n",
        "plt.yticks(ticks=[0,9],labels=['further','closer'])\n",
        "plt.xlabel('time(ms)')\n",
        "plt.xlim(5,35)\n",
        "\n",
        "plt.show()"
      ]
    },
    {
      "cell_type": "markdown",
      "metadata": {
        "id": "2mh6u46u4vak"
      },
      "source": [
        "----------"
      ]
    },
    {
      "cell_type": "code",
      "execution_count": 37,
      "metadata": {
        "id": "o36hLzYo4vak"
      },
      "outputs": [],
      "source": [
        "ca_df = pd.DataFrame(columns=['segmentID','ca_lower_bound'])\n",
        "\n",
        "segs['segmentID'] = segs.index\n",
        "# segIDs = segs[(segs.Type=='apic')]['segmentID'] #original\n",
        "segIDs = segs['segmentID']\n",
        "for p in segIDs:\n",
        "    # import pdb; pdb.set_trace()\n",
        "    #print(p)\n",
        "    trace = hva['report']['biophysical']['data'][:,p]+\\\n",
        "                lva['report']['biophysical']['data'][:,p]+\\\n",
        "                ih['report']['biophysical']['data'][:,p]\n",
        "    m = np.mean(trace)\n",
        "    s = np.std(trace)\n",
        "\n",
        "    legit_uc = voltage_criterion(data=v['report']['biophysical']['data'][:,p],v_thresh=-40, time_thresh=200)[1]\n",
        "    legit_dc = voltage_criterion(data=v['report']['biophysical']['data'][:,p],v_thresh=-40, time_thresh=200)[-1]\n",
        "    \n",
        "    legit_uc_iso = legit_uc\n",
        "    \n",
        "    legit_dc_iso = legit_dc\n",
        "\n",
        "    # print(legit_dc_iso)\n",
        "    \n",
        "    \n",
        "    if (len(legit_uc_iso)!=0) & (np.min(trace)!=0):\n",
        "        bnds, sum_curr = current_criterion(legit_uc_iso=legit_uc_iso, \n",
        "                                           legit_dc_iso=legit_dc_iso, \n",
        "                                           p=p, \n",
        "                                           control_inmda=hva['report']['biophysical']['data'])\n",
        "        ca_df = ca_df.append(pd.DataFrame({'segmentID':np.tile(p,len(bnds)),\n",
        "                                               'ca_lower_bound':np.array(bnds).reshape(-1,2)[:,0],\n",
        "                                               'ca_upper_bound':np.array(bnds).reshape(-1,2)[:,1],\n",
        "                                               'mag':sum_curr}))\n",
        "    \n",
        "    else:\n",
        "        ca_df = ca_df.append(pd.DataFrame({'segmentID':np.tile(p,1),\n",
        "                                               'ca_lower_bound':np.nan,\n",
        "                                               'ca_upper_bound':np.nan,\n",
        "                                               'mag':np.nan}))"
      ]
    },
    {
      "cell_type": "code",
      "source": [
        "#print(ca_df)"
      ],
      "metadata": {
        "id": "qOf83soDjiCm"
      },
      "execution_count": 38,
      "outputs": []
    },
    {
      "cell_type": "code",
      "execution_count": 39,
      "metadata": {
        "id": "C36RU9wM4vak"
      },
      "outputs": [],
      "source": [
        "ca_df.to_csv('ca_df.csv')\n",
        "ca_df = pd.read_csv('ca_df.csv')"
      ]
    },
    {
      "cell_type": "markdown",
      "metadata": {
        "id": "TvfdmW7E4vak"
      },
      "source": [
        "# durations"
      ]
    },
    {
      "cell_type": "code",
      "execution_count": 40,
      "metadata": {
        "id": "veidJEkY4vak",
        "colab": {
          "base_uri": "https://localhost:8080/",
          "height": 505
        },
        "outputId": "98811b03-b5eb-4507-dfad-5a9c0965da5e"
      },
      "outputs": [
        {
          "output_type": "execute_result",
          "data": {
            "text/plain": [
              "      segmentID  BMTK ID     Seg_L  Seg_diam         X  Type  Sec ID  \\\n",
              "1486       1486      122  5.024998      1.80  0.118182  apic      37   \n",
              "1487       1487      122  5.024998      1.80  0.136364  apic      37   \n",
              "1488       1488      122  5.024998      1.80  0.154545  apic      37   \n",
              "1489       1489      122  5.024998      1.80  0.172727  apic      37   \n",
              "1490       1490      122  5.024998      1.80  0.190909  apic      37   \n",
              "...         ...      ...       ...       ...       ...   ...     ...   \n",
              "1842       1842      145  4.960289      1.03  0.627660  apic      60   \n",
              "1843       1843      145  4.960289      1.03  0.648936  apic      60   \n",
              "1844       1844      145  4.960289      1.03  0.670213  apic      60   \n",
              "1845       1845      145  4.960289      1.03  0.691489  apic      60   \n",
              "1846       1846      145  4.960289      1.03  0.712766  apic      60   \n",
              "\n",
              "        Distance   Section_L  Section_diam  Section_nseg  Section_Ra  \\\n",
              "1486  671.034720  276.374877          1.29            55       100.0   \n",
              "1487  676.059718  276.374877          1.29            55       100.0   \n",
              "1488  681.084716  276.374877          1.29            55       100.0   \n",
              "1489  686.109714  276.374877          1.29            55       100.0   \n",
              "1490  691.134711  276.374877          1.29            55       100.0   \n",
              "...          ...         ...           ...           ...         ...   \n",
              "1842  846.627753  233.133572          1.03            47       100.0   \n",
              "1843  851.588041  233.133572          1.03            47       100.0   \n",
              "1844  856.548330  233.133572          1.03            47       100.0   \n",
              "1845  861.508619  233.133572          1.03            47       100.0   \n",
              "1846  866.468908  233.133572          1.03            47       100.0   \n",
              "\n",
              "        Coord X     Coord Y   Coord Z  ParentSegID  Elec_distance  \\\n",
              "1486 -34.973857  603.914939  1.574586       1485.0       0.118966   \n",
              "1487 -35.172710  608.816781  2.648283       1486.0       0.115345   \n",
              "1488 -35.172710  613.744600  3.629033       1487.0       0.111910   \n",
              "1489 -34.968832  618.393979  5.477332       1488.0       0.108648   \n",
              "1490 -35.410425  623.307217  5.993446       1489.0       0.105547   \n",
              "...         ...         ...       ...          ...            ...   \n",
              "1842 -47.270383  778.441926 -7.096120       1841.0       0.024395   \n",
              "1843 -48.492018  783.156060 -7.837240       1842.0       0.023730   \n",
              "1844 -49.419451  787.982406 -8.215281       1843.0       0.023097   \n",
              "1845 -49.467465  792.908083 -8.094590       1844.0       0.022493   \n",
              "1846 -49.140984  797.820179 -7.493600       1845.0       0.021917   \n",
              "\n",
              "     Elec_distanceQ  \n",
              "1486              7  \n",
              "1487              7  \n",
              "1488              7  \n",
              "1489              7  \n",
              "1490              7  \n",
              "...             ...  \n",
              "1842              4  \n",
              "1843              4  \n",
              "1844              4  \n",
              "1845              4  \n",
              "1846              4  \n",
              "\n",
              "[118 rows x 18 columns]"
            ],
            "text/html": [
              "\n",
              "  <div id=\"df-b918d64c-b857-4384-b205-2f94d98b2c97\">\n",
              "    <div class=\"colab-df-container\">\n",
              "      <div>\n",
              "<style scoped>\n",
              "    .dataframe tbody tr th:only-of-type {\n",
              "        vertical-align: middle;\n",
              "    }\n",
              "\n",
              "    .dataframe tbody tr th {\n",
              "        vertical-align: top;\n",
              "    }\n",
              "\n",
              "    .dataframe thead th {\n",
              "        text-align: right;\n",
              "    }\n",
              "</style>\n",
              "<table border=\"1\" class=\"dataframe\">\n",
              "  <thead>\n",
              "    <tr style=\"text-align: right;\">\n",
              "      <th></th>\n",
              "      <th>segmentID</th>\n",
              "      <th>BMTK ID</th>\n",
              "      <th>Seg_L</th>\n",
              "      <th>Seg_diam</th>\n",
              "      <th>X</th>\n",
              "      <th>Type</th>\n",
              "      <th>Sec ID</th>\n",
              "      <th>Distance</th>\n",
              "      <th>Section_L</th>\n",
              "      <th>Section_diam</th>\n",
              "      <th>Section_nseg</th>\n",
              "      <th>Section_Ra</th>\n",
              "      <th>Coord X</th>\n",
              "      <th>Coord Y</th>\n",
              "      <th>Coord Z</th>\n",
              "      <th>ParentSegID</th>\n",
              "      <th>Elec_distance</th>\n",
              "      <th>Elec_distanceQ</th>\n",
              "    </tr>\n",
              "  </thead>\n",
              "  <tbody>\n",
              "    <tr>\n",
              "      <th>1486</th>\n",
              "      <td>1486</td>\n",
              "      <td>122</td>\n",
              "      <td>5.024998</td>\n",
              "      <td>1.80</td>\n",
              "      <td>0.118182</td>\n",
              "      <td>apic</td>\n",
              "      <td>37</td>\n",
              "      <td>671.034720</td>\n",
              "      <td>276.374877</td>\n",
              "      <td>1.29</td>\n",
              "      <td>55</td>\n",
              "      <td>100.0</td>\n",
              "      <td>-34.973857</td>\n",
              "      <td>603.914939</td>\n",
              "      <td>1.574586</td>\n",
              "      <td>1485.0</td>\n",
              "      <td>0.118966</td>\n",
              "      <td>7</td>\n",
              "    </tr>\n",
              "    <tr>\n",
              "      <th>1487</th>\n",
              "      <td>1487</td>\n",
              "      <td>122</td>\n",
              "      <td>5.024998</td>\n",
              "      <td>1.80</td>\n",
              "      <td>0.136364</td>\n",
              "      <td>apic</td>\n",
              "      <td>37</td>\n",
              "      <td>676.059718</td>\n",
              "      <td>276.374877</td>\n",
              "      <td>1.29</td>\n",
              "      <td>55</td>\n",
              "      <td>100.0</td>\n",
              "      <td>-35.172710</td>\n",
              "      <td>608.816781</td>\n",
              "      <td>2.648283</td>\n",
              "      <td>1486.0</td>\n",
              "      <td>0.115345</td>\n",
              "      <td>7</td>\n",
              "    </tr>\n",
              "    <tr>\n",
              "      <th>1488</th>\n",
              "      <td>1488</td>\n",
              "      <td>122</td>\n",
              "      <td>5.024998</td>\n",
              "      <td>1.80</td>\n",
              "      <td>0.154545</td>\n",
              "      <td>apic</td>\n",
              "      <td>37</td>\n",
              "      <td>681.084716</td>\n",
              "      <td>276.374877</td>\n",
              "      <td>1.29</td>\n",
              "      <td>55</td>\n",
              "      <td>100.0</td>\n",
              "      <td>-35.172710</td>\n",
              "      <td>613.744600</td>\n",
              "      <td>3.629033</td>\n",
              "      <td>1487.0</td>\n",
              "      <td>0.111910</td>\n",
              "      <td>7</td>\n",
              "    </tr>\n",
              "    <tr>\n",
              "      <th>1489</th>\n",
              "      <td>1489</td>\n",
              "      <td>122</td>\n",
              "      <td>5.024998</td>\n",
              "      <td>1.80</td>\n",
              "      <td>0.172727</td>\n",
              "      <td>apic</td>\n",
              "      <td>37</td>\n",
              "      <td>686.109714</td>\n",
              "      <td>276.374877</td>\n",
              "      <td>1.29</td>\n",
              "      <td>55</td>\n",
              "      <td>100.0</td>\n",
              "      <td>-34.968832</td>\n",
              "      <td>618.393979</td>\n",
              "      <td>5.477332</td>\n",
              "      <td>1488.0</td>\n",
              "      <td>0.108648</td>\n",
              "      <td>7</td>\n",
              "    </tr>\n",
              "    <tr>\n",
              "      <th>1490</th>\n",
              "      <td>1490</td>\n",
              "      <td>122</td>\n",
              "      <td>5.024998</td>\n",
              "      <td>1.80</td>\n",
              "      <td>0.190909</td>\n",
              "      <td>apic</td>\n",
              "      <td>37</td>\n",
              "      <td>691.134711</td>\n",
              "      <td>276.374877</td>\n",
              "      <td>1.29</td>\n",
              "      <td>55</td>\n",
              "      <td>100.0</td>\n",
              "      <td>-35.410425</td>\n",
              "      <td>623.307217</td>\n",
              "      <td>5.993446</td>\n",
              "      <td>1489.0</td>\n",
              "      <td>0.105547</td>\n",
              "      <td>7</td>\n",
              "    </tr>\n",
              "    <tr>\n",
              "      <th>...</th>\n",
              "      <td>...</td>\n",
              "      <td>...</td>\n",
              "      <td>...</td>\n",
              "      <td>...</td>\n",
              "      <td>...</td>\n",
              "      <td>...</td>\n",
              "      <td>...</td>\n",
              "      <td>...</td>\n",
              "      <td>...</td>\n",
              "      <td>...</td>\n",
              "      <td>...</td>\n",
              "      <td>...</td>\n",
              "      <td>...</td>\n",
              "      <td>...</td>\n",
              "      <td>...</td>\n",
              "      <td>...</td>\n",
              "      <td>...</td>\n",
              "      <td>...</td>\n",
              "    </tr>\n",
              "    <tr>\n",
              "      <th>1842</th>\n",
              "      <td>1842</td>\n",
              "      <td>145</td>\n",
              "      <td>4.960289</td>\n",
              "      <td>1.03</td>\n",
              "      <td>0.627660</td>\n",
              "      <td>apic</td>\n",
              "      <td>60</td>\n",
              "      <td>846.627753</td>\n",
              "      <td>233.133572</td>\n",
              "      <td>1.03</td>\n",
              "      <td>47</td>\n",
              "      <td>100.0</td>\n",
              "      <td>-47.270383</td>\n",
              "      <td>778.441926</td>\n",
              "      <td>-7.096120</td>\n",
              "      <td>1841.0</td>\n",
              "      <td>0.024395</td>\n",
              "      <td>4</td>\n",
              "    </tr>\n",
              "    <tr>\n",
              "      <th>1843</th>\n",
              "      <td>1843</td>\n",
              "      <td>145</td>\n",
              "      <td>4.960289</td>\n",
              "      <td>1.03</td>\n",
              "      <td>0.648936</td>\n",
              "      <td>apic</td>\n",
              "      <td>60</td>\n",
              "      <td>851.588041</td>\n",
              "      <td>233.133572</td>\n",
              "      <td>1.03</td>\n",
              "      <td>47</td>\n",
              "      <td>100.0</td>\n",
              "      <td>-48.492018</td>\n",
              "      <td>783.156060</td>\n",
              "      <td>-7.837240</td>\n",
              "      <td>1842.0</td>\n",
              "      <td>0.023730</td>\n",
              "      <td>4</td>\n",
              "    </tr>\n",
              "    <tr>\n",
              "      <th>1844</th>\n",
              "      <td>1844</td>\n",
              "      <td>145</td>\n",
              "      <td>4.960289</td>\n",
              "      <td>1.03</td>\n",
              "      <td>0.670213</td>\n",
              "      <td>apic</td>\n",
              "      <td>60</td>\n",
              "      <td>856.548330</td>\n",
              "      <td>233.133572</td>\n",
              "      <td>1.03</td>\n",
              "      <td>47</td>\n",
              "      <td>100.0</td>\n",
              "      <td>-49.419451</td>\n",
              "      <td>787.982406</td>\n",
              "      <td>-8.215281</td>\n",
              "      <td>1843.0</td>\n",
              "      <td>0.023097</td>\n",
              "      <td>4</td>\n",
              "    </tr>\n",
              "    <tr>\n",
              "      <th>1845</th>\n",
              "      <td>1845</td>\n",
              "      <td>145</td>\n",
              "      <td>4.960289</td>\n",
              "      <td>1.03</td>\n",
              "      <td>0.691489</td>\n",
              "      <td>apic</td>\n",
              "      <td>60</td>\n",
              "      <td>861.508619</td>\n",
              "      <td>233.133572</td>\n",
              "      <td>1.03</td>\n",
              "      <td>47</td>\n",
              "      <td>100.0</td>\n",
              "      <td>-49.467465</td>\n",
              "      <td>792.908083</td>\n",
              "      <td>-8.094590</td>\n",
              "      <td>1844.0</td>\n",
              "      <td>0.022493</td>\n",
              "      <td>4</td>\n",
              "    </tr>\n",
              "    <tr>\n",
              "      <th>1846</th>\n",
              "      <td>1846</td>\n",
              "      <td>145</td>\n",
              "      <td>4.960289</td>\n",
              "      <td>1.03</td>\n",
              "      <td>0.712766</td>\n",
              "      <td>apic</td>\n",
              "      <td>60</td>\n",
              "      <td>866.468908</td>\n",
              "      <td>233.133572</td>\n",
              "      <td>1.03</td>\n",
              "      <td>47</td>\n",
              "      <td>100.0</td>\n",
              "      <td>-49.140984</td>\n",
              "      <td>797.820179</td>\n",
              "      <td>-7.493600</td>\n",
              "      <td>1845.0</td>\n",
              "      <td>0.021917</td>\n",
              "      <td>4</td>\n",
              "    </tr>\n",
              "  </tbody>\n",
              "</table>\n",
              "<p>118 rows × 18 columns</p>\n",
              "</div>\n",
              "      <button class=\"colab-df-convert\" onclick=\"convertToInteractive('df-b918d64c-b857-4384-b205-2f94d98b2c97')\"\n",
              "              title=\"Convert this dataframe to an interactive table.\"\n",
              "              style=\"display:none;\">\n",
              "        \n",
              "  <svg xmlns=\"http://www.w3.org/2000/svg\" height=\"24px\"viewBox=\"0 0 24 24\"\n",
              "       width=\"24px\">\n",
              "    <path d=\"M0 0h24v24H0V0z\" fill=\"none\"/>\n",
              "    <path d=\"M18.56 5.44l.94 2.06.94-2.06 2.06-.94-2.06-.94-.94-2.06-.94 2.06-2.06.94zm-11 1L8.5 8.5l.94-2.06 2.06-.94-2.06-.94L8.5 2.5l-.94 2.06-2.06.94zm10 10l.94 2.06.94-2.06 2.06-.94-2.06-.94-.94-2.06-.94 2.06-2.06.94z\"/><path d=\"M17.41 7.96l-1.37-1.37c-.4-.4-.92-.59-1.43-.59-.52 0-1.04.2-1.43.59L10.3 9.45l-7.72 7.72c-.78.78-.78 2.05 0 2.83L4 21.41c.39.39.9.59 1.41.59.51 0 1.02-.2 1.41-.59l7.78-7.78 2.81-2.81c.8-.78.8-2.07 0-2.86zM5.41 20L4 18.59l7.72-7.72 1.47 1.35L5.41 20z\"/>\n",
              "  </svg>\n",
              "      </button>\n",
              "      \n",
              "  <style>\n",
              "    .colab-df-container {\n",
              "      display:flex;\n",
              "      flex-wrap:wrap;\n",
              "      gap: 12px;\n",
              "    }\n",
              "\n",
              "    .colab-df-convert {\n",
              "      background-color: #E8F0FE;\n",
              "      border: none;\n",
              "      border-radius: 50%;\n",
              "      cursor: pointer;\n",
              "      display: none;\n",
              "      fill: #1967D2;\n",
              "      height: 32px;\n",
              "      padding: 0 0 0 0;\n",
              "      width: 32px;\n",
              "    }\n",
              "\n",
              "    .colab-df-convert:hover {\n",
              "      background-color: #E2EBFA;\n",
              "      box-shadow: 0px 1px 2px rgba(60, 64, 67, 0.3), 0px 1px 3px 1px rgba(60, 64, 67, 0.15);\n",
              "      fill: #174EA6;\n",
              "    }\n",
              "\n",
              "    [theme=dark] .colab-df-convert {\n",
              "      background-color: #3B4455;\n",
              "      fill: #D2E3FC;\n",
              "    }\n",
              "\n",
              "    [theme=dark] .colab-df-convert:hover {\n",
              "      background-color: #434B5C;\n",
              "      box-shadow: 0px 1px 3px 1px rgba(0, 0, 0, 0.15);\n",
              "      filter: drop-shadow(0px 1px 2px rgba(0, 0, 0, 0.3));\n",
              "      fill: #FFFFFF;\n",
              "    }\n",
              "  </style>\n",
              "\n",
              "      <script>\n",
              "        const buttonEl =\n",
              "          document.querySelector('#df-b918d64c-b857-4384-b205-2f94d98b2c97 button.colab-df-convert');\n",
              "        buttonEl.style.display =\n",
              "          google.colab.kernel.accessAllowed ? 'block' : 'none';\n",
              "\n",
              "        async function convertToInteractive(key) {\n",
              "          const element = document.querySelector('#df-b918d64c-b857-4384-b205-2f94d98b2c97');\n",
              "          const dataTable =\n",
              "            await google.colab.kernel.invokeFunction('convertToInteractive',\n",
              "                                                     [key], {});\n",
              "          if (!dataTable) return;\n",
              "\n",
              "          const docLinkHtml = 'Like what you see? Visit the ' +\n",
              "            '<a target=\"_blank\" href=https://colab.research.google.com/notebooks/data_table.ipynb>data table notebook</a>'\n",
              "            + ' to learn more about interactive tables.';\n",
              "          element.innerHTML = '';\n",
              "          dataTable['output_type'] = 'display_data';\n",
              "          await google.colab.output.renderOutput(dataTable, element);\n",
              "          const docLink = document.createElement('div');\n",
              "          docLink.innerHTML = docLinkHtml;\n",
              "          element.appendChild(docLink);\n",
              "        }\n",
              "      </script>\n",
              "    </div>\n",
              "  </div>\n",
              "  "
            ]
          },
          "metadata": {},
          "execution_count": 40
        }
      ],
      "source": [
        "segs[(segs['Coord Y']>600)&(segs['Coord Y']<800)]"
      ]
    },
    {
      "cell_type": "code",
      "execution_count": 41,
      "metadata": {
        "id": "k-VESnKr4vak",
        "colab": {
          "base_uri": "https://localhost:8080/"
        },
        "outputId": "020f3e39-3681-4841-d328-035881b218c4"
      },
      "outputs": [
        {
          "output_type": "execute_result",
          "data": {
            "text/plain": [
              "809"
            ]
          },
          "metadata": {},
          "execution_count": 41
        }
      ],
      "source": [
        "np.random.choice(segs[(segs['Coord Y']<-50)&\n",
        "     (segs['Coord Y']>-100)&\n",
        "     (segs['Coord X']>-50)&\n",
        "     (segs['Coord X']<50)&\n",
        "     (segs['Type']=='dend')]['segmentID'])"
      ]
    },
    {
      "cell_type": "markdown",
      "metadata": {
        "id": "mUUMQV414val"
      },
      "source": [
        "## Plotting morphology as heat maps"
      ]
    },
    {
      "cell_type": "code",
      "execution_count": 42,
      "metadata": {
        "id": "ssdfDo-Q4val",
        "colab": {
          "base_uri": "https://localhost:8080/"
        },
        "outputId": "52905d0f-514d-4a9d-cee7-fdca2d8a276f"
      },
      "outputs": [
        {
          "output_type": "execute_result",
          "data": {
            "text/plain": [
              "(2526, 19)"
            ]
          },
          "metadata": {},
          "execution_count": 42
        }
      ],
      "source": [
        "exc_syns.shape"
      ]
    },
    {
      "cell_type": "code",
      "execution_count": 43,
      "metadata": {
        "id": "Vnjms8KJ4val",
        "colab": {
          "base_uri": "https://localhost:8080/",
          "height": 579
        },
        "outputId": "26cbe4c6-1c63-4d1d-f8dc-1e9db3cff9bd"
      },
      "outputs": [
        {
          "output_type": "display_data",
          "data": {
            "text/plain": [
              "<Figure size 288x720 with 2 Axes>"
            ],
            "image/png": "[encoded data removed]"
          },
          "metadata": {
            "needs_background": "light"
          }
        }
      ],
      "source": [
        "plt.figure(figsize=(4,10))\n",
        "ax = plt.scatter(exc_syns['Coord X'], exc_syns['Coord Y'],c=np.log(exc_syns['Elec_distance']))\n",
        "plt.vlines(110,400,500)\n",
        "plt.text(0,450,'100 um')\n",
        "plt.hlines(400,110,210)\n",
        "plt.text(110,350,'100 um')\n",
        "plt.xticks([])\n",
        "plt.yticks([])\n",
        "cbar = plt.colorbar()\n",
        "cbar.ax.set_ylabel('log(elec_distance)', rotation=270)\n",
        "\n",
        "#ax2.ax.set_title('log(elec_distance)',rotation=270)\n",
        "plt.box(False)\n",
        "plt.savefig('Elec_distance.svg')"
      ]
    },
    {
      "cell_type": "code",
      "execution_count": 44,
      "metadata": {
        "id": "VHqS5Q8s4val"
      },
      "outputs": [],
      "source": [
        "exc_syns.loc[pd.isnull(exc_syns.num_syns),'num_syns'] = 0"
      ]
    },
    {
      "cell_type": "code",
      "execution_count": 45,
      "metadata": {
        "id": "m0-V8uXt4val",
        "colab": {
          "base_uri": "https://localhost:8080/"
        },
        "outputId": "436dd621-789a-4e10-ac3c-324fdb620ca3"
      },
      "outputs": [
        {
          "output_type": "execute_result",
          "data": {
            "text/plain": [
              "((537, 19), (1989, 19))"
            ]
          },
          "metadata": {},
          "execution_count": 45
        }
      ],
      "source": [
        "exc_syns[exc_syns.num_syns==0].shape, exc_syns[exc_syns.num_syns!=0].shape"
      ]
    },
    {
      "cell_type": "code",
      "execution_count": 46,
      "metadata": {
        "id": "Wnpx-gOu4val",
        "colab": {
          "base_uri": "https://localhost:8080/",
          "height": 580
        },
        "outputId": "b689d7f1-1533-4813-bbfb-2ce17143c2cc"
      },
      "outputs": [
        {
          "output_type": "display_data",
          "data": {
            "text/plain": [
              "<Figure size 288x720 with 2 Axes>"
            ],
            "image/png": "[encoded data removed]"
          },
          "metadata": {
            "needs_background": "light"
          }
        }
      ],
      "source": [
        "plt.figure(figsize=(4,10))\n",
        "ax = plt.scatter(exc_syns['Coord X'], exc_syns['Coord Y'],c=exc_syns['num_syns'],s=4,cmap='jet')\n",
        "plt.vlines(110,400,500)\n",
        "plt.text(0,450,'100 um')\n",
        "plt.hlines(400,110,210)\n",
        "plt.text(110,350,'100 um')\n",
        "plt.xticks([])\n",
        "plt.yticks([])\n",
        "cbar = plt.colorbar()\n",
        "cbar.ax.set_ylabel('log(elec_distance)', rotation=270)\n",
        "\n",
        "#ax2.ax.set_title('log(elec_distance)',rotation=270)\n",
        "plt.box(False)\n",
        "plt.savefig('exc_syns.svg')"
      ]
    },
    {
      "cell_type": "markdown",
      "metadata": {
        "id": "tJFXhTRg4val"
      },
      "source": [
        "## Plotting morphology and voltage traces"
      ]
    },
    {
      "cell_type": "code",
      "execution_count": 47,
      "metadata": {
        "id": "hU8yAHh04val",
        "colab": {
          "base_uri": "https://localhost:8080/",
          "height": 575
        },
        "outputId": "99b67347-294d-4f2e-e2bd-fc21057edc71"
      },
      "outputs": [
        {
          "output_type": "display_data",
          "data": {
            "text/plain": [
              "<Figure size 216x720 with 1 Axes>"
            ],
            "image/png": "[encoded data removed]"
          },
          "metadata": {}
        }
      ],
      "source": [
        "plt.figure(figsize=(3,10))\n",
        "ax = plt.plot(segs['Coord X'], segs['Coord Y'],'.',color='k',markersize=6)\n",
        "plt.vlines(110,400,500)\n",
        "plt.text(0,450,'100 um')\n",
        "plt.hlines(400,110,210)\n",
        "plt.text(110,350,'100 um')\n",
        "plt.xticks([])\n",
        "plt.yticks([])\n",
        "plt.box(False)\n",
        "plt.plot(segs.loc[segs.segmentID==1959,'Coord X'], \n",
        "         segs.loc[segs.segmentID==1959,'Coord Y'],\n",
        "         'r*')\n",
        "plt.plot(segs.loc[segs.segmentID==1112,'Coord X'], \n",
        "         segs.loc[segs.segmentID==1112,'Coord Y'],\n",
        "         'b*')\n",
        "plt.plot(segs.loc[segs.segmentID==1046,'Coord X'], \n",
        "         segs.loc[segs.segmentID==1046,'Coord Y'],\n",
        "         'm*')\n",
        "plt.plot(segs.loc[segs.segmentID==1500,'Coord X'], \n",
        "         segs.loc[segs.segmentID==1500,'Coord Y'],\n",
        "         'g*')\n",
        "plt.plot(segs.loc[segs.segmentID==680,'Coord X'], \n",
        "         segs.loc[segs.segmentID==680,'Coord Y'],\n",
        "         '*',color='orange')\n",
        "plt.plot(segs.loc[segs.segmentID==482,'Coord X'], \n",
        "         segs.loc[segs.segmentID==482,'Coord Y'],\n",
        "         '*',color='grey')\n",
        "plt.savefig('fig1A.svg')"
      ]
    },
    {
      "cell_type": "code",
      "execution_count": 48,
      "metadata": {
        "id": "XSkRoAbM4val"
      },
      "outputs": [],
      "source": [
        "#v = h5py.File('../../../L5NeuronSimulation_expts/L5_control/L5_control_exc_med/L5NeuronSimulation/FullSimulation/output/v_report.h5','r')\n"
      ]
    },
    {
      "cell_type": "code",
      "execution_count": 49,
      "metadata": {
        "id": "Zxm_myLO4val"
      },
      "outputs": [],
      "source": [
        "#t"
      ]
    },
    {
      "cell_type": "code",
      "execution_count": 50,
      "metadata": {
        "id": "ZqyITWX94val",
        "colab": {
          "base_uri": "https://localhost:8080/",
          "height": 265
        },
        "outputId": "726486a9-402b-43ac-dea3-3df87a4e8085"
      },
      "outputs": [
        {
          "output_type": "stream",
          "name": "stdout",
          "text": [
            "641\n"
          ]
        },
        {
          "output_type": "display_data",
          "data": {
            "text/plain": [
              "<Figure size 720x288 with 1 Axes>"
            ],
            "image/png": "[encoded data removed]"
          },
          "metadata": {}
        }
      ],
      "source": [
        "t = np.random.choice(segs[(segs['Coord Y']<-50)&\n",
        "     (segs['Coord Y']>-100)&\n",
        "     (segs['Coord X']>-50)&\n",
        "     (segs['Coord X']<50)&\n",
        "     (segs['Type']=='dend')]['segmentID'])\n",
        "\n",
        "print(t)\n",
        "\n",
        "plt.figure(figsize=(10,4))\n",
        "s1 = 3 #323548+1500#np.random.choice(range(v['report']['biophysical']['data'].shape[0]))\n",
        "plt.plot(np.arange(0,400,.1),v['report']['biophysical']['data'][s1:s1+4000,t],color='grey')\n",
        "#1433413, 1161455\n",
        "plt.hlines(-50,70,100)\n",
        "plt.text(70,-55,'30 ms')\n",
        "plt.vlines(70,-50,-40)\n",
        "plt.text(40,-45,'10 mV')\n",
        "plt.box(False)\n",
        "plt.xticks([])\n",
        "plt.yticks([])\n",
        "plt.savefig('fig2G.svg')"
      ]
    },
    {
      "cell_type": "code",
      "execution_count": 51,
      "metadata": {
        "id": "PCIg-Z8C4vam",
        "colab": {
          "base_uri": "https://localhost:8080/",
          "height": 248
        },
        "outputId": "ee572688-f0e3-4207-a04f-c95452d91616"
      },
      "outputs": [
        {
          "output_type": "display_data",
          "data": {
            "text/plain": [
              "<Figure size 720x288 with 1 Axes>"
            ],
            "image/png": "[encoded data removed]"
          },
          "metadata": {}
        }
      ],
      "source": [
        "plt.figure(figsize=(10,4))\n",
        "s1 = 3 #323548+1500#np.random.choice(range(v['report']['biophysical']['data'].shape[0]))\n",
        "plt.plot(np.arange(0,400,.1),v['report']['biophysical']['data'][s1:s1+4000,130],color='orange')\n",
        "#1433413, 1161455\n",
        "plt.hlines(-50,70,100)\n",
        "plt.text(70,-55,'30 ms')\n",
        "plt.vlines(70,-50,-40)\n",
        "plt.text(40,-45,'10 mV')\n",
        "plt.box(False)\n",
        "plt.xticks([])\n",
        "plt.yticks([])\n",
        "plt.savefig('fig2F.svg')"
      ]
    },
    {
      "cell_type": "code",
      "execution_count": 52,
      "metadata": {
        "id": "LkAUkRjt4vam",
        "colab": {
          "base_uri": "https://localhost:8080/",
          "height": 248
        },
        "outputId": "f57a58ad-abc3-4c53-c76c-0613698accc5"
      },
      "outputs": [
        {
          "output_type": "display_data",
          "data": {
            "text/plain": [
              "<Figure size 720x288 with 1 Axes>"
            ],
            "image/png": "[encoded data removed]"
          },
          "metadata": {}
        }
      ],
      "source": [
        "plt.figure(figsize=(10,4))\n",
        "s1 = 3 #np.random.choice(range(v['report']['biophysical']['data'].shape[0]))\n",
        "plt.plot(np.arange(0,400,.1),v['report']['biophysical']['data'][s1:s1+4000,0],color='k')\n",
        "#1433413, 1161455\n",
        "plt.hlines(-50,70,100)\n",
        "plt.text(70,-55,'30 ms')\n",
        "plt.vlines(70,-50,-40)\n",
        "plt.text(40,-45,'10 mV')\n",
        "plt.box(False)\n",
        "plt.xticks([])\n",
        "plt.yticks([])\n",
        "plt.savefig('fig2E.svg')"
      ]
    },
    {
      "cell_type": "code",
      "execution_count": 53,
      "metadata": {
        "id": "JV0ulcgT4vam",
        "colab": {
          "base_uri": "https://localhost:8080/",
          "height": 248
        },
        "outputId": "74ee800e-129d-4c95-a147-57c9157e6a4f"
      },
      "outputs": [
        {
          "output_type": "display_data",
          "data": {
            "text/plain": [
              "<Figure size 720x288 with 1 Axes>"
            ],
            "image/png": "[encoded data removed]"
          },
          "metadata": {}
        }
      ],
      "source": [
        "plt.figure(figsize=(10,4))\n",
        "s1 =  3 #323548+1500#np.random.choice(range(v['report']['biophysical']['data'].shape[0]))\n",
        "plt.plot(np.arange(0,400,.1),v['report']['biophysical']['data'][s1:s1+4000, 4],color='g')\n",
        "#1433413, 1161455\n",
        "plt.hlines(-50,70,100)\n",
        "plt.text(70,-55,'30 ms')\n",
        "plt.vlines(70,-50,-40)\n",
        "plt.text(40,-45,'10 mV')\n",
        "plt.box(False)\n",
        "plt.xticks([])\n",
        "plt.yticks([])\n",
        "plt.savefig('fig2C.svg')"
      ]
    },
    {
      "cell_type": "code",
      "execution_count": 54,
      "metadata": {
        "id": "11E1a7S34vam"
      },
      "outputs": [],
      "source": [
        "# plt.figure(figsize=(10,4))\n",
        "# #s1 = 323548+1500#np.random.choice(range(v['report']['biophysical']['data'].shape[0]))\n",
        "# plt.plot(np.arange(0,400,.1),v['report']['biophysical']['data'][s1:s1+4000,3],color='m')\n",
        "# #1433413, 1161455\n",
        "# plt.hlines(-50,70,100)\n",
        "# plt.text(70,-55,'30 ms')\n",
        "# plt.vlines(70,-50,-40)\n",
        "# plt.text(40,-45,'10 mV')\n",
        "# plt.box(False)\n",
        "# plt.xticks([])\n",
        "# plt.yticks([])\n",
        "# plt.savefig('fig2D.svg')"
      ]
    },
    {
      "cell_type": "code",
      "execution_count": 55,
      "metadata": {
        "id": "nambE_k84vam",
        "colab": {
          "base_uri": "https://localhost:8080/",
          "height": 248
        },
        "outputId": "2d703f61-8c11-4a61-a0b9-861958d8d327"
      },
      "outputs": [
        {
          "output_type": "display_data",
          "data": {
            "text/plain": [
              "<Figure size 720x288 with 1 Axes>"
            ],
            "image/png": "[encoded data removed]"
          },
          "metadata": {}
        }
      ],
      "source": [
        "plt.figure(figsize=(10,4))\n",
        "s1 = 3 #323548+1500#np.random.choice(range(v['report']['biophysical']['data'].shape[0]))\n",
        "plt.plot(np.arange(0,400,.1),v['report']['biophysical']['data'][s1:s1+4000,70],color='b')\n",
        "#1433413, 1161455\n",
        "plt.hlines(-50,70,100)\n",
        "plt.text(70,-55,'30 ms')\n",
        "plt.vlines(70,-50,-40)\n",
        "plt.text(40,-45,'10 mV')\n",
        "plt.box(False)\n",
        "plt.xticks([])\n",
        "plt.yticks([])\n",
        "plt.savefig('fig2B.svg')"
      ]
    },
    {
      "cell_type": "code",
      "execution_count": 56,
      "metadata": {
        "id": "ujT5jG9g4vam",
        "colab": {
          "base_uri": "https://localhost:8080/",
          "height": 248
        },
        "outputId": "528da475-033d-4156-f455-f0c9edff8ee8"
      },
      "outputs": [
        {
          "output_type": "display_data",
          "data": {
            "text/plain": [
              "<Figure size 720x288 with 1 Axes>"
            ],
            "image/png": "[encoded data removed]"
          },
          "metadata": {}
        }
      ],
      "source": [
        "plt.figure(figsize=(10,4))\n",
        "s1 = 3 #323548+1500#np.random.choice(range(v['report']['biophysical']['data'].shape[0]))\n",
        "plt.plot(np.arange(0,400,.1),v['report']['biophysical']['data'][s1:s1+4000, 30],color='r')\n",
        "#1433413, 1161455\n",
        "plt.hlines(-60,170,200)\n",
        "plt.text(170,-65,'30 ms')\n",
        "plt.vlines(170,-60,-50)\n",
        "plt.text(140,-55,'10 mV')\n",
        "plt.box(False)\n",
        "plt.xticks([])\n",
        "plt.yticks([])\n",
        "plt.savefig('fig2A.svg')"
      ]
    },
    {
      "cell_type": "code",
      "execution_count": 57,
      "metadata": {
        "id": "dCbbKvX24vam",
        "colab": {
          "base_uri": "https://localhost:8080/"
        },
        "outputId": "e4bc474e-3191-4ef2-8919-6bd88e226757"
      },
      "outputs": [
        {
          "output_type": "execute_result",
          "data": {
            "text/plain": [
              "3"
            ]
          },
          "metadata": {},
          "execution_count": 57
        }
      ],
      "source": [
        "s1"
      ]
    },
    {
      "cell_type": "code",
      "execution_count": 58,
      "metadata": {
        "id": "iuT57ij34vam",
        "colab": {
          "base_uri": "https://localhost:8080/",
          "height": 265
        },
        "outputId": "dcf47380-8bf5-4f4d-9ab7-45c99ba096be"
      },
      "outputs": [
        {
          "output_type": "execute_result",
          "data": {
            "text/plain": [
              "([], <a list of 0 Text major ticklabel objects>)"
            ]
          },
          "metadata": {},
          "execution_count": 58
        },
        {
          "output_type": "display_data",
          "data": {
            "text/plain": [
              "<Figure size 720x288 with 1 Axes>"
            ],
            "image/png": "[encoded data removed]"
          },
          "metadata": {}
        }
      ],
      "source": [
        "plt.figure(figsize=(10,4))\n",
        "#s1 = 559133+1000#np.random.choice(range(v['report']['biophysical']['data'].shape[0]))\n",
        "plt.plot(np.arange(0,400,.1),v['report']['biophysical']['data'][s1:s1+4000,0],color='k')\n",
        "#1433413, 1161455\n",
        "plt.hlines(-10,40,70)\n",
        "plt.text(40,-15,'30 ms')\n",
        "plt.vlines(40,-10,0)\n",
        "plt.text(5,-5,'10 mV')\n",
        "plt.box(False)\n",
        "plt.xticks([])\n",
        "plt.yticks([])"
      ]
    },
    {
      "cell_type": "code",
      "execution_count": 59,
      "metadata": {
        "id": "PWAxSjgM4vam"
      },
      "outputs": [],
      "source": [
        "# x = ca_df[~pd.isnull(ca_df.ca_lower_bound)].reset_index()\n",
        "# i = np.random.choice(x.index)"
      ]
    },
    {
      "cell_type": "code",
      "execution_count": 60,
      "metadata": {
        "id": "fnauSOmq4vam",
        "colab": {
          "base_uri": "https://localhost:8080/",
          "height": 609
        },
        "outputId": "7abfd4bb-e162-4dd0-8b92-bdeb7f78164c"
      },
      "outputs": [
        {
          "output_type": "execute_result",
          "data": {
            "text/plain": [
              "(0.0, 200.0)"
            ]
          },
          "metadata": {},
          "execution_count": 60
        },
        {
          "output_type": "display_data",
          "data": {
            "text/plain": [
              "<Figure size 864x720 with 2 Axes>"
            ],
            "image/png": "[encoded data removed]"
          },
          "metadata": {
            "needs_background": "light"
          }
        }
      ],
      "source": [
        "seg = 30\n",
        "lower_bound = 1000\n",
        "plt.figure(figsize=(12,10))\n",
        "plt.plot(np.arange(0,100,.1),-(hva['report']['biophysical']['data'][lower_bound-100:lower_bound+900,seg]+\\\n",
        "         lva['report']['biophysical']['data'][lower_bound-100:lower_bound+900,seg]+\\\n",
        "         ih['report']['biophysical']['data'][lower_bound-100:lower_bound+900,seg]),color='b')\n",
        "plt.hlines(np.mean(-(hva['report']['biophysical']['data'][lower_bound-100:lower_bound+900,seg]+\\\n",
        "         lva['report']['biophysical']['data'][lower_bound-100:lower_bound+900,seg]+\\\n",
        "         ih['report']['biophysical']['data'][lower_bound-100:lower_bound+900,seg])),0,100,color='b')\n",
        "plt.xlim(0,200)\n",
        "\n",
        "plt.twinx()\n",
        "plt.plot(np.arange(0,100,.1),v['report']['biophysical']['data'][lower_bound-100:lower_bound+900,seg],color='k')\n",
        "plt.plot(np.arange(0,100,.1),v['report']['biophysical']['data'][lower_bound-100:lower_bound+900,0],color='k',alpha=0.2)\n",
        "plt.xlim(0,200)\n"
      ]
    },
    {
      "cell_type": "code",
      "execution_count": 61,
      "metadata": {
        "id": "8mkUlMNO4van"
      },
      "outputs": [],
      "source": [
        "ca_df.reset_index(inplace=True)\n"
      ]
    },
    {
      "cell_type": "code",
      "source": [
        "ca_df"
      ],
      "metadata": {
        "id": "jjypwBwsjbTg",
        "colab": {
          "base_uri": "https://localhost:8080/",
          "height": 424
        },
        "outputId": "a8e63b88-288f-4921-d45a-e317ff215b9d"
      },
      "execution_count": 62,
      "outputs": [
        {
          "output_type": "execute_result",
          "data": {
            "text/plain": [
              "       index  Unnamed: 0  segmentID  ca_lower_bound  ca_upper_bound  mag\n",
              "0          0           0          0             NaN             NaN  NaN\n",
              "1          1           0          1             NaN             NaN  NaN\n",
              "2          2           0          2             NaN             NaN  NaN\n",
              "3          3           0          3             NaN             NaN  NaN\n",
              "4          4           0          4             NaN             NaN  NaN\n",
              "...      ...         ...        ...             ...             ...  ...\n",
              "11054  11054           0       2521             NaN             NaN  NaN\n",
              "11055  11055           0       2522             NaN             NaN  NaN\n",
              "11056  11056           0       2523             NaN             NaN  NaN\n",
              "11057  11057           0       2524             NaN             NaN  NaN\n",
              "11058  11058           0       2525             NaN             NaN  NaN\n",
              "\n",
              "[11059 rows x 6 columns]"
            ],
            "text/html": [
              "\n",
              "  <div id=\"df-e9212ad1-0d0e-4c1b-94c3-47dd0090534b\">\n",
              "    <div class=\"colab-df-container\">\n",
              "      <div>\n",
              "<style scoped>\n",
              "    .dataframe tbody tr th:only-of-type {\n",
              "        vertical-align: middle;\n",
              "    }\n",
              "\n",
              "    .dataframe tbody tr th {\n",
              "        vertical-align: top;\n",
              "    }\n",
              "\n",
              "    .dataframe thead th {\n",
              "        text-align: right;\n",
              "    }\n",
              "</style>\n",
              "<table border=\"1\" class=\"dataframe\">\n",
              "  <thead>\n",
              "    <tr style=\"text-align: right;\">\n",
              "      <th></th>\n",
              "      <th>index</th>\n",
              "      <th>Unnamed: 0</th>\n",
              "      <th>segmentID</th>\n",
              "      <th>ca_lower_bound</th>\n",
              "      <th>ca_upper_bound</th>\n",
              "      <th>mag</th>\n",
              "    </tr>\n",
              "  </thead>\n",
              "  <tbody>\n",
              "    <tr>\n",
              "      <th>0</th>\n",
              "      <td>0</td>\n",
              "      <td>0</td>\n",
              "      <td>0</td>\n",
              "      <td>NaN</td>\n",
              "      <td>NaN</td>\n",
              "      <td>NaN</td>\n",
              "    </tr>\n",
              "    <tr>\n",
              "      <th>1</th>\n",
              "      <td>1</td>\n",
              "      <td>0</td>\n",
              "      <td>1</td>\n",
              "      <td>NaN</td>\n",
              "      <td>NaN</td>\n",
              "      <td>NaN</td>\n",
              "    </tr>\n",
              "    <tr>\n",
              "      <th>2</th>\n",
              "      <td>2</td>\n",
              "      <td>0</td>\n",
              "      <td>2</td>\n",
              "      <td>NaN</td>\n",
              "      <td>NaN</td>\n",
              "      <td>NaN</td>\n",
              "    </tr>\n",
              "    <tr>\n",
              "      <th>3</th>\n",
              "      <td>3</td>\n",
              "      <td>0</td>\n",
              "      <td>3</td>\n",
              "      <td>NaN</td>\n",
              "      <td>NaN</td>\n",
              "      <td>NaN</td>\n",
              "    </tr>\n",
              "    <tr>\n",
              "      <th>4</th>\n",
              "      <td>4</td>\n",
              "      <td>0</td>\n",
              "      <td>4</td>\n",
              "      <td>NaN</td>\n",
              "      <td>NaN</td>\n",
              "      <td>NaN</td>\n",
              "    </tr>\n",
              "    <tr>\n",
              "      <th>...</th>\n",
              "      <td>...</td>\n",
              "      <td>...</td>\n",
              "      <td>...</td>\n",
              "      <td>...</td>\n",
              "      <td>...</td>\n",
              "      <td>...</td>\n",
              "    </tr>\n",
              "    <tr>\n",
              "      <th>11054</th>\n",
              "      <td>11054</td>\n",
              "      <td>0</td>\n",
              "      <td>2521</td>\n",
              "      <td>NaN</td>\n",
              "      <td>NaN</td>\n",
              "      <td>NaN</td>\n",
              "    </tr>\n",
              "    <tr>\n",
              "      <th>11055</th>\n",
              "      <td>11055</td>\n",
              "      <td>0</td>\n",
              "      <td>2522</td>\n",
              "      <td>NaN</td>\n",
              "      <td>NaN</td>\n",
              "      <td>NaN</td>\n",
              "    </tr>\n",
              "    <tr>\n",
              "      <th>11056</th>\n",
              "      <td>11056</td>\n",
              "      <td>0</td>\n",
              "      <td>2523</td>\n",
              "      <td>NaN</td>\n",
              "      <td>NaN</td>\n",
              "      <td>NaN</td>\n",
              "    </tr>\n",
              "    <tr>\n",
              "      <th>11057</th>\n",
              "      <td>11057</td>\n",
              "      <td>0</td>\n",
              "      <td>2524</td>\n",
              "      <td>NaN</td>\n",
              "      <td>NaN</td>\n",
              "      <td>NaN</td>\n",
              "    </tr>\n",
              "    <tr>\n",
              "      <th>11058</th>\n",
              "      <td>11058</td>\n",
              "      <td>0</td>\n",
              "      <td>2525</td>\n",
              "      <td>NaN</td>\n",
              "      <td>NaN</td>\n",
              "      <td>NaN</td>\n",
              "    </tr>\n",
              "  </tbody>\n",
              "</table>\n",
              "<p>11059 rows × 6 columns</p>\n",
              "</div>\n",
              "      <button class=\"colab-df-convert\" onclick=\"convertToInteractive('df-e9212ad1-0d0e-4c1b-94c3-47dd0090534b')\"\n",
              "              title=\"Convert this dataframe to an interactive table.\"\n",
              "              style=\"display:none;\">\n",
              "        \n",
              "  <svg xmlns=\"http://www.w3.org/2000/svg\" height=\"24px\"viewBox=\"0 0 24 24\"\n",
              "       width=\"24px\">\n",
              "    <path d=\"M0 0h24v24H0V0z\" fill=\"none\"/>\n",
              "    <path d=\"M18.56 5.44l.94 2.06.94-2.06 2.06-.94-2.06-.94-.94-2.06-.94 2.06-2.06.94zm-11 1L8.5 8.5l.94-2.06 2.06-.94-2.06-.94L8.5 2.5l-.94 2.06-2.06.94zm10 10l.94 2.06.94-2.06 2.06-.94-2.06-.94-.94-2.06-.94 2.06-2.06.94z\"/><path d=\"M17.41 7.96l-1.37-1.37c-.4-.4-.92-.59-1.43-.59-.52 0-1.04.2-1.43.59L10.3 9.45l-7.72 7.72c-.78.78-.78 2.05 0 2.83L4 21.41c.39.39.9.59 1.41.59.51 0 1.02-.2 1.41-.59l7.78-7.78 2.81-2.81c.8-.78.8-2.07 0-2.86zM5.41 20L4 18.59l7.72-7.72 1.47 1.35L5.41 20z\"/>\n",
              "  </svg>\n",
              "      </button>\n",
              "      \n",
              "  <style>\n",
              "    .colab-df-container {\n",
              "      display:flex;\n",
              "      flex-wrap:wrap;\n",
              "      gap: 12px;\n",
              "    }\n",
              "\n",
              "    .colab-df-convert {\n",
              "      background-color: #E8F0FE;\n",
              "      border: none;\n",
              "      border-radius: 50%;\n",
              "      cursor: pointer;\n",
              "      display: none;\n",
              "      fill: #1967D2;\n",
              "      height: 32px;\n",
              "      padding: 0 0 0 0;\n",
              "      width: 32px;\n",
              "    }\n",
              "\n",
              "    .colab-df-convert:hover {\n",
              "      background-color: #E2EBFA;\n",
              "      box-shadow: 0px 1px 2px rgba(60, 64, 67, 0.3), 0px 1px 3px 1px rgba(60, 64, 67, 0.15);\n",
              "      fill: #174EA6;\n",
              "    }\n",
              "\n",
              "    [theme=dark] .colab-df-convert {\n",
              "      background-color: #3B4455;\n",
              "      fill: #D2E3FC;\n",
              "    }\n",
              "\n",
              "    [theme=dark] .colab-df-convert:hover {\n",
              "      background-color: #434B5C;\n",
              "      box-shadow: 0px 1px 3px 1px rgba(0, 0, 0, 0.15);\n",
              "      filter: drop-shadow(0px 1px 2px rgba(0, 0, 0, 0.3));\n",
              "      fill: #FFFFFF;\n",
              "    }\n",
              "  </style>\n",
              "\n",
              "      <script>\n",
              "        const buttonEl =\n",
              "          document.querySelector('#df-e9212ad1-0d0e-4c1b-94c3-47dd0090534b button.colab-df-convert');\n",
              "        buttonEl.style.display =\n",
              "          google.colab.kernel.accessAllowed ? 'block' : 'none';\n",
              "\n",
              "        async function convertToInteractive(key) {\n",
              "          const element = document.querySelector('#df-e9212ad1-0d0e-4c1b-94c3-47dd0090534b');\n",
              "          const dataTable =\n",
              "            await google.colab.kernel.invokeFunction('convertToInteractive',\n",
              "                                                     [key], {});\n",
              "          if (!dataTable) return;\n",
              "\n",
              "          const docLinkHtml = 'Like what you see? Visit the ' +\n",
              "            '<a target=\"_blank\" href=https://colab.research.google.com/notebooks/data_table.ipynb>data table notebook</a>'\n",
              "            + ' to learn more about interactive tables.';\n",
              "          element.innerHTML = '';\n",
              "          dataTable['output_type'] = 'display_data';\n",
              "          await google.colab.output.renderOutput(dataTable, element);\n",
              "          const docLink = document.createElement('div');\n",
              "          docLink.innerHTML = docLinkHtml;\n",
              "          element.appendChild(docLink);\n",
              "        }\n",
              "      </script>\n",
              "    </div>\n",
              "  </div>\n",
              "  "
            ]
          },
          "metadata": {},
          "execution_count": 62
        }
      ]
    },
    {
      "cell_type": "code",
      "source": [
        "ca_df[(ca_df.ca_lower_bound>20) & (ca_df.ca_lower_bound<1400000)]"
      ],
      "metadata": {
        "id": "Uwqd8m7-jaAk",
        "colab": {
          "base_uri": "https://localhost:8080/",
          "height": 424
        },
        "outputId": "9c7cedf7-1a96-4386-80e3-374d6beea8e2"
      },
      "execution_count": 63,
      "outputs": [
        {
          "output_type": "execute_result",
          "data": {
            "text/plain": [
              "       index  Unnamed: 0  segmentID  ca_lower_bound  ca_upper_bound       mag\n",
              "17        17           0         17          6120.0          6376.0 -0.002686\n",
              "18        18           0         18          6120.0          6380.0 -0.004001\n",
              "19        19           0         19          6120.0          6383.0 -0.005349\n",
              "20        20           0         20          6120.0          6386.0 -0.006799\n",
              "21        21           0         21          4619.0          4863.0 -0.004068\n",
              "...      ...         ...        ...             ...             ...       ...\n",
              "10906  10906           1       2376          2929.0          3227.0 -0.092138\n",
              "10907  10907           2       2376          8536.0          8774.0 -0.079931\n",
              "10908  10908           0       2377          1643.0          1858.0 -0.074300\n",
              "10909  10909           1       2377          2929.0          3227.0 -0.095291\n",
              "10910  10910           2       2377          8536.0          8774.0 -0.079736\n",
              "\n",
              "[10173 rows x 6 columns]"
            ],
            "text/html": [
              "\n",
              "  <div id=\"df-e783b099-25ca-4b58-8ba7-9a5ed7671c71\">\n",
              "    <div class=\"colab-df-container\">\n",
              "      <div>\n",
              "<style scoped>\n",
              "    .dataframe tbody tr th:only-of-type {\n",
              "        vertical-align: middle;\n",
              "    }\n",
              "\n",
              "    .dataframe tbody tr th {\n",
              "        vertical-align: top;\n",
              "    }\n",
              "\n",
              "    .dataframe thead th {\n",
              "        text-align: right;\n",
              "    }\n",
              "</style>\n",
              "<table border=\"1\" class=\"dataframe\">\n",
              "  <thead>\n",
              "    <tr style=\"text-align: right;\">\n",
              "      <th></th>\n",
              "      <th>index</th>\n",
              "      <th>Unnamed: 0</th>\n",
              "      <th>segmentID</th>\n",
              "      <th>ca_lower_bound</th>\n",
              "      <th>ca_upper_bound</th>\n",
              "      <th>mag</th>\n",
              "    </tr>\n",
              "  </thead>\n",
              "  <tbody>\n",
              "    <tr>\n",
              "      <th>17</th>\n",
              "      <td>17</td>\n",
              "      <td>0</td>\n",
              "      <td>17</td>\n",
              "      <td>6120.0</td>\n",
              "      <td>6376.0</td>\n",
              "      <td>-0.002686</td>\n",
              "    </tr>\n",
              "    <tr>\n",
              "      <th>18</th>\n",
              "      <td>18</td>\n",
              "      <td>0</td>\n",
              "      <td>18</td>\n",
              "      <td>6120.0</td>\n",
              "      <td>6380.0</td>\n",
              "      <td>-0.004001</td>\n",
              "    </tr>\n",
              "    <tr>\n",
              "      <th>19</th>\n",
              "      <td>19</td>\n",
              "      <td>0</td>\n",
              "      <td>19</td>\n",
              "      <td>6120.0</td>\n",
              "      <td>6383.0</td>\n",
              "      <td>-0.005349</td>\n",
              "    </tr>\n",
              "    <tr>\n",
              "      <th>20</th>\n",
              "      <td>20</td>\n",
              "      <td>0</td>\n",
              "      <td>20</td>\n",
              "      <td>6120.0</td>\n",
              "      <td>6386.0</td>\n",
              "      <td>-0.006799</td>\n",
              "    </tr>\n",
              "    <tr>\n",
              "      <th>21</th>\n",
              "      <td>21</td>\n",
              "      <td>0</td>\n",
              "      <td>21</td>\n",
              "      <td>4619.0</td>\n",
              "      <td>4863.0</td>\n",
              "      <td>-0.004068</td>\n",
              "    </tr>\n",
              "    <tr>\n",
              "      <th>...</th>\n",
              "      <td>...</td>\n",
              "      <td>...</td>\n",
              "      <td>...</td>\n",
              "      <td>...</td>\n",
              "      <td>...</td>\n",
              "      <td>...</td>\n",
              "    </tr>\n",
              "    <tr>\n",
              "      <th>10906</th>\n",
              "      <td>10906</td>\n",
              "      <td>1</td>\n",
              "      <td>2376</td>\n",
              "      <td>2929.0</td>\n",
              "      <td>3227.0</td>\n",
              "      <td>-0.092138</td>\n",
              "    </tr>\n",
              "    <tr>\n",
              "      <th>10907</th>\n",
              "      <td>10907</td>\n",
              "      <td>2</td>\n",
              "      <td>2376</td>\n",
              "      <td>8536.0</td>\n",
              "      <td>8774.0</td>\n",
              "      <td>-0.079931</td>\n",
              "    </tr>\n",
              "    <tr>\n",
              "      <th>10908</th>\n",
              "      <td>10908</td>\n",
              "      <td>0</td>\n",
              "      <td>2377</td>\n",
              "      <td>1643.0</td>\n",
              "      <td>1858.0</td>\n",
              "      <td>-0.074300</td>\n",
              "    </tr>\n",
              "    <tr>\n",
              "      <th>10909</th>\n",
              "      <td>10909</td>\n",
              "      <td>1</td>\n",
              "      <td>2377</td>\n",
              "      <td>2929.0</td>\n",
              "      <td>3227.0</td>\n",
              "      <td>-0.095291</td>\n",
              "    </tr>\n",
              "    <tr>\n",
              "      <th>10910</th>\n",
              "      <td>10910</td>\n",
              "      <td>2</td>\n",
              "      <td>2377</td>\n",
              "      <td>8536.0</td>\n",
              "      <td>8774.0</td>\n",
              "      <td>-0.079736</td>\n",
              "    </tr>\n",
              "  </tbody>\n",
              "</table>\n",
              "<p>10173 rows × 6 columns</p>\n",
              "</div>\n",
              "      <button class=\"colab-df-convert\" onclick=\"convertToInteractive('df-e783b099-25ca-4b58-8ba7-9a5ed7671c71')\"\n",
              "              title=\"Convert this dataframe to an interactive table.\"\n",
              "              style=\"display:none;\">\n",
              "        \n",
              "  <svg xmlns=\"http://www.w3.org/2000/svg\" height=\"24px\"viewBox=\"0 0 24 24\"\n",
              "       width=\"24px\">\n",
              "    <path d=\"M0 0h24v24H0V0z\" fill=\"none\"/>\n",
              "    <path d=\"M18.56 5.44l.94 2.06.94-2.06 2.06-.94-2.06-.94-.94-2.06-.94 2.06-2.06.94zm-11 1L8.5 8.5l.94-2.06 2.06-.94-2.06-.94L8.5 2.5l-.94 2.06-2.06.94zm10 10l.94 2.06.94-2.06 2.06-.94-2.06-.94-.94-2.06-.94 2.06-2.06.94z\"/><path d=\"M17.41 7.96l-1.37-1.37c-.4-.4-.92-.59-1.43-.59-.52 0-1.04.2-1.43.59L10.3 9.45l-7.72 7.72c-.78.78-.78 2.05 0 2.83L4 21.41c.39.39.9.59 1.41.59.51 0 1.02-.2 1.41-.59l7.78-7.78 2.81-2.81c.8-.78.8-2.07 0-2.86zM5.41 20L4 18.59l7.72-7.72 1.47 1.35L5.41 20z\"/>\n",
              "  </svg>\n",
              "      </button>\n",
              "      \n",
              "  <style>\n",
              "    .colab-df-container {\n",
              "      display:flex;\n",
              "      flex-wrap:wrap;\n",
              "      gap: 12px;\n",
              "    }\n",
              "\n",
              "    .colab-df-convert {\n",
              "      background-color: #E8F0FE;\n",
              "      border: none;\n",
              "      border-radius: 50%;\n",
              "      cursor: pointer;\n",
              "      display: none;\n",
              "      fill: #1967D2;\n",
              "      height: 32px;\n",
              "      padding: 0 0 0 0;\n",
              "      width: 32px;\n",
              "    }\n",
              "\n",
              "    .colab-df-convert:hover {\n",
              "      background-color: #E2EBFA;\n",
              "      box-shadow: 0px 1px 2px rgba(60, 64, 67, 0.3), 0px 1px 3px 1px rgba(60, 64, 67, 0.15);\n",
              "      fill: #174EA6;\n",
              "    }\n",
              "\n",
              "    [theme=dark] .colab-df-convert {\n",
              "      background-color: #3B4455;\n",
              "      fill: #D2E3FC;\n",
              "    }\n",
              "\n",
              "    [theme=dark] .colab-df-convert:hover {\n",
              "      background-color: #434B5C;\n",
              "      box-shadow: 0px 1px 3px 1px rgba(0, 0, 0, 0.15);\n",
              "      filter: drop-shadow(0px 1px 2px rgba(0, 0, 0, 0.3));\n",
              "      fill: #FFFFFF;\n",
              "    }\n",
              "  </style>\n",
              "\n",
              "      <script>\n",
              "        const buttonEl =\n",
              "          document.querySelector('#df-e783b099-25ca-4b58-8ba7-9a5ed7671c71 button.colab-df-convert');\n",
              "        buttonEl.style.display =\n",
              "          google.colab.kernel.accessAllowed ? 'block' : 'none';\n",
              "\n",
              "        async function convertToInteractive(key) {\n",
              "          const element = document.querySelector('#df-e783b099-25ca-4b58-8ba7-9a5ed7671c71');\n",
              "          const dataTable =\n",
              "            await google.colab.kernel.invokeFunction('convertToInteractive',\n",
              "                                                     [key], {});\n",
              "          if (!dataTable) return;\n",
              "\n",
              "          const docLinkHtml = 'Like what you see? Visit the ' +\n",
              "            '<a target=\"_blank\" href=https://colab.research.google.com/notebooks/data_table.ipynb>data table notebook</a>'\n",
              "            + ' to learn more about interactive tables.';\n",
              "          element.innerHTML = '';\n",
              "          dataTable['output_type'] = 'display_data';\n",
              "          await google.colab.output.renderOutput(dataTable, element);\n",
              "          const docLink = document.createElement('div');\n",
              "          docLink.innerHTML = docLinkHtml;\n",
              "          element.appendChild(docLink);\n",
              "        }\n",
              "      </script>\n",
              "    </div>\n",
              "  </div>\n",
              "  "
            ]
          },
          "metadata": {},
          "execution_count": 63
        }
      ]
    },
    {
      "cell_type": "code",
      "execution_count": 64,
      "metadata": {
        "id": "dtBzzaBz4van",
        "colab": {
          "base_uri": "https://localhost:8080/",
          "height": 415
        },
        "outputId": "7528e1c2-94ab-439b-d1fa-431d57674c3c"
      },
      "outputs": [
        {
          "output_type": "error",
          "ename": "ValueError",
          "evalue": "ignored",
          "traceback": [
            "\u001b[0;31m---------------------------------------------------------------------------\u001b[0m",
            "\u001b[0;31mValueError\u001b[0m                                Traceback (most recent call last)",
            "\u001b[0;32m<ipython-input-64-3eb1e412e57b>\u001b[0m in \u001b[0;36m<module>\u001b[0;34m\u001b[0m\n\u001b[1;32m      7\u001b[0m                 \u001b[0mlva\u001b[0m\u001b[0;34m[\u001b[0m\u001b[0;34m'report'\u001b[0m\u001b[0;34m]\u001b[0m\u001b[0;34m[\u001b[0m\u001b[0;34m'biophysical'\u001b[0m\u001b[0;34m]\u001b[0m\u001b[0;34m[\u001b[0m\u001b[0;34m'data'\u001b[0m\u001b[0;34m]\u001b[0m\u001b[0;34m[\u001b[0m\u001b[0mspkt\u001b[0m\u001b[0;34m-\u001b[0m\u001b[0;36m100\u001b[0m\u001b[0;34m:\u001b[0m\u001b[0mspkt\u001b[0m\u001b[0;34m+\u001b[0m\u001b[0;36m200\u001b[0m\u001b[0;34m,\u001b[0m\u001b[0mseg\u001b[0m\u001b[0;34m]\u001b[0m \u001b[0;34m+\u001b[0m\u001b[0;31m \u001b[0m\u001b[0;31m\\\u001b[0m\u001b[0;34m\u001b[0m\u001b[0;34m\u001b[0m\u001b[0m\n\u001b[1;32m      8\u001b[0m                 ih['report']['biophysical']['data'][spkt-100:spkt+200,seg])\n\u001b[0;32m----> 9\u001b[0;31m         \u001b[0mpeak_value\u001b[0m \u001b[0;34m=\u001b[0m \u001b[0mnp\u001b[0m\u001b[0;34m.\u001b[0m\u001b[0mmax\u001b[0m\u001b[0;34m(\u001b[0m\u001b[0mtrace\u001b[0m\u001b[0;34m)\u001b[0m\u001b[0;34m\u001b[0m\u001b[0;34m\u001b[0m\u001b[0m\n\u001b[0m\u001b[1;32m     10\u001b[0m         \u001b[0mhalf_peak\u001b[0m \u001b[0;34m=\u001b[0m \u001b[0mpeak_value\u001b[0m\u001b[0;34m/\u001b[0m\u001b[0;36m2\u001b[0m\u001b[0;34m\u001b[0m\u001b[0;34m\u001b[0m\u001b[0m\n\u001b[1;32m     11\u001b[0m         \u001b[0mduration\u001b[0m \u001b[0;34m=\u001b[0m \u001b[0mnp\u001b[0m\u001b[0;34m.\u001b[0m\u001b[0marange\u001b[0m\u001b[0;34m(\u001b[0m\u001b[0;36m0\u001b[0m\u001b[0;34m,\u001b[0m\u001b[0;36m300\u001b[0m\u001b[0;34m)\u001b[0m\u001b[0;34m[\u001b[0m\u001b[0mtrace\u001b[0m\u001b[0;34m>\u001b[0m\u001b[0mhalf_peak\u001b[0m\u001b[0;34m]\u001b[0m \u001b[0;34m+\u001b[0m \u001b[0mspkt\u001b[0m \u001b[0;34m-\u001b[0m \u001b[0;36m10\u001b[0m\u001b[0;34m\u001b[0m\u001b[0;34m\u001b[0m\u001b[0m\n",
            "\u001b[0;32m<__array_function__ internals>\u001b[0m in \u001b[0;36mamax\u001b[0;34m(*args, **kwargs)\u001b[0m\n",
            "\u001b[0;32m/usr/local/lib/python3.7/dist-packages/numpy/core/fromnumeric.py\u001b[0m in \u001b[0;36mamax\u001b[0;34m(a, axis, out, keepdims, initial, where)\u001b[0m\n\u001b[1;32m   2753\u001b[0m     \"\"\"\n\u001b[1;32m   2754\u001b[0m     return _wrapreduction(a, np.maximum, 'max', axis, None, out,\n\u001b[0;32m-> 2755\u001b[0;31m                           keepdims=keepdims, initial=initial, where=where)\n\u001b[0m\u001b[1;32m   2756\u001b[0m \u001b[0;34m\u001b[0m\u001b[0m\n\u001b[1;32m   2757\u001b[0m \u001b[0;34m\u001b[0m\u001b[0m\n",
            "\u001b[0;32m/usr/local/lib/python3.7/dist-packages/numpy/core/fromnumeric.py\u001b[0m in \u001b[0;36m_wrapreduction\u001b[0;34m(obj, ufunc, method, axis, dtype, out, **kwargs)\u001b[0m\n\u001b[1;32m     84\u001b[0m                 \u001b[0;32mreturn\u001b[0m \u001b[0mreduction\u001b[0m\u001b[0;34m(\u001b[0m\u001b[0maxis\u001b[0m\u001b[0;34m=\u001b[0m\u001b[0maxis\u001b[0m\u001b[0;34m,\u001b[0m \u001b[0mout\u001b[0m\u001b[0;34m=\u001b[0m\u001b[0mout\u001b[0m\u001b[0;34m,\u001b[0m \u001b[0;34m**\u001b[0m\u001b[0mpasskwargs\u001b[0m\u001b[0;34m)\u001b[0m\u001b[0;34m\u001b[0m\u001b[0;34m\u001b[0m\u001b[0m\n\u001b[1;32m     85\u001b[0m \u001b[0;34m\u001b[0m\u001b[0m\n\u001b[0;32m---> 86\u001b[0;31m     \u001b[0;32mreturn\u001b[0m \u001b[0mufunc\u001b[0m\u001b[0;34m.\u001b[0m\u001b[0mreduce\u001b[0m\u001b[0;34m(\u001b[0m\u001b[0mobj\u001b[0m\u001b[0;34m,\u001b[0m \u001b[0maxis\u001b[0m\u001b[0;34m,\u001b[0m \u001b[0mdtype\u001b[0m\u001b[0;34m,\u001b[0m \u001b[0mout\u001b[0m\u001b[0;34m,\u001b[0m \u001b[0;34m**\u001b[0m\u001b[0mpasskwargs\u001b[0m\u001b[0;34m)\u001b[0m\u001b[0;34m\u001b[0m\u001b[0;34m\u001b[0m\u001b[0m\n\u001b[0m\u001b[1;32m     87\u001b[0m \u001b[0;34m\u001b[0m\u001b[0m\n\u001b[1;32m     88\u001b[0m \u001b[0;34m\u001b[0m\u001b[0m\n",
            "\u001b[0;31mValueError\u001b[0m: zero-size array to reduction operation maximum which has no identity"
          ]
        }
      ],
      "source": [
        "for i in np.random.choice(ca_df[(ca_df.ca_lower_bound>20) & (ca_df.ca_lower_bound<1400000)].index,100):\n",
        "    seg = ca_df.loc[i,'segmentID']\n",
        "    if not pd.isnull(ca_df.loc[i,'ca_lower_bound']):\n",
        "        spkt = int(ca_df.loc[i,'ca_lower_bound'])\n",
        "        \n",
        "        trace = -(hva['report']['biophysical']['data'][spkt-100:spkt+200,seg] + \\\n",
        "                lva['report']['biophysical']['data'][spkt-100:spkt+200,seg] + \\\n",
        "                ih['report']['biophysical']['data'][spkt-100:spkt+200,seg])\n",
        "        peak_value = np.max(trace) # may recieve error here if trace is empty. in that case, check segmentID and seg\n",
        "        half_peak = peak_value/2\n",
        "        duration = np.arange(0,300)[trace>half_peak] + spkt - 10\n",
        "        ca_df.loc[i,'duration_low'] = duration[0]\n",
        "        ca_df.loc[i,'duration_high'] = duration[-1]\n",
        "        ca_df.loc[i,'peak_value'] = peak_value\n",
        "    else:\n",
        "        ca_df.loc[i,'duration_low'] = np.nan\n",
        "        ca_df.loc[i,'duration_high'] = np.nan\n",
        "        ca_df.loc[i,'peak_value'] = np.nan"
      ]
    },
    {
      "cell_type": "code",
      "execution_count": null,
      "metadata": {
        "id": "hvooGULD4vao"
      },
      "outputs": [],
      "source": [
        "ca_df[~pd.isnull(ca_df.duration_high)]"
      ]
    },
    {
      "cell_type": "code",
      "execution_count": null,
      "metadata": {
        "id": "I2LTfVlf4vao"
      },
      "outputs": [],
      "source": [
        "seg = 90\n",
        "lower_bound = 150\n",
        "#upper_bound = \n",
        "plt.plot(-(hva['report']['biophysical']['data'][lower_bound-100:lower_bound+600,seg]+\\\n",
        "         lva['report']['biophysical']['data'][lower_bound-100:lower_bound+600,seg]+\\\n",
        "         ih['report']['biophysical']['data'][lower_bound-100:lower_bound+600,seg]))\n",
        "plt.plot(1000,-(hva['report']['biophysical']['data'][lower_bound,seg]+\\\n",
        "         lva['report']['biophysical']['data'][lower_bound,seg]+\\\n",
        "         ih['report']['biophysical']['data'][lower_bound,seg]),'*')\n",
        "\n",
        "plt.plot(1000-lower_bound,-(hva['report']['biophysical']['data'][150,seg]+\\\n",
        "         lva['report']['biophysical']['data'][150,seg]+\\\n",
        "         ih['report']['biophysical']['data'][150,seg]),'*')\n",
        "\n",
        "plt.twinx()\n",
        "plt.plot(v['report']['biophysical']['data'][lower_bound-100:lower_bound+1000,seg],color='k')"
      ]
    },
    {
      "cell_type": "markdown",
      "metadata": {
        "id": "HBev4JNL4vao"
      },
      "source": [
        "----------"
      ]
    },
    {
      "cell_type": "code",
      "execution_count": null,
      "metadata": {
        "id": "R71f8PX94vao"
      },
      "outputs": [],
      "source": [
        "segs_ca_df = segs.set_index('segmentID').join(ca_df.set_index('segmentID')).reset_index() "
      ]
    },
    {
      "cell_type": "code",
      "execution_count": null,
      "metadata": {
        "id": "LyMAEk3i4vao"
      },
      "outputs": [],
      "source": [
        "def get_ca_sta(segs_ca_df, spktimes):\n",
        "\n",
        "    ca_apic = np.zeros((10,39,))\n",
        "    \n",
        "    edges_apic=np.quantile(segs_ca_df[(~pd.isnull(segs_ca_df.ca_lower_bound))&\n",
        "                                       (segs_ca_df.Type=='apic')]['Elec_distance'].unique(),np.arange(0,1.1,0.1))\n",
        "    \n",
        "    \n",
        "    \n",
        "    actual_spktimes = []\n",
        "    c = 0\n",
        "    for i in np.sort(spktimes):\n",
        "        # excludes bursts\n",
        "        if i-c > 10:\n",
        "            for e in np.arange(0,10):\n",
        "                ca_inds = segs_ca_df[(~pd.isnull(segs_ca_df.ca_lower_bound))&\n",
        "                                     (segs_ca_df.Type=='apic')&\n",
        "                                     (segs_ca_df.Elec_distance>edges_apic[e])&\n",
        "                                     (segs_ca_df.Elec_distance<=edges_apic[e+1])]['ca_lower_bound'].values.astype(int)\n",
        "    \n",
        "                x2, _ = np.histogram(ca_inds/10,bins=np.arange(np.floor(i)-20,np.floor(i)+20,1))\n",
        "                ca_apic[e] += x2\n",
        "                \n",
        "                \n",
        "            \n",
        "            actual_spktimes.append(i)\n",
        "        c = i\n",
        "    return ca_apic"
      ]
    },
    {
      "cell_type": "code",
      "execution_count": null,
      "metadata": {
        "id": "kQYQ-85F4vao"
      },
      "outputs": [],
      "source": [
        "ca_apic = get_ca_sta(segs_ca_df, spktimes)"
      ]
    },
    {
      "cell_type": "code",
      "execution_count": null,
      "metadata": {
        "id": "Yl3731-G4vao"
      },
      "outputs": [],
      "source": [
        "rand_spktimes = np.sort(np.random.choice(np.arange(0,150000), spktimes.shape[0]))\n",
        "ca_apic_rand = get_ca_sta(segs_ca_df, rand_spktimes)"
      ]
    },
    {
      "cell_type": "code",
      "execution_count": null,
      "metadata": {
        "id": "n5K1ytuF4vao"
      },
      "outputs": [],
      "source": [
        "plt.figure(figsize=(10,10))\n",
        "plt.subplot(2,1,1)\n",
        "plt.title('Ca spikes - apical')\n",
        "plt.imshow((ca_apic-ca_apic_rand)/len(spktimes),cmap='jet')\n",
        "plt.xticks(ticks=np.arange(0,40,2)-0.5,labels=['{}'.format(i) for i in np.arange(-20,20,2)])\n",
        "plt.colorbar(label='events per AP')\n",
        "plt.yticks(ticks=[0,9],labels=['further','closer'])\n",
        "\n",
        "plt.show()"
      ]
    },
    {
      "cell_type": "markdown",
      "metadata": {
        "id": "Gng6B9sn4vao"
      },
      "source": [
        "----------------------"
      ]
    },
    {
      "cell_type": "code",
      "execution_count": null,
      "metadata": {
        "id": "BMeGyYxP4vao"
      },
      "outputs": [],
      "source": [
        "#apic_exc = segs_conns[(segs_conns['Source Population']=='exc_stim')&(segs_conns.Type=='apic')].groupby('segmentID')['Conductance'].sum().reset_index()\n",
        "\n",
        "#basal_exc = segs_conns[(segs_conns['Source Population']=='exc_stim')&(segs_conns.Type=='dend')].groupby('segmentID')['Conductance'].sum().reset_index()\n"
      ]
    },
    {
      "cell_type": "code",
      "execution_count": null,
      "metadata": {
        "id": "MfzXuS744vao"
      },
      "outputs": [],
      "source": [
        "nmda_df = pd.DataFrame(columns=['segmentID','nmda_lower_bound', 'nmda_upper_bound', 'mag'])\n",
        "for p in segs[(segs.Type=='dend')|(segs.Type=='apic')].index: #(segs.Type=='dend')|(segs.Type=='apic')\n",
        "    #print(p)\n",
        "    legit_uc = voltage_criterion(data=v['report']['biophysical']['data'][:,p],v_thresh=-40, time_thresh=260)[1]\n",
        "    legit_dc = voltage_criterion(data=v['report']['biophysical']['data'][:,p],v_thresh=-40, time_thresh=260)[-1]\n",
        "    \n",
        "    legit_uc_iso = legit_uc\n",
        "    \n",
        "    legit_dc_iso = legit_dc\n",
        "\n",
        "    #print(legit_uc)\n",
        "    #print(legit_dc)\n",
        "    \n",
        "    if (len(legit_uc_iso)!=0) & (np.min(nmda['report']['biophysical']['data'][:,p])!=0):\n",
        "        bnds, sum_curr = current_criterion(legit_uc_iso=legit_uc_iso, \n",
        "                                           legit_dc_iso=legit_dc_iso, \n",
        "                                           p=p, \n",
        "                                           control_inmda=nmda['report']['biophysical']['data'])\n",
        "\n",
        "\n",
        "        nmda_df = nmda_df.append(pd.DataFrame({'segmentID':np.tile(p,len(bnds)),\n",
        "                                               'nmda_lower_bound':np.array(bnds).reshape(-1,2)[:,0],\n",
        "                                               'nmda_upper_bound':np.array(bnds).reshape(-1,2)[:,1],\n",
        "                                               'mag':sum_curr}))\n",
        "        #print(nmda_df.mag)\n",
        "    \n",
        "    else:\n",
        "        #print('else')\n",
        "        nmda_df = nmda_df.append(pd.DataFrame({'segmentID':np.tile(p,1),\n",
        "                                               'nmda_lower_bound':np.nan,\n",
        "                                               'nmda_upper_bound':np.nan,\n",
        "                                               'mag':np.nan}))\n",
        "\n",
        "\n",
        "#display(nmda_df.mag.to_string())\n",
        "\n",
        "\n",
        "#min(nmda_df.mag)"
      ]
    },
    {
      "cell_type": "code",
      "execution_count": null,
      "metadata": {
        "id": "aJjsh-nm4vao"
      },
      "outputs": [],
      "source": [
        "#nmda_df.to_csv('nmda_df.csv')\n",
        "#nmda_df = pd.read_csv('nmda_df.csv')\n"
      ]
    },
    {
      "cell_type": "code",
      "source": [
        "#mda_df.mag <= -0.000000001"
      ],
      "metadata": {
        "id": "uIBW0Pcvm_9_"
      },
      "execution_count": null,
      "outputs": []
    },
    {
      "cell_type": "code",
      "source": [
        "#segs_nmda_df[:]"
      ],
      "metadata": {
        "id": "K6VLU3bijMpa"
      },
      "execution_count": null,
      "outputs": []
    },
    {
      "cell_type": "code",
      "execution_count": null,
      "metadata": {
        "id": "OmMMqHsd4vao"
      },
      "outputs": [],
      "source": [
        "#nmda_df.rename(columns={'seg_id':'segmentID'},inplace=True)"
      ]
    },
    {
      "cell_type": "code",
      "execution_count": null,
      "metadata": {
        "id": "uV6HLncB4vao"
      },
      "outputs": [],
      "source": [
        "segs_nmda_df = segs.join(nmda_df.set_index('segmentID')).reset_index()"
      ]
    },
    {
      "cell_type": "code",
      "source": [
        "segs_nmda_df[(segs_nmda_df.mag<-0.0001)&\n",
        "                                  (segs_nmda_df.Type=='dend')]"
      ],
      "metadata": {
        "id": "BelzXR-DaPcv"
      },
      "execution_count": null,
      "outputs": []
    },
    {
      "cell_type": "code",
      "source": [
        "#min(segs_nmda_df.mag)"
      ],
      "metadata": {
        "id": "KqVpKnXVhEvv"
      },
      "execution_count": null,
      "outputs": []
    },
    {
      "cell_type": "code",
      "source": [
        "#segs_nmda_df[(segs_nmda_df.mag<-0.0001)]"
      ],
      "metadata": {
        "id": "daMclJ5hn1Sd"
      },
      "execution_count": null,
      "outputs": []
    },
    {
      "cell_type": "code",
      "execution_count": null,
      "metadata": {
        "id": "UERHIibr4vao"
      },
      "outputs": [],
      "source": [
        "def get_nmda_sta(segs_nmda_df, spktimes):    \n",
        "    nmda_dend = np.zeros((10,27,))\n",
        "    nmda_apic = np.zeros((10,27,))\n",
        "    \n",
        "    edges_dend=np.quantile(segs_nmda_df[(segs_nmda_df.mag<-0.0001)&\n",
        "                                  (segs_nmda_df.Type=='dend')]['Elec_distance'].unique(),np.arange(0,1.1,0.1))\n",
        "    edges_apic=np.quantile(segs_nmda_df[(segs_nmda_df.mag<-0.00001)&\n",
        "                                   (segs_nmda_df.Type=='apic')]['Elec_distance'].unique(),np.arange(0,1.1,0.1))\n",
        "    \n",
        "    actual_spktimes = []\n",
        "    c = 0\n",
        "    for i in np.sort(spktimes):\n",
        "        # excludes bursts\n",
        "        if i-c > 10:\n",
        "            for e in np.arange(0,10):\n",
        "                nmda_inds = segs_nmda_df[(segs_nmda_df.mag<-0.0001)&\n",
        "                                     (segs_nmda_df.Type=='dend')&\n",
        "                                     (segs_nmda_df.Elec_distance>edges_dend[e])&\n",
        "                                     (segs_nmda_df.Elec_distance<=edges_dend[e+1])]['nmda_lower_bound'].values.astype(int)\n",
        "    \n",
        "                x2, _ = np.histogram(nmda_inds/10,bins=np.arange(np.floor(i)-100,np.floor(i)+40,5))\n",
        "                nmda_dend[e] += x2\n",
        "                \n",
        "                nmda_inds = segs_nmda_df[(segs_nmda_df.mag<-0.0001)&\n",
        "                                     (segs_nmda_df.Type=='apic')&\n",
        "                                     (segs_nmda_df.Elec_distance>edges_apic[e])&\n",
        "                                     (segs_nmda_df.Elec_distance<=edges_apic[e+1])]['nmda_lower_bound'].values.astype(int)\n",
        "    \n",
        "                x2, _ = np.histogram(nmda_inds/10,bins=np.arange(np.floor(i)-100,np.floor(i)+40,5))\n",
        "                nmda_apic[e] += x2\n",
        "            \n",
        "            actual_spktimes.append(i)\n",
        "        c = i\n",
        "        \n",
        "    return nmda_dend, nmda_apic"
      ]
    },
    {
      "cell_type": "code",
      "execution_count": null,
      "metadata": {
        "id": "tW8SvGK54vap"
      },
      "outputs": [],
      "source": [
        "nmda_dend, nmda_apic = get_nmda_sta(segs_nmda_df, spktimes)"
      ]
    },
    {
      "cell_type": "code",
      "execution_count": null,
      "metadata": {
        "id": "rwHm5TI-4vap"
      },
      "outputs": [],
      "source": [
        "rand_spktimes = np.sort(np.random.choice(np.arange(0,150000), spktimes.shape[0]))"
      ]
    },
    {
      "cell_type": "code",
      "execution_count": null,
      "metadata": {
        "id": "fWaFLebh4vap"
      },
      "outputs": [],
      "source": [
        "nmda_dend_rand, nmda_apic_rand = get_nmda_sta(segs_nmda_df, rand_spktimes)"
      ]
    },
    {
      "cell_type": "code",
      "execution_count": null,
      "metadata": {
        "id": "Xn3bcESa4vap"
      },
      "outputs": [],
      "source": [
        "plt.figure(figsize=(10,10))\n",
        "plt.subplot(2,1,1)\n",
        "plt.title('NMDA spikes - apical')\n",
        "plt.imshow((nmda_apic-nmda_apic_rand)/len(spktimes),cmap='jet',vmin=-0.2)\n",
        "# plt.imshow((nmda_apic-nmda_apic_rand)/len(spktimes),cmap='jet',vmin=-0.2,vmax=0.2)\n",
        "plt.xticks(ticks=np.arange(0,26,4)-0.5,labels=['{}'.format(i) for i in np.arange(-100,40,20)])\n",
        "plt.yticks(ticks=[0,9],labels=['further','closer'])\n",
        "plt.colorbar(label='additional events per AP')\n",
        "plt.xlabel('time (ms)')\n",
        "plt.xlim(5,26)\n",
        "\n",
        "plt.subplot(2,1,2)\n",
        "plt.title('NMDA spikes - basal')\n",
        "plt.imshow((nmda_dend-nmda_dend_rand)/len(spktimes),cmap='jet', vmin=-0.2)\n",
        "# plt.imshow((nmda_dend-nmda_dend_rand)/len(spktimes),cmap='jet', vmin=-0.2, vmax=0.2)\n",
        "plt.xticks(ticks=np.arange(0,26,4)-0.5,labels=['{}'.format(i) for i in np.arange(-100,40,20)])\n",
        "plt.yticks(ticks=[0,9],labels=['further','closer'])\n",
        "plt.colorbar(label='additional events per AP')\n",
        "plt.xlim(5,26)\n",
        "\n",
        "plt.xlabel('time (ms)')\n",
        "plt.show()"
      ]
    },
    {
      "cell_type": "code",
      "source": [
        "sum(segs_nmda_df['segmentID'][segs_nmda_df.Type=='dend'])"
      ],
      "metadata": {
        "id": "tRJwv3z0ZJuF"
      },
      "execution_count": null,
      "outputs": []
    },
    {
      "cell_type": "code",
      "source": [
        "total_basal_nmda = sum(segs_nmda_df['segmentID'][segs_nmda_df.Type=='dend'][~pd.isnull(segs_nmda_df.mag)])\n",
        "num_basal_seg = len(segs[segs.Type=='dend'])\n",
        "\n",
        "total_apic_nmda = sum(segs_nmda_df['segmentID'][segs_nmda_df.Type=='apic'][~pd.isnull(segs_nmda_df.mag)])\n",
        "num_apic_seg = len(segs[segs.Type=='apic'])\n",
        "\n",
        "apic_nmda_perSeg_perSec = total_apic_nmda / num_apic_seg\n",
        "basal_ndma_perSeg_perSec = total_basal_nmda / num_basal_seg\n",
        "\n",
        "data = {'basal':basal_ndma_perSeg_perSec, 'apic':apic_nmda_perSeg_perSec}\n",
        "group = list(data.keys())\n",
        "value = list(data.values())\n",
        "\n",
        "fig = plt.figure(figsize = (10, 5))\n",
        "plt.title('NMDA spikes per segment per second')\n",
        "\n",
        "\n",
        "# creating the bar plot\n",
        "plt.barh(group, value, color ='lightseagreen')"
      ],
      "metadata": {
        "id": "p8xAAj5CXXXj"
      },
      "execution_count": null,
      "outputs": []
    },
    {
      "cell_type": "code",
      "source": [
        "total_basal_na = sum(segs_na_df['segmentID'][segs_na_df.Type=='dend'][~pd.isnull(segs_na_df.duration_high)])\n",
        "num_basal_seg = len(segs[segs.Type=='dend'])\n",
        "\n",
        "total_apic_na = sum(segs_na_df['segmentID'][segs_na_df.Type=='apic'][~pd.isnull(segs_na_df.duration_high)])\n",
        "num_apic_seg = len(segs[segs.Type=='apic'])\n",
        "\n",
        "apic_na_perSeg_perSec = total_apic_na / num_apic_seg\n",
        "basal_na_perSeg_perSec = total_basal_na / num_basal_seg\n",
        "\n",
        "data = {'basal':basal_na_perSeg_perSec, 'apic':apic_na_perSeg_perSec}\n",
        "group = list(data.keys())\n",
        "value = list(data.values())\n",
        "\n",
        "fig = plt.figure(figsize = (10, 5))\n",
        "plt.title('Na spikes per segment per second')\n",
        "\n",
        "\n",
        "# creating the bar plot\n",
        "plt.barh(group, value, color ='powderblue')"
      ],
      "metadata": {
        "id": "k9-SY0ioXYnh"
      },
      "execution_count": null,
      "outputs": []
    },
    {
      "cell_type": "code",
      "source": [
        "total_basal_ca = sum(segs_ca_df['index'][segs_ca_df.Type=='dend'][~pd.isnull(segs_ca_df.duration_high)])\n",
        "num_basal_seg = len(segs[segs.Type=='dend'])\n",
        "\n",
        "print(total_basal_ca)\n",
        "\n",
        "total_apic_ca = sum(segs_ca_df['index'][segs_ca_df.Type=='apic'][~pd.isnull(segs_ca_df.duration_high)])\n",
        "num_apic_seg = len(segs[segs.Type=='apic'])\n",
        "\n",
        "apic_ca_perSeg_perSec = total_apic_ca / num_apic_seg\n",
        "basal_ca_perSeg_perSec = total_basal_ca / num_basal_seg\n",
        "\n",
        "\n",
        "data = {'basal':basal_ca_perSeg_perSec, 'apic':apic_ca_perSeg_perSec}\n",
        "group = list(data.keys())\n",
        "value = list(data.values())\n",
        "\n",
        "fig = plt.figure(figsize = (10, 5))\n",
        "\n",
        "plt.title('Calcium spikes per segment per second')\n",
        "\n",
        " \n",
        "# creating the bar plot\n",
        "plt.barh(group, value, color ='tomato')"
      ],
      "metadata": {
        "id": "lGeNOKN4aPrg"
      },
      "execution_count": null,
      "outputs": []
    },
    {
      "cell_type": "code",
      "execution_count": null,
      "metadata": {
        "id": "Y6ecjQg64vap"
      },
      "outputs": [],
      "source": [
        "for i in np.arange(0,10):\n",
        "    plt.plot(np.arange(-40,95,5),nmda_dend[i]/np.sum(nmda_dend[i]))\n"
      ]
    },
    {
      "cell_type": "code",
      "execution_count": null,
      "metadata": {
        "id": "nvS-77j54vap"
      },
      "outputs": [],
      "source": [
        "# segs_conns[(segs_conns['Sec ID']==80) & (segs_conns.Type=='dend')]['Source Population'].value_counts()"
      ]
    },
    {
      "cell_type": "markdown",
      "source": [],
      "metadata": {
        "id": "ZDksdcux4geV"
      }
    },
    {
      "cell_type": "code",
      "execution_count": null,
      "metadata": {
        "id": "Wx2PiJh94vap"
      },
      "outputs": [],
      "source": [
        "plt.figure(figsize=(10,10))\n",
        "ind = 55\n",
        "plt.plot(segs['Coord X'], segs['Coord Y'], 'b.')\n",
        "plt.plot(segs.loc[0,'Coord X'], segs.loc[0,'Coord Y'], 'k.',markersize=20)\n",
        "\n",
        "plt.plot(segs.loc[ind,'Coord X'], segs.loc[ind,'Coord Y'], 'r*',markersize=20)\n",
        "\n",
        "# for i in segs_conns[(segs_conns.Type=='dend')&(segs_conns['Sec ID']==2)]['Sec ID'].unique():\n",
        "#     plt.plot(segs[(segs['Sec ID']==i)&(segs['Type']=='dend')]['Coord X'],\n",
        "#              segs[(segs['Sec ID']==i)&(segs['Type']=='dend')]['Coord Y'],color='r')\n",
        "    \n",
        "#for i in segs_conns[(segs_conns.Type=='dend')&(segs_conns['Sec ID']==7)]['Sec ID'].unique():\n",
        "#    plt.plot(segs[(segs['Sec ID']==i)&(segs['Type']=='dend')]['Coord X'],\n",
        "#             segs[(segs['Sec ID']==i)&(segs['Type']=='dend')]['Coord Y'],color='c')\n",
        "    \n",
        "#plt.plot(segs[segs.segmentID==119]['Coord X'], segs[segs.segmentID==119]['Coord Y'],'r*',markersize=14)\n",
        "#plt.plot(segs[segs.segmentID==110]['Coord X'], segs[segs.segmentID==110]['Coord Y'],'r*',markersize=14)\n",
        "#plt.plot(segs[segs.segmentID==103]['Coord X'], segs[segs.segmentID==103]['Coord Y'],'r*',markersize=14)\n",
        "\n",
        "#plt.plot(segs[segs.segmentID==134]['Coord X'], segs[segs.segmentID==134]['Coord Y'],'c*',markersize=14)\n",
        "plt.ylim(-25,50)\n",
        "plt.xlim(-150,150)"
      ]
    },
    {
      "cell_type": "code",
      "execution_count": null,
      "metadata": {
        "id": "iskhzr3R4vap"
      },
      "outputs": [],
      "source": [
        "# plt.figure(figsize=(10,10))\n",
        "# plt.plot(f['report']['biophysical']['data'][:,119],color='b')\n",
        "# plt.plot(f['report']['biophysical']['data'][:,110],color='b',alpha=0.5)\n",
        "# plt.plot(f['report']['biophysical']['data'][:,104],color='b',alpha=0.1)\n",
        "\n",
        "# plt.plot(f['report']['biophysical']['data'][:,134],color='c',alpha=1)\n",
        "# plt.plot(f['report']['biophysical']['data'][:,0],'k')\n",
        "# plt.twinx()\n",
        "# plt.plot(h['report']['biophysical']['data'][:,119],color='r')\n",
        "# plt.plot(h['report']['biophysical']['data'][:,110],color='r',alpha=0.5)\n",
        "# plt.plot(h['report']['biophysical']['data'][:,103],color='r',alpha=0.1)\n",
        "\n",
        "# plt.xlim(526519-100,526519+1000)"
      ]
    },
    {
      "cell_type": "code",
      "execution_count": null,
      "metadata": {
        "id": "oqRg0dNv4vap"
      },
      "outputs": [],
      "source": []
    },
    {
      "cell_type": "code",
      "execution_count": null,
      "metadata": {
        "id": "xsQ5PRlP4vap"
      },
      "outputs": [],
      "source": [
        "nmda2 = np.zeros((79,))\n",
        "\n",
        "for i in spktimes:\n",
        "    nmda_inds2 = np.sort(segs_nmda_df[(segs_nmda_df.Degrees<=3)&\n",
        "             (~pd.isnull(segs_nmda_df.nmda_lower_bound))&\n",
        "             (segs_nmda_df.mag<-0.1)&\n",
        "                (segs_nmda_df.Type=='dend')]['nmda_lower_bound'].values.astype(int))\n",
        "\n",
        "    x2, _ = np.histogram(nmda_inds2/10,bins=np.arange(i-40,i+40,1))\n",
        "    nmda2 += x2\n",
        "    \n",
        "    #na_inds3 = segs_na_df[(segs_na_df.Degrees==3)&(~pd.isnull(segs_na_df.na_lower_bound))]['na_lower_bound'].values.astype(int)\n",
        "    #x3, _ = np.histogram(na_inds3/10,bins=np.arange(i-20,i+20,1))\n",
        "    #na3 += x3\n",
        "    \n",
        "    #na_inds4 = segs_na_df[(segs_na_df.Degrees==4)&(~pd.isnull(segs_na_df.na_lower_bound))]['na_lower_bound'].values.astype(int)\n",
        "    #x4, _ = np.histogram(na_inds4/10,bins=np.arange(i-20,i+20,1))\n",
        "    #na4 += x4\n",
        "    \n",
        "    #na_inds5 = segs_na_df[(segs_na_df.Degrees==5)&(~pd.isnull(segs_na_df.na_lower_bound))]['na_lower_bound'].values.astype(int)\n",
        "    #x5, _ = np.histogram(na_inds5/10,bins=np.arange(i-20,i+20,1))\n",
        "    #na5 += x5\n",
        "    "
      ]
    },
    {
      "cell_type": "code",
      "execution_count": null,
      "metadata": {
        "id": "vUUqHx824vap"
      },
      "outputs": [],
      "source": [
        "plt.plot(nmda2)"
      ]
    },
    {
      "cell_type": "code",
      "execution_count": null,
      "metadata": {
        "id": "_3P97ixw4vap"
      },
      "outputs": [],
      "source": []
    },
    {
      "cell_type": "code",
      "execution_count": null,
      "metadata": {
        "id": "LtCXJTG94vap"
      },
      "outputs": [],
      "source": []
    },
    {
      "cell_type": "code",
      "execution_count": null,
      "metadata": {
        "id": "2H2GkHjg4vap"
      },
      "outputs": [],
      "source": []
    },
    {
      "cell_type": "code",
      "execution_count": null,
      "metadata": {
        "id": "plFcK6PZ4vap"
      },
      "outputs": [],
      "source": [
        "# import matplotlib\n",
        "# font = {'family' : 'normal',\n",
        "#         'weight' : 'normal',\n",
        "#         'size'   : 16}\n",
        "\n",
        "# matplotlib.rc('font', **font)\n",
        "\n",
        "# ind = 1139\n",
        "# plt.figure(figsize=(12,10))\n",
        "# plt.plot(np.arange(0,60000,.1),f['report']['biophysical']['data'][:,ind],color='b',label='dend voltage')\n",
        "# plt.plot(np.arange(0,60000,.1),f['report']['biophysical']['data'][:,0],color='k',alpha=0.3,label='soma voltage')\n",
        "# plt.legend(loc='lower left')\n",
        "# plt.hlines(-40,0,60000,linestyle='dashed')\n",
        "# plt.ylabel('voltage (mV)')\n",
        "# plt.ylim(-85,25)\n",
        "# plt.xlabel('time (ms)')\n",
        "# plt.twinx()\n",
        "# plt.plot(np.arange(0,60000,.1),h['report']['biophysical']['data'][:,ind],color='r',label='inmda dend')\n",
        "# plt.legend(loc='upper right')\n",
        "# plt.plot(np.arange(0,60000,.1)[nmda_df[nmda_df.seg_id==ind]['nmda_lower_bound'].values.astype(int)],\n",
        "#          h['report']['biophysical']['data'][nmda_df[nmda_df.seg_id==ind]['nmda_lower_bound'].values.astype(int),ind],'m*',markersize=20)\n",
        "# plt.plot(np.arange(0,60000,.1)[nmda_df[nmda_df.seg_id==ind]['nmda_upper_bound'].values.astype(int)],\n",
        "#          h['report']['biophysical']['data'][nmda_df[nmda_df.seg_id==ind]['nmda_upper_bound'].values.astype(int),ind],'k*',markersize=20)\n",
        "# plt.ylim(-0.009,0.001)\n",
        "# plt.xlim(37000,39000)\n",
        "# plt.ylabel('current (nA)')\n"
      ]
    },
    {
      "cell_type": "code",
      "execution_count": null,
      "metadata": {
        "id": "QYx2H4314vap"
      },
      "outputs": [],
      "source": [
        "# import matplotlib\n",
        "# font = {'family' : 'normal',\n",
        "#         'weight' : 'normal',\n",
        "#         'size'   : 16}\n",
        "\n",
        "# matplotlib.rc('font', **font)\n",
        "\n",
        "# plt.figure(figsize=(12,10))\n",
        "# plt.plot(np.arange(0,60000,.1),f['report']['biophysical']['data'][:,175],color='b',label='dend voltage')\n",
        "# plt.plot(np.arange(0,60000,.1),f['report']['biophysical']['data'][:,0],color='k',alpha=0.3,label='soma voltage')\n",
        "# plt.legend(loc='lower left')\n",
        "# plt.hlines(-40,0,60000,linestyle='dashed')\n",
        "# plt.ylabel('voltage (mV)')\n",
        "# plt.ylim(-85,25)\n",
        "# plt.xlabel('time (ms)')\n",
        "# plt.twinx()\n",
        "# plt.plot(np.arange(0,60000,.1),h['report']['biophysical']['data'][:,175],color='r',label='inmda dend')\n",
        "# plt.legend(loc='upper right')\n",
        "# plt.plot(np.arange(0,60000,.1)[nmda_df[nmda_df.seg_id==175]['nmda_lower_bound'].values.astype(int)],\n",
        "#          h['report']['biophysical']['data'][nmda_df[nmda_df.seg_id==175]['nmda_lower_bound'].values.astype(int),175],'m*',markersize=20)\n",
        "# plt.plot(np.arange(0,60000,.1)[nmda_df[nmda_df.seg_id==175]['nmda_upper_bound'].values.astype(int)],\n",
        "#          h['report']['biophysical']['data'][nmda_df[nmda_df.seg_id==175]['nmda_upper_bound'].values.astype(int),175],'k*',markersize=20)\n",
        "# plt.xlim(32000,32400)\n",
        "# plt.ylim(-0.009,0.001)\n",
        "# plt.ylabel('current (nA)')\n"
      ]
    },
    {
      "cell_type": "code",
      "execution_count": null,
      "metadata": {
        "id": "zvXGNGGT4vaq"
      },
      "outputs": [],
      "source": [
        "nmda_spktimes = nmda_df[nmda_df.mag<-0.1]['nmda_lower_bound']/10\n",
        "n = np.zeros((12,))\n",
        "for i in spktimes:\n",
        "    x,y = np.histogram(nmda_spktimes[(nmda_spktimes>i-30) & (nmda_spktimes<i+30)]-i,bins=np.arange(-30,31,5))\n",
        "    n+=x"
      ]
    },
    {
      "cell_type": "code",
      "execution_count": null,
      "metadata": {
        "id": "gikT0cOM4vaq"
      },
      "outputs": [],
      "source": [
        "np.arange(-30,31,5).shape"
      ]
    },
    {
      "cell_type": "code",
      "execution_count": null,
      "metadata": {
        "id": "61dFsyAl4vaq"
      },
      "outputs": [],
      "source": [
        "plt.plot(np.arange(-30,30,5),n)"
      ]
    },
    {
      "cell_type": "code",
      "execution_count": null,
      "metadata": {
        "id": "hihbEY_D4vaq"
      },
      "outputs": [],
      "source": [
        "na_spktimes = na_df[~pd.isnull(na_df.na_lower_bound)]['na_lower_bound']/10\n",
        "na = np.zeros((20,))\n",
        "for i in spktimes:\n",
        "    x,y = np.histogram(na_spktimes[(na_spktimes>i-10) & (na_spktimes<i+10)]-i,bins=np.arange(-10,11,1))\n",
        "    na+=x"
      ]
    },
    {
      "cell_type": "code",
      "execution_count": null,
      "metadata": {
        "id": "O6lnaEw54vaq"
      },
      "outputs": [],
      "source": [
        "# plt.plot(na_df[~pd.isnull(na_df.na_lower_bound)]['na_lower_bound']/10,\n",
        "#          na_df[~pd.isnull(na_df.na_lower_bound)]['seg_id'],'*')"
      ]
    },
    {
      "cell_type": "code",
      "execution_count": null,
      "metadata": {
        "id": "mCYyq4QZ4vaq"
      },
      "outputs": [],
      "source": []
    },
    {
      "cell_type": "code",
      "execution_count": null,
      "metadata": {
        "id": "wosrKFbn4vaq"
      },
      "outputs": [],
      "source": []
    },
    {
      "cell_type": "code",
      "execution_count": null,
      "metadata": {
        "id": "AX2hpqhx4vaq"
      },
      "outputs": [],
      "source": [
        "plt.plot(nmda_spktimes,np.random.randint(low=0,high=100,size=len(nmda_spktimes)),'.')\n",
        "plt.plot(spktimes,np.tile(40,len(spktimes)),'r*')"
      ]
    },
    {
      "cell_type": "code",
      "execution_count": null,
      "metadata": {
        "id": "BInnvuzU4vaq"
      },
      "outputs": [],
      "source": [
        "x1,_=np.histogram(spktimes,bins=np.arange(0,10000,100))\n",
        "x2,_=np.histogram(nmda_spktimes,bins=np.arange(0,10000,100))"
      ]
    },
    {
      "cell_type": "code",
      "execution_count": null,
      "metadata": {
        "id": "cLJIEXrs4vaq"
      },
      "outputs": [],
      "source": [
        "# plt.figure(figsize=(10,8))\n",
        "# plt.plot(np.arange(0,10000,.1),control_v[:,176],color='b')\n",
        "# plt.plot(np.arange(0,10000,.1)[nmda_df.loc[nmda_df.seg_id==175,'nmda_lower_bound'].values.astype(int)],control_v[nmda_df.loc[nmda_df.seg_id==175,'nmda_lower_bound'].values.astype(int),176],'m*')\n",
        "# plt.plot(np.arange(0,10000,.1),control_v[:,0],color='k')\n",
        "# plt.xlim(6000,7000)"
      ]
    },
    {
      "cell_type": "code",
      "execution_count": null,
      "metadata": {
        "id": "sSAq2Kj64vaq"
      },
      "outputs": [],
      "source": []
    },
    {
      "cell_type": "code",
      "execution_count": null,
      "metadata": {
        "id": "RQXnGrXg4vaq"
      },
      "outputs": [],
      "source": []
    },
    {
      "cell_type": "code",
      "execution_count": null,
      "metadata": {
        "id": "EZB7_ygG4vaq"
      },
      "outputs": [],
      "source": []
    },
    {
      "cell_type": "code",
      "execution_count": null,
      "metadata": {
        "id": "yJUmMwPj4vaq"
      },
      "outputs": [],
      "source": []
    },
    {
      "cell_type": "code",
      "execution_count": null,
      "metadata": {
        "id": "PCmw_39l4vaq"
      },
      "outputs": [],
      "source": [
        "# # ind1 = 3 sent to Drew\n",
        "# ind1 = 2\n",
        "# e1 = control_inmda[legit_uc_iso[ind1], p]\n",
        "# e2 = control_inmda[legit_dc_iso[ind1], p]\n",
        "# x30 = np.argwhere(np.diff(control_inmda[legit_uc_iso[ind1]:legit_dc_iso[ind1], p] < 1.3*e1, prepend=False))\n",
        "# x15 = np.argwhere(np.diff(control_inmda[legit_uc_iso[ind1]:legit_dc_iso[ind1], p] < 1.15*e1, prepend=False))"
      ]
    },
    {
      "cell_type": "code",
      "execution_count": null,
      "metadata": {
        "id": "GMx0qX0y4vaq"
      },
      "outputs": [],
      "source": [
        "# import matplotlib\n",
        "# font = {'family' : 'normal',\n",
        "#         'weight' : 'normal',\n",
        "#         'size'   : 16}\n",
        "\n",
        "# matplotlib.rc('font', **font)\n",
        "\n",
        "# plt.figure(figsize=(12,10))\n",
        "# plt.plot(np.arange(0,(legit_dc_iso[ind1]-legit_uc_iso[ind1])/10, 0.1),\n",
        "#          control_inmda[legit_uc_iso[ind1]:legit_dc_iso[ind1], p],color='r',label='inmda @ dend.')\n",
        "# plt.hlines(1.3*e1,0,np.max(np.arange(0,(legit_dc_iso[ind1]-legit_uc_iso[ind1])/10, 0.1)),color='r',alpha=0.2)\n",
        "# plt.hlines(1.15*e1,0,np.max(np.arange(0,(legit_dc_iso[ind1]-legit_uc_iso[ind1])/10, 0.1)),color='r',alpha=0.2)\n",
        "# plt.ylabel('current (nA)')\n",
        "# plt.ylim(-0.010,0)\n",
        "# plt.legend(loc='upper center')\n",
        "# plt.xlabel('time (ms)')\n",
        "# plt.twinx()\n",
        "# plt.plot(np.arange(0,(legit_dc_iso[ind1]-legit_uc_iso[ind1])/10, 0.1),\n",
        "#          control_v[legit_uc_iso[ind1]:legit_dc_iso[ind1],p],color='b',label='dend. volt.')\n",
        "# plt.plot(np.arange(0,(legit_dc_iso[ind1]-legit_uc_iso[ind1])/10, 0.1),\n",
        "#          control_v[legit_uc_iso[ind1]:legit_dc_iso[ind1],0], color='k',label='soma volt.')\n",
        "\n",
        "\n",
        "# for i in np.arange(0,len(bounds)):\n",
        "#     plt.fill_between(np.array([bounds[i][0]/10,bounds[i][1]/10]).reshape(2,),-70,20,color='k',alpha=0.2)\n",
        "#     plt.text(bounds[i][0]/10,-20-(i*10),'{x:.2f}'.format(x=sum_current[i]))\n",
        "##plt.fill_between(np.array([bounds[1][0]/10,bounds[1][1]/10]).reshape(2,),-70,20,color='k',alpha=0.2)\n",
        "##plt.fill_between(np.array([bounds[2][0]/10,bounds[2][1]/10]).reshape(2,),-70,20,color='k',alpha=0.2)\n",
        "#plt.hlines(-40,0,np.max(np.arange(0,(legit_uc_iso[ind1+1]-legit_uc_iso[ind1])/10, 0.1)),linestyle='dashed')\n",
        "##plt.text(1.5,14,'NMDA\\nspike')\n",
        "#plt.ylabel('voltage (mV)')\n",
        "#plt.legend()"
      ]
    },
    {
      "cell_type": "code",
      "execution_count": null,
      "metadata": {
        "id": "Jy1JT1Nq4vaq"
      },
      "outputs": [],
      "source": [
        "# plt.figure(figsize=(12,10))\n",
        "# plt.plot(np.arange(0,10000,.1),control_v[:,p],label='control dend. v')\n",
        "# plt.plot(np.arange(0,10000,.1),NMDAblock_v[:,p],label='NMDA block dend. v')\n",
        "# plt.plot(np.arange(0,10000,.1),control_v[:,0],color='k',label='control soma v')\n",
        "\n",
        "# uc = voltage_criterion(control_v[:,p],-40)[0]\n",
        "\n",
        "\n",
        "# plt.plot(np.arange(0,10000,.1)[uc],control_v[uc,p],'*')\n",
        "# plt.plot(np.arange(0,10000,.1)[legit_uc],control_v[legit_uc,p],'m*')\n",
        "\n",
        "\n",
        "# center = np.floor(legit_uc[np.random.choice(np.arange(0,legit_uc.shape[0]))]/10)\n",
        "\n",
        "# plt.plot([center,center+26],[-80,-80],color='k')\n",
        "# plt.legend(loc='lower left')\n",
        "\n",
        "# plt.twinx()\n",
        "# plt.plot(np.arange(0,10000,.1),control_inmda[:,p],color='r',label='NMDA current')\n",
        "# plt.plot(np.arange(0,10000,.1)[legit_uc],control_inmda[legit_uc, p],'*')\n",
        "# #plt.plot(np.arange(0,10000,.1),control_gna[:,p],color='r',alpha=0.2, label='gNa')\n",
        "# plt.xlim(center-100,center+100)\n",
        "\n",
        "# plt.legend(loc='lower right')\n",
        "# plt.title('{}'.format(legit_uc))"
      ]
    },
    {
      "cell_type": "code",
      "execution_count": null,
      "metadata": {
        "id": "nMgTL3Kh4vaq"
      },
      "outputs": [],
      "source": [
        "# p = np.random.choice(segs[segs.Type=='apic'].index)\n",
        "# for i in spktimes:\n",
        "#     plt.plot(np.arange(0,20,.1), control_v[int(i*10)-100:int(i*10)+100,p])\n",
        "# plt.vlines(10,-65,0,color='k')\n",
        "# plt.ylim(-65,0)"
      ]
    },
    {
      "cell_type": "code",
      "execution_count": null,
      "metadata": {
        "id": "UkNA5PUa4vaq"
      },
      "outputs": [],
      "source": [
        "# p = 829#np.random.choice(segs[segs.Type=='dend'].index)\n",
        "# plt.title('dend {}'.format(p))\n",
        "# plt.plot(control_v[7200:7700,p],label='dend')\n",
        "# plt.plot(control_v[7200:7700,0],label='soma')\n",
        "# plt.hlines(-40,0,500)\n",
        "# plt.twinx()\n",
        "# plt.plot(control_inmda[7200:7700,p],color='r')\n",
        "# plt.legend()"
      ]
    },
    {
      "cell_type": "code",
      "execution_count": null,
      "metadata": {
        "id": "PTz_OD204vaq"
      },
      "outputs": [],
      "source": [
        "# control_v[10000,0]"
      ]
    },
    {
      "cell_type": "code",
      "execution_count": null,
      "metadata": {
        "id": "0j1tXS3E4var"
      },
      "outputs": [],
      "source": [
        "# plt.hist(control_v[10000,:])"
      ]
    },
    {
      "cell_type": "code",
      "execution_count": null,
      "metadata": {
        "id": "xc3yqYuK4var"
      },
      "outputs": [],
      "source": [
        "# plt.plot(control_v[:,1200])\n",
        "# plt.plot(NMDAblock_v[:,1200])"
      ]
    },
    {
      "cell_type": "code",
      "execution_count": null,
      "metadata": {
        "id": "yL_5vEQb4var"
      },
      "outputs": [],
      "source": [
        "# df = ids_pos.set_index(['BMTK ID', 'X']).join(segs.set_index(['BMTK ID', 'X'])).reset_index()"
      ]
    },
    {
      "cell_type": "code",
      "execution_count": null,
      "metadata": {
        "id": "-SAxAuK34var"
      },
      "outputs": [],
      "source": [
        "# df.loc[0,'Distance'], np.mean(f['report']['biophysical']['data'],axis=0)[0]"
      ]
    },
    {
      "cell_type": "code",
      "execution_count": null,
      "metadata": {
        "id": "tcCgvLcV4var"
      },
      "outputs": [],
      "source": [
        "# df[(df.Distance>900) & (df.Distance<1000)]"
      ]
    },
    {
      "cell_type": "code",
      "execution_count": null,
      "metadata": {
        "id": "iSQt7tgD4var"
      },
      "outputs": [],
      "source": [
        "# plt.scatter(np.arange(0,df.shape[0]), np.mean(f['report']['biophysical']['data'],axis=0))\n",
        "# plt.xlim(1740,1760)"
      ]
    },
    {
      "cell_type": "code",
      "execution_count": null,
      "metadata": {
        "id": "q5Lf7TbC4var"
      },
      "outputs": [],
      "source": [
        "# plt.figure(figsize=(10,6))\n",
        "# plt.scatter(df['Distance'],np.mean(f['report']['biophysical']['data'],axis=0),alpha=0.2)\n",
        "# plt.scatter(df.loc[0,'Distance'], np.mean(f['report']['biophysical']['data'],axis=0)[0],color='r', marker='*', s=75)\n",
        "# plt.scatter(df.loc[1452,'Distance'], np.mean(f['report']['biophysical']['data'],axis=0)[1452],color='m',marker='*', s=75)\n",
        "# plt.scatter(df.loc[1754,'Distance'], np.mean(f['report']['biophysical']['data'],axis=0)[1754],color='k',marker='*', s=75)\n",
        "# plt.xlabel('distance from soma')\n",
        "# plt.ylabel('mean potential of segment (mV)')"
      ]
    },
    {
      "cell_type": "code",
      "execution_count": null,
      "metadata": {
        "id": "yVPunG4e4var"
      },
      "outputs": [],
      "source": [
        "# #plt.scatter(np.arange(0,f['report']['biophysical']['data'].shape[1]),np.mean(f['report']['biophysical']['data'],axis=0))\n",
        "\n",
        "# plt.figure(figsize=(10,6))\n",
        "\n",
        "# plt.plot(np.arange(0,2,0.0001),f['report']['biophysical']['data'][:,0],color='r')\n",
        "# plt.plot(np.arange(0,2,0.0001),f['report']['biophysical']['data'][:,1452],color='m')\n",
        "# plt.plot(np.arange(0,2,0.0001),f['report']['biophysical']['data'][:,1754],color='k')\n",
        "# plt.xlim(1.75,2)\n",
        "# plt.xlabel('time (s)')\n",
        "# plt.ylabel('membrane potential (mV)')"
      ]
    },
    {
      "cell_type": "code",
      "execution_count": null,
      "metadata": {
        "id": "WeeWcSCF4var"
      },
      "outputs": [],
      "source": []
    }
  ],
  "metadata": {
    "kernelspec": {
      "display_name": "Python 3",
      "language": "python",
      "name": "python3"
    },
    "language_info": {
      "codemirror_mode": {
        "name": "ipython",
        "version": 3
      },
      "file_extension": ".py",
      "mimetype": "text/x-python",
      "name": "python",
      "nbconvert_exporter": "python",
      "pygments_lexer": "ipython3",
      "version": "3.6.10"
    },
    "colab": {
      "name": "NMDAExploration.ipynb",
      "provenance": [],
      "include_colab_link": true
    }
  },
  "nbformat": 4,
  "nbformat_minor": 0
}