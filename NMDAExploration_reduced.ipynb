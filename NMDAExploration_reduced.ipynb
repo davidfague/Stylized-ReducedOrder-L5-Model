{
  "cells": [
    {
      "cell_type": "markdown",
      "metadata": {
        "id": "view-in-github",
        "colab_type": "text"
      },
      "source": [
        "<a href=\"https://colab.research.google.com/github/davidfague/Stylized-ReducedOrder-L5-Model/blob/main/NMDAExploration_reduced.ipynb\" target=\"_parent\"><img src=\"https://colab.research.google.com/assets/colab-badge.svg\" alt=\"Open In Colab\"/></a>"
      ]
    },
    {
      "cell_type": "code",
      "execution_count": 1,
      "metadata": {
        "id": "_dApD56GNB1u",
        "colab": {
          "base_uri": "https://localhost:8080/"
        },
        "outputId": "65c1cd42-cc04-4d15-ce11-45eb68439e3a"
      },
      "outputs": [
        {
          "output_type": "stream",
          "name": "stdout",
          "text": [
            "Mounted at /content/drive\n",
            "/content/drive/MyDrive/Stylized-Cell-model\n"
          ]
        }
      ],
      "source": [
        "import pandas as pd\n",
        "import h5py\n",
        "import numpy as np\n",
        "import matplotlib.pyplot as plt\n",
        "import seaborn as sns\n",
        "import scipy.signal as ss\n",
        "\n",
        "from google.colab import drive\n",
        "drive.mount('/content/drive')\n",
        "\n",
        "%cd /content/drive/MyDrive/Stylized-Cell-model/\n",
        "\n",
        "def voltage_criterion(data=None, v_thresh=-40, time_thresh=260):\n",
        "    threshold_crossings = np.diff(data > v_thresh, prepend=False)\n",
        "    #print(np.argwhere(threshold_crossings))\n",
        "    upward_crossings = np.argwhere(threshold_crossings)[::2,0]\n",
        "    downward_crossings = np.argwhere(threshold_crossings)[1::2,0]\n",
        "    #print(upward_crossings)\n",
        "    # If length of threshold_crossings is not even\n",
        "    if np.mod(np.argwhere(threshold_crossings).reshape(-1,).shape[0],2)!=0:\n",
        "        legit_up_crossings = upward_crossings[:-1][np.diff(np.argwhere(threshold_crossings).reshape(-1,))[::2]>time_thresh]\n",
        "        #print(legit_up_crossings)\n",
        "        legit_down_crossings = downward_crossings[np.diff(np.argwhere(threshold_crossings).reshape(-1,))[::2]>time_thresh]\n",
        "    else:\n",
        "        legit_up_crossings = upward_crossings[np.diff(np.argwhere(threshold_crossings).reshape(-1,))[::2]>time_thresh]\n",
        "        legit_down_crossings = downward_crossings[np.diff(np.argwhere(threshold_crossings).reshape(-1,))[::2]>time_thresh]\n",
        "    return upward_crossings, legit_up_crossings, legit_down_crossings\n",
        "\n",
        "# Input: upward and downward crossings\n",
        "# Output: bounds of NMDA spikes meeting current criterion\n",
        "def current_criterion(legit_uc_iso=[], legit_dc_iso=[], p=1, control_inmda=np.array([1])):\n",
        "    bounds = []\n",
        "    sum_current = []\n",
        "    \n",
        "\n",
        "    for ind1 in np.arange(0,len(legit_uc_iso)):\n",
        "        e1 = control_inmda[p, legit_uc_iso[ind1]] #current @ up_crossing[ind1] # and here\n",
        "        #all the indices where current crosses 130% of e1\n",
        "        x30 = np.argwhere(np.diff(control_inmda[p, legit_uc_iso[ind1]:legit_dc_iso[ind1]] < 1.3*e1, prepend=False))  ## p is swaped in comparision to the full model exploration\n",
        "        #all the indices where current crosses 115% of e1\n",
        "        x15 = np.argwhere(np.diff(control_inmda[p, legit_uc_iso[ind1]:legit_dc_iso[ind1]] < 1.15*e1, prepend=False))  ## and here\n",
        "        \n",
        "        if len(x30)>0:\n",
        "        \n",
        "            x15_copy = x15\n",
        "            x30_copy = x30\n",
        "            \n",
        "            try:\n",
        "                i = x30[0][0]\n",
        "            except:\n",
        "                import pdb; pdb.set_trace()\n",
        "                \n",
        "            n = 0\n",
        "            \n",
        "            \n",
        "            while n==0:\n",
        "                if len(np.sort(x15[x15>i]))!=0:\n",
        "                    b1 = i\n",
        "                    b2 = np.sort(x15[x15>i])[0]\n",
        "                    bounds.append([legit_uc_iso[ind1]+b1,legit_uc_iso[ind1]+b2])\n",
        "                    sum_current.append(np.sum(control_inmda[p, legit_uc_iso[ind1]+b1:legit_uc_iso[ind1]+b2])/10)     #as well as here\n",
        "                else:\n",
        "                    b1 = i\n",
        "                    b2 = (legit_dc_iso[ind1]-legit_uc_iso[ind1])\n",
        "                    bounds.append([legit_uc_iso[ind1]+b1,legit_uc_iso[ind1]+b2])\n",
        "                    sum_current.append(np.sum(control_inmda[p, legit_uc_iso[ind1]+b1:legit_uc_iso[ind1]+b2])/10)     # and here\n",
        "                    n=1\n",
        "                \n",
        "                x30_copy = x30_copy[x30_copy>legit_uc_iso[ind1]+b2]\n",
        "                #import pdb; pdb.set_trace()\n",
        "                \n",
        "                if len(x30_copy)!=0:\n",
        "                    i = x30_copy[x30_copy>b2][0]\n",
        "                else:\n",
        "                    n=1\n",
        "    return bounds, sum_current\n",
        "\n"
      ]
    },
    {
      "cell_type": "code",
      "source": [
        "\n",
        "########"
      ],
      "metadata": {
        "id": "tmAzRhdqNiUG"
      },
      "execution_count": 2,
      "outputs": []
    },
    {
      "cell_type": "code",
      "execution_count": 3,
      "metadata": {
        "id": "TlLiRlPsNB1w",
        "colab": {
          "base_uri": "https://localhost:8080/"
        },
        "outputId": "648d31a6-dfe1-425b-b13e-d3cddf6de243"
      },
      "outputs": [
        {
          "output_type": "stream",
          "name": "stdout",
          "text": [
            "<HDF5 dataset \"Segs\": shape (172,), type \"<i8\">\n",
            "RangeIndex(start=0, stop=172, step=1)\n"
          ]
        },
        {
          "output_type": "stream",
          "name": "stderr",
          "text": [
            "/usr/local/lib/python3.7/dist-packages/ipykernel_launcher.py:32: SettingWithCopyWarning: \n",
            "A value is trying to be set on a copy of a slice from a DataFrame\n",
            "\n",
            "See the caveats in the documentation: https://pandas.pydata.org/pandas-docs/stable/user_guide/indexing.html#returning-a-view-versus-a-copy\n",
            "/usr/local/lib/python3.7/dist-packages/pandas/core/indexing.py:1732: SettingWithCopyWarning: \n",
            "A value is trying to be set on a copy of a slice from a DataFrame\n",
            "\n",
            "See the caveats in the documentation: https://pandas.pydata.org/pandas-docs/stable/user_guide/indexing.html#returning-a-view-versus-a-copy\n",
            "  self._setitem_single_block(indexer, value, name)\n"
          ]
        }
      ],
      "source": [
        "segdata = h5py.File('Segments.hdf5','r')\n",
        "exc_syns_per_seg = segdata['neSyn']\n",
        "inh_syns_per_seg = segdata['niSyn']\n",
        "\n",
        "\n",
        "\n",
        "\n",
        "segs = pd.DataFrame(columns=['segmentID','sec','Type','Elec_distance','X','Y'])\n",
        "\n",
        "\n",
        "print(segdata['Segs'])\n",
        "\n",
        "segs.segmentID = segdata['Segs'][:]\n",
        "segs.set_index('segmentID')\n",
        "segs.sec = segdata['sec'][:]\n",
        "segs.Type = [0] * len(segs.index)\n",
        "segs.Elec_distance = segdata['elec_dist'][:]\n",
        "segs.X = segdata['X'][:]\n",
        "segs.Y = segdata['Y'][:]\n",
        "\n",
        "\n",
        "\n",
        "\n",
        "#<=10, 17, >=26 \n",
        "\n",
        "#11, 12, 13, 14, 14, 16, 18, 19, 20, 21, 22, 23, 24, 25\n",
        "\n",
        "for i in segs.index:\n",
        "  if segs.sec[i] >= 11 and segs.sec[i] != 17 and segs.sec[i] <= 25:\n",
        "    segs.Type[i] = 'apic'\n",
        "  elif segs.sec[i] <= 10 or segs.sec[i] == 17 or segs.sec[i] >= 26:\n",
        "    segs.Type[i] = 'basal'\n",
        "  else:\n",
        "    print('fail')\n",
        "\n",
        "\n",
        "print(segs.index)\n"
      ]
    },
    {
      "cell_type": "code",
      "execution_count": 4,
      "metadata": {
        "id": "WCs4nOtGNB1w"
      },
      "outputs": [],
      "source": [
        "#exc_syns_per_seg.head()"
      ]
    },
    {
      "cell_type": "code",
      "execution_count": 5,
      "metadata": {
        "id": "Qhcq4hSTNB1x"
      },
      "outputs": [],
      "source": [
        "v = h5py.File('v_report.hdf5','r')\n",
        "hva = h5py.File('i_CaHva_report.hdf5','r')\n",
        "lva = h5py.File('i_CaLva_report.hdf5','r')\n",
        "ih = h5py.File('ihcn_report.hdf5','r')\n",
        "\n",
        "nmda = h5py.File('i_nmda_report.hdf5','r')\n",
        "\n",
        "na = h5py.File('gNaTa_report.hdf5','r')\n",
        "spks = h5py.File('Spikes.hdf5','r')\n"
      ]
    },
    {
      "cell_type": "code",
      "execution_count": 6,
      "metadata": {
        "id": "cn9OAEDnNB1x",
        "colab": {
          "base_uri": "https://localhost:8080/"
        },
        "outputId": "960a7d41-cb7e-45d3-8022-168ace9fdad0"
      },
      "outputs": [
        {
          "output_type": "stream",
          "name": "stdout",
          "text": [
            "[  70.    79.4   87.5   95.7  132.5  161.2  181.1  204.2  229.9  256.5\n",
            "  290.2  322.6  423.2  478.   550.2  602.6  653.5  669.2  699.5  767.1\n",
            "  860.6  905.3  984.8 1039.4 1068.5 1089.6 1119.8 1143.4 1266.6 1321.6\n",
            " 1356.7 1417.5 1444.  1469.2]\n",
            "[  700   794   875   957  1325  1612  1811  2042  2299  2565  2902  3226\n",
            "  4232  4780  5502  6026  6535  6692  6995  7670  8605  9052  9847 10393\n",
            " 10684 10895 11197 11433 12665 13215 13566 14174 14439 14691]\n",
            "0.0020109962426403632\n"
          ]
        }
      ],
      "source": [
        "spktimes = np.array(spks['spikes'])\n",
        "print(spktimes)\n",
        "spkinds = np.sort((spktimes*10).astype(int))\n",
        "print(spkinds)\n",
        "print(max(na['gNaTa'][5,:]))\n",
        "\n"
      ]
    },
    {
      "cell_type": "code",
      "source": [
        "apical = []\n",
        "basal = []\n",
        "for i in segs.index:\n",
        "  if segs.Type[i] == 'apic':\n",
        "    apical.append(i)\n",
        "  else:\n",
        "    basal.append(i)\n",
        "\n",
        "\n"
      ],
      "metadata": {
        "id": "nSH989aTk644"
      },
      "execution_count": 7,
      "outputs": []
    },
    {
      "cell_type": "code",
      "source": [
        "#print(na['gNaTa'][p,:]*1000)"
      ],
      "metadata": {
        "id": "rX_KIbHwbtaS"
      },
      "execution_count": 8,
      "outputs": []
    },
    {
      "cell_type": "code",
      "execution_count": 9,
      "metadata": {
        "id": "mgiac2-rNB1x"
      },
      "outputs": [],
      "source": [
        "na_df = pd.DataFrame(columns=['segmentID','na_lower_bound'])\n",
        "\n",
        "for p in (apical + basal):\n",
        "    #print(max(na['gNaTa'][p,:]))\n",
        "    threshold_crossings = np.diff((na['gNaTa'][p,:]*1000) > 0.003, prepend=False)\n",
        "    #print(len(threshold_crossings[threshold_crossings == True]))\n",
        "    upward_crossings = np.argwhere(threshold_crossings)[::2,0]\n",
        "    downward_crossings = np.argwhere(threshold_crossings)[1::2,0]\n",
        "    #print(upward_crossings)\n",
        "    # Only count if not within 2 ms after a somatic spike\n",
        "    na_spks = [i for i in upward_crossings if ~np.any((i-spkinds>=-5) & (i-spkinds<50))]\n",
        "    \n",
        "    if len(na_spks)>0:\n",
        "        #print('if',p)\n",
        "        na_df = na_df.append(pd.DataFrame({'segmentID':p,\n",
        "                                               'na_lower_bound':na_spks}))\n",
        "    else:\n",
        "        #print('else',p)\n",
        "        na_df = na_df.append(pd.DataFrame({'segmentID':p,\n",
        "                                               'na_lower_bound':np.array([np.nan])}))"
      ]
    },
    {
      "cell_type": "code",
      "execution_count": 10,
      "metadata": {
        "id": "Cxp3EPNVNB1x",
        "colab": {
          "base_uri": "https://localhost:8080/"
        },
        "outputId": "1a4eb990-6eb1-4ad7-d168-3ce5a71a32f4"
      },
      "outputs": [
        {
          "output_type": "stream",
          "name": "stdout",
          "text": [
            "      Unnamed: 0  segmentID  na_lower_bound\n",
            "0              0         24           785.0\n",
            "1              1         24          1013.0\n",
            "2              2         24          1205.0\n",
            "3              3         24          1435.0\n",
            "4              4         24          1749.0\n",
            "...          ...        ...             ...\n",
            "3013          31        164         13364.0\n",
            "3014          32        164         13745.0\n",
            "3015          33        164         14238.0\n",
            "3016          34        164         14502.0\n",
            "3017          35        164         14782.0\n",
            "\n",
            "[3018 rows x 3 columns]\n"
          ]
        }
      ],
      "source": [
        "na_df.to_csv('na_df.csv')\n",
        "na_df = pd.read_csv('na_df.csv')\n",
        "print(na_df[(na_df.na_lower_bound>20) & (na_df.na_lower_bound<1400000)])\n",
        "\n"
      ]
    },
    {
      "cell_type": "code",
      "source": [
        "# print(trace>half_peak)\n",
        "# print(len(np.arange(0,20)))\n",
        "\n",
        "# np.arange(0,20)[trace>half_peak]\n",
        "\n"
      ],
      "metadata": {
        "id": "oRTJnQEavQ2J"
      },
      "execution_count": 11,
      "outputs": []
    },
    {
      "cell_type": "code",
      "execution_count": 20,
      "metadata": {
        "id": "3tb3ADA7NB1x",
        "colab": {
          "base_uri": "https://localhost:8080/",
          "height": 240
        },
        "outputId": "1a10153d-ee2f-4f87-d190-458b758df8bc"
      },
      "outputs": [
        {
          "output_type": "error",
          "ename": "IndexError",
          "evalue": "ignored",
          "traceback": [
            "\u001b[0;31m---------------------------------------------------------------------------\u001b[0m",
            "\u001b[0;31mIndexError\u001b[0m                                Traceback (most recent call last)",
            "\u001b[0;32m<ipython-input-20-58b50ce1862f>\u001b[0m in \u001b[0;36m<module>\u001b[0;34m()\u001b[0m\n\u001b[1;32m      6\u001b[0m         \u001b[0mpeak_value\u001b[0m \u001b[0;34m=\u001b[0m \u001b[0mnp\u001b[0m\u001b[0;34m.\u001b[0m\u001b[0mmax\u001b[0m\u001b[0;34m(\u001b[0m\u001b[0mtrace\u001b[0m\u001b[0;34m)\u001b[0m\u001b[0;34m\u001b[0m\u001b[0;34m\u001b[0m\u001b[0m\n\u001b[1;32m      7\u001b[0m         \u001b[0mhalf_peak\u001b[0m \u001b[0;34m=\u001b[0m \u001b[0mpeak_value\u001b[0m\u001b[0;34m/\u001b[0m\u001b[0;36m2\u001b[0m\u001b[0;34m\u001b[0m\u001b[0;34m\u001b[0m\u001b[0m\n\u001b[0;32m----> 8\u001b[0;31m         \u001b[0mduration\u001b[0m \u001b[0;34m=\u001b[0m \u001b[0mnp\u001b[0m\u001b[0;34m.\u001b[0m\u001b[0marange\u001b[0m\u001b[0;34m(\u001b[0m\u001b[0;36m0\u001b[0m\u001b[0;34m,\u001b[0m\u001b[0;36m20\u001b[0m\u001b[0;34m)\u001b[0m\u001b[0;34m[\u001b[0m\u001b[0mtrace\u001b[0m\u001b[0;34m>\u001b[0m\u001b[0mhalf_peak\u001b[0m\u001b[0;34m]\u001b[0m \u001b[0;34m+\u001b[0m \u001b[0mspkt\u001b[0m \u001b[0;34m-\u001b[0m \u001b[0;36m10\u001b[0m\u001b[0;34m\u001b[0m\u001b[0;34m\u001b[0m\u001b[0m\n\u001b[0m\u001b[1;32m      9\u001b[0m         \u001b[0mna_df\u001b[0m\u001b[0;34m.\u001b[0m\u001b[0mloc\u001b[0m\u001b[0;34m[\u001b[0m\u001b[0mi\u001b[0m\u001b[0;34m,\u001b[0m\u001b[0;34m'duration_low'\u001b[0m\u001b[0;34m]\u001b[0m \u001b[0;34m=\u001b[0m \u001b[0mduration\u001b[0m\u001b[0;34m[\u001b[0m\u001b[0;36m0\u001b[0m\u001b[0;34m]\u001b[0m\u001b[0;34m\u001b[0m\u001b[0;34m\u001b[0m\u001b[0m\n\u001b[1;32m     10\u001b[0m         \u001b[0mna_df\u001b[0m\u001b[0;34m.\u001b[0m\u001b[0mloc\u001b[0m\u001b[0;34m[\u001b[0m\u001b[0mi\u001b[0m\u001b[0;34m,\u001b[0m\u001b[0;34m'duration_high'\u001b[0m\u001b[0;34m]\u001b[0m \u001b[0;34m=\u001b[0m \u001b[0mduration\u001b[0m\u001b[0;34m[\u001b[0m\u001b[0;34m-\u001b[0m\u001b[0;36m1\u001b[0m\u001b[0;34m]\u001b[0m\u001b[0;34m\u001b[0m\u001b[0;34m\u001b[0m\u001b[0m\n",
            "\u001b[0;31mIndexError\u001b[0m: boolean index did not match indexed array along dimension 0; dimension is 20 but corresponding boolean dimension is 11"
          ]
        }
      ],
      "source": [
        "for i in np.random.choice(na_df[(na_df.na_lower_bound>20) & (na_df.na_lower_bound<1400000)].index,10000):\n",
        "    seg = na_df.loc[i,'segmentID']\n",
        "    if not pd.isnull(na_df.loc[i,'na_lower_bound']):\n",
        "        spkt = int(na_df.loc[i,'na_lower_bound'])\n",
        "        trace = na['gNaTa'][seg,spkt-10:spkt+10]\n",
        "        peak_value = np.max(trace)\n",
        "        half_peak = peak_value/2\n",
        "        duration = np.arange(0,20)[trace>half_peak] + spkt - 10\n",
        "        na_df.loc[i,'duration_low'] = duration[0]\n",
        "        na_df.loc[i,'duration_high'] = duration[-1]\n",
        "        na_df.loc[i,'peak_value'] = peak_value\n",
        "    else:\n",
        "        na_df.loc[i,'duration_low'] = np.nan\n",
        "        na_df.loc[i,'duration_high'] = np.nan\n",
        "        na_df.loc[i,'peak_value'] = np.nan"
      ]
    },
    {
      "cell_type": "code",
      "execution_count": null,
      "metadata": {
        "id": "xxzuXMYvNB1x"
      },
      "outputs": [],
      "source": [
        "na_df['duration'] = (na_df['duration_high'] - na_df['duration_low'] + 1)/10"
      ]
    },
    {
      "cell_type": "code",
      "source": [
        "print(na_df.segmentID)"
      ],
      "metadata": {
        "id": "ULFZv1W7w_ox"
      },
      "execution_count": null,
      "outputs": []
    },
    {
      "cell_type": "code",
      "source": [
        "segs_na_df = segs.set_index('segmentID').join(na_df.set_index('segmentID')).reset_index()"
      ],
      "metadata": {
        "id": "Kq3-S13q1NJY"
      },
      "execution_count": null,
      "outputs": []
    },
    {
      "cell_type": "code",
      "source": [
        "na_df.set_index('segmentID')\n"
      ],
      "metadata": {
        "id": "Bqn8BKUrwgkI"
      },
      "execution_count": null,
      "outputs": []
    },
    {
      "cell_type": "code",
      "execution_count": null,
      "metadata": {
        "id": "oXYYpG_uNB1x"
      },
      "outputs": [],
      "source": [
        "segs_na_df[(~pd.isnull(segs_na_df.na_lower_bound))&(segs_na_df.Type=='basal')]"
      ]
    },
    {
      "cell_type": "code",
      "execution_count": null,
      "metadata": {
        "id": "uUlmNAWpNB1x"
      },
      "outputs": [],
      "source": [
        "def get_sta(segs_na_df, spktimes):\n",
        "    na_dend = np.zeros((10,39,))\n",
        "    na_apic = np.zeros((10,39,))\n",
        "    \n",
        "    edges_dend=np.quantile(segs_na_df[(~pd.isnull(segs_na_df.na_lower_bound))&\n",
        "                                       (segs_na_df.Type=='basal')]['Elec_distance'].unique(),np.arange(0,1.1,0.1))\n",
        "    \n",
        "    edges_apic=np.quantile(segs_na_df[(~pd.isnull(segs_na_df.na_lower_bound))&\n",
        "                                       (segs_na_df.Type=='apic')]['Elec_distance'].unique(),np.arange(0,1.1,0.1))\n",
        "    \n",
        "    actual_spktimes = []\n",
        "    c = 0\n",
        "    \n",
        "    for i in np.sort(spktimes):\n",
        "        # excludes bursts\n",
        "        if i-c > 10:\n",
        "            for e in np.arange(0,10):\n",
        "                na_inds = segs_na_df[(~pd.isnull(segs_na_df.na_lower_bound))&\n",
        "                                     (segs_na_df.Type=='basal')&\n",
        "                                     (segs_na_df.Elec_distance>edges_dend[e])&\n",
        "                                     (segs_na_df.Elec_distance<=edges_dend[e+1])]['na_lower_bound'].values.astype(int)\n",
        "    \n",
        "                x2, _ = np.histogram(na_inds/10,bins=np.arange(np.floor(i)-20,np.floor(i)+20,1))\n",
        "                na_dend[e] += x2\n",
        "                \n",
        "                na_inds = segs_na_df[(~pd.isnull(segs_na_df.na_lower_bound))&\n",
        "                                     (segs_na_df.Type=='apic')&\n",
        "                                     (segs_na_df.Elec_distance>edges_apic[e])&\n",
        "                                     (segs_na_df.Elec_distance<=edges_apic[e+1])]['na_lower_bound'].values.astype(int)\n",
        "    \n",
        "                x2, _ = np.histogram(na_inds/10,bins=np.arange(np.floor(i)-20,np.floor(i)+20,1))\n",
        "                na_apic[e] += x2\n",
        "            \n",
        "            actual_spktimes.append(i)\n",
        "        c = i\n",
        "    return na_dend, na_apic"
      ]
    },
    {
      "cell_type": "code",
      "execution_count": null,
      "metadata": {
        "id": "L3a6d_rbNB1y"
      },
      "outputs": [],
      "source": [
        "na_dend, na_apic = get_sta(segs_na_df, spktimes)"
      ]
    },
    {
      "cell_type": "code",
      "execution_count": null,
      "metadata": {
        "id": "Pis-Qe_yNB1y"
      },
      "outputs": [],
      "source": [
        "rand_spktimes = np.sort(np.random.choice(np.arange(0,150000), spktimes.shape[0]))"
      ]
    },
    {
      "cell_type": "code",
      "execution_count": null,
      "metadata": {
        "id": "1Xd7oTGhNB1y"
      },
      "outputs": [],
      "source": [
        "na_dend_rand, na_apic_rand = get_sta(segs_na_df, rand_spktimes)"
      ]
    },
    {
      "cell_type": "code",
      "execution_count": null,
      "metadata": {
        "id": "tzxe3xGuNB1y"
      },
      "outputs": [],
      "source": [
        "plt.figure(figsize=(10,10))\n",
        "plt.subplot(2,1,1)\n",
        "plt.title('Na spikes - apical')\n",
        "plt.imshow((na_apic-na_apic_rand)/len(spktimes),cmap='jet',vmin=-0.5)\n",
        "plt.colorbar(label='additional events per AP')\n",
        "plt.xticks(ticks=np.arange(0,40,5)-0.5,labels=['{}'.format(i) for i in np.arange(-20,20,5)])\n",
        "plt.yticks(ticks=[0,9],labels=['further','closer'])\n",
        "plt.xlim(5,35)\n",
        "\n",
        "plt.subplot(2,1,2)\n",
        "plt.title('Na spikes - basal')\n",
        "plt.imshow((na_dend-na_dend_rand)/len(spktimes),cmap='jet',vmin=-0.2, vmax=0.2)\n",
        "plt.colorbar(label='additional events per AP')\n",
        "plt.xticks(ticks=np.arange(0,40,5)-0.5,labels=['{}'.format(i) for i in np.arange(-20,20,5)])\n",
        "plt.yticks(ticks=[0,9],labels=['further','closer'])\n",
        "plt.xlabel('time(ms)')\n",
        "plt.xlim(5,35)\n",
        "\n",
        "plt.show()"
      ]
    },
    {
      "cell_type": "markdown",
      "metadata": {
        "id": "JubcPqw9NB1y"
      },
      "source": [
        "----------"
      ]
    },
    {
      "cell_type": "code",
      "execution_count": null,
      "metadata": {
        "id": "J9KoOswHNB1y"
      },
      "outputs": [],
      "source": [
        "ca_df = pd.DataFrame(columns=['segmentID','ca_lower_bound'])\n",
        "\n",
        "segIDs = segs.index #segs[(segs.Type=='apic')]['segmentID']\n",
        "for p in segIDs:\n",
        "    #print(p)\n",
        "    trace = hva['i_CaHva'][p,:]+\\\n",
        "            lva['i_CaLva'][p,:]+\\\n",
        "            ih['ihcn'][p,:]\n",
        "    m = np.mean(trace)\n",
        "    s = np.std(trace)\n",
        "\n",
        "    legit_uc = voltage_criterion(data=v['v'][p,:],v_thresh=-40, time_thresh=200)[1]\n",
        "    legit_dc = voltage_criterion(data=v['v'][p,:],v_thresh=-40, time_thresh=200)[-1]\n",
        "    \n",
        "    legit_uc_iso = legit_uc\n",
        "    \n",
        "    legit_dc_iso = legit_dc\n",
        "    \n",
        "    \n",
        "    if (len(legit_uc_iso)!=0) & (np.min(trace)!=0):\n",
        "        bnds, sum_curr = current_criterion(legit_uc_iso=legit_uc_iso, \n",
        "                                           legit_dc_iso=legit_dc_iso, \n",
        "                                           p=p, \n",
        "                                           control_inmda=hva['i_CaHva'])\n",
        "        ca_df = ca_df.append(pd.DataFrame({'segmentID':np.tile(p,len(bnds)),\n",
        "                                               'ca_lower_bound':np.array(bnds).reshape(-1,2)[:,0],\n",
        "                                               'ca_upper_bound':np.array(bnds).reshape(-1,2)[:,1],\n",
        "                                               'mag':sum_curr}))\n",
        "    \n",
        "    else:\n",
        "        ca_df = ca_df.append(pd.DataFrame({'segmentID':np.tile(p,1),\n",
        "                                               'ca_lower_bound':np.nan,\n",
        "                                               'ca_upper_bound':np.nan,\n",
        "                                               'mag':np.nan}))"
      ]
    },
    {
      "cell_type": "code",
      "source": [
        "plt.figure(figsize=(4,10))\n",
        "ax = plt.scatter(segdata['X'], segdata['Y'], c=segdata['neSyn'][0:172],s=50,cmap='jet')\n",
        "plt.vlines(110,400,500)\n",
        "plt.text(0,450,'100 um')\n",
        "plt.hlines(400,110,210)\n",
        "plt.text(110,350,'100 um')\n",
        "plt.xticks([])\n",
        "plt.yticks([])\n",
        "cbar = plt.colorbar()\n",
        "cbar.ax.set_ylabel('Synapse per segment', rotation=270)\n",
        "\n",
        "#ax2.ax.set_title('log(elec_distance)',rotation=270)\n",
        "plt.box(False)\n",
        "plt.savefig('exc_syns.svg')"
      ],
      "metadata": {
        "id": "mLNjyl4Us8Vd"
      },
      "execution_count": null,
      "outputs": []
    },
    {
      "cell_type": "code",
      "execution_count": null,
      "metadata": {
        "id": "-M4ScTZVNB1z"
      },
      "outputs": [],
      "source": [
        "ca_df.to_csv('ca_df.csv')\n",
        "ca_df = pd.read_csv('ca_df.csv')"
      ]
    },
    {
      "cell_type": "markdown",
      "metadata": {
        "id": "Z4bhFCA-NB1z"
      },
      "source": [
        "# durations"
      ]
    },
    {
      "cell_type": "code",
      "execution_count": null,
      "metadata": {
        "id": "NbAjtKdrNB1z"
      },
      "outputs": [],
      "source": [
        "segs[(segdata['X'][:]>600)&(segdata['Y'][:]<800)]"
      ]
    },
    {
      "cell_type": "code",
      "execution_count": null,
      "metadata": {
        "id": "lHAEQHqsNB1z"
      },
      "outputs": [],
      "source": [
        "# np.random.choice(segs[(segs['Coord Y']<-50)&\n",
        "#      (segs['Coord Y']>-100)&\n",
        "#      (segs['Coord X']>-50)&\n",
        "#      (segs['Coord X']<50)&\n",
        "#      (segs['Type']=='dend')]['segmentID'])"
      ]
    },
    {
      "cell_type": "markdown",
      "metadata": {
        "id": "CzidwvNHNB1z"
      },
      "source": [
        "## Plotting morphology as heat maps"
      ]
    },
    {
      "cell_type": "code",
      "execution_count": null,
      "metadata": {
        "id": "JU7AdzhmNB1z"
      },
      "outputs": [],
      "source": [
        "plt.figure(figsize=(4,10))\n",
        "ax = plt.scatter(segdata['X'], segdata['Y'], c=np.log(segdata['elec_dist']))\n",
        "plt.vlines(110,400,500)\n",
        "plt.text(0,450,'100 um')\n",
        "plt.hlines(400,110,210)\n",
        "plt.text(110,350,'100 um')\n",
        "plt.xticks([])\n",
        "plt.yticks([])\n",
        "cbar = plt.colorbar()\n",
        "cbar.ax.set_ylabel('log(elec_distance)', rotation=270)\n",
        "\n",
        "#ax2.ax.set_title('log(elec_distance)',rotation=270)\n",
        "plt.box(False)\n",
        "plt.savefig('Elec_distance.svg')"
      ]
    },
    {
      "cell_type": "code",
      "execution_count": null,
      "metadata": {
        "id": "-JqyND3wNB10"
      },
      "outputs": [],
      "source": [
        "plt.figure(figsize=(4,10))\n",
        "ax = plt.scatter(segdata['X'], segdata['Y'], c=segdata['neSyn'][0:172],s=50,cmap='jet')\n",
        "plt.vlines(110,400,500)\n",
        "plt.text(0,450,'100 um')\n",
        "plt.hlines(400,110,210)\n",
        "plt.text(110,350,'100 um')\n",
        "plt.xticks([])\n",
        "plt.yticks([])\n",
        "cbar = plt.colorbar()\n",
        "cbar.ax.set_ylabel('Synapse per segment', rotation=270)\n",
        "\n",
        "#ax2.ax.set_title('log(elec_distance)',rotation=270)\n",
        "plt.box(False)\n",
        "plt.savefig('exc_syns.svg')"
      ]
    },
    {
      "cell_type": "markdown",
      "metadata": {
        "id": "1dI-SsbzNB10"
      },
      "source": [
        "## Plotting morphology and voltage traces"
      ]
    },
    {
      "cell_type": "code",
      "source": [
        "# print(segs['X'][:])\n",
        "# print(segdata['X'][:])"
      ],
      "metadata": {
        "id": "pk8xn_w5gu9p"
      },
      "execution_count": null,
      "outputs": []
    },
    {
      "cell_type": "code",
      "execution_count": null,
      "metadata": {
        "id": "JE_jj6OXNB10"
      },
      "outputs": [],
      "source": [
        "tics = len(v['v'][0])/10\n",
        "\n",
        "plt.figure(figsize=(3,10))\n",
        "ax = plt.plot(segdata['X'][:], segdata['Y'][:],'.',color='k',markersize=6)\n",
        "plt.vlines(110,400,500)\n",
        "plt.text(0,450,'100 um')\n",
        "plt.hlines(400,110,210)\n",
        "plt.text(110,350,'100 um')\n",
        "plt.xticks([])\n",
        "plt.yticks([])\n",
        "plt.box(False)\n",
        "plt.plot(segdata['X'][129], \n",
        "         segdata['Y'][129],\n",
        "         'r*', markersize=10)\n",
        "plt.plot(segdata['X'][46], \n",
        "         segdata['Y'][46],\n",
        "         'b*', markersize=10)\n",
        "plt.plot(segdata['X'][60], \n",
        "         segdata['Y'][60],\n",
        "         'm*', markersize=10)\n",
        "plt.plot(segdata['X'][78], \n",
        "         segdata['Y'][78],\n",
        "         'g*', markersize=10)\n",
        "plt.plot(segdata['X'][26], \n",
        "         segdata['Y'][26],\n",
        "         '*',color='orange',markersize=10)\n",
        "plt.plot(segdata['X'][20], \n",
        "         segdata['Y'][20],\n",
        "         '*',color='grey', markersize=10)\n",
        "plt.savefig('fig1A.svg')"
      ]
    },
    {
      "cell_type": "code",
      "execution_count": null,
      "metadata": {
        "id": "ry5pgGPkNB10"
      },
      "outputs": [],
      "source": [
        "\n",
        "plt.figure(figsize=(10,4))\n",
        "s1 = 323548+1500#np.random.choice(range(v['report']['biophysical']['data'].shape[0]))\n",
        "plt.plot(np.arange(0,tics,.1),v['v'][20,:],color='grey')\n",
        "#1433413, 1161455\n",
        "plt.hlines(-50,70,100)\n",
        "plt.text(70,-55,'30 ms')\n",
        "plt.vlines(70,-50,-40)\n",
        "plt.text(40,-45,'10 mV')\n",
        "plt.hlines(-65,0,1000, color = 'grey', linestyle = 'dashed')\n",
        "plt.box(False)\n",
        "plt.xticks([])\n",
        "plt.yticks([])\n",
        "plt.savefig('fig2G.svg')"
      ]
    },
    {
      "cell_type": "code",
      "execution_count": null,
      "metadata": {
        "id": "IPbdgIMPNB10"
      },
      "outputs": [],
      "source": [
        "plt.figure(figsize=(10,4))\n",
        "s1 = 323548+1500#np.random.choice(range(v['report']['biophysical']['data'].shape[0]))\n",
        "plt.plot(np.arange(0,tics,.1),v['v'][26,:],color='orange')\n",
        "#1433413, 1161455\n",
        "plt.hlines(-50,70,100)\n",
        "plt.text(70,-55,'30 ms')\n",
        "plt.vlines(70,-50,-40)\n",
        "plt.text(40,-45,'10 mV')\n",
        "plt.hlines(-65,0,1000, color = 'grey', linestyle = 'dashed')\n",
        "plt.box(False)\n",
        "plt.xticks([])\n",
        "plt.yticks([])\n",
        "plt.savefig('fig2F.svg')"
      ]
    },
    {
      "cell_type": "code",
      "execution_count": null,
      "metadata": {
        "id": "Hgq2d7jANB10"
      },
      "outputs": [],
      "source": [
        "plt.figure(figsize=(10,4))\n",
        "s1 = 323548+1500#np.random.choice(range(v['report']['biophysical']['data'].shape[0]))\n",
        "plt.plot(np.arange(0,tics,.1),v['v'][0,:],color='k')\n",
        "#1433413, 1161455\n",
        "plt.hlines(-50,70,100)\n",
        "plt.text(70,-55,'30 ms')\n",
        "plt.vlines(70,-50,-40)\n",
        "plt.text(40,-45,'10 mV')\n",
        "plt.hlines(-65,0,1000, color = 'grey', linestyle = 'dashed')\n",
        "plt.box(False)\n",
        "plt.xticks([])\n",
        "plt.yticks([])\n",
        "plt.savefig('fig2E.svg')"
      ]
    },
    {
      "cell_type": "code",
      "execution_count": null,
      "metadata": {
        "id": "5V_PqploNB10"
      },
      "outputs": [],
      "source": [
        "plt.figure(figsize=(10,4))\n",
        "s1 = 323548+1500#np.random.choice(range(v['report']['biophysical']['data'].shape[0]))\n",
        "plt.plot(np.arange(0,tics,.1),v['v'][78,:],color='g')\n",
        "#1433413, 1161455\n",
        "plt.hlines(-50,70,100)\n",
        "plt.text(70,-55,'30 ms')\n",
        "plt.vlines(70,-50,-40)\n",
        "plt.text(40,-45,'10 mV')\n",
        "plt.hlines(-65,0,1000, color = 'grey', linestyle = 'dashed')\n",
        "plt.box(False)\n",
        "plt.xticks([])\n",
        "plt.yticks([])\n",
        "plt.savefig('fig2C.svg')"
      ]
    },
    {
      "cell_type": "code",
      "execution_count": null,
      "metadata": {
        "id": "_mwTAA7aNB10"
      },
      "outputs": [],
      "source": [
        "plt.figure(figsize=(10,4))\n",
        "s1 = 323548+1500#np.random.choice(range(v['report']['biophysical']['data'].shape[0]))\n",
        "plt.plot(np.arange(0,tics,.1),v['v'][60,:],color='m')\n",
        "#1433413, 1161455\n",
        "plt.hlines(-50,70,100)\n",
        "plt.text(70,-55,'30 ms')\n",
        "plt.vlines(70,-50,-40)\n",
        "plt.text(40,-45,'10 mV')\n",
        "plt.hlines(-65,0,1000, color = 'grey', linestyle = 'dashed')\n",
        "plt.box(False)\n",
        "plt.xticks([])\n",
        "plt.yticks([])\n",
        "plt.savefig('fig2D.svg')"
      ]
    },
    {
      "cell_type": "code",
      "execution_count": null,
      "metadata": {
        "id": "ygRZP41hNB10"
      },
      "outputs": [],
      "source": [
        "plt.figure(figsize=(10,4))\n",
        "s1 = 323548+1500#np.random.choice(range(v['report']['biophysical']['data'].shape[0]))\n",
        "plt.plot(np.arange(0,tics,.1),v['v'][46,:],color='b')\n",
        "#1433413, 1161455\n",
        "plt.hlines(-50,70,100)\n",
        "plt.text(70,-55,'30 ms')\n",
        "plt.vlines(70,-50,-40)\n",
        "plt.text(40,-45,'10 mV')\n",
        "plt.hlines(-65,0,1000, color = 'grey', linestyle = 'dashed')\n",
        "plt.box(False)\n",
        "plt.xticks([])\n",
        "plt.yticks([])\n",
        "plt.savefig('fig2B.svg')"
      ]
    },
    {
      "cell_type": "code",
      "execution_count": null,
      "metadata": {
        "id": "buehf9dpNB10"
      },
      "outputs": [],
      "source": [
        "plt.figure(figsize=(10,4))\n",
        "s1 = 323548+1500#np.random.choice(range(v['report']['biophysical']['data'].shape[0]))\n",
        "plt.plot(np.arange(0,tics,.1),v['v'][129,:],color='r')\n",
        "#1433413, 1161455\n",
        "plt.hlines(-60,170,200)\n",
        "plt.text(170,-65,'30 ms')\n",
        "plt.vlines(170,-60,-50)\n",
        "plt.text(140,-55,'10 mV')\n",
        "plt.hlines(-65,0,1000, color = 'grey', linestyle = 'dashed')\n",
        "plt.box(False)\n",
        "plt.xticks([])\n",
        "plt.yticks([])\n",
        "plt.savefig('fig2A.svg')"
      ]
    },
    {
      "cell_type": "code",
      "execution_count": null,
      "metadata": {
        "id": "aml_lLEBNB11"
      },
      "outputs": [],
      "source": [
        "plt.figure(figsize=(10,4))\n",
        "s1 = 559133+1000#np.random.choice(range(v['report']['biophysical']['data'].shape[0]))\n",
        "plt.plot(np.arange(0,tics,.1),v['v'][10,:],color='k')\n",
        "#1433413, 1161455\n",
        "plt.hlines(-10,40,70)\n",
        "plt.text(40,-15,'30 ms')\n",
        "plt.vlines(40,-10,0)\n",
        "plt.text(5,-5,'10 mV')\n",
        "plt.box(False)\n",
        "plt.xticks([])\n",
        "plt.yticks([])"
      ]
    },
    {
      "cell_type": "code",
      "execution_count": null,
      "metadata": {
        "id": "oCt_zY4NNB11"
      },
      "outputs": [],
      "source": [
        "x = ca_df[~pd.isnull(ca_df.ca_lower_bound)].reset_index()\n",
        "i = np.random.choice(x.index)"
      ]
    },
    {
      "cell_type": "code",
      "execution_count": null,
      "metadata": {
        "id": "dZJg2nU2NB11"
      },
      "outputs": [],
      "source": [
        "seg = 60\n",
        "lower_bound = 4000\n",
        "plt.figure(figsize=(12,10))\n",
        "plt.plot(np.arange(0,600,.1),-(hva['i_CaHva'][seg,lower_bound-1000:lower_bound+5000]+\\\n",
        "         lva['i_CaLva'][seg,lower_bound-1000:lower_bound+5000]+\\\n",
        "         ih['ihcn'][seg,lower_bound-1000:lower_bound+5000]),color='b')\n",
        "plt.hlines(np.mean(-(hva['i_CaHva'][seg,lower_bound-1000:lower_bound+5000]+\\\n",
        "         lva['i_CaLva'][seg,lower_bound-1000:lower_bound+5000]+\\\n",
        "         ih['ihcn'][seg,lower_bound-1000:lower_bound+5000])),0,300.1,color='b')\n",
        "plt.xlim(0,200)\n",
        "\n",
        "plt.twinx()\n",
        "plt.plot(np.arange(0,600,.1),v['v'][seg,lower_bound-1000:lower_bound+5000],color='k')\n",
        "plt.plot(np.arange(0,600,.1),v['v'][seg,lower_bound-1000:lower_bound+5000],color='k',alpha=0.2)\n",
        "plt.xlim(0,200)\n"
      ]
    },
    {
      "cell_type": "code",
      "execution_count": null,
      "metadata": {
        "id": "qyUsmiPeNB11"
      },
      "outputs": [],
      "source": [
        "ca_df.reset_index(inplace=True)"
      ]
    },
    {
      "cell_type": "code",
      "execution_count": null,
      "metadata": {
        "id": "HDUmSqJkNB11"
      },
      "outputs": [],
      "source": [
        "for i in np.random.choice(ca_df[(ca_df.ca_lower_bound>2000) & (ca_df.ca_lower_bound<1400000)].index,100):\n",
        "    seg = ca_df.loc[i,'segmentID']\n",
        "    if not pd.isnull(ca_df.loc[i,'ca_lower_bound']):\n",
        "        spkt = int(ca_df.loc[i,'ca_lower_bound'])\n",
        "        #print(spkt)\n",
        "        #print(max(hva['i_CaHva'][seg,spkt-500:spkt+500]))\n",
        "        #print(max(lva['i_CaLva'][seg,spkt-500:spkt+500]))\n",
        "        #print(max(ih['ihcn'][seg,spkt-500:spkt+500]))\n",
        "        \n",
        "        trace = -(hva['i_CaHva'][seg,spkt-500:spkt+500] + \\\n",
        "                lva['i_CaLva'][seg,spkt-500:spkt+500] + \\\n",
        "                ih['ihcn'][seg,spkt-500:spkt+500])\n",
        "        peak_value = np.max(trace)\n",
        "        half_peak = peak_value/2\n",
        "        duration = np.arange(0,1000)[trace>half_peak] + spkt - 10\n",
        "        ca_df.loc[i,'duration_low'] = duration[0]\n",
        "        ca_df.loc[i,'duration_high'] = duration[-1]\n",
        "        ca_df.loc[i,'peak_value'] = peak_value\n",
        "    else:\n",
        "        ca_df.loc[i,'duration_low'] = np.nan\n",
        "        ca_df.loc[i,'duration_high'] = np.nan\n",
        "        ca_df.loc[i,'peak_value'] = np.nan"
      ]
    },
    {
      "cell_type": "code",
      "execution_count": null,
      "metadata": {
        "id": "4aEdrD8ANB11"
      },
      "outputs": [],
      "source": [
        "#ca_df[~pd.isnull(ca_df.duration_high)]"
      ]
    },
    {
      "cell_type": "code",
      "execution_count": null,
      "metadata": {
        "id": "OJztrWOkNB11"
      },
      "outputs": [],
      "source": [
        "seg = 60\n",
        "lower_bound = 4000\n",
        "#upper_bound = \n",
        "plt.plot(-(hva['i_CaHva'][seg,lower_bound-1000:lower_bound+1000]+\\\n",
        "         lva['i_CaLva'][seg,lower_bound-1000:lower_bound+1000]+\\\n",
        "         ih['ihcn'][seg,lower_bound-1000:lower_bound+1000]))\n",
        "plt.plot(1000,-(hva['i_CaHva'][seg,lower_bound]+\\\n",
        "         lva['i_CaLva'][seg,lower_bound]+\\\n",
        "         ih['ihcn'][seg,lower_bound]),'*')\n",
        "\n",
        "plt.plot(1000+4000-lower_bound,-(hva['i_CaHva'][seg,4000]+\\\n",
        "         lva['i_CaLva'][seg,4000]+\\\n",
        "         ih['ihcn'][seg,4000]),'*')\n",
        "\n",
        "plt.twinx()\n",
        "plt.plot(v['v'][seg,lower_bound-1000:lower_bound+1000],color='k')"
      ]
    },
    {
      "cell_type": "markdown",
      "metadata": {
        "id": "9RJYroxmNB11"
      },
      "source": [
        "----------"
      ]
    },
    {
      "cell_type": "code",
      "source": [
        "#print(ca_df.set_index('segmentID'))\n"
      ],
      "metadata": {
        "id": "RsH9F9uywiiL"
      },
      "execution_count": null,
      "outputs": []
    },
    {
      "cell_type": "code",
      "execution_count": null,
      "metadata": {
        "id": "b8_iTU9BNB11"
      },
      "outputs": [],
      "source": [
        "segs_ca_df = segs.set_index('segmentID').join(ca_df.set_index('segmentID'))\n",
        "#reset_index() \n",
        "#segs_na_df = segs.set_index('segmentID').join(na_df.set_index('segmentID')).reset_index()\n",
        "\n",
        "#print(segs_ca_df[~pd.isnull(ca_df.duration_high)])\n",
        "\n",
        "#segs_ca_df[~pd.isnull(ca_df.duration_high)]"
      ]
    },
    {
      "cell_type": "code",
      "source": [
        "#segs_ca_df"
      ],
      "metadata": {
        "id": "7FIO1X8rOnxm"
      },
      "execution_count": null,
      "outputs": []
    },
    {
      "cell_type": "code",
      "source": [
        "#\n",
        "#print(segs_ca_df)"
      ],
      "metadata": {
        "id": "N_-6kuX_P6ie"
      },
      "execution_count": null,
      "outputs": []
    },
    {
      "cell_type": "code",
      "execution_count": null,
      "metadata": {
        "id": "6Tf1DhxENB11"
      },
      "outputs": [],
      "source": [
        "def get_ca_sta(segs_ca_df, spktimes):\n",
        "\n",
        "    ca_apic = np.zeros((10,39,))\n",
        "    \n",
        "    edges_apic=np.quantile(segs_ca_df[(~pd.isnull(segs_ca_df.ca_lower_bound))&\n",
        "                                       (segs_ca_df.Type=='basal')]['Elec_distance'].unique(),np.arange(0,1.1,0.1))\n",
        "    \n",
        "    \n",
        "    \n",
        "    actual_spktimes = []\n",
        "    c = 0\n",
        "    for i in np.sort(spktimes):\n",
        "        # excludes bursts\n",
        "        if i-c > 10:\n",
        "            for e in np.arange(0,10):\n",
        "                ca_inds = segs_ca_df[(~pd.isnull(segs_ca_df.ca_lower_bound))&\n",
        "                                     (segs_ca_df.Type=='basal')&\n",
        "                                     (segs_ca_df.Elec_distance>edges_apic[e])&\n",
        "                                     (segs_ca_df.Elec_distance<=edges_apic[e+1])]['ca_lower_bound'].values.astype(int)\n",
        "    \n",
        "                x2, _ = np.histogram(ca_inds/10,bins=np.arange(np.floor(i)-20,np.floor(i)+20,1))\n",
        "                ca_apic[e] += x2\n",
        "                \n",
        "                \n",
        "            \n",
        "            actual_spktimes.append(i)\n",
        "        c = i\n",
        "    return ca_apic"
      ]
    },
    {
      "cell_type": "code",
      "execution_count": null,
      "metadata": {
        "id": "rhu1eydiNB11"
      },
      "outputs": [],
      "source": [
        "ca_apic = get_ca_sta(segs_ca_df, spktimes)"
      ]
    },
    {
      "cell_type": "code",
      "execution_count": null,
      "metadata": {
        "id": "EyWIu8b0NB11"
      },
      "outputs": [],
      "source": [
        "rand_spktimes = np.sort(np.random.choice(np.arange(0,150000), spktimes.shape[0]))\n",
        "ca_apic_rand = get_ca_sta(segs_ca_df, rand_spktimes)"
      ]
    },
    {
      "cell_type": "code",
      "execution_count": null,
      "metadata": {
        "id": "gRBfONC9NB11"
      },
      "outputs": [],
      "source": [
        "plt.figure(figsize=(10,10))\n",
        "plt.subplot(2,1,1)\n",
        "plt.title('Ca spikes - apical')\n",
        "plt.imshow((ca_apic-ca_apic_rand)/len(spktimes),cmap='jet')\n",
        "plt.xticks(ticks=np.arange(0,40,2)-0.5,labels=['{}'.format(i) for i in np.arange(-20,20,2)])\n",
        "plt.colorbar(label='events per AP')\n",
        "plt.yticks(ticks=[0,9],labels=['further','closer'])\n",
        "\n",
        "plt.show()"
      ]
    },
    {
      "cell_type": "markdown",
      "metadata": {
        "id": "eKtMzXdpNB11"
      },
      "source": [
        "----------------------"
      ]
    },
    {
      "cell_type": "code",
      "execution_count": null,
      "metadata": {
        "id": "99YYSW4gNB11"
      },
      "outputs": [],
      "source": [
        "#apic_exc = segs_conns[(segs_conns['Source Population']=='exc_stim')&(segs_conns.Type=='apic')].groupby('segmentID')['Conductance'].sum().reset_index()\n",
        "\n",
        "#basal_exc = segs_conns[(segs_conns['Source Population']=='exc_stim')&(segs_conns.Type=='dend')].groupby('segmentID')['Conductance'].sum().reset_index()\n"
      ]
    },
    {
      "cell_type": "code",
      "execution_count": null,
      "metadata": {
        "id": "JVS7UH3LNB11"
      },
      "outputs": [],
      "source": [
        "nmda_df = pd.DataFrame(columns=['segmentID','nmda_lower_bound', 'nmda_upper_bound', 'mag'])\n",
        "for p in segs.index: #[(segs.Type=='dend')|(segs.Type=='apic')]\n",
        "    legit_uc = voltage_criterion(data=v['v'][p,:],v_thresh=-40, time_thresh=10)[1]\n",
        "    legit_dc = voltage_criterion(data=v['v'][p,:],v_thresh=-40, time_thresh=10)[-1]\n",
        "\n",
        "    legit_uc_iso = legit_uc\n",
        "    \n",
        "    legit_dc_iso = legit_dc\n",
        "    \n",
        "  \n",
        "    if (len(legit_uc_iso)!=0) & (np.min(nmda['i_nmda'][p,:])!=0):\n",
        "        \n",
        "        bnds, sum_curr = current_criterion(legit_uc_iso=legit_uc_iso, \n",
        "                                           legit_dc_iso=legit_dc_iso, \n",
        "                                           p=p, \n",
        "                                           control_inmda=nmda['i_nmda'])\n",
        "        nmda_df = nmda_df.append(pd.DataFrame({'segmentID':np.tile(p,len(bnds)),\n",
        "                                               'nmda_lower_bound':np.array(bnds).reshape(-1,2)[:,0],\n",
        "                                               'nmda_upper_bound':np.array(bnds).reshape(-1,2)[:,1],\n",
        "                                               'mag':sum_curr}))\n",
        "    \n",
        "    else:\n",
        "        nmda_df = nmda_df.append(pd.DataFrame({'segmentID':np.tile(p,1),\n",
        "                                               'nmda_lower_bound':np.nan,\n",
        "                                               'nmda_upper_bound':np.nan,\n",
        "                                               'mag':np.nan}))\n",
        "        "
      ]
    },
    {
      "cell_type": "code",
      "source": [
        "print(max(nmda_df.nmda_lower_bound))"
      ],
      "metadata": {
        "id": "rzPrOdQMhP4a"
      },
      "execution_count": null,
      "outputs": []
    },
    {
      "cell_type": "code",
      "execution_count": null,
      "metadata": {
        "id": "5kmRdqwvNB12"
      },
      "outputs": [],
      "source": [
        "nmda_df.to_csv('nmda_df.csv')\n",
        "nmda_df = pd.read_csv('nmda_df.csv')"
      ]
    },
    {
      "cell_type": "code",
      "execution_count": null,
      "metadata": {
        "id": "3_lYhElmNB12"
      },
      "outputs": [],
      "source": [
        "nmda_df.rename(columns={'seg_id':'segmentID'},inplace=True)"
      ]
    },
    {
      "cell_type": "code",
      "execution_count": null,
      "metadata": {
        "id": "THNpAPBeNB12"
      },
      "outputs": [],
      "source": [
        "segs_nmda_df = segs.set_index('segmentID').join(nmda_df.set_index('segmentID')).reset_index()"
      ]
    },
    {
      "cell_type": "code",
      "source": [
        "#print(segs_nmda_df)"
      ],
      "metadata": {
        "id": "nPX-4TsiQy0C"
      },
      "execution_count": null,
      "outputs": []
    },
    {
      "cell_type": "code",
      "source": [
        " print(segs_nmda_df[segs_nmda_df.index==1])\n",
        "\n",
        " print(min(segs_nmda_df.mag))"
      ],
      "metadata": {
        "id": "HSmSCVzigmI7"
      },
      "execution_count": null,
      "outputs": []
    },
    {
      "cell_type": "code",
      "execution_count": null,
      "metadata": {
        "id": "xYbaBWw7NB12"
      },
      "outputs": [],
      "source": [
        "def get_nmda_sta(segs_nmda_df, spktimes):    \n",
        "    nmda_dend = np.zeros((10,27,))\n",
        "    nmda_apic = np.zeros((10,27,))\n",
        "    \n",
        "    edges_dend=np.quantile(segs_nmda_df[(segs_nmda_df.mag<-0.0001)&\n",
        "                                   (segs_nmda_df.Type=='basal')]['Elec_distance'].unique(),np.arange(0,1.1,0.1))\n",
        "    edges_apic=np.quantile(segs_nmda_df[(segs_nmda_df.mag<-0.00001)&\n",
        "                                   (segs_nmda_df.Type=='apic')]['Elec_distance'].unique(),np.arange(0,1.1,0.1))\n",
        "    \n",
        "    actual_spktimes = []\n",
        "    c = 0\n",
        "    for i in np.sort(spktimes):\n",
        "        # excludes bursts\n",
        "        if i-c > 10:\n",
        "            for e in np.arange(0,10):\n",
        "                nmda_inds = segs_nmda_df[(segs_nmda_df.mag<-0.0001)&\n",
        "                                     (segs_nmda_df.Type=='basal')&\n",
        "                                     (segs_nmda_df.Elec_distance>edges_dend[e])&\n",
        "                                     (segs_nmda_df.Elec_distance<=edges_dend[e+1])]['nmda_lower_bound'].values.astype(int)\n",
        "    \n",
        "                x2, _ = np.histogram(nmda_inds/10,bins=np.arange(np.floor(i)-100,np.floor(i)+40,5))\n",
        "                nmda_dend[e] += x2\n",
        "                \n",
        "                nmda_inds = segs_nmda_df[(segs_nmda_df.mag<-0.0001)&\n",
        "                                     (segs_nmda_df.Type=='apic')&\n",
        "                                     (segs_nmda_df.Elec_distance>edges_apic[e])&\n",
        "                                     (segs_nmda_df.Elec_distance<=edges_apic[e+1])]['nmda_lower_bound'].values.astype(int)\n",
        "    \n",
        "                x2, _ = np.histogram(nmda_inds/10,bins=np.arange(np.floor(i)-100,np.floor(i)+40,5))\n",
        "                nmda_apic[e] += x2\n",
        "            \n",
        "            actual_spktimes.append(i)\n",
        "        c = i\n",
        "        \n",
        "    return nmda_dend, nmda_apic"
      ]
    },
    {
      "cell_type": "code",
      "execution_count": null,
      "metadata": {
        "id": "Bdski2xvNB14"
      },
      "outputs": [],
      "source": [
        "nmda_dend, nmda_apic = get_nmda_sta(segs_nmda_df, spktimes)"
      ]
    },
    {
      "cell_type": "code",
      "execution_count": null,
      "metadata": {
        "id": "hDeHvptvNB14"
      },
      "outputs": [],
      "source": [
        "rand_spktimes = np.sort(np.random.choice(np.arange(0,150000), spktimes.shape[0]))"
      ]
    },
    {
      "cell_type": "code",
      "execution_count": null,
      "metadata": {
        "id": "tJNFw3IzNB14"
      },
      "outputs": [],
      "source": [
        "nmda_dend_rand, nmda_apic_rand = get_nmda_sta(segs_nmda_df, rand_spktimes)"
      ]
    },
    {
      "cell_type": "code",
      "execution_count": null,
      "metadata": {
        "id": "p9U87EszNB14"
      },
      "outputs": [],
      "source": [
        "plt.figure(figsize=(10,10))\n",
        "plt.subplot(2,1,1)\n",
        "plt.title('NMDA spikes - apical')\n",
        "plt.imshow((nmda_apic-nmda_apic_rand)/len(spktimes),cmap='jet',vmin=-0.7,vmax=0.7)\n",
        "plt.xticks(ticks=np.arange(0,26,4)-0.5,labels=['{}'.format(i) for i in np.arange(-100,40,20)])\n",
        "plt.yticks(ticks=[0,9],labels=['further','closer'])\n",
        "plt.colorbar(label='additional events per AP')\n",
        "plt.xlabel('time (ms)')\n",
        "plt.xlim(5,26)\n",
        "\n",
        "plt.subplot(2,1,2)\n",
        "plt.title('NMDA spikes - basal')\n",
        "plt.imshow((nmda_dend-nmda_dend_rand)/len(spktimes),cmap='jet', vmin=-0.7, vmax=0.7)\n",
        "plt.xticks(ticks=np.arange(0,26,4)-0.5,labels=['{}'.format(i) for i in np.arange(-100,40,20)])\n",
        "plt.yticks(ticks=[0,9],labels=['further','closer'])\n",
        "plt.colorbar(label='additional events per AP')\n",
        "plt.xlim(5,26)\n",
        "\n",
        "plt.xlabel('time (ms)')\n",
        "plt.show()"
      ]
    },
    {
      "cell_type": "code",
      "execution_count": null,
      "metadata": {
        "id": "NkiYZaAVNB14"
      },
      "outputs": [],
      "source": [
        "total_basal_nmda = sum(segs_nmda_df['segmentID'][segs_nmda_df.Type=='basal'].value_counts())\n",
        "num_basal_seg = len(segs_nmda_df['segmentID'][segs_nmda_df.Type=='basal'].value_counts())\n",
        "\n",
        "total_apic_nmda = sum(segs_nmda_df['segmentID'][segs_nmda_df.Type=='apic'].value_counts())\n",
        "num_apic_seg = sum(segs_nmda_df['segmentID'][segs_nmda_df.Type=='apic'].value_counts())\n",
        "\n",
        "apic_nmda_perSeg_perSec = total_basal_nmda / num_basal_seg\n",
        "basal_ndma_perSeg_perSec = total_apic_nmda / num_apic_seg\n",
        "\n",
        "data = {'basal':basal_ndma_perSeg_perSec, 'apic':apic_nmda_perSeg_perSec}\n",
        "group = list(data.keys())\n",
        "value = list(data.values())\n",
        "\n",
        "fig = plt.figure(figsize = (10, 5))\n",
        "plt.title('NMDA spikes per segment per second')\n",
        "\n",
        "\n",
        "# creating the bar plot\n",
        "plt.barh(group, value, color ='lightseagreen')\n",
        "\n",
        "\n"
      ]
    },
    {
      "cell_type": "code",
      "source": [
        "total_basal_na = sum(segs_na_df['segmentID'][segs_na_df.Type=='basal'].value_counts())\n",
        "num_basal_seg = len(segs_na_df['segmentID'][segs_na_df.Type=='basal'].value_counts())\n",
        "\n",
        "total_apic_na = sum(segs_na_df['segmentID'][segs_na_df.Type=='apic'].value_counts())\n",
        "num_apic_seg = sum(segs_na_df['segmentID'][segs_na_df.Type=='apic'].value_counts())\n",
        "\n",
        "apic_na_perSeg_perSec = total_basal_na / num_basal_seg\n",
        "basal_na_perSeg_perSec = total_apic_na / num_apic_seg\n",
        "\n",
        "\n",
        "data = {'basal':basal_na_perSeg_perSec, 'apic':apic_na_perSeg_perSec}\n",
        "group = list(data.keys())\n",
        "value = list(data.values())\n",
        "\n",
        "fig = plt.figure(figsize = (10, 5))\n",
        " \n",
        "plt.title('Na spikes per segment per second')\n",
        "\n",
        "# creating the bar plot\n",
        "plt.barh(group, value, color ='powderblue')"
      ],
      "metadata": {
        "id": "R1LOM8vsM0jM"
      },
      "execution_count": null,
      "outputs": []
    },
    {
      "cell_type": "code",
      "execution_count": null,
      "metadata": {
        "id": "IGaneUp2NB14"
      },
      "outputs": [],
      "source": [
        "total_basal_ca = sum(segs_ca_df['index'][segs_ca_df.Type=='basal'].value_counts())\n",
        "num_basal_seg = len(segs_ca_df['index'][segs_ca_df.Type=='basal'].value_counts())\n",
        "\n",
        "total_apic_ca = sum(segs_ca_df['index'][segs_ca_df.Type=='apic'].value_counts())\n",
        "num_apic_seg = sum(segs_ca_df['index'][segs_ca_df.Type=='apic'].value_counts())\n",
        "\n",
        "apic_ca_perSeg_perSec = total_basal_ca / num_basal_seg\n",
        "basal_ca_perSeg_perSec = total_apic_ca / num_apic_seg\n",
        "\n",
        "\n",
        "data = {'basal':basal_ca_perSeg_perSec, 'apic':apic_ca_perSeg_perSec}\n",
        "group = list(data.keys())\n",
        "value = list(data.values())\n",
        "\n",
        "fig = plt.figure(figsize = (10, 5))\n",
        "\n",
        "plt.title('Calcium spikes per segment per second')\n",
        "\n",
        " \n",
        "# creating the bar plot\n",
        "plt.barh(group, value, color ='tomato')"
      ]
    },
    {
      "cell_type": "code",
      "execution_count": null,
      "metadata": {
        "id": "Xz5zrTeLNB14"
      },
      "outputs": [],
      "source": [
        "for i in np.arange(0,10):\n",
        "    plt.plot(np.arange(-100,35,5),nmda_dend[i]/np.sum(nmda_dend[i]))\n"
      ]
    },
    {
      "cell_type": "code",
      "execution_count": null,
      "metadata": {
        "id": "2fxamStQNB14"
      },
      "outputs": [],
      "source": [
        "#segs_conns[(segs_conns['Sec ID']==80) & (segs_conns.Type=='dend')]['Source Population'].value_counts()"
      ]
    },
    {
      "cell_type": "code",
      "execution_count": null,
      "metadata": {
        "id": "BOF0dEOxNB14"
      },
      "outputs": [],
      "source": [
        "plt.figure(figsize=(10,10))\n",
        "ind = 55\n",
        "plt.plot(segs['X'], segs['Y'], 'b.')\n",
        "plt.plot(segs.loc[0,'X'], segs.loc[0,'Y'], 'k.',markersize=20)\n",
        "\n",
        "plt.plot(segs.loc[ind,'X'], segs.loc[ind,'Y'], 'r*',markersize=20)\n",
        "\n",
        "for i in segs[(segs.Type=='basal')&(segs['sec']==7)]['sec'].unique():\n",
        "    plt.plot(segs[(segs['sec']==i)&(segs['Type']=='basal')]['X'],\n",
        "             segs[(segs['sec']==i)&(segs['Type']=='basal')]['Y'],color='r')\n",
        "    \n",
        "#for i in segs_conns[(segs_conns.Type=='dend')&(segs_conns['Sec ID']==7)]['Sec ID'].unique():\n",
        "#    plt.plot(segs[(segs['Sec ID']==i)&(segs['Type']=='dend')]['Coord X'],\n",
        "#             segs[(segs['Sec ID']==i)&(segs['Type']=='dend')]['Coord Y'],color='c')\n",
        "    \n",
        "#plt.plot(segs[segs.segmentID==119]['Coord X'], segs[segs.segmentID==119]['Coord Y'],'r*',markersize=14)\n",
        "#plt.plot(segs[segs.segmentID==110]['Coord X'], segs[segs.segmentID==110]['Coord Y'],'r*',markersize=14)\n",
        "#plt.plot(segs[segs.segmentID==103]['Coord X'], segs[segs.segmentID==103]['Coord Y'],'r*',markersize=14)\n",
        "\n",
        "#plt.plot(segs[segs.segmentID==134]['Coord X'], segs[segs.segmentID==134]['Coord Y'],'c*',markersize=14)\n",
        "#plt.ylim(-25,50)\n",
        "#plt.xlim(-150,150)"
      ]
    },
    {
      "cell_type": "code",
      "source": [
        "\n",
        "plt.figure(figsize=(4,10))\n",
        "for i in segs['sec'].unique():  #[exc_syns.Type=='apic']\n",
        "    plt.plot(segs[(segs['sec']==i)]['X'],\n",
        "             segs[(segs['sec']==i)]['Y'],\n",
        "             color= 'k',\n",
        "             linewidth = 2 ) #*segs[(segs.Type=='apic')&(segs['sec']==i)]['Section_diam'].unique())\n",
        "   \n",
        "# for i in exc_syns[exc_syns.Type=='dend']['Sec ID'].unique():\n",
        "#     plt.plot(exc_syns[(exc_syns.Type=='dend')&(exc_syns['Sec ID']==i)]['Coord X'],\n",
        "#          exc_syns[(exc_syns.Type=='dend')&(exc_syns['Sec ID']==i)]['Coord Y'],\n",
        "#              color='k',\n",
        "#              linewidth = 2*exc_syns[(exc_syns.Type=='dend')&(exc_syns['Sec ID']==i)]['Section_diam'].unique())\n",
        "   \n",
        "\n",
        "# plt.scatter(exc_syns[(exc_syns.Type=='soma')&(exc_syns['Sec ID']==0)].loc[2523,'Coord X'],\n",
        "#          exc_syns[(exc_syns.Type=='soma')&(exc_syns['Sec ID']==0)].loc[2523,'Coord Y'],color='k',s=100)\n",
        "# plt.savefig('morphology.svg')"
      ],
      "metadata": {
        "id": "oHOFYp_1EvLH"
      },
      "execution_count": null,
      "outputs": []
    },
    {
      "cell_type": "code",
      "execution_count": null,
      "metadata": {
        "id": "9zDQYXLSNB14"
      },
      "outputs": [],
      "source": [
        "# plt.figure(figsize=(10,10))\n",
        "# plt.plot(f['report']['biophysical']['data'][:,119],color='b')\n",
        "# plt.plot(f['report']['biophysical']['data'][:,110],color='b',alpha=0.5)\n",
        "# plt.plot(f['report']['biophysical']['data'][:,104],color='b',alpha=0.1)\n",
        "\n",
        "# plt.plot(f['report']['biophysical']['data'][:,134],color='c',alpha=1)\n",
        "# plt.plot(f['report']['biophysical']['data'][:,0],'k')\n",
        "# plt.twinx()\n",
        "# plt.plot(h['report']['biophysical']['data'][:,119],color='r')\n",
        "# plt.plot(h['report']['biophysical']['data'][:,110],color='r',alpha=0.5)\n",
        "# plt.plot(h['report']['biophysical']['data'][:,103],color='r',alpha=0.1)\n",
        "\n",
        "# plt.xlim(526519-100,526519+1000)"
      ]
    },
    {
      "cell_type": "code",
      "execution_count": null,
      "metadata": {
        "id": "W_A_QvYTNB14"
      },
      "outputs": [],
      "source": [
        ""
      ]
    },
    {
      "cell_type": "code",
      "execution_count": null,
      "metadata": {
        "id": "3A-K3BM4NB14"
      },
      "outputs": [],
      "source": [
        "# nmda2 = np.zeros((79,))\n",
        "\n",
        "# for i in spktimes:\n",
        "#     nmda_inds2 = np.sort(segs_nmda_df[(segs_nmda_df.Degrees<=3)&\n",
        "#              (~pd.isnull(segs_nmda_df.nmda_lower_bound))&\n",
        "#              (segs_nmda_df.mag<-0.1)&\n",
        "#                 (segs_nmda_df.Type=='dend')]['nmda_lower_bound'].values.astype(int))\n",
        "\n",
        "#     x2, _ = np.histogram(nmda_inds2/10,bins=np.arange(i-40,i+40,1))\n",
        "#     nmda2 += x2\n",
        "    \n",
        "#     #na_inds3 = segs_na_df[(segs_na_df.Degrees==3)&(~pd.isnull(segs_na_df.na_lower_bound))]['na_lower_bound'].values.astype(int)\n",
        "#     #x3, _ = np.histogram(na_inds3/10,bins=np.arange(i-20,i+20,1))\n",
        "#     #na3 += x3\n",
        "    \n",
        "#     #na_inds4 = segs_na_df[(segs_na_df.Degrees==4)&(~pd.isnull(segs_na_df.na_lower_bound))]['na_lower_bound'].values.astype(int)\n",
        "#     #x4, _ = np.histogram(na_inds4/10,bins=np.arange(i-20,i+20,1))\n",
        "#     #na4 += x4\n",
        "    \n",
        "#     #na_inds5 = segs_na_df[(segs_na_df.Degrees==5)&(~pd.isnull(segs_na_df.na_lower_bound))]['na_lower_bound'].values.astype(int)\n",
        "#     #x5, _ = np.histogram(na_inds5/10,bins=np.arange(i-20,i+20,1))\n",
        "#     #na5 += x5\n",
        "    "
      ]
    },
    {
      "cell_type": "code",
      "execution_count": null,
      "metadata": {
        "id": "dcie8oDbNB14"
      },
      "outputs": [],
      "source": [
        "# plt.plot(nmda2)"
      ]
    },
    {
      "cell_type": "code",
      "execution_count": null,
      "metadata": {
        "id": "kzdQns_NNB14"
      },
      "outputs": [],
      "source": [
        ""
      ]
    },
    {
      "cell_type": "code",
      "execution_count": null,
      "metadata": {
        "id": "ORIpsLUfNB14"
      },
      "outputs": [],
      "source": [
        ""
      ]
    },
    {
      "cell_type": "code",
      "execution_count": null,
      "metadata": {
        "id": "4fmNABi0NB15"
      },
      "outputs": [],
      "source": [
        ""
      ]
    },
    {
      "cell_type": "code",
      "execution_count": null,
      "metadata": {
        "id": "Y5WXv8ghNB15"
      },
      "outputs": [],
      "source": [
        "# import matplotlib\n",
        "# font = {'family' : 'normal',\n",
        "#         'weight' : 'normal',\n",
        "#         'size'   : 16}\n",
        "\n",
        "# matplotlib.rc('font', **font)\n",
        "\n",
        "# ind = 1139\n",
        "# plt.figure(figsize=(12,10))\n",
        "# plt.plot(np.arange(0,60000,.1),f['report']['biophysical']['data'][:,ind],color='b',label='dend voltage')\n",
        "# plt.plot(np.arange(0,60000,.1),f['report']['biophysical']['data'][:,0],color='k',alpha=0.3,label='soma voltage')\n",
        "# plt.legend(loc='lower left')\n",
        "# plt.hlines(-40,0,60000,linestyle='dashed')\n",
        "# plt.ylabel('voltage (mV)')\n",
        "# plt.ylim(-85,25)\n",
        "# plt.xlabel('time (ms)')\n",
        "# plt.twinx()\n",
        "# plt.plot(np.arange(0,60000,.1),h['report']['biophysical']['data'][:,ind],color='r',label='inmda dend')\n",
        "# plt.legend(loc='upper right')\n",
        "# plt.plot(np.arange(0,60000,.1)[nmda_df[nmda_df.seg_id==ind]['nmda_lower_bound'].values.astype(int)],\n",
        "#          h['report']['biophysical']['data'][nmda_df[nmda_df.seg_id==ind]['nmda_lower_bound'].values.astype(int),ind],'m*',markersize=20)\n",
        "# plt.plot(np.arange(0,60000,.1)[nmda_df[nmda_df.seg_id==ind]['nmda_upper_bound'].values.astype(int)],\n",
        "#          h['report']['biophysical']['data'][nmda_df[nmda_df.seg_id==ind]['nmda_upper_bound'].values.astype(int),ind],'k*',markersize=20)\n",
        "# plt.ylim(-0.009,0.001)\n",
        "# plt.xlim(37000,39000)\n",
        "# plt.ylabel('current (nA)')\n"
      ]
    },
    {
      "cell_type": "code",
      "execution_count": null,
      "metadata": {
        "id": "Kq9f9ksuNB15"
      },
      "outputs": [],
      "source": [
        "# import matplotlib\n",
        "# font = {'family' : 'normal',\n",
        "#         'weight' : 'normal',\n",
        "#         'size'   : 16}\n",
        "\n",
        "# matplotlib.rc('font', **font)\n",
        "\n",
        "# plt.figure(figsize=(12,10))\n",
        "# plt.plot(np.arange(0,60000,.1),f['report']['biophysical']['data'][:,175],color='b',label='dend voltage')\n",
        "# plt.plot(np.arange(0,60000,.1),f['report']['biophysical']['data'][:,0],color='k',alpha=0.3,label='soma voltage')\n",
        "# plt.legend(loc='lower left')\n",
        "# plt.hlines(-40,0,60000,linestyle='dashed')\n",
        "# plt.ylabel('voltage (mV)')\n",
        "# plt.ylim(-85,25)\n",
        "# plt.xlabel('time (ms)')\n",
        "# plt.twinx()\n",
        "# plt.plot(np.arange(0,60000,.1),h['report']['biophysical']['data'][:,175],color='r',label='inmda dend')\n",
        "# plt.legend(loc='upper right')\n",
        "# plt.plot(np.arange(0,60000,.1)[nmda_df[nmda_df.seg_id==175]['nmda_lower_bound'].values.astype(int)],\n",
        "#          h['report']['biophysical']['data'][nmda_df[nmda_df.seg_id==175]['nmda_lower_bound'].values.astype(int),175],'m*',markersize=20)\n",
        "# plt.plot(np.arange(0,60000,.1)[nmda_df[nmda_df.seg_id==175]['nmda_upper_bound'].values.astype(int)],\n",
        "#          h['report']['biophysical']['data'][nmda_df[nmda_df.seg_id==175]['nmda_upper_bound'].values.astype(int),175],'k*',markersize=20)\n",
        "# plt.xlim(32000,32400)\n",
        "# plt.ylim(-0.009,0.001)\n",
        "# plt.ylabel('current (nA)')\n"
      ]
    },
    {
      "cell_type": "code",
      "execution_count": null,
      "metadata": {
        "id": "gJ-qC8cINB15"
      },
      "outputs": [],
      "source": [
        "nmda_spktimes = nmda_df[nmda_df.mag<-0.1]['nmda_lower_bound']/10\n",
        "n = np.zeros((12,))\n",
        "for i in spktimes:\n",
        "    x,y = np.histogram(nmda_spktimes[(nmda_spktimes>i-30) & (nmda_spktimes<i+30)]-i,bins=np.arange(-30,31,5))\n",
        "    n+=x"
      ]
    },
    {
      "cell_type": "code",
      "execution_count": null,
      "metadata": {
        "id": "YPQmtxM9NB15"
      },
      "outputs": [],
      "source": [
        "np.arange(-30,31,5).shape"
      ]
    },
    {
      "cell_type": "code",
      "execution_count": null,
      "metadata": {
        "id": "gNLY5ReLNB15"
      },
      "outputs": [],
      "source": [
        "plt.plot(np.arange(-30,30,5),n)"
      ]
    },
    {
      "cell_type": "code",
      "execution_count": null,
      "metadata": {
        "id": "VDiK247kNB15"
      },
      "outputs": [],
      "source": [
        "na_spktimes = na_df[~pd.isnull(na_df.na_lower_bound)]['na_lower_bound']/10\n",
        "na = np.zeros((20,))\n",
        "for i in spktimes:\n",
        "    x,y = np.histogram(na_spktimes[(na_spktimes>i-10) & (na_spktimes<i+10)]-i,bins=np.arange(-10,11,1))\n",
        "    na+=x"
      ]
    },
    {
      "cell_type": "code",
      "execution_count": null,
      "metadata": {
        "id": "3kixwHlUNB15"
      },
      "outputs": [],
      "source": [
        "plt.plot(na_df[~pd.isnull(na_df.na_lower_bound)]['na_lower_bound']/10,\n",
        "         na_df[~pd.isnull(na_df.na_lower_bound)]['segmentID'],'*')"
      ]
    },
    {
      "cell_type": "code",
      "execution_count": null,
      "metadata": {
        "id": "fKQnI6ygNB15"
      },
      "outputs": [],
      "source": [
        ""
      ]
    },
    {
      "cell_type": "code",
      "execution_count": null,
      "metadata": {
        "id": "f13ie_BVNB15"
      },
      "outputs": [],
      "source": [
        ""
      ]
    },
    {
      "cell_type": "code",
      "execution_count": null,
      "metadata": {
        "id": "QEBGP5AENB15"
      },
      "outputs": [],
      "source": [
        "plt.plot(nmda_spktimes,np.random.randint(low=0,high=100,size=len(nmda_spktimes)),'.')\n",
        "plt.plot(spktimes,np.tile(40,len(spktimes)),'r*')"
      ]
    },
    {
      "cell_type": "code",
      "execution_count": null,
      "metadata": {
        "id": "SdN9UC8LNB15"
      },
      "outputs": [],
      "source": [
        "x1,_=np.histogram(spktimes,bins=np.arange(0,10000,100))\n",
        "x2,_=np.histogram(nmda_spktimes,bins=np.arange(0,10000,100))"
      ]
    },
    {
      "cell_type": "code",
      "execution_count": null,
      "metadata": {
        "id": "WpGZBaoFNB15"
      },
      "outputs": [],
      "source": [
        "# plt.figure(figsize=(10,8))\n",
        "# plt.plot(np.arange(0,10000,.1),control_v[:,176],color='b')\n",
        "# plt.plot(np.arange(0,10000,.1)[nmda_df.loc[nmda_df.seg_id==175,'nmda_lower_bound'].values.astype(int)],control_v[nmda_df.loc[nmda_df.seg_id==175,'nmda_lower_bound'].values.astype(int),176],'m*')\n",
        "# plt.plot(np.arange(0,10000,.1),control_v[:,0],color='k')\n",
        "# plt.xlim(6000,7000)"
      ]
    },
    {
      "cell_type": "code",
      "execution_count": null,
      "metadata": {
        "id": "l2Hw8QSPNB15"
      },
      "outputs": [],
      "source": [
        ""
      ]
    },
    {
      "cell_type": "code",
      "execution_count": null,
      "metadata": {
        "id": "TinIsUHINB15"
      },
      "outputs": [],
      "source": [
        ""
      ]
    },
    {
      "cell_type": "code",
      "execution_count": null,
      "metadata": {
        "id": "dU6HodE_NB15"
      },
      "outputs": [],
      "source": [
        ""
      ]
    },
    {
      "cell_type": "code",
      "execution_count": null,
      "metadata": {
        "id": "L1yH9BzVNB15"
      },
      "outputs": [],
      "source": [
        ""
      ]
    },
    {
      "cell_type": "code",
      "execution_count": null,
      "metadata": {
        "id": "kxH3OUspNB15"
      },
      "outputs": [],
      "source": [
        "# # ind1 = 3 sent to Drew\n",
        "# ind1 = 2\n",
        "# e1 = control_inmda[legit_uc_iso[ind1], p]\n",
        "# e2 = control_inmda[legit_dc_iso[ind1], p]\n",
        "# x30 = np.argwhere(np.diff(control_inmda[legit_uc_iso[ind1]:legit_dc_iso[ind1], p] < 1.3*e1, prepend=False))\n",
        "# x15 = np.argwhere(np.diff(control_inmda[legit_uc_iso[ind1]:legit_dc_iso[ind1], p] < 1.15*e1, prepend=False))"
      ]
    },
    {
      "cell_type": "code",
      "execution_count": null,
      "metadata": {
        "id": "v9CYe6MgNB15"
      },
      "outputs": [],
      "source": [
        "# import matplotlib\n",
        "# font = {'family' : 'normal',\n",
        "#         'weight' : 'normal',\n",
        "#         'size'   : 16}\n",
        "\n",
        "# matplotlib.rc('font', **font)\n",
        "\n",
        "# plt.figure(figsize=(12,10))\n",
        "# plt.plot(np.arange(0,(legit_dc_iso[ind1]-legit_uc_iso[ind1])/10, 0.1),\n",
        "#          control_inmda[legit_uc_iso[ind1]:legit_dc_iso[ind1], p],color='r',label='inmda @ dend.')\n",
        "# plt.hlines(1.3*e1,0,np.max(np.arange(0,(legit_dc_iso[ind1]-legit_uc_iso[ind1])/10, 0.1)),color='r',alpha=0.2)\n",
        "# plt.hlines(1.15*e1,0,np.max(np.arange(0,(legit_dc_iso[ind1]-legit_uc_iso[ind1])/10, 0.1)),color='r',alpha=0.2)\n",
        "# plt.ylabel('current (nA)')\n",
        "# plt.ylim(-0.010,0)\n",
        "# plt.legend(loc='upper center')\n",
        "# plt.xlabel('time (ms)')\n",
        "# plt.twinx()\n",
        "# plt.plot(np.arange(0,(legit_dc_iso[ind1]-legit_uc_iso[ind1])/10, 0.1),\n",
        "#          control_v[legit_uc_iso[ind1]:legit_dc_iso[ind1],p],color='b',label='dend. volt.')\n",
        "# plt.plot(np.arange(0,(legit_dc_iso[ind1]-legit_uc_iso[ind1])/10, 0.1),\n",
        "#          control_v[legit_uc_iso[ind1]:legit_dc_iso[ind1],0], color='k',label='soma volt.')\n",
        "\n",
        "\n",
        "# for i in np.arange(0,len(bounds)):\n",
        "#     plt.fill_between(np.array([bounds[i][0]/10,bounds[i][1]/10]).reshape(2,),-70,20,color='k',alpha=0.2)\n",
        "#     plt.text(bounds[i][0]/10,-20-(i*10),'{x:.2f}'.format(x=sum_current[i]))\n",
        "# ##plt.fill_between(np.array([bounds[1][0]/10,bounds[1][1]/10]).reshape(2,),-70,20,color='k',alpha=0.2)\n",
        "# ##plt.fill_between(np.array([bounds[2][0]/10,bounds[2][1]/10]).reshape(2,),-70,20,color='k',alpha=0.2)\n",
        "# #plt.hlines(-40,0,np.max(np.arange(0,(legit_uc_iso[ind1+1]-legit_uc_iso[ind1])/10, 0.1)),linestyle='dashed')\n",
        "# ##plt.text(1.5,14,'NMDA\\nspike')\n",
        "# #plt.ylabel('voltage (mV)')\n",
        "# #plt.legend()"
      ]
    },
    {
      "cell_type": "code",
      "execution_count": null,
      "metadata": {
        "id": "thaFPJ0sNB16"
      },
      "outputs": [],
      "source": [
        "# plt.figure(figsize=(12,10))\n",
        "# plt.plot(np.arange(0,10000,.1),control_v[:,p],label='control dend. v')\n",
        "# plt.plot(np.arange(0,10000,.1),NMDAblock_v[:,p],label='NMDA block dend. v')\n",
        "# plt.plot(np.arange(0,10000,.1),control_v[:,0],color='k',label='control soma v')\n",
        "\n",
        "# uc = voltage_criterion(control_v[:,p],-40)[0]\n",
        "\n",
        "\n",
        "# plt.plot(np.arange(0,10000,.1)[uc],control_v[uc,p],'*')\n",
        "# plt.plot(np.arange(0,10000,.1)[legit_uc],control_v[legit_uc,p],'m*')\n",
        "\n",
        "\n",
        "# center = np.floor(legit_uc[np.random.choice(np.arange(0,legit_uc.shape[0]))]/10)\n",
        "\n",
        "# plt.plot([center,center+26],[-80,-80],color='k')\n",
        "# plt.legend(loc='lower left')\n",
        "\n",
        "# plt.twinx()\n",
        "# plt.plot(np.arange(0,10000,.1),control_inmda[:,p],color='r',label='NMDA current')\n",
        "# plt.plot(np.arange(0,10000,.1)[legit_uc],control_inmda[legit_uc, p],'*')\n",
        "# #plt.plot(np.arange(0,10000,.1),control_gna[:,p],color='r',alpha=0.2, label='gNa')\n",
        "# plt.xlim(center-100,center+100)\n",
        "\n",
        "# plt.legend(loc='lower right')\n",
        "# plt.title('{}'.format(legit_uc))"
      ]
    },
    {
      "cell_type": "code",
      "execution_count": null,
      "metadata": {
        "id": "BlCkvLxRNB16"
      },
      "outputs": [],
      "source": [
        "# p = np.random.choice(segs[segs.Type=='apic'].index)\n",
        "# for i in spktimes:\n",
        "#     plt.plot(np.arange(0,20,.1), control_v[int(i*10)-100:int(i*10)+100,p])\n",
        "# plt.vlines(10,-65,0,color='k')\n",
        "# plt.ylim(-65,0)"
      ]
    },
    {
      "cell_type": "code",
      "execution_count": null,
      "metadata": {
        "id": "Z41EM7UdNB16"
      },
      "outputs": [],
      "source": [
        "# p = 829#np.random.choice(segs[segs.Type=='dend'].index)\n",
        "# plt.title('dend {}'.format(p))\n",
        "# plt.plot(control_v[7200:7700,p],label='dend')\n",
        "# plt.plot(control_v[7200:7700,0],label='soma')\n",
        "# plt.hlines(-40,0,500)\n",
        "# plt.twinx()\n",
        "# plt.plot(control_inmda[7200:7700,p],color='r')\n",
        "# plt.legend()"
      ]
    },
    {
      "cell_type": "code",
      "execution_count": null,
      "metadata": {
        "id": "gBLAsZ4GNB16"
      },
      "outputs": [],
      "source": [
        "# control_v[10000,0]"
      ]
    },
    {
      "cell_type": "code",
      "execution_count": null,
      "metadata": {
        "id": "QfHUYZ-FNB16"
      },
      "outputs": [],
      "source": [
        "# plt.hist(control_v[10000,:])"
      ]
    },
    {
      "cell_type": "code",
      "execution_count": null,
      "metadata": {
        "id": "EiQmwS2CNB16"
      },
      "outputs": [],
      "source": [
        "# plt.plot(control_v[:,1200])\n",
        "# plt.plot(NMDAblock_v[:,1200])"
      ]
    },
    {
      "cell_type": "code",
      "execution_count": null,
      "metadata": {
        "id": "TGl3SrlnNB16"
      },
      "outputs": [],
      "source": [
        "# df = ids_pos.set_index(['BMTK ID', 'X']).join(segs.set_index(['BMTK ID', 'X'])).reset_index()"
      ]
    },
    {
      "cell_type": "code",
      "execution_count": null,
      "metadata": {
        "id": "9o05MWQENB16"
      },
      "outputs": [],
      "source": [
        "# df.loc[0,'Distance'], np.mean(f['report']['biophysical']['data'],axis=0)[0]"
      ]
    },
    {
      "cell_type": "code",
      "execution_count": null,
      "metadata": {
        "id": "umujK_OlNB16"
      },
      "outputs": [],
      "source": [
        "# df[(df.Distance>900) & (df.Distance<1000)]"
      ]
    },
    {
      "cell_type": "code",
      "execution_count": null,
      "metadata": {
        "id": "orb5mU9dNB16"
      },
      "outputs": [],
      "source": [
        "# plt.scatter(np.arange(0,df.shape[0]), np.mean(f['report']['biophysical']['data'],axis=0))\n",
        "# plt.xlim(1740,1760)"
      ]
    },
    {
      "cell_type": "code",
      "execution_count": null,
      "metadata": {
        "id": "3jmgPnzNNB16"
      },
      "outputs": [],
      "source": [
        "# plt.figure(figsize=(10,6))\n",
        "# plt.scatter(df['Distance'],np.mean(f['report']['biophysical']['data'],axis=0),alpha=0.2)\n",
        "# plt.scatter(df.loc[0,'Distance'], np.mean(f['report']['biophysical']['data'],axis=0)[0],color='r', marker='*', s=75)\n",
        "# plt.scatter(df.loc[1452,'Distance'], np.mean(f['report']['biophysical']['data'],axis=0)[1452],color='m',marker='*', s=75)\n",
        "# plt.scatter(df.loc[1754,'Distance'], np.mean(f['report']['biophysical']['data'],axis=0)[1754],color='k',marker='*', s=75)\n",
        "# plt.xlabel('distance from soma')\n",
        "# plt.ylabel('mean potential of segment (mV)')"
      ]
    },
    {
      "cell_type": "code",
      "execution_count": null,
      "metadata": {
        "id": "qKQz6k0uNB16"
      },
      "outputs": [],
      "source": [
        "# #plt.scatter(np.arange(0,f['report']['biophysical']['data'].shape[1]),np.mean(f['report']['biophysical']['data'],axis=0))\n",
        "\n",
        "# plt.figure(figsize=(10,6))\n",
        "\n",
        "# plt.plot(np.arange(0,2,0.0001),f['report']['biophysical']['data'][:,0],color='r')\n",
        "# plt.plot(np.arange(0,2,0.0001),f['report']['biophysical']['data'][:,1452],color='m')\n",
        "# plt.plot(np.arange(0,2,0.0001),f['report']['biophysical']['data'][:,1754],color='k')\n",
        "# plt.xlim(1.75,2)\n",
        "# plt.xlabel('time (s)')\n",
        "# plt.ylabel('membrane potential (mV)')"
      ]
    },
    {
      "cell_type": "code",
      "execution_count": null,
      "metadata": {
        "id": "eHGv9wqMNB16"
      },
      "outputs": [],
      "source": [
        ""
      ]
    }
  ],
  "metadata": {
    "kernelspec": {
      "display_name": "Python 3",
      "language": "python",
      "name": "python3"
    },
    "language_info": {
      "codemirror_mode": {
        "name": "ipython",
        "version": 3
      },
      "file_extension": ".py",
      "mimetype": "text/x-python",
      "name": "python",
      "nbconvert_exporter": "python",
      "pygments_lexer": "ipython3",
      "version": "3.6.10"
    },
    "colab": {
      "name": "NMDAExploration reduced.ipynb",
      "provenance": [],
      "collapsed_sections": [],
      "include_colab_link": true
    }
  },
  "nbformat": 4,
  "nbformat_minor": 0
}