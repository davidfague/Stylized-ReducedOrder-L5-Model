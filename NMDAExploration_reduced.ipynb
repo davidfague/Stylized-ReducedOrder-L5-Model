{
  "cells": [
    {
      "cell_type": "markdown",
      "metadata": {
        "id": "view-in-github",
        "colab_type": "text"
      },
      "source": [
        "<a href=\"https://colab.research.google.com/github/davidfague/Stylized-ReducedOrder-L5-Model/blob/main/NMDAExploration_reduced.ipynb\" target=\"_parent\"><img src=\"https://colab.research.google.com/assets/colab-badge.svg\" alt=\"Open In Colab\"/></a>"
      ]
    },
    {
      "cell_type": "code",
      "execution_count": 1,
      "metadata": {
        "id": "_dApD56GNB1u",
        "colab": {
          "base_uri": "https://localhost:8080/"
        },
        "outputId": "dd0129f3-bcbb-41fe-dd3a-922ee0da1cd2"
      },
      "outputs": [
        {
          "output_type": "stream",
          "name": "stdout",
          "text": [
            "Drive already mounted at /content/drive; to attempt to forcibly remount, call drive.mount(\"/content/drive\", force_remount=True).\n",
            "/content/drive/MyDrive/Stylized-Cell-model\n"
          ]
        }
      ],
      "source": [
        "import pandas as pd\n",
        "import h5py\n",
        "import numpy as np\n",
        "import matplotlib.pyplot as plt\n",
        "import seaborn as sns\n",
        "import scipy.signal as ss\n",
        "\n",
        "from google.colab import drive\n",
        "drive.mount('/content/drive')\n",
        "\n",
        "%cd /content/drive/MyDrive/Stylized-Cell-model/\n",
        "\n",
        "def voltage_criterion(data=None, v_thresh=-40, time_thresh=260):\n",
        "    threshold_crossings = np.diff(data > v_thresh, prepend=False)\n",
        "    #print(np.argwhere(threshold_crossings))\n",
        "    upward_crossings = np.argwhere(threshold_crossings)[::2,0]\n",
        "    downward_crossings = np.argwhere(threshold_crossings)[1::2,0]\n",
        "    #print(upward_crossings)\n",
        "    # If length of threshold_crossings is not even\n",
        "    if np.mod(np.argwhere(threshold_crossings).reshape(-1,).shape[0],2)!=0:\n",
        "        legit_up_crossings = upward_crossings[:-1][np.diff(np.argwhere(threshold_crossings).reshape(-1,))[::2]>time_thresh]\n",
        "        print(legit_up_crossings)\n",
        "        legit_down_crossings = downward_crossings[np.diff(np.argwhere(threshold_crossings).reshape(-1,))[::2]>time_thresh]\n",
        "    else:\n",
        "        legit_up_crossings = upward_crossings[np.diff(np.argwhere(threshold_crossings).reshape(-1,))[::2]>time_thresh]\n",
        "        legit_down_crossings = downward_crossings[np.diff(np.argwhere(threshold_crossings).reshape(-1,))[::2]>time_thresh]\n",
        "    return upward_crossings, legit_up_crossings, legit_down_crossings\n",
        "\n",
        "# Input: upward and downward crossings\n",
        "# Output: bounds of NMDA spikes meeting current criterion\n",
        "def current_criterion(legit_uc_iso=[], legit_dc_iso=[], p=1, control_inmda=np.array([1])):\n",
        "    bounds = []\n",
        "    sum_current = []\n",
        "    \n",
        "\n",
        "    for ind1 in np.arange(0,len(legit_uc_iso)):\n",
        "        e1 = control_inmda[p, legit_uc_iso[ind1]] #current @ up_crossing[ind1] # and here\n",
        "        #all the indices where current crosses 130% of e1\n",
        "        x30 = np.argwhere(np.diff(control_inmda[p, legit_uc_iso[ind1]:legit_dc_iso[ind1]] < 1.3*e1, prepend=False))  ## p is swaped in comparision to the full model exploration\n",
        "        #all the indices where current crosses 115% of e1\n",
        "        x15 = np.argwhere(np.diff(control_inmda[p, legit_uc_iso[ind1]:legit_dc_iso[ind1]] < 1.15*e1, prepend=False))  ## and here\n",
        "        \n",
        "        if len(x30)>0:\n",
        "        \n",
        "            x15_copy = x15\n",
        "            x30_copy = x30\n",
        "            \n",
        "            try:\n",
        "                i = x30[0][0]\n",
        "            except:\n",
        "                import pdb; pdb.set_trace()\n",
        "                \n",
        "            n = 0\n",
        "            \n",
        "            \n",
        "            while n==0:\n",
        "                if len(np.sort(x15[x15>i]))!=0:\n",
        "                    b1 = i\n",
        "                    b2 = np.sort(x15[x15>i])[0]\n",
        "                    bounds.append([legit_uc_iso[ind1]+b1,legit_uc_iso[ind1]+b2])\n",
        "                    sum_current.append(np.sum(control_inmda[p, legit_uc_iso[ind1]+b1:legit_uc_iso[ind1]+b2])/10)     #as well as here\n",
        "                else:\n",
        "                    b1 = i\n",
        "                    b2 = (legit_dc_iso[ind1]-legit_uc_iso[ind1])\n",
        "                    bounds.append([legit_uc_iso[ind1]+b1,legit_uc_iso[ind1]+b2])\n",
        "                    sum_current.append(np.sum(control_inmda[p, legit_uc_iso[ind1]+b1:legit_uc_iso[ind1]+b2])/10)     # and here\n",
        "                    n=1\n",
        "                \n",
        "                x30_copy = x30_copy[x30_copy>legit_uc_iso[ind1]+b2]\n",
        "                #import pdb; pdb.set_trace()\n",
        "                \n",
        "                if len(x30_copy)!=0:\n",
        "                    i = x30_copy[x30_copy>b2][0]\n",
        "                else:\n",
        "                    n=1\n",
        "    return bounds, sum_current\n",
        "\n"
      ]
    },
    {
      "cell_type": "code",
      "source": [
        "\n",
        "########"
      ],
      "metadata": {
        "id": "tmAzRhdqNiUG"
      },
      "execution_count": 2,
      "outputs": []
    },
    {
      "cell_type": "code",
      "execution_count": 3,
      "metadata": {
        "id": "TlLiRlPsNB1w",
        "colab": {
          "base_uri": "https://localhost:8080/"
        },
        "outputId": "c2d06210-0e50-429b-85ef-2d9a767379a0"
      },
      "outputs": [
        {
          "output_type": "stream",
          "name": "stdout",
          "text": [
            "<HDF5 dataset \"Segs\": shape (167,), type \"<i8\">\n",
            "RangeIndex(start=0, stop=167, step=1)\n"
          ]
        },
        {
          "output_type": "stream",
          "name": "stderr",
          "text": [
            "/usr/local/lib/python3.7/dist-packages/ipykernel_launcher.py:32: SettingWithCopyWarning: \n",
            "A value is trying to be set on a copy of a slice from a DataFrame\n",
            "\n",
            "See the caveats in the documentation: https://pandas.pydata.org/pandas-docs/stable/user_guide/indexing.html#returning-a-view-versus-a-copy\n",
            "/usr/local/lib/python3.7/dist-packages/pandas/core/indexing.py:1732: SettingWithCopyWarning: \n",
            "A value is trying to be set on a copy of a slice from a DataFrame\n",
            "\n",
            "See the caveats in the documentation: https://pandas.pydata.org/pandas-docs/stable/user_guide/indexing.html#returning-a-view-versus-a-copy\n",
            "  self._setitem_single_block(indexer, value, name)\n"
          ]
        }
      ],
      "source": [
        "segdata = h5py.File('Segments.hdf5','r')\n",
        "exc_syns_per_seg = segdata['neSyn']\n",
        "inh_syns_per_seg = segdata['niSyn']\n",
        "\n",
        "\n",
        "\n",
        "\n",
        "segs = pd.DataFrame(columns=['segmentID','sec','Type','Elec_distance','X','Y'])\n",
        "\n",
        "\n",
        "print(segdata['Segs'])\n",
        "\n",
        "segs.segmentID = segdata['Segs'][:]\n",
        "segs.set_index('segmentID')\n",
        "segs.sec = segdata['sec'][:]\n",
        "segs.Type = [0] * len(segs.index)\n",
        "segs.Elec_distance = segdata['elec_dist'][:]\n",
        "segs.X = segdata['X'][:]\n",
        "segs.Y = segdata['Y'][:]\n",
        "\n",
        "\n",
        "\n",
        "\n",
        "#<=10, 17, >=26 \n",
        "\n",
        "#11, 12, 13, 14, 14, 16, 18, 19, 20, 21, 22, 23, 24, 25\n",
        "\n",
        "for i in segs.index:\n",
        "  if segs.sec[i] >= 11 and segs.sec[i] != 17 and segs.sec[i] <= 25:\n",
        "    segs.Type[i] = 'apic'\n",
        "  elif segs.sec[i] <= 10 or segs.sec[i] == 17 or segs.sec[i] >= 26:\n",
        "    segs.Type[i] = 'basal'\n",
        "  else:\n",
        "    print('fail')\n",
        "\n",
        "\n",
        "print(segs.index)\n"
      ]
    },
    {
      "cell_type": "code",
      "execution_count": 4,
      "metadata": {
        "id": "WCs4nOtGNB1w"
      },
      "outputs": [],
      "source": [
        "#exc_syns_per_seg.head()"
      ]
    },
    {
      "cell_type": "code",
      "execution_count": 5,
      "metadata": {
        "id": "Qhcq4hSTNB1x"
      },
      "outputs": [],
      "source": [
        "v = h5py.File('v_report.hdf5','r')\n",
        "hva = h5py.File('i_CaHva_report.hdf5','r')\n",
        "lva = h5py.File('i_CaLva_report.hdf5','r')\n",
        "ih = h5py.File('ihcn_report.hdf5','r')\n",
        "\n",
        "nmda = h5py.File('i_nmda_report.hdf5','r')\n",
        "\n",
        "na = h5py.File('gNaTa_report.hdf5','r')\n",
        "spks = h5py.File('Spikes.hdf5','r')\n"
      ]
    },
    {
      "cell_type": "code",
      "execution_count": 6,
      "metadata": {
        "id": "cn9OAEDnNB1x",
        "colab": {
          "base_uri": "https://localhost:8080/"
        },
        "outputId": "91e22935-bdfa-4b4a-a96c-753dba3f4d01"
      },
      "outputs": [
        {
          "output_type": "stream",
          "name": "stdout",
          "text": [
            "[ 82.4  90.9  99.3 231.5 290.1 355.3 436.7 528.8 646.2 748.2 847.4 943.1]\n",
            "[ 824  909  993 2315 2901 3553 4367 5288 6462 7481 8473 9430]\n",
            "0.0013362988140198642\n"
          ]
        }
      ],
      "source": [
        "spktimes = np.array(spks['spikes'])\n",
        "print(spktimes)\n",
        "spkinds = np.sort((spktimes*10).astype(int))\n",
        "print(spkinds)\n",
        "print(max(na['gNaTa'][5,:]))\n",
        "\n"
      ]
    },
    {
      "cell_type": "code",
      "source": [
        "apical = []\n",
        "basal = []\n",
        "for i in segs.index:\n",
        "  if segs.Type[i] == 'apic':\n",
        "    apical.append(i)\n",
        "  else:\n",
        "    basal.append(i)\n",
        "\n",
        "\n"
      ],
      "metadata": {
        "id": "nSH989aTk644"
      },
      "execution_count": 7,
      "outputs": []
    },
    {
      "cell_type": "code",
      "source": [
        "#print(na['gNaTa'][p,:]*1000)"
      ],
      "metadata": {
        "id": "rX_KIbHwbtaS"
      },
      "execution_count": 8,
      "outputs": []
    },
    {
      "cell_type": "code",
      "execution_count": 9,
      "metadata": {
        "id": "mgiac2-rNB1x"
      },
      "outputs": [],
      "source": [
        "na_df = pd.DataFrame(columns=['segmentID','na_lower_bound'])\n",
        "\n",
        "for p in (apical + basal):\n",
        "    #print(max(na['gNaTa'][p,:]))\n",
        "    threshold_crossings = np.diff((na['gNaTa'][p,:]*1000) > 0.003, prepend=False)\n",
        "    #print(len(threshold_crossings[threshold_crossings == True]))\n",
        "    upward_crossings = np.argwhere(threshold_crossings)[::2,0]\n",
        "    downward_crossings = np.argwhere(threshold_crossings)[1::2,0]\n",
        "    #print(upward_crossings)\n",
        "    # Only count if not within 2 ms after a somatic spike\n",
        "    na_spks = [i for i in upward_crossings if ~np.any((i-spkinds>=-5) & (i-spkinds<50))]\n",
        "    \n",
        "    if len(na_spks)>0:\n",
        "        #print('if',p)\n",
        "        na_df = na_df.append(pd.DataFrame({'segmentID':p,\n",
        "                                               'na_lower_bound':na_spks}))\n",
        "    else:\n",
        "        #print('else',p)\n",
        "        na_df = na_df.append(pd.DataFrame({'segmentID':p,\n",
        "                                               'na_lower_bound':np.array([np.nan])}))"
      ]
    },
    {
      "cell_type": "code",
      "execution_count": 10,
      "metadata": {
        "id": "Cxp3EPNVNB1x",
        "colab": {
          "base_uri": "https://localhost:8080/"
        },
        "outputId": "ed121d21-595f-482d-8ff4-d75e2f30c5c7"
      },
      "outputs": [
        {
          "output_type": "stream",
          "name": "stdout",
          "text": [
            "     Unnamed: 0  segmentID  na_lower_bound\n",
            "0             0         24           807.0\n",
            "1             1         24          2249.0\n",
            "2             2         24          2295.0\n",
            "3             3         24          2841.0\n",
            "4             4         24          3373.0\n",
            "..          ...        ...             ...\n",
            "875           7        159          5354.0\n",
            "876           8        159          6529.0\n",
            "877           9        159          7554.0\n",
            "878          10        159          8555.0\n",
            "879          11        159          9508.0\n",
            "\n",
            "[880 rows x 3 columns]\n"
          ]
        }
      ],
      "source": [
        "na_df.to_csv('na_df.csv')\n",
        "na_df = pd.read_csv('na_df.csv')\n",
        "print(na_df[(na_df.na_lower_bound>20) & (na_df.na_lower_bound<1400000)])\n",
        "\n"
      ]
    },
    {
      "cell_type": "code",
      "source": [
        "# print(trace>half_peak)\n",
        "# print(len(np.arange(0,20)))\n",
        "\n",
        "# np.arange(0,20)[trace>half_peak]\n",
        "\n"
      ],
      "metadata": {
        "id": "oRTJnQEavQ2J"
      },
      "execution_count": 11,
      "outputs": []
    },
    {
      "cell_type": "code",
      "execution_count": 12,
      "metadata": {
        "id": "3tb3ADA7NB1x"
      },
      "outputs": [],
      "source": [
        "for i in np.random.choice(na_df[(na_df.na_lower_bound>20) & (na_df.na_lower_bound<1400000)].index,10000):\n",
        "    seg = na_df.loc[i,'segmentID']\n",
        "    if not pd.isnull(na_df.loc[i,'na_lower_bound']):\n",
        "        spkt = int(na_df.loc[i,'na_lower_bound'])\n",
        "        trace = na['gNaTa'][seg,spkt-10:spkt+10]\n",
        "        peak_value = np.max(trace)\n",
        "        half_peak = peak_value/2\n",
        "        duration = np.arange(0,20)[trace>half_peak] + spkt - 10\n",
        "        na_df.loc[i,'duration_low'] = duration[0]\n",
        "        na_df.loc[i,'duration_high'] = duration[-1]\n",
        "        na_df.loc[i,'peak_value'] = peak_value\n",
        "    else:\n",
        "        na_df.loc[i,'duration_low'] = np.nan\n",
        "        na_df.loc[i,'duration_high'] = np.nan\n",
        "        na_df.loc[i,'peak_value'] = np.nan"
      ]
    },
    {
      "cell_type": "code",
      "execution_count": 13,
      "metadata": {
        "id": "xxzuXMYvNB1x"
      },
      "outputs": [],
      "source": [
        "na_df['duration'] = (na_df['duration_high'] - na_df['duration_low'] + 1)/10"
      ]
    },
    {
      "cell_type": "code",
      "source": [
        "print(na_df.segmentID)"
      ],
      "metadata": {
        "colab": {
          "base_uri": "https://localhost:8080/"
        },
        "id": "ULFZv1W7w_ox",
        "outputId": "413f8992-cc09-4ad9-fc90-992a62aae0b5"
      },
      "execution_count": 14,
      "outputs": [
        {
          "output_type": "stream",
          "name": "stdout",
          "text": [
            "0       24\n",
            "1       24\n",
            "2       24\n",
            "3       24\n",
            "4       24\n",
            "      ... \n",
            "882    162\n",
            "883    163\n",
            "884    164\n",
            "885    165\n",
            "886    166\n",
            "Name: segmentID, Length: 887, dtype: int64\n"
          ]
        }
      ]
    },
    {
      "cell_type": "code",
      "source": [
        "segs_na_df = segs.set_index('segmentID').join(na_df.set_index('segmentID')).reset_index()"
      ],
      "metadata": {
        "id": "Kq3-S13q1NJY"
      },
      "execution_count": 15,
      "outputs": []
    },
    {
      "cell_type": "code",
      "source": [
        "na_df.set_index('segmentID')\n"
      ],
      "metadata": {
        "colab": {
          "base_uri": "https://localhost:8080/",
          "height": 455
        },
        "id": "Bqn8BKUrwgkI",
        "outputId": "8121d53d-fafc-412d-c941-43d38f4c11e5"
      },
      "execution_count": 16,
      "outputs": [
        {
          "output_type": "execute_result",
          "data": {
            "text/plain": [
              "           Unnamed: 0  na_lower_bound  duration_low  duration_high  \\\n",
              "segmentID                                                            \n",
              "24                  0           807.0         797.0          816.0   \n",
              "24                  1          2249.0        2239.0         2258.0   \n",
              "24                  2          2295.0        2285.0         2304.0   \n",
              "24                  3          2841.0        2831.0         2850.0   \n",
              "24                  4          3373.0        3363.0         3382.0   \n",
              "...               ...             ...           ...            ...   \n",
              "162                 0             NaN           NaN            NaN   \n",
              "163                 0             NaN           NaN            NaN   \n",
              "164                 0             NaN           NaN            NaN   \n",
              "165                 0             NaN           NaN            NaN   \n",
              "166                 0             NaN           NaN            NaN   \n",
              "\n",
              "           peak_value  duration  \n",
              "segmentID                        \n",
              "24           0.000004       2.0  \n",
              "24           0.000003       2.0  \n",
              "24           0.000004       2.0  \n",
              "24           0.000003       2.0  \n",
              "24           0.000004       2.0  \n",
              "...               ...       ...  \n",
              "162               NaN       NaN  \n",
              "163               NaN       NaN  \n",
              "164               NaN       NaN  \n",
              "165               NaN       NaN  \n",
              "166               NaN       NaN  \n",
              "\n",
              "[887 rows x 6 columns]"
            ],
            "text/html": [
              "\n",
              "  <div id=\"df-9a7c017c-db8d-42db-a004-5c6dde945b2c\">\n",
              "    <div class=\"colab-df-container\">\n",
              "      <div>\n",
              "<style scoped>\n",
              "    .dataframe tbody tr th:only-of-type {\n",
              "        vertical-align: middle;\n",
              "    }\n",
              "\n",
              "    .dataframe tbody tr th {\n",
              "        vertical-align: top;\n",
              "    }\n",
              "\n",
              "    .dataframe thead th {\n",
              "        text-align: right;\n",
              "    }\n",
              "</style>\n",
              "<table border=\"1\" class=\"dataframe\">\n",
              "  <thead>\n",
              "    <tr style=\"text-align: right;\">\n",
              "      <th></th>\n",
              "      <th>Unnamed: 0</th>\n",
              "      <th>na_lower_bound</th>\n",
              "      <th>duration_low</th>\n",
              "      <th>duration_high</th>\n",
              "      <th>peak_value</th>\n",
              "      <th>duration</th>\n",
              "    </tr>\n",
              "    <tr>\n",
              "      <th>segmentID</th>\n",
              "      <th></th>\n",
              "      <th></th>\n",
              "      <th></th>\n",
              "      <th></th>\n",
              "      <th></th>\n",
              "      <th></th>\n",
              "    </tr>\n",
              "  </thead>\n",
              "  <tbody>\n",
              "    <tr>\n",
              "      <th>24</th>\n",
              "      <td>0</td>\n",
              "      <td>807.0</td>\n",
              "      <td>797.0</td>\n",
              "      <td>816.0</td>\n",
              "      <td>0.000004</td>\n",
              "      <td>2.0</td>\n",
              "    </tr>\n",
              "    <tr>\n",
              "      <th>24</th>\n",
              "      <td>1</td>\n",
              "      <td>2249.0</td>\n",
              "      <td>2239.0</td>\n",
              "      <td>2258.0</td>\n",
              "      <td>0.000003</td>\n",
              "      <td>2.0</td>\n",
              "    </tr>\n",
              "    <tr>\n",
              "      <th>24</th>\n",
              "      <td>2</td>\n",
              "      <td>2295.0</td>\n",
              "      <td>2285.0</td>\n",
              "      <td>2304.0</td>\n",
              "      <td>0.000004</td>\n",
              "      <td>2.0</td>\n",
              "    </tr>\n",
              "    <tr>\n",
              "      <th>24</th>\n",
              "      <td>3</td>\n",
              "      <td>2841.0</td>\n",
              "      <td>2831.0</td>\n",
              "      <td>2850.0</td>\n",
              "      <td>0.000003</td>\n",
              "      <td>2.0</td>\n",
              "    </tr>\n",
              "    <tr>\n",
              "      <th>24</th>\n",
              "      <td>4</td>\n",
              "      <td>3373.0</td>\n",
              "      <td>3363.0</td>\n",
              "      <td>3382.0</td>\n",
              "      <td>0.000004</td>\n",
              "      <td>2.0</td>\n",
              "    </tr>\n",
              "    <tr>\n",
              "      <th>...</th>\n",
              "      <td>...</td>\n",
              "      <td>...</td>\n",
              "      <td>...</td>\n",
              "      <td>...</td>\n",
              "      <td>...</td>\n",
              "      <td>...</td>\n",
              "    </tr>\n",
              "    <tr>\n",
              "      <th>162</th>\n",
              "      <td>0</td>\n",
              "      <td>NaN</td>\n",
              "      <td>NaN</td>\n",
              "      <td>NaN</td>\n",
              "      <td>NaN</td>\n",
              "      <td>NaN</td>\n",
              "    </tr>\n",
              "    <tr>\n",
              "      <th>163</th>\n",
              "      <td>0</td>\n",
              "      <td>NaN</td>\n",
              "      <td>NaN</td>\n",
              "      <td>NaN</td>\n",
              "      <td>NaN</td>\n",
              "      <td>NaN</td>\n",
              "    </tr>\n",
              "    <tr>\n",
              "      <th>164</th>\n",
              "      <td>0</td>\n",
              "      <td>NaN</td>\n",
              "      <td>NaN</td>\n",
              "      <td>NaN</td>\n",
              "      <td>NaN</td>\n",
              "      <td>NaN</td>\n",
              "    </tr>\n",
              "    <tr>\n",
              "      <th>165</th>\n",
              "      <td>0</td>\n",
              "      <td>NaN</td>\n",
              "      <td>NaN</td>\n",
              "      <td>NaN</td>\n",
              "      <td>NaN</td>\n",
              "      <td>NaN</td>\n",
              "    </tr>\n",
              "    <tr>\n",
              "      <th>166</th>\n",
              "      <td>0</td>\n",
              "      <td>NaN</td>\n",
              "      <td>NaN</td>\n",
              "      <td>NaN</td>\n",
              "      <td>NaN</td>\n",
              "      <td>NaN</td>\n",
              "    </tr>\n",
              "  </tbody>\n",
              "</table>\n",
              "<p>887 rows × 6 columns</p>\n",
              "</div>\n",
              "      <button class=\"colab-df-convert\" onclick=\"convertToInteractive('df-9a7c017c-db8d-42db-a004-5c6dde945b2c')\"\n",
              "              title=\"Convert this dataframe to an interactive table.\"\n",
              "              style=\"display:none;\">\n",
              "        \n",
              "  <svg xmlns=\"http://www.w3.org/2000/svg\" height=\"24px\"viewBox=\"0 0 24 24\"\n",
              "       width=\"24px\">\n",
              "    <path d=\"M0 0h24v24H0V0z\" fill=\"none\"/>\n",
              "    <path d=\"M18.56 5.44l.94 2.06.94-2.06 2.06-.94-2.06-.94-.94-2.06-.94 2.06-2.06.94zm-11 1L8.5 8.5l.94-2.06 2.06-.94-2.06-.94L8.5 2.5l-.94 2.06-2.06.94zm10 10l.94 2.06.94-2.06 2.06-.94-2.06-.94-.94-2.06-.94 2.06-2.06.94z\"/><path d=\"M17.41 7.96l-1.37-1.37c-.4-.4-.92-.59-1.43-.59-.52 0-1.04.2-1.43.59L10.3 9.45l-7.72 7.72c-.78.78-.78 2.05 0 2.83L4 21.41c.39.39.9.59 1.41.59.51 0 1.02-.2 1.41-.59l7.78-7.78 2.81-2.81c.8-.78.8-2.07 0-2.86zM5.41 20L4 18.59l7.72-7.72 1.47 1.35L5.41 20z\"/>\n",
              "  </svg>\n",
              "      </button>\n",
              "      \n",
              "  <style>\n",
              "    .colab-df-container {\n",
              "      display:flex;\n",
              "      flex-wrap:wrap;\n",
              "      gap: 12px;\n",
              "    }\n",
              "\n",
              "    .colab-df-convert {\n",
              "      background-color: #E8F0FE;\n",
              "      border: none;\n",
              "      border-radius: 50%;\n",
              "      cursor: pointer;\n",
              "      display: none;\n",
              "      fill: #1967D2;\n",
              "      height: 32px;\n",
              "      padding: 0 0 0 0;\n",
              "      width: 32px;\n",
              "    }\n",
              "\n",
              "    .colab-df-convert:hover {\n",
              "      background-color: #E2EBFA;\n",
              "      box-shadow: 0px 1px 2px rgba(60, 64, 67, 0.3), 0px 1px 3px 1px rgba(60, 64, 67, 0.15);\n",
              "      fill: #174EA6;\n",
              "    }\n",
              "\n",
              "    [theme=dark] .colab-df-convert {\n",
              "      background-color: #3B4455;\n",
              "      fill: #D2E3FC;\n",
              "    }\n",
              "\n",
              "    [theme=dark] .colab-df-convert:hover {\n",
              "      background-color: #434B5C;\n",
              "      box-shadow: 0px 1px 3px 1px rgba(0, 0, 0, 0.15);\n",
              "      filter: drop-shadow(0px 1px 2px rgba(0, 0, 0, 0.3));\n",
              "      fill: #FFFFFF;\n",
              "    }\n",
              "  </style>\n",
              "\n",
              "      <script>\n",
              "        const buttonEl =\n",
              "          document.querySelector('#df-9a7c017c-db8d-42db-a004-5c6dde945b2c button.colab-df-convert');\n",
              "        buttonEl.style.display =\n",
              "          google.colab.kernel.accessAllowed ? 'block' : 'none';\n",
              "\n",
              "        async function convertToInteractive(key) {\n",
              "          const element = document.querySelector('#df-9a7c017c-db8d-42db-a004-5c6dde945b2c');\n",
              "          const dataTable =\n",
              "            await google.colab.kernel.invokeFunction('convertToInteractive',\n",
              "                                                     [key], {});\n",
              "          if (!dataTable) return;\n",
              "\n",
              "          const docLinkHtml = 'Like what you see? Visit the ' +\n",
              "            '<a target=\"_blank\" href=https://colab.research.google.com/notebooks/data_table.ipynb>data table notebook</a>'\n",
              "            + ' to learn more about interactive tables.';\n",
              "          element.innerHTML = '';\n",
              "          dataTable['output_type'] = 'display_data';\n",
              "          await google.colab.output.renderOutput(dataTable, element);\n",
              "          const docLink = document.createElement('div');\n",
              "          docLink.innerHTML = docLinkHtml;\n",
              "          element.appendChild(docLink);\n",
              "        }\n",
              "      </script>\n",
              "    </div>\n",
              "  </div>\n",
              "  "
            ]
          },
          "metadata": {},
          "execution_count": 16
        }
      ]
    },
    {
      "cell_type": "code",
      "execution_count": 17,
      "metadata": {
        "id": "oXYYpG_uNB1x",
        "colab": {
          "base_uri": "https://localhost:8080/",
          "height": 424
        },
        "outputId": "f8825dda-bd3c-46c7-88a1-751d7a2ee13e"
      },
      "outputs": [
        {
          "output_type": "execute_result",
          "data": {
            "text/plain": [
              "     segmentID   sec   Type  Elec_distance    X    Y  Unnamed: 0  \\\n",
              "0            0   1.0  basal       0.999988  0.0  0.0           0   \n",
              "1            0   1.0  basal       0.999988  0.0  0.0           1   \n",
              "2            0   1.0  basal       0.999988  0.0  0.0           2   \n",
              "3            0   1.0  basal       0.999988  0.0  0.0           3   \n",
              "4            0   1.0  basal       0.999988  0.0  0.0           4   \n",
              "..         ...   ...    ...            ...  ...  ...         ...   \n",
              "875        159  33.0  basal       0.999988  0.0  0.0           7   \n",
              "876        159  33.0  basal       0.999988  0.0  0.0           8   \n",
              "877        159  33.0  basal       0.999988  0.0  0.0           9   \n",
              "878        159  33.0  basal       0.999988  0.0  0.0          10   \n",
              "879        159  33.0  basal       0.999988  0.0  0.0          11   \n",
              "\n",
              "     na_lower_bound  duration_low  duration_high  peak_value  duration  \n",
              "0             696.0         686.0          705.0    0.000004       2.0  \n",
              "1            1881.0        1871.0         1890.0    0.000003       2.0  \n",
              "2            2618.0        2608.0         2627.0    0.000003       2.0  \n",
              "3            3271.0        3261.0         3280.0    0.000003       2.0  \n",
              "4            3896.0        3886.0         3905.0    0.000003       2.0  \n",
              "..              ...           ...            ...         ...       ...  \n",
              "875          5354.0        5347.0         5363.0    0.000004       1.7  \n",
              "876          6529.0        6522.0         6538.0    0.000004       1.7  \n",
              "877          7554.0        7544.0         7563.0    0.000004       2.0  \n",
              "878          8555.0        8545.0         8564.0    0.000003       2.0  \n",
              "879          9508.0        9498.0         9517.0    0.000003       2.0  \n",
              "\n",
              "[389 rows x 12 columns]"
            ],
            "text/html": [
              "\n",
              "  <div id=\"df-2e480211-7fa3-4cb2-ab4b-b35b0084636e\">\n",
              "    <div class=\"colab-df-container\">\n",
              "      <div>\n",
              "<style scoped>\n",
              "    .dataframe tbody tr th:only-of-type {\n",
              "        vertical-align: middle;\n",
              "    }\n",
              "\n",
              "    .dataframe tbody tr th {\n",
              "        vertical-align: top;\n",
              "    }\n",
              "\n",
              "    .dataframe thead th {\n",
              "        text-align: right;\n",
              "    }\n",
              "</style>\n",
              "<table border=\"1\" class=\"dataframe\">\n",
              "  <thead>\n",
              "    <tr style=\"text-align: right;\">\n",
              "      <th></th>\n",
              "      <th>segmentID</th>\n",
              "      <th>sec</th>\n",
              "      <th>Type</th>\n",
              "      <th>Elec_distance</th>\n",
              "      <th>X</th>\n",
              "      <th>Y</th>\n",
              "      <th>Unnamed: 0</th>\n",
              "      <th>na_lower_bound</th>\n",
              "      <th>duration_low</th>\n",
              "      <th>duration_high</th>\n",
              "      <th>peak_value</th>\n",
              "      <th>duration</th>\n",
              "    </tr>\n",
              "  </thead>\n",
              "  <tbody>\n",
              "    <tr>\n",
              "      <th>0</th>\n",
              "      <td>0</td>\n",
              "      <td>1.0</td>\n",
              "      <td>basal</td>\n",
              "      <td>0.999988</td>\n",
              "      <td>0.0</td>\n",
              "      <td>0.0</td>\n",
              "      <td>0</td>\n",
              "      <td>696.0</td>\n",
              "      <td>686.0</td>\n",
              "      <td>705.0</td>\n",
              "      <td>0.000004</td>\n",
              "      <td>2.0</td>\n",
              "    </tr>\n",
              "    <tr>\n",
              "      <th>1</th>\n",
              "      <td>0</td>\n",
              "      <td>1.0</td>\n",
              "      <td>basal</td>\n",
              "      <td>0.999988</td>\n",
              "      <td>0.0</td>\n",
              "      <td>0.0</td>\n",
              "      <td>1</td>\n",
              "      <td>1881.0</td>\n",
              "      <td>1871.0</td>\n",
              "      <td>1890.0</td>\n",
              "      <td>0.000003</td>\n",
              "      <td>2.0</td>\n",
              "    </tr>\n",
              "    <tr>\n",
              "      <th>2</th>\n",
              "      <td>0</td>\n",
              "      <td>1.0</td>\n",
              "      <td>basal</td>\n",
              "      <td>0.999988</td>\n",
              "      <td>0.0</td>\n",
              "      <td>0.0</td>\n",
              "      <td>2</td>\n",
              "      <td>2618.0</td>\n",
              "      <td>2608.0</td>\n",
              "      <td>2627.0</td>\n",
              "      <td>0.000003</td>\n",
              "      <td>2.0</td>\n",
              "    </tr>\n",
              "    <tr>\n",
              "      <th>3</th>\n",
              "      <td>0</td>\n",
              "      <td>1.0</td>\n",
              "      <td>basal</td>\n",
              "      <td>0.999988</td>\n",
              "      <td>0.0</td>\n",
              "      <td>0.0</td>\n",
              "      <td>3</td>\n",
              "      <td>3271.0</td>\n",
              "      <td>3261.0</td>\n",
              "      <td>3280.0</td>\n",
              "      <td>0.000003</td>\n",
              "      <td>2.0</td>\n",
              "    </tr>\n",
              "    <tr>\n",
              "      <th>4</th>\n",
              "      <td>0</td>\n",
              "      <td>1.0</td>\n",
              "      <td>basal</td>\n",
              "      <td>0.999988</td>\n",
              "      <td>0.0</td>\n",
              "      <td>0.0</td>\n",
              "      <td>4</td>\n",
              "      <td>3896.0</td>\n",
              "      <td>3886.0</td>\n",
              "      <td>3905.0</td>\n",
              "      <td>0.000003</td>\n",
              "      <td>2.0</td>\n",
              "    </tr>\n",
              "    <tr>\n",
              "      <th>...</th>\n",
              "      <td>...</td>\n",
              "      <td>...</td>\n",
              "      <td>...</td>\n",
              "      <td>...</td>\n",
              "      <td>...</td>\n",
              "      <td>...</td>\n",
              "      <td>...</td>\n",
              "      <td>...</td>\n",
              "      <td>...</td>\n",
              "      <td>...</td>\n",
              "      <td>...</td>\n",
              "      <td>...</td>\n",
              "    </tr>\n",
              "    <tr>\n",
              "      <th>875</th>\n",
              "      <td>159</td>\n",
              "      <td>33.0</td>\n",
              "      <td>basal</td>\n",
              "      <td>0.999988</td>\n",
              "      <td>0.0</td>\n",
              "      <td>0.0</td>\n",
              "      <td>7</td>\n",
              "      <td>5354.0</td>\n",
              "      <td>5347.0</td>\n",
              "      <td>5363.0</td>\n",
              "      <td>0.000004</td>\n",
              "      <td>1.7</td>\n",
              "    </tr>\n",
              "    <tr>\n",
              "      <th>876</th>\n",
              "      <td>159</td>\n",
              "      <td>33.0</td>\n",
              "      <td>basal</td>\n",
              "      <td>0.999988</td>\n",
              "      <td>0.0</td>\n",
              "      <td>0.0</td>\n",
              "      <td>8</td>\n",
              "      <td>6529.0</td>\n",
              "      <td>6522.0</td>\n",
              "      <td>6538.0</td>\n",
              "      <td>0.000004</td>\n",
              "      <td>1.7</td>\n",
              "    </tr>\n",
              "    <tr>\n",
              "      <th>877</th>\n",
              "      <td>159</td>\n",
              "      <td>33.0</td>\n",
              "      <td>basal</td>\n",
              "      <td>0.999988</td>\n",
              "      <td>0.0</td>\n",
              "      <td>0.0</td>\n",
              "      <td>9</td>\n",
              "      <td>7554.0</td>\n",
              "      <td>7544.0</td>\n",
              "      <td>7563.0</td>\n",
              "      <td>0.000004</td>\n",
              "      <td>2.0</td>\n",
              "    </tr>\n",
              "    <tr>\n",
              "      <th>878</th>\n",
              "      <td>159</td>\n",
              "      <td>33.0</td>\n",
              "      <td>basal</td>\n",
              "      <td>0.999988</td>\n",
              "      <td>0.0</td>\n",
              "      <td>0.0</td>\n",
              "      <td>10</td>\n",
              "      <td>8555.0</td>\n",
              "      <td>8545.0</td>\n",
              "      <td>8564.0</td>\n",
              "      <td>0.000003</td>\n",
              "      <td>2.0</td>\n",
              "    </tr>\n",
              "    <tr>\n",
              "      <th>879</th>\n",
              "      <td>159</td>\n",
              "      <td>33.0</td>\n",
              "      <td>basal</td>\n",
              "      <td>0.999988</td>\n",
              "      <td>0.0</td>\n",
              "      <td>0.0</td>\n",
              "      <td>11</td>\n",
              "      <td>9508.0</td>\n",
              "      <td>9498.0</td>\n",
              "      <td>9517.0</td>\n",
              "      <td>0.000003</td>\n",
              "      <td>2.0</td>\n",
              "    </tr>\n",
              "  </tbody>\n",
              "</table>\n",
              "<p>389 rows × 12 columns</p>\n",
              "</div>\n",
              "      <button class=\"colab-df-convert\" onclick=\"convertToInteractive('df-2e480211-7fa3-4cb2-ab4b-b35b0084636e')\"\n",
              "              title=\"Convert this dataframe to an interactive table.\"\n",
              "              style=\"display:none;\">\n",
              "        \n",
              "  <svg xmlns=\"http://www.w3.org/2000/svg\" height=\"24px\"viewBox=\"0 0 24 24\"\n",
              "       width=\"24px\">\n",
              "    <path d=\"M0 0h24v24H0V0z\" fill=\"none\"/>\n",
              "    <path d=\"M18.56 5.44l.94 2.06.94-2.06 2.06-.94-2.06-.94-.94-2.06-.94 2.06-2.06.94zm-11 1L8.5 8.5l.94-2.06 2.06-.94-2.06-.94L8.5 2.5l-.94 2.06-2.06.94zm10 10l.94 2.06.94-2.06 2.06-.94-2.06-.94-.94-2.06-.94 2.06-2.06.94z\"/><path d=\"M17.41 7.96l-1.37-1.37c-.4-.4-.92-.59-1.43-.59-.52 0-1.04.2-1.43.59L10.3 9.45l-7.72 7.72c-.78.78-.78 2.05 0 2.83L4 21.41c.39.39.9.59 1.41.59.51 0 1.02-.2 1.41-.59l7.78-7.78 2.81-2.81c.8-.78.8-2.07 0-2.86zM5.41 20L4 18.59l7.72-7.72 1.47 1.35L5.41 20z\"/>\n",
              "  </svg>\n",
              "      </button>\n",
              "      \n",
              "  <style>\n",
              "    .colab-df-container {\n",
              "      display:flex;\n",
              "      flex-wrap:wrap;\n",
              "      gap: 12px;\n",
              "    }\n",
              "\n",
              "    .colab-df-convert {\n",
              "      background-color: #E8F0FE;\n",
              "      border: none;\n",
              "      border-radius: 50%;\n",
              "      cursor: pointer;\n",
              "      display: none;\n",
              "      fill: #1967D2;\n",
              "      height: 32px;\n",
              "      padding: 0 0 0 0;\n",
              "      width: 32px;\n",
              "    }\n",
              "\n",
              "    .colab-df-convert:hover {\n",
              "      background-color: #E2EBFA;\n",
              "      box-shadow: 0px 1px 2px rgba(60, 64, 67, 0.3), 0px 1px 3px 1px rgba(60, 64, 67, 0.15);\n",
              "      fill: #174EA6;\n",
              "    }\n",
              "\n",
              "    [theme=dark] .colab-df-convert {\n",
              "      background-color: #3B4455;\n",
              "      fill: #D2E3FC;\n",
              "    }\n",
              "\n",
              "    [theme=dark] .colab-df-convert:hover {\n",
              "      background-color: #434B5C;\n",
              "      box-shadow: 0px 1px 3px 1px rgba(0, 0, 0, 0.15);\n",
              "      filter: drop-shadow(0px 1px 2px rgba(0, 0, 0, 0.3));\n",
              "      fill: #FFFFFF;\n",
              "    }\n",
              "  </style>\n",
              "\n",
              "      <script>\n",
              "        const buttonEl =\n",
              "          document.querySelector('#df-2e480211-7fa3-4cb2-ab4b-b35b0084636e button.colab-df-convert');\n",
              "        buttonEl.style.display =\n",
              "          google.colab.kernel.accessAllowed ? 'block' : 'none';\n",
              "\n",
              "        async function convertToInteractive(key) {\n",
              "          const element = document.querySelector('#df-2e480211-7fa3-4cb2-ab4b-b35b0084636e');\n",
              "          const dataTable =\n",
              "            await google.colab.kernel.invokeFunction('convertToInteractive',\n",
              "                                                     [key], {});\n",
              "          if (!dataTable) return;\n",
              "\n",
              "          const docLinkHtml = 'Like what you see? Visit the ' +\n",
              "            '<a target=\"_blank\" href=https://colab.research.google.com/notebooks/data_table.ipynb>data table notebook</a>'\n",
              "            + ' to learn more about interactive tables.';\n",
              "          element.innerHTML = '';\n",
              "          dataTable['output_type'] = 'display_data';\n",
              "          await google.colab.output.renderOutput(dataTable, element);\n",
              "          const docLink = document.createElement('div');\n",
              "          docLink.innerHTML = docLinkHtml;\n",
              "          element.appendChild(docLink);\n",
              "        }\n",
              "      </script>\n",
              "    </div>\n",
              "  </div>\n",
              "  "
            ]
          },
          "metadata": {},
          "execution_count": 17
        }
      ],
      "source": [
        "segs_na_df[(~pd.isnull(segs_na_df.na_lower_bound))&(segs_na_df.Type=='basal')]"
      ]
    },
    {
      "cell_type": "code",
      "execution_count": 18,
      "metadata": {
        "id": "uUlmNAWpNB1x"
      },
      "outputs": [],
      "source": [
        "def get_sta(segs_na_df, spktimes):\n",
        "    na_dend = np.zeros((10,39,))\n",
        "    na_apic = np.zeros((10,39,))\n",
        "    \n",
        "    edges_dend=np.quantile(segs_na_df[(~pd.isnull(segs_na_df.na_lower_bound))&\n",
        "                                       (segs_na_df.Type=='basal')]['Elec_distance'].unique(),np.arange(0,1.1,0.1))\n",
        "    \n",
        "    edges_apic=np.quantile(segs_na_df[(~pd.isnull(segs_na_df.na_lower_bound))&\n",
        "                                       (segs_na_df.Type=='apic')]['Elec_distance'].unique(),np.arange(0,1.1,0.1))\n",
        "    \n",
        "    actual_spktimes = []\n",
        "    c = 0\n",
        "    \n",
        "    for i in np.sort(spktimes):\n",
        "        # excludes bursts\n",
        "        if i-c > 10:\n",
        "            for e in np.arange(0,10):\n",
        "                na_inds = segs_na_df[(~pd.isnull(segs_na_df.na_lower_bound))&\n",
        "                                     (segs_na_df.Type=='basal')&\n",
        "                                     (segs_na_df.Elec_distance>edges_dend[e])&\n",
        "                                     (segs_na_df.Elec_distance<=edges_dend[e+1])]['na_lower_bound'].values.astype(int)\n",
        "    \n",
        "                x2, _ = np.histogram(na_inds/10,bins=np.arange(np.floor(i)-20,np.floor(i)+20,1))\n",
        "                na_dend[e] += x2\n",
        "                \n",
        "                na_inds = segs_na_df[(~pd.isnull(segs_na_df.na_lower_bound))&\n",
        "                                     (segs_na_df.Type=='apic')&\n",
        "                                     (segs_na_df.Elec_distance>edges_apic[e])&\n",
        "                                     (segs_na_df.Elec_distance<=edges_apic[e+1])]['na_lower_bound'].values.astype(int)\n",
        "    \n",
        "                x2, _ = np.histogram(na_inds/10,bins=np.arange(np.floor(i)-20,np.floor(i)+20,1))\n",
        "                na_apic[e] += x2\n",
        "            \n",
        "            actual_spktimes.append(i)\n",
        "        c = i\n",
        "    return na_dend, na_apic"
      ]
    },
    {
      "cell_type": "code",
      "execution_count": 19,
      "metadata": {
        "id": "L3a6d_rbNB1y"
      },
      "outputs": [],
      "source": [
        "na_dend, na_apic = get_sta(segs_na_df, spktimes)"
      ]
    },
    {
      "cell_type": "code",
      "execution_count": 20,
      "metadata": {
        "id": "Pis-Qe_yNB1y"
      },
      "outputs": [],
      "source": [
        "rand_spktimes = np.sort(np.random.choice(np.arange(0,150000), spktimes.shape[0]))"
      ]
    },
    {
      "cell_type": "code",
      "execution_count": 21,
      "metadata": {
        "id": "1Xd7oTGhNB1y"
      },
      "outputs": [],
      "source": [
        "na_dend_rand, na_apic_rand = get_sta(segs_na_df, rand_spktimes)"
      ]
    },
    {
      "cell_type": "code",
      "execution_count": 22,
      "metadata": {
        "id": "tzxe3xGuNB1y",
        "colab": {
          "base_uri": "https://localhost:8080/",
          "height": 580
        },
        "outputId": "16194626-959f-481e-d598-1b53ef702458"
      },
      "outputs": [
        {
          "output_type": "display_data",
          "data": {
            "text/plain": [
              "<Figure size 720x720 with 4 Axes>"
            ],
            "image/png": "[encoded data removed]"
          },
          "metadata": {
            "needs_background": "light"
          }
        }
      ],
      "source": [
        "plt.figure(figsize=(10,10))\n",
        "plt.subplot(2,1,1)\n",
        "plt.title('Na spikes - apical')\n",
        "plt.imshow((na_apic-na_apic_rand)/len(spktimes),cmap='jet',vmin=-0.5)\n",
        "plt.colorbar(label='additional events per AP')\n",
        "plt.xticks(ticks=np.arange(0,40,5)-0.5,labels=['{}'.format(i) for i in np.arange(-20,20,5)])\n",
        "plt.yticks(ticks=[0,9],labels=['further','closer'])\n",
        "plt.xlim(5,35)\n",
        "\n",
        "plt.subplot(2,1,2)\n",
        "plt.title('Na spikes - basal')\n",
        "plt.imshow((na_dend-na_dend_rand)/len(spktimes),cmap='jet',vmin=-0.2, vmax=0.2)\n",
        "plt.colorbar(label='additional events per AP')\n",
        "plt.xticks(ticks=np.arange(0,40,5)-0.5,labels=['{}'.format(i) for i in np.arange(-20,20,5)])\n",
        "plt.yticks(ticks=[0,9],labels=['further','closer'])\n",
        "plt.xlabel('time(ms)')\n",
        "plt.xlim(5,35)\n",
        "\n",
        "plt.show()"
      ]
    },
    {
      "cell_type": "markdown",
      "metadata": {
        "id": "JubcPqw9NB1y"
      },
      "source": [
        "----------"
      ]
    },
    {
      "cell_type": "code",
      "execution_count": 23,
      "metadata": {
        "id": "J9KoOswHNB1y",
        "colab": {
          "base_uri": "https://localhost:8080/"
        },
        "outputId": "8462ff10-928b-4f7f-bbb6-5d0befc9ba23"
      },
      "outputs": [
        {
          "output_type": "stream",
          "name": "stdout",
          "text": [
            "[ 806 3465 3960 4840 5787 6888 7883 8724]\n",
            "[ 806 3465 3960 4840 5787 6888 7883 8724]\n",
            "[ 777 2209 2758]\n",
            "[ 777 2209 2758]\n",
            "[756]\n",
            "[756]\n",
            "[ 812 3467 3957 4858 5782 6858 7915 8905]\n",
            "[ 812 3467 3957 4858 5782 6858 7915 8905]\n",
            "[ 787 2071]\n",
            "[ 787 2071]\n",
            "[762]\n",
            "[762]\n",
            "[ 811 3486 3980 4858 5779 6821 7839 8913]\n",
            "[ 811 3486 3980 4858 5779 6821 7839 8913]\n",
            "[ 780 2722 3259]\n",
            "[ 780 2722 3259]\n",
            "[758]\n",
            "[758]\n",
            "[ 819 3470 3942 4669 5744 6801 7823 8925]\n",
            "[ 819 3470 3942 4669 5744 6801 7823 8925]\n",
            "[ 803 2706]\n",
            "[ 803 2706]\n",
            "[787]\n",
            "[787]\n",
            "[732]\n",
            "[732]\n",
            "[]\n",
            "[]\n",
            "[]\n",
            "[]\n",
            "[]\n",
            "[]\n",
            "[]\n",
            "[]\n",
            "[]\n",
            "[]\n",
            "[]\n",
            "[]\n",
            "[737]\n",
            "[737]\n",
            "[]\n",
            "[]\n",
            "[]\n",
            "[]\n",
            "[]\n",
            "[]\n",
            "[]\n",
            "[]\n",
            "[]\n",
            "[]\n",
            "[]\n",
            "[]\n",
            "[ 746 1528]\n",
            "[ 746 1528]\n",
            "[735]\n",
            "[735]\n",
            "[728]\n",
            "[728]\n",
            "[]\n",
            "[]\n",
            "[]\n",
            "[]\n",
            "[]\n",
            "[]\n",
            "[]\n",
            "[]\n",
            "[773]\n",
            "[773]\n",
            "[]\n",
            "[]\n",
            "[]\n",
            "[]\n",
            "[]\n",
            "[]\n",
            "[]\n",
            "[]\n",
            "[]\n",
            "[]\n",
            "[]\n",
            "[]\n",
            "[]\n",
            "[]\n",
            "[]\n",
            "[]\n",
            "[]\n",
            "[]\n",
            "[]\n",
            "[]\n",
            "[]\n",
            "[]\n",
            "[]\n",
            "[]\n",
            "[]\n",
            "[]\n",
            "[]\n",
            "[]\n",
            "[]\n",
            "[]\n",
            "[]\n",
            "[]\n",
            "[]\n",
            "[]\n",
            "[]\n",
            "[]\n",
            "[]\n",
            "[]\n",
            "[]\n",
            "[]\n",
            "[]\n",
            "[]\n",
            "[]\n",
            "[]\n",
            "[]\n",
            "[]\n",
            "[]\n",
            "[]\n",
            "[]\n",
            "[]\n",
            "[]\n",
            "[]\n",
            "[]\n",
            "[]\n",
            "[]\n",
            "[]\n",
            "[]\n",
            "[]\n",
            "[]\n",
            "[]\n",
            "[]\n",
            "[]\n",
            "[]\n",
            "[]\n",
            "[]\n",
            "[]\n",
            "[]\n",
            "[]\n"
          ]
        }
      ],
      "source": [
        "ca_df = pd.DataFrame(columns=['segmentID','ca_lower_bound'])\n",
        "\n",
        "segIDs = segs.index #segs[(segs.Type=='apic')]['segmentID']\n",
        "for p in segIDs:\n",
        "    #print(p)\n",
        "    trace = hva['i_CaHva'][p,:]+\\\n",
        "            lva['i_CaLva'][p,:]+\\\n",
        "            ih['ihcn'][p,:]\n",
        "    m = np.mean(trace)\n",
        "    s = np.std(trace)\n",
        "\n",
        "    legit_uc = voltage_criterion(data=v['v'][p,:],v_thresh=-40, time_thresh=200)[1]\n",
        "    legit_dc = voltage_criterion(data=v['v'][p,:],v_thresh=-40, time_thresh=200)[-1]\n",
        "    \n",
        "    legit_uc_iso = legit_uc\n",
        "    \n",
        "    legit_dc_iso = legit_dc\n",
        "    \n",
        "    \n",
        "    if (len(legit_uc_iso)!=0) & (np.min(trace)!=0):\n",
        "        bnds, sum_curr = current_criterion(legit_uc_iso=legit_uc_iso, \n",
        "                                           legit_dc_iso=legit_dc_iso, \n",
        "                                           p=p, \n",
        "                                           control_inmda=hva['i_CaHva'])\n",
        "        ca_df = ca_df.append(pd.DataFrame({'segmentID':np.tile(p,len(bnds)),\n",
        "                                               'ca_lower_bound':np.array(bnds).reshape(-1,2)[:,0],\n",
        "                                               'ca_upper_bound':np.array(bnds).reshape(-1,2)[:,1],\n",
        "                                               'mag':sum_curr}))\n",
        "    \n",
        "    else:\n",
        "        ca_df = ca_df.append(pd.DataFrame({'segmentID':np.tile(p,1),\n",
        "                                               'ca_lower_bound':np.nan,\n",
        "                                               'ca_upper_bound':np.nan,\n",
        "                                               'mag':np.nan}))"
      ]
    },
    {
      "cell_type": "code",
      "source": [
        "plt.figure(figsize=(4,10))\n",
        "ax = plt.scatter(segdata['X'], segdata['Y'], c=segdata['neSyn'][0:167],s=50,cmap='jet')\n",
        "plt.vlines(110,400,500)\n",
        "plt.text(0,450,'100 um')\n",
        "plt.hlines(400,110,210)\n",
        "plt.text(110,350,'100 um')\n",
        "plt.xticks([])\n",
        "plt.yticks([])\n",
        "cbar = plt.colorbar()\n",
        "cbar.ax.set_ylabel('Synapse per segment', rotation=270)\n",
        "\n",
        "#ax2.ax.set_title('log(elec_distance)',rotation=270)\n",
        "plt.box(False)\n",
        "plt.savefig('exc_syns.svg')"
      ],
      "metadata": {
        "id": "mLNjyl4Us8Vd",
        "colab": {
          "base_uri": "https://localhost:8080/",
          "height": 580
        },
        "outputId": "0d3e4f52-2d4d-4b77-b8c7-a487ddf8a399"
      },
      "execution_count": 24,
      "outputs": [
        {
          "output_type": "display_data",
          "data": {
            "text/plain": [
              "<Figure size 288x720 with 2 Axes>"
            ],
            "image/png": "[encoded data removed]"
          },
          "metadata": {
            "needs_background": "light"
          }
        }
      ]
    },
    {
      "cell_type": "code",
      "execution_count": 25,
      "metadata": {
        "id": "-M4ScTZVNB1z"
      },
      "outputs": [],
      "source": [
        "ca_df.to_csv('ca_df.csv')\n",
        "ca_df = pd.read_csv('ca_df.csv')"
      ]
    },
    {
      "cell_type": "markdown",
      "metadata": {
        "id": "Z4bhFCA-NB1z"
      },
      "source": [
        "# durations"
      ]
    },
    {
      "cell_type": "code",
      "execution_count": 26,
      "metadata": {
        "id": "NbAjtKdrNB1z",
        "colab": {
          "base_uri": "https://localhost:8080/",
          "height": 49
        },
        "outputId": "a2ccd65f-d45a-48c7-9343-94eab4a7b3e7"
      },
      "outputs": [
        {
          "output_type": "execute_result",
          "data": {
            "text/plain": [
              "Empty DataFrame\n",
              "Columns: [segmentID, sec, Type, Elec_distance, X, Y]\n",
              "Index: []"
            ],
            "text/html": [
              "\n",
              "  <div id=\"df-b9393d42-6799-4ca8-988b-b601dceb14b9\">\n",
              "    <div class=\"colab-df-container\">\n",
              "      <div>\n",
              "<style scoped>\n",
              "    .dataframe tbody tr th:only-of-type {\n",
              "        vertical-align: middle;\n",
              "    }\n",
              "\n",
              "    .dataframe tbody tr th {\n",
              "        vertical-align: top;\n",
              "    }\n",
              "\n",
              "    .dataframe thead th {\n",
              "        text-align: right;\n",
              "    }\n",
              "</style>\n",
              "<table border=\"1\" class=\"dataframe\">\n",
              "  <thead>\n",
              "    <tr style=\"text-align: right;\">\n",
              "      <th></th>\n",
              "      <th>segmentID</th>\n",
              "      <th>sec</th>\n",
              "      <th>Type</th>\n",
              "      <th>Elec_distance</th>\n",
              "      <th>X</th>\n",
              "      <th>Y</th>\n",
              "    </tr>\n",
              "  </thead>\n",
              "  <tbody>\n",
              "  </tbody>\n",
              "</table>\n",
              "</div>\n",
              "      <button class=\"colab-df-convert\" onclick=\"convertToInteractive('df-b9393d42-6799-4ca8-988b-b601dceb14b9')\"\n",
              "              title=\"Convert this dataframe to an interactive table.\"\n",
              "              style=\"display:none;\">\n",
              "        \n",
              "  <svg xmlns=\"http://www.w3.org/2000/svg\" height=\"24px\"viewBox=\"0 0 24 24\"\n",
              "       width=\"24px\">\n",
              "    <path d=\"M0 0h24v24H0V0z\" fill=\"none\"/>\n",
              "    <path d=\"M18.56 5.44l.94 2.06.94-2.06 2.06-.94-2.06-.94-.94-2.06-.94 2.06-2.06.94zm-11 1L8.5 8.5l.94-2.06 2.06-.94-2.06-.94L8.5 2.5l-.94 2.06-2.06.94zm10 10l.94 2.06.94-2.06 2.06-.94-2.06-.94-.94-2.06-.94 2.06-2.06.94z\"/><path d=\"M17.41 7.96l-1.37-1.37c-.4-.4-.92-.59-1.43-.59-.52 0-1.04.2-1.43.59L10.3 9.45l-7.72 7.72c-.78.78-.78 2.05 0 2.83L4 21.41c.39.39.9.59 1.41.59.51 0 1.02-.2 1.41-.59l7.78-7.78 2.81-2.81c.8-.78.8-2.07 0-2.86zM5.41 20L4 18.59l7.72-7.72 1.47 1.35L5.41 20z\"/>\n",
              "  </svg>\n",
              "      </button>\n",
              "      \n",
              "  <style>\n",
              "    .colab-df-container {\n",
              "      display:flex;\n",
              "      flex-wrap:wrap;\n",
              "      gap: 12px;\n",
              "    }\n",
              "\n",
              "    .colab-df-convert {\n",
              "      background-color: #E8F0FE;\n",
              "      border: none;\n",
              "      border-radius: 50%;\n",
              "      cursor: pointer;\n",
              "      display: none;\n",
              "      fill: #1967D2;\n",
              "      height: 32px;\n",
              "      padding: 0 0 0 0;\n",
              "      width: 32px;\n",
              "    }\n",
              "\n",
              "    .colab-df-convert:hover {\n",
              "      background-color: #E2EBFA;\n",
              "      box-shadow: 0px 1px 2px rgba(60, 64, 67, 0.3), 0px 1px 3px 1px rgba(60, 64, 67, 0.15);\n",
              "      fill: #174EA6;\n",
              "    }\n",
              "\n",
              "    [theme=dark] .colab-df-convert {\n",
              "      background-color: #3B4455;\n",
              "      fill: #D2E3FC;\n",
              "    }\n",
              "\n",
              "    [theme=dark] .colab-df-convert:hover {\n",
              "      background-color: #434B5C;\n",
              "      box-shadow: 0px 1px 3px 1px rgba(0, 0, 0, 0.15);\n",
              "      filter: drop-shadow(0px 1px 2px rgba(0, 0, 0, 0.3));\n",
              "      fill: #FFFFFF;\n",
              "    }\n",
              "  </style>\n",
              "\n",
              "      <script>\n",
              "        const buttonEl =\n",
              "          document.querySelector('#df-b9393d42-6799-4ca8-988b-b601dceb14b9 button.colab-df-convert');\n",
              "        buttonEl.style.display =\n",
              "          google.colab.kernel.accessAllowed ? 'block' : 'none';\n",
              "\n",
              "        async function convertToInteractive(key) {\n",
              "          const element = document.querySelector('#df-b9393d42-6799-4ca8-988b-b601dceb14b9');\n",
              "          const dataTable =\n",
              "            await google.colab.kernel.invokeFunction('convertToInteractive',\n",
              "                                                     [key], {});\n",
              "          if (!dataTable) return;\n",
              "\n",
              "          const docLinkHtml = 'Like what you see? Visit the ' +\n",
              "            '<a target=\"_blank\" href=https://colab.research.google.com/notebooks/data_table.ipynb>data table notebook</a>'\n",
              "            + ' to learn more about interactive tables.';\n",
              "          element.innerHTML = '';\n",
              "          dataTable['output_type'] = 'display_data';\n",
              "          await google.colab.output.renderOutput(dataTable, element);\n",
              "          const docLink = document.createElement('div');\n",
              "          docLink.innerHTML = docLinkHtml;\n",
              "          element.appendChild(docLink);\n",
              "        }\n",
              "      </script>\n",
              "    </div>\n",
              "  </div>\n",
              "  "
            ]
          },
          "metadata": {},
          "execution_count": 26
        }
      ],
      "source": [
        "segs[(segdata['X'][:]>600)&(segdata['Y'][:]<800)]"
      ]
    },
    {
      "cell_type": "code",
      "execution_count": 27,
      "metadata": {
        "id": "lHAEQHqsNB1z"
      },
      "outputs": [],
      "source": [
        "# np.random.choice(segs[(segs['Coord Y']<-50)&\n",
        "#      (segs['Coord Y']>-100)&\n",
        "#      (segs['Coord X']>-50)&\n",
        "#      (segs['Coord X']<50)&\n",
        "#      (segs['Type']=='dend')]['segmentID'])"
      ]
    },
    {
      "cell_type": "markdown",
      "metadata": {
        "id": "CzidwvNHNB1z"
      },
      "source": [
        "## Plotting morphology as heat maps"
      ]
    },
    {
      "cell_type": "code",
      "execution_count": 28,
      "metadata": {
        "id": "JU7AdzhmNB1z",
        "colab": {
          "base_uri": "https://localhost:8080/",
          "height": 575
        },
        "outputId": "bc40ee0e-6d96-428c-f6a6-0c61108881df"
      },
      "outputs": [
        {
          "output_type": "display_data",
          "data": {
            "text/plain": [
              "<Figure size 288x720 with 2 Axes>"
            ],
            "image/png": "[encoded data removed]"
          },
          "metadata": {
            "needs_background": "light"
          }
        }
      ],
      "source": [
        "plt.figure(figsize=(4,10))\n",
        "ax = plt.scatter(segdata['X'], segdata['Y'], c=np.log(segdata['elec_dist']))\n",
        "plt.vlines(110,400,500)\n",
        "plt.text(0,450,'100 um')\n",
        "plt.hlines(400,110,210)\n",
        "plt.text(110,350,'100 um')\n",
        "plt.xticks([])\n",
        "plt.yticks([])\n",
        "cbar = plt.colorbar()\n",
        "cbar.ax.set_ylabel('log(elec_distance)', rotation=270)\n",
        "\n",
        "#ax2.ax.set_title('log(elec_distance)',rotation=270)\n",
        "plt.box(False)\n",
        "plt.savefig('Elec_distance.svg')"
      ]
    },
    {
      "cell_type": "code",
      "execution_count": 29,
      "metadata": {
        "id": "-JqyND3wNB10",
        "colab": {
          "base_uri": "https://localhost:8080/",
          "height": 580
        },
        "outputId": "7c16f9cc-d1e6-498b-d242-3f3a634f01db"
      },
      "outputs": [
        {
          "output_type": "display_data",
          "data": {
            "text/plain": [
              "<Figure size 288x720 with 2 Axes>"
            ],
            "image/png": "[encoded data removed]"
          },
          "metadata": {
            "needs_background": "light"
          }
        }
      ],
      "source": [
        "plt.figure(figsize=(4,10))\n",
        "ax = plt.scatter(segdata['X'], segdata['Y'], c=segdata['neSyn'][0:167],s=50,cmap='jet')\n",
        "plt.vlines(110,400,500)\n",
        "plt.text(0,450,'100 um')\n",
        "plt.hlines(400,110,210)\n",
        "plt.text(110,350,'100 um')\n",
        "plt.xticks([])\n",
        "plt.yticks([])\n",
        "cbar = plt.colorbar()\n",
        "cbar.ax.set_ylabel('Synapse per segment', rotation=270)\n",
        "\n",
        "#ax2.ax.set_title('log(elec_distance)',rotation=270)\n",
        "plt.box(False)\n",
        "plt.savefig('exc_syns.svg')"
      ]
    },
    {
      "cell_type": "markdown",
      "metadata": {
        "id": "1dI-SsbzNB10"
      },
      "source": [
        "## Plotting morphology and voltage traces"
      ]
    },
    {
      "cell_type": "code",
      "source": [
        "print(segs['X'][:])\n",
        "print(segdata['X'][:])"
      ],
      "metadata": {
        "id": "pk8xn_w5gu9p",
        "colab": {
          "base_uri": "https://localhost:8080/"
        },
        "outputId": "473bd061-2b4d-4793-bb63-40e4723dd3c0"
      },
      "execution_count": 30,
      "outputs": [
        {
          "output_type": "stream",
          "name": "stdout",
          "text": [
            "0      0.000000e+00\n",
            "1      3.040978e+01\n",
            "2      0.000000e+00\n",
            "3      1.862062e-15\n",
            "4      0.000000e+00\n",
            "           ...     \n",
            "162    2.755455e-15\n",
            "163    0.000000e+00\n",
            "164   -4.500000e+01\n",
            "165    0.000000e+00\n",
            "166   -8.266366e-15\n",
            "Name: X, Length: 167, dtype: float64\n",
            "[ 0.00000000e+00  3.04097843e+01  0.00000000e+00  1.86206217e-15\n",
            "  0.00000000e+00 -3.04097843e+01  0.00000000e+00 -5.58618652e-15\n",
            "  3.04097843e+01  7.60244598e+01  1.86206217e-15  4.65515544e-15\n",
            " -3.04097843e+01 -7.60244598e+01 -5.58618652e-15 -1.39654667e-14\n",
            "  7.60244598e+01  1.01365946e+02  1.26707433e+02  1.52048920e+02\n",
            "  4.65515544e-15  6.20687391e-15  7.75859239e-15  9.31031087e-15\n",
            " -7.60244598e+01 -1.01365946e+02 -1.26707433e+02 -1.52048920e+02\n",
            " -1.39654667e-14 -1.86206223e-14 -2.32757779e-14 -2.79309335e-14\n",
            "  0.00000000e+00  0.00000000e+00  0.00000000e+00  0.00000000e+00\n",
            "  0.00000000e+00  0.00000000e+00  0.00000000e+00  0.00000000e+00\n",
            "  3.33333333e+01  6.66666667e+01  1.00000000e+02  1.33333333e+02\n",
            "  1.66666667e+02  2.00000000e+02  0.00000000e+00  2.04107793e-15\n",
            "  4.08215586e-15  6.12323379e-15  8.16431172e-15  1.02053896e-14\n",
            "  1.22464676e-14  0.00000000e+00 -3.33333333e+01 -6.66666667e+01\n",
            " -1.00000000e+02 -1.33333333e+02 -1.66666667e+02 -2.00000000e+02\n",
            "  0.00000000e+00 -6.12323393e-15 -1.22464679e-14 -1.83697018e-14\n",
            " -2.44929357e-14 -3.06161696e-14 -3.67394036e-14  0.00000000e+00\n",
            "  0.00000000e+00  0.00000000e+00  0.00000000e+00  0.00000000e+00\n",
            "  0.00000000e+00  0.00000000e+00  0.00000000e+00  0.00000000e+00\n",
            "  0.00000000e+00  0.00000000e+00  0.00000000e+00  0.00000000e+00\n",
            "  0.00000000e+00  0.00000000e+00  0.00000000e+00  0.00000000e+00\n",
            "  0.00000000e+00  0.00000000e+00  8.62720299e+00  1.72544060e+01\n",
            "  2.58816090e+01  0.00000000e+00  5.28263815e-16  1.05652763e-15\n",
            "  1.58479144e-15  0.00000000e+00 -8.62720299e+00 -1.72544060e+01\n",
            " -2.58816090e+01  0.00000000e+00 -1.58479144e-15 -3.16958289e-15\n",
            " -4.75437433e-15  2.58816090e+01  3.45088123e+01  4.31360156e+01\n",
            "  5.17632189e+01  6.03904223e+01  6.90176256e+01  7.76448288e+01\n",
            "  1.58479144e-15  2.11305526e-15  2.64131908e-15  3.16958289e-15\n",
            "  3.69784671e-15  4.22611053e-15  4.75437433e-15 -2.58816090e+01\n",
            " -3.45088123e+01 -4.31360156e+01 -5.17632189e+01 -6.03904223e+01\n",
            " -6.90176256e+01 -7.76448288e+01 -4.75437433e-15 -6.33916585e-15\n",
            " -7.92395737e-15 -9.50874889e-15 -1.10935404e-14 -1.26783319e-14\n",
            " -1.42631234e-14  7.76448288e+01  8.62720324e+01  9.48992360e+01\n",
            "  1.03526440e+02  1.12153643e+02  1.20780847e+02  1.29408051e+02\n",
            "  4.75437433e-15  5.28263822e-15  5.81090210e-15  6.33916599e-15\n",
            "  6.86742988e-15  7.39569376e-15  7.92395765e-15 -7.76448288e+01\n",
            " -8.62720324e+01 -9.48992360e+01 -1.03526440e+02 -1.12153643e+02\n",
            " -1.20780847e+02 -1.29408051e+02 -1.42631234e-14 -1.58479150e-14\n",
            " -1.74327066e-14 -1.90174982e-14 -2.06022898e-14 -2.21870814e-14\n",
            " -2.37718729e-14  0.00000000e+00  0.00000000e+00  0.00000000e+00\n",
            "  4.50000000e+01  0.00000000e+00  2.75545535e-15  0.00000000e+00\n",
            " -4.50000000e+01  0.00000000e+00 -8.26636563e-15]\n"
          ]
        }
      ]
    },
    {
      "cell_type": "code",
      "execution_count": 31,
      "metadata": {
        "id": "JE_jj6OXNB10",
        "colab": {
          "base_uri": "https://localhost:8080/",
          "height": 575
        },
        "outputId": "59ca3869-3682-401d-b734-38385fa35951"
      },
      "outputs": [
        {
          "output_type": "display_data",
          "data": {
            "text/plain": [
              "<Figure size 216x720 with 1 Axes>"
            ],
            "image/png": "[encoded data removed]"
          },
          "metadata": {}
        }
      ],
      "source": [
        "tics = len(v['v'][0])/10\n",
        "\n",
        "plt.figure(figsize=(3,10))\n",
        "ax = plt.plot(segdata['X'][:], segdata['Y'][:],'.',color='k',markersize=6)\n",
        "plt.vlines(110,400,500)\n",
        "plt.text(0,450,'100 um')\n",
        "plt.hlines(400,110,210)\n",
        "plt.text(110,350,'100 um')\n",
        "plt.xticks([])\n",
        "plt.yticks([])\n",
        "plt.box(False)\n",
        "plt.plot(segdata['X'][129], \n",
        "         segdata['Y'][129],\n",
        "         'r*', markersize=10)\n",
        "plt.plot(segdata['X'][46], \n",
        "         segdata['Y'][46],\n",
        "         'b*', markersize=10)\n",
        "plt.plot(segdata['X'][60], \n",
        "         segdata['Y'][60],\n",
        "         'm*', markersize=10)\n",
        "plt.plot(segdata['X'][78], \n",
        "         segdata['Y'][78],\n",
        "         'g*', markersize=10)\n",
        "plt.plot(segdata['X'][26], \n",
        "         segdata['Y'][26],\n",
        "         '*',color='orange',markersize=10)\n",
        "plt.plot(segdata['X'][20], \n",
        "         segdata['Y'][20],\n",
        "         '*',color='grey', markersize=10)\n",
        "plt.savefig('fig1A.svg')"
      ]
    },
    {
      "cell_type": "code",
      "execution_count": 32,
      "metadata": {
        "id": "ry5pgGPkNB10",
        "colab": {
          "base_uri": "https://localhost:8080/",
          "height": 248
        },
        "outputId": "e64d59cc-b21b-4960-ac71-a0358ccacf69"
      },
      "outputs": [
        {
          "output_type": "display_data",
          "data": {
            "text/plain": [
              "<Figure size 720x288 with 1 Axes>"
            ],
            "image/png": "[encoded data removed]"
          },
          "metadata": {}
        }
      ],
      "source": [
        "\n",
        "plt.figure(figsize=(10,4))\n",
        "s1 = 323548+1500#np.random.choice(range(v['report']['biophysical']['data'].shape[0]))\n",
        "plt.plot(np.arange(0,tics,.1),v['v'][20,:],color='grey')\n",
        "#1433413, 1161455\n",
        "plt.hlines(-50,70,100)\n",
        "plt.text(70,-55,'30 ms')\n",
        "plt.vlines(70,-50,-40)\n",
        "plt.text(40,-45,'10 mV')\n",
        "plt.hlines(-65,0,1000, color = 'grey', linestyle = 'dashed')\n",
        "plt.box(False)\n",
        "plt.xticks([])\n",
        "plt.yticks([])\n",
        "plt.savefig('fig2G.svg')"
      ]
    },
    {
      "cell_type": "code",
      "execution_count": 33,
      "metadata": {
        "id": "IPbdgIMPNB10",
        "colab": {
          "base_uri": "https://localhost:8080/",
          "height": 248
        },
        "outputId": "92cba038-95e3-400e-9d43-089db31de7ab"
      },
      "outputs": [
        {
          "output_type": "display_data",
          "data": {
            "text/plain": [
              "<Figure size 720x288 with 1 Axes>"
            ],
            "image/png": "[encoded data removed]"
          },
          "metadata": {}
        }
      ],
      "source": [
        "plt.figure(figsize=(10,4))\n",
        "s1 = 323548+1500#np.random.choice(range(v['report']['biophysical']['data'].shape[0]))\n",
        "plt.plot(np.arange(0,tics,.1),v['v'][26,:],color='orange')\n",
        "#1433413, 1161455\n",
        "plt.hlines(-50,70,100)\n",
        "plt.text(70,-55,'30 ms')\n",
        "plt.vlines(70,-50,-40)\n",
        "plt.text(40,-45,'10 mV')\n",
        "plt.hlines(-65,0,1000, color = 'grey', linestyle = 'dashed')\n",
        "plt.box(False)\n",
        "plt.xticks([])\n",
        "plt.yticks([])\n",
        "plt.savefig('fig2F.svg')"
      ]
    },
    {
      "cell_type": "code",
      "execution_count": 34,
      "metadata": {
        "id": "Hgq2d7jANB10",
        "colab": {
          "base_uri": "https://localhost:8080/",
          "height": 248
        },
        "outputId": "694eef44-a7b7-4e5b-c133-2fc7de5ed826"
      },
      "outputs": [
        {
          "output_type": "display_data",
          "data": {
            "text/plain": [
              "<Figure size 720x288 with 1 Axes>"
            ],
            "image/png": "[encoded data removed]"
          },
          "metadata": {}
        }
      ],
      "source": [
        "plt.figure(figsize=(10,4))\n",
        "s1 = 323548+1500#np.random.choice(range(v['report']['biophysical']['data'].shape[0]))\n",
        "plt.plot(np.arange(0,tics,.1),v['v'][0,:],color='k')\n",
        "#1433413, 1161455\n",
        "plt.hlines(-50,70,100)\n",
        "plt.text(70,-55,'30 ms')\n",
        "plt.vlines(70,-50,-40)\n",
        "plt.text(40,-45,'10 mV')\n",
        "plt.hlines(-65,0,1000, color = 'grey', linestyle = 'dashed')\n",
        "plt.box(False)\n",
        "plt.xticks([])\n",
        "plt.yticks([])\n",
        "plt.savefig('fig2E.svg')"
      ]
    },
    {
      "cell_type": "code",
      "execution_count": 35,
      "metadata": {
        "id": "5V_PqploNB10",
        "colab": {
          "base_uri": "https://localhost:8080/",
          "height": 248
        },
        "outputId": "30252a22-be5c-4f42-f010-8d6bffebfbe5"
      },
      "outputs": [
        {
          "output_type": "display_data",
          "data": {
            "text/plain": [
              "<Figure size 720x288 with 1 Axes>"
            ],
            "image/png": "[encoded data removed]"
          },
          "metadata": {}
        }
      ],
      "source": [
        "plt.figure(figsize=(10,4))\n",
        "s1 = 323548+1500#np.random.choice(range(v['report']['biophysical']['data'].shape[0]))\n",
        "plt.plot(np.arange(0,tics,.1),v['v'][78,:],color='g')\n",
        "#1433413, 1161455\n",
        "plt.hlines(-50,70,100)\n",
        "plt.text(70,-55,'30 ms')\n",
        "plt.vlines(70,-50,-40)\n",
        "plt.text(40,-45,'10 mV')\n",
        "plt.hlines(-65,0,1000, color = 'grey', linestyle = 'dashed')\n",
        "plt.box(False)\n",
        "plt.xticks([])\n",
        "plt.yticks([])\n",
        "plt.savefig('fig2C.svg')"
      ]
    },
    {
      "cell_type": "code",
      "execution_count": 36,
      "metadata": {
        "id": "_mwTAA7aNB10",
        "colab": {
          "base_uri": "https://localhost:8080/",
          "height": 248
        },
        "outputId": "9cfdd068-2008-4bda-ce4f-4660396b4040"
      },
      "outputs": [
        {
          "output_type": "display_data",
          "data": {
            "text/plain": [
              "<Figure size 720x288 with 1 Axes>"
            ],
            "image/png": "[encoded data removed]"
          },
          "metadata": {}
        }
      ],
      "source": [
        "plt.figure(figsize=(10,4))\n",
        "s1 = 323548+1500#np.random.choice(range(v['report']['biophysical']['data'].shape[0]))\n",
        "plt.plot(np.arange(0,tics,.1),v['v'][60,:],color='m')\n",
        "#1433413, 1161455\n",
        "plt.hlines(-50,70,100)\n",
        "plt.text(70,-55,'30 ms')\n",
        "plt.vlines(70,-50,-40)\n",
        "plt.text(40,-45,'10 mV')\n",
        "plt.hlines(-65,0,1000, color = 'grey', linestyle = 'dashed')\n",
        "plt.box(False)\n",
        "plt.xticks([])\n",
        "plt.yticks([])\n",
        "plt.savefig('fig2D.svg')"
      ]
    },
    {
      "cell_type": "code",
      "execution_count": 37,
      "metadata": {
        "id": "ygRZP41hNB10",
        "colab": {
          "base_uri": "https://localhost:8080/",
          "height": 248
        },
        "outputId": "f93d575f-97ec-485c-f66e-668f7f5cc6d6"
      },
      "outputs": [
        {
          "output_type": "display_data",
          "data": {
            "text/plain": [
              "<Figure size 720x288 with 1 Axes>"
            ],
            "image/png": "[encoded data removed]"
          },
          "metadata": {}
        }
      ],
      "source": [
        "plt.figure(figsize=(10,4))\n",
        "s1 = 323548+1500#np.random.choice(range(v['report']['biophysical']['data'].shape[0]))\n",
        "plt.plot(np.arange(0,tics,.1),v['v'][46,:],color='b')\n",
        "#1433413, 1161455\n",
        "plt.hlines(-50,70,100)\n",
        "plt.text(70,-55,'30 ms')\n",
        "plt.vlines(70,-50,-40)\n",
        "plt.text(40,-45,'10 mV')\n",
        "plt.hlines(-65,0,1000, color = 'grey', linestyle = 'dashed')\n",
        "plt.box(False)\n",
        "plt.xticks([])\n",
        "plt.yticks([])\n",
        "plt.savefig('fig2B.svg')"
      ]
    },
    {
      "cell_type": "code",
      "execution_count": 38,
      "metadata": {
        "id": "buehf9dpNB10",
        "colab": {
          "base_uri": "https://localhost:8080/",
          "height": 248
        },
        "outputId": "42f20bc9-26f7-4d69-a8ff-4b8899417227"
      },
      "outputs": [
        {
          "output_type": "display_data",
          "data": {
            "text/plain": [
              "<Figure size 720x288 with 1 Axes>"
            ],
            "image/png": "[encoded data removed]"
          },
          "metadata": {}
        }
      ],
      "source": [
        "plt.figure(figsize=(10,4))\n",
        "s1 = 323548+1500#np.random.choice(range(v['report']['biophysical']['data'].shape[0]))\n",
        "plt.plot(np.arange(0,tics,.1),v['v'][129,:],color='r')\n",
        "#1433413, 1161455\n",
        "plt.hlines(-60,170,200)\n",
        "plt.text(170,-65,'30 ms')\n",
        "plt.vlines(170,-60,-50)\n",
        "plt.text(140,-55,'10 mV')\n",
        "plt.hlines(-65,0,1000, color = 'grey', linestyle = 'dashed')\n",
        "plt.box(False)\n",
        "plt.xticks([])\n",
        "plt.yticks([])\n",
        "plt.savefig('fig2A.svg')"
      ]
    },
    {
      "cell_type": "code",
      "execution_count": 39,
      "metadata": {
        "id": "aml_lLEBNB11",
        "colab": {
          "base_uri": "https://localhost:8080/",
          "height": 266
        },
        "outputId": "781c510d-98a2-47b8-9eb8-579a0157f95a"
      },
      "outputs": [
        {
          "output_type": "execute_result",
          "data": {
            "text/plain": [
              "([], <a list of 0 Text major ticklabel objects>)"
            ]
          },
          "metadata": {},
          "execution_count": 39
        },
        {
          "output_type": "display_data",
          "data": {
            "text/plain": [
              "<Figure size 720x288 with 1 Axes>"
            ],
            "image/png": "[encoded data removed]"
          },
          "metadata": {}
        }
      ],
      "source": [
        "plt.figure(figsize=(10,4))\n",
        "s1 = 559133+1000#np.random.choice(range(v['report']['biophysical']['data'].shape[0]))\n",
        "plt.plot(np.arange(0,tics,.1),v['v'][10,:],color='k')\n",
        "#1433413, 1161455\n",
        "plt.hlines(-10,40,70)\n",
        "plt.text(40,-15,'30 ms')\n",
        "plt.vlines(40,-10,0)\n",
        "plt.text(5,-5,'10 mV')\n",
        "plt.box(False)\n",
        "plt.xticks([])\n",
        "plt.yticks([])"
      ]
    },
    {
      "cell_type": "code",
      "execution_count": 40,
      "metadata": {
        "id": "oCt_zY4NNB11"
      },
      "outputs": [],
      "source": [
        "x = ca_df[~pd.isnull(ca_df.ca_lower_bound)].reset_index()\n",
        "i = np.random.choice(x.index)"
      ]
    },
    {
      "cell_type": "code",
      "execution_count": 41,
      "metadata": {
        "id": "dZJg2nU2NB11",
        "colab": {
          "base_uri": "https://localhost:8080/",
          "height": 610
        },
        "outputId": "2e47ad7d-1b93-42d0-a153-d4ea6935b71b"
      },
      "outputs": [
        {
          "output_type": "execute_result",
          "data": {
            "text/plain": [
              "(0.0, 200.0)"
            ]
          },
          "metadata": {},
          "execution_count": 41
        },
        {
          "output_type": "display_data",
          "data": {
            "text/plain": [
              "<Figure size 864x720 with 2 Axes>"
            ],
            "image/png": "[encoded data removed]"
          },
          "metadata": {
            "needs_background": "light"
          }
        }
      ],
      "source": [
        "seg = 60\n",
        "lower_bound = 4000\n",
        "plt.figure(figsize=(12,10))\n",
        "plt.plot(np.arange(0,600,.1),-(hva['i_CaHva'][seg,lower_bound-1000:lower_bound+5000]+\\\n",
        "         lva['i_CaLva'][seg,lower_bound-1000:lower_bound+5000]+\\\n",
        "         ih['ihcn'][seg,lower_bound-1000:lower_bound+5000]),color='b')\n",
        "plt.hlines(np.mean(-(hva['i_CaHva'][seg,lower_bound-1000:lower_bound+5000]+\\\n",
        "         lva['i_CaLva'][seg,lower_bound-1000:lower_bound+5000]+\\\n",
        "         ih['ihcn'][seg,lower_bound-1000:lower_bound+5000])),0,300.1,color='b')\n",
        "plt.xlim(0,200)\n",
        "\n",
        "plt.twinx()\n",
        "plt.plot(np.arange(0,600,.1),v['v'][seg,lower_bound-1000:lower_bound+5000],color='k')\n",
        "plt.plot(np.arange(0,600,.1),v['v'][seg,lower_bound-1000:lower_bound+5000],color='k',alpha=0.2)\n",
        "plt.xlim(0,200)\n"
      ]
    },
    {
      "cell_type": "code",
      "execution_count": 42,
      "metadata": {
        "id": "qyUsmiPeNB11"
      },
      "outputs": [],
      "source": [
        "ca_df.reset_index(inplace=True)"
      ]
    },
    {
      "cell_type": "code",
      "execution_count": 43,
      "metadata": {
        "id": "HDUmSqJkNB11",
        "colab": {
          "base_uri": "https://localhost:8080/"
        },
        "outputId": "3b2ff16f-c8da-463a-aac9-d440b2d0c734"
      },
      "outputs": [
        {
          "output_type": "stream",
          "name": "stdout",
          "text": [
            "9329\n",
            "-1.9847865540813465e-05\n",
            "-1.1337104244327484e-07\n",
            "1.955554382304227e-06\n",
            "8424\n",
            "-2.8374906717362877e-06\n",
            "-1.3728922138335948e-07\n",
            "2.717276401079663e-06\n",
            "7352\n",
            "-3.5037954415448375e-06\n",
            "-1.3865488276253446e-07\n",
            "2.6861124620987336e-06\n",
            "5816\n",
            "-9.41640840342512e-06\n",
            "-1.0243571085370203e-07\n",
            "2.1567116880016797e-06\n",
            "7365\n",
            "-3.6606924104394747e-06\n",
            "-1.3922122491688838e-07\n",
            "2.6627437110773068e-06\n",
            "8957\n",
            "-1.3615791502931838e-05\n",
            "-1.0933680824661845e-07\n",
            "2.0433369623239105e-06\n",
            "6292\n",
            "-2.511750982193403e-06\n",
            "-1.3752567809838746e-07\n",
            "2.6907307622261e-06\n",
            "4343\n",
            "-2.3032157233006397e-06\n",
            "-1.3102260594030156e-07\n",
            "3.0786763619419074e-06\n",
            "8969\n",
            "-1.1857497798524996e-05\n",
            "-1.0207429326987658e-07\n",
            "1.9899752801221664e-06\n",
            "7349\n",
            "-3.4762899367805624e-06\n",
            "-1.382830957827957e-07\n",
            "2.671053717138252e-06\n",
            "7109\n",
            "-1.8260330137732623e-05\n",
            "-9.924901178043616e-08\n",
            "1.953633102436156e-06\n",
            "4899\n",
            "-1.2800751760783493e-05\n",
            "-1.0797306273693535e-07\n",
            "2.2998877735309027e-06\n",
            "8969\n",
            "-1.1857497798524996e-05\n",
            "-1.0207429326987658e-07\n",
            "1.9899752801221664e-06\n",
            "6312\n",
            "-2.757299544930248e-06\n",
            "-1.3987213616386508e-07\n",
            "2.7068358941256947e-06\n",
            "8424\n",
            "-2.8374906717362877e-06\n",
            "-1.3728922138335948e-07\n",
            "2.717276401079663e-06\n",
            "3501\n",
            "-5.7231601814538885e-06\n",
            "-1.4680458351004125e-07\n",
            "2.9239256085739125e-06\n",
            "7087\n",
            "-1.697588895885652e-05\n",
            "-1.029937696095087e-07\n",
            "1.977460528276243e-06\n",
            "5815\n",
            "-8.961660783030277e-06\n",
            "-1.0107286814876592e-07\n",
            "2.208929078513461e-06\n",
            "7352\n",
            "-3.5037954415448375e-06\n",
            "-1.3865488276253446e-07\n",
            "2.6861124620987336e-06\n",
            "8435\n",
            "-3.2815725533689374e-06\n",
            "-1.398849752371091e-07\n",
            "2.712705858942364e-06\n",
            "8008\n",
            "-1.4204428123386928e-05\n",
            "-1.0298437768747564e-07\n",
            "2.0433369623239105e-06\n",
            "9329\n",
            "-1.9847865540813465e-05\n",
            "-1.1337104244327484e-07\n",
            "1.955554382304227e-06\n",
            "8957\n",
            "-1.3615791502931838e-05\n",
            "-1.0933680824661845e-07\n",
            "2.0433369623239105e-06\n",
            "6312\n",
            "-2.757299544930248e-06\n",
            "-1.3987213616386508e-07\n",
            "2.7068358941256947e-06\n",
            "8964\n",
            "-1.4058891117393495e-05\n",
            "-1.1040741097557064e-07\n",
            "2.034210610082085e-06\n",
            "8008\n",
            "-1.4204428123386928e-05\n",
            "-1.0298437768747564e-07\n",
            "2.0433369623239105e-06\n",
            "9308\n",
            "-3.2815725533689374e-06\n",
            "-1.398849752371091e-07\n",
            "2.6502084177411627e-06\n",
            "2146\n",
            "-1.8194664145280694e-06\n",
            "-1.2637177627723078e-07\n",
            "2.4600372775372783e-06\n",
            "4338\n",
            "-2.135784860483784e-06\n",
            "-1.299165060726382e-07\n",
            "3.1364624386364198e-06\n",
            "9308\n",
            "-3.2815725533689374e-06\n",
            "-1.398849752371091e-07\n",
            "2.6502084177411627e-06\n",
            "5788\n",
            "-1.2365751421067551e-05\n",
            "-9.86394646714691e-08\n",
            "2.159955362174181e-06\n",
            "8420\n",
            "-2.73937498903181e-06\n",
            "-1.3651302099888922e-07\n",
            "2.6766315363441075e-06\n",
            "4923\n",
            "-1.869206723509575e-05\n",
            "-1.0275059284041292e-07\n",
            "2.1567116880016797e-06\n",
            "5816\n",
            "-9.41640840342512e-06\n",
            "-1.0243571085370203e-07\n",
            "2.1567116880016797e-06\n",
            "7087\n",
            "-1.697588895885652e-05\n",
            "-1.029937696095087e-07\n",
            "1.977460528276243e-06\n",
            "7365\n",
            "-3.6606924104394747e-06\n",
            "-1.3922122491688838e-07\n",
            "2.6627437110773068e-06\n",
            "8424\n",
            "-2.8374906717362877e-06\n",
            "-1.3728922138335948e-07\n",
            "2.717276401079663e-06\n",
            "8428\n",
            "-2.9037084871502728e-06\n",
            "-1.3778094039402483e-07\n",
            "2.7150073808381437e-06\n",
            "4899\n",
            "-1.2800751760783493e-05\n",
            "-1.0797306273693535e-07\n",
            "2.2998877735309027e-06\n",
            "5152\n",
            "-1.598979136000133e-05\n",
            "-9.86394646714691e-08\n",
            "2.159955362174181e-06\n",
            "8964\n",
            "-1.4058891117393495e-05\n",
            "-1.1040741097557064e-07\n",
            "2.034210610082085e-06\n",
            "9316\n",
            "-2.8374906717362877e-06\n",
            "-1.3728922138335948e-07\n",
            "2.6629701673260815e-06\n",
            "4899\n",
            "-1.2800751760783493e-05\n",
            "-1.0797306273693535e-07\n",
            "2.2998877735309027e-06\n",
            "4343\n",
            "-2.3032157233006397e-06\n",
            "-1.3102260594030156e-07\n",
            "3.0786763619419074e-06\n",
            "7056\n",
            "-1.956179480873513e-05\n",
            "-9.706321307497056e-08\n",
            "1.9084835118861676e-06\n",
            "9312\n",
            "-2.73937498903181e-06\n",
            "-1.3651302099888922e-07\n",
            "2.669319388899212e-06\n",
            "2796\n",
            "-9.280495021752025e-06\n",
            "-1.4924591636622158e-07\n",
            "2.5872993322726056e-06\n",
            "6322\n",
            "-3.5891599981197724e-06\n",
            "-1.3809487803687394e-07\n",
            "2.6833754198124044e-06\n",
            "7352\n",
            "-3.5037954415448375e-06\n",
            "-1.3865488276253446e-07\n",
            "2.6861124620987336e-06\n",
            "4337\n",
            "-2.5665646202477323e-06\n",
            "-1.328576097650416e-07\n",
            "3.095130865101523e-06\n",
            "7352\n",
            "-3.5037954415448375e-06\n",
            "-1.3865488276253446e-07\n",
            "2.6861124620987336e-06\n",
            "3507\n",
            "-6.17278961371855e-06\n",
            "-1.4803298436330986e-07\n",
            "2.8700867111509464e-06\n",
            "6292\n",
            "-2.511750982193403e-06\n",
            "-1.3752567809838746e-07\n",
            "2.6907307622261e-06\n",
            "3498\n",
            "-7.703562045262222e-06\n",
            "-1.5066688115484427e-07\n",
            "2.8120765185828327e-06\n",
            "2257\n",
            "-2.537455131636031e-06\n",
            "-1.35913393837759e-07\n",
            "2.5872993322726056e-06\n",
            "9329\n",
            "-1.9847865540813465e-05\n",
            "-1.1337104244327484e-07\n",
            "1.955554382304227e-06\n",
            "8428\n",
            "-2.9037084871502728e-06\n",
            "-1.3778094039402483e-07\n",
            "2.7150073808381437e-06\n",
            "3501\n",
            "-5.7231601814538885e-06\n",
            "-1.4680458351004125e-07\n",
            "2.9239256085739125e-06\n",
            "5251\n",
            "-1.7795621290087067e-06\n",
            "-1.2754574752935764e-07\n",
            "2.980080239384055e-06\n",
            "7352\n",
            "-3.5037954415448375e-06\n",
            "-1.3865488276253446e-07\n",
            "2.6861124620987336e-06\n",
            "8029\n",
            "-1.9072054025220268e-05\n",
            "-1.0062872423531656e-07\n",
            "1.9160975277602157e-06\n",
            "6292\n",
            "-2.511750982193403e-06\n",
            "-1.3752567809838746e-07\n",
            "2.6907307622261e-06\n",
            "7352\n",
            "-3.5037954415448375e-06\n",
            "-1.3865488276253446e-07\n",
            "2.6861124620987336e-06\n",
            "5788\n",
            "-1.2365751421067551e-05\n",
            "-9.86394646714691e-08\n",
            "2.159955362174181e-06\n",
            "8969\n",
            "-1.1857497798524996e-05\n",
            "-1.0207429326987658e-07\n",
            "1.9899752801221664e-06\n",
            "8044\n",
            "-1.7484491078959626e-05\n",
            "-9.981635666001283e-08\n",
            "2.034210610082085e-06\n",
            "6308\n",
            "-2.7432319987623518e-06\n",
            "-1.3944358730691106e-07\n",
            "2.689302245670804e-06\n",
            "4936\n",
            "-1.7779186057893105e-05\n",
            "-1.0717713188584617e-07\n",
            "2.2227388095099083e-06\n",
            "5824\n",
            "-8.572952333417778e-06\n",
            "-1.0717713188584617e-07\n",
            "2.151730788282531e-06\n",
            "8957\n",
            "-1.3615791502931838e-05\n",
            "-1.0933680824661845e-07\n",
            "2.0433369623239105e-06\n",
            "5788\n",
            "-1.2365751421067551e-05\n",
            "-9.86394646714691e-08\n",
            "2.159955362174181e-06\n",
            "5256\n",
            "-1.6590836590465644e-06\n",
            "-1.2615668813457873e-07\n",
            "3.016213224792362e-06\n",
            "7352\n",
            "-3.5037954415448375e-06\n",
            "-1.3865488276253446e-07\n",
            "2.6861124620987336e-06\n",
            "3384\n",
            "-2.0968284689056464e-05\n",
            "-1.284982964989418e-07\n",
            "2.4844746508688867e-06\n",
            "6322\n",
            "-3.5891599981197724e-06\n",
            "-1.3809487803687394e-07\n",
            "2.6833754198124044e-06\n",
            "8969\n",
            "-1.1857497798524996e-05\n",
            "-1.0207429326987658e-07\n",
            "1.9899752801221664e-06\n",
            "4936\n",
            "-1.7779186057893105e-05\n",
            "-1.0717713188584617e-07\n",
            "2.2227388095099083e-06\n",
            "8420\n",
            "-2.73937498903181e-06\n",
            "-1.3651302099888922e-07\n",
            "2.6766315363441075e-06\n",
            "8428\n",
            "-2.9037084871502728e-06\n",
            "-1.3778094039402483e-07\n",
            "2.7150073808381437e-06\n",
            "8424\n",
            "-2.8374906717362877e-06\n",
            "-1.3728922138335948e-07\n",
            "2.717276401079663e-06\n",
            "6308\n",
            "-2.7432319987623518e-06\n",
            "-1.3944358730691106e-07\n",
            "2.689302245670804e-06\n",
            "2817\n",
            "-1.5401598842368814e-05\n",
            "-1.5542257935141675e-07\n",
            "2.601370653838213e-06\n",
            "6322\n",
            "-3.5891599981197724e-06\n",
            "-1.3809487803687394e-07\n",
            "2.6833754198124044e-06\n",
            "4041\n",
            "-1.0903004076434982e-05\n",
            "-1.2361358774105e-07\n",
            "3.0005331103068618e-06\n",
            "2146\n",
            "-1.8194664145280694e-06\n",
            "-1.2637177627723078e-07\n",
            "2.4600372775372783e-06\n",
            "4936\n",
            "-1.7779186057893105e-05\n",
            "-1.0717713188584617e-07\n",
            "2.2227388095099083e-06\n",
            "4899\n",
            "-1.2800751760783493e-05\n",
            "-1.0797306273693535e-07\n",
            "2.2998877735309027e-06\n",
            "2257\n",
            "-2.537455131636031e-06\n",
            "-1.35913393837759e-07\n",
            "2.5872993322726056e-06\n",
            "8044\n",
            "-1.5385290586923087e-05\n",
            "-1.0254461404031975e-07\n",
            "2.017619019783432e-06\n",
            "5824\n",
            "-8.572952333417778e-06\n",
            "-1.0717713188584617e-07\n",
            "2.151730788282531e-06\n",
            "4041\n",
            "-1.0903004076434982e-05\n",
            "-1.2361358774105e-07\n",
            "3.0005331103068618e-06\n",
            "7109\n",
            "-1.8260330137732623e-05\n",
            "-9.924901178043616e-08\n",
            "1.953633102436156e-06\n",
            "4338\n",
            "-2.135784860483784e-06\n",
            "-1.299165060726382e-07\n",
            "3.1364624386364198e-06\n",
            "7056\n",
            "-1.956179480873513e-05\n",
            "-9.706321307497056e-08\n",
            "1.9084835118861676e-06\n",
            "9329\n",
            "-1.9847865540813465e-05\n",
            "-1.1337104244327484e-07\n",
            "1.955554382304227e-06\n",
            "7109\n",
            "-1.8260330137732623e-05\n",
            "-9.924901178043616e-08\n",
            "1.953633102436156e-06\n",
            "4936\n",
            "-1.7779186057893105e-05\n",
            "-1.0717713188584617e-07\n",
            "2.2227388095099083e-06\n",
            "8044\n",
            "-1.7484491078959626e-05\n",
            "-9.981635666001283e-08\n",
            "2.034210610082085e-06\n",
            "7352\n",
            "-3.5037954415448375e-06\n",
            "-1.3865488276253446e-07\n",
            "2.6861124620987336e-06\n",
            "8428\n",
            "-2.9037084871502728e-06\n",
            "-1.3778094039402483e-07\n",
            "2.7150073808381437e-06\n"
          ]
        }
      ],
      "source": [
        "for i in np.random.choice(ca_df[(ca_df.ca_lower_bound>2000) & (ca_df.ca_lower_bound<1400000)].index,100):\n",
        "    seg = ca_df.loc[i,'segmentID']\n",
        "    if not pd.isnull(ca_df.loc[i,'ca_lower_bound']):\n",
        "        spkt = int(ca_df.loc[i,'ca_lower_bound'])\n",
        "        print(spkt)\n",
        "        print(max(hva['i_CaHva'][seg,spkt-500:spkt+500]))\n",
        "        print(max(lva['i_CaLva'][seg,spkt-500:spkt+500]))\n",
        "        print(max(ih['ihcn'][seg,spkt-500:spkt+500]))\n",
        "        \n",
        "        trace = -(hva['i_CaHva'][seg,spkt-500:spkt+500] + \\\n",
        "                lva['i_CaLva'][seg,spkt-500:spkt+500] + \\\n",
        "                ih['ihcn'][seg,spkt-500:spkt+500])\n",
        "        peak_value = np.max(trace)\n",
        "        half_peak = peak_value/2\n",
        "        duration = np.arange(0,1000)[trace>half_peak] + spkt - 10\n",
        "        ca_df.loc[i,'duration_low'] = duration[0]\n",
        "        ca_df.loc[i,'duration_high'] = duration[-1]\n",
        "        ca_df.loc[i,'peak_value'] = peak_value\n",
        "    else:\n",
        "        ca_df.loc[i,'duration_low'] = np.nan\n",
        "        ca_df.loc[i,'duration_high'] = np.nan\n",
        "        ca_df.loc[i,'peak_value'] = np.nan"
      ]
    },
    {
      "cell_type": "code",
      "execution_count": 44,
      "metadata": {
        "id": "4aEdrD8ANB11",
        "colab": {
          "base_uri": "https://localhost:8080/",
          "height": 1000
        },
        "outputId": "9b0a0885-45af-4bd8-e89c-9001aef7a6bb"
      },
      "outputs": [
        {
          "output_type": "execute_result",
          "data": {
            "text/plain": [
              "     index  Unnamed: 0  segmentID  ca_lower_bound  ca_upper_bound       mag  \\\n",
              "87      87           1         86          4337.0          4522.0 -0.002857   \n",
              "88      88           2         86          5256.0          5462.0 -0.003646   \n",
              "89      89           3         86          6312.0          6641.0 -0.003717   \n",
              "91      91           5         86          8435.0          8629.0 -0.002535   \n",
              "92      92           6         86          9308.0          9586.0 -0.002464   \n",
              "94      94           1         87          3507.0          3741.0 -0.003148   \n",
              "96      96           3         87          4936.0          5497.0 -0.006422   \n",
              "97      97           4         87          5824.0          6699.0 -0.007865   \n",
              "99      99           6         87          8044.0          8696.0 -0.005816   \n",
              "100    100           7         87          9329.0          9670.0 -0.004181   \n",
              "102    102           1         88          2257.0          2435.0 -0.001272   \n",
              "103    103           2         88          2796.0          3094.0 -0.002967   \n",
              "107    107           2         90          5251.0          5463.0 -0.003747   \n",
              "108    108           3         90          6308.0          6642.0 -0.003764   \n",
              "109    109           4         90          7349.0          7650.0 -0.003246   \n",
              "110    110           5         90          8424.0          8631.0 -0.002568   \n",
              "111    111           6         90          9316.0          9585.0 -0.002416   \n",
              "113    113           1         91          3498.0          3742.0 -0.003498   \n",
              "115    115           3         91          4923.0          5502.0 -0.006849   \n",
              "116    116           4         91          5816.0          6688.0 -0.007841   \n",
              "117    117           5         91          7087.0          7753.0 -0.006508   \n",
              "118    118           6         91          8008.0          8742.0 -0.006134   \n",
              "119    119           7         91          8957.0          9929.0 -0.006283   \n",
              "121    121           1         92          2146.0          2440.0 -0.002032   \n",
              "124    124           1         94          4338.0          4523.0 -0.002834   \n",
              "126    126           3         94          6292.0          6645.0 -0.003949   \n",
              "127    127           4         94          7365.0          7649.0 -0.003183   \n",
              "128    128           5         94          8428.0          8632.0 -0.002553   \n",
              "132    132           2         95          4041.0          4585.0 -0.005781   \n",
              "133    133           3         95          4899.0          5481.0 -0.006528   \n",
              "134    134           4         95          5815.0          6707.0 -0.008514   \n",
              "135    135           5         95          7056.0          7761.0 -0.006985   \n",
              "136    136           6         95          8044.0          8792.0 -0.006296   \n",
              "137    137           7         95          8964.0          9651.0 -0.005542   \n",
              "140    140           2         96          3384.0          3791.0 -0.005423   \n",
              "143    143           1         98          4343.0          4525.0 -0.002868   \n",
              "145    145           3         98          6322.0          6643.0 -0.003833   \n",
              "146    146           4         98          7352.0          7650.0 -0.003234   \n",
              "147    147           5         98          8420.0          8632.0 -0.002647   \n",
              "148    148           6         98          9312.0          9586.0 -0.002486   \n",
              "150    150           1         99          3501.0          3736.0 -0.003200   \n",
              "152    152           3         99          5152.0          5508.0 -0.006327   \n",
              "153    153           4         99          5788.0          6706.0 -0.008865   \n",
              "154    154           5         99          7109.0          7735.0 -0.006401   \n",
              "155    155           6         99          8029.0          8698.0 -0.006429   \n",
              "156    156           7         99          8969.0          9682.0 -0.005640   \n",
              "158    158           1        100          2817.0          3086.0 -0.002851   \n",
              "\n",
              "     duration_low  duration_high  peak_value  \n",
              "87         4892.0         5012.0    0.000262  \n",
              "88         5814.0         5951.0    0.000292  \n",
              "89         6985.0         7119.0    0.000269  \n",
              "91         8996.0         9116.0    0.000224  \n",
              "92         9953.0        10072.0    0.000204  \n",
              "94         4077.0         4198.0    0.000254  \n",
              "96         4926.0         5925.0    0.000332  \n",
              "97         5814.0         5967.0    0.000332  \n",
              "99         8034.0         9033.0    0.000280  \n",
              "100        9949.0        10093.0    0.000236  \n",
              "102        2840.0         2939.0    0.000141  \n",
              "103        2851.0         3540.0    0.000224  \n",
              "107        5814.0         5952.0    0.000297  \n",
              "108        6986.0         7121.0    0.000270  \n",
              "109        8004.0         8130.0    0.000247  \n",
              "110        8996.0         9117.0    0.000223  \n",
              "111        9953.0        10070.0    0.000204  \n",
              "113        4076.0         4200.0    0.000275  \n",
              "115        4913.0         5912.0    0.000341  \n",
              "116        5810.0         5970.0    0.000341  \n",
              "117        7077.0         8076.0    0.000284  \n",
              "118        7998.0         8997.0    0.000284  \n",
              "119        8992.0         9138.0    0.000262  \n",
              "121        2839.0         2937.0    0.000185  \n",
              "124        4892.0         5012.0    0.000259  \n",
              "126        6985.0         7121.0    0.000277  \n",
              "127        8004.0         8131.0    0.000245  \n",
              "128        8996.0         9117.0    0.000222  \n",
              "132        4086.0         5030.0    0.000322  \n",
              "133        4890.0         5888.0    0.000351  \n",
              "134        5809.0         5961.0    0.000351  \n",
              "135        7046.0         8045.0    0.000318  \n",
              "136        8034.0         9033.0    0.000287  \n",
              "137        8991.0         9953.0    0.000259  \n",
              "140        3434.0         4228.0    0.000307  \n",
              "143        4892.0         5014.0    0.000258  \n",
              "145        6985.0         7120.0    0.000276  \n",
              "146        8004.0         8131.0    0.000246  \n",
              "147        8995.0         9117.0    0.000226  \n",
              "148        9953.0        10071.0    0.000207  \n",
              "150        4077.0         4196.0    0.000263  \n",
              "152        5808.0         5971.0    0.000354  \n",
              "153        5808.0         5971.0    0.000354  \n",
              "154        7099.0         8098.0    0.000284  \n",
              "155        8019.0         9018.0    0.000284  \n",
              "156        8988.0         9958.0    0.000271  \n",
              "158        2850.0         3540.0    0.000227  "
            ],
            "text/html": [
              "\n",
              "  <div id=\"df-59d1465b-f1a1-4ca2-a07a-79910522f392\">\n",
              "    <div class=\"colab-df-container\">\n",
              "      <div>\n",
              "<style scoped>\n",
              "    .dataframe tbody tr th:only-of-type {\n",
              "        vertical-align: middle;\n",
              "    }\n",
              "\n",
              "    .dataframe tbody tr th {\n",
              "        vertical-align: top;\n",
              "    }\n",
              "\n",
              "    .dataframe thead th {\n",
              "        text-align: right;\n",
              "    }\n",
              "</style>\n",
              "<table border=\"1\" class=\"dataframe\">\n",
              "  <thead>\n",
              "    <tr style=\"text-align: right;\">\n",
              "      <th></th>\n",
              "      <th>index</th>\n",
              "      <th>Unnamed: 0</th>\n",
              "      <th>segmentID</th>\n",
              "      <th>ca_lower_bound</th>\n",
              "      <th>ca_upper_bound</th>\n",
              "      <th>mag</th>\n",
              "      <th>duration_low</th>\n",
              "      <th>duration_high</th>\n",
              "      <th>peak_value</th>\n",
              "    </tr>\n",
              "  </thead>\n",
              "  <tbody>\n",
              "    <tr>\n",
              "      <th>87</th>\n",
              "      <td>87</td>\n",
              "      <td>1</td>\n",
              "      <td>86</td>\n",
              "      <td>4337.0</td>\n",
              "      <td>4522.0</td>\n",
              "      <td>-0.002857</td>\n",
              "      <td>4892.0</td>\n",
              "      <td>5012.0</td>\n",
              "      <td>0.000262</td>\n",
              "    </tr>\n",
              "    <tr>\n",
              "      <th>88</th>\n",
              "      <td>88</td>\n",
              "      <td>2</td>\n",
              "      <td>86</td>\n",
              "      <td>5256.0</td>\n",
              "      <td>5462.0</td>\n",
              "      <td>-0.003646</td>\n",
              "      <td>5814.0</td>\n",
              "      <td>5951.0</td>\n",
              "      <td>0.000292</td>\n",
              "    </tr>\n",
              "    <tr>\n",
              "      <th>89</th>\n",
              "      <td>89</td>\n",
              "      <td>3</td>\n",
              "      <td>86</td>\n",
              "      <td>6312.0</td>\n",
              "      <td>6641.0</td>\n",
              "      <td>-0.003717</td>\n",
              "      <td>6985.0</td>\n",
              "      <td>7119.0</td>\n",
              "      <td>0.000269</td>\n",
              "    </tr>\n",
              "    <tr>\n",
              "      <th>91</th>\n",
              "      <td>91</td>\n",
              "      <td>5</td>\n",
              "      <td>86</td>\n",
              "      <td>8435.0</td>\n",
              "      <td>8629.0</td>\n",
              "      <td>-0.002535</td>\n",
              "      <td>8996.0</td>\n",
              "      <td>9116.0</td>\n",
              "      <td>0.000224</td>\n",
              "    </tr>\n",
              "    <tr>\n",
              "      <th>92</th>\n",
              "      <td>92</td>\n",
              "      <td>6</td>\n",
              "      <td>86</td>\n",
              "      <td>9308.0</td>\n",
              "      <td>9586.0</td>\n",
              "      <td>-0.002464</td>\n",
              "      <td>9953.0</td>\n",
              "      <td>10072.0</td>\n",
              "      <td>0.000204</td>\n",
              "    </tr>\n",
              "    <tr>\n",
              "      <th>94</th>\n",
              "      <td>94</td>\n",
              "      <td>1</td>\n",
              "      <td>87</td>\n",
              "      <td>3507.0</td>\n",
              "      <td>3741.0</td>\n",
              "      <td>-0.003148</td>\n",
              "      <td>4077.0</td>\n",
              "      <td>4198.0</td>\n",
              "      <td>0.000254</td>\n",
              "    </tr>\n",
              "    <tr>\n",
              "      <th>96</th>\n",
              "      <td>96</td>\n",
              "      <td>3</td>\n",
              "      <td>87</td>\n",
              "      <td>4936.0</td>\n",
              "      <td>5497.0</td>\n",
              "      <td>-0.006422</td>\n",
              "      <td>4926.0</td>\n",
              "      <td>5925.0</td>\n",
              "      <td>0.000332</td>\n",
              "    </tr>\n",
              "    <tr>\n",
              "      <th>97</th>\n",
              "      <td>97</td>\n",
              "      <td>4</td>\n",
              "      <td>87</td>\n",
              "      <td>5824.0</td>\n",
              "      <td>6699.0</td>\n",
              "      <td>-0.007865</td>\n",
              "      <td>5814.0</td>\n",
              "      <td>5967.0</td>\n",
              "      <td>0.000332</td>\n",
              "    </tr>\n",
              "    <tr>\n",
              "      <th>99</th>\n",
              "      <td>99</td>\n",
              "      <td>6</td>\n",
              "      <td>87</td>\n",
              "      <td>8044.0</td>\n",
              "      <td>8696.0</td>\n",
              "      <td>-0.005816</td>\n",
              "      <td>8034.0</td>\n",
              "      <td>9033.0</td>\n",
              "      <td>0.000280</td>\n",
              "    </tr>\n",
              "    <tr>\n",
              "      <th>100</th>\n",
              "      <td>100</td>\n",
              "      <td>7</td>\n",
              "      <td>87</td>\n",
              "      <td>9329.0</td>\n",
              "      <td>9670.0</td>\n",
              "      <td>-0.004181</td>\n",
              "      <td>9949.0</td>\n",
              "      <td>10093.0</td>\n",
              "      <td>0.000236</td>\n",
              "    </tr>\n",
              "    <tr>\n",
              "      <th>102</th>\n",
              "      <td>102</td>\n",
              "      <td>1</td>\n",
              "      <td>88</td>\n",
              "      <td>2257.0</td>\n",
              "      <td>2435.0</td>\n",
              "      <td>-0.001272</td>\n",
              "      <td>2840.0</td>\n",
              "      <td>2939.0</td>\n",
              "      <td>0.000141</td>\n",
              "    </tr>\n",
              "    <tr>\n",
              "      <th>103</th>\n",
              "      <td>103</td>\n",
              "      <td>2</td>\n",
              "      <td>88</td>\n",
              "      <td>2796.0</td>\n",
              "      <td>3094.0</td>\n",
              "      <td>-0.002967</td>\n",
              "      <td>2851.0</td>\n",
              "      <td>3540.0</td>\n",
              "      <td>0.000224</td>\n",
              "    </tr>\n",
              "    <tr>\n",
              "      <th>107</th>\n",
              "      <td>107</td>\n",
              "      <td>2</td>\n",
              "      <td>90</td>\n",
              "      <td>5251.0</td>\n",
              "      <td>5463.0</td>\n",
              "      <td>-0.003747</td>\n",
              "      <td>5814.0</td>\n",
              "      <td>5952.0</td>\n",
              "      <td>0.000297</td>\n",
              "    </tr>\n",
              "    <tr>\n",
              "      <th>108</th>\n",
              "      <td>108</td>\n",
              "      <td>3</td>\n",
              "      <td>90</td>\n",
              "      <td>6308.0</td>\n",
              "      <td>6642.0</td>\n",
              "      <td>-0.003764</td>\n",
              "      <td>6986.0</td>\n",
              "      <td>7121.0</td>\n",
              "      <td>0.000270</td>\n",
              "    </tr>\n",
              "    <tr>\n",
              "      <th>109</th>\n",
              "      <td>109</td>\n",
              "      <td>4</td>\n",
              "      <td>90</td>\n",
              "      <td>7349.0</td>\n",
              "      <td>7650.0</td>\n",
              "      <td>-0.003246</td>\n",
              "      <td>8004.0</td>\n",
              "      <td>8130.0</td>\n",
              "      <td>0.000247</td>\n",
              "    </tr>\n",
              "    <tr>\n",
              "      <th>110</th>\n",
              "      <td>110</td>\n",
              "      <td>5</td>\n",
              "      <td>90</td>\n",
              "      <td>8424.0</td>\n",
              "      <td>8631.0</td>\n",
              "      <td>-0.002568</td>\n",
              "      <td>8996.0</td>\n",
              "      <td>9117.0</td>\n",
              "      <td>0.000223</td>\n",
              "    </tr>\n",
              "    <tr>\n",
              "      <th>111</th>\n",
              "      <td>111</td>\n",
              "      <td>6</td>\n",
              "      <td>90</td>\n",
              "      <td>9316.0</td>\n",
              "      <td>9585.0</td>\n",
              "      <td>-0.002416</td>\n",
              "      <td>9953.0</td>\n",
              "      <td>10070.0</td>\n",
              "      <td>0.000204</td>\n",
              "    </tr>\n",
              "    <tr>\n",
              "      <th>113</th>\n",
              "      <td>113</td>\n",
              "      <td>1</td>\n",
              "      <td>91</td>\n",
              "      <td>3498.0</td>\n",
              "      <td>3742.0</td>\n",
              "      <td>-0.003498</td>\n",
              "      <td>4076.0</td>\n",
              "      <td>4200.0</td>\n",
              "      <td>0.000275</td>\n",
              "    </tr>\n",
              "    <tr>\n",
              "      <th>115</th>\n",
              "      <td>115</td>\n",
              "      <td>3</td>\n",
              "      <td>91</td>\n",
              "      <td>4923.0</td>\n",
              "      <td>5502.0</td>\n",
              "      <td>-0.006849</td>\n",
              "      <td>4913.0</td>\n",
              "      <td>5912.0</td>\n",
              "      <td>0.000341</td>\n",
              "    </tr>\n",
              "    <tr>\n",
              "      <th>116</th>\n",
              "      <td>116</td>\n",
              "      <td>4</td>\n",
              "      <td>91</td>\n",
              "      <td>5816.0</td>\n",
              "      <td>6688.0</td>\n",
              "      <td>-0.007841</td>\n",
              "      <td>5810.0</td>\n",
              "      <td>5970.0</td>\n",
              "      <td>0.000341</td>\n",
              "    </tr>\n",
              "    <tr>\n",
              "      <th>117</th>\n",
              "      <td>117</td>\n",
              "      <td>5</td>\n",
              "      <td>91</td>\n",
              "      <td>7087.0</td>\n",
              "      <td>7753.0</td>\n",
              "      <td>-0.006508</td>\n",
              "      <td>7077.0</td>\n",
              "      <td>8076.0</td>\n",
              "      <td>0.000284</td>\n",
              "    </tr>\n",
              "    <tr>\n",
              "      <th>118</th>\n",
              "      <td>118</td>\n",
              "      <td>6</td>\n",
              "      <td>91</td>\n",
              "      <td>8008.0</td>\n",
              "      <td>8742.0</td>\n",
              "      <td>-0.006134</td>\n",
              "      <td>7998.0</td>\n",
              "      <td>8997.0</td>\n",
              "      <td>0.000284</td>\n",
              "    </tr>\n",
              "    <tr>\n",
              "      <th>119</th>\n",
              "      <td>119</td>\n",
              "      <td>7</td>\n",
              "      <td>91</td>\n",
              "      <td>8957.0</td>\n",
              "      <td>9929.0</td>\n",
              "      <td>-0.006283</td>\n",
              "      <td>8992.0</td>\n",
              "      <td>9138.0</td>\n",
              "      <td>0.000262</td>\n",
              "    </tr>\n",
              "    <tr>\n",
              "      <th>121</th>\n",
              "      <td>121</td>\n",
              "      <td>1</td>\n",
              "      <td>92</td>\n",
              "      <td>2146.0</td>\n",
              "      <td>2440.0</td>\n",
              "      <td>-0.002032</td>\n",
              "      <td>2839.0</td>\n",
              "      <td>2937.0</td>\n",
              "      <td>0.000185</td>\n",
              "    </tr>\n",
              "    <tr>\n",
              "      <th>124</th>\n",
              "      <td>124</td>\n",
              "      <td>1</td>\n",
              "      <td>94</td>\n",
              "      <td>4338.0</td>\n",
              "      <td>4523.0</td>\n",
              "      <td>-0.002834</td>\n",
              "      <td>4892.0</td>\n",
              "      <td>5012.0</td>\n",
              "      <td>0.000259</td>\n",
              "    </tr>\n",
              "    <tr>\n",
              "      <th>126</th>\n",
              "      <td>126</td>\n",
              "      <td>3</td>\n",
              "      <td>94</td>\n",
              "      <td>6292.0</td>\n",
              "      <td>6645.0</td>\n",
              "      <td>-0.003949</td>\n",
              "      <td>6985.0</td>\n",
              "      <td>7121.0</td>\n",
              "      <td>0.000277</td>\n",
              "    </tr>\n",
              "    <tr>\n",
              "      <th>127</th>\n",
              "      <td>127</td>\n",
              "      <td>4</td>\n",
              "      <td>94</td>\n",
              "      <td>7365.0</td>\n",
              "      <td>7649.0</td>\n",
              "      <td>-0.003183</td>\n",
              "      <td>8004.0</td>\n",
              "      <td>8131.0</td>\n",
              "      <td>0.000245</td>\n",
              "    </tr>\n",
              "    <tr>\n",
              "      <th>128</th>\n",
              "      <td>128</td>\n",
              "      <td>5</td>\n",
              "      <td>94</td>\n",
              "      <td>8428.0</td>\n",
              "      <td>8632.0</td>\n",
              "      <td>-0.002553</td>\n",
              "      <td>8996.0</td>\n",
              "      <td>9117.0</td>\n",
              "      <td>0.000222</td>\n",
              "    </tr>\n",
              "    <tr>\n",
              "      <th>132</th>\n",
              "      <td>132</td>\n",
              "      <td>2</td>\n",
              "      <td>95</td>\n",
              "      <td>4041.0</td>\n",
              "      <td>4585.0</td>\n",
              "      <td>-0.005781</td>\n",
              "      <td>4086.0</td>\n",
              "      <td>5030.0</td>\n",
              "      <td>0.000322</td>\n",
              "    </tr>\n",
              "    <tr>\n",
              "      <th>133</th>\n",
              "      <td>133</td>\n",
              "      <td>3</td>\n",
              "      <td>95</td>\n",
              "      <td>4899.0</td>\n",
              "      <td>5481.0</td>\n",
              "      <td>-0.006528</td>\n",
              "      <td>4890.0</td>\n",
              "      <td>5888.0</td>\n",
              "      <td>0.000351</td>\n",
              "    </tr>\n",
              "    <tr>\n",
              "      <th>134</th>\n",
              "      <td>134</td>\n",
              "      <td>4</td>\n",
              "      <td>95</td>\n",
              "      <td>5815.0</td>\n",
              "      <td>6707.0</td>\n",
              "      <td>-0.008514</td>\n",
              "      <td>5809.0</td>\n",
              "      <td>5961.0</td>\n",
              "      <td>0.000351</td>\n",
              "    </tr>\n",
              "    <tr>\n",
              "      <th>135</th>\n",
              "      <td>135</td>\n",
              "      <td>5</td>\n",
              "      <td>95</td>\n",
              "      <td>7056.0</td>\n",
              "      <td>7761.0</td>\n",
              "      <td>-0.006985</td>\n",
              "      <td>7046.0</td>\n",
              "      <td>8045.0</td>\n",
              "      <td>0.000318</td>\n",
              "    </tr>\n",
              "    <tr>\n",
              "      <th>136</th>\n",
              "      <td>136</td>\n",
              "      <td>6</td>\n",
              "      <td>95</td>\n",
              "      <td>8044.0</td>\n",
              "      <td>8792.0</td>\n",
              "      <td>-0.006296</td>\n",
              "      <td>8034.0</td>\n",
              "      <td>9033.0</td>\n",
              "      <td>0.000287</td>\n",
              "    </tr>\n",
              "    <tr>\n",
              "      <th>137</th>\n",
              "      <td>137</td>\n",
              "      <td>7</td>\n",
              "      <td>95</td>\n",
              "      <td>8964.0</td>\n",
              "      <td>9651.0</td>\n",
              "      <td>-0.005542</td>\n",
              "      <td>8991.0</td>\n",
              "      <td>9953.0</td>\n",
              "      <td>0.000259</td>\n",
              "    </tr>\n",
              "    <tr>\n",
              "      <th>140</th>\n",
              "      <td>140</td>\n",
              "      <td>2</td>\n",
              "      <td>96</td>\n",
              "      <td>3384.0</td>\n",
              "      <td>3791.0</td>\n",
              "      <td>-0.005423</td>\n",
              "      <td>3434.0</td>\n",
              "      <td>4228.0</td>\n",
              "      <td>0.000307</td>\n",
              "    </tr>\n",
              "    <tr>\n",
              "      <th>143</th>\n",
              "      <td>143</td>\n",
              "      <td>1</td>\n",
              "      <td>98</td>\n",
              "      <td>4343.0</td>\n",
              "      <td>4525.0</td>\n",
              "      <td>-0.002868</td>\n",
              "      <td>4892.0</td>\n",
              "      <td>5014.0</td>\n",
              "      <td>0.000258</td>\n",
              "    </tr>\n",
              "    <tr>\n",
              "      <th>145</th>\n",
              "      <td>145</td>\n",
              "      <td>3</td>\n",
              "      <td>98</td>\n",
              "      <td>6322.0</td>\n",
              "      <td>6643.0</td>\n",
              "      <td>-0.003833</td>\n",
              "      <td>6985.0</td>\n",
              "      <td>7120.0</td>\n",
              "      <td>0.000276</td>\n",
              "    </tr>\n",
              "    <tr>\n",
              "      <th>146</th>\n",
              "      <td>146</td>\n",
              "      <td>4</td>\n",
              "      <td>98</td>\n",
              "      <td>7352.0</td>\n",
              "      <td>7650.0</td>\n",
              "      <td>-0.003234</td>\n",
              "      <td>8004.0</td>\n",
              "      <td>8131.0</td>\n",
              "      <td>0.000246</td>\n",
              "    </tr>\n",
              "    <tr>\n",
              "      <th>147</th>\n",
              "      <td>147</td>\n",
              "      <td>5</td>\n",
              "      <td>98</td>\n",
              "      <td>8420.0</td>\n",
              "      <td>8632.0</td>\n",
              "      <td>-0.002647</td>\n",
              "      <td>8995.0</td>\n",
              "      <td>9117.0</td>\n",
              "      <td>0.000226</td>\n",
              "    </tr>\n",
              "    <tr>\n",
              "      <th>148</th>\n",
              "      <td>148</td>\n",
              "      <td>6</td>\n",
              "      <td>98</td>\n",
              "      <td>9312.0</td>\n",
              "      <td>9586.0</td>\n",
              "      <td>-0.002486</td>\n",
              "      <td>9953.0</td>\n",
              "      <td>10071.0</td>\n",
              "      <td>0.000207</td>\n",
              "    </tr>\n",
              "    <tr>\n",
              "      <th>150</th>\n",
              "      <td>150</td>\n",
              "      <td>1</td>\n",
              "      <td>99</td>\n",
              "      <td>3501.0</td>\n",
              "      <td>3736.0</td>\n",
              "      <td>-0.003200</td>\n",
              "      <td>4077.0</td>\n",
              "      <td>4196.0</td>\n",
              "      <td>0.000263</td>\n",
              "    </tr>\n",
              "    <tr>\n",
              "      <th>152</th>\n",
              "      <td>152</td>\n",
              "      <td>3</td>\n",
              "      <td>99</td>\n",
              "      <td>5152.0</td>\n",
              "      <td>5508.0</td>\n",
              "      <td>-0.006327</td>\n",
              "      <td>5808.0</td>\n",
              "      <td>5971.0</td>\n",
              "      <td>0.000354</td>\n",
              "    </tr>\n",
              "    <tr>\n",
              "      <th>153</th>\n",
              "      <td>153</td>\n",
              "      <td>4</td>\n",
              "      <td>99</td>\n",
              "      <td>5788.0</td>\n",
              "      <td>6706.0</td>\n",
              "      <td>-0.008865</td>\n",
              "      <td>5808.0</td>\n",
              "      <td>5971.0</td>\n",
              "      <td>0.000354</td>\n",
              "    </tr>\n",
              "    <tr>\n",
              "      <th>154</th>\n",
              "      <td>154</td>\n",
              "      <td>5</td>\n",
              "      <td>99</td>\n",
              "      <td>7109.0</td>\n",
              "      <td>7735.0</td>\n",
              "      <td>-0.006401</td>\n",
              "      <td>7099.0</td>\n",
              "      <td>8098.0</td>\n",
              "      <td>0.000284</td>\n",
              "    </tr>\n",
              "    <tr>\n",
              "      <th>155</th>\n",
              "      <td>155</td>\n",
              "      <td>6</td>\n",
              "      <td>99</td>\n",
              "      <td>8029.0</td>\n",
              "      <td>8698.0</td>\n",
              "      <td>-0.006429</td>\n",
              "      <td>8019.0</td>\n",
              "      <td>9018.0</td>\n",
              "      <td>0.000284</td>\n",
              "    </tr>\n",
              "    <tr>\n",
              "      <th>156</th>\n",
              "      <td>156</td>\n",
              "      <td>7</td>\n",
              "      <td>99</td>\n",
              "      <td>8969.0</td>\n",
              "      <td>9682.0</td>\n",
              "      <td>-0.005640</td>\n",
              "      <td>8988.0</td>\n",
              "      <td>9958.0</td>\n",
              "      <td>0.000271</td>\n",
              "    </tr>\n",
              "    <tr>\n",
              "      <th>158</th>\n",
              "      <td>158</td>\n",
              "      <td>1</td>\n",
              "      <td>100</td>\n",
              "      <td>2817.0</td>\n",
              "      <td>3086.0</td>\n",
              "      <td>-0.002851</td>\n",
              "      <td>2850.0</td>\n",
              "      <td>3540.0</td>\n",
              "      <td>0.000227</td>\n",
              "    </tr>\n",
              "  </tbody>\n",
              "</table>\n",
              "</div>\n",
              "      <button class=\"colab-df-convert\" onclick=\"convertToInteractive('df-59d1465b-f1a1-4ca2-a07a-79910522f392')\"\n",
              "              title=\"Convert this dataframe to an interactive table.\"\n",
              "              style=\"display:none;\">\n",
              "        \n",
              "  <svg xmlns=\"http://www.w3.org/2000/svg\" height=\"24px\"viewBox=\"0 0 24 24\"\n",
              "       width=\"24px\">\n",
              "    <path d=\"M0 0h24v24H0V0z\" fill=\"none\"/>\n",
              "    <path d=\"M18.56 5.44l.94 2.06.94-2.06 2.06-.94-2.06-.94-.94-2.06-.94 2.06-2.06.94zm-11 1L8.5 8.5l.94-2.06 2.06-.94-2.06-.94L8.5 2.5l-.94 2.06-2.06.94zm10 10l.94 2.06.94-2.06 2.06-.94-2.06-.94-.94-2.06-.94 2.06-2.06.94z\"/><path d=\"M17.41 7.96l-1.37-1.37c-.4-.4-.92-.59-1.43-.59-.52 0-1.04.2-1.43.59L10.3 9.45l-7.72 7.72c-.78.78-.78 2.05 0 2.83L4 21.41c.39.39.9.59 1.41.59.51 0 1.02-.2 1.41-.59l7.78-7.78 2.81-2.81c.8-.78.8-2.07 0-2.86zM5.41 20L4 18.59l7.72-7.72 1.47 1.35L5.41 20z\"/>\n",
              "  </svg>\n",
              "      </button>\n",
              "      \n",
              "  <style>\n",
              "    .colab-df-container {\n",
              "      display:flex;\n",
              "      flex-wrap:wrap;\n",
              "      gap: 12px;\n",
              "    }\n",
              "\n",
              "    .colab-df-convert {\n",
              "      background-color: #E8F0FE;\n",
              "      border: none;\n",
              "      border-radius: 50%;\n",
              "      cursor: pointer;\n",
              "      display: none;\n",
              "      fill: #1967D2;\n",
              "      height: 32px;\n",
              "      padding: 0 0 0 0;\n",
              "      width: 32px;\n",
              "    }\n",
              "\n",
              "    .colab-df-convert:hover {\n",
              "      background-color: #E2EBFA;\n",
              "      box-shadow: 0px 1px 2px rgba(60, 64, 67, 0.3), 0px 1px 3px 1px rgba(60, 64, 67, 0.15);\n",
              "      fill: #174EA6;\n",
              "    }\n",
              "\n",
              "    [theme=dark] .colab-df-convert {\n",
              "      background-color: #3B4455;\n",
              "      fill: #D2E3FC;\n",
              "    }\n",
              "\n",
              "    [theme=dark] .colab-df-convert:hover {\n",
              "      background-color: #434B5C;\n",
              "      box-shadow: 0px 1px 3px 1px rgba(0, 0, 0, 0.15);\n",
              "      filter: drop-shadow(0px 1px 2px rgba(0, 0, 0, 0.3));\n",
              "      fill: #FFFFFF;\n",
              "    }\n",
              "  </style>\n",
              "\n",
              "      <script>\n",
              "        const buttonEl =\n",
              "          document.querySelector('#df-59d1465b-f1a1-4ca2-a07a-79910522f392 button.colab-df-convert');\n",
              "        buttonEl.style.display =\n",
              "          google.colab.kernel.accessAllowed ? 'block' : 'none';\n",
              "\n",
              "        async function convertToInteractive(key) {\n",
              "          const element = document.querySelector('#df-59d1465b-f1a1-4ca2-a07a-79910522f392');\n",
              "          const dataTable =\n",
              "            await google.colab.kernel.invokeFunction('convertToInteractive',\n",
              "                                                     [key], {});\n",
              "          if (!dataTable) return;\n",
              "\n",
              "          const docLinkHtml = 'Like what you see? Visit the ' +\n",
              "            '<a target=\"_blank\" href=https://colab.research.google.com/notebooks/data_table.ipynb>data table notebook</a>'\n",
              "            + ' to learn more about interactive tables.';\n",
              "          element.innerHTML = '';\n",
              "          dataTable['output_type'] = 'display_data';\n",
              "          await google.colab.output.renderOutput(dataTable, element);\n",
              "          const docLink = document.createElement('div');\n",
              "          docLink.innerHTML = docLinkHtml;\n",
              "          element.appendChild(docLink);\n",
              "        }\n",
              "      </script>\n",
              "    </div>\n",
              "  </div>\n",
              "  "
            ]
          },
          "metadata": {},
          "execution_count": 44
        }
      ],
      "source": [
        "ca_df[~pd.isnull(ca_df.duration_high)]"
      ]
    },
    {
      "cell_type": "code",
      "execution_count": 45,
      "metadata": {
        "id": "OJztrWOkNB11",
        "colab": {
          "base_uri": "https://localhost:8080/",
          "height": 285
        },
        "outputId": "56eb86b6-e0ee-4aa3-970b-b0ab6674413d"
      },
      "outputs": [
        {
          "output_type": "execute_result",
          "data": {
            "text/plain": [
              "[<matplotlib.lines.Line2D at 0x7f65f71f39d0>]"
            ]
          },
          "metadata": {},
          "execution_count": 45
        },
        {
          "output_type": "display_data",
          "data": {
            "text/plain": [
              "<Figure size 432x288 with 2 Axes>"
            ],
            "image/png": "[encoded data removed]"
          },
          "metadata": {
            "needs_background": "light"
          }
        }
      ],
      "source": [
        "seg = 60\n",
        "lower_bound = 4000\n",
        "#upper_bound = \n",
        "plt.plot(-(hva['i_CaHva'][seg,lower_bound-1000:lower_bound+1000]+\\\n",
        "         lva['i_CaLva'][seg,lower_bound-1000:lower_bound+1000]+\\\n",
        "         ih['ihcn'][seg,lower_bound-1000:lower_bound+1000]))\n",
        "plt.plot(1000,-(hva['i_CaHva'][seg,lower_bound]+\\\n",
        "         lva['i_CaLva'][seg,lower_bound]+\\\n",
        "         ih['ihcn'][seg,lower_bound]),'*')\n",
        "\n",
        "plt.plot(1000+4000-lower_bound,-(hva['i_CaHva'][seg,4000]+\\\n",
        "         lva['i_CaLva'][seg,4000]+\\\n",
        "         ih['ihcn'][seg,4000]),'*')\n",
        "\n",
        "plt.twinx()\n",
        "plt.plot(v['v'][seg,lower_bound-1000:lower_bound+1000],color='k')"
      ]
    },
    {
      "cell_type": "markdown",
      "metadata": {
        "id": "9RJYroxmNB11"
      },
      "source": [
        "----------"
      ]
    },
    {
      "cell_type": "code",
      "source": [
        "print(ca_df.set_index('segmentID'))\n"
      ],
      "metadata": {
        "colab": {
          "base_uri": "https://localhost:8080/"
        },
        "id": "RsH9F9uywiiL",
        "outputId": "909f227f-4a4f-4851-d2fb-ca4b2e627b0c"
      },
      "execution_count": 46,
      "outputs": [
        {
          "output_type": "stream",
          "name": "stdout",
          "text": [
            "           index  Unnamed: 0  ca_lower_bound  ca_upper_bound  mag  \\\n",
            "segmentID                                                           \n",
            "0              0           0             NaN             NaN  NaN   \n",
            "1              1           0             NaN             NaN  NaN   \n",
            "2              2           0             NaN             NaN  NaN   \n",
            "3              3           0             NaN             NaN  NaN   \n",
            "4              4           0             NaN             NaN  NaN   \n",
            "...          ...         ...             ...             ...  ...   \n",
            "162          221           0             NaN             NaN  NaN   \n",
            "163          222           0             NaN             NaN  NaN   \n",
            "164          223           0             NaN             NaN  NaN   \n",
            "165          224           0             NaN             NaN  NaN   \n",
            "166          225           0             NaN             NaN  NaN   \n",
            "\n",
            "           duration_low  duration_high  peak_value  \n",
            "segmentID                                           \n",
            "0                   NaN            NaN         NaN  \n",
            "1                   NaN            NaN         NaN  \n",
            "2                   NaN            NaN         NaN  \n",
            "3                   NaN            NaN         NaN  \n",
            "4                   NaN            NaN         NaN  \n",
            "...                 ...            ...         ...  \n",
            "162                 NaN            NaN         NaN  \n",
            "163                 NaN            NaN         NaN  \n",
            "164                 NaN            NaN         NaN  \n",
            "165                 NaN            NaN         NaN  \n",
            "166                 NaN            NaN         NaN  \n",
            "\n",
            "[226 rows x 8 columns]\n"
          ]
        }
      ]
    },
    {
      "cell_type": "code",
      "execution_count": 47,
      "metadata": {
        "id": "b8_iTU9BNB11",
        "colab": {
          "base_uri": "https://localhost:8080/"
        },
        "outputId": "06ce2bc0-c6ed-4409-8b23-2aea1f80966d"
      },
      "outputs": [
        {
          "output_type": "stream",
          "name": "stdout",
          "text": [
            "            sec   Type  Elec_distance             X            Y  index  \\\n",
            "segmentID                                                                 \n",
            "87         20.0   apic       0.033333  1.725441e+01   764.395101     93   \n",
            "87         20.0   apic       0.033333  1.725441e+01   764.395101     94   \n",
            "87         20.0   apic       0.033333  1.725441e+01   764.395101     95   \n",
            "87         20.0   apic       0.033333  1.725441e+01   764.395101     96   \n",
            "87         20.0   apic       0.033333  1.725441e+01   764.395101     97   \n",
            "...         ...    ...            ...           ...          ...    ...   \n",
            "153        31.0  basal       0.005268 -1.901750e-14  1086.370605    212   \n",
            "154        31.0  basal       0.004752 -2.060229e-14  1118.568156    213   \n",
            "155        31.0  basal       0.004289 -2.218708e-14  1150.765706    214   \n",
            "156        31.0  basal       0.003872 -2.377187e-14  1182.963257    215   \n",
            "158        32.0  basal       0.919452  0.000000e+00   -60.000000    217   \n",
            "\n",
            "           Unnamed: 0  ca_lower_bound  ca_upper_bound       mag  duration_low  \\\n",
            "segmentID                                                                       \n",
            "87                  0           813.0          1257.0 -0.027572           NaN   \n",
            "87                  1          3507.0          3741.0 -0.003148        4077.0   \n",
            "87                  2          4100.0          4568.0 -0.005509           NaN   \n",
            "87                  3          4936.0          5497.0 -0.006422        4926.0   \n",
            "87                  4          5824.0          6699.0 -0.007865        5814.0   \n",
            "...               ...             ...             ...       ...           ...   \n",
            "153                 0             NaN             NaN       NaN           NaN   \n",
            "154                 0             NaN             NaN       NaN           NaN   \n",
            "155                 0             NaN             NaN       NaN           NaN   \n",
            "156                 0             NaN             NaN       NaN           NaN   \n",
            "158                 0             NaN             NaN       NaN           NaN   \n",
            "\n",
            "           duration_high  peak_value  \n",
            "segmentID                             \n",
            "87                   NaN         NaN  \n",
            "87                4198.0    0.000254  \n",
            "87                   NaN         NaN  \n",
            "87                5925.0    0.000332  \n",
            "87                5967.0    0.000332  \n",
            "...                  ...         ...  \n",
            "153                  NaN         NaN  \n",
            "154                  NaN         NaN  \n",
            "155                  NaN         NaN  \n",
            "156                  NaN         NaN  \n",
            "158                  NaN         NaN  \n",
            "\n",
            "[81 rows x 13 columns]\n"
          ]
        },
        {
          "output_type": "stream",
          "name": "stderr",
          "text": [
            "/usr/local/lib/python3.7/dist-packages/ipykernel_launcher.py:5: UserWarning: Boolean Series key will be reindexed to match DataFrame index.\n",
            "  \"\"\"\n"
          ]
        }
      ],
      "source": [
        "segs_ca_df = segs.set_index('segmentID').join(ca_df.set_index('segmentID'))\n",
        "#reset_index() \n",
        "#segs_na_df = segs.set_index('segmentID').join(na_df.set_index('segmentID')).reset_index()\n",
        "\n",
        "print(segs_ca_df[~pd.isnull(ca_df.duration_high)])\n",
        "\n",
        "#segs_ca_df[~pd.isnull(ca_df.duration_high)]"
      ]
    },
    {
      "cell_type": "code",
      "source": [
        "# segs_ca_df = ca_df.set_index('segmentID')\n",
        "# print(segs_ca_df)"
      ],
      "metadata": {
        "id": "N_-6kuX_P6ie"
      },
      "execution_count": 48,
      "outputs": []
    },
    {
      "cell_type": "code",
      "execution_count": 49,
      "metadata": {
        "id": "6Tf1DhxENB11"
      },
      "outputs": [],
      "source": [
        "def get_ca_sta(segs_ca_df, spktimes):\n",
        "\n",
        "    ca_apic = np.zeros((10,39,))\n",
        "    \n",
        "    edges_apic=np.quantile(segs_ca_df[(~pd.isnull(segs_ca_df.ca_lower_bound))&\n",
        "                                       (segs_ca_df.Type=='basal')]['Elec_distance'].unique(),np.arange(0,1.1,0.1))\n",
        "    \n",
        "    \n",
        "    \n",
        "    actual_spktimes = []\n",
        "    c = 0\n",
        "    for i in np.sort(spktimes):\n",
        "        # excludes bursts\n",
        "        if i-c > 10:\n",
        "            for e in np.arange(0,10):\n",
        "                ca_inds = segs_ca_df[(~pd.isnull(segs_ca_df.ca_lower_bound))&\n",
        "                                     (segs_ca_df.Type=='basal')&\n",
        "                                     (segs_ca_df.Elec_distance>edges_apic[e])&\n",
        "                                     (segs_ca_df.Elec_distance<=edges_apic[e+1])]['ca_lower_bound'].values.astype(int)\n",
        "    \n",
        "                x2, _ = np.histogram(ca_inds/10,bins=np.arange(np.floor(i)-20,np.floor(i)+20,1))\n",
        "                ca_apic[e] += x2\n",
        "                \n",
        "                \n",
        "            \n",
        "            actual_spktimes.append(i)\n",
        "        c = i\n",
        "    return ca_apic"
      ]
    },
    {
      "cell_type": "code",
      "execution_count": 50,
      "metadata": {
        "id": "rhu1eydiNB11"
      },
      "outputs": [],
      "source": [
        "ca_apic = get_ca_sta(segs_ca_df, spktimes)"
      ]
    },
    {
      "cell_type": "code",
      "execution_count": 51,
      "metadata": {
        "id": "EyWIu8b0NB11"
      },
      "outputs": [],
      "source": [
        "rand_spktimes = np.sort(np.random.choice(np.arange(0,150000), spktimes.shape[0]))\n",
        "ca_apic_rand = get_ca_sta(segs_ca_df, rand_spktimes)"
      ]
    },
    {
      "cell_type": "code",
      "execution_count": 52,
      "metadata": {
        "id": "gRBfONC9NB11",
        "colab": {
          "base_uri": "https://localhost:8080/",
          "height": 284
        },
        "outputId": "331ff5d9-29ec-4275-ae9d-6bcf9268e0a9"
      },
      "outputs": [
        {
          "output_type": "display_data",
          "data": {
            "text/plain": [
              "<Figure size 720x720 with 2 Axes>"
            ],
            "image/png": "[encoded data removed]"
          },
          "metadata": {
            "needs_background": "light"
          }
        }
      ],
      "source": [
        "plt.figure(figsize=(10,10))\n",
        "plt.subplot(2,1,1)\n",
        "plt.title('Ca spikes - apical')\n",
        "plt.imshow((ca_apic-ca_apic_rand)/len(spktimes),cmap='jet')\n",
        "plt.xticks(ticks=np.arange(0,40,2)-0.5,labels=['{}'.format(i) for i in np.arange(-20,20,2)])\n",
        "plt.colorbar(label='events per AP')\n",
        "plt.yticks(ticks=[0,9],labels=['further','closer'])\n",
        "\n",
        "plt.show()"
      ]
    },
    {
      "cell_type": "markdown",
      "metadata": {
        "id": "eKtMzXdpNB11"
      },
      "source": [
        "----------------------"
      ]
    },
    {
      "cell_type": "code",
      "execution_count": 53,
      "metadata": {
        "id": "99YYSW4gNB11"
      },
      "outputs": [],
      "source": [
        "#apic_exc = segs_conns[(segs_conns['Source Population']=='exc_stim')&(segs_conns.Type=='apic')].groupby('segmentID')['Conductance'].sum().reset_index()\n",
        "\n",
        "#basal_exc = segs_conns[(segs_conns['Source Population']=='exc_stim')&(segs_conns.Type=='dend')].groupby('segmentID')['Conductance'].sum().reset_index()\n"
      ]
    },
    {
      "cell_type": "code",
      "execution_count": null,
      "metadata": {
        "id": "JVS7UH3LNB11"
      },
      "outputs": [],
      "source": [
        "nmda_df = pd.DataFrame(columns=['segmentID','nmda_lower_bound', 'nmda_upper_bound', 'mag'])\n",
        "for p in segs.index: #[(segs.Type=='dend')|(segs.Type=='apic')]\n",
        "    legit_uc = voltage_criterion(data=v['v'][p,:],v_thresh=-40, time_thresh=10)[1]\n",
        "    legit_dc = voltage_criterion(data=v['v'][p,:],v_thresh=-40, time_thresh=10)[-1]\n",
        "\n",
        "    legit_uc_iso = legit_uc\n",
        "    \n",
        "    legit_dc_iso = legit_dc\n",
        "    \n",
        "  \n",
        "    if (len(legit_uc_iso)!=0) & (np.min(nmda['i_nmda'][p,:])!=0):\n",
        "        \n",
        "        bnds, sum_curr = current_criterion(legit_uc_iso=legit_uc_iso, \n",
        "                                           legit_dc_iso=legit_dc_iso, \n",
        "                                           p=p, \n",
        "                                           control_inmda=nmda['i_nmda'])\n",
        "        nmda_df = nmda_df.append(pd.DataFrame({'segmentID':np.tile(p,len(bnds)),\n",
        "                                               'nmda_lower_bound':np.array(bnds).reshape(-1,2)[:,0],\n",
        "                                               'nmda_upper_bound':np.array(bnds).reshape(-1,2)[:,1],\n",
        "                                               'mag':sum_curr}))\n",
        "    \n",
        "    else:\n",
        "        nmda_df = nmda_df.append(pd.DataFrame({'segmentID':np.tile(p,1),\n",
        "                                               'nmda_lower_bound':np.nan,\n",
        "                                               'nmda_upper_bound':np.nan,\n",
        "                                               'mag':np.nan}))\n",
        "        "
      ]
    },
    {
      "cell_type": "code",
      "source": [
        "print(max(nmda_df.nmda_lower_bound))"
      ],
      "metadata": {
        "colab": {
          "base_uri": "https://localhost:8080/"
        },
        "id": "rzPrOdQMhP4a",
        "outputId": "be9b03c2-c5d7-4558-acc9-6841374fa6cc"
      },
      "execution_count": 55,
      "outputs": [
        {
          "output_type": "stream",
          "name": "stdout",
          "text": [
            "nan\n"
          ]
        }
      ]
    },
    {
      "cell_type": "code",
      "execution_count": 56,
      "metadata": {
        "id": "5kmRdqwvNB12"
      },
      "outputs": [],
      "source": [
        "nmda_df.to_csv('nmda_df.csv')\n",
        "nmda_df = pd.read_csv('nmda_df.csv')"
      ]
    },
    {
      "cell_type": "code",
      "execution_count": 96,
      "metadata": {
        "id": "3_lYhElmNB12"
      },
      "outputs": [],
      "source": [
        "nmda_df.rename(columns={'seg_id':'segmentID'},inplace=True)"
      ]
    },
    {
      "cell_type": "code",
      "execution_count": 58,
      "metadata": {
        "id": "THNpAPBeNB12"
      },
      "outputs": [],
      "source": [
        "segs_nmda_df = segs.set_index('segmentID').join(nmda_df.set_index('segmentID')).reset_index()"
      ]
    },
    {
      "cell_type": "code",
      "source": [
        "#print(segs_nmda_df)"
      ],
      "metadata": {
        "id": "nPX-4TsiQy0C"
      },
      "execution_count": null,
      "outputs": []
    },
    {
      "cell_type": "code",
      "source": [
        " print(segs_nmda_df[segs_nmda_df.index==1])\n",
        "\n",
        " print(min(segs_nmda_df.mag))"
      ],
      "metadata": {
        "id": "HSmSCVzigmI7"
      },
      "execution_count": null,
      "outputs": []
    },
    {
      "cell_type": "code",
      "execution_count": 61,
      "metadata": {
        "id": "xYbaBWw7NB12"
      },
      "outputs": [],
      "source": [
        "def get_nmda_sta(segs_nmda_df, spktimes):    \n",
        "    nmda_dend = np.zeros((10,27,))\n",
        "    nmda_apic = np.zeros((10,27,))\n",
        "    \n",
        "    edges_dend=np.quantile(segs_nmda_df[(segs_nmda_df.mag<-0.0001)&\n",
        "                                   (segs_nmda_df.Type=='basal')]['Elec_distance'].unique(),np.arange(0,1.1,0.1))\n",
        "    edges_apic=np.quantile(segs_nmda_df[(segs_nmda_df.mag<-0.00001)&\n",
        "                                   (segs_nmda_df.Type=='apic')]['Elec_distance'].unique(),np.arange(0,1.1,0.1))\n",
        "    \n",
        "    actual_spktimes = []\n",
        "    c = 0\n",
        "    for i in np.sort(spktimes):\n",
        "        # excludes bursts\n",
        "        if i-c > 10:\n",
        "            for e in np.arange(0,10):\n",
        "                nmda_inds = segs_nmda_df[(segs_nmda_df.mag<-0.0001)&\n",
        "                                     (segs_nmda_df.Type=='basal')&\n",
        "                                     (segs_nmda_df.Elec_distance>edges_dend[e])&\n",
        "                                     (segs_nmda_df.Elec_distance<=edges_dend[e+1])]['nmda_lower_bound'].values.astype(int)\n",
        "    \n",
        "                x2, _ = np.histogram(nmda_inds/10,bins=np.arange(np.floor(i)-100,np.floor(i)+40,5))\n",
        "                nmda_dend[e] += x2\n",
        "                \n",
        "                nmda_inds = segs_nmda_df[(segs_nmda_df.mag<-0.0001)&\n",
        "                                     (segs_nmda_df.Type=='apic')&\n",
        "                                     (segs_nmda_df.Elec_distance>edges_apic[e])&\n",
        "                                     (segs_nmda_df.Elec_distance<=edges_apic[e+1])]['nmda_lower_bound'].values.astype(int)\n",
        "    \n",
        "                x2, _ = np.histogram(nmda_inds/10,bins=np.arange(np.floor(i)-100,np.floor(i)+40,5))\n",
        "                nmda_apic[e] += x2\n",
        "            \n",
        "            actual_spktimes.append(i)\n",
        "        c = i\n",
        "        \n",
        "    return nmda_dend, nmda_apic"
      ]
    },
    {
      "cell_type": "code",
      "execution_count": 62,
      "metadata": {
        "id": "Bdski2xvNB14"
      },
      "outputs": [],
      "source": [
        "nmda_dend, nmda_apic = get_nmda_sta(segs_nmda_df, spktimes)"
      ]
    },
    {
      "cell_type": "code",
      "execution_count": 63,
      "metadata": {
        "id": "hDeHvptvNB14"
      },
      "outputs": [],
      "source": [
        "rand_spktimes = np.sort(np.random.choice(np.arange(0,150000), spktimes.shape[0]))"
      ]
    },
    {
      "cell_type": "code",
      "execution_count": 64,
      "metadata": {
        "id": "tJNFw3IzNB14"
      },
      "outputs": [],
      "source": [
        "nmda_dend_rand, nmda_apic_rand = get_nmda_sta(segs_nmda_df, rand_spktimes)"
      ]
    },
    {
      "cell_type": "code",
      "execution_count": 65,
      "metadata": {
        "id": "p9U87EszNB14",
        "colab": {
          "base_uri": "https://localhost:8080/",
          "height": 588
        },
        "outputId": "1a5928ae-5157-428e-c454-d0aa4a174026"
      },
      "outputs": [
        {
          "output_type": "display_data",
          "data": {
            "text/plain": [
              "<Figure size 720x720 with 4 Axes>"
            ],
            "image/png": "[encoded data removed]"
          },
          "metadata": {
            "needs_background": "light"
          }
        }
      ],
      "source": [
        "plt.figure(figsize=(10,10))\n",
        "plt.subplot(2,1,1)\n",
        "plt.title('NMDA spikes - apical')\n",
        "plt.imshow((nmda_apic-nmda_apic_rand)/len(spktimes),cmap='jet',vmin=-0.7,vmax=0.7)\n",
        "plt.xticks(ticks=np.arange(0,26,4)-0.5,labels=['{}'.format(i) for i in np.arange(-100,40,20)])\n",
        "plt.yticks(ticks=[0,9],labels=['further','closer'])\n",
        "plt.colorbar(label='additional events per AP')\n",
        "plt.xlabel('time (ms)')\n",
        "plt.xlim(5,26)\n",
        "\n",
        "plt.subplot(2,1,2)\n",
        "plt.title('NMDA spikes - basal')\n",
        "plt.imshow((nmda_dend-nmda_dend_rand)/len(spktimes),cmap='jet', vmin=-0.7, vmax=0.7)\n",
        "plt.xticks(ticks=np.arange(0,26,4)-0.5,labels=['{}'.format(i) for i in np.arange(-100,40,20)])\n",
        "plt.yticks(ticks=[0,9],labels=['further','closer'])\n",
        "plt.colorbar(label='additional events per AP')\n",
        "plt.xlim(5,26)\n",
        "\n",
        "plt.xlabel('time (ms)')\n",
        "plt.show()"
      ]
    },
    {
      "cell_type": "code",
      "execution_count": 108,
      "metadata": {
        "id": "NkiYZaAVNB14",
        "colab": {
          "base_uri": "https://localhost:8080/",
          "height": 338
        },
        "outputId": "93b0d050-097d-4b5c-b4bd-a06c75d967e8"
      },
      "outputs": [
        {
          "output_type": "execute_result",
          "data": {
            "text/plain": [
              "<BarContainer object of 2 artists>"
            ]
          },
          "metadata": {},
          "execution_count": 108
        },
        {
          "output_type": "display_data",
          "data": {
            "text/plain": [
              "<Figure size 720x360 with 1 Axes>"
            ],
            "image/png": "[encoded data removed]"
          },
          "metadata": {
            "needs_background": "light"
          }
        }
      ],
      "source": [
        "total_basal_nmda = sum(segs_nmda_df['segmentID'][segs_nmda_df.Type=='basal'].value_counts())\n",
        "num_basal_seg = len(segs_nmda_df['segmentID'][segs_nmda_df.Type=='basal'].value_counts())\n",
        "\n",
        "total_apic_nmda = sum(segs_nmda_df['segmentID'][segs_nmda_df.Type=='apic'].value_counts())\n",
        "num_apic_seg = sum(segs_nmda_df['segmentID'][segs_nmda_df.Type=='apic'].value_counts())\n",
        "\n",
        "apic_nmda_perSeg_perSec = total_basal_nmda / num_basal_seg\n",
        "basal_ndma_perSeg_perSec = total_apic_nmda / num_apic_seg\n",
        "\n",
        "\n",
        "\n",
        "data = {'basal':basal_ndma_perSeg_perSec, 'apic':apic_nmda_perSeg_perSec}\n",
        "group = list(data.keys())\n",
        "value = list(data.values())\n",
        "\n",
        "\n",
        "fig = plt.figure(figsize = (10, 5))\n",
        " \n",
        "# creating the bar plot\n",
        "plt.bar(group, value, color ='blue',\n",
        "        width = 0.4)\n",
        "\n",
        "\n",
        "\n"
      ]
    },
    {
      "cell_type": "code",
      "execution_count": null,
      "metadata": {
        "id": "IGaneUp2NB14"
      },
      "outputs": [],
      "source": [
        ""
      ]
    },
    {
      "cell_type": "code",
      "execution_count": 66,
      "metadata": {
        "id": "Xz5zrTeLNB14",
        "colab": {
          "base_uri": "https://localhost:8080/",
          "height": 265
        },
        "outputId": "8b798d96-ff06-4d6a-f754-68712504db00"
      },
      "outputs": [
        {
          "output_type": "display_data",
          "data": {
            "text/plain": [
              "<Figure size 432x288 with 1 Axes>"
            ],
            "image/png": "[encoded data removed]"
          },
          "metadata": {
            "needs_background": "light"
          }
        }
      ],
      "source": [
        "for i in np.arange(0,10):\n",
        "    plt.plot(np.arange(-100,35,5),nmda_dend[i]/np.sum(nmda_dend[i]))\n"
      ]
    },
    {
      "cell_type": "code",
      "execution_count": 67,
      "metadata": {
        "id": "2fxamStQNB14"
      },
      "outputs": [],
      "source": [
        "#segs_conns[(segs_conns['Sec ID']==80) & (segs_conns.Type=='dend')]['Source Population'].value_counts()"
      ]
    },
    {
      "cell_type": "code",
      "execution_count": 68,
      "metadata": {
        "id": "BOF0dEOxNB14",
        "colab": {
          "base_uri": "https://localhost:8080/",
          "height": 592
        },
        "outputId": "ac0c107d-ea3f-4a68-d047-15108afbdda1"
      },
      "outputs": [
        {
          "output_type": "display_data",
          "data": {
            "text/plain": [
              "<Figure size 720x720 with 1 Axes>"
            ],
            "image/png": "[encoded data removed]"
          },
          "metadata": {
            "needs_background": "light"
          }
        }
      ],
      "source": [
        "plt.figure(figsize=(10,10))\n",
        "ind = 55\n",
        "plt.plot(segs['X'], segs['Y'], 'b.')\n",
        "plt.plot(segs.loc[0,'X'], segs.loc[0,'Y'], 'k.',markersize=20)\n",
        "\n",
        "plt.plot(segs.loc[ind,'X'], segs.loc[ind,'Y'], 'r*',markersize=20)\n",
        "\n",
        "for i in segs[(segs.Type=='basal')&(segs['sec']==7)]['sec'].unique():\n",
        "    plt.plot(segs[(segs['sec']==i)&(segs['Type']=='basal')]['X'],\n",
        "             segs[(segs['sec']==i)&(segs['Type']=='basal')]['Y'],color='r')\n",
        "    \n",
        "#for i in segs_conns[(segs_conns.Type=='dend')&(segs_conns['Sec ID']==7)]['Sec ID'].unique():\n",
        "#    plt.plot(segs[(segs['Sec ID']==i)&(segs['Type']=='dend')]['Coord X'],\n",
        "#             segs[(segs['Sec ID']==i)&(segs['Type']=='dend')]['Coord Y'],color='c')\n",
        "    \n",
        "#plt.plot(segs[segs.segmentID==119]['Coord X'], segs[segs.segmentID==119]['Coord Y'],'r*',markersize=14)\n",
        "#plt.plot(segs[segs.segmentID==110]['Coord X'], segs[segs.segmentID==110]['Coord Y'],'r*',markersize=14)\n",
        "#plt.plot(segs[segs.segmentID==103]['Coord X'], segs[segs.segmentID==103]['Coord Y'],'r*',markersize=14)\n",
        "\n",
        "#plt.plot(segs[segs.segmentID==134]['Coord X'], segs[segs.segmentID==134]['Coord Y'],'c*',markersize=14)\n",
        "#plt.ylim(-25,50)\n",
        "#plt.xlim(-150,150)"
      ]
    },
    {
      "cell_type": "code",
      "source": [
        ""
      ],
      "metadata": {
        "id": "oHOFYp_1EvLH"
      },
      "execution_count": null,
      "outputs": []
    },
    {
      "cell_type": "code",
      "execution_count": 69,
      "metadata": {
        "id": "9zDQYXLSNB14"
      },
      "outputs": [],
      "source": [
        "# plt.figure(figsize=(10,10))\n",
        "# plt.plot(f['report']['biophysical']['data'][:,119],color='b')\n",
        "# plt.plot(f['report']['biophysical']['data'][:,110],color='b',alpha=0.5)\n",
        "# plt.plot(f['report']['biophysical']['data'][:,104],color='b',alpha=0.1)\n",
        "\n",
        "# plt.plot(f['report']['biophysical']['data'][:,134],color='c',alpha=1)\n",
        "# plt.plot(f['report']['biophysical']['data'][:,0],'k')\n",
        "# plt.twinx()\n",
        "# plt.plot(h['report']['biophysical']['data'][:,119],color='r')\n",
        "# plt.plot(h['report']['biophysical']['data'][:,110],color='r',alpha=0.5)\n",
        "# plt.plot(h['report']['biophysical']['data'][:,103],color='r',alpha=0.1)\n",
        "\n",
        "# plt.xlim(526519-100,526519+1000)"
      ]
    },
    {
      "cell_type": "code",
      "execution_count": 69,
      "metadata": {
        "id": "W_A_QvYTNB14"
      },
      "outputs": [],
      "source": [
        ""
      ]
    },
    {
      "cell_type": "code",
      "execution_count": 70,
      "metadata": {
        "id": "3A-K3BM4NB14"
      },
      "outputs": [],
      "source": [
        "# nmda2 = np.zeros((79,))\n",
        "\n",
        "# for i in spktimes:\n",
        "#     nmda_inds2 = np.sort(segs_nmda_df[(segs_nmda_df.Degrees<=3)&\n",
        "#              (~pd.isnull(segs_nmda_df.nmda_lower_bound))&\n",
        "#              (segs_nmda_df.mag<-0.1)&\n",
        "#                 (segs_nmda_df.Type=='dend')]['nmda_lower_bound'].values.astype(int))\n",
        "\n",
        "#     x2, _ = np.histogram(nmda_inds2/10,bins=np.arange(i-40,i+40,1))\n",
        "#     nmda2 += x2\n",
        "    \n",
        "#     #na_inds3 = segs_na_df[(segs_na_df.Degrees==3)&(~pd.isnull(segs_na_df.na_lower_bound))]['na_lower_bound'].values.astype(int)\n",
        "#     #x3, _ = np.histogram(na_inds3/10,bins=np.arange(i-20,i+20,1))\n",
        "#     #na3 += x3\n",
        "    \n",
        "#     #na_inds4 = segs_na_df[(segs_na_df.Degrees==4)&(~pd.isnull(segs_na_df.na_lower_bound))]['na_lower_bound'].values.astype(int)\n",
        "#     #x4, _ = np.histogram(na_inds4/10,bins=np.arange(i-20,i+20,1))\n",
        "#     #na4 += x4\n",
        "    \n",
        "#     #na_inds5 = segs_na_df[(segs_na_df.Degrees==5)&(~pd.isnull(segs_na_df.na_lower_bound))]['na_lower_bound'].values.astype(int)\n",
        "#     #x5, _ = np.histogram(na_inds5/10,bins=np.arange(i-20,i+20,1))\n",
        "#     #na5 += x5\n",
        "    "
      ]
    },
    {
      "cell_type": "code",
      "execution_count": 71,
      "metadata": {
        "id": "dcie8oDbNB14"
      },
      "outputs": [],
      "source": [
        "# plt.plot(nmda2)"
      ]
    },
    {
      "cell_type": "code",
      "execution_count": 71,
      "metadata": {
        "id": "kzdQns_NNB14"
      },
      "outputs": [],
      "source": [
        ""
      ]
    },
    {
      "cell_type": "code",
      "execution_count": 71,
      "metadata": {
        "id": "ORIpsLUfNB14"
      },
      "outputs": [],
      "source": [
        ""
      ]
    },
    {
      "cell_type": "code",
      "execution_count": 71,
      "metadata": {
        "id": "4fmNABi0NB15"
      },
      "outputs": [],
      "source": [
        ""
      ]
    },
    {
      "cell_type": "code",
      "execution_count": 72,
      "metadata": {
        "id": "Y5WXv8ghNB15"
      },
      "outputs": [],
      "source": [
        "# import matplotlib\n",
        "# font = {'family' : 'normal',\n",
        "#         'weight' : 'normal',\n",
        "#         'size'   : 16}\n",
        "\n",
        "# matplotlib.rc('font', **font)\n",
        "\n",
        "# ind = 1139\n",
        "# plt.figure(figsize=(12,10))\n",
        "# plt.plot(np.arange(0,60000,.1),f['report']['biophysical']['data'][:,ind],color='b',label='dend voltage')\n",
        "# plt.plot(np.arange(0,60000,.1),f['report']['biophysical']['data'][:,0],color='k',alpha=0.3,label='soma voltage')\n",
        "# plt.legend(loc='lower left')\n",
        "# plt.hlines(-40,0,60000,linestyle='dashed')\n",
        "# plt.ylabel('voltage (mV)')\n",
        "# plt.ylim(-85,25)\n",
        "# plt.xlabel('time (ms)')\n",
        "# plt.twinx()\n",
        "# plt.plot(np.arange(0,60000,.1),h['report']['biophysical']['data'][:,ind],color='r',label='inmda dend')\n",
        "# plt.legend(loc='upper right')\n",
        "# plt.plot(np.arange(0,60000,.1)[nmda_df[nmda_df.seg_id==ind]['nmda_lower_bound'].values.astype(int)],\n",
        "#          h['report']['biophysical']['data'][nmda_df[nmda_df.seg_id==ind]['nmda_lower_bound'].values.astype(int),ind],'m*',markersize=20)\n",
        "# plt.plot(np.arange(0,60000,.1)[nmda_df[nmda_df.seg_id==ind]['nmda_upper_bound'].values.astype(int)],\n",
        "#          h['report']['biophysical']['data'][nmda_df[nmda_df.seg_id==ind]['nmda_upper_bound'].values.astype(int),ind],'k*',markersize=20)\n",
        "# plt.ylim(-0.009,0.001)\n",
        "# plt.xlim(37000,39000)\n",
        "# plt.ylabel('current (nA)')\n"
      ]
    },
    {
      "cell_type": "code",
      "execution_count": 73,
      "metadata": {
        "id": "Kq9f9ksuNB15"
      },
      "outputs": [],
      "source": [
        "# import matplotlib\n",
        "# font = {'family' : 'normal',\n",
        "#         'weight' : 'normal',\n",
        "#         'size'   : 16}\n",
        "\n",
        "# matplotlib.rc('font', **font)\n",
        "\n",
        "# plt.figure(figsize=(12,10))\n",
        "# plt.plot(np.arange(0,60000,.1),f['report']['biophysical']['data'][:,175],color='b',label='dend voltage')\n",
        "# plt.plot(np.arange(0,60000,.1),f['report']['biophysical']['data'][:,0],color='k',alpha=0.3,label='soma voltage')\n",
        "# plt.legend(loc='lower left')\n",
        "# plt.hlines(-40,0,60000,linestyle='dashed')\n",
        "# plt.ylabel('voltage (mV)')\n",
        "# plt.ylim(-85,25)\n",
        "# plt.xlabel('time (ms)')\n",
        "# plt.twinx()\n",
        "# plt.plot(np.arange(0,60000,.1),h['report']['biophysical']['data'][:,175],color='r',label='inmda dend')\n",
        "# plt.legend(loc='upper right')\n",
        "# plt.plot(np.arange(0,60000,.1)[nmda_df[nmda_df.seg_id==175]['nmda_lower_bound'].values.astype(int)],\n",
        "#          h['report']['biophysical']['data'][nmda_df[nmda_df.seg_id==175]['nmda_lower_bound'].values.astype(int),175],'m*',markersize=20)\n",
        "# plt.plot(np.arange(0,60000,.1)[nmda_df[nmda_df.seg_id==175]['nmda_upper_bound'].values.astype(int)],\n",
        "#          h['report']['biophysical']['data'][nmda_df[nmda_df.seg_id==175]['nmda_upper_bound'].values.astype(int),175],'k*',markersize=20)\n",
        "# plt.xlim(32000,32400)\n",
        "# plt.ylim(-0.009,0.001)\n",
        "# plt.ylabel('current (nA)')\n"
      ]
    },
    {
      "cell_type": "code",
      "execution_count": 74,
      "metadata": {
        "id": "gJ-qC8cINB15"
      },
      "outputs": [],
      "source": [
        "nmda_spktimes = nmda_df[nmda_df.mag<-0.1]['nmda_lower_bound']/10\n",
        "n = np.zeros((12,))\n",
        "for i in spktimes:\n",
        "    x,y = np.histogram(nmda_spktimes[(nmda_spktimes>i-30) & (nmda_spktimes<i+30)]-i,bins=np.arange(-30,31,5))\n",
        "    n+=x"
      ]
    },
    {
      "cell_type": "code",
      "execution_count": 75,
      "metadata": {
        "id": "YPQmtxM9NB15",
        "colab": {
          "base_uri": "https://localhost:8080/"
        },
        "outputId": "9fa6baad-10e1-4c89-8ff6-c0c6de3a57ef"
      },
      "outputs": [
        {
          "output_type": "execute_result",
          "data": {
            "text/plain": [
              "(13,)"
            ]
          },
          "metadata": {},
          "execution_count": 75
        }
      ],
      "source": [
        "np.arange(-30,31,5).shape"
      ]
    },
    {
      "cell_type": "code",
      "execution_count": 76,
      "metadata": {
        "id": "gNLY5ReLNB15",
        "colab": {
          "base_uri": "https://localhost:8080/",
          "height": 283
        },
        "outputId": "e8b53175-9b44-4107-c46c-372964c8c1bf"
      },
      "outputs": [
        {
          "output_type": "execute_result",
          "data": {
            "text/plain": [
              "[<matplotlib.lines.Line2D at 0x7f65f627ee10>]"
            ]
          },
          "metadata": {},
          "execution_count": 76
        },
        {
          "output_type": "display_data",
          "data": {
            "text/plain": [
              "<Figure size 432x288 with 1 Axes>"
            ],
            "image/png": "[encoded data removed]"
          },
          "metadata": {
            "needs_background": "light"
          }
        }
      ],
      "source": [
        "plt.plot(np.arange(-30,30,5),n)"
      ]
    },
    {
      "cell_type": "code",
      "execution_count": 77,
      "metadata": {
        "id": "VDiK247kNB15"
      },
      "outputs": [],
      "source": [
        "na_spktimes = na_df[~pd.isnull(na_df.na_lower_bound)]['na_lower_bound']/10\n",
        "na = np.zeros((20,))\n",
        "for i in spktimes:\n",
        "    x,y = np.histogram(na_spktimes[(na_spktimes>i-10) & (na_spktimes<i+10)]-i,bins=np.arange(-10,11,1))\n",
        "    na+=x"
      ]
    },
    {
      "cell_type": "code",
      "execution_count": 78,
      "metadata": {
        "id": "3kixwHlUNB15",
        "colab": {
          "base_uri": "https://localhost:8080/",
          "height": 283
        },
        "outputId": "81ff8ec3-dec4-4216-a320-6618ed964fbb"
      },
      "outputs": [
        {
          "output_type": "execute_result",
          "data": {
            "text/plain": [
              "[<matplotlib.lines.Line2D at 0x7f65f679f4d0>]"
            ]
          },
          "metadata": {},
          "execution_count": 78
        },
        {
          "output_type": "display_data",
          "data": {
            "text/plain": [
              "<Figure size 432x288 with 1 Axes>"
            ],
            "image/png": "[encoded data removed]"
          },
          "metadata": {
            "needs_background": "light"
          }
        }
      ],
      "source": [
        "plt.plot(na_df[~pd.isnull(na_df.na_lower_bound)]['na_lower_bound']/10,\n",
        "         na_df[~pd.isnull(na_df.na_lower_bound)]['segmentID'],'*')"
      ]
    },
    {
      "cell_type": "code",
      "execution_count": 78,
      "metadata": {
        "id": "fKQnI6ygNB15"
      },
      "outputs": [],
      "source": [
        ""
      ]
    },
    {
      "cell_type": "code",
      "execution_count": 78,
      "metadata": {
        "id": "f13ie_BVNB15"
      },
      "outputs": [],
      "source": [
        ""
      ]
    },
    {
      "cell_type": "code",
      "execution_count": 79,
      "metadata": {
        "id": "QEBGP5AENB15",
        "colab": {
          "base_uri": "https://localhost:8080/",
          "height": 285
        },
        "outputId": "1cef6080-4c1d-4e3f-b01e-19bac965bacc"
      },
      "outputs": [
        {
          "output_type": "execute_result",
          "data": {
            "text/plain": [
              "[<matplotlib.lines.Line2D at 0x7f65f638a550>]"
            ]
          },
          "metadata": {},
          "execution_count": 79
        },
        {
          "output_type": "display_data",
          "data": {
            "text/plain": [
              "<Figure size 432x288 with 1 Axes>"
            ],
            "image/png": "[encoded data removed]"
          },
          "metadata": {
            "needs_background": "light"
          }
        }
      ],
      "source": [
        "plt.plot(nmda_spktimes,np.random.randint(low=0,high=100,size=len(nmda_spktimes)),'.')\n",
        "plt.plot(spktimes,np.tile(40,len(spktimes)),'r*')"
      ]
    },
    {
      "cell_type": "code",
      "execution_count": 80,
      "metadata": {
        "id": "SdN9UC8LNB15"
      },
      "outputs": [],
      "source": [
        "x1,_=np.histogram(spktimes,bins=np.arange(0,10000,100))\n",
        "x2,_=np.histogram(nmda_spktimes,bins=np.arange(0,10000,100))"
      ]
    },
    {
      "cell_type": "code",
      "execution_count": 81,
      "metadata": {
        "id": "WpGZBaoFNB15"
      },
      "outputs": [],
      "source": [
        "# plt.figure(figsize=(10,8))\n",
        "# plt.plot(np.arange(0,10000,.1),control_v[:,176],color='b')\n",
        "# plt.plot(np.arange(0,10000,.1)[nmda_df.loc[nmda_df.seg_id==175,'nmda_lower_bound'].values.astype(int)],control_v[nmda_df.loc[nmda_df.seg_id==175,'nmda_lower_bound'].values.astype(int),176],'m*')\n",
        "# plt.plot(np.arange(0,10000,.1),control_v[:,0],color='k')\n",
        "# plt.xlim(6000,7000)"
      ]
    },
    {
      "cell_type": "code",
      "execution_count": 81,
      "metadata": {
        "id": "l2Hw8QSPNB15"
      },
      "outputs": [],
      "source": [
        ""
      ]
    },
    {
      "cell_type": "code",
      "execution_count": 81,
      "metadata": {
        "id": "TinIsUHINB15"
      },
      "outputs": [],
      "source": [
        ""
      ]
    },
    {
      "cell_type": "code",
      "execution_count": 81,
      "metadata": {
        "id": "dU6HodE_NB15"
      },
      "outputs": [],
      "source": [
        ""
      ]
    },
    {
      "cell_type": "code",
      "execution_count": 81,
      "metadata": {
        "id": "L1yH9BzVNB15"
      },
      "outputs": [],
      "source": [
        ""
      ]
    },
    {
      "cell_type": "code",
      "execution_count": 82,
      "metadata": {
        "id": "kxH3OUspNB15"
      },
      "outputs": [],
      "source": [
        "# # ind1 = 3 sent to Drew\n",
        "# ind1 = 2\n",
        "# e1 = control_inmda[legit_uc_iso[ind1], p]\n",
        "# e2 = control_inmda[legit_dc_iso[ind1], p]\n",
        "# x30 = np.argwhere(np.diff(control_inmda[legit_uc_iso[ind1]:legit_dc_iso[ind1], p] < 1.3*e1, prepend=False))\n",
        "# x15 = np.argwhere(np.diff(control_inmda[legit_uc_iso[ind1]:legit_dc_iso[ind1], p] < 1.15*e1, prepend=False))"
      ]
    },
    {
      "cell_type": "code",
      "execution_count": 83,
      "metadata": {
        "id": "v9CYe6MgNB15"
      },
      "outputs": [],
      "source": [
        "# import matplotlib\n",
        "# font = {'family' : 'normal',\n",
        "#         'weight' : 'normal',\n",
        "#         'size'   : 16}\n",
        "\n",
        "# matplotlib.rc('font', **font)\n",
        "\n",
        "# plt.figure(figsize=(12,10))\n",
        "# plt.plot(np.arange(0,(legit_dc_iso[ind1]-legit_uc_iso[ind1])/10, 0.1),\n",
        "#          control_inmda[legit_uc_iso[ind1]:legit_dc_iso[ind1], p],color='r',label='inmda @ dend.')\n",
        "# plt.hlines(1.3*e1,0,np.max(np.arange(0,(legit_dc_iso[ind1]-legit_uc_iso[ind1])/10, 0.1)),color='r',alpha=0.2)\n",
        "# plt.hlines(1.15*e1,0,np.max(np.arange(0,(legit_dc_iso[ind1]-legit_uc_iso[ind1])/10, 0.1)),color='r',alpha=0.2)\n",
        "# plt.ylabel('current (nA)')\n",
        "# plt.ylim(-0.010,0)\n",
        "# plt.legend(loc='upper center')\n",
        "# plt.xlabel('time (ms)')\n",
        "# plt.twinx()\n",
        "# plt.plot(np.arange(0,(legit_dc_iso[ind1]-legit_uc_iso[ind1])/10, 0.1),\n",
        "#          control_v[legit_uc_iso[ind1]:legit_dc_iso[ind1],p],color='b',label='dend. volt.')\n",
        "# plt.plot(np.arange(0,(legit_dc_iso[ind1]-legit_uc_iso[ind1])/10, 0.1),\n",
        "#          control_v[legit_uc_iso[ind1]:legit_dc_iso[ind1],0], color='k',label='soma volt.')\n",
        "\n",
        "\n",
        "# for i in np.arange(0,len(bounds)):\n",
        "#     plt.fill_between(np.array([bounds[i][0]/10,bounds[i][1]/10]).reshape(2,),-70,20,color='k',alpha=0.2)\n",
        "#     plt.text(bounds[i][0]/10,-20-(i*10),'{x:.2f}'.format(x=sum_current[i]))\n",
        "# ##plt.fill_between(np.array([bounds[1][0]/10,bounds[1][1]/10]).reshape(2,),-70,20,color='k',alpha=0.2)\n",
        "# ##plt.fill_between(np.array([bounds[2][0]/10,bounds[2][1]/10]).reshape(2,),-70,20,color='k',alpha=0.2)\n",
        "# #plt.hlines(-40,0,np.max(np.arange(0,(legit_uc_iso[ind1+1]-legit_uc_iso[ind1])/10, 0.1)),linestyle='dashed')\n",
        "# ##plt.text(1.5,14,'NMDA\\nspike')\n",
        "# #plt.ylabel('voltage (mV)')\n",
        "# #plt.legend()"
      ]
    },
    {
      "cell_type": "code",
      "execution_count": 84,
      "metadata": {
        "id": "thaFPJ0sNB16"
      },
      "outputs": [],
      "source": [
        "# plt.figure(figsize=(12,10))\n",
        "# plt.plot(np.arange(0,10000,.1),control_v[:,p],label='control dend. v')\n",
        "# plt.plot(np.arange(0,10000,.1),NMDAblock_v[:,p],label='NMDA block dend. v')\n",
        "# plt.plot(np.arange(0,10000,.1),control_v[:,0],color='k',label='control soma v')\n",
        "\n",
        "# uc = voltage_criterion(control_v[:,p],-40)[0]\n",
        "\n",
        "\n",
        "# plt.plot(np.arange(0,10000,.1)[uc],control_v[uc,p],'*')\n",
        "# plt.plot(np.arange(0,10000,.1)[legit_uc],control_v[legit_uc,p],'m*')\n",
        "\n",
        "\n",
        "# center = np.floor(legit_uc[np.random.choice(np.arange(0,legit_uc.shape[0]))]/10)\n",
        "\n",
        "# plt.plot([center,center+26],[-80,-80],color='k')\n",
        "# plt.legend(loc='lower left')\n",
        "\n",
        "# plt.twinx()\n",
        "# plt.plot(np.arange(0,10000,.1),control_inmda[:,p],color='r',label='NMDA current')\n",
        "# plt.plot(np.arange(0,10000,.1)[legit_uc],control_inmda[legit_uc, p],'*')\n",
        "# #plt.plot(np.arange(0,10000,.1),control_gna[:,p],color='r',alpha=0.2, label='gNa')\n",
        "# plt.xlim(center-100,center+100)\n",
        "\n",
        "# plt.legend(loc='lower right')\n",
        "# plt.title('{}'.format(legit_uc))"
      ]
    },
    {
      "cell_type": "code",
      "execution_count": 85,
      "metadata": {
        "id": "BlCkvLxRNB16"
      },
      "outputs": [],
      "source": [
        "# p = np.random.choice(segs[segs.Type=='apic'].index)\n",
        "# for i in spktimes:\n",
        "#     plt.plot(np.arange(0,20,.1), control_v[int(i*10)-100:int(i*10)+100,p])\n",
        "# plt.vlines(10,-65,0,color='k')\n",
        "# plt.ylim(-65,0)"
      ]
    },
    {
      "cell_type": "code",
      "execution_count": 86,
      "metadata": {
        "id": "Z41EM7UdNB16"
      },
      "outputs": [],
      "source": [
        "# p = 829#np.random.choice(segs[segs.Type=='dend'].index)\n",
        "# plt.title('dend {}'.format(p))\n",
        "# plt.plot(control_v[7200:7700,p],label='dend')\n",
        "# plt.plot(control_v[7200:7700,0],label='soma')\n",
        "# plt.hlines(-40,0,500)\n",
        "# plt.twinx()\n",
        "# plt.plot(control_inmda[7200:7700,p],color='r')\n",
        "# plt.legend()"
      ]
    },
    {
      "cell_type": "code",
      "execution_count": 87,
      "metadata": {
        "id": "gBLAsZ4GNB16"
      },
      "outputs": [],
      "source": [
        "# control_v[10000,0]"
      ]
    },
    {
      "cell_type": "code",
      "execution_count": 88,
      "metadata": {
        "id": "QfHUYZ-FNB16"
      },
      "outputs": [],
      "source": [
        "# plt.hist(control_v[10000,:])"
      ]
    },
    {
      "cell_type": "code",
      "execution_count": 89,
      "metadata": {
        "id": "EiQmwS2CNB16"
      },
      "outputs": [],
      "source": [
        "# plt.plot(control_v[:,1200])\n",
        "# plt.plot(NMDAblock_v[:,1200])"
      ]
    },
    {
      "cell_type": "code",
      "execution_count": 90,
      "metadata": {
        "id": "TGl3SrlnNB16"
      },
      "outputs": [],
      "source": [
        "# df = ids_pos.set_index(['BMTK ID', 'X']).join(segs.set_index(['BMTK ID', 'X'])).reset_index()"
      ]
    },
    {
      "cell_type": "code",
      "execution_count": 91,
      "metadata": {
        "id": "9o05MWQENB16"
      },
      "outputs": [],
      "source": [
        "# df.loc[0,'Distance'], np.mean(f['report']['biophysical']['data'],axis=0)[0]"
      ]
    },
    {
      "cell_type": "code",
      "execution_count": 92,
      "metadata": {
        "id": "umujK_OlNB16"
      },
      "outputs": [],
      "source": [
        "# df[(df.Distance>900) & (df.Distance<1000)]"
      ]
    },
    {
      "cell_type": "code",
      "execution_count": 93,
      "metadata": {
        "id": "orb5mU9dNB16"
      },
      "outputs": [],
      "source": [
        "# plt.scatter(np.arange(0,df.shape[0]), np.mean(f['report']['biophysical']['data'],axis=0))\n",
        "# plt.xlim(1740,1760)"
      ]
    },
    {
      "cell_type": "code",
      "execution_count": 94,
      "metadata": {
        "id": "3jmgPnzNNB16"
      },
      "outputs": [],
      "source": [
        "# plt.figure(figsize=(10,6))\n",
        "# plt.scatter(df['Distance'],np.mean(f['report']['biophysical']['data'],axis=0),alpha=0.2)\n",
        "# plt.scatter(df.loc[0,'Distance'], np.mean(f['report']['biophysical']['data'],axis=0)[0],color='r', marker='*', s=75)\n",
        "# plt.scatter(df.loc[1452,'Distance'], np.mean(f['report']['biophysical']['data'],axis=0)[1452],color='m',marker='*', s=75)\n",
        "# plt.scatter(df.loc[1754,'Distance'], np.mean(f['report']['biophysical']['data'],axis=0)[1754],color='k',marker='*', s=75)\n",
        "# plt.xlabel('distance from soma')\n",
        "# plt.ylabel('mean potential of segment (mV)')"
      ]
    },
    {
      "cell_type": "code",
      "execution_count": 95,
      "metadata": {
        "id": "qKQz6k0uNB16"
      },
      "outputs": [],
      "source": [
        "# #plt.scatter(np.arange(0,f['report']['biophysical']['data'].shape[1]),np.mean(f['report']['biophysical']['data'],axis=0))\n",
        "\n",
        "# plt.figure(figsize=(10,6))\n",
        "\n",
        "# plt.plot(np.arange(0,2,0.0001),f['report']['biophysical']['data'][:,0],color='r')\n",
        "# plt.plot(np.arange(0,2,0.0001),f['report']['biophysical']['data'][:,1452],color='m')\n",
        "# plt.plot(np.arange(0,2,0.0001),f['report']['biophysical']['data'][:,1754],color='k')\n",
        "# plt.xlim(1.75,2)\n",
        "# plt.xlabel('time (s)')\n",
        "# plt.ylabel('membrane potential (mV)')"
      ]
    },
    {
      "cell_type": "code",
      "execution_count": 95,
      "metadata": {
        "id": "eHGv9wqMNB16"
      },
      "outputs": [],
      "source": [
        ""
      ]
    }
  ],
  "metadata": {
    "kernelspec": {
      "display_name": "Python 3",
      "language": "python",
      "name": "python3"
    },
    "language_info": {
      "codemirror_mode": {
        "name": "ipython",
        "version": 3
      },
      "file_extension": ".py",
      "mimetype": "text/x-python",
      "name": "python",
      "nbconvert_exporter": "python",
      "pygments_lexer": "ipython3",
      "version": "3.6.10"
    },
    "colab": {
      "name": "NMDAExploration reduced.ipynb",
      "provenance": [],
      "collapsed_sections": [],
      "include_colab_link": true
    }
  },
  "nbformat": 4,
  "nbformat_minor": 0
}