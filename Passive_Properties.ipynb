{
  "cells": [
    {
      "cell_type": "markdown",
      "metadata": {
        "id": "view-in-github",
        "colab_type": "text"
      },
      "source": [
        "<a href=\"https://colab.research.google.com/github/davidfague/Stylized-ReducedOrder-L5-Model/blob/main/Passive_Properties.ipynb\" target=\"_parent\"><img src=\"https://colab.research.google.com/assets/colab-badge.svg\" alt=\"Open In Colab\"/></a>"
      ]
    },
    {
      "cell_type": "markdown",
      "metadata": {
        "id": "Xkx-mbZKD8c2"
      },
      "source": [
        "#### Neuron Initialization\n",
        "Import modules and setup simulation parameters"
      ]
    },
    {
      "cell_type": "code",
      "source": [
        "!pip install neuron"
      ],
      "metadata": {
        "id": "QqK980HfECA5",
        "outputId": "6de91fa9-64d1-4122-a7db-401caf9c80d7",
        "colab": {
          "base_uri": "https://localhost:8080/"
        }
      },
      "execution_count": 1,
      "outputs": [
        {
          "output_type": "stream",
          "name": "stdout",
          "text": [
            "Looking in indexes: https://pypi.org/simple, https://us-python.pkg.dev/colab-wheels/public/simple/\n",
            "Requirement already satisfied: neuron in /usr/local/lib/python3.7/dist-packages (8.1.0)\n",
            "Requirement already satisfied: numpy>=1.9.3 in /usr/local/lib/python3.7/dist-packages (from neuron) (1.21.6)\n"
          ]
        }
      ]
    },
    {
      "cell_type": "code",
      "source": [
        "from google.colab import drive\n",
        "drive.mount('/content/drive')"
      ],
      "metadata": {
        "id": "t4aHlZPNEvm4",
        "outputId": "95f39bdc-2974-4560-a472-704143195113",
        "colab": {
          "base_uri": "https://localhost:8080/"
        }
      },
      "execution_count": 2,
      "outputs": [
        {
          "output_type": "stream",
          "name": "stdout",
          "text": [
            "Drive already mounted at /content/drive; to attempt to forcibly remount, call drive.mount(\"/content/drive\", force_remount=True).\n"
          ]
        }
      ]
    },
    {
      "cell_type": "code",
      "source": [
        "%cd /content/drive/MyDrive/Stylized-Cell-model/"
      ],
      "metadata": {
        "colab": {
          "base_uri": "https://localhost:8080/"
        },
        "id": "R6h5ZsGjs5GO",
        "outputId": "0521ffcc-c17d-4592-d59d-ecb3fe23e713"
      },
      "execution_count": 3,
      "outputs": [
        {
          "output_type": "stream",
          "name": "stdout",
          "text": [
            "/content/drive/MyDrive/Stylized-Cell-model\n"
          ]
        }
      ]
    },
    {
      "cell_type": "code",
      "source": [
        "from neuron import h\n",
        "import pandas as pd\n",
        "import numpy as np\n",
        "from scipy.stats import lognorm\n",
        "import os\n",
        "from typing import Optional, List, Tuple, Union"
      ],
      "metadata": {
        "id": "9zVOUnOV9WxH"
      },
      "execution_count": 4,
      "outputs": []
    },
    {
      "cell_type": "code",
      "execution_count": 5,
      "metadata": {
        "id": "KpT_pFwdD8c9"
      },
      "outputs": [],
      "source": [
        "\n",
        "\n",
        "from stylized_module.stylized_cell import Stylized_Cell\n",
        "from stylized_module.ecp import EcpMod, newposition\n",
        "from stylized_module.recorder import Recorder\n",
        "from stylized_module.point_current import Point_current\n",
        "\n",
        "mechanisms_path = 'mechanisms'  # need to compile the folder first\n",
        "geometry_file = 'geom_parameters.csv'\n",
        "tstop = 1000  # ms simulation duration\n",
        "dt = 0.025  # ms. does not allow change\n",
        "\n",
        "h.load_file('stdrun.hoc')\n",
        "#h.nrn_load_dll(os.path.join(mechanisms_path,'nrnmech.dll'))  # running this line more than once might crash the kernel\n",
        "h.nrn_load_dll(os.path.join(mechanisms_path,'x86_64/.libs/libnrnmech.so'))  # use this line instead in Linux\n",
        "geo_standard = pd.read_csv(geometry_file,index_col='id')\n",
        "h.tstop = tstop\n",
        "h.dt = dt"
      ]
    },
    {
      "cell_type": "code",
      "source": [
        "#pick a random seed to initalize random values\n",
        "import random\n",
        "random.seed(427)\n",
        "pi=np.pi"
      ],
      "metadata": {
        "id": "urpIM_WeRGOq"
      },
      "execution_count": 6,
      "outputs": []
    },
    {
      "cell_type": "code",
      "source": [
        "#generate lognormal distribution\n",
        "m=.2\n",
        "s=0.345\n",
        "mean = np.log(m) - 0.5 * np.log((s/m)**2+1)\n",
        "std = np.sqrt(np.log((s/m)**2 + 1))\n",
        "print(mean)\n",
        "print(std)"
      ],
      "metadata": {
        "id": "EoJyg_fv7yGM",
        "colab": {
          "base_uri": "https://localhost:8080/"
        },
        "outputId": "64fd62a9-1659-47ab-f862-5a1a900426ed"
      },
      "execution_count": 7,
      "outputs": [
        {
          "output_type": "stream",
          "name": "stdout",
          "text": [
            "-2.299528896659566\n",
            "1.1748114608101725\n"
          ]
        }
      ]
    },
    {
      "cell_type": "markdown",
      "metadata": {
        "id": "_hI4TL9ZD8c_"
      },
      "source": [
        "Define cell model and simulation model. Edit method \"set_channels\" to design biophysical properties."
      ]
    },
    {
      "cell_type": "code",
      "execution_count": 8,
      "metadata": {
        "id": "UhthwMDQD8dA"
      },
      "outputs": [],
      "source": [
        "class Cell(Stylized_Cell):\n",
        "    \"\"\"Define single cell model using parent class Stylized_Cell\"\"\"\n",
        "    def __init__(self,geometry=None,biophys=None,dL=30,vrest=-60.0): #-90?\n",
        "        \"\"\"\n",
        "        Initialize cell model\n",
        "        geometry: pandas dataframe of cell morphology properties\n",
        "        biophys: vector of biophysical parameters corresponding to \"biophys_entries\". Use -1 for default value.\n",
        "        dL: maximum segment length\n",
        "        vrest: reversal potential for leak channels\n",
        "        \"\"\"\n",
        "        self.biophys = biophys\n",
        "        super().__init__(geometry,dL,vrest)\n",
        "        self.record_soma_v() # uncomment this if want to record soma voltage\n",
        "    \n",
        "    def set_channels(self):\n",
        "        \"\"\"Define biophysical properties, insert channels\"\"\"\n",
        "        self.define_biophys_entries()\n",
        "        # common parameters\n",
        "        for sec in self.all:\n",
        "            sec.cm = 2.0\n",
        "            sec.Ra = 100\n",
        "            sec.insert('pas')\n",
        "            sec.e_pas = self._vrest\n",
        "        # fixed parameters\n",
        "        soma = self.soma\n",
        "        soma.cm = 1.0\n",
        "\n",
        "        \n",
        "\n",
        "        for isec in self.grp_ids[1]:        # Basal, SomaApical, ProxTrunk and ProxApical dendrites\n",
        "            sec = self.get_sec_by_id(isec) \n",
        "\n",
        "\n",
        "        for isec in self.grp_ids[2]:\n",
        "            sec = self.get_sec_by_id(isec)  # Mid Trunk\n",
        "\n",
        "\n",
        "        for isec in self.grp_ids[3]:\n",
        "            sec = self.get_sec_by_id(isec)  # Distal Trunk\n",
        "\n",
        "        for isec in self.grp_ids[4]:\n",
        "            sec = self.get_sec_by_id(isec)  # Tuft dendrites\n",
        "\n",
        "\n",
        "\n",
        "\n",
        "        # variable parameters\n",
        "        for i,entry in enumerate(self.biophys_entries):\n",
        "            for sec in self.get_sec_by_id(self.grp_ids[entry[0]]):\n",
        "                setattr(sec,entry[1],self.biophys[i])\n",
        "        h.v_init = self._vrest\n",
        "    \n",
        "\n",
        "    def define_biophys_entries(self):\n",
        "        \"\"\"\n",
        "        Define list of entries of biophysical parameters.\n",
        "        Each entry is a pair of group id and parameter reference string.\n",
        "        Define default values and set parameters in \"biophys\".\n",
        "        \"\"\"\n",
        "        self.grp_sec_type_ids = [[0],[1,2,3],[4],[5],[6]]  # select section id's for each group\n",
        "        self.grp_ids = []  # get indices of sections for each group\n",
        "        for ids in self.grp_sec_type_ids:\n",
        "            secs = []\n",
        "            for i in ids:\n",
        "                secs.extend(self.sec_id_lookup[i])\n",
        "            self.grp_ids.append(secs)\n",
        "        self.biophys_entries = [\n",
        "             (0,'g_pas'),(1,'g_pas'),(2,'g_pas'),(3,'g_pas'),(4,'g_pas')  # g_pas of soma, basal, mid trunk, distal trunk, and tuft \n",
        "\n",
        "        ]\n",
        "\n",
        "        default_biophys = np.array([0.0000338,0.0000467,0.0000589,0.0000589,0.0000589 ## g_pas of soma, basal, midTrunk, distal trunk, and tuft \n",
        "\n",
        "                                    ])\n",
        "        \n",
        "\n",
        "\n",
        "\n",
        "        if self.biophys is not None:\n",
        "            for i in range(len(self.biophys)):\n",
        "                if self.biophys[i]>=0:\n",
        "                    default_biophys[i]=self.biophys[i]\n",
        "        self.biophys = default_biophys\n",
        "    \n",
        "\n",
        "    def add_synapse(self,stim,sec_index,**kwargs):\n",
        "        \"\"\"Add synapse to a section by its index\"\"\"\n",
        "        self.injection.append(Synapse(self,stim,sec_index,**kwargs))\n",
        " \n",
        "\n",
        "    def record_soma_v(self):\n",
        "        self.v_rec = Recorder(self.soma(.5),'v')\n",
        "    \n",
        "    def v(self):\n",
        "        \"\"\"Return recorded soma membrane voltage in numpy array\"\"\"\n",
        "        if hasattr(self,'v_rec'):\n",
        "\n",
        "            return self.v_rec.as_numpy()\n",
        "\n",
        "class Synapse(Point_current):\n",
        "    def __init__(self,cell,stim,sec_index,gmaxEXC=1,gmaxINH=1,loc=0.5,record=True, SynType='exc'): \n",
        "        super().__init__(cell,sec_index,loc)\n",
        "        self.stim = stim\n",
        "        self.gmaxEXC = gmaxEXC\n",
        "        self.gmaxINH = gmaxINH\n",
        "        self.syntype = SynType\n",
        "        self.setup(record,loc)\n",
        "\n",
        "        \n",
        "\n",
        "    def setup(self,record,loc):\n",
        "        self.setup_synapse(loc)\n",
        "        if record:\n",
        "            self.setup_recorder()\n",
        "    \n",
        "    def setup_synapse(self,loc): \n",
        "        if self.syntype == 'inh':\n",
        "          self.pp_obj = h.int2pyr(self.get_section()(loc))\n",
        "          #Assigns random generator of release probability.\n",
        "          r = h.Random()\n",
        "          r.MCellRan4()\n",
        "          r.uniform(0,1)\n",
        "          self.pp_obj.setRandObjRef(r)\n",
        "          #A list of random generators is kept so that they are not automatically garbaged.\n",
        "          self.generator = r\n",
        "          syn = self.pp_obj\n",
        "          syn.setRandObjRef(r)\n",
        "          syn.P_0 = 0.6\n",
        "          syn.initW = self.gmaxEXC\n",
        "          self.nc = h.NetCon(self.stim,syn,1,0,1)\n",
        "\n",
        "        else:\n",
        "          self.pp_obj = h.pyr2pyr(self.get_section()(loc))\n",
        "          #Assigns random generator of release probability.\n",
        "          r = h.Random()\n",
        "          r.MCellRan4()\n",
        "          r.uniform(0,1)\n",
        "          self.pp_obj.setRandObjRef(r)\n",
        "          #A list of random generators is kept so that they are not automatically garbaged.\n",
        "          self.generator = r\n",
        "          syn = self.pp_obj\n",
        "          syn.setRandObjRef(r)\n",
        "          syn.P_0 = 0.6\n",
        "          syn.initW = self.gmaxINH\n",
        "          self.nc = h.NetCon(self.stim,syn,1,0,1)\n",
        "\n",
        "    def setup_recorder(self):\n",
        "          size = [round(h.tstop/h.dt)+1] if hasattr(h,'tstop') else []\n",
        "          try:\n",
        "              self.rec_vec = h.Vector(*size).record(self.pp_obj._ref_igaba)\n",
        "          except:\n",
        "                  self.rec_vec = MultiSynCurrent()\n",
        "                  vec_inmda = h.Vector(*size).record(self.pp_obj._ref_inmda)\n",
        "                  vec_iampa = h.Vector(*size).record(self.pp_obj._ref_iampa)\n",
        "                  self.rec_vec.add_vec(vec_inmda)\n",
        "                  self.rec_vec.add_vec(vec_iampa)\n",
        "                  \n",
        "\n",
        "class MultiSynCurrent(object):\n",
        "    def __init__(self):\n",
        "        self.vec_list = []\n",
        "    \n",
        "    def add_vec(self,vec):\n",
        "        self.vec_list.append(vec)\n",
        "    \n",
        "    def as_numpy(self):\n",
        "        return np.sum(np.array([vec.as_numpy() for vec in self.vec_list]), axis=0)\n",
        "\n",
        "\n",
        "class Simulation(object):\n",
        "    def __init__(self,geometry,electrodes,loc_param=[0.,0.,0.,0.,1.,0.],\n",
        "                 geo_param=[-1],biophys=[-1],\n",
        "                 gmaxEXC=0.015,gmaxINH=0.015,\n",
        "                 scale=1.0,ncell=1,exc_dens=2.16,\n",
        "                 spike_threshold: Optional[float] = None,\n",
        "                 inh_dens=0.22): #initially __init__(self,geometry,electrodes,loc_param=[0.,0.,0.,0.,1.,0.],geo_param=[-1],biophys=[-1],gmax=0.015,scale=1.0,ncell=1):\n",
        "        \"\"\"\n",
        "        Initialize simulation object\n",
        "        geometry: pandas dataframe of cell morphology properties\n",
        "        electrodes: array of electrode coordinates, n-by-3\n",
        "        loc_param: location parameters, ncell-by-6 array, (x,y,z,theta,h,phi)\n",
        "        geo_param: geometry parameters, ncell-by-k array, if not specified, use default properties in geometry\n",
        "        biophys: biophysical parameters, ncell-by-k array, if not specified, use default properties\n",
        "        gmax: maximum conductance of synapse, ncell-vector, if is single value, is constant for all cells\n",
        "        scale: scaling factors of lfp magnitude, ncell-vector, if is single value, is constant for all cells\n",
        "        ncell: number of cells in the simulation, required if simulating for multiple cells\n",
        "        \"\"\"\n",
        "        self.ncell = ncell  # number of cells in this simulation\n",
        "        self.cells = []  # list of cell object\n",
        "        self.lfp = []  # list of EcpMod object\n",
        "        self.define_geometry_entries()  # list of entries to geometry dataframe\n",
        "        self.geometry = geometry.copy()\n",
        "        self.electrodes = electrodes\n",
        "        self.set_loc_param(loc_param)\n",
        "        self.set_geo_param(geo_param)\n",
        "        self.set_biophys(biophys)\n",
        "        self.set_gmax(gmaxEXC, gmaxINH)\n",
        "        self.set_scale(scale)\n",
        "        self.create_cells(exc_dens,inh_dens)  # create cell objects with properties set up\n",
        "        self.t_vec = h.Vector( round(h.tstop/h.dt)+1 ).record(h._ref_t)  # record time\n",
        "        self.spike_threshold = None\n",
        "        self.record_spikes(spike_threshold)\n",
        "\n",
        "\n",
        "    def set_netstim(self, syn_number):\n",
        "        \"\"\"Setup synaptic input event\"\"\"\n",
        "        stim_list = []\n",
        "        self.stim = stim_list\n",
        "        for i in range(syn_number):\n",
        "          stim = h.NetStim()\n",
        "          stim.number = 2  # average number of spikes\n",
        "          stim.start = 50  #  most likely start time of first spike\n",
        "          stim.noise = 1  # fractional randomness\n",
        "          stim.interval = 500  # mean time between spikes (ms)\n",
        "          #duration of stimulation = stim.interval X stim.number\n",
        "          stim_list.append(stim)\n",
        "\n",
        "\n",
        "    \n",
        "    def pack_parameters(self,param,ndim,param_name):\n",
        "        \"\"\"Pack parameters for the simulation\"\"\"\n",
        "        if ndim==0:\n",
        "            if not hasattr(param,'__len__'):\n",
        "                param = [param]\n",
        "            param = np.array(param).ravel()\n",
        "            if param.size!=self.ncell:\n",
        "                if param.size==1:\n",
        "                    param = np.broadcast_to(param,self.ncell)\n",
        "                else:\n",
        "                    raise ValueError(param_name+\" size does not match ncell\")   \n",
        "        if ndim==1:\n",
        "            param = np.array(param)\n",
        "            if param.ndim==1:\n",
        "                param = np.expand_dims(param,0)\n",
        "            if param.shape[0]!=self.ncell:\n",
        "                if param.shape[0]==1:\n",
        "                    param = np.broadcast_to(param,(self.ncell,param.shape[1]))\n",
        "                else:\n",
        "                    raise ValueError(param_name+\" number of rows does not match ncell\")\n",
        "        return param\n",
        "    \n",
        "    def set_loc_param(self,loc_param):\n",
        "        \"\"\"Setup location parameters. loc_param ncell-by-6 array\"\"\"\n",
        "        loc_param = self.pack_parameters(loc_param,1,\"loc_param\")\n",
        "        self.loc_param = [(loc_param[i,:3],loc_param[i,3:]) for i in range(self.ncell)]\n",
        "    \n",
        "    def set_geo_param(self,geo_param):\n",
        "        \"\"\"Setup geometry parameters. geo_param ncell-by-k array, k entries of properties\"\"\"\n",
        "        self.geo_param = self.pack_parameters(geo_param,1,\"geo_param\")\n",
        "    \n",
        "    def set_biophys(self,biophys):\n",
        "        \"\"\"Setup geometry parameters. geo_param ncell-by-k array, k entries of properties\"\"\"\n",
        "        self.biophys = self.pack_parameters(biophys,1,\"biophys\")\n",
        "    \n",
        "    def set_gmax(self,gmaxEXC,gmaxINH):\n",
        "        \"\"\"Setup maximum conductance of synapse\"\"\"\n",
        "        self.gmaxEXC = self.pack_parameters(gmaxEXC,0,\"gmaxEXC\")\n",
        "        self.gmaxINH = self.pack_parameters(gmaxINH,0,\"gmaxINH\")\n",
        "    \n",
        "    def set_scale(self,scale):\n",
        "        \"\"\"setup scaling factors of lfp magnitude\"\"\"\n",
        "        self.scale = self.pack_parameters(scale,0,\"scale\")\n",
        "    \n",
        "    def define_geometry_entries(self):\n",
        "        \"\"\"Define list of entries to geometry dataframe. Each entry is a pair of section id and property.\"\"\"\n",
        "        self.geo_entries = [\n",
        "            (0,'R'),  # change soma radius\n",
        "            (3,'L'),  # change trunk length\n",
        "            (3,'R'),  # change trunk radius\n",
        "            ([1,2],'R'),  # change basal dendrites radius\n",
        "            (4,'R'),  # change tuft radius\n",
        "            ([1,2],'L'), # change basal,apical dendrites length\n",
        "            (4,'L'), #change tuft dendrites length\n",
        "            (4,'ang') # change tuft angle\n",
        "        ]\n",
        "    \n",
        "    def set_geometry(self,geometry,geo_param):\n",
        "        \"\"\"Set property values from geo_param through each entry to geometry. Return dataframe\"\"\"\n",
        "        geom = geometry.copy()\n",
        "        for i,x in enumerate(geo_param):\n",
        "            if x>=0:\n",
        "                geom.loc[self.geo_entries[i]] = x\n",
        "        return geom\n",
        "\n",
        "    def record_spikes(self, threshold: Optional[float]) -> None:\n",
        "        \"\"\"Setup spike recorder for all cells\"\"\"\n",
        "        for cell in self.cells:\n",
        "            cell.set_spike_recorder(threshold)\n",
        "        self.spike_threshold = threshold\n",
        "\n",
        "    def create_cells(self,exc_dens,inh_dens):\n",
        "        \"\"\"Create cell objects with properties set up\"\"\"\n",
        "        self.cells.clear()  # remove cell objects from previous run\n",
        "        self.lfp.clear()\n",
        "        # Create cell with morphology and biophysical parameters\n",
        "        for i in range(self.ncell):\n",
        "            geometry = self.set_geometry(self.geometry,self.geo_param[i,:])\n",
        "            self.cells.append( Cell(geometry=geometry,biophys=self.biophys[i,:]) )\n",
        "        # add injection current or synaptic current and set up lfp recording\n",
        "        min_dist = 10.0 # minimum distance allowed between segment and electrode. Set to None if not using.\n",
        "        \n",
        "        \n",
        "\n",
        "\n",
        "\n",
        "\n",
        "\n",
        "        for i,cell in enumerate(self.cells):\n",
        "          self.lfp.append( EcpMod(cell,self.electrodes,move_cell=self.loc_param[i],scale=self.scale[i],min_distance=min_dist) )\n",
        "          # Current injection in soma\n",
        "          cell.add_injection(sec_index=0,record=True,delay=150,dur=850,amp=-0.1) # Tune for proper action potential \n",
        "\n",
        "\n",
        "\n",
        "\n",
        "          for id,sec in self.geometry.iterrows():\n",
        "            sec_index_list=cell.sec_id_lookup[id]\n",
        "            L = sec['L']\n",
        "            #print(sec_index_list)\n",
        "\n",
        "            if id==0: # soma\n",
        "              print('soma skipped') #skip soma\n",
        "              ### add equivalent of 150 inh synapses to soma\n",
        "              #syn_number = 6\n",
        "              #self.set_netstim(syn_number)\n",
        "              #print(self.stim)\n",
        "              #syn_dist = np.random.rand(syn_number) #generate distribution for location\n",
        "              #gmax_dist = np.random.lognormal(mean, std, syn_number) #generate distribution for gmax\n",
        "              #for j in range(syn_number):\n",
        "              #cell.add_synapse(stim=self.stim[j],sec_index=sec_index_list[0],gmaxEXC=gmax_dist[j],gmaxINH=1,loc=syn_dist[j],SynType='inh')\n",
        "\n",
        "            elif id==1 or id == 2 or id == 3: # basal, somaapical, proxtrunk\n",
        "              print('basal, somapical, proxtrunk skipped') #skip basal\n",
        "\n",
        "\n",
        "\n",
        "            elif id==4: # proxapical\n",
        "              print('proxapical skipped') #skip proximal apical dendrites\n",
        "\n",
        "            elif id==5: # midtrunk       \n",
        "              print('midtrunk skipped') #skip midsection of trunk\n",
        "\n",
        "            elif id==6: # disttrunk     \n",
        "              print('disttrunk skipped') #skip distal section of trunk\n",
        "\n",
        "            elif id==7: # tufts\n",
        "              print('tufts skipped') #skip tuft\n",
        "              \n",
        "            else: # add synapses to each section\n",
        "              \n",
        "              syn_exc_number = np.round(exc_dens*L) # number of synapses on dendrites = density (syn/um) times length of dendrites (um)\n",
        "              syn_inh_number = np.round(inh_dens*L)\n",
        "              syn_number = int(syn_inh_number + syn_exc_number) #total number of synapses\n",
        "              print(syn_number)\n",
        "              prop_exc = syn_exc_number/syn_number #used for assigning type\n",
        "              for isec in range(len(sec_index_list)):\n",
        "                syn_dist = np.random.rand(syn_number) #generate distribution for location\n",
        "                rand_syntype = np.random.rand(syn_number)  #generate distribution for type\n",
        "                gmax_dist = np.random.lognormal(mean, std, syn_number) #generate distribution for gmax\n",
        "                syn_type_list = ['exc' if y< prop_exc else #assign randomly, adhere to proportion \n",
        "                                'inh' for y in rand_syntype]\n",
        "                self.set_netstim(syn_number) #generate spike train list for synapses\n",
        "                #print(self.stim)\n",
        "                for j in range(syn_number):\n",
        "                  cell.add_synapse(stim=self.stim[j],sec_index=sec_index_list[isec],gmaxEXC=gmax_dist[j],gmaxINH=1,loc=syn_dist[j],SynType=syn_type_list[j])\n",
        "        \n",
        "\n",
        "        \n",
        "\n",
        "\n",
        "\n",
        "\n",
        "    \n",
        "    def run(self):\n",
        "        \"\"\"Run simulation\"\"\"\n",
        "        h.run()\n",
        "    \n",
        "    def t(self):\n",
        "        \"\"\"Return simulation time vector\"\"\"\n",
        "        return self.t_vec.as_numpy()\n",
        "    \n",
        "    def get_lfp(self,index=0):\n",
        "        \"\"\"Return LFP array of the cell by index (indices), (cells-by-)channels-by-time\"\"\"\n",
        "        if not hasattr(index,'__len__'):\n",
        "            lfp = self.lfp[index].calc_ecp()\n",
        "        else:\n",
        "            index = np.asarray(index).ravel()\n",
        "            lfp = np.stack([self.lfp[i].calc_ecp() for i in index],axis=0)\n",
        "        return lfp\n",
        "\n",
        "    def get_spike_time(self, index: Union[np.ndarray, List[int], int, str] = 0) -> np.ndarray:\n",
        "        \"\"\"\n",
        "        Return soma spike time of the cell by index (indices), ndarray (list of ndarray)\n",
        "        Parameters\n",
        "        index: index of the cell to retrieve the spikes from\n",
        "        \"\"\"\n",
        "        if self.spike_threshold is None:\n",
        "            raise ValueError(\"Spike recorder was not set up.\")\n",
        "        if type(index) is str and index == 'all':\n",
        "            index = range(self.ncell)\n",
        "        if not hasattr(index, '__len__'):\n",
        "            spk = self.cells[index].spikes.as_numpy().copy()\n",
        "        else:\n",
        "            index = np.asarray(index).ravel()\n",
        "            spk = np.array([self.cells[i].spikes.as_numpy().copy() for i in index], dtype=object)\n",
        "        return spk\n",
        "\n",
        "    def get_spike_number(self, index: Union[np.ndarray, List[int], int, str] = 0) -> Union[int, np.ndarray]:\n",
        "        \"\"\"\n",
        "        Return soma spike number of the cell by index (indices), int (ndarray)\n",
        "        Parameters\n",
        "        index: index of the cell to retrieve the spikes from\n",
        "        \"\"\"\n",
        "        if self.spike_threshold is None:\n",
        "            raise ValueError(\"Spike recorder was not set up.\")\n",
        "        if index == 'all':\n",
        "            index = range(self.ncell)\n",
        "        if not hasattr(index, '__len__'):\n",
        "            spk = self.get_spike_time(index)\n",
        "            nspk = spk.size\n",
        "        else:\n",
        "            index = np.asarray(index).ravel()\n",
        "            spk = self.get_spike_time(index)\n",
        "            nspk = np.array([s.size for s in spk])\n",
        "        return nspk, "
      ]
    },
    {
      "cell_type": "markdown",
      "metadata": {
        "id": "ER4RehApD8dM"
      },
      "source": [
        "#### Create simulation"
      ]
    },
    {
      "cell_type": "code",
      "execution_count": 9,
      "metadata": {
        "id": "q6-0DfThD8dN"
      },
      "outputs": [],
      "source": [
        "x = np.zeros(96)\n",
        "y = np.linspace(-1900,1900,96)\n",
        "z = np.zeros(96)\n",
        "elec_pos = pos = np.column_stack((x,y,z))"
      ]
    },
    {
      "cell_type": "markdown",
      "metadata": {
        "id": "59qptuG3D8dO"
      },
      "source": [
        "Set parameters"
      ]
    },
    {
      "cell_type": "code",
      "execution_count": 10,
      "metadata": {
        "scrolled": true,
        "id": "w-bIgCdCD8dP",
        "colab": {
          "base_uri": "https://localhost:8080/"
        },
        "outputId": "dc6b1388-ff36-4597-8ef6-20ebaa803b1e"
      },
      "outputs": [
        {
          "output_type": "stream",
          "name": "stdout",
          "text": [
            "soma skipped\n",
            "basal, somapical, proxtrunk skipped\n",
            "basal, somapical, proxtrunk skipped\n",
            "basal, somapical, proxtrunk skipped\n",
            "proxapical skipped\n",
            "midtrunk skipped\n",
            "disttrunk skipped\n",
            "tufts skipped\n"
          ]
        }
      ],
      "source": [
        "loc_param = [50,0,10,0,1,0]  # example position #D: initially this was [0,0,50,0.2,0.75,1.5], (x,y,z,theta,h,phi), h=[-1,1] phi=[-pi,pi] h=.7071067812 for 90 deg\n",
        "#note on parameters: Rotate(alpha,h,phi): first rotate alpha about y-axis (spin), then rotate arccos(h) about x-axis (elevation), then rotate phi about y axis (azimuth).\n",
        "\n",
        "#geo_param = [-1,-1,-1]  # choose trunk length [-1,600], bounds([3,12],[20,800],[0.2,1.0],[0.2,1.0],[0.2,1.0],[100,300])\n",
        "geo_param = [ # geo_entries need to be fixed\n",
        "            -1,  # change soma radius\n",
        "            -1,  # change trunk length\n",
        "            -1,  # change trunk radius\n",
        "            -1,  # change basal dendrites radius\n",
        "            -1,  # change tuft radius\n",
        "            -1, # change basal, apical dendrites length\n",
        "            -1, # change tuft dendrites length\n",
        "            -1 # change tuft angle # 1.309\n",
        "        ]\n",
        "\n",
        "# example of changing biophysical parameters (check \"biophys_entries\" in \"Cell\" class for meaning, bounds can also be found there)\n",
        "biophys = [0.0000338,0.0000467,0.0000589,0.0000589,0.0000589 # g_pas of soma, basal, midTrunk, distal trunk, and tuft 0.0000338,0.0000467,0.0000589,0.0000589,0.0000589,\n",
        "\n",
        "                                    ]\n",
        "\n",
        "\n",
        "                              \n",
        "sim = Simulation(geo_standard,elec_pos,loc_param,geo_param=geo_param,biophys=biophys,gmaxEXC=0.1,gmaxINH=0.05,scale=100.,exc_dens=2.16,inh_dens=0.22,spike_threshold = 10)  # 0.001 -0.012 #gmax=.005, scale=100"
      ]
    },
    {
      "cell_type": "markdown",
      "metadata": {
        "id": "ZOjUgsuOD8dQ"
      },
      "source": [
        "Record membrane voltage at initial/middle/end of the trunk and middle of the tuft to check the propagation."
      ]
    },
    {
      "cell_type": "code",
      "execution_count": 11,
      "metadata": {
        "id": "GfdmtkklD8dR"
      },
      "outputs": [],
      "source": [
        "nseg = len(sim.cells[0].segments)\n",
        "numTstep = int(tstop/dt)\n",
        "\n",
        "\n",
        "seg_list = sim.cells[0].get_seg_by_id(range(nseg))\n",
        "\n",
        "Vrecord = []\n",
        "for i in range(0,len(seg_list)):\n",
        "     Vrecord.append(seg_list[i])\n",
        "\n",
        "dend_v = Recorder(Vrecord)\n",
        "\n",
        "\n",
        "\n"
      ]
    },
    {
      "cell_type": "code",
      "execution_count": 12,
      "metadata": {
        "id": "r5sG9sfQD8dR"
      },
      "outputs": [],
      "source": [
        "sim.run()\n",
        "lfp = sim.get_lfp().T\n",
        "t = sim.t()"
      ]
    },
    {
      "cell_type": "code",
      "source": [
        "v_dend = dend_v.as_numpy()\n",
        "\n",
        "v_rest = v_dend[0][1]\n",
        "v_final = v_dend[0][40000]\n",
        "\n",
        "\n",
        "calc = v_rest -((v_rest - v_final) * 0.638)\n",
        "\n",
        "print(calc)\n",
        "\n",
        "\n",
        "print(v_dend[0][7289])\n",
        "\n",
        "timeAtV = 7289/40\n",
        "print(timeAtV)\n",
        "\n",
        "t = timeAtV - 150\n",
        "t_ins = t/1000\n",
        "\n",
        "print(t)\n",
        "print(t_ins)\n",
        "\n",
        "\n",
        "deltaV = (v_rest - v_final)\n",
        "deltaI = (0 - (-100))\n",
        "dVdI = deltaV / (deltaI /1000)\n",
        "\n",
        "print(dVdI)\n"
      ],
      "metadata": {
        "colab": {
          "base_uri": "https://localhost:8080/"
        },
        "id": "2mC-3YurMNAv",
        "outputId": "3e5941eb-ffa6-4c82-9893-2420fb781e00"
      },
      "execution_count": 15,
      "outputs": [
        {
          "output_type": "stream",
          "name": "stdout",
          "text": [
            "-69.78461003146845\n",
            "-69.78503612976816\n",
            "182.225\n",
            "32.224999999999994\n",
            "0.032225\n",
            "153.36379359668413\n"
          ]
        }
      ]
    },
    {
      "cell_type": "markdown",
      "source": [
        "\n",
        "\n",
        "1.  V_rest = -60 ms\n",
        "2.  Calculation of time constant:\n",
        "*   Start inject: 150ms / -60mV \n",
        "*   Final Value: ~ -75.34mV\n",
        "*   Difference: -15.34   | 63.2% = 9.78   | -60 – 8.63 = - 69.78\n",
        "*   Time at – 69.78: 170.375 ms\n",
        "*   τ = 182.225-150 \n",
        "*   τ  = 32.2249 ms\n",
        "*   τ  = .032225 s\n",
        "\n",
        "3.  Input Resistance \n",
        "\n",
        "  ΔV/ΔI = ( -60 – (-92.24) )/( 0 – (-100pA) ) \n",
        "\n",
        "  = 15.34mV / 0.1 nA \n",
        "\n",
        "  R_in   = 153.364 MΩ\n"
      ],
      "metadata": {
        "id": "s3Sk-NkPMyWm"
      }
    }
  ],
  "metadata": {
    "kernelspec": {
      "display_name": "Python 3 (ipykernel)",
      "language": "python",
      "name": "python3"
    },
    "language_info": {
      "codemirror_mode": {
        "name": "ipython",
        "version": 3
      },
      "file_extension": ".py",
      "mimetype": "text/x-python",
      "name": "python",
      "nbconvert_exporter": "python",
      "pygments_lexer": "ipython3",
      "version": "3.7.4"
    },
    "colab": {
      "name": "Stylized_Reduced_Order_L5_passive properties.ipynb",
      "provenance": [],
      "collapsed_sections": [],
      "include_colab_link": true
    }
  },
  "nbformat": 4,
  "nbformat_minor": 0
}