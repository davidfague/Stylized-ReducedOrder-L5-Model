{
  "nbformat": 4,
  "nbformat_minor": 0,
  "metadata": {
    "colab": {
      "provenance": [],
      "authorship_tag": "ABX9TyP4WYLujAHleCxyzjefMG02",
      "include_colab_link": true
    },
    "kernelspec": {
      "name": "python3",
      "display_name": "Python 3"
    },
    "language_info": {
      "name": "python"
    }
  },
  "cells": [
    {
      "cell_type": "markdown",
      "metadata": {
        "id": "view-in-github",
        "colab_type": "text"
      },
      "source": [
        "<a href=\"https://colab.research.google.com/github/davidfague/Stylized-ReducedOrder-L5-Model/blob/main/SROL5_NR.ipynb\" target=\"_parent\"><img src=\"https://colab.research.google.com/assets/colab-badge.svg\" alt=\"Open In Colab\"/></a>"
      ]
    },
    {
      "cell_type": "markdown",
      "source": [
        "#Get SROL5 Model and Neuron_reduce"
      ],
      "metadata": {
        "id": "MygfRDrB9e3B"
      }
    },
    {
      "cell_type": "code",
      "execution_count": 1,
      "metadata": {
        "colab": {
          "base_uri": "https://localhost:8080/"
        },
        "id": "xTRqXpT8EdLm",
        "outputId": "4837a71d-9098-46fb-d460-52d8038edd5b"
      },
      "outputs": [
        {
          "output_type": "stream",
          "name": "stdout",
          "text": [
            "fatal: destination path 'Stylized-ReducedOrder-L5-Model' already exists and is not an empty directory.\n",
            "/content/Stylized-ReducedOrder-L5-Model\n",
            "Looking in indexes: https://pypi.org/simple, https://us-python.pkg.dev/colab-wheels/public/simple/\n",
            "Requirement already satisfied: neuron in /usr/local/lib/python3.8/dist-packages (8.2.2)\n",
            "Requirement already satisfied: numpy>=1.9.3 in /usr/local/lib/python3.8/dist-packages (from neuron) (1.21.6)\n",
            "Looking in indexes: https://pypi.org/simple, https://us-python.pkg.dev/colab-wheels/public/simple/\n",
            "Requirement already satisfied: neuron_reduce in /usr/local/lib/python3.8/dist-packages (0.0.7)\n"
          ]
        }
      ],
      "source": [
        "!git clone https://github.com/davidfague/Stylized-ReducedOrder-L5-Model.git\n",
        "%cd Stylized-ReducedOrder-L5-Model/\n",
        "\n",
        "!pip install neuron\n",
        "from neuron import h,nrn,gui\n",
        "import pandas as pd\n",
        "import numpy as np\n",
        "from scipy.stats import lognorm\n",
        "import time\n",
        "from io import StringIO\n",
        "import os, sys\n",
        "from typing import Optional, List, Tuple, Union\n",
        "from functools import partial\n",
        "import scipy.signal as ss\n",
        "import scipy.stats as st\n",
        "import h5py\n",
        "import matplotlib.pyplot as plt\n",
        "import math\n",
        "from utils.plot_results import plot_LFP_traces,plot_LFP_heatmap\n",
        "from utils.plot_morphology import plot_morphology\n",
        "import re\n",
        "\n",
        "!pip install neuron_reduce\n",
        "from __future__ import division\n",
        "import neuron_reduce\n",
        "\n",
        "\n",
        "# #try to use my fork for some small adjustments #didn\n",
        "# !git clone https://github.com/davidfague/neuron_reduce.git\n",
        "# from __future__ import division\n",
        "# import neuron_reduce\n",
        "# from neuron_reduce import subtree_reductor"
      ]
    },
    {
      "cell_type": "code",
      "source": [
        "#refresh github\n",
        "import shutil\n",
        "%cd ..\n",
        "shutil.rmtree('Stylized-ReducedOrder-L5-Model/') #removes folder\n",
        "!git clone https://github.com/davidfague/Stylized-ReducedOrder-L5-Model.git\n",
        "%cd Stylized-ReducedOrder-L5-Model/"
      ],
      "metadata": {
        "colab": {
          "base_uri": "https://localhost:8080/"
        },
        "id": "cDv7VNCZLYKP",
        "outputId": "62bbd4c2-9bac-4c74-81f8-6d07712074c6"
      },
      "execution_count": 2,
      "outputs": [
        {
          "output_type": "stream",
          "name": "stdout",
          "text": [
            "/content\n",
            "Cloning into 'Stylized-ReducedOrder-L5-Model'...\n",
            "remote: Enumerating objects: 1353, done.\u001b[K\n",
            "remote: Counting objects: 100% (46/46), done.\u001b[K\n",
            "remote: Compressing objects: 100% (22/22), done.\u001b[K\n",
            "remote: Total 1353 (delta 34), reused 24 (delta 24), pack-reused 1307\u001b[K\n",
            "Receiving objects: 100% (1353/1353), 112.09 MiB | 17.88 MiB/s, done.\n",
            "Resolving deltas: 100% (666/666), done.\n",
            "/content/Stylized-ReducedOrder-L5-Model\n"
          ]
        }
      ]
    },
    {
      "cell_type": "code",
      "source": [
        "mechanisms_path = 'mechanisms'  # need to compile the folder first\n",
        "geometry_file = 'geom_parameters.csv'\n",
        "tstop = 1000  # ms simulation duration\n",
        "dt = 0.1  # ms. does not allow change\n",
        "\n",
        "h.load_file('stdrun.hoc')\n",
        "#h.nrn_load_dll(os.path.join(mechanisms_path,'nrnmech.dll'))  # running this line more than once might crash the kernel\n",
        "h.nrn_load_dll(os.path.join(mechanisms_path,'x86_64/.libs/libnrnmech.so'))  # use this line instead in Linux\n",
        "geo_standard = pd.read_csv(geometry_file,index_col='id')\n",
        "h.tstop = tstop\n",
        "h.dt = dt\n",
        "h.steps_per_ms = 1/h.dt\n",
        "\n",
        "#pick a random seed to initalize random values\n",
        "import random\n",
        "random.seed(427)"
      ],
      "metadata": {
        "id": "GPLcvtQkOBS9"
      },
      "execution_count": 3,
      "outputs": []
    },
    {
      "cell_type": "code",
      "source": [
        "from SROL5.build_model import Simulation\n",
        "# from stylized_module.ecp import EcpMod, newposition\n",
        "# from stylized_module.recorder import Recorder\n",
        "# from stylized_module.point_current import Point_current"
      ],
      "metadata": {
        "id": "iUH3QCedHF82"
      },
      "execution_count": 4,
      "outputs": []
    },
    {
      "cell_type": "markdown",
      "source": [
        "#Define Cell Orientation, Biophysics, and Geometry"
      ],
      "metadata": {
        "id": "hDPUlFtP9HW5"
      }
    },
    {
      "cell_type": "code",
      "source": [
        "x = np.zeros(96)\n",
        "y = np.linspace(-1900,1900,96)\n",
        "z = np.zeros(96)\n",
        "elec_pos = pos = np.column_stack((x,y,z))\n",
        "\n",
        "#choose orientation of neuron\n",
        "loc_param = [50,0,10,0,1,0]  # example position #D: initially this was [0,0,50,0.2,0.75,1.5], (x,y,z,theta,h,phi), h=[-1,1] phi=[-pi,pi] h=.7071067812 for 90 deg\n",
        "#note on parameters: Rotate(alpha,h,phi): first rotate alpha about y-axis (spin), then rotate arccos(h) about x-axis (elevation), then rotate phi about y axis (azimuth).\n",
        "\n",
        "\n",
        "# change geo_parameters from their default values #************************NOTE**********************: doesn't change the geometry values used in geom_iterrows & sec['parameter'] (like when synapses are adding using geom);\n",
        "geo_param = [ # -1 uses default value                                                                  #better to edit the geom file to guarantee edits until the automation is fixed\n",
        "            #soma\n",
        "            -1,  # radius\n",
        "#proximal trunk\n",
        "            -1, # excitation ('TRUE'/'FALSE')\n",
        "            -1, # inhibition ('TRUE'/'FALSE')\n",
        "            -1, # length\n",
        "            -1, # radius\n",
        "            -1, # exc FR mean\n",
        "            -1, # exc FR std\n",
        "            -1, # inh FR mean\n",
        "            -1, # inh FR std\n",
        "            -1, # exc P_0 mean (0 to 1)\n",
        "            -1, # exc P_0 std\n",
        "            -1, # inh P_0 mean (0 to 1)\n",
        "            -1, # inh P_0 std\n",
        "#middle trunk\n",
        "            -1, # excitation ('TRUE'/'FALSE')\n",
        "            -1, # inhibition ('TRUE'/'FALSE')\n",
        "            -1, # length\n",
        "            -1, # radius\n",
        "            -1, # exc FR mean\n",
        "            -1, # exc FR std\n",
        "            -1, # inh FR mean\n",
        "            -1, # inh FR std\n",
        "            -1, # exc P_0 mean (0 to 1)\n",
        "            -1, # exc P_0 std\n",
        "            -1, # inh P_0 mean (0 to 1)\n",
        "            -1, # inh P_0 std\n",
        "#distal trunk\n",
        "            -1, # excitation ('TRUE'/'FALSE')\n",
        "            -1, # inhibition ('TRUE'/'FALSE')\n",
        "            -1, # length\n",
        "            -1, # radius\n",
        "            -1, # exc FR mean\n",
        "            -1, # exc FR std\n",
        "            -1, # inh FR mean\n",
        "            -1, # inh FR std\n",
        "            -1, # exc P_0 mean (0 to 1)\n",
        "            -1, # exc P_0 std\n",
        "            -1, # inh P_0 mean (0 to 1)\n",
        "            -1, # inh P_0 std\n",
        "#basal dendrites\n",
        "            -1, # excitation ('TRUE'/'FALSE')\n",
        "            -1, # inhibition ('TRUE'/'FALSE')\n",
        "            -1, # number of dendrites\n",
        "            -1, # proximal section length\n",
        "            -1, # middle section length\n",
        "            -1, # distal section length\n",
        "            -1, # proximal radius\n",
        "            -1, # middle radius\n",
        "            -1, # distal radius\n",
        "            -1, # angle\n",
        "            -1, # exc FR mean\n",
        "            -1, # exc FR std\n",
        "            -1, # inh FR mean\n",
        "            -1, # inh FR std\n",
        "            -1, # exc P_0 mean (0 to 1)\n",
        "            -1, # exc P_0 std\n",
        "            -1, # inh P_0 mean (0 to 1)\n",
        "            -1, # inh P_0 std\n",
        "#oblique dendrites\n",
        "            -1, # excitation ('TRUE'/'FALSE')\n",
        "            -1, # inhibition ('TRUE'/'FALSE')\n",
        "            -1, # number of dendrites # counted 15 in hay model\n",
        "            -1, # length\n",
        "            -1, # radius\n",
        "            -1, # angle\n",
        "            -1, # exc FR mean\n",
        "            -1, # exc FR std\n",
        "            -1, # inh FR mean\n",
        "            -1, # inh FR std\n",
        "            -1, # exc P_0 mean (0 to 1)\n",
        "            -1, # exc P_0 std\n",
        "            -1, # inh P_0 mean (0 to 1)\n",
        "            -1, # inh P_0 std\n",
        "#tuft dendrites\n",
        "            -1, # excitation ('TRUE'/'FALSE')\n",
        "            -1, # inhibition ('TRUE'/'FALSE')\n",
        "            -1, # number of dendrites\n",
        "            -1, # proximal section length\n",
        "            -1, # middle section length\n",
        "            -1, # distal section length\n",
        "            -1, # proximal radius\n",
        "            -1, # middle radius\n",
        "            -1, # distal radius\n",
        "            -1, # angle\n",
        "            -1, # exc FR mean\n",
        "            -1, # exc FR std\n",
        "            -1, # inh FR mean\n",
        "            -1, # inh FR std\n",
        "            -1, # exc P_0 mean (0 to 1)\n",
        "            -1, # exc P_0 std\n",
        "            -1, # inh P_0 mean (0 to 1)\n",
        "            -1, # inh P_0 std\n",
        "#axon\n",
        "            -1, # length\n",
        "            -1, # radius # hay uses 0.5 #we had at 8\n",
        "#passive basal\n",
        "            -1, # number of dendrites\n",
        "            -1, # length\n",
        "            -1 # radius\n",
        "        ]\n",
        "      \n",
        "      \n",
        "# example of changing biophysical parameters (check \"biophys_entries\" in \"Cell\" class for meaning, bounds can also be found there)\n",
        "#latest conductances from Detailed Model Updated 8/21/22\n",
        "#Ih may be off for apical sections; The detailed model axon shas only g_pas, but we have given the axon some conductances closer to the soma, and may need to change\n",
        "#also setting a conductance to 0.0 may throw some sort of error\n",
        "biophys = [0.0000338,0.0000467,0.0000589,0.0000589,0.0000589,0.0000325,0.0000467, # g_pas of soma, basal, midTrunk, distTrunk, tuft, axon, passiveBasal #passive basal was 0.00001\n",
        "                                    2.04,0.0213,0.0213,0.0213,0.0213,0.0,0.0, # gNaTa_t of soma, basal, midTrunk, distTrunk, tuft, axon, passiveBasal # axon was 2.89618\n",
        "                                    0.693,0.000261,0.000261,0.000261,0.000261,0.0,0.0, # gSKv3_1 of soma, basal, midTrunk, distTrunk, tuft, axon, passiveBasal #axon was 0.473799\n",
        "           \n",
        "                                    0.000992,0.0,0.0000555,(0.000555),.0000555,0.0,0.0,  # gCA_HVA of soma, basal, midTrunk, distTrunk, tuft, axon, passiveBasal #basal was 0.000992\n",
        "                                    0.00343,0.0,0.000187,(0.0187),0.000187,0.0,0.0, # gCA_LVAst of soma, basal, midTrunk, distTrunk, tuft, axon, passiveBasal\n",
        "                                    0.0000675,0.0000675,(0.0000675),0.0000675,0.0, # gIm of basal, midTrunk, distTrunk, tuft, axon\n",
        "           \n",
        "                                    460.0,122,122,122,122,277.300774,122, # decay_CaDynamics of soma, basal, midTrunk, distTrunk, tuft, axon, passiveBasal\n",
        "                                    0.000501,0.000509,0.000509,0.000509,0.000509,0.000525,0.000509, # gamma_CaDynamics of soma, basal, midTrunk, distTrunk, tuft, axon, passiveBasal\n",
        "                                    # 0.0002,0.0002,0.0002,0.0002,0.0002,0.0001,0.0002, # gIh of soma, basal, midTrunk, distTrunk, tuft, axon, passiveBasal\n",
        "                                    0.0002,0.0002,0.0009596,0.0029005,.006997745,0.0001,0.0002, # gIh of soma, basal, midTrunk, distTrunk, tuft, axon, passiveBasal #calculated from distribute_channels #if sectioning tuft do disttuft:0.0118268; midtuft:.006997745; proxtuft:.0047005526\n",
        "                                    0.0441,0.0012,0.0012,0.0012,0.0012,0.000047, # gSk_E2 of soma, basal, midTrunk, distTrunk, tuft, axon\n",
        "                                    0.0812,0.0, # gK_Tst of soma, axon #axon was 0.077274\n",
        "                                    0.00223,0.0, # gK_Pst of soma, axon #axon was 0.188851\n",
        "                                    0.00172,0.0  # gNap_Et2 of soma, axon\n",
        "                                    ]"
      ],
      "metadata": {
        "id": "swGnjLYDKklQ"
      },
      "execution_count": 5,
      "outputs": []
    },
    {
      "cell_type": "markdown",
      "source": [
        "#Define Simulation"
      ],
      "metadata": {
        "id": "szWfEeW99MXx"
      }
    },
    {
      "cell_type": "code",
      "source": [
        "timestart=time.time()\n",
        "sim = Simulation(geo_standard,elec_pos,loc_param,geo_param=geo_param,biophys=biophys,gmax=0.05,scale=100.,spike_threshold = 10, synaptic_input = True, RunType = 'Full Model')  # 0.001 -0.012 #gmax=.005, scale=100\n",
        "timestop=time.time()\n",
        "elapseddeftime=timestop-timestart\n",
        "simtime=tstop/1000 #convert from ms to s\n",
        "print('It took',round(elapseddeftime),'sec to define the simulation model.') #need to optomize input grouping # location check takes a long time since it iterates through checking a list of synapse locations for each group/cluster within the section"
      ],
      "metadata": {
        "id": "ISk0q81o9D7I",
        "outputId": "508f224d-ec93-4355-b670-e9a679147be3",
        "colab": {
          "base_uri": "https://localhost:8080/"
        }
      },
      "execution_count": 6,
      "outputs": [
        {
          "output_type": "stream",
          "name": "stdout",
          "text": [
            "soma has no exc synapses\n",
            "proxbasal |L: 33.0 |cluster length: 3.0 |# clusters: 11 |funcgrp length: 33.0 |# funcgrp: 1 |syns/cluster: 6 |#segments: 7 |segment length: 4.714285714285714\n",
            "midbasal |L: 49.0 |cluster length: 3.0625 |# clusters: 16 |funcgrp length: 49.0 |# funcgrp: 1 |syns/cluster: 7 |#segments: 10 |segment length: 4.9\n",
            "distbasal |L: 82.0 |cluster length: 3.037037037037037 |# clusters: 27 |funcgrp length: 82.0 |# funcgrp: 1 |syns/cluster: 7 |#segments: 17 |segment length: 4.823529411764706\n",
            "proxtrunk has no exc synapses\n",
            "oblique has no exc synapses\n",
            "midtrunk has no exc synapses\n",
            "disttrunk has no exc synapses\n",
            "proxtuft |L: 49.0 |cluster length: 3.0625 |# clusters: 16 |funcgrp length: 49.0 |# funcgrp: 1 |syns/cluster: 7 |#segments: 10 |segment length: 4.9\n",
            "midtuft |L: 200.0 |cluster length: 3.0303030303030303 |# clusters: 66 |funcgrp length: 100.0 |# funcgrp: 2 |syns/cluster: 7 |#segments: 40 |segment length: 5.0\n",
            "disttuft |L: 304.0 |cluster length: 3.00990099009901 |# clusters: 101 |funcgrp length: 101.33333333333333 |# funcgrp: 3 |syns/cluster: 7 |#segments: 61 |segment length: 4.983606557377049\n",
            "axon has no exc synapses\n",
            "passivebasal has no exc synapses\n",
            "Distributing 406 inh synapses onto soma sections\n",
            "Distributing 7 inh synapses onto proxbasal sections\n",
            "Distributing 11 inh synapses onto midbasal sections\n",
            "Distributing 18 inh synapses onto distbasal sections\n",
            "Distributing 44 inh synapses onto proxtrunk sections\n",
            "Distributing 29 inh synapses onto oblique sections\n",
            "Distributing 48 inh synapses onto midtrunk sections\n",
            "disttrunk has no inh synapses\n",
            "Distributing 11 inh synapses onto proxtuft sections\n",
            "Distributing 44 inh synapses onto midtuft sections\n",
            "Distributing 67 inh synapses onto disttuft sections\n",
            "axon has no inh synapses\n",
            "passivebasal has no inh synapses\n",
            "It took 16 sec to define the simulation model.\n"
          ]
        }
      ]
    },
    {
      "cell_type": "markdown",
      "source": [
        "#Testing neuron_reduce on stylized cell"
      ],
      "metadata": {
        "id": "qHZGSIywMsmx"
      }
    },
    {
      "cell_type": "code",
      "source": [
        "# #check extraction of section type\n",
        "# for section in sim.cells[0].apical:\n",
        "#     full_sec_name = h.secname(sec=section)\n",
        "#     print(full_sec_name)\n",
        "#     sec_name_as_list = full_sec_name.split(\".\")\n",
        "#     print(sec_name_as_list)\n",
        "#     short_sec_name = sec_name_as_list[len(sec_name_as_list) - 1]\n",
        "#     print(short_sec_name)\n",
        "#     section_type = short_sec_name.split(\"[\")[0]\n",
        "#     print(section_type)\n",
        "#     section_num = re.findall(r'\\d+', short_sec_name)[0]"
      ],
      "metadata": {
        "id": "EuyOG3H0L4-A"
      },
      "execution_count": 7,
      "outputs": []
    },
    {
      "cell_type": "code",
      "source": [
        "# #check extraction of section number\n",
        "# for section in sim.cells[0].all:\n",
        "#     sec_name = h.secname(sec=section)\n",
        "#     print(sec_name)\n",
        "#     ints_in_name = re.findall(r'\\d+', sec_name)\n",
        "#     sec_num = ints_in_name[len(ints_in_name) - 1]  # extracts section number\n",
        "#     print(sec_num)"
      ],
      "metadata": {
        "id": "_tVc3xU2-kaZ"
      },
      "execution_count": 8,
      "outputs": []
    },
    {
      "cell_type": "code",
      "source": [
        "complex_cell=sim.cells[0]"
      ],
      "metadata": {
        "id": "syUuX-BqMuXt"
      },
      "execution_count": 9,
      "outputs": []
    },
    {
      "cell_type": "code",
      "source": [
        "synapses_list=[]\n",
        "netcons_list=[]\n",
        "for synapse in complex_cell.injection:\n",
        "  synapses_list.append(synapse)\n",
        "  netcons_list.append(synapse.nc)"
      ],
      "metadata": {
        "id": "XP7vXgjZMxwL"
      },
      "execution_count": 10,
      "outputs": []
    },
    {
      "cell_type": "code",
      "source": [
        "print(complex_cell.soma.hname())"
      ],
      "metadata": {
        "colab": {
          "base_uri": "https://localhost:8080/"
        },
        "id": "RIuCgpTRMzGp",
        "outputId": "b574d38d-4f89-4a05-b14b-97eaeab7a7ef"
      },
      "execution_count": 11,
      "outputs": [
        {
          "output_type": "stream",
          "name": "stdout",
          "text": [
            "soma[0]\n"
          ]
        }
      ]
    },
    {
      "cell_type": "code",
      "source": [
        "print(complex_cell.soma.hname()[-1] == ']')"
      ],
      "metadata": {
        "id": "1vhYLeYrPebY",
        "outputId": "46938e9e-f01b-4e4e-e751-9b571b037cea",
        "colab": {
          "base_uri": "https://localhost:8080/"
        }
      },
      "execution_count": 12,
      "outputs": [
        {
          "output_type": "stream",
          "name": "stdout",
          "text": [
            "True\n"
          ]
        }
      ]
    },
    {
      "cell_type": "code",
      "source": [
        "# soma = complex_cell.soma[0] if complex_cell.soma.hname()[-1] == ']' else complex_cell.soma\n",
        "# print(soma)"
      ],
      "metadata": {
        "id": "mj3uuHjwPUlF"
      },
      "execution_count": 13,
      "outputs": []
    },
    {
      "cell_type": "code",
      "source": [
        "complex_cell=sim.cells[0]\n",
        "# print(netcons_list)\n",
        "#apply Neuron_Reduce to simplify the cell\n",
        "reduced_cell, synapses_list, netcons_list = neuron_reduce.subtree_reductor(complex_cell, synapses_list, netcons_list, reduction_frequency=0, total_segments_manual=-1)"
      ],
      "metadata": {
        "colab": {
          "base_uri": "https://localhost:8080/",
          "height": 341
        },
        "id": "0dAWpNwpM0P7",
        "outputId": "0d7d7e6c-175a-484e-f1d4-781127720ba0"
      },
      "execution_count": 14,
      "outputs": [
        {
          "output_type": "error",
          "ename": "TypeError",
          "evalue": "ignored",
          "traceback": [
            "\u001b[0;31m---------------------------------------------------------------------------\u001b[0m",
            "\u001b[0;31mTypeError\u001b[0m                                 Traceback (most recent call last)",
            "\u001b[0;32m<ipython-input-14-7abb0f9b6584>\u001b[0m in \u001b[0;36m<module>\u001b[0;34m\u001b[0m\n\u001b[1;32m      2\u001b[0m \u001b[0;31m# print(netcons_list)\u001b[0m\u001b[0;34m\u001b[0m\u001b[0;34m\u001b[0m\u001b[0;34m\u001b[0m\u001b[0m\n\u001b[1;32m      3\u001b[0m \u001b[0;31m#apply Neuron_Reduce to simplify the cell\u001b[0m\u001b[0;34m\u001b[0m\u001b[0;34m\u001b[0m\u001b[0;34m\u001b[0m\u001b[0m\n\u001b[0;32m----> 4\u001b[0;31m \u001b[0mreduced_cell\u001b[0m\u001b[0;34m,\u001b[0m \u001b[0msynapses_list\u001b[0m\u001b[0;34m,\u001b[0m \u001b[0mnetcons_list\u001b[0m \u001b[0;34m=\u001b[0m \u001b[0mneuron_reduce\u001b[0m\u001b[0;34m.\u001b[0m\u001b[0msubtree_reductor\u001b[0m\u001b[0;34m(\u001b[0m\u001b[0mcomplex_cell\u001b[0m\u001b[0;34m,\u001b[0m \u001b[0msynapses_list\u001b[0m\u001b[0;34m,\u001b[0m \u001b[0mnetcons_list\u001b[0m\u001b[0;34m,\u001b[0m \u001b[0mreduction_frequency\u001b[0m\u001b[0;34m=\u001b[0m\u001b[0;36m0\u001b[0m\u001b[0;34m,\u001b[0m \u001b[0mtotal_segments_manual\u001b[0m\u001b[0;34m=\u001b[0m\u001b[0;34m-\u001b[0m\u001b[0;36m1\u001b[0m\u001b[0;34m)\u001b[0m\u001b[0;34m\u001b[0m\u001b[0;34m\u001b[0m\u001b[0m\n\u001b[0m",
            "\u001b[0;32m/usr/local/lib/python3.8/dist-packages/neuron_reduce/subtree_reductor_func.py\u001b[0m in \u001b[0;36msubtree_reductor\u001b[0;34m(original_cell, synapses_list, netcons_list, reduction_frequency, model_filename, total_segments_manual, PP_params_dict, mapping_type, return_seg_to_seg)\u001b[0m\n\u001b[1;32m    782\u001b[0m \u001b[0;34m\u001b[0m\u001b[0m\n\u001b[1;32m    783\u001b[0m     \u001b[0;31m# finds soma properties\u001b[0m\u001b[0;34m\u001b[0m\u001b[0;34m\u001b[0m\u001b[0;34m\u001b[0m\u001b[0m\n\u001b[0;32m--> 784\u001b[0;31m     \u001b[0msoma\u001b[0m \u001b[0;34m=\u001b[0m \u001b[0moriginal_cell\u001b[0m\u001b[0;34m.\u001b[0m\u001b[0msoma\u001b[0m\u001b[0;34m[\u001b[0m\u001b[0;36m0\u001b[0m\u001b[0;34m]\u001b[0m \u001b[0;32mif\u001b[0m \u001b[0moriginal_cell\u001b[0m\u001b[0;34m.\u001b[0m\u001b[0msoma\u001b[0m\u001b[0;34m.\u001b[0m\u001b[0mhname\u001b[0m\u001b[0;34m(\u001b[0m\u001b[0;34m)\u001b[0m\u001b[0;34m[\u001b[0m\u001b[0;34m-\u001b[0m\u001b[0;36m1\u001b[0m\u001b[0;34m]\u001b[0m \u001b[0;34m==\u001b[0m \u001b[0;34m']'\u001b[0m \u001b[0;32melse\u001b[0m \u001b[0moriginal_cell\u001b[0m\u001b[0;34m.\u001b[0m\u001b[0msoma\u001b[0m\u001b[0;34m\u001b[0m\u001b[0;34m\u001b[0m\u001b[0m\n\u001b[0m\u001b[1;32m    785\u001b[0m \u001b[0;34m\u001b[0m\u001b[0m\n\u001b[1;32m    786\u001b[0m     soma_cable = CableParams(length=soma.L, diam=soma.diam, space_const=None,\n",
            "\u001b[0;31mTypeError\u001b[0m: 'nrn.Section' object is not subscriptable"
          ]
        }
      ]
    }
  ]
}