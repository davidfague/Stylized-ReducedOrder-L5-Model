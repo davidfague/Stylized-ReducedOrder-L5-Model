{
  "nbformat": 4,
  "nbformat_minor": 0,
  "metadata": {
    "colab": {
      "provenance": [],
      "authorship_tag": "ABX9TyNUsXd6+i8zw8WRvZ49D98a",
      "include_colab_link": true
    },
    "kernelspec": {
      "name": "python3",
      "display_name": "Python 3"
    },
    "language_info": {
      "name": "python"
    }
  },
  "cells": [
    {
      "cell_type": "markdown",
      "metadata": {
        "id": "view-in-github",
        "colab_type": "text"
      },
      "source": [
        "<a href=\"https://colab.research.google.com/github/davidfague/Stylized-ReducedOrder-L5-Model/blob/main/SROL5_NR.ipynb\" target=\"_parent\"><img src=\"https://colab.research.google.com/assets/colab-badge.svg\" alt=\"Open In Colab\"/></a>"
      ]
    },
    {
      "cell_type": "markdown",
      "source": [
        "#Get SROL5 Model and Neuron_reduce"
      ],
      "metadata": {
        "id": "MygfRDrB9e3B"
      }
    },
    {
      "cell_type": "code",
      "execution_count": 1,
      "metadata": {
        "colab": {
          "base_uri": "https://localhost:8080/"
        },
        "id": "xTRqXpT8EdLm",
        "outputId": "c11e52c0-ab85-453e-c98b-b866178d0835"
      },
      "outputs": [
        {
          "output_type": "stream",
          "name": "stdout",
          "text": [
            "Cloning into 'Stylized-ReducedOrder-L5-Model'...\n",
            "remote: Enumerating objects: 1307, done.\u001b[K\n",
            "remote: Counting objects: 100% (509/509), done.\u001b[K\n",
            "remote: Compressing objects: 100% (337/337), done.\u001b[K\n",
            "remote: Total 1307 (delta 240), reused 352 (delta 162), pack-reused 798\u001b[K\n",
            "Receiving objects: 100% (1307/1307), 112.13 MiB | 22.52 MiB/s, done.\n",
            "Resolving deltas: 100% (625/625), done.\n",
            "/content/Stylized-ReducedOrder-L5-Model\n",
            "Looking in indexes: https://pypi.org/simple, https://us-python.pkg.dev/colab-wheels/public/simple/\n",
            "Collecting neuron\n",
            "  Downloading NEURON-8.2.2-cp38-cp38-manylinux_2_17_x86_64.manylinux2014_x86_64.whl (15.2 MB)\n",
            "\u001b[2K     \u001b[90m━━━━━━━━━━━━━━━━━━━━━━━━━━━━━━━━━━━━━━━━\u001b[0m \u001b[32m15.2/15.2 MB\u001b[0m \u001b[31m10.3 MB/s\u001b[0m eta \u001b[36m0:00:00\u001b[0m\n",
            "\u001b[?25hRequirement already satisfied: numpy>=1.9.3 in /usr/local/lib/python3.8/dist-packages (from neuron) (1.21.6)\n",
            "Installing collected packages: neuron\n",
            "Successfully installed neuron-8.2.2\n",
            "Looking in indexes: https://pypi.org/simple, https://us-python.pkg.dev/colab-wheels/public/simple/\n",
            "Collecting neuron_reduce\n",
            "  Downloading neuron_reduce-0.0.7-py3-none-any.whl (18 kB)\n",
            "Installing collected packages: neuron_reduce\n",
            "Successfully installed neuron_reduce-0.0.7\n"
          ]
        }
      ],
      "source": [
        "!git clone https://github.com/davidfague/Stylized-ReducedOrder-L5-Model.git\n",
        "%cd Stylized-ReducedOrder-L5-Model/\n",
        "\n",
        "!pip install neuron\n",
        "from neuron import h,nrn,gui\n",
        "import pandas as pd\n",
        "import numpy as np\n",
        "from scipy.stats import lognorm\n",
        "import time\n",
        "from io import StringIO\n",
        "import os, sys\n",
        "from typing import Optional, List, Tuple, Union\n",
        "from functools import partial\n",
        "import scipy.signal as ss\n",
        "import scipy.stats as st\n",
        "import h5py\n",
        "import matplotlib.pyplot as plt\n",
        "import math\n",
        "from utils.plot_results import plot_LFP_traces,plot_LFP_heatmap\n",
        "from utils.plot_morphology import plot_morphology\n",
        "\n",
        "!pip install neuron_reduce\n",
        "from __future__ import division\n",
        "import neuron_reduce"
      ]
    },
    {
      "cell_type": "code",
      "source": [
        "#refresh github\n",
        "import shutil\n",
        "%cd ..\n",
        "shutil.rmtree('Stylized-ReducedOrder-L5-Model/') #removes folder\n",
        "!git clone https://github.com/davidfague/Stylized-ReducedOrder-L5-Model.git\n",
        "%cd Stylized-ReducedOrder-L5-Model/"
      ],
      "metadata": {
        "colab": {
          "base_uri": "https://localhost:8080/"
        },
        "id": "cDv7VNCZLYKP",
        "outputId": "cd0b72a2-ace3-4fa9-d7b5-468f9f72f54b"
      },
      "execution_count": 2,
      "outputs": [
        {
          "output_type": "stream",
          "name": "stdout",
          "text": [
            "/content\n",
            "Cloning into 'Stylized-ReducedOrder-L5-Model'...\n",
            "remote: Enumerating objects: 1307, done.\u001b[K\n",
            "remote: Counting objects: 100% (509/509), done.\u001b[K\n",
            "remote: Compressing objects: 100% (337/337), done.\u001b[K\n",
            "remote: Total 1307 (delta 240), reused 352 (delta 162), pack-reused 798\u001b[K\n",
            "Receiving objects: 100% (1307/1307), 112.13 MiB | 17.81 MiB/s, done.\n",
            "Resolving deltas: 100% (625/625), done.\n",
            "/content/Stylized-ReducedOrder-L5-Model\n"
          ]
        }
      ]
    },
    {
      "cell_type": "code",
      "source": [
        "mechanisms_path = 'mechanisms'  # need to compile the folder first\n",
        "geometry_file = 'geom_parameters.csv'\n",
        "tstop = 1000  # ms simulation duration\n",
        "dt = 0.1  # ms. does not allow change\n",
        "\n",
        "h.load_file('stdrun.hoc')\n",
        "#h.nrn_load_dll(os.path.join(mechanisms_path,'nrnmech.dll'))  # running this line more than once might crash the kernel\n",
        "h.nrn_load_dll(os.path.join(mechanisms_path,'x86_64/.libs/libnrnmech.so'))  # use this line instead in Linux\n",
        "geo_standard = pd.read_csv(geometry_file,index_col='id')\n",
        "h.tstop = tstop\n",
        "h.dt = dt\n",
        "h.steps_per_ms = 1/h.dt\n",
        "\n",
        "#pick a random seed to initalize random values\n",
        "import random\n",
        "random.seed(427)"
      ],
      "metadata": {
        "id": "GPLcvtQkOBS9"
      },
      "execution_count": 3,
      "outputs": []
    },
    {
      "cell_type": "code",
      "source": [
        "from SROL5.build_model import Simulation\n",
        "# from stylized_module.ecp import EcpMod, newposition\n",
        "# from stylized_module.recorder import Recorder\n",
        "# from stylized_module.point_current import Point_current"
      ],
      "metadata": {
        "id": "iUH3QCedHF82"
      },
      "execution_count": 4,
      "outputs": []
    },
    {
      "cell_type": "markdown",
      "source": [
        "#Define Cell Orientation, Biophysics, and Geometry"
      ],
      "metadata": {
        "id": "hDPUlFtP9HW5"
      }
    },
    {
      "cell_type": "code",
      "source": [
        "x = np.zeros(96)\n",
        "y = np.linspace(-1900,1900,96)\n",
        "z = np.zeros(96)\n",
        "elec_pos = pos = np.column_stack((x,y,z))\n",
        "\n",
        "#choose orientation of neuron\n",
        "loc_param = [50,0,10,0,1,0]  # example position #D: initially this was [0,0,50,0.2,0.75,1.5], (x,y,z,theta,h,phi), h=[-1,1] phi=[-pi,pi] h=.7071067812 for 90 deg\n",
        "#note on parameters: Rotate(alpha,h,phi): first rotate alpha about y-axis (spin), then rotate arccos(h) about x-axis (elevation), then rotate phi about y axis (azimuth).\n",
        "\n",
        "\n",
        "# change geo_parameters from their default values #************************NOTE**********************: doesn't change the geometry values used in geom_iterrows & sec['parameter'] (like when synapses are adding using geom);\n",
        "geo_param = [ # -1 uses default value                                                                  #better to edit the geom file to guarantee edits until the automation is fixed\n",
        "            #soma\n",
        "            -1,  # radius\n",
        "#proximal trunk\n",
        "            -1, # excitation ('TRUE'/'FALSE')\n",
        "            -1, # inhibition ('TRUE'/'FALSE')\n",
        "            -1, # length\n",
        "            -1, # radius\n",
        "            -1, # exc FR mean\n",
        "            -1, # exc FR std\n",
        "            -1, # inh FR mean\n",
        "            -1, # inh FR std\n",
        "            -1, # exc P_0 mean (0 to 1)\n",
        "            -1, # exc P_0 std\n",
        "            -1, # inh P_0 mean (0 to 1)\n",
        "            -1, # inh P_0 std\n",
        "#middle trunk\n",
        "            -1, # excitation ('TRUE'/'FALSE')\n",
        "            -1, # inhibition ('TRUE'/'FALSE')\n",
        "            -1, # length\n",
        "            -1, # radius\n",
        "            -1, # exc FR mean\n",
        "            -1, # exc FR std\n",
        "            -1, # inh FR mean\n",
        "            -1, # inh FR std\n",
        "            -1, # exc P_0 mean (0 to 1)\n",
        "            -1, # exc P_0 std\n",
        "            -1, # inh P_0 mean (0 to 1)\n",
        "            -1, # inh P_0 std\n",
        "#distal trunk\n",
        "            -1, # excitation ('TRUE'/'FALSE')\n",
        "            -1, # inhibition ('TRUE'/'FALSE')\n",
        "            -1, # length\n",
        "            -1, # radius\n",
        "            -1, # exc FR mean\n",
        "            -1, # exc FR std\n",
        "            -1, # inh FR mean\n",
        "            -1, # inh FR std\n",
        "            -1, # exc P_0 mean (0 to 1)\n",
        "            -1, # exc P_0 std\n",
        "            -1, # inh P_0 mean (0 to 1)\n",
        "            -1, # inh P_0 std\n",
        "#basal dendrites\n",
        "            -1, # excitation ('TRUE'/'FALSE')\n",
        "            -1, # inhibition ('TRUE'/'FALSE')\n",
        "            -1, # number of dendrites\n",
        "            -1, # proximal section length\n",
        "            -1, # middle section length\n",
        "            -1, # distal section length\n",
        "            -1, # proximal radius\n",
        "            -1, # middle radius\n",
        "            -1, # distal radius\n",
        "            -1, # angle\n",
        "            -1, # exc FR mean\n",
        "            -1, # exc FR std\n",
        "            -1, # inh FR mean\n",
        "            -1, # inh FR std\n",
        "            -1, # exc P_0 mean (0 to 1)\n",
        "            -1, # exc P_0 std\n",
        "            -1, # inh P_0 mean (0 to 1)\n",
        "            -1, # inh P_0 std\n",
        "#oblique dendrites\n",
        "            -1, # excitation ('TRUE'/'FALSE')\n",
        "            -1, # inhibition ('TRUE'/'FALSE')\n",
        "            -1, # number of dendrites # counted 15 in hay model\n",
        "            -1, # length\n",
        "            -1, # radius\n",
        "            -1, # angle\n",
        "            -1, # exc FR mean\n",
        "            -1, # exc FR std\n",
        "            -1, # inh FR mean\n",
        "            -1, # inh FR std\n",
        "            -1, # exc P_0 mean (0 to 1)\n",
        "            -1, # exc P_0 std\n",
        "            -1, # inh P_0 mean (0 to 1)\n",
        "            -1, # inh P_0 std\n",
        "#tuft dendrites\n",
        "            -1, # excitation ('TRUE'/'FALSE')\n",
        "            -1, # inhibition ('TRUE'/'FALSE')\n",
        "            -1, # number of dendrites\n",
        "            -1, # proximal section length\n",
        "            -1, # middle section length\n",
        "            -1, # distal section length\n",
        "            -1, # proximal radius\n",
        "            -1, # middle radius\n",
        "            -1, # distal radius\n",
        "            -1, # angle\n",
        "            -1, # exc FR mean\n",
        "            -1, # exc FR std\n",
        "            -1, # inh FR mean\n",
        "            -1, # inh FR std\n",
        "            -1, # exc P_0 mean (0 to 1)\n",
        "            -1, # exc P_0 std\n",
        "            -1, # inh P_0 mean (0 to 1)\n",
        "            -1, # inh P_0 std\n",
        "#axon\n",
        "            -1, # length\n",
        "            -1, # radius # hay uses 0.5 #we had at 8\n",
        "#passive basal\n",
        "            -1, # number of dendrites\n",
        "            -1, # length\n",
        "            -1 # radius\n",
        "        ]\n",
        "      \n",
        "      \n",
        "# example of changing biophysical parameters (check \"biophys_entries\" in \"Cell\" class for meaning, bounds can also be found there)\n",
        "#latest conductances from Detailed Model Updated 8/21/22\n",
        "#Ih may be off for apical sections; The detailed model axon shas only g_pas, but we have given the axon some conductances closer to the soma, and may need to change\n",
        "#also setting a conductance to 0.0 may throw some sort of error\n",
        "biophys = [0.0000338,0.0000467,0.0000589,0.0000589,0.0000589,0.0000325,0.0000467, # g_pas of soma, basal, midTrunk, distTrunk, tuft, axon, passiveBasal #passive basal was 0.00001\n",
        "                                    2.04,0.0213,0.0213,0.0213,0.0213,0.0,0.0, # gNaTa_t of soma, basal, midTrunk, distTrunk, tuft, axon, passiveBasal # axon was 2.89618\n",
        "                                    0.693,0.000261,0.000261,0.000261,0.000261,0.0,0.0, # gSKv3_1 of soma, basal, midTrunk, distTrunk, tuft, axon, passiveBasal #axon was 0.473799\n",
        "           \n",
        "                                    0.000992,0.0,0.0000555,(0.000555),.0000555,0.0,0.0,  # gCA_HVA of soma, basal, midTrunk, distTrunk, tuft, axon, passiveBasal #basal was 0.000992\n",
        "                                    0.00343,0.0,0.000187,(0.0187),0.000187,0.0,0.0, # gCA_LVAst of soma, basal, midTrunk, distTrunk, tuft, axon, passiveBasal\n",
        "                                    0.0000675,0.0000675,(0.0000675),0.0000675,0.0, # gIm of basal, midTrunk, distTrunk, tuft, axon\n",
        "           \n",
        "                                    460.0,122,122,122,122,277.300774,122, # decay_CaDynamics of soma, basal, midTrunk, distTrunk, tuft, axon, passiveBasal\n",
        "                                    0.000501,0.000509,0.000509,0.000509,0.000509,0.000525,0.000509, # gamma_CaDynamics of soma, basal, midTrunk, distTrunk, tuft, axon, passiveBasal\n",
        "                                    # 0.0002,0.0002,0.0002,0.0002,0.0002,0.0001,0.0002, # gIh of soma, basal, midTrunk, distTrunk, tuft, axon, passiveBasal\n",
        "                                    0.0002,0.0002,0.0009596,0.0029005,.006997745,0.0001,0.0002, # gIh of soma, basal, midTrunk, distTrunk, tuft, axon, passiveBasal #calculated from distribute_channels #if sectioning tuft do disttuft:0.0118268; midtuft:.006997745; proxtuft:.0047005526\n",
        "                                    0.0441,0.0012,0.0012,0.0012,0.0012,0.000047, # gSk_E2 of soma, basal, midTrunk, distTrunk, tuft, axon\n",
        "                                    0.0812,0.0, # gK_Tst of soma, axon #axon was 0.077274\n",
        "                                    0.00223,0.0, # gK_Pst of soma, axon #axon was 0.188851\n",
        "                                    0.00172,0.0  # gNap_Et2 of soma, axon\n",
        "                                    ]"
      ],
      "metadata": {
        "colab": {
          "base_uri": "https://localhost:8080/"
        },
        "id": "swGnjLYDKklQ",
        "outputId": "e1da0480-8ca3-42c3-e6ef-6b2a26fb8b52"
      },
      "execution_count": 5,
      "outputs": [
        {
          "output_type": "stream",
          "name": "stdout",
          "text": [
            "soma has no exc synapses\n",
            "proxbasal |L: 33.0 |cluster length: 3.0 |# clusters: 11 |funcgrp length: 33.0 |# funcgrp: 1 |syns/cluster: 6 |#segments: 7 |segment length: 4.714285714285714\n",
            "midbasal |L: 49.0 |cluster length: 3.0625 |# clusters: 16 |funcgrp length: 49.0 |# funcgrp: 1 |syns/cluster: 7 |#segments: 10 |segment length: 4.9\n",
            "distbasal |L: 82.0 |cluster length: 3.037037037037037 |# clusters: 27 |funcgrp length: 82.0 |# funcgrp: 1 |syns/cluster: 7 |#segments: 17 |segment length: 4.823529411764706\n",
            "proxtrunk has no exc synapses\n",
            "oblique has no exc synapses\n",
            "midtrunk has no exc synapses\n",
            "disttrunk has no exc synapses\n",
            "proxtuft |L: 49.0 |cluster length: 3.0625 |# clusters: 16 |funcgrp length: 49.0 |# funcgrp: 1 |syns/cluster: 7 |#segments: 10 |segment length: 4.9\n",
            "midtuft |L: 200.0 |cluster length: 3.0303030303030303 |# clusters: 66 |funcgrp length: 100.0 |# funcgrp: 2 |syns/cluster: 7 |#segments: 40 |segment length: 5.0\n",
            "disttuft |L: 304.0 |cluster length: 3.00990099009901 |# clusters: 101 |funcgrp length: 101.33333333333333 |# funcgrp: 3 |syns/cluster: 7 |#segments: 61 |segment length: 4.983606557377049\n",
            "axon has no exc synapses\n",
            "passivebasal has no exc synapses\n",
            "Distributing 406 inh synapses onto soma sections\n",
            "Distributing 7 inh synapses onto proxbasal sections\n",
            "Distributing 11 inh synapses onto midbasal sections\n",
            "Distributing 18 inh synapses onto distbasal sections\n",
            "Distributing 44 inh synapses onto proxtrunk sections\n",
            "Distributing 29 inh synapses onto oblique sections\n",
            "Distributing 48 inh synapses onto midtrunk sections\n",
            "disttrunk has no inh synapses\n",
            "Distributing 11 inh synapses onto proxtuft sections\n",
            "Distributing 44 inh synapses onto midtuft sections\n",
            "Distributing 67 inh synapses onto disttuft sections\n",
            "axon has no inh synapses\n",
            "passivebasal has no inh synapses\n",
            "It took 15 sec to define the simulation model.\n"
          ]
        }
      ]
    },
    {
      "cell_type": "markdown",
      "source": [
        "#Define Simulation"
      ],
      "metadata": {
        "id": "szWfEeW99MXx"
      }
    },
    {
      "cell_type": "code",
      "source": [
        "timestart=time.time()\n",
        "sim = Simulation(geo_standard,elec_pos,loc_param,geo_param=geo_param,biophys=biophys,gmax=0.05,scale=100.,spike_threshold = 10, synaptic_input = True, RunType = 'Full Model')  # 0.001 -0.012 #gmax=.005, scale=100\n",
        "timestop=time.time()\n",
        "elapseddeftime=timestop-timestart\n",
        "simtime=tstop/1000 #convert from ms to s\n",
        "print('It took',round(elapseddeftime),'sec to define the simulation model.') #need to optomize input grouping # location check takes a long time since it iterates through checking a list of synapse locations for each group/cluster within the section"
      ],
      "metadata": {
        "id": "ISk0q81o9D7I"
      },
      "execution_count": null,
      "outputs": []
    },
    {
      "cell_type": "markdown",
      "source": [
        "#Testing neuron_reduce on stylized cell"
      ],
      "metadata": {
        "id": "qHZGSIywMsmx"
      }
    },
    {
      "cell_type": "code",
      "source": [
        "complex_cell=sim.cells[0]"
      ],
      "metadata": {
        "id": "syUuX-BqMuXt"
      },
      "execution_count": 6,
      "outputs": []
    },
    {
      "cell_type": "code",
      "source": [
        "synapses_list=[]\n",
        "netcons_list=[]\n",
        "for synapse in complex_cell.injection:\n",
        "  synapses_list.append(synapse)\n",
        "  netcons_list.append(synapse.nc)"
      ],
      "metadata": {
        "id": "XP7vXgjZMxwL"
      },
      "execution_count": 7,
      "outputs": []
    },
    {
      "cell_type": "code",
      "source": [
        "dir(complex_cell.all[1])"
      ],
      "metadata": {
        "colab": {
          "base_uri": "https://localhost:8080/"
        },
        "id": "RIuCgpTRMzGp",
        "outputId": "28baf3fb-0dbe-4df5-dc1a-22cc107dcef9"
      },
      "execution_count": 8,
      "outputs": [
        {
          "output_type": "execute_result",
          "data": {
            "text/plain": [
              "['L',\n",
              " 'Ra',\n",
              " '__call__',\n",
              " '__class__',\n",
              " '__contains__',\n",
              " '__delattr__',\n",
              " '__dir__',\n",
              " '__doc__',\n",
              " '__eq__',\n",
              " '__format__',\n",
              " '__ge__',\n",
              " '__getattribute__',\n",
              " '__gt__',\n",
              " '__hash__',\n",
              " '__init__',\n",
              " '__init_subclass__',\n",
              " '__iter__',\n",
              " '__le__',\n",
              " '__lt__',\n",
              " '__module__',\n",
              " '__ne__',\n",
              " '__new__',\n",
              " '__reduce__',\n",
              " '__reduce_ex__',\n",
              " '__repr__',\n",
              " '__setattr__',\n",
              " '__sizeof__',\n",
              " '__str__',\n",
              " '__subclasshook__',\n",
              " 'allseg',\n",
              " 'arc3d',\n",
              " 'cell',\n",
              " 'children',\n",
              " 'connect',\n",
              " 'diam3d',\n",
              " 'disconnect',\n",
              " 'has_membrane',\n",
              " 'hname',\n",
              " 'hoc_internal_name',\n",
              " 'insert',\n",
              " 'is_pysec',\n",
              " 'n3d',\n",
              " 'name',\n",
              " 'nseg',\n",
              " 'orientation',\n",
              " 'parentseg',\n",
              " 'psection',\n",
              " 'pt3dadd',\n",
              " 'pt3dchange',\n",
              " 'pt3dclear',\n",
              " 'pt3dinsert',\n",
              " 'pt3dremove',\n",
              " 'pt3dstyle',\n",
              " 'push',\n",
              " 'rallbranch',\n",
              " 'same',\n",
              " 'spine3d',\n",
              " 'subtree',\n",
              " 'trueparentseg',\n",
              " 'uninsert',\n",
              " 'wholetree',\n",
              " 'x3d',\n",
              " 'y3d',\n",
              " 'z3d']"
            ]
          },
          "metadata": {},
          "execution_count": 8
        }
      ]
    },
    {
      "cell_type": "code",
      "source": [
        "complex_cell=sim.cells[0]\n",
        "# print(netcons_list)\n",
        "#apply Neuron_Reduce to simplify the cell\n",
        "reduced_cell, synapses_list, netcons_list = neuron_reduce.subtree_reductor(complex_cell, synapses_list, netcons_list, reduction_frequency=0, total_segments_manual=-1)"
      ],
      "metadata": {
        "colab": {
          "base_uri": "https://localhost:8080/",
          "height": 746
        },
        "id": "0dAWpNwpM0P7",
        "outputId": "5a47b81b-dc57-46ee-8060-63624117b127"
      },
      "execution_count": 9,
      "outputs": [
        {
          "output_type": "error",
          "ename": "IndexError",
          "evalue": "ignored",
          "traceback": [
            "\u001b[0;31m---------------------------------------------------------------------------\u001b[0m",
            "\u001b[0;31mIndexError\u001b[0m                                Traceback (most recent call last)",
            "\u001b[0;32m<ipython-input-9-7abb0f9b6584>\u001b[0m in \u001b[0;36m<module>\u001b[0;34m\u001b[0m\n\u001b[1;32m      2\u001b[0m \u001b[0;31m# print(netcons_list)\u001b[0m\u001b[0;34m\u001b[0m\u001b[0;34m\u001b[0m\u001b[0;34m\u001b[0m\u001b[0m\n\u001b[1;32m      3\u001b[0m \u001b[0;31m#apply Neuron_Reduce to simplify the cell\u001b[0m\u001b[0;34m\u001b[0m\u001b[0;34m\u001b[0m\u001b[0;34m\u001b[0m\u001b[0m\n\u001b[0;32m----> 4\u001b[0;31m \u001b[0mreduced_cell\u001b[0m\u001b[0;34m,\u001b[0m \u001b[0msynapses_list\u001b[0m\u001b[0;34m,\u001b[0m \u001b[0mnetcons_list\u001b[0m \u001b[0;34m=\u001b[0m \u001b[0mneuron_reduce\u001b[0m\u001b[0;34m.\u001b[0m\u001b[0msubtree_reductor\u001b[0m\u001b[0;34m(\u001b[0m\u001b[0mcomplex_cell\u001b[0m\u001b[0;34m,\u001b[0m \u001b[0msynapses_list\u001b[0m\u001b[0;34m,\u001b[0m \u001b[0mnetcons_list\u001b[0m\u001b[0;34m,\u001b[0m \u001b[0mreduction_frequency\u001b[0m\u001b[0;34m=\u001b[0m\u001b[0;36m0\u001b[0m\u001b[0;34m,\u001b[0m \u001b[0mtotal_segments_manual\u001b[0m\u001b[0;34m=\u001b[0m\u001b[0;34m-\u001b[0m\u001b[0;36m1\u001b[0m\u001b[0;34m)\u001b[0m\u001b[0;34m\u001b[0m\u001b[0;34m\u001b[0m\u001b[0m\n\u001b[0m",
            "\u001b[0;32m/usr/local/lib/python3.8/dist-packages/neuron_reduce/subtree_reductor_func.py\u001b[0m in \u001b[0;36msubtree_reductor\u001b[0;34m(original_cell, synapses_list, netcons_list, reduction_frequency, model_filename, total_segments_manual, PP_params_dict, mapping_type, return_seg_to_seg)\u001b[0m\n\u001b[1;32m    795\u001b[0m \u001b[0;34m\u001b[0m\u001b[0m\n\u001b[1;32m    796\u001b[0m     \u001b[0msections_to_delete\u001b[0m\u001b[0;34m,\u001b[0m \u001b[0msection_per_subtree_index\u001b[0m\u001b[0;34m,\u001b[0m \u001b[0mmapping_sections_to_subtree_index\u001b[0m \u001b[0;34m=\u001b[0m\u001b[0;31m \u001b[0m\u001b[0;31m\\\u001b[0m\u001b[0;34m\u001b[0m\u001b[0;34m\u001b[0m\u001b[0m\n\u001b[0;32m--> 797\u001b[0;31m         \u001b[0mgather_cell_subtrees\u001b[0m\u001b[0;34m(\u001b[0m\u001b[0mroots_of_subtrees\u001b[0m\u001b[0;34m)\u001b[0m\u001b[0;34m\u001b[0m\u001b[0;34m\u001b[0m\u001b[0m\n\u001b[0m\u001b[1;32m    798\u001b[0m \u001b[0;34m\u001b[0m\u001b[0m\n\u001b[1;32m    799\u001b[0m     \u001b[0;31m# preparing for reduction\u001b[0m\u001b[0;34m\u001b[0m\u001b[0;34m\u001b[0m\u001b[0;34m\u001b[0m\u001b[0m\n",
            "\u001b[0;32m/usr/local/lib/python3.8/dist-packages/neuron_reduce/subtree_reductor_func.py\u001b[0m in \u001b[0;36mgather_cell_subtrees\u001b[0;34m(roots_of_subtrees)\u001b[0m\n\u001b[1;32m    551\u001b[0m                                                      i)\n\u001b[1;32m    552\u001b[0m         \u001b[0;32melif\u001b[0m \u001b[0;34m'dend'\u001b[0m \u001b[0;32min\u001b[0m \u001b[0msoma_child\u001b[0m\u001b[0;34m.\u001b[0m\u001b[0mhname\u001b[0m\u001b[0;34m(\u001b[0m\u001b[0;34m)\u001b[0m \u001b[0;32mor\u001b[0m \u001b[0;34m'basal'\u001b[0m \u001b[0;32min\u001b[0m \u001b[0msoma_child\u001b[0m\u001b[0;34m.\u001b[0m\u001b[0mhname\u001b[0m\u001b[0;34m(\u001b[0m\u001b[0;34m)\u001b[0m\u001b[0;34m:\u001b[0m\u001b[0;34m\u001b[0m\u001b[0;34m\u001b[0m\u001b[0m\n\u001b[0;32m--> 553\u001b[0;31m             mark_subtree_sections_with_subtree_index(sections_to_delete,\n\u001b[0m\u001b[1;32m    554\u001b[0m                                                      \u001b[0msection_per_subtree_index\u001b[0m\u001b[0;34m,\u001b[0m\u001b[0;34m\u001b[0m\u001b[0;34m\u001b[0m\u001b[0m\n\u001b[1;32m    555\u001b[0m                                                      \u001b[0msoma_child\u001b[0m\u001b[0;34m,\u001b[0m\u001b[0;34m\u001b[0m\u001b[0;34m\u001b[0m\u001b[0m\n",
            "\u001b[0;32m/usr/local/lib/python3.8/dist-packages/neuron_reduce/subtree_reductor_func.py\u001b[0m in \u001b[0;36mmark_subtree_sections_with_subtree_index\u001b[0;34m(sections_to_delete, section_per_subtree_index, root_sec_of_subtree, mapping_sections_to_subtree_index, section_type, subtree_index)\u001b[0m\n\u001b[1;32m    137\u001b[0m     \u001b[0msection_per_subtree_index\u001b[0m\u001b[0;34m[\u001b[0m\u001b[0msubtree_index\u001b[0m\u001b[0;34m]\u001b[0m\u001b[0;34m.\u001b[0m\u001b[0mappend\u001b[0m\u001b[0;34m(\u001b[0m\u001b[0mroot_sec_of_subtree\u001b[0m\u001b[0;34m)\u001b[0m\u001b[0;34m\u001b[0m\u001b[0;34m\u001b[0m\u001b[0m\n\u001b[1;32m    138\u001b[0m \u001b[0;34m\u001b[0m\u001b[0m\n\u001b[0;32m--> 139\u001b[0;31m     \u001b[0msection_num\u001b[0m \u001b[0;34m=\u001b[0m \u001b[0mfind_section_number\u001b[0m\u001b[0;34m(\u001b[0m\u001b[0mroot_sec_of_subtree\u001b[0m\u001b[0;34m)\u001b[0m\u001b[0;34m\u001b[0m\u001b[0;34m\u001b[0m\u001b[0m\n\u001b[0m\u001b[1;32m    140\u001b[0m \u001b[0;34m\u001b[0m\u001b[0m\n\u001b[1;32m    141\u001b[0m     \u001b[0;32mfor\u001b[0m \u001b[0mchild\u001b[0m \u001b[0;32min\u001b[0m \u001b[0mroot_sec_of_subtree\u001b[0m\u001b[0;34m.\u001b[0m\u001b[0mchildren\u001b[0m\u001b[0;34m(\u001b[0m\u001b[0;34m)\u001b[0m\u001b[0;34m:\u001b[0m\u001b[0;34m\u001b[0m\u001b[0;34m\u001b[0m\u001b[0m\n",
            "\u001b[0;32m/usr/local/lib/python3.8/dist-packages/neuron_reduce/subtree_reductor_func.py\u001b[0m in \u001b[0;36mfind_section_number\u001b[0;34m(section)\u001b[0m\n\u001b[1;32m     72\u001b[0m     \u001b[0msec_name\u001b[0m \u001b[0;34m=\u001b[0m \u001b[0mh\u001b[0m\u001b[0;34m.\u001b[0m\u001b[0msecname\u001b[0m\u001b[0;34m(\u001b[0m\u001b[0msec\u001b[0m\u001b[0;34m=\u001b[0m\u001b[0msection\u001b[0m\u001b[0;34m)\u001b[0m\u001b[0;34m\u001b[0m\u001b[0;34m\u001b[0m\u001b[0m\n\u001b[1;32m     73\u001b[0m     \u001b[0mints_in_name\u001b[0m \u001b[0;34m=\u001b[0m \u001b[0mre\u001b[0m\u001b[0;34m.\u001b[0m\u001b[0mfindall\u001b[0m\u001b[0;34m(\u001b[0m\u001b[0;34mr'\\d+'\u001b[0m\u001b[0;34m,\u001b[0m \u001b[0msec_name\u001b[0m\u001b[0;34m)\u001b[0m\u001b[0;34m\u001b[0m\u001b[0;34m\u001b[0m\u001b[0m\n\u001b[0;32m---> 74\u001b[0;31m     \u001b[0msec_num\u001b[0m \u001b[0;34m=\u001b[0m \u001b[0mints_in_name\u001b[0m\u001b[0;34m[\u001b[0m\u001b[0mlen\u001b[0m\u001b[0;34m(\u001b[0m\u001b[0mints_in_name\u001b[0m\u001b[0;34m)\u001b[0m \u001b[0;34m-\u001b[0m \u001b[0;36m1\u001b[0m\u001b[0;34m]\u001b[0m  \u001b[0;31m# extracts section number\u001b[0m\u001b[0;34m\u001b[0m\u001b[0;34m\u001b[0m\u001b[0m\n\u001b[0m\u001b[1;32m     75\u001b[0m     \u001b[0;32mreturn\u001b[0m \u001b[0msec_num\u001b[0m\u001b[0;34m\u001b[0m\u001b[0;34m\u001b[0m\u001b[0m\n\u001b[1;32m     76\u001b[0m \u001b[0;34m\u001b[0m\u001b[0m\n",
            "\u001b[0;31mIndexError\u001b[0m: list index out of range"
          ]
        }
      ]
    }
  ]
}