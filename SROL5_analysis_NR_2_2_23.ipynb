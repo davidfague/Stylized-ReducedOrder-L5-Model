{
  "cells": [
    {
      "cell_type": "markdown",
      "metadata": {
        "id": "view-in-github",
        "colab_type": "text"
      },
      "source": [
        "<a href=\"https://colab.research.google.com/github/davidfague/Stylized-ReducedOrder-L5-Model/blob/main/SROL5_analysis_NR_2_2_23.ipynb\" target=\"_parent\"><img src=\"https://colab.research.google.com/assets/colab-badge.svg\" alt=\"Open In Colab\"/></a>"
      ]
    },
    {
      "cell_type": "markdown",
      "source": [
        "## Using this Notebook"
      ],
      "metadata": {
        "id": "qLSyxRXOoexj"
      }
    },
    {
      "cell_type": "markdown",
      "source": [
        "### How are you using this notebook?"
      ],
      "metadata": {
        "id": "hdgowMsSos8B"
      }
    },
    {
      "cell_type": "code",
      "execution_count": null,
      "metadata": {
        "id": "YSXaJt_xFusM"
      },
      "outputs": [],
      "source": [
        "server=False # Change for whether or not you are SSHing into the server\n",
        "github=True # Change for whether or not you want to get the model from github or google drive"
      ]
    },
    {
      "cell_type": "markdown",
      "source": [
        "### Making this notebook work"
      ],
      "metadata": {
        "id": "2f86P6g7owMD"
      }
    },
    {
      "cell_type": "code",
      "source": [
        "import shutil\n",
        "if server==True:\n",
        "  print('Model should already be in directory.') #supports large data files in directory\n",
        "  tstop=1000\n",
        "elif github==True: # If you do not already have the model you can clone from Github; large data files are not stored on Github\n",
        "  try: shutil.rmtree('Stylized-ReducedOrder-L5-Model/') #removes folder if already cloned #uncomment to pull the latest from github if pushing during notebook use.\n",
        "  except:\n",
        "    print('Stylized-ReducedOrder-L5-Model/ not in directory')\n",
        "  !git clone https://github.com/davidfague/Stylized-ReducedOrder-L5-Model.git\n",
        "  %cd Stylized-ReducedOrder-L5-Model/\n",
        "else: #If you have the folder in your google drive (easier to update geom_parameters), and allows uploading of large data files\n",
        "  from google.colab import drive\n",
        "  drive.mount('/content/drive')\n",
        "  %cd /content/drive/MyDrive/Stylized-ReducedOrder-L5-Model/\n",
        "  tstop=1000"
      ],
      "metadata": {
        "id": "FDQD7ZzYo0bs",
        "outputId": "8d97450e-f382-41a3-adfc-0e2819b39c95",
        "colab": {
          "base_uri": "https://localhost:8080/"
        }
      },
      "execution_count": null,
      "outputs": [
        {
          "output_type": "stream",
          "name": "stdout",
          "text": [
            "Stylized-ReducedOrder-L5-Model/ not in directory\n",
            "Cloning into 'Stylized-ReducedOrder-L5-Model'...\n",
            "remote: Enumerating objects: 1700, done.\u001b[K\n",
            "remote: Total 1700 (delta 0), reused 0 (delta 0), pack-reused 1700\u001b[K\n",
            "Receiving objects: 100% (1700/1700), 113.52 MiB | 11.45 MiB/s, done.\n",
            "Resolving deltas: 100% (858/858), done.\n",
            "/content/Stylized-ReducedOrder-L5-Model\n"
          ]
        }
      ]
    },
    {
      "cell_type": "markdown",
      "metadata": {
        "id": "Xkx-mbZKD8c2"
      },
      "source": [
        "## Model Initialization\n",
        "Import modules and setup simulation parameters"
      ]
    },
    {
      "cell_type": "code",
      "execution_count": null,
      "metadata": {
        "colab": {
          "base_uri": "https://localhost:8080/"
        },
        "id": "9zVOUnOV9WxH",
        "outputId": "4ea70944-3687-40ac-eddc-dc0d3d8eabb4"
      },
      "outputs": [
        {
          "output_type": "stream",
          "name": "stdout",
          "text": [
            "Looking in indexes: https://pypi.org/simple, https://us-python.pkg.dev/colab-wheels/public/simple/\n",
            "Collecting neuron\n",
            "  Downloading NEURON-8.2.2-cp38-cp38-manylinux_2_17_x86_64.manylinux2014_x86_64.whl (15.2 MB)\n",
            "\u001b[2K     \u001b[90m━━━━━━━━━━━━━━━━━━━━━━━━━━━━━━━━━━━━━━━━\u001b[0m \u001b[32m15.2/15.2 MB\u001b[0m \u001b[31m14.8 MB/s\u001b[0m eta \u001b[36m0:00:00\u001b[0m\n",
            "\u001b[?25hRequirement already satisfied: numpy>=1.9.3 in /usr/local/lib/python3.8/dist-packages (from neuron) (1.21.6)\n",
            "Installing collected packages: neuron\n",
            "Successfully installed neuron-8.2.2\n"
          ]
        }
      ],
      "source": [
        "!pip install neuron\n",
        "from neuron import h,nrn\n",
        "import pandas as pd\n",
        "import numpy as np\n",
        "from scipy.stats import lognorm\n",
        "import time as time\n",
        "from io import StringIO\n",
        "import os, sys\n",
        "from typing import Optional, List, Tuple, Union\n",
        "from functools import partial\n",
        "import scipy.signal as ss\n",
        "import scipy.stats as st\n",
        "import h5py\n",
        "import matplotlib.pyplot as plt\n",
        "import math\n",
        "import random\n",
        "random.seed(427)\n",
        "from utils.plot_results import plot_LFP_traces,plot_LFP_heatmap\n",
        "from utils.plot_morphology import plot_morphology\n",
        "import pdb #python debugger\n",
        "# from scipy.stats.distributions import TRUNCNORM_MAX_BRENT_ITERS"
      ]
    },
    {
      "cell_type": "code",
      "execution_count": null,
      "metadata": {
        "id": "KpT_pFwdD8c9"
      },
      "outputs": [],
      "source": [
        "# import stylized module\n",
        "from stylized_module.stylized_cell import Stylized_Cell\n",
        "from stylized_module.ecp import EcpMod, newposition\n",
        "from stylized_module.recorder import Recorder\n",
        "from stylized_module.point_current import Point_current\n",
        "# import modules for this project\n",
        "from SROL5.utils import *\n",
        "from SROL5.plotting import *\n",
        "\n",
        "mechanisms_path = 'mechanisms'  # need to compile the folder first\n",
        "geometry_file = 'geom_reduced.csv'\n",
        "try:\n",
        "    tstop = tstop  # ms simulation duration\n",
        "except:\n",
        "    tstop = 1000 #if tstop is not defined previously\n",
        "dt = 0.1  # ms. does not allow change\n",
        "\n",
        "h.load_file('stdrun.hoc')\n",
        "#h.nrn_load_dll(os.path.join(mechanisms_path,'nrnmech.dll'))  # running this line more than once might crash the kernel\n",
        "h.nrn_load_dll(os.path.join(mechanisms_path,'x86_64/.libs/libnrnmech.so'))  # use this line instead in Linux\n",
        "geo_standard = pd.read_csv(geometry_file,index_col='id')\n",
        "h.tstop = tstop\n",
        "h.dt = dt\n",
        "h.steps_per_ms = 1/h.dt"
      ]
    },
    {
      "cell_type": "markdown",
      "metadata": {
        "id": "_hI4TL9ZD8c_"
      },
      "source": [
        "###Define cell and simulation objects. Edit method \"set_channels\" to design biophysical properties."
      ]
    },
    {
      "cell_type": "code",
      "execution_count": null,
      "metadata": {
        "id": "eAHtJRForVZK",
        "outputId": "e2fef0dd-fefc-4c97-b480-b15860a12fb4",
        "colab": {
          "base_uri": "https://localhost:8080/"
        }
      },
      "outputs": [
        {
          "output_type": "stream",
          "name": "stdout",
          "text": [
            "-2.299528896659566 1.1748114608101725\n"
          ]
        }
      ],
      "source": [
        "# from SROL5.build_model import Simulation # build_model module can be used to hide model definition and keep all notebooks updated.\n",
        "\n",
        "# model is reliant on these values.\n",
        "m=.2\n",
        "s=0.345\n",
        "mean, std = lognormal(m=m,s=s) #get underlying normal distribution parameters from lognormal distribution parameters\n",
        "print(mean, std)\n",
        "\n",
        "sectionexcspikes=[]\n",
        "sectioninhspikes = []"
      ]
    },
    {
      "cell_type": "code",
      "execution_count": null,
      "metadata": {
        "id": "UhthwMDQD8dA"
      },
      "outputs": [],
      "source": [
        "class Cell(Stylized_Cell):\n",
        "    \"\"\"Define single cell model using parent class Stylized_Cell\"\"\"\n",
        "    def __init__(self,geometry=None,biophys=None,dL=5,vrest=-72.0): #-90? # dL=30 originally\n",
        "        \"\"\"\n",
        "        Initialize cell model\n",
        "        geometry: pandas dataframe of cell morphology properties\n",
        "        biophys: vector of biophysical parameters corresponding to \"biophys_entries\". Use -1 for default value.\n",
        "        dL: maximum segment length\n",
        "        vrest: reversal potential for leak channels\n",
        "        \"\"\"\n",
        "        self.biophys = biophys\n",
        "        super().__init__(geometry,dL,vrest)\n",
        "        self.record_soma_v() # uncomment this if want to record soma voltage\n",
        "        self.syn_dist_list = []\n",
        "        self.gmax_list = []\n",
        "        self.P_0_list = []\n",
        "        self.synapse_sec_list = []\n",
        "    \n",
        "    def set_channels(self):\n",
        "        \"\"\"Define biophysical properties, insert channels\"\"\"\n",
        "        self.define_biophys_entries()\n",
        "        # common parameters\n",
        "        for sec in self.all:\n",
        "            sec.cm = 2.0\n",
        "            sec.Ra = 100\n",
        "            sec.insert('pas')\n",
        "            sec.e_pas = self._vrest\n",
        "        # fixed parameters\n",
        "        soma = self.soma\n",
        "        soma.cm = 1.0           # Originally 1 \n",
        "        soma.insert('NaTa_t')  # Sodium channel\n",
        "        soma.insert('SKv3_1')  # Potassium channel\n",
        "        soma.insert('Ca_HVA')\n",
        "        soma.insert('Ca_LVAst')\n",
        "        soma.insert('CaDynamics_E2')\n",
        "        soma.insert('Ih')\n",
        "        soma.insert('SK_E2')\n",
        "        soma.insert('K_Tst')\n",
        "        soma.insert('K_Pst')\n",
        "        soma.insert('Nap_Et2')\n",
        "        soma.ena = 50\n",
        "        soma.ek = -85\n",
        "        \n",
        "\n",
        "        for isec in self.grp_ids[1]:        #prox,mid,dist basal; proxtrunk; oblique\n",
        "            sec = self.get_sec_by_id(isec) \n",
        "            sec.insert('NaTa_t')\n",
        "            sec.insert('SKv3_1')\n",
        "            sec.insert('Ca_HVA')\n",
        "            sec.insert('Ca_LVAst')\n",
        "            sec.insert('Im')\n",
        "            sec.insert('CaDynamics_E2')\n",
        "            sec.insert('Ih')\n",
        "            sec.insert('SK_E2')\n",
        "            sec.ena = 50\n",
        "            sec.ek = -85\n",
        "\n",
        "        for isec in self.grp_ids[2]:\n",
        "            sec = self.get_sec_by_id(isec)  # Mid Trunk\n",
        "            sec.insert('NaTa_t')\n",
        "            sec.insert('SKv3_1')\n",
        "            sec.insert('Ca_HVA')\n",
        "            sec.insert('Ca_LVAst')\n",
        "            sec.insert('Im')\n",
        "            sec.insert('CaDynamics_E2')\n",
        "            sec.insert('Ih')\n",
        "            sec.insert('SK_E2')\n",
        "            sec.ena = 50\n",
        "            sec.ek = -85\n",
        "\n",
        "\n",
        "        for isec in self.grp_ids[3]:\n",
        "            sec = self.get_sec_by_id(isec)  # Distal Trunk\n",
        "            sec.insert('NaTa_t')\n",
        "            sec.insert('SKv3_1')\n",
        "            sec.insert('Ca_HVA')\n",
        "            sec.insert('Ca_LVAst')\n",
        "            sec.insert('Im')\n",
        "            sec.insert('CaDynamics_E2')\n",
        "            sec.insert('Ih')\n",
        "            sec.insert('SK_E2')\n",
        "            sec.ena = 50\n",
        "            sec.ek = -85\n",
        "\n",
        "        for isec in self.grp_ids[4]:\n",
        "            sec = self.get_sec_by_id(isec)  # Tuft dendrites\n",
        "            sec.insert('NaTa_t')\n",
        "            sec.insert('SKv3_1')\n",
        "            sec.insert('Ca_HVA')\n",
        "            sec.insert('Ca_LVAst')\n",
        "            sec.insert('Im')\n",
        "            sec.insert('CaDynamics_E2')\n",
        "            sec.insert('Ih')\n",
        "            sec.insert('SK_E2')\n",
        "            sec.ena = 50\n",
        "            sec.ek = -85\n",
        "\n",
        "\n",
        "        for isec in self.grp_ids[5]:\n",
        "            sec = self.get_sec_by_id(isec)  # axon\n",
        "            sec.cm = 2.0\n",
        "            sec.insert('NaTa_t')\n",
        "            sec.insert('SKv3_1')\n",
        "            sec.insert('Ca_HVA')\n",
        "            sec.insert('Ca_LVAst')\n",
        "            sec.insert('Im')\n",
        "            sec.insert('CaDynamics_E2')\n",
        "            sec.insert('Ih')\n",
        "            sec.insert('SK_E2')\n",
        "            sec.insert('K_Tst')\n",
        "            sec.insert('K_Pst')\n",
        "            sec.insert('Nap_Et2')\n",
        "            sec.ena = 50\n",
        "            sec.ek = -85\n",
        "\t\t        \n",
        "        for isec in self.grp_ids[6]:\n",
        "            sec = self.get_sec_by_id(isec)  # inactive basal dendrites\n",
        "            sec.cm = 3.0\n",
        "            sec.insert('NaTa_t')\n",
        "            sec.insert('SKv3_1')\n",
        "            sec.insert('Ca_HVA')\n",
        "            sec.insert('Ca_LVAst')\n",
        "            sec.insert('CaDynamics_E2')\n",
        "            sec.insert('Ih')\n",
        "            sec.ena = 50\n",
        "            sec.ek = -85\n",
        "            # sec.Ra = 100000\n",
        "            # sec.e_pas = 200\n",
        "\n",
        "        # variable parameters\n",
        "        for i,entry in enumerate(self.biophys_entries):\n",
        "            for sec in self.get_sec_by_id(self.grp_ids[entry[0]]):\n",
        "                setattr(sec,entry[1],self.biophys[i])\n",
        "        h.v_init = self._vrest\n",
        "    \n",
        "\n",
        "    def define_biophys_entries(self):\n",
        "        \"\"\"\n",
        "        Define list of entries of biophysical parameters.\n",
        "        Each entry is a pair of group id and parameter reference string.\n",
        "        Define default values and set parameters in \"biophys\".\n",
        "        \"\"\"\n",
        "        self.grp_sec_type_ids = [ # select section id's for each group\n",
        "                                 [0], #soma\n",
        "                                 [1,2,3,4,5], #basal group: prox,mid,dist basal; proxtrunk; oblique\n",
        "                                 [6,7,8], #mid trunk,distal trunk, proxtuft\n",
        "                                 [9], #nexus: midtuft\n",
        "                                 [10], #tuft: disttuft\n",
        "                                 [11], #axon\n",
        "                                 [12] #passive basal dendrites\n",
        "                                 ]\n",
        "        self.grp_ids = []  # get indices of sections for each group\n",
        "        for ids in self.grp_sec_type_ids:\n",
        "            secs = []\n",
        "            for i in ids:\n",
        "                secs.extend(self.sec_id_lookup[i])\n",
        "            self.grp_ids.append(secs)\n",
        "        self.biophys_entries = [\n",
        "            (0,'g_pas'),(1,'g_pas'),(2,'g_pas'),(3,'g_pas'),(4,'g_pas'),(5,'g_pas'),(6,'g_pas'),  # g_pas of soma, basal, midTrunk, distTrunk, tuft, axon, passiveBasal\n",
        "            (0,'gNaTa_tbar_NaTa_t'),(1,'gNaTa_tbar_NaTa_t'),(2,'gNaTa_tbar_NaTa_t'),(3,'gNaTa_tbar_NaTa_t'),(4,'gNaTa_tbar_NaTa_t'),(5,'gNaTa_tbar_NaTa_t'),(6,'gNaTa_tbar_NaTa_t'),  # gNaTa_t of soma, basal, midTrunk, distTrunk, tuft, axon, passiveBasal\n",
        "            (0,'gSKv3_1bar_SKv3_1'),(1,'gSKv3_1bar_SKv3_1'),(2,'gSKv3_1bar_SKv3_1'),(3,'gSKv3_1bar_SKv3_1'),(4,'gSKv3_1bar_SKv3_1'),(5,'gSKv3_1bar_SKv3_1'),(6,'gSKv3_1bar_SKv3_1'),  # gSKv3_1 of soma, basal, midTrunk, distTrunk, tuft, axon, passiveBasal\n",
        "            (0, 'gCa_HVAbar_Ca_HVA'),(1, 'gCa_HVAbar_Ca_HVA'),(2, 'gCa_HVAbar_Ca_HVA'),(3, 'gCa_HVAbar_Ca_HVA'),(4, 'gCa_HVAbar_Ca_HVA'),(5, 'gCa_HVAbar_Ca_HVA'),(6, 'gCa_HVAbar_Ca_HVA'),  # gCA_HVA of soma, basal, midTrunk, distTrunk, tuft, axon, passiveBasal\n",
        "            (0, 'gCa_LVAstbar_Ca_LVAst'),(1, 'gCa_LVAstbar_Ca_LVAst'),(2, 'gCa_LVAstbar_Ca_LVAst'),(3, 'gCa_LVAstbar_Ca_LVAst'),(4, 'gCa_LVAstbar_Ca_LVAst'),(5, 'gCa_LVAstbar_Ca_LVAst'),(6, 'gCa_LVAstbar_Ca_LVAst'),# gCA_LVAst of soma, basal, midTrunk, distTrunk, tuft, axon, passiveBasal\n",
        "            (1, 'gImbar_Im'),(2, 'gImbar_Im'),(3, 'gImbar_Im'),(4, 'gImbar_Im'),(5, 'gImbar_Im'), # gIm of basal, midTrunk, distTrunk, tuft, axon\n",
        "            (0,'decay_CaDynamics_E2'),(1,'decay_CaDynamics_E2'),(2,'decay_CaDynamics_E2'),(3,'decay_CaDynamics_E2'),(4,'decay_CaDynamics_E2'),(5,'decay_CaDynamics_E2'),(6,'decay_CaDynamics_E2'), # decay_CaDynamics of soma, basal, midTrunk, distTrunk, tuft, axon, passiveBasal\n",
        "            (0,'gamma_CaDynamics_E2'),(1,'gamma_CaDynamics_E2'),(2,'gamma_CaDynamics_E2'),(3,'gamma_CaDynamics_E2'),(4,'gamma_CaDynamics_E2'),(5,'gamma_CaDynamics_E2'),(6,'gamma_CaDynamics_E2'), # gamma_CaDynamics of soma, basal, midTrunk, distTrunk, tuft, axon, passiveBasal\n",
        "            (0,'gIhbar_Ih'),(1,'gIhbar_Ih'),(2,'gIhbar_Ih'),(3,'gIhbar_Ih'),(4,'gIhbar_Ih'),(5,'gIhbar_Ih'),(6,'gIhbar_Ih'), # gIh of soma, basal, midTrunk, distTrunk, tuft, axon, passiveBasal\n",
        "            (0,'gSK_E2bar_SK_E2'),(1,'gSK_E2bar_SK_E2'),(2,'gSK_E2bar_SK_E2'),(3,'gSK_E2bar_SK_E2'),(4,'gSK_E2bar_SK_E2'),(5,'gSK_E2bar_SK_E2'), # gSk_E2 of soma, basal, midTrunk, distTrunk, tuft, axon\n",
        "            (0,'gK_Tstbar_K_Tst'),(5,'gK_Tstbar_K_Tst'), # gK_Tst of soma, axon\n",
        "            (0,'gK_Pstbar_K_Pst'),(5,'gK_Pstbar_K_Pst'), # gK_Pst of soma, axon\n",
        "            (0,'gNap_Et2bar_Nap_Et2'),(5,'gNap_Et2bar_Nap_Et2') # gNap_Et2 of soma, axon\n",
        "        ]\n",
        "\n",
        "        default_biophys = np.array([0.0000338,0.0000467,0.0000489,0.0000589,0.0000589,0.0000325,0.0000100, # g_pas of soma, basal, midTrunk, distTrunk, tuft, axon, passiveBasal\n",
        "                                    2.04,0.0213,0.0213,0.0213,0.0213,0.0,0.0, # gNaTa_t of soma, basal, midTrunk, distTrunk, tuft, axon, passiveBasal # axon was 2.89618\n",
        "                                    0.693,0.000261,0.000261,0.000261,0.000261,0.0,0.0, # gSKv3_1 of soma, basal, midTrunk, distTrunk, tuft, axon, passiveBasal #axon was 0.473799\n",
        "                                    0.000992,0.0,0.0000555,0.000555,.0000555,0.0,0.0,  # gCA_HVA of soma, basal, midTrunk, distTrunk, tuft, axon, passiveBasal #basal was 0.000992\n",
        "                                    0.00343,0.0,0.000187,0.0187,0.000187,0.0,0.0, # gCA_LVAst of soma, basal, midTrunk, distTrunk, tuft, axon, passiveBasal\n",
        "                                    0.0000675,0.0000675,0.0000675,0.0000675,0.0, # gIm of soma, basal, midTrunk, distTrunk, tuft, axon\n",
        "                                    460.0,122,122,122,122,277.300774,122, # decay_CaDynamics of soma, basal, midTrunk, distTrunk, tuft, axon, passiveBasal\n",
        "                                    0.000501,0.000509,0.000509,0.000509,0.000509,0.000525,0.000509, # gamma_CaDynamics of soma, basal, midTrunk, distTrunk, tuft, axon, passiveBasal\n",
        "                                    0.0002,0.0002,0.0002,0.00507257227,0.01535011884,0.0001,0.0002, # gIh of soma, basal, midTrunk, distTrunk, tuft, axon, passiveBasal\n",
        "                                    0.0441,0.0012,0.0012,0.0012,0.0012,0.000047, # gSk_E2 of soma, basal, midTrunk, distTrunk, tuft, axon\n",
        "                                    0.0812,0.077274, # gK_Tst of soma, axon\n",
        "                                    0.00223,0.188851, # gK_Pst of soma, axon\n",
        "                                    0.00172,0.0  # gNap_Et2 of soma, axon\n",
        "                                    ])\n",
        "\n",
        "        \n",
        "\n",
        "\n",
        "        if self.biophys is not None:\n",
        "            # print('length of default_biophys:',len(default_biophys))\n",
        "            # print('length of self.biophys:',len(self.biophys))\n",
        "            for i in range(len(self.biophys)):\n",
        "                if self.biophys[i]>=0:\n",
        "                    default_biophys[i]=self.biophys[i]\n",
        "        self.biophys = default_biophys\n",
        "    \n",
        "\n",
        "    def add_synapse(self,stim,sec_index,**kwargs):\n",
        "        \"\"\"Add synapse to a section by its index\"\"\"\n",
        "        self.injection.append(Synapse(self,stim,sec_index,**kwargs))\n",
        "        # self.syn_dist_list.append(self.syn_dist)\n",
        "        # self.gmax_list.append(self.gmax_list)\n",
        "        # self.P_0_list.append(self.)\n",
        "        # self.synapse_sec_list = []\n",
        " \n",
        "\n",
        "    def record_soma_v(self):\n",
        "        self.v_rec = Recorder(self.soma(.5),'v')\n",
        "    \n",
        "    def v(self):\n",
        "        \"\"\"Return recorded soma membrane voltage in numpy array\"\"\"\n",
        "        if hasattr(self,'v_rec'):\n",
        "\n",
        "            return self.v_rec.as_numpy()\n",
        "\n",
        "class Synapse(Point_current):\n",
        "    def __init__(self,cell,stim,sec_index,gmax=1,loc=0.5,record=True, SynType='exc',P_0=0.6): \n",
        "        super().__init__(cell,sec_index,loc)\n",
        "        self.stim = stim\n",
        "        self.gmax = gmax\n",
        "        self.loc = loc\n",
        "        self.P_0 = P_0\n",
        "        self.syntype=SynType\n",
        "        self.setup(record,loc,P_0,gmax,SynType,stim)\n",
        "\n",
        "        \n",
        "\n",
        "    def setup(self,record,loc,P_0,gmax,SynType,stim):\n",
        "        self.setup_synapse(loc,P_0,gmax,SynType,stim)\n",
        "        if record:\n",
        "            self.setup_recorder()\n",
        "    \n",
        "    def setup_synapse(self,loc,P_0,gmax,SynType,stim): \n",
        "        if SynType == 'inh':\n",
        "          self.pp_obj = h.int2pyr(self.get_section()(loc))\n",
        "          #Assigns random generator of release probability.\n",
        "          r = h.Random()\n",
        "          r.MCellRan4()\n",
        "          r.uniform(0,1)\n",
        "          self.pp_obj.setRandObjRef(r)\n",
        "          #A list of random generators is kept so that they are not automatically garbaged.\n",
        "          self.generator = r\n",
        "          syn = self.pp_obj\n",
        "          syn.setRandObjRef(r)\n",
        "          syn.P_0 = P_0\n",
        "          syn.initW = gmax\n",
        "          self.nc = h.NetCon(stim,syn,1,0,1)\n",
        "\n",
        "        else:\n",
        "          self.pp_obj = h.pyr2pyr(self.get_section()(loc))\n",
        "          #Assigns random generator of release probability.\n",
        "          r = h.Random()\n",
        "          r.MCellRan4()\n",
        "          r.uniform(0,1)\n",
        "          self.pp_obj.setRandObjRef(r)\n",
        "          #A list of random generators is kept so that they are not automatically garbaged.\n",
        "          self.generator = r\n",
        "          syn = self.pp_obj\n",
        "          syn.setRandObjRef(r)\n",
        "          syn.P_0 = P_0\n",
        "          syn.initW = gmax\n",
        "          self.nc = h.NetCon(self.stim,syn,1,0,1)\n",
        "\n",
        "    def setup_recorder(self):\n",
        "          size = [round(h.tstop/h.dt)+1] if hasattr(h,'tstop') else []\n",
        "          try:\n",
        "              self.rec_vec = h.Vector(*size).record(self.pp_obj._ref_igaba)\n",
        "          except:\n",
        "                  self.rec_vec = MultiSynCurrent()\n",
        "                  vec_inmda = h.Vector(*size).record(self.pp_obj._ref_inmda)\n",
        "                  vec_iampa = h.Vector(*size).record(self.pp_obj._ref_iampa)\n",
        "                  self.rec_vec.add_vec(vec_inmda)\n",
        "                  self.rec_vec.add_vec(vec_iampa)\n",
        "                  \n",
        "\n",
        "class MultiSynCurrent(object):\n",
        "    def __init__(self):\n",
        "        self.vec_list = []\n",
        "    \n",
        "    def add_vec(self,vec):\n",
        "        self.vec_list.append(vec)\n",
        "    \n",
        "    def as_numpy(self):\n",
        "        return np.sum(np.array([vec.as_numpy() for vec in self.vec_list]), axis=0)\n",
        "\n",
        "\n",
        "class Simulation(object):\n",
        "    def __init__(self,geometry,electrodes,loc_param=[0.,0.,0.,0.,1.,0.],\n",
        "                 geo_param=[-1],biophys=[-1],\n",
        "                 gmax=0.015,\n",
        "                 scale=1.0,ncell=1,\n",
        "                 spike_threshold: Optional[float] = None,\n",
        "                 synaptic_input=True,\n",
        "                 RunType='Full Model'): #initially __init__(self,geometry,electrodes,loc_param=[0.,0.,0.,0.,1.,0.],geo_param=[-1],biophys=[-1],gmax=0.015,scale=1.0,ncell=1):\n",
        "        #exc_dens=2.16,\n",
        "       #\n",
        "        # inh_dens=0.22\n",
        "        \"\"\"\n",
        "        Initialize simulation object\n",
        "        geometry: pandas dataframe of cell morphology properties\n",
        "        electrodes: array of electrode coordinates, n-by-3\n",
        "        loc_param: location parameters, ncell-by-6 array, (x,y,z,theta,h,phi)\n",
        "        geo_param: geometry parameters, ncell-by-k array, if not specified, use default properties in geometry\n",
        "        biophys: biophysical parameters, ncell-by-k array, if not specified, use default properties\n",
        "        gmax: maximum conductance of synapse, ncell-vector, if is single value, is constant for all cells\n",
        "        scale: scaling factors of lfp magnitude, ncell-vector, if is single value, is constant for all cells\n",
        "        ncell: number of cells in the simulation, required if simulating for multiple cells\n",
        "        synaptic_input: choose to add synapses to the cell with False, remove with True\n",
        "        \"\"\"\n",
        "        self.ncell = ncell  # number of cells in this simulation\n",
        "        self.cells = []  # list of cell object\n",
        "        self.lfp = []  # list of EcpMod object\n",
        "        self.define_geometry_entries()  # list of entries to geometry dataframe\n",
        "        self.geometry = geometry.copy()\n",
        "        self.electrodes = electrodes\n",
        "        self.set_loc_param(loc_param)\n",
        "        self.set_geo_param(geo_param)\n",
        "        self.set_biophys(biophys)\n",
        "        self.set_gmax(gmax)\n",
        "        self.set_scale(scale)\n",
        "        self.create_cells(synaptic_input, RunType)  #exc_dens,inh_dens, create cell objects with properties set up\n",
        "        self.t_vec = h.Vector( round(h.tstop/h.dt)+1 ).record(h._ref_t)  # record time\n",
        "        self.spike_threshold = None\n",
        "        self.record_spikes(spike_threshold)\n",
        "\n",
        "\n",
        "\n",
        "    def set_netstim(self, syn_number, inhfreq, excfreq, inhFRstd, excFRstd, syntype):\n",
        "        \"\"\"Setup spontaneous synaptic input event\"\"\"\n",
        "        stim_list = []\n",
        "        self.stim = stim_list\n",
        "        excFRlist=np.random.normal(loc=excfreq, scale=excFRstd, size=syn_number)\n",
        "        inhFRlist=np.random.normal(loc=inhfreq, scale=inhFRstd, size=syn_number)\n",
        "        for i in range(syn_number):\n",
        "        #   if syntype[i] == 'inh':\n",
        "            if syntype == 'inh':\n",
        "                frequency = inhfreq\n",
        "                spikeinterval = (1/frequency)*1000 #convert to period and ms\n",
        "                stim = h.NetStim()\n",
        "                stim.number = 1000 #2  # average number of spikes #check that this does not affect spike freq. hopefully only affects duration of stim. \n",
        "                #max frequency input for L5 is 16 hz meaning stim.number should be at least tstop/30, but minimize number for better runtime\n",
        "                stim.start = 50 #(np.random.rand()*50)+50 #startspikes #50  #  most likely start time of first spike\n",
        "                stim.noise = 1  # fractional randomness\n",
        "                stim.interval =  spikeinterval #500  # mean time between spikes (ms)\n",
        "                #duration of stimulation = stim.interval X stim.number\n",
        "                stim_list.append(stim)\n",
        "            elif syntype == 'exc':\n",
        "                frequency = excfreq\n",
        "                spikeinterval = (1/frequency)*1000 #convert to period and ms\n",
        "                stim = h.NetStim()\n",
        "                stim.number = 1000 #2  # average number of spikes #check that this does not affect spike freq. hopefully only affects duration of stim. \n",
        "                #max frequency input for L5 is 16 hz meaning stim.number should be at least tstop/30, but minimize number for better runtime\n",
        "                stim.start = 50 #(np.random.rand()*50)+50 #startspikes #50  #  most likely start time of first spike\n",
        "                stim.noise = 1  # fractional randomness\n",
        "                stim.interval =  spikeinterval #500  # mean time between spikes (ms)\n",
        "                #duration of stimulation = stim.interval X stim.number\n",
        "                stim_list.append(stim)\n",
        "    \n",
        "    def set_exc_grp_netstim(self, syn_number, excfreq, excFRstd, loc, grpx, clusterx, writer):\n",
        "        \"\"\"\n",
        "        Setup clustered synaptic exc input events for a section.\n",
        "        syn_number: the number of synapses\n",
        "        excfreq: mean of normal distribution representing firing rates from excitatory afferent cells\n",
        "        excFRstd: standard deviation of normal distribution representing firing rates from excitatory afferent cells\n",
        "        loc: array of size syn_number denoting 0<x<1 normalized location of synapse along section. ex: [0.987, 0.124, 0.634, 0.223, 0.788, ...]\n",
        "        grpx: array denoting functional group normalized location bounds along section. ex: [0,0.5,1]\n",
        "        clusterx: array denoting cluster normalized location bounds along section. ex: [0,0.1,0.2,0.3,0.4,0.5,0.6,0.7,0.8,0.9,1]\n",
        "        \"\"\"\n",
        "        stim_list = np.empty(syn_number, dtype=object)\n",
        "        self.stim = stim_list\n",
        "        ##may need to double check that these values are truly only exc if inh equivalent is unused\n",
        "        mean_fr=excfreq\n",
        "        std_fr=excFRstd\n",
        "        numclusters=len(clusterx)-1\n",
        "        numgrps=len(grpx)-1\n",
        "        excfreqs=[]\n",
        "        ExcSpikeMatrix=[]\n",
        "        #distribution used for generating excitatory firing rates.    \n",
        "        levy_dist = partial(st.levy_stable.rvs, alpha=1.37, beta=-1.00, loc=0.92, scale=0.44, size=1)\n",
        "        # a, b = (0 - mean_fr) / std_fr, (100 - mean_fr) / std_fr #(0 - mean_fr) / std_fr, (100 - mean_fr) / std_fr\n",
        "        # levy_dist = partial(st.levy_stable.rvs, alpha=a, beta=b, loc=mean_fr, scale=std_fr) #experiment\n",
        "        #normal distribution of cell firing rates\n",
        "        exc_dist=levy_dist(size=numclusters)\n",
        "        # exc_dist=np.clip(exc_dist, 0,None)\n",
        "        # print(min(exc_dist))\n",
        "        #buffer = self.params[\"time\"][\"start\"]\n",
        "        for k in range(numgrps): #iterate along functional groups\n",
        "          z = make_noise(num_samples=(int(tstop))-1,num_traces=1) #generate the noise trace common to the functional group. tstop was originally seconds*1000, num samples should be length of trace\n",
        "          rate_prof=np.tile(z[0,:],(numclusters,1))\n",
        "          # print(rate_prof)\n",
        "          for m in range(numclusters): #iterate through number of clusters\n",
        "            if (clusterx[m]>=grpx[k]) and (clusterx[m+1]<=grpx[k+1]): #get new single stim for cluster #may cause issue where cluster bounds surround a group edge instead of being within a group.\n",
        "              rate_temp=[];simSpks_temp=[]\n",
        "              r=rate_prof[m,:] # get cluster's noise rate profile\n",
        "              r[r<0] = 0 #Can't have negative firing rates.\n",
        "              rate_temp = r*(exc_dist[m]) #pull excfr from noise-modulated fr distribution\n",
        "              rate_temp[rate_temp<0] = 0\n",
        "              # print(rate_temp/1000))\n",
        "              #generate spikes given fr\n",
        "              numbPoints = st.poisson(rate_temp/1000).rvs()#Poisson number of points\n",
        "              simSpks=np.where(numbPoints>0)[0]\n",
        "              #create stim\n",
        "              excspikes=simSpks\n",
        "              if simSpks is None:\n",
        "                excspikes=[]\n",
        "              # NRN will fail if VecStim contains negative spike-time, throw an exception and log info for user\n",
        "              #print('spike train {} contains negative number, unable to run virtual cell in NEURON'.format(excspikes))\n",
        "              #get same stim for exc synapses in cluster\n",
        "              excspikes = np.sort(excspikes)\n",
        "              # ExcSpikeMatrix.append(excspikes)    # spike train per cluster Gathering spike trains for printing a raster\n",
        "              inputfreq=(len(excspikes)/(tstop/1000)) # print the number of spikes array. dividing by tstop should give the spike frequency\n",
        "              excfreqs.append(int(inputfreq))\n",
        "              self._exc_train_vec = h.Vector(excspikes)\n",
        "              excvecstim = h.VecStim()\n",
        "              excvecstim.play(self._exc_train_vec)\n",
        "              self._hobj = excvecstim\n",
        "              # print(excvecstim)\n",
        "              for i in range(syn_number):\n",
        "                #make sure synapse is within current functional group\n",
        "                #if (loc[i]>=grpx[k]) and (loc[i]<=grpx[k+1]): #not necessary if you know current cluster is within current group already\n",
        "                  #assign stim to all synapses within current cluster\n",
        "                  if (loc[i]>=clusterx[m]) and (loc[i]<=clusterx[m+1]): #where location is between current group bound\n",
        "                      writer.append_repeat(\"node_ids\", i, len(simSpks))\n",
        "                      writer.append_ds(simSpks, \"timestamps\")\n",
        "                      stim_list[i]=excvecstim\n",
        "                      ExcSpikeMatrix.append(excspikes)    #spike train per synapse Gathering spike trains for printing a raster\n",
        "        sectionexcspikes.append(ExcSpikeMatrix)\n",
        "        # print(excfreqs)\n",
        "\n",
        "\n",
        "    def set_inh_grp_netstim(self, syn_number, inhfreq, inhFRstd, loc, rhythmic_inh=True):\n",
        "        \"\"\"\n",
        "        Setup clustered synaptic input events\n",
        "        syn_number: the number of synapses\n",
        "        inhfreq/excfreq: mean inh/exc FR\n",
        "        inhFRstd/excFRstd: standard deviation of inh/exc FR\n",
        "        syntype: array of size syn_number containing 'inh' or 'exc'\n",
        "        loc: array of size syn_number containing 0<x<1 normalized location of synapse along section\n",
        "        \"\"\"\n",
        "        stim_list = []\n",
        "        self.stim = stim_list\n",
        "        ##may need to double check that these values are truly only exc if inh equivalent is unused\n",
        "        mean_fr=inhfreq\n",
        "        std_fr=inhFRstd\n",
        "        inhfreqs=[]\n",
        "        InhSpikeMatrix=[]\n",
        "        # #distribution used for generating excitatory firing rates.    \n",
        "        # exc_dist = partial(st.levy_stable.rvs, alpha=1.37, beta=-1.00, loc=0.92, scale=0.44, size=1)\n",
        "        #normal distribution of cell firing rates\n",
        "        a, b = (0 - mean_fr) / std_fr, (100 - mean_fr) / std_fr #(0 - mean_fr) / std_fr, (100 - mean_fr) / std_fr\n",
        "        d = partial(st.truncnorm.rvs, a=a, b=b, loc=mean_fr, scale=std_fr) #Normal Distribution of cells\n",
        "        #buffer = self.params[\"time\"][\"start\"]\n",
        "        # for k in range(numgrps): #iterate along functional groups\n",
        "          #generate the noise trace common to the functional group.\n",
        "        #   z = make_noise(num_samples=(int(tstop))-1,num_traces=1) # tstop was originally seconds*1000, num samples should be length of trace\n",
        "        if rhythmic_inh: # make an array of modulated sin waves\n",
        "          frs = d(size=syn_number)\n",
        "          # frs=np.clip(frs, 0,3*mean_fr)\n",
        "          # t = np.arange(0,tstop,0.001) #original\n",
        "          t = np.arange(0,tstop-1,1) #test\n",
        "          z = np.zeros((syn_number,t.shape[0]))\n",
        "          P = 0\n",
        "          for i in np.arange(0,syn_number):\n",
        "            offset = frs[i]\n",
        "            rhythmic_mod=0.5\n",
        "            rhythmic_f=16\n",
        "            A = offset/((1/rhythmic_mod)-1)\n",
        "            z[i,:] = A*np.sin((2 * np.pi * rhythmic_f * t)+P) + offset\n",
        "            dist=np.ones((syn_number,1))\n",
        "        else: # create a noise trace by shifting exc spikes #\n",
        "            f = h5py.File(\"exc_stim_spikes.h5\", \"r\")\n",
        "            ts = f['spikes'][\"exc_stim\"]['timestamps'] #ts can be SimSpks from saving excitatory if the\n",
        "            nid = f['spikes'][\"exc_stim\"]['node_ids']\n",
        "            z = shift_exc_noise(ts, nid, tstop, time_shift=2) #z = shift_exc_noise(ts, nid, self.params[\"time\"][\"stop\"], time_shift=self.params[\"inh_shift\"])\n",
        "            z = np.tile(z,(syn_number,1))\n",
        "            dist=d(size=syn_number)\n",
        "        for m in range(syn_number):\n",
        "            rate_temp=[];simSpks_temp=[]\n",
        "            rate_prof=np.tile(z[0,:],(syn_number,1))\n",
        "            r=rate_prof[m,:]\n",
        "            r[r<0] = 0#Can't have negative firing rates.\n",
        "            #pull inhfr from modulated fr distribution\n",
        "            rate_temp = r*dist[m]\n",
        "            #generate spikes given fr\n",
        "            numbPoints = st.poisson(rate_temp/1000).rvs()#Poisson number of points\n",
        "            simSpks=np.where(numbPoints>0)[0]\n",
        "            #create stim\n",
        "            inhspikes=simSpks\n",
        "            if simSpks is None:\n",
        "              inhspikes=[]\n",
        "            inputfreq=(len(inhspikes)/(tstop/1000)) # print the number of spikes array. dividing by tstop should give the spike frequency\n",
        "            inhfreqs.append(int(inputfreq))\n",
        "            # NRN will fail if VecStim contains negative spike-time, throw an exception and log info for user\n",
        "            #print('spike train {} contains negative number, unable to run virtual cell in NEURON'.format(inhspikes))\n",
        "            #get same stim for inh synapse in cluster\n",
        "            #get same stim for inh synapses in cluster\n",
        "            inhspikes = np.sort(inhspikes)\n",
        "            # InhSpikeMatrix.append(inhspikes)\n",
        "            self._inh_train_vec = h.Vector(inhspikes)\n",
        "            inhvecstim = h.VecStim()\n",
        "            inhvecstim.play(self._inh_train_vec)\n",
        "            # writer.append_repeat(\"node_ids\", i, len(simSpks))\n",
        "            # writer.append_ds(simSpks, \"timestamps\")\n",
        "            stim_list.append(inhvecstim)\n",
        "            InhSpikeMatrix.append(inhspikes)\n",
        "        sectioninhspikes.append(InhSpikeMatrix)\n",
        "        # print(inhfreqs)\n",
        "\n",
        "\n",
        "    \n",
        "    def pack_parameters(self,param,ndim,param_name):\n",
        "        \"\"\"Pack parameters for the simulation\"\"\"\n",
        "        if ndim==0:\n",
        "            if not hasattr(param,'__len__'):\n",
        "                param = [param]\n",
        "            param = np.array(param).ravel()\n",
        "            if param.size!=self.ncell:\n",
        "                if param.size==1:\n",
        "                    param = np.broadcast_to(param,self.ncell)\n",
        "                else:\n",
        "                    raise ValueError(param_name+\" size does not match ncell\")   \n",
        "        if ndim==1:\n",
        "            param = np.array(param)\n",
        "            if param.ndim==1:\n",
        "                param = np.expand_dims(param,0)\n",
        "            if param.shape[0]!=self.ncell:\n",
        "                if param.shape[0]==1:\n",
        "                    param = np.broadcast_to(param,(self.ncell,param.shape[1]))\n",
        "                else:\n",
        "                    raise ValueError(param_name+\" number of rows does not match ncell\")\n",
        "        return param\n",
        "    \n",
        "    def set_loc_param(self,loc_param):\n",
        "        \"\"\"Setup location parameters. loc_param ncell-by-6 array\"\"\"\n",
        "        loc_param = self.pack_parameters(loc_param,1,\"loc_param\")\n",
        "        self.loc_param = [(loc_param[i,:3],loc_param[i,3:]) for i in range(self.ncell)]\n",
        "    \n",
        "    def set_geo_param(self,geo_param):\n",
        "        \"\"\"Setup geometry parameters. geo_param ncell-by-k array, k entries of properties\"\"\"\n",
        "        self.geo_param = self.pack_parameters(geo_param,1,\"geo_param\")\n",
        "    \n",
        "    def set_biophys(self,biophys):\n",
        "        \"\"\"Setup geometry parameters. geo_param ncell-by-k array, k entries of properties\"\"\"\n",
        "        self.biophys = self.pack_parameters(biophys,1,\"biophys\")\n",
        "    \n",
        "    # def set_gmax(self,gmaxEXC,gmaxINH):\n",
        "    #     \"\"\"Setup maximum conductance of synapse\"\"\"\n",
        "    #     self.gmaxEXC = self.pack_parameters(gmaxEXC,0,\"gmaxEXC\")\n",
        "    #     self.gmaxINH = self.pack_parameters(gmaxINH,0,\"gmaxINH\")\n",
        "    def set_gmax(self,gmax):\n",
        "        \"\"\"Setup maximum conductance of synapse\"\"\"\n",
        "        self.gmax = self.pack_parameters(gmax,0,\"gmax\")\n",
        "    \n",
        "    def set_scale(self,scale):\n",
        "        \"\"\"setup scaling factors of lfp magnitude\"\"\"\n",
        "        self.scale = self.pack_parameters(scale,0,\"scale\")\n",
        "    \n",
        "    def define_geometry_entries(self):\n",
        "        \"\"\"Define list of entries to geometry dataframe. Each entry is a pair of section id and property.\"\"\"\n",
        "        self.geo_entries = [\n",
        "            #soma\n",
        "            (0,'R'),  # radius\n",
        "        #     #proximal trunk\n",
        "        #     (4,'excitation'), # excitation ('TRUE'/'FALSE')\n",
        "        #     (4,'inhibition'), # inhibition ('TRUE'/'FALSE')\n",
        "        #     (4,'L'), # length\n",
        "        #     (4,'R'), # radius\n",
        "        #     (4,'excFRmean'), # exc FR mean\n",
        "        #     (4,'excFRstd'), # exc FR std\n",
        "        #     (4,'inhFRmean'), # inh FR mean\n",
        "        #     (4,'inhFRstd'), # inh FR std\n",
        "        #     (4,'excP_0mean'), # exc P_0 mean (0 to 1)\n",
        "        #     (4,'excP_0std'), # exc P_0 std\n",
        "        #     (4,'inhP_0mean'), # inh P_0 mean (0 to 1)\n",
        "        #     (4,'inhP_0std'), # inh P_0 std\n",
        "        #     #middle trunk\n",
        "        #     (6,'excitation'), # excitation ('TRUE'/'FALSE')\n",
        "        #     (6,'inhibition'), # inhibition ('TRUE'/'FALSE')\n",
        "        #     (6,'L'), # length\n",
        "        #     (6,'R'), # radius\n",
        "        #     (6,'excFRmean'), # exc FR mean\n",
        "        #     (6,'excFRstd'), # exc FR std\n",
        "        #     (6,'inhFRmean'), # inh FR mean\n",
        "        #     (6,'inhFRstd'), # inh FR std\n",
        "        #     (6,'excP_0mean'), # exc P_0 mean (0 to 1)\n",
        "        #     (6,'excP_0std'), # exc P_0 std\n",
        "        #     (6,'inhP_0mean'), # inh P_0 mean (0 to 1)\n",
        "        #     (6,'inhP_0std'), # inh P_0 std\n",
        "        #     #distal trunk\n",
        "        #     (7,'excitation'), # excitation ('TRUE'/'FALSE')\n",
        "        #     (7,'inhibition'), # inhibition ('TRUE'/'FALSE')\n",
        "        #     (7,'L'), # length\n",
        "        #     (7,'R'), # radius\n",
        "        #     (7,'excFRmean'), # exc FR mean\n",
        "        #     (7,'excFRstd'), # exc FR std\n",
        "        #     (7,'inhFRmean'), # inh FR mean\n",
        "        #     (7,'inhFRstd'), # inh FR std\n",
        "        #     (7,'excP_0mean'), # exc P_0 mean (0 to 1)\n",
        "        #     (7,'excP_0std'), # exc P_0 std\n",
        "        #     (7,'inhP_0mean'), # inh P_0 mean (0 to 1)\n",
        "        #     (7,'inhP_0std'), # inh P_0 std\n",
        "        #     #basal dendrites\n",
        "        #     ([1,2,3],'excitation'), # excitation ('TRUE'/'FALSE')\n",
        "        #     ([1,2,3],'inhibition'), # inhibition ('TRUE'/'FALSE')\n",
        "        #     ([1,2,3],'nbranch'), # number of dendrites\n",
        "        #     (1,'L'), # proximal section length\n",
        "        #     (2,'L'), # middle section length\n",
        "        #     (3,'L'), # distal section length\n",
        "        #     (1,'R'), # proximal radius\n",
        "        #     (2,'R'), # middle radius\n",
        "        #     (3,'R'), # distal radius\n",
        "        #     ([1,2,3],'ang'), # angle\n",
        "        #     ([1,2,3],'excFRmean'), # exc FR mean\n",
        "        #     ([1,2,3],'excFRstd'), # exc FR std\n",
        "        #     ([1,2,3],'inhFRmean'), # inh FR mean\n",
        "        #     ([1,2,3],'inhFRstd'), # inh FR std\n",
        "        #     ([1,2,3],'excP_0mean'), # exc P_0 mean (0 to 1)\n",
        "        #     ([1,2,3],'excP_0std'), # exc P_0 std\n",
        "        #     ([1,2,3],'inhP_0mean'), # inh P_0 mean (0 to 1)\n",
        "        #     ([1,2,3],'inhP_0std'), # inh P_0 std\n",
        "        #     #oblique dendrites\n",
        "        #     (5,'excitation'), # excitation ('TRUE'/'FALSE')\n",
        "        #     (5,'inhibition'), # inhibition ('TRUE'/'FALSE')\n",
        "        #     (5,'nbranch'), # number of dendrites\n",
        "        #     (5,'L'), # length\n",
        "        #     (5,'R'), # radius\n",
        "        #     (5,'ang'), # angle\n",
        "        #     (5,'excFRmean'), # exc FR mean\n",
        "        #     (5,'excFRstd'), # exc FR std\n",
        "        #     (5,'inhFRmean'), # inh FR mean\n",
        "        #     (5,'inhFRstd'), # inh FR std\n",
        "        #     (5,'excP_0mean'), # exc P_0 mean (0 to 1)\n",
        "        #     (5,'excP_0std'), # exc P_0 std\n",
        "        #     (5,'inhP_0mean'), # inh P_0 mean (0 to 1)\n",
        "        #     (5,'inhP_0std'), # inh P_0 std\n",
        "        #     # tuft dendrites\n",
        "        #     ([8,9,10],'excitation'), # excitation ('TRUE'/'FALSE')\n",
        "        #     ([8,9,10],'inhibition'), # inhibition ('TRUE'/'FALSE')\n",
        "        #     ([8,9,10],'nbranch'), # number of dendrites\n",
        "        #     (8,'L'), # proximal section length\n",
        "        #     (9,'L'), # middle section length\n",
        "        #     (10,'L'), # distal section length\n",
        "        #     (8,'R'), # proximal radius\n",
        "        #     (9,'R'), # middle radius\n",
        "        #     (10,'R'), # distal radius\n",
        "        #     ([8,9,10],'ang'), # angle\n",
        "        #     ([8,9,10],'excFRmean'), # exc FR mean\n",
        "        #     ([8,9,10],'excFRstd'), # exc FR std\n",
        "        #     ([8,9,10],'inhFRmean'), # inh FR mean\n",
        "        #     ([8,9,10],'inhFRstd'), # inh FR std\n",
        "        #     ([8,9,10],'excP_0mean'), # exc P_0 mean (0 to 1)\n",
        "        #     ([8,9,10],'excP_0std'), # exc P_0 std\n",
        "        #     ([8,9,10],'inhP_0mean'), # inh P_0 mean (0 to 1)\n",
        "        #     ([8,9,10],'inhP_0std'), # inh P_0 std\n",
        "        #     #axon\n",
        "        #     (11,'L'), # length\n",
        "        #     (11,'R'), # radius\n",
        "        #     #passive basal\n",
        "        #     (12,'nbranch'), # number of dendrites\n",
        "        #     (12,'L'), # length\n",
        "        #     (12,'R') # radius\n",
        "        ]\n",
        "    \n",
        "    def set_geometry(self,geometry,geo_param):\n",
        "        \"\"\"Set property values from geo_param through each entry to geometry. Return dataframe\"\"\"\n",
        "        geom = geometry.copy()\n",
        "        for i,x in enumerate(geo_param):\n",
        "            if x>=0:\n",
        "                geom.loc[self.geo_entries[i]] = x\n",
        "        return geom\n",
        "\n",
        "    def record_spikes(self, threshold: Optional[float]) -> None:\n",
        "        \"\"\"Setup spike recorder for all cells\"\"\"\n",
        "        for cell in self.cells:\n",
        "            cell.set_spike_recorder(threshold)\n",
        "        self.spike_threshold = threshold\n",
        "\n",
        "    def create_cells(self, synaptic_input, RunType): #exc_dens,inh_dens\n",
        "        \"\"\"Create cell objects with properties set up\"\"\"\n",
        "        self.cells.clear()  # remove cell objects from previous run\n",
        "        self.lfp.clear()\n",
        "        # Create cell with morphology and biophysical parameters\n",
        "        for i in range(self.ncell):\n",
        "            geometry = self.set_geometry(self.geometry,self.geo_param[i,:])\n",
        "            self.cells.append( Cell(geometry=geometry,biophys=self.biophys[i,:]) )\n",
        "        # add injection current or synaptic current and set up lfp recording\n",
        "        min_dist = 10.0 # minimum distance allowed between segment and electrode. Set to None if not using.\n",
        "        for i,cell in enumerate(self.cells):\n",
        "            self.lfp.append( EcpMod(cell,self.electrodes,move_cell=self.loc_param[i],scale=self.scale[i],min_distance=min_dist) )\n",
        "            #Current injection in soma\n",
        "            # cell.add_injection(sec_index=19,record=True,delay=150,dur=150,amp=0.1) # Tune for proper action potential\n",
        "            if RunType == 'Active Properties':\n",
        "              print('Active Property Simulation')\n",
        "              cell.add_injection(sec_index=0,record=True,delay=250,dur=750,amp=0.1) # Tune for proper action potential \n",
        "              cell.add_injection(sec_index=0,record=True,delay=1250,dur=750,amp=0.2) \n",
        "              cell.add_injection(sec_index=0,record=True,delay=2250,dur=750,amp=0.3) \n",
        "              cell.add_injection(sec_index=0,record=True,delay=3250,dur=750,amp=0.4) \n",
        "            if RunType == 'Passive Properties':\n",
        "              print('Passive Property Simulation')\n",
        "              cell.add_injection(sec_index=0,record=True,delay=150,dur=850,amp=-0.1) # Tune for proper action potential \n",
        "            if synaptic_input == True:\n",
        "              writer = SonataWriter('exc_stim_spikes.h5', [\"spikes\", \"exc_stim\"], [\"timestamps\", \"node_ids\"], [float, int])\n",
        "              for id,sec in self.geometry.iterrows(): #add exc synapses\n",
        "                  sec_index_list=cell.sec_id_lookup[id]\n",
        "                  if sec['excitation']:\n",
        "                    L = sec['L']\n",
        "                    excitation=sec['excitation']\n",
        "                    #Clustering\n",
        "                    funcgrouplength=100 #desired functional group length (um)      #warning: rounding may alter\n",
        "                    clusterlength=3 #desired cluster length (um)                    #warning: rounding may alter\n",
        "                    #calculate number of functional groups and clusters on this section\n",
        "                    funcgrps=round(L/funcgrouplength) #calculate the number of functional groups for this section\n",
        "                    clusters=int(np.floor(L/clusterlength)) #calculate the number of clusters for this section\n",
        "                    if funcgrps==0:\n",
        "                      funcgrps=1\n",
        "                    if clusters==0:\n",
        "                      clusters=1\n",
        "                    print(sec['name'],'|L:',L, '|cluster length:', L/clusters, '|# clusters:',clusters,'|funcgrp length:', L/funcgrps, '|# funcgrp:',funcgrps, '|syns/cluster:', round(2.16*L/clusters),'|#segments:',math.ceil(L/5),'|segment length:',L/math.ceil(L/5))\n",
        "                    #print('The number of clusters is ',clusters)\n",
        "                    #calculate the bounds of functional groups on this section\n",
        "                    grpx=[]\n",
        "                    for num in range(funcgrps):\n",
        "                      grpx.append(num/funcgrps) # construct an array of functional group bounds where x denotes a proportion (0.0 to 1.0) of the section length\n",
        "                    grpx.append(1)\n",
        "                    #print('grpx for ',sec['name'],funcgrps,' is ',grpx)\n",
        "                    #calculate the bounds of clusters on this section\n",
        "                    clusterx=[]\n",
        "                    for num in range(clusters):\n",
        "                      clusterx.append(num/clusters) # construct an array of cluster bounds where x denotes a proportion (0.0 to 1.0) of the section length\n",
        "                    clusterx.append(1)\n",
        "                    #print('clusterx for ',sec['name'],clusters,' is ',clusterx)\n",
        "                    #print(funcgrps)\n",
        "\n",
        "                    #pull section synaptic parameters\n",
        "                    excP_0mean=sec['excP_0mean']\n",
        "                    excP_0std=sec['excP_0std']\n",
        "                    excFRmean=sec['excFRmean']\n",
        "                    excFRstd=sec['excFRstd']\n",
        "                    exc_dens=sec['exc_dens']\n",
        "\n",
        "                    # #print('Distributing exc synapses onto',sec['name'],'sections')\n",
        "                    # syn_exc_number = np.round((exc_dens)*L) # number of synapses on dendrites = density (syn/um) times length of dendrites (um)\n",
        "                    syn_exc_number = np.round((exc_dens)*L*excP_0mean) # number of synapses on dendrites = density (syn/um) times length of dendrites (um)\n",
        "                    syn_number = int(syn_exc_number) #total number of synapses on the section\n",
        "                    for isec in range(len(sec_index_list)):\n",
        "                        #print(sec['name'],'has ',funcgrps,' groups and ',syn_number,' synapses')\n",
        "                        syn_dist = np.random.rand(syn_number) #generate random values for 'x' normalized location along section\n",
        "                        gmax_dist = np.random.lognormal(mean, std, syn_number) #generate random values for gmax\n",
        "                        gmax_dist=np.clip(gmax_dist,0,5)\n",
        "                        self.set_exc_grp_netstim(syn_number,excfreq=excFRmean,excFRstd=excFRstd, loc=syn_dist, grpx=grpx, clusterx=clusterx, writer=writer) #generate exc presynaptic spike trains\n",
        "                        # P_0exclist=np.random.normal(loc=excP_0mean, scale=excP_0std, size=syn_number)\n",
        "                        P_0exclist=np.ones(syn_number)\n",
        "# can adjust weights ############################################\n",
        "                        if id == 2: #adjust midbasal weight\n",
        "                          tune=1 #consider 1.5/1.1\n",
        "                        elif id == 3: #adjust distbasal weight\n",
        "                          tune=1 #consider 5/3\n",
        "                        else: # adjust rest excitation\n",
        "                          tune=1\n",
        "#################################################################\n",
        "                        for j in range(syn_number): #add synapses to this section\n",
        "                            cell.add_synapse(stim=self.stim[j],sec_index=sec_index_list[isec],gmax=gmax_dist[j],loc=syn_dist[j],SynType='exc',P_0=P_0exclist[j])\n",
        "                            # cell.add_synapse(stim=self.stim[j],sec_index=sec_index_list[isec],gmax=gmax_dist[j]*(TRUNCNORM_MAX_BRENT_ITERS),loc=syn_dist[j],SynType='exc',P_0=P_0exclist[j])\n",
        "                  else: \n",
        "                      print(sec['name'],'has no exc synapses')\n",
        "                      for isec in range(len(sec_index_list)):\n",
        "                        sectionexcspikes.append([])\n",
        "\n",
        "              for id,sec in self.geometry.iterrows(): #add inh synapses\n",
        "                  sec_index_list=cell.sec_id_lookup[id]\n",
        "                  inhibition=sec['inhibition']\n",
        "                  if sec['inhibition']:\n",
        "                    L = sec['L']\n",
        "                    #pull section synaptic parameters for section\n",
        "                    inhP_0mean=sec['inhP_0mean']\n",
        "                    inhP_0std=sec['inhP_0std']\n",
        "                    inhFRmean=sec['inhFRmean']\n",
        "                    inhFRstd=sec['inhFRstd']\n",
        "                    inh_dens=sec['inh_dens']\n",
        "                    rhythmic_inh=sec['rhythmic_inh']\n",
        "                    random.seed(427+(id*id))\n",
        "                    if id==0: # soma ### add specific inhibition to soma where length=0\n",
        "                      syn_number = 406\n",
        "                    else:\n",
        "                        # syn_inh_number = np.round((inh_dens)*L) # number of synapses on dendrites = density (syn/um) times length of dendrites (um)\n",
        "                        # syn_number = int(syn_inh_number) #total number of synapses on the section\n",
        "                        syn_inh_number = np.round((inh_dens)*L*inhP_0mean) # number of synapses on dendrites = density (syn/um) times length of dendrites (um)\n",
        "                        syn_number = int(syn_inh_number) #total number of synapses on the section\n",
        "                    print('Distributing',syn_number,'inh synapses onto',sec['name'],'sections')\n",
        "                    for isec in range(len(sec_index_list)):\n",
        "                        #print(sec['name'],'has ',funcgrps,' groups and ',syn_number,' synapses')\n",
        "                        syn_dist = np.random.rand(syn_number) #generate random values for 'x' normalized location along section\n",
        "                        # self.set_inh_grp_netstim(syn_number,inhfreq=inhFRmean,inhFRstd=inhFRstd, loc=syn_dist, rhythmic_inh=rhythmic_inh) #generate inh presynaptic spike trains\n",
        "                        self.set_inh_grp_netstim(syn_number,inhfreq=inhFRmean,inhFRstd=inhFRstd, loc=syn_dist, rhythmic_inh=False) #generate inh presynaptic spike trains\n",
        "                        # P_0inhlist=np.random.normal(loc=inhP_0mean, scale=inhP_0std, size=syn_number)\n",
        "                        P_0inhlist=np.ones(syn_number)\n",
        "# can adjust weights ############################################\n",
        "                        if id==0: #soma\n",
        "                          tune=1\n",
        "                        elif id==3: #distbasal\n",
        "                          tune=1\n",
        "                        elif id==10: #disttuft\n",
        "                          tune=1 #5/3\n",
        "                        elif id==9: #mid tuft\n",
        "                          tune=1 #4.5/4\n",
        "                        elif id==8: #prox tuft\n",
        "                          tune=1\n",
        "                        else: #elsewhere\n",
        "                          tune=1\n",
        "#################################################################\n",
        "                        for j in range(syn_number): #add synapses\n",
        "                          cell.add_synapse(stim=self.stim[j],sec_index=sec_index_list[isec],gmax=1*tune,loc=syn_dist[j],SynType='inh',P_0=P_0inhlist[j]) #elsewhere\n",
        "                  else: \n",
        "                      print(sec['name'],'has no inh synapses')\n",
        "                      for isec in range(len(sec_index_list)):\n",
        "                        sectioninhspikes.append([])\n",
        "                      \n",
        "            else:\n",
        "                print('Creating Passive Cell')\n",
        "\n",
        "        # # Old implementation #Add synapses without rhythmic inhibition/input grouping\n",
        "        # for i,cell in enumerate(self.cells):\n",
        "        #   self.lfp.append( EcpMod(cell,self.electrodes,move_cell=self.loc_param[i],scale=self.scale[i],min_distance=min_dist) )\n",
        "        #   # Current injection in soma\n",
        "        #   #cell.add_injection(sec_index=19,record=True,delay=150,dur=150,amp=0.1) # Tune for proper action potential \n",
        "        #   for id,sec in self.geometry.iterrows(): #add exc synapses\n",
        "        #       sec_index_list=cell.sec_id_lookup[id]\n",
        "        #       L = sec['L']\n",
        "        #       #pull section synaptic parameters\n",
        "        #       excP_0mean=sec['excP_0mean']\n",
        "        #       excP_0std=sec['excP_0std']\n",
        "        #       inhP_0mean=sec['inhP_0mean']\n",
        "        #       inhP_0std=sec['inhP_0std']\n",
        "        #       excFRmean=sec['excFRmean']\n",
        "        #       excFRstd=sec['excFRstd']\n",
        "        #       inhFRmean=sec['inhFRmean']\n",
        "        #       inhFRstd=sec['inhFRstd']\n",
        "        #       inhibition=sec['inhibition']\n",
        "        #       excitation=sec['excitation']\n",
        "        #       inh_dens=sec['inh_dens']\n",
        "        #       exc_dens=sec['exc_dens']\n",
        "        #       rhythmic_inh=sec['rhythmic_inh']\n",
        "\n",
        "        #       if id==0: # soma\n",
        "        #         #print('soma skipped') #skip soma\n",
        "        #         ### add specific inhibition to soma\n",
        "        #         syn_number = 406\n",
        "        #         #print(self.stim)\n",
        "        #         syn_dist = np.random.rand(syn_number) #generate distribution for location\n",
        "        #         syn_type_list = ['inh' for y in range(syn_number)] #assign randomly, adhere to proportion\n",
        "        #         #print(syn_type_list)\n",
        "        #         self.set_netstim(syn_number,inhfreq=inhFRmean,excfreq=excFRmean,excFRstd=excFRstd,inhFRstd=inhFRstd,syntype=syn_type_list)\n",
        "        #         # print(self.stim)\n",
        "        #         P_0inhlist=np.random.normal(loc=inhP_0mean, scale=inhP_0std, size=syn_number)\n",
        "        #         P_0exclist=np.random.normal(loc=excP_0mean, scale=excP_0std, size=syn_number)\n",
        "        #         for j in range(syn_number):\n",
        "        #           cell.add_synapse(stim=self.stim[j],sec_index=sec_index_list[0],gmax=1,loc=syn_dist[j],SynType=syn_type_list[j],P_0=P_0inhlist[j])\n",
        "\n",
        "        #       else: # add synapses to each section\n",
        "        #           if sec['excitation']:\n",
        "        #               syn_exc_number = np.round((exc_dens)*L) # number of synapses on dendrites = density (syn/um) times length of dendrites (um)\n",
        "        #           else: \n",
        "        #               syn_exc_number=0\n",
        "        #           if sec['inhibition']:\n",
        "        #               syn_inh_number = np.round((inh_dens)*L)\n",
        "        #           else:\n",
        "        #               syn_inh_number=0\n",
        "        #           if (not sec['inhibition']) and (not sec['excitation']):\n",
        "        #               print(sec['name'],'has no synapses')\n",
        "        #           else:\n",
        "        #               syn_number = int(syn_inh_number + syn_exc_number) #total number of synapses on the section\n",
        "        #               prop_exc = syn_exc_number/syn_number #used for assigning type\n",
        "        #               for isec in range(len(sec_index_list)):\n",
        "        #                   #print(sec['name'],'has ',funcgrps,' groups and ',syn_number,' synapses')\n",
        "        #                   syn_dist = np.random.rand(syn_number) #generate random values for 'x' normalized location along section\n",
        "        #                   rand_syntype = np.random.rand(syn_number)  #generate random values for determining type\n",
        "        #                   gmax_dist = np.random.lognormal(mean, std, syn_number) #generate random values for gmax\n",
        "        #                   syn_type_list = ['exc' if y< prop_exc else #generate list of synapse type by assigning type using random values \n",
        "        #                                   'inh' for y in rand_syntype]\n",
        "        #                   self.set_netstim(syn_number,inhfreq=inhFRmean,excfreq=excFRmean,excFRstd=excFRstd,inhFRstd=inhFRstd,syntype=syn_type_list) #generate list of presynaptic spike trains\n",
        "        #                   P_0exclist=np.random.normal(loc=excP_0mean, scale=excP_0std, size=syn_number)\n",
        "        #                   P_0inhlist=np.random.normal(loc=inhP_0mean, scale=inhP_0std, size=syn_number)\n",
        "        #                   for j in range(syn_number): #add synapses using list indices\n",
        "        #                     if syn_type_list[j] == 'exc':\n",
        "        #                       cell.add_synapse(stim=self.stim[j],sec_index=sec_index_list[isec],gmax=gmax_dist[j],loc=syn_dist[j],SynType=syn_type_list[j],P_0=P_0exclist[j])\n",
        "        #                     elif syn_type_list[j] == 'inh':\n",
        "        #                       cell.add_synapse(stim=self.stim[j],sec_index=sec_index_list[isec],gmax=1,loc=syn_dist[j],SynType=syn_type_list[j],P_0=P_0inhlist[j])\n",
        "        #                     else:\n",
        "        #                       print('Error: syn_type not exc/inh')\n",
        "          \n",
        "\n",
        "        \n",
        "\n",
        "    \n",
        "    def run(self):\n",
        "        \"\"\"Run simulation\"\"\"\n",
        "        h.run()\n",
        "    \n",
        "    def t(self):\n",
        "        \"\"\"Return simulation time vector\"\"\"\n",
        "        return self.t_vec.as_numpy()\n",
        "    \n",
        "    def get_lfp(self,index=0):\n",
        "        \"\"\"Return LFP array of the cell by index (indices), (cells-by-)channels-by-time\"\"\"\n",
        "        if not hasattr(index,'__len__'):\n",
        "            lfp = self.lfp[index].calc_ecp()\n",
        "        else:\n",
        "            index = np.asarray(index).ravel()\n",
        "            lfp = np.stack([self.lfp[i].calc_ecp() for i in index],axis=0)\n",
        "        return lfp\n",
        "\n",
        "    def get_spike_time(self, index: Union[np.ndarray, List[int], int, str] = 0) -> np.ndarray:\n",
        "        \"\"\"\n",
        "        Return soma spike time of the cell by index (indices), ndarray (list of ndarray)\n",
        "        Parameters\n",
        "        index: index of the cell to retrieve the spikes from\n",
        "        \"\"\"\n",
        "        if self.spike_threshold is None:\n",
        "            raise ValueError(\"Spike recorder was not set up.\")\n",
        "        if type(index) is str and index == 'all':\n",
        "            index = range(self.ncell)\n",
        "        if not hasattr(index, '__len__'):\n",
        "            spk = self.cells[index].spikes.as_numpy().copy()\n",
        "        else:\n",
        "            index = np.asarray(index).ravel()\n",
        "            spk = np.array([self.cells[i].spikes.as_numpy().copy() for i in index], dtype=object)\n",
        "        return spk\n",
        "\n",
        "    def get_spike_number(self, index: Union[np.ndarray, List[int], int, str] = 0) -> Union[int, np.ndarray]:\n",
        "        \"\"\"\n",
        "        Return soma spike number of the cell by index (indices), int (ndarray)\n",
        "        Parameters\n",
        "        index: index of the cell to retrieve the spikes from\n",
        "        \"\"\"\n",
        "        if self.spike_threshold is None:\n",
        "            raise ValueError(\"Spike recorder was not set up.\")\n",
        "        if index == 'all':\n",
        "            index = range(self.ncell)\n",
        "        if not hasattr(index, '__len__'):\n",
        "            spk = self.get_spike_time(index)\n",
        "            nspk = spk.size\n",
        "        else:\n",
        "            index = np.asarray(index).ravel()\n",
        "            spk = self.get_spike_time(index)\n",
        "            nspk = np.array([s.size for s in spk])\n",
        "        return nspk, "
      ]
    },
    {
      "cell_type": "markdown",
      "metadata": {
        "id": "ER4RehApD8dM"
      },
      "source": [
        "## Create simulation"
      ]
    },
    {
      "cell_type": "code",
      "execution_count": null,
      "metadata": {
        "id": "q6-0DfThD8dN"
      },
      "outputs": [],
      "source": [
        "# generate electrode positions for LFP recording\n",
        "x = np.zeros(96)\n",
        "y = np.linspace(-1900,1900,96)\n",
        "z = np.zeros(96)\n",
        "elec_pos = pos = np.column_stack((x,y,z))"
      ]
    },
    {
      "cell_type": "markdown",
      "metadata": {
        "id": "59qptuG3D8dO"
      },
      "source": [
        "Create simulation object"
      ]
    },
    {
      "cell_type": "code",
      "execution_count": null,
      "metadata": {
        "colab": {
          "base_uri": "https://localhost:8080/"
        },
        "id": "w-bIgCdCD8dP",
        "outputId": "66ad6cc8-7255-4bc1-b2fa-e39076b118c3",
        "scrolled": true
      },
      "outputs": [
        {
          "output_type": "stream",
          "name": "stdout",
          "text": [
            "now attempting sec_id: 1\n",
            "allsections: [soma[0]] | pid[i]: 0 | psec: soma[0]\n",
            "allsections: [soma[0], proxbasal[0].dend[0]] | pid[i]: 0 | psec: soma[0]\n",
            "allsections: [soma[0], proxbasal[0].dend[0], proxbasal[1].dend[1]] | pid[i]: 0 | psec: soma[0]\n",
            "allsections: [soma[0], proxbasal[0].dend[0], proxbasal[1].dend[1], proxbasal[2].dend[2]] | pid[i]: 0 | psec: soma[0]\n",
            "now attempting sec_id: 2\n",
            "allsections: [soma[0], proxbasal[0].dend[0], proxbasal[1].dend[1], proxbasal[2].dend[2], proxbasal[3].dend[3]] | pid[i]: 1 | psec: proxbasal[0].dend[0]\n",
            "allsections: [soma[0], proxbasal[0].dend[0], proxbasal[1].dend[1], proxbasal[2].dend[2], proxbasal[3].dend[3], midbasal[0].dend[4]] | pid[i]: 2 | psec: proxbasal[1].dend[1]\n",
            "allsections: [soma[0], proxbasal[0].dend[0], proxbasal[1].dend[1], proxbasal[2].dend[2], proxbasal[3].dend[3], midbasal[0].dend[4], midbasal[1].dend[5]] | pid[i]: 3 | psec: proxbasal[2].dend[2]\n",
            "allsections: [soma[0], proxbasal[0].dend[0], proxbasal[1].dend[1], proxbasal[2].dend[2], proxbasal[3].dend[3], midbasal[0].dend[4], midbasal[1].dend[5], midbasal[2].dend[6]] | pid[i]: 4 | psec: proxbasal[3].dend[3]\n",
            "now attempting sec_id: 3\n",
            "allsections: [soma[0], proxbasal[0].dend[0], proxbasal[1].dend[1], proxbasal[2].dend[2], proxbasal[3].dend[3], midbasal[0].dend[4], midbasal[1].dend[5], midbasal[2].dend[6], midbasal[3].dend[7]] | pid[i]: 5 | psec: midbasal[0].dend[4]\n",
            "allsections: [soma[0], proxbasal[0].dend[0], proxbasal[1].dend[1], proxbasal[2].dend[2], proxbasal[3].dend[3], midbasal[0].dend[4], midbasal[1].dend[5], midbasal[2].dend[6], midbasal[3].dend[7], distbasal[0].dend[8]] | pid[i]: 6 | psec: midbasal[1].dend[5]\n",
            "allsections: [soma[0], proxbasal[0].dend[0], proxbasal[1].dend[1], proxbasal[2].dend[2], proxbasal[3].dend[3], midbasal[0].dend[4], midbasal[1].dend[5], midbasal[2].dend[6], midbasal[3].dend[7], distbasal[0].dend[8], distbasal[1].dend[9]] | pid[i]: 7 | psec: midbasal[2].dend[6]\n",
            "allsections: [soma[0], proxbasal[0].dend[0], proxbasal[1].dend[1], proxbasal[2].dend[2], proxbasal[3].dend[3], midbasal[0].dend[4], midbasal[1].dend[5], midbasal[2].dend[6], midbasal[3].dend[7], distbasal[0].dend[8], distbasal[1].dend[9], distbasal[2].dend[10]] | pid[i]: 8 | psec: midbasal[3].dend[7]\n",
            "now attempting sec_id: 4\n",
            "allsections: [soma[0], proxbasal[0].dend[0], proxbasal[1].dend[1], proxbasal[2].dend[2], proxbasal[3].dend[3], midbasal[0].dend[4], midbasal[1].dend[5], midbasal[2].dend[6], midbasal[3].dend[7], distbasal[0].dend[8], distbasal[1].dend[9], distbasal[2].dend[10], distbasal[3].dend[11]] | pid[i]: 0 | psec: soma[0]\n",
            "now attempting sec_id: 5\n",
            "allsections: [soma[0], proxbasal[0].dend[0], proxbasal[1].dend[1], proxbasal[2].dend[2], proxbasal[3].dend[3], midbasal[0].dend[4], midbasal[1].dend[5], midbasal[2].dend[6], midbasal[3].dend[7], distbasal[0].dend[8], distbasal[1].dend[9], distbasal[2].dend[10], distbasal[3].dend[11], proxtrunk[0].apic[0]] | pid[i]: 13 | psec: proxtrunk[0].apic[0]\n",
            "allsections: [soma[0], proxbasal[0].dend[0], proxbasal[1].dend[1], proxbasal[2].dend[2], proxbasal[3].dend[3], midbasal[0].dend[4], midbasal[1].dend[5], midbasal[2].dend[6], midbasal[3].dend[7], distbasal[0].dend[8], distbasal[1].dend[9], distbasal[2].dend[10], distbasal[3].dend[11], proxtrunk[0].apic[0], oblique[0].apic[1]] | pid[i]: 13 | psec: proxtrunk[0].apic[0]\n",
            "allsections: [soma[0], proxbasal[0].dend[0], proxbasal[1].dend[1], proxbasal[2].dend[2], proxbasal[3].dend[3], midbasal[0].dend[4], midbasal[1].dend[5], midbasal[2].dend[6], midbasal[3].dend[7], distbasal[0].dend[8], distbasal[1].dend[9], distbasal[2].dend[10], distbasal[3].dend[11], proxtrunk[0].apic[0], oblique[0].apic[1], oblique[1].apic[2]] | pid[i]: 13 | psec: proxtrunk[0].apic[0]\n",
            "allsections: [soma[0], proxbasal[0].dend[0], proxbasal[1].dend[1], proxbasal[2].dend[2], proxbasal[3].dend[3], midbasal[0].dend[4], midbasal[1].dend[5], midbasal[2].dend[6], midbasal[3].dend[7], distbasal[0].dend[8], distbasal[1].dend[9], distbasal[2].dend[10], distbasal[3].dend[11], proxtrunk[0].apic[0], oblique[0].apic[1], oblique[1].apic[2], oblique[2].apic[3]] | pid[i]: 13 | psec: proxtrunk[0].apic[0]\n",
            "now attempting sec_id: 6\n",
            "allsections: [soma[0], proxbasal[0].dend[0], proxbasal[1].dend[1], proxbasal[2].dend[2], proxbasal[3].dend[3], midbasal[0].dend[4], midbasal[1].dend[5], midbasal[2].dend[6], midbasal[3].dend[7], distbasal[0].dend[8], distbasal[1].dend[9], distbasal[2].dend[10], distbasal[3].dend[11], proxtrunk[0].apic[0], oblique[0].apic[1], oblique[1].apic[2], oblique[2].apic[3], oblique[3].apic[4]] | pid[i]: 13 | psec: proxtrunk[0].apic[0]\n",
            "now attempting sec_id: 7\n",
            "allsections: [soma[0], proxbasal[0].dend[0], proxbasal[1].dend[1], proxbasal[2].dend[2], proxbasal[3].dend[3], midbasal[0].dend[4], midbasal[1].dend[5], midbasal[2].dend[6], midbasal[3].dend[7], distbasal[0].dend[8], distbasal[1].dend[9], distbasal[2].dend[10], distbasal[3].dend[11], proxtrunk[0].apic[0], oblique[0].apic[1], oblique[1].apic[2], oblique[2].apic[3], oblique[3].apic[4], midtrunk[0].apic[5]] | pid[i]: 18 | psec: midtrunk[0].apic[5]\n",
            "now attempting sec_id: 8\n",
            "allsections: [soma[0], proxbasal[0].dend[0], proxbasal[1].dend[1], proxbasal[2].dend[2], proxbasal[3].dend[3], midbasal[0].dend[4], midbasal[1].dend[5], midbasal[2].dend[6], midbasal[3].dend[7], distbasal[0].dend[8], distbasal[1].dend[9], distbasal[2].dend[10], distbasal[3].dend[11], proxtrunk[0].apic[0], oblique[0].apic[1], oblique[1].apic[2], oblique[2].apic[3], oblique[3].apic[4], midtrunk[0].apic[5], disttrunk[0].apic[6]] | pid[i]: 19 | psec: disttrunk[0].apic[6]\n",
            "allsections: [soma[0], proxbasal[0].dend[0], proxbasal[1].dend[1], proxbasal[2].dend[2], proxbasal[3].dend[3], midbasal[0].dend[4], midbasal[1].dend[5], midbasal[2].dend[6], midbasal[3].dend[7], distbasal[0].dend[8], distbasal[1].dend[9], distbasal[2].dend[10], distbasal[3].dend[11], proxtrunk[0].apic[0], oblique[0].apic[1], oblique[1].apic[2], oblique[2].apic[3], oblique[3].apic[4], midtrunk[0].apic[5], disttrunk[0].apic[6], proxtuft[0].apic[7]] | pid[i]: 19 | psec: disttrunk[0].apic[6]\n",
            "allsections: [soma[0], proxbasal[0].dend[0], proxbasal[1].dend[1], proxbasal[2].dend[2], proxbasal[3].dend[3], midbasal[0].dend[4], midbasal[1].dend[5], midbasal[2].dend[6], midbasal[3].dend[7], distbasal[0].dend[8], distbasal[1].dend[9], distbasal[2].dend[10], distbasal[3].dend[11], proxtrunk[0].apic[0], oblique[0].apic[1], oblique[1].apic[2], oblique[2].apic[3], oblique[3].apic[4], midtrunk[0].apic[5], disttrunk[0].apic[6], proxtuft[0].apic[7], proxtuft[1].apic[8]] | pid[i]: 19 | psec: disttrunk[0].apic[6]\n",
            "allsections: [soma[0], proxbasal[0].dend[0], proxbasal[1].dend[1], proxbasal[2].dend[2], proxbasal[3].dend[3], midbasal[0].dend[4], midbasal[1].dend[5], midbasal[2].dend[6], midbasal[3].dend[7], distbasal[0].dend[8], distbasal[1].dend[9], distbasal[2].dend[10], distbasal[3].dend[11], proxtrunk[0].apic[0], oblique[0].apic[1], oblique[1].apic[2], oblique[2].apic[3], oblique[3].apic[4], midtrunk[0].apic[5], disttrunk[0].apic[6], proxtuft[0].apic[7], proxtuft[1].apic[8], proxtuft[2].apic[9]] | pid[i]: 19 | psec: disttrunk[0].apic[6]\n",
            "now attempting sec_id: 9\n",
            "allsections: [soma[0], proxbasal[0].dend[0], proxbasal[1].dend[1], proxbasal[2].dend[2], proxbasal[3].dend[3], midbasal[0].dend[4], midbasal[1].dend[5], midbasal[2].dend[6], midbasal[3].dend[7], distbasal[0].dend[8], distbasal[1].dend[9], distbasal[2].dend[10], distbasal[3].dend[11], proxtrunk[0].apic[0], oblique[0].apic[1], oblique[1].apic[2], oblique[2].apic[3], oblique[3].apic[4], midtrunk[0].apic[5], disttrunk[0].apic[6], proxtuft[0].apic[7], proxtuft[1].apic[8], proxtuft[2].apic[9], proxtuft[3].apic[10]] | pid[i]: 20 | psec: proxtuft[0].apic[7]\n",
            "allsections: [soma[0], proxbasal[0].dend[0], proxbasal[1].dend[1], proxbasal[2].dend[2], proxbasal[3].dend[3], midbasal[0].dend[4], midbasal[1].dend[5], midbasal[2].dend[6], midbasal[3].dend[7], distbasal[0].dend[8], distbasal[1].dend[9], distbasal[2].dend[10], distbasal[3].dend[11], proxtrunk[0].apic[0], oblique[0].apic[1], oblique[1].apic[2], oblique[2].apic[3], oblique[3].apic[4], midtrunk[0].apic[5], disttrunk[0].apic[6], proxtuft[0].apic[7], proxtuft[1].apic[8], proxtuft[2].apic[9], proxtuft[3].apic[10], midtuft[0].apic[11]] | pid[i]: 21 | psec: proxtuft[1].apic[8]\n",
            "allsections: [soma[0], proxbasal[0].dend[0], proxbasal[1].dend[1], proxbasal[2].dend[2], proxbasal[3].dend[3], midbasal[0].dend[4], midbasal[1].dend[5], midbasal[2].dend[6], midbasal[3].dend[7], distbasal[0].dend[8], distbasal[1].dend[9], distbasal[2].dend[10], distbasal[3].dend[11], proxtrunk[0].apic[0], oblique[0].apic[1], oblique[1].apic[2], oblique[2].apic[3], oblique[3].apic[4], midtrunk[0].apic[5], disttrunk[0].apic[6], proxtuft[0].apic[7], proxtuft[1].apic[8], proxtuft[2].apic[9], proxtuft[3].apic[10], midtuft[0].apic[11], midtuft[1].apic[12]] | pid[i]: 22 | psec: proxtuft[2].apic[9]\n",
            "allsections: [soma[0], proxbasal[0].dend[0], proxbasal[1].dend[1], proxbasal[2].dend[2], proxbasal[3].dend[3], midbasal[0].dend[4], midbasal[1].dend[5], midbasal[2].dend[6], midbasal[3].dend[7], distbasal[0].dend[8], distbasal[1].dend[9], distbasal[2].dend[10], distbasal[3].dend[11], proxtrunk[0].apic[0], oblique[0].apic[1], oblique[1].apic[2], oblique[2].apic[3], oblique[3].apic[4], midtrunk[0].apic[5], disttrunk[0].apic[6], proxtuft[0].apic[7], proxtuft[1].apic[8], proxtuft[2].apic[9], proxtuft[3].apic[10], midtuft[0].apic[11], midtuft[1].apic[12], midtuft[2].apic[13]] | pid[i]: 23 | psec: proxtuft[3].apic[10]\n",
            "now attempting sec_id: 10\n",
            "allsections: [soma[0], proxbasal[0].dend[0], proxbasal[1].dend[1], proxbasal[2].dend[2], proxbasal[3].dend[3], midbasal[0].dend[4], midbasal[1].dend[5], midbasal[2].dend[6], midbasal[3].dend[7], distbasal[0].dend[8], distbasal[1].dend[9], distbasal[2].dend[10], distbasal[3].dend[11], proxtrunk[0].apic[0], oblique[0].apic[1], oblique[1].apic[2], oblique[2].apic[3], oblique[3].apic[4], midtrunk[0].apic[5], disttrunk[0].apic[6], proxtuft[0].apic[7], proxtuft[1].apic[8], proxtuft[2].apic[9], proxtuft[3].apic[10], midtuft[0].apic[11], midtuft[1].apic[12], midtuft[2].apic[13], midtuft[3].apic[14]] | pid[i]: 24 | psec: midtuft[0].apic[11]\n",
            "allsections: [soma[0], proxbasal[0].dend[0], proxbasal[1].dend[1], proxbasal[2].dend[2], proxbasal[3].dend[3], midbasal[0].dend[4], midbasal[1].dend[5], midbasal[2].dend[6], midbasal[3].dend[7], distbasal[0].dend[8], distbasal[1].dend[9], distbasal[2].dend[10], distbasal[3].dend[11], proxtrunk[0].apic[0], oblique[0].apic[1], oblique[1].apic[2], oblique[2].apic[3], oblique[3].apic[4], midtrunk[0].apic[5], disttrunk[0].apic[6], proxtuft[0].apic[7], proxtuft[1].apic[8], proxtuft[2].apic[9], proxtuft[3].apic[10], midtuft[0].apic[11], midtuft[1].apic[12], midtuft[2].apic[13], midtuft[3].apic[14], disttuft[0].apic[15]] | pid[i]: 25 | psec: midtuft[1].apic[12]\n",
            "allsections: [soma[0], proxbasal[0].dend[0], proxbasal[1].dend[1], proxbasal[2].dend[2], proxbasal[3].dend[3], midbasal[0].dend[4], midbasal[1].dend[5], midbasal[2].dend[6], midbasal[3].dend[7], distbasal[0].dend[8], distbasal[1].dend[9], distbasal[2].dend[10], distbasal[3].dend[11], proxtrunk[0].apic[0], oblique[0].apic[1], oblique[1].apic[2], oblique[2].apic[3], oblique[3].apic[4], midtrunk[0].apic[5], disttrunk[0].apic[6], proxtuft[0].apic[7], proxtuft[1].apic[8], proxtuft[2].apic[9], proxtuft[3].apic[10], midtuft[0].apic[11], midtuft[1].apic[12], midtuft[2].apic[13], midtuft[3].apic[14], disttuft[0].apic[15], disttuft[1].apic[16]] | pid[i]: 26 | psec: midtuft[2].apic[13]\n",
            "allsections: [soma[0], proxbasal[0].dend[0], proxbasal[1].dend[1], proxbasal[2].dend[2], proxbasal[3].dend[3], midbasal[0].dend[4], midbasal[1].dend[5], midbasal[2].dend[6], midbasal[3].dend[7], distbasal[0].dend[8], distbasal[1].dend[9], distbasal[2].dend[10], distbasal[3].dend[11], proxtrunk[0].apic[0], oblique[0].apic[1], oblique[1].apic[2], oblique[2].apic[3], oblique[3].apic[4], midtrunk[0].apic[5], disttrunk[0].apic[6], proxtuft[0].apic[7], proxtuft[1].apic[8], proxtuft[2].apic[9], proxtuft[3].apic[10], midtuft[0].apic[11], midtuft[1].apic[12], midtuft[2].apic[13], midtuft[3].apic[14], disttuft[0].apic[15], disttuft[1].apic[16], disttuft[2].apic[17]] | pid[i]: 27 | psec: midtuft[3].apic[14]\n",
            "now attempting sec_id: 11\n",
            "allsections: [soma[0], proxbasal[0].dend[0], proxbasal[1].dend[1], proxbasal[2].dend[2], proxbasal[3].dend[3], midbasal[0].dend[4], midbasal[1].dend[5], midbasal[2].dend[6], midbasal[3].dend[7], distbasal[0].dend[8], distbasal[1].dend[9], distbasal[2].dend[10], distbasal[3].dend[11], proxtrunk[0].apic[0], oblique[0].apic[1], oblique[1].apic[2], oblique[2].apic[3], oblique[3].apic[4], midtrunk[0].apic[5], disttrunk[0].apic[6], proxtuft[0].apic[7], proxtuft[1].apic[8], proxtuft[2].apic[9], proxtuft[3].apic[10], midtuft[0].apic[11], midtuft[1].apic[12], midtuft[2].apic[13], midtuft[3].apic[14], disttuft[0].apic[15], disttuft[1].apic[16], disttuft[2].apic[17], disttuft[3].apic[18]] | pid[i]: 0 | psec: soma[0]\n",
            "now attempting sec_id: 12\n",
            "allsections: [soma[0], proxbasal[0].dend[0], proxbasal[1].dend[1], proxbasal[2].dend[2], proxbasal[3].dend[3], midbasal[0].dend[4], midbasal[1].dend[5], midbasal[2].dend[6], midbasal[3].dend[7], distbasal[0].dend[8], distbasal[1].dend[9], distbasal[2].dend[10], distbasal[3].dend[11], proxtrunk[0].apic[0], oblique[0].apic[1], oblique[1].apic[2], oblique[2].apic[3], oblique[3].apic[4], midtrunk[0].apic[5], disttrunk[0].apic[6], proxtuft[0].apic[7], proxtuft[1].apic[8], proxtuft[2].apic[9], proxtuft[3].apic[10], midtuft[0].apic[11], midtuft[1].apic[12], midtuft[2].apic[13], midtuft[3].apic[14], disttuft[0].apic[15], disttuft[1].apic[16], disttuft[2].apic[17], disttuft[3].apic[18], axon[0].axon[0]] | pid[i]: 0 | psec: soma[0]\n",
            "allsections: [soma[0], proxbasal[0].dend[0], proxbasal[1].dend[1], proxbasal[2].dend[2], proxbasal[3].dend[3], midbasal[0].dend[4], midbasal[1].dend[5], midbasal[2].dend[6], midbasal[3].dend[7], distbasal[0].dend[8], distbasal[1].dend[9], distbasal[2].dend[10], distbasal[3].dend[11], proxtrunk[0].apic[0], oblique[0].apic[1], oblique[1].apic[2], oblique[2].apic[3], oblique[3].apic[4], midtrunk[0].apic[5], disttrunk[0].apic[6], proxtuft[0].apic[7], proxtuft[1].apic[8], proxtuft[2].apic[9], proxtuft[3].apic[10], midtuft[0].apic[11], midtuft[1].apic[12], midtuft[2].apic[13], midtuft[3].apic[14], disttuft[0].apic[15], disttuft[1].apic[16], disttuft[2].apic[17], disttuft[3].apic[18], axon[0].axon[0], passivebasal[1]] | pid[i]: 0 | psec: soma[0]\n",
            "allsections: [soma[0], proxbasal[0].dend[0], proxbasal[1].dend[1], proxbasal[2].dend[2], proxbasal[3].dend[3], midbasal[0].dend[4], midbasal[1].dend[5], midbasal[2].dend[6], midbasal[3].dend[7], distbasal[0].dend[8], distbasal[1].dend[9], distbasal[2].dend[10], distbasal[3].dend[11], proxtrunk[0].apic[0], oblique[0].apic[1], oblique[1].apic[2], oblique[2].apic[3], oblique[3].apic[4], midtrunk[0].apic[5], disttrunk[0].apic[6], proxtuft[0].apic[7], proxtuft[1].apic[8], proxtuft[2].apic[9], proxtuft[3].apic[10], midtuft[0].apic[11], midtuft[1].apic[12], midtuft[2].apic[13], midtuft[3].apic[14], disttuft[0].apic[15], disttuft[1].apic[16], disttuft[2].apic[17], disttuft[3].apic[18], axon[0].axon[0], passivebasal[1], passivebasal[2]] | pid[i]: 0 | psec: soma[0]\n",
            "allsections: [soma[0], proxbasal[0].dend[0], proxbasal[1].dend[1], proxbasal[2].dend[2], proxbasal[3].dend[3], midbasal[0].dend[4], midbasal[1].dend[5], midbasal[2].dend[6], midbasal[3].dend[7], distbasal[0].dend[8], distbasal[1].dend[9], distbasal[2].dend[10], distbasal[3].dend[11], proxtrunk[0].apic[0], oblique[0].apic[1], oblique[1].apic[2], oblique[2].apic[3], oblique[3].apic[4], midtrunk[0].apic[5], disttrunk[0].apic[6], proxtuft[0].apic[7], proxtuft[1].apic[8], proxtuft[2].apic[9], proxtuft[3].apic[10], midtuft[0].apic[11], midtuft[1].apic[12], midtuft[2].apic[13], midtuft[3].apic[14], disttuft[0].apic[15], disttuft[1].apic[16], disttuft[2].apic[17], disttuft[3].apic[18], axon[0].axon[0], passivebasal[1], passivebasal[2], passivebasal[3]] | pid[i]: 0 | psec: soma[0]\n",
            "soma has no exc synapses\n",
            "proxbasal |L: 33.0 |cluster length: 3.0 |# clusters: 11 |funcgrp length: 33.0 |# funcgrp: 1 |syns/cluster: 6 |#segments: 7 |segment length: 4.714285714285714\n",
            "midbasal |L: 49.0 |cluster length: 3.0625 |# clusters: 16 |funcgrp length: 49.0 |# funcgrp: 1 |syns/cluster: 7 |#segments: 10 |segment length: 4.9\n",
            "distbasal |L: 82.0 |cluster length: 3.037037037037037 |# clusters: 27 |funcgrp length: 82.0 |# funcgrp: 1 |syns/cluster: 7 |#segments: 17 |segment length: 4.823529411764706\n",
            "proxtrunk has no exc synapses\n",
            "oblique has no exc synapses\n",
            "midtrunk has no exc synapses\n",
            "disttrunk has no exc synapses\n",
            "proxtuft |L: 49.0 |cluster length: 3.0625 |# clusters: 16 |funcgrp length: 49.0 |# funcgrp: 1 |syns/cluster: 7 |#segments: 10 |segment length: 4.9\n",
            "midtuft |L: 200.0 |cluster length: 3.0303030303030303 |# clusters: 66 |funcgrp length: 100.0 |# funcgrp: 2 |syns/cluster: 7 |#segments: 40 |segment length: 5.0\n",
            "disttuft |L: 304.0 |cluster length: 3.00990099009901 |# clusters: 101 |funcgrp length: 101.33333333333333 |# funcgrp: 3 |syns/cluster: 7 |#segments: 61 |segment length: 4.983606557377049\n",
            "axon has no exc synapses\n",
            "passivebasal has no exc synapses\n",
            "Distributing 406 inh synapses onto soma sections\n",
            "Distributing 5 inh synapses onto proxbasal sections\n",
            "Distributing 8 inh synapses onto midbasal sections\n",
            "Distributing 13 inh synapses onto distbasal sections\n",
            "Distributing 32 inh synapses onto proxtrunk sections\n",
            "Distributing 9 inh synapses onto oblique sections\n",
            "Distributing 14 inh synapses onto midtrunk sections\n",
            "disttrunk has no inh synapses\n",
            "Distributing 3 inh synapses onto proxtuft sections\n",
            "Distributing 13 inh synapses onto midtuft sections\n",
            "Distributing 20 inh synapses onto disttuft sections\n",
            "axon has no inh synapses\n",
            "passivebasal has no inh synapses\n",
            "It took 6 sec to define the simulation model.\n"
          ]
        }
      ],
      "source": [
        "#choose orientation of neuron\n",
        "# loc_param = [50,0,10,0,1,0]\n",
        "loc_param = [50,0,10,0,1,0]  # example position #D: initially this was [0,0,50,0.2,0.75,1.5], (x,y,z,theta,h,phi), h=[-1,1] phi=[-pi,pi] h=.7071067812 for 90 deg\n",
        "#note on parameters: Rotate(alpha,h,phi): first rotate alpha about y-axis (spin), then rotate arccos(h) about x-axis (elevation), then rotate phi about y axis (azimuth).\n",
        "\n",
        "\n",
        "# change geo_parameters from their default values #************************NOTE**********************: doesn't change the geometry values used in geom_iterrows & sec['parameter']\n",
        "                                                                                                       #(mainly when synapses are added using geom_parameters.csv);\n",
        "geo_param = [ # -1 uses default value                                                                  #better to edit the geom file to guarantee edits until the automation is fixed\n",
        "            #soma\n",
        "            -1  # radius\n",
        "        ]\n",
        "      \n",
        "      \n",
        "# example of changing biophysical parameters (check \"biophys_entries\" in \"Cell\" class for meaning, bounds can also be found there)\n",
        "#latest conductances from Detailed Model Updated 8/21/22\n",
        "#Ih may be off for apical sections; The detailed model axon shas only g_pas, but we have given the axon some conductances closer to the soma, and may need to change\n",
        "#also setting a conductance to 0.0 may throw some sort of error\n",
        "biophys = [0.0000338,0.0000467,0.0000589,0.0000589,0.0000589,0.0000325,0.0000467, # g_pas of soma, basal, midTrunk, distTrunk, tuft, axon, passiveBasal #passive basal was 0.00001\n",
        "                                    2.04,0.0213,0.0213,0.0213,0.0213,0.0,0.0, # gNaTa_t of soma, basal, midTrunk, distTrunk, tuft, axon, passiveBasal # axon was 2.89618\n",
        "                                    0.693,0.000261,0.000261,0.000261,0.000261,0.0,0.0, # gSKv3_1 of soma, basal, midTrunk, distTrunk, tuft, axon, passiveBasal #axon was 0.473799\n",
        "           \n",
        "                                    0.000992,0.0,0.0000555,(0.000555),.0000555,0.0,0.0,  # gCA_HVA of soma, basal, midTrunk, distTrunk, tuft, axon, passiveBasal #basal was 0.000992\n",
        "                                    0.00343,0.0,0.000187,(0.0187),0.000187,0.0,0.0, # gCA_LVAst of soma, basal, midTrunk, distTrunk, tuft, axon, passiveBasal\n",
        "                                    0.0000675,0.0000675,(0.0000675),0.0000675,0.0, # gIm of basal, midTrunk, distTrunk, tuft, axon\n",
        "           \n",
        "                                    460.0,122,122,122,122,277.300774,122, # decay_CaDynamics of soma, basal, midTrunk, distTrunk, tuft, axon, passiveBasal\n",
        "                                    0.000501,0.000509,0.000509,0.000509,0.000509,0.000525,0.000509, # gamma_CaDynamics of soma, basal, midTrunk, distTrunk, tuft, axon, passiveBasal\n",
        "                                    # 0.0002,0.0002,0.0002,0.0002,0.0002,0.0001,0.0002, # gIh of soma, basal, midTrunk, distTrunk, tuft, axon, passiveBasal\n",
        "                                    0.0002,0.0002,0.0009596,0.0029005,.006997745,0.0,0.0, # gIh of soma, basal, midTrunk, distTrunk, tuft, axon, passiveBasal #calculated from distribute_channels #if sectioning tuft do disttuft:0.0118268; midtuft:.006997745; proxtuft:.0047005526\n",
        "                                    0.0441,0.0012,0.0012,0.0012,0.0012,0.0, # gSk_E2 of soma, basal, midTrunk, distTrunk, tuft, axon\n",
        "                                    0.0812,0.0, # gK_Tst of soma, axon #axon was 0.077274\n",
        "                                    0.00223,0.0, # gK_Pst of soma, axon #axon was 0.188851\n",
        "                                    0.00172,0.0  # gNap_Et2 of soma, axon\n",
        "                                    ]\n",
        "timestart=time.time()\n",
        "sim = Simulation(geo_standard,elec_pos,loc_param,geo_param=geo_param,biophys=biophys,gmax=0.05,scale=100.,spike_threshold = 10, synaptic_input = True, RunType = 'Full Model')  # 0.001 -0.012 #gmax=.005, scale=100\n",
        "timestop=time.time()\n",
        "elapseddeftime=timestop-timestart\n",
        "simtime=tstop/1000 #convert from ms to s\n",
        "print('It took',round(elapseddeftime),'sec to define the simulation model.') #need to optomize input grouping # location check takes a long time since it iterates through checking a list of synapse locations for each group/cluster within the section"
      ]
    },
    {
      "cell_type": "code",
      "execution_count": null,
      "metadata": {
        "id": "D-pVYnX-gkUD"
      },
      "outputs": [],
      "source": [
        "sim.cells[0].all=sim.cells[0].allsections #change neuron SectionList object back to iterable List object"
      ]
    },
    {
      "cell_type": "code",
      "execution_count": null,
      "metadata": {
        "id": "EJHFXKDeZDtG"
      },
      "outputs": [],
      "source": [
        "axc=Record_Axial_Current(sim.cells[0].all[0])"
      ]
    },
    {
      "cell_type": "markdown",
      "metadata": {
        "id": "xcLbJpiEtmaw"
      },
      "source": [
        "##Track some model parameters"
      ]
    },
    {
      "cell_type": "code",
      "execution_count": null,
      "metadata": {
        "id": "HQapHXxtNB3Y"
      },
      "outputs": [],
      "source": [
        "SecD_list=[]\n",
        "for id,sec in sim.cells[0].geometry.iterrows():\n",
        "  sec_index_list=sim.cells[0].sec_id_lookup[id]\n",
        "  D = sec['R']*2\n",
        "  if sec['axial']:\n",
        "    SecD_list.append(D)\n",
        "  else:\n",
        "    SecD_list.append(D)\n",
        "    SecD_list.append(D)\n",
        "    SecD_list.append(D)\n",
        "    SecD_list.append(D)\n",
        "# print(SecD_list)\n",
        "\n",
        "SecL_list=[]\n",
        "for id,sec in sim.cells[0].geometry.iterrows():\n",
        "  sec_index_list=sim.cells[0].sec_id_lookup[id]\n",
        "  L = sec['L']\n",
        "  if sec['axial']:\n",
        "    SecL_list.append(L)\n",
        "  else:\n",
        "    SecL_list.append(L)\n",
        "    SecL_list.append(L)\n",
        "    SecL_list.append(L)\n",
        "    SecL_list.append(L)\n",
        "# print(SecL_list)"
      ]
    },
    {
      "cell_type": "markdown",
      "metadata": {
        "id": "ZOjUgsuOD8dQ"
      },
      "source": [
        "Record membrane voltage at initial/middle/end of the trunk and middle of the tuft to check the propagation."
      ]
    },
    {
      "cell_type": "code",
      "execution_count": null,
      "metadata": {
        "id": "GfdmtkklD8dR"
      },
      "outputs": [],
      "source": [
        "nseg = len(sim.cells[0].segments)\n",
        "# print(nseg)\n",
        "numTstep = int(h.tstop/h.dt)\n",
        "\n",
        "SegX = []\n",
        "\n",
        "seg_list = sim.cells[0].get_seg_by_id(range(nseg))\n",
        "#print(seg_list)\n",
        "\n",
        "Vrecord = []\n",
        "for i in range(len(seg_list)):\n",
        "     Vrecord.append(seg_list[i])\n",
        "     SegX.append(seg_list[i].x)\n",
        "\n",
        "dend_v = Recorder(Vrecord)"
      ]
    },
    {
      "cell_type": "code",
      "execution_count": null,
      "metadata": {
        "id": "NZHr4i-twgnb"
      },
      "outputs": [],
      "source": [
        "# get segment values\n",
        "def returnSegmentValues(section, secnum):\n",
        "    ##\n",
        "    \n",
        "    #Section naming\n",
        "    #Set impedance measurement location and frequency\n",
        "   \n",
        "    beta_zz = h.Impedance()\n",
        "    beta_zz.loc(sim.cells[0].get_sec_by_id([0])[0](0.5))\n",
        "    beta_zz.compute(24) #inj frequency, 0, beta: 20 or 24, gamma: 64 hz\n",
        "    gamma_zz = h.Impedance()\n",
        "    gamma_zz.loc(sim.cells[0].get_sec_by_id([0])[0](0.5))\n",
        "    gamma_zz.compute(64) #inj frequency, 0, beta: 20 or 24, gamma: 64 hz\n",
        "    \n",
        "\n",
        "    # Get section 3d coordinates and put in numpy array\n",
        "    n3d = section.n3d()\n",
        "    x3d = np.empty(n3d)\n",
        "    y3d = np.empty(n3d)\n",
        "    z3d = np.empty(n3d)\n",
        "    L = np.empty(n3d)\n",
        "    for i in range(n3d):\n",
        "        x3d[i]=section.x3d(i)\n",
        "        y3d[i]=section.y3d(i)\n",
        "        z3d[i]=section.z3d(i)\n",
        "\n",
        "    # Compute length of each 3d segment\n",
        "    for i in range(n3d):\n",
        "        if i==0:\n",
        "            L[i]=0\n",
        "        else:\n",
        "            L[i]=np.sqrt((x3d[i]-x3d[i-1])**2 + (y3d[i]-y3d[i-1])**2 + (z3d[i]-z3d[i-1])**2)\n",
        "\n",
        "    # Get cumulative length of 3d segments\n",
        "    cumLength = np.cumsum(L)\n",
        "    N = section.nseg\n",
        "    # Now upsample coordinates to segment locations\n",
        "    xCoord = np.empty(N)\n",
        "    yCoord = np.empty(N)\n",
        "    zCoord = np.empty(N)\n",
        "    B_Elec_distance = np.empty(N)\n",
        "    G_Elec_distance = np.empty(N)\n",
        "    SecNum = np.empty(N)\n",
        "    SecName = []\n",
        "    dist = np.empty(N)\n",
        "    Type = []\n",
        "    segdiams = np.empty(N)\n",
        "    X = np.empty(N)\n",
        "    apic = ['proxtrunk','oblique','midtrunk','disttrunk','proxtuft','midtuft','disttuft']\n",
        "    dend = ['soma','proxbasal','midbasal','distbasal','passivebasal','axon']  \n",
        "\n",
        "\n",
        "    if N > 1:\n",
        "      dx = section.L / (N-1)\n",
        "    else:\n",
        "      dx = section.L\n",
        "\n",
        "    #print(str(section))\n",
        "\n",
        "    if str(section) in apic:\n",
        "      #print(str(section) + ' is apic')\n",
        "      for n in range(N):\n",
        "        Type.append('apic')\n",
        "        \n",
        "    else: \n",
        "      #print(str(section) + ' is dend')\n",
        "      for n in range(N):\n",
        "        Type.append('dend')\n",
        "        \n",
        "\n",
        "    for n in range(N):\n",
        "\n",
        "      SecName.append('L5PCtemplate[0].'+ str(Type[0]) + '[' + str(secnum) + ']')\n",
        "\n",
        "      SecNum[n] = secnum\n",
        "      B_Elec_distance[n] = beta_zz.ratio(section((n*dx)/cumLength[1]))\n",
        "      G_Elec_distance[n] = gamma_zz.ratio(section((n*dx)/cumLength[1]))\n",
        "      dist[n] = h.distance(sim.cells[0].get_sec_by_id([0])[0](0.5), section((n*dx)/cumLength[1]))\n",
        "      segdiams[n] = h.distance(sim.cells[0].get_sec_by_id([0])[0](0.5), section((n*dx)/cumLength[1]))\n",
        "\n",
        "      if n==(N-1): \n",
        "          xCoord[n]=x3d[-1]\n",
        "          yCoord[n]=y3d[-1]\n",
        "          zCoord[n]=z3d[-1]\n",
        "      else:\n",
        "          cIdxStart = np.where(n*dx >= cumLength)[0][-1] # which idx of 3d segments are we starting at\n",
        "          cDistFrom3dStart = n*dx - cumLength[cIdxStart] # how far along that segment is this upsampled coordinate\n",
        "          cFraction3dLength = cDistFrom3dStart / L[cIdxStart+1] # what's the fractional distance along this 3d segment\n",
        "          # compute x and y positions\n",
        "          xCoord[n] = x3d[cIdxStart] + cFraction3dLength*(x3d[cIdxStart+1] - x3d[cIdxStart])\n",
        "          yCoord[n] = y3d[cIdxStart] + cFraction3dLength*(y3d[cIdxStart+1] - y3d[cIdxStart])\n",
        "          zCoord[n] = z3d[cIdxStart] + cFraction3dLength*(z3d[cIdxStart+1] - z3d[cIdxStart])\n",
        "            \n",
        "    return SecNum, xCoord, yCoord, zCoord, B_Elec_distance, dist, Type, SecName, L, G_Elec_distance"
      ]
    },
    {
      "cell_type": "code",
      "execution_count": null,
      "metadata": {
        "colab": {
          "base_uri": "https://localhost:8080/"
        },
        "id": "itVsa-4_tDh1",
        "outputId": "41e14e22-1bf8-4537-c1dc-48460552eaed"
      },
      "outputs": [
        {
          "output_type": "stream",
          "name": "stdout",
          "text": [
            "[soma[0], proxbasal[0].dend[0], proxbasal[1].dend[1], proxbasal[2].dend[2], proxbasal[3].dend[3], midbasal[0].dend[4], midbasal[1].dend[5], midbasal[2].dend[6], midbasal[3].dend[7], distbasal[0].dend[8], distbasal[1].dend[9], distbasal[2].dend[10], distbasal[3].dend[11], proxtrunk[0].apic[0], oblique[0].apic[1], oblique[1].apic[2], oblique[2].apic[3], oblique[3].apic[4], midtrunk[0].apic[5], disttrunk[0].apic[6], proxtuft[0].apic[7], proxtuft[1].apic[8], proxtuft[2].apic[9], proxtuft[3].apic[10], midtuft[0].apic[11], midtuft[1].apic[12], midtuft[2].apic[13], midtuft[3].apic[14], disttuft[0].apic[15], disttuft[1].apic[16], disttuft[2].apic[17], disttuft[3].apic[18], axon[0].axon[0], passivebasal[1], passivebasal[2], passivebasal[3], passivebasal[4]]\n"
          ]
        }
      ],
      "source": [
        "sec_list = sim.cells[0].get_sec_by_id(range(len(sim.cells[0].all)))\n",
        "print(sec_list)\n",
        "# print(nexus_segdist)\n",
        "# sim.cells[0].segments[nexus_seg]"
      ]
    },
    {
      "cell_type": "code",
      "execution_count": null,
      "metadata": {
        "id": "CwC0pIkj0hs2"
      },
      "outputs": [],
      "source": [
        "seccolors=['grey', #soma\n",
        "        'b','b','b','b', #proxbasal\n",
        "        'c','c','c','c', #midbasal\n",
        "        'g','g','g','g', #distbasal\n",
        "        'purple', #proxtrunk\n",
        "        'purple','purple','purple','purple', #oblique\n",
        "        'm', #midtrunk\n",
        "        'c', #disttrunk\n",
        "        'y','y','y','y', #proxtuft\n",
        "        'orange','orange','orange','orange', #midtuft\n",
        "        'r','r','r','r', #disttuft\n",
        "        'black', #axon\n",
        "        'purple','purple','purple','purple' #passivebasal\n",
        "        ]"
      ]
    },
    {
      "cell_type": "code",
      "execution_count": null,
      "metadata": {
        "id": "_5WIRT9kwz3c"
      },
      "outputs": [],
      "source": [
        "sec_list = sim.cells[0].get_sec_by_id(range(len(sim.cells[0].all)))\n",
        "\n",
        "section = []\n",
        "SectionXCoord = []\n",
        "SectionYCoord = []\n",
        "SectionZCoord = []\n",
        "SectionElecDist = []\n",
        "SectionDist = []\n",
        "SectionType = []\n",
        "SectionName = []\n",
        "\n",
        "AllSegSection = []\n",
        "AllSegXCoord = []\n",
        "AllSegYCoord = []\n",
        "AllSegZCoord = []\n",
        "AllSegBElecDist = []\n",
        "AllSegGElecDist = []\n",
        "AllSegDist = []\n",
        "AllSegType = []\n",
        "AllSegSecName = []\n",
        "AllSegLength = []\n",
        "\n",
        "probes=[]\n",
        "\n",
        "class probe():\n",
        "  def __init__(self,seg,sectionindex,sectionname,color,excspikes,inhspikes,section):\n",
        "    self.seg=seg\n",
        "    self.sectionindex=sectionindex\n",
        "    self.sectionname=sectionname\n",
        "    self.color=color\n",
        "    self.excsecspikes=excspikes\n",
        "    self.inhsecspikes=inhspikes\n",
        "    try:\n",
        "      self.axial_current=[Record_Axial_Current(section,single_seg=True)]\n",
        "    except:\n",
        "      print(section)\n",
        "\n",
        "for i in range(len(sec_list)):\n",
        "\n",
        "  section, SectionXCoord, SectionYCoord, SectionZCoord, SectionBElecDist, SectionDist, SectionType, SectionName, SegmentLength, SectionGElecDist = returnSegmentValues(sec_list[i], i)\n",
        "\n",
        "  AllSegSection.extend(section)\n",
        "  AllSegXCoord.extend(SectionXCoord)\n",
        "  AllSegYCoord.extend(SectionYCoord)\n",
        "  AllSegZCoord.extend(SectionZCoord)\n",
        "  AllSegBElecDist.extend(SectionBElecDist)\n",
        "  AllSegGElecDist.extend(SectionGElecDist)\n",
        "  AllSegDist.extend(SectionDist)\n",
        "  AllSegType.extend(SectionType)\n",
        "  #print(AllSegType)\n",
        "  AllSegSecName.extend(SectionName)\n",
        "  AllSegLength.extend(SegmentLength)\n",
        "  try:\n",
        "    seg = round(len(AllSegSection) - (len(section)/2))\n",
        "  except:\n",
        "    seg = 0\n",
        "  newprobe=probe(seg=seg,sectionindex=i,sectionname=str(sec_list[i]),color=seccolors[i],excspikes=sectionexcspikes[i],inhspikes=sectioninhspikes[i],section=sim.cells[0].all[i])\n",
        "  probes.append(newprobe)"
      ]
    },
    {
      "cell_type": "code",
      "execution_count": null,
      "metadata": {
        "colab": {
          "base_uri": "https://localhost:8080/"
        },
        "id": "mLzwvbhZBfkC",
        "outputId": "f0f6ab43-e2e2-495c-cc01-03bc5004c60a"
      },
      "outputs": [
        {
          "output_type": "stream",
          "name": "stdout",
          "text": [
            "37\n",
            "37\n"
          ]
        }
      ],
      "source": [
        "print(len(sectioninhspikes))\n",
        "print(len(sectionexcspikes))"
      ]
    },
    {
      "cell_type": "code",
      "execution_count": null,
      "metadata": {
        "id": "uQ1QOBprP-Jg"
      },
      "outputs": [],
      "source": [
        "gNaTa_T = Recorder(obj_list = sim.cells[0].segments, var_name = 'gNaTa_t_NaTa_t')\n",
        "ina = Recorder(obj_list = sim.cells[0].segments, var_name = 'ina_NaTa_t')\n",
        "ical = Recorder(obj_list = sim.cells[0].segments, var_name = 'ica_Ca_LVAst')\n",
        "icah = Recorder(obj_list = sim.cells[0].segments, var_name = 'ica_Ca_HVA')\n",
        "ih = Recorder(obj_list = sim.cells[0].segments, var_name = 'ihcn_Ih')"
      ]
    },
    {
      "cell_type": "code",
      "execution_count": null,
      "metadata": {
        "id": "3KCkJ7hOgNPi"
      },
      "outputs": [],
      "source": [
        "# im = Recorder(obj_list = sim.cells[0].segments, var_name = 'ik_Im')"
      ]
    },
    {
      "cell_type": "markdown",
      "metadata": {
        "id": "naCyjEjCZlaJ"
      },
      "source": [
        "##Run the simulation"
      ]
    },
    {
      "cell_type": "code",
      "execution_count": null,
      "metadata": {
        "colab": {
          "base_uri": "https://localhost:8080/"
        },
        "id": "r5sG9sfQD8dR",
        "outputId": "33136258-9fa8-4ee9-8c78-408e00caa1aa"
      },
      "outputs": [
        {
          "output_type": "stream",
          "name": "stdout",
          "text": [
            "It took 21 sec to run a 1.0 sec simulation.\n",
            "Inflation Factor: 20.865466594696045\n",
            "The total runtime was 27 sec\n"
          ]
        }
      ],
      "source": [
        "timestart=time.time()\n",
        "sim.run()\n",
        "timestop=time.time()\n",
        "lfp = sim.get_lfp().T\n",
        "t = sim.t()\n",
        "elapsedtime=timestop-timestart\n",
        "simtime=tstop/1000 #convert from ms to s\n",
        "totaltime= elapsedtime+elapseddeftime\n",
        "print('It took',round(elapsedtime),'sec to run a',simtime,'sec simulation.')\n",
        "print('Inflation Factor:',elapsedtime/simtime)\n",
        "print('The total runtime was',round(totaltime),'sec')"
      ]
    },
    {
      "cell_type": "code",
      "execution_count": null,
      "metadata": {
        "colab": {
          "base_uri": "https://localhost:8080/"
        },
        "id": "y_6whKdekmMo",
        "outputId": "c1e071a7-9c44-4aa5-a83c-3dd2d1b54eec"
      },
      "outputs": [
        {
          "output_type": "stream",
          "name": "stdout",
          "text": [
            "The number of synapses in the detailed model is  29028\n",
            "The number of synapses in the reduced-order model is 4020\n",
            "The number of synapses has been reduced by 0.8615130219098801 %\n",
            "\n",
            "The number of segments in the detailed model is  2526\n",
            "The number of segments in the reduced-order model is 895\n",
            "The number of segments has been reduced by a factor of 0.6456848772763262 %\n"
          ]
        }
      ],
      "source": [
        "#compare to detailed model (detail model values subject to change)\n",
        "detailed_syns=29028\n",
        "detailed_segs=2526\n",
        "print('The number of synapses in the detailed model is ',detailed_syns)\n",
        "print('The number of synapses in the reduced-order model is',len(sim.cells[0].injection))\n",
        "try: syn_reduce = (len(sim.cells[0].injection)/detailed_syns)\n",
        "except: syn_reduce = 0\n",
        "print('The number of synapses has been reduced by',1-syn_reduce,'%')\n",
        "print()\n",
        "print('The number of segments in the detailed model is ',detailed_segs)\n",
        "print('The number of segments in the reduced-order model is',len(sim.cells[0].segments))\n",
        "seg_reduce = (len(sim.cells[0].segments)/detailed_segs)\n",
        "print('The number of segments has been reduced by a factor of',(1-seg_reduce),'%')\n",
        "\n",
        "# Ben's detailed L5\n",
        "# Excitatory: 16070 on apical dendrites (2.16 syns/um * 7440 um)\n",
        "# 10042 (2.16 syns/um * 4649 um) on basal dendrites. \n",
        "# Inhibitory: 150 on soma  (Egger et al., 2020; Markram et al., 2015; Reimann et al., 2015) + (0.22 syns/um *483 um) = 256 perisomatic, \n",
        "# 1637 (0.22 syns/um * 7440 um)  on apical dendrites, \n",
        "# 1023 (0.22 syns/um * 4649 um) on basal dendrites.\n",
        "\n",
        "# total is 29028\n",
        "\n",
        "#note: \n",
        "# Ben's apical to basal length & apical to basal synapse ratio is 1.6003 (7440um/4649um)"
      ]
    },
    {
      "cell_type": "markdown",
      "metadata": {
        "id": "A8n02xODZvnE"
      },
      "source": [
        "##Retrieve Data"
      ]
    },
    {
      "cell_type": "code",
      "execution_count": null,
      "metadata": {
        "id": "xWvmyClbKids"
      },
      "outputs": [],
      "source": [
        "numSyn = len(sim.cells[0].injection)\n",
        "\n",
        "excSynPerSeg = [0]*nseg\n",
        "inhSynPerSeg = [0]*nseg\n",
        "excSynPerSegL = [0]*nseg\n",
        "inhSynPerSegL = [0]*nseg\n",
        "SynParentSeg = []\n",
        "SourcePop = []\n",
        "SynType = []\n",
        "SynDist = []\n",
        "\n",
        "i_NMDA_bySeg= [[0] * (numTstep+1) ] * nseg\n",
        "\n",
        "#print(len(sim.cells[0].injection))\n",
        "\n",
        "for j in range(numSyn):\n",
        "  seg = sim.cells[0].injection[j].get_segment_id() \n",
        "  SynParentSeg.append(seg)\n",
        "  SynType.append(AllSegType[seg])\n",
        "  SynDist.append(AllSegDist[seg])\n",
        "\n",
        "  if(sim.cells[0].injection[j].syntype == 'exc'):\n",
        "    excSynPerSeg[seg] += 1\n",
        "    SourcePop.append('exc_stim')\n",
        "  else:\n",
        "    inhSynPerSeg[seg] += 1\n",
        "    SourcePop.append('dist_inh_stim')\n",
        "\n",
        "  try:\n",
        "    i_NMDA = np.array(sim.cells[0].injection[j].rec_vec.vec_list[1])            #current = numpy array of NEURON Vector of current NMDA current at synapse j  \n",
        "    seg = sim.cells[0].injection[j].get_segment_id()                            #seg = the segment in which synapse j is located \n",
        "    #print('first try')\n",
        "    \n",
        "    try:\n",
        "      i_NMDA_bySeg[seg] = i_NMDA_bySeg[seg] + i_NMDA    \n",
        "      #print('second try')                                           #Sum current over each segment\n",
        "    except: \n",
        "      x = j                                                                     #Except needed as some synpases do not have NMDA currrent and throw an error when called\n",
        "  except:\n",
        "    x = j"
      ]
    },
    {
      "cell_type": "code",
      "execution_count": null,
      "metadata": {
        "colab": {
          "base_uri": "https://localhost:8080/"
        },
        "id": "iK9zKC4OteRc",
        "outputId": "36a8b2b2-540b-49da-9a64-ae6b7c56f3c1"
      },
      "outputs": [
        {
          "output_type": "execute_result",
          "data": {
            "text/plain": [
              "895"
            ]
          },
          "metadata": {},
          "execution_count": 23
        }
      ],
      "source": [
        "len(sim.cells[0].injection)\n",
        "len(AllSegType)"
      ]
    },
    {
      "cell_type": "code",
      "execution_count": null,
      "metadata": {
        "id": "MX5DyU1aTvaZ"
      },
      "outputs": [],
      "source": [
        "# print(dir(sim.cells[0].injection[0]))\n",
        "\n",
        "syn_dist_list = []\n",
        "gmax_list = []\n",
        "P_0_list = []\n",
        "synapse_sec_list = []\n",
        "SynName = []\n",
        "\n",
        "for i in range(len(sim.cells[0].injection)):\n",
        "  syn_dist_list.append(sim.cells[0].injection[i].loc)\n",
        "  gmax_list.append(sim.cells[0].injection[i].gmax)\n",
        "  P_0_list.append(sim.cells[0].injection[i].P_0)\n",
        "  synapse_sec_list.append(sim.cells[0].injection[i].sec_index)\n",
        "\n",
        "  SynName.append('L5PCtemplate[0].'+ str(SynType[i]) +'[' + str(synapse_sec_list[i]) + '](' + str(syn_dist_list[i]) + ')')\n",
        "\n",
        "\n",
        "#L5PCtemplate[0].dend[60](0.264706)\n",
        "# print(len(syn_dist_list))\n",
        "# print(len(gmax_list))\n",
        "# print(len(P_0_list))\n",
        "# print(len(synapse_sec_list))\n",
        "# print(len(SynName))"
      ]
    },
    {
      "cell_type": "code",
      "execution_count": null,
      "metadata": {
        "id": "VebhRLZCEdfY"
      },
      "outputs": [],
      "source": [
        "ih_data = ih.as_numpy()\n",
        "gNaTa_T_data = gNaTa_T.as_numpy()\n",
        "ina_data = ina.as_numpy()\n",
        "icah_data = icah.as_numpy()\n",
        "ical_data = ical.as_numpy()\n",
        "v_dend = dend_v.as_numpy()\n",
        "# im_data = im.as_numpy()"
      ]
    },
    {
      "cell_type": "code",
      "execution_count": null,
      "metadata": {
        "colab": {
          "base_uri": "https://localhost:8080/"
        },
        "id": "QcsOFAbzJcQ7",
        "outputId": "908a5bcd-fa19-4912-81a0-2c987c44d59c"
      },
      "outputs": [
        {
          "output_type": "stream",
          "name": "stdout",
          "text": [
            "8.0\n"
          ]
        }
      ],
      "source": [
        "spikes = sim.get_spike_time()\n",
        "\n",
        "#spikes = [500]\n",
        "print(len(spikes)* (1000/tstop))"
      ]
    },
    {
      "cell_type": "markdown",
      "metadata": {
        "id": "ODexguuC7qE9"
      },
      "source": [
        "## File Output"
      ]
    },
    {
      "cell_type": "code",
      "execution_count": null,
      "metadata": {
        "id": "D5vMlPFZLrga"
      },
      "outputs": [],
      "source": [
        "def createsegtracereport(reportname,dataname):\n",
        "  try:\n",
        "    os.remove(reportname) # reportname was string \" \"\n",
        "  except:\n",
        "    x = 1\n",
        "\n",
        "  f = h5py.File(reportname,'w') #create a file in the w (write) mode #reportname was string ' '\n",
        "  v = f.create_dataset(\"report/biophysical/data\", data = dataname)\n",
        "  f.close()"
      ]
    },
    {
      "cell_type": "code",
      "execution_count": null,
      "metadata": {
        "id": "-35L9bVixrC9"
      },
      "outputs": [],
      "source": [
        "segID = list(range(nseg))"
      ]
    },
    {
      "cell_type": "code",
      "execution_count": null,
      "metadata": {
        "id": "D-4aV1i0sKZB"
      },
      "outputs": [],
      "source": [
        "# Check segment parameters to debug\n",
        "\n",
        "# print(len(segID))\n",
        "# print(len(SegX))\n",
        "# print(len(AllSegType))\n",
        "# print(len(AllSegSection))\n",
        "# print(len(AllSegDist))\n",
        "# print(len(AllSegXCoord))\n",
        "# print(len(AllSegYCoord))"
      ]
    },
    {
      "cell_type": "code",
      "execution_count": null,
      "metadata": {
        "colab": {
          "base_uri": "https://localhost:8080/"
        },
        "id": "DgSUi8_c-pKB",
        "outputId": "6724e05e-a187-4bc7-9a1a-3ca3dfe682cf"
      },
      "outputs": [
        {
          "output_type": "stream",
          "name": "stdout",
          "text": [
            "No L5Segments.csv to remove.\n"
          ]
        }
      ],
      "source": [
        "#Segments.csv\n",
        "\n",
        "try:\n",
        "  os.remove(\"L5Segments.csv\")\n",
        "except:\n",
        "  print('No L5Segments.csv to remove.')\n",
        "\n",
        "# BMTK ID: segment ID\n",
        "# X: Normalized distance of segment along parent section \n",
        "# Type: apic, basal, soma \n",
        "# Sec ID: section ID of segment's parent section\n",
        "# Distance: path distance of segment from soma\n",
        "# Coord X/Y/Z: 3D coordinates \n",
        "# Elec_distance: Elcectrotonic distance\n",
        "\n",
        "#segments_data = {'BMTK ID':[segID],'X':[SegX],'Type':[AllSegType],'Sec ID':[AllSegSection],'Distance':[AllSegDist],'Coord X':[AllSegXCoord],'Coord Y':[AllSegYCoord],'Coord Z':[AllSegZCoord],'Elec_distance':[AllSegElecDist]}\n",
        "#segments = pd.DataFrame(segments_data, columns = ['BMTK ID','X','Type','Sec ID','Distance','Coord X','Coord Y','Coord Z','Elec_distance'])\n",
        "\n",
        "\n",
        "segments = pd.DataFrame({'segmentID':segID,'X':SegX,'Type':AllSegType,'Sec ID':AllSegSection,'Distance':AllSegDist,'Coord X':AllSegXCoord,'Coord Y':AllSegYCoord,'Coord Z':AllSegZCoord,'Elec_distance':AllSegGElecDist})\n",
        "\n",
        "segments.to_csv('L5Segments.csv', index = False)"
      ]
    },
    {
      "cell_type": "code",
      "execution_count": null,
      "metadata": {
        "colab": {
          "base_uri": "https://localhost:8080/"
        },
        "id": "C8SdgajEWjck",
        "outputId": "af147287-21f5-4365-bb9a-4e16ca5e0106"
      },
      "outputs": [
        {
          "output_type": "stream",
          "name": "stdout",
          "text": [
            "No ReducedL5Segments.csv to remove.\n",
            "ReducedSegmentDegrees.csv not already in directory. Creating file now.\n"
          ]
        }
      ],
      "source": [
        "# def save_degrees(cell):\n",
        "#     degrees = {}\n",
        "#     calculate_degree(h.SectionRef(sec=cell.soma), degrees, 0)\n",
        "\n",
        "#     df_dict = {}\n",
        "#     df_dict[\"SectionName\"] = list(degrees.keys())\n",
        "#     df_dict[\"Degrees\"] = list(degrees.values())\n",
        "    \n",
        "#     df = pd.DataFrame(df_dict)\n",
        "#     try:\n",
        "#       os.remove(\"ReducedSegmentDegrees.csv\")\n",
        "#     except:\n",
        "#       print('No ReducedSegmentDegrees.csv to remove.')\n",
        "#     df.to_csv(\"ReducedSegmentDegrees.csv\", index=False)\n",
        "\n",
        "# def calculate_degree(sref, degrees, deg):\n",
        "#     degrees[sref.sec.name()] = deg\n",
        "\n",
        "#     for c in sref.child:\n",
        "#         calculate_degree(h.SectionRef(sec=c), degrees, deg+1)\n",
        "\n",
        "# def make_seg_df(cell):\n",
        "#     secdegrees=pd.read_csv('ReducedSegmentDegrees.csv')\n",
        "#     df = pd.DataFrame()\n",
        "#     i = 0\n",
        "#     j = 0\n",
        "#     sec_types_bysec=[]\n",
        "#     lens = []\n",
        "#     seg_lens = []\n",
        "#     diams = []\n",
        "#     segdiams = []\n",
        "#     bmtk_ids = []\n",
        "#     seg_ids = []\n",
        "#     sec_ids = []\n",
        "#     full_names = []\n",
        "#     xs = []\n",
        "#     parts = []\n",
        "#     distances = []\n",
        "#     elec_distances = []\n",
        "#     elec_distances_nexus = []\n",
        "#     h.distance(sec=cell.all[0])\n",
        "#     nsegs=[]\n",
        "#     RAs=[]\n",
        "#     Parentx=[]\n",
        "#     zz = h.Impedance()\n",
        "#     zz.loc(cell.all[0](0.5))\n",
        "#     zz.compute(25)\n",
        "#     ww = h.Impedance()\n",
        "#     ww.loc(cell.all[19](0.5)) #disttrunk\n",
        "#     ww.compute(25)\n",
        "#     psegids=[]\n",
        "#     segments=[]\n",
        "#     sections=[]\n",
        "#     fullsecnames=[]\n",
        "#     seg_degrees=[]\n",
        "#     apic = ['proxtrunk','midtrunk','disttrunk','proxtuft','midtuft','disttuft','oblique']\n",
        "#     dend = ['proxbasal','midbasal','distbasal']\n",
        "\n",
        "#     for sec in cell.all:\n",
        "#         print(sec.name)\n",
        "#         for seg in sec:\n",
        "\n",
        "#             lens.append(seg.sec.L)\n",
        "#             seg_lens.append(seg.sec.L/seg.sec.nseg)\n",
        "#             diams.append(seg.sec.diam)\n",
        "#             segdiams.append(seg.diam)\n",
        "#             distances.append(h.distance(seg))\n",
        "#             bmtk_ids.append(i)\n",
        "#             seg_ids.append(j)\n",
        "#             xs.append(seg.x)\n",
        "#             fullsecname = sec.name()\n",
        "#             fullsecnames.append(fullsecname)\n",
        "#             degree=secdegrees.loc[secdegrees.SectionName==fullsecname]['Degrees']\n",
        "#             seg_degrees.append(int(degree))\n",
        "#             if str(fullsecname)=='soma':\n",
        "#               sec_type = 'soma'\n",
        "#             elif str(fullsecname) in apic:\n",
        "#               sec_type = 'apic'\n",
        "#             elif str(fullsecname) in dend:\n",
        "#               sec_type = 'dend'\n",
        "#             else:\n",
        "#               sec_type = str(fullsecname)\n",
        "#             sec_id=sec_types_bysec.count(sec_type)\n",
        "#             sec_ids.append(sec_id)\n",
        "#             nsegs.append(seg.sec.nseg)\n",
        "#             RAs.append(seg.sec.Ra)\n",
        "#             parts.append(sec_type)\n",
        "#             full_names.append(str(seg))\n",
        "#             elec_distances.append(zz.ratio(seg))\n",
        "#             elec_distances_nexus.append(ww.ratio(seg))\n",
        "#             #if seg.sec.parentseg() is not None:\n",
        "#               #get parentseg coordinates or something to identify parentseg by\n",
        "#             j += 1\n",
        "#             segments.append(seg)\n",
        "#         sec_types_bysec.append(sec_type)\n",
        "#         i += 1\n",
        "#         sections.append(sec)\n",
        "#     #print(segments)\n",
        "#     for i in range(len(segments)): #calculate parentseg id using seg index on section\n",
        "#       idx = int(np.floor(segments[i].x * segments[i].sec.nseg)) #get seg index on section\n",
        "#       #case where segment is not first segment on section:\n",
        "#       if idx != 0: #if the segment is not the first on the section then the parent segment is the previous segment index\n",
        "#         psegid=i-1 #set parent segment id to the previous segment index\n",
        "#         psegids.append(psegid)\n",
        "#       #case where segment is first segment on section:\n",
        "#       else:\n",
        "#         pseg = segments[i].sec.parentseg()\n",
        "#         if pseg == None:\n",
        "#           psegids.append(None)\n",
        "#         else:\n",
        "#           psec=pseg.sec\n",
        "#           nseg = psec.nseg\n",
        "#           pidx = int(np.floor(pseg.x * nseg)) #get parent seg index on section\n",
        "#           if pseg.x == 1.:\n",
        "#             pidx -= 1\n",
        "#           psegid=segments.index(psec((pidx + .5) / nseg)) #find the segment id of the parent seg by comparing with segment list after calculating the parent seg's section(x)\n",
        "#           psegids.append(psegid)\n",
        "\n",
        "\n",
        "    # numSyn = len(cell.injection)\n",
        "    # nseg = len(sim.cells[0].segments)\n",
        "    # excSynPerSeg = [0]*nseg\n",
        "    # inhSynPerSeg = [0]*nseg\n",
        "    # excSynPerSegL = [0]*nseg\n",
        "    # inhSynPerSegL = [0]*nseg\n",
        "    # SynParentSeg = []\n",
        "    # SourcePop = []\n",
        "    # SynType = []\n",
        "    # SynDist = []\n",
        "\n",
        "    # i_NMDA_bySeg= [[0] * (numTstep+1) ] * nseg\n",
        "\n",
        "    # #print(len(sim.cells[0].injection))\n",
        "\n",
        "    # for j in range(numSyn):\n",
        "    #   seg = cell.injection[j].get_segment_id() \n",
        "    #   SynParentSeg.append(seg)\n",
        "    #   SynType.append(AllSegType[seg])\n",
        "    #   SynDist.append(AllSegDist[seg])\n",
        "\n",
        "    #   if(cell.injection[j].syntype == 'exc'):\n",
        "    #     excSynPerSeg[seg] += 1\n",
        "    #     SourcePop.append('exc_stim')\n",
        "    #   else:\n",
        "    #     inhSynPerSeg[seg] += 1\n",
        "    #     SourcePop.append('dist_inh_stim')\n",
        "#     df[\"segmentID\"] = seg_ids\n",
        "#     df[\"BMTK ID\"] = bmtk_ids\n",
        "#     df[\"Seg_L\"] = seg_lens\n",
        "#     df[\"Seg_diam\"] = segdiams\n",
        "#     df[\"X\"] = xs\n",
        "#     df[\"Type\"] = parts\n",
        "#     df[\"Sec ID\"] = sec_ids\n",
        "#     df[\"Distance\"] = distances\n",
        "#     df[\"Section_L\"] = lens\n",
        "#     df[\"Section_diam\"] = diams\n",
        "#     df[\"Section_nseg\"] = nsegs\n",
        "#     df[\"Section_Ra\"] = RAs\n",
        "#     df[\"Coord X\"] = AllSegXCoord\n",
        "#     df[\"Coord Y\"] = AllSegYCoord\n",
        "#     df[\"Coord Z\"] = AllSegZCoord\n",
        "#     df[\"ParentSegID\"] = psegids\n",
        "#     df[\"Elec_distance\"] = elec_distances\n",
        "#     df[\"Elec_distance_nexus\"] = elec_distances\n",
        "#     df[\"Sec Name\"] = fullsecnames\n",
        "#     df['Degrees']=seg_degrees\n",
        "#     df['num_syns_exc']=excSynPerSeg\n",
        "#     df['num_syns_inh']=inhSynPerSeg\n",
        "\n",
        "\n",
        "#     df.to_csv(\"ReducedSegments.csv\", index=False)\n",
        "# try:\n",
        "#   os.remove(\"ReducedSegments.csv\")\n",
        "# except:\n",
        "#   print('No ReducedL5Segments.csv to remove.')\n",
        "\n",
        "try:\n",
        "  os.remove(\"ReducedSegments.csv\")\n",
        "except:\n",
        "  print('No ReducedL5Segments.csv to remove.')\n",
        "\n",
        "save_degrees(sim.cells[0])\n",
        "make_seg_df(sim.cells[0])"
      ]
    },
    {
      "cell_type": "code",
      "execution_count": null,
      "metadata": {
        "id": "2_rUKhXzWjcl"
      },
      "outputs": [],
      "source": [
        "secdegrees=pd.read_csv('ReducedSegmentDegrees.csv')\n",
        "degree=secdegrees.loc[secdegrees.SectionName=='proxtuft']['Degrees']\n",
        "# print(int(degree))"
      ]
    },
    {
      "cell_type": "code",
      "execution_count": null,
      "metadata": {
        "id": "1Cvs4Geeh7Lm"
      },
      "outputs": [],
      "source": [
        "import matplotlib as matplotlib"
      ]
    },
    {
      "cell_type": "code",
      "execution_count": null,
      "metadata": {
        "colab": {
          "base_uri": "https://localhost:8080/",
          "height": 580
        },
        "id": "2mbmylNXWjcn",
        "outputId": "553426b0-ba66-4578-e143-884df654d52f"
      },
      "outputs": [
        {
          "output_type": "display_data",
          "data": {
            "text/plain": [
              "<Figure size 288x720 with 2 Axes>"
            ],
            "image/png": "[encoded data removed]"
          },
          "metadata": {
            "needs_background": "light"
          }
        }
      ],
      "source": [
        "segs = pd.read_csv('ReducedSegments.csv')\n",
        "plt.figure(figsize=(4,10))\n",
        "ax = plt.scatter(segs['Coord X'], segs['Coord Y'],c=100*segs['Elec_distance'],s=4,cmap='jet',norm=matplotlib.colors.LogNorm())\n",
        "plt.vlines(110,400,500)\n",
        "plt.text(0,450,'100 um')\n",
        "plt.hlines(400,110,210)\n",
        "plt.text(110,350,'100 um')\n",
        "plt.xticks([])\n",
        "plt.yticks([])\n",
        "cbar = plt.colorbar()\n",
        "cbar.ax.set_ylabel('Percentage of Somatic signal', rotation=270)\n",
        "\n",
        "#ax2.ax.set_title('log(elec_distance)',rotation=270)\n",
        "plt.box(False)\n",
        "plt.savefig('Elec_distance.svg')"
      ]
    },
    {
      "cell_type": "code",
      "execution_count": null,
      "metadata": {
        "id": "N0YN6wI9XSRO"
      },
      "outputs": [],
      "source": [
        "Degrees = [0] * (nseg-1)"
      ]
    },
    {
      "cell_type": "code",
      "execution_count": null,
      "metadata": {
        "id": "nSkunehwVKQ1"
      },
      "outputs": [],
      "source": [
        "#SegmentsDegrees\n",
        "\n",
        "try:\n",
        "  os.remove(\"SegmentsDegrees.csv\")\n",
        "except:\n",
        "  x = 1\n",
        "\n",
        "#segmentsDegrees_data = {'SectionName':[AllSegSecName],'BMTK ID':[segID],'X':[SegX],'Type':[AllSegType],'Sec ID':[AllSegSection],'Distance':[AllSegDist],'Coord X':[AllSegXCoord],'Coord Y':[AllSegYCoord],'Coord Z':[AllSegZCoord],'Degrees':[Degrees]}\n",
        "#segmentsDegrees = pd.DataFrame(segmentsDegrees_data, columns = ['SectionName','BMTK ID','X','Type','Sec ID','Distance','Coord X','Coord Y','Coord Z','Degrees'])\n",
        "\n",
        "# print(len(AllSegSecName))\n",
        "# print(len(segID))\n",
        "# print(len(SegX))\n",
        "# print(len(AllSegType))\n",
        "# print(len(AllSegDist))\n",
        "# print(len(AllSegXCoord))\n",
        "# print(len(AllSegYCoord))\n",
        "# print(len(AllSegZCoord))\n",
        "# print(len(Degrees))\n",
        "\n",
        "\n",
        "segmentsDegrees = pd.DataFrame({'SectionName': AllSegSecName,'BMTK ID': segID ,'X': SegX ,'Type': AllSegType ,'Sec ID': AllSegSection ,'Distance': AllSegDist ,'Coord X': AllSegXCoord ,'Coord Y': AllSegYCoord,'Coord Z': AllSegZCoord,'Degrees': segID })\n",
        "\n",
        "segmentsDegrees.to_csv('SegmentsDegrees.csv', index = False)"
      ]
    },
    {
      "cell_type": "code",
      "execution_count": null,
      "metadata": {
        "id": "MC9IgBpGWjcp"
      },
      "outputs": [],
      "source": [
        "#create new output folder\n",
        "output_folder='output_control'+str(tstop)\n",
        "cwd = os.getcwd() #get current directory\n",
        "target_dir = cwd +'/'+output_folder # desired forward name + current directory for new folder location and name\n",
        "if os.path.exists(target_dir)==False: #if the directory does not exist\n",
        "    os.mkdir(target_dir)"
      ]
    },
    {
      "cell_type": "code",
      "execution_count": null,
      "metadata": {
        "id": "wOYw0v_rO5v9"
      },
      "outputs": [],
      "source": [
        "# %cd output_control\n"
      ]
    },
    {
      "cell_type": "code",
      "execution_count": null,
      "metadata": {
        "id": "BHsvKrW97FEG"
      },
      "outputs": [],
      "source": [
        "#Connections.csv\n",
        "\n",
        "\n",
        "try:\n",
        "  os.remove('/'+output_folder+'/Connections.csv')\n",
        "except:\n",
        "  x = 1\n",
        "\n",
        "# Node ID: Segment ID of synapse's parent segment\n",
        "# Distance: Path distance from soma (using same dist as parent segment)\n",
        "# Conductance: G_max of syn\n",
        "# Type: apic, basal, soma\n",
        "# Name: L5PCtemplate[0].(Type)[(Sec ID)]((Normalized distance along section))\n",
        "# Source Population: exititory or inhibitory\n",
        "# Release Probability: Release porbablity at time 0 \n",
        "\n",
        "# connections_data = {'Node ID':[SynParentSeg],'Distance':[SynDist],'Conductance':[gmax_list],'Type':[SynType],'Name':[SynName],'Source Population':[SourcePop],'Release Probability':[P_0_list]}\n",
        "\n",
        "# # Create the pandas DataFrame with column name is provided explicitly\n",
        "# connections = pd.DataFrame(connections_data , columns=['Node ID','Distance','Conductance','Type','Name','Source Population','Release Probability'])\n",
        "\n",
        "connections = pd.DataFrame({'Node ID':SynParentSeg,'Distance':SynDist,'Conductance':gmax_list,'Type':SynType,'Name':SynName,'Source Population':SourcePop,'Release Probability':P_0_list})\n",
        "\n",
        "connections.to_csv(output_folder+'/Connections.csv', index = False)\n"
      ]
    },
    {
      "cell_type": "code",
      "execution_count": null,
      "metadata": {
        "id": "Dt3CGM5kwJjL"
      },
      "outputs": [],
      "source": [
        "#print(i_NMDA_bySeg)\n",
        "i_NMDA_df = pd.DataFrame(i_NMDA_bySeg) * 1000\n"
      ]
    },
    {
      "cell_type": "code",
      "execution_count": null,
      "metadata": {
        "id": "QuKWt7GCL5QO"
      },
      "outputs": [],
      "source": [
        "createsegtracereport(output_folder+'/v_report.h5', v_dend.T)\n",
        "createsegtracereport(output_folder+'/Ca_HVA.ica_report.h5',icah_data.T)\n",
        "createsegtracereport(output_folder+'/Ca_LVAst.ica_report.h5',ical_data.T)\n",
        "createsegtracereport(output_folder+'/Ih.ihcn_report.h5',ih_data.T)\n",
        "createsegtracereport(output_folder+'/inmda_report.h5',i_NMDA_df.T)\n",
        "createsegtracereport(output_folder+'/NaTa_t.gNaTa_t_report.h5',gNaTa_T_data.T)\n",
        "createsegtracereport(output_folder+'/NaTa_t.ina_report.h5',ina_data.T)"
      ]
    },
    {
      "cell_type": "code",
      "execution_count": null,
      "metadata": {
        "id": "_CLevH4Mw_f_"
      },
      "outputs": [],
      "source": [
        "try:\n",
        "  os.remove(output_folder+\"spikes.h5\")\n",
        "except:\n",
        "  x = 1\n",
        "\n",
        "f = h5py.File(output_folder+'/spikes.h5','w') #create a file in the w (write) mode\n",
        "v = f.create_dataset(\"spikes/biophysical/timestamps\", data = spikes)\n",
        "\n",
        "f.close()"
      ]
    },
    {
      "cell_type": "code",
      "execution_count": null,
      "metadata": {
        "id": "rdkwjn_snADY"
      },
      "outputs": [],
      "source": [
        "# %cd .."
      ]
    },
    {
      "cell_type": "code",
      "execution_count": null,
      "metadata": {
        "id": "kHSl2xSnmG6N"
      },
      "outputs": [],
      "source": [
        "def plot_elec_dist(ElecDist,title,filename):\n",
        "  plt.figure(figsize=(4,10))\n",
        "  ax = plt.scatter(AllSegXCoord, AllSegYCoord, c = np.log(ElecDist) )\n",
        "  plt.vlines(110,300,400)\n",
        "  plt.text(0,350,'100 um')\n",
        "  plt.hlines(300,110,210)\n",
        "  plt.text(110,250,'100 um')\n",
        "  plt.xticks([])\n",
        "  plt.yticks([])\n",
        "  plt.title(title)\n",
        "  cbar = plt.colorbar()\n",
        "  cbar.ax.set_ylabel('log(elec_distance)', rotation=270)\n",
        "  plt.box(False)\n",
        "  plt.savefig('Plots/SROL5Plots/'+filename)"
      ]
    },
    {
      "cell_type": "markdown",
      "metadata": {
        "id": "XDZ_2-Kr7yKS"
      },
      "source": [
        "## Plots"
      ]
    },
    {
      "cell_type": "code",
      "execution_count": null,
      "metadata": {
        "id": "c9IbbTVnXu8I"
      },
      "outputs": [],
      "source": [
        "# print(AllSegLength)"
      ]
    },
    {
      "cell_type": "code",
      "execution_count": null,
      "metadata": {
        "id": "uotJimV9pQQS"
      },
      "outputs": [],
      "source": [
        "# len(AllSegLength)"
      ]
    },
    {
      "cell_type": "code",
      "execution_count": null,
      "metadata": {
        "id": "LXdklDwCWE3g"
      },
      "outputs": [],
      "source": [
        "# excSynPerUM=np.zeros(nseg)\n",
        "# for seg in range(nseg-1):\n",
        "#   excSynPerUM[seg]=excSynPerSeg[seg]/AllSegLength[seg]\n",
        "# print(excSynPerUM)"
      ]
    },
    {
      "cell_type": "code",
      "execution_count": null,
      "metadata": {
        "id": "5YE9ZhEN9i-Z"
      },
      "outputs": [],
      "source": [
        "def plotSynDensity(SynPerSeg):\n",
        "  plt.figure(figsize=(4,10))\n",
        "  ax = plt.scatter(AllSegXCoord, AllSegYCoord,c = SynPerSeg[0:nseg],cmap='jet',)\n",
        "  plt.vlines(110,400,500)\n",
        "  plt.text(0,450,'100 um')\n",
        "  plt.hlines(400,110,210)\n",
        "  plt.text(110,350,'100 um')\n",
        "  plt.xticks([])\n",
        "  plt.yticks([])\n",
        "  cbar = plt.colorbar()\n",
        "  cbar.ax.set_ylabel('Synapses per segment', rotation=270)\n",
        "\n",
        "  plt.box(False)\n",
        "  plt.savefig('Plots/SROL5Plots/exc_syns.svg')\n",
        "\n",
        "def plotSynDensityNoSoma(SynPerSeg):\n",
        "  plt.figure(figsize=(4,10))\n",
        "  ax = plt.scatter(AllSegXCoord[1:], AllSegYCoord[1:],c = SynPerSeg[1:nseg],cmap='jet',)\n",
        "  plt.vlines(110,400,500)\n",
        "  plt.text(0,450,'100 um')\n",
        "  plt.hlines(400,110,210)\n",
        "  plt.text(110,350,'100 um')\n",
        "  plt.xticks([])\n",
        "  plt.yticks([])\n",
        "  cbar = plt.colorbar()\n",
        "  cbar.ax.set_ylabel('Synapses per segment', rotation=270)\n",
        "\n",
        "  plt.box(False)\n",
        "  plt.savefig('Plots/SROL5Plots/inh_syns.svg')"
      ]
    },
    {
      "cell_type": "code",
      "execution_count": null,
      "metadata": {
        "id": "b37kdwHQunEX"
      },
      "outputs": [],
      "source": [
        "#for plotting morphology\n",
        "seccolors = ['g',       #soma\n",
        "'yellow',  #proxbasal\n",
        "'orange',  #midbasal\n",
        "'red',     #distbasal\n",
        "'yellow',  #proxtrunk\n",
        "'purple',  #oblique\n",
        "'blue',    #midtrunk\n",
        "'green',   #disttrunk\n",
        "'yellow',  #proxtuft\n",
        "'orange',  #midtuft\n",
        "'red',     #disttuft\n",
        "'c',       #axon\n",
        "'black']  #passivebasal\n",
        "# 'black' #passivetuft"
      ]
    },
    {
      "cell_type": "code",
      "execution_count": null,
      "metadata": {
        "colab": {
          "base_uri": "https://localhost:8080/"
        },
        "id": "d0huQgiDJcY_",
        "outputId": "1a76730d-aed3-407e-f0ca-16a352bdcb6d"
      },
      "outputs": [
        {
          "output_type": "stream",
          "name": "stdout",
          "text": [
            "[0.]\n"
          ]
        }
      ],
      "source": [
        "x_dist = np.unique(elec_pos[:, 0])  # unique x coordinates of electrode array (columns)\n",
        "print(x_dist)\n",
        "\n",
        "ix = 1  # select a column\n",
        "y_window = [-1000, 1000]  # select range of y coordinate for plotting"
      ]
    },
    {
      "cell_type": "markdown",
      "metadata": {
        "id": "dubIYbPwnbTv"
      },
      "source": [
        "Axial Current From Nexus to Tuft:\n",
        "\n",
        "Try:\n",
        "Subplot next to the voltage traces\n",
        "axial current going other way"
      ]
    },
    {
      "cell_type": "code",
      "execution_count": null,
      "metadata": {
        "id": "iOUNxc4y0Ocw"
      },
      "outputs": [],
      "source": [
        "def plot_axial_current(axial_current,title):\n",
        "  dend_types = axial_current[0].dend_type\n",
        "  plt.figure(figsize=(12.8, 4.8))\n",
        "  for i,AC in enumerate(axial_current):\n",
        "      ac = AC.get_current()\n",
        "      for dend_type in dend_types:\n",
        "          plt.plot(t,ac[dend_type].ravel(),label=dend_type)\n",
        "      plt.ylabel('nA')\n",
        "      plt.legend()\n",
        "      plt.title(title)\n",
        "      plt.xlabel('time (ms)')\n",
        "  plt.show()"
      ]
    },
    {
      "cell_type": "code",
      "execution_count": null,
      "metadata": {
        "id": "A_dmVX8gH7Xn"
      },
      "outputs": [],
      "source": [
        "# plot_axial_current(MidTrunk_axial_current,'Axial current from Midtrunk with synaptic input')"
      ]
    },
    {
      "cell_type": "code",
      "execution_count": null,
      "metadata": {
        "id": "VfyDTrrp0pCb"
      },
      "outputs": [],
      "source": [
        "# plot_axial_current(Nexus_axial_current,'Axial current from Nexus with synaptic input')"
      ]
    },
    {
      "cell_type": "code",
      "execution_count": null,
      "metadata": {
        "id": "KJEwAYY03tZg"
      },
      "outputs": [],
      "source": [
        "# plot_axial_current(Soma_axial_current,'Axial current from Soma with synaptic input') # figure out how to plot these currents individually. & maybe plot the soma membrane voltage"
      ]
    },
    {
      "cell_type": "markdown",
      "metadata": {
        "id": "PlPSdO9snobG"
      },
      "source": [
        "##Plotting Voltage Traces"
      ]
    },
    {
      "cell_type": "markdown",
      "metadata": {
        "id": "8xrO_HL9nWqn"
      },
      "source": [
        "Try to subplot currents next to the voltage traces"
      ]
    },
    {
      "cell_type": "code",
      "execution_count": null,
      "metadata": {
        "colab": {
          "base_uri": "https://localhost:8080/"
        },
        "id": "teYTlxdmAaVU",
        "outputId": "c531a842-0300-4801-85f6-0e53a280a66e"
      },
      "outputs": [
        {
          "output_type": "execute_result",
          "data": {
            "text/plain": [
              "20"
            ]
          },
          "metadata": {},
          "execution_count": 55
        }
      ],
      "source": [
        "z=np.zeros((20,t.shape[0]))\n",
        "len(z)"
      ]
    },
    {
      "cell_type": "markdown",
      "metadata": {
        "id": "eg7JSzN_9ePy"
      },
      "source": [
        "### Functions"
      ]
    },
    {
      "cell_type": "code",
      "execution_count": null,
      "metadata": {
        "id": "_9USogleC7gy"
      },
      "outputs": [],
      "source": [
        "def get_probe(probe):\n",
        "  name=str(probe.sectionname)+str(probe.sectionindex)\n",
        "  segment=probe.seg\n",
        "  color=probe.color\n",
        "  excsecspikes=probe.excsecspikes\n",
        "  inhsecspikes=probe.inhsecspikes\n",
        "  return name,segment,color,excsecspikes,inhsecspikes\n",
        "\n",
        "def plot_spikes(spikes,title):\n",
        "    nTrace = len(spikes)\n",
        "    z = np.zeros((nTrace,t.shape[0])) # Z is a nTrace by t.shape[0] matrix of 0's\n",
        "    for i in np.arange(0,z.shape[0]):\n",
        "      plt.plot(spikes[i],np.ones((spikes[i].shape[0]))*i,'k.')\n",
        "    plt.ylabel('node ID')\n",
        "    plt.title(title)\n",
        "\n",
        "def plot_trace(segment,color,title,data):\n",
        "  plt.plot(np.arange(0,((h.tstop)+.1),.1),data[segment],color=color)\n",
        "  plt.hlines(-60,0,tstop, color = 'grey', linestyle = 'dashed')\n",
        "  plt.hlines(-40,0,tstop, color = 'grey', linestyle = 'dashed')\n",
        "  plt.hlines(0,0,tstop, color = 'grey', linestyle = 'dashed')\n",
        "  plt.text(2,3,'0 mV')\n",
        "  plt.hlines(-10,50,70)\n",
        "  plt.vlines(50,-10,0)\n",
        "  plt.text(50,-15,'10 ms')\n",
        "  plt.text(2,-5,'10 mV')\n",
        "  plt.text(2,-37,'-40 mV')\n",
        "  plt.text(2,-57,'-60 mV')\n",
        "  plt.title(title)\n",
        "  plt.box(False)\n",
        "  plt.xticks([])\n",
        "  plt.yticks([])\n",
        "\n",
        "def plot_voltage_trace(probe,title=None,savename=None):\n",
        "  name,segment,color,excsecspikes,inhsecspikes=get_probe(probe)\n",
        "  if savename==None:\n",
        "    savename=name+'_Voltage.png'\n",
        "  if title==None:\n",
        "    title=name+' Voltage'\n",
        "  plt.figure(figsize=(15,4))\n",
        "  plot_trace(segment,color,title,data=v_dend)\n",
        "  plt.savefig('Plots/SROL5Plots/'+savename)\n",
        "\n",
        "def plot_voltage_trace_lastsecond(probe,title=None,savename=None):\n",
        "  name,segment,color,excsecspikes,inhsecspikes=get_probe(probe)\n",
        "  if savename==None:\n",
        "    savename=name+'_Voltage.png'\n",
        "  if title==None:\n",
        "    title=name+' Voltage'\n",
        "  plt.figure(figsize=(15,4))\n",
        "  v=v_dend[segment]\n",
        "  plt.plot(np.arange(h.tstop-1000,(h.tstop+h.dt/2),h.dt),v[int((h.tstop-1000)/h.dt)::],color=color)\n",
        "  plt.hlines(-60,tstop-1000,tstop, color = 'grey', linestyle = 'dashed')\n",
        "  plt.hlines(-40,tstop-1000,tstop, color = 'grey', linestyle = 'dashed')\n",
        "  plt.hlines(0,tstop-1000,tstop, color = 'grey', linestyle = 'dashed')\n",
        "  plt.text(2+tstop-1000,3,'0 mV')\n",
        "  plt.hlines(-10,50+tstop-1000,70+tstop-1000)\n",
        "  plt.vlines(50+tstop-1000,-10,0)\n",
        "  plt.text(50+tstop-1000,-15,'10 ms')\n",
        "  plt.text(2+tstop-1000,-5,'10 mV')\n",
        "  plt.text(2+tstop-1000,-37,'-40 mV')\n",
        "  plt.text(2+tstop-1000,-57,'-60 mV')\n",
        "  plt.title(title)\n",
        "  plt.box(False)\n",
        "  plt.xticks([])\n",
        "  plt.yticks([])\n",
        "  plt.savefig('Plots/SROL5Plots/'+savename)\n",
        "\n",
        "  \n",
        "def plot_voltage_trace_last500ms(probe,title=None,savename=None,color=None):\n",
        "  if color==None:\n",
        "    name,segment,color,excsecspikes,inhsecspikes=get_probe(probe)\n",
        "  else:\n",
        "    name,segment,notcolor,excsecspikes,inhsecspikes=get_probe(probe)\n",
        "  duration=500\n",
        "  if savename==None:\n",
        "    savename=name+'_Voltage.png'\n",
        "  if title==None:\n",
        "    title=name+' Voltage'\n",
        "  plt.figure(figsize=(15,4))\n",
        "  v=v_dend[segment]\n",
        "  plt.plot(np.arange(h.tstop-duration,(h.tstop+h.dt/2),h.dt),v[int((h.tstop-duration)/h.dt)::],color=color)\n",
        "  plt.hlines(-60,tstop-duration,tstop, color = 'grey', linestyle = 'dashed')\n",
        "  plt.hlines(-40,tstop-duration,tstop, color = 'grey', linestyle = 'dashed')\n",
        "  plt.hlines(0,tstop-duration,tstop, color = 'grey', linestyle = 'dashed')\n",
        "  plt.text(2+tstop-duration,3,'0 mV')\n",
        "  plt.hlines(-10,50+tstop-duration,150+tstop-duration)\n",
        "  plt.vlines(50+tstop-duration,-10,0)\n",
        "  plt.text(50+tstop-duration,-15,'100 ms')\n",
        "  plt.text(2+tstop-duration,-5,'10 mV')\n",
        "  plt.text(2+tstop-duration,-37,'-40 mV')\n",
        "  plt.text(2+tstop-duration,-57,'-60 mV')\n",
        "  plt.title(title)\n",
        "  plt.box(False)\n",
        "  plt.xticks([])\n",
        "  plt.yticks([])\n",
        "  plt.savefig('Plots/SROL5Plots/'+savename)\n",
        "\n",
        "def subplot_voltagetrace_withspikes(probe):\n",
        "  name,segment,color,excsecspikes,inhsecspikes=get_probe(probe)\n",
        "  savename=name+'.png'\n",
        "  plt.figure(figsize=(15,12))\n",
        "  plt.subplot(3,1,1)\n",
        "  title=name+' Voltage Trace'\n",
        "  plot_trace(segment,color,title,data=v_dend[segment])\n",
        "\n",
        "  t = np.arange(0,tstop,0.1)# t is an array with values ranging from 0 to t_stop with increment 0.1\n",
        "\n",
        "  plt.subplot(3,1,2)\n",
        "  title=name+' Exc Spike Trains'\n",
        "  plot_spikes(excsecspikes,title)\n",
        "\n",
        "  plt.subplot(3,1,3)\n",
        "  title=name+' Inh Spike Trains'\n",
        "  plot_spikes(inhsecspikes,title)\n",
        "  plt.xlabel('time(ms)')\n",
        "  plt.savefig('Plots/SROL5Plots/'+savename)\n",
        "\n",
        "def subplot_voltagetrace_with1spikes(probe):\n",
        "  name,segment,color,excsecspikes,inhsecspikes=get_probe(probe)\n",
        "  savename=name+'.png'\n",
        "  plt.figure(figsize=(15,8))\n",
        "  plt.subplot(2,1,1)\n",
        "  title=name+' Voltage Trace'\n",
        "  plot_trace(segment,color,title,data=v_dend[segment])\n",
        "  t = np.arange(0,tstop,0.1)# t is an array with values ranging from 0 to t_stop with increment 0.1\n",
        "\n",
        "  plt.subplot(2,1,2)\n",
        "  if inhsecspikes==[]:\n",
        "    title=name+' Exc Spike Trains'\n",
        "    plot_spikes(excsecspikes,title)\n",
        "  else:\n",
        "    title=name+' Inh Spike Trains'\n",
        "    plot_spikes(inhsecspikes,title)\n",
        "  plt.xlabel('time(ms)')\n",
        "  plt.savefig('Plots/SROL5Plots/'+savename)\n",
        "\n",
        "#plot spikes and voltage in same plot?\n",
        "# def plot_voltagetrace_withspikes(probe):\n",
        "#   #work in progress: plotting spikes and voltage trace in the same plot\n",
        "#   plot_voltage_trace(probe)\n",
        "#   nTrace = len(probe.excspikes)\n",
        "#   t = np.arange(0,tstop,0.1)\n",
        "#     # t is an array with values ranging from 0 to t_stop with increment 0.1\n",
        "#   z = np.zeros((nTrace,t.shape[0]))\n",
        "#     # Z is a nTrace by t.shape[0] matrix of 0's\n",
        "#   for i in np.arange(0,z.shape[0]):\n",
        "#       plt.plot(probe.excspikes[i],np.ones((probe.excspikes[i].shape[0]))*i,'k.',color='r')\n",
        "#     # figure out how to make a heatmap with spikes\n",
        "#     # ax = plt.scatter(AllSegXCoord, AllSegYCoord, c = np.log(ElecDist) )\n",
        "#     # plt.vlines(110,300,400)\n",
        "#     # plt.text(0,350,'100 um')\n",
        "#     # plt.hlines(300,110,210)\n",
        "#     # plt.text(110,250,'100 um')\n",
        "#     # plt.xticks([])\n",
        "#     # plt.yticks([])\n",
        "#     # plt.title(title)\n",
        "#     # cbar = plt.colorbar()\n",
        "#     # cbar.ax.set_ylabel('log(elec_distance)', rotation=270)\n",
        "#     # plt.box(False)\n",
        "\n",
        "\n",
        "def plot_current_trace(probe,title,savename,data):\n",
        "  plt.figure(figsize=(15,4))\n",
        "  plt.plot(np.arange(0,((h.tstop)+.1),.1),data[probe.seg],color=probe.color)\n",
        "  plt.hlines(0,0,tstop, color = 'grey', linestyle = 'dashed')\n",
        "  plt.title(title)\n",
        "  plt.box(False)\n",
        "  plt.xticks([])\n",
        "  plt.yticks([])\n",
        "  plt.savefig('Plots/SROL5Plots/'+savename)\n",
        "\n",
        "def plot_iCaLVA(probe):\n",
        "  name,segment,color,excsecspikes,inhsecspikes=get_probe(probe)\n",
        "  title=name+' iCaLVA'\n",
        "  savename=name+'_iCaLVa.png'\n",
        "  plot_current_trace(segment,color,title,savename,data=ical_data)\n",
        "\n",
        "def plot_iH(probe):\n",
        "  name,segment,color,excsecspikes,inhsecspikes=get_probe(probe)\n",
        "  title=name+' iH'\n",
        "  savename=name+'_iH.png'\n",
        "  plot_current_trace(segment,color,title,savename,data=ih_data)\n",
        "\n",
        "def plot_iNMDA(probe):\n",
        "  name,segment,color,excsecspikes,inhsecspikes=get_probe(probe)\n",
        "  title=name+' iNMDA'\n",
        "  savename=name+'_iNMDA.png'\n",
        "  plot_current_trace(segment,color,title,savename,data=i_NMDA_bySeg)\n",
        "\n",
        "def plot_iCaHVA(probe):\n",
        "  name,segment,color,excsecspikes,inhsecspikes=get_probe(probe)\n",
        "  title=name+' iCaHVA'\n",
        "  savename=name+'_iCaHVa.png'\n",
        "  plot_current_trace(probe=probe,title=title,savename=savename,data=icah_data)\n",
        "\n",
        "def plot_axial_current(probe):\n",
        "  name,segment,color,excsecspikes,inhsecspikes=get_probe(probe)\n",
        "  axial_current=probe.axial_current\n",
        "  title=name+' Axial Current'\n",
        "  dend_types = axial_current[0].dend_type\n",
        "  plt.figure(figsize=(12.8, 4.8))\n",
        "  for i,AC in enumerate(axial_current):\n",
        "      ac = AC.get_current()\n",
        "      for dend_type in dend_types:\n",
        "          plt.plot(t,ac[dend_type].ravel(),label=dend_type)\n",
        "      plt.ylabel('nA')\n",
        "      plt.legend()\n",
        "      plt.title(title)\n",
        "      plt.xlabel('time (ms)')\n",
        "  plt.show()\n",
        "\n",
        "def overlay_axial_current(probes):\n",
        "  plt.figure(figsize=(12.8, 4.8))\n",
        "  for probe in probes:\n",
        "    name,segment,color,excsecspikes,inhsecspikes=get_probe(probe)\n",
        "    axial_current=probe.axial_current\n",
        "    title=name+' Axial Current'\n",
        "    dend_types = axial_current[0].dend_type\n",
        "    plt.figure(figsize=(12.8, 4.8))\n",
        "    for i,AC in enumerate(axial_current):\n",
        "        ac = AC.get_current()\n",
        "        for dend_type in dend_types:\n",
        "            plt.plot(t,ac[dend_type].ravel(),label=dend_type)\n",
        "        plt.ylabel('nA')\n",
        "        plt.legend()\n",
        "        plt.title(title)\n",
        "        plt.xlabel('time (ms)')\n",
        "  plt.show()\n",
        "\n",
        "def overlay_voltage_trace_last500ms(probe,title=None,savename=None,color=None):\n",
        "  if color==None:\n",
        "    name,segment,color,excsecspikes,inhsecspikes=get_probe(probe)\n",
        "  else:\n",
        "    name,segment,notcolor,excsecspikes,inhsecspikes=get_probe(probe)\n",
        "  duration=500\n",
        "  if savename==None:\n",
        "    savename=name+'_Voltage.png'\n",
        "  if title==None:\n",
        "    title=name+' Voltage'\n",
        "  v=v_dend[segment]\n",
        "  plt.plot(np.arange(h.tstop-duration,(h.tstop+h.dt/2),h.dt),v[int((h.tstop-duration)/h.dt)::],color=color)\n",
        "  plt.hlines(-60,tstop-duration,tstop, color = 'grey', linestyle = 'dashed')\n",
        "  plt.hlines(-40,tstop-duration,tstop, color = 'grey', linestyle = 'dashed')\n",
        "  plt.hlines(0,tstop-duration,tstop, color = 'grey', linestyle = 'dashed')\n",
        "  plt.text(2+tstop-duration,3,'0 mV')\n",
        "  plt.hlines(-10,50+tstop-duration,150+tstop-duration)\n",
        "  plt.vlines(50+tstop-duration,-10,0)\n",
        "  plt.text(50+tstop-duration,-15,'100 ms')\n",
        "  plt.text(2+tstop-duration,-5,'10 mV')\n",
        "  plt.text(2+tstop-duration,-37,'-40 mV')\n",
        "  plt.text(2+tstop-duration,-57,'-60 mV')\n",
        "  plt.title(title)\n",
        "  plt.box(False)\n",
        "  plt.xticks([])\n",
        "  plt.yticks([])\n",
        "  plt.savefig('Plots/SROL5Plots/'+savename)"
      ]
    },
    {
      "cell_type": "code",
      "execution_count": null,
      "metadata": {
        "id": "l4Y_3ndcS21q"
      },
      "outputs": [],
      "source": [
        "# disttuftprobes=[]\n",
        "# for i in disttufts:\n",
        "#   disttuftprobes.append(probes[i])\n",
        "# overlay_axial_current(disttuftprobes)"
      ]
    },
    {
      "cell_type": "code",
      "execution_count": null,
      "metadata": {
        "id": "85xgkhSGetkI"
      },
      "outputs": [],
      "source": [
        "# dir(probes[0].axial_current[0])"
      ]
    },
    {
      "cell_type": "code",
      "execution_count": null,
      "metadata": {
        "id": "bogo0wkRzt6F"
      },
      "outputs": [],
      "source": [
        "# %cd Plots"
      ]
    },
    {
      "cell_type": "code",
      "execution_count": null,
      "metadata": {
        "id": "TQaZlTTTWZXh"
      },
      "outputs": [],
      "source": [
        "# plot_elec_dist(AllSegBElecDist,'Beta Electrotonic Distance','Beta_Elec_distance.svg')"
      ]
    },
    {
      "cell_type": "code",
      "execution_count": null,
      "metadata": {
        "id": "YuYn_uT7Wf9L"
      },
      "outputs": [],
      "source": [
        "# plot_elec_dist(AllSegGElecDist,'Gamma Electrotonic Distance','Gamma_Elec_distance.svg')"
      ]
    },
    {
      "cell_type": "markdown",
      "metadata": {
        "id": "8M6YIMxl9i3z"
      },
      "source": [
        "### Synaptic Densities"
      ]
    },
    {
      "cell_type": "code",
      "execution_count": null,
      "metadata": {
        "colab": {
          "base_uri": "https://localhost:8080/",
          "height": 580
        },
        "id": "n4wVK2QaWGGD",
        "outputId": "4019ce67-214e-46cf-adec-d6243243ec7b"
      },
      "outputs": [
        {
          "output_type": "display_data",
          "data": {
            "text/plain": [
              "<Figure size 288x720 with 2 Axes>"
            ],
            "image/png": "[encoded data removed]"
          },
          "metadata": {
            "needs_background": "light"
          }
        }
      ],
      "source": [
        "plotSynDensity(excSynPerSeg)"
      ]
    },
    {
      "cell_type": "code",
      "execution_count": null,
      "metadata": {
        "colab": {
          "base_uri": "https://localhost:8080/",
          "height": 584
        },
        "id": "Ax4CgzOBWHct",
        "outputId": "cd94e360-ad9b-49ac-db3e-2b099152335a"
      },
      "outputs": [
        {
          "output_type": "display_data",
          "data": {
            "text/plain": [
              "<Figure size 288x720 with 2 Axes>"
            ],
            "image/png": "[encoded data removed]"
          },
          "metadata": {
            "needs_background": "light"
          }
        }
      ],
      "source": [
        "plotSynDensityNoSoma(inhSynPerSeg) #soma has too many inh synapses that the heatmap is not useful"
      ]
    },
    {
      "cell_type": "markdown",
      "metadata": {
        "id": "t9bRvJVs9pdQ"
      },
      "source": [
        "### Probe Locations"
      ]
    },
    {
      "cell_type": "code",
      "execution_count": null,
      "metadata": {
        "colab": {
          "base_uri": "https://localhost:8080/",
          "height": 575
        },
        "id": "rPrhSeq0Vgta",
        "outputId": "348f5f6f-e4ed-486e-fe1b-0c456b595985"
      },
      "outputs": [
        {
          "output_type": "display_data",
          "data": {
            "text/plain": [
              "<Figure size 216x720 with 1 Axes>"
            ],
            "image/png": "[encoded data removed]"
          },
          "metadata": {}
        }
      ],
      "source": [
        "plt.figure(figsize=(3,10))\n",
        "ax = plt.plot(AllSegXCoord, AllSegYCoord,'.',color='k',markersize=6)\n",
        "plt.vlines(110,400,500)\n",
        "plt.text(0,450,'100 um')\n",
        "plt.hlines(400,110,210)\n",
        "plt.text(110,350,'100 um')\n",
        "plt.xticks([])\n",
        "plt.yticks([])\n",
        "plt.box(False)\n",
        "\n",
        "for i in range(len(probes)):\n",
        "  plt.plot(AllSegXCoord[probes[i].seg],\n",
        "         AllSegYCoord[probes[i].seg],\n",
        "         '*',color=probes[i].color)\n",
        "plt.savefig('Plots/Probe Locations.png')"
      ]
    },
    {
      "cell_type": "code",
      "execution_count": null,
      "metadata": {
        "id": "2KzWToZcmtl5"
      },
      "outputs": [],
      "source": [
        "#for plotting morphology\n",
        "seccolors = ['g',       #soma\n",
        "'yellow','yellow','yellow','yellow',  #proxbasal\n",
        "'orange','orange','orange','orange',  #midbasal\n",
        "'red','red','red','red',     #distbasal\n",
        "'yellow',  #proxtrunk\n",
        "'purple','purple','purple','purple',  #oblique\n",
        "'blue',    #midtrunk\n",
        "'green',   #disttrunk\n",
        "'yellow','yellow','yellow','yellow',  #proxtuft\n",
        "'orange','orange','orange','orange',  #midtuft\n",
        "'red','red','red','red',     #disttuft\n",
        "'c',       #axon\n",
        "'black','black','black','black']  #passivebasal\n",
        "# 'black' #passivetuft"
      ]
    },
    {
      "cell_type": "code",
      "execution_count": null,
      "metadata": {
        "id": "BV3dtXyz7F3G"
      },
      "outputs": [],
      "source": [
        "soma=[0]\n",
        "proxbasal=range(1,5)\n",
        "midbasal=range(5,9)\n",
        "distbasal=range(9,13)\n",
        "proxtrunk=[13]\n",
        "obliques=range(14,18)\n",
        "midtrunk=[18]\n",
        "disttrunk=[19]\n",
        "proxtufts=range(20,24)\n",
        "midtufts=range(24,28)\n",
        "disttufts=range(28,32)\n",
        "axon=[32]\n",
        "passivebasal=range(33,37)\n",
        "\n",
        "# for i in range(len(sim.cells.all)): #assemble seccolors array\n",
        "#   if i in soma:\n",
        "#     seccolors[i]='g'\n",
        "#   elif i in proxbasal:\n",
        "\n",
        "#corresponds to section indices in this list.\n",
        "#print(sec_list)"
      ]
    },
    {
      "cell_type": "code",
      "execution_count": null,
      "metadata": {
        "id": "QvjsXMQVaRwh"
      },
      "outputs": [],
      "source": [
        "# dir(probes[0].axial_current)"
      ]
    },
    {
      "cell_type": "code",
      "execution_count": null,
      "metadata": {
        "id": "O4S7bDGOg_Zd"
      },
      "outputs": [],
      "source": [
        "# len(probes[10].axial_current)"
      ]
    },
    {
      "cell_type": "code",
      "execution_count": null,
      "metadata": {
        "id": "eQSwJl45Qw7s"
      },
      "outputs": [],
      "source": [
        "# dir(probes[0])"
      ]
    },
    {
      "cell_type": "code",
      "execution_count": null,
      "metadata": {
        "id": "u6ccOFjnQghK"
      },
      "outputs": [],
      "source": [
        "# for i in range(len(probes)):\n",
        "#   print(probes[i].sectionname)"
      ]
    },
    {
      "cell_type": "markdown",
      "metadata": {
        "id": "OQT_b6saWjc1"
      },
      "source": [
        "Axial Current Plots"
      ]
    },
    {
      "cell_type": "code",
      "execution_count": null,
      "metadata": {
        "id": "Mh5rgYvrRxaD"
      },
      "outputs": [],
      "source": [
        "# for i in range(len(probes)):\n",
        "#   if probes[i].sectionname=='proxtuft':\n",
        "#     plot_axial_current(probes[i])"
      ]
    },
    {
      "cell_type": "code",
      "execution_count": null,
      "metadata": {
        "id": "NbDCk9Fz_9hb"
      },
      "outputs": [],
      "source": [
        "# #Plot All\n",
        "# for i in range(len(probes)):\n",
        "#   # import pdb; pdb.set_trace()\n",
        "#   plot_axial_current(probes[i])"
      ]
    },
    {
      "cell_type": "code",
      "execution_count": null,
      "metadata": {
        "colab": {
          "base_uri": "https://localhost:8080/"
        },
        "id": "m10i9Jwhjfcw",
        "outputId": "90bcf5c1-8b61-4430-af64-1a3f76cdb300"
      },
      "outputs": [
        {
          "output_type": "stream",
          "name": "stdout",
          "text": [
            "37\n"
          ]
        }
      ],
      "source": [
        "print(len(seccolors))"
      ]
    },
    {
      "cell_type": "code",
      "execution_count": null,
      "metadata": {
        "id": "wUkttolJl8bT"
      },
      "outputs": [],
      "source": [
        "for i in range(len(sim.cells[0].all)-len(seccolors)):\n",
        "  seccolors.append('b')"
      ]
    },
    {
      "cell_type": "code",
      "execution_count": null,
      "metadata": {
        "colab": {
          "base_uri": "https://localhost:8080/",
          "height": 700
        },
        "id": "Dpp9tWm4RPy4",
        "outputId": "3b66e999-413d-4342-da77-3fc95d7f2244"
      },
      "outputs": [
        {
          "output_type": "display_data",
          "data": {
            "text/plain": [
              "<Figure size 720x864 with 1 Axes>"
            ],
            "image/png": "[encoded data removed]"
          },
          "metadata": {
            "needs_background": "light"
          }
        },
        {
          "output_type": "display_data",
          "data": {
            "text/plain": [
              "<Figure size 432x288 with 0 Axes>"
            ]
          },
          "metadata": {}
        }
      ],
      "source": [
        "plot_morphology(sim,electrodes=elec_pos,elev=-10, azim=20, figsize=(10,12), clr = seccolors)\n",
        "plt.savefig('Morphology.png')"
      ]
    },
    {
      "cell_type": "markdown",
      "metadata": {
        "id": "902uDQOUWjc2"
      },
      "source": [
        "Voltage Traces"
      ]
    },
    {
      "cell_type": "code",
      "execution_count": null,
      "metadata": {
        "colab": {
          "base_uri": "https://localhost:8080/",
          "height": 575
        },
        "id": "3K1Px0GSWjc3",
        "outputId": "77be2431-cc97-48f8-ffa6-d7dde492ddf9"
      },
      "outputs": [
        {
          "output_type": "display_data",
          "data": {
            "text/plain": [
              "<Figure size 216x720 with 1 Axes>"
            ],
            "image/png": "[encoded data removed]"
          },
          "metadata": {}
        }
      ],
      "source": [
        "# #sfn plot\n",
        "# plot_voltage_trace_last500ms(probes[0],title='Soma Voltage',savename='SomaVoltage.png',color='black')\n",
        "# # plot_voltage_trace_last500ms(probes[disttrunk[0]],title='Nexus Voltage',savename='NexusVoltage.png')\n",
        "# plot_voltage_trace_last500ms(probes[proxtufts[0]],title='Proximal Tuft Dendrite Voltage',savename='ProxTuftVoltage.png',color='green')\n",
        "# plot_voltage_trace_last500ms(probes[obliques[0]],title='Oblique Dendrite Voltage',savename='ObliqueVoltage.png',color='blue')\n",
        "# plot_voltage_trace_last500ms(probes[distbasal[0]],title='Distal Basal Dendrite Voltage',savename='DistBasalVoltage.png',color='orange')\n",
        "# plot_voltage_trace_last500ms(probes[midbasal[0]],title='Middle Basal Dednrite Voltage',savename='MidBasalVoltage.png',color='grey')\n",
        "# plot_voltage_trace_last500ms(probes[proxtrunk[0]],title='Proximal Trunk Voltage',savename='ProxTrunkVoltage.png',color='purple')\n",
        "# # plot_voltage_trace_last500ms(probes[midtufts[0]],title='Middle Tuft Dendrite Voltage',savename='MidTuftVoltage.png')\n",
        "# plot_voltage_trace_last500ms(probes[disttufts[0]],title='Distal Tuft Dendrite Voltage',savename='DistTuftVoltage.png',color='red')\n",
        "colorlist=['black','green','blue','orange','grey','purple','red']\n",
        "probeslist=[probes[0],probes[proxtufts[0]],probes[obliques[0]],probes[distbasal[0]],probes[midbasal[0]],probes[proxtrunk[0]],probes[disttufts[0]]]\n",
        "plt.figure(figsize=(3,10))\n",
        "ax = plt.plot(AllSegXCoord, AllSegYCoord,'.',color='k',markersize=6)\n",
        "plt.vlines(110,400,500)\n",
        "plt.text(0,450,'100 um')\n",
        "plt.hlines(400,110,210)\n",
        "plt.text(110,350,'100 um')\n",
        "plt.xticks([])\n",
        "plt.yticks([])\n",
        "plt.box(False)\n",
        "\n",
        "for i in range(len(probeslist)):\n",
        "  plt.plot(AllSegXCoord[probeslist[i].seg],\n",
        "         AllSegYCoord[probeslist[i].seg],\n",
        "         '*',color=colorlist[i])\n",
        "plt.savefig('ProbeLocations.png')"
      ]
    },
    {
      "cell_type": "code",
      "execution_count": null,
      "metadata": {
        "colab": {
          "base_uri": "https://localhost:8080/",
          "height": 264
        },
        "id": "QhpOWSzHWjc3",
        "outputId": "be649d17-b027-4158-f457-401813723788"
      },
      "outputs": [
        {
          "output_type": "display_data",
          "data": {
            "text/plain": [
              "<Figure size 1080x288 with 1 Axes>"
            ],
            "image/png": "[encoded data removed]"
          },
          "metadata": {}
        }
      ],
      "source": [
        "plot_iCaHVA(probes[midtufts[0]])"
      ]
    },
    {
      "cell_type": "code",
      "execution_count": null,
      "metadata": {
        "colab": {
          "base_uri": "https://localhost:8080/",
          "height": 1000
        },
        "id": "bXsdo1hcWjc3",
        "outputId": "e78a91df-8c05-4899-d3d9-0b8dafeb5381"
      },
      "outputs": [
        {
          "output_type": "display_data",
          "data": {
            "text/plain": [
              "<Figure size 1080x288 with 1 Axes>"
            ],
            "image/png": "[encoded data removed]"
          },
          "metadata": {}
        },
        {
          "output_type": "display_data",
          "data": {
            "text/plain": [
              "<Figure size 1080x288 with 1 Axes>"
            ],
            "image/png": "[encoded data removed]"
          },
          "metadata": {}
        },
        {
          "output_type": "display_data",
          "data": {
            "text/plain": [
              "<Figure size 1080x288 with 1 Axes>"
            ],
            "image/png": "[encoded data removed]"
          },
          "metadata": {}
        },
        {
          "output_type": "display_data",
          "data": {
            "text/plain": [
              "<Figure size 1080x288 with 1 Axes>"
            ],
            "image/png": "[encoded data removed]"
          },
          "metadata": {}
        },
        {
          "output_type": "display_data",
          "data": {
            "text/plain": [
              "<Figure size 1080x288 with 1 Axes>"
            ],
            "image/png": "[encoded data removed]"
          },
          "metadata": {}
        },
        {
          "output_type": "display_data",
          "data": {
            "text/plain": [
              "<Figure size 1080x288 with 1 Axes>"
            ],
            "image/png": "[encoded data removed]"
          },
          "metadata": {}
        },
        {
          "output_type": "display_data",
          "data": {
            "text/plain": [
              "<Figure size 1080x288 with 1 Axes>"
            ],
            "image/png": "[encoded data removed]"
          },
          "metadata": {}
        }
      ],
      "source": [
        "plot_voltage_trace_last500ms(probes[0],title='Soma Voltage',savename='SomaVoltage.png',color='black')\n",
        "# plot_voltage_trace_last500ms(probes[disttrunk[0]],title='Nexus Voltage',savename='NexusVoltage.png')\n",
        "plot_voltage_trace_last500ms(probes[proxtufts[0]],title='Proximal Tuft Dendrite Voltage',savename='ProxTuftVoltage.png',color='green')\n",
        "plot_voltage_trace_last500ms(probes[obliques[0]],title='Oblique Dendrite Voltage',savename='ObliqueVoltage.png',color='blue')\n",
        "plot_voltage_trace_last500ms(probes[distbasal[0]],title='Distal Basal Dendrite Voltage',savename='DistBasalVoltage.png',color='orange')\n",
        "plot_voltage_trace_last500ms(probes[midbasal[0]],title='Middle Basal Dednrite Voltage',savename='MidBasalVoltage.png',color='grey')\n",
        "plot_voltage_trace_last500ms(probes[proxtrunk[0]],title='Proximal Trunk Voltage',savename='ProxTrunkVoltage.png',color='purple')\n",
        "# plot_voltage_trace_last500ms(probes[midtufts[0]],title='Middle Tuft Dendrite Voltage',savename='MidTuftVoltage.png')\n",
        "plot_voltage_trace_last500ms(probes[disttufts[0]],title='Distal Tuft Dendrite Voltage',savename='DistTuftVoltage.png',color='red')"
      ]
    },
    {
      "cell_type": "code",
      "execution_count": null,
      "metadata": {
        "id": "dMRgL_JhEXAl"
      },
      "outputs": [],
      "source": [
        "# for i in soma:\n",
        "#   subplot_voltagetrace_with1spikes(probes[i])"
      ]
    },
    {
      "cell_type": "code",
      "execution_count": null,
      "metadata": {
        "id": "aWKHW1gpwKb5"
      },
      "outputs": [],
      "source": [
        "# for i in proxbasal:\n",
        "#   subplot_voltagetrace_withspikes(probes[i])\n",
        "# for i in midbasal:\n",
        "#   subplot_voltagetrace_withspikes(probes[i])\n",
        "# for i in distbasal:\n",
        "#   subplot_voltagetrace_withspikes(probes[i])"
      ]
    },
    {
      "cell_type": "code",
      "execution_count": null,
      "metadata": {
        "id": "Jt4rEsyj0miL"
      },
      "outputs": [],
      "source": [
        "# for i in disttrunk:\n",
        "#   plot_voltage_trace(probes[i])"
      ]
    },
    {
      "cell_type": "code",
      "execution_count": null,
      "metadata": {
        "id": "gv4QuXxO0de-"
      },
      "outputs": [],
      "source": [
        "# for i in proxtufts:\n",
        "#   subplot_voltagetrace_withspikes(probes[i])\n",
        "# for i in midtufts:\n",
        "#   subplot_voltagetrace_withspikes(probes[i])\n",
        "# for i in disttufts:\n",
        "#   subplot_voltagetrace_withspikes(probes[i])"
      ]
    },
    {
      "cell_type": "code",
      "execution_count": null,
      "metadata": {
        "id": "aAApDm-yA9oF"
      },
      "outputs": [],
      "source": [
        "# for i in proxtrunk:\n",
        "#   subplot_voltagetrace_with1spikes(probes[i])"
      ]
    },
    {
      "cell_type": "code",
      "execution_count": null,
      "metadata": {
        "id": "1RO-YVKgBS4r"
      },
      "outputs": [],
      "source": [
        "# for i in obliques:\n",
        "#   subplot_voltagetrace_with1spikes(probes[i])"
      ]
    },
    {
      "cell_type": "code",
      "execution_count": null,
      "metadata": {
        "id": "iSU6oqKYBcvF"
      },
      "outputs": [],
      "source": [
        "# for i in midtrunk:\n",
        "#   subplot_voltagetrace_with1spikes(probes[i])"
      ]
    },
    {
      "cell_type": "code",
      "execution_count": null,
      "metadata": {
        "id": "TfRjQHW9Bot6"
      },
      "outputs": [],
      "source": [
        "# for i in axon:\n",
        "#   plot_voltage_trace(probes[i])\n",
        "# for i in passivebasal:\n",
        "#   plot_voltage_trace(probes[i])"
      ]
    },
    {
      "cell_type": "code",
      "execution_count": null,
      "metadata": {
        "id": "gwtJzQFWCuWO"
      },
      "outputs": [],
      "source": [
        "#plot all traces and spike trains\n",
        "\n",
        "# for i in range(len(probes)):\n",
        "#   subplot_voltagetrace_withspikes(probes[i])"
      ]
    },
    {
      "cell_type": "code",
      "execution_count": null,
      "metadata": {
        "id": "vDivhPJDzyLS"
      },
      "outputs": [],
      "source": [
        "# %cd .."
      ]
    },
    {
      "cell_type": "markdown",
      "metadata": {
        "id": "tPGTmxa9D8dS"
      },
      "source": [
        "##Current Traces for every segment"
      ]
    },
    {
      "cell_type": "code",
      "execution_count": null,
      "metadata": {
        "id": "AApBHujfXYj7"
      },
      "outputs": [],
      "source": [
        "def plot_trace(data, title, ylabel):\n",
        "  plt.figure(figsize=(20,14))\n",
        "  for i in range(data.shape[0]):\n",
        "      plt.plot(t,data[i,:])\n",
        "      plt.title(title, loc='center')\n",
        "      plt.ylabel(ylabel)\n",
        "      plt.xlabel('ms')\n",
        "  plt.show()"
      ]
    },
    {
      "cell_type": "code",
      "execution_count": null,
      "metadata": {
        "id": "ZrDJZEBxXuvM"
      },
      "outputs": [],
      "source": [
        "# # Ca LVA current \n",
        "# plot_trace(data=ical_data, title='ical', ylabel='ical')"
      ]
    },
    {
      "cell_type": "code",
      "execution_count": null,
      "metadata": {
        "id": "J4AAdIurnBLx"
      },
      "outputs": [],
      "source": [
        "sec14 = []\n",
        "for i in range(nseg-1):\n",
        "  if AllSegSection[i] == 12:\n",
        "    sec14.append(i)\n",
        "\n",
        "# len(sec14)"
      ]
    },
    {
      "cell_type": "code",
      "execution_count": null,
      "metadata": {
        "id": "2K75xPlGTqD9"
      },
      "outputs": [],
      "source": [
        "# # CA HVA current\n",
        "# plot_trace(data=icah_data,title='ICaH',ylabel='icah')"
      ]
    },
    {
      "cell_type": "code",
      "execution_count": null,
      "metadata": {
        "id": "LEajwy_WTfeY"
      },
      "outputs": [],
      "source": [
        "# # h current\n",
        "# plot_trace(data=ih_data,title='ih',ylabel='Ih')"
      ]
    },
    {
      "cell_type": "code",
      "execution_count": null,
      "metadata": {
        "colab": {
          "base_uri": "https://localhost:8080/"
        },
        "id": "373wGMrgD8dS",
        "outputId": "e18d5cf8-80b0-4bc9-f9ca-7f72282eab53"
      },
      "outputs": [
        {
          "output_type": "stream",
          "name": "stdout",
          "text": [
            "791\n"
          ]
        }
      ],
      "source": [
        "sec = []\n",
        "for i in range(nseg-1):\n",
        "  if AllSegSection[i] >= 11 :\n",
        "    sec.append(i)\n",
        "\n",
        "print(len(sec))\n",
        "\n",
        "# plt.figure(figsize=(20,14))\n",
        "# for i in sec:\n",
        "#     plt.plot(t,gNaTa_T_data[i,:])\n",
        "#     plt.ylabel('gNaTa_T')\n",
        "#     plt.xlabel('ms')\n",
        "#     plt.title('gNaTa_T')\n",
        "# plt.show()\n",
        "\n",
        "# plt.figure(figsize=(20,14))\n",
        "# for i in sec14:\n",
        "#     plt.plot(t,gNaTa_T_data[i,:])\n",
        "#     plt.title(gNaTa_T, loc='center')\n",
        "#     plt.ylabel('gNaTa_T')\n",
        "#     plt.xlabel('ms')\n",
        "# plt.show()"
      ]
    },
    {
      "cell_type": "code",
      "execution_count": null,
      "metadata": {
        "id": "5AH4wqW5FgrV"
      },
      "outputs": [],
      "source": [
        "# import matplotlib.pyplot as plt\n",
        "# %matplotlib inline\n",
        "\n",
        "\n",
        "# #NMDA current \n",
        "\n",
        "# plt.figure(figsize=(20,14))\n",
        "# for i in range(len(i_NMDA_bySeg)):\n",
        "#     plt.plot(t,i_NMDA_bySeg[i])\n",
        "#     plt.ylabel('i_NMDA')\n",
        "#     plt.xlabel('ms')\n",
        "#     plt.title('i_NMDA in every segment')\n",
        "# plt.show()"
      ]
    },
    {
      "cell_type": "code",
      "execution_count": null,
      "metadata": {
        "id": "qRKFnslAJ7To"
      },
      "outputs": [],
      "source": [
        "# Voltage traces\n",
        "\n",
        "# plt.figure(figsize=(20,14))\n",
        "# for i in range(len(v_dend)):\n",
        "#     plt.plot(t,v_dend[i])\n",
        "#     plt.ylabel('v dend ')\n",
        "#     plt.xlabel('ms')\n",
        "#     plt.title('All Voltage Traces')\n",
        "# plt.show()"
      ]
    },
    {
      "cell_type": "markdown",
      "metadata": {
        "id": "3o_OAP46Yos2"
      },
      "source": [
        "# Passive Properties"
      ]
    },
    {
      "cell_type": "code",
      "execution_count": null,
      "metadata": {
        "id": "qIxjNzBimm-I"
      },
      "outputs": [],
      "source": [
        "# tstop=4000\n",
        "# h.tstop = tstop"
      ]
    },
    {
      "cell_type": "code",
      "execution_count": null,
      "metadata": {
        "id": "wUdx_mQzm3V0"
      },
      "outputs": [],
      "source": [
        "# timestart=time.time()\n",
        "# PassiveSim = Simulation(geo_standard,elec_pos,loc_param,geo_param=geo_param,biophys=biophys,gmax=0.05,scale=100.,spike_threshold = 10, RunType = 'Passive Properties', synaptic_input=False)  # 0.001 -0.012 #gmax=.005, scale=100\n",
        "# timestop=time.time()\n",
        "# elapseddeftime=timestop-timestart\n",
        "# simtime=tstop/1000 #convert from ms to s\n",
        "# print('It took',round(elapseddeftime),'sec to define the simulation model.') #need to optomize input grouping # location check takes a long time since it iterates through checking a list of synapse locations for each group/cluster within the section"
      ]
    },
    {
      "cell_type": "code",
      "execution_count": null,
      "metadata": {
        "id": "EtJPoybEwRxa"
      },
      "outputs": [],
      "source": [
        "# dend_v = Recorder(Vrecord)"
      ]
    },
    {
      "cell_type": "code",
      "execution_count": null,
      "metadata": {
        "id": "dZwN_3PJm3q8"
      },
      "outputs": [],
      "source": [
        "# timestart=time.time()\n",
        "# PassiveSim.run()\n",
        "# timestop=time.time()\n",
        "# lfp = sim.get_lfp().T\n",
        "# t = PassiveSim.t()\n",
        "# elapsedtime=timestop-timestart\n",
        "# simtime=tstop/1000 #convert from ms to s\n",
        "# totaltime= elapsedtime+elapseddeftime\n",
        "# print('It took',round(elapsedtime),'sec to run a',simtime,'sec Passive Properties simulation.')\n",
        "# print('The total runtime was',round(totaltime),'sec')"
      ]
    },
    {
      "cell_type": "code",
      "execution_count": null,
      "metadata": {
        "id": "VhNELcPwvuxM"
      },
      "outputs": [],
      "source": [
        "# v_dend = dend_v.as_numpy()"
      ]
    },
    {
      "cell_type": "code",
      "execution_count": null,
      "metadata": {
        "id": "2TmlQEdL-Jrr"
      },
      "outputs": [],
      "source": [
        "# print(len(PassiveSim.cells[0].injection))"
      ]
    },
    {
      "cell_type": "code",
      "execution_count": null,
      "metadata": {
        "id": "mZwUlBpym9h8"
      },
      "outputs": [],
      "source": [
        "# spikes = PassiveSim.get_spike_time()\n",
        "\n",
        "# print(len(spikes))\n",
        "\n",
        "# HzAt100Pa = len(spikes[spikes < 1000])*1.3333\n",
        "# HzAt200Pa = len(spikes[(spikes > 1000) & (spikes < 2000)])*1.3333\n",
        "# HzAt300Pa = len(spikes[(spikes > 2000) & (spikes < 3000)])*1.3333\n",
        "# HzAt400Pa = len(spikes[spikes > 3000])*1.3333\n",
        "\n",
        "# pA = [100,200,300,400]\n",
        "# Hz = [HzAt100Pa,HzAt200Pa,HzAt300Pa,HzAt400Pa]\n",
        "\n",
        "\n",
        "# plt.figure(figsize=(7,8))\n",
        "# ax = plt.plot(pA,Hz)\n",
        "# plt.title('New model F-I curve')\n",
        "# plt.xlabel('Current Injection (pA)')\n",
        "# plt.ylabel('Firing Rate (Hz)')\n",
        "# plt.savefig('FI_curve.png')\n",
        "# plt.show()"
      ]
    },
    {
      "cell_type": "code",
      "execution_count": null,
      "metadata": {
        "id": "fDwCaB9dnMhx"
      },
      "outputs": [],
      "source": [
        "# plot soma voltage\n",
        "# plot_voltage_trace(segment=soma_probe,color='grey',title='Soma Voltage',savename='Passive_Properties_Soma_Voltage.png')"
      ]
    },
    {
      "cell_type": "markdown",
      "metadata": {
        "id": "s3N7rFh1Yrkz"
      },
      "source": [
        "# Active Properties"
      ]
    },
    {
      "cell_type": "code",
      "execution_count": null,
      "metadata": {
        "id": "IgwHeUHCnhiE"
      },
      "outputs": [],
      "source": [
        "# tstop=1500\n",
        "# h.tstop = tstop"
      ]
    },
    {
      "cell_type": "code",
      "execution_count": null,
      "metadata": {
        "id": "bipM7aagnhSc"
      },
      "outputs": [],
      "source": [
        "# timestart=time.time()\n",
        "# ActiveSim = Simulation(geo_standard,elec_pos,loc_param,geo_param=geo_param,biophys=biophys,gmax=0.05,scale=100.,spike_threshold = 10, RunType = 'Active Properties', synaptic_input=False)  # 0.001 -0.012 #gmax=.005, scale=100\n",
        "# timestop=time.time()\n",
        "# elapseddeftime=timestop-timestart\n",
        "# simtime=tstop/1000 #convert from ms to s\n",
        "# print('It took',round(elapseddeftime),'sec to define the simulation model.') #need to optomize input grouping # location check takes a long time since it iterates through checking a list of synapse locations for each group/cluster within the section"
      ]
    },
    {
      "cell_type": "code",
      "execution_count": null,
      "metadata": {
        "id": "fd32OoNewXkp"
      },
      "outputs": [],
      "source": [
        "# dend_v = Recorder(Vrecord)"
      ]
    },
    {
      "cell_type": "code",
      "execution_count": null,
      "metadata": {
        "id": "jPUBDIrUryr_"
      },
      "outputs": [],
      "source": [
        "# timestart=time.time()\n",
        "# ActiveSim.run()\n",
        "# timestop=time.time()\n",
        "# lfp = sim.get_lfp().T\n",
        "# t = sim.t()\n",
        "# elapsedtime=timestop-timestart\n",
        "# simtime=tstop/1000 #convert from ms to s\n",
        "# totaltime= elapsedtime+elapseddeftime\n",
        "# print('It took',round(elapsedtime),'sec to run a',simtime,'sec simulation.')\n",
        "# print('The total runtime was',round(totaltime),'sec')"
      ]
    },
    {
      "cell_type": "code",
      "execution_count": null,
      "metadata": {
        "id": "A6AJaO_Sv1Wl"
      },
      "outputs": [],
      "source": [
        "# v_dend = dend_v.as_numpy()"
      ]
    },
    {
      "cell_type": "code",
      "execution_count": null,
      "metadata": {
        "id": "MIpeXhqBnHND"
      },
      "outputs": [],
      "source": [
        "# from pandas.core.internals.managers import create_block_manager_from_arrays\n",
        "# v_rest = v_dend[0][1000]\n",
        "# print('v_rest')\n",
        "# print(v_rest)\n",
        "# v_final = v_dend[0][5000]\n",
        "# print('v_final')\n",
        "# print(v_final)\n",
        "\n",
        "# calc = v_rest -((v_rest - v_final) * 0.638)\n",
        "\n",
        "# print('calc')\n",
        "# print(calc)\n",
        "\n",
        "\n",
        "# i = 150 \n",
        "# while v_dend[0][i] > calc:\n",
        "#   i = i + 1\n",
        "\n",
        "# print('v at tic')\n",
        "# print(v_dend[0][i])\n",
        "\n",
        "\n",
        "# timeAtV = i/10\n",
        "# print('timeAtV', timeAtV)\n",
        "# print('i: ', i)\n",
        "# t = timeAtV - 150\n",
        "# t_ins = t/1000\n",
        "\n",
        "# print('t')\n",
        "# print(t)\n",
        "# print('t_ins')\n",
        "# print(t_ins)\n",
        "\n",
        "\n",
        "# deltaV = (v_rest - v_final)\n",
        "# deltaI = (0 - (-100))\n",
        "# dVdI = deltaV / (deltaI /1000)\n",
        "\n",
        "# print('dVdI')\n",
        "# print(dVdI)"
      ]
    },
    {
      "cell_type": "code",
      "execution_count": null,
      "metadata": {
        "id": "3LlGOVJX-V1k"
      },
      "outputs": [],
      "source": [
        "# print(len(ActiveSim.cells[0].injection))"
      ]
    },
    {
      "cell_type": "code",
      "execution_count": null,
      "metadata": {
        "id": "c5ck7IiZnOyX"
      },
      "outputs": [],
      "source": [
        "#plot soma voltage\n",
        "# plot_voltage_trace(segment=soma_probe,color='grey',title='Soma Voltage',savename='Active_Properties_Soma_Voltage.png')"
      ]
    }
  ],
  "metadata": {
    "colab": {
      "collapsed_sections": [
        "A8n02xODZvnE",
        "3o_OAP46Yos2",
        "s3N7rFh1Yrkz"
      ],
      "provenance": [],
      "include_colab_link": true
    },
    "kernelspec": {
      "display_name": "Python 3.9.7 ('base': conda)",
      "language": "python",
      "name": "python3"
    },
    "language_info": {
      "codemirror_mode": {
        "name": "ipython",
        "version": 3
      },
      "file_extension": ".py",
      "mimetype": "text/x-python",
      "name": "python",
      "nbconvert_exporter": "python",
      "pygments_lexer": "ipython3",
      "version": "3.9.7"
    },
    "vscode": {
      "interpreter": {
        "hash": "8f3619f4fa641ed177aec79a1937dab9841a35bf4719b57c8f69b2dc3d4e9503"
      }
    }
  },
  "nbformat": 4,
  "nbformat_minor": 0
}