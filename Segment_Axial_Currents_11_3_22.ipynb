{
  "nbformat": 4,
  "nbformat_minor": 0,
  "metadata": {
    "colab": {
      "provenance": [],
      "authorship_tag": "ABX9TyO344SYr3fsHDN7csECCFzS",
      "include_colab_link": true
    },
    "kernelspec": {
      "name": "python3",
      "display_name": "Python 3"
    },
    "language_info": {
      "name": "python"
    }
  },
  "cells": [
    {
      "cell_type": "markdown",
      "metadata": {
        "id": "view-in-github",
        "colab_type": "text"
      },
      "source": [
        "<a href=\"https://colab.research.google.com/github/davidfague/Stylized-ReducedOrder-L5-Model/blob/main/Segment_Axial_Currents_11_3_22.ipynb\" target=\"_parent\"><img src=\"https://colab.research.google.com/assets/colab-badge.svg\" alt=\"Open In Colab\"/></a>"
      ]
    },
    {
      "cell_type": "code",
      "execution_count": 1,
      "metadata": {
        "id": "_cykmYCD201Z"
      },
      "outputs": [],
      "source": [
        "import pandas as pd\n",
        "import h5py\n",
        "import numpy as np\n",
        "import matplotlib.pyplot as plt\n",
        "import seaborn as sns\n",
        "import scipy.signal as ss\n",
        "from mpl_toolkits import mplot3d"
      ]
    },
    {
      "cell_type": "code",
      "source": [
        "from google.colab import drive\n",
        "drive.mount('/content/drive')\n",
        "\n",
        "%cd /content/drive/MyDrive/Stylized-ReducedOrder-L5-Model/"
      ],
      "metadata": {
        "colab": {
          "base_uri": "https://localhost:8080/"
        },
        "id": "nTeUGyMk5Z6T",
        "outputId": "cf20eb83-66b1-4c7a-8132-72f5a651fd23"
      },
      "execution_count": 2,
      "outputs": [
        {
          "output_type": "stream",
          "name": "stdout",
          "text": [
            "Mounted at /content/drive\n",
            "/content/drive/MyDrive/Stylized-ReducedOrder-L5-Model\n"
          ]
        }
      ]
    },
    {
      "cell_type": "code",
      "source": [
        "output_folder = 'Detailedoutput_control'\n",
        "v = h5py.File('./{}/Detailedv_report.h5'.format(output_folder),'r') #read segment voltage traces\n",
        "segs = pd.read_csv('Detailedoutput_control/DetailedSegments.csv') # read segment values\n",
        "\n",
        "f = h5py.File('./{}/ecp.h5'.format(output_folder),'r') #read ecp testing another project"
      ],
      "metadata": {
        "id": "2WLF-kL7HJhQ",
        "colab": {
          "base_uri": "https://localhost:8080/",
          "height": 486
        },
        "outputId": "5314b453-1cf8-4a1d-868f-e946b633b33e"
      },
      "execution_count": 3,
      "outputs": [
        {
          "output_type": "error",
          "ename": "OSError",
          "evalue": "ignored",
          "traceback": [
            "\u001b[0;31m---------------------------------------------------------------------------\u001b[0m",
            "\u001b[0;31mOSError\u001b[0m                                   Traceback (most recent call last)",
            "\u001b[0;32m<ipython-input-3-ea5f0e73bdd8>\u001b[0m in \u001b[0;36m<module>\u001b[0;34m\u001b[0m\n\u001b[1;32m      1\u001b[0m \u001b[0moutput_folder\u001b[0m \u001b[0;34m=\u001b[0m \u001b[0;34m'Detailedoutput_control'\u001b[0m\u001b[0;34m\u001b[0m\u001b[0;34m\u001b[0m\u001b[0m\n\u001b[0;32m----> 2\u001b[0;31m \u001b[0mv\u001b[0m \u001b[0;34m=\u001b[0m \u001b[0mh5py\u001b[0m\u001b[0;34m.\u001b[0m\u001b[0mFile\u001b[0m\u001b[0;34m(\u001b[0m\u001b[0;34m'./{}/Detailedv_report.h5'\u001b[0m\u001b[0;34m.\u001b[0m\u001b[0mformat\u001b[0m\u001b[0;34m(\u001b[0m\u001b[0moutput_folder\u001b[0m\u001b[0;34m)\u001b[0m\u001b[0;34m,\u001b[0m\u001b[0;34m'r'\u001b[0m\u001b[0;34m)\u001b[0m \u001b[0;31m#read segment voltage traces\u001b[0m\u001b[0;34m\u001b[0m\u001b[0;34m\u001b[0m\u001b[0m\n\u001b[0m\u001b[1;32m      3\u001b[0m \u001b[0msegs\u001b[0m \u001b[0;34m=\u001b[0m \u001b[0mpd\u001b[0m\u001b[0;34m.\u001b[0m\u001b[0mread_csv\u001b[0m\u001b[0;34m(\u001b[0m\u001b[0;34m'Detailedoutput_control/DetailedSegments.csv'\u001b[0m\u001b[0;34m)\u001b[0m \u001b[0;31m# read segment values\u001b[0m\u001b[0;34m\u001b[0m\u001b[0;34m\u001b[0m\u001b[0m\n\u001b[1;32m      4\u001b[0m \u001b[0;34m\u001b[0m\u001b[0m\n\u001b[1;32m      5\u001b[0m \u001b[0mf\u001b[0m \u001b[0;34m=\u001b[0m \u001b[0mh5py\u001b[0m\u001b[0;34m.\u001b[0m\u001b[0mFile\u001b[0m\u001b[0;34m(\u001b[0m\u001b[0;34m'./{}/ecp.h5'\u001b[0m\u001b[0;34m.\u001b[0m\u001b[0mformat\u001b[0m\u001b[0;34m(\u001b[0m\u001b[0moutput_folder\u001b[0m\u001b[0;34m)\u001b[0m\u001b[0;34m,\u001b[0m\u001b[0;34m'r'\u001b[0m\u001b[0;34m)\u001b[0m \u001b[0;31m#read ecp testing another project\u001b[0m\u001b[0;34m\u001b[0m\u001b[0;34m\u001b[0m\u001b[0m\n",
            "\u001b[0;32m/usr/local/lib/python3.9/dist-packages/h5py/_hl/files.py\u001b[0m in \u001b[0;36m__init__\u001b[0;34m(self, name, mode, driver, libver, userblock_size, swmr, rdcc_nslots, rdcc_nbytes, rdcc_w0, track_order, fs_strategy, fs_persist, fs_threshold, **kwds)\u001b[0m\n\u001b[1;32m    422\u001b[0m             \u001b[0;32mwith\u001b[0m \u001b[0mphil\u001b[0m\u001b[0;34m:\u001b[0m\u001b[0;34m\u001b[0m\u001b[0;34m\u001b[0m\u001b[0m\n\u001b[1;32m    423\u001b[0m                 \u001b[0mfapl\u001b[0m \u001b[0;34m=\u001b[0m \u001b[0mmake_fapl\u001b[0m\u001b[0;34m(\u001b[0m\u001b[0mdriver\u001b[0m\u001b[0;34m,\u001b[0m \u001b[0mlibver\u001b[0m\u001b[0;34m,\u001b[0m \u001b[0mrdcc_nslots\u001b[0m\u001b[0;34m,\u001b[0m \u001b[0mrdcc_nbytes\u001b[0m\u001b[0;34m,\u001b[0m \u001b[0mrdcc_w0\u001b[0m\u001b[0;34m,\u001b[0m \u001b[0;34m**\u001b[0m\u001b[0mkwds\u001b[0m\u001b[0;34m)\u001b[0m\u001b[0;34m\u001b[0m\u001b[0;34m\u001b[0m\u001b[0m\n\u001b[0;32m--> 424\u001b[0;31m                 fid = make_fid(name, mode, userblock_size,\n\u001b[0m\u001b[1;32m    425\u001b[0m                                fapl, fcpl=make_fcpl(track_order=track_order, fs_strategy=fs_strategy,\n\u001b[1;32m    426\u001b[0m                                fs_persist=fs_persist, fs_threshold=fs_threshold),\n",
            "\u001b[0;32m/usr/local/lib/python3.9/dist-packages/h5py/_hl/files.py\u001b[0m in \u001b[0;36mmake_fid\u001b[0;34m(name, mode, userblock_size, fapl, fcpl, swmr)\u001b[0m\n\u001b[1;32m    188\u001b[0m         \u001b[0;32mif\u001b[0m \u001b[0mswmr\u001b[0m \u001b[0;32mand\u001b[0m \u001b[0mswmr_support\u001b[0m\u001b[0;34m:\u001b[0m\u001b[0;34m\u001b[0m\u001b[0;34m\u001b[0m\u001b[0m\n\u001b[1;32m    189\u001b[0m             \u001b[0mflags\u001b[0m \u001b[0;34m|=\u001b[0m \u001b[0mh5f\u001b[0m\u001b[0;34m.\u001b[0m\u001b[0mACC_SWMR_READ\u001b[0m\u001b[0;34m\u001b[0m\u001b[0;34m\u001b[0m\u001b[0m\n\u001b[0;32m--> 190\u001b[0;31m         \u001b[0mfid\u001b[0m \u001b[0;34m=\u001b[0m \u001b[0mh5f\u001b[0m\u001b[0;34m.\u001b[0m\u001b[0mopen\u001b[0m\u001b[0;34m(\u001b[0m\u001b[0mname\u001b[0m\u001b[0;34m,\u001b[0m \u001b[0mflags\u001b[0m\u001b[0;34m,\u001b[0m \u001b[0mfapl\u001b[0m\u001b[0;34m=\u001b[0m\u001b[0mfapl\u001b[0m\u001b[0;34m)\u001b[0m\u001b[0;34m\u001b[0m\u001b[0;34m\u001b[0m\u001b[0m\n\u001b[0m\u001b[1;32m    191\u001b[0m     \u001b[0;32melif\u001b[0m \u001b[0mmode\u001b[0m \u001b[0;34m==\u001b[0m \u001b[0;34m'r+'\u001b[0m\u001b[0;34m:\u001b[0m\u001b[0;34m\u001b[0m\u001b[0;34m\u001b[0m\u001b[0m\n\u001b[1;32m    192\u001b[0m         \u001b[0mfid\u001b[0m \u001b[0;34m=\u001b[0m \u001b[0mh5f\u001b[0m\u001b[0;34m.\u001b[0m\u001b[0mopen\u001b[0m\u001b[0;34m(\u001b[0m\u001b[0mname\u001b[0m\u001b[0;34m,\u001b[0m \u001b[0mh5f\u001b[0m\u001b[0;34m.\u001b[0m\u001b[0mACC_RDWR\u001b[0m\u001b[0;34m,\u001b[0m \u001b[0mfapl\u001b[0m\u001b[0;34m=\u001b[0m\u001b[0mfapl\u001b[0m\u001b[0;34m)\u001b[0m\u001b[0;34m\u001b[0m\u001b[0;34m\u001b[0m\u001b[0m\n",
            "\u001b[0;32mh5py/_objects.pyx\u001b[0m in \u001b[0;36mh5py._objects.with_phil.wrapper\u001b[0;34m()\u001b[0m\n",
            "\u001b[0;32mh5py/_objects.pyx\u001b[0m in \u001b[0;36mh5py._objects.with_phil.wrapper\u001b[0;34m()\u001b[0m\n",
            "\u001b[0;32mh5py/h5f.pyx\u001b[0m in \u001b[0;36mh5py.h5f.open\u001b[0;34m()\u001b[0m\n",
            "\u001b[0;31mOSError\u001b[0m: Unable to open file (unable to open file: name = './Detailedoutput_control/Detailedv_report.h5', errno = 2, error message = 'No such file or directory', flags = 0, o_flags = 0)"
          ]
        }
      ]
    },
    {
      "cell_type": "code",
      "source": [
        "f.visit(print)\n",
        "f.name\n",
        "# data_raw = f['ecp/data'][()]"
      ],
      "metadata": {
        "id": "4qrL1JAS-1SF"
      },
      "execution_count": null,
      "outputs": []
    },
    {
      "cell_type": "code",
      "source": [
        "#Usefull subsetting method\n",
        "# print(segs[(segs.Type=='soma')]) #how to separate by type\n",
        "somasegIDs = segs[(segs.Type=='soma')]['SEG ID'] #how to pull a column after separating by type"
      ],
      "metadata": {
        "id": "m_UmZCjjG653"
      },
      "execution_count": null,
      "outputs": []
    },
    {
      "cell_type": "code",
      "source": [
        "segs.head() # visualize categories"
      ],
      "metadata": {
        "id": "-GrxmQmpZmDU"
      },
      "execution_count": null,
      "outputs": []
    },
    {
      "cell_type": "code",
      "source": [
        "segIDs=segs['SEG ID']\n",
        "\n",
        "# segs = segs.set_index(['Type','Sec ID']).join(segs_degrees.set_index(['Type','Sec ID'])).reset_index() #not sure what this does\n",
        "segs['Sec ID'] = segs['Sec ID'].astype(int)\n",
        "segs['X'] = segs['X'].astype(float)\n",
        "segs['Elec_distanceQ'] = 'None'\n",
        "AllSegXCoord=segs['Coord X']\n",
        "AllSegYCoord=segs['Coord Y']\n",
        "AllSegZCoord=segs['Coord Z']\n",
        "AllSegSec_ID=segs['Sec ID']\n",
        "AllSegSec_name=segs['Type']\n",
        "segLs=segs[\"Seg_L\"]\n",
        "segxs=segs[\"X\"]\n",
        "segdists=segs[\"Distance\"]\n",
        "SegSecL=segs[\"Section_L\"]\n",
        "segdiams=segs[\"Seg_diam\"]\n",
        "SegSecnseg=segs[\"Section_nseg\"]\n",
        "secRas=segs[\"Section_Ra\"]\n",
        "psegIDs=segs[\"ParentSegID\"]\n",
        "secids=segs[\"Sec ID\"]\n",
        "bmtkid=segs[\"BMTK ID\"]\n",
        "\n",
        "psegids=[]\n",
        "for i in range(len(psegIDs)):\n",
        "  if np.isnan(psegIDs[i]) == False:\n",
        "    psegids.append(int(psegIDs[i]))\n",
        "  else:\n",
        "    psegids.append(psegIDs[i])"
      ],
      "metadata": {
        "id": "86t0Rtq95nAc"
      },
      "execution_count": null,
      "outputs": []
    },
    {
      "cell_type": "code",
      "source": [
        "print(psegids)"
      ],
      "metadata": {
        "id": "vPtkzlaThxE3"
      },
      "execution_count": null,
      "outputs": []
    },
    {
      "cell_type": "code",
      "source": [
        "class childseg():\n",
        "  def __init__(self,seg,sectionindex,sectionname,color,XCoord,YCoord,ZCoord,secRa,segdiam,segx,segdist,sectionL,sectionNseg,segL,seg_v):\n",
        "    self.seg=seg\n",
        "    self.sectionindex=sectionindex\n",
        "    self.sectionname=sectionname\n",
        "    self.color=color\n",
        "    self.XCoord=XCoord\n",
        "    self.YCoord=YCoord\n",
        "    self.ZCoord=ZCoord\n",
        "    self.secRa=secRa\n",
        "    self.segdiam=segdiam\n",
        "    self.x=segx\n",
        "    self.segdist=segdist\n",
        "    self.secL=sectionL\n",
        "    self.secnseg=sectionNseg\n",
        "    self.segL=segL\n",
        "    self.seg_v=seg_v\n",
        "    self.name='sec:'+str(self.sectionname)+str(self.sectionindex)+' seg:'+str(self.seg)"
      ],
      "metadata": {
        "id": "iZMi73ng2xa5"
      },
      "execution_count": null,
      "outputs": []
    },
    {
      "cell_type": "code",
      "source": [
        "print(len(segIDs)) # number of segments"
      ],
      "metadata": {
        "id": "LLd0WlZ5k1xi"
      },
      "execution_count": null,
      "outputs": []
    },
    {
      "cell_type": "code",
      "source": [
        "seginterest=[1685,1686,1900] #choose segments indexes to probe\n",
        "colors=['blue','purple','orange'] #specify colorchoose colors"
      ],
      "metadata": {
        "id": "VI08OjXmf4ku"
      },
      "execution_count": null,
      "outputs": []
    },
    {
      "cell_type": "code",
      "source": [
        "probes=[]\n",
        "j=0 #index color list\n",
        "class probe():\n",
        "  def __init__(self,seg,sectionindex,sectionname,color,XCoord,YCoord,ZCoord,secRa,segdiam,segx,segdist,sectionL,sectionNseg,segL,seg_v,parentseg):\n",
        "    self.seg=seg\n",
        "    self.sectionindex=sectionindex\n",
        "    self.sectionname=sectionname\n",
        "    self.color=color\n",
        "    self.XCoord=XCoord\n",
        "    self.YCoord=YCoord\n",
        "    self.ZCoord=ZCoord\n",
        "    self.secRa=secRa\n",
        "    self.segdiam=segdiam\n",
        "    self.x=segx\n",
        "    self.segdist=segdist\n",
        "    self.secL=sectionL\n",
        "    self.secnseg=sectionNseg\n",
        "    self.segL=segL\n",
        "    self.seg_v=seg_v\n",
        "    self.name='sec:'+str(self.sectionname)+str(self.sectionindex)+' seg:'+str(self.seg)\n",
        "    self.adjprobes=[]\n",
        "    self.parentprobe=[]\n",
        "    self.childprobes=[]\n",
        "    self.axialcurrents=[]\n",
        "    self.parentaxialcurrent=[]\n",
        "    self.childrenaxialcurrents=[]\n",
        "    self.halfsegRa=.01*self.secRa*(self.secL/2/self.secnseg)/(np.pi*(self.segdiam/2)**2)\n",
        "    self.parentseg=parentseg\n",
        "\n",
        "    # try:\n",
        "    #   self.axial_current=[Record_Axial_Current(section,single_seg=True)]\n",
        "    # except:\n",
        "    #   print(section)\n",
        "for i in range(len(segIDs)):\n",
        "  try:\n",
        "    newprobe=probe(seg=i,sectionindex=AllSegSec_ID[i],sectionname=str(AllSegSec_name[i]),color=colors[j],XCoord=AllSegXCoord[i],YCoord=AllSegYCoord[i],ZCoord=AllSegZCoord[i],\n",
        "                  secRa=secRas[i],segdiam=segdiams[i],segx=segxs[i],segdist=segdists[i],sectionL=SegSecL[i],sectionNseg=SegSecnseg[i],segL=segLs[i],\n",
        "                  seg_v=v['report']['biophysical']['data'][:,i],parentseg=psegids[i])\n",
        "  except: #use red if colors isn't long enough\n",
        "        newprobe=probe(seg=i,sectionindex=AllSegSec_ID[i],sectionname=str(AllSegSec_name[i]),color='r',XCoord=AllSegXCoord[i],YCoord=AllSegYCoord[i],ZCoord=AllSegZCoord[i],\n",
        "                secRa=secRas[i],segdiam=segdiams[i],segx=segxs[i],segdist=segdists[i],sectionL=SegSecL[i],sectionNseg=SegSecnseg[i],segL=segLs[i],\n",
        "                seg_v=v['report']['biophysical']['data'][:,i],parentseg=psegids[i])\n",
        "  j+=1 #index color list\n",
        "  probes.append(newprobe)"
      ],
      "metadata": {
        "id": "MkB-ZzVxbDNx"
      },
      "execution_count": null,
      "outputs": []
    },
    {
      "cell_type": "code",
      "source": [
        "print(psegids)"
      ],
      "metadata": {
        "id": "WwlFbP4p1CeY"
      },
      "execution_count": null,
      "outputs": []
    },
    {
      "cell_type": "code",
      "source": [
        "# psegs=[] #list of segment ids for a section's parentseg(), which is the segment that the section is attached to\n",
        "# parentsegs=list(set(psegids)) # remove duplicates of the list of segment parentsegmentIDs\n",
        "# # print(parentsegs)\n",
        "# for j in range(len(segIDs)):\n",
        "#   for i in range(len(parentsegs)):\n",
        "#     if np.isnan(parentsegs[i]) == False: #remove nan\n",
        "#       psegs.append(int(parentsegs[i])) #convert to integer again\n",
        "#     # else: #if nan, then this segment is really the first segment\n",
        "#     psegs.append(int())\n",
        "# # print('psegs:',psegs)\n",
        "\n",
        "firstsegs = [] #list of segment indices for each section's first segment\n",
        "sections=[] #list of already seen section ids\n",
        "\n",
        "for i in range(len(bmtkid)):\n",
        "    if bmtkid[i] not in sections: #make sure secid is unique\n",
        "      sections.append(bmtkid[i]) #add unique secid to list of already seen secids\n",
        "      firstsegs.append(segIDs[i]) #get a list of first segment by unique section id\n",
        "\n",
        "print('firstsegs:',firstsegs)"
      ],
      "metadata": {
        "id": "XEb7S-dQCnlZ"
      },
      "execution_count": null,
      "outputs": []
    },
    {
      "cell_type": "markdown",
      "source": [
        "Below code is being adjusted to only probe parentsegments, and "
      ],
      "metadata": {
        "id": "owVd-TuoCoRp"
      }
    },
    {
      "cell_type": "code",
      "source": [
        "#getting adjacent probes using parent segmemt IDs\n",
        "for i in range(len(psegids)): #iterate through segment index\n",
        "  if np.isnan(psegids[i]) == False:\n",
        "    for seg in segIDs: #check segIDs\n",
        "      if psegids[i]==seg: #find parent seg from parent seg id\n",
        "        probes[seg].adjprobes.append(probes[i]) #add child probe to probe's adjprobe list\n",
        "        probes[seg].childprobes.append(probes[i]) #add child probe to probe's childprobe list"
      ],
      "metadata": {
        "id": "c8p83unK0J11"
      },
      "execution_count": null,
      "outputs": []
    },
    {
      "cell_type": "code",
      "source": [
        "for i in range(len(segIDs)):\n",
        "  if np.isnan(psegids[i]) == False:\n",
        "    probes[i].adjprobes.append(probes[int(psegids[i])]) #add parent seg probe to adj probes\n",
        "    probes[i].parentprobe.append(probes[int(psegids[i])]) #add parent seg probe to parent probes"
      ],
      "metadata": {
        "id": "puubSnJh-pjv"
      },
      "execution_count": null,
      "outputs": []
    },
    {
      "cell_type": "code",
      "source": [
        "#compute axial currents between probes\n",
        "for probe in probes:\n",
        "  for adjprobe in probe.adjprobes:\n",
        "    axc=(probe.seg_v-adjprobe.seg_v)/(probe.halfsegRa+adjprobe.halfsegRa) #compute axial current using (v_in-v_out)/(halfsegRa+halfsegRa)\n",
        "    probe.axialcurrents.append(axc)\n",
        "    if [adjprobe] == probe.parentprobe:\n",
        "      probe.parentaxialcurrent.append(axc)\n",
        "    elif adjprobe in probe.childprobes:\n",
        "      probe.childrenaxialcurrents.append(axc)"
      ],
      "metadata": {
        "id": "ce_QlQqzAogx"
      },
      "execution_count": null,
      "outputs": []
    },
    {
      "cell_type": "code",
      "source": [
        "for i in range(len(probes)):\n",
        "  print(probes[i].adjprobes)"
      ],
      "metadata": {
        "id": "QWBDSgxDrTrJ"
      },
      "execution_count": null,
      "outputs": []
    },
    {
      "cell_type": "code",
      "source": [
        "s=807\n",
        "print(probes[s].parentprobe)\n",
        "print(probes[s].adjprobes)\n",
        "print(probes[s].childprobes)\n",
        "print(probes[s].parentaxialcurrent)\n",
        "print(probes[s].axialcurrents)\n",
        "print(probes[s].childrenaxialcurrents)"
      ],
      "metadata": {
        "id": "bfk8QVvmBzXi"
      },
      "execution_count": null,
      "outputs": []
    },
    {
      "cell_type": "code",
      "source": [
        "print(len(probes))\n",
        "print(len(segIDs))\n",
        "print(len(psegids))"
      ],
      "metadata": {
        "id": "OFLTgDn_8Y3q"
      },
      "execution_count": null,
      "outputs": []
    },
    {
      "cell_type": "code",
      "source": [
        "#check adjprobes lists\n",
        "# for i in range(len(probes)):\n",
        "#   print(probes[i].adjprobes)"
      ],
      "metadata": {
        "id": "83gJRzKC6kF4"
      },
      "execution_count": null,
      "outputs": []
    },
    {
      "cell_type": "code",
      "source": [
        "elev=90 \n",
        "azim=-90 #20\n",
        "figsize=(10,12)\n",
        "# apicsegs=segs[(segs.Type=='apic')]['segmentID']\n",
        "#create 3d axes\n",
        "fig = plt.figure(figsize=figsize)\n",
        "ax = plt.axes(projection='3d')\n",
        "ax.plot3D(AllSegXCoord, AllSegYCoord,AllSegZCoord,'.',color='k',markersize=7)\n",
        "# for i in range(len(AllSegXCoord)):\n",
        "#   ax.scatter(AllSegXCoord[i], AllSegYCoord[i],AllSegZCoord[i],'.',color='k')\n",
        "# import pdb;pdb.set_trace()\n",
        "print(probes[0].color)\n",
        "# for i in range(len(probes)):\n",
        "ax.scatter(xs=AllSegXCoord[probes[firstsegs[-61]].parentprobe[0].seg],\n",
        "        ys=AllSegYCoord[probes[firstsegs[-61]].parentprobe[0].seg],\n",
        "        zs=AllSegZCoord[probes[firstsegs[-61]].parentprobe[0].seg],\n",
        "        marker='*',color=probes[probes[firstsegs[-61]].parentprobe[0].seg].color)\n",
        "plt.savefig('Probe Locations.png')\n",
        "# ax.auto_scale_xyz(*box.T)\n",
        "ax.view_init(elev,azim)\n",
        "plt.show()"
      ],
      "metadata": {
        "id": "_fWKJCiqigFc"
      },
      "execution_count": null,
      "outputs": []
    },
    {
      "cell_type": "code",
      "source": [
        "plt.figure(figsize=(3,10))\n",
        "ax = plt.plot(AllSegXCoord, AllSegYCoord,'.',color='k',markersize=6)\n",
        "plt.vlines(110,400,500)\n",
        "plt.text(0,450,'100 um')\n",
        "plt.hlines(400,110,210)\n",
        "plt.text(110,350,'100 um')\n",
        "plt.xticks([])\n",
        "plt.yticks([])\n",
        "plt.box(False)\n",
        "\n",
        "for i in range(len(probes)):\n",
        "  plt.plot(AllSegXCoord[probes[i].seg],\n",
        "         AllSegYCoord[probes[i].seg],\n",
        "         '*',color=probes[i].color)\n",
        "  for j in range(len(probes[i].adjprobes)):\n",
        "      plt.plot(AllSegXCoord[probes[i].adjprobes[j].seg],\n",
        "          AllSegYCoord[probes[i].adjprobes[j].seg],\n",
        "          '*',color='blue')\n",
        "# for i in range(len(probes)):\n",
        "#   plt.plot(AllSegXCoord[probes[i].seg],\n",
        "#          AllSegYCoord[probes[i].seg],\n",
        "#          '*',color=probes[i].color)\n",
        "plt.savefig('Probe Locations.png')"
      ],
      "metadata": {
        "id": "mgSwcfLqZb6i"
      },
      "execution_count": null,
      "outputs": []
    },
    {
      "cell_type": "code",
      "source": [
        "plt.figure(figsize=(3,10))\n",
        "ax = plt.plot(AllSegXCoord, AllSegYCoord,'.',color='k',markersize=6)\n",
        "plt.vlines(110,400,500)\n",
        "plt.text(0,450,'100 um')\n",
        "plt.hlines(400,110,210)\n",
        "plt.text(110,350,'100 um')\n",
        "plt.xticks([])\n",
        "plt.yticks([])\n",
        "plt.box(False)\n",
        "\n",
        "for i in firstsegs:\n",
        "  plt.plot(AllSegXCoord[probes[i].seg],\n",
        "         AllSegYCoord[probes[i].seg],\n",
        "         '*',color=probes[i].color)\n",
        "  # for j in range(len(probes[i].adjprobes)):\n",
        "  #     plt.plot(AllSegXCoord[probes[i].adjprobes[j].seg],\n",
        "  #         AllSegYCoord[probes[i].adjprobes[j].seg],\n",
        "  #         '*',color='blue')\n",
        "\n",
        "nexus=[probes[firstsegs[-51]].parentprobe[0].seg,probes[firstsegs[-61]].parentprobe[0].seg] #check parentseg()'s\n",
        "# adjp=[0] #indexes childprobes of nexus probes to find the adjacent\n",
        "for i in nexus:\n",
        "  plt.plot(AllSegXCoord[probes[i].seg],\n",
        "         AllSegYCoord[probes[i].seg],\n",
        "         '*',color='m')\n",
        "  # see all adj probes\n",
        "  # for j in range(len(probes[].adjprobes)):\n",
        "  #   plt.plot(AllSegXCoord[probes[].adjprobes[j].seg],\n",
        "  #       AllSegYCoord[probes[psegs[i]].adjprobes[j].seg],\n",
        "  #       '*',color='blue')\n",
        "#see child probes\n",
        "  for j in range(len(probes[i].childprobes)):\n",
        "      plt.plot(AllSegXCoord[probes[i].childprobes[j].seg],\n",
        "          AllSegYCoord[probes[i].childprobes[j].seg],\n",
        "          '*',color='orange')\n",
        "#see parent probes      \n",
        "  for j in range(len(probes[i].parentprobe)):\n",
        "      plt.plot(AllSegXCoord[probes[i].parentprobe[j].seg],\n",
        "          AllSegYCoord[probes[i].parentprobe[j].seg],\n",
        "          '*',color='blue')"
      ],
      "metadata": {
        "id": "-raTrVDW5grp"
      },
      "execution_count": null,
      "outputs": []
    },
    {
      "cell_type": "code",
      "source": [
        "probes[firstsegs[-61]].parentprobe[0].seg"
      ],
      "metadata": {
        "id": "19O-JA8-qUrU"
      },
      "execution_count": null,
      "outputs": []
    },
    {
      "cell_type": "code",
      "source": [
        "# print(psegids[1474])"
      ],
      "metadata": {
        "id": "cDwwe2nJ24zk"
      },
      "execution_count": null,
      "outputs": []
    },
    {
      "cell_type": "code",
      "source": [
        "nexusandsoma=[0,int(psegids[int(psegids[1700])])]\n",
        "plt.figure(figsize=(3,10))\n",
        "ax = plt.plot(AllSegXCoord, AllSegYCoord,'.',color='k',markersize=6)\n",
        "plt.vlines(110,400,500)\n",
        "plt.text(0,450,'100 um')\n",
        "plt.hlines(400,110,210)\n",
        "plt.text(110,350,'100 um')\n",
        "plt.xticks([])\n",
        "plt.yticks([])\n",
        "plt.box(False)\n",
        "\n",
        "for i in nexusandsoma:\n",
        "  plt.plot(AllSegXCoord[probes[i].seg],\n",
        "         AllSegYCoord[probes[i].seg],\n",
        "         '*',color=probes[i].color)\n",
        "  for j in range(len(probes[i].adjprobes)):\n",
        "      plt.plot(AllSegXCoord[probes[i].adjprobes[j].seg],\n",
        "          AllSegYCoord[probes[i].adjprobes[j].seg],\n",
        "          '*',color='blue')\n",
        "      \n",
        "for i in nexusandsoma:\n",
        "  print('seg:',probes[i].seg,'adjprobes:',len(probes[i].adjprobes))"
      ],
      "metadata": {
        "id": "M9Hdd1cQs8Wk"
      },
      "execution_count": null,
      "outputs": []
    },
    {
      "cell_type": "code",
      "source": [
        "for i in range(len(probes[nexusandsoma[1]].childprobes)):\n",
        "  print(probes[nexusandsoma[1]].childprobes[i].seg)"
      ],
      "metadata": {
        "id": "Sd4FtZ_jzRtJ"
      },
      "execution_count": null,
      "outputs": []
    },
    {
      "cell_type": "code",
      "source": [
        "M=10\n",
        "for i in range(M):\n",
        "  print(psegids[nexusandsoma[1]-M+i:nexusandsoma[1]-M+i+1]) #print previous M values\n",
        "print('nexusseg is:',nexusandsoma[1]) # indicate the segment\n",
        "for i in range(M):\n",
        "  print(psegids[nexusandsoma[1]+i:nexusandsoma[1]+i+1]) # print next M values\n",
        "\n",
        "print('***')\n",
        "print(psegids[nexusandsoma[1]-10:nexusandsoma[1]+10])"
      ],
      "metadata": {
        "id": "gF0LeUTVzC31"
      },
      "execution_count": null,
      "outputs": []
    },
    {
      "cell_type": "markdown",
      "source": [
        "Try to adjust Probes indices until they are adjacent, at key points."
      ],
      "metadata": {
        "id": "-komdJgGnaVG"
      }
    },
    {
      "cell_type": "code",
      "source": [
        "seg_v=v['report']['biophysical']['data'][:,0] # get segment 0 voltage trace\n",
        "print(len(seg_v)) #should be equivalnt to (tstop=1000ms)/(dt=0.1ms)=10000"
      ],
      "metadata": {
        "id": "NTA164jRLi7G"
      },
      "execution_count": null,
      "outputs": []
    },
    {
      "cell_type": "code",
      "source": [
        "# class axc():\n",
        "#   def __init__(self,name,i,color):\n",
        "#     self.name=name\n",
        "#     self.current=i\n",
        "#     self.color=color\n",
        "\n",
        "# axialcurrents=[]\n",
        "# parentprobes=[]\n",
        "# parentprobe=probes[0]  #parent segment probe #blue\n",
        "# adjprobes=[probes[1],probes[2]] # array that should denote probes for child segments of the parent segment probe #purple, orange\n",
        "\n",
        "# parentaxr=.01*parentprobe.secRa*(parentprobe.secL/2/parentprobe.secnseg)/(np.pi*(parentprobe.segdiam/2)**2) #compute half segment axial resistance\n",
        "# for adjprobe in adjprobes:\n",
        "#   adjprobeaxr=.01*adjprobe.secRa*(adjprobe.secL/2/adjprobe.secnseg)/(np.pi*(adjprobe.segdiam/2)**2) #compute half segment axial resistance\n",
        "#   axialcurrent=(parentprobe.seg_v-adjprobe.seg_v)/(parentaxr+adjprobeaxr) #compute axial current using (v_in-v_out)/(halfsegRa+halfsegRa)\n",
        "#   # axial_current=axc(name=adjprobe.name,i=axialcurrent,color=adjprobe.color)\n",
        "#   # axialcurrents.append(axial_current)\n",
        "#   adjprobe.axialcurrent=axialcurrent\n",
        "\n",
        "# parentprobe.adjprobes=adjprobes\n",
        "# parentprobe.axialcurrents=axialcurrents\n",
        "# parentprobes.append(parentprobe)"
      ],
      "metadata": {
        "id": "LAZTxOQ_mC8B"
      },
      "execution_count": null,
      "outputs": []
    },
    {
      "cell_type": "code",
      "source": [],
      "metadata": {
        "id": "GqJZZK9pAF1G"
      },
      "execution_count": null,
      "outputs": []
    },
    {
      "cell_type": "code",
      "source": [
        "tstop=1000\n",
        "dt=0.1\n",
        "t=np.arange(0,tstop,dt)\n",
        "def get_probe(probe):\n",
        "  name=probe.name\n",
        "  segment=probe.seg\n",
        "  color=probe.color\n",
        "  axialcurrents=probe.axialcurrents\n",
        "  childrenaxialcurrents=probe.childrenaxialcurrents\n",
        "  parentaxialcurrent=probe.parentaxialcurrent\n",
        "  adjprobes=probe.adjprobes\n",
        "  parentprobe=probe.parentprobe\n",
        "  childprobes=probe.childprobes\n",
        "  return name,segment,color,axialcurrents,childrenaxialcurrents,parentaxialcurrent,adjprobes,parentprobe,childprobes\n",
        "\n",
        "def plot_axial_current(probe):\n",
        "  name,segment,color,axialcurrents,childrenaxialcurrents,parentaxialcurrent,adjprobes,parentprobe,childprobes=get_probe(probe)\n",
        "  title=name+' Axial Current'\n",
        "  plt.figure(figsize=(12.8, 4.8))\n",
        "  # for i,AC in enumerate(axial_current):\n",
        "  for c in range(len(parentaxialcurrent)):\n",
        "      # plt.plot(t,ac[dend_type].ravel(),label=dend_type)\n",
        "      plt.plot(t,parentaxialcurrent[c],label=parentprobe[c].name,color='purple')\n",
        "  for c in range(len(childrenaxialcurrents)):\n",
        "      plt.plot(t,childrenaxialcurrents[c],label=childprobes[c].name,color='cyan')\n",
        "  plt.ylabel('nA')\n",
        "  plt.legend()\n",
        "  plt.title(title)\n",
        "  plt.xlabel('time (ms)')\n",
        "  plt.show()\n",
        "\n",
        "def plot_sum_child_axial_current(probe):\n",
        "  name,segment,color,axialcurrents,childrenaxialcurrents,parentaxialcurrent,adjprobes,parentprobe,childprobes=get_probe(probe)\n",
        "  title=name+' Axial Current'\n",
        "  plt.figure(figsize=(12.8, 4.8))\n",
        "  # for i,AC in enumerate(axial_current):\n",
        "  for c in range(len(parentaxialcurrent)):\n",
        "      # plt.plot(t,ac[dend_type].ravel(),label=dend_type)\n",
        "      plt.plot(t,parentaxialcurrent[c],label=parentprobe[c].name,color='purple')\n",
        "  axc=np.zeros(len(childrenaxialcurrents[0]))\n",
        "  for c in range(len(childrenaxialcurrents)):\n",
        "    axc+=childrenaxialcurrents[c] #sum the children axial currents\n",
        "  for c in range(len(childrenaxialcurrents)):\n",
        "      plt.plot(t,axc,label=childprobes[c].name,color='cyan')\n",
        "  plt.ylabel('nA')\n",
        "  plt.legend()\n",
        "  plt.title(title)\n",
        "  plt.xlabel('time (ms)')\n",
        "  plt.show()\n",
        "\n",
        "def sumcurrents(currents):\n",
        "  current=np.zeros(len(currents[0]))\n",
        "  for i in range(len(currents)):\n",
        "    current+=currents[i]\n",
        "  return current\n",
        "\n",
        "def sumcurrentsfromprobes(probes):\n",
        "  probesaxc=np.zeros(len(probes[0].axialcurrents[0]))\n",
        "  for i in range(len(probes)):\n",
        "    axc=sumcurrents(probes[i].axialcurrents)\n",
        "    probesaxc+=axc\n",
        "  return probesaxc\n",
        "  \n",
        "\n",
        "def getsummedprobenames(probe,arg):\n",
        "  name=''\n",
        "  if arg == 'adjprobes':\n",
        "    for i in range(len(probe.adjprobes)):\n",
        "      name+=(' '+probe.adjprobes[i].name)\n",
        "    print(name)\n",
        "  elif arg == 'childprobes':\n",
        "    for i in range(len(probe.childprobes)):\n",
        "      name+=(' '+probe.childprobes[i].name)\n",
        "    print(name)\n",
        "  elif arg == 'parentprobe':\n",
        "    for i in range(len(probe.parentprobe)):\n",
        "      name+=(' '+probe.parentprobe[i].name)\n",
        "  return name\n",
        "\n",
        "\n",
        "def plot_net_axial_current(probe,title=None):\n",
        "  name,segment,color,axialcurrents,childrenaxialcurrents,parentaxialcurrent,adjprobes,parentprobe,childprobes=get_probe(probe)\n",
        "  if title==None:\n",
        "    title=name+' Net Axial Current'\n",
        "  else:\n",
        "    title=title+' Net Axial Current'\n",
        "  plt.figure(figsize=(12.8, 4.8))\n",
        "  # for i,AC in enumerate(axial_current):\n",
        "  # for c in range(len(parentaxialcurrent)):\n",
        "  #     # plt.plot(t,ac[dend_type].ravel(),label=dend_type)\n",
        "  #     plt.plot(t,parentaxialcurrent[c],label=parentprobe[c].name,color='purple')\n",
        "  axc=sumcurrents(axialcurrents)\n",
        "  label=getsummedprobenames(probe,'adjprobes')\n",
        "  plt.plot(t,axc,label=label,color='red')\n",
        "\n",
        "  plt.ylabel('nA')\n",
        "  plt.legend()\n",
        "  plt.title(title)\n",
        "  plt.xlabel('time (ms)')\n",
        "  plt.show()\n",
        "\n",
        "def plot_net_axial_currentmultiprobe(probes,title=None):\n",
        "  # name,segment,color,axialcurrents,childrenaxialcurrents,parentaxialcurrent,adjprobes,parentprobe,childprobes=get_probe(probe)\n",
        "  if title==None:\n",
        "    title=name+' Net Axial Current'\n",
        "  else:\n",
        "    title=title+' Net Axial Current'\n",
        "  plt.figure(figsize=(12.8, 4.8))\n",
        "  # for i,AC in enumerate(axial_current):\n",
        "  # for c in range(len(parentaxialcurrent)):\n",
        "  #     # plt.plot(t,ac[dend_type].ravel(),label=dend_type)\n",
        "  #     plt.plot(t,parentaxialcurrent[c],label=parentprobe[c].name,color='purple')\n",
        "  axc=sumcurrentsfromprobes(probes)\n",
        "  label=''\n",
        "  # for i in range(len(probes)):\n",
        "  #   label+=getsummedprobenames(probes[i],'adjprobes')\n",
        "  plt.plot(t,axc,label=label,color='red')\n",
        "\n",
        "  plt.ylabel('nA')\n",
        "  plt.legend()\n",
        "  plt.title(title)\n",
        "  plt.xlabel('time (ms)')\n",
        "  plt.show()"
      ],
      "metadata": {
        "id": "ieLxyqLMpMHv"
      },
      "execution_count": null,
      "outputs": []
    },
    {
      "cell_type": "code",
      "source": [
        "nexus=[probes[probes[firstsegs[-61]].parentprobe[0].seg]] #select nexus probe\n",
        "soma=[]\n",
        "for i in somasegIDs:\n",
        "  soma.append(probes[i])\n",
        "# soma=[probes[0:5]] #select soma probes\n",
        "print(soma)\n",
        "print(nexus)"
      ],
      "metadata": {
        "id": "7IPGB7K1urPE"
      },
      "execution_count": null,
      "outputs": []
    },
    {
      "cell_type": "code",
      "source": [
        "for probe in nexus:\n",
        "  # import pdb; pdb.set_trace()\n",
        "  plot_net_axial_current(probe, 'Nexus')"
      ],
      "metadata": {
        "id": "hRY3nan7pi2z"
      },
      "execution_count": null,
      "outputs": []
    },
    {
      "cell_type": "code",
      "source": [
        "for probe in [soma]:\n",
        "  # import pdb; pdb.set_trace()\n",
        "  plot_net_axial_currentmultiprobe(probes, 'Soma')"
      ],
      "metadata": {
        "id": "jFAqJVNHF5IR"
      },
      "execution_count": null,
      "outputs": []
    }
  ]
}