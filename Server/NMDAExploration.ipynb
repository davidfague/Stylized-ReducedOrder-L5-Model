{
  "cells": [
    {
      "cell_type": "markdown",
      "metadata": {
        "colab_type": "text",
        "id": "view-in-github"
      },
      "source": [
        "<a href=\"https://colab.research.google.com/github/davidfague/Stylized-ReducedOrder-L5-Model/blob/main/NMDAExploration.ipynb\" target=\"_parent\"><img src=\"https://colab.research.google.com/assets/colab-badge.png\" alt=\"Open In Colab\"/></a>"
      ]
    },
    {
      "cell_type": "code",
      "execution_count": 130,
      "metadata": {
        "id": "kjthfjOQ8Lqs"
      },
      "outputs": [],
      "source": [
        "Detailed=False # Change for whether or not you want to use the detailed or reduced order model\n",
        "tstop=5000\n",
        "dt=0.1"
      ]
    },
    {
      "cell_type": "code",
      "execution_count": 131,
      "metadata": {
        "colab": {
          "base_uri": "https://localhost:8080/"
        },
        "id": "dDVZmhyv8CgH",
        "outputId": "c72e9d08-0db9-4a63-b156-abcb423a13db"
      },
      "outputs": [
        {
          "name": "stdout",
          "output_type": "stream",
          "text": [
            "Model should already be in directory.\n"
          ]
        }
      ],
      "source": [
        "server=True #whether or not the folder is already in your directory\n",
        "github=False # Change for whether or not you want to get the model from github or google drive\n",
        "#Github isn't working right now because you need the data on Github, but the data is too large to upload.\n",
        "\n",
        "save_dfs=False #Change for if you want to save the dataframes as csvs\n",
        "\n",
        "import shutil\n",
        "if server==True:\n",
        "  print('Model should already be in directory.') #supports large data files in directory\n",
        "elif github==True: # If you do not already have the model you can clone from Github; large data files are not stored on Github\n",
        "  # shutil.rmtree('Stylized-ReducedOrder-L5-Model/') #removes folder if already cloned\n",
        "  !git clone https://github.com/davidfague/Stylized-ReducedOrder-L5-Model.git\n",
        "  %cd Stylized-ReducedOrder-L5-Model/\n",
        "else: #If you have the folder in your google drive (easier to update geom_parameters), and allows uploading of large data files\n",
        "  from google.colab import drive\n",
        "  drive.mount('/content/drive')\n",
        "  %cd /content/drive/MyDrive/Stylized-ReducedOrder-L5-Model/\n",
        "  tstop=1000"
      ]
    },
    {
      "cell_type": "code",
      "execution_count": 132,
      "metadata": {
        "id": "fCzdVIpt5aS4"
      },
      "outputs": [],
      "source": [
        "import pandas as pd\n",
        "import h5py\n",
        "import numpy as np\n",
        "import matplotlib.pyplot as plt\n",
        "# import seaborn as sns #there is not module named seaborn on the server, but it doesn't seem to be used\n",
        "import scipy.signal as ss\n",
        "import pdb\n",
        "# import ZipFile"
      ]
    },
    {
      "cell_type": "code",
      "execution_count": 133,
      "metadata": {
        "id": "k2SfrlXQ8gLb"
      },
      "outputs": [],
      "source": [
        "if Detailed == True:\n",
        "  # output_folder = 'Detailedoutput_control' #no ina.h5\n",
        "  output_folder = 'Detailedoutput'\n",
        "  segs = pd.read_csv('DetailedSegments.csv')\n",
        "  degrees_f='DetailedSegmentDegrees.csv'\n",
        "  # ZipFile.extractall(path='Detailedoutput_control', members=None, pwd=None) #possible implementation for unzipping data from github\n",
        "else:\n",
        "  output_folder = 'output_control'+str(tstop)\n",
        "  segs = pd.read_csv('ReducedSegments.csv')\n",
        "  degrees_f='SegmentsDegrees.csv'\n",
        "\n",
        "conns = pd.read_csv('./{}/Connections.csv'.format(output_folder))"
      ]
    },
    {
      "cell_type": "code",
      "execution_count": 134,
      "metadata": {
        "id": "E2Jp8o0E4vac"
      },
      "outputs": [],
      "source": [
        "def voltage_criterion(data=None, v_thresh=-40, time_thresh=260):\n",
        "    threshold_crossings = np.diff(data > v_thresh, prepend=False)\n",
        "    upward_crossings = np.argwhere(threshold_crossings)[::2,0]\n",
        "    downward_crossings = np.argwhere(threshold_crossings)[1::2,0]\n",
        "    # If length of threshold_crossings is not even\n",
        "    if np.mod(np.argwhere(threshold_crossings).reshape(-1,).shape[0],2)!=0:\n",
        "        legit_up_crossings = upward_crossings[:-1][np.diff(np.argwhere(threshold_crossings).reshape(-1,))[::2]>time_thresh]\n",
        "        legit_down_crossings = downward_crossings[np.diff(np.argwhere(threshold_crossings).reshape(-1,))[::2]>time_thresh]\n",
        "    else:\n",
        "        legit_up_crossings = upward_crossings[np.diff(np.argwhere(threshold_crossings).reshape(-1,))[::2]>time_thresh]\n",
        "        legit_down_crossings = downward_crossings[np.diff(np.argwhere(threshold_crossings).reshape(-1,))[::2]>time_thresh]\n",
        "    return upward_crossings, legit_up_crossings, legit_down_crossings\n",
        "\n",
        "# Input: upward and downward crossings\n",
        "# Output: bounds of NMDA spikes meeting current criterion\n",
        "def current_criterion(legit_uc_iso=[], legit_dc_iso=[], p=1, control_inmda=np.array([1])):\n",
        "    bounds = []\n",
        "    sum_current = []\n",
        "    \n",
        "\n",
        "    for ind1 in np.arange(0,len(legit_uc_iso)):\n",
        "        e1 = control_inmda[legit_uc_iso[ind1], p] #current @ up_crossing[ind1]\n",
        "        #all the indices where current crosses 130% of e1\n",
        "        x30 = np.argwhere(np.diff(control_inmda[legit_uc_iso[ind1]:legit_dc_iso[ind1], p] < 1.3*e1, prepend=False))\n",
        "        #all the indices where current crosses 115% of e1\n",
        "        x15 = np.argwhere(np.diff(control_inmda[legit_uc_iso[ind1]:legit_dc_iso[ind1], p] < 1.15*e1, prepend=False))\n",
        "        \n",
        "        if len(x30)>0:\n",
        "        \n",
        "            x15_copy = x15\n",
        "            x30_copy = x30\n",
        "            \n",
        "            try:\n",
        "                i = x30[0][0]\n",
        "            except:\n",
        "                import pdb; pdb.set_trace()\n",
        "                \n",
        "            n = 0\n",
        "            \n",
        "            \n",
        "            while n==0:\n",
        "                if len(np.sort(x15[x15>i]))!=0:\n",
        "                    b1 = i\n",
        "                    b2 = np.sort(x15[x15>i])[0]\n",
        "                    bounds.append([legit_uc_iso[ind1]+b1,legit_uc_iso[ind1]+b2])\n",
        "                    sum_current.append(np.sum(control_inmda[legit_uc_iso[ind1]+b1:legit_uc_iso[ind1]+b2,p])/10)\n",
        "                else:\n",
        "                    b1 = i\n",
        "                    b2 = (legit_dc_iso[ind1]-legit_uc_iso[ind1])\n",
        "                    bounds.append([legit_uc_iso[ind1]+b1,legit_uc_iso[ind1]+b2])\n",
        "                    sum_current.append(np.sum(control_inmda[legit_uc_iso[ind1]+b1:legit_uc_iso[ind1]+b2,p])/10)\n",
        "                    n=1\n",
        "                \n",
        "                x30_copy = x30_copy[x30_copy>legit_uc_iso[ind1]+b2]\n",
        "                #import pdb; pdb.set_trace()\n",
        "                \n",
        "                if len(x30_copy)!=0:\n",
        "                    i = x30_copy[x30_copy>b2][0]\n",
        "                else:\n",
        "                    n=1\n",
        "    return bounds, sum_current\n"
      ]
    },
    {
      "cell_type": "code",
      "execution_count": 135,
      "metadata": {
        "colab": {
          "base_uri": "https://localhost:8080/",
          "height": 206
        },
        "id": "1lrjxBj8-e4L",
        "outputId": "827c6310-61f5-4ae0-81ba-d6f3e0bc4f8d"
      },
      "outputs": [
        {
          "data": {
            "text/html": [
              "<div>\n",
              "<style scoped>\n",
              "    .dataframe tbody tr th:only-of-type {\n",
              "        vertical-align: middle;\n",
              "    }\n",
              "\n",
              "    .dataframe tbody tr th {\n",
              "        vertical-align: top;\n",
              "    }\n",
              "\n",
              "    .dataframe thead th {\n",
              "        text-align: right;\n",
              "    }\n",
              "</style>\n",
              "<table border=\"1\" class=\"dataframe\">\n",
              "  <thead>\n",
              "    <tr style=\"text-align: right;\">\n",
              "      <th></th>\n",
              "      <th>Node ID</th>\n",
              "      <th>Distance</th>\n",
              "      <th>Conductance</th>\n",
              "      <th>Type</th>\n",
              "      <th>Name</th>\n",
              "      <th>Source Population</th>\n",
              "      <th>Release Probability</th>\n",
              "    </tr>\n",
              "  </thead>\n",
              "  <tbody>\n",
              "    <tr>\n",
              "      <th>0</th>\n",
              "      <td>2</td>\n",
              "      <td>17.3125</td>\n",
              "      <td>0.013573</td>\n",
              "      <td>dend</td>\n",
              "      <td>L5PCtemplate[0].dend[1](0.22191836595450065)</td>\n",
              "      <td>exc_stim</td>\n",
              "      <td>1.0</td>\n",
              "    </tr>\n",
              "    <tr>\n",
              "      <th>1</th>\n",
              "      <td>2</td>\n",
              "      <td>17.3125</td>\n",
              "      <td>0.114036</td>\n",
              "      <td>dend</td>\n",
              "      <td>L5PCtemplate[0].dend[1](0.148825692570405)</td>\n",
              "      <td>exc_stim</td>\n",
              "      <td>1.0</td>\n",
              "    </tr>\n",
              "    <tr>\n",
              "      <th>2</th>\n",
              "      <td>8</td>\n",
              "      <td>49.0000</td>\n",
              "      <td>0.092948</td>\n",
              "      <td>dend</td>\n",
              "      <td>L5PCtemplate[0].dend[1](0.9905666079524836)</td>\n",
              "      <td>exc_stim</td>\n",
              "      <td>1.0</td>\n",
              "    </tr>\n",
              "    <tr>\n",
              "      <th>3</th>\n",
              "      <td>6</td>\n",
              "      <td>36.8125</td>\n",
              "      <td>0.085514</td>\n",
              "      <td>dend</td>\n",
              "      <td>L5PCtemplate[0].dend[1](0.6939801895340107)</td>\n",
              "      <td>exc_stim</td>\n",
              "      <td>1.0</td>\n",
              "    </tr>\n",
              "    <tr>\n",
              "      <th>4</th>\n",
              "      <td>6</td>\n",
              "      <td>36.8125</td>\n",
              "      <td>0.030317</td>\n",
              "      <td>dend</td>\n",
              "      <td>L5PCtemplate[0].dend[1](0.6483533687777879)</td>\n",
              "      <td>exc_stim</td>\n",
              "      <td>1.0</td>\n",
              "    </tr>\n",
              "  </tbody>\n",
              "</table>\n",
              "</div>"
            ],
            "text/plain": [
              "   Node ID  Distance  Conductance  Type  \\\n",
              "0        2   17.3125     0.013573  dend   \n",
              "1        2   17.3125     0.114036  dend   \n",
              "2        8   49.0000     0.092948  dend   \n",
              "3        6   36.8125     0.085514  dend   \n",
              "4        6   36.8125     0.030317  dend   \n",
              "\n",
              "                                           Name Source Population  \\\n",
              "0  L5PCtemplate[0].dend[1](0.22191836595450065)          exc_stim   \n",
              "1    L5PCtemplate[0].dend[1](0.148825692570405)          exc_stim   \n",
              "2   L5PCtemplate[0].dend[1](0.9905666079524836)          exc_stim   \n",
              "3   L5PCtemplate[0].dend[1](0.6939801895340107)          exc_stim   \n",
              "4   L5PCtemplate[0].dend[1](0.6483533687777879)          exc_stim   \n",
              "\n",
              "   Release Probability  \n",
              "0                  1.0  \n",
              "1                  1.0  \n",
              "2                  1.0  \n",
              "3                  1.0  \n",
              "4                  1.0  "
            ]
          },
          "execution_count": 135,
          "metadata": {},
          "output_type": "execute_result"
        }
      ],
      "source": [
        "conns.head()"
      ]
    },
    {
      "cell_type": "code",
      "execution_count": 136,
      "metadata": {
        "id": "YBYCzx-D52YK"
      },
      "outputs": [],
      "source": [
        "conns.loc[conns.Type=='dend','Sec ID'] = conns.loc[conns.Type=='dend','Name'].apply(lambda x: int(x.split('dend[')[1].split(']')[0]))"
      ]
    },
    {
      "cell_type": "code",
      "execution_count": 137,
      "metadata": {
        "id": "xsVHZyAX4vaf"
      },
      "outputs": [],
      "source": [
        "conns.loc[conns.Type=='dend','Sec ID'] = conns.loc[conns.Type=='dend','Name'].apply(lambda x: int(x.split('dend[')[1].split(']')[0]))\n",
        "conns.loc[conns.Type=='apic','Sec ID'] = conns.loc[conns.Type=='apic','Name'].apply(lambda x: int(x.split('apic[')[1].split(']')[0]))\n",
        "conns.loc[conns.Type=='soma','Sec ID'] = conns.loc[conns.Type=='soma','Name'].apply(lambda x: int(x.split('soma[')[1].split(']')[0]))\n",
        "conns.loc[conns.Type=='axon','Sec ID'] = conns.loc[conns.Type=='axon','Name'].apply(lambda x: int(x.split('axon[')[1].split(']')[0]))\n",
        "\n",
        "conns['X'] = conns['Name'].apply(lambda x: float(x.split('(')[1].split(')')[0]))\n",
        "\n",
        "conns.rename(columns={'Distance':'conns_Distance'},inplace=True)\n",
        "\n",
        "conns['Sec ID'] = conns['Sec ID'].astype(int)\n",
        "conns['X'] = conns['X'].astype(float)"
      ]
    },
    {
      "cell_type": "code",
      "execution_count": 138,
      "metadata": {},
      "outputs": [],
      "source": [
        "# print(segs['segmentID'])"
      ]
    },
    {
      "cell_type": "code",
      "execution_count": 139,
      "metadata": {},
      "outputs": [
        {
          "name": "stdout",
          "output_type": "stream",
          "text": [
            "     segmentID  BMTK ID   Seg_L   Seg_diam        X          Type  Sec ID  \\\n",
            "0            0        0  20.000  20.000000  0.50000          soma       0   \n",
            "1            1        1   4.875   1.295714  0.06250          dend       0   \n",
            "2            2        1   4.875   1.295714  0.18750          dend       0   \n",
            "3            3        1   4.875   1.295714  0.31250          dend       0   \n",
            "4            4        1   4.875   1.295714  0.43750          dend       0   \n",
            "..         ...      ...     ...        ...      ...           ...     ...   \n",
            "983        983       36   5.000   1.600000  0.71875  passivebasal       3   \n",
            "984        984       36   5.000   1.600000  0.78125  passivebasal       3   \n",
            "985        985       36   5.000   1.600000  0.84375  passivebasal       3   \n",
            "986        986       36   5.000   1.600000  0.90625  passivebasal       3   \n",
            "987        987       36   5.000   1.600000  0.96875  passivebasal       3   \n",
            "\n",
            "     Distance  Section_L  Section_diam  ...       Coord X    Coord Y  \\\n",
            "0     10.0000       20.0     20.000000  ...  0.000000e+00  10.000000   \n",
            "1     22.4375       39.0      1.295714  ...  0.000000e+00   0.000000   \n",
            "2     27.3125       39.0      1.295714  ...  4.235649e+00  -3.619406   \n",
            "3     32.1875       39.0      1.295714  ...  8.471297e+00  -7.238811   \n",
            "4     37.0625       39.0      1.295714  ...  1.270695e+01 -10.858217   \n",
            "..        ...        ...           ...  ...           ...        ...   \n",
            "983   77.5000       80.0      1.600000  ... -1.077689e-14   0.000000   \n",
            "984   82.5000       80.0      1.600000  ... -1.175661e-14   0.000000   \n",
            "985   87.5000       80.0      1.600000  ... -1.273633e-14   0.000000   \n",
            "986   92.5000       80.0      1.600000  ... -1.371604e-14   0.000000   \n",
            "987   97.5000       80.0      1.600000  ... -1.469576e-14   0.000000   \n",
            "\n",
            "       Coord Z  ParentSegID  Elec_distance  Elec_distance_nexus      Sec Name  \\\n",
            "0     0.000000          NaN       1.000000             1.000000          soma   \n",
            "1     0.000000          0.0       0.945563             0.945563     proxbasal   \n",
            "2     0.000000          1.0       0.847182             0.847182     proxbasal   \n",
            "3     0.000000          2.0       0.762211             0.762211     proxbasal   \n",
            "4     0.000000          3.0       0.689646             0.689646     proxbasal   \n",
            "..         ...          ...            ...                  ...           ...   \n",
            "983 -58.666667        982.0       0.480345             0.480345  passivebasal   \n",
            "984 -64.000000        983.0       0.457455             0.457455  passivebasal   \n",
            "985 -69.333333        984.0       0.436492             0.436492  passivebasal   \n",
            "986 -74.666667        985.0       0.417239             0.417239  passivebasal   \n",
            "987 -80.000000        986.0       0.399504             0.399504  passivebasal   \n",
            "\n",
            "     Degrees num_syns_exc  num_syns_inh  \n",
            "0          0            0           406  \n",
            "1          1            6             2  \n",
            "2          1           10             1  \n",
            "3          1            7             1  \n",
            "4          1            5             0  \n",
            "..       ...          ...           ...  \n",
            "983        1            0             0  \n",
            "984        1            0             0  \n",
            "985        1            0             0  \n",
            "986        1            0             0  \n",
            "987        1            0             0  \n",
            "\n",
            "[988 rows x 22 columns]\n"
          ]
        }
      ],
      "source": [
        "print(segs)"
      ]
    },
    {
      "cell_type": "code",
      "execution_count": 140,
      "metadata": {
        "colab": {
          "base_uri": "https://localhost:8080/"
        },
        "id": "0BpOPokH4vag",
        "outputId": "d1ec5d5d-8761-47f4-ae9c-f003ee8cd2ea"
      },
      "outputs": [
        {
          "name": "stdout",
          "output_type": "stream",
          "text": [
            "Segment Degrees Missing\n"
          ]
        }
      ],
      "source": [
        "try:\n",
        "  segs_degrees = pd.read_csv(degrees_f).groupby(['Sec ID','Type'])['Degrees'].max().reset_index() #degrees_f is segment degrees .csv file\n",
        "except:\n",
        "  print('Segment Degrees Missing')\n",
        "  \n",
        "segs['segmentID'] = segs.index\n",
        "\n",
        "try:\n",
        "  segs = segs.set_index(['Type','Sec ID']).join(segs_degrees.set_index(['Type','Sec ID'])).reset_index()\n",
        "except:\n",
        "  print('Segment Degrees Missing')\n",
        "segs['Sec ID'] = segs['Sec ID'].astype(int)\n",
        "segs['X'] = segs['X'].astype(float)\n",
        "segs['Elec_distanceQ'] = 'None'\n",
        "segs['DistanceQ'] = 'None'\n",
        "\n",
        "try:\n",
        "  segs.loc[segs.Type=='dend','Elec_distanceQ'] = pd.qcut(segs.loc[segs.Type=='dend','Elec_distance'], 10, labels=False, duplicates = 'drop')\n",
        "  segs.loc[segs.Type=='apic','Elec_distanceQ'] = pd.qcut(segs.loc[segs.Type=='apic','Elec_distance'], 10, labels=False, duplicates = 'drop')\n",
        "  segs.loc[segs.Type=='dend','DistanceQ'] = pd.qcut(segs.loc[segs.Type=='dend','Distance'], 10, labels=False, duplicates = 'drop')\n",
        "  segs.loc[segs.Type=='apic','DistanceQ'] = pd.qcut(segs.loc[segs.Type=='apic','Distance'], 10, labels=False, duplicates = 'drop')\n",
        "except:\n",
        "  print('Elec_distance missing')"
      ]
    },
    {
      "cell_type": "code",
      "execution_count": 141,
      "metadata": {},
      "outputs": [
        {
          "name": "stdout",
          "output_type": "stream",
          "text": [
            "     segmentID  BMTK ID   Seg_L   Seg_diam        X          Type  Sec ID  \\\n",
            "0            0        0  20.000  20.000000  0.50000          soma       0   \n",
            "1            1        1   4.875   1.295714  0.06250          dend       0   \n",
            "2            2        1   4.875   1.295714  0.18750          dend       0   \n",
            "3            3        1   4.875   1.295714  0.31250          dend       0   \n",
            "4            4        1   4.875   1.295714  0.43750          dend       0   \n",
            "..         ...      ...     ...        ...      ...           ...     ...   \n",
            "983        983       36   5.000   1.600000  0.71875  passivebasal       3   \n",
            "984        984       36   5.000   1.600000  0.78125  passivebasal       3   \n",
            "985        985       36   5.000   1.600000  0.84375  passivebasal       3   \n",
            "986        986       36   5.000   1.600000  0.90625  passivebasal       3   \n",
            "987        987       36   5.000   1.600000  0.96875  passivebasal       3   \n",
            "\n",
            "     Distance  Section_L  Section_diam  ...    Coord Z  ParentSegID  \\\n",
            "0     10.0000       20.0     20.000000  ...   0.000000          NaN   \n",
            "1     22.4375       39.0      1.295714  ...   0.000000          0.0   \n",
            "2     27.3125       39.0      1.295714  ...   0.000000          1.0   \n",
            "3     32.1875       39.0      1.295714  ...   0.000000          2.0   \n",
            "4     37.0625       39.0      1.295714  ...   0.000000          3.0   \n",
            "..        ...        ...           ...  ...        ...          ...   \n",
            "983   77.5000       80.0      1.600000  ... -58.666667        982.0   \n",
            "984   82.5000       80.0      1.600000  ... -64.000000        983.0   \n",
            "985   87.5000       80.0      1.600000  ... -69.333333        984.0   \n",
            "986   92.5000       80.0      1.600000  ... -74.666667        985.0   \n",
            "987   97.5000       80.0      1.600000  ... -80.000000        986.0   \n",
            "\n",
            "     Elec_distance  Elec_distance_nexus      Sec Name  Degrees  num_syns_exc  \\\n",
            "0         1.000000             1.000000          soma        0             0   \n",
            "1         0.945563             0.945563     proxbasal        1             6   \n",
            "2         0.847182             0.847182     proxbasal        1            10   \n",
            "3         0.762211             0.762211     proxbasal        1             7   \n",
            "4         0.689646             0.689646     proxbasal        1             5   \n",
            "..             ...                  ...           ...      ...           ...   \n",
            "983       0.480345             0.480345  passivebasal        1             0   \n",
            "984       0.457455             0.457455  passivebasal        1             0   \n",
            "985       0.436492             0.436492  passivebasal        1             0   \n",
            "986       0.417239             0.417239  passivebasal        1             0   \n",
            "987       0.399504             0.399504  passivebasal        1             0   \n",
            "\n",
            "     num_syns_inh Elec_distanceQ  DistanceQ  \n",
            "0             406           None       None  \n",
            "1               2              9          0  \n",
            "2               1              9          0  \n",
            "3               1              9          0  \n",
            "4               0              9          0  \n",
            "..            ...            ...        ...  \n",
            "983             0           None       None  \n",
            "984             0           None       None  \n",
            "985             0           None       None  \n",
            "986             0           None       None  \n",
            "987             0           None       None  \n",
            "\n",
            "[988 rows x 24 columns]\n"
          ]
        }
      ],
      "source": [
        "print(segs)"
      ]
    },
    {
      "cell_type": "code",
      "execution_count": 142,
      "metadata": {
        "id": "ObhvUlAb4vag"
      },
      "outputs": [],
      "source": [
        "# #connections.csv may need improvement\n",
        "# exc_syns_per_seg = conns[conns['Source Population']=='exc_stim'].groupby(['Type','Sec ID','X'])['Conductance'].count().reset_index().rename(columns={'Conductance':'num_syns'})\n",
        "# inh_conns = conns[(conns['Source Population']=='dist_inh_stim')|\n",
        "#                   (conns['Source Population']=='prox_inh_stim')].sort_values(by=['Type','Sec ID','X']).reset_index(drop=True)\n",
        "# inh_syns_per_seg = inh_conns.groupby(['Type','Sec ID','X'])['Conductance'].count().reset_index().rename(columns={'Conductance':'num_syns'})\n",
        "\n",
        "# segs['segmentID'] = segs.groupby(['Type','Sec ID']).cumcount()+1 #* alters segmentIDs\n",
        "\n",
        "# exc_syns_per_seg['segmentID'] = exc_syns_per_seg.groupby(['Type','Sec ID']).cumcount()+1\n",
        "# inh_syns_per_seg['segmentID'] = inh_syns_per_seg.groupby(['Type','Sec ID']).cumcount()+1\n",
        "\n",
        "# exc_syns = segs.set_index(['Type','Sec ID','segmentID']).join(exc_syns_per_seg[['Type','Sec ID','segmentID','num_syns']].set_index(['Type','Sec ID','segmentID'])).reset_index()\n",
        "# inh_syns = segs.set_index(['Type','Sec ID','segmentID']).join(inh_syns_per_seg[['Type','Sec ID','segmentID','num_syns']].set_index(['Type','Sec ID','segmentID'])).reset_index()\n"
      ]
    },
    {
      "cell_type": "code",
      "execution_count": 143,
      "metadata": {
        "colab": {
          "base_uri": "https://localhost:8080/",
          "height": 206
        },
        "id": "2Few52k-4vag",
        "outputId": "bd9f9fdd-67c1-4a0a-db61-30d33be38698"
      },
      "outputs": [],
      "source": [
        "# exc_syns_per_seg.head()"
      ]
    },
    {
      "cell_type": "code",
      "execution_count": 144,
      "metadata": {
        "id": "GqAaIDem4vah"
      },
      "outputs": [],
      "source": [
        "segs['segmentID'] = segs.groupby(['Type','Sec ID']).cumcount()+1"
      ]
    },
    {
      "cell_type": "code",
      "execution_count": 145,
      "metadata": {
        "id": "X-FQZkN64vah"
      },
      "outputs": [],
      "source": [
        "# exc_syns_per_seg['segmentID'] = exc_syns_per_seg.groupby(['Type','Sec ID']).cumcount()+1"
      ]
    },
    {
      "cell_type": "code",
      "execution_count": 146,
      "metadata": {
        "id": "YFfgDwZL4vah"
      },
      "outputs": [],
      "source": [
        "# exc_syns = segs.set_index(['Type','Sec ID','segmentID']).join(exc_syns_per_seg[['Type','Sec ID','segmentID','num_syns']].set_index(['Type','Sec ID','segmentID'])).reset_index()\n"
      ]
    },
    {
      "cell_type": "code",
      "execution_count": 147,
      "metadata": {
        "id": "bhpJr1up4vai"
      },
      "outputs": [],
      "source": [
        "v = h5py.File('./{}/v_report.h5'.format(output_folder),'r')\n",
        "hva = h5py.File('./{}/Ca_HVA.ica_report.h5'.format(output_folder),'r')\n",
        "lva = h5py.File('./{}/Ca_LVAst.ica_report.h5'.format(output_folder),'r')\n",
        "ih = h5py.File('./{}/Ih.ihcn_report.h5'.format(output_folder),'r')\n",
        "\n",
        "nmda = h5py.File('./{}/inmda_report.h5'.format(output_folder),'r')\n",
        "\n",
        "na = h5py.File('./{}/NaTa_t.gNaTa_t_report.h5'.format(output_folder),'r')\n",
        "ina = h5py.File('./{}/NaTa_t.ina_report.h5'.format(output_folder),'r')\n",
        "\n",
        "spks = h5py.File('./{}/spikes.h5'.format(output_folder),'r')\n",
        "\n",
        "\n",
        "#v['report']['biophysical']['data'][:]"
      ]
    },
    {
      "cell_type": "code",
      "execution_count": 148,
      "metadata": {
        "colab": {
          "base_uri": "https://localhost:8080/"
        },
        "id": "CxkFxWNLtXA1",
        "outputId": "8233aa20-d4de-4eaf-a6db-c58f0b570828"
      },
      "outputs": [
        {
          "data": {
            "text/plain": [
              "array([False, False, False, ..., False, False, False])"
            ]
          },
          "execution_count": 148,
          "metadata": {},
          "output_type": "execute_result"
        }
      ],
      "source": [
        "v_thresh = -40 #initial v_thresh\n",
        "v_thresh = -40\n",
        "np.diff(v['report']['biophysical']['data'][:-10000,1]> v_thresh, prepend=False)"
      ]
    },
    {
      "cell_type": "code",
      "execution_count": 149,
      "metadata": {
        "id": "JrQxbXCr4vai"
      },
      "outputs": [],
      "source": [
        "spktimes = spks['spikes']['biophysical']['timestamps'][:]\n",
        "spkinds = np.sort((spktimes*10).astype(int))"
      ]
    },
    {
      "cell_type": "code",
      "execution_count": 150,
      "metadata": {
        "id": "7EMfd8Hw4vai"
      },
      "outputs": [],
      "source": [
        "na_df = pd.DataFrame(columns=['segmentID','na_lower_bound'])\n",
        "# na_df1 = pd.DataFrame(columns=['segmentID','na_lower_bound'])\n",
        "\n",
        "for p in segs[(segs.Type=='dend')|(segs.Type=='apic')].index:\n",
        "    #print(p)\n",
        "    threshold_crossings = np.diff(na['report']['biophysical']['data'][:,p] > (0.003/1000), prepend=False) #*/1000?\n",
        "    upward_crossings = np.argwhere(threshold_crossings)[::2,0]\n",
        "    downward_crossings = np.argwhere(threshold_crossings)[1::2,0]\n",
        "    # Only count if not within 2 ms after a somatic spike\n",
        "    na_spks = [i for i in upward_crossings if ~np.any((i-spkinds>=-5) & (i-spkinds<50))]\n",
        "    \n",
        "    if len(na_spks)>0:\n",
        "        # na_df1 = na_df1.append(pd.DataFrame({'segmentID':np.tile(p,len(na_spks)),\n",
        "        #                                        'na_lower_bound':na_spks}))\n",
        "        na_df = pd.concat([na_df,pd.DataFrame({'segmentID':np.tile(p,len(na_spks)), #allegedly this is the same as append\n",
        "                                                'na_lower_bound':na_spks})],axis=0, join='outer')\n",
        "    else:\n",
        "        # na_df1 = na_df1.append(pd.DataFrame({'segmentID':p,\n",
        "        #                                        'na_lower_bound':np.array([np.nan])}))\n",
        "        na_df = pd.concat([na_df,pd.DataFrame({'segmentID':p,\n",
        "                                        'na_lower_bound':np.array([np.nan])})],axis=0, join='outer')\n",
        "\n",
        "# print(na_df==na_df1)"
      ]
    },
    {
      "cell_type": "code",
      "execution_count": 151,
      "metadata": {
        "colab": {
          "base_uri": "https://localhost:8080/"
        },
        "id": "P_AErLdR4vai",
        "outputId": "67ebb07b-7aef-4623-f06c-2a0668e8ed75"
      },
      "outputs": [],
      "source": [
        "if save_dfs==True:\n",
        "    na_df.to_csv(output_folder+'/'+'na_df.csv')\n",
        "    na_df = pd.read_csv(output_folder+'/'+'na_df.csv')\n",
        "\n",
        "\n",
        "def reshape_pad(v, fillval=np.nan):\n",
        "    lens = np.array([len(item) for item in v])\n",
        "    mask = lens[:,None] > np.arange(lens.max())\n",
        "    out = np.full(mask.shape,fillval)\n",
        "    out[mask] = np.concatenate(v)\n",
        "    return out"
      ]
    },
    {
      "cell_type": "code",
      "execution_count": 152,
      "metadata": {
        "id": "pSnsZWvzUIlx"
      },
      "outputs": [],
      "source": [
        "# #* investigate\n",
        "# # get the value of the conductance at the peak\n",
        "# df = pd.DataFrame(columns=['segmentID','na_lower_bound','peak_value'])\n",
        "\n",
        "# for s in na_df[~pd.isnull(na_df.na_lower_bound)].segmentID.unique():\n",
        "\n",
        "#     inds = na_df[na_df.segmentID==s]['na_lower_bound'].astype(int).values\n",
        "    \n",
        "#     L = np.split(na['report']['biophysical']['data'][:,s], inds)\n",
        "    \n",
        "#     X = reshape_pad(L)\n",
        "    \n",
        "#     peak_vals = np.max(X[:,0:10], axis=1)\n",
        "    \n",
        "#     df = pd.concat((df,pd.DataFrame({'segmentID': s*np.ones((inds.shape[0],)).astype(int),\n",
        "#                                      'na_lower_bound': inds, \n",
        "#                                      'peak_value': peak_vals[1:]})))\n",
        "\n",
        "# df.head()\n",
        "# df.groupby('segmentID')['peak_value'].mean().hist()\n",
        "# df_gb = df.groupby('segmentID')['na_lower_bound'].count().sort_values().reset_index()\n",
        "# outliers = df_gb[df_gb.na_lower_bound>1000]['segmentID'].values\n",
        "# df_noout = df[(df.segmentID.isin(outliers))&(df.peak_value>0.006)]\n",
        "# na_df_new = pd.concat((df_noout[['segmentID','na_lower_bound','peak_value']],\n",
        "#                        na_df.loc[~na_df.segmentID.isin(outliers),['segmentID','na_lower_bound','peak_value']]))\n",
        "# na_df_new.to_csv('na_df.csv',index=False)\n",
        " \n",
        "# df.loc[df.segmentID==936,'peak_value'].hist(bins=np.arange(0.003,0.01,0.001))"
      ]
    },
    {
      "cell_type": "code",
      "execution_count": 153,
      "metadata": {},
      "outputs": [
        {
          "data": {
            "text/plain": [
              "0       686\n",
              "1       891\n",
              "2      2337\n",
              "3      4324\n",
              "4      5657\n",
              "      ...  \n",
              "72    48228\n",
              "73    48890\n",
              "74    49256\n",
              "75    49696\n",
              "76    49844\n",
              "Name: na_lower_bound, Length: 30507, dtype: object"
            ]
          },
          "execution_count": 153,
          "metadata": {},
          "output_type": "execute_result"
        }
      ],
      "source": [
        "na_df.na_lower_bound"
      ]
    },
    {
      "cell_type": "code",
      "execution_count": null,
      "metadata": {
        "id": "b7lOX8Uq4vai"
      },
      "outputs": [],
      "source": [
        "# #could try to make this recursive in the case that the random choice fails\n",
        "\n",
        "# for i in na_df.segmentID.unique():\n",
        "#    seg = na_df.loc[i,'segmentID']\n",
        "#    if not pd.isnull(na_df.loc[i,'na_lower_bound']):\n",
        "#        spkt = int(na_df.loc[i,'na_lower_bound'])\n",
        "#        trace = na['report']['biophysical']['data'][spkt-10:spkt+10,seg]\n",
        "#        peak_value = np.max(trace)\n",
        "#        half_peak = peak_value/2\n",
        "#        duration = np.arange(0,20)[trace>half_peak] + spkt - 10\n",
        "#        na_df.loc[i,'duration_low'] = duration[0]\n",
        "#        na_df.loc[i,'duration_high'] = duration[-1]\n",
        "#        na_df.loc[i,'peak_value'] = peak_value\n",
        "#    else:\n",
        "#        na_df.loc[i,'duration_low'] = np.nan\n",
        "#        na_df.loc[i,'duration_high'] = np.nan\n",
        "#        na_df.loc[i,'peak_value'] = np.nan\n",
        "       \n",
        "# na_df['duration'] = (na_df['duration_high'] - na_df['duration_low'] + 1)/10\n",
        "\n",
        "for i in na_df.segmentID.unique():\n",
        "    seg = na_df.loc[i,'segmentID']\n",
        "    if not pd.isnull(na_df.loc[i,'na_lower_bound']):\n",
        "        spkt = int(na_df.loc[i,'na_lower_bound'])\n",
        "        trace = na['report']['biophysical']['data'][spkt-10:spkt+10,seg]\n",
        "        peak_value = np.max(trace)\n",
        "        half_peak = peak_value/2\n",
        "        # duration = np.arange(0,20)[trace>half_peak] + spkt - 10 #gave occasional error\n",
        "        duration = np.arange(0,len(trace))[trace>half_peak] + spkt - 10\n",
        "        na_df.loc[i,'duration_low'] = duration[0]\n",
        "        na_df.loc[i,'duration_high'] = duration[-1]\n",
        "        na_df.loc[i,'peak_value'] = peak_value\n",
        "    else:\n",
        "        na_df.loc[i,'duration_low'] = np.nan\n",
        "        na_df.loc[i,'duration_high'] = np.nan\n",
        "        na_df.loc[i,'peak_value'] = np.nan"
      ]
    },
    {
      "cell_type": "code",
      "execution_count": null,
      "metadata": {},
      "outputs": [],
      "source": []
    },
    {
      "cell_type": "code",
      "execution_count": null,
      "metadata": {
        "id": "BI9Bf8hl4vai"
      },
      "outputs": [],
      "source": [
        "# na_df['duration'] = (na_df['duration_high'] - na_df['duration_low'] + 1)/10"
      ]
    },
    {
      "cell_type": "code",
      "execution_count": null,
      "metadata": {
        "colab": {
          "base_uri": "https://localhost:8080/"
        },
        "id": "FnJPbRFl4vaj",
        "outputId": "5ccad9b8-83ca-48fe-ab92-e63ea7d52495"
      },
      "outputs": [
        {
          "name": "stderr",
          "output_type": "stream",
          "text": [
            "/home/drfrbc/miniconda3/lib/python3.9/site-packages/pandas/core/indexes/base.py:6982: FutureWarning: In a future version, the Index constructor will not infer numeric dtypes when passed object-dtype sequences (matching Series behavior)\n",
            "  return Index(sequences[0], name=names)\n"
          ]
        },
        {
          "data": {
            "text/plain": [
              "<bound method NDFrame.head of    segmentID na_lower_bound\n",
              "0          1            686\n",
              "1          1            891\n",
              "2          1           2337\n",
              "3          1           4324\n",
              "4          1           5657\n",
              "..       ...            ...\n",
              "72       911          48228\n",
              "73       911          48890\n",
              "74       911          49256\n",
              "75       911          49696\n",
              "76       911          49844\n",
              "\n",
              "[30507 rows x 2 columns]>"
            ]
          },
          "execution_count": 156,
          "metadata": {},
          "output_type": "execute_result"
        }
      ],
      "source": [
        "segs_na_df = segs.join(na_df.set_index('segmentID')).reset_index()\n",
        "# display(segs_na_df.Type.to_string())\n",
        "# display(segs_na_df.Elec_distance.to_string())\n",
        "\n",
        "\n",
        "na_df.head\n",
        "\n",
        "\n",
        "\n",
        "#segs_na_df[(~pd.isnull(segs_na_df.na_lower_bound))&(segs_na_df.Type=='apic')]"
      ]
    },
    {
      "cell_type": "code",
      "execution_count": null,
      "metadata": {
        "id": "sB1diydHZvEg"
      },
      "outputs": [],
      "source": [
        "#pd.set_option(\"display.max_rows\", None, \"display.max_columns\", None)\n",
        "\n",
        "#print(na_df)"
      ]
    },
    {
      "cell_type": "code",
      "execution_count": null,
      "metadata": {
        "id": "2EvZxPFY4vaj"
      },
      "outputs": [],
      "source": [
        "def get_sta(segs_na_df, spktimes):\n",
        "    na_dend = np.zeros((10,39,))\n",
        "    na_apic = np.zeros((10,39,))\n",
        "    \n",
        "    edges_dend=np.quantile(segs_na_df[(~pd.isnull(segs_na_df.na_lower_bound))&\n",
        "                                       (segs_na_df.Type=='dend')]['Elec_distance'].unique(),np.arange(0,1.1,0.1))\n",
        "    \n",
        "    edges_apic=np.quantile(segs_na_df[(~pd.isnull(segs_na_df.na_lower_bound))&\n",
        "                                       (segs_na_df.Type=='apic')]['Elec_distance'].unique(),np.arange(0,1.1,0.1))\n",
        "    \n",
        "    actual_spktimes = []\n",
        "    c = 0\n",
        "    for i in np.sort(spktimes):\n",
        "        # excludes bursts\n",
        "        if i-c > 10:\n",
        "            for e in np.arange(0,10):\n",
        "                na_inds = segs_na_df[(~pd.isnull(segs_na_df.na_lower_bound))&\n",
        "                                     (segs_na_df.Type=='dend')&\n",
        "                                     (segs_na_df.Distance>edges_dend[e])&\n",
        "                                     (segs_na_df.Distance<=edges_dend[e+1])]['na_lower_bound'].values.astype(int)\n",
        "    \n",
        "                x2, _ = np.histogram(na_inds/10,bins=np.arange(np.floor(i)-20,np.floor(i)+20,1))\n",
        "                na_dend[e] += x2\n",
        "                \n",
        "                na_inds = segs_na_df[(~pd.isnull(segs_na_df.na_lower_bound))&\n",
        "                                     (segs_na_df.Type=='apic')&\n",
        "                                     (segs_na_df.Distance>edges_apic[e])&\n",
        "                                     (segs_na_df.Distance<=edges_apic[e+1])]['na_lower_bound'].values.astype(int)\n",
        "    \n",
        "                x2, _ = np.histogram(na_inds/10,bins=np.arange(np.floor(i)-20,np.floor(i)+20,1))\n",
        "                na_apic[e] += x2\n",
        "            \n",
        "            actual_spktimes.append(i)\n",
        "        c = i\n",
        "    return na_dend, na_apic"
      ]
    },
    {
      "cell_type": "code",
      "execution_count": null,
      "metadata": {},
      "outputs": [],
      "source": [
        "na_dend, na_apic = get_sta(segs_na_df, spktimes)\n",
        "rand_spktimes = np.sort(np.random.choice(np.arange(0,150000), spktimes.shape[0]))\n",
        "na_dend_rand, na_apic_rand = get_sta(segs_na_df, rand_spktimes)"
      ]
    },
    {
      "cell_type": "code",
      "execution_count": null,
      "metadata": {
        "colab": {
          "base_uri": "https://localhost:8080/",
          "height": 578
        },
        "id": "2--OhaH54vaj",
        "outputId": "a5042840-cd7f-4f7c-f1fd-eb96206ce0c3"
      },
      "outputs": [
        {
          "data": {
            "image/png": "[encoded data removed]",
            "text/plain": [
              "<Figure size 720x720 with 4 Axes>"
            ]
          },
          "metadata": {
            "needs_background": "light"
          },
          "output_type": "display_data"
        }
      ],
      "source": [
        "plt.figure(figsize=(10,10))\n",
        "plt.subplot(2,1,1)\n",
        "plt.title('Na spikes - apical')\n",
        "plt.imshow((na_dend-na_dend_rand)/len(spktimes),cmap='jet',vmin=-0.4, vmax=0.6)\n",
        "# plt.imshow((na_apic-na_apic_rand)/len(spktimes),cmap='jet')\n",
        "plt.colorbar(label='additional events per AP')\n",
        "plt.xticks(ticks=np.arange(0,40,5)-0.5,labels=['{}'.format(i) for i in np.arange(-20,20,5)])\n",
        "plt.yticks(ticks=[0,9],labels=['further','closer'])\n",
        "plt.xlim(5,35)\n",
        "\n",
        "plt.subplot(2,1,2)\n",
        "plt.title('Na spikes - basal')\n",
        "plt.imshow((na_dend-na_dend_rand)/len(spktimes),cmap='jet',vmin=-0.2, vmax=0.2)\n",
        "# plt.imshow((na_dend-na_dend_rand)/len(spktimes),cmap='jet')\n",
        "plt.colorbar(label='additional events per AP')\n",
        "plt.xticks(ticks=np.arange(0,40,5)-0.5,labels=['{}'.format(i) for i in np.arange(-20,20,5)])\n",
        "plt.yticks(ticks=[0,9],labels=['further','closer'])\n",
        "plt.xlabel('time(ms)')\n",
        "plt.xlim(5,35)\n",
        "if Detailed==True:\n",
        "    plt.savefig(output_folder+'/DetailedNaSpikestoAP.png')\n",
        "else:\n",
        "    plt.savefig(output_folder+'/ReducedNaSpikestoAP.png')\n",
        "\n",
        "plt.show()"
      ]
    },
    {
      "cell_type": "markdown",
      "metadata": {
        "id": "2mh6u46u4vak"
      },
      "source": [
        "----------"
      ]
    },
    {
      "cell_type": "code",
      "execution_count": null,
      "metadata": {},
      "outputs": [
        {
          "name": "stdout",
          "output_type": "stream",
          "text": [
            "Reduced Order\n"
          ]
        },
        {
          "data": {
            "image/png": "[encoded data removed]",
            "text/plain": [
              "<Figure size 432x288 with 1 Axes>"
            ]
          },
          "metadata": {
            "needs_background": "light"
          },
          "output_type": "display_data"
        }
      ],
      "source": [
        "if Detailed==True:\n",
        "    print('Detailed')\n",
        "    lowery=500\n",
        "    uppery=700\n",
        "    plt.scatter(segs['Coord X'], segs['Coord Y'])\n",
        "    plt.scatter(segs.loc[(segs['Coord Y']>lowery) & (segs['Coord Y']<uppery),'Coord X'],\n",
        "                segs.loc[(segs['Coord Y']>lowery) & (segs['Coord Y']<uppery),'Coord Y'])\n",
        "else: # change segments considered\n",
        "    print('Reduced Order')\n",
        "    lowery=500\n",
        "    uppery=700\n",
        "    plt.scatter(segs['Coord X'], segs['Coord Y'])\n",
        "    plt.scatter(segs.loc[(segs['Sec Name']=='disttrunk') | (segs['Sec Name']=='proxtuft') | ((segs['Sec Name']=='midtrunk') & (segs['Coord Y']>400)),'Coord X'],\n",
        "                segs.loc[(segs['Sec Name']=='disttrunk') | (segs['Sec Name']=='proxtuft') | ((segs['Sec Name']=='midtrunk') & (segs['Coord Y']>400)),'Coord Y'])"
      ]
    },
    {
      "cell_type": "code",
      "execution_count": null,
      "metadata": {},
      "outputs": [
        {
          "name": "stdout",
          "output_type": "stream",
          "text": [
            "0.0786693614353749\n",
            "0.0353620056207302\n"
          ]
        }
      ],
      "source": [
        "Dnexus=segs[((segs['Sec Name']=='disttrunk')&(segs['Elec_distance']>910)) | (segs['Sec Name']=='proxtuft')]\n",
        "print(Dnexus['Elec_distance'].max())\n",
        "print(Dnexus['Elec_distance'].min())"
      ]
    },
    {
      "cell_type": "code",
      "execution_count": 163,
      "metadata": {
        "id": "o36hLzYo4vak"
      },
      "outputs": [],
      "source": [
        "ca_df = pd.DataFrame(columns=['segmentID','ca_lower_bound'])\n",
        "\n",
        "segs['segmentID'] = segs.index\n",
        "if Detailed==True:\n",
        "    CAsegIDs = segs[(segs.Type=='apic')&(segs['Coord Y']>lowery)&(segs['Coord Y']<uppery)]['segmentID']\n",
        "else:\n",
        "    CAsegIDs = segs[(segs['Sec Name']=='disttrunk') | (segs['Sec Name']=='proxtuft') | (segs['Sec Name']=='midtrunk')]['segmentID']\n",
        "for p in CAsegIDs:\n",
        "    trace = hva['report']['biophysical']['data'][:,p]+\\\n",
        "                lva['report']['biophysical']['data'][:,p]+\\\n",
        "                ih['report']['biophysical']['data'][:,p]\n",
        "    m = np.mean(trace)\n",
        "    s = np.std(trace)\n",
        "\n",
        "    legit_uc = voltage_criterion(data=v['report']['biophysical']['data'][:,p],v_thresh=-40, time_thresh=200)[1]\n",
        "    legit_dc = voltage_criterion(data=v['report']['biophysical']['data'][:,p],v_thresh=-40, time_thresh=200)[-1]\n",
        "    \n",
        "    legit_uc_iso = legit_uc\n",
        "    \n",
        "    legit_dc_iso = legit_dc\n",
        "\n",
        "    \n",
        "    \n",
        "    if (len(legit_uc_iso)!=0) & (np.min(trace)!=0):\n",
        "        bnds, sum_curr = current_criterion(legit_uc_iso=legit_uc_iso, \n",
        "                                           legit_dc_iso=legit_dc_iso, \n",
        "                                           p=p, \n",
        "                                           control_inmda=hva['report']['biophysical']['data'])\n",
        "        ca_df = pd.concat([ca_df,pd.DataFrame({'segmentID':np.tile(p,len(bnds)),\n",
        "                                               'ca_lower_bound':np.array(bnds).reshape(-1,2)[:,0],\n",
        "                                               'ca_upper_bound':np.array(bnds).reshape(-1,2)[:,1],\n",
        "                                               'mag':sum_curr})],axis=0, join='outer')\n",
        "    \n",
        "    else:\n",
        "        ca_df = pd.concat([ca_df,pd.DataFrame({'segmentID':np.tile(p,1),\n",
        "                                               'ca_lower_bound':np.nan,\n",
        "                                               'ca_upper_bound':np.nan,\n",
        "                                               'mag':np.nan})],axis=0, join='outer')"
      ]
    },
    {
      "cell_type": "code",
      "execution_count": 164,
      "metadata": {
        "id": "qOf83soDjiCm"
      },
      "outputs": [],
      "source": [
        "#print(ca_df)"
      ]
    },
    {
      "cell_type": "code",
      "execution_count": 165,
      "metadata": {
        "id": "C36RU9wM4vak"
      },
      "outputs": [],
      "source": [
        "if save_dfs==True:\n",
        "    ca_df.to_csv(output_folder+'/'+'ca_df.csv')\n",
        "    ca_df = pd.read_csv(output_folder+'/'+'ca_df.csv')"
      ]
    },
    {
      "cell_type": "markdown",
      "metadata": {
        "id": "TvfdmW7E4vak"
      },
      "source": [
        "# durations"
      ]
    },
    {
      "cell_type": "code",
      "execution_count": 166,
      "metadata": {
        "colab": {
          "base_uri": "https://localhost:8080/"
        },
        "id": "k-VESnKr4vak",
        "outputId": "be2e0b17-e012-46a8-ae78-77fa6dae2120"
      },
      "outputs": [
        {
          "data": {
            "text/plain": [
              "102"
            ]
          },
          "execution_count": 166,
          "metadata": {},
          "output_type": "execute_result"
        }
      ],
      "source": [
        "np.random.choice(segs[(segs['Coord Y']<-50)&\n",
        "     (segs['Coord Y']>-100)&\n",
        "     (segs['Coord X']>-50)&\n",
        "     (segs['Coord X']<50)&\n",
        "     (segs['Type']=='dend')]['segmentID'])"
      ]
    },
    {
      "cell_type": "markdown",
      "metadata": {
        "id": "mUUMQV414val"
      },
      "source": [
        "## Plotting morphology as heat maps"
      ]
    },
    {
      "cell_type": "code",
      "execution_count": 167,
      "metadata": {
        "colab": {
          "base_uri": "https://localhost:8080/",
          "height": 579
        },
        "id": "Vnjms8KJ4val",
        "outputId": "9e9c73b4-ecae-4904-9a9a-da00d5282d4e"
      },
      "outputs": [
        {
          "data": {
            "image/png": "[encoded data removed]",
            "text/plain": [
              "<Figure size 288x720 with 2 Axes>"
            ]
          },
          "metadata": {
            "needs_background": "light"
          },
          "output_type": "display_data"
        }
      ],
      "source": [
        "plt.figure(figsize=(4,10))\n",
        "ax = plt.scatter(segs['Coord X'], segs['Coord Y'],c=100*segs['Elec_distance'],s=4,cmap='jet', norm='log')\n",
        "plt.vlines(110,400,500)\n",
        "plt.text(0,450,'100 um')\n",
        "plt.hlines(400,110,210)\n",
        "plt.text(110,350,'100 um')\n",
        "plt.xticks([])\n",
        "plt.yticks([])\n",
        "cbar = plt.colorbar()\n",
        "cbar.ax.set_ylabel('Percentage of Somatic signal', rotation=270)\n",
        "\n",
        "#ax2.ax.set_title('log(elec_distance)',rotation=270)\n",
        "plt.box(False)\n",
        "plt.savefig('Elec_distance.png')"
      ]
    },
    {
      "cell_type": "markdown",
      "metadata": {
        "id": "tJFXhTRg4val"
      },
      "source": [
        "## Plotting morphology and voltage traces"
      ]
    },
    {
      "cell_type": "code",
      "execution_count": 168,
      "metadata": {
        "id": "PWAxSjgM4vam"
      },
      "outputs": [],
      "source": [
        "# x = ca_df[~pd.isnull(ca_df.ca_lower_bound)].reset_index()\n",
        "# i = np.random.choice(x.index)"
      ]
    },
    {
      "cell_type": "code",
      "execution_count": 169,
      "metadata": {
        "id": "8mkUlMNO4van"
      },
      "outputs": [],
      "source": [
        "ca_df.reset_index(inplace=True)"
      ]
    },
    {
      "cell_type": "code",
      "execution_count": 170,
      "metadata": {
        "colab": {
          "base_uri": "https://localhost:8080/",
          "height": 424
        },
        "id": "jjypwBwsjbTg",
        "outputId": "76357e0d-6d91-4516-bb24-ee32b7cc8e03"
      },
      "outputs": [
        {
          "data": {
            "text/html": [
              "<div>\n",
              "<style scoped>\n",
              "    .dataframe tbody tr th:only-of-type {\n",
              "        vertical-align: middle;\n",
              "    }\n",
              "\n",
              "    .dataframe tbody tr th {\n",
              "        vertical-align: top;\n",
              "    }\n",
              "\n",
              "    .dataframe thead th {\n",
              "        text-align: right;\n",
              "    }\n",
              "</style>\n",
              "<table border=\"1\" class=\"dataframe\">\n",
              "  <thead>\n",
              "    <tr style=\"text-align: right;\">\n",
              "      <th></th>\n",
              "      <th>index</th>\n",
              "      <th>segmentID</th>\n",
              "      <th>ca_lower_bound</th>\n",
              "      <th>ca_upper_bound</th>\n",
              "      <th>mag</th>\n",
              "    </tr>\n",
              "  </thead>\n",
              "  <tbody>\n",
              "    <tr>\n",
              "      <th>0</th>\n",
              "      <td>0</td>\n",
              "      <td>325</td>\n",
              "      <td>NaN</td>\n",
              "      <td>NaN</td>\n",
              "      <td>NaN</td>\n",
              "    </tr>\n",
              "    <tr>\n",
              "      <th>1</th>\n",
              "      <td>0</td>\n",
              "      <td>326</td>\n",
              "      <td>NaN</td>\n",
              "      <td>NaN</td>\n",
              "      <td>NaN</td>\n",
              "    </tr>\n",
              "    <tr>\n",
              "      <th>2</th>\n",
              "      <td>0</td>\n",
              "      <td>327</td>\n",
              "      <td>NaN</td>\n",
              "      <td>NaN</td>\n",
              "      <td>NaN</td>\n",
              "    </tr>\n",
              "    <tr>\n",
              "      <th>3</th>\n",
              "      <td>0</td>\n",
              "      <td>328</td>\n",
              "      <td>NaN</td>\n",
              "      <td>NaN</td>\n",
              "      <td>NaN</td>\n",
              "    </tr>\n",
              "    <tr>\n",
              "      <th>4</th>\n",
              "      <td>0</td>\n",
              "      <td>329</td>\n",
              "      <td>NaN</td>\n",
              "      <td>NaN</td>\n",
              "      <td>NaN</td>\n",
              "    </tr>\n",
              "    <tr>\n",
              "      <th>...</th>\n",
              "      <td>...</td>\n",
              "      <td>...</td>\n",
              "      <td>...</td>\n",
              "      <td>...</td>\n",
              "      <td>...</td>\n",
              "    </tr>\n",
              "    <tr>\n",
              "      <th>3059</th>\n",
              "      <td>15</td>\n",
              "      <td>531</td>\n",
              "      <td>29850</td>\n",
              "      <td>35903.0</td>\n",
              "      <td>-3.788585</td>\n",
              "    </tr>\n",
              "    <tr>\n",
              "      <th>3060</th>\n",
              "      <td>16</td>\n",
              "      <td>531</td>\n",
              "      <td>36065</td>\n",
              "      <td>39712.0</td>\n",
              "      <td>-2.819293</td>\n",
              "    </tr>\n",
              "    <tr>\n",
              "      <th>3061</th>\n",
              "      <td>17</td>\n",
              "      <td>531</td>\n",
              "      <td>39888</td>\n",
              "      <td>45396.0</td>\n",
              "      <td>-3.552387</td>\n",
              "    </tr>\n",
              "    <tr>\n",
              "      <th>3062</th>\n",
              "      <td>18</td>\n",
              "      <td>531</td>\n",
              "      <td>45539</td>\n",
              "      <td>48470.0</td>\n",
              "      <td>-1.781603</td>\n",
              "    </tr>\n",
              "    <tr>\n",
              "      <th>3063</th>\n",
              "      <td>19</td>\n",
              "      <td>531</td>\n",
              "      <td>48548</td>\n",
              "      <td>49654.0</td>\n",
              "      <td>-0.856964</td>\n",
              "    </tr>\n",
              "  </tbody>\n",
              "</table>\n",
              "<p>3064 rows × 5 columns</p>\n",
              "</div>"
            ],
            "text/plain": [
              "      index segmentID ca_lower_bound  ca_upper_bound       mag\n",
              "0         0       325            NaN             NaN       NaN\n",
              "1         0       326            NaN             NaN       NaN\n",
              "2         0       327            NaN             NaN       NaN\n",
              "3         0       328            NaN             NaN       NaN\n",
              "4         0       329            NaN             NaN       NaN\n",
              "...     ...       ...            ...             ...       ...\n",
              "3059     15       531          29850         35903.0 -3.788585\n",
              "3060     16       531          36065         39712.0 -2.819293\n",
              "3061     17       531          39888         45396.0 -3.552387\n",
              "3062     18       531          45539         48470.0 -1.781603\n",
              "3063     19       531          48548         49654.0 -0.856964\n",
              "\n",
              "[3064 rows x 5 columns]"
            ]
          },
          "execution_count": 170,
          "metadata": {},
          "output_type": "execute_result"
        }
      ],
      "source": [
        "ca_df"
      ]
    },
    {
      "cell_type": "code",
      "execution_count": 171,
      "metadata": {
        "id": "dtBzzaBz4van"
      },
      "outputs": [],
      "source": [
        "for i in np.random.choice(ca_df[(ca_df.ca_lower_bound>20) & (ca_df.ca_lower_bound<1400000)].index,100):\n",
        "    seg = ca_df.loc[i,'segmentID']\n",
        "    if not pd.isnull(ca_df.loc[i,'ca_lower_bound']):\n",
        "        spkt = int(ca_df.loc[i,'ca_lower_bound'])\n",
        "        if spkt>100:\n",
        "          \n",
        "          trace = -(hva['report']['biophysical']['data'][spkt-100:spkt+200,seg] + \\\n",
        "                  lva['report']['biophysical']['data'][spkt-100:spkt+200,seg] + \\\n",
        "                  ih['report']['biophysical']['data'][spkt-100:spkt+200,seg])\n",
        "          try:\n",
        "            peak_value = np.max(trace) # may recieve error here if trace is empty. in that case, check segmentID and seg\n",
        "          except:\n",
        "            pdb.set_trace()\n",
        "          half_peak = peak_value/2\n",
        "          duration = np.arange(0,300)[trace>half_peak] + spkt - 10\n",
        "          ca_df.loc[i,'duration_low'] = duration[0]\n",
        "          ca_df.loc[i,'duration_high'] = duration[-1]\n",
        "          ca_df.loc[i,'peak_value'] = peak_value\n",
        "    else:\n",
        "        ca_df.loc[i,'duration_low'] = np.nan\n",
        "        ca_df.loc[i,'duration_high'] = np.nan\n",
        "        ca_df.loc[i,'peak_value'] = np.nan"
      ]
    },
    {
      "cell_type": "markdown",
      "metadata": {
        "id": "HBev4JNL4vao"
      },
      "source": [
        "----------"
      ]
    },
    {
      "cell_type": "code",
      "execution_count": 172,
      "metadata": {
        "id": "R71f8PX94vao"
      },
      "outputs": [
        {
          "name": "stderr",
          "output_type": "stream",
          "text": [
            "/home/drfrbc/miniconda3/lib/python3.9/site-packages/pandas/core/indexes/base.py:6982: FutureWarning: In a future version, the Index constructor will not infer numeric dtypes when passed object-dtype sequences (matching Series behavior)\n",
            "  return Index(sequences[0], name=names)\n"
          ]
        }
      ],
      "source": [
        "segs_ca_df = segs.set_index('segmentID').join(ca_df.set_index('segmentID')).reset_index() "
      ]
    },
    {
      "cell_type": "code",
      "execution_count": 173,
      "metadata": {},
      "outputs": [],
      "source": [
        "# segs_ca_df['logElec_distance']=np.log(segs_ca_df['Elec_distance'])"
      ]
    },
    {
      "cell_type": "code",
      "execution_count": 174,
      "metadata": {
        "id": "LyMAEk3i4vao"
      },
      "outputs": [],
      "source": [
        "def get_ca_sta(segs_ca_df, spktimes):\n",
        "\n",
        "    ca_apic = np.zeros((10,27,))\n",
        "    \n",
        "    edges_apic=np.quantile(segs_ca_df[(~pd.isnull(segs_ca_df.ca_lower_bound))&\n",
        "                                       (segs_ca_df.Type=='apic')]['Elec_distance'].unique(),np.arange(0,1.1,0.1)) #split apical segments into 10 groups with equally spaced electrotonic distance\n",
        "    \n",
        "    \n",
        "    \n",
        "    actual_spktimes = []\n",
        "    c = 0\n",
        "    for i in np.sort(spktimes):\n",
        "        # excludes bursts\n",
        "        if i-c > 10:\n",
        "            for e in np.arange(0,10):\n",
        "                ca_inds = segs_ca_df[(~pd.isnull(segs_ca_df.ca_lower_bound))&\n",
        "                                     (segs_ca_df.Type=='apic')&\n",
        "                                     (segs_ca_df.Elec_distance>edges_apic[e])&\n",
        "                                     (segs_ca_df.Elec_distance<=edges_apic[e+1])]['ca_lower_bound'].values.astype(int) #get spikes within the electrotonic distance groups\n",
        "    \n",
        "                x2, _ = np.histogram(ca_inds/10,bins=np.arange(np.floor(i)-100,np.floor(i)+40,5)) #bin the spikes based on time\n",
        "                ca_apic[e] += x2\n",
        "                \n",
        "                \n",
        "            \n",
        "            actual_spktimes.append(i)\n",
        "        c = i\n",
        "    return ca_apic"
      ]
    },
    {
      "cell_type": "code",
      "execution_count": 175,
      "metadata": {
        "id": "kQYQ-85F4vao"
      },
      "outputs": [],
      "source": [
        "ca_apic = get_ca_sta(segs_ca_df, spktimes)"
      ]
    },
    {
      "cell_type": "code",
      "execution_count": 176,
      "metadata": {
        "id": "Yl3731-G4vao"
      },
      "outputs": [],
      "source": [
        "rand_spktimes = np.sort(np.random.choice(np.arange(0,150000), spktimes.shape[0]))\n",
        "ca_apic_rand = get_ca_sta(segs_ca_df, rand_spktimes)"
      ]
    },
    {
      "cell_type": "code",
      "execution_count": 205,
      "metadata": {
        "colab": {
          "base_uri": "https://localhost:8080/",
          "height": 288
        },
        "id": "n5K1ytuF4vao",
        "outputId": "9b5f45a2-567c-4677-ca6b-749f6279aed8"
      },
      "outputs": [
        {
          "data": {
            "image/png": "[encoded data removed]",
            "text/plain": [
              "<Figure size 720x720 with 2 Axes>"
            ]
          },
          "metadata": {
            "needs_background": "light"
          },
          "output_type": "display_data"
        }
      ],
      "source": [
        "plt.figure(figsize=(10,10))\n",
        "plt.subplot(2,1,1)\n",
        "plt.title('Ca2+ Spikes - Nexus')\n",
        "plt.imshow((ca_apic-ca_apic_rand)/len(spktimes),cmap='jet')\n",
        "# plt.imshow((ca_apic-ca_apic_rand)/len(spktimes),cmap='jet',vmin=-1.5,vmax=1.5)\n",
        "plt.imshow((ca_apic-ca_apic_rand)/len(spktimes),cmap='jet',vmin=None,vmax=None)\n",
        "# plt.xticks(ticks=np.arange(0,40,2)-0.5,labels=['{}'.format(i) for i in np.arange(-20,20,2)])\n",
        "plt.xticks(ticks=np.arange(0,26,4)-0.5,labels=['{}'.format(i) for i in np.arange(-100,40,20)])\n",
        "plt.colorbar(label='Additional events per AP')\n",
        "# plt.yticks(ticks=[0,9],labels=['further','closer'])\n",
        "plt.yticks(ticks=[0,9],labels=['further','closer'])\n",
        "if Detailed==True:\n",
        "    plt.savefig(output_folder+'/DetailedCaSpikes.png')\n",
        "else:\n",
        "    plt.savefig(output_folder+'/ReducedCaSpikes.png')\n",
        "plt.show()"
      ]
    },
    {
      "cell_type": "markdown",
      "metadata": {
        "id": "Gng6B9sn4vao"
      },
      "source": [
        "----------------------"
      ]
    },
    {
      "cell_type": "code",
      "execution_count": 178,
      "metadata": {
        "id": "BMeGyYxP4vao"
      },
      "outputs": [],
      "source": [
        "#apic_exc = segs_conns[(segs_conns['Source Population']=='exc_stim')&(segs_conns.Type=='apic')].groupby('segmentID')['Conductance'].sum().reset_index()\n",
        "\n",
        "#basal_exc = segs_conns[(segs_conns['Source Population']=='exc_stim')&(segs_conns.Type=='dend')].groupby('segmentID')['Conductance'].sum().reset_index()\n"
      ]
    },
    {
      "cell_type": "code",
      "execution_count": null,
      "metadata": {},
      "outputs": [],
      "source": []
    },
    {
      "cell_type": "code",
      "execution_count": null,
      "metadata": {},
      "outputs": [],
      "source": []
    },
    {
      "cell_type": "code",
      "execution_count": 179,
      "metadata": {
        "id": "MfzXuS744vao"
      },
      "outputs": [],
      "source": [
        "nmda_df = pd.DataFrame(columns=['segmentID','nmda_lower_bound', 'nmda_upper_bound', 'mag'])\n",
        "for p in segs[(segs.Type=='dend')|(segs.Type=='apic')].index: #(segs.Type=='dend')|(segs.Type=='apic')\n",
        "    #print(p)\n",
        "    legit_uc = voltage_criterion(data=v['report']['biophysical']['data'][:,p],v_thresh=-40, time_thresh=260)[1]\n",
        "    legit_dc = voltage_criterion(data=v['report']['biophysical']['data'][:,p],v_thresh=-40, time_thresh=260)[-1]\n",
        "    \n",
        "    legit_uc_iso = legit_uc\n",
        "    \n",
        "    legit_dc_iso = legit_dc\n",
        "\n",
        "    #print(legit_uc)\n",
        "    #print(legit_dc)\n",
        "    \n",
        "    if (len(legit_uc_iso)!=0) & (np.min(nmda['report']['biophysical']['data'][:,p])!=0):\n",
        "        bnds, sum_curr = current_criterion(legit_uc_iso=legit_uc_iso, \n",
        "                                           legit_dc_iso=legit_dc_iso, \n",
        "                                           p=p, \n",
        "                                           control_inmda=nmda['report']['biophysical']['data'])\n",
        "\n",
        "\n",
        "        # nmda_df = nmda_df.append(pd.DataFrame({'segmentID':np.tile(p,len(bnds)),\n",
        "        #                                        'nmda_lower_bound':np.array(bnds).reshape(-1,2)[:,0],\n",
        "        #                                        'nmda_upper_bound':np.array(bnds).reshape(-1,2)[:,1],\n",
        "        #                                        'mag':sum_curr}))\n",
        "        nmda_df = pd.concat([nmda_df,pd.DataFrame({'segmentID':np.tile(p,len(bnds)),\n",
        "                                               'nmda_lower_bound':np.array(bnds).reshape(-1,2)[:,0],\n",
        "                                               'nmda_upper_bound':np.array(bnds).reshape(-1,2)[:,1],\n",
        "                                               'mag':sum_curr})],axis=0, join='outer')\n",
        "        #print(nmda_df.mag)\n",
        "    \n",
        "    else:\n",
        "        #print('else')\n",
        "        # nmda_df = nmda_df.append(pd.DataFrame({'segmentID':np.tile(p,1),\n",
        "        #                                        'nmda_lower_bound':np.nan,\n",
        "        #                                        'nmda_upper_bound':np.nan,\n",
        "        #                                        'mag':np.nan}))\n",
        "        nmda_df = pd.concat([nmda_df,pd.DataFrame({'segmentID':np.tile(p,1),\n",
        "                                               'nmda_lower_bound':np.nan,\n",
        "                                               'nmda_upper_bound':np.nan,\n",
        "                                               'mag':np.nan})],axis=0, join='outer')\n",
        "\n",
        "\n",
        "#display(nmda_df.mag.to_string())\n",
        "\n",
        "\n",
        "#min(nmda_df.mag)"
      ]
    },
    {
      "cell_type": "code",
      "execution_count": 180,
      "metadata": {
        "id": "aJjsh-nm4vao"
      },
      "outputs": [],
      "source": [
        "nmda_df['duration'] = nmda_df['nmda_upper_bound'] - nmda_df['nmda_lower_bound']\n",
        "if save_dfs==True:\n",
        "    nmda_df.to_csv(output_folder+'/'+'nmda_df.csv')\n",
        "    nmda_df = pd.read_csv(output_folder+'/'+'nmda_df.csv')"
      ]
    },
    {
      "cell_type": "code",
      "execution_count": 181,
      "metadata": {
        "id": "uIBW0Pcvm_9_"
      },
      "outputs": [],
      "source": [
        "#mda_df.mag <= -0.000000001"
      ]
    },
    {
      "cell_type": "code",
      "execution_count": 182,
      "metadata": {
        "id": "K6VLU3bijMpa"
      },
      "outputs": [],
      "source": [
        "#segs_nmda_df[:]"
      ]
    },
    {
      "cell_type": "code",
      "execution_count": 183,
      "metadata": {
        "id": "OmMMqHsd4vao"
      },
      "outputs": [],
      "source": [
        "#nmda_df.rename(columns={'seg_id':'segmentID'},inplace=True)"
      ]
    },
    {
      "cell_type": "code",
      "execution_count": 184,
      "metadata": {
        "id": "uV6HLncB4vao"
      },
      "outputs": [
        {
          "name": "stderr",
          "output_type": "stream",
          "text": [
            "/home/drfrbc/miniconda3/lib/python3.9/site-packages/pandas/core/indexes/base.py:6982: FutureWarning: In a future version, the Index constructor will not infer numeric dtypes when passed object-dtype sequences (matching Series behavior)\n",
            "  return Index(sequences[0], name=names)\n"
          ]
        }
      ],
      "source": [
        "segs_nmda_df = segs.join(nmda_df.set_index('segmentID')).reset_index()"
      ]
    },
    {
      "cell_type": "code",
      "execution_count": 185,
      "metadata": {
        "colab": {
          "base_uri": "https://localhost:8080/",
          "height": 505
        },
        "id": "BelzXR-DaPcv",
        "outputId": "f9d1b5f9-3c3e-4efe-f0f7-3b8add00f45c"
      },
      "outputs": [
        {
          "data": {
            "text/html": [
              "<div>\n",
              "<style scoped>\n",
              "    .dataframe tbody tr th:only-of-type {\n",
              "        vertical-align: middle;\n",
              "    }\n",
              "\n",
              "    .dataframe tbody tr th {\n",
              "        vertical-align: top;\n",
              "    }\n",
              "\n",
              "    .dataframe thead th {\n",
              "        text-align: right;\n",
              "    }\n",
              "</style>\n",
              "<table border=\"1\" class=\"dataframe\">\n",
              "  <thead>\n",
              "    <tr style=\"text-align: right;\">\n",
              "      <th></th>\n",
              "      <th>index</th>\n",
              "      <th>segmentID</th>\n",
              "      <th>BMTK ID</th>\n",
              "      <th>Seg_L</th>\n",
              "      <th>Seg_diam</th>\n",
              "      <th>X</th>\n",
              "      <th>Type</th>\n",
              "      <th>Sec ID</th>\n",
              "      <th>Distance</th>\n",
              "      <th>Section_L</th>\n",
              "      <th>...</th>\n",
              "      <th>Sec Name</th>\n",
              "      <th>Degrees</th>\n",
              "      <th>num_syns_exc</th>\n",
              "      <th>num_syns_inh</th>\n",
              "      <th>Elec_distanceQ</th>\n",
              "      <th>DistanceQ</th>\n",
              "      <th>nmda_lower_bound</th>\n",
              "      <th>nmda_upper_bound</th>\n",
              "      <th>mag</th>\n",
              "      <th>duration</th>\n",
              "    </tr>\n",
              "  </thead>\n",
              "  <tbody>\n",
              "    <tr>\n",
              "      <th>90</th>\n",
              "      <td>90</td>\n",
              "      <td>90</td>\n",
              "      <td>9</td>\n",
              "      <td>4.9</td>\n",
              "      <td>0.5078</td>\n",
              "      <td>0.475</td>\n",
              "      <td>dend</td>\n",
              "      <td>8</td>\n",
              "      <td>164.550007</td>\n",
              "      <td>98.000004</td>\n",
              "      <td>...</td>\n",
              "      <td>distbasal</td>\n",
              "      <td>3</td>\n",
              "      <td>3</td>\n",
              "      <td>1</td>\n",
              "      <td>2</td>\n",
              "      <td>7</td>\n",
              "      <td>36022</td>\n",
              "      <td>36073</td>\n",
              "      <td>-8.850542</td>\n",
              "      <td>51</td>\n",
              "    </tr>\n",
              "    <tr>\n",
              "      <th>93</th>\n",
              "      <td>93</td>\n",
              "      <td>93</td>\n",
              "      <td>9</td>\n",
              "      <td>4.9</td>\n",
              "      <td>0.5078</td>\n",
              "      <td>0.625</td>\n",
              "      <td>dend</td>\n",
              "      <td>8</td>\n",
              "      <td>179.250008</td>\n",
              "      <td>98.000004</td>\n",
              "      <td>...</td>\n",
              "      <td>distbasal</td>\n",
              "      <td>3</td>\n",
              "      <td>4</td>\n",
              "      <td>2</td>\n",
              "      <td>1</td>\n",
              "      <td>8</td>\n",
              "      <td>35882</td>\n",
              "      <td>36080</td>\n",
              "      <td>-302.479441</td>\n",
              "      <td>198</td>\n",
              "    </tr>\n",
              "    <tr>\n",
              "      <th>94</th>\n",
              "      <td>94</td>\n",
              "      <td>94</td>\n",
              "      <td>9</td>\n",
              "      <td>4.9</td>\n",
              "      <td>0.5078</td>\n",
              "      <td>0.675</td>\n",
              "      <td>dend</td>\n",
              "      <td>8</td>\n",
              "      <td>184.150008</td>\n",
              "      <td>98.000004</td>\n",
              "      <td>...</td>\n",
              "      <td>distbasal</td>\n",
              "      <td>3</td>\n",
              "      <td>5</td>\n",
              "      <td>1</td>\n",
              "      <td>1</td>\n",
              "      <td>8</td>\n",
              "      <td>35882</td>\n",
              "      <td>36081</td>\n",
              "      <td>-25.778099</td>\n",
              "      <td>199</td>\n",
              "    </tr>\n",
              "    <tr>\n",
              "      <th>96</th>\n",
              "      <td>96</td>\n",
              "      <td>96</td>\n",
              "      <td>9</td>\n",
              "      <td>4.9</td>\n",
              "      <td>0.5078</td>\n",
              "      <td>0.775</td>\n",
              "      <td>dend</td>\n",
              "      <td>8</td>\n",
              "      <td>193.950008</td>\n",
              "      <td>98.000004</td>\n",
              "      <td>...</td>\n",
              "      <td>distbasal</td>\n",
              "      <td>3</td>\n",
              "      <td>4</td>\n",
              "      <td>1</td>\n",
              "      <td>0</td>\n",
              "      <td>8</td>\n",
              "      <td>23492</td>\n",
              "      <td>23895</td>\n",
              "      <td>-664.49055</td>\n",
              "      <td>403</td>\n",
              "    </tr>\n",
              "    <tr>\n",
              "      <th>100</th>\n",
              "      <td>100</td>\n",
              "      <td>100</td>\n",
              "      <td>9</td>\n",
              "      <td>4.9</td>\n",
              "      <td>0.5078</td>\n",
              "      <td>0.975</td>\n",
              "      <td>dend</td>\n",
              "      <td>8</td>\n",
              "      <td>213.550009</td>\n",
              "      <td>98.000004</td>\n",
              "      <td>...</td>\n",
              "      <td>distbasal</td>\n",
              "      <td>3</td>\n",
              "      <td>6</td>\n",
              "      <td>1</td>\n",
              "      <td>0</td>\n",
              "      <td>9</td>\n",
              "      <td>37513</td>\n",
              "      <td>37526</td>\n",
              "      <td>-70.288228</td>\n",
              "      <td>13</td>\n",
              "    </tr>\n",
              "    <tr>\n",
              "      <th>...</th>\n",
              "      <td>...</td>\n",
              "      <td>...</td>\n",
              "      <td>...</td>\n",
              "      <td>...</td>\n",
              "      <td>...</td>\n",
              "      <td>...</td>\n",
              "      <td>...</td>\n",
              "      <td>...</td>\n",
              "      <td>...</td>\n",
              "      <td>...</td>\n",
              "      <td>...</td>\n",
              "      <td>...</td>\n",
              "      <td>...</td>\n",
              "      <td>...</td>\n",
              "      <td>...</td>\n",
              "      <td>...</td>\n",
              "      <td>...</td>\n",
              "      <td>...</td>\n",
              "      <td>...</td>\n",
              "      <td>...</td>\n",
              "      <td>...</td>\n",
              "    </tr>\n",
              "    <tr>\n",
              "      <th>194</th>\n",
              "      <td>159</td>\n",
              "      <td>159</td>\n",
              "      <td>12</td>\n",
              "      <td>4.9</td>\n",
              "      <td>0.5078</td>\n",
              "      <td>0.925</td>\n",
              "      <td>dend</td>\n",
              "      <td>11</td>\n",
              "      <td>208.650009</td>\n",
              "      <td>98.000004</td>\n",
              "      <td>...</td>\n",
              "      <td>distbasal</td>\n",
              "      <td>3</td>\n",
              "      <td>5</td>\n",
              "      <td>4</td>\n",
              "      <td>0</td>\n",
              "      <td>9</td>\n",
              "      <td>13982</td>\n",
              "      <td>14786</td>\n",
              "      <td>-536.001967</td>\n",
              "      <td>804</td>\n",
              "    </tr>\n",
              "    <tr>\n",
              "      <th>195</th>\n",
              "      <td>159</td>\n",
              "      <td>159</td>\n",
              "      <td>12</td>\n",
              "      <td>4.9</td>\n",
              "      <td>0.5078</td>\n",
              "      <td>0.925</td>\n",
              "      <td>dend</td>\n",
              "      <td>11</td>\n",
              "      <td>208.650009</td>\n",
              "      <td>98.000004</td>\n",
              "      <td>...</td>\n",
              "      <td>distbasal</td>\n",
              "      <td>3</td>\n",
              "      <td>5</td>\n",
              "      <td>4</td>\n",
              "      <td>0</td>\n",
              "      <td>9</td>\n",
              "      <td>46312</td>\n",
              "      <td>46651</td>\n",
              "      <td>-147.036832</td>\n",
              "      <td>339</td>\n",
              "    </tr>\n",
              "    <tr>\n",
              "      <th>196</th>\n",
              "      <td>160</td>\n",
              "      <td>160</td>\n",
              "      <td>12</td>\n",
              "      <td>4.9</td>\n",
              "      <td>0.5078</td>\n",
              "      <td>0.975</td>\n",
              "      <td>dend</td>\n",
              "      <td>11</td>\n",
              "      <td>213.550009</td>\n",
              "      <td>98.000004</td>\n",
              "      <td>...</td>\n",
              "      <td>distbasal</td>\n",
              "      <td>3</td>\n",
              "      <td>7</td>\n",
              "      <td>2</td>\n",
              "      <td>0</td>\n",
              "      <td>9</td>\n",
              "      <td>4492</td>\n",
              "      <td>4865</td>\n",
              "      <td>-253.761548</td>\n",
              "      <td>373</td>\n",
              "    </tr>\n",
              "    <tr>\n",
              "      <th>197</th>\n",
              "      <td>160</td>\n",
              "      <td>160</td>\n",
              "      <td>12</td>\n",
              "      <td>4.9</td>\n",
              "      <td>0.5078</td>\n",
              "      <td>0.975</td>\n",
              "      <td>dend</td>\n",
              "      <td>11</td>\n",
              "      <td>213.550009</td>\n",
              "      <td>98.000004</td>\n",
              "      <td>...</td>\n",
              "      <td>distbasal</td>\n",
              "      <td>3</td>\n",
              "      <td>7</td>\n",
              "      <td>2</td>\n",
              "      <td>0</td>\n",
              "      <td>9</td>\n",
              "      <td>14202</td>\n",
              "      <td>14786</td>\n",
              "      <td>-339.48573</td>\n",
              "      <td>584</td>\n",
              "    </tr>\n",
              "    <tr>\n",
              "      <th>198</th>\n",
              "      <td>160</td>\n",
              "      <td>160</td>\n",
              "      <td>12</td>\n",
              "      <td>4.9</td>\n",
              "      <td>0.5078</td>\n",
              "      <td>0.975</td>\n",
              "      <td>dend</td>\n",
              "      <td>11</td>\n",
              "      <td>213.550009</td>\n",
              "      <td>98.000004</td>\n",
              "      <td>...</td>\n",
              "      <td>distbasal</td>\n",
              "      <td>3</td>\n",
              "      <td>7</td>\n",
              "      <td>2</td>\n",
              "      <td>0</td>\n",
              "      <td>9</td>\n",
              "      <td>46312</td>\n",
              "      <td>46654</td>\n",
              "      <td>-253.353593</td>\n",
              "      <td>342</td>\n",
              "    </tr>\n",
              "  </tbody>\n",
              "</table>\n",
              "<p>66 rows × 29 columns</p>\n",
              "</div>"
            ],
            "text/plain": [
              "     index  segmentID  BMTK ID  Seg_L  Seg_diam      X  Type  Sec ID  \\\n",
              "90      90         90        9    4.9    0.5078  0.475  dend       8   \n",
              "93      93         93        9    4.9    0.5078  0.625  dend       8   \n",
              "94      94         94        9    4.9    0.5078  0.675  dend       8   \n",
              "96      96         96        9    4.9    0.5078  0.775  dend       8   \n",
              "100    100        100        9    4.9    0.5078  0.975  dend       8   \n",
              "..     ...        ...      ...    ...       ...    ...   ...     ...   \n",
              "194    159        159       12    4.9    0.5078  0.925  dend      11   \n",
              "195    159        159       12    4.9    0.5078  0.925  dend      11   \n",
              "196    160        160       12    4.9    0.5078  0.975  dend      11   \n",
              "197    160        160       12    4.9    0.5078  0.975  dend      11   \n",
              "198    160        160       12    4.9    0.5078  0.975  dend      11   \n",
              "\n",
              "       Distance  Section_L  ...   Sec Name  Degrees  num_syns_exc  \\\n",
              "90   164.550007  98.000004  ...  distbasal        3             3   \n",
              "93   179.250008  98.000004  ...  distbasal        3             4   \n",
              "94   184.150008  98.000004  ...  distbasal        3             5   \n",
              "96   193.950008  98.000004  ...  distbasal        3             4   \n",
              "100  213.550009  98.000004  ...  distbasal        3             6   \n",
              "..          ...        ...  ...        ...      ...           ...   \n",
              "194  208.650009  98.000004  ...  distbasal        3             5   \n",
              "195  208.650009  98.000004  ...  distbasal        3             5   \n",
              "196  213.550009  98.000004  ...  distbasal        3             7   \n",
              "197  213.550009  98.000004  ...  distbasal        3             7   \n",
              "198  213.550009  98.000004  ...  distbasal        3             7   \n",
              "\n",
              "     num_syns_inh  Elec_distanceQ  DistanceQ  nmda_lower_bound  \\\n",
              "90              1               2          7             36022   \n",
              "93              2               1          8             35882   \n",
              "94              1               1          8             35882   \n",
              "96              1               0          8             23492   \n",
              "100             1               0          9             37513   \n",
              "..            ...             ...        ...               ...   \n",
              "194             4               0          9             13982   \n",
              "195             4               0          9             46312   \n",
              "196             2               0          9              4492   \n",
              "197             2               0          9             14202   \n",
              "198             2               0          9             46312   \n",
              "\n",
              "     nmda_upper_bound         mag duration  \n",
              "90              36073   -8.850542       51  \n",
              "93              36080 -302.479441      198  \n",
              "94              36081  -25.778099      199  \n",
              "96              23895  -664.49055      403  \n",
              "100             37526  -70.288228       13  \n",
              "..                ...         ...      ...  \n",
              "194             14786 -536.001967      804  \n",
              "195             46651 -147.036832      339  \n",
              "196              4865 -253.761548      373  \n",
              "197             14786  -339.48573      584  \n",
              "198             46654 -253.353593      342  \n",
              "\n",
              "[66 rows x 29 columns]"
            ]
          },
          "execution_count": 185,
          "metadata": {},
          "output_type": "execute_result"
        }
      ],
      "source": [
        "segs_nmda_df[(segs_nmda_df.mag<-0.0001)&\n",
        "                                  (segs_nmda_df.Type=='dend')]"
      ]
    },
    {
      "cell_type": "code",
      "execution_count": 186,
      "metadata": {
        "id": "KqVpKnXVhEvv"
      },
      "outputs": [],
      "source": [
        "#min(segs_nmda_df.mag)"
      ]
    },
    {
      "cell_type": "code",
      "execution_count": 187,
      "metadata": {
        "id": "daMclJ5hn1Sd"
      },
      "outputs": [],
      "source": [
        "#segs_nmda_df[(segs_nmda_df.mag<-0.0001)]"
      ]
    },
    {
      "cell_type": "code",
      "execution_count": 188,
      "metadata": {
        "id": "UERHIibr4vao"
      },
      "outputs": [],
      "source": [
        "def get_nmda_sta(segs_nmda_df, spktimes):    \n",
        "    nmda_dend = np.zeros((10,27,))\n",
        "    nmda_apic = np.zeros((10,27,))\n",
        "    \n",
        "    edges_dend=np.quantile(segs_nmda_df[(segs_nmda_df.mag<-0.0001)&\n",
        "                                  (segs_nmda_df.Type=='dend')]['Elec_distance'].unique(),np.arange(0,1.1,0.1))\n",
        "    edges_apic=np.quantile(segs_nmda_df[(segs_nmda_df.mag<-0.00001)&\n",
        "                                   (segs_nmda_df.Type=='apic')]['Elec_distance'].unique(),np.arange(0,1.1,0.1))\n",
        "    \n",
        "    actual_spktimes = []\n",
        "    c = 0\n",
        "    for i in np.sort(spktimes):\n",
        "        # excludes bursts\n",
        "        if i-c > 10:\n",
        "            for e in np.arange(0,10):\n",
        "                nmda_inds = segs_nmda_df[(segs_nmda_df.mag<-0.0001)&\n",
        "                                     (segs_nmda_df.Type=='dend')&\n",
        "                                     (segs_nmda_df.Elec_distance>edges_dend[e])&\n",
        "                                     (segs_nmda_df.Elec_distance<=edges_dend[e+1])]['nmda_lower_bound'].values.astype(int)\n",
        "    \n",
        "                x2, _ = np.histogram(nmda_inds/10,bins=np.arange(np.floor(i)-100,np.floor(i)+40,5))\n",
        "                nmda_dend[e] += x2\n",
        "                \n",
        "                nmda_inds = segs_nmda_df[(segs_nmda_df.mag<-0.0001)&\n",
        "                                     (segs_nmda_df.Type=='apic')&\n",
        "                                     (segs_nmda_df.Elec_distance>edges_apic[e])&\n",
        "                                     (segs_nmda_df.Elec_distance<=edges_apic[e+1])]['nmda_lower_bound'].values.astype(int)\n",
        "    \n",
        "                x2, _ = np.histogram(nmda_inds/10,bins=np.arange(np.floor(i)-100,np.floor(i)+40,5))\n",
        "                nmda_apic[e] += x2\n",
        "            \n",
        "            actual_spktimes.append(i)\n",
        "        c = i\n",
        "        \n",
        "    return nmda_dend, nmda_apic"
      ]
    },
    {
      "cell_type": "code",
      "execution_count": 189,
      "metadata": {
        "id": "tW8SvGK54vap"
      },
      "outputs": [],
      "source": [
        "nmda_dend, nmda_apic = get_nmda_sta(segs_nmda_df, spktimes)"
      ]
    },
    {
      "cell_type": "code",
      "execution_count": 190,
      "metadata": {
        "id": "rwHm5TI-4vap"
      },
      "outputs": [],
      "source": [
        "rand_spktimes = np.sort(np.random.choice(np.arange(0,150000), spktimes.shape[0]))"
      ]
    },
    {
      "cell_type": "code",
      "execution_count": 191,
      "metadata": {
        "id": "fWaFLebh4vap"
      },
      "outputs": [],
      "source": [
        "nmda_dend_rand, nmda_apic_rand = get_nmda_sta(segs_nmda_df, rand_spktimes)"
      ]
    },
    {
      "cell_type": "code",
      "execution_count": 192,
      "metadata": {
        "colab": {
          "base_uri": "https://localhost:8080/",
          "height": 588
        },
        "id": "Xn3bcESa4vap",
        "outputId": "e7e0728f-75e4-4c5b-e814-05db61222f4d"
      },
      "outputs": [
        {
          "data": {
            "image/png": "[encoded data removed]",
            "text/plain": [
              "<Figure size 720x720 with 4 Axes>"
            ]
          },
          "metadata": {
            "needs_background": "light"
          },
          "output_type": "display_data"
        }
      ],
      "source": [
        "plt.figure(num=3,figsize=(10,10))\n",
        "plt.subplot(2,1,1)\n",
        "plt.title('NMDA spikes - apical')\n",
        "plt.imshow((nmda_apic-nmda_apic_rand)/len(spktimes),cmap='jet')\n",
        "# plt.imshow((nmda_apic-nmda_apic_rand)/len(spktimes),cmap='jet',vmin=-0.6,vmax=0.6)\n",
        "plt.xticks(ticks=np.arange(0,26,4)-0.5,labels=['{}'.format(i) for i in np.arange(-100,40,20)])\n",
        "plt.yticks(ticks=[0,9],labels=['further','closer'])\n",
        "plt.yticks(ticks=[0,9],labels=[str(segs_nmda_df[segs_nmda_df.Type=='apic']['Elec_distance'].max()),str(segs_nmda_df[segs_nmda_df.Type=='apic']['Elec_distance'].min())])\n",
        "plt.colorbar(label='additional events per AP')\n",
        "plt.xlabel('time (ms)')\n",
        "plt.xlim(5,26)\n",
        "\n",
        "plt.subplot(2,1,2)\n",
        "plt.title('NMDA spikes - basal')\n",
        "plt.imshow((nmda_dend-nmda_dend_rand)/len(spktimes),cmap='jet')\n",
        "# plt.imshow((nmda_dend-nmda_dend_rand)/len(spktimes),cmap='jet', vmin=-0.6, vmax=0.6)\n",
        "plt.xticks(ticks=np.arange(0,26,4)-0.5,labels=['{}'.format(i) for i in np.arange(-100,40,20)])\n",
        "plt.yticks(ticks=[0,9],labels=['further','closer'])\n",
        "plt.yticks(ticks=[0,9],labels=[str(segs_nmda_df[segs_nmda_df.Type=='dend']['Elec_distance'].max()),str(segs_nmda_df[segs_nmda_df.Type=='dend']['Elec_distance'].min())])\n",
        "plt.colorbar(label='additional events per AP')\n",
        "plt.xlim(5,26)\n",
        "\n",
        "plt.xlabel('time (ms)')\n",
        "if Detailed==True:\n",
        "    plt.savefig(output_folder+'/DetailedNMDASpikes.png')\n",
        "else:\n",
        "    plt.savefig(output_folder+'/ReducedNMDASpikes.png')\n",
        "plt.show(plt.figure(num=3)) #test"
      ]
    },
    {
      "cell_type": "code",
      "execution_count": 193,
      "metadata": {
        "colab": {
          "base_uri": "https://localhost:8080/"
        },
        "id": "tRJwv3z0ZJuF",
        "outputId": "396030bb-ad16-4693-dd3e-a316a200673d"
      },
      "outputs": [
        {
          "data": {
            "text/plain": [
              "18429"
            ]
          },
          "execution_count": 193,
          "metadata": {},
          "output_type": "execute_result"
        }
      ],
      "source": [
        "sum(segs_nmda_df['segmentID'][segs_nmda_df.Type=='dend'])"
      ]
    },
    {
      "cell_type": "code",
      "execution_count": 194,
      "metadata": {
        "colab": {
          "base_uri": "https://localhost:8080/"
        },
        "id": "qjid5JcothuP",
        "outputId": "582fd143-1e12-46b0-ae50-e1954cd35e23"
      },
      "outputs": [
        {
          "data": {
            "text/plain": [
              "0              soma\n",
              "1              dend\n",
              "2              dend\n",
              "3              dend\n",
              "4              dend\n",
              "           ...     \n",
              "983    passivebasal\n",
              "984    passivebasal\n",
              "985    passivebasal\n",
              "986    passivebasal\n",
              "987    passivebasal\n",
              "Name: Type, Length: 988, dtype: object"
            ]
          },
          "execution_count": 194,
          "metadata": {},
          "output_type": "execute_result"
        }
      ],
      "source": [
        "segs.Type"
      ]
    },
    {
      "cell_type": "code",
      "execution_count": 195,
      "metadata": {},
      "outputs": [
        {
          "name": "stderr",
          "output_type": "stream",
          "text": [
            "/tmp/ipykernel_292381/3557799417.py:31: MatplotlibDeprecationWarning: Unable to determine Axes to steal space for Colorbar. Using gca(), but will raise in the future. Either provide the *cax* argument to use as the Axes for the Colorbar, provide the *ax* argument to steal space from it, or add *mappable* to an Axes.\n",
            "  cbar = plt.colorbar(matplotlib.cm.ScalarMappable(norm=norm, cmap=cmap))\n"
          ]
        },
        {
          "data": {
            "image/png": "[encoded data removed]",
            "text/plain": [
              "<Figure size 720x1152 with 2 Axes>"
            ]
          },
          "metadata": {
            "needs_background": "light"
          },
          "output_type": "display_data"
        },
        {
          "data": {
            "image/png": "[encoded data removed]",
            "text/plain": [
              "<Figure size 720x1152 with 2 Axes>"
            ]
          },
          "metadata": {
            "needs_background": "light"
          },
          "output_type": "display_data"
        }
      ],
      "source": [
        "def plot_colorfield(color_field=str,vmin = None,vmax = None,lw=1):\n",
        "    ax = plt.figure(figsize=(10,16))\n",
        "    import matplotlib\n",
        "    from matplotlib.colors import Normalize\n",
        "    cmap = matplotlib.cm.get_cmap('jet')\n",
        "    norm = matplotlib.colors.Normalize(vmin = vmin, vmax = vmax)\n",
        "\n",
        "    for i in segs[segs.Type=='apic']['Sec ID'].unique():\n",
        "        section_L = segs[(segs.Type=='apic')&(segs['Sec ID']==i)]['Section_L'].unique()[0]\n",
        "        plt.plot(segs[(segs.Type=='apic')&(segs['Sec ID']==i)]['Coord X'],\n",
        "                segs[(segs.Type=='apic')&(segs['Sec ID']==i)]['Coord Y'],\n",
        "                color=cmap(norm(segs[(segs.Type=='apic')&(segs['Sec ID']==i)][color_field].sum()/section_L)),\n",
        "                linewidth = lw*segs[(segs.Type=='apic')&(segs['Sec ID']==i)]['Section_diam'].unique())\n",
        "        \n",
        "    for i in segs[segs.Type=='dend']['Sec ID'].unique():\n",
        "        section_L = segs[(segs.Type=='dend')&(segs['Sec ID']==i)]['Section_L'].unique()[0]\n",
        "        plt.plot(segs[(segs.Type=='dend')&(segs['Sec ID']==i)]['Coord X'],\n",
        "                segs[(segs.Type=='dend')&(segs['Sec ID']==i)]['Coord Y'],\n",
        "                color=cmap(norm(segs[(segs.Type=='dend')&(segs['Sec ID']==i)][color_field].sum()/section_L)),\n",
        "                linewidth = lw*segs[(segs.Type=='dend')&(segs['Sec ID']==i)]['Section_diam'].unique())\n",
        "    #    \n",
        "    #\n",
        "    plt.scatter(segs[(segs.Type=='soma')&(segs['Sec ID']==0)].loc[0,'Coord X'],\n",
        "            segs[(segs.Type=='soma')&(segs['Sec ID']==0)].loc[0,'Coord Y'],color='k',s=100)\n",
        "    plt.vlines(110,400,500)\n",
        "    plt.text(0,450,'100 um')\n",
        "    plt.hlines(400,110,210)\n",
        "    plt.text(110,350,'100 um')\n",
        "    plt.xticks([])\n",
        "    plt.yticks([])\n",
        "    cbar = plt.colorbar(matplotlib.cm.ScalarMappable(norm=norm, cmap=cmap))\n",
        "    #cbar.ax.set_ylabel('log(elec_distance)', rotation=270)\n",
        "\n",
        "    #ax2.ax.set_title('log(elec_distance)',rotation=270)\n",
        "    plt.box(False)\n",
        "    plt.savefig(output_folder+str(color_field)+'.png')\n",
        "\n",
        "plot_colorfield(color_field='num_syns_exc',vmax=2.2,vmin=0,lw=5)\n",
        "plot_colorfield(color_field='num_syns_inh',vmax=0.3,vmin=0,lw=5)"
      ]
    },
    {
      "cell_type": "code",
      "execution_count": 196,
      "metadata": {},
      "outputs": [],
      "source": [
        "#NMDA effect on calcium\n",
        "#ca_spktimes = segs_ca_df[segs_ca_df.segmentID==1738]['ca_lower_bound']/10\n",
        "def get_nmda_sta_calcium(segs_nmda_df, spktimes):    \n",
        "    nmda_dend = np.zeros((10,27,))\n",
        "    nmda_apic = np.zeros((10,27,))\n",
        "    \n",
        "    edges_dend=np.quantile(segs_nmda_df[(segs_nmda_df.Type=='dend')]['Elec_distance_nexus'].unique(),np.arange(0,1.1,0.1))\n",
        "    edges_apic=np.quantile(segs_nmda_df[(segs_nmda_df.Type=='apic')]['Elec_distance_nexus'].unique(),np.arange(0,1.1,0.1))\n",
        "    \n",
        "    actual_spktimes = []\n",
        "    c = 0\n",
        "    for i in np.sort(spktimes):\n",
        "        # excludes bursts\n",
        "        if i-c > 10:\n",
        "            for e in np.arange(0,10):\n",
        "                nmda_inds = segs_nmda_df[(segs_nmda_df.mag<-0.1)&\n",
        "                                     (segs_nmda_df.Type=='dend')&\n",
        "                                     (segs_nmda_df.Elec_distance_nexus>edges_dend[e])&\n",
        "                                     (segs_nmda_df.Elec_distance_nexus<=edges_dend[e+1])]['nmda_lower_bound'].values.astype(int)\n",
        "    \n",
        "                x2, _ = np.histogram(nmda_inds/10,bins=np.arange(np.floor(i)-100,np.floor(i)+40,5))\n",
        "                nmda_dend[e] += x2\n",
        "                \n",
        "                nmda_inds = segs_nmda_df[(segs_nmda_df.mag<-0.1)&\n",
        "                                     (segs_nmda_df.Type=='apic')&\n",
        "                                     (segs_nmda_df.Elec_distance_nexus>edges_apic[e])&\n",
        "                                     (segs_nmda_df.Elec_distance_nexus<=edges_apic[e+1])]['nmda_lower_bound'].values.astype(int)\n",
        "    \n",
        "                x2, _ = np.histogram(nmda_inds/10,bins=np.arange(np.floor(i)-100,np.floor(i)+40,5))\n",
        "                nmda_apic[e] += x2\n",
        "            \n",
        "            actual_spktimes.append(i)\n",
        "        c = i\n",
        "        \n",
        "    return nmda_dend, nmda_apic\n",
        "edges_apic=np.quantile(segs_nmda_df[(segs_nmda_df.Type=='apic')]['Elec_distance_nexus'].unique(),np.arange(0,1.1,0.1))\n"
      ]
    },
    {
      "cell_type": "code",
      "execution_count": 197,
      "metadata": {},
      "outputs": [],
      "source": [
        "ca_spktimes = segs_ca_df[(segs_ca_df['Sec Name']=='disttrunk')]['ca_lower_bound']/10"
      ]
    },
    {
      "cell_type": "code",
      "execution_count": 198,
      "metadata": {},
      "outputs": [
        {
          "data": {
            "image/png": "[encoded data removed]",
            "text/plain": [
              "<Figure size 720x720 with 4 Axes>"
            ]
          },
          "metadata": {
            "needs_background": "light"
          },
          "output_type": "display_data"
        }
      ],
      "source": [
        "ca_spktimes_nodupes = np.sort(ca_spktimes[1:])[np.diff(np.sort(ca_spktimes))>100]\n",
        "nmda_dend, nmda_apic = get_nmda_sta_calcium(segs_nmda_df,ca_spktimes_nodupes)\n",
        "rand_spktimes = np.sort(np.random.choice(np.arange(0,150000), ca_spktimes_nodupes.shape[0]))\n",
        "nmda_dend_rand, nmda_apic_rand = get_nmda_sta_calcium(segs_nmda_df, rand_spktimes)\n",
        "plt.figure(figsize=(10,10))\n",
        "plt.subplot(2,1,1)\n",
        "plt.title('NMDA spikes - apical')\n",
        "x = (nmda_apic-nmda_apic_rand)/ca_spktimes_nodupes.shape[0]\n",
        "# plt.imshow(x,cmap='jet',vmin = -1, vmax = 5)\n",
        "plt.imshow(x,cmap='jet',vmin = None, vmax = None)\n",
        "plt.xticks(ticks=np.arange(0,26,4)+0.5,labels=['{}'.format(i) for i in np.arange(-100,40,20)])\n",
        "plt.yticks(ticks=[0,9],labels=['further','closer'])\n",
        "plt.colorbar(label='additional events per Ca2+ spike')\n",
        "plt.xlabel('time (ms)')\n",
        "plt.xlim(5,26)\n",
        "\n",
        "plt.subplot(2,1,2)\n",
        "plt.title('NMDA spikes - basal')\n",
        "x = (nmda_dend-nmda_dend_rand)/ca_spktimes_nodupes.shape[0]\n",
        "plt.imshow(x,cmap='jet',vmin = -1, vmax = 5)\n",
        "plt.xticks(ticks=np.arange(0,26,4)+0.5,labels=['{}'.format(i) for i in np.arange(-100,40,20)])\n",
        "plt.yticks(ticks=[0,9],labels=['further','closer'])\n",
        "plt.colorbar(label='additional events per Ca2+ spike')\n",
        "plt.xlim(5,26)\n",
        "\n",
        "plt.xlabel('time (ms)')\n",
        "plt.savefig(output_folder+'/nmdaspikes.png')\n",
        "plt.show()"
      ]
    },
    {
      "cell_type": "code",
      "execution_count": 199,
      "metadata": {},
      "outputs": [
        {
          "data": {
            "text/plain": [
              "0       1.000000\n",
              "1       0.945563\n",
              "2       0.847182\n",
              "3       0.762211\n",
              "4       0.689646\n",
              "          ...   \n",
              "1838    0.480345\n",
              "1839    0.457455\n",
              "1840    0.436492\n",
              "1841    0.417239\n",
              "1842    0.399504\n",
              "Name: Elec_distance_nexus, Length: 1843, dtype: float64"
            ]
          },
          "execution_count": 199,
          "metadata": {},
          "output_type": "execute_result"
        }
      ],
      "source": [
        "segs_nmda_df['Elec_distance_nexus']"
      ]
    },
    {
      "cell_type": "code",
      "execution_count": 200,
      "metadata": {
        "id": "k29syMroudLK"
      },
      "outputs": [],
      "source": [
        "# print(segs_nmda_df[segs_nmda_df['nmda_lower_bound']>8000]) #get every index where nmda_lower_bound>8000\n",
        "# print(segs[segs['Seg_L']>5]) #show segs with this condition\n",
        "totallength=sum(segs['Seg_L'])"
      ]
    },
    {
      "cell_type": "code",
      "execution_count": 201,
      "metadata": {
        "colab": {
          "base_uri": "https://localhost:8080/",
          "height": 353
        },
        "id": "p8xAAj5CXXXj",
        "outputId": "9520b17f-b05b-435b-e90d-f78e4a5aa8bb"
      },
      "outputs": [
        {
          "data": {
            "image/png": "[encoded data removed]",
            "text/plain": [
              "<Figure size 720x360 with 1 Axes>"
            ]
          },
          "metadata": {
            "needs_background": "light"
          },
          "output_type": "display_data"
        }
      ],
      "source": [
        "total_basal_nmda = sum(segs_nmda_df['segmentID'][segs_nmda_df.Type=='dend'][~pd.isnull(segs_nmda_df.mag)])\n",
        "# num_basal_seg = len(segs[segs.Type=='dend'])\n",
        "basal_length = sum(segs['Seg_L'][segs.Type=='dend'])\n",
        "\n",
        "total_apic_nmda = sum(segs_nmda_df['segmentID'][segs_nmda_df.Type=='apic'][~pd.isnull(segs_nmda_df.mag)])\n",
        "# num_apic_seg = len(segs[segs.Type=='apic'])\n",
        "apic_length = sum(segs['Seg_L'][segs.Type=='apic'])\n",
        "\n",
        "# apic_nmda_perSeg_perSec = (total_apic_nmda / num_apic_seg)/(tstop/dt)\n",
        "# basal_ndma_perSeg_perSec = (total_basal_nmda / num_basal_seg)/(tstop/dt)\n",
        "apic_nmda_perUM_perSec = (total_apic_nmda / apic_length)/(tstop/1000) # Can divide by x microns to get per X microns\n",
        "basal_ndma_perUM_perSec = (total_basal_nmda / basal_length)/(tstop/1000) # Can divide by x microns to get per X microns\n",
        "\n",
        "# data = {'basal':basal_ndma_perSeg_perSec, 'apic':apic_nmda_perSeg_perSec}\n",
        "data = {'basal':basal_ndma_perUM_perSec, 'apic':apic_nmda_perUM_perSec}\n",
        "group = list(data.keys())\n",
        "value = list(data.values())\n",
        "\n",
        "fig = plt.figure(figsize = (10, 5))\n",
        "# plt.title('NMDA spikes per segment per second')\n",
        "plt.title('NMDA spikes per micron per second')\n",
        "\n",
        "\n",
        "# creating the bar plot\n",
        "plt.barh(group, value, color ='lightseagreen')\n",
        "if Detailed==True:\n",
        "    plt.savefig(output_folder+'/DetailedNMDASpikesPerUmPerSec.png')\n",
        "else:\n",
        "    plt.savefig(output_folder+'/ReducedNMDASpikesPerUmPerSec.png')"
      ]
    },
    {
      "cell_type": "code",
      "execution_count": 202,
      "metadata": {
        "colab": {
          "base_uri": "https://localhost:8080/",
          "height": 366
        },
        "id": "k9-SY0ioXYnh",
        "outputId": "0d40cc66-07c1-43d1-b987-4a97f6a89d23"
      },
      "outputs": [
        {
          "ename": "AttributeError",
          "evalue": "'DataFrame' object has no attribute 'duration_high'",
          "output_type": "error",
          "traceback": [
            "\u001b[0;31m---------------------------------------------------------------------------\u001b[0m",
            "\u001b[0;31mAttributeError\u001b[0m                            Traceback (most recent call last)",
            "\u001b[1;32m/home/drfrbc/Stylized-ReducedOrder-L5-Model/NMDAExploration.ipynb Cell 81\u001b[0m in \u001b[0;36m<cell line: 1>\u001b[0;34m()\u001b[0m\n\u001b[0;32m----> <a href='vscode-notebook-cell://ssh-remote%2B7b22686f73744e616d65223a224c6162536572766572227d/home/drfrbc/Stylized-ReducedOrder-L5-Model/NMDAExploration.ipynb#Y203sdnNjb2RlLXJlbW90ZQ%3D%3D?line=0'>1</a>\u001b[0m total_basal_na \u001b[39m=\u001b[39m \u001b[39msum\u001b[39m(segs_na_df[\u001b[39m'\u001b[39m\u001b[39msegmentID\u001b[39m\u001b[39m'\u001b[39m][segs_na_df\u001b[39m.\u001b[39mType\u001b[39m==\u001b[39m\u001b[39m'\u001b[39m\u001b[39mdend\u001b[39m\u001b[39m'\u001b[39m][\u001b[39m~\u001b[39mpd\u001b[39m.\u001b[39misnull(segs_na_df\u001b[39m.\u001b[39;49mduration_high)])\n\u001b[1;32m      <a href='vscode-notebook-cell://ssh-remote%2B7b22686f73744e616d65223a224c6162536572766572227d/home/drfrbc/Stylized-ReducedOrder-L5-Model/NMDAExploration.ipynb#Y203sdnNjb2RlLXJlbW90ZQ%3D%3D?line=1'>2</a>\u001b[0m \u001b[39m# num_basal_seg = len(segs[segs.Type=='dend'])\u001b[39;00m\n\u001b[1;32m      <a href='vscode-notebook-cell://ssh-remote%2B7b22686f73744e616d65223a224c6162536572766572227d/home/drfrbc/Stylized-ReducedOrder-L5-Model/NMDAExploration.ipynb#Y203sdnNjb2RlLXJlbW90ZQ%3D%3D?line=2'>3</a>\u001b[0m basal_length \u001b[39m=\u001b[39m \u001b[39msum\u001b[39m(segs[\u001b[39m'\u001b[39m\u001b[39mSeg_L\u001b[39m\u001b[39m'\u001b[39m][segs\u001b[39m.\u001b[39mType\u001b[39m==\u001b[39m\u001b[39m'\u001b[39m\u001b[39mdend\u001b[39m\u001b[39m'\u001b[39m])\n",
            "File \u001b[0;32m~/miniconda3/lib/python3.9/site-packages/pandas/core/generic.py:5575\u001b[0m, in \u001b[0;36mNDFrame.__getattr__\u001b[0;34m(self, name)\u001b[0m\n\u001b[1;32m   5568\u001b[0m \u001b[39mif\u001b[39;00m (\n\u001b[1;32m   5569\u001b[0m     name \u001b[39mnot\u001b[39;00m \u001b[39min\u001b[39;00m \u001b[39mself\u001b[39m\u001b[39m.\u001b[39m_internal_names_set\n\u001b[1;32m   5570\u001b[0m     \u001b[39mand\u001b[39;00m name \u001b[39mnot\u001b[39;00m \u001b[39min\u001b[39;00m \u001b[39mself\u001b[39m\u001b[39m.\u001b[39m_metadata\n\u001b[1;32m   5571\u001b[0m     \u001b[39mand\u001b[39;00m name \u001b[39mnot\u001b[39;00m \u001b[39min\u001b[39;00m \u001b[39mself\u001b[39m\u001b[39m.\u001b[39m_accessors\n\u001b[1;32m   5572\u001b[0m     \u001b[39mand\u001b[39;00m \u001b[39mself\u001b[39m\u001b[39m.\u001b[39m_info_axis\u001b[39m.\u001b[39m_can_hold_identifiers_and_holds_name(name)\n\u001b[1;32m   5573\u001b[0m ):\n\u001b[1;32m   5574\u001b[0m     \u001b[39mreturn\u001b[39;00m \u001b[39mself\u001b[39m[name]\n\u001b[0;32m-> 5575\u001b[0m \u001b[39mreturn\u001b[39;00m \u001b[39mobject\u001b[39;49m\u001b[39m.\u001b[39;49m\u001b[39m__getattribute__\u001b[39;49m(\u001b[39mself\u001b[39;49m, name)\n",
            "\u001b[0;31mAttributeError\u001b[0m: 'DataFrame' object has no attribute 'duration_high'"
          ]
        }
      ],
      "source": [
        "total_basal_na = sum(segs_na_df['segmentID'][segs_na_df.Type=='dend'][~pd.isnull(segs_na_df.duration_high)])\n",
        "# num_basal_seg = len(segs[segs.Type=='dend'])\n",
        "basal_length = sum(segs['Seg_L'][segs.Type=='dend'])\n",
        "\n",
        "total_apic_na = sum(segs_na_df['segmentID'][segs_na_df.Type=='apic'][~pd.isnull(segs_na_df.duration_high)])\n",
        "# num_apic_seg = len(segs[segs.Type=='apic'])\n",
        "apic_length = sum(segs['Seg_L'][segs.Type=='apic'])\n",
        "\n",
        "# apic_na_perSeg_perSec = (total_apic_na / num_apic_seg)/(tstop/dt)\n",
        "# basal_na_perSeg_perSec = (total_basal_na / num_basal_seg)/(tstop/dt)\n",
        "apic_na_perUM_perSec = (total_apic_na / apic_length)/(tstop/1000) # Can divide by x microns to get per X microns\n",
        "basal_na_perUM_perSec = (total_basal_na / basal_length)/(tstop/1000) # Can divide by x microns to get per X microns\n",
        "\n",
        "# data = {'basal':basal_na_perSeg_perSec, 'apic':apic_na_perSeg_perSec}\n",
        "data = {'basal':basal_na_perUM_perSec, 'apic':apic_na_perUM_perSec}\n",
        "group = list(data.keys())\n",
        "value = list(data.values())\n",
        "\n",
        "fig = plt.figure(figsize = (10, 5))\n",
        "# plt.title('Na spikes per segment per second')\n",
        "plt.title('Na spikes per micron per second')\n",
        "\n",
        "\n",
        "# creating the bar plot\n",
        "plt.barh(group, value, color ='powderblue')\n",
        "if Detailed==True:\n",
        "    plt.savefig(output_folder+'/DetailedNASpikesPerUmPerSec.png')\n",
        "else:\n",
        "    plt.savefig(output_folder+'/ReducedNASpikesPerUmPerSec.png')"
      ]
    },
    {
      "cell_type": "code",
      "execution_count": null,
      "metadata": {
        "colab": {
          "base_uri": "https://localhost:8080/",
          "height": 371
        },
        "id": "lGeNOKN4aPrg",
        "outputId": "567d04e3-86de-4b68-d264-aba0bc6939b4"
      },
      "outputs": [],
      "source": [
        "total_basal_ca = sum(segs_ca_df['index'][segs_ca_df.Type=='dend'][~pd.isnull(segs_ca_df.duration_high)])\n",
        "# num_basal_seg = len(segs[segs.Type=='dend'])\n",
        "basal_length = sum(segs['Seg_L'][segs.Type=='dend'])\n",
        "\n",
        "print(total_basal_ca)\n",
        "\n",
        "total_apic_ca = sum(segs_ca_df['index'][segs_ca_df.Type=='apic'][~pd.isnull(segs_ca_df.duration_high)])\n",
        "# num_apic_seg = len(segs[segs.Type=='apic'])\n",
        "apic_length = sum(segs['Seg_L'][segs.Type=='apic'])\n",
        "\n",
        "# apic_ca_perSeg_perSec = (total_apic_ca / num_apic_seg)(tstop/dt)\n",
        "# basal_ca_perSeg_perSec = (total_basal_ca / num_basal_seg)(tstop/dt)\n",
        "\n",
        "apic_ca_perUM_perSec = (total_apic_ca / apic_length)/(tstop/1000) # Can divide by x microns to get per X microns\n",
        "basal_ca_perUM_perSec = (total_basal_ca / basal_length)/(tstop/1000) # Can divide by x microns to get per X microns\n",
        "\n",
        "\n",
        "# data = {'basal':basal_ca_perSeg_perSec, 'apic':apic_ca_perSeg_perSec}\n",
        "data = {'basal':basal_ca_perUM_perSec, 'apic':apic_ca_perUM_perSec}\n",
        "group = list(data.keys())\n",
        "value = list(data.values())\n",
        "\n",
        "fig = plt.figure(figsize = (10, 5))\n",
        "\n",
        "# plt.title('Calcium spikes per segment per second')\n",
        "plt.title('Calcium spikes per UM per second')\n",
        "\n",
        " \n",
        "# creating the bar plot\n",
        "plt.barh(group, value, color ='tomato')\n",
        "\n",
        "if Detailed==True:\n",
        "    plt.savefig(output_folder+'/DetailedCaSpikesPerUmPerSec.png')\n",
        "else:\n",
        "    plt.savefig(output_folder+'/ReducedCaSpikesPerUmPerSec.png')"
      ]
    },
    {
      "cell_type": "code",
      "execution_count": null,
      "metadata": {},
      "outputs": [],
      "source": [
        "# segs.head() # segs does not have number of spikes\n",
        "# print(segs_ca_df)"
      ]
    },
    {
      "cell_type": "code",
      "execution_count": null,
      "metadata": {},
      "outputs": [],
      "source": [
        "# segs_ca_df[~pd.isnull(segs_ca_df.duration_high)].head()\n",
        "segs_ca_df.head()"
      ]
    },
    {
      "cell_type": "code",
      "execution_count": null,
      "metadata": {},
      "outputs": [],
      "source": [
        "all_ca=pd.DataFrame()\n",
        "all_ca['NumSpikes'] = segs_ca_df['index'][~pd.isnull(segs_ca_df.duration_high)]\n",
        "# print(segs_ca_df[~pd.isnull(segs_ca_df.duration_high)])\n",
        "print(all_ca) # segment id and number of spikes\n",
        "# print(sum(all_ca))\n",
        "# plt.figure(figsize=(4,10))\n",
        "# ax = plt.scatter(segs['Coord X'], segs['Coord Y'],c=all_ca)\n",
        "# plt.vlines(110,400,500)\n",
        "# plt.text(0,450,'100 um')\n",
        "# plt.hlines(400,110,210)\n",
        "# plt.text(110,350,'100 um')\n",
        "# plt.xticks([])\n",
        "# plt.yticks([])\n",
        "# cbar = plt.colorbar()\n",
        "# cbar.ax.set_ylabel('log(elec_distance)', rotation=270)\n",
        "\n",
        "# #ax2.ax.set_title('log(elec_distance)',rotation=270)\n",
        "# plt.box(False)\n",
        "# plt.savefig('Elec_distance.png')\n",
        "# # all_ca_perUM_perSec = (all_ca / segs['Seg_L'])/(tstop/dt) # Can divide by x microns to get per X microns\n",
        "# # # print(all_ca_perUM_perSec)\n",
        "# # for i in range(len(all_ca_perUM_perSec)):\n",
        "# #     if np.isnan(all_ca_perUM_perSec[i])==True:\n",
        "# #         all_ca_perUM_perSec[i]=0\n",
        "# # print(all_ca_perUM_perSec)"
      ]
    },
    {
      "cell_type": "code",
      "execution_count": null,
      "metadata": {
        "colab": {
          "base_uri": "https://localhost:8080/",
          "height": 265
        },
        "id": "Y6ecjQg64vap",
        "outputId": "f3e50d9d-772e-437a-a5b4-e290a15705aa"
      },
      "outputs": [],
      "source": [
        "for i in np.arange(0,10):\n",
        "    plt.plot(np.arange(-40,95,5),nmda_dend[i]/np.sum(nmda_dend[i]))\n"
      ]
    },
    {
      "cell_type": "code",
      "execution_count": null,
      "metadata": {
        "id": "nvS-77j54vap"
      },
      "outputs": [],
      "source": [
        "# segs_conns[(segs_conns['Sec ID']==80) & (segs_conns.Type=='dend')]['Source Population'].value_counts()"
      ]
    },
    {
      "cell_type": "markdown",
      "metadata": {
        "id": "ZDksdcux4geV"
      },
      "source": []
    },
    {
      "cell_type": "code",
      "execution_count": null,
      "metadata": {
        "colab": {
          "base_uri": "https://localhost:8080/",
          "height": 613
        },
        "id": "Wx2PiJh94vap",
        "outputId": "37bf42de-b519-4888-c314-76189d8f38c8"
      },
      "outputs": [],
      "source": [
        "plt.figure(figsize=(10,10))\n",
        "ind = 55\n",
        "plt.plot(segs['Coord X'], segs['Coord Y'], 'b.')\n",
        "plt.plot(segs.loc[0,'Coord X'], segs.loc[0,'Coord Y'], 'k.',markersize=20)\n",
        "\n",
        "plt.plot(segs.loc[ind,'Coord X'], segs.loc[ind,'Coord Y'], 'r*',markersize=20)\n",
        "\n",
        "# for i in segs_conns[(segs_conns.Type=='dend')&(segs_conns['Sec ID']==2)]['Sec ID'].unique():\n",
        "#     plt.plot(segs[(segs['Sec ID']==i)&(segs['Type']=='dend')]['Coord X'],\n",
        "#              segs[(segs['Sec ID']==i)&(segs['Type']=='dend')]['Coord Y'],color='r')\n",
        "    \n",
        "#for i in segs_conns[(segs_conns.Type=='dend')&(segs_conns['Sec ID']==7)]['Sec ID'].unique():\n",
        "#    plt.plot(segs[(segs['Sec ID']==i)&(segs['Type']=='dend')]['Coord X'],\n",
        "#             segs[(segs['Sec ID']==i)&(segs['Type']=='dend')]['Coord Y'],color='c')\n",
        "    \n",
        "#plt.plot(segs[segs.segmentID==119]['Coord X'], segs[segs.segmentID==119]['Coord Y'],'r*',markersize=14)\n",
        "#plt.plot(segs[segs.segmentID==110]['Coord X'], segs[segs.segmentID==110]['Coord Y'],'r*',markersize=14)\n",
        "#plt.plot(segs[segs.segmentID==103]['Coord X'], segs[segs.segmentID==103]['Coord Y'],'r*',markersize=14)\n",
        "\n",
        "#plt.plot(segs[segs.segmentID==134]['Coord X'], segs[segs.segmentID==134]['Coord Y'],'c*',markersize=14)\n",
        "plt.ylim(-25,50)\n",
        "plt.xlim(-150,150)"
      ]
    },
    {
      "cell_type": "code",
      "execution_count": null,
      "metadata": {
        "id": "iskhzr3R4vap"
      },
      "outputs": [],
      "source": [
        "# plt.figure(figsize=(10,10))\n",
        "# plt.plot(f['report']['biophysical']['data'][:,119],color='b')\n",
        "# plt.plot(f['report']['biophysical']['data'][:,110],color='b',alpha=0.5)\n",
        "# plt.plot(f['report']['biophysical']['data'][:,104],color='b',alpha=0.1)\n",
        "\n",
        "# plt.plot(f['report']['biophysical']['data'][:,134],color='c',alpha=1)\n",
        "# plt.plot(f['report']['biophysical']['data'][:,0],'k')\n",
        "# plt.twinx()\n",
        "# plt.plot(h['report']['biophysical']['data'][:,119],color='r')\n",
        "# plt.plot(h['report']['biophysical']['data'][:,110],color='r',alpha=0.5)\n",
        "# plt.plot(h['report']['biophysical']['data'][:,103],color='r',alpha=0.1)\n",
        "\n",
        "# plt.xlim(526519-100,526519+1000)"
      ]
    },
    {
      "cell_type": "code",
      "execution_count": null,
      "metadata": {
        "colab": {
          "base_uri": "https://localhost:8080/"
        },
        "id": "xsQ5PRlP4vap",
        "outputId": "31782242-4865-4a1f-c877-59aff913a1a3"
      },
      "outputs": [],
      "source": [
        "nmda2 = np.zeros((79,))\n",
        "try:\n",
        "  for i in spktimes:\n",
        "      nmda_inds2 = np.sort(segs_nmda_df[(segs_nmda_df.Degrees<=3)&\n",
        "              (~pd.isnull(segs_nmda_df.nmda_lower_bound))&\n",
        "              (segs_nmda_df.mag<-0.1)&\n",
        "                  (segs_nmda_df.Type=='dend')]['nmda_lower_bound'].values.astype(int))\n",
        "\n",
        "      x2, _ = np.histogram(nmda_inds2/10,bins=np.arange(i-40,i+40,1))\n",
        "      nmda2 += x2\n",
        "except:\n",
        "  print('segs_nmda_df \"DataFrame\" object has no attribute \"Degrees\"')\n",
        "    \n",
        "    #na_inds3 = segs_na_df[(segs_na_df.Degrees==3)&(~pd.isnull(segs_na_df.na_lower_bound))]['na_lower_bound'].values.astype(int)\n",
        "    #x3, _ = np.histogram(na_inds3/10,bins=np.arange(i-20,i+20,1))\n",
        "    #na3 += x3\n",
        "    \n",
        "    #na_inds4 = segs_na_df[(segs_na_df.Degrees==4)&(~pd.isnull(segs_na_df.na_lower_bound))]['na_lower_bound'].values.astype(int)\n",
        "    #x4, _ = np.histogram(na_inds4/10,bins=np.arange(i-20,i+20,1))\n",
        "    #na4 += x4\n",
        "    \n",
        "    #na_inds5 = segs_na_df[(segs_na_df.Degrees==5)&(~pd.isnull(segs_na_df.na_lower_bound))]['na_lower_bound'].values.astype(int)\n",
        "    #x5, _ = np.histogram(na_inds5/10,bins=np.arange(i-20,i+20,1))\n",
        "    #na5 += x5\n",
        "    "
      ]
    },
    {
      "cell_type": "code",
      "execution_count": null,
      "metadata": {
        "colab": {
          "base_uri": "https://localhost:8080/",
          "height": 282
        },
        "id": "vUUqHx824vap",
        "outputId": "b4f634ac-e194-48bc-9661-a74cb7bc7d8f"
      },
      "outputs": [],
      "source": [
        "plt.plot(nmda2)"
      ]
    },
    {
      "cell_type": "code",
      "execution_count": null,
      "metadata": {},
      "outputs": [],
      "source": [
        "segs_ca_df.head()\n",
        "# segs_na_df.head()\n",
        "# segs_nmda_df.head()"
      ]
    },
    {
      "cell_type": "code",
      "execution_count": null,
      "metadata": {},
      "outputs": [],
      "source": [
        "segs.head()"
      ]
    },
    {
      "cell_type": "code",
      "execution_count": null,
      "metadata": {},
      "outputs": [],
      "source": [
        "#calculate segment spikes per second\n"
      ]
    },
    {
      "cell_type": "code",
      "execution_count": null,
      "metadata": {
        "id": "LtCXJTG94vap"
      },
      "outputs": [],
      "source": []
    },
    {
      "cell_type": "code",
      "execution_count": null,
      "metadata": {
        "id": "2H2GkHjg4vap"
      },
      "outputs": [],
      "source": []
    },
    {
      "cell_type": "code",
      "execution_count": null,
      "metadata": {
        "id": "plFcK6PZ4vap"
      },
      "outputs": [],
      "source": [
        "# import matplotlib\n",
        "# font = {'family' : 'normal',\n",
        "#         'weight' : 'normal',\n",
        "#         'size'   : 16}\n",
        "\n",
        "# matplotlib.rc('font', **font)\n",
        "\n",
        "# ind = 1139\n",
        "# plt.figure(figsize=(12,10))\n",
        "# plt.plot(np.arange(0,60000,.1),f['report']['biophysical']['data'][:,ind],color='b',label='dend voltage')\n",
        "# plt.plot(np.arange(0,60000,.1),f['report']['biophysical']['data'][:,0],color='k',alpha=0.3,label='soma voltage')\n",
        "# plt.legend(loc='lower left')\n",
        "# plt.hlines(-40,0,60000,linestyle='dashed')\n",
        "# plt.ylabel('voltage (mV)')\n",
        "# plt.ylim(-85,25)\n",
        "# plt.xlabel('time (ms)')\n",
        "# plt.twinx()\n",
        "# plt.plot(np.arange(0,60000,.1),h['report']['biophysical']['data'][:,ind],color='r',label='inmda dend')\n",
        "# plt.legend(loc='upper right')\n",
        "# plt.plot(np.arange(0,60000,.1)[nmda_df[nmda_df.seg_id==ind]['nmda_lower_bound'].values.astype(int)],\n",
        "#          h['report']['biophysical']['data'][nmda_df[nmda_df.seg_id==ind]['nmda_lower_bound'].values.astype(int),ind],'m*',markersize=20)\n",
        "# plt.plot(np.arange(0,60000,.1)[nmda_df[nmda_df.seg_id==ind]['nmda_upper_bound'].values.astype(int)],\n",
        "#          h['report']['biophysical']['data'][nmda_df[nmda_df.seg_id==ind]['nmda_upper_bound'].values.astype(int),ind],'k*',markersize=20)\n",
        "# plt.ylim(-0.009,0.001)\n",
        "# plt.xlim(37000,39000)\n",
        "# plt.ylabel('current (nA)')\n"
      ]
    },
    {
      "cell_type": "code",
      "execution_count": null,
      "metadata": {
        "id": "QYx2H4314vap"
      },
      "outputs": [],
      "source": [
        "# import matplotlib\n",
        "# font = {'family' : 'normal',\n",
        "#         'weight' : 'normal',\n",
        "#         'size'   : 16}\n",
        "\n",
        "# matplotlib.rc('font', **font)\n",
        "\n",
        "# plt.figure(figsize=(12,10))\n",
        "# plt.plot(np.arange(0,60000,.1),f['report']['biophysical']['data'][:,175],color='b',label='dend voltage')\n",
        "# plt.plot(np.arange(0,60000,.1),f['report']['biophysical']['data'][:,0],color='k',alpha=0.3,label='soma voltage')\n",
        "# plt.legend(loc='lower left')\n",
        "# plt.hlines(-40,0,60000,linestyle='dashed')\n",
        "# plt.ylabel('voltage (mV)')\n",
        "# plt.ylim(-85,25)\n",
        "# plt.xlabel('time (ms)')\n",
        "# plt.twinx()\n",
        "# plt.plot(np.arange(0,60000,.1),h['report']['biophysical']['data'][:,175],color='r',label='inmda dend')\n",
        "# plt.legend(loc='upper right')\n",
        "# plt.plot(np.arange(0,60000,.1)[nmda_df[nmda_df.seg_id==175]['nmda_lower_bound'].values.astype(int)],\n",
        "#          h['report']['biophysical']['data'][nmda_df[nmda_df.seg_id==175]['nmda_lower_bound'].values.astype(int),175],'m*',markersize=20)\n",
        "# plt.plot(np.arange(0,60000,.1)[nmda_df[nmda_df.seg_id==175]['nmda_upper_bound'].values.astype(int)],\n",
        "#          h['report']['biophysical']['data'][nmda_df[nmda_df.seg_id==175]['nmda_upper_bound'].values.astype(int),175],'k*',markersize=20)\n",
        "# plt.xlim(32000,32400)\n",
        "# plt.ylim(-0.009,0.001)\n",
        "# plt.ylabel('current (nA)')\n"
      ]
    },
    {
      "cell_type": "code",
      "execution_count": null,
      "metadata": {
        "id": "zvXGNGGT4vaq"
      },
      "outputs": [],
      "source": [
        "nmda_spktimes = nmda_df[nmda_df.mag<-0.1]['nmda_lower_bound']/10\n",
        "n = np.zeros((12,))\n",
        "for i in spktimes:\n",
        "    x,y = np.histogram(nmda_spktimes[(nmda_spktimes>i-30) & (nmda_spktimes<i+30)]-i,bins=np.arange(-30,31,5))\n",
        "    n+=x"
      ]
    },
    {
      "cell_type": "code",
      "execution_count": null,
      "metadata": {
        "colab": {
          "base_uri": "https://localhost:8080/"
        },
        "id": "gikT0cOM4vaq",
        "outputId": "578db18a-84d7-4135-9a05-eb1b5489e0cf"
      },
      "outputs": [],
      "source": [
        "np.arange(-30,31,5).shape"
      ]
    },
    {
      "cell_type": "code",
      "execution_count": null,
      "metadata": {
        "colab": {
          "base_uri": "https://localhost:8080/",
          "height": 282
        },
        "id": "61dFsyAl4vaq",
        "outputId": "dcd61e0d-9021-4911-a9a1-d89ca2aab079"
      },
      "outputs": [],
      "source": [
        "plt.plot(np.arange(-30,30,5),n)"
      ]
    },
    {
      "cell_type": "code",
      "execution_count": null,
      "metadata": {
        "id": "hihbEY_D4vaq"
      },
      "outputs": [],
      "source": [
        "na_spktimes = na_df[~pd.isnull(na_df.na_lower_bound)]['na_lower_bound']/10\n",
        "na = np.zeros((20,))\n",
        "for i in spktimes:\n",
        "    x,y = np.histogram(na_spktimes[(na_spktimes>i-10) & (na_spktimes<i+10)]-i,bins=np.arange(-10,11,1))\n",
        "    na+=x"
      ]
    },
    {
      "cell_type": "code",
      "execution_count": null,
      "metadata": {
        "id": "O6lnaEw54vaq"
      },
      "outputs": [],
      "source": [
        "# plt.plot(na_df[~pd.isnull(na_df.na_lower_bound)]['na_lower_bound']/10,\n",
        "#          na_df[~pd.isnull(na_df.na_lower_bound)]['seg_id'],'*')"
      ]
    },
    {
      "cell_type": "code",
      "execution_count": null,
      "metadata": {
        "id": "mCYyq4QZ4vaq"
      },
      "outputs": [],
      "source": []
    },
    {
      "cell_type": "code",
      "execution_count": null,
      "metadata": {
        "id": "wosrKFbn4vaq"
      },
      "outputs": [],
      "source": []
    },
    {
      "cell_type": "code",
      "execution_count": null,
      "metadata": {
        "colab": {
          "base_uri": "https://localhost:8080/",
          "height": 282
        },
        "id": "AX2hpqhx4vaq",
        "outputId": "02ba4068-1268-4831-dafc-7c7dbe187e07"
      },
      "outputs": [],
      "source": [
        "plt.plot(nmda_spktimes,np.random.randint(low=0,high=100,size=len(nmda_spktimes)),'.')\n",
        "plt.plot(spktimes,np.tile(40,len(spktimes)),'r*')"
      ]
    },
    {
      "cell_type": "code",
      "execution_count": null,
      "metadata": {
        "id": "BInnvuzU4vaq"
      },
      "outputs": [],
      "source": [
        "x1,_=np.histogram(spktimes,bins=np.arange(0,10000,100))\n",
        "x2,_=np.histogram(nmda_spktimes,bins=np.arange(0,10000,100))"
      ]
    },
    {
      "cell_type": "code",
      "execution_count": null,
      "metadata": {
        "id": "cLJIEXrs4vaq"
      },
      "outputs": [],
      "source": [
        "# plt.figure(figsize=(10,8))\n",
        "# plt.plot(np.arange(0,10000,.1),control_v[:,176],color='b')\n",
        "# plt.plot(np.arange(0,10000,.1)[nmda_df.loc[nmda_df.seg_id==175,'nmda_lower_bound'].values.astype(int)],control_v[nmda_df.loc[nmda_df.seg_id==175,'nmda_lower_bound'].values.astype(int),176],'m*')\n",
        "# plt.plot(np.arange(0,10000,.1),control_v[:,0],color='k')\n",
        "# plt.xlim(6000,7000)"
      ]
    },
    {
      "cell_type": "code",
      "execution_count": null,
      "metadata": {
        "id": "sSAq2Kj64vaq"
      },
      "outputs": [],
      "source": []
    },
    {
      "cell_type": "code",
      "execution_count": null,
      "metadata": {
        "id": "RQXnGrXg4vaq"
      },
      "outputs": [],
      "source": []
    },
    {
      "cell_type": "code",
      "execution_count": null,
      "metadata": {
        "id": "EZB7_ygG4vaq"
      },
      "outputs": [],
      "source": []
    },
    {
      "cell_type": "code",
      "execution_count": null,
      "metadata": {
        "id": "yJUmMwPj4vaq"
      },
      "outputs": [],
      "source": []
    },
    {
      "cell_type": "code",
      "execution_count": null,
      "metadata": {
        "id": "PCmw_39l4vaq"
      },
      "outputs": [],
      "source": [
        "# # ind1 = 3 sent to Drew\n",
        "# ind1 = 2\n",
        "# e1 = control_inmda[legit_uc_iso[ind1], p]\n",
        "# e2 = control_inmda[legit_dc_iso[ind1], p]\n",
        "# x30 = np.argwhere(np.diff(control_inmda[legit_uc_iso[ind1]:legit_dc_iso[ind1], p] < 1.3*e1, prepend=False))\n",
        "# x15 = np.argwhere(np.diff(control_inmda[legit_uc_iso[ind1]:legit_dc_iso[ind1], p] < 1.15*e1, prepend=False))"
      ]
    },
    {
      "cell_type": "code",
      "execution_count": null,
      "metadata": {
        "id": "GMx0qX0y4vaq"
      },
      "outputs": [],
      "source": [
        "# import matplotlib\n",
        "# font = {'family' : 'normal',\n",
        "#         'weight' : 'normal',\n",
        "#         'size'   : 16}\n",
        "\n",
        "# matplotlib.rc('font', **font)\n",
        "\n",
        "# plt.figure(figsize=(12,10))\n",
        "# plt.plot(np.arange(0,(legit_dc_iso[ind1]-legit_uc_iso[ind1])/10, 0.1),\n",
        "#          control_inmda[legit_uc_iso[ind1]:legit_dc_iso[ind1], p],color='r',label='inmda @ dend.')\n",
        "# plt.hlines(1.3*e1,0,np.max(np.arange(0,(legit_dc_iso[ind1]-legit_uc_iso[ind1])/10, 0.1)),color='r',alpha=0.2)\n",
        "# plt.hlines(1.15*e1,0,np.max(np.arange(0,(legit_dc_iso[ind1]-legit_uc_iso[ind1])/10, 0.1)),color='r',alpha=0.2)\n",
        "# plt.ylabel('current (nA)')\n",
        "# plt.ylim(-0.010,0)\n",
        "# plt.legend(loc='upper center')\n",
        "# plt.xlabel('time (ms)')\n",
        "# plt.twinx()\n",
        "# plt.plot(np.arange(0,(legit_dc_iso[ind1]-legit_uc_iso[ind1])/10, 0.1),\n",
        "#          control_v[legit_uc_iso[ind1]:legit_dc_iso[ind1],p],color='b',label='dend. volt.')\n",
        "# plt.plot(np.arange(0,(legit_dc_iso[ind1]-legit_uc_iso[ind1])/10, 0.1),\n",
        "#          control_v[legit_uc_iso[ind1]:legit_dc_iso[ind1],0], color='k',label='soma volt.')\n",
        "\n",
        "\n",
        "# for i in np.arange(0,len(bounds)):\n",
        "#     plt.fill_between(np.array([bounds[i][0]/10,bounds[i][1]/10]).reshape(2,),-70,20,color='k',alpha=0.2)\n",
        "#     plt.text(bounds[i][0]/10,-20-(i*10),'{x:.2f}'.format(x=sum_current[i]))\n",
        "##plt.fill_between(np.array([bounds[1][0]/10,bounds[1][1]/10]).reshape(2,),-70,20,color='k',alpha=0.2)\n",
        "##plt.fill_between(np.array([bounds[2][0]/10,bounds[2][1]/10]).reshape(2,),-70,20,color='k',alpha=0.2)\n",
        "#plt.hlines(-40,0,np.max(np.arange(0,(legit_uc_iso[ind1+1]-legit_uc_iso[ind1])/10, 0.1)),linestyle='dashed')\n",
        "##plt.text(1.5,14,'NMDA\\nspike')\n",
        "#plt.ylabel('voltage (mV)')\n",
        "#plt.legend()"
      ]
    },
    {
      "cell_type": "code",
      "execution_count": null,
      "metadata": {
        "id": "Jy1JT1Nq4vaq"
      },
      "outputs": [],
      "source": [
        "# plt.figure(figsize=(12,10))\n",
        "# plt.plot(np.arange(0,10000,.1),control_v[:,p],label='control dend. v')\n",
        "# plt.plot(np.arange(0,10000,.1),NMDAblock_v[:,p],label='NMDA block dend. v')\n",
        "# plt.plot(np.arange(0,10000,.1),control_v[:,0],color='k',label='control soma v')\n",
        "\n",
        "# uc = voltage_criterion(control_v[:,p],-40)[0]\n",
        "\n",
        "\n",
        "# plt.plot(np.arange(0,10000,.1)[uc],control_v[uc,p],'*')\n",
        "# plt.plot(np.arange(0,10000,.1)[legit_uc],control_v[legit_uc,p],'m*')\n",
        "\n",
        "\n",
        "# center = np.floor(legit_uc[np.random.choice(np.arange(0,legit_uc.shape[0]))]/10)\n",
        "\n",
        "# plt.plot([center,center+26],[-80,-80],color='k')\n",
        "# plt.legend(loc='lower left')\n",
        "\n",
        "# plt.twinx()\n",
        "# plt.plot(np.arange(0,10000,.1),control_inmda[:,p],color='r',label='NMDA current')\n",
        "# plt.plot(np.arange(0,10000,.1)[legit_uc],control_inmda[legit_uc, p],'*')\n",
        "# #plt.plot(np.arange(0,10000,.1),control_gna[:,p],color='r',alpha=0.2, label='gNa')\n",
        "# plt.xlim(center-100,center+100)\n",
        "\n",
        "# plt.legend(loc='lower right')\n",
        "# plt.title('{}'.format(legit_uc))"
      ]
    },
    {
      "cell_type": "code",
      "execution_count": null,
      "metadata": {
        "id": "nMgTL3Kh4vaq"
      },
      "outputs": [],
      "source": [
        "# p = np.random.choice(segs[segs.Type=='apic'].index)\n",
        "# for i in spktimes:\n",
        "#     plt.plot(np.arange(0,20,.1), control_v[int(i*10)-100:int(i*10)+100,p])\n",
        "# plt.vlines(10,-65,0,color='k')\n",
        "# plt.ylim(-65,0)"
      ]
    },
    {
      "cell_type": "code",
      "execution_count": null,
      "metadata": {
        "id": "UkNA5PUa4vaq"
      },
      "outputs": [],
      "source": [
        "# p = 829#np.random.choice(segs[segs.Type=='dend'].index)\n",
        "# plt.title('dend {}'.format(p))\n",
        "# plt.plot(control_v[7200:7700,p],label='dend')\n",
        "# plt.plot(control_v[7200:7700,0],label='soma')\n",
        "# plt.hlines(-40,0,500)\n",
        "# plt.twinx()\n",
        "# plt.plot(control_inmda[7200:7700,p],color='r')\n",
        "# plt.legend()"
      ]
    },
    {
      "cell_type": "code",
      "execution_count": null,
      "metadata": {
        "id": "PTz_OD204vaq"
      },
      "outputs": [],
      "source": [
        "# control_v[10000,0]"
      ]
    },
    {
      "cell_type": "code",
      "execution_count": null,
      "metadata": {
        "id": "0j1tXS3E4var"
      },
      "outputs": [],
      "source": [
        "# plt.hist(control_v[10000,:])"
      ]
    },
    {
      "cell_type": "code",
      "execution_count": null,
      "metadata": {
        "id": "xc3yqYuK4var"
      },
      "outputs": [],
      "source": [
        "# plt.plot(control_v[:,1200])\n",
        "# plt.plot(NMDAblock_v[:,1200])"
      ]
    },
    {
      "cell_type": "code",
      "execution_count": null,
      "metadata": {
        "id": "yL_5vEQb4var"
      },
      "outputs": [],
      "source": [
        "# df = ids_pos.set_index(['BMTK ID', 'X']).join(segs.set_index(['BMTK ID', 'X'])).reset_index()"
      ]
    },
    {
      "cell_type": "code",
      "execution_count": null,
      "metadata": {
        "id": "-SAxAuK34var"
      },
      "outputs": [],
      "source": [
        "# df.loc[0,'Distance'], np.mean(f['report']['biophysical']['data'],axis=0)[0]"
      ]
    },
    {
      "cell_type": "code",
      "execution_count": null,
      "metadata": {
        "id": "tcCgvLcV4var"
      },
      "outputs": [],
      "source": [
        "# df[(df.Distance>900) & (df.Distance<1000)]"
      ]
    },
    {
      "cell_type": "code",
      "execution_count": null,
      "metadata": {
        "id": "iSQt7tgD4var"
      },
      "outputs": [],
      "source": [
        "# plt.scatter(np.arange(0,df.shape[0]), np.mean(f['report']['biophysical']['data'],axis=0))\n",
        "# plt.xlim(1740,1760)"
      ]
    },
    {
      "cell_type": "code",
      "execution_count": null,
      "metadata": {
        "id": "q5Lf7TbC4var"
      },
      "outputs": [],
      "source": [
        "# plt.figure(figsize=(10,6))\n",
        "# plt.scatter(df['Elec_distance'],np.mean(f['report']['biophysical']['data'],axis=0),alpha=0.2)\n",
        "# plt.scatter(df.loc[0,'Distance'], np.mean(f['report']['biophysical']['data'],axis=0)[0],color='r', marker='*', s=75)\n",
        "# plt.scatter(df.loc[1452,'Distance'], np.mean(f['report']['biophysical']['data'],axis=0)[1452],color='m',marker='*', s=75)\n",
        "# plt.scatter(df.loc[1754,'Distance'], np.mean(f['report']['biophysical']['data'],axis=0)[1754],color='k',marker='*', s=75)\n",
        "# plt.xlabel('distance from soma')\n",
        "# plt.ylabel('mean potential of segment (mV)')"
      ]
    },
    {
      "cell_type": "code",
      "execution_count": null,
      "metadata": {
        "id": "yVPunG4e4var"
      },
      "outputs": [],
      "source": [
        "# #plt.scatter(np.arange(0,f['report']['biophysical']['data'].shape[1]),np.mean(f['report']['biophysical']['data'],axis=0))\n",
        "\n",
        "# plt.figure(figsize=(10,6))\n",
        "\n",
        "# plt.plot(np.arange(0,2,0.0001),f['report']['biophysical']['data'][:,0],color='r')\n",
        "# plt.plot(np.arange(0,2,0.0001),f['report']['biophysical']['data'][:,1452],color='m')\n",
        "# plt.plot(np.arange(0,2,0.0001),f['report']['biophysical']['data'][:,1754],color='k')\n",
        "# plt.xlim(1.75,2)\n",
        "# plt.xlabel('time (s)')\n",
        "# plt.ylabel('membrane potential (mV)')"
      ]
    },
    {
      "cell_type": "code",
      "execution_count": null,
      "metadata": {
        "id": "WeeWcSCF4var"
      },
      "outputs": [],
      "source": []
    }
  ],
  "metadata": {
    "colab": {
      "include_colab_link": true,
      "name": "NMDAExploration.ipynb",
      "provenance": []
    },
    "kernelspec": {
      "display_name": "Python 3.9.7 ('base': conda)",
      "language": "python",
      "name": "python3"
    },
    "language_info": {
      "codemirror_mode": {
        "name": "ipython",
        "version": 3
      },
      "file_extension": ".py",
      "mimetype": "text/x-python",
      "name": "python",
      "nbconvert_exporter": "python",
      "pygments_lexer": "ipython3",
      "version": "3.9.7"
    },
    "vscode": {
      "interpreter": {
        "hash": "8f3619f4fa641ed177aec79a1937dab9841a35bf4719b57c8f69b2dc3d4e9503"
      }
    }
  },
  "nbformat": 4,
  "nbformat_minor": 0
}
