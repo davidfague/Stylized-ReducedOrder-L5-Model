{
  "cells": [
    {
      "cell_type": "markdown",
      "metadata": {
        "id": "view-in-github",
        "colab_type": "text"
      },
      "source": [
        "<a href=\"https://colab.research.google.com/github/davidfague/Stylized-ReducedOrder-L5-Model/blob/main/Stylized_Reduced_Order_L5_1_8_3.ipynb\" target=\"_parent\"><img src=\"https://colab.research.google.com/assets/colab-badge.svg\" alt=\"Open In Colab\"/></a>"
      ]
    },
    {
      "cell_type": "markdown",
      "metadata": {
        "id": "Xkx-mbZKD8c2"
      },
      "source": [
        "#### Neuron Initialization\n",
        "Import modules and setup simulation parameters"
      ]
    },
    {
      "cell_type": "code",
      "source": [
        "!pip install neuron"
      ],
      "metadata": {
        "id": "QqK980HfECA5",
        "outputId": "3c18cb79-2714-4a45-9d5a-54f1b83ac237",
        "colab": {
          "base_uri": "https://localhost:8080/"
        }
      },
      "execution_count": 1,
      "outputs": [
        {
          "output_type": "stream",
          "name": "stdout",
          "text": [
            "Looking in indexes: https://pypi.org/simple, https://us-python.pkg.dev/colab-wheels/public/simple/\n",
            "Requirement already satisfied: neuron in /usr/local/lib/python3.7/dist-packages (8.1.0)\n",
            "Requirement already satisfied: numpy>=1.9.3 in /usr/local/lib/python3.7/dist-packages (from neuron) (1.21.6)\n"
          ]
        }
      ]
    },
    {
      "cell_type": "code",
      "source": [
        "from google.colab import drive\n",
        "drive.mount('/content/drive')"
      ],
      "metadata": {
        "id": "t4aHlZPNEvm4",
        "colab": {
          "base_uri": "https://localhost:8080/"
        },
        "outputId": "4aab9361-22a3-43af-fed8-d4dc70e77c18"
      },
      "execution_count": 2,
      "outputs": [
        {
          "output_type": "stream",
          "name": "stdout",
          "text": [
            "Drive already mounted at /content/drive; to attempt to forcibly remount, call drive.mount(\"/content/drive\", force_remount=True).\n"
          ]
        }
      ]
    },
    {
      "cell_type": "code",
      "source": [
        "%cd /content/drive/MyDrive/Stylized-Cell-model/"
      ],
      "metadata": {
        "id": "R6h5ZsGjs5GO",
        "colab": {
          "base_uri": "https://localhost:8080/"
        },
        "outputId": "4bd982c8-ea76-4894-b5a4-91e7019aadab"
      },
      "execution_count": 3,
      "outputs": [
        {
          "output_type": "stream",
          "name": "stdout",
          "text": [
            "/content/drive/MyDrive/Stylized-Cell-model\n"
          ]
        }
      ]
    },
    {
      "cell_type": "code",
      "source": [
        "from neuron import h\n",
        "import pandas as pd\n",
        "import numpy as np\n",
        "from scipy.stats import lognorm\n",
        "import time as time\n",
        "import os\n",
        "from typing import Optional, List, Tuple, Union"
      ],
      "metadata": {
        "id": "9zVOUnOV9WxH"
      },
      "execution_count": 4,
      "outputs": []
    },
    {
      "cell_type": "code",
      "execution_count": 5,
      "metadata": {
        "id": "KpT_pFwdD8c9"
      },
      "outputs": [],
      "source": [
        "\n",
        "\n",
        "from stylized_module.stylized_cell import Stylized_Cell\n",
        "from stylized_module.ecp import EcpMod, newposition\n",
        "from stylized_module.recorder import Recorder\n",
        "from stylized_module.point_current import Point_current\n",
        "\n",
        "mechanisms_path = 'mechanisms'  # need to compile the folder first\n",
        "geometry_file = 'geom_parameters.csv'\n",
        "tstop = 1000  # ms simulation duration\n",
        "dt = 0.1  # ms. does not allow change\n",
        "\n",
        "h.load_file('stdrun.hoc')\n",
        "#h.nrn_load_dll(os.path.join(mechanisms_path,'nrnmech.dll'))  # running this line more than once might crash the kernel\n",
        "h.nrn_load_dll(os.path.join(mechanisms_path,'x86_64/.libs/libnrnmech.so'))  # use this line instead in Linux\n",
        "geo_standard = pd.read_csv(geometry_file,index_col='id')\n",
        "h.tstop = tstop\n",
        "h.dt = dt\n",
        "h.steps_per_ms = 1/h.dt"
      ]
    },
    {
      "cell_type": "code",
      "source": [
        "#pick a random seed to initalize random values\n",
        "import random\n",
        "random.seed(427)\n",
        "pi=np.pi"
      ],
      "metadata": {
        "id": "urpIM_WeRGOq"
      },
      "execution_count": 6,
      "outputs": []
    },
    {
      "cell_type": "code",
      "source": [
        "# def lognormal(m, s):\n",
        "#         mean = np.log(m) - 0.5 * np.log((s/m)**2+1)\n",
        "#         std = np.sqrt(np.log((s/m)**2 + 1))\n",
        "#         #import pdb; pdb.set_trace()\n",
        "#         return max(np.random.lognormal(mean, std, 1), 0.00000001)"
      ],
      "metadata": {
        "id": "zLrDO_nlrxz1"
      },
      "execution_count": 7,
      "outputs": []
    },
    {
      "cell_type": "code",
      "source": [
        "#get underlying normal distribution parameters from lognormal distribution parameters\n",
        "m=.2\n",
        "s=0.345\n",
        "mean = np.log(m) - 0.5 * np.log((s/m)**2+1)\n",
        "std = np.sqrt(np.log((s/m)**2 + 1))\n",
        "print(mean)\n",
        "print(std)"
      ],
      "metadata": {
        "id": "EoJyg_fv7yGM",
        "colab": {
          "base_uri": "https://localhost:8080/"
        },
        "outputId": "4ae132a2-f792-431d-81fb-5107390ceab0"
      },
      "execution_count": 8,
      "outputs": [
        {
          "output_type": "stream",
          "name": "stdout",
          "text": [
            "-2.299528896659566\n",
            "1.1748114608101725\n"
          ]
        }
      ]
    },
    {
      "cell_type": "markdown",
      "metadata": {
        "id": "_hI4TL9ZD8c_"
      },
      "source": [
        "Define cell model and simulation model. Edit method \"set_channels\" to design biophysical properties."
      ]
    },
    {
      "cell_type": "code",
      "execution_count": 9,
      "metadata": {
        "id": "UhthwMDQD8dA"
      },
      "outputs": [],
      "source": [
        "class Cell(Stylized_Cell):\n",
        "    \"\"\"Define single cell model using parent class Stylized_Cell\"\"\"\n",
        "    def __init__(self,geometry=None,biophys=None,dL=30,vrest=-72.0): #-90?\n",
        "        \"\"\"\n",
        "        Initialize cell model\n",
        "        geometry: pandas dataframe of cell morphology properties\n",
        "        biophys: vector of biophysical parameters corresponding to \"biophys_entries\". Use -1 for default value.\n",
        "        dL: maximum segment length\n",
        "        vrest: reversal potential for leak channels\n",
        "        \"\"\"\n",
        "        self.biophys = biophys\n",
        "        super().__init__(geometry,dL,vrest)\n",
        "        self.record_soma_v() # uncomment this if want to record soma voltage\n",
        "    \n",
        "    def set_channels(self):\n",
        "        \"\"\"Define biophysical properties, insert channels\"\"\"\n",
        "        self.define_biophys_entries()\n",
        "        # common parameters\n",
        "        for sec in self.all:\n",
        "            sec.cm = 2.0\n",
        "            sec.Ra = 100\n",
        "            sec.insert('pas')\n",
        "            sec.e_pas = self._vrest\n",
        "        # fixed parameters\n",
        "        soma = self.soma\n",
        "        soma.cm = 1.0           # Originally 1 \n",
        "        soma.insert('NaTa_t')  # Sodium channel\n",
        "        soma.insert('SKv3_1')  # Potassium channel\n",
        "        soma.insert('Ca_HVA')\n",
        "        soma.insert('Ca_LVAst')\n",
        "        soma.insert('CaDynamics_E2')\n",
        "        soma.insert('Ih')\n",
        "        soma.insert('SK_E2')\n",
        "        soma.insert('K_Tst')\n",
        "        soma.insert('K_Pst')\n",
        "        soma.insert('Nap_Et2')\n",
        "        soma.ena = 50\n",
        "        soma.ek = -85\n",
        "        \n",
        "\n",
        "        for isec in self.grp_ids[1]:        #basal dendrites, proximal trunk; oblique\n",
        "            sec = self.get_sec_by_id(isec) \n",
        "            sec.insert('NaTa_t')\n",
        "            sec.insert('SKv3_1')\n",
        "            sec.insert('Ca_HVA')\n",
        "            sec.insert('Ca_LVAst')\n",
        "            sec.insert('Im')\n",
        "            sec.insert('CaDynamics_E2')\n",
        "            sec.insert('Ih')\n",
        "            sec.insert('SK_E2')\n",
        "            sec.ena = 50\n",
        "            sec.ek = -85\n",
        "\n",
        "        for isec in self.grp_ids[2]:\n",
        "            sec = self.get_sec_by_id(isec)  # Mid Trunk\n",
        "            sec.insert('NaTa_t')\n",
        "            sec.insert('SKv3_1')\n",
        "            sec.insert('Ca_HVA')\n",
        "            sec.insert('Ca_LVAst')\n",
        "            sec.insert('Im')\n",
        "            sec.insert('CaDynamics_E2')\n",
        "            sec.insert('Ih')\n",
        "            sec.insert('SK_E2')\n",
        "            sec.ena = 50\n",
        "            sec.ek = -85\n",
        "\n",
        "\n",
        "        for isec in self.grp_ids[3]:\n",
        "            sec = self.get_sec_by_id(isec)  # Distal Trunk\n",
        "            sec.insert('NaTa_t')\n",
        "            sec.insert('SKv3_1')\n",
        "            sec.insert('Ca_HVA')\n",
        "            sec.insert('Ca_LVAst')\n",
        "            sec.insert('Im')\n",
        "            sec.insert('CaDynamics_E2')\n",
        "            sec.insert('Ih')\n",
        "            sec.insert('SK_E2')\n",
        "            sec.ena = 50\n",
        "            sec.ek = -85\n",
        "\n",
        "        for isec in self.grp_ids[4]:\n",
        "            sec = self.get_sec_by_id(isec)  # Tuft dendrites\n",
        "            sec.insert('NaTa_t')\n",
        "            sec.insert('SKv3_1')\n",
        "            sec.insert('Ca_HVA')\n",
        "            sec.insert('Ca_LVAst')\n",
        "            sec.insert('Im')\n",
        "            sec.insert('CaDynamics_E2')\n",
        "            sec.insert('Ih')\n",
        "            sec.insert('SK_E2')\n",
        "            sec.ena = 50\n",
        "            sec.ek = -85\n",
        "\n",
        "\n",
        "        for isec in self.grp_ids[5]:\n",
        "            sec = self.get_sec_by_id(isec)  # axon\n",
        "            sec.cm = 2.0\n",
        "            sec.insert('NaTa_t')\n",
        "            sec.insert('SKv3_1')\n",
        "            sec.insert('Ca_HVA')\n",
        "            sec.insert('Ca_LVAst')\n",
        "            sec.insert('Im')\n",
        "            sec.insert('CaDynamics_E2')\n",
        "            sec.insert('Ih')\n",
        "            sec.insert('SK_E2')\n",
        "            sec.insert('K_Tst')\n",
        "            sec.insert('K_Pst')\n",
        "            sec.insert('Nap_Et2')\n",
        "            sec.ena = 50\n",
        "            sec.ek = -85\n",
        "\t\t        \n",
        "        for isec in self.grp_ids[6]:\n",
        "            sec = self.get_sec_by_id(isec)  # inactive dendrites\n",
        "            sec.cm = 3.0\n",
        "            sec.insert('NaTa_t')\n",
        "            sec.insert('SKv3_1')\n",
        "            sec.insert('Ca_HVA')\n",
        "            sec.insert('Ca_LVAst')\n",
        "            sec.insert('CaDynamics_E2')\n",
        "            sec.insert('Ih')\n",
        "            sec.ena = 50\n",
        "            sec.ek = -85\n",
        "\n",
        "        # variable parameters\n",
        "        for i,entry in enumerate(self.biophys_entries):\n",
        "            for sec in self.get_sec_by_id(self.grp_ids[entry[0]]):\n",
        "                setattr(sec,entry[1],self.biophys[i])\n",
        "        h.v_init = self._vrest\n",
        "    \n",
        "\n",
        "    def define_biophys_entries(self):\n",
        "        \"\"\"\n",
        "        Define list of entries of biophysical parameters.\n",
        "        Each entry is a pair of group id and parameter reference string.\n",
        "        Define default values and set parameters in \"biophys\".\n",
        "        \"\"\"\n",
        "        self.grp_sec_type_ids = [ # select section id's for each group\n",
        "                                 [0], #soma\n",
        "                                 [1,2,3,4,5], #prox,mid,dist basal; proxtrunk; oblique\n",
        "                                 [6], #mid trunk\n",
        "                                 [7], #distal trunk\n",
        "                                 [8,9,10], #prox,mid,dist tuft\n",
        "                                 [11], #axon\n",
        "                                 [12] #passive basal dendrites\n",
        "                                 ]\n",
        "        self.grp_ids = []  # get indices of sections for each group\n",
        "        for ids in self.grp_sec_type_ids:\n",
        "            secs = []\n",
        "            for i in ids:\n",
        "                secs.extend(self.sec_id_lookup[i])\n",
        "            self.grp_ids.append(secs)\n",
        "        self.biophys_entries = [\n",
        "            (0,'g_pas'),(1,'g_pas'),(2,'g_pas'),(3,'g_pas'),(4,'g_pas'),(5,'g_pas'),(6,'g_pas'),  # g_pas of soma, basal, mid trunk, distal trunk, and tuft \n",
        "            (0,'gNaTa_tbar_NaTa_t'),(1,'gNaTa_tbar_NaTa_t'),(2,'gNaTa_tbar_NaTa_t'),(3,'gNaTa_tbar_NaTa_t'),(4,'gNaTa_tbar_NaTa_t'),(5,'gNaTa_tbar_NaTa_t'),(6,'gNaTa_tbar_NaTa_t'),  # gNaTa_t of soma, basal, mid trunk, distal trunk, and tuft \n",
        "            (0,'gSKv3_1bar_SKv3_1'),(1,'gSKv3_1bar_SKv3_1'),(2,'gSKv3_1bar_SKv3_1'),(3,'gSKv3_1bar_SKv3_1'),(4,'gSKv3_1bar_SKv3_1'),(5,'gSKv3_1bar_SKv3_1'),(6,'gSKv3_1bar_SKv3_1'),  # gSKv3_1 of soma, basal, mid trunk, distal trunk, and tuft\n",
        "            (0, 'gCa_HVAbar_Ca_HVA'),(1, 'gCa_HVAbar_Ca_HVA'),(2, 'gCa_HVAbar_Ca_HVA'),(3, 'gCa_HVAbar_Ca_HVA'),(4, 'gCa_HVAbar_Ca_HVA'),(5, 'gCa_HVAbar_Ca_HVA'),(6, 'gCa_HVAbar_Ca_HVA'),  # gCA_HVA of soma, basal, distal trunk\n",
        "            (0, 'gCa_LVAstbar_Ca_LVAst'),(1, 'gCa_LVAstbar_Ca_LVAst'),(2, 'gCa_LVAstbar_Ca_LVAst'),(3, 'gCa_LVAstbar_Ca_LVAst'),(4, 'gCa_LVAstbar_Ca_LVAst'),(5, 'gCa_LVAstbar_Ca_LVAst'),(6, 'gCa_LVAstbar_Ca_LVAst'),# gCA_LVAst of soma, basal, distal trunk\n",
        "            (1, 'gImbar_Im'),(2, 'gImbar_Im'),(3, 'gImbar_Im'),(4, 'gImbar_Im'),(5, 'gImbar_Im'), # gIm of basal, mid trunk, distal trunk, and tuft\n",
        "            (0,'decay_CaDynamics_E2'),(1,'decay_CaDynamics_E2'),(2,'decay_CaDynamics_E2'),(3,'decay_CaDynamics_E2'),(4,'decay_CaDynamics_E2'),(5,'decay_CaDynamics_E2'),(6,'decay_CaDynamics_E2'), # decay_CaDynamics of soma, basal, mid trunk, distal trunk, and tuft\n",
        "            (0,'gamma_CaDynamics_E2'),(1,'gamma_CaDynamics_E2'),(2,'gamma_CaDynamics_E2'),(3,'gamma_CaDynamics_E2'),(4,'gamma_CaDynamics_E2'),(5,'gamma_CaDynamics_E2'),(6,'gamma_CaDynamics_E2'), # gamma_CaDynamics of soma, basal, mid trunk, distal trunk, and tuft\n",
        "            (0,'gIhbar_Ih'),(1,'gIhbar_Ih'),(2,'gIhbar_Ih'),(3,'gIhbar_Ih'),(4,'gIhbar_Ih'),(5,'gIhbar_Ih'),(6,'gIhbar_Ih'), # gIh of soma, basal, midTrunk, distal trunk, and tuft\n",
        "            (0,'gSK_E2bar_SK_E2'),(1,'gSK_E2bar_SK_E2'),(2,'gSK_E2bar_SK_E2'),(3,'gSK_E2bar_SK_E2'),(4,'gSK_E2bar_SK_E2'),(5,'gSK_E2bar_SK_E2'), # gSk_E2 of soma, basal, midTrunk, distal trunk, and tuft\n",
        "            (0,'gK_Tstbar_K_Tst'),(5,'gK_Tstbar_K_Tst'), # gK_Tst of soma\n",
        "            (0,'gK_Pstbar_K_Pst'),(5,'gK_Pstbar_K_Pst'), # gK_Pst of soma\n",
        "            (0,'gNap_Et2bar_Nap_Et2'),(5,'gNap_Et2bar_Nap_Et2') # gNap_Et2 of soma\n",
        "        ]\n",
        "\n",
        "        default_biophys = np.array([0.0000300,0.0000300,0.0000489,0.0000589,0.0000589,0.0000300,0.0000100, ## g_pas of soma, basal, midTrunk, distal trunk, and tuft, axon, passive dendrites\n",
        "                                    2.04,0.0213,0.0213,0.0213,0.0213,4.54,0.002, # gNaTa_t of soma, basal, midTrunk, distal trunk, and tuft\n",
        "                                    0.693,0.000261,0.000261,0.000261,0.000261,0.473799,0.00002, # gSKv3_1 of soma, basal, midTrunk, distal trunk, and tuft\n",
        "                                    0.000992,0.000992,0.00001,0.00452,0.00001,0.000222,0.00001,  # gCA_HVA of soma, basal, distal trunk\n",
        "                                    0.00343,0.00343,0.00001,0.104,0.00001,0.000813,0.00001, # gCA_LVAst of soma, basal, distal trunk\n",
        "                                    0.0000675,0.0000675,0.0000675,0.0000675,0.013322, # gIm of basal, mid trunk, distal trunk, and tuft \n",
        "                                    460.0,122,122,122,122,277.300774,122, # decay_CaDynamics of soma, basal, mid trunk, distal trunk, and tuft\n",
        "                                    0.000501,0.000509,0.000509,0.000509,0.000509,0.000525,0.000509, # gamma_CaDynamics of soma, basal, mid trunk, distal trunk, and tuft\n",
        "                                    0.0002,0.0002,0.0002,0.0002,0.0002,0.0001,0.0001, # gIh of soma, basal, midTrunk, distal trunk, and tuft\n",
        "                                    0.0441,0.0012,0.0012,0.0012,0.0012,0.000047, # gSk_E2 of soma, basal, midTrunk, distal trunk, and tuft\n",
        "                                    0.0812,0.077274, # gK_Tst of soma\n",
        "                                    0.00223,0.188851, # gK_Pst of soma\n",
        "                                    0.00172,0.005834 # gNap_Et2 of soma\n",
        "                                    ])\n",
        "\n",
        "        \n",
        "\n",
        "\n",
        "        if self.biophys is not None:\n",
        "            for i in range(len(self.biophys)):\n",
        "                if self.biophys[i]>=0:\n",
        "                    default_biophys[i]=self.biophys[i]\n",
        "        self.biophys = default_biophys\n",
        "    \n",
        "\n",
        "    def add_synapse(self,stim,sec_index,**kwargs):\n",
        "        \"\"\"Add synapse to a section by its index\"\"\"\n",
        "        self.injection.append(Synapse(self,stim,sec_index,**kwargs))\n",
        " \n",
        "\n",
        "    def record_soma_v(self):\n",
        "        self.v_rec = Recorder(self.soma(.5),'v')\n",
        "    \n",
        "    def v(self):\n",
        "        \"\"\"Return recorded soma membrane voltage in numpy array\"\"\"\n",
        "        if hasattr(self,'v_rec'):\n",
        "\n",
        "            return self.v_rec.as_numpy()\n",
        "\n",
        "class Synapse(Point_current):\n",
        "    def __init__(self,cell,stim,sec_index,gmaxEXC=1,gmaxINH=1,loc=0.5,record=True, SynType='exc',P_0exc=0.6,P_0inh=0.6): \n",
        "        super().__init__(cell,sec_index,loc)\n",
        "        self.stim = stim\n",
        "        self.gmaxEXC = gmaxEXC\n",
        "        self.gmaxINH = gmaxINH\n",
        "        self.syntype = SynType\n",
        "        self.P_0exc = P_0exc\n",
        "        self.P_0inh = P_0inh\n",
        "        self.setup(record,loc)\n",
        "\n",
        "        \n",
        "\n",
        "    def setup(self,record,loc):\n",
        "        self.setup_synapse(loc)\n",
        "        if record:\n",
        "            self.setup_recorder()\n",
        "    \n",
        "    def setup_synapse(self,loc): \n",
        "        if self.syntype == 'inh':\n",
        "          self.pp_obj = h.int2pyr(self.get_section()(loc))\n",
        "          #Assigns random generator of release probability.\n",
        "          r = h.Random()\n",
        "          r.MCellRan4()\n",
        "          r.uniform(0,1)\n",
        "          self.pp_obj.setRandObjRef(r)\n",
        "          #A list of random generators is kept so that they are not automatically garbaged.\n",
        "          self.generator = r\n",
        "          syn = self.pp_obj\n",
        "          syn.setRandObjRef(r)\n",
        "          syn.P_0 = self.P_0inh\n",
        "          syn.initW = self.gmaxEXC\n",
        "          self.nc = h.NetCon(self.stim,syn,1,0,1)\n",
        "\n",
        "        else:\n",
        "          self.pp_obj = h.pyr2pyr(self.get_section()(loc))\n",
        "          #Assigns random generator of release probability.\n",
        "          r = h.Random()\n",
        "          r.MCellRan4()\n",
        "          r.uniform(0,1)\n",
        "          self.pp_obj.setRandObjRef(r)\n",
        "          #A list of random generators is kept so that they are not automatically garbaged.\n",
        "          self.generator = r\n",
        "          syn = self.pp_obj\n",
        "          syn.setRandObjRef(r)\n",
        "          syn.P_0 = self.P_0exc\n",
        "          syn.initW = self.gmaxINH\n",
        "          self.nc = h.NetCon(self.stim,syn,1,0,1)\n",
        "\n",
        "    def setup_recorder(self):\n",
        "          size = [round(h.tstop/h.dt)+1] if hasattr(h,'tstop') else []\n",
        "          try:\n",
        "              self.rec_vec = h.Vector(*size).record(self.pp_obj._ref_igaba)\n",
        "          except:\n",
        "                  self.rec_vec = MultiSynCurrent()\n",
        "                  vec_inmda = h.Vector(*size).record(self.pp_obj._ref_inmda)\n",
        "                  vec_iampa = h.Vector(*size).record(self.pp_obj._ref_iampa)\n",
        "                  self.rec_vec.add_vec(vec_inmda)\n",
        "                  self.rec_vec.add_vec(vec_iampa)\n",
        "                  \n",
        "\n",
        "class MultiSynCurrent(object):\n",
        "    def __init__(self):\n",
        "        self.vec_list = []\n",
        "    \n",
        "    def add_vec(self,vec):\n",
        "        self.vec_list.append(vec)\n",
        "    \n",
        "    def as_numpy(self):\n",
        "        return np.sum(np.array([vec.as_numpy() for vec in self.vec_list]), axis=0)\n",
        "\n",
        "\n",
        "class Simulation(object):\n",
        "    def __init__(self,geometry,electrodes,loc_param=[0.,0.,0.,0.,1.,0.],\n",
        "                 geo_param=[-1],biophys=[-1],\n",
        "                 gmaxEXC=0.015,gmaxINH=0.015,\n",
        "                 scale=1.0,ncell=1,exc_dens=2.16,\n",
        "                 spike_threshold: Optional[float] = None,\n",
        "                 inh_dens=0.22): #initially __init__(self,geometry,electrodes,loc_param=[0.,0.,0.,0.,1.,0.],geo_param=[-1],biophys=[-1],gmax=0.015,scale=1.0,ncell=1):\n",
        "        \"\"\"\n",
        "        Initialize simulation object\n",
        "        geometry: pandas dataframe of cell morphology properties\n",
        "        electrodes: array of electrode coordinates, n-by-3\n",
        "        loc_param: location parameters, ncell-by-6 array, (x,y,z,theta,h,phi)\n",
        "        geo_param: geometry parameters, ncell-by-k array, if not specified, use default properties in geometry\n",
        "        biophys: biophysical parameters, ncell-by-k array, if not specified, use default properties\n",
        "        gmax: maximum conductance of synapse, ncell-vector, if is single value, is constant for all cells\n",
        "        scale: scaling factors of lfp magnitude, ncell-vector, if is single value, is constant for all cells\n",
        "        ncell: number of cells in the simulation, required if simulating for multiple cells\n",
        "        \"\"\"\n",
        "        self.ncell = ncell  # number of cells in this simulation\n",
        "        self.cells = []  # list of cell object\n",
        "        self.lfp = []  # list of EcpMod object\n",
        "        self.define_geometry_entries()  # list of entries to geometry dataframe\n",
        "        self.geometry = geometry.copy()\n",
        "        self.electrodes = electrodes\n",
        "        self.set_loc_param(loc_param)\n",
        "        self.set_geo_param(geo_param)\n",
        "        self.set_biophys(biophys)\n",
        "        self.set_gmax(gmaxEXC, gmaxINH)\n",
        "        self.set_scale(scale)\n",
        "        self.create_cells(exc_dens,inh_dens)  # create cell objects with properties set up\n",
        "        self.t_vec = h.Vector( round(h.tstop/h.dt)+1 ).record(h._ref_t)  # record time\n",
        "        self.spike_threshold = None\n",
        "        self.record_spikes(spike_threshold)\n",
        "\n",
        "\n",
        "\n",
        "    def set_netstim(self, syn_number, inhfreq, excfreq, inhFRstd, excFRstd, syntype):\n",
        "        \"\"\"Setup synaptic input event\"\"\"\n",
        "        stim_list = []\n",
        "        self.stim = stim_list\n",
        "        excFRlist=np.random.normal(loc=excfreq, scale=excFRstd, size=syn_number)\n",
        "        inhFRlist=np.random.normal(loc=inhfreq, scale=inhFRstd, size=syn_number)\n",
        "        for i in range(syn_number):\n",
        "          if syntype[i] == 'inh':\n",
        "            frequency = inhfreq\n",
        "            spikeinterval = 1000/frequency\n",
        "            stim = h.NetStim()\n",
        "            stim.number = 1000 #2  # average number of spikes #check that this does not affect spike freq. hopefully only affects duration of stim. \n",
        "            #max frequency input for L5 is 16 hz meaning stim.number should be at least tstop/30, but minimize number for better runtime\n",
        "            stim.start = 50 #(np.random.rand()*50)+50 #startspikes #50  #  most likely start time of first spike\n",
        "            stim.noise = 1  # fractional randomness\n",
        "            stim.interval =  spikeinterval #500  # mean time between spikes (ms)\n",
        "            #duration of stimulation = stim.interval X stim.number\n",
        "            stim_list.append(stim)\n",
        "          elif syntype[i] == 'exc':\n",
        "              frequency = excfreq\n",
        "              spikeinterval = 1000/frequency\n",
        "              stim = h.NetStim()\n",
        "              stim.number = 1000 #2  # average number of spikes #check that this does not affect spike freq. hopefully only affects duration of stim. \n",
        "              #max frequency input for L5 is 16 hz meaning stim.number should be at least tstop/30, but minimize number for better runtime\n",
        "              stim.start = 50 #(np.random.rand()*50)+50 #startspikes #50  #  most likely start time of first spike\n",
        "              stim.noise = 1  # fractional randomness\n",
        "              stim.interval =  spikeinterval #500  # mean time between spikes (ms)\n",
        "              #duration of stimulation = stim.interval X stim.number\n",
        "              stim_list.append(stim)\n",
        "\n",
        "\n",
        "    \n",
        "    def pack_parameters(self,param,ndim,param_name):\n",
        "        \"\"\"Pack parameters for the simulation\"\"\"\n",
        "        if ndim==0:\n",
        "            if not hasattr(param,'__len__'):\n",
        "                param = [param]\n",
        "            param = np.array(param).ravel()\n",
        "            if param.size!=self.ncell:\n",
        "                if param.size==1:\n",
        "                    param = np.broadcast_to(param,self.ncell)\n",
        "                else:\n",
        "                    raise ValueError(param_name+\" size does not match ncell\")   \n",
        "        if ndim==1:\n",
        "            param = np.array(param)\n",
        "            if param.ndim==1:\n",
        "                param = np.expand_dims(param,0)\n",
        "            if param.shape[0]!=self.ncell:\n",
        "                if param.shape[0]==1:\n",
        "                    param = np.broadcast_to(param,(self.ncell,param.shape[1]))\n",
        "                else:\n",
        "                    raise ValueError(param_name+\" number of rows does not match ncell\")\n",
        "        return param\n",
        "    \n",
        "    def set_loc_param(self,loc_param):\n",
        "        \"\"\"Setup location parameters. loc_param ncell-by-6 array\"\"\"\n",
        "        loc_param = self.pack_parameters(loc_param,1,\"loc_param\")\n",
        "        self.loc_param = [(loc_param[i,:3],loc_param[i,3:]) for i in range(self.ncell)]\n",
        "    \n",
        "    def set_geo_param(self,geo_param):\n",
        "        \"\"\"Setup geometry parameters. geo_param ncell-by-k array, k entries of properties\"\"\"\n",
        "        self.geo_param = self.pack_parameters(geo_param,1,\"geo_param\")\n",
        "    \n",
        "    def set_biophys(self,biophys):\n",
        "        \"\"\"Setup geometry parameters. geo_param ncell-by-k array, k entries of properties\"\"\"\n",
        "        self.biophys = self.pack_parameters(biophys,1,\"biophys\")\n",
        "    \n",
        "    def set_gmax(self,gmaxEXC,gmaxINH):\n",
        "        \"\"\"Setup maximum conductance of synapse\"\"\"\n",
        "        self.gmaxEXC = self.pack_parameters(gmaxEXC,0,\"gmaxEXC\")\n",
        "        self.gmaxINH = self.pack_parameters(gmaxINH,0,\"gmaxINH\")\n",
        "    \n",
        "    def set_scale(self,scale):\n",
        "        \"\"\"setup scaling factors of lfp magnitude\"\"\"\n",
        "        self.scale = self.pack_parameters(scale,0,\"scale\")\n",
        "    \n",
        "    def define_geometry_entries(self):\n",
        "        \"\"\"Define list of entries to geometry dataframe. Each entry is a pair of section id and property.\"\"\"\n",
        "        self.geo_entries = [\n",
        "            #soma\n",
        "            (0,'R'),  # radius\n",
        "            #proximal trunk\n",
        "            (4,'excitation'), # excitation ('TRUE'/'FALSE')\n",
        "            (4,'inhibition'), # inhibition ('TRUE'/'FALSE')\n",
        "            (4,'L'), # length\n",
        "            (4,'R'), # radius\n",
        "            (4,'excFRmean'), # exc FR mean\n",
        "            (4,'excFRstd'), # exc FR std\n",
        "            (4,'inhFRmean'), # inh FR mean\n",
        "            (4,'inhFRstd'), # inh FR std\n",
        "            (4,'excP_0mean'), # exc P_0 mean (0 to 1)\n",
        "            (4,'excP_0std'), # exc P_0 std\n",
        "            (4,'inhP_0mean'), # inh P_0 mean (0 to 1)\n",
        "            (4,'inhP_0std'), # inh P_0 std\n",
        "            #middle trunk\n",
        "            (6,'excitation'), # excitation ('TRUE'/'FALSE')\n",
        "            (6,'inhibition'), # inhibition ('TRUE'/'FALSE')\n",
        "            (6,'L'), # length\n",
        "            (6,'R'), # radius\n",
        "            (6,'excFRmean'), # exc FR mean\n",
        "            (6,'excFRstd'), # exc FR std\n",
        "            (6,'inhFRmean'), # inh FR mean\n",
        "            (6,'inhFRstd'), # inh FR std\n",
        "            (6,'excP_0mean'), # exc P_0 mean (0 to 1)\n",
        "            (6,'excP_0std'), # exc P_0 std\n",
        "            (6,'inhP_0mean'), # inh P_0 mean (0 to 1)\n",
        "            (6,'inhP_0std'), # inh P_0 std\n",
        "            #distal trunk\n",
        "            (7,'excitation'), # excitation ('TRUE'/'FALSE')\n",
        "            (7,'inhibition'), # inhibition ('TRUE'/'FALSE')\n",
        "            (7,'L'), # length\n",
        "            (7,'R'), # radius\n",
        "            (7,'excFRmean'), # exc FR mean\n",
        "            (7,'excFRstd'), # exc FR std\n",
        "            (7,'inhFRmean'), # inh FR mean\n",
        "            (7,'inhFRstd'), # inh FR std\n",
        "            (7,'excP_0mean'), # exc P_0 mean (0 to 1)\n",
        "            (7,'excP_0std'), # exc P_0 std\n",
        "            (7,'inhP_0mean'), # inh P_0 mean (0 to 1)\n",
        "            (7,'inhP_0std'), # inh P_0 std\n",
        "            #basal dendrites\n",
        "            ([1,2,3],'excitation'), # excitation ('TRUE'/'FALSE')\n",
        "            ([1,2,3],'inhibition'), # inhibition ('TRUE'/'FALSE')\n",
        "            ([1,2,3],'nbranch'), # number of dendrites\n",
        "            (1,'L'), # proximal section length\n",
        "            (2,'L'), # middle section length\n",
        "            (3,'L'), # distal section length\n",
        "            ([1,2,3],'R'), # radius\n",
        "            ([1,2,3],'ang'), # angle\n",
        "            ([1,2,3],'excFRmean'), # exc FR mean\n",
        "            ([1,2,3],'excFRstd'), # exc FR std\n",
        "            ([1,2,3],'inhFRmean'), # inh FR mean\n",
        "            ([1,2,3],'inhFRstd'), # inh FR std\n",
        "            ([1,2,3],'excP_0mean'), # exc P_0 mean (0 to 1)\n",
        "            ([1,2,3],'excP_0std'), # exc P_0 std\n",
        "            ([1,2,3],'inhP_0mean'), # inh P_0 mean (0 to 1)\n",
        "            ([1,2,3],'inhP_0std'), # inh P_0 std\n",
        "            #oblique dendrites\n",
        "            (5,'excitation'), # excitation ('TRUE'/'FALSE')\n",
        "            (5,'inhibition'), # inhibition ('TRUE'/'FALSE')\n",
        "            (5,'nbranch'), # number of dendrites\n",
        "            (5,'L'), # length\n",
        "            (5,'R'), # radius\n",
        "            (5,'ang'), # angle\n",
        "            (5,'excFRmean'), # exc FR mean\n",
        "            (5,'excFRstd'), # exc FR std\n",
        "            (5,'inhFRmean'), # inh FR mean\n",
        "            (5,'inhFRstd'), # inh FR std\n",
        "            (5,'excP_0mean'), # exc P_0 mean (0 to 1)\n",
        "            (5,'excP_0std'), # exc P_0 std\n",
        "            (5,'inhP_0mean'), # inh P_0 mean (0 to 1)\n",
        "            (5,'inhP_0std'), # inh P_0 std\n",
        "            # tuft dendrites\n",
        "            ([8,9,10],'excitation'), # excitation ('TRUE'/'FALSE')\n",
        "            ([8,9,10],'inhibition'), # inhibition ('TRUE'/'FALSE')\n",
        "            ([8,9,10],'nbranch'), # number of dendrites\n",
        "            (8,'L'), # proximal section length\n",
        "            (9,'L'), # middle section length\n",
        "            (10,'L'), # distal section length\n",
        "            ([8,9,10],'R'), # radius\n",
        "            ([8,9,10],'ang'), # angle\n",
        "            ([8,9,10],'excFRmean'), # exc FR mean\n",
        "            ([8,9,10],'excFRstd'), # exc FR std\n",
        "            ([8,9,10],'inhFRmean'), # inh FR mean\n",
        "            ([8,9,10],'inhFRstd'), # inh FR std\n",
        "            ([8,9,10],'excP_0mean'), # exc P_0 mean (0 to 1)\n",
        "            ([8,9,10],'excP_0std'), # exc P_0 std\n",
        "            ([8,9,10],'inhP_0mean'), # inh P_0 mean (0 to 1)\n",
        "            ([8,9,10],'inhP_0std'), # inh P_0 std\n",
        "            #axon\n",
        "            (11,'L'), # length\n",
        "            (11,'R'), # radius\n",
        "            #passive basal\n",
        "            (12,'nbranch'), # number of dendrites\n",
        "            (12,'L'), # length\n",
        "            (12,'R') # radius\n",
        "        ]\n",
        "    \n",
        "    def set_geometry(self,geometry,geo_param):\n",
        "        \"\"\"Set property values from geo_param through each entry to geometry. Return dataframe\"\"\"\n",
        "        geom = geometry.copy()\n",
        "        for i,x in enumerate(geo_param):\n",
        "            if x>=0:\n",
        "                geom.loc[self.geo_entries[i]] = x\n",
        "        return geom\n",
        "\n",
        "    def record_spikes(self, threshold: Optional[float]) -> None:\n",
        "        \"\"\"Setup spike recorder for all cells\"\"\"\n",
        "        for cell in self.cells:\n",
        "            cell.set_spike_recorder(threshold)\n",
        "        self.spike_threshold = threshold\n",
        "\n",
        "    def create_cells(self,exc_dens,inh_dens):\n",
        "        \"\"\"Create cell objects with properties set up\"\"\"\n",
        "        self.cells.clear()  # remove cell objects from previous run\n",
        "        self.lfp.clear()\n",
        "        # Create cell with morphology and biophysical parameters\n",
        "        for i in range(self.ncell):\n",
        "            geometry = self.set_geometry(self.geometry,self.geo_param[i,:])\n",
        "            self.cells.append( Cell(geometry=geometry,biophys=self.biophys[i,:]) )\n",
        "        # add injection current or synaptic current and set up lfp recording\n",
        "        min_dist = 10.0 # minimum distance allowed between segment and electrode. Set to None if not using.\n",
        "        \n",
        "        \n",
        "\n",
        "\n",
        "\n",
        "\n",
        "\n",
        "        for i,cell in enumerate(self.cells):\n",
        "          self.lfp.append( EcpMod(cell,self.electrodes,move_cell=self.loc_param[i],scale=self.scale[i],min_distance=min_dist) )\n",
        "          # Current injection in soma\n",
        "          #cell.add_injection(sec_index=0,record=True,delay=150,dur=150,amp=0.1) # Tune for proper action potential \n",
        "\n",
        "          for id,sec in self.geometry.iterrows():\n",
        "              sec_index_list=cell.sec_id_lookup[id]\n",
        "              L = sec['L']\n",
        "              #insert parameters\n",
        "              excP_0mean=sec['excP_0mean']\n",
        "              excP_0std=sec['excP_0std']\n",
        "              inhP_0mean=sec['inhP_0mean']\n",
        "              inhP_0std=sec['inhP_0std']\n",
        "              excFRmean=sec['excFRmean']\n",
        "              excFRstd=sec['excFRstd']\n",
        "              inhFRmean=sec['inhFRmean']\n",
        "              inhFRstd=sec['inhFRstd']\n",
        "              inhibition=sec['inhibition']\n",
        "              excitation=sec['excitation']\n",
        "              # some possible future specifications\n",
        "              # inh_dens=sec['inh_dens']\n",
        "              # exc_dens=sec['exc_dens']\n",
        "\n",
        "              if id==0: # soma\n",
        "                #print('soma skipped') #skip soma\n",
        "                ### add specific inhibition to soma\n",
        "                syn_number = 406\n",
        "                #print(self.stim)\n",
        "                syn_dist = np.random.rand(syn_number) #generate distribution for location\n",
        "                syn_type_list = ['inh' for y in range(syn_number)] #assign randomly, adhere to proportion\n",
        "                #print(syn_type_list)\n",
        "                self.set_netstim(syn_number,inhfreq=inhFRmean,excfreq=excFRmean,excFRstd=excFRstd,inhFRstd=inhFRstd,syntype=syn_type_list)\n",
        "                # print(self.stim)\n",
        "                P_0inhlist=np.random.normal(loc=inhP_0mean, scale=inhP_0std, size=syn_number)\n",
        "                P_0exclist=np.random.normal(loc=excP_0mean, scale=excP_0std, size=syn_number)\n",
        "                for j in range(syn_number):\n",
        "                  cell.add_synapse(stim=self.stim[j],sec_index=sec_index_list[0],gmaxEXC=self.gmaxEXC,gmaxINH=self.gmaxINH,loc=syn_dist[j],SynType=syn_type_list[j],P_0inh=P_0inhlist[j],P_0exc=P_0exclist[j])\n",
        "  \n",
        "              else: # add synapses to each section\n",
        "                  if sec['excitation']:\n",
        "                      syn_exc_number = np.round((exc_dens)*L) # number of synapses on dendrites = density (syn/um) times length of dendrites (um)\n",
        "                  else: \n",
        "                      syn_exc_number=0\n",
        "                  if sec['inhibition']:\n",
        "                      syn_inh_number = np.round((inh_dens)*L)\n",
        "                  else: \n",
        "                      syn_inh_number=0\n",
        "                  if (not sec['inhibition']) and (not sec['excitation']):\n",
        "                      print(sec['name'],'has no synapses')\n",
        "                  else:\n",
        "                      syn_number = int(syn_inh_number + syn_exc_number) #total number of synapses\n",
        "                      prop_exc = syn_exc_number/syn_number #used for assigning type\n",
        "                      for isec in range(len(sec_index_list)):\n",
        "                          syn_dist = np.random.rand(syn_number) #generate distribution for location\n",
        "                          rand_syntype = np.random.rand(syn_number)  #generate distribution for type\n",
        "                          gmax_dist = np.random.lognormal(mean, std, syn_number) #generate distribution for gmax\n",
        "                          syn_type_list = ['exc' if y< prop_exc else #assign randomly, adhere to proportion \n",
        "                                          'inh' for y in rand_syntype]\n",
        "                          self.set_netstim(syn_number,inhfreq=inhFRmean,excfreq=excFRmean,excFRstd=excFRstd,inhFRstd=inhFRstd,syntype=syn_type_list)\n",
        "                          # print(self.stim)\n",
        "                          P_0exclist=np.random.normal(loc=excP_0mean, scale=excP_0std, size=syn_number)\n",
        "                          P_0inhlist=np.random.normal(loc=inhP_0mean, scale=inhP_0std, size=syn_number)\n",
        "                          for j in range(syn_number):\n",
        "                              cell.add_synapse(stim=self.stim[j],sec_index=sec_index_list[isec],gmaxEXC=gmax_dist[j],gmaxINH=self.gmaxINH,loc=syn_dist[j],SynType=syn_type_list[j],P_0exc=P_0exclist[j],P_0inh=P_0inhlist[j])\n",
        "          \n",
        "\n",
        "        \n",
        "\n",
        "    \n",
        "    def run(self):\n",
        "        \"\"\"Run simulation\"\"\"\n",
        "        h.run()\n",
        "    \n",
        "    def t(self):\n",
        "        \"\"\"Return simulation time vector\"\"\"\n",
        "        return self.t_vec.as_numpy()\n",
        "    \n",
        "    def get_lfp(self,index=0):\n",
        "        \"\"\"Return LFP array of the cell by index (indices), (cells-by-)channels-by-time\"\"\"\n",
        "        if not hasattr(index,'__len__'):\n",
        "            lfp = self.lfp[index].calc_ecp()\n",
        "        else:\n",
        "            index = np.asarray(index).ravel()\n",
        "            lfp = np.stack([self.lfp[i].calc_ecp() for i in index],axis=0)\n",
        "        return lfp\n",
        "\n",
        "    def get_spike_time(self, index: Union[np.ndarray, List[int], int, str] = 0) -> np.ndarray:\n",
        "        \"\"\"\n",
        "        Return soma spike time of the cell by index (indices), ndarray (list of ndarray)\n",
        "        Parameters\n",
        "        index: index of the cell to retrieve the spikes from\n",
        "        \"\"\"\n",
        "        if self.spike_threshold is None:\n",
        "            raise ValueError(\"Spike recorder was not set up.\")\n",
        "        if type(index) is str and index == 'all':\n",
        "            index = range(self.ncell)\n",
        "        if not hasattr(index, '__len__'):\n",
        "            spk = self.cells[index].spikes.as_numpy().copy()\n",
        "        else:\n",
        "            index = np.asarray(index).ravel()\n",
        "            spk = np.array([self.cells[i].spikes.as_numpy().copy() for i in index], dtype=object)\n",
        "        return spk\n",
        "\n",
        "    def get_spike_number(self, index: Union[np.ndarray, List[int], int, str] = 0) -> Union[int, np.ndarray]:\n",
        "        \"\"\"\n",
        "        Return soma spike number of the cell by index (indices), int (ndarray)\n",
        "        Parameters\n",
        "        index: index of the cell to retrieve the spikes from\n",
        "        \"\"\"\n",
        "        if self.spike_threshold is None:\n",
        "            raise ValueError(\"Spike recorder was not set up.\")\n",
        "        if index == 'all':\n",
        "            index = range(self.ncell)\n",
        "        if not hasattr(index, '__len__'):\n",
        "            spk = self.get_spike_time(index)\n",
        "            nspk = spk.size\n",
        "        else:\n",
        "            index = np.asarray(index).ravel()\n",
        "            spk = self.get_spike_time(index)\n",
        "            nspk = np.array([s.size for s in spk])\n",
        "        return nspk, "
      ]
    },
    {
      "cell_type": "markdown",
      "metadata": {
        "id": "ER4RehApD8dM"
      },
      "source": [
        "#### Create simulation"
      ]
    },
    {
      "cell_type": "code",
      "execution_count": 10,
      "metadata": {
        "id": "q6-0DfThD8dN"
      },
      "outputs": [],
      "source": [
        "x = np.zeros(96)\n",
        "y = np.linspace(-1900,1900,96)\n",
        "z = np.zeros(96)\n",
        "elec_pos = pos = np.column_stack((x,y,z))"
      ]
    },
    {
      "cell_type": "markdown",
      "metadata": {
        "id": "59qptuG3D8dO"
      },
      "source": [
        "Set parameters"
      ]
    },
    {
      "cell_type": "code",
      "execution_count": 11,
      "metadata": {
        "scrolled": true,
        "id": "w-bIgCdCD8dP",
        "colab": {
          "base_uri": "https://localhost:8080/"
        },
        "outputId": "ac542810-74cb-43ca-bbe4-6766bbc23121"
      },
      "outputs": [
        {
          "output_type": "stream",
          "name": "stdout",
          "text": [
            "disttrunk has no synapses\n",
            "axon has no synapses\n",
            "passivebasal has no synapses\n"
          ]
        }
      ],
      "source": [
        "loc_param = [50,0,10,0,1,0]  # example position #D: initially this was [0,0,50,0.2,0.75,1.5], (x,y,z,theta,h,phi), h=[-1,1] phi=[-pi,pi] h=.7071067812 for 90 deg\n",
        "#note on parameters: Rotate(alpha,h,phi): first rotate alpha about y-axis (spin), then rotate arccos(h) about x-axis (elevation), then rotate phi about y axis (azimuth).\n",
        "\n",
        "\n",
        "# change geo_parameters from their default values\n",
        "geo_param = [ # -1 uses default value\n",
        "            #soma\n",
        "            -1,  # radius\n",
        "#proximal trunk\n",
        "            -1, # excitation ('TRUE'/'FALSE')\n",
        "            -1, # inhibition ('TRUE'/'FALSE')\n",
        "            -1, # length\n",
        "            -1, # radius\n",
        "            -1, # exc FR mean\n",
        "            -1, # exc FR std\n",
        "            -1, # inh FR mean\n",
        "            -1, # inh FR std\n",
        "            -1, # exc P_0 mean (0 to 1)\n",
        "            -1, # exc P_0 std\n",
        "            -1, # inh P_0 mean (0 to 1)\n",
        "            -1, # inh P_0 std\n",
        "#middle trunk\n",
        "            -1, # excitation ('TRUE'/'FALSE')\n",
        "            -1, # inhibition ('TRUE'/'FALSE')\n",
        "            -1, # length\n",
        "            -1, # radius\n",
        "            -1, # exc FR mean\n",
        "            -1, # exc FR std\n",
        "            -1, # inh FR mean\n",
        "            -1, # inh FR std\n",
        "            -1, # exc P_0 mean (0 to 1)\n",
        "            -1, # exc P_0 std\n",
        "            -1, # inh P_0 mean (0 to 1)\n",
        "            -1, # inh P_0 std\n",
        "#distal trunk\n",
        "            -1, # excitation ('TRUE'/'FALSE')\n",
        "            -1, # inhibition ('TRUE'/'FALSE')\n",
        "            -1, # length\n",
        "            -1, # radius\n",
        "            -1, # exc FR mean\n",
        "            -1, # exc FR std\n",
        "            -1, # inh FR mean\n",
        "            -1, # inh FR std\n",
        "            -1, # exc P_0 mean (0 to 1)\n",
        "            -1, # exc P_0 std\n",
        "            -1, # inh P_0 mean (0 to 1)\n",
        "            -1, # inh P_0 std\n",
        "#basal dendrites\n",
        "            -1, # excitation ('TRUE'/'FALSE')\n",
        "            -1, # inhibition ('TRUE'/'FALSE')\n",
        "            -1, # number of dendrites\n",
        "            -1, # proximal section length\n",
        "            -1, # middle section length\n",
        "            -1, # distal section length\n",
        "            -1, # radius\n",
        "            -1, # angle\n",
        "            -1, # exc FR mean\n",
        "            -1, # exc FR std\n",
        "            -1, # inh FR mean\n",
        "            -1, # inh FR std\n",
        "            -1, # exc P_0 mean (0 to 1)\n",
        "            -1, # exc P_0 std\n",
        "            -1, # inh P_0 mean (0 to 1)\n",
        "            -1, # inh P_0 std\n",
        "#oblique dendrites\n",
        "            -1, # excitation ('TRUE'/'FALSE')\n",
        "            -1, # inhibition ('TRUE'/'FALSE')\n",
        "            -1, # number of dendrites\n",
        "            -1, # length\n",
        "            -1, # radius\n",
        "            -1, # angle\n",
        "            -1, # exc FR mean\n",
        "            -1, # exc FR std\n",
        "            -1, # inh FR mean\n",
        "            -1, # inh FR std\n",
        "            -1, # exc P_0 mean (0 to 1)\n",
        "            -1, # exc P_0 std\n",
        "            -1, # inh P_0 mean (0 to 1)\n",
        "            -1, # inh P_0 std\n",
        "#tuft dendrites\n",
        "            -1, # excitation ('TRUE'/'FALSE')\n",
        "            -1, # inhibition ('TRUE'/'FALSE')\n",
        "            -1, # number of dendrites\n",
        "            -1, # proximal section length\n",
        "            -1, # middle section length\n",
        "            -1, # distal section length\n",
        "            -1, # radius\n",
        "            -1, # angle\n",
        "            -1, # exc FR mean\n",
        "            -1, # exc FR std\n",
        "            -1, # inh FR mean\n",
        "            -1, # inh FR std\n",
        "            -1, # exc P_0 mean (0 to 1)\n",
        "            -1, # exc P_0 std\n",
        "            -1, # inh P_0 mean (0 to 1)\n",
        "            -1, # inh P_0 std\n",
        "#axon\n",
        "            60, # length\n",
        "            0.5, # radius # hay uses 0.5 #we had at 8\n",
        "#passive basal\n",
        "            -1, # number of dendrites\n",
        "            -1, # length\n",
        "            -1 # radius\n",
        "        ]\n",
        "      \n",
        "      \n",
        "# example of changing biophysical parameters (check \"biophys_entries\" in \"Cell\" class for meaning, bounds can also be found there)\n",
        "biophys = [0.0000300,0.0000300,0.0000489,0.0000589,0.0000589,0.0000300,0.0000100, ## g_pas of soma, basal, midTrunk, distal trunk, and tuft, axon, passive dendrites\n",
        "                                    2.04,0.0213,0.0213,0.0213,0.0213,4.54,0.002, # gNaTa_t of soma, basal, midTrunk, distal trunk, and tuft\n",
        "                                    0.693,0.000261,0.000261,0.000261,0.000261,0.473799,0.00002, # gSKv3_1 of soma, basal, midTrunk, distal trunk, and tuft\n",
        "                                    0.000992,0.000992,0.00001,0.00352,0.00001,0.000222,0.00001,  # gCA_HVA of soma, basal, distal trunk\n",
        "                                    0.00343,0.00343,0.00001,0.104,0.00001,0.000813,0.00001, # gCA_LVAst of soma, basal, distal trunk\n",
        "                                    0.0000675,0.0000675,0.0000675,0.0000675,0.013322, # gIm of basal, mid trunk, distal trunk, and tuft \n",
        "                                    460.0,122,122,122,122,277.300774,122, # decay_CaDynamics of soma, basal, mid trunk, distal trunk, and tuft\n",
        "                                    0.000501,0.000509,0.000509,0.000509,0.000509,0.000525,0.000509, # gamma_CaDynamics of soma, basal, mid trunk, distal trunk, and tuft\n",
        "                                    0.0002,0.0002,0.0002,0.0002,0.0002,0.0001,0.0001, # gIh of soma, basal, midTrunk, distal trunk, and tuft\n",
        "                                    0.0441,0.0012,0.0012,0.0012,0.0012,0.000047, # gSk_E2 of soma, basal, midTrunk, distal trunk, and tuft\n",
        "                                    0.0812,0.077274, # gK_Tst of soma\n",
        "                                    0.00223,0.188851, # gK_Pst of soma\n",
        "                                    0.00172,0.005834 # gNap_Et2 of soma\n",
        "                                    ]\n",
        "sim = Simulation(geo_standard,elec_pos,loc_param,geo_param=geo_param,biophys=biophys,gmaxEXC=0.07,gmaxINH=0.05,scale=100.,exc_dens=2.16,inh_dens=0.22,spike_threshold = 10)  # 0.001 -0.012 #gmax=.005, scale=100\n"
      ]
    },
    {
      "cell_type": "code",
      "source": [
        "SecD_list=[]\n",
        "for id,sec in sim.cells[0].geometry.iterrows():\n",
        "  sec_index_list=sim.cells[0].sec_id_lookup[id]\n",
        "  D = sec['R']*2\n",
        "  if sec['axial']:\n",
        "    SecD_list.append(D)\n",
        "  else:\n",
        "    SecD_list.append(D)\n",
        "    SecD_list.append(D)\n",
        "    SecD_list.append(D)\n",
        "    SecD_list.append(D)\n",
        "#print(SecD_list)\n",
        "\n",
        "SecL_list=[]\n",
        "for id,sec in sim.cells[0].geometry.iterrows():\n",
        "  sec_index_list=sim.cells[0].sec_id_lookup[id]\n",
        "  L = sec['L']\n",
        "  if sec['axial']:\n",
        "    SecL_list.append(L)\n",
        "  else:\n",
        "    SecL_list.append(L)\n",
        "    SecL_list.append(L)\n",
        "    SecL_list.append(L)\n",
        "    SecL_list.append(L)\n",
        "#print(SecL_list)"
      ],
      "metadata": {
        "id": "HQapHXxtNB3Y"
      },
      "execution_count": 12,
      "outputs": []
    },
    {
      "cell_type": "code",
      "source": [
        "print('The number of synapses in the detailed model is 29028')\n",
        "print('The number of synapses in the reduced-order model is',len(sim.cells[0].injection))\n",
        "syn_reduce = (len(sim.cells[0].injection)/29028)\n",
        "print('The number of synapses has been reduced by a factor of',(syn_reduce))\n",
        "print('The number of segments in the detailed model is 13962')\n",
        "print('The number of segments in the reduced-order model is',len(sim.cells[0].segments))\n",
        "seg_reduce = (len(sim.cells[0].segments)/13962)\n",
        "print('The number of segments has been reduced by a factor of',(seg_reduce))\n",
        "\n",
        "# Ben's detailed L5\n",
        "# Excitatory: 16070 on apical dendrites (2.16 syns/um * 7440 um)\n",
        "# 10042 on basal dendrites. (2.16 syns/um * 4649 um)\n",
        "# Inhibitory: 150 on soma  (Egger et al., 2020; Markram et al., 2015; Reimann et al., 2015) + (0.22 syns/um *483 um) = 256 perisomatic, \n",
        "# 1637 on apical dendrites (0.22 syns/um * 7440 um), \n",
        "# 1023 on basal dendrites (0.22 syns/um * 4649 um).\n",
        "\n",
        "# total is 29028\n",
        "\n",
        "#note: \n",
        "# Ben's apical to basal length & apical to basal synapse ratio is 1.6003 (7440um/4649um)"
      ],
      "metadata": {
        "id": "hwj6zkIptSQr",
        "colab": {
          "base_uri": "https://localhost:8080/"
        },
        "outputId": "f988ce32-66f9-4ab2-e950-b5b015911701"
      },
      "execution_count": 13,
      "outputs": [
        {
          "output_type": "stream",
          "name": "stdout",
          "text": [
            "The number of synapses in the detailed model is 29028\n",
            "The number of synapses in the reduced-order model is 9516\n",
            "The number of synapses has been reduced by a factor of 0.3278214138073584\n",
            "The number of segments in the detailed model is 13962\n",
            "The number of segments in the reduced-order model is 167\n",
            "The number of segments has been reduced by a factor of 0.011961037100701906\n"
          ]
        }
      ]
    },
    {
      "cell_type": "markdown",
      "metadata": {
        "id": "ZOjUgsuOD8dQ"
      },
      "source": [
        "Record membrane voltage at initial/middle/end of the trunk and middle of the tuft to check the propagation."
      ]
    },
    {
      "cell_type": "code",
      "execution_count": 14,
      "metadata": {
        "id": "GfdmtkklD8dR",
        "colab": {
          "base_uri": "https://localhost:8080/"
        },
        "outputId": "06d63fa3-86ff-4c06-e308-a3fac63e781c"
      },
      "outputs": [
        {
          "output_type": "stream",
          "name": "stdout",
          "text": [
            "167\n"
          ]
        }
      ],
      "source": [
        "nseg = len(sim.cells[0].segments)\n",
        "print(nseg)\n",
        "numTstep = int(h.tstop/h.dt)\n",
        "\n",
        "seg_list = sim.cells[0].get_seg_by_id(range(nseg))\n",
        "#print(seg_list)\n",
        "\n",
        "Vrecord = []\n",
        "for i in range(0,len(seg_list)):\n",
        "     Vrecord.append(seg_list[i])\n",
        "\n",
        "dend_v = Recorder(Vrecord)"
      ]
    },
    {
      "cell_type": "code",
      "source": [
        "def returnSegmentValues(section, secnum):\n",
        "    ##\n",
        "    \n",
        "    #Set impedance measurement location and frequency\n",
        "   \n",
        "    zz = h.Impedance()\n",
        "    zz.loc(sim.cells[0].get_sec_by_id([0])[0](0.5))\n",
        "    zz.compute(25)\n",
        "\n",
        "    # Get section 3d coordinates and put in numpy array\n",
        "    n3d = section.n3d()\n",
        "    x3d = np.empty(n3d)\n",
        "    y3d = np.empty(n3d)\n",
        "    z3d = np.empty(n3d)\n",
        "    L = np.empty(n3d)\n",
        "    for i in range(n3d):\n",
        "        x3d[i]=section.x3d(i)\n",
        "        y3d[i]=section.y3d(i)\n",
        "        z3d[i]=section.z3d(i)\n",
        "\n",
        "    # Compute length of each 3d segment\n",
        "    for i in range(n3d):\n",
        "        if i==0:\n",
        "            L[i]=0\n",
        "        else:\n",
        "            L[i]=np.sqrt((x3d[i]-x3d[i-1])**2 + (y3d[i]-y3d[i-1])**2 + (z3d[i]-z3d[i-1])**2)\n",
        "\n",
        "    # Get cumulative length of 3d segments\n",
        "    cumLength = np.cumsum(L)\n",
        "    N = section.nseg\n",
        "    \n",
        "    # Now upsample coordinates to segment locations\n",
        "    xCoord = np.empty(N)\n",
        "    yCoord = np.empty(N)\n",
        "    zCoord = np.empty(N)\n",
        "    Elec_distance = np.empty(N)\n",
        "    SecNum = np.empty(N)\n",
        "\n",
        "    if N > 1:\n",
        "      dx = section.L / (N-1)\n",
        "    else:\n",
        "      dx = section.L\n",
        "    for n in range(N):\n",
        "        Elec_distance[n] = zz.ratio(section((n*dx)/cumLength[1]))\n",
        "        SecNum[n] = secnum\n",
        "        if n==N-1: \n",
        "            xCoord[n]=x3d[-1]\n",
        "            yCoord[n]=y3d[-1]\n",
        "            zCoord[n]=z3d[-1]\n",
        "        else:\n",
        "            cIdxStart = np.where(n*dx >= cumLength)[0][-1] # which idx of 3d segments are we starting at\n",
        "            cDistFrom3dStart = n*dx - cumLength[cIdxStart] # how far along that segment is this upsampled coordinate\n",
        "            cFraction3dLength = cDistFrom3dStart / L[cIdxStart+1] # what's the fractional distance along this 3d segment\n",
        "            # compute x and y positions\n",
        "            xCoord[n] = x3d[cIdxStart] + cFraction3dLength*(x3d[cIdxStart+1] - x3d[cIdxStart])\n",
        "            yCoord[n] = y3d[cIdxStart] + cFraction3dLength*(y3d[cIdxStart+1] - y3d[cIdxStart])\n",
        "            zCoord[n] = z3d[cIdxStart] + cFraction3dLength*(z3d[cIdxStart+1] - z3d[cIdxStart])\n",
        "            \n",
        "    return SecNum, xCoord, yCoord, zCoord, Elec_distance"
      ],
      "metadata": {
        "id": "NZHr4i-twgnb"
      },
      "execution_count": 15,
      "outputs": []
    },
    {
      "cell_type": "code",
      "source": [
        "sec_list = sim.cells[0].get_sec_by_id(range(len(sim.cells[0].all)))\n",
        "\n",
        "section = []\n",
        "SectionXCoord = []\n",
        "SectionYCoord = []\n",
        "SectionZCoord = []\n",
        "SectionElecDist = []\n",
        "AllSegSection = []\n",
        "AllSegXCoord = []\n",
        "AllSegYCoord = []\n",
        "AllSegZCoord = []\n",
        "AllSegElecDist = []\n",
        "for i in range(1,len(sec_list)):\n",
        "  section, SectionXCoord, SectionYCoord, SectionZCoord, SectionElecDist = returnSegmentValues(sec_list[i], i)\n",
        "  AllSegSection.extend(section)\n",
        "  AllSegXCoord.extend(SectionXCoord)\n",
        "  AllSegYCoord.extend(SectionYCoord)\n",
        "  AllSegZCoord.extend(SectionZCoord)\n",
        "  AllSegElecDist.extend(SectionElecDist)"
      ],
      "metadata": {
        "id": "_5WIRT9kwz3c"
      },
      "execution_count": 16,
      "outputs": []
    },
    {
      "cell_type": "code",
      "source": [
        "gNaTa_T = Recorder(obj_list = sim.cells[0].segments, var_name = 'gNaTa_t_NaTa_t')"
      ],
      "metadata": {
        "id": "fn4ltJvZPnYI"
      },
      "execution_count": 17,
      "outputs": []
    },
    {
      "cell_type": "code",
      "source": [
        "ical = Recorder(obj_list = sim.cells[0].segments, var_name = 'ica_Ca_LVAst')\n",
        "icah = Recorder(obj_list = sim.cells[0].segments, var_name = 'ica_Ca_HVA')"
      ],
      "metadata": {
        "id": "uQ1QOBprP-Jg"
      },
      "execution_count": 18,
      "outputs": []
    },
    {
      "cell_type": "code",
      "source": [
        "ih = Recorder(obj_list = sim.cells[0].segments, var_name = 'ihcn_Ih')\n"
      ],
      "metadata": {
        "id": "RlTibdsbXNk4"
      },
      "execution_count": null,
      "outputs": []
    },
    {
      "cell_type": "code",
      "execution_count": null,
      "metadata": {
        "id": "r5sG9sfQD8dR"
      },
      "outputs": [],
      "source": [
        "timestart=time.time()\n",
        "sim.run()\n",
        "timestop=time.time()\n",
        "lfp = sim.get_lfp().T\n",
        "t = sim.t()"
      ]
    },
    {
      "cell_type": "code",
      "source": [
        "elapsedtime=timestop-timestart\n",
        "simtime=tstop/1000 #convert from ms to s\n",
        "print('It took',round(elapsedtime),'sec to run a',simtime,'sec simulation.')"
      ],
      "metadata": {
        "id": "y_6whKdekmMo"
      },
      "execution_count": null,
      "outputs": []
    },
    {
      "cell_type": "code",
      "source": [
        "numSyn = len(sim.cells[0].injection)\n",
        "\n",
        "excSynPerSeg = [0]*nseg\n",
        "inhSynPerSeg = [0]*nseg\n",
        "\n",
        "i_NMDA_bySeg= [[0] * (numTstep+1) ] * nseg\n",
        "\n",
        "print(len(sim.cells[0].injection))\n",
        "\n",
        "for j in range(numSyn):\n",
        "  seg = sim.cells[0].injection[j].get_segment_id()\n",
        "  if(sim.cells[0].injection[j].syntype == 'exc'):\n",
        "    excSynPerSeg[seg] += 1\n",
        "  else:\n",
        "    inhSynPerSeg[seg] += 1\n",
        "\n",
        "  try:\n",
        "    i_NMDA = np.array(sim.cells[0].injection[j].rec_vec.vec_list[1])            #current = numpy array of NEURON Vector of current NMDA current at synapse j  \n",
        "    seg = sim.cells[0].injection[j].get_segment_id()                            #seg = the segment in which synapse j is located \n",
        "    #print('first try')\n",
        "    \n",
        "    try:\n",
        "      i_NMDA_bySeg[seg] = i_NMDA_bySeg[seg] + i_NMDA    \n",
        "      #print('second try')                                           #Sum current over each segment\n",
        "    except: \n",
        "      x = j                                                                     #Except needed as some synpases do not have NMDA currrent and throw an error when called\n",
        "  except:\n",
        "    x = j"
      ],
      "metadata": {
        "id": "xWvmyClbKids"
      },
      "execution_count": null,
      "outputs": []
    },
    {
      "cell_type": "code",
      "source": [
        "ih_data = ih.as_numpy()\n",
        "gNaTa_T_data = gNaTa_T.as_numpy()\n",
        "icah_data = icah.as_numpy()\n",
        "ical_data = ical.as_numpy()"
      ],
      "metadata": {
        "id": "VebhRLZCEdfY"
      },
      "execution_count": null,
      "outputs": []
    },
    {
      "cell_type": "code",
      "source": [
        "spikes = sim.get_spike_time()\n",
        "\n",
        "print(len(spikes)*2)"
      ],
      "metadata": {
        "id": "QcsOFAbzJcQ7"
      },
      "execution_count": null,
      "outputs": []
    },
    {
      "cell_type": "markdown",
      "source": [
        "# File Output"
      ],
      "metadata": {
        "id": "ODexguuC7qE9"
      }
    },
    {
      "cell_type": "code",
      "source": [
        "import h5py\n",
        "\n",
        "try:\n",
        "  os.remove(\"Segments.hdf5\")\n",
        "except:\n",
        "  x = 1\n",
        "\n",
        "f0 = h5py.File(\"Segments.hdf5\", \"w\")\n",
        "\n",
        "segs = f0.create_dataset(\"Segs\", data= list(range(nseg-1)))\n",
        "X = f0.create_dataset(\"X\", data = AllSegXCoord)\n",
        "Y = f0.create_dataset(\"Y\", data = AllSegYCoord)\n",
        "sec = f0.create_dataset(\"sec\", data = AllSegSection)\n",
        "neSyn = f0.create_dataset(\"neSyn\", data= excSynPerSeg)\n",
        "niSyn = f0.create_dataset(\"niSyn\", data= inhSynPerSeg)\n",
        "elec_dist = f0.create_dataset(\"elec_dist\", data = AllSegElecDist)\n",
        "\n",
        "f0.close()"
      ],
      "metadata": {
        "id": "lFB3V6JWE9N5"
      },
      "execution_count": null,
      "outputs": []
    },
    {
      "cell_type": "code",
      "source": [
        "try:\n",
        "  os.remove(\"Spikes.hdf5\")\n",
        "except:\n",
        "  x = 1\n",
        "\n",
        "f01 = h5py.File(\"Spikes.hdf5\", \"w\")\n",
        "\n",
        "spikes = f01.create_dataset(\"spikes\", data= spikes)\n",
        "\n",
        "f01.close()"
      ],
      "metadata": {
        "id": "NCEIwFOyN1D4"
      },
      "execution_count": null,
      "outputs": []
    },
    {
      "cell_type": "code",
      "source": [
        "v_dend = dend_v.as_numpy()\n",
        "# Voltage output\n",
        "\n",
        "try:\n",
        "  os.remove(\"v_report.hdf5\")\n",
        "except:\n",
        "  x = 1\n",
        "\n",
        "f1 = h5py.File(\"v_report.hdf5\", \"w\")\n",
        "\n",
        "voltage = f1.create_dataset(\"v\", data= v_dend)\n",
        "time = f1.create_dataset(\"t\", data = t)\n",
        "\n",
        "f1.close()"
      ],
      "metadata": {
        "id": "OeSYRrT3YNyq"
      },
      "execution_count": null,
      "outputs": []
    },
    {
      "cell_type": "code",
      "source": [
        "#NMDA output\n",
        "\n",
        "try:\n",
        "  os.remove(\"i_nmda_report.hdf5\")\n",
        "except:\n",
        "  x = 1\n",
        "  \n",
        "f2 = h5py.File(\"i_nmda_report.hdf5\", \"w\")\n",
        "\n",
        "i_NMDA = f2.create_dataset(\"i_nmda\", data = i_NMDA_bySeg)\n",
        "\n",
        "f2.close()\n"
      ],
      "metadata": {
        "id": "IEreiPRaZJRm"
      },
      "execution_count": null,
      "outputs": []
    },
    {
      "cell_type": "code",
      "source": [
        "#gNaTa output\n",
        "\n",
        "try:\n",
        "  os.remove(\"gNaTa_report.hdf5\")\n",
        "except:\n",
        "  x = 1\n",
        "  \n",
        "f6 = h5py.File(\"gNaTa_report.hdf5\", \"w\")\n",
        "\n",
        "gNaTa = f6.create_dataset(\"gNaTa\", data = gNaTa_T_data ) # dtype= np.float\n",
        "\n",
        "f6.close()"
      ],
      "metadata": {
        "id": "mZhvPRjYwvQz"
      },
      "execution_count": null,
      "outputs": []
    },
    {
      "cell_type": "code",
      "source": [
        "#Calcium output\n",
        "try:\n",
        "  os.remove(\"i_CaHva_report.hdf5\")\n",
        "  os.remove(\"i_CaLva_report.hdf5\")\n",
        "except:\n",
        "  x = 1\n",
        "  \n",
        "f3 = h5py.File(\"i_CaHva_report.hdf5\", \"w\")\n",
        "f4 = h5py.File(\"i_CaLva_report.hdf5\", \"w\")\n",
        "\n",
        "i_CaHva = f3.create_dataset(\"i_CaHva\", data = icah_data)\n",
        "i_CaLva = f4.create_dataset(\"i_CaLva\", data = ical_data)\n",
        "\n",
        "f3.close()\n",
        "f4.close()"
      ],
      "metadata": {
        "id": "QIJgQ3pQqaAx"
      },
      "execution_count": null,
      "outputs": []
    },
    {
      "cell_type": "code",
      "source": [
        "#Ih output\n",
        "try:\n",
        "  os.remove(\"ihcn_report.dhf5\")\n",
        "except:\n",
        "  x = 1\n",
        "  \n",
        "f5 = h5py.File(\"ihcn_report.hdf5\", \"w\")\n",
        "\n",
        "ihcn = f5.create_dataset(\"ihcn\", data = ih_data)\n",
        "\n",
        "f5.close()"
      ],
      "metadata": {
        "id": "6AYfbLA5rqE1"
      },
      "execution_count": null,
      "outputs": []
    },
    {
      "cell_type": "markdown",
      "source": [
        "# Plots"
      ],
      "metadata": {
        "id": "XDZ_2-Kr7yKS"
      }
    },
    {
      "cell_type": "code",
      "source": [
        "import matplotlib.pyplot as plt\n",
        "%matplotlib inline\n",
        "\n",
        "plt.figure(figsize=(4,10))\n",
        "ax = plt.scatter(AllSegXCoord, AllSegYCoord, c = np.log(AllSegElecDist) )\n",
        "plt.vlines(110,300,400)\n",
        "plt.text(0,350,'100 um')\n",
        "plt.hlines(300,110,210)\n",
        "plt.text(110,250,'100 um')\n",
        "plt.xticks([])\n",
        "plt.yticks([])\n",
        "cbar = plt.colorbar()\n",
        "cbar.ax.set_ylabel('log(elec_distance)', rotation=270)\n",
        "\n",
        "#ax2.ax.set_title('log(elec_distance)',rotation=270)\n",
        "plt.box(False)\n",
        "plt.savefig('Elec_distance.svg')"
      ],
      "metadata": {
        "id": "QT7cDrfSA7cQ"
      },
      "execution_count": null,
      "outputs": []
    },
    {
      "cell_type": "code",
      "source": [
        "plt.figure(figsize=(4,10))\n",
        "ax = plt.scatter(AllSegXCoord, AllSegYCoord,c = excSynPerSeg[0:(nseg-1)],cmap='jet',)\n",
        "plt.vlines(110,400,500)\n",
        "plt.text(0,450,'100 um')\n",
        "plt.hlines(400,110,210)\n",
        "plt.text(110,350,'100 um')\n",
        "plt.xticks([])\n",
        "plt.yticks([])\n",
        "cbar = plt.colorbar()\n",
        "cbar.ax.set_ylabel('Synapses per segment', rotation=270)\n",
        "\n",
        "#ax2.ax.set_title('log(elec_distance)',rotation=270)\n",
        "plt.box(False)\n",
        "plt.savefig('exc_syns.svg')"
      ],
      "metadata": {
        "id": "WyCtGvZP_7jO"
      },
      "execution_count": null,
      "outputs": []
    },
    {
      "cell_type": "code",
      "source": [
        "from utils.plot_results import plot_LFP_traces,plot_LFP_heatmap\n",
        "from utils.plot_morphology import plot_morphology\n",
        "plot_morphology(sim,electrodes=elec_pos,elev=-10, azim=20, figsize=(10,12), clr = ['g',       #soma\n",
        "                                                                                   'yellow',  #proxbasal\n",
        "                                                                                   'orange',  #midbasal\n",
        "                                                                                   'red',     #distbasal\n",
        "                                                                                   'yellow',  #proxtrunk\n",
        "                                                                                   'purple',  #oblique\n",
        "                                                                                   'blue',    #midtrunk\n",
        "                                                                                   'green',   #disttrunk\n",
        "                                                                                   'yellow',  #proxtuft\n",
        "                                                                                   'orange',  #midtuft\n",
        "                                                                                   'red',     #disttuft\n",
        "                                                                                   'c',       #axon\n",
        "                                                                                   'black'])  #passivebasal"
      ],
      "metadata": {
        "id": "y7hB3nPWC2Rx"
      },
      "execution_count": null,
      "outputs": []
    },
    {
      "cell_type": "code",
      "source": [
        "plt.figure(figsize=(3,10))\n",
        "ax = plt.plot(AllSegXCoord, AllSegYCoord,'.',color='k',markersize=6)\n",
        "plt.vlines(110,400,500)\n",
        "plt.text(0,450,'100 um')\n",
        "plt.hlines(400,110,210)\n",
        "plt.text(110,350,'100 um')\n",
        "plt.xticks([])\n",
        "plt.yticks([])\n",
        "plt.box(False)\n",
        "tuft_probe=134 #may have to tune these segment numbers\n",
        "trunk_probe=67\n",
        "nexus_probe=98\n",
        "plt.plot(AllSegXCoord[tuft_probe], \n",
        "         AllSegYCoord[tuft_probe],\n",
        "         'r*')\n",
        "plt.plot(AllSegXCoord[trunk_probe], \n",
        "         AllSegYCoord[trunk_probe],\n",
        "         'b*')\n",
        "plt.plot(AllSegXCoord[nexus_probe], \n",
        "         AllSegYCoord[nexus_probe],\n",
        "          'm*')\n",
        "# plt.plot(segs.loc[segs.segmentID==1500,'Coord X'], \n",
        "#          segs.loc[segs.segmentID==1500,'Coord Y'],\n",
        "#          'g*')\n",
        "# plt.plot(segs.loc[segs.segmentID==680,'Coord X'], \n",
        "#          segs.loc[segs.segmentID==680,'Coord Y'],\n",
        "#          '*',color='orange')\n",
        "# plt.plot(segs.loc[segs.segmentID==482,'Coord X'], \n",
        "#          segs.loc[segs.segmentID==482,'Coord Y'],\n",
        "#          '*',color='grey')\n",
        "# plt.savefig('fig1A.svg')"
      ],
      "metadata": {
        "id": "eVx6lavAFCAd"
      },
      "execution_count": null,
      "outputs": []
    },
    {
      "cell_type": "code",
      "source": [
        "\n",
        "\n",
        "plt.figure(figsize=(10,4))\n",
        "s1 = 323548+1500. #np.random.choice(range(v['report']['biophysical']['data'].shape[0]))\n",
        "plt.plot(np.arange(0,((h.tstop)+.1),.1),v_dend[tuft_probe],color='r')\n",
        "#1433413, 1161455\n",
        "plt.hlines(-60,170,200)\n",
        "plt.hlines(-65,0,4000, color = 'grey', linestyle = 'dashed')\n",
        "plt.hlines(-40,0,4000, color = 'grey', linestyle = 'dashed')\n",
        "plt.text(170,-65,'10 ms')\n",
        "plt.vlines(170,-60,-50)\n",
        "plt.text(140,-55,'10 mV')\n",
        "plt.box(False)\n",
        "plt.xticks([])\n",
        "plt.yticks([])"
      ],
      "metadata": {
        "id": "FuOJ0ZVLGKId"
      },
      "execution_count": null,
      "outputs": []
    },
    {
      "cell_type": "code",
      "source": [
        "v_dend = dend_v.as_numpy()\n",
        "\n",
        "plt.figure(figsize=(10,4))\n",
        "s1 = 323548+1500. #np.random.choice(range(v['report']['biophysical']['data'].shape[0]))\n",
        "plt.plot(np.arange(0,((h.tstop)+.1),.1),v_dend[nexus_probe],color='m')\n",
        "#1433413, 1161455\n",
        "plt.hlines(-60,170,200)\n",
        "plt.hlines(-65,0,4000, color = 'grey', linestyle = 'dashed')\n",
        "plt.hlines(-40,0,4000, color = 'grey', linestyle = 'dashed')\n",
        "plt.text(170,-65,'10 ms')\n",
        "plt.vlines(170,-60,-50)\n",
        "plt.text(140,-55,'10 mV')\n",
        "plt.box(False)\n",
        "plt.xticks([])\n",
        "plt.yticks([])"
      ],
      "metadata": {
        "id": "NAYj2ycbI_GI"
      },
      "execution_count": null,
      "outputs": []
    },
    {
      "cell_type": "code",
      "source": [
        "v_dend = dend_v.as_numpy()\n",
        "\n",
        "plt.figure(figsize=(10,4))\n",
        "s1 = 323548+1500. #np.random.choice(range(v['report']['biophysical']['data'].shape[0]))\n",
        "plt.plot(np.arange(0,((h.tstop)+.1),.1),v_dend[trunk_probe],color='b')\n",
        "plt.plot(np.arange(0,((h.tstop)+.1),.1),v_dend[nexus_probe],color=\"orange\")\n",
        "#1433413, 1161455\n",
        "plt.hlines(-60,170,200)\n",
        "plt.hlines(-65,0,4000, color = 'grey', linestyle = 'dashed')\n",
        "plt.hlines(-35,0,4000, color = 'grey', linestyle = 'dashed')\n",
        "plt.text(170,-65,'10 ms')\n",
        "plt.vlines(170,-60,-50)\n",
        "plt.text(140,-55,'10 mV')\n",
        "plt.box(False)\n",
        "plt.xticks([])\n",
        "plt.yticks([])"
      ],
      "metadata": {
        "id": "PD-n--ycKHQZ"
      },
      "execution_count": null,
      "outputs": []
    },
    {
      "cell_type": "markdown",
      "metadata": {
        "id": "tPGTmxa9D8dS"
      },
      "source": [
        "The value after the section indicates the poroportional distance along the segment. 1 being distal from the soma and 0 being proximal to the soma."
      ]
    },
    {
      "cell_type": "code",
      "source": [
        "import matplotlib.pyplot as plt\n",
        "%matplotlib inline\n",
        "\n",
        "\n",
        "\n",
        "# Ca LVA current \n",
        "\n",
        "plt.figure(figsize=(20,14))\n",
        "for i in range(ical_data.shape[0]):\n",
        "    plt.plot(t,ical_data[i,:])\n",
        "    plt.title(Vrecord[i], loc='center')\n",
        "    plt.ylabel('ical')\n",
        "    plt.xlabel('ms')\n",
        "plt.show()"
      ],
      "metadata": {
        "id": "Y1nHbVYRTr9T"
      },
      "execution_count": null,
      "outputs": []
    },
    {
      "cell_type": "code",
      "source": [
        "sec14 = []\n",
        "for i in range(nseg-1):\n",
        "  if AllSegSection[i] == 12:\n",
        "    sec14.append(i)\n",
        "\n",
        "len(sec14)"
      ],
      "metadata": {
        "id": "J4AAdIurnBLx"
      },
      "execution_count": null,
      "outputs": []
    },
    {
      "cell_type": "code",
      "source": [
        "import matplotlib.pyplot as plt\n",
        "%matplotlib inline\n",
        "\n",
        "\n",
        "# CA HVA current\n",
        "\n",
        "plt.figure(figsize=(20,14))\n",
        "for i in range(icah_data.shape[0]):\n",
        "    plt.plot(t,icah_data[i,:])\n",
        "    plt.title(Vrecord[i], loc='center')\n",
        "    plt.ylabel('icah')\n",
        "    plt.xlabel('ms')\n",
        "    plt.title('ICaH')\n",
        "plt.show()"
      ],
      "metadata": {
        "id": "2K75xPlGTqD9"
      },
      "execution_count": null,
      "outputs": []
    },
    {
      "cell_type": "code",
      "source": [
        "import matplotlib.pyplot as plt\n",
        "%matplotlib inline\n",
        "\n",
        "\n",
        "# h current\n",
        "\n",
        "plt.figure(figsize=(20,14))\n",
        "for i in range(ih_data.shape[0]):\n",
        "    plt.plot(t,ih_data[i,:])\n",
        "    plt.title(Vrecord[i], loc='center')\n",
        "    plt.ylabel('Ih')\n",
        "    plt.xlabel('ms')\n",
        "    plt.title('ih')\n",
        "plt.show()"
      ],
      "metadata": {
        "id": "LEajwy_WTfeY"
      },
      "execution_count": null,
      "outputs": []
    },
    {
      "cell_type": "code",
      "execution_count": null,
      "metadata": {
        "id": "373wGMrgD8dS"
      },
      "outputs": [],
      "source": [
        "sec = []\n",
        "for i in range(nseg-1):\n",
        "  if AllSegSection[i] >= 11 :\n",
        "    sec.append(i)\n",
        "\n",
        "print(len(sec))\n",
        "\n",
        "\n",
        "\n",
        "plt.figure(figsize=(20,14))\n",
        "for i in sec:\n",
        "    plt.plot(t,gNaTa_T_data[i,:])\n",
        "    plt.title(gNaTa_T, loc='center')\n",
        "    plt.ylabel('gNaTa_T')\n",
        "    plt.xlabel('ms')\n",
        "    plt.title('gNaTa_T')\n",
        "plt.show()\n",
        "\n",
        "# plt.figure(figsize=(20,14))\n",
        "# for i in sec14:\n",
        "#     plt.plot(t,gNaTa_T_data[i,:])\n",
        "#     plt.title(gNaTa_T, loc='center')\n",
        "#     plt.ylabel('gNaTa_T')\n",
        "#     plt.xlabel('ms')\n",
        "# plt.show()"
      ]
    },
    {
      "cell_type": "code",
      "source": [
        "import matplotlib.pyplot as plt\n",
        "%matplotlib inline\n",
        "\n",
        "\n",
        "#NMDA current \n",
        "\n",
        "plt.figure(figsize=(20,14))\n",
        "for i in range(len(i_NMDA_bySeg)):\n",
        "    plt.plot(t,i_NMDA_bySeg[i])\n",
        "    plt.title(Vrecord[i], loc='center')\n",
        "    plt.ylabel('i_NMDA')\n",
        "    plt.xlabel('ms')\n",
        "    plt.title('i_NMDA in every segment')\n",
        "plt.show()"
      ],
      "metadata": {
        "id": "5AH4wqW5FgrV"
      },
      "execution_count": null,
      "outputs": []
    },
    {
      "cell_type": "code",
      "source": [
        "\n",
        "\n",
        "\n",
        "#NMDA current \n",
        "\n",
        "plt.figure(figsize=(20,14))\n",
        "for i in range(len(v_dend)):\n",
        "    plt.plot(t,v_dend[i])\n",
        "    plt.title(Vrecord[i], loc='center')\n",
        "    plt.ylabel('v dend ')\n",
        "    plt.xlabel('ms')\n",
        "    plt.title('NMDA current')\n",
        "plt.show()"
      ],
      "metadata": {
        "id": "qRKFnslAJ7To"
      },
      "execution_count": null,
      "outputs": []
    }
  ],
  "metadata": {
    "kernelspec": {
      "display_name": "Python 3 (ipykernel)",
      "language": "python",
      "name": "python3"
    },
    "language_info": {
      "codemirror_mode": {
        "name": "ipython",
        "version": 3
      },
      "file_extension": ".py",
      "mimetype": "text/x-python",
      "name": "python",
      "nbconvert_exporter": "python",
      "pygments_lexer": "ipython3",
      "version": "3.7.4"
    },
    "colab": {
      "name": "Stylized_Reduced_Order_L5_1.8.3.ipynb",
      "provenance": [],
      "collapsed_sections": [],
      "include_colab_link": true
    }
  },
  "nbformat": 4,
  "nbformat_minor": 0
}