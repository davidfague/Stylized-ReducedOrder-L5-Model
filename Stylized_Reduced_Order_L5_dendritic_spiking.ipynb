{
  "cells": [
    {
      "cell_type": "markdown",
      "metadata": {
        "id": "view-in-github",
        "colab_type": "text"
      },
      "source": [
        "<a href=\"https://colab.research.google.com/github/davidfague/Stylized-ReducedOrder-L5-Model/blob/Dendric-spikes/Stylized_Reduced_Order_L5_dendritic_spiking.ipynb\" target=\"_parent\"><img src=\"https://colab.research.google.com/assets/colab-badge.svg\" alt=\"Open In Colab\"/></a>"
      ]
    },
    {
      "cell_type": "markdown",
      "metadata": {
        "id": "Xkx-mbZKD8c2"
      },
      "source": [
        "#### Neuron Initialization\n",
        "Import modules and setup simulation parameters"
      ]
    },
    {
      "cell_type": "code",
      "source": [
        "!pip install neuron"
      ],
      "metadata": {
        "id": "QqK980HfECA5",
        "outputId": "d157d924-1a94-4f1e-dcd1-2b9d42300ab2",
        "colab": {
          "base_uri": "https://localhost:8080/"
        }
      },
      "execution_count": null,
      "outputs": [
        {
          "output_type": "stream",
          "name": "stdout",
          "text": [
            "Looking in indexes: https://pypi.org/simple, https://us-python.pkg.dev/colab-wheels/public/simple/\n",
            "Requirement already satisfied: neuron in /usr/local/lib/python3.7/dist-packages (8.1.0)\n",
            "Requirement already satisfied: numpy>=1.9.3 in /usr/local/lib/python3.7/dist-packages (from neuron) (1.21.6)\n"
          ]
        }
      ]
    },
    {
      "cell_type": "code",
      "source": [
        "from google.colab import drive\n",
        "drive.mount('/content/drive')"
      ],
      "metadata": {
        "id": "t4aHlZPNEvm4",
        "outputId": "2e637008-47ac-4737-e6b6-e6e57e820e7f",
        "colab": {
          "base_uri": "https://localhost:8080/"
        }
      },
      "execution_count": null,
      "outputs": [
        {
          "output_type": "stream",
          "name": "stdout",
          "text": [
            "Drive already mounted at /content/drive; to attempt to forcibly remount, call drive.mount(\"/content/drive\", force_remount=True).\n"
          ]
        }
      ]
    },
    {
      "cell_type": "code",
      "source": [
        "%cd /content/drive/MyDrive/Stylized-Cell-model/"
      ],
      "metadata": {
        "colab": {
          "base_uri": "https://localhost:8080/"
        },
        "id": "R6h5ZsGjs5GO",
        "outputId": "a9edaf6b-4e51-4b65-cc06-678398a10d84"
      },
      "execution_count": null,
      "outputs": [
        {
          "output_type": "stream",
          "name": "stdout",
          "text": [
            "/content/drive/MyDrive/Stylized-Cell-model\n"
          ]
        }
      ]
    },
    {
      "cell_type": "code",
      "source": [
        "#import os\n",
        "#%cd mechanisms/\n",
        "#os.system('nrnivmodl')\n",
        "#%cd .."
      ],
      "metadata": {
        "id": "9zVOUnOV9WxH"
      },
      "execution_count": null,
      "outputs": []
    },
    {
      "cell_type": "code",
      "execution_count": null,
      "metadata": {
        "id": "KpT_pFwdD8c9"
      },
      "outputs": [],
      "source": [
        "from neuron import h\n",
        "import pandas as pd\n",
        "import numpy as np\n",
        "import os\n",
        "from stylized_module.stylized_cell import Stylized_Cell\n",
        "from stylized_module.ecp import EcpMod, newposition\n",
        "from stylized_module.recorder import Recorder\n",
        "from stylized_module.point_current import Point_current\n",
        "\n",
        "mechanisms_path = 'mechanisms'  # need to compile the folder first\n",
        "geometry_file = 'geom_standard.csv'\n",
        "tstop = 500  # ms\n",
        "dt = 0.025  # ms. does not allow change\n",
        "\n",
        "h.load_file('stdrun.hoc')\n",
        "#h.nrn_load_dll(os.path.join(mechanisms_path,'nrnmech.dll'))  # running this line more than once might crash the kernel\n",
        "h.nrn_load_dll(os.path.join(mechanisms_path,'x86_64/.libs/libnrnmech.so'))  # use this line instead in Linux\n",
        "geo_standard = pd.read_csv(geometry_file,index_col='id')\n",
        "h.tstop = tstop\n",
        "h.dt = dt"
      ]
    },
    {
      "cell_type": "code",
      "source": [
        "#pick a random seed to initalize random values\n",
        "import random\n",
        "random.seed(442022)\n"
      ],
      "metadata": {
        "id": "urpIM_WeRGOq"
      },
      "execution_count": null,
      "outputs": []
    },
    {
      "cell_type": "code",
      "source": [
        "pi=np.pi\n",
        "#calculate locations of synapses normally distributed\n",
        "syn_exc_number = np.int_(2.16*200) # number of synapses = density (syn/um) times length of dendrites (um)\n",
        "syn_inh_number = np.int_(.22*200)\n",
        "syn_number = syn_inh_number + syn_exc_number # total number of synapses\n",
        "#syn_dist = np.random.rand(syn_number) #length proportionate(0 to 1) location of synapses by random distribution from 0-1 of integer number of synapses\n",
        "\n",
        "#randomly assign synapse type by proportion;\n",
        "#sec_index_list = list(range(1,9)) #list dendrites\n",
        "#rand_syntype = np.random.rand(syn_number) #generate a new random set of numbers from 0-1\n",
        "#prop_exc = syn_exc_number/syn_number\n",
        "#syn_type_list = ['exc' if y<prop_exc else\n",
        "#                 'inh' for y in rand_syntype]"
      ],
      "metadata": {
        "id": "7hrBcn6_dNa-"
      },
      "execution_count": null,
      "outputs": []
    },
    {
      "cell_type": "code",
      "source": [
        "#def lognormal(m, s):\n",
        "#        mean = np.log(m) - 0.5 * np.log((s/m)**2+1)\n",
        "#        std = np.sqrt(np.log((s/m)**2 + 1))\n",
        "#        #import pdb; pdb.set_trace()\n",
        "#        return max(np.random.lognormal(mean, std, 1), 0.00000001)\n",
        "#lognormal() mean = 0.2 nS, std = 0.345 nS\n",
        "#generators = []"
      ],
      "metadata": {
        "id": "YTd-cF5sOh-y"
      },
      "execution_count": null,
      "outputs": []
    },
    {
      "cell_type": "markdown",
      "metadata": {
        "id": "_hI4TL9ZD8c_"
      },
      "source": [
        "Define cell model and simulation model. Edit method \"set_channels\" to design biophysical properties."
      ]
    },
    {
      "cell_type": "code",
      "execution_count": null,
      "metadata": {
        "id": "UhthwMDQD8dA"
      },
      "outputs": [],
      "source": [
        "class Cell(Stylized_Cell):\n",
        "    \"\"\"Define single cell model using parent class Stylized_Cell\"\"\"\n",
        "    def __init__(self,geometry=None,biophys=None,dL=30,vrest=-72.0):\n",
        "        \"\"\"\n",
        "        Initialize cell model\n",
        "        geometry: pandas dataframe of cell morphology properties\n",
        "        biophys: vector of biophysical parameters corresponding to \"biophys_entries\". Use -1 for default value.\n",
        "        dL: maximum segment length\n",
        "        vrest: reversal potential for leak channels\n",
        "        \"\"\"\n",
        "        self.biophys = biophys\n",
        "        super().__init__(geometry,dL,vrest)\n",
        "        self.record_soma_v() # uncomment this if want to record soma voltage\n",
        "    \n",
        "    def set_channels(self):\n",
        "        \"\"\"Define biophysical properties, insert channels\"\"\"\n",
        "        self.define_biophys_entries()\n",
        "        # common parameters\n",
        "        for sec in self.all:\n",
        "            sec.cm = 2.0\n",
        "            sec.Ra = 100\n",
        "            sec.insert('pas')\n",
        "            sec.e_pas = self._vrest\n",
        "        # fixed parameters\n",
        "        soma = self.soma\n",
        "        soma.cm = 1.0\n",
        "        soma.insert('NaTa_t')  # Sodium channel\n",
        "        soma.insert('SKv3_1')  # Potassium channel\n",
        "        soma.insert('Ca_HVA')\n",
        "        soma.insert('Ca_LVAst')\n",
        "        soma.insert('CaDynamics_E2')\n",
        "        soma.insert('Ih')\n",
        "        soma.insert('SK_E2')\n",
        "        soma.insert('K_Tst')\n",
        "        soma.insert('K_Pst')\n",
        "        soma.insert('Nap_Et2')\n",
        "        soma.ena = 50\n",
        "        soma.ek = -85\n",
        "        for isec in self.grp_ids[2]:\n",
        "            sec = self.get_sec_by_id(isec)  # apical dendrites\n",
        "            sec.insert('NaTa_t')\n",
        "            sec.insert('SKv3_1')\n",
        "            sec.insert('Ca_HVA')\n",
        "            sec.insert('Ca_LVAst')\n",
        "            sec.insert('Im')\n",
        "            sec.insert('CaDynamics_E2')\n",
        "            sec.insert('Ih')\n",
        "            sec.insert('SK_E2')\n",
        "            sec.ena = 50\n",
        "            sec.ek = -85\n",
        "        for isec in self.grp_ids[1]:\n",
        "            sec = self.get_sec_by_id(isec)  # apical dendrites\n",
        "            sec.insert('Ih')\n",
        "        # variable parameters\n",
        "        for i,entry in enumerate(self.biophys_entries):\n",
        "            for sec in self.get_sec_by_id(self.grp_ids[entry[0]]):\n",
        "                setattr(sec,entry[1],self.biophys[i])\n",
        "        h.v_init = self._vrest\n",
        "    \n",
        "\n",
        "    def define_biophys_entries(self):\n",
        "        \"\"\"\n",
        "        Define list of entries of biophysical parameters.\n",
        "        Each entry is a pair of group id and parameter reference string.\n",
        "        Define default values and set parameters in \"biophys\".\n",
        "        \"\"\"\n",
        "        self.grp_sec_type_ids = [[0],[1,2],[3,4]]  # select section id's for each group\n",
        "        self.grp_ids = []  # get indices of sections for each group\n",
        "        for ids in self.grp_sec_type_ids:\n",
        "            secs = []\n",
        "            for i in ids:\n",
        "                secs.extend(self.sec_id_lookup[i])\n",
        "            self.grp_ids.append(secs)\n",
        "        self.biophys_entries = [\n",
        "            (0,'g_pas'),(1,'g_pas'),(2,'g_pas'),  # g_pas of soma, basal, apical \n",
        "            (0,'gNaTa_tbar_NaTa_t'),(2,'gNaTa_tbar_NaTa_t'),  # gNaTa_t of soma, apical \n",
        "            (0,'gSKv3_1bar_SKv3_1'),(2,'gSKv3_1bar_SKv3_1'),  # gSKv3_1 of soma, apical\n",
        "            (0, 'gCa_HVAbar_Ca_HVA'),(2, 'gCa_HVAbar_Ca_HVA'),  # gCA_HVA of soma, apical\n",
        "            (0, 'gCa_LVAstbar_Ca_LVAst'),(2, 'gCa_LVAstbar_Ca_LVAst'), # gCA_LVAst of soma, apical\n",
        "            (2, 'gImbar_Im'), #gIm of apical\n",
        "            (0,'decay_CaDynamics_E2'),(2,'decay_CaDynamics_E2'), #decay_CaDynamics of soma, apical\n",
        "            (0,'gamma_CaDynamics_E2'),(2,'gamma_CaDynamics_E2'), #gamma_CaDynamics of soma, apical\n",
        "            (0,'gIhbar_Ih'),(1,'gIhbar_Ih'),(2,'gIhbar_Ih'), #gIh of soma, apical\n",
        "            (0,'gSK_E2bar_SK_E2'),(2,'gSK_E2bar_SK_E2'),\n",
        "            (0,'gK_Tstbar_K_Tst'),\n",
        "            (0,'gK_Pstbar_K_Pst'),\n",
        "            (0,'gNap_Et2bar_Nap_Et2')\n",
        "        ]\n",
        "\n",
        "        default_biophys = np.array([3.26e-05,6.31e-05,8.82e-05, ## g_pas of soma, basal, apical\n",
        "                                    2.43, 0.0252, # gNaTa_t\n",
        "                                    0.983,0.0112, # gSKv3_1\n",
        "                                    0.000642,0.00452, # gCA_HVA\n",
        "                                    0.00462,0.104, # CA_LVAst\n",
        "                                    0.000179, # Im\n",
        "                                    770.0,133.0, # decay_CaDynamics_E2\n",
        "                                    0.000616,0.0005, # gamma_CaDynamics_E2\n",
        "                                    8e-05,0.0002,0.0002, #Ih\n",
        "                                    0.0492, 0.0034, #SK_E2\n",
        "                                    0.0471, #K_Tst\n",
        "                                    0.000, #K_Pst\n",
        "                                    0.00499 #Nap_Et2\n",
        "                                    ])\n",
        "        if self.biophys is not None:\n",
        "            for i in range(len(self.biophys)):\n",
        "                if self.biophys[i]>=0:\n",
        "                    default_biophys[i]=self.biophys[i]\n",
        "        self.biophys = default_biophys\n",
        "    \n",
        "    def add_synapse(self,stim,sec_index,**kwargs):\n",
        "        \"\"\"Add synapse to a section by its index\"\"\"\n",
        "        self.injection.append(Synapse(self,stim,sec_index,**kwargs))\n",
        "        \n",
        "    \n",
        "    def record_soma_v(self):\n",
        "        self.v_rec = Recorder(self.soma(.5),'v')\n",
        "    \n",
        "    def v(self):\n",
        "        \"\"\"Return recorded soma membrane voltage in numpy array\"\"\"\n",
        "        if hasattr(self,'v_rec'):\n",
        "\n",
        "            return self.v_rec.as_numpy()\n",
        "\n",
        "class Synapse(Point_current):\n",
        "    def __init__(self,cell,stim,sec_index,gmaxEXC=0.01,gmaxINH=0.01,loc=0.5,record=True, SynType='exc'): \n",
        "        super().__init__(cell,sec_index,loc)\n",
        "        self.stim = stim\n",
        "        self.gmaxEXC = gmaxEXC\n",
        "        self.gmaxINH = gmaxINH\n",
        "        self.syntype = SynType\n",
        "        self.setup(record,loc)\n",
        "\n",
        "        \n",
        "\n",
        "    def setup(self,record,loc):\n",
        "        self.setup_synapse(loc)\n",
        "        if record:\n",
        "            self.setup_recorder()\n",
        "    \n",
        "    def setup_synapse(self,loc): \n",
        "        if self.syntype == 'inh':\n",
        "          self.pp_obj = h.int2pyr(self.get_section()(loc))\n",
        "          #Assigns random generator of release probability.\n",
        "          r = h.Random()\n",
        "          r.MCellRan4()\n",
        "          r.uniform(0,1)\n",
        "          self.pp_obj.setRandObjRef(r)\n",
        "          #A list of random generators is kept so that they are not automatically garbaged.\n",
        "          self.generator = r\n",
        "          syn = self.pp_obj\n",
        "          syn.setRandObjRef(r)\n",
        "          syn.P_0 = 0.6\n",
        "          syn.initW = 0.5 #10 #.05\n",
        "          self.nc = h.NetCon(self.stim,syn,1,0,1)\n",
        "\n",
        "        else:\n",
        "          self.pp_obj = h.pyr2pyr(self.get_section()(loc))\n",
        "          #Assigns random generator of release probability.\n",
        "          r = h.Random()\n",
        "          r.MCellRan4()\n",
        "          r.uniform(0,1)\n",
        "          self.pp_obj.setRandObjRef(r)\n",
        "          #A list of random generators is kept so that they are not automatically garbaged.\n",
        "          self.generator = r\n",
        "          syn = self.pp_obj\n",
        "          syn.setRandObjRef(r)\n",
        "          syn.P_0 = 0.6\n",
        "          syn.initW = 0.5\n",
        "          self.nc = h.NetCon(self.stim,syn,1,0,1)\n",
        "\n",
        "class Simulation(object):\n",
        "    def __init__(self,geometry,electrodes,loc_param=[0.,0.,0.,0.,1.,0.],geo_param=[-1],biophys=[-1],gmaxEXC=0.015,gmaxINH=0.015,scale=1.0,ncell=1): #initially __init__(self,geometry,electrodes,loc_param=[0.,0.,0.,0.,1.,0.],geo_param=[-1],biophys=[-1],gmax=0.015,scale=1.0,ncell=1):\n",
        "        \"\"\"\n",
        "        Initialize simulation object\n",
        "        geometry: pandas dataframe of cell morphology properties\n",
        "        electrodes: array of electrode coordinates, n-by-3\n",
        "        loc_param: location parameters, ncell-by-6 array, (x,y,z,theta,h,phi)\n",
        "        geo_param: geometry parameters, ncell-by-k array, if not specified, use default properties in geometry\n",
        "        biophys: biophysical parameters, ncell-by-k array, if not specified, use default properties\n",
        "        gmax: maximum conductance of synapse, ncell-vector, if is single value, is constant for all cells\n",
        "        scale: scaling factors of lfp magnitude, ncell-vector, if is single value, is constant for all cells\n",
        "        ncell: number of cells in the simulation, required if simulating for multiple cells\n",
        "        \"\"\"\n",
        "        self.ncell = ncell  # number of cells in this simulation\n",
        "        self.cells = []  # list of cell object\n",
        "        self.lfp = []  # list of EcpMod object\n",
        "        self.define_geometry_entries()  # list of entries to geometry dataframe\n",
        "        self.geometry = geometry.copy()\n",
        "        self.electrodes = electrodes\n",
        "        self.set_loc_param(loc_param)\n",
        "        self.set_geo_param(geo_param)\n",
        "        self.set_biophys(biophys)\n",
        "        self.set_gmax(gmaxEXC, gmaxINH)\n",
        "        self.set_scale(scale)\n",
        "        self.set_netstim()\n",
        "        self.create_cells()  # create cell objects with properties set up\n",
        "        self.t_vec = h.Vector( round(h.tstop/h.dt)+1 ).record(h._ref_t)  # record time\n",
        "\n",
        "\n",
        "\n",
        "    def set_netstim(self):\n",
        "        \"\"\"Setup synaptic input event\"\"\"\n",
        "        stim_list = []\n",
        "        self.stim = stim_list\n",
        "        for i in range(syn_number):\n",
        "          stim = h.NetStim()\n",
        "          stim.number = 2  # average number of spikes\n",
        "          stim.start = 50  #  most likely start time of first spike\n",
        "          stim.noise = 1  # fractional randomness\n",
        "          stim.interval = 1000  # mean time between spikes (ms)\n",
        "          #duration of stimulation = stim.interval X stim.number\n",
        "          stim_list.append(stim)\n",
        "\n",
        "\n",
        "    \n",
        "    def pack_parameters(self,param,ndim,param_name):\n",
        "        \"\"\"Pack parameters for the simulation\"\"\"\n",
        "        if ndim==0:\n",
        "            if not hasattr(param,'__len__'):\n",
        "                param = [param]\n",
        "            param = np.array(param).ravel()\n",
        "            if param.size!=self.ncell:\n",
        "                if param.size==1:\n",
        "                    param = np.broadcast_to(param,self.ncell)\n",
        "                else:\n",
        "                    raise ValueError(param_name+\" size does not match ncell\")   \n",
        "        if ndim==1:\n",
        "            param = np.array(param)\n",
        "            if param.ndim==1:\n",
        "                param = np.expand_dims(param,0)\n",
        "            if param.shape[0]!=self.ncell:\n",
        "                if param.shape[0]==1:\n",
        "                    param = np.broadcast_to(param,(self.ncell,param.shape[1]))\n",
        "                else:\n",
        "                    raise ValueError(param_name+\" number of rows does not match ncell\")\n",
        "        return param\n",
        "    \n",
        "    def set_loc_param(self,loc_param):\n",
        "        \"\"\"Setup location parameters. loc_param ncell-by-6 array\"\"\"\n",
        "        loc_param = self.pack_parameters(loc_param,1,\"loc_param\")\n",
        "        self.loc_param = [(loc_param[i,:3],loc_param[i,3:]) for i in range(self.ncell)]\n",
        "    \n",
        "    def set_geo_param(self,geo_param):\n",
        "        \"\"\"Setup geometry parameters. geo_param ncell-by-k array, k entries of properties\"\"\"\n",
        "        self.geo_param = self.pack_parameters(geo_param,1,\"geo_param\")\n",
        "    \n",
        "    def set_biophys(self,biophys):\n",
        "        \"\"\"Setup geometry parameters. geo_param ncell-by-k array, k entries of properties\"\"\"\n",
        "        self.biophys = self.pack_parameters(biophys,1,\"biophys\")\n",
        "    \n",
        "    def set_gmax(self,gmaxEXC,gmaxINH):\n",
        "        \"\"\"Setup maximum conductance of synapse\"\"\"\n",
        "        self.gmaxEXC = self.pack_parameters(gmaxEXC,0,\"gmaxEXC\")\n",
        "        self.gmaxINH = self.pack_parameters(gmaxINH,0,\"gmaxINH\")\n",
        "    \n",
        "    def set_scale(self,scale):\n",
        "        \"\"\"setup scaling factors of lfp magnitude\"\"\"\n",
        "        self.scale = self.pack_parameters(scale,0,\"scale\")\n",
        "    \n",
        "    def define_geometry_entries(self):\n",
        "        \"\"\"Define list of entries to geometry dataframe. Each entry is a pair of section id and property.\"\"\"\n",
        "        self.geo_entries = [\n",
        "            (0,'R'),  # change soma radius\n",
        "            (3,'L'),  # change trunk length\n",
        "            (3,'R'),  # change trunk radius\n",
        "            ([1,2],'R'),  # change basal dendrites radius\n",
        "            (4,'R'),  # change tuft radius\n",
        "            ([1,2,4],'L') # change all dendrites length\n",
        "        ]\n",
        "    \n",
        "    def set_geometry(self,geometry,geo_param):\n",
        "        \"\"\"Set property values from geo_param through each entry to geometry. Return dataframe\"\"\"\n",
        "        geom = geometry.copy()\n",
        "        for i,x in enumerate(geo_param):\n",
        "            if x>=0:\n",
        "                geom.loc[self.geo_entries[i]] = x\n",
        "        return geom\n",
        "\n",
        "\n",
        "\n",
        "    def create_cells(self):\n",
        "        \"\"\"Create cell objects with properties set up\"\"\"\n",
        "        self.cells.clear()  # remove cell objects from previous run\n",
        "        self.lfp.clear()\n",
        "        # Create cell with morphology and biophysical parameters\n",
        "        for i in range(self.ncell):\n",
        "            geometry = self.set_geometry(self.geometry,self.geo_param[i,:])\n",
        "            self.cells.append( Cell(geometry=geometry,biophys=self.biophys[i,:]) )\n",
        "        # add injection current or synaptic current and set up lfp recording\n",
        "        min_dist = 10.0 # minimum distance allowed between segment and electrode. Set to None if not using.\n",
        "\n",
        "\n",
        "############################################################################################################################################\n",
        "\n",
        "        #get sec index for dendrites, comment section to remove synapses       \n",
        "        sec_index_list = [] #basal:(1,4), apical:(5,9), tuft:(10,14)\n",
        "        self.sec_index_list = sec_index_list\n",
        "\n",
        "        apical_sec_list = list(range(1,5)) # apical indices 1,2,3,4\n",
        "        #for index in apical_sec_list:\n",
        "          #sec_index_list.append(index)\n",
        "        for i,cell in enumerate(self.cells):\n",
        "            # Synpatic input\n",
        "            for k in range(len(apical_sec_list)):\n",
        "              #stim_list = set_netstim()\n",
        "              syn_dist = np.random.rand(syn_number)\n",
        "              rand_syntype = np.random.rand(syn_number) #generate a new random set of numbers from 0-1\n",
        "              prop_exc = syn_exc_number/syn_number\n",
        "              syn_type_list = ['exc' if y<prop_exc else\n",
        "                 'inh' for y in rand_syntype]\n",
        "              for j in range(syn_number):\n",
        "                cell.add_synapse(stim=self.stim[j],sec_index=apical_sec_list[k],gmaxEXC=self.gmaxEXC,gmaxINH=self.gmaxINH,loc=syn_dist[j],SynType=syn_type_list[j])\n",
        "\n",
        "        basal_sec_list = list(range(5,9)) # basal indices 5,6,7,8\n",
        "#        for index in basal_sec_list:\n",
        "#          sec_index_list.append(index)\n",
        "        for i,cell in enumerate(self.cells):\n",
        "            # Synpatic input\n",
        "            for k in range(len(basal_sec_list)):\n",
        "              #stim_list = set_netstim()\n",
        "              syn_dist = np.random.rand(syn_number)\n",
        "              rand_syntype = np.random.rand(syn_number) #generate a new random set of numbers from 0-1\n",
        "              prop_exc = syn_exc_number/syn_number\n",
        "              syn_type_list = ['exc' if y<prop_exc else\n",
        "                 'inh' for y in rand_syntype]\n",
        "              for j in range(syn_number):\n",
        "                cell.add_synapse(stim=self.stim[j],sec_index=basal_sec_list[k],gmaxEXC=self.gmaxEXC,gmaxINH=self.gmaxINH,loc=syn_dist[j],SynType=syn_type_list[j])\n",
        "\n",
        "        tuft_sec_list = list(range(10,14)) # tuft indices 10,11,12,13\n",
        "#        for index in tuft_sec_list:\n",
        "#          sec_index_list.append(index)\n",
        "        for i,cell in enumerate(self.cells):\n",
        "            # Synpatic input\n",
        "            for k in range(len(tuft_sec_list)):\n",
        "              #stim_list = set_netstim()\n",
        "              syn_dist = np.random.rand(syn_number)\n",
        "              rand_syntype = np.random.rand(syn_number) #generate a new random set of numbers from 0-1\n",
        "              prop_exc = syn_exc_number/syn_number\n",
        "              syn_type_list = ['exc' if y<prop_exc else\n",
        "                 'inh' for y in rand_syntype]\n",
        "              for j in range(syn_number):\n",
        "                cell.add_synapse(stim=self.stim[j],sec_index=tuft_sec_list[k],gmaxEXC=self.gmaxEXC,gmaxINH=self.gmaxINH,loc=syn_dist[j],SynType=syn_type_list[j])\n",
        "\n",
        "\n",
        "#        for i,cell in enumerate(self.cells):\n",
        "            # Synpatic input\n",
        "#            for k in range(len(sec_index_list)):\n",
        "#              #stim_list = set_netstim()\n",
        "#              syn_dist = np.random.rand(syn_number)\n",
        "#              rand_syntype = np.random.rand(syn_number) #generate a new random set of numbers from 0-1\n",
        "#              prop_exc = syn_exc_number/syn_number\n",
        "#              syn_type_list = ['exc' if y<prop_exc else\n",
        "#                 'inh' for y in rand_syntype]\n",
        "#              for j in range(syn_number):\n",
        "#                cell.add_synapse(stim=self.stim[j],sec_index=self.sec_index_list[k],gmaxEXC=self.gmaxEXC,gmaxINH=self.gmaxINH,loc=syn_dist[j],SynType=syn_type_list[j])\n",
        "\n",
        "              \n",
        "##############################################################################################################################################\n",
        "\n",
        "            # Move cell location\n",
        "            self.lfp.append( EcpMod(cell,self.electrodes,move_cell=self.loc_param[i],scale=self.scale[i],min_distance=min_dist) )\n",
        "    \n",
        "    def run(self):\n",
        "        \"\"\"Run simulation\"\"\"\n",
        "        h.run()\n",
        "    \n",
        "    def t(self):\n",
        "        \"\"\"Return simulation time vector\"\"\"\n",
        "        return self.t_vec.as_numpy()\n",
        "    \n",
        "    def get_lfp(self,index=0):\n",
        "        \"\"\"Return LFP array of the cell by index (indices), (cells-by-)channels-by-time\"\"\"\n",
        "        if not hasattr(index,'__len__'):\n",
        "            lfp = self.lfp[index].calc_ecp()\n",
        "        else:\n",
        "            index = np.asarray(index).ravel()\n",
        "            lfp = np.stack([self.lfp[i].calc_ecp() for i in index],axis=0)\n",
        "        return lfp"
      ]
    },
    {
      "cell_type": "markdown",
      "metadata": {
        "id": "ER4RehApD8dM"
      },
      "source": [
        "#### Create simulation"
      ]
    },
    {
      "cell_type": "code",
      "execution_count": null,
      "metadata": {
        "id": "q6-0DfThD8dN"
      },
      "outputs": [],
      "source": [
        "x = np.zeros(96)\n",
        "y = np.linspace(-1900,1900,96)\n",
        "z = np.zeros(96)\n",
        "elec_pos = pos = np.column_stack((x,y,z))"
      ]
    },
    {
      "cell_type": "markdown",
      "metadata": {
        "id": "59qptuG3D8dO"
      },
      "source": [
        "Set parameters"
      ]
    },
    {
      "cell_type": "code",
      "execution_count": null,
      "metadata": {
        "scrolled": true,
        "id": "w-bIgCdCD8dP"
      },
      "outputs": [],
      "source": [
        "loc_param = [50,0,10,0,1,0]  # example position #D: initially this was [0,0,50,0.2,0.75,1.5], (x,y,z,theta,h,phi), h=[-1,1] phi=[-pi,pi] h=.7071067812 for 90 deg\n",
        "#note on parameters: Rotate(alpha,h,phi): first rotate alpha about y-axis (spin), then rotate arccos(h) about x-axis (elevation), then rotate phi about y axis (azimuth).\n",
        "\n",
        "geo_param = [-1,-1,-1]  # choose trunk length [-1,600], bounds([3,12],[20,800],[0.2,1.0],[0.2,1.0],[0.2,1.0],[100,300])\n",
        "# example of changing biophysical parameters (check \"biophys_entries\" in \"Cell\" class for meaning, bounds can also be found there)\n",
        "biophys = [3.26e-05,6.31e-05,8.82e-05, ## g_pas of soma, basal, apical 3.26e-05,6.31e-05,8.82e-05,\n",
        "                                    2.43, 0.0252, # gNaTa_t 2.43, 0.0252\n",
        "                                    0.983,0.0112, # gSKv3_1 0.983,0.0112\n",
        "                                    0.000642,0.00452, # gCA_HVA 0.000642,0.00452,\n",
        "                                    0.00462,0.104, # CA_LVAst 0.00462,0.104,\n",
        "                                    0.0004, # Im 0.0004,\n",
        "                                    770.0,133.0, # decay_CaDynamics_E2 770.0,133.0,\n",
        "                                    0.000616,0.0005, # gamma_CaDynamics_E2 0.000616,0.0005,\n",
        "                                    8e-05,0.0002,0.0002, #Ih 8e-05,0.0002,0.0002,\n",
        "                                    0.0492, 0.0034, #SK_E2 0.0492, 0.0034,\n",
        "                                    0.0471, #K_Tst 0.0471,\n",
        "                                    0.000, #K_Pst 0.000,\n",
        "                                    0.00499 #Nap_Et2 0.00499\n",
        "                                    ]\n",
        "sim = Simulation(geo_standard,elec_pos,loc_param,geo_param=geo_param,biophys=biophys,gmaxEXC=0.000006,gmaxINH=0.000006,scale=100.)  # 0.001 -0.012 #gmax=.005, scale=100"
      ]
    },
    {
      "cell_type": "markdown",
      "metadata": {
        "id": "ZOjUgsuOD8dQ"
      },
      "source": [
        "Record membrane voltage at initial/middle/end of the trunk and middle of the tuft to check the propagation."
      ]
    },
    {
      "cell_type": "code",
      "execution_count": null,
      "metadata": {
        "id": "GfdmtkklD8dR"
      },
      "outputs": [],
      "source": [
        "seg_list = sim.cells[0].get_seg_by_id(range(1,99))\n",
        "\n",
        "Vrecord = []\n",
        "for i in range(0,len(seg_list)):\n",
        "     Vrecord.append(seg_list[i])\n",
        "\n",
        "dend_v = Recorder(Vrecord)\n",
        "\n",
        "\n",
        "\n"
      ]
    },
    {
      "cell_type": "code",
      "source": [
        "def returnSegmentValues(section):\n",
        "    #Set impedance measurement location and frequency\n",
        "   \n",
        "    zz = h.Impedance()\n",
        "    zz.loc(sim.cells[0].get_sec_by_id([0])[0](0.5))\n",
        "    zz.compute(25)\n",
        "\n",
        "    # Get section 3d coordinates and put in numpy array\n",
        "    n3d = section.n3d()\n",
        "    x3d = np.empty(n3d)\n",
        "    y3d = np.empty(n3d)\n",
        "    z3d = np.empty(n3d)\n",
        "    L = np.empty(n3d)\n",
        "    for i in range(n3d):\n",
        "        x3d[i]=section.x3d(i)\n",
        "        y3d[i]=section.y3d(i)\n",
        "        z3d[i]=section.z3d(i)\n",
        "\n",
        "    # Compute length of each 3d segment\n",
        "    for i in range(n3d):\n",
        "        if i==0:\n",
        "            L[i]=0\n",
        "        else:\n",
        "            L[i]=np.sqrt((x3d[i]-x3d[i-1])**2 + (y3d[i]-y3d[i-1])**2 + (z3d[i]-z3d[i-1])**2)\n",
        "\n",
        "    # Get cumulative length of 3d segments\n",
        "    cumLength = np.cumsum(L)\n",
        "    N = section.nseg\n",
        "    \n",
        "    # Now upsample coordinates to segment locations\n",
        "    xCoord = np.empty(N)\n",
        "    yCoord = np.empty(N)\n",
        "    zCoord = np.empty(N)\n",
        "    Elec_distance = np.empty(N)\n",
        "\n",
        "    dx = section.L / (N-1)\n",
        "    for n in range(N):\n",
        "        Elec_distance[n] = zz.ratio(section((n*dx)/cumLength[1]))\n",
        "        if n==N-1: \n",
        "            xCoord[n]=x3d[-1]\n",
        "            yCoord[n]=y3d[-1]\n",
        "            zCoord[n]=z3d[-1]\n",
        "        else:\n",
        "            cIdxStart = np.where(n*dx >= cumLength)[0][-1] # which idx of 3d segments are we starting at\n",
        "            cDistFrom3dStart = n*dx - cumLength[cIdxStart] # how far along that segment is this upsampled coordinate\n",
        "            cFraction3dLength = cDistFrom3dStart / L[cIdxStart+1] # what's the fractional distance along this 3d segment\n",
        "            # compute x and y positions\n",
        "            xCoord[n] = x3d[cIdxStart] + cFraction3dLength*(x3d[cIdxStart+1] - x3d[cIdxStart])\n",
        "            yCoord[n] = y3d[cIdxStart] + cFraction3dLength*(y3d[cIdxStart+1] - y3d[cIdxStart])\n",
        "            zCoord[n] = z3d[cIdxStart] + cFraction3dLength*(z3d[cIdxStart+1] - z3d[cIdxStart])\n",
        "            \n",
        "    return xCoord, yCoord, zCoord, Elec_distance"
      ],
      "metadata": {
        "id": "NZHr4i-twgnb"
      },
      "execution_count": null,
      "outputs": []
    },
    {
      "cell_type": "code",
      "source": [
        "sec_list = sim.cells[0].get_sec_by_id(range(0,14))\n",
        "\n",
        "SectionXCoord = []\n",
        "SectionYCoord = []\n",
        "SectionZCoord = []\n",
        "SectionElecDist = []\n",
        "AllSegXCoord = []\n",
        "AllSegYCoord = []\n",
        "AllSegZCoord = []\n",
        "AllSegElecDist = []\n",
        "for i in range(1,len(sec_list)):\n",
        "  SectionXCoord, SectionYCoord, SectionZCoord, SectionElecDist = returnSegmentValues(sec_list[i])\n",
        "  AllSegXCoord.extend(SectionXCoord)\n",
        "  AllSegYCoord.extend(SectionYCoord)\n",
        "  AllSegZCoord.extend(SectionZCoord)\n",
        "  AllSegElecDist.extend(SectionElecDist)\n",
        "\n",
        "\n",
        "\n",
        "\n"
      ],
      "metadata": {
        "id": "_5WIRT9kwz3c"
      },
      "execution_count": null,
      "outputs": []
    },
    {
      "cell_type": "code",
      "source": [
        "print(Vrecord)"
      ],
      "metadata": {
        "colab": {
          "base_uri": "https://localhost:8080/"
        },
        "id": "YJ1yDBO1NNyf",
        "outputId": "019757f2-cf2b-4bda-819a-51317bd0d090"
      },
      "execution_count": null,
      "outputs": [
        {
          "output_type": "stream",
          "name": "stdout",
          "text": [
            "[basal(0.0714286), basal(0.214286), basal(0.357143), basal(0.5), basal(0.642857), basal(0.785714), basal(0.928571), basal(0.0714286), basal(0.214286), basal(0.357143), basal(0.5), basal(0.642857), basal(0.785714), basal(0.928571), basal(0.0714286), basal(0.214286), basal(0.357143), basal(0.5), basal(0.642857), basal(0.785714), basal(0.928571), basal(0.0714286), basal(0.214286), basal(0.357143), basal(0.5), basal(0.642857), basal(0.785714), basal(0.928571), apical(0.0714286), apical(0.214286), apical(0.357143), apical(0.5), apical(0.642857), apical(0.785714), apical(0.928571), apical(0.0714286), apical(0.214286), apical(0.357143), apical(0.5), apical(0.642857), apical(0.785714), apical(0.928571), apical(0.0714286), apical(0.214286), apical(0.357143), apical(0.5), apical(0.642857), apical(0.785714), apical(0.928571), apical(0.0714286), apical(0.214286), apical(0.357143), apical(0.5), apical(0.642857), apical(0.785714), apical(0.928571), trunk(0.0357143), trunk(0.107143), trunk(0.178571), trunk(0.25), trunk(0.321429), trunk(0.392857), trunk(0.464286), trunk(0.535714), trunk(0.607143), trunk(0.678571), trunk(0.75), trunk(0.821429), trunk(0.892857), trunk(0.964286), tuft(0.0714286), tuft(0.214286), tuft(0.357143), tuft(0.5), tuft(0.642857), tuft(0.785714), tuft(0.928571), tuft(0.0714286), tuft(0.214286), tuft(0.357143), tuft(0.5), tuft(0.642857), tuft(0.785714), tuft(0.928571), tuft(0.0714286), tuft(0.214286), tuft(0.357143), tuft(0.5), tuft(0.642857), tuft(0.785714), tuft(0.928571), tuft(0.0714286), tuft(0.214286), tuft(0.357143), tuft(0.5), tuft(0.642857), tuft(0.785714), tuft(0.928571)]\n"
          ]
        }
      ]
    },
    {
      "cell_type": "code",
      "source": [
        "ina = Recorder(obj_list = sim.cells[0].get_seg_by_id(70), var_name = 'ina')"
      ],
      "metadata": {
        "id": "rqWcOgMaRqfC"
      },
      "execution_count": null,
      "outputs": []
    },
    {
      "cell_type": "code",
      "source": [
        "ical = Recorder(obj_list = sim.cells[0].get_seg_by_id(70), var_name = 'ica_Ca_LVAst')\n",
        "icah = Recorder(obj_list = sim.cells[0].get_seg_by_id(70), var_name = 'ica_Ca_HVA')"
      ],
      "metadata": {
        "id": "uSbe01sFeFgl"
      },
      "execution_count": null,
      "outputs": []
    },
    {
      "cell_type": "code",
      "source": [
        "ih = Recorder(obj_list = sim.cells[0].segments, var_name = 'ihcn_Ih')"
      ],
      "metadata": {
        "id": "RlTibdsbXNk4"
      },
      "execution_count": null,
      "outputs": []
    },
    {
      "cell_type": "code",
      "execution_count": null,
      "metadata": {
        "id": "r5sG9sfQD8dR"
      },
      "outputs": [],
      "source": [
        "sim.run()\n",
        "lfp = sim.get_lfp().T\n",
        "t = sim.t()"
      ]
    },
    {
      "cell_type": "code",
      "source": [
        "numSyn = len(sim.cells[0].injection)\n",
        "numSeg = 99\n",
        "numTstep = len(sim.cells[0].injection[0].rec_vec.vec_list[0])\n",
        "\n",
        "SynPerSeg = [0]*numSeg\n",
        "\n",
        "i_NMDA_bySeg= [[0] * numTstep ] * numSeg\n",
        "\n",
        "print(len(sim.cells[0].injection))\n",
        "\n",
        "for j in range(numSyn):\n",
        "  seg = sim.cells[0].injection[j].get_segment_id()\n",
        "  SynPerSeg[seg] += 1\n",
        "  try:\n",
        "    i_NMDA = np.array(sim.cells[0].injection[j].rec_vec.vec_list[1])            #current = numpy array of NEURON Vector of current NMDA current at synapse j  \n",
        "    seg = sim.cells[0].injection[j].get_segment_id()                            #seg = the segment in which synapse j is located \n",
        "\n",
        "    try:\n",
        "      i_NMDA_bySeg[seg] += i_NMDA                                               #Sum current over each segment\n",
        "    except: \n",
        "      x = j                                                                     #Except needed as some synpases do not have NMDA currrent and throw an error when called\n",
        "  except:\n",
        "    x = j\n",
        "\n",
        "\n",
        "#i_NMDA_bySeg"
      ],
      "metadata": {
        "id": "xWvmyClbKids",
        "colab": {
          "base_uri": "https://localhost:8080/"
        },
        "outputId": "6a029bff-9e5b-4375-b3fc-bdfc56d7a008"
      },
      "execution_count": null,
      "outputs": [
        {
          "output_type": "stream",
          "name": "stdout",
          "text": [
            "5712\n"
          ]
        }
      ]
    },
    {
      "cell_type": "code",
      "source": [
        "import matplotlib.pyplot as plt\n",
        "%matplotlib inline\n",
        "\n",
        "plt.figure(figsize=(4,10))\n",
        "ax = plt.scatter(AllSegXCoord, AllSegYCoord, c = np.log(AllSegElecDist) )\n",
        "plt.vlines(110,300,400)\n",
        "plt.text(0,350,'100 um')\n",
        "plt.hlines(300,110,210)\n",
        "plt.text(110,250,'100 um')\n",
        "plt.xticks([])\n",
        "plt.yticks([])\n",
        "cbar = plt.colorbar()\n",
        "cbar.ax.set_ylabel('log(elec_distance)', rotation=270)\n",
        "\n",
        "#ax2.ax.set_title('log(elec_distance)',rotation=270)\n",
        "plt.box(False)\n",
        "plt.savefig('Elec_distance.svg')"
      ],
      "metadata": {
        "colab": {
          "base_uri": "https://localhost:8080/",
          "height": 575
        },
        "id": "QT7cDrfSA7cQ",
        "outputId": "2113fa95-67b3-45b0-d3c9-4af8a75b4004"
      },
      "execution_count": null,
      "outputs": [
        {
          "output_type": "display_data",
          "data": {
            "text/plain": [
              "<Figure size 288x720 with 2 Axes>"
            ],
            "image/png": "[encoded data removed]"
          },
          "metadata": {
            "needs_background": "light"
          }
        }
      ]
    },
    {
      "cell_type": "code",
      "source": [
        "plt.figure(figsize=(4,10))\n",
        "ax = plt.scatter(AllSegXCoord, AllSegYCoord,c = SynPerSeg[0:98],cmap='jet')\n",
        "plt.vlines(110,400,500)\n",
        "plt.text(0,450,'100 um')\n",
        "plt.hlines(400,110,210)\n",
        "plt.text(110,350,'100 um')\n",
        "plt.xticks([])\n",
        "plt.yticks([])\n",
        "cbar = plt.colorbar()\n",
        "cbar.ax.set_ylabel('Synapses per segment', rotation=270)\n",
        "\n",
        "#ax2.ax.set_title('log(elec_distance)',rotation=270)\n",
        "plt.box(False)\n",
        "plt.savefig('exc_syns.svg')"
      ],
      "metadata": {
        "colab": {
          "base_uri": "https://localhost:8080/",
          "height": 580
        },
        "id": "WyCtGvZP_7jO",
        "outputId": "6a0ae231-d5fb-460e-8679-fcab682c30ce"
      },
      "execution_count": null,
      "outputs": [
        {
          "output_type": "display_data",
          "data": {
            "text/plain": [
              "<Figure size 288x720 with 2 Axes>"
            ],
            "image/png": "[encoded data removed]"
          },
          "metadata": {
            "needs_background": "light"
          }
        }
      ]
    },
    {
      "cell_type": "code",
      "source": [
        "plt.figure(figsize=(3,10))\n",
        "ax = plt.plot(AllSegXCoord, AllSegYCoord,'.',color='k',markersize=6)\n",
        "plt.vlines(110,400,500)\n",
        "plt.text(0,450,'100 um')\n",
        "plt.hlines(400,110,210)\n",
        "plt.text(110,350,'100 um')\n",
        "plt.xticks([])\n",
        "plt.yticks([])\n",
        "plt.box(False)\n",
        "plt.plot(AllSegXCoord[71], \n",
        "         AllSegYCoord[71],\n",
        "         'r*')\n",
        "plt.plot(AllSegXCoord[22], \n",
        "         AllSegYCoord[22],\n",
        "         'b*')\n",
        "# plt.plot(segs.loc[segs.segmentID==1046,'Coord X'], \n",
        "#          segs.loc[segs.segmentID==1046,'Coord Y'],\n",
        "#          'm*')\n",
        "# plt.plot(segs.loc[segs.segmentID==1500,'Coord X'], \n",
        "#          segs.loc[segs.segmentID==1500,'Coord Y'],\n",
        "#          'g*')\n",
        "# plt.plot(segs.loc[segs.segmentID==680,'Coord X'], \n",
        "#          segs.loc[segs.segmentID==680,'Coord Y'],\n",
        "#          '*',color='orange')\n",
        "# plt.plot(segs.loc[segs.segmentID==482,'Coord X'], \n",
        "#          segs.loc[segs.segmentID==482,'Coord Y'],\n",
        "#          '*',color='grey')\n",
        "# plt.savefig('fig1A.svg')"
      ],
      "metadata": {
        "colab": {
          "base_uri": "https://localhost:8080/",
          "height": 593
        },
        "id": "eVx6lavAFCAd",
        "outputId": "8619d010-f8b0-40e1-d002-a2a54fb7b553"
      },
      "execution_count": null,
      "outputs": [
        {
          "output_type": "execute_result",
          "data": {
            "text/plain": [
              "[<matplotlib.lines.Line2D at 0x7f9792447290>]"
            ]
          },
          "metadata": {},
          "execution_count": 47
        },
        {
          "output_type": "display_data",
          "data": {
            "text/plain": [
              "<Figure size 216x720 with 1 Axes>"
            ],
            "image/png": "[encoded data removed]"
          },
          "metadata": {}
        }
      ]
    },
    {
      "cell_type": "code",
      "source": [
        "v_dend = dend_v.as_numpy()\n",
        "\n",
        "plt.figure(figsize=(10,4))\n",
        "s1 = 323548+1500. #np.random.choice(range(v['report']['biophysical']['data'].shape[0]))\n",
        "plt.plot(np.arange(0,2000.1,.1),v_dend[75],color='r')\n",
        "#1433413, 1161455\n",
        "plt.hlines(-60,170,200)\n",
        "plt.text(170,-65,'10 ms')\n",
        "plt.vlines(170,-60,-50)\n",
        "plt.text(140,-55,'10 mV')\n",
        "plt.box(False)\n",
        "plt.xticks([])\n",
        "plt.yticks([])"
      ],
      "metadata": {
        "colab": {
          "base_uri": "https://localhost:8080/",
          "height": 266
        },
        "id": "FuOJ0ZVLGKId",
        "outputId": "42a03816-5305-429f-b5fe-54c0e33d930c"
      },
      "execution_count": null,
      "outputs": [
        {
          "output_type": "execute_result",
          "data": {
            "text/plain": [
              "([], <a list of 0 Text major ticklabel objects>)"
            ]
          },
          "metadata": {},
          "execution_count": 44
        },
        {
          "output_type": "display_data",
          "data": {
            "text/plain": [
              "<Figure size 720x288 with 1 Axes>"
            ],
            "image/png": "[encoded data removed]"
          },
          "metadata": {}
        }
      ]
    },
    {
      "cell_type": "code",
      "source": [
        "v_dend = dend_v.as_numpy()\n",
        "\n",
        "plt.figure(figsize=(10,4))\n",
        "s1 = 323548+1500. #np.random.choice(range(v['report']['biophysical']['data'].shape[0]))\n",
        "plt.plot(np.arange(0,2000.1,.1),v_dend[25],color='b')\n",
        "#1433413, 1161455\n",
        "plt.hlines(-60,170,200)\n",
        "plt.text(170,-65,'10 ms')\n",
        "plt.vlines(170,-60,-50)\n",
        "plt.text(140,-55,'10 mV')\n",
        "plt.box(False)\n",
        "plt.xticks([])\n",
        "plt.yticks([])"
      ],
      "metadata": {
        "colab": {
          "base_uri": "https://localhost:8080/",
          "height": 266
        },
        "id": "PD-n--ycKHQZ",
        "outputId": "9a1fb3e0-0bc5-476a-eef8-f9746cb0d0b1"
      },
      "execution_count": null,
      "outputs": [
        {
          "output_type": "execute_result",
          "data": {
            "text/plain": [
              "([], <a list of 0 Text major ticklabel objects>)"
            ]
          },
          "metadata": {},
          "execution_count": 51
        },
        {
          "output_type": "display_data",
          "data": {
            "text/plain": [
              "<Figure size 720x288 with 1 Axes>"
            ],
            "image/png": "[encoded data removed]"
          },
          "metadata": {}
        }
      ]
    },
    {
      "cell_type": "markdown",
      "metadata": {
        "id": "tPGTmxa9D8dS"
      },
      "source": [
        "The value after the section indicates the poroportional distance along the segment. 1 being distal from the soma and 0 being proximal to the soma."
      ]
    },
    {
      "cell_type": "code",
      "execution_count": null,
      "metadata": {
        "id": "373wGMrgD8dS"
      },
      "outputs": [],
      "source": [
        "import matplotlib.pyplot as plt\n",
        "%matplotlib inline\n",
        "\n",
        "#v_dend = dend_v.as_numpy()\n",
        "\n",
        "plt.figure(figsize=(20,14))\n",
        "for i in range(v_dend.shape[0]):\n",
        "    plt.plot(t,v_dend[i,:])\n",
        "    plt.title(Vrecord[i], loc='center')\n",
        "    plt.ylabel('Vm')\n",
        "    plt.xlabel('ms')\n",
        "plt.show()"
      ]
    },
    {
      "cell_type": "code",
      "source": [
        ""
      ],
      "metadata": {
        "id": "5AH4wqW5FgrV"
      },
      "execution_count": null,
      "outputs": []
    },
    {
      "cell_type": "code",
      "source": [
        "import h5py\n",
        "\n",
        "# Voltage output\n",
        "\n",
        "\n",
        "try:\n",
        "  os.remove(\"v_report.hdf5\")\n",
        "except:\n",
        "  x = 1\n",
        "\n",
        "f1 = h5py.File(\"v_report.hdf5\", \"w\")\n",
        "\n",
        "voltage = f1.create_dataset(\"v\", data= v_dend)\n",
        "time = f1.create_dataset(\"t\", data = t)\n",
        "\n",
        "f1.close()"
      ],
      "metadata": {
        "id": "OeSYRrT3YNyq"
      },
      "execution_count": null,
      "outputs": []
    },
    {
      "cell_type": "code",
      "source": [
        "\n",
        "try:\n",
        "  os.remove(\"i_nmda_report.hdf5\")\n",
        "except:\n",
        "  x = 1\n",
        "  \n",
        "f2 = h5py.File(\"i_nmda_report.hdf5\", \"w\")\n",
        "\n",
        "i_NMDA = f2.create_dataset(\"i_nmda\", data = i_NMDA_bySeg)\n",
        "\n",
        "f2.close()\n",
        "\n",
        "\n",
        "\n"
      ],
      "metadata": {
        "id": "IEreiPRaZJRm"
      },
      "execution_count": null,
      "outputs": []
    }
  ],
  "metadata": {
    "kernelspec": {
      "display_name": "Python 3 (ipykernel)",
      "language": "python",
      "name": "python3"
    },
    "language_info": {
      "codemirror_mode": {
        "name": "ipython",
        "version": 3
      },
      "file_extension": ".py",
      "mimetype": "text/x-python",
      "name": "python",
      "nbconvert_exporter": "python",
      "pygments_lexer": "ipython3",
      "version": "3.7.4"
    },
    "colab": {
      "name": "Stylized Reduced-Order L5 dendritic spiking.ipynb",
      "provenance": [],
      "collapsed_sections": [],
      "include_colab_link": true
    }
  },
  "nbformat": 4,
  "nbformat_minor": 0
}