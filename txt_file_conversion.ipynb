{
  "cells": [
    {
      "cell_type": "markdown",
      "metadata": {
        "id": "view-in-github",
        "colab_type": "text"
      },
      "source": [
        "<a href=\"https://colab.research.google.com/github/davidfague/Stylized-ReducedOrder-L5-Model/blob/main/txt_file_conversion.ipynb\" target=\"_parent\"><img src=\"https://colab.research.google.com/assets/colab-badge.svg\" alt=\"Open In Colab\"/></a>"
      ]
    },
    {
      "cell_type": "markdown",
      "source": [
        "cd for google drive"
      ],
      "metadata": {
        "id": "ZVByNP1Ul9TD"
      }
    },
    {
      "cell_type": "code",
      "execution_count": null,
      "metadata": {
        "colab": {
          "base_uri": "https://localhost:8080/"
        },
        "id": "e_sUXg4Y3Iot",
        "outputId": "cffa7d16-d97b-4b97-b3c9-3acaee63bf42"
      },
      "outputs": [
        {
          "output_type": "stream",
          "name": "stdout",
          "text": [
            "Drive already mounted at /content/drive; to attempt to forcibly remount, call drive.mount(\"/content/drive\", force_remount=True).\n"
          ]
        }
      ],
      "source": [
        "from google.colab import drive\n",
        "drive.mount('/content/drive')"
      ]
    },
    {
      "cell_type": "code",
      "execution_count": null,
      "metadata": {
        "colab": {
          "base_uri": "https://localhost:8080/"
        },
        "id": "-nGwuudE3K77",
        "outputId": "6b9471b9-43f9-425a-c478-01220bb51075"
      },
      "outputs": [
        {
          "output_type": "stream",
          "name": "stdout",
          "text": [
            "/content/drive/MyDrive/Stylized-Cell-model/simdata\n"
          ]
        }
      ],
      "source": [
        "%cd /content/drive/MyDrive/Stylized-Cell-model/simdata/"
      ]
    },
    {
      "cell_type": "markdown",
      "source": [
        "cd for server"
      ],
      "metadata": {
        "id": "Wob1K8DFudep"
      }
    },
    {
      "cell_type": "code",
      "source": [
        "# cd Hay&Segev2015\n",
        "# source /opt/python-bmtk//bin/activate\n",
        "# cd simdata/L5PCbiophys3/N1_c0_cond0_seed50\n",
        "# cd "
      ],
      "metadata": {
        "id": "bPnJKcm6uexT"
      },
      "execution_count": null,
      "outputs": []
    },
    {
      "cell_type": "code",
      "execution_count": null,
      "metadata": {
        "colab": {
          "base_uri": "https://localhost:8080/"
        },
        "id": "Jch-eHB5P0pw",
        "outputId": "9ad51f7f-4126-4e0d-db15-3115cb385b93"
      },
      "outputs": [
        {
          "output_type": "stream",
          "name": "stdout",
          "text": [
            "\u001b[0m\u001b[01;34m'NMDA Syn Traces'\u001b[0m/  \u001b[01;34m'Seg Parameters'\u001b[0m/  \u001b[01;34m'Seg Traces'\u001b[0m/\n"
          ]
        }
      ],
      "source": [
        "%ls"
      ]
    },
    {
      "cell_type": "code",
      "source": [
        "import pandas as pd\n",
        "import numpy as np\n",
        "from scipy.stats import lognorm\n",
        "import math\n",
        "import os\n",
        "from pathlib import Path"
      ],
      "metadata": {
        "id": "R6aQOKREulmz"
      },
      "execution_count": null,
      "outputs": []
    },
    {
      "cell_type": "markdown",
      "source": [
        "#X Coords\n",
        "##extract X coordinates from txt file"
      ],
      "metadata": {
        "id": "ZY975dv5aIUW"
      }
    },
    {
      "cell_type": "code",
      "source": [
        "txt_folder = Path('Seg Parameters/').rglob('*.txt') #select folder in google drive\n",
        "files = [x for x in txt_folder] #list files in folder\n",
        "parameters=[]\n",
        "skipcount=0\n",
        "\n",
        "for name in files: #iterate through files\n",
        "  with open(name) as f:\n",
        "      lines=f.read().splitlines()\n",
        "      \n",
        "      for line in lines:\n",
        "        x=line.split()\n",
        "        try:\n",
        "          parameters.append(x)\n",
        "        except:\n",
        "              skipcount=skipcount+1 #skip case\n",
        "\n",
        "print(parameters)\n",
        "print(skipcount)\n",
        "# print('The mean distal section radius is',avgdist_r,'and std is',stddist_r)\n",
        "# print(prox_r)"
      ],
      "metadata": {
        "colab": {
          "base_uri": "https://localhost:8080/"
        },
        "id": "q6DzrPRtWBrP",
        "outputId": "b87e5bfb-aa8a-47bd-e59c-3746b62f0a92"
      },
      "execution_count": null,
      "outputs": [
        {
          "output_type": "stream",
          "name": "stdout",
          "text": [
            "[['3.4163e+01,'], ['5.6410e+01,'], ['7.4670e+01,'], ['8.6410e+01,9.6720e+01,1.0703e+02,1.1734e+02,1.2765e+02,1.3796e+02,8.6410e+01,'], ['8.6410e+01,'], ['9.2540e+01,1.0057e+02,1.0859e+02,1.1661e+02,9.2540e+01,'], ['9.2540e+01,1.0939e+02,1.2625e+02,1.4310e+02,1.5995e+02,1.7680e+02,1.9366e+02,2.1051e+02,9.2540e+01,'], ['7.4670e+01,9.1397e+01,1.0812e+02,1.2485e+02,1.4158e+02,1.5830e+02,7.4670e+01,'], ['5.4860e+01,'], ['7.3830e+01,'], ['7.8470e+01,'], ['7.8470e+01,8.0515e+01,7.8470e+01,'], ['7.3830e+01,'], ['7.9960e+01,'], ['9.9800e+01,1.1568e+02,1.3157e+02,1.4745e+02,1.6333e+02,1.7922e+02,9.9800e+01,'], ['9.9800e+01,1.1048e+02,1.2116e+02,1.3184e+02,1.4252e+02,1.5320e+02,9.9800e+01,'], ['7.9960e+01,9.2360e+01,7.9960e+01,'], ['5.6260e+01,'], ['6.3840e+01,'], ['6.9560e+01,'], ['6.3640e+01,'], ['6.3640e+01,'], ['6.4810e+01,'], ['6.4810e+01,8.0420e+01,6.4810e+01,'], ['9.6030e+01,'], ['9.6030e+01,'], ['6.9560e+01,'], ['7.4230e+01,'], ['5.8390e+01,4.9780e+01,5.8390e+01,'], ['5.8390e+01,5.7441e+01,5.6492e+01,5.5544e+01,5.4595e+01,5.3646e+01,5.2697e+01,5.1749e+01,5.8390e+01,'], ['7.4230e+01,'], ['8.4450e+01,'], ['9.2820e+01,9.9312e+01,1.0581e+02,1.1230e+02,9.2820e+01,'], ['9.2820e+01,1.0449e+02,1.1616e+02,1.2784e+02,9.2820e+01,'], ['8.4450e+01,9.8070e+01,1.1169e+02,1.2531e+02,8.4450e+01,'], ['6.3840e+01,'], ['7.4930e+01,8.0280e+01,8.5630e+01,9.0980e+01,9.6330e+01,1.0168e+02,7.4930e+01,'], ['7.4930e+01,9.2005e+01,7.4930e+01,'], ['1.0908e+02,1.3986e+02,1.0908e+02,'], ['1.0908e+02,1.3111e+02,1.0908e+02,'], ['4.2050e+01,4.4237e+01,4.6425e+01,4.8612e+01,4.2050e+01,'], ['5.0800e+01,5.1385e+01,5.1970e+01,5.2555e+01,5.0800e+01,'], ['5.0800e+01,'], ['3.7760e+01,'], ['2.7260e+01,'], ['1.1420e+01,1.2775e+00,-8.8650e+00,-1.9007e+01,1.1420e+01,'], ['1.1420e+01,-5.5900e+00,-2.2600e+01,-3.9610e+01,-5.6620e+01,-7.3630e+01,1.1420e+01,'], ['2.7260e+01,'], ['2.4540e+01,'], ['2.4250e+01,1.2430e+01,2.4250e+01,'], ['6.1000e-01,'], ['6.1000e-01,'], ['2.4250e+01,2.9210e+01,2.4250e+01,'], ['2.4540e+01,'], ['2.3750e+01,'], ['2.5690e+01,1.9855e+01,1.4020e+01,8.1850e+00,2.5690e+01,'], ['2.5690e+01,'], ['2.7030e+01,1.9295e+01,2.7030e+01,'], ['2.7030e+01,'], ['2.9950e+01,3.0437e+01,3.0923e+01,3.1410e+01,3.1897e+01,3.2383e+01,2.9950e+01,'], ['2.9950e+01,3.4638e+01,3.9327e+01,4.4015e+01,4.8703e+01,5.3392e+01,2.9950e+01,'], ['2.3750e+01,1.4485e+01,5.2200e+00,-4.0450e+00,2.3750e+01,'], ['-1.3310e+01,-2.2773e+01,-3.2235e+01,-4.1697e+01,-1.3310e+01,'], ['-1.3310e+01,-2.4668e+01,-3.6025e+01,-4.7383e+01,-1.3310e+01,'], ['4.1620e+01,'], ['3.4620e+01,'], ['3.1990e+01,'], ['4.0750e+01,4.4902e+01,4.9053e+01,5.3205e+01,5.7357e+01,6.1508e+01,4.0750e+01,'], ['4.0750e+01,4.7170e+01,5.3590e+01,6.0010e+01,4.0750e+01,'], ['3.1990e+01,1.4075e+01,3.1990e+01,'], ['-3.8400e+00,-2.4130e+01,-4.4420e+01,-6.4710e+01,-3.8400e+00,'], ['-3.8400e+00,-1.1979e+01,-2.0117e+01,-2.8256e+01,-3.6395e+01,-4.4534e+01,-5.2672e+01,-6.0811e+01,-3.8400e+00,'], ['3.4620e+01,'], ['3.3400e+01,4.0914e+01,4.8428e+01,5.5941e+01,6.3455e+01,7.0969e+01,7.8483e+01,8.5996e+01,3.3400e+01,'], ['3.3400e+01,'], ['2.4650e+01,1.5602e+01,6.5550e+00,-2.4925e+00,2.4650e+01,'], ['2.4650e+01,'], ['9.7600e+00,-8.3300e+00,9.7600e+00,'], ['9.7600e+00,-8.7700e+00,9.7600e+00,'], ['3.7780e+01,2.7710e+01,3.7780e+01,'], ['3.4570e+01,'], ['2.4940e+01,1.3000e+00,2.4940e+01,'], ['2.4940e+01,'], ['1.0350e+01,-1.6483e+00,-1.3647e+01,-2.5645e+01,-3.7643e+01,-4.9642e+01,1.0350e+01,'], ['1.0350e+01,'], ['4.3940e+01,3.8410e+01,4.3940e+01,'], ['3.2880e+01,2.9710e+01,3.2880e+01,'], ['2.6540e+01,'], ['2.6700e+01,2.6030e+01,2.6700e+01,'], ['2.5360e+01,'], ['2.4640e+01,'], ['1.5540e+01,'], ['4.0100e+00,'], ['-1.9350e+01,-2.8855e+01,-1.9350e+01,'], ['-1.9350e+01,-4.1867e+01,-6.4383e+01,-8.6900e+01,-1.0942e+02,-1.3193e+02,-1.9350e+01,'], ['4.0100e+00,6.5700e+00,9.1300e+00,1.1690e+01,4.0100e+00,'], ['1.5540e+01,'], ['1.2030e+01,-9.5725e+00,-3.1175e+01,-5.2777e+01,1.2030e+01,'], ['1.2030e+01,-2.7133e+00,-1.7457e+01,-3.2200e+01,-4.6943e+01,-6.1687e+01,1.2030e+01,'], ['2.4640e+01,2.7085e+01,2.4640e+01,'], ['2.9530e+01,'], ['4.3110e+01,'], ['5.3810e+01,6.3828e+01,7.3845e+01,8.3862e+01,9.3880e+01,1.0390e+02,1.1391e+02,1.2393e+02,5.3810e+01,'], ['5.3810e+01,6.8583e+01,8.3355e+01,9.8128e+01,5.3810e+01,'], ['4.3110e+01,5.8341e+01,7.3573e+01,8.8804e+01,1.0404e+02,1.1927e+02,1.3450e+02,1.4973e+02,4.3110e+01,'], ['2.9530e+01,3.0170e+01,2.9530e+01,'], ['3.0810e+01,'], ['1.4040e+01,'], ['-7.0300e+00,'], ['-7.0300e+00,'], ['1.4040e+01,'], ['3.0810e+01,'], ['3.0300e+01,'], ['3.0100e+01,'], ['3.1000e+01,3.4220e+01,3.1000e+01,'], ['3.1000e+01,2.5005e+01,3.1000e+01,'], ['1.9010e+01,'], ['1.9010e+01,'], ['3.0100e+01,3.9757e+01,4.9413e+01,5.9070e+01,6.8727e+01,7.8383e+01,3.0100e+01,'], ['3.0300e+01,2.8500e+01,3.0300e+01,'], ['2.6700e+01,1.6588e+01,6.4750e+00,-3.6375e+00,2.6700e+01,'], ['2.6700e+01,2.6036e+01,2.5372e+01,2.4708e+01,2.4043e+01,2.3379e+01,2.2715e+01,2.2051e+01,2.1387e+01,2.0722e+01,2.0058e+01,1.9394e+01,2.6700e+01,'], ['1.8730e+01,1.5501e+01,1.2272e+01,9.0425e+00,5.8133e+00,2.5842e+00,-6.4500e-01,-3.8742e+00,-7.1033e+00,-1.0333e+01,-1.3562e+01,-1.6791e+01,1.8730e+01,'], ['-2.0020e+01,-2.8708e+01,-3.7395e+01,-4.6083e+01,-2.0020e+01,'], ['-5.4770e+01,-5.7855e+01,-5.4770e+01,'], ['-5.4770e+01,-6.0018e+01,-6.5266e+01,-7.0514e+01,-7.5762e+01,-8.1010e+01,-8.6258e+01,-9.1506e+01,-9.6754e+01,-1.0200e+02,-5.4770e+01,'], ['-1.0725e+02,'], ['-1.1137e+02,-1.3014e+02,-1.1137e+02,'], ['-1.1137e+02,'], ['-1.0725e+02,-1.1959e+02,-1.3193e+02,-1.4428e+02,-1.0725e+02,'], ['-2.0020e+01,-2.0130e+01,-2.0020e+01,'], ['-2.0240e+01,'], ['-2.3840e+01,'], ['-2.3840e+01,'], ['-2.0240e+01,-1.6553e+01,-1.2867e+01,-9.1800e+00,-5.4933e+00,-1.8067e+00,-2.0240e+01,'], ['1.8730e+01,1.6820e+01,1.8730e+01,'], ['1.4910e+01,1.6196e+01,1.7482e+01,1.8768e+01,2.0054e+01,2.1340e+01,2.2626e+01,2.3912e+01,2.5198e+01,2.6484e+01,1.4910e+01,'], ['2.7770e+01,2.2693e+01,1.7615e+01,1.2538e+01,2.7770e+01,'], ['2.7770e+01,3.3266e+01,3.8762e+01,4.4259e+01,4.9755e+01,5.5251e+01,6.0747e+01,6.6244e+01,2.7770e+01,'], ['7.1740e+01,'], ['7.6630e+01,'], ['7.6630e+01,'], ['7.1740e+01,'], ['6.9680e+01,'], ['6.9680e+01,'], ['1.4910e+01,1.2203e+01,9.4960e+00,6.7890e+00,4.0820e+00,1.3750e+00,-1.3320e+00,-4.0390e+00,-6.7460e+00,-9.4530e+00,1.4910e+01,'], ['-1.2160e+01,-1.8479e+01,-2.4797e+01,-3.1116e+01,-3.7435e+01,-4.3754e+01,-5.0072e+01,-5.6391e+01,-1.2160e+01,'], ['-6.2710e+01,'], ['-7.5830e+01,-8.3900e+01,-9.1970e+01,-1.0004e+02,-1.0811e+02,-1.1618e+02,-1.2425e+02,-1.3232e+02,-7.5830e+01,'], ['-7.5830e+01,-7.2435e+01,-6.9040e+01,-6.5645e+01,-7.5830e+01,'], ['-6.2250e+01,'], ['-6.2250e+01,'], ['-6.2710e+01,-5.6505e+01,-5.0300e+01,-4.4095e+01,-3.7890e+01,-3.1685e+01,-2.5480e+01,-1.9275e+01,-6.2710e+01,'], ['-1.2160e+01,-1.1490e+01,-1.0820e+01,-1.0150e+01,-1.2160e+01,'], ['-9.4800e+00,-3.4567e+00,2.5667e+00,8.5900e+00,1.4613e+01,2.0637e+01,-9.4800e+00,'], ['2.6660e+01,2.5500e+01,2.6660e+01,'], ['2.6660e+01,3.2700e+01,2.6660e+01,'], ['3.8740e+01,'], ['3.8740e+01,5.4170e+01,3.8740e+01,'], ['-9.4800e+00,'], ['8.3000e+00,9.5850e+00,8.3000e+00,'], ['1.0870e+01,1.4955e+01,1.9040e+01,2.3125e+01,2.7210e+01,3.1295e+01,1.0870e+01,'], ['1.0870e+01,1.8475e+01,2.6080e+01,3.3685e+01,4.1290e+01,4.8895e+01,1.0870e+01,'], ['8.3000e+00,2.7243e+01,4.6185e+01,6.5127e+01,8.3000e+00,'], ['2.5360e+01,1.1350e+01,2.5360e+01,'], ['2.6700e+01,'], ['3.5570e+01,'], ['4.6660e+01,'], ['6.7870e+01,7.9250e+01,6.7870e+01,'], ['9.0630e+01,1.0944e+02,9.0630e+01,'], ['9.0630e+01,1.0304e+02,1.1545e+02,1.2786e+02,9.0630e+01,'], ['6.7870e+01,6.7733e+01,6.7595e+01,6.7458e+01,6.7870e+01,'], ['4.6660e+01,6.6913e+01,8.7167e+01,1.0742e+02,1.2767e+02,1.4793e+02,4.6660e+01,'], ['3.5570e+01,'], ['3.5410e+01,3.5260e+01,3.5410e+01,'], ['3.5110e+01,'], ['3.5110e+01,'], ['3.5410e+01,'], ['2.3150e+01,1.8087e+01,1.3025e+01,7.9625e+00,2.3150e+01,'], ['2.3150e+01,'], ['7.2800e+00,-9.5000e+00,7.2800e+00,'], ['7.2800e+00,'], ['-9.6400e+00,'], ['-9.6400e+00,'], ['2.6540e+01,'], ['5.4560e+01,'], ['5.8640e+01,7.6025e+01,9.3410e+01,1.1079e+02,1.2818e+02,1.4556e+02,5.8640e+01,'], ['5.8640e+01,7.6359e+01,9.4077e+01,1.1180e+02,1.2951e+02,1.4723e+02,1.6495e+02,1.8267e+02,5.8640e+01,'], ['5.4560e+01,6.3390e+01,7.2220e+01,8.1050e+01,5.4560e+01,'], ['3.2880e+01,'], ['1.3690e+01,-3.4550e+00,-2.0600e+01,-3.7745e+01,1.3690e+01,'], ['1.3690e+01,'], ['5.6000e-01,'], ['5.6000e-01,'], ['0.0000e+00,'], ['0.0000e+00,']]\n"
          ]
        }
      ]
    },
    {
      "cell_type": "code",
      "source": [
        "txt_folder = Path('Seg Traces/').rglob('*.txt') #select folder in google drive\n",
        "files = [x for x in txt_folder] #list files in folder\n",
        "parameters=[]\n",
        "skipcount=0\n",
        "\n",
        "for name in files: #iterate through files\n",
        "  with open(name) as f:\n",
        "      lines=f.read().splitlines()\n",
        "      for line in lines:\n",
        "        x=line.split()\n",
        "        try:\n",
        "          parameters.append(x)\n",
        "        except:\n",
        "              skipcount=skipcount+1 #skip case\n",
        "\n",
        "print(parameters)\n",
        "print(skipcount)\n",
        "# print('The mean distal section radius is',avgdist_r,'and std is',stddist_r)\n",
        "# print(prox_r)"
      ],
      "metadata": {
        "colab": {
          "base_uri": "https://localhost:8080/"
        },
        "id": "7Gjt_DPccMBS",
        "outputId": "8fcbf762-746a-469d-95ee-61ce618b1813"
      },
      "execution_count": null,
      "outputs": [
        {
          "output_type": "stream",
          "name": "stderr",
          "text": [
            "IOPub data rate exceeded.\n",
            "The notebook server will temporarily stop sending output\n",
            "to the client in order to avoid crashing it.\n",
            "To change this limit, set the config variable\n",
            "`--NotebookApp.iopub_data_rate_limit`.\n",
            "\n",
            "Current values:\n",
            "NotebookApp.iopub_data_rate_limit=1000000.0 (bytes/sec)\n",
            "NotebookApp.rate_limit_window=3.0 (secs)\n",
            "\n"
          ]
        }
      ]
    },
    {
      "cell_type": "code",
      "source": [
        "txt_folder = Path('NMDA Syn Traces/').rglob('*.txt') #select folder in google drive\n",
        "files = [x for x in txt_folder] #list files in folder\n",
        "parameters=[]\n",
        "skipcount=0\n",
        "\n",
        "for name in files: #iterate through files\n",
        "  with open(name) as f:\n",
        "      lines=f.read().splitlines()\n",
        "      for line in lines:\n",
        "        x=line.split()\n",
        "        try:\n",
        "          parameters.append(x)\n",
        "        except:\n",
        "              skipcount=skipcount+1 #skip case\n",
        "\n",
        "print(parameters)\n",
        "print(skipcount)\n",
        "# print('The mean distal section radius is',avgdist_r,'and std is',stddist_r)\n",
        "# print(prox_r)"
      ],
      "metadata": {
        "colab": {
          "base_uri": "https://localhost:8080/"
        },
        "id": "68rtVFyKcMc3",
        "outputId": "3c9bde23-d053-4453-c30a-391dcf6b23fa"
      },
      "execution_count": null,
      "outputs": [
        {
          "output_type": "stream",
          "name": "stderr",
          "text": [
            "IOPub data rate exceeded.\n",
            "The notebook server will temporarily stop sending output\n",
            "to the client in order to avoid crashing it.\n",
            "To change this limit, set the config variable\n",
            "`--NotebookApp.iopub_data_rate_limit`.\n",
            "\n",
            "Current values:\n",
            "NotebookApp.iopub_data_rate_limit=1000000.0 (bytes/sec)\n",
            "NotebookApp.rate_limit_window=3.0 (secs)\n",
            "\n"
          ]
        }
      ]
    },
    {
      "cell_type": "code",
      "source": [
        "# #plot radii\n",
        "# import matplotlib.pyplot as plt\n",
        "\n",
        "# fig, ax = plt.subplots()\n",
        "# ax.set_title('Basal')\n",
        "# ax.set_ylabel('Radius')\n",
        "# ax.set_xlabel('Normalized Path length')\n",
        "# plt.scatter(prox_d,prox_r)  # blue\n",
        "# plt.scatter(mid_d,mid_r) # orange\n",
        "# plt.scatter(dist_d,dist_r) # green"
      ],
      "metadata": {
        "id": "DQdwGvmLdHWG"
      },
      "execution_count": null,
      "outputs": []
    },
    {
      "cell_type": "code",
      "source": [
        "# def returnSegmentValues(section, secnum):\n",
        "#     ##\n",
        "    \n",
        "#     #Distance mesurment \n",
        "#     #Set impedance measurement location and frequency\n",
        "   \n",
        "#     zz = h.Impedance()\n",
        "#     zz.loc(sim.cells[0].get_sec_by_id([0])[0](0.5))\n",
        "#     zz.compute(25)\n",
        "\n",
        "#     # Get section 3d coordinates and put in numpy array\n",
        "#     n3d = section.n3d()\n",
        "#     x3d = np.empty(n3d)\n",
        "#     y3d = np.empty(n3d)\n",
        "#     z3d = np.empty(n3d)\n",
        "#     L = np.empty(n3d)\n",
        "#     for i in range(n3d):\n",
        "#         x3d[i]=section.x3d(i)\n",
        "#         y3d[i]=section.y3d(i)\n",
        "#         z3d[i]=section.z3d(i)\n",
        "\n",
        "#     # Compute length of each 3d segment\n",
        "#     for i in range(n3d):\n",
        "#         if i==0:\n",
        "#             L[i]=0\n",
        "#         else:\n",
        "#             L[i]=np.sqrt((x3d[i]-x3d[i-1])**2 + (y3d[i]-y3d[i-1])**2 + (z3d[i]-z3d[i-1])**2)\n",
        "\n",
        "#     # Get cumulative length of 3d segments\n",
        "#     cumLength = np.cumsum(L)\n",
        "#     N = section.nseg\n",
        "    \n",
        "#     # Now upsample coordinates to segment locations\n",
        "#     xCoord = np.empty(N)\n",
        "#     yCoord = np.empty(N)\n",
        "#     zCoord = np.empty(N)\n",
        "#     Elec_distance = np.empty(N)\n",
        "#     SecNum = np.empty(N)\n",
        "#     dist = np.empty(N)\n",
        "#     Type = []\n",
        "#     X = np.empty(N)\n",
        "\n",
        "\n",
        "\n",
        "#     if N > 1:\n",
        "#       dx = section.L / (N-1)\n",
        "#     else:\n",
        "#       dx = section.L\n",
        "\n",
        "#     if str(section) in apic:\n",
        "#       for n in range(N):\n",
        "#         Type.append('apic')\n",
        "#     else: \n",
        "#       for n in range(N):\n",
        "#         Type.append('dend')\n",
        "\n",
        "#     for n in range(N):\n",
        "\n",
        "#       SecNum[n] = secnum\n",
        "#       Elec_distance[n] = zz.ratio(section((n*dx)/cumLength[1]))\n",
        "#       dist[n] = h.distance(sim.cells[0].get_sec_by_id([0])[0](0.5), section((n*dx)/cumLength[1]))\n",
        "\n",
        "#       if n==(N-1): \n",
        "#           xCoord[n]=x3d[-1]\n",
        "#           yCoord[n]=y3d[-1]\n",
        "#           zCoord[n]=z3d[-1]\n",
        "#       else:\n",
        "#           cIdxStart = np.where(n*dx >= cumLength)[0][-1] # which idx of 3d segments are we starting at\n",
        "#           cDistFrom3dStart = n*dx - cumLength[cIdxStart] # how far along that segment is this upsampled coordinate\n",
        "#           cFraction3dLength = cDistFrom3dStart / L[cIdxStart+1] # what's the fractional distance along this 3d segment\n",
        "#           # compute x and y positions\n",
        "#           xCoord[n] = x3d[cIdxStart] + cFraction3dLength*(x3d[cIdxStart+1] - x3d[cIdxStart])\n",
        "#           yCoord[n] = y3d[cIdxStart] + cFraction3dLength*(y3d[cIdxStart+1] - y3d[cIdxStart])\n",
        "#           zCoord[n] = z3d[cIdxStart] + cFraction3dLength*(z3d[cIdxStart+1] - z3d[cIdxStart])\n",
        "            \n",
        "#     return SecNum, xCoord, yCoord, zCoord, Elec_distance, dist, Type"
      ],
      "metadata": {
        "id": "nUW4BaUBa0en"
      },
      "execution_count": null,
      "outputs": []
    },
    {
      "cell_type": "code",
      "source": [
        "# sec_list = sim.cells[0].get_sec_by_id(range(len(sim.cells[0].all)))\n",
        "\n",
        "# section = []\n",
        "# SectionXCoord = []\n",
        "# SectionYCoord = []\n",
        "# SectionZCoord = []\n",
        "# SectionElecDist = []\n",
        "# SectionDist = []\n",
        "# SectionType = []\n",
        "\n",
        "# AllSegSection = []\n",
        "# AllSegXCoord = []\n",
        "# AllSegYCoord = []\n",
        "# AllSegZCoord = []\n",
        "# AllSegElecDist = []\n",
        "# AllSegDist = []\n",
        "# AllSegType = []\n",
        "\n",
        "# for i in range(1,len(sec_list)):\n",
        "\n",
        "#   section, SectionXCoord, SectionYCoord, SectionZCoord, SectionElecDist, SectionDist, SectionType = returnSegmentValues(sec_list[i], i)\n",
        "\n",
        "#   AllSegSection.extend(section)\n",
        "#   AllSegXCoord.extend(SectionXCoord)\n",
        "#   AllSegYCoord.extend(SectionYCoord)\n",
        "#   AllSegZCoord.extend(SectionZCoord)\n",
        "#   AllSegElecDist.extend(SectionElecDist)\n",
        "#   AllSegDist.extend(SectionDist)\n",
        "#   AllSegType.extend(SectionType)"
      ],
      "metadata": {
        "id": "7K9RjDQ9a4CZ"
      },
      "execution_count": null,
      "outputs": []
    }
  ],
  "metadata": {
    "colab": {
      "collapsed_sections": [],
      "name": "txt file conversion.ipynb",
      "provenance": [],
      "authorship_tag": "ABX9TyMATOYKfqhUO1wgzmquwicM",
      "include_colab_link": true
    },
    "kernelspec": {
      "display_name": "Python 3",
      "name": "python3"
    },
    "language_info": {
      "name": "python"
    }
  },
  "nbformat": 4,
  "nbformat_minor": 0
}